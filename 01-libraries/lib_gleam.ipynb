{
 "cells": [
  {
   "cell_type": "markdown",
   "id": "46b11f44-03d2-4a08-97c2-8b12f299d427",
   "metadata": {},
   "source": [
    "# Library Gleam\n",
    "https://mode.com/blog/python-data-visualization-libraries/#gleam\n",
    "https://github.com/dgrtwo/gleam#:~:text=Gleam%20lets%20you%20build%20interactive,plots%20based%20on%20those%20inputs.\n",
    "\n",
    "#not working properly"
   ]
  },
  {
   "cell_type": "markdown",
   "id": "3bbe2c74-d3de-4b9e-9473-b22f9155f4f9",
   "metadata": {},
   "source": [
    "tart by importing a few packages. Gleam uses the wtforms package to provide form inputs. You can use any Python graphing package you want with Gleam, such as matplotlib, but we recommend the intuitive ggplot.\n",
    "\n",
    "from wtforms import fields\n",
    "from ggplot import *\n",
    "Then import what you'll need from the gleam package:\n",
    "from gleam import Page, panels"
   ]
  },
  {
   "cell_type": "code",
   "execution_count": 7,
   "id": "fa3dd36e-748b-47bf-8233-cae33e2d934a",
   "metadata": {},
   "outputs": [],
   "source": [
    "#!pip install wtforms\n",
    "#!pip install gleam\n",
    "#!pip install ggplot"
   ]
  },
  {
   "cell_type": "code",
   "execution_count": 13,
   "id": "ea301107-cae7-45ae-a0a5-7b27784656ce",
   "metadata": {},
   "outputs": [
    {
     "ename": "ModuleNotFoundError",
     "evalue": "No module named 'urlparse'",
     "output_type": "error",
     "traceback": [
      "\u001b[1;31m---------------------------------------------------------------------------\u001b[0m",
      "\u001b[1;31mModuleNotFoundError\u001b[0m                       Traceback (most recent call last)",
      "Cell \u001b[1;32mIn [13], line 3\u001b[0m\n\u001b[0;32m      1\u001b[0m \u001b[38;5;28;01mfrom\u001b[39;00m \u001b[38;5;21;01mwtforms\u001b[39;00m \u001b[38;5;28;01mimport\u001b[39;00m fields\n\u001b[0;32m      2\u001b[0m \u001b[38;5;66;03m#from ggplot import *\u001b[39;00m\n\u001b[1;32m----> 3\u001b[0m \u001b[38;5;28;01mfrom\u001b[39;00m \u001b[38;5;21;01mgleam\u001b[39;00m \u001b[38;5;28;01mimport\u001b[39;00m Page, panels\n\u001b[0;32m      4\u001b[0m \u001b[38;5;28;01mimport\u001b[39;00m \u001b[38;5;21;01mpandas\u001b[39;00m \u001b[38;5;28;01mas\u001b[39;00m \u001b[38;5;21;01mpd\u001b[39;00m\n",
      "File \u001b[1;32mC:\\ProgramData\\Anaconda3\\lib\\site-packages\\gleam\\__init__.py:7\u001b[0m\n\u001b[0;32m      5\u001b[0m \u001b[38;5;28;01mimport\u001b[39;00m \u001b[38;5;21;01mos\u001b[39;00m\n\u001b[0;32m      6\u001b[0m \u001b[38;5;28;01mimport\u001b[39;00m \u001b[38;5;21;01mjson\u001b[39;00m\n\u001b[1;32m----> 7\u001b[0m \u001b[38;5;28;01mimport\u001b[39;00m \u001b[38;5;21;01murlparse\u001b[39;00m\n\u001b[0;32m      8\u001b[0m \u001b[38;5;28;01mfrom\u001b[39;00m \u001b[38;5;21;01mcollections\u001b[39;00m \u001b[38;5;28;01mimport\u001b[39;00m namedtuple\n\u001b[0;32m     10\u001b[0m \u001b[38;5;28;01mfrom\u001b[39;00m \u001b[38;5;21;01mflask\u001b[39;00m \u001b[38;5;28;01mimport\u001b[39;00m Flask, request, send_from_directory\n",
      "\u001b[1;31mModuleNotFoundError\u001b[0m: No module named 'urlparse'"
     ]
    }
   ],
   "source": [
    "from wtforms import fields\n",
    "#from ggplot import *\n",
    "from gleam import Page, panels\n",
    "import pandas as pd"
   ]
  },
  {
   "cell_type": "code",
   "execution_count": 9,
   "id": "97a8a05a-4463-404e-afa0-55f713f3fc8c",
   "metadata": {},
   "outputs": [
    {
     "ename": "NameError",
     "evalue": "name 'panels' is not defined",
     "output_type": "error",
     "traceback": [
      "\u001b[1;31m---------------------------------------------------------------------------\u001b[0m",
      "\u001b[1;31mNameError\u001b[0m                                 Traceback (most recent call last)",
      "Cell \u001b[1;32mIn [9], line 1\u001b[0m\n\u001b[1;32m----> 1\u001b[0m \u001b[38;5;28;01mclass\u001b[39;00m \u001b[38;5;21;01mScatterInput\u001b[39;00m(\u001b[43mpanels\u001b[49m\u001b[38;5;241m.\u001b[39mInputs):\n\u001b[0;32m      2\u001b[0m     title \u001b[38;5;241m=\u001b[39m fields\u001b[38;5;241m.\u001b[39mStringField(label\u001b[38;5;241m=\u001b[39m\u001b[38;5;124m\"\u001b[39m\u001b[38;5;124mTitle of plot:\u001b[39m\u001b[38;5;124m\"\u001b[39m)\n\u001b[0;32m      3\u001b[0m     yvar \u001b[38;5;241m=\u001b[39m fields\u001b[38;5;241m.\u001b[39mSelectField(label\u001b[38;5;241m=\u001b[39m\u001b[38;5;124m\"\u001b[39m\u001b[38;5;124mY axis\u001b[39m\u001b[38;5;124m\"\u001b[39m,\n\u001b[0;32m      4\u001b[0m                               choices\u001b[38;5;241m=\u001b[39m[(\u001b[38;5;124m\"\u001b[39m\u001b[38;5;124mbeef\u001b[39m\u001b[38;5;124m\"\u001b[39m, \u001b[38;5;124m\"\u001b[39m\u001b[38;5;124mBeef\u001b[39m\u001b[38;5;124m\"\u001b[39m),\n\u001b[0;32m      5\u001b[0m                                        (\u001b[38;5;124m\"\u001b[39m\u001b[38;5;124mpork\u001b[39m\u001b[38;5;124m\"\u001b[39m, \u001b[38;5;124m\"\u001b[39m\u001b[38;5;124mPork\u001b[39m\u001b[38;5;124m\"\u001b[39m)])\n",
      "\u001b[1;31mNameError\u001b[0m: name 'panels' is not defined"
     ]
    }
   ],
   "source": [
    "class ScatterInput(panels.Inputs):\n",
    "    title = fields.StringField(label=\"Title of plot:\")\n",
    "    yvar = fields.SelectField(label=\"Y axis\",\n",
    "                              choices=[(\"beef\", \"Beef\"),\n",
    "                                       (\"pork\", \"Pork\")])\n",
    "    smoother = fields.BooleanField(label=\"Smoothing Curve\")"
   ]
  },
  {
   "cell_type": "code",
   "execution_count": null,
   "id": "cad9ca29-4878-4086-beed-77fe51951508",
   "metadata": {},
   "outputs": [],
   "source": []
  }
 ],
 "metadata": {
  "kernelspec": {
   "display_name": "Python 3 (ipykernel)",
   "language": "python",
   "name": "python3"
  },
  "language_info": {
   "codemirror_mode": {
    "name": "ipython",
    "version": 3
   },
   "file_extension": ".py",
   "mimetype": "text/x-python",
   "name": "python",
   "nbconvert_exporter": "python",
   "pygments_lexer": "ipython3",
   "version": "3.9.15"
  }
 },
 "nbformat": 4,
 "nbformat_minor": 5
}
