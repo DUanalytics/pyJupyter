{
 "cells": [
  {
   "cell_type": "code",
   "execution_count": null,
   "id": "0f947982",
   "metadata": {},
   "outputs": [],
   "source": [
    "# dataTable 2"
   ]
  },
  {
   "cell_type": "code",
   "execution_count": null,
   "id": "392df4ce",
   "metadata": {},
   "outputs": [],
   "source": []
  },
  {
   "cell_type": "markdown",
   "id": "06aceca1",
   "metadata": {},
   "source": [
    "## fread\n",
    "This function is capable of reading data from a variety of input formats (text files, plain text, files embedded in archives, excel files, …), producing a Frame as the result. You can even read in data from the command line.\n",
    "https://datatable.readthedocs.io/en/latest/api/dt/fread.html\n",
    "fread( anysource=None, *, file=None, text=None, cmd=None, url=None, columns=None, sep=None, dec=\".\", max_nrows=None, header=None, na_strings=None, verbose=False, fill=False, encoding=None, skip_to_string=None, skip_to_line=0, skip_blank_lines=False, strip_whitespace=True, quotechar='\"', tempdir=None, nthreads=None, logger=None, multiple_sources=\"warn\", memory_limit=None)"
   ]
  },
  {
   "cell_type": "code",
   "execution_count": 2,
   "id": "c01511e7",
   "metadata": {},
   "outputs": [
    {
     "data": {
      "text/html": [
       "<style type='text/css'>\n",
       ".datatable table.frame { margin-bottom: 0; }\n",
       ".datatable table.frame thead { border-bottom: none; }\n",
       ".datatable table.frame tr.coltypes td {  color: #FFFFFF;  line-height: 6px;  padding: 0 0.5em;}\n",
       ".datatable .bool    { background: #DDDD99; }\n",
       ".datatable .object  { background: #565656; }\n",
       ".datatable .int     { background: #5D9E5D; }\n",
       ".datatable .float   { background: #4040CC; }\n",
       ".datatable .str     { background: #CC4040; }\n",
       ".datatable .time    { background: #40CC40; }\n",
       ".datatable .row_index {  background: var(--jp-border-color3);  border-right: 1px solid var(--jp-border-color0);  color: var(--jp-ui-font-color3);  font-size: 9px;}\n",
       ".datatable .frame tbody td { text-align: left; }\n",
       ".datatable .frame tr.coltypes .row_index {  background: var(--jp-border-color0);}\n",
       ".datatable th:nth-child(2) { padding-left: 12px; }\n",
       ".datatable .hellipsis {  color: var(--jp-cell-editor-border-color);}\n",
       ".datatable .vellipsis {  background: var(--jp-layout-color0);  color: var(--jp-cell-editor-border-color);}\n",
       ".datatable .na {  color: var(--jp-cell-editor-border-color);  font-size: 80%;}\n",
       ".datatable .sp {  opacity: 0.25;}\n",
       ".datatable .footer { font-size: 9px; }\n",
       ".datatable .frame_dimensions {  background: var(--jp-border-color3);  border-top: 1px solid var(--jp-border-color0);  color: var(--jp-ui-font-color3);  display: inline-block;  opacity: 0.6;  padding: 1px 10px 1px 5px;}\n",
       "</style>\n"
      ],
      "text/plain": [
       "<IPython.core.display.HTML object>"
      ]
     },
     "metadata": {},
     "output_type": "display_data"
    }
   ],
   "source": [
    "from datatable import dt, fread\n",
    "#fread('iris.csv')"
   ]
  },
  {
   "cell_type": "code",
   "execution_count": 3,
   "id": "e98236bb",
   "metadata": {},
   "outputs": [
    {
     "data": {
      "text/html": [
       "<div class='datatable'>\n",
       "  <table class='frame'>\n",
       "  <thead>\n",
       "    <tr class='colnames'><td class='row_index'></td><th>col1</th><th>col2</th><th>col3</th></tr>\n",
       "    <tr class='coltypes'><td class='row_index'></td><td class='str' title='str32'>&#x25AA;&#x25AA;&#x25AA;&#x25AA;</td><td class='str' title='str32'>&#x25AA;&#x25AA;&#x25AA;&#x25AA;</td><td class='int' title='int32'>&#x25AA;&#x25AA;&#x25AA;&#x25AA;</td></tr>\n",
       "  </thead>\n",
       "  <tbody>\n",
       "    <tr><td class='row_index'>0</td><td>a</td><td>b</td><td>1</td></tr>\n",
       "    <tr><td class='row_index'>1</td><td>a</td><td>b</td><td>2</td></tr>\n",
       "    <tr><td class='row_index'>2</td><td>c</td><td>d</td><td>3</td></tr>\n",
       "  </tbody>\n",
       "  </table>\n",
       "  <div class='footer'>\n",
       "    <div class='frame_dimensions'>3 rows &times; 3 columns</div>\n",
       "  </div>\n",
       "</div>\n"
      ],
      "text/plain": [
       "<Frame#26b0ecfd510 3x3>"
      ]
     },
     "execution_count": 3,
     "metadata": {},
     "output_type": "execute_result"
    }
   ],
   "source": [
    "#directly\n",
    "data = ('col1,col2,col3\\n'\n",
    "        'a,b,1\\n'\n",
    "        'a,b,2\\n'\n",
    "        'c,d,3')\n",
    "fread(data)"
   ]
  },
  {
   "cell_type": "code",
   "execution_count": 4,
   "id": "26fa8d32",
   "metadata": {},
   "outputs": [
    {
     "data": {
      "text/html": [
       "<div class='datatable'>\n",
       "  <table class='frame'>\n",
       "  <thead>\n",
       "    <tr class='colnames'><td class='row_index'></td><th>year</th><th>month</th><th>day</th><th>dep_delay</th><th>arr_delay</th><th>carrier</th><th>origin</th><th>dest</th><th>air_time</th><th>distance</th><th>hour</th></tr>\n",
       "    <tr class='coltypes'><td class='row_index'></td><td class='int' title='int32'>&#x25AA;&#x25AA;&#x25AA;&#x25AA;</td><td class='int' title='int32'>&#x25AA;&#x25AA;&#x25AA;&#x25AA;</td><td class='int' title='int32'>&#x25AA;&#x25AA;&#x25AA;&#x25AA;</td><td class='int' title='int32'>&#x25AA;&#x25AA;&#x25AA;&#x25AA;</td><td class='int' title='int32'>&#x25AA;&#x25AA;&#x25AA;&#x25AA;</td><td class='str' title='str32'>&#x25AA;&#x25AA;&#x25AA;&#x25AA;</td><td class='str' title='str32'>&#x25AA;&#x25AA;&#x25AA;&#x25AA;</td><td class='str' title='str32'>&#x25AA;&#x25AA;&#x25AA;&#x25AA;</td><td class='int' title='int32'>&#x25AA;&#x25AA;&#x25AA;&#x25AA;</td><td class='int' title='int32'>&#x25AA;&#x25AA;&#x25AA;&#x25AA;</td><td class='int' title='int32'>&#x25AA;&#x25AA;&#x25AA;&#x25AA;</td></tr>\n",
       "  </thead>\n",
       "  <tbody>\n",
       "    <tr><td class='row_index'>0</td><td>2014</td><td>1</td><td>1</td><td>14</td><td>13</td><td>AA</td><td>JFK</td><td>LAX</td><td>359</td><td>2475</td><td>9</td></tr>\n",
       "    <tr><td class='row_index'>1</td><td>2014</td><td>1</td><td>1</td><td>&minus;3</td><td>13</td><td>AA</td><td>JFK</td><td>LAX</td><td>363</td><td>2475</td><td>11</td></tr>\n",
       "    <tr><td class='row_index'>2</td><td>2014</td><td>1</td><td>1</td><td>2</td><td>9</td><td>AA</td><td>JFK</td><td>LAX</td><td>351</td><td>2475</td><td>19</td></tr>\n",
       "    <tr><td class='row_index'>3</td><td>2014</td><td>1</td><td>1</td><td>&minus;8</td><td>&minus;26</td><td>AA</td><td>LGA</td><td>PBI</td><td>157</td><td>1035</td><td>7</td></tr>\n",
       "    <tr><td class='row_index'>4</td><td>2014</td><td>1</td><td>1</td><td>2</td><td>1</td><td>AA</td><td>JFK</td><td>LAX</td><td>350</td><td>2475</td><td>13</td></tr>\n",
       "    <tr><td class='row_index'>5</td><td>2014</td><td>1</td><td>1</td><td>4</td><td>0</td><td>AA</td><td>EWR</td><td>LAX</td><td>339</td><td>2454</td><td>18</td></tr>\n",
       "    <tr><td class='row_index'>6</td><td>2014</td><td>1</td><td>1</td><td>&minus;2</td><td>&minus;18</td><td>AA</td><td>JFK</td><td>LAX</td><td>338</td><td>2475</td><td>21</td></tr>\n",
       "    <tr><td class='row_index'>7</td><td>2014</td><td>1</td><td>1</td><td>&minus;3</td><td>&minus;14</td><td>AA</td><td>JFK</td><td>LAX</td><td>356</td><td>2475</td><td>15</td></tr>\n",
       "    <tr><td class='row_index'>8</td><td>2014</td><td>1</td><td>1</td><td>&minus;1</td><td>&minus;17</td><td>AA</td><td>JFK</td><td>MIA</td><td>161</td><td>1089</td><td>15</td></tr>\n",
       "    <tr><td class='row_index'>9</td><td>2014</td><td>1</td><td>1</td><td>&minus;2</td><td>&minus;14</td><td>AA</td><td>JFK</td><td>SEA</td><td>349</td><td>2422</td><td>18</td></tr>\n",
       "    <tr><td class='row_index'>10</td><td>2014</td><td>1</td><td>1</td><td>&minus;5</td><td>&minus;17</td><td>AA</td><td>EWR</td><td>MIA</td><td>161</td><td>1085</td><td>16</td></tr>\n",
       "    <tr><td class='row_index'>11</td><td>2014</td><td>1</td><td>1</td><td>7</td><td>&minus;5</td><td>AA</td><td>JFK</td><td>SFO</td><td>365</td><td>2586</td><td>17</td></tr>\n",
       "    <tr><td class='row_index'>12</td><td>2014</td><td>1</td><td>1</td><td>3</td><td>1</td><td>AA</td><td>JFK</td><td>BOS</td><td>39</td><td>187</td><td>12</td></tr>\n",
       "    <tr><td class='row_index'>13</td><td>2014</td><td>1</td><td>1</td><td>142</td><td>133</td><td>AA</td><td>JFK</td><td>LAX</td><td>345</td><td>2475</td><td>19</td></tr>\n",
       "    <tr><td class='row_index'>14</td><td>2014</td><td>1</td><td>1</td><td>&minus;5</td><td>&minus;26</td><td>AA</td><td>JFK</td><td>BOS</td><td>35</td><td>187</td><td>17</td></tr>\n",
       "    <tr><td class='row_index'>&#x22EE;</td><td class='hellipsis'>&#x22EE;</td><td class='hellipsis'>&#x22EE;</td><td class='hellipsis'>&#x22EE;</td><td class='hellipsis'>&#x22EE;</td><td class='hellipsis'>&#x22EE;</td><td class='hellipsis'>&#x22EE;</td><td class='hellipsis'>&#x22EE;</td><td class='hellipsis'>&#x22EE;</td><td class='hellipsis'>&#x22EE;</td><td class='hellipsis'>&#x22EE;</td><td class='hellipsis'>&#x22EE;</td></tr>\n",
       "    <tr><td class='row_index'>253,311</td><td>2014</td><td>10</td><td>31</td><td>1</td><td>&minus;30</td><td>UA</td><td>LGA</td><td>IAH</td><td>201</td><td>1416</td><td>14</td></tr>\n",
       "    <tr><td class='row_index'>253,312</td><td>2014</td><td>10</td><td>31</td><td>&minus;5</td><td>&minus;14</td><td>UA</td><td>EWR</td><td>IAH</td><td>189</td><td>1400</td><td>8</td></tr>\n",
       "    <tr><td class='row_index'>253,313</td><td>2014</td><td>10</td><td>31</td><td>&minus;8</td><td>16</td><td>MQ</td><td>LGA</td><td>RDU</td><td>83</td><td>431</td><td>11</td></tr>\n",
       "    <tr><td class='row_index'>253,314</td><td>2014</td><td>10</td><td>31</td><td>&minus;4</td><td>15</td><td>MQ</td><td>LGA</td><td>DTW</td><td>75</td><td>502</td><td>11</td></tr>\n",
       "    <tr><td class='row_index'>253,315</td><td>2014</td><td>10</td><td>31</td><td>&minus;5</td><td>1</td><td>MQ</td><td>LGA</td><td>SDF</td><td>110</td><td>659</td><td>8</td></tr>\n",
       "  </tbody>\n",
       "  </table>\n",
       "  <div class='footer'>\n",
       "    <div class='frame_dimensions'>253,316 rows &times; 11 columns</div>\n",
       "  </div>\n",
       "</div>\n"
      ],
      "text/plain": [
       "<Frame#26b0ed46cf0 253316x11>"
      ]
     },
     "execution_count": 4,
     "metadata": {},
     "output_type": "execute_result"
    }
   ],
   "source": [
    "#url\n",
    "url = \"https://raw.githubusercontent.com/Rdatatable/data.table/master/vignettes/flights14.csv\"\n",
    "fread(url)"
   ]
  },
  {
   "cell_type": "code",
   "execution_count": null,
   "id": "a69e61a7",
   "metadata": {},
   "outputs": [],
   "source": [
    "# zip\n",
    "fread(\"data.zip/mtcars.csv\")\n",
    "#Read from an archive (if there are multiple files, only the first will be read; you can specify the path to the specific file you are interested in"
   ]
  },
  {
   "cell_type": "code",
   "execution_count": null,
   "id": "24a906f2",
   "metadata": {},
   "outputs": [],
   "source": [
    "#xls\n",
    "fread(\"excel.xlsx\")\n",
    "fread(\"excel.xlsx/Sheet1\")   #one sheet"
   ]
  },
  {
   "cell_type": "code",
   "execution_count": 9,
   "id": "54fcdf00",
   "metadata": {},
   "outputs": [
    {
     "data": {
      "text/html": [
       "<div class='datatable'>\n",
       "  <table class='frame'>\n",
       "  <thead>\n",
       "    <tr class='colnames'><td class='row_index'></td><th>C0</th><th>C1</th><th>C2</th><th>C3</th></tr>\n",
       "    <tr class='coltypes'><td class='row_index'></td><td class='int' title='int32'>&#x25AA;&#x25AA;&#x25AA;&#x25AA;</td><td class='int' title='int32'>&#x25AA;&#x25AA;&#x25AA;&#x25AA;</td><td class='int' title='int32'>&#x25AA;&#x25AA;&#x25AA;&#x25AA;</td><td class='int' title='int32'>&#x25AA;&#x25AA;&#x25AA;&#x25AA;</td></tr>\n",
       "  </thead>\n",
       "  <tbody>\n",
       "    <tr><td class='row_index'>0</td><td>1</td><td>2</td><td>3</td><td>4</td></tr>\n",
       "    <tr><td class='row_index'>1</td><td>5</td><td>6</td><td>7</td><td>8</td></tr>\n",
       "    <tr><td class='row_index'>2</td><td>9</td><td>10</td><td>11</td><td>12</td></tr>\n",
       "  </tbody>\n",
       "  </table>\n",
       "  <div class='footer'>\n",
       "    <div class='frame_dimensions'>3 rows &times; 4 columns</div>\n",
       "  </div>\n",
       "</div>\n"
      ],
      "text/plain": [
       "<Frame#26b0ecfd9c0 3x4>"
      ]
     },
     "execution_count": 9,
     "metadata": {},
     "output_type": "execute_result"
    }
   ],
   "source": [
    "#delimeter\n",
    "data = \"\"\"\n",
    "       1:2:3:4\n",
    "       5:6:7:8\n",
    "       9:10:11:12\n",
    "       \"\"\"\n",
    "fread(data, sep=\":\")"
   ]
  },
  {
   "cell_type": "code",
   "execution_count": 8,
   "id": "b9ff3919",
   "metadata": {},
   "outputs": [
    {
     "data": {
      "text/html": [
       "<div class='datatable'>\n",
       "  <table class='frame'>\n",
       "  <thead>\n",
       "    <tr class='colnames'><td class='row_index'></td><th>ID</th><th>Charges</th><th>Payment_Method</th></tr>\n",
       "    <tr class='coltypes'><td class='row_index'></td><td class='str' title='str32'>&#x25AA;&#x25AA;&#x25AA;&#x25AA;</td><td class='float' title='float64'>&#x25AA;&#x25AA;&#x25AA;&#x25AA;&#x25AA;&#x25AA;&#x25AA;&#x25AA;</td><td class='str' title='str32'>&#x25AA;&#x25AA;&#x25AA;&#x25AA;</td></tr>\n",
       "  </thead>\n",
       "  <tbody>\n",
       "    <tr><td class='row_index'>0</td><td>634-VHG</td><td>28</td><td>Cheque</td></tr>\n",
       "    <tr><td class='row_index'>1</td><td>365-DQC</td><td>33.5</td><td>Credit card</td></tr>\n",
       "    <tr><td class='row_index'>2</td><td>264-PPR</td><td>631</td><td><span class=na>NA</span></td></tr>\n",
       "    <tr><td class='row_index'>3</td><td>845-AJO</td><td>42.3</td><td><span class=na>NA</span></td></tr>\n",
       "    <tr><td class='row_index'>4</td><td>789-KPO</td><td>56.9</td><td>Bank Transfer</td></tr>\n",
       "  </tbody>\n",
       "  </table>\n",
       "  <div class='footer'>\n",
       "    <div class='frame_dimensions'>5 rows &times; 3 columns</div>\n",
       "  </div>\n",
       "</div>\n"
      ],
      "text/plain": [
       "<Frame#26b0eda5030 5x3>"
      ]
     },
     "execution_count": 8,
     "metadata": {},
     "output_type": "execute_result"
    }
   ],
   "source": [
    "#missing values\n",
    "data = \"\"\"\n",
    "       ID|Charges|Payment_Method\n",
    "       634-VHG|28|Cheque\n",
    "       365-DQC|33.5|Credit card\n",
    "       264-PPR|631|--\n",
    "       845-AJO|42.3|\n",
    "       789-KPO|56.9|Bank Transfer\n",
    "       \"\"\"\n",
    "\n",
    "fread(data, na_strings=['--', ''])"
   ]
  },
  {
   "cell_type": "code",
   "execution_count": 10,
   "id": "b8924ab7",
   "metadata": {},
   "outputs": [
    {
     "data": {
      "text/html": [
       "<div class='datatable'>\n",
       "  <table class='frame'>\n",
       "  <thead>\n",
       "    <tr class='colnames'><td class='row_index'></td><th>a</th><th>b</th><th>c</th><th>d</th></tr>\n",
       "    <tr class='coltypes'><td class='row_index'></td><td class='int' title='int32'>&#x25AA;&#x25AA;&#x25AA;&#x25AA;</td><td class='int' title='int32'>&#x25AA;&#x25AA;&#x25AA;&#x25AA;</td><td class='int' title='int32'>&#x25AA;&#x25AA;&#x25AA;&#x25AA;</td><td class='int' title='int32'>&#x25AA;&#x25AA;&#x25AA;&#x25AA;</td></tr>\n",
       "  </thead>\n",
       "  <tbody>\n",
       "    <tr><td class='row_index'>0</td><td>1</td><td>2</td><td>3</td><td>4</td></tr>\n",
       "    <tr><td class='row_index'>1</td><td>5</td><td>6</td><td>7</td><td>8</td></tr>\n",
       "    <tr><td class='row_index'>2</td><td>9</td><td>10</td><td>11</td><td><span class=na>NA</span></td></tr>\n",
       "  </tbody>\n",
       "  </table>\n",
       "  <div class='footer'>\n",
       "    <div class='frame_dimensions'>3 rows &times; 4 columns</div>\n",
       "  </div>\n",
       "</div>\n"
      ],
      "text/plain": [
       "<Frame#26b0ed46cc0 3x4>"
      ]
     },
     "execution_count": 10,
     "metadata": {},
     "output_type": "execute_result"
    }
   ],
   "source": [
    "#For rows with less values than in other rows, you can set fill=True; fread will fill with NA:\n",
    "data = ('a,b,c,d\\n'\n",
    "        '1,2,3,4\\n'\n",
    "        '5,6,7,8\\n'\n",
    "        '9,10,11')\n",
    "\n",
    "fread(data, fill=True)\n"
   ]
  },
  {
   "cell_type": "code",
   "execution_count": 11,
   "id": "12883a6e",
   "metadata": {},
   "outputs": [
    {
     "data": {
      "text/html": [
       "<div class='datatable'>\n",
       "  <table class='frame'>\n",
       "  <thead>\n",
       "    <tr class='colnames'><td class='row_index'></td><th>a</th><th>b</th><th>c</th><th>d</th></tr>\n",
       "    <tr class='coltypes'><td class='row_index'></td><td class='int' title='int32'>&#x25AA;&#x25AA;&#x25AA;&#x25AA;</td><td class='int' title='int32'>&#x25AA;&#x25AA;&#x25AA;&#x25AA;</td><td class='int' title='int32'>&#x25AA;&#x25AA;&#x25AA;&#x25AA;</td><td class='int' title='int32'>&#x25AA;&#x25AA;&#x25AA;&#x25AA;</td></tr>\n",
       "  </thead>\n",
       "  <tbody>\n",
       "    <tr><td class='row_index'>0</td><td>1</td><td>2</td><td>3</td><td>4</td></tr>\n",
       "    <tr><td class='row_index'>1</td><td>5</td><td>6</td><td>7</td><td>8</td></tr>\n",
       "    <tr><td class='row_index'>2</td><td>9</td><td>10</td><td>11</td><td>12</td></tr>\n",
       "  </tbody>\n",
       "  </table>\n",
       "  <div class='footer'>\n",
       "    <div class='frame_dimensions'>3 rows &times; 4 columns</div>\n",
       "  </div>\n",
       "</div>\n"
      ],
      "text/plain": [
       "<Frame#26b0ee3f8d0 3x4>"
      ]
     },
     "execution_count": 11,
     "metadata": {},
     "output_type": "execute_result"
    }
   ],
   "source": [
    "#You can skip empty lines\n",
    "data = ('a,b,c,d\\n'\n",
    "        '\\n'\n",
    "        '1,2,3,4\\n'\n",
    "        '5,6,7,8\\n'\n",
    "        '\\n'\n",
    "        '9,10,11,12')\n",
    "\n",
    "fread(data, skip_blank_lines=True)"
   ]
  },
  {
   "cell_type": "code",
   "execution_count": 12,
   "id": "77c04b90",
   "metadata": {},
   "outputs": [
    {
     "data": {
      "text/html": [
       "<div class='datatable'>\n",
       "  <table class='frame'>\n",
       "  <thead>\n",
       "    <tr class='colnames'><td class='row_index'></td><th>C0</th><th>C1</th></tr>\n",
       "    <tr class='coltypes'><td class='row_index'></td><td class='int' title='int32'>&#x25AA;&#x25AA;&#x25AA;&#x25AA;</td><td class='int' title='int32'>&#x25AA;&#x25AA;&#x25AA;&#x25AA;</td></tr>\n",
       "  </thead>\n",
       "  <tbody>\n",
       "    <tr><td class='row_index'>0</td><td>1</td><td>2</td></tr>\n",
       "    <tr><td class='row_index'>1</td><td>3</td><td>4</td></tr>\n",
       "  </tbody>\n",
       "  </table>\n",
       "  <div class='footer'>\n",
       "    <div class='frame_dimensions'>2 rows &times; 2 columns</div>\n",
       "  </div>\n",
       "</div>\n"
      ],
      "text/plain": [
       "<Frame#26b0eda5c90 2x2>"
      ]
     },
     "execution_count": 12,
     "metadata": {},
     "output_type": "execute_result"
    }
   ],
   "source": [
    "#column names\n",
    "data = ('1,2\\n'\n",
    "        '3,4\\n')\n",
    "fread(data)"
   ]
  },
  {
   "cell_type": "code",
   "execution_count": 13,
   "id": "c827ab64",
   "metadata": {},
   "outputs": [
    {
     "data": {
      "text/html": [
       "<div class='datatable'>\n",
       "  <table class='frame'>\n",
       "  <thead>\n",
       "    <tr class='colnames'><td class='row_index'></td><th>A</th><th>B</th></tr>\n",
       "    <tr class='coltypes'><td class='row_index'></td><td class='int' title='int32'>&#x25AA;&#x25AA;&#x25AA;&#x25AA;</td><td class='int' title='int32'>&#x25AA;&#x25AA;&#x25AA;&#x25AA;</td></tr>\n",
       "  </thead>\n",
       "  <tbody>\n",
       "    <tr><td class='row_index'>0</td><td>1</td><td>2</td></tr>\n",
       "    <tr><td class='row_index'>1</td><td>3</td><td>4</td></tr>\n",
       "  </tbody>\n",
       "  </table>\n",
       "  <div class='footer'>\n",
       "    <div class='frame_dimensions'>2 rows &times; 2 columns</div>\n",
       "  </div>\n",
       "</div>\n"
      ],
      "text/plain": [
       "<Frame#26b0eda5240 2x2>"
      ]
     },
     "execution_count": 13,
     "metadata": {},
     "output_type": "execute_result"
    }
   ],
   "source": [
    "fread(data, columns=['A','B'])"
   ]
  },
  {
   "cell_type": "code",
   "execution_count": 16,
   "id": "3f22e5ff",
   "metadata": {},
   "outputs": [
    {
     "data": {
      "text/plain": [
       "'a,b,c,d\\n1,2,3,4\\n5,6,7,8\\n9,10,11,12'"
      ]
     },
     "execution_count": 16,
     "metadata": {},
     "output_type": "execute_result"
    }
   ],
   "source": [
    "#change col names\n",
    "data = ('a,b,c,d\\n'\n",
    "        '1,2,3,4\\n'\n",
    "        '5,6,7,8\\n'\n",
    "        '9,10,11,12')\n",
    "\n",
    "data"
   ]
  },
  {
   "cell_type": "code",
   "execution_count": null,
   "id": "6f5573d1",
   "metadata": {},
   "outputs": [],
   "source": [
    "fread(data, columns=[\"A\",\"B\",\"C\",\"D\"])"
   ]
  },
  {
   "cell_type": "code",
   "execution_count": 15,
   "id": "b1dd924a",
   "metadata": {},
   "outputs": [
    {
     "data": {
      "text/html": [
       "<div class='datatable'>\n",
       "  <table class='frame'>\n",
       "  <thead>\n",
       "    <tr class='colnames'><td class='row_index'></td><th>A</th><th>B</th><th>c</th><th>d</th></tr>\n",
       "    <tr class='coltypes'><td class='row_index'></td><td class='int' title='int32'>&#x25AA;&#x25AA;&#x25AA;&#x25AA;</td><td class='int' title='int32'>&#x25AA;&#x25AA;&#x25AA;&#x25AA;</td><td class='int' title='int32'>&#x25AA;&#x25AA;&#x25AA;&#x25AA;</td><td class='int' title='int32'>&#x25AA;&#x25AA;&#x25AA;&#x25AA;</td></tr>\n",
       "  </thead>\n",
       "  <tbody>\n",
       "    <tr><td class='row_index'>0</td><td>1</td><td>2</td><td>3</td><td>4</td></tr>\n",
       "    <tr><td class='row_index'>1</td><td>5</td><td>6</td><td>7</td><td>8</td></tr>\n",
       "    <tr><td class='row_index'>2</td><td>9</td><td>10</td><td>11</td><td>12</td></tr>\n",
       "  </tbody>\n",
       "  </table>\n",
       "  <div class='footer'>\n",
       "    <div class='frame_dimensions'>3 rows &times; 4 columns</div>\n",
       "  </div>\n",
       "</div>\n"
      ],
      "text/plain": [
       "<Frame#26b0ee3f0c0 3x4>"
      ]
     },
     "execution_count": 15,
     "metadata": {},
     "output_type": "execute_result"
    }
   ],
   "source": [
    "fread(data, columns={\"a\":\"A\", \"b\":\"B\"})"
   ]
  },
  {
   "cell_type": "code",
   "execution_count": 17,
   "id": "24060973",
   "metadata": {},
   "outputs": [
    {
     "data": {
      "text/html": [
       "<div class='datatable'>\n",
       "  <table class='frame'>\n",
       "  <thead>\n",
       "    <tr class='colnames'><td class='row_index'></td><th>C0</th><th>C1</th><th>C2</th><th>C3</th></tr>\n",
       "    <tr class='coltypes'><td class='row_index'></td><td class='str' title='str32'>&#x25AA;&#x25AA;&#x25AA;&#x25AA;</td><td class='str' title='str32'>&#x25AA;&#x25AA;&#x25AA;&#x25AA;</td><td class='str' title='str32'>&#x25AA;&#x25AA;&#x25AA;&#x25AA;</td><td class='str' title='str32'>&#x25AA;&#x25AA;&#x25AA;&#x25AA;</td></tr>\n",
       "  </thead>\n",
       "  <tbody>\n",
       "    <tr><td class='row_index'>0</td><td>a</td><td>b</td><td>c</td><td>d</td></tr>\n",
       "    <tr><td class='row_index'>1</td><td>1</td><td>2</td><td>3</td><td>4</td></tr>\n",
       "    <tr><td class='row_index'>2</td><td>5</td><td>6</td><td>7</td><td>8</td></tr>\n",
       "    <tr><td class='row_index'>3</td><td>9</td><td>10</td><td>11</td><td>12</td></tr>\n",
       "  </tbody>\n",
       "  </table>\n",
       "  <div class='footer'>\n",
       "    <div class='frame_dimensions'>4 rows &times; 4 columns</div>\n",
       "  </div>\n",
       "</div>\n"
      ],
      "text/plain": [
       "<Frame#26b0eda5e70 4x4>"
      ]
     },
     "execution_count": 17,
     "metadata": {},
     "output_type": "execute_result"
    }
   ],
   "source": [
    "#header row\n",
    "fread(data,  header=False)"
   ]
  },
  {
   "cell_type": "code",
   "execution_count": 18,
   "id": "d20c43db",
   "metadata": {},
   "outputs": [
    {
     "data": {
      "text/html": [
       "<div class='datatable'>\n",
       "  <table class='frame'>\n",
       "  <thead>\n",
       "    <tr class='colnames'><td class='row_index'></td><th>A</th><th>B</th><th>C</th><th>D</th></tr>\n",
       "    <tr class='coltypes'><td class='row_index'></td><td class='str' title='str32'>&#x25AA;&#x25AA;&#x25AA;&#x25AA;</td><td class='str' title='str32'>&#x25AA;&#x25AA;&#x25AA;&#x25AA;</td><td class='str' title='str32'>&#x25AA;&#x25AA;&#x25AA;&#x25AA;</td><td class='str' title='str32'>&#x25AA;&#x25AA;&#x25AA;&#x25AA;</td></tr>\n",
       "  </thead>\n",
       "  <tbody>\n",
       "    <tr><td class='row_index'>0</td><td>a</td><td>b</td><td>c</td><td>d</td></tr>\n",
       "    <tr><td class='row_index'>1</td><td>1</td><td>2</td><td>3</td><td>4</td></tr>\n",
       "    <tr><td class='row_index'>2</td><td>5</td><td>6</td><td>7</td><td>8</td></tr>\n",
       "    <tr><td class='row_index'>3</td><td>9</td><td>10</td><td>11</td><td>12</td></tr>\n",
       "  </tbody>\n",
       "  </table>\n",
       "  <div class='footer'>\n",
       "    <div class='frame_dimensions'>4 rows &times; 4 columns</div>\n",
       "  </div>\n",
       "</div>\n"
      ],
      "text/plain": [
       "<Frame#26b0ecfdc90 4x4>"
      ]
     },
     "execution_count": 18,
     "metadata": {},
     "output_type": "execute_result"
    }
   ],
   "source": [
    "fread(data,  header=False, columns=[\"A\",\"B\",\"C\",\"D\"])\n",
    "# new list"
   ]
  },
  {
   "cell_type": "code",
   "execution_count": 19,
   "id": "dff14a01",
   "metadata": {},
   "outputs": [
    {
     "data": {
      "text/html": [
       "<div class='datatable'>\n",
       "  <table class='frame'>\n",
       "  <thead>\n",
       "    <tr class='colnames'><td class='row_index'></td><th>a</th><th>b</th><th>c</th><th>d</th></tr>\n",
       "    <tr class='coltypes'><td class='row_index'></td><td class='int' title='int32'>&#x25AA;&#x25AA;&#x25AA;&#x25AA;</td><td class='int' title='int32'>&#x25AA;&#x25AA;&#x25AA;&#x25AA;</td><td class='int' title='int32'>&#x25AA;&#x25AA;&#x25AA;&#x25AA;</td><td class='int' title='int32'>&#x25AA;&#x25AA;&#x25AA;&#x25AA;</td></tr>\n",
       "  </thead>\n",
       "  <tbody>\n",
       "    <tr><td class='row_index'>0</td><td>1</td><td>2</td><td>3</td><td>4</td></tr>\n",
       "    <tr><td class='row_index'>1</td><td>5</td><td>6</td><td>7</td><td>8</td></tr>\n",
       "    <tr><td class='row_index'>2</td><td>9</td><td>10</td><td>11</td><td>12</td></tr>\n",
       "  </tbody>\n",
       "  </table>\n",
       "  <div class='footer'>\n",
       "    <div class='frame_dimensions'>3 rows &times; 4 columns</div>\n",
       "  </div>\n",
       "</div>\n"
      ],
      "text/plain": [
       "<Frame#26b0ee3f9c0 3x4>"
      ]
     },
     "execution_count": 19,
     "metadata": {},
     "output_type": "execute_result"
    }
   ],
   "source": [
    "#row selection\n",
    "data = ('skip this line\\n'\n",
    "        'a,b,c,d\\n'\n",
    "        '1,2,3,4\\n'\n",
    "        '5,6,7,8\\n'\n",
    "        '9,10,11,12')\n",
    "\n",
    "fread(data, skip_to_line=2)"
   ]
  },
  {
   "cell_type": "code",
   "execution_count": 20,
   "id": "1792a2d4",
   "metadata": {},
   "outputs": [
    {
     "data": {
      "text/html": [
       "<div class='datatable'>\n",
       "  <table class='frame'>\n",
       "  <thead>\n",
       "    <tr class='colnames'><td class='row_index'></td><th>first</th><th>second</th><th>third</th><th>last</th></tr>\n",
       "    <tr class='coltypes'><td class='row_index'></td><td class='int' title='int32'>&#x25AA;&#x25AA;&#x25AA;&#x25AA;</td><td class='int' title='int32'>&#x25AA;&#x25AA;&#x25AA;&#x25AA;</td><td class='int' title='int32'>&#x25AA;&#x25AA;&#x25AA;&#x25AA;</td><td class='int' title='int32'>&#x25AA;&#x25AA;&#x25AA;&#x25AA;</td></tr>\n",
       "  </thead>\n",
       "  <tbody>\n",
       "    <tr><td class='row_index'>0</td><td>1</td><td>2</td><td>3</td><td>4</td></tr>\n",
       "    <tr><td class='row_index'>1</td><td>5</td><td>6</td><td>7</td><td>8</td></tr>\n",
       "    <tr><td class='row_index'>2</td><td>9</td><td>10</td><td>11</td><td>12</td></tr>\n",
       "  </tbody>\n",
       "  </table>\n",
       "  <div class='footer'>\n",
       "    <div class='frame_dimensions'>3 rows &times; 4 columns</div>\n",
       "  </div>\n",
       "</div>\n"
      ],
      "text/plain": [
       "<Frame#26b0ee3f7e0 3x4>"
      ]
     },
     "execution_count": 20,
     "metadata": {},
     "output_type": "execute_result"
    }
   ],
   "source": [
    "data = ('skip this line\\n'\n",
    "        'a,b,c,d\\n'\n",
    "        'first, second, third, last\\n'\n",
    "        '1,2,3,4\\n'\n",
    "        '5,6,7,8\\n'\n",
    "        '9,10,11,12')\n",
    "\n",
    "fread(data, skip_to_string='first')\n",
    "#skip_to_string and skip_to_line cannot be combined; you can only use one:"
   ]
  },
  {
   "cell_type": "code",
   "execution_count": 21,
   "id": "3feeb259",
   "metadata": {},
   "outputs": [
    {
     "data": {
      "text/html": [
       "<div class='datatable'>\n",
       "  <table class='frame'>\n",
       "  <thead>\n",
       "    <tr class='colnames'><td class='row_index'></td><th>a</th><th>b</th><th>c</th><th>d</th></tr>\n",
       "    <tr class='coltypes'><td class='row_index'></td><td class='int' title='int32'>&#x25AA;&#x25AA;&#x25AA;&#x25AA;</td><td class='int' title='int32'>&#x25AA;&#x25AA;&#x25AA;&#x25AA;</td><td class='int' title='int32'>&#x25AA;&#x25AA;&#x25AA;&#x25AA;</td><td class='int' title='int32'>&#x25AA;&#x25AA;&#x25AA;&#x25AA;</td></tr>\n",
       "  </thead>\n",
       "  <tbody>\n",
       "    <tr><td class='row_index'>0</td><td>1</td><td>2</td><td>3</td><td>4</td></tr>\n",
       "    <tr><td class='row_index'>1</td><td>5</td><td>6</td><td>7</td><td>8</td></tr>\n",
       "  </tbody>\n",
       "  </table>\n",
       "  <div class='footer'>\n",
       "    <div class='frame_dimensions'>2 rows &times; 4 columns</div>\n",
       "  </div>\n",
       "</div>\n"
      ],
      "text/plain": [
       "<Frame#26b0ee3fa50 2x4>"
      ]
     },
     "execution_count": 21,
     "metadata": {},
     "output_type": "execute_result"
    }
   ],
   "source": [
    "#max rows\n",
    "data = ('a,b,c,d\\n'\n",
    "        '1,2,3,4\\n'\n",
    "        '5,6,7,8\\n'\n",
    "        '9,10,11,12')\n",
    "\n",
    "fread(data, max_nrows=2)"
   ]
  },
  {
   "cell_type": "code",
   "execution_count": 22,
   "id": "4a55c733",
   "metadata": {},
   "outputs": [
    {
     "data": {
      "text/html": [
       "<div class='datatable'>\n",
       "  <table class='frame'>\n",
       "  <thead>\n",
       "    <tr class='colnames'><td class='row_index'></td><th>a</th><th>b</th><th>c</th><th>d</th></tr>\n",
       "    <tr class='coltypes'><td class='row_index'></td><td class='int' title='int32'>&#x25AA;&#x25AA;&#x25AA;&#x25AA;</td><td class='int' title='int32'>&#x25AA;&#x25AA;&#x25AA;&#x25AA;</td><td class='int' title='int32'>&#x25AA;&#x25AA;&#x25AA;&#x25AA;</td><td class='int' title='int32'>&#x25AA;&#x25AA;&#x25AA;&#x25AA;</td></tr>\n",
       "  </thead>\n",
       "  <tbody>\n",
       "    <tr><td class='row_index'>0</td><td>1</td><td>2</td><td>3</td><td>4</td></tr>\n",
       "    <tr><td class='row_index'>1</td><td>5</td><td>6</td><td>7</td><td>8</td></tr>\n",
       "  </tbody>\n",
       "  </table>\n",
       "  <div class='footer'>\n",
       "    <div class='frame_dimensions'>2 rows &times; 4 columns</div>\n",
       "  </div>\n",
       "</div>\n"
      ],
      "text/plain": [
       "<Frame#26b0ed46c00 2x4>"
      ]
     },
     "execution_count": 22,
     "metadata": {},
     "output_type": "execute_result"
    }
   ],
   "source": [
    "data = ('skip this line\\n'\n",
    "        'a,b,c,d\\n'\n",
    "        '1,2,3,4\\n'\n",
    "        '5,6,7,8\\n'\n",
    "        '9,10,11,12')\n",
    "\n",
    "fread(data, skip_to_line=2, max_nrows=2)"
   ]
  },
  {
   "cell_type": "code",
   "execution_count": 23,
   "id": "f91faddb",
   "metadata": {},
   "outputs": [
    {
     "data": {
      "text/html": [
       "<div class='datatable'>\n",
       "  <table class='frame'>\n",
       "  <thead>\n",
       "    <tr class='colnames'><td class='row_index'></td><th>a</th><th>b</th><th>c</th><th>d</th></tr>\n",
       "    <tr class='coltypes'><td class='row_index'></td><td class='float' title='float64'>&#x25AA;&#x25AA;&#x25AA;&#x25AA;&#x25AA;&#x25AA;&#x25AA;&#x25AA;</td><td class='str' title='str32'>&#x25AA;&#x25AA;&#x25AA;&#x25AA;</td><td class='int' title='int32'>&#x25AA;&#x25AA;&#x25AA;&#x25AA;</td><td class='int' title='int32'>&#x25AA;&#x25AA;&#x25AA;&#x25AA;</td></tr>\n",
       "  </thead>\n",
       "  <tbody>\n",
       "    <tr><td class='row_index'>0</td><td>1</td><td>2</td><td>3</td><td>4</td></tr>\n",
       "    <tr><td class='row_index'>1</td><td>5</td><td>6</td><td>7</td><td>8</td></tr>\n",
       "    <tr><td class='row_index'>2</td><td>9</td><td>10</td><td>11</td><td>12</td></tr>\n",
       "  </tbody>\n",
       "  </table>\n",
       "  <div class='footer'>\n",
       "    <div class='frame_dimensions'>3 rows &times; 4 columns</div>\n",
       "  </div>\n",
       "</div>\n"
      ],
      "text/plain": [
       "<Frame#26b0eda5180 3x4>"
      ]
     },
     "execution_count": 23,
     "metadata": {},
     "output_type": "execute_result"
    }
   ],
   "source": [
    "#col type\n",
    "data = ('a,b,c,d\\n'\n",
    "        '1,2,3,4\\n'\n",
    "        '5,6,7,8\\n'\n",
    "        '9,10,11,12')\n",
    "\n",
    "# this is useful when you are interested in only a subset of the columns\n",
    "fread(data, columns={\"a\":dt.float32, \"b\":dt.str32})"
   ]
  },
  {
   "cell_type": "code",
   "execution_count": 24,
   "id": "6f7e662f",
   "metadata": {},
   "outputs": [
    {
     "data": {
      "text/html": [
       "<div class='datatable'>\n",
       "  <table class='frame'>\n",
       "  <thead>\n",
       "    <tr class='colnames'><td class='row_index'></td><th>a</th><th>b</th><th>d</th></tr>\n",
       "    <tr class='coltypes'><td class='row_index'></td><td class='int' title='int32'>&#x25AA;&#x25AA;&#x25AA;&#x25AA;</td><td class='str' title='str32'>&#x25AA;&#x25AA;&#x25AA;&#x25AA;</td><td class='float' title='float64'>&#x25AA;&#x25AA;&#x25AA;&#x25AA;&#x25AA;&#x25AA;&#x25AA;&#x25AA;</td></tr>\n",
       "  </thead>\n",
       "  <tbody>\n",
       "    <tr><td class='row_index'>0</td><td>1</td><td>2</td><td>4</td></tr>\n",
       "    <tr><td class='row_index'>1</td><td>5</td><td>6</td><td>8</td></tr>\n",
       "    <tr><td class='row_index'>2</td><td>9</td><td>10</td><td>12</td></tr>\n",
       "  </tbody>\n",
       "  </table>\n",
       "  <div class='footer'>\n",
       "    <div class='frame_dimensions'>3 rows &times; 3 columns</div>\n",
       "  </div>\n",
       "</div>\n"
      ],
      "text/plain": [
       "<Frame#26b0ee3fc00 3x3>"
      ]
     },
     "execution_count": 24,
     "metadata": {},
     "output_type": "execute_result"
    }
   ],
   "source": [
    "#position\n",
    "fread(data, columns = [dt.int32, dt.str32, None, dt.float32])"
   ]
  },
  {
   "cell_type": "code",
   "execution_count": 25,
   "id": "df9db648",
   "metadata": {},
   "outputs": [
    {
     "data": {
      "text/html": [
       "<div class='datatable'>\n",
       "  <table class='frame'>\n",
       "  <thead>\n",
       "    <tr class='colnames'><td class='row_index'></td><th>a</th><th>b</th><th>c</th><th>d</th></tr>\n",
       "    <tr class='coltypes'><td class='row_index'></td><td class='float' title='float64'>&#x25AA;&#x25AA;&#x25AA;&#x25AA;&#x25AA;&#x25AA;&#x25AA;&#x25AA;</td><td class='float' title='float64'>&#x25AA;&#x25AA;&#x25AA;&#x25AA;&#x25AA;&#x25AA;&#x25AA;&#x25AA;</td><td class='float' title='float64'>&#x25AA;&#x25AA;&#x25AA;&#x25AA;&#x25AA;&#x25AA;&#x25AA;&#x25AA;</td><td class='float' title='float64'>&#x25AA;&#x25AA;&#x25AA;&#x25AA;&#x25AA;&#x25AA;&#x25AA;&#x25AA;</td></tr>\n",
       "  </thead>\n",
       "  <tbody>\n",
       "    <tr><td class='row_index'>0</td><td>1</td><td>2</td><td>3</td><td>4</td></tr>\n",
       "    <tr><td class='row_index'>1</td><td>5</td><td>6</td><td>7</td><td>8</td></tr>\n",
       "    <tr><td class='row_index'>2</td><td>9</td><td>10</td><td>11</td><td>12</td></tr>\n",
       "  </tbody>\n",
       "  </table>\n",
       "  <div class='footer'>\n",
       "    <div class='frame_dimensions'>3 rows &times; 4 columns</div>\n",
       "  </div>\n",
       "</div>\n"
      ],
      "text/plain": [
       "<Frame#26b0ed720f0 3x4>"
      ]
     },
     "execution_count": 25,
     "metadata": {},
     "output_type": "execute_result"
    }
   ],
   "source": [
    "#all\n",
    "fread(data, columns = dt.float32)"
   ]
  },
  {
   "cell_type": "code",
   "execution_count": 26,
   "id": "0d280986",
   "metadata": {},
   "outputs": [
    {
     "data": {
      "text/html": [
       "<div class='datatable'>\n",
       "  <table class='frame'>\n",
       "  <thead>\n",
       "    <tr class='colnames'><td class='row_index'></td><th>a</th><th>b</th><th>c</th><th>d</th></tr>\n",
       "    <tr class='coltypes'><td class='row_index'></td><td class='float' title='float64'>&#x25AA;&#x25AA;&#x25AA;&#x25AA;&#x25AA;&#x25AA;&#x25AA;&#x25AA;</td><td class='float' title='float64'>&#x25AA;&#x25AA;&#x25AA;&#x25AA;&#x25AA;&#x25AA;&#x25AA;&#x25AA;</td><td class='float' title='float64'>&#x25AA;&#x25AA;&#x25AA;&#x25AA;&#x25AA;&#x25AA;&#x25AA;&#x25AA;</td><td class='int' title='int32'>&#x25AA;&#x25AA;&#x25AA;&#x25AA;</td></tr>\n",
       "  </thead>\n",
       "  <tbody>\n",
       "    <tr><td class='row_index'>0</td><td>1</td><td>2</td><td>3</td><td>4</td></tr>\n",
       "    <tr><td class='row_index'>1</td><td>5</td><td>6</td><td>7</td><td>8</td></tr>\n",
       "    <tr><td class='row_index'>2</td><td>9</td><td>10</td><td>11</td><td>12</td></tr>\n",
       "  </tbody>\n",
       "  </table>\n",
       "  <div class='footer'>\n",
       "    <div class='frame_dimensions'>3 rows &times; 4 columns</div>\n",
       "  </div>\n",
       "</div>\n"
      ],
      "text/plain": [
       "<Frame#26b0eda5b10 3x4>"
      ]
     },
     "execution_count": 26,
     "metadata": {},
     "output_type": "execute_result"
    }
   ],
   "source": [
    "# this changes the data type to float for the first three columns\n",
    "fread(data, columns={float:slice(3)})"
   ]
  },
  {
   "cell_type": "markdown",
   "id": "d882856f",
   "metadata": {},
   "source": [
    "## Selecting Cols\n"
   ]
  },
  {
   "cell_type": "code",
   "execution_count": 28,
   "id": "447dda18",
   "metadata": {},
   "outputs": [
    {
     "data": {
      "text/html": [
       "<div class='datatable'>\n",
       "  <table class='frame'>\n",
       "  <thead>\n",
       "    <tr class='colnames'><td class='row_index'></td><th>a</th></tr>\n",
       "    <tr class='coltypes'><td class='row_index'></td><td class='int' title='int32'>&#x25AA;&#x25AA;&#x25AA;&#x25AA;</td></tr>\n",
       "  </thead>\n",
       "  <tbody>\n",
       "    <tr><td class='row_index'>0</td><td>1</td></tr>\n",
       "    <tr><td class='row_index'>1</td><td>5</td></tr>\n",
       "    <tr><td class='row_index'>2</td><td>9</td></tr>\n",
       "  </tbody>\n",
       "  </table>\n",
       "  <div class='footer'>\n",
       "    <div class='frame_dimensions'>3 rows &times; 1 column</div>\n",
       "  </div>\n",
       "</div>\n"
      ],
      "text/plain": [
       "<Frame#26b0ee380c0 3x1>"
      ]
     },
     "execution_count": 28,
     "metadata": {},
     "output_type": "execute_result"
    }
   ],
   "source": [
    "#dictionary\n",
    "data = ('a,b,c,d\\n'\n",
    "        '1,2,3,4\\n'\n",
    "        '5,6,7,8\\n'\n",
    "        '9,10,11,12')\n",
    "\n",
    "# pass ``Ellipsis : None`` or ``... : None``,\n",
    "# to discard any columns that are not needed\n",
    "fread(data, columns={\"a\":\"a\", ... : None})\n",
    "#Selecting via a dictionary makes more sense when selecting and renaming columns at the same time."
   ]
  },
  {
   "cell_type": "code",
   "execution_count": 29,
   "id": "6589ffb7",
   "metadata": {},
   "outputs": [
    {
     "data": {
      "text/html": [
       "<div class='datatable'>\n",
       "  <table class='frame'>\n",
       "  <thead>\n",
       "    <tr class='colnames'><td class='row_index'></td><th>a</th><th>b</th></tr>\n",
       "    <tr class='coltypes'><td class='row_index'></td><td class='int' title='int32'>&#x25AA;&#x25AA;&#x25AA;&#x25AA;</td><td class='int' title='int32'>&#x25AA;&#x25AA;&#x25AA;&#x25AA;</td></tr>\n",
       "  </thead>\n",
       "  <tbody>\n",
       "    <tr><td class='row_index'>0</td><td>1</td><td>2</td></tr>\n",
       "    <tr><td class='row_index'>1</td><td>5</td><td>6</td></tr>\n",
       "    <tr><td class='row_index'>2</td><td>9</td><td>10</td></tr>\n",
       "  </tbody>\n",
       "  </table>\n",
       "  <div class='footer'>\n",
       "    <div class='frame_dimensions'>3 rows &times; 2 columns</div>\n",
       "  </div>\n",
       "</div>\n"
      ],
      "text/plain": [
       "<Frame#26b0ee3fb40 3x2>"
      ]
     },
     "execution_count": 29,
     "metadata": {},
     "output_type": "execute_result"
    }
   ],
   "source": [
    "#set\n",
    "fread(data, columns={\"a\",\"b\"})"
   ]
  },
  {
   "cell_type": "code",
   "execution_count": 30,
   "id": "73853995",
   "metadata": {},
   "outputs": [
    {
     "data": {
      "text/html": [
       "<div class='datatable'>\n",
       "  <table class='frame'>\n",
       "  <thead>\n",
       "    <tr class='colnames'><td class='row_index'></td><th>b</th><th>c</th></tr>\n",
       "    <tr class='coltypes'><td class='row_index'></td><td class='int' title='int32'>&#x25AA;&#x25AA;&#x25AA;&#x25AA;</td><td class='int' title='int32'>&#x25AA;&#x25AA;&#x25AA;&#x25AA;</td></tr>\n",
       "  </thead>\n",
       "  <tbody>\n",
       "    <tr><td class='row_index'>0</td><td>2</td><td>3</td></tr>\n",
       "    <tr><td class='row_index'>1</td><td>6</td><td>7</td></tr>\n",
       "    <tr><td class='row_index'>2</td><td>10</td><td>11</td></tr>\n",
       "  </tbody>\n",
       "  </table>\n",
       "  <div class='footer'>\n",
       "    <div class='frame_dimensions'>3 rows &times; 2 columns</div>\n",
       "  </div>\n",
       "</div>\n"
      ],
      "text/plain": [
       "<Frame#26b0eda52d0 3x2>"
      ]
     },
     "execution_count": 30,
     "metadata": {},
     "output_type": "execute_result"
    }
   ],
   "source": [
    "#slice\n",
    "# select the second and third column\n",
    "fread(data, columns=slice(1,3))"
   ]
  },
  {
   "cell_type": "code",
   "execution_count": 31,
   "id": "ce5256d9",
   "metadata": {},
   "outputs": [
    {
     "data": {
      "text/html": [
       "<div class='datatable'>\n",
       "  <table class='frame'>\n",
       "  <thead>\n",
       "    <tr class='colnames'><td class='row_index'></td><th>a</th><th>c</th></tr>\n",
       "    <tr class='coltypes'><td class='row_index'></td><td class='int' title='int32'>&#x25AA;&#x25AA;&#x25AA;&#x25AA;</td><td class='int' title='int32'>&#x25AA;&#x25AA;&#x25AA;&#x25AA;</td></tr>\n",
       "  </thead>\n",
       "  <tbody>\n",
       "    <tr><td class='row_index'>0</td><td>1</td><td>3</td></tr>\n",
       "    <tr><td class='row_index'>1</td><td>5</td><td>7</td></tr>\n",
       "    <tr><td class='row_index'>2</td><td>9</td><td>11</td></tr>\n",
       "  </tbody>\n",
       "  </table>\n",
       "  <div class='footer'>\n",
       "    <div class='frame_dimensions'>3 rows &times; 2 columns</div>\n",
       "  </div>\n",
       "</div>\n"
      ],
      "text/plain": [
       "<Frame#26b0eda5fc0 3x2>"
      ]
     },
     "execution_count": 31,
     "metadata": {},
     "output_type": "execute_result"
    }
   ],
   "source": [
    "# select the first column\n",
    "# jump two hoops and\n",
    "# select the third column\n",
    "fread(data, columns = slice(None,3,2))"
   ]
  },
  {
   "cell_type": "code",
   "execution_count": 32,
   "id": "a219da86",
   "metadata": {},
   "outputs": [
    {
     "data": {
      "text/html": [
       "<div class='datatable'>\n",
       "  <table class='frame'>\n",
       "  <thead>\n",
       "    <tr class='colnames'><td class='row_index'></td><th>b</th><th>c</th></tr>\n",
       "    <tr class='coltypes'><td class='row_index'></td><td class='int' title='int32'>&#x25AA;&#x25AA;&#x25AA;&#x25AA;</td><td class='int' title='int32'>&#x25AA;&#x25AA;&#x25AA;&#x25AA;</td></tr>\n",
       "  </thead>\n",
       "  <tbody>\n",
       "    <tr><td class='row_index'>0</td><td>2</td><td>3</td></tr>\n",
       "    <tr><td class='row_index'>1</td><td>6</td><td>7</td></tr>\n",
       "    <tr><td class='row_index'>2</td><td>10</td><td>11</td></tr>\n",
       "  </tbody>\n",
       "  </table>\n",
       "  <div class='footer'>\n",
       "    <div class='frame_dimensions'>3 rows &times; 2 columns</div>\n",
       "  </div>\n",
       "</div>\n"
      ],
      "text/plain": [
       "<Frame#26b0eda5c60 3x2>"
      ]
     },
     "execution_count": 32,
     "metadata": {},
     "output_type": "execute_result"
    }
   ],
   "source": [
    "fread(data, columns = range(1,3))"
   ]
  },
  {
   "cell_type": "code",
   "execution_count": 33,
   "id": "f6da42ff",
   "metadata": {},
   "outputs": [
    {
     "data": {
      "text/html": [
       "<div class='datatable'>\n",
       "  <table class='frame'>\n",
       "  <thead>\n",
       "    <tr class='colnames'><td class='row_index'></td><th>c</th><th>d</th></tr>\n",
       "    <tr class='coltypes'><td class='row_index'></td><td class='int' title='int32'>&#x25AA;&#x25AA;&#x25AA;&#x25AA;</td><td class='int' title='int32'>&#x25AA;&#x25AA;&#x25AA;&#x25AA;</td></tr>\n",
       "  </thead>\n",
       "  <tbody>\n",
       "    <tr><td class='row_index'>0</td><td>3</td><td>4</td></tr>\n",
       "    <tr><td class='row_index'>1</td><td>7</td><td>8</td></tr>\n",
       "    <tr><td class='row_index'>2</td><td>11</td><td>12</td></tr>\n",
       "  </tbody>\n",
       "  </table>\n",
       "  <div class='footer'>\n",
       "    <div class='frame_dimensions'>3 rows &times; 2 columns</div>\n",
       "  </div>\n",
       "</div>\n"
      ],
      "text/plain": [
       "<Frame#26b0eda5ea0 3x2>"
      ]
     },
     "execution_count": 33,
     "metadata": {},
     "output_type": "execute_result"
    }
   ],
   "source": [
    "fread(data, columns=[False, False, True, True])"
   ]
  },
  {
   "cell_type": "code",
   "execution_count": 34,
   "id": "392c196c",
   "metadata": {},
   "outputs": [
    {
     "data": {
      "text/html": [
       "<div class='datatable'>\n",
       "  <table class='frame'>\n",
       "  <thead>\n",
       "    <tr class='colnames'><td class='row_index'></td><th>a</th><th>c</th></tr>\n",
       "    <tr class='coltypes'><td class='row_index'></td><td class='int' title='int32'>&#x25AA;&#x25AA;&#x25AA;&#x25AA;</td><td class='int' title='int32'>&#x25AA;&#x25AA;&#x25AA;&#x25AA;</td></tr>\n",
       "  </thead>\n",
       "  <tbody>\n",
       "    <tr><td class='row_index'>0</td><td>1</td><td>3</td></tr>\n",
       "    <tr><td class='row_index'>1</td><td>5</td><td>7</td></tr>\n",
       "    <tr><td class='row_index'>2</td><td>9</td><td>11</td></tr>\n",
       "  </tbody>\n",
       "  </table>\n",
       "  <div class='footer'>\n",
       "    <div class='frame_dimensions'>3 rows &times; 2 columns</div>\n",
       "  </div>\n",
       "</div>\n"
      ],
      "text/plain": [
       "<Frame#26b0ecfd450 3x2>"
      ]
     },
     "execution_count": 34,
     "metadata": {},
     "output_type": "execute_result"
    }
   ],
   "source": [
    "fread(data, columns=lambda cols:[col.name in (\"a\",\"c\") for col in cols])"
   ]
  },
  {
   "cell_type": "code",
   "execution_count": 35,
   "id": "3023c49b",
   "metadata": {},
   "outputs": [
    {
     "data": {
      "text/html": [
       "<div class='datatable'>\n",
       "  <table class='frame'>\n",
       "  <thead>\n",
       "    <tr class='colnames'><td class='row_index'></td><th>a</th><th>d</th></tr>\n",
       "    <tr class='coltypes'><td class='row_index'></td><td class='int' title='int32'>&#x25AA;&#x25AA;&#x25AA;&#x25AA;</td><td class='int' title='int32'>&#x25AA;&#x25AA;&#x25AA;&#x25AA;</td></tr>\n",
       "  </thead>\n",
       "  <tbody>\n",
       "    <tr><td class='row_index'>0</td><td>1</td><td>4</td></tr>\n",
       "    <tr><td class='row_index'>1</td><td>5</td><td>8</td></tr>\n",
       "    <tr><td class='row_index'>2</td><td>9</td><td>12</td></tr>\n",
       "  </tbody>\n",
       "  </table>\n",
       "  <div class='footer'>\n",
       "    <div class='frame_dimensions'>3 rows &times; 2 columns</div>\n",
       "  </div>\n",
       "</div>\n"
      ],
      "text/plain": [
       "<Frame#26b0ed46ab0 3x2>"
      ]
     },
     "execution_count": 35,
     "metadata": {},
     "output_type": "execute_result"
    }
   ],
   "source": [
    "#Exclude columns with None:\n",
    "\n",
    "fread(data, columns = ['a',None,None,'d'])"
   ]
  },
  {
   "cell_type": "code",
   "execution_count": 36,
   "id": "44c2c8e6",
   "metadata": {},
   "outputs": [
    {
     "data": {
      "text/html": [
       "<div class='datatable'>\n",
       "  <table class='frame'>\n",
       "  <thead>\n",
       "    <tr class='colnames'><td class='row_index'></td><th>A</th><th>C</th></tr>\n",
       "    <tr class='coltypes'><td class='row_index'></td><td class='int' title='int32'>&#x25AA;&#x25AA;&#x25AA;&#x25AA;</td><td class='int' title='int32'>&#x25AA;&#x25AA;&#x25AA;&#x25AA;</td></tr>\n",
       "  </thead>\n",
       "  <tbody>\n",
       "    <tr><td class='row_index'>0</td><td>1</td><td>5</td></tr>\n",
       "    <tr><td class='row_index'>1</td><td>2</td><td>6</td></tr>\n",
       "  </tbody>\n",
       "  </table>\n",
       "  <div class='footer'>\n",
       "    <div class='frame_dimensions'>2 rows &times; 2 columns</div>\n",
       "  </div>\n",
       "</div>\n"
      ],
      "text/plain": [
       "<Frame#26b0ee3f3f0 2x2>"
      ]
     },
     "execution_count": 36,
     "metadata": {},
     "output_type": "execute_result"
    }
   ],
   "source": [
    "data = (\"A,B,C,D\\n\"\n",
    "        \"1,3,5,7\\n\"\n",
    "        \"2,4,6,8\\n\")\n",
    "\n",
    "fread(data, columns={\"B\":None,\"D\":None})"
   ]
  },
  {
   "cell_type": "code",
   "execution_count": 37,
   "id": "8989a99b",
   "metadata": {},
   "outputs": [
    {
     "data": {
      "text/html": [
       "<div class='datatable'>\n",
       "  <table class='frame'>\n",
       "  <thead>\n",
       "    <tr class='colnames'><td class='row_index'></td><th>A</th><th>C</th><th>D</th></tr>\n",
       "    <tr class='coltypes'><td class='row_index'></td><td class='int' title='int32'>&#x25AA;&#x25AA;&#x25AA;&#x25AA;</td><td class='str' title='str32'>&#x25AA;&#x25AA;&#x25AA;&#x25AA;</td><td class='int' title='int32'>&#x25AA;&#x25AA;&#x25AA;&#x25AA;</td></tr>\n",
       "  </thead>\n",
       "  <tbody>\n",
       "    <tr><td class='row_index'>0</td><td>1</td><td>5</td><td>7</td></tr>\n",
       "    <tr><td class='row_index'>1</td><td>2</td><td>6</td><td>8</td></tr>\n",
       "  </tbody>\n",
       "  </table>\n",
       "  <div class='footer'>\n",
       "    <div class='frame_dimensions'>2 rows &times; 3 columns</div>\n",
       "  </div>\n",
       "</div>\n"
      ],
      "text/plain": [
       "<Frame#26b0eda5f00 2x3>"
      ]
     },
     "execution_count": 37,
     "metadata": {},
     "output_type": "execute_result"
    }
   ],
   "source": [
    "#Drop a column and change data type:\n",
    "\n",
    "fread(data, columns={\"B\":None, \"C\":str})"
   ]
  },
  {
   "cell_type": "code",
   "execution_count": 38,
   "id": "ffbf2143",
   "metadata": {},
   "outputs": [
    {
     "data": {
      "text/html": [
       "<div class='datatable'>\n",
       "  <table class='frame'>\n",
       "  <thead>\n",
       "    <tr class='colnames'><td class='row_index'></td><th>first</th><th>C</th></tr>\n",
       "    <tr class='coltypes'><td class='row_index'></td><td class='float' title='float64'>&#x25AA;&#x25AA;&#x25AA;&#x25AA;&#x25AA;&#x25AA;&#x25AA;&#x25AA;</td><td class='int' title='int32'>&#x25AA;&#x25AA;&#x25AA;&#x25AA;</td></tr>\n",
       "  </thead>\n",
       "  <tbody>\n",
       "    <tr><td class='row_index'>0</td><td>1</td><td>5</td></tr>\n",
       "    <tr><td class='row_index'>1</td><td>2</td><td>6</td></tr>\n",
       "  </tbody>\n",
       "  </table>\n",
       "  <div class='footer'>\n",
       "    <div class='frame_dimensions'>2 rows &times; 2 columns</div>\n",
       "  </div>\n",
       "</div>\n"
      ],
      "text/plain": [
       "<Frame#26b0eda5840 2x2>"
      ]
     },
     "execution_count": 38,
     "metadata": {},
     "output_type": "execute_result"
    }
   ],
   "source": [
    "#Change column name and type, and drop a column:\n",
    "# pass a tuple, where the first item in the tuple is the new column name,\n",
    "# and the other item is the new data type.\n",
    "fread(data, columns={\"A\":(\"first\", float), \"B\":None,\"D\":None})"
   ]
  },
  {
   "cell_type": "markdown",
   "id": "f934ffcc",
   "metadata": {},
   "source": [
    "## Selecting Data\n",
    "Column selection is via the j section in the DT[i, j, ...] syntax. First, let’s construct a simple Frame:"
   ]
  },
  {
   "cell_type": "code",
   "execution_count": 39,
   "id": "35ec5ab2",
   "metadata": {},
   "outputs": [
    {
     "data": {
      "text/html": [
       "<div class='datatable'>\n",
       "  <table class='frame'>\n",
       "  <thead>\n",
       "    <tr class='colnames'><td class='row_index'></td><th>dates</th><th>integers</th><th>floats</th><th>strings</th></tr>\n",
       "    <tr class='coltypes'><td class='row_index'></td><td class='time' title='date32'>&#x25AA;&#x25AA;&#x25AA;&#x25AA;</td><td class='int' title='int32'>&#x25AA;&#x25AA;&#x25AA;&#x25AA;</td><td class='float' title='float64'>&#x25AA;&#x25AA;&#x25AA;&#x25AA;&#x25AA;&#x25AA;&#x25AA;&#x25AA;</td><td class='str' title='str32'>&#x25AA;&#x25AA;&#x25AA;&#x25AA;</td></tr>\n",
       "  </thead>\n",
       "  <tbody>\n",
       "    <tr><td class='row_index'>0</td><td>2000-01-05</td><td>1</td><td>10</td><td>A</td></tr>\n",
       "    <tr><td class='row_index'>1</td><td>2010-11-23</td><td>2</td><td>11.5</td><td>B</td></tr>\n",
       "    <tr><td class='row_index'>2</td><td>2020-02-29</td><td>3</td><td>12.3</td><td><span class=na>NA</span></td></tr>\n",
       "    <tr><td class='row_index'>3</td><td><span class=na>NA</span></td><td>4</td><td>&minus;13</td><td>D</td></tr>\n",
       "  </tbody>\n",
       "  </table>\n",
       "  <div class='footer'>\n",
       "    <div class='frame_dimensions'>4 rows &times; 4 columns</div>\n",
       "  </div>\n",
       "</div>\n"
      ],
      "text/plain": [
       "<Frame#26b0ee58480 4x4>"
      ]
     },
     "execution_count": 39,
     "metadata": {},
     "output_type": "execute_result"
    }
   ],
   "source": [
    "from datatable import dt, f\n",
    "from datetime import date\n",
    "\n",
    "source = {\"dates\" : [date(2000, 1, 5), date(2010, 11, 23), date(2020, 2, 29), None],\n",
    "          \"integers\" : range(1, 5),\n",
    "          \"floats\" : [10.0, 11.5, 12.3, -13],\n",
    "          \"strings\" : ['A', 'B', None, 'D']\n",
    "          }\n",
    "DT = dt.Frame(source)\n",
    "DT"
   ]
  },
  {
   "cell_type": "code",
   "execution_count": 40,
   "id": "6b9bdffd",
   "metadata": {},
   "outputs": [
    {
     "data": {
      "text/html": [
       "<div class='datatable'>\n",
       "  <table class='frame'>\n",
       "  <thead>\n",
       "    <tr class='colnames'><td class='row_index'></td><th>dates</th></tr>\n",
       "    <tr class='coltypes'><td class='row_index'></td><td class='time' title='date32'>&#x25AA;&#x25AA;&#x25AA;&#x25AA;</td></tr>\n",
       "  </thead>\n",
       "  <tbody>\n",
       "    <tr><td class='row_index'>0</td><td>2000-01-05</td></tr>\n",
       "    <tr><td class='row_index'>1</td><td>2010-11-23</td></tr>\n",
       "    <tr><td class='row_index'>2</td><td>2020-02-29</td></tr>\n",
       "    <tr><td class='row_index'>3</td><td><span class=na>NA</span></td></tr>\n",
       "  </tbody>\n",
       "  </table>\n",
       "  <div class='footer'>\n",
       "    <div class='frame_dimensions'>4 rows &times; 1 column</div>\n",
       "  </div>\n",
       "</div>\n"
      ],
      "text/plain": [
       "<Frame#26b0ee58ab0 4x1>"
      ]
     },
     "execution_count": 40,
     "metadata": {},
     "output_type": "execute_result"
    }
   ],
   "source": [
    "#by col name\n",
    "DT[:, 'dates']\n",
    "#When selecting all rows, the i section can also be ...."
   ]
  },
  {
   "cell_type": "code",
   "execution_count": 41,
   "id": "30255399",
   "metadata": {},
   "outputs": [
    {
     "data": {
      "text/html": [
       "<div class='datatable'>\n",
       "  <table class='frame'>\n",
       "  <thead>\n",
       "    <tr class='colnames'><td class='row_index'></td><th>floats</th></tr>\n",
       "    <tr class='coltypes'><td class='row_index'></td><td class='float' title='float64'>&#x25AA;&#x25AA;&#x25AA;&#x25AA;&#x25AA;&#x25AA;&#x25AA;&#x25AA;</td></tr>\n",
       "  </thead>\n",
       "  <tbody>\n",
       "    <tr><td class='row_index'>0</td><td>10</td></tr>\n",
       "    <tr><td class='row_index'>1</td><td>11.5</td></tr>\n",
       "    <tr><td class='row_index'>2</td><td>12.3</td></tr>\n",
       "    <tr><td class='row_index'>3</td><td>&minus;13</td></tr>\n",
       "  </tbody>\n",
       "  </table>\n",
       "  <div class='footer'>\n",
       "    <div class='frame_dimensions'>4 rows &times; 1 column</div>\n",
       "  </div>\n",
       "</div>\n"
      ],
      "text/plain": [
       "<Frame#26b0ee580c0 4x1>"
      ]
     },
     "execution_count": 41,
     "metadata": {},
     "output_type": "execute_result"
    }
   ],
   "source": [
    "#position\n",
    "DT[..., 2]  # 3rd column"
   ]
  },
  {
   "cell_type": "code",
   "execution_count": 42,
   "id": "eac00d74",
   "metadata": {},
   "outputs": [
    {
     "data": {
      "text/html": [
       "<div class='datatable'>\n",
       "  <table class='frame'>\n",
       "  <thead>\n",
       "    <tr class='colnames'><td class='row_index'></td><th>floats</th></tr>\n",
       "    <tr class='coltypes'><td class='row_index'></td><td class='float' title='float64'>&#x25AA;&#x25AA;&#x25AA;&#x25AA;&#x25AA;&#x25AA;&#x25AA;&#x25AA;</td></tr>\n",
       "  </thead>\n",
       "  <tbody>\n",
       "    <tr><td class='row_index'>0</td><td>10</td></tr>\n",
       "    <tr><td class='row_index'>1</td><td>11.5</td></tr>\n",
       "    <tr><td class='row_index'>2</td><td>12.3</td></tr>\n",
       "    <tr><td class='row_index'>3</td><td>&minus;13</td></tr>\n",
       "  </tbody>\n",
       "  </table>\n",
       "  <div class='footer'>\n",
       "    <div class='frame_dimensions'>4 rows &times; 1 column</div>\n",
       "  </div>\n",
       "</div>\n"
      ],
      "text/plain": [
       "<Frame#26b0ee58240 4x1>"
      ]
     },
     "execution_count": 42,
     "metadata": {},
     "output_type": "execute_result"
    }
   ],
   "source": [
    "DT[:, -2]"
   ]
  },
  {
   "cell_type": "code",
   "execution_count": 43,
   "id": "08e5262b",
   "metadata": {},
   "outputs": [
    {
     "data": {
      "text/html": [
       "<div class='datatable'>\n",
       "  <table class='frame'>\n",
       "  <thead>\n",
       "    <tr class='colnames'><td class='row_index'></td><th>dates</th></tr>\n",
       "    <tr class='coltypes'><td class='row_index'></td><td class='time' title='date32'>&#x25AA;&#x25AA;&#x25AA;&#x25AA;</td></tr>\n",
       "  </thead>\n",
       "  <tbody>\n",
       "    <tr><td class='row_index'>0</td><td>2000-01-05</td></tr>\n",
       "    <tr><td class='row_index'>1</td><td>2010-11-23</td></tr>\n",
       "    <tr><td class='row_index'>2</td><td>2020-02-29</td></tr>\n",
       "    <tr><td class='row_index'>3</td><td><span class=na>NA</span></td></tr>\n",
       "  </tbody>\n",
       "  </table>\n",
       "  <div class='footer'>\n",
       "    <div class='frame_dimensions'>4 rows &times; 1 column</div>\n",
       "  </div>\n",
       "</div>\n"
      ],
      "text/plain": [
       "<Frame#26b0ee58780 4x1>"
      ]
     },
     "execution_count": 43,
     "metadata": {},
     "output_type": "execute_result"
    }
   ],
   "source": [
    "#For a single column, it is possible to skip the : in the i section and pass the column name or position only\n",
    "\n",
    "DT['dates']"
   ]
  },
  {
   "cell_type": "code",
   "execution_count": 44,
   "id": "fe162496",
   "metadata": {},
   "outputs": [
    {
     "data": {
      "text/html": [
       "<div class='datatable'>\n",
       "  <table class='frame'>\n",
       "  <thead>\n",
       "    <tr class='colnames'><td class='row_index'></td><th>dates</th></tr>\n",
       "    <tr class='coltypes'><td class='row_index'></td><td class='time' title='date32'>&#x25AA;&#x25AA;&#x25AA;&#x25AA;</td></tr>\n",
       "  </thead>\n",
       "  <tbody>\n",
       "    <tr><td class='row_index'>0</td><td>2000-01-05</td></tr>\n",
       "    <tr><td class='row_index'>1</td><td>2010-11-23</td></tr>\n",
       "    <tr><td class='row_index'>2</td><td>2020-02-29</td></tr>\n",
       "    <tr><td class='row_index'>3</td><td><span class=na>NA</span></td></tr>\n",
       "  </tbody>\n",
       "  </table>\n",
       "  <div class='footer'>\n",
       "    <div class='frame_dimensions'>4 rows &times; 1 column</div>\n",
       "  </div>\n",
       "</div>\n"
      ],
      "text/plain": [
       "<Frame#26b0ee585d0 4x1>"
      ]
     },
     "execution_count": 44,
     "metadata": {},
     "output_type": "execute_result"
    }
   ],
   "source": [
    "DT[0]"
   ]
  },
  {
   "cell_type": "code",
   "execution_count": 45,
   "id": "6668871c",
   "metadata": {},
   "outputs": [
    {
     "ename": "ValueError",
     "evalue": "Column index 5 is invalid for a Frame with 4 columns",
     "output_type": "error",
     "traceback": [
      "\u001b[1;31m---------------------------------------------------------------------------\u001b[0m",
      "\u001b[1;31mValueError\u001b[0m                                Traceback (most recent call last)",
      "\u001b[1;32m~\\AppData\\Local\\Temp\\ipykernel_12740\\4038288280.py\u001b[0m in \u001b[0;36m<cell line: 3>\u001b[1;34m()\u001b[0m\n\u001b[0;32m      1\u001b[0m \u001b[1;31m#When selecting via column name or position, an error is returned if the name or position does not exist:\u001b[0m\u001b[1;33m\u001b[0m\u001b[1;33m\u001b[0m\u001b[0m\n\u001b[0;32m      2\u001b[0m \u001b[1;33m\u001b[0m\u001b[0m\n\u001b[1;32m----> 3\u001b[1;33m \u001b[0mDT\u001b[0m\u001b[1;33m[\u001b[0m\u001b[1;33m:\u001b[0m\u001b[1;33m,\u001b[0m \u001b[1;36m5\u001b[0m\u001b[1;33m]\u001b[0m\u001b[1;33m\u001b[0m\u001b[1;33m\u001b[0m\u001b[0m\n\u001b[0m",
      "\u001b[1;31mValueError\u001b[0m: Column index 5 is invalid for a Frame with 4 columns"
     ]
    }
   ],
   "source": [
    "#When selecting via column name or position, an error is returned if the name or position does not exist:\n",
    "\n",
    "DT[:, 5]"
   ]
  },
  {
   "cell_type": "code",
   "execution_count": 47,
   "id": "4f65b54c",
   "metadata": {},
   "outputs": [
    {
     "data": {
      "text/html": [
       "<div class='datatable'>\n",
       "  <table class='frame'>\n",
       "  <thead>\n",
       "    <tr class='colnames'><td class='row_index'></td><th>integers</th></tr>\n",
       "    <tr class='coltypes'><td class='row_index'></td><td class='int' title='int32'>&#x25AA;&#x25AA;&#x25AA;&#x25AA;</td></tr>\n",
       "  </thead>\n",
       "  <tbody>\n",
       "    <tr><td class='row_index'>0</td><td>1</td></tr>\n",
       "    <tr><td class='row_index'>1</td><td>2</td></tr>\n",
       "    <tr><td class='row_index'>2</td><td>3</td></tr>\n",
       "    <tr><td class='row_index'>3</td><td>4</td></tr>\n",
       "  </tbody>\n",
       "  </table>\n",
       "  <div class='footer'>\n",
       "    <div class='frame_dimensions'>4 rows &times; 1 column</div>\n",
       "  </div>\n",
       "</div>\n"
      ],
      "text/plain": [
       "<Frame#26b0ee58060 4x1>"
      ]
     },
     "execution_count": 47,
     "metadata": {},
     "output_type": "execute_result"
    }
   ],
   "source": [
    "#By data type\n",
    "#Column selection is possible by using python’s built-in types that correspond to one of the datatable’s types:\n",
    "\n",
    "DT[:, int]"
   ]
  },
  {
   "cell_type": "code",
   "execution_count": 48,
   "id": "e23e2aad",
   "metadata": {},
   "outputs": [
    {
     "data": {
      "text/html": [
       "<div class='datatable'>\n",
       "  <table class='frame'>\n",
       "  <thead>\n",
       "    <tr class='colnames'><td class='row_index'></td><th>floats</th></tr>\n",
       "    <tr class='coltypes'><td class='row_index'></td><td class='float' title='float64'>&#x25AA;&#x25AA;&#x25AA;&#x25AA;&#x25AA;&#x25AA;&#x25AA;&#x25AA;</td></tr>\n",
       "  </thead>\n",
       "  <tbody>\n",
       "    <tr><td class='row_index'>0</td><td>10</td></tr>\n",
       "    <tr><td class='row_index'>1</td><td>11.5</td></tr>\n",
       "    <tr><td class='row_index'>2</td><td>12.3</td></tr>\n",
       "    <tr><td class='row_index'>3</td><td>&minus;13</td></tr>\n",
       "  </tbody>\n",
       "  </table>\n",
       "  <div class='footer'>\n",
       "    <div class='frame_dimensions'>4 rows &times; 1 column</div>\n",
       "  </div>\n",
       "</div>\n"
      ],
      "text/plain": [
       "<Frame#26b0ee58570 4x1>"
      ]
     },
     "execution_count": 48,
     "metadata": {},
     "output_type": "execute_result"
    }
   ],
   "source": [
    "DT[:, dt.Type.float64]"
   ]
  },
  {
   "cell_type": "code",
   "execution_count": 49,
   "id": "9d9ae46a",
   "metadata": {},
   "outputs": [
    {
     "data": {
      "text/html": [
       "<div class='datatable'>\n",
       "  <table class='frame'>\n",
       "  <thead>\n",
       "    <tr class='colnames'><td class='row_index'></td><th>dates</th></tr>\n",
       "    <tr class='coltypes'><td class='row_index'></td><td class='time' title='date32'>&#x25AA;&#x25AA;&#x25AA;&#x25AA;</td></tr>\n",
       "  </thead>\n",
       "  <tbody>\n",
       "    <tr><td class='row_index'>0</td><td>2000-01-05</td></tr>\n",
       "    <tr><td class='row_index'>1</td><td>2010-11-23</td></tr>\n",
       "    <tr><td class='row_index'>2</td><td>2020-02-29</td></tr>\n",
       "    <tr><td class='row_index'>3</td><td><span class=na>NA</span></td></tr>\n",
       "  </tbody>\n",
       "  </table>\n",
       "  <div class='footer'>\n",
       "    <div class='frame_dimensions'>4 rows &times; 1 column</div>\n",
       "  </div>\n",
       "</div>\n"
      ],
      "text/plain": [
       "<Frame#26b0ee582d0 4x1>"
      ]
     },
     "execution_count": 49,
     "metadata": {},
     "output_type": "execute_result"
    }
   ],
   "source": [
    "DT[:, dt.Type.date32]"
   ]
  },
  {
   "cell_type": "code",
   "execution_count": 50,
   "id": "f5168569",
   "metadata": {},
   "outputs": [
    {
     "data": {
      "text/html": [
       "<div class='datatable'>\n",
       "  <table class='frame'>\n",
       "  <thead>\n",
       "    <tr class='colnames'><td class='row_index'></td><th>dates</th><th>strings</th></tr>\n",
       "    <tr class='coltypes'><td class='row_index'></td><td class='time' title='date32'>&#x25AA;&#x25AA;&#x25AA;&#x25AA;</td><td class='str' title='str32'>&#x25AA;&#x25AA;&#x25AA;&#x25AA;</td></tr>\n",
       "  </thead>\n",
       "  <tbody>\n",
       "    <tr><td class='row_index'>0</td><td>2000-01-05</td><td>A</td></tr>\n",
       "    <tr><td class='row_index'>1</td><td>2010-11-23</td><td>B</td></tr>\n",
       "    <tr><td class='row_index'>2</td><td>2020-02-29</td><td><span class=na>NA</span></td></tr>\n",
       "    <tr><td class='row_index'>3</td><td><span class=na>NA</span></td><td>D</td></tr>\n",
       "  </tbody>\n",
       "  </table>\n",
       "  <div class='footer'>\n",
       "    <div class='frame_dimensions'>4 rows &times; 2 columns</div>\n",
       "  </div>\n",
       "</div>\n"
      ],
      "text/plain": [
       "<Frame#26b0ee58120 4x2>"
      ]
     },
     "execution_count": 50,
     "metadata": {},
     "output_type": "execute_result"
    }
   ],
   "source": [
    "DT[:, [date, str]]"
   ]
  },
  {
   "cell_type": "code",
   "execution_count": 51,
   "id": "27670e52",
   "metadata": {},
   "outputs": [
    {
     "data": {
      "text/html": [
       "<div class='datatable'>\n",
       "  <table class='frame'>\n",
       "  <thead>\n",
       "    <tr class='colnames'><td class='row_index'></td><th>integers</th><th>strings</th></tr>\n",
       "    <tr class='coltypes'><td class='row_index'></td><td class='int' title='int32'>&#x25AA;&#x25AA;&#x25AA;&#x25AA;</td><td class='str' title='str32'>&#x25AA;&#x25AA;&#x25AA;&#x25AA;</td></tr>\n",
       "  </thead>\n",
       "  <tbody>\n",
       "    <tr><td class='row_index'>0</td><td>1</td><td>A</td></tr>\n",
       "    <tr><td class='row_index'>1</td><td>2</td><td>B</td></tr>\n",
       "    <tr><td class='row_index'>2</td><td>3</td><td><span class=na>NA</span></td></tr>\n",
       "    <tr><td class='row_index'>3</td><td>4</td><td>D</td></tr>\n",
       "  </tbody>\n",
       "  </table>\n",
       "  <div class='footer'>\n",
       "    <div class='frame_dimensions'>4 rows &times; 2 columns</div>\n",
       "  </div>\n",
       "</div>\n"
      ],
      "text/plain": [
       "<Frame#26b0ee581e0 4x2>"
      ]
     },
     "execution_count": 51,
     "metadata": {},
     "output_type": "execute_result"
    }
   ],
   "source": [
    "#by List\n",
    "DT[:, ['integers', 'strings']]"
   ]
  },
  {
   "cell_type": "code",
   "execution_count": 52,
   "id": "0c69aa88",
   "metadata": {},
   "outputs": [
    {
     "data": {
      "text/html": [
       "<div class='datatable'>\n",
       "  <table class='frame'>\n",
       "  <thead>\n",
       "    <tr class='colnames'><td class='row_index'></td><th>integers</th><th>floats</th><th>strings</th></tr>\n",
       "    <tr class='coltypes'><td class='row_index'></td><td class='int' title='int32'>&#x25AA;&#x25AA;&#x25AA;&#x25AA;</td><td class='float' title='float64'>&#x25AA;&#x25AA;&#x25AA;&#x25AA;&#x25AA;&#x25AA;&#x25AA;&#x25AA;</td><td class='str' title='str32'>&#x25AA;&#x25AA;&#x25AA;&#x25AA;</td></tr>\n",
       "  </thead>\n",
       "  <tbody>\n",
       "    <tr><td class='row_index'>0</td><td>1</td><td>10</td><td>A</td></tr>\n",
       "    <tr><td class='row_index'>1</td><td>2</td><td>11.5</td><td>B</td></tr>\n",
       "    <tr><td class='row_index'>2</td><td>3</td><td>12.3</td><td><span class=na>NA</span></td></tr>\n",
       "    <tr><td class='row_index'>3</td><td>4</td><td>&minus;13</td><td>D</td></tr>\n",
       "  </tbody>\n",
       "  </table>\n",
       "  <div class='footer'>\n",
       "    <div class='frame_dimensions'>4 rows &times; 3 columns</div>\n",
       "  </div>\n",
       "</div>\n"
      ],
      "text/plain": [
       "<Frame#26b0ee58690 4x3>"
      ]
     },
     "execution_count": 52,
     "metadata": {},
     "output_type": "execute_result"
    }
   ],
   "source": [
    "#A tuple of selectors is also allowed, although not recommended from stylistic perspective:\n",
    "\n",
    "DT[:, (-3, 2, 3)]"
   ]
  },
  {
   "cell_type": "code",
   "execution_count": 53,
   "id": "521b9f9f",
   "metadata": {},
   "outputs": [
    {
     "data": {
      "text/html": [
       "<div class='datatable'>\n",
       "  <table class='frame'>\n",
       "  <thead>\n",
       "    <tr class='colnames'><td class='row_index'></td><th>dates</th><th>floats</th></tr>\n",
       "    <tr class='coltypes'><td class='row_index'></td><td class='time' title='date32'>&#x25AA;&#x25AA;&#x25AA;&#x25AA;</td><td class='float' title='float64'>&#x25AA;&#x25AA;&#x25AA;&#x25AA;&#x25AA;&#x25AA;&#x25AA;&#x25AA;</td></tr>\n",
       "  </thead>\n",
       "  <tbody>\n",
       "    <tr><td class='row_index'>0</td><td>2000-01-05</td><td>10</td></tr>\n",
       "    <tr><td class='row_index'>1</td><td>2010-11-23</td><td>11.5</td></tr>\n",
       "    <tr><td class='row_index'>2</td><td>2020-02-29</td><td>12.3</td></tr>\n",
       "    <tr><td class='row_index'>3</td><td><span class=na>NA</span></td><td>&minus;13</td></tr>\n",
       "  </tbody>\n",
       "  </table>\n",
       "  <div class='footer'>\n",
       "    <div class='frame_dimensions'>4 rows &times; 2 columns</div>\n",
       "  </div>\n",
       "</div>\n"
      ],
      "text/plain": [
       "<Frame#26b0ee58b10 4x2>"
      ]
     },
     "execution_count": 53,
     "metadata": {},
     "output_type": "execute_result"
    }
   ],
   "source": [
    "#\n",
    "DT[:, [num for num in range(DT.ncols) if num % 2 == 0]]"
   ]
  },
  {
   "cell_type": "code",
   "execution_count": 54,
   "id": "56375f63",
   "metadata": {},
   "outputs": [
    {
     "ename": "TypeError",
     "evalue": "Mixed selector types are not allowed. Element 1 is of type integer, whereas the previous element(s) were of type string",
     "output_type": "error",
     "traceback": [
      "\u001b[1;31m---------------------------------------------------------------------------\u001b[0m",
      "\u001b[1;31mTypeError\u001b[0m                                 Traceback (most recent call last)",
      "\u001b[1;32m~\\AppData\\Local\\Temp\\ipykernel_12740\\292785200.py\u001b[0m in \u001b[0;36m<cell line: 3>\u001b[1;34m()\u001b[0m\n\u001b[0;32m      1\u001b[0m \u001b[1;31m#Selecting columns via a mix of column names and positions (integers) is not allowed:\u001b[0m\u001b[1;33m\u001b[0m\u001b[1;33m\u001b[0m\u001b[0m\n\u001b[0;32m      2\u001b[0m \u001b[1;33m\u001b[0m\u001b[0m\n\u001b[1;32m----> 3\u001b[1;33m \u001b[0mDT\u001b[0m\u001b[1;33m[\u001b[0m\u001b[1;33m:\u001b[0m\u001b[1;33m,\u001b[0m \u001b[1;33m[\u001b[0m\u001b[1;34m'dates'\u001b[0m\u001b[1;33m,\u001b[0m \u001b[1;36m2\u001b[0m\u001b[1;33m]\u001b[0m\u001b[1;33m]\u001b[0m\u001b[1;33m\u001b[0m\u001b[1;33m\u001b[0m\u001b[0m\n\u001b[0m",
      "\u001b[1;31mTypeError\u001b[0m: Mixed selector types are not allowed. Element 1 is of type integer, whereas the previous element(s) were of type string"
     ]
    }
   ],
   "source": [
    "#Selecting columns via a mix of column names and positions (integers) is not allowed:\n",
    "\n",
    "DT[:, ['dates', 2]]"
   ]
  },
  {
   "cell_type": "code",
   "execution_count": 55,
   "id": "eef9d898",
   "metadata": {},
   "outputs": [
    {
     "data": {
      "text/html": [
       "<div class='datatable'>\n",
       "  <table class='frame'>\n",
       "  <thead>\n",
       "    <tr class='colnames'><td class='row_index'></td><th>dates</th><th>integers</th><th>floats</th><th>strings</th></tr>\n",
       "    <tr class='coltypes'><td class='row_index'></td><td class='time' title='date32'>&#x25AA;&#x25AA;&#x25AA;&#x25AA;</td><td class='int' title='int32'>&#x25AA;&#x25AA;&#x25AA;&#x25AA;</td><td class='float' title='float64'>&#x25AA;&#x25AA;&#x25AA;&#x25AA;&#x25AA;&#x25AA;&#x25AA;&#x25AA;</td><td class='str' title='str32'>&#x25AA;&#x25AA;&#x25AA;&#x25AA;</td></tr>\n",
       "  </thead>\n",
       "  <tbody>\n",
       "    <tr><td class='row_index'>0</td><td>2000-01-05</td><td>1</td><td>10</td><td>A</td></tr>\n",
       "    <tr><td class='row_index'>1</td><td>2010-11-23</td><td>2</td><td>11.5</td><td>B</td></tr>\n",
       "    <tr><td class='row_index'>2</td><td>2020-02-29</td><td>3</td><td>12.3</td><td><span class=na>NA</span></td></tr>\n",
       "    <tr><td class='row_index'>3</td><td><span class=na>NA</span></td><td>4</td><td>&minus;13</td><td>D</td></tr>\n",
       "  </tbody>\n",
       "  </table>\n",
       "  <div class='footer'>\n",
       "    <div class='frame_dimensions'>4 rows &times; 4 columns</div>\n",
       "  </div>\n",
       "</div>\n"
      ],
      "text/plain": [
       "<Frame#26b0ee58150 4x4>"
      ]
     },
     "execution_count": 55,
     "metadata": {},
     "output_type": "execute_result"
    }
   ],
   "source": [
    "#Via slicing When slicing with strings, both the start and end column names are included in the returned frame:\n",
    "DT[:, 'dates':'strings']"
   ]
  },
  {
   "cell_type": "code",
   "execution_count": 56,
   "id": "6814568d",
   "metadata": {},
   "outputs": [
    {
     "data": {
      "text/html": [
       "<div class='datatable'>\n",
       "  <table class='frame'>\n",
       "  <thead>\n",
       "    <tr class='colnames'><td class='row_index'></td><th>integers</th><th>floats</th></tr>\n",
       "    <tr class='coltypes'><td class='row_index'></td><td class='int' title='int32'>&#x25AA;&#x25AA;&#x25AA;&#x25AA;</td><td class='float' title='float64'>&#x25AA;&#x25AA;&#x25AA;&#x25AA;&#x25AA;&#x25AA;&#x25AA;&#x25AA;</td></tr>\n",
       "  </thead>\n",
       "  <tbody>\n",
       "    <tr><td class='row_index'>0</td><td>1</td><td>10</td></tr>\n",
       "    <tr><td class='row_index'>1</td><td>2</td><td>11.5</td></tr>\n",
       "    <tr><td class='row_index'>2</td><td>3</td><td>12.3</td></tr>\n",
       "    <tr><td class='row_index'>3</td><td>4</td><td>&minus;13</td></tr>\n",
       "  </tbody>\n",
       "  </table>\n",
       "  <div class='footer'>\n",
       "    <div class='frame_dimensions'>4 rows &times; 2 columns</div>\n",
       "  </div>\n",
       "</div>\n"
      ],
      "text/plain": [
       "<Frame#26b0ee38150 4x2>"
      ]
     },
     "execution_count": 56,
     "metadata": {},
     "output_type": "execute_result"
    }
   ],
   "source": [
    "DT[:, 1:3]"
   ]
  },
  {
   "cell_type": "code",
   "execution_count": 57,
   "id": "5090d23c",
   "metadata": {},
   "outputs": [
    {
     "data": {
      "text/html": [
       "<div class='datatable'>\n",
       "  <table class='frame'>\n",
       "  <thead>\n",
       "    <tr class='colnames'><td class='row_index'></td><th>strings</th><th>floats</th><th>integers</th><th>dates</th></tr>\n",
       "    <tr class='coltypes'><td class='row_index'></td><td class='str' title='str32'>&#x25AA;&#x25AA;&#x25AA;&#x25AA;</td><td class='float' title='float64'>&#x25AA;&#x25AA;&#x25AA;&#x25AA;&#x25AA;&#x25AA;&#x25AA;&#x25AA;</td><td class='int' title='int32'>&#x25AA;&#x25AA;&#x25AA;&#x25AA;</td><td class='time' title='date32'>&#x25AA;&#x25AA;&#x25AA;&#x25AA;</td></tr>\n",
       "  </thead>\n",
       "  <tbody>\n",
       "    <tr><td class='row_index'>0</td><td>A</td><td>10</td><td>1</td><td>2000-01-05</td></tr>\n",
       "    <tr><td class='row_index'>1</td><td>B</td><td>11.5</td><td>2</td><td>2010-11-23</td></tr>\n",
       "    <tr><td class='row_index'>2</td><td><span class=na>NA</span></td><td>12.3</td><td>3</td><td>2020-02-29</td></tr>\n",
       "    <tr><td class='row_index'>3</td><td>D</td><td>&minus;13</td><td>4</td><td><span class=na>NA</span></td></tr>\n",
       "  </tbody>\n",
       "  </table>\n",
       "  <div class='footer'>\n",
       "    <div class='frame_dimensions'>4 rows &times; 4 columns</div>\n",
       "  </div>\n",
       "</div>\n"
      ],
      "text/plain": [
       "<Frame#26b0ee58960 4x4>"
      ]
     },
     "execution_count": 57,
     "metadata": {},
     "output_type": "execute_result"
    }
   ],
   "source": [
    "DT[:, ::-1]"
   ]
  },
  {
   "cell_type": "code",
   "execution_count": 58,
   "id": "cb3af150",
   "metadata": {},
   "outputs": [
    {
     "data": {
      "text/html": [
       "<div class='datatable'>\n",
       "  <table class='frame'>\n",
       "  <thead>\n",
       "    <tr class='colnames'><td class='row_index'></td><th>strings</th></tr>\n",
       "    <tr class='coltypes'><td class='row_index'></td><td class='str' title='str32'>&#x25AA;&#x25AA;&#x25AA;&#x25AA;</td></tr>\n",
       "  </thead>\n",
       "  <tbody>\n",
       "    <tr><td class='row_index'>0</td><td>A</td></tr>\n",
       "    <tr><td class='row_index'>1</td><td>B</td></tr>\n",
       "    <tr><td class='row_index'>2</td><td><span class=na>NA</span></td></tr>\n",
       "    <tr><td class='row_index'>3</td><td>D</td></tr>\n",
       "  </tbody>\n",
       "  </table>\n",
       "  <div class='footer'>\n",
       "    <div class='frame_dimensions'>4 rows &times; 1 column</div>\n",
       "  </div>\n",
       "</div>\n"
      ],
      "text/plain": [
       "<Frame#26b0ee58f60 4x1>"
      ]
     },
     "execution_count": 58,
     "metadata": {},
     "output_type": "execute_result"
    }
   ],
   "source": [
    "DT[:, 3:10]  # there are only four columns in the Frame"
   ]
  },
  {
   "cell_type": "code",
   "execution_count": 59,
   "id": "97745650",
   "metadata": {},
   "outputs": [
    {
     "data": {
      "text/html": [
       "<div class='datatable'>\n",
       "  <table class='frame'>\n",
       "  <thead>\n",
       "    <tr class='colnames'><td class='row_index'></td><th>integers</th><th>floats</th><th>strings</th></tr>\n",
       "    <tr class='coltypes'><td class='row_index'></td><td class='int' title='int32'>&#x25AA;&#x25AA;&#x25AA;&#x25AA;</td><td class='float' title='float64'>&#x25AA;&#x25AA;&#x25AA;&#x25AA;&#x25AA;&#x25AA;&#x25AA;&#x25AA;</td><td class='str' title='str32'>&#x25AA;&#x25AA;&#x25AA;&#x25AA;</td></tr>\n",
       "  </thead>\n",
       "  <tbody>\n",
       "    <tr><td class='row_index'>0</td><td>1</td><td>10</td><td>A</td></tr>\n",
       "    <tr><td class='row_index'>1</td><td>2</td><td>11.5</td><td>B</td></tr>\n",
       "    <tr><td class='row_index'>2</td><td>3</td><td>12.3</td><td><span class=na>NA</span></td></tr>\n",
       "    <tr><td class='row_index'>3</td><td>4</td><td>&minus;13</td><td>D</td></tr>\n",
       "  </tbody>\n",
       "  </table>\n",
       "  <div class='footer'>\n",
       "    <div class='frame_dimensions'>4 rows &times; 3 columns</div>\n",
       "  </div>\n",
       "</div>\n"
      ],
      "text/plain": [
       "<Frame#26b0ee5cd80 4x3>"
      ]
     },
     "execution_count": 59,
     "metadata": {},
     "output_type": "execute_result"
    }
   ],
   "source": [
    "DT[:, slice('integers', 'strings')]"
   ]
  },
  {
   "cell_type": "code",
   "execution_count": null,
   "id": "a4f87cab",
   "metadata": {},
   "outputs": [],
   "source": []
  },
  {
   "cell_type": "code",
   "execution_count": 60,
   "id": "6c51bbcd",
   "metadata": {},
   "outputs": [
    {
     "data": {
      "text/html": [
       "<div class='datatable'>\n",
       "  <table class='frame'>\n",
       "  <thead>\n",
       "    <tr class='colnames'><td class='row_index'></td><th>integers</th><th>floats</th><th>dates</th></tr>\n",
       "    <tr class='coltypes'><td class='row_index'></td><td class='int' title='int32'>&#x25AA;&#x25AA;&#x25AA;&#x25AA;</td><td class='float' title='float64'>&#x25AA;&#x25AA;&#x25AA;&#x25AA;&#x25AA;&#x25AA;&#x25AA;&#x25AA;</td><td class='time' title='date32'>&#x25AA;&#x25AA;&#x25AA;&#x25AA;</td></tr>\n",
       "  </thead>\n",
       "  <tbody>\n",
       "    <tr><td class='row_index'>0</td><td>1</td><td>10</td><td>2000-01-05</td></tr>\n",
       "    <tr><td class='row_index'>1</td><td>2</td><td>11.5</td><td>2010-11-23</td></tr>\n",
       "    <tr><td class='row_index'>2</td><td>3</td><td>12.3</td><td>2020-02-29</td></tr>\n",
       "    <tr><td class='row_index'>3</td><td>4</td><td>&minus;13</td><td><span class=na>NA</span></td></tr>\n",
       "  </tbody>\n",
       "  </table>\n",
       "  <div class='footer'>\n",
       "    <div class='frame_dimensions'>4 rows &times; 3 columns</div>\n",
       "  </div>\n",
       "</div>\n"
      ],
      "text/plain": [
       "<Frame#26b0ecfdde0 4x3>"
      ]
     },
     "execution_count": 60,
     "metadata": {},
     "output_type": "execute_result"
    }
   ],
   "source": [
    "DT[:, [slice(1, 3), 0]]"
   ]
  },
  {
   "cell_type": "code",
   "execution_count": 61,
   "id": "7786234d",
   "metadata": {},
   "outputs": [
    {
     "data": {
      "text/html": [
       "<div class='datatable'>\n",
       "  <table class='frame'>\n",
       "  <thead>\n",
       "    <tr class='colnames'><td class='row_index'></td><th>dates</th><th>integers</th></tr>\n",
       "    <tr class='coltypes'><td class='row_index'></td><td class='time' title='date32'>&#x25AA;&#x25AA;&#x25AA;&#x25AA;</td><td class='int' title='int32'>&#x25AA;&#x25AA;&#x25AA;&#x25AA;</td></tr>\n",
       "  </thead>\n",
       "  <tbody>\n",
       "    <tr><td class='row_index'>0</td><td>2000-01-05</td><td>1</td></tr>\n",
       "    <tr><td class='row_index'>1</td><td>2010-11-23</td><td>2</td></tr>\n",
       "    <tr><td class='row_index'>2</td><td>2020-02-29</td><td>3</td></tr>\n",
       "    <tr><td class='row_index'>3</td><td><span class=na>NA</span></td><td>4</td></tr>\n",
       "  </tbody>\n",
       "  </table>\n",
       "  <div class='footer'>\n",
       "    <div class='frame_dimensions'>4 rows &times; 2 columns</div>\n",
       "  </div>\n",
       "</div>\n"
      ],
      "text/plain": [
       "<Frame#26b0ee5c510 4x2>"
      ]
     },
     "execution_count": 61,
     "metadata": {},
     "output_type": "execute_result"
    }
   ],
   "source": [
    "DT[:, [True, True, False, False]]"
   ]
  },
  {
   "cell_type": "code",
   "execution_count": null,
   "id": "dff71bbf",
   "metadata": {},
   "outputs": [],
   "source": []
  },
  {
   "cell_type": "markdown",
   "id": "eecef651",
   "metadata": {},
   "source": [
    "## Selecting Data – Rows\n",
    "There are a number of ways to select rows of data via the i section.\n",
    "\n",
    "The index labels in a Frame are just for aesthetics; they serve no actual purpose during selection."
   ]
  },
  {
   "cell_type": "code",
   "execution_count": 62,
   "id": "5b05e187",
   "metadata": {},
   "outputs": [
    {
     "data": {
      "text/html": [
       "<div class='datatable'>\n",
       "  <table class='frame'>\n",
       "  <thead>\n",
       "    <tr class='colnames'><td class='row_index'></td><th>dates</th><th>integers</th><th>floats</th><th>strings</th></tr>\n",
       "    <tr class='coltypes'><td class='row_index'></td><td class='time' title='date32'>&#x25AA;&#x25AA;&#x25AA;&#x25AA;</td><td class='int' title='int32'>&#x25AA;&#x25AA;&#x25AA;&#x25AA;</td><td class='float' title='float64'>&#x25AA;&#x25AA;&#x25AA;&#x25AA;&#x25AA;&#x25AA;&#x25AA;&#x25AA;</td><td class='str' title='str32'>&#x25AA;&#x25AA;&#x25AA;&#x25AA;</td></tr>\n",
       "  </thead>\n",
       "  <tbody>\n",
       "    <tr><td class='row_index'>0</td><td>2000-01-05</td><td>1</td><td>10</td><td>A</td></tr>\n",
       "  </tbody>\n",
       "  </table>\n",
       "  <div class='footer'>\n",
       "    <div class='frame_dimensions'>1 row &times; 4 columns</div>\n",
       "  </div>\n",
       "</div>\n"
      ],
      "text/plain": [
       "<Frame#26b0ee58330 1x4>"
      ]
     },
     "execution_count": 62,
     "metadata": {},
     "output_type": "execute_result"
    }
   ],
   "source": [
    "DT[0, :]"
   ]
  },
  {
   "cell_type": "code",
   "execution_count": 63,
   "id": "342918fa",
   "metadata": {},
   "outputs": [
    {
     "data": {
      "text/html": [
       "<div class='datatable'>\n",
       "  <table class='frame'>\n",
       "  <thead>\n",
       "    <tr class='colnames'><td class='row_index'></td><th>dates</th><th>integers</th><th>floats</th><th>strings</th></tr>\n",
       "    <tr class='coltypes'><td class='row_index'></td><td class='time' title='date32'>&#x25AA;&#x25AA;&#x25AA;&#x25AA;</td><td class='int' title='int32'>&#x25AA;&#x25AA;&#x25AA;&#x25AA;</td><td class='float' title='float64'>&#x25AA;&#x25AA;&#x25AA;&#x25AA;&#x25AA;&#x25AA;&#x25AA;&#x25AA;</td><td class='str' title='str32'>&#x25AA;&#x25AA;&#x25AA;&#x25AA;</td></tr>\n",
       "  </thead>\n",
       "  <tbody>\n",
       "    <tr><td class='row_index'>0</td><td><span class=na>NA</span></td><td>4</td><td>&minus;13</td><td>D</td></tr>\n",
       "  </tbody>\n",
       "  </table>\n",
       "  <div class='footer'>\n",
       "    <div class='frame_dimensions'>1 row &times; 4 columns</div>\n",
       "  </div>\n",
       "</div>\n"
      ],
      "text/plain": [
       "<Frame#26b0ee5cc30 1x4>"
      ]
     },
     "execution_count": 63,
     "metadata": {},
     "output_type": "execute_result"
    }
   ],
   "source": [
    "DT[-1, :]  # last row"
   ]
  },
  {
   "cell_type": "code",
   "execution_count": 64,
   "id": "518f4bc2",
   "metadata": {},
   "outputs": [
    {
     "data": {
      "text/html": [
       "<div class='datatable'>\n",
       "  <table class='frame'>\n",
       "  <thead>\n",
       "    <tr class='colnames'><td class='row_index'></td><th>dates</th><th>integers</th><th>floats</th><th>strings</th></tr>\n",
       "    <tr class='coltypes'><td class='row_index'></td><td class='time' title='date32'>&#x25AA;&#x25AA;&#x25AA;&#x25AA;</td><td class='int' title='int32'>&#x25AA;&#x25AA;&#x25AA;&#x25AA;</td><td class='float' title='float64'>&#x25AA;&#x25AA;&#x25AA;&#x25AA;&#x25AA;&#x25AA;&#x25AA;&#x25AA;</td><td class='str' title='str32'>&#x25AA;&#x25AA;&#x25AA;&#x25AA;</td></tr>\n",
       "  </thead>\n",
       "  <tbody>\n",
       "    <tr><td class='row_index'>0</td><td>2010-11-23</td><td>2</td><td>11.5</td><td>B</td></tr>\n",
       "    <tr><td class='row_index'>1</td><td>2020-02-29</td><td>3</td><td>12.3</td><td><span class=na>NA</span></td></tr>\n",
       "    <tr><td class='row_index'>2</td><td><span class=na>NA</span></td><td>4</td><td>&minus;13</td><td>D</td></tr>\n",
       "  </tbody>\n",
       "  </table>\n",
       "  <div class='footer'>\n",
       "    <div class='frame_dimensions'>3 rows &times; 4 columns</div>\n",
       "  </div>\n",
       "</div>\n"
      ],
      "text/plain": [
       "<Frame#26b0ee587b0 3x4>"
      ]
     },
     "execution_count": 64,
     "metadata": {},
     "output_type": "execute_result"
    }
   ],
   "source": [
    "# Sequence of Positions\n",
    "#List (tuple):\n",
    "\n",
    "DT[[1, 2, 3], :]"
   ]
  },
  {
   "cell_type": "code",
   "execution_count": 65,
   "id": "d8206ae2",
   "metadata": {},
   "outputs": [
    {
     "data": {
      "text/html": [
       "<div class='datatable'>\n",
       "  <table class='frame'>\n",
       "  <thead>\n",
       "    <tr class='colnames'><td class='row_index'></td><th>dates</th><th>integers</th><th>floats</th><th>strings</th></tr>\n",
       "    <tr class='coltypes'><td class='row_index'></td><td class='time' title='date32'>&#x25AA;&#x25AA;&#x25AA;&#x25AA;</td><td class='int' title='int32'>&#x25AA;&#x25AA;&#x25AA;&#x25AA;</td><td class='float' title='float64'>&#x25AA;&#x25AA;&#x25AA;&#x25AA;&#x25AA;&#x25AA;&#x25AA;&#x25AA;</td><td class='str' title='str32'>&#x25AA;&#x25AA;&#x25AA;&#x25AA;</td></tr>\n",
       "  </thead>\n",
       "  <tbody>\n",
       "    <tr><td class='row_index'>0</td><td>2010-11-23</td><td>2</td><td>11.5</td><td>B</td></tr>\n",
       "    <tr><td class='row_index'>1</td><td>2020-02-29</td><td>3</td><td>12.3</td><td><span class=na>NA</span></td></tr>\n",
       "    <tr><td class='row_index'>2</td><td><span class=na>NA</span></td><td>4</td><td>&minus;13</td><td>D</td></tr>\n",
       "  </tbody>\n",
       "  </table>\n",
       "  <div class='footer'>\n",
       "    <div class='frame_dimensions'>3 rows &times; 4 columns</div>\n",
       "  </div>\n",
       "</div>\n"
      ],
      "text/plain": [
       "<Frame#26b0ee5c0f0 3x4>"
      ]
     },
     "execution_count": 65,
     "metadata": {},
     "output_type": "execute_result"
    }
   ],
   "source": [
    "DT[dt.Frame([1, 2, 3]), :]"
   ]
  },
  {
   "cell_type": "code",
   "execution_count": 66,
   "id": "fe9e117a",
   "metadata": {},
   "outputs": [
    {
     "data": {
      "text/html": [
       "<div class='datatable'>\n",
       "  <table class='frame'>\n",
       "  <thead>\n",
       "    <tr class='colnames'><td class='row_index'></td><th>dates</th><th>integers</th><th>floats</th><th>strings</th></tr>\n",
       "    <tr class='coltypes'><td class='row_index'></td><td class='time' title='date32'>&#x25AA;&#x25AA;&#x25AA;&#x25AA;</td><td class='int' title='int32'>&#x25AA;&#x25AA;&#x25AA;&#x25AA;</td><td class='float' title='float64'>&#x25AA;&#x25AA;&#x25AA;&#x25AA;&#x25AA;&#x25AA;&#x25AA;&#x25AA;</td><td class='str' title='str32'>&#x25AA;&#x25AA;&#x25AA;&#x25AA;</td></tr>\n",
       "  </thead>\n",
       "  <tbody>\n",
       "    <tr><td class='row_index'>0</td><td>2010-11-23</td><td>2</td><td>11.5</td><td>B</td></tr>\n",
       "    <tr><td class='row_index'>1</td><td>2020-02-29</td><td>3</td><td>12.3</td><td><span class=na>NA</span></td></tr>\n",
       "  </tbody>\n",
       "  </table>\n",
       "  <div class='footer'>\n",
       "    <div class='frame_dimensions'>2 rows &times; 4 columns</div>\n",
       "  </div>\n",
       "</div>\n"
      ],
      "text/plain": [
       "<Frame#26b0ee58870 2x4>"
      ]
     },
     "execution_count": 66,
     "metadata": {},
     "output_type": "execute_result"
    }
   ],
   "source": [
    "#Slicing works similarly to slicing a python list:\n",
    "\n",
    "DT[1:3, :]"
   ]
  },
  {
   "cell_type": "markdown",
   "id": "011b7398",
   "metadata": {},
   "source": [
    "## Select rows and columns\n",
    "Specific selections can occur in rows and columns simultaneously:"
   ]
  },
  {
   "cell_type": "code",
   "execution_count": 67,
   "id": "086836c9",
   "metadata": {},
   "outputs": [
    {
     "data": {
      "text/html": [
       "<div class='datatable'>\n",
       "  <table class='frame'>\n",
       "  <thead>\n",
       "    <tr class='colnames'><td class='row_index'></td><th>integers</th><th>floats</th></tr>\n",
       "    <tr class='coltypes'><td class='row_index'></td><td class='int' title='int32'>&#x25AA;&#x25AA;&#x25AA;&#x25AA;</td><td class='float' title='float64'>&#x25AA;&#x25AA;&#x25AA;&#x25AA;&#x25AA;&#x25AA;&#x25AA;&#x25AA;</td></tr>\n",
       "  </thead>\n",
       "  <tbody>\n",
       "    <tr><td class='row_index'>0</td><td>1</td><td>10</td></tr>\n",
       "  </tbody>\n",
       "  </table>\n",
       "  <div class='footer'>\n",
       "    <div class='frame_dimensions'>1 row &times; 2 columns</div>\n",
       "  </div>\n",
       "</div>\n"
      ],
      "text/plain": [
       "<Frame#26b0ee58b40 1x2>"
      ]
     },
     "execution_count": 67,
     "metadata": {},
     "output_type": "execute_result"
    }
   ],
   "source": [
    "DT[0, slice(1, 3)]"
   ]
  },
  {
   "cell_type": "code",
   "execution_count": null,
   "id": "67bca690",
   "metadata": {},
   "outputs": [],
   "source": []
  },
  {
   "cell_type": "markdown",
   "id": "bed1888f",
   "metadata": {},
   "source": [
    "## Transforming Data\n",
    "Column Transformation\n",
    "Operations on columns occur in the j section of DT[i, j, by/sort/...], and involve the use of f-expressions:"
   ]
  },
  {
   "cell_type": "code",
   "execution_count": 68,
   "id": "9541e7e0",
   "metadata": {},
   "outputs": [
    {
     "data": {
      "text/html": [
       "<div class='datatable'>\n",
       "  <table class='frame'>\n",
       "  <thead>\n",
       "    <tr class='colnames'><td class='row_index'></td><th>dates</th><th>integers</th><th>floats</th><th>strings</th></tr>\n",
       "    <tr class='coltypes'><td class='row_index'></td><td class='time' title='date32'>&#x25AA;&#x25AA;&#x25AA;&#x25AA;</td><td class='int' title='int32'>&#x25AA;&#x25AA;&#x25AA;&#x25AA;</td><td class='float' title='float64'>&#x25AA;&#x25AA;&#x25AA;&#x25AA;&#x25AA;&#x25AA;&#x25AA;&#x25AA;</td><td class='str' title='str32'>&#x25AA;&#x25AA;&#x25AA;&#x25AA;</td></tr>\n",
       "  </thead>\n",
       "  <tbody>\n",
       "    <tr><td class='row_index'>0</td><td>2000-01-05</td><td>1</td><td>10</td><td>A</td></tr>\n",
       "    <tr><td class='row_index'>1</td><td>2010-11-23</td><td>2</td><td>11.5</td><td>B</td></tr>\n",
       "    <tr><td class='row_index'>2</td><td>2020-02-29</td><td>3</td><td>12.3</td><td><span class=na>NA</span></td></tr>\n",
       "    <tr><td class='row_index'>3</td><td><span class=na>NA</span></td><td>4</td><td>&minus;13</td><td>D</td></tr>\n",
       "  </tbody>\n",
       "  </table>\n",
       "  <div class='footer'>\n",
       "    <div class='frame_dimensions'>4 rows &times; 4 columns</div>\n",
       "  </div>\n",
       "</div>\n"
      ],
      "text/plain": [
       "<Frame#26b0ed46ba0 4x4>"
      ]
     },
     "execution_count": 68,
     "metadata": {},
     "output_type": "execute_result"
    }
   ],
   "source": [
    "from datatable import dt, f, update, ifelse\n",
    "from datetime import date\n",
    "\n",
    "source = {\"dates\" : [date(2000, 1, 5), date(2010, 11, 23), date(2020, 2, 29), None],\n",
    "          \"integers\" : range(1, 5),\n",
    "          \"floats\" : [10.0, 11.5, 12.3, -13],\n",
    "          \"strings\" : ['A', 'B', None, 'D']\n",
    "          }\n",
    "DT = dt.Frame(source)\n",
    "DT"
   ]
  },
  {
   "cell_type": "code",
   "execution_count": 69,
   "id": "c60409c0",
   "metadata": {},
   "outputs": [
    {
     "data": {
      "text/html": [
       "<div class='datatable'>\n",
       "  <table class='frame'>\n",
       "  <thead>\n",
       "    <tr class='colnames'><td class='row_index'></td><th>C0</th></tr>\n",
       "    <tr class='coltypes'><td class='row_index'></td><td class='int' title='int32'>&#x25AA;&#x25AA;&#x25AA;&#x25AA;</td></tr>\n",
       "  </thead>\n",
       "  <tbody>\n",
       "    <tr><td class='row_index'>0</td><td>2</td></tr>\n",
       "    <tr><td class='row_index'>1</td><td>4</td></tr>\n",
       "    <tr><td class='row_index'>2</td><td>6</td></tr>\n",
       "    <tr><td class='row_index'>3</td><td>8</td></tr>\n",
       "  </tbody>\n",
       "  </table>\n",
       "  <div class='footer'>\n",
       "    <div class='frame_dimensions'>4 rows &times; 1 column</div>\n",
       "  </div>\n",
       "</div>\n"
      ],
      "text/plain": [
       "<Frame#26b0ed02a80 4x1>"
      ]
     },
     "execution_count": 69,
     "metadata": {},
     "output_type": "execute_result"
    }
   ],
   "source": [
    "DT[:, f.integers * 2]"
   ]
  },
  {
   "cell_type": "code",
   "execution_count": 70,
   "id": "c504f018",
   "metadata": {},
   "outputs": [
    {
     "data": {
      "text/html": [
       "<div class='datatable'>\n",
       "  <table class='frame'>\n",
       "  <thead>\n",
       "    <tr class='colnames'><td class='row_index'></td><th>C0</th></tr>\n",
       "    <tr class='coltypes'><td class='row_index'></td><td class='str' title='str32'>&#x25AA;&#x25AA;&#x25AA;&#x25AA;</td></tr>\n",
       "  </thead>\n",
       "  <tbody>\n",
       "    <tr><td class='row_index'>0</td><td>pre_A</td></tr>\n",
       "    <tr><td class='row_index'>1</td><td>pre_B</td></tr>\n",
       "    <tr><td class='row_index'>2</td><td><span class=na>NA</span></td></tr>\n",
       "    <tr><td class='row_index'>3</td><td>pre_D</td></tr>\n",
       "  </tbody>\n",
       "  </table>\n",
       "  <div class='footer'>\n",
       "    <div class='frame_dimensions'>4 rows &times; 1 column</div>\n",
       "  </div>\n",
       "</div>\n"
      ],
      "text/plain": [
       "<Frame#26b0ed02b40 4x1>"
      ]
     },
     "execution_count": 70,
     "metadata": {},
     "output_type": "execute_result"
    }
   ],
   "source": [
    "DT[:, 'pre_' + f.strings]"
   ]
  },
  {
   "cell_type": "code",
   "execution_count": 71,
   "id": "a3b07b6e",
   "metadata": {},
   "outputs": [
    {
     "data": {
      "text/html": [
       "<div class='datatable'>\n",
       "  <table class='frame'>\n",
       "  <thead>\n",
       "    <tr class='colnames'><td class='row_index'></td><th>C0</th></tr>\n",
       "    <tr class='coltypes'><td class='row_index'></td><td class='float' title='float64'>&#x25AA;&#x25AA;&#x25AA;&#x25AA;&#x25AA;&#x25AA;&#x25AA;&#x25AA;</td></tr>\n",
       "  </thead>\n",
       "  <tbody>\n",
       "    <tr><td class='row_index'>0</td><td>11</td></tr>\n",
       "    <tr><td class='row_index'>1</td><td>13.5</td></tr>\n",
       "    <tr><td class='row_index'>2</td><td>15.3</td></tr>\n",
       "    <tr><td class='row_index'>3</td><td>&minus;9</td></tr>\n",
       "  </tbody>\n",
       "  </table>\n",
       "  <div class='footer'>\n",
       "    <div class='frame_dimensions'>4 rows &times; 1 column</div>\n",
       "  </div>\n",
       "</div>\n"
      ],
      "text/plain": [
       "<Frame#26b0ed02900 4x1>"
      ]
     },
     "execution_count": 71,
     "metadata": {},
     "output_type": "execute_result"
    }
   ],
   "source": [
    "DT[:, f.integers + f.floats]"
   ]
  },
  {
   "cell_type": "code",
   "execution_count": 72,
   "id": "1ccf00a2",
   "metadata": {},
   "outputs": [
    {
     "data": {
      "text/html": [
       "<div class='datatable'>\n",
       "  <table class='frame'>\n",
       "  <thead>\n",
       "    <tr class='colnames'><td class='row_index'></td><th>C0</th></tr>\n",
       "    <tr class='coltypes'><td class='row_index'></td><td class='str' title='str32'>&#x25AA;&#x25AA;&#x25AA;&#x25AA;</td></tr>\n",
       "  </thead>\n",
       "  <tbody>\n",
       "    <tr><td class='row_index'>0</td><td>1_A</td></tr>\n",
       "    <tr><td class='row_index'>1</td><td>2_B</td></tr>\n",
       "    <tr><td class='row_index'>2</td><td><span class=na>NA</span></td></tr>\n",
       "    <tr><td class='row_index'>3</td><td>4_D</td></tr>\n",
       "  </tbody>\n",
       "  </table>\n",
       "  <div class='footer'>\n",
       "    <div class='frame_dimensions'>4 rows &times; 1 column</div>\n",
       "  </div>\n",
       "</div>\n"
      ],
      "text/plain": [
       "<Frame#26b0ed02ed0 4x1>"
      ]
     },
     "execution_count": 72,
     "metadata": {},
     "output_type": "execute_result"
    }
   ],
   "source": [
    "DT[:, f.integers +'_' + f.strings]"
   ]
  },
  {
   "cell_type": "code",
   "execution_count": 73,
   "id": "fc71e1f1",
   "metadata": {},
   "outputs": [
    {
     "data": {
      "text/html": [
       "<div class='datatable'>\n",
       "  <table class='frame'>\n",
       "  <thead>\n",
       "    <tr class='colnames'><td class='row_index'></td><th>C0</th></tr>\n",
       "    <tr class='coltypes'><td class='row_index'></td><td class='float' title='float64'>&#x25AA;&#x25AA;&#x25AA;&#x25AA;&#x25AA;&#x25AA;&#x25AA;&#x25AA;</td></tr>\n",
       "  </thead>\n",
       "  <tbody>\n",
       "    <tr><td class='row_index'>0</td><td>1000</td></tr>\n",
       "    <tr><td class='row_index'>1</td><td>1520.88</td></tr>\n",
       "    <tr><td class='row_index'>2</td><td>1860.87</td></tr>\n",
       "    <tr><td class='row_index'>3</td><td>&minus;2197</td></tr>\n",
       "  </tbody>\n",
       "  </table>\n",
       "  <div class='footer'>\n",
       "    <div class='frame_dimensions'>4 rows &times; 1 column</div>\n",
       "  </div>\n",
       "</div>\n"
      ],
      "text/plain": [
       "<Frame#26b0ed02180 4x1>"
      ]
     },
     "execution_count": 73,
     "metadata": {},
     "output_type": "execute_result"
    }
   ],
   "source": [
    "DT[:, dt.math.pow(f.floats, 3)]"
   ]
  },
  {
   "cell_type": "code",
   "execution_count": 74,
   "id": "e6228f54",
   "metadata": {},
   "outputs": [
    {
     "data": {
      "text/html": [
       "<div class='datatable'>\n",
       "  <table class='frame'>\n",
       "  <thead>\n",
       "    <tr class='colnames'><td class='row_index'></td><th>dates</th></tr>\n",
       "    <tr class='coltypes'><td class='row_index'></td><td class='int' title='int32'>&#x25AA;&#x25AA;&#x25AA;&#x25AA;</td></tr>\n",
       "  </thead>\n",
       "  <tbody>\n",
       "    <tr><td class='row_index'>0</td><td>2000</td></tr>\n",
       "    <tr><td class='row_index'>1</td><td>2010</td></tr>\n",
       "    <tr><td class='row_index'>2</td><td>2020</td></tr>\n",
       "    <tr><td class='row_index'>3</td><td><span class=na>NA</span></td></tr>\n",
       "  </tbody>\n",
       "  </table>\n",
       "  <div class='footer'>\n",
       "    <div class='frame_dimensions'>4 rows &times; 1 column</div>\n",
       "  </div>\n",
       "</div>\n"
      ],
      "text/plain": [
       "<Frame#26b0ed02a20 4x1>"
      ]
     },
     "execution_count": 74,
     "metadata": {},
     "output_type": "execute_result"
    }
   ],
   "source": [
    "DT[:, dt.time.year(f.dates)]"
   ]
  },
  {
   "cell_type": "code",
   "execution_count": 75,
   "id": "9ed66b35",
   "metadata": {},
   "outputs": [
    {
     "data": {
      "text/html": [
       "<div class='datatable'>\n",
       "  <table class='frame'>\n",
       "  <thead>\n",
       "    <tr class='colnames'><td class='row_index'></td><th>integers</th><th>floats</th></tr>\n",
       "    <tr class='coltypes'><td class='row_index'></td><td class='int' title='int64'>&#x25AA;&#x25AA;&#x25AA;&#x25AA;&#x25AA;&#x25AA;&#x25AA;&#x25AA;</td><td class='float' title='float64'>&#x25AA;&#x25AA;&#x25AA;&#x25AA;&#x25AA;&#x25AA;&#x25AA;&#x25AA;</td></tr>\n",
       "  </thead>\n",
       "  <tbody>\n",
       "    <tr><td class='row_index'>0</td><td>10</td><td>20.8</td></tr>\n",
       "  </tbody>\n",
       "  </table>\n",
       "  <div class='footer'>\n",
       "    <div class='frame_dimensions'>1 row &times; 2 columns</div>\n",
       "  </div>\n",
       "</div>\n"
      ],
      "text/plain": [
       "<Frame#26b0ed02fc0 1x2>"
      ]
     },
     "execution_count": 75,
     "metadata": {},
     "output_type": "execute_result"
    }
   ],
   "source": [
    "DT[:, dt.sum(f['integers':'floats'])]"
   ]
  },
  {
   "cell_type": "code",
   "execution_count": 76,
   "id": "afed86ad",
   "metadata": {},
   "outputs": [
    {
     "data": {
      "text/html": [
       "<div class='datatable'>\n",
       "  <table class='frame'>\n",
       "  <thead>\n",
       "    <tr class='colnames'><td class='row_index'></td><th>C0</th></tr>\n",
       "    <tr class='coltypes'><td class='row_index'></td><td class='float' title='float64'>&#x25AA;&#x25AA;&#x25AA;&#x25AA;&#x25AA;&#x25AA;&#x25AA;&#x25AA;</td></tr>\n",
       "  </thead>\n",
       "  <tbody>\n",
       "    <tr><td class='row_index'>0</td><td>11</td></tr>\n",
       "    <tr><td class='row_index'>1</td><td>13.5</td></tr>\n",
       "    <tr><td class='row_index'>2</td><td>15.3</td></tr>\n",
       "    <tr><td class='row_index'>3</td><td>&minus;9</td></tr>\n",
       "  </tbody>\n",
       "  </table>\n",
       "  <div class='footer'>\n",
       "    <div class='frame_dimensions'>4 rows &times; 1 column</div>\n",
       "  </div>\n",
       "</div>\n"
      ],
      "text/plain": [
       "<Frame#26b0ed02510 4x1>"
      ]
     },
     "execution_count": 76,
     "metadata": {},
     "output_type": "execute_result"
    }
   ],
   "source": [
    "DT[:, dt.rowsum(f['integers':'floats'])]"
   ]
  },
  {
   "cell_type": "code",
   "execution_count": 77,
   "id": "8007ea0f",
   "metadata": {},
   "outputs": [
    {
     "data": {
      "text/html": [
       "<div class='datatable'>\n",
       "  <table class='frame'>\n",
       "  <thead>\n",
       "    <tr class='colnames'><td class='row_index'></td><th>C0</th></tr>\n",
       "    <tr class='coltypes'><td class='row_index'></td><td class='str' title='str32'>&#x25AA;&#x25AA;&#x25AA;&#x25AA;</td></tr>\n",
       "  </thead>\n",
       "  <tbody>\n",
       "    <tr><td class='row_index'>0</td><td>odd</td></tr>\n",
       "    <tr><td class='row_index'>1</td><td>even</td></tr>\n",
       "    <tr><td class='row_index'>2</td><td>odd</td></tr>\n",
       "    <tr><td class='row_index'>3</td><td>even</td></tr>\n",
       "  </tbody>\n",
       "  </table>\n",
       "  <div class='footer'>\n",
       "    <div class='frame_dimensions'>4 rows &times; 1 column</div>\n",
       "  </div>\n",
       "</div>\n"
      ],
      "text/plain": [
       "<Frame#26b0ed02de0 4x1>"
      ]
     },
     "execution_count": 77,
     "metadata": {},
     "output_type": "execute_result"
    }
   ],
   "source": [
    "DT[:, ifelse(f.integers % 2 == 0, 'even', 'odd')]"
   ]
  },
  {
   "cell_type": "code",
   "execution_count": 78,
   "id": "76dad2dd",
   "metadata": {},
   "outputs": [
    {
     "data": {
      "text/html": [
       "<div class='datatable'>\n",
       "  <table class='frame'>\n",
       "  <thead>\n",
       "    <tr class='colnames'><td class='row_index'></td><th>C0</th></tr>\n",
       "    <tr class='coltypes'><td class='row_index'></td><td class='float' title='float64'>&#x25AA;&#x25AA;&#x25AA;&#x25AA;&#x25AA;&#x25AA;&#x25AA;&#x25AA;</td></tr>\n",
       "  </thead>\n",
       "  <tbody>\n",
       "    <tr><td class='row_index'>0</td><td>1</td></tr>\n",
       "    <tr><td class='row_index'>1</td><td>16</td></tr>\n",
       "  </tbody>\n",
       "  </table>\n",
       "  <div class='footer'>\n",
       "    <div class='frame_dimensions'>2 rows &times; 1 column</div>\n",
       "  </div>\n",
       "</div>\n"
      ],
      "text/plain": [
       "<Frame#26b0ed025a0 2x1>"
      ]
     },
     "execution_count": 78,
     "metadata": {},
     "output_type": "execute_result"
    }
   ],
   "source": [
    "DT[f.dates < dt.time.ymd(2020,1,1), f.integers ** 4]"
   ]
  },
  {
   "cell_type": "code",
   "execution_count": 79,
   "id": "46e46ed1",
   "metadata": {},
   "outputs": [
    {
     "data": {
      "text/html": [
       "<div class='datatable'>\n",
       "  <table class='frame'>\n",
       "  <thead>\n",
       "    <tr class='colnames'><td class='row_index'></td><th>integers</th></tr>\n",
       "    <tr class='coltypes'><td class='row_index'></td><td class='str' title='str32'>&#x25AA;&#x25AA;&#x25AA;&#x25AA;</td></tr>\n",
       "  </thead>\n",
       "  <tbody>\n",
       "    <tr><td class='row_index'>0</td><td>1</td></tr>\n",
       "    <tr><td class='row_index'>1</td><td>2</td></tr>\n",
       "    <tr><td class='row_index'>2</td><td>3</td></tr>\n",
       "    <tr><td class='row_index'>3</td><td>4</td></tr>\n",
       "  </tbody>\n",
       "  </table>\n",
       "  <div class='footer'>\n",
       "    <div class='frame_dimensions'>4 rows &times; 1 column</div>\n",
       "  </div>\n",
       "</div>\n"
      ],
      "text/plain": [
       "<Frame#26b0ed027b0 4x1>"
      ]
     },
     "execution_count": 79,
     "metadata": {},
     "output_type": "execute_result"
    }
   ],
   "source": [
    "DT[:, dt.as_type(f.integers, str)]"
   ]
  },
  {
   "cell_type": "code",
   "execution_count": 80,
   "id": "8bb7d71b",
   "metadata": {},
   "outputs": [
    {
     "data": {
      "text/html": [
       "<div class='datatable'>\n",
       "  <table class='frame'>\n",
       "  <thead>\n",
       "    <tr class='colnames'><td class='row_index'></td><th>integers</th></tr>\n",
       "    <tr class='coltypes'><td class='row_index'></td><td class='str' title='str32'>&#x25AA;&#x25AA;&#x25AA;&#x25AA;</td></tr>\n",
       "  </thead>\n",
       "  <tbody>\n",
       "    <tr><td class='row_index'>0</td><td>1</td></tr>\n",
       "    <tr><td class='row_index'>1</td><td>2</td></tr>\n",
       "    <tr><td class='row_index'>2</td><td>3</td></tr>\n",
       "    <tr><td class='row_index'>3</td><td>4</td></tr>\n",
       "  </tbody>\n",
       "  </table>\n",
       "  <div class='footer'>\n",
       "    <div class='frame_dimensions'>4 rows &times; 1 column</div>\n",
       "  </div>\n",
       "</div>\n"
      ],
      "text/plain": [
       "<Frame#26b0ed02840 4x1>"
      ]
     },
     "execution_count": 80,
     "metadata": {},
     "output_type": "execute_result"
    }
   ],
   "source": [
    "DT[:, dt.as_type(f.integers, dt.Type.str32)]"
   ]
  },
  {
   "cell_type": "code",
   "execution_count": 81,
   "id": "be4e8ada",
   "metadata": {},
   "outputs": [
    {
     "data": {
      "text/html": [
       "<div class='datatable'>\n",
       "  <table class='frame'>\n",
       "  <thead>\n",
       "    <tr class='colnames'><td class='row_index'></td><th>integers</th><th>floats</th></tr>\n",
       "    <tr class='coltypes'><td class='row_index'></td><td class='str' title='str32'>&#x25AA;&#x25AA;&#x25AA;&#x25AA;</td><td class='str' title='str32'>&#x25AA;&#x25AA;&#x25AA;&#x25AA;</td></tr>\n",
       "  </thead>\n",
       "  <tbody>\n",
       "    <tr><td class='row_index'>0</td><td>1</td><td>10.0</td></tr>\n",
       "    <tr><td class='row_index'>1</td><td>2</td><td>11.5</td></tr>\n",
       "    <tr><td class='row_index'>2</td><td>3</td><td>12.3</td></tr>\n",
       "    <tr><td class='row_index'>3</td><td>4</td><td>-13.0</td></tr>\n",
       "  </tbody>\n",
       "  </table>\n",
       "  <div class='footer'>\n",
       "    <div class='frame_dimensions'>4 rows &times; 2 columns</div>\n",
       "  </div>\n",
       "</div>\n"
      ],
      "text/plain": [
       "<Frame#26b0ed02d20 4x2>"
      ]
     },
     "execution_count": 81,
     "metadata": {},
     "output_type": "execute_result"
    }
   ],
   "source": [
    "DT[:, dt.as_type(f['integers', 'floats'], str)]"
   ]
  },
  {
   "cell_type": "markdown",
   "id": "91959f6a",
   "metadata": {},
   "source": [
    "#Values across multiple columns can be replaced with the dt.Frame.replace() method; this works on the entire frame, and is an in-place operation."
   ]
  },
  {
   "cell_type": "code",
   "execution_count": 82,
   "id": "83d7a16a",
   "metadata": {},
   "outputs": [
    {
     "data": {
      "text/html": [
       "<div class='datatable'>\n",
       "  <table class='frame'>\n",
       "  <thead>\n",
       "    <tr class='colnames'><td class='row_index'></td><th>dates</th><th>integers</th><th>floats</th><th>strings</th></tr>\n",
       "    <tr class='coltypes'><td class='row_index'></td><td class='time' title='date32'>&#x25AA;&#x25AA;&#x25AA;&#x25AA;</td><td class='int' title='int32'>&#x25AA;&#x25AA;&#x25AA;&#x25AA;</td><td class='float' title='float64'>&#x25AA;&#x25AA;&#x25AA;&#x25AA;&#x25AA;&#x25AA;&#x25AA;&#x25AA;</td><td class='str' title='str32'>&#x25AA;&#x25AA;&#x25AA;&#x25AA;</td></tr>\n",
       "  </thead>\n",
       "  <tbody>\n",
       "    <tr><td class='row_index'>0</td><td>2000-01-05</td><td>&minus;1</td><td>10</td><td>A</td></tr>\n",
       "    <tr><td class='row_index'>1</td><td>2010-11-23</td><td>2</td><td>11.5</td><td>B</td></tr>\n",
       "    <tr><td class='row_index'>2</td><td>2020-02-29</td><td>3</td><td>12.3</td><td><span class=na>NA</span></td></tr>\n",
       "    <tr><td class='row_index'>3</td><td><span class=na>NA</span></td><td>4</td><td>&minus;13</td><td>D</td></tr>\n",
       "  </tbody>\n",
       "  </table>\n",
       "  <div class='footer'>\n",
       "    <div class='frame_dimensions'>4 rows &times; 4 columns</div>\n",
       "  </div>\n",
       "</div>\n"
      ],
      "text/plain": [
       "<Frame#26b0ed46ba0 4x4>"
      ]
     },
     "execution_count": 82,
     "metadata": {},
     "output_type": "execute_result"
    }
   ],
   "source": [
    "DT.replace(1, -1)\n",
    "DT"
   ]
  },
  {
   "cell_type": "code",
   "execution_count": null,
   "id": "0d36cb7f",
   "metadata": {},
   "outputs": [],
   "source": []
  },
  {
   "cell_type": "markdown",
   "id": "13fb63b7",
   "metadata": {},
   "source": [
    "## Grouping with by()\n",
    "https://datatable.readthedocs.io/en/latest/manual/groupby_examples.html\n",
    "The by() modifier splits a dataframe into groups, either via the provided column(s) or f-expressions, and then applies i and j within each group. This split-apply-combine strategy allows for a number of operations:\n",
    "\n",
    "Aggregations per group,\n",
    "\n",
    "Transformation of a column or columns, where the shape of the dataframe is maintained,\n",
    "\n",
    "Filtration, where some data are kept and the others discarded, based on a condition or conditions.\n",
    "\n",
    "Aggregation\n",
    "The aggregate function is applied in the j section."
   ]
  },
  {
   "cell_type": "code",
   "execution_count": 83,
   "id": "afe3283a",
   "metadata": {},
   "outputs": [
    {
     "data": {
      "text/html": [
       "<div class='datatable'>\n",
       "  <table class='frame'>\n",
       "  <thead>\n",
       "    <tr class='colnames'><td class='row_index'></td><th>Fruit</th><th>Date</th><th>Name</th><th>Number</th></tr>\n",
       "    <tr class='coltypes'><td class='row_index'></td><td class='str' title='str32'>&#x25AA;&#x25AA;&#x25AA;&#x25AA;</td><td class='str' title='str32'>&#x25AA;&#x25AA;&#x25AA;&#x25AA;</td><td class='str' title='str32'>&#x25AA;&#x25AA;&#x25AA;&#x25AA;</td><td class='int' title='int32'>&#x25AA;&#x25AA;&#x25AA;&#x25AA;</td></tr>\n",
       "  </thead>\n",
       "  <tbody>\n",
       "    <tr><td class='row_index'>0</td><td>Apples</td><td>10/6/2016</td><td>Bob</td><td>7</td></tr>\n",
       "    <tr><td class='row_index'>1</td><td>Apples</td><td>10/6/2016</td><td>Bob</td><td>8</td></tr>\n",
       "    <tr><td class='row_index'>2</td><td>Apples</td><td>10/6/2016</td><td>Mike</td><td>9</td></tr>\n",
       "    <tr><td class='row_index'>3</td><td>Apples</td><td>10/7/2016</td><td>Steve</td><td>10</td></tr>\n",
       "    <tr><td class='row_index'>4</td><td>Apples</td><td>10/7/2016</td><td>Bob</td><td>1</td></tr>\n",
       "    <tr><td class='row_index'>5</td><td>Oranges</td><td>10/7/2016</td><td>Bob</td><td>2</td></tr>\n",
       "    <tr><td class='row_index'>6</td><td>Oranges</td><td>10/6/2016</td><td>Tom</td><td>15</td></tr>\n",
       "    <tr><td class='row_index'>7</td><td>Oranges</td><td>10/6/2016</td><td>Mike</td><td>57</td></tr>\n",
       "    <tr><td class='row_index'>8</td><td>Oranges</td><td>10/6/2016</td><td>Bob</td><td>65</td></tr>\n",
       "    <tr><td class='row_index'>9</td><td>Oranges</td><td>10/7/2016</td><td>Tony</td><td>1</td></tr>\n",
       "    <tr><td class='row_index'>10</td><td>Grapes</td><td>10/7/2016</td><td>Bob</td><td>1</td></tr>\n",
       "    <tr><td class='row_index'>11</td><td>Grapes</td><td>10/7/2016</td><td>Tom</td><td>87</td></tr>\n",
       "    <tr><td class='row_index'>12</td><td>Grapes</td><td>10/7/2016</td><td>Bob</td><td>22</td></tr>\n",
       "    <tr><td class='row_index'>13</td><td>Grapes</td><td>10/7/2016</td><td>Bob</td><td>12</td></tr>\n",
       "    <tr><td class='row_index'>14</td><td>Grapes</td><td>10/7/2016</td><td>Tony</td><td>15</td></tr>\n",
       "  </tbody>\n",
       "  </table>\n",
       "  <div class='footer'>\n",
       "    <div class='frame_dimensions'>15 rows &times; 4 columns</div>\n",
       "  </div>\n",
       "</div>\n"
      ],
      "text/plain": [
       "<Frame#26b0ed02e70 15x4>"
      ]
     },
     "execution_count": 83,
     "metadata": {},
     "output_type": "execute_result"
    }
   ],
   "source": [
    "from datatable import (dt, f, by, ifelse, update, sort,\n",
    "                       count, min, max, mean, sum, rowsum)\n",
    "\n",
    "df =  dt.Frame(\"\"\"Fruit   Date       Name  Number\n",
    "                  Apples  10/6/2016  Bob     7\n",
    "                  Apples  10/6/2016  Bob     8\n",
    "                  Apples  10/6/2016  Mike    9\n",
    "                  Apples  10/7/2016  Steve  10\n",
    "                  Apples  10/7/2016  Bob     1\n",
    "                  Oranges 10/7/2016  Bob     2\n",
    "                  Oranges 10/6/2016  Tom    15\n",
    "                  Oranges 10/6/2016  Mike   57\n",
    "                  Oranges 10/6/2016  Bob    65\n",
    "                  Oranges 10/7/2016  Tony    1\n",
    "                  Grapes  10/7/2016  Bob     1\n",
    "                  Grapes  10/7/2016  Tom    87\n",
    "                  Grapes  10/7/2016  Bob    22\n",
    "                  Grapes  10/7/2016  Bob    12\n",
    "                  Grapes  10/7/2016  Tony   15\"\"\")\n",
    "df"
   ]
  },
  {
   "cell_type": "code",
   "execution_count": 84,
   "id": "f880b8e3",
   "metadata": {},
   "outputs": [
    {
     "data": {
      "text/html": [
       "<div class='datatable'>\n",
       "  <table class='frame'>\n",
       "  <thead>\n",
       "    <tr class='colnames'><td class='row_index'></td><th>Fruit</th><th>Number</th></tr>\n",
       "    <tr class='coltypes'><td class='row_index'></td><td class='str' title='str32'>&#x25AA;&#x25AA;&#x25AA;&#x25AA;</td><td class='int' title='int64'>&#x25AA;&#x25AA;&#x25AA;&#x25AA;&#x25AA;&#x25AA;&#x25AA;&#x25AA;</td></tr>\n",
       "  </thead>\n",
       "  <tbody>\n",
       "    <tr><td class='row_index'>0</td><td>Apples</td><td>35</td></tr>\n",
       "    <tr><td class='row_index'>1</td><td>Grapes</td><td>137</td></tr>\n",
       "    <tr><td class='row_index'>2</td><td>Oranges</td><td>140</td></tr>\n",
       "  </tbody>\n",
       "  </table>\n",
       "  <div class='footer'>\n",
       "    <div class='frame_dimensions'>3 rows &times; 2 columns</div>\n",
       "  </div>\n",
       "</div>\n"
      ],
      "text/plain": [
       "<Frame#26b0ee3fbd0 3x2>"
      ]
     },
     "execution_count": 84,
     "metadata": {},
     "output_type": "execute_result"
    }
   ],
   "source": [
    "df[:, sum(f.Number), by('Fruit')]"
   ]
  },
  {
   "cell_type": "code",
   "execution_count": 85,
   "id": "d64c7145",
   "metadata": {},
   "outputs": [
    {
     "data": {
      "text/html": [
       "<div class='datatable'>\n",
       "  <table class='frame'>\n",
       "  <thead>\n",
       "    <tr class='colnames'><td class='row_index'></td><th>Fruit</th><th>Name</th><th>Number</th></tr>\n",
       "    <tr class='coltypes'><td class='row_index'></td><td class='str' title='str32'>&#x25AA;&#x25AA;&#x25AA;&#x25AA;</td><td class='str' title='str32'>&#x25AA;&#x25AA;&#x25AA;&#x25AA;</td><td class='int' title='int64'>&#x25AA;&#x25AA;&#x25AA;&#x25AA;&#x25AA;&#x25AA;&#x25AA;&#x25AA;</td></tr>\n",
       "  </thead>\n",
       "  <tbody>\n",
       "    <tr><td class='row_index'>0</td><td>Apples</td><td>Bob</td><td>16</td></tr>\n",
       "    <tr><td class='row_index'>1</td><td>Apples</td><td>Mike</td><td>9</td></tr>\n",
       "    <tr><td class='row_index'>2</td><td>Apples</td><td>Steve</td><td>10</td></tr>\n",
       "    <tr><td class='row_index'>3</td><td>Grapes</td><td>Bob</td><td>35</td></tr>\n",
       "    <tr><td class='row_index'>4</td><td>Grapes</td><td>Tom</td><td>87</td></tr>\n",
       "    <tr><td class='row_index'>5</td><td>Grapes</td><td>Tony</td><td>15</td></tr>\n",
       "    <tr><td class='row_index'>6</td><td>Oranges</td><td>Bob</td><td>67</td></tr>\n",
       "    <tr><td class='row_index'>7</td><td>Oranges</td><td>Mike</td><td>57</td></tr>\n",
       "    <tr><td class='row_index'>8</td><td>Oranges</td><td>Tom</td><td>15</td></tr>\n",
       "    <tr><td class='row_index'>9</td><td>Oranges</td><td>Tony</td><td>1</td></tr>\n",
       "  </tbody>\n",
       "  </table>\n",
       "  <div class='footer'>\n",
       "    <div class='frame_dimensions'>10 rows &times; 3 columns</div>\n",
       "  </div>\n",
       "</div>\n"
      ],
      "text/plain": [
       "<Frame#26b0ed02810 10x3>"
      ]
     },
     "execution_count": 85,
     "metadata": {},
     "output_type": "execute_result"
    }
   ],
   "source": [
    "df[:, sum(f.Number), by('Fruit', 'Name')]"
   ]
  },
  {
   "cell_type": "code",
   "execution_count": 86,
   "id": "8f234316",
   "metadata": {},
   "outputs": [
    {
     "data": {
      "text/html": [
       "<div class='datatable'>\n",
       "  <table class='frame'>\n",
       "  <thead>\n",
       "    <tr class='colnames'><td class='row_index'></td><th>Fruit</th><th>Number</th></tr>\n",
       "    <tr class='coltypes'><td class='row_index'></td><td class='str' title='str32'>&#x25AA;&#x25AA;&#x25AA;&#x25AA;</td><td class='int' title='int64'>&#x25AA;&#x25AA;&#x25AA;&#x25AA;&#x25AA;&#x25AA;&#x25AA;&#x25AA;</td></tr>\n",
       "  </thead>\n",
       "  <tbody>\n",
       "    <tr><td class='row_index'>0</td><td>Apples</td><td>35</td></tr>\n",
       "    <tr><td class='row_index'>1</td><td>Grapes</td><td>137</td></tr>\n",
       "    <tr><td class='row_index'>2</td><td>Oranges</td><td>140</td></tr>\n",
       "  </tbody>\n",
       "  </table>\n",
       "  <div class='footer'>\n",
       "    <div class='frame_dimensions'>3 rows &times; 2 columns</div>\n",
       "  </div>\n",
       "</div>\n"
      ],
      "text/plain": [
       "<Frame#26b0ed02660 3x2>"
      ]
     },
     "execution_count": 86,
     "metadata": {},
     "output_type": "execute_result"
    }
   ],
   "source": [
    "df[:, sum(f.Number), by(f[0])]\n",
    "#col position - fruit=0"
   ]
  },
  {
   "cell_type": "code",
   "execution_count": 87,
   "id": "088d2843",
   "metadata": {},
   "outputs": [
    {
     "data": {
      "text/html": [
       "<div class='datatable'>\n",
       "  <table class='frame'>\n",
       "  <thead>\n",
       "    <tr class='colnames'><td class='row_index'></td><th>C0</th><th>Number</th></tr>\n",
       "    <tr class='coltypes'><td class='row_index'></td><td class='bool' title='bool8'>&#x25AA;</td><td class='int' title='int64'>&#x25AA;&#x25AA;&#x25AA;&#x25AA;&#x25AA;&#x25AA;&#x25AA;&#x25AA;</td></tr>\n",
       "  </thead>\n",
       "  <tbody>\n",
       "    <tr><td class='row_index'>0</td><td>0</td><td>277</td></tr>\n",
       "    <tr><td class='row_index'>1</td><td>1</td><td>35</td></tr>\n",
       "  </tbody>\n",
       "  </table>\n",
       "  <div class='footer'>\n",
       "    <div class='frame_dimensions'>2 rows &times; 2 columns</div>\n",
       "  </div>\n",
       "</div>\n"
      ],
      "text/plain": [
       "<Frame#26b0eda50c0 2x2>"
      ]
     },
     "execution_count": 87,
     "metadata": {},
     "output_type": "execute_result"
    }
   ],
   "source": [
    "df[:, sum(f.Number), by(f.Fruit == \"Apples\")]"
   ]
  },
  {
   "cell_type": "code",
   "execution_count": 88,
   "id": "3ee3ce85",
   "metadata": {},
   "outputs": [
    {
     "data": {
      "text/html": [
       "<div class='datatable'>\n",
       "  <table class='frame'>\n",
       "  <thead>\n",
       "    <tr class='colnames'><td class='row_index'></td><th>Name</th><th>C0</th><th>Number</th></tr>\n",
       "    <tr class='coltypes'><td class='row_index'></td><td class='str' title='str32'>&#x25AA;&#x25AA;&#x25AA;&#x25AA;</td><td class='bool' title='bool8'>&#x25AA;</td><td class='int' title='int64'>&#x25AA;&#x25AA;&#x25AA;&#x25AA;&#x25AA;&#x25AA;&#x25AA;&#x25AA;</td></tr>\n",
       "  </thead>\n",
       "  <tbody>\n",
       "    <tr><td class='row_index'>0</td><td>Bob</td><td>0</td><td>102</td></tr>\n",
       "    <tr><td class='row_index'>1</td><td>Bob</td><td>1</td><td>16</td></tr>\n",
       "    <tr><td class='row_index'>2</td><td>Mike</td><td>0</td><td>57</td></tr>\n",
       "    <tr><td class='row_index'>3</td><td>Mike</td><td>1</td><td>9</td></tr>\n",
       "    <tr><td class='row_index'>4</td><td>Steve</td><td>1</td><td>10</td></tr>\n",
       "    <tr><td class='row_index'>5</td><td>Tom</td><td>0</td><td>102</td></tr>\n",
       "    <tr><td class='row_index'>6</td><td>Tony</td><td>0</td><td>16</td></tr>\n",
       "  </tbody>\n",
       "  </table>\n",
       "  <div class='footer'>\n",
       "    <div class='frame_dimensions'>7 rows &times; 3 columns</div>\n",
       "  </div>\n",
       "</div>\n"
      ],
      "text/plain": [
       "<Frame#26b0eceb420 7x3>"
      ]
     },
     "execution_count": 88,
     "metadata": {},
     "output_type": "execute_result"
    }
   ],
   "source": [
    "#Combination of column and boolean expression:\n",
    "\n",
    "df[:, sum(f.Number), by(f.Name, f.Fruit == \"Apples\")]"
   ]
  },
  {
   "cell_type": "code",
   "execution_count": 89,
   "id": "0cbea618",
   "metadata": {},
   "outputs": [
    {
     "data": {
      "text/html": [
       "<div class='datatable'>\n",
       "  <table class='frame'>\n",
       "  <thead>\n",
       "    <tr class='colnames'><td class='row_index'></td><th>Number</th></tr>\n",
       "    <tr class='coltypes'><td class='row_index'></td><td class='int' title='int64'>&#x25AA;&#x25AA;&#x25AA;&#x25AA;&#x25AA;&#x25AA;&#x25AA;&#x25AA;</td></tr>\n",
       "  </thead>\n",
       "  <tbody>\n",
       "    <tr><td class='row_index'>0</td><td>35</td></tr>\n",
       "    <tr><td class='row_index'>1</td><td>137</td></tr>\n",
       "    <tr><td class='row_index'>2</td><td>140</td></tr>\n",
       "  </tbody>\n",
       "  </table>\n",
       "  <div class='footer'>\n",
       "    <div class='frame_dimensions'>3 rows &times; 1 column</div>\n",
       "  </div>\n",
       "</div>\n"
      ],
      "text/plain": [
       "<Frame#26b0ed02630 3x1>"
      ]
     },
     "execution_count": 89,
     "metadata": {},
     "output_type": "execute_result"
    }
   ],
   "source": [
    "df[:, sum(f.Number), by('Fruit', add_columns=False)]"
   ]
  },
  {
   "cell_type": "code",
   "execution_count": 90,
   "id": "ac666ccf",
   "metadata": {},
   "outputs": [
    {
     "data": {
      "text/html": [
       "<div class='datatable'>\n",
       "  <table class='frame'>\n",
       "  <thead>\n",
       "    <tr class='colnames'><td class='row_index'></td><th>Fruit</th><th>Date</th><th>min</th><th>max</th></tr>\n",
       "    <tr class='coltypes'><td class='row_index'></td><td class='str' title='str32'>&#x25AA;&#x25AA;&#x25AA;&#x25AA;</td><td class='str' title='str32'>&#x25AA;&#x25AA;&#x25AA;&#x25AA;</td><td class='int' title='int32'>&#x25AA;&#x25AA;&#x25AA;&#x25AA;</td><td class='int' title='int32'>&#x25AA;&#x25AA;&#x25AA;&#x25AA;</td></tr>\n",
       "  </thead>\n",
       "  <tbody>\n",
       "    <tr><td class='row_index'>0</td><td>Apples</td><td>10/6/2016</td><td>7</td><td>9</td></tr>\n",
       "    <tr><td class='row_index'>1</td><td>Apples</td><td>10/7/2016</td><td>1</td><td>10</td></tr>\n",
       "    <tr><td class='row_index'>2</td><td>Grapes</td><td>10/7/2016</td><td>1</td><td>87</td></tr>\n",
       "    <tr><td class='row_index'>3</td><td>Oranges</td><td>10/6/2016</td><td>15</td><td>65</td></tr>\n",
       "    <tr><td class='row_index'>4</td><td>Oranges</td><td>10/7/2016</td><td>1</td><td>2</td></tr>\n",
       "  </tbody>\n",
       "  </table>\n",
       "  <div class='footer'>\n",
       "    <div class='frame_dimensions'>5 rows &times; 4 columns</div>\n",
       "  </div>\n",
       "</div>\n"
      ],
      "text/plain": [
       "<Frame#26b0eda5bd0 5x4>"
      ]
     },
     "execution_count": 90,
     "metadata": {},
     "output_type": "execute_result"
    }
   ],
   "source": [
    "df[:, {\"min\": min(f.Number),       \"max\": max(f.Number)},   by('Fruit','Date')]"
   ]
  },
  {
   "cell_type": "code",
   "execution_count": 91,
   "id": "228e93dd",
   "metadata": {},
   "outputs": [
    {
     "data": {
      "text/html": [
       "<div class='datatable'>\n",
       "  <table class='frame'>\n",
       "  <thead>\n",
       "    <tr class='colnames'><td class='row_index'></td><th>col1</th><th>col2</th><th>col3</th><th>col4</th></tr>\n",
       "    <tr class='coltypes'><td class='row_index'></td><td class='str' title='str32'>&#x25AA;&#x25AA;&#x25AA;&#x25AA;</td><td class='str' title='str32'>&#x25AA;&#x25AA;&#x25AA;&#x25AA;</td><td class='int' title='int64'>&#x25AA;&#x25AA;&#x25AA;&#x25AA;&#x25AA;&#x25AA;&#x25AA;&#x25AA;</td><td class='int' title='int64'>&#x25AA;&#x25AA;&#x25AA;&#x25AA;&#x25AA;&#x25AA;&#x25AA;&#x25AA;</td></tr>\n",
       "  </thead>\n",
       "  <tbody>\n",
       "    <tr><td class='row_index'>0</td><td>a</td><td>c</td><td>2</td><td>4</td></tr>\n",
       "    <tr><td class='row_index'>1</td><td>a</td><td>d</td><td>1</td><td>2</td></tr>\n",
       "    <tr><td class='row_index'>2</td><td>b</td><td>d</td><td>1</td><td>2</td></tr>\n",
       "    <tr><td class='row_index'>3</td><td>b</td><td>e</td><td>2</td><td>4</td></tr>\n",
       "  </tbody>\n",
       "  </table>\n",
       "  <div class='footer'>\n",
       "    <div class='frame_dimensions'>4 rows &times; 4 columns</div>\n",
       "  </div>\n",
       "</div>\n"
      ],
      "text/plain": [
       "<Frame#26b0eda5360 4x4>"
      ]
     },
     "execution_count": 91,
     "metadata": {},
     "output_type": "execute_result"
    }
   ],
   "source": [
    "#Functions can be applied across a columnset. Task : Get sum of col3 and col4, grouped by col1 and col2:\n",
    "\n",
    "df = dt.Frame(\"\"\" col1   col2   col3   col4   col5\n",
    "                  a      c      1      2      f\n",
    "                  a      c      1      2      f\n",
    "                  a      d      1      2      f\n",
    "                  b      d      1      2      g\n",
    "                  b      e      1      2      g\n",
    "                  b      e      1      2      g\"\"\")\n",
    "\n",
    "df[:, sum(f[\"col3\":\"col4\"]), by('col1', 'col2')]"
   ]
  },
  {
   "cell_type": "code",
   "execution_count": 92,
   "id": "bec2f080",
   "metadata": {},
   "outputs": [
    {
     "data": {
      "text/html": [
       "<div class='datatable'>\n",
       "  <table class='frame'>\n",
       "  <thead>\n",
       "    <tr class='colnames'><td class='row_index'></td><th>col1</th><th>col2</th><th>col3</th><th>col4</th></tr>\n",
       "    <tr class='coltypes'><td class='row_index'></td><td class='str' title='str32'>&#x25AA;&#x25AA;&#x25AA;&#x25AA;</td><td class='str' title='str32'>&#x25AA;&#x25AA;&#x25AA;&#x25AA;</td><td class='bool' title='bool8'>&#x25AA;</td><td class='int' title='int32'>&#x25AA;&#x25AA;&#x25AA;&#x25AA;</td></tr>\n",
       "  </thead>\n",
       "  <tbody>\n",
       "    <tr><td class='row_index'>0</td><td>a</td><td>c</td><td>1</td><td>2</td></tr>\n",
       "    <tr><td class='row_index'>1</td><td>a</td><td>d</td><td>1</td><td>2</td></tr>\n",
       "    <tr><td class='row_index'>2</td><td>b</td><td>d</td><td>1</td><td>2</td></tr>\n",
       "    <tr><td class='row_index'>3</td><td>b</td><td>e</td><td>1</td><td>2</td></tr>\n",
       "  </tbody>\n",
       "  </table>\n",
       "  <div class='footer'>\n",
       "    <div class='frame_dimensions'>4 rows &times; 4 columns</div>\n",
       "  </div>\n",
       "</div>\n"
      ],
      "text/plain": [
       "<Frame#26b0ee3fb10 4x4>"
      ]
     },
     "execution_count": 92,
     "metadata": {},
     "output_type": "execute_result"
    }
   ],
   "source": [
    "#Apply different aggregate functions to different columns:\n",
    "\n",
    "df[:, [max(f.col3), min(f.col4)], by('col1', 'col2')]"
   ]
  },
  {
   "cell_type": "code",
   "execution_count": 93,
   "id": "53e8038a",
   "metadata": {},
   "outputs": [
    {
     "data": {
      "text/html": [
       "<div class='datatable'>\n",
       "  <table class='frame'>\n",
       "  <thead>\n",
       "    <tr class='colnames'><td class='row_index'></td><th>cat</th><th>AB</th><th>CD</th></tr>\n",
       "    <tr class='coltypes'><td class='row_index'></td><td class='str' title='str32'>&#x25AA;&#x25AA;&#x25AA;&#x25AA;</td><td class='int' title='int64'>&#x25AA;&#x25AA;&#x25AA;&#x25AA;&#x25AA;&#x25AA;&#x25AA;&#x25AA;</td><td class='int' title='int64'>&#x25AA;&#x25AA;&#x25AA;&#x25AA;&#x25AA;&#x25AA;&#x25AA;&#x25AA;</td></tr>\n",
       "  </thead>\n",
       "  <tbody>\n",
       "    <tr><td class='row_index'>0</td><td>x</td><td>12</td><td>12</td></tr>\n",
       "    <tr><td class='row_index'>1</td><td>y</td><td>18</td><td>19</td></tr>\n",
       "    <tr><td class='row_index'>2</td><td>z</td><td>24</td><td>26</td></tr>\n",
       "  </tbody>\n",
       "  </table>\n",
       "  <div class='footer'>\n",
       "    <div class='frame_dimensions'>3 rows &times; 3 columns</div>\n",
       "  </div>\n",
       "</div>\n"
      ],
      "text/plain": [
       "<Frame#26b0ee38c00 3x3>"
      ]
     },
     "execution_count": 93,
     "metadata": {},
     "output_type": "execute_result"
    }
   ],
   "source": [
    "#Nested aggregations in j. Task : Group by column idx and get the row sum of A and B, C and D:\n",
    "\n",
    "df = dt.Frame(\"\"\" idx  A   B   C   D   cat\n",
    "                   J   1   2   3   1   x\n",
    "                   K   4   5   6   2   x\n",
    "                   L   7   8   9   3   y\n",
    "                   M   1   2   3   4   y\n",
    "                   N   4   5   6   5   z\n",
    "                   O   7   8   9   6   z\"\"\")\n",
    "\n",
    "df[:,\n",
    "    {\"AB\" : sum(rowsum(f['A':'B'])),\n",
    "     \"CD\" : sum(rowsum(f['C':'D']))},\n",
    "   by('cat')\n",
    "   ]"
   ]
  },
  {
   "cell_type": "code",
   "execution_count": null,
   "id": "d08a1f99",
   "metadata": {},
   "outputs": [],
   "source": []
  }
 ],
 "metadata": {
  "kernelspec": {
   "display_name": "Python 3 (ipykernel)",
   "language": "python",
   "name": "python3"
  },
  "language_info": {
   "codemirror_mode": {
    "name": "ipython",
    "version": 3
   },
   "file_extension": ".py",
   "mimetype": "text/x-python",
   "name": "python",
   "nbconvert_exporter": "python",
   "pygments_lexer": "ipython3",
   "version": "3.9.15"
  }
 },
 "nbformat": 4,
 "nbformat_minor": 5
}
