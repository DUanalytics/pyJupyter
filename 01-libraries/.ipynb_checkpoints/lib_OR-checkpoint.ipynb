{
 "cells": [
  {
   "cell_type": "markdown",
   "id": "f4640823-c05d-4fef-b65c-bc8122ef1fe9",
   "metadata": {},
   "source": [
    "Libraries for Operational Resarch\n",
    "\n",
    "https://www.datasciencelearner.com/top-5-python-library-for-operational-research/\n",
    "https://www.quora.com/What-are-all-of-the-Python-libraries-for-operations-research\n",
    "https://medium.com/geekculture/a-primer-on-the-operations-research-libraries-in-python-and-julia-d10da69591ff"
   ]
  },
  {
   "cell_type": "markdown",
   "id": "a867fcb8-6ebf-481b-bef2-52892e40da48",
   "metadata": {},
   "source": [
    "## ortools\n",
    "Import the relevant library in command prompt#\n",
    "!pip install --upgrade --user ortools "
   ]
  },
  {
   "cell_type": "markdown",
   "id": "1303816f-b59d-416a-a788-d33b7512ac79",
   "metadata": {},
   "source": [
    "# example\n",
    "x + 7/2 y + 3/2 z <= 25  : 2x + 7y + 3z <= 50\n",
    "3x - 5y + 7z      <= 45\n",
    "5x + 2y - 6z      <= 37\n",
    "x,y,z             >= 0\n",
    "x,y,z integers\n",
    "Values 50, 45, 37 denote State space \n",
    "Objective Function : Max(2x + 2y + 3z)"
   ]
  },
  {
   "cell_type": "code",
   "execution_count": null,
   "id": "67c7f251-fb7a-4141-9ba0-bf28d4113fd2",
   "metadata": {},
   "outputs": [],
   "source": [
    "#Declaring the model#\n",
    "from ortools.sat.python import cp_model\n",
    "model = cp_model.CpModel()"
   ]
  },
  {
   "cell_type": "code",
   "execution_count": null,
   "id": "89c203ff-d652-4982-a685-843649289ce5",
   "metadata": {},
   "outputs": [],
   "source": [
    "#Boundaries#\n",
    "var_upper_bound = max(50, 45, 37)\n",
    "#Declare variables\n",
    "x = model.NewIntVar(0, var_upper_bound, 'x')\n",
    "y = model.NewIntVar(0, var_upper_bound, 'y')\n",
    "z = model.NewIntVar(0, var_upper_bound, 'z')"
   ]
  },
  {
   "cell_type": "code",
   "execution_count": null,
   "id": "0c1ba63d-ef40-4029-89b2-2462089ae3ec",
   "metadata": {},
   "outputs": [],
   "source": [
    "#Remaining constraints#\n",
    "model.Add(2*x + 7*y + 3*z <= 50)\n",
    "model.Add(3*x - 5*y + 7*z <= 45)\n",
    "model.Add(5*x + 2*y - 6*z <= 37)\n",
    "#Maximise objective function#\n",
    "model.Maximize(2*x + 2*y +3*z)\n",
    "#Output possible solution#\n",
    "solver = cp_model.CpSolver()\n",
    "status = solver.Solve(model)\n",
    "if status == cp_model.OPTIMAL:\n",
    "    print('Maximum value of objective function: %i' % solver.ObjectiveValue())\n",
    "print('x value: ', solver.Value(x))\n",
    "print('y value: ', solver.Value(y))\n",
    "print('z value: ', solver.Value(z))"
   ]
  }
 ],
 "metadata": {
  "kernelspec": {
   "display_name": "Python 3 (ipykernel)",
   "language": "python",
   "name": "python3"
  },
  "language_info": {
   "codemirror_mode": {
    "name": "ipython",
    "version": 3
   },
   "file_extension": ".py",
   "mimetype": "text/x-python",
   "name": "python",
   "nbconvert_exporter": "python",
   "pygments_lexer": "ipython3",
   "version": "3.9.15"
  }
 },
 "nbformat": 4,
 "nbformat_minor": 5
}
