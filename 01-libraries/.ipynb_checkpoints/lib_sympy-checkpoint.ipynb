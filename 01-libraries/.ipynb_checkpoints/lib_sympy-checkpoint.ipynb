{
 "cells": [
  {
   "cell_type": "markdown",
   "id": "586c7253-4021-4019-aa80-4e99d7d12ab7",
   "metadata": {},
   "source": [
    "# Library sympy\n",
    "https://scipy-lectures.org/packages/sympy.html#first-steps-with-sympy"
   ]
  },
  {
   "cell_type": "code",
   "execution_count": 2,
   "id": "52502f02-3e3e-41b9-99bb-63b5bbe7b639",
   "metadata": {},
   "outputs": [],
   "source": [
    "#!pip install sympy"
   ]
  },
  {
   "cell_type": "markdown",
   "id": "77d67391-74e5-41cd-89a9-9623b90144d4",
   "metadata": {},
   "source": [
    "## calculator\n",
    "SymPy defines three numerical types: Real, Rational and Integer.\n",
    "\n",
    "The Rational class represents a rational number as a pair of two Integers: the numerator and the denominator, so Rational(1, 2) represents 1/2, Rational(5, 2) 5/2 and so on:"
   ]
  },
  {
   "cell_type": "code",
   "execution_count": 4,
   "id": "11b5daaf-7c64-4703-9a61-800ea85b2f75",
   "metadata": {},
   "outputs": [
    {
     "name": "stdout",
     "output_type": "stream",
     "text": [
      "1/2\n",
      "1\n"
     ]
    }
   ],
   "source": [
    "import sympy as sym\n",
    "a = sym.Rational(1, 2)\n",
    "print(a)\n",
    "print(a * 2)"
   ]
  },
  {
   "cell_type": "code",
   "execution_count": 5,
   "id": "39fc3c05-e4a9-4841-abf8-c79627da9ece",
   "metadata": {},
   "outputs": [
    {
     "data": {
      "text/latex": [
       "$\\displaystyle \\pi^{2}$"
      ],
      "text/plain": [
       "pi**2"
      ]
     },
     "execution_count": 5,
     "metadata": {},
     "output_type": "execute_result"
    }
   ],
   "source": [
    "sym.pi ** 2"
   ]
  },
  {
   "cell_type": "code",
   "execution_count": 6,
   "id": "94915403-2041-49ec-8ab2-e16c61339cc8",
   "metadata": {},
   "outputs": [
    {
     "data": {
      "text/latex": [
       "$\\displaystyle 3.14159265358979$"
      ],
      "text/plain": [
       "3.14159265358979"
      ]
     },
     "execution_count": 6,
     "metadata": {},
     "output_type": "execute_result"
    }
   ],
   "source": [
    "sym.pi.evalf()\n",
    "#evalf evaluates the expression to a floating-point number."
   ]
  },
  {
   "cell_type": "markdown",
   "id": "8c718f90-8ecf-4a50-9a66-5d577209ef56",
   "metadata": {},
   "source": [
    "## symbols\n",
    "In contrast to other Computer Algebra Systems, in SymPy you have to declare symbolic variables explicitly:"
   ]
  },
  {
   "cell_type": "code",
   "execution_count": 8,
   "id": "39fdb024-3346-4c7b-8bbf-ccc6ef7dcc70",
   "metadata": {},
   "outputs": [],
   "source": [
    "x = sym.Symbol('x')\n",
    "y = sym.Symbol('y')"
   ]
  },
  {
   "cell_type": "code",
   "execution_count": 9,
   "id": "8725f8e5-3f19-43b2-b340-3f1e1c71ddd2",
   "metadata": {},
   "outputs": [
    {
     "data": {
      "text/latex": [
       "$\\displaystyle 2 x$"
      ],
      "text/plain": [
       "2*x"
      ]
     },
     "execution_count": 9,
     "metadata": {},
     "output_type": "execute_result"
    }
   ],
   "source": [
    "x + y + x -y"
   ]
  },
  {
   "cell_type": "code",
   "execution_count": 10,
   "id": "3ae1ee97-9d03-4a9b-885c-54cb2b28d0b8",
   "metadata": {},
   "outputs": [
    {
     "data": {
      "text/latex": [
       "$\\displaystyle \\left(x + y\\right)^{2}$"
      ],
      "text/plain": [
       "(x + y)**2"
      ]
     },
     "execution_count": 10,
     "metadata": {},
     "output_type": "execute_result"
    }
   ],
   "source": [
    "(x + y) ** 2"
   ]
  },
  {
   "cell_type": "markdown",
   "id": "54ac13c0-d838-446b-92fc-34327e8ff0e6",
   "metadata": {},
   "source": [
    "## Algebraic manipulations"
   ]
  },
  {
   "cell_type": "code",
   "execution_count": 12,
   "id": "e297b2f4-8f7d-4e96-ae6d-978382a43e02",
   "metadata": {},
   "outputs": [
    {
     "data": {
      "text/latex": [
       "$\\displaystyle x^{2} + 2 x y + y^{2}$"
      ],
      "text/plain": [
       "x**2 + 2*x*y + y**2"
      ]
     },
     "execution_count": 12,
     "metadata": {},
     "output_type": "execute_result"
    }
   ],
   "source": [
    "sym.expand((x + y) ** 2)"
   ]
  },
  {
   "cell_type": "code",
   "execution_count": 11,
   "id": "77a65cc7-341c-4147-8374-9744794e6109",
   "metadata": {},
   "outputs": [
    {
     "data": {
      "text/latex": [
       "$\\displaystyle x^{3} + 3 x^{2} y + 3 x y^{2} + y^{3}$"
      ],
      "text/plain": [
       "x**3 + 3*x**2*y + 3*x*y**2 + y**3"
      ]
     },
     "execution_count": 11,
     "metadata": {},
     "output_type": "execute_result"
    }
   ],
   "source": [
    "sym.expand((x + y) ** 3)"
   ]
  },
  {
   "cell_type": "code",
   "execution_count": 13,
   "id": "4e1b1f47-b790-4fe4-9a97-7f3a41142960",
   "metadata": {},
   "outputs": [
    {
     "data": {
      "text/latex": [
       "$\\displaystyle x^{3} + 3 x^{2} y + 3 x y^{2} + y^{3}$"
      ],
      "text/plain": [
       "x**3 + 3*x**2*y + 3*x*y**2 + y**3"
      ]
     },
     "execution_count": 13,
     "metadata": {},
     "output_type": "execute_result"
    }
   ],
   "source": [
    "3 * x * y ** 2 + 3 * y * x ** 2 + x ** 3 + y ** 3"
   ]
  },
  {
   "cell_type": "code",
   "execution_count": 14,
   "id": "d883f7a6-9944-4dc1-b6d8-e7709804a7e1",
   "metadata": {},
   "outputs": [
    {
     "data": {
      "text/latex": [
       "$\\displaystyle \\operatorname{re}{\\left(x\\right)} + \\operatorname{re}{\\left(y\\right)} + i \\operatorname{im}{\\left(x\\right)} + i \\operatorname{im}{\\left(y\\right)}$"
      ],
      "text/plain": [
       "re(x) + re(y) + I*im(x) + I*im(y)"
      ]
     },
     "execution_count": 14,
     "metadata": {},
     "output_type": "execute_result"
    }
   ],
   "source": [
    "sym.expand(x + y, complex=True)"
   ]
  },
  {
   "cell_type": "code",
   "execution_count": 15,
   "id": "04c3e47f-9aad-4071-80dc-4a45dc9eaecf",
   "metadata": {},
   "outputs": [
    {
     "data": {
      "text/latex": [
       "$\\displaystyle - \\sin{\\left(x \\right)} \\sin{\\left(y \\right)} + \\cos{\\left(x \\right)} \\cos{\\left(y \\right)}$"
      ],
      "text/plain": [
       "-sin(x)*sin(y) + cos(x)*cos(y)"
      ]
     },
     "execution_count": 15,
     "metadata": {},
     "output_type": "execute_result"
    }
   ],
   "source": [
    "sym.cos(x) * sym.cos(y) - sym.sin(x) * sym.sin(y)"
   ]
  },
  {
   "cell_type": "markdown",
   "id": "8df2ea4d-983a-48c1-8b99-369352aa3a59",
   "metadata": {},
   "source": [
    "## simplify"
   ]
  },
  {
   "cell_type": "code",
   "execution_count": 16,
   "id": "1bcdaff2-33ad-4701-b268-990c7193b97d",
   "metadata": {},
   "outputs": [
    {
     "data": {
      "text/latex": [
       "$\\displaystyle y + 1$"
      ],
      "text/plain": [
       "y + 1"
      ]
     },
     "execution_count": 16,
     "metadata": {},
     "output_type": "execute_result"
    }
   ],
   "source": [
    "sym.simplify((x + x * y) / x)"
   ]
  },
  {
   "cell_type": "markdown",
   "id": "2e81c3e9-695d-45e7-b9ee-5f3e570a7219",
   "metadata": {},
   "source": [
    "## Calculus\n",
    "Limits are easy to use in SymPy, they follow the syntax limit(function, variable, point), so to compute the limit of f(x) as x -> 0, you would issue limit(f, x, 0)"
   ]
  },
  {
   "cell_type": "code",
   "execution_count": 17,
   "id": "6e61801d-c8a8-4acd-80ae-c83eaec7e647",
   "metadata": {},
   "outputs": [
    {
     "data": {
      "text/latex": [
       "$\\displaystyle 1$"
      ],
      "text/plain": [
       "1"
      ]
     },
     "execution_count": 17,
     "metadata": {},
     "output_type": "execute_result"
    }
   ],
   "source": [
    "sym.limit(sym.sin(x) / x, x, 0)"
   ]
  },
  {
   "cell_type": "code",
   "execution_count": 18,
   "id": "c5a40d1a-d0fc-4ca1-bb9c-7a220a7aab05",
   "metadata": {},
   "outputs": [
    {
     "data": {
      "text/latex": [
       "$\\displaystyle \\infty$"
      ],
      "text/plain": [
       "oo"
      ]
     },
     "execution_count": 18,
     "metadata": {},
     "output_type": "execute_result"
    }
   ],
   "source": [
    "sym.limit(x, x, sym.oo)\n",
    "#limite to inifinity"
   ]
  },
  {
   "cell_type": "markdown",
   "id": "9432f3a0-b194-4915-9a32-357bd2c08505",
   "metadata": {},
   "source": [
    "## Differentiation\n",
    "ou can differentiate any SymPy expression using diff(func, var). Examples:\n",
    "Higher derivatives can be calculated using the diff(func, var, n) method:"
   ]
  },
  {
   "cell_type": "code",
   "execution_count": 19,
   "id": "cd020644-e417-4fd8-b666-8aec00a2148d",
   "metadata": {},
   "outputs": [
    {
     "data": {
      "text/latex": [
       "$\\displaystyle \\cos{\\left(x \\right)}$"
      ],
      "text/plain": [
       "cos(x)"
      ]
     },
     "execution_count": 19,
     "metadata": {},
     "output_type": "execute_result"
    }
   ],
   "source": [
    "sym.diff(sym.sin(x), x)"
   ]
  },
  {
   "cell_type": "code",
   "execution_count": 20,
   "id": "242a8d3d-8d45-40c2-baf8-08cf8c5fbc66",
   "metadata": {},
   "outputs": [
    {
     "data": {
      "text/latex": [
       "$\\displaystyle 2 \\cos{\\left(2 x \\right)}$"
      ],
      "text/plain": [
       "2*cos(2*x)"
      ]
     },
     "execution_count": 20,
     "metadata": {},
     "output_type": "execute_result"
    }
   ],
   "source": [
    "sym.diff(sym.sin(2 * x), x)"
   ]
  },
  {
   "cell_type": "code",
   "execution_count": 21,
   "id": "239b163d-7aa9-447a-a1b9-f6368fe979bf",
   "metadata": {},
   "outputs": [
    {
     "data": {
      "text/latex": [
       "$\\displaystyle \\tan^{2}{\\left(x \\right)} + 1$"
      ],
      "text/plain": [
       "tan(x)**2 + 1"
      ]
     },
     "execution_count": 21,
     "metadata": {},
     "output_type": "execute_result"
    }
   ],
   "source": [
    "sym.limit((sym.tan(x + y) - sym.tan(x)) / y, y, 0)"
   ]
  },
  {
   "cell_type": "code",
   "execution_count": 22,
   "id": "3f432a74-e2b4-43d8-959a-0d166e345990",
   "metadata": {},
   "outputs": [
    {
     "data": {
      "text/latex": [
       "$\\displaystyle 2 \\cos{\\left(2 x \\right)}$"
      ],
      "text/plain": [
       "2*cos(2*x)"
      ]
     },
     "execution_count": 22,
     "metadata": {},
     "output_type": "execute_result"
    }
   ],
   "source": [
    "sym.diff(sym.sin(2 * x), x, 1)"
   ]
  },
  {
   "cell_type": "markdown",
   "id": "2fc6e6de-32eb-4136-902d-3942534cf76c",
   "metadata": {},
   "source": [
    "## Series Expansion\n",
    "SymPy also knows how to compute the Taylor series of an expression at a point. Use series(expr, var):"
   ]
  },
  {
   "cell_type": "code",
   "execution_count": 23,
   "id": "e4cb590c-4208-452a-b1e2-8c269a6da496",
   "metadata": {},
   "outputs": [
    {
     "data": {
      "text/latex": [
       "$\\displaystyle 1 - \\frac{x^{2}}{2} + \\frac{x^{4}}{24} + O\\left(x^{6}\\right)$"
      ],
      "text/plain": [
       "1 - x**2/2 + x**4/24 + O(x**6)"
      ]
     },
     "execution_count": 23,
     "metadata": {},
     "output_type": "execute_result"
    }
   ],
   "source": [
    "sym.series(sym.cos(x), x)"
   ]
  },
  {
   "cell_type": "code",
   "execution_count": 24,
   "id": "189d7c7a-ec0a-4991-806f-15e67a41686a",
   "metadata": {},
   "outputs": [
    {
     "data": {
      "text/latex": [
       "$\\displaystyle 1 + \\frac{x^{2}}{2} + \\frac{5 x^{4}}{24} + O\\left(x^{6}\\right)$"
      ],
      "text/plain": [
       "1 + x**2/2 + 5*x**4/24 + O(x**6)"
      ]
     },
     "execution_count": 24,
     "metadata": {},
     "output_type": "execute_result"
    }
   ],
   "source": [
    "sym.series(1/sym.cos(x), x)"
   ]
  },
  {
   "cell_type": "markdown",
   "id": "411172bd-45e8-47b4-9932-c41b513b9be9",
   "metadata": {},
   "source": [
    "## Integration\n",
    "SymPy has support for indefinite and definite integration of transcendental elementary and special functions via integrate() facility, which uses the powerful extended Risch-Norman algorithm and some heuristics and pattern matching. You can integrate elementary functions:"
   ]
  },
  {
   "cell_type": "code",
   "execution_count": 25,
   "id": "cbefbdd3-5b68-4943-8980-5d002e9d9a96",
   "metadata": {},
   "outputs": [
    {
     "data": {
      "text/latex": [
       "$\\displaystyle x^{6}$"
      ],
      "text/plain": [
       "x**6"
      ]
     },
     "execution_count": 25,
     "metadata": {},
     "output_type": "execute_result"
    }
   ],
   "source": [
    "sym.integrate(6 * x ** 5, x)"
   ]
  },
  {
   "cell_type": "code",
   "execution_count": 26,
   "id": "7bb41a34-4350-479a-9481-7ef97b33c69c",
   "metadata": {},
   "outputs": [
    {
     "data": {
      "text/latex": [
       "$\\displaystyle - \\cos{\\left(x \\right)}$"
      ],
      "text/plain": [
       "-cos(x)"
      ]
     },
     "execution_count": 26,
     "metadata": {},
     "output_type": "execute_result"
    }
   ],
   "source": [
    "sym.integrate(sym.sin(x), x)"
   ]
  },
  {
   "cell_type": "code",
   "execution_count": 27,
   "id": "ee6697c1-0d4e-438f-84f7-1f203d971466",
   "metadata": {},
   "outputs": [
    {
     "data": {
      "text/latex": [
       "$\\displaystyle x \\log{\\left(x \\right)} - x$"
      ],
      "text/plain": [
       "x*log(x) - x"
      ]
     },
     "execution_count": 27,
     "metadata": {},
     "output_type": "execute_result"
    }
   ],
   "source": [
    "sym.integrate(sym.log(x), x)"
   ]
  },
  {
   "cell_type": "code",
   "execution_count": 29,
   "id": "ba22a89a-b2be-40dc-a3de-607c939ebeea",
   "metadata": {},
   "outputs": [
    {
     "data": {
      "text/latex": [
       "$\\displaystyle x^{2} + \\cosh{\\left(x \\right)}$"
      ],
      "text/plain": [
       "x**2 + cosh(x)"
      ]
     },
     "execution_count": 29,
     "metadata": {},
     "output_type": "execute_result"
    }
   ],
   "source": [
    "sym.integrate(2 * x + sym.sinh(x), x)"
   ]
  },
  {
   "cell_type": "code",
   "execution_count": 30,
   "id": "5dbf8931-a2ad-4d07-b3af-6804e13d749f",
   "metadata": {},
   "outputs": [
    {
     "data": {
      "text/latex": [
       "$\\displaystyle \\frac{\\sqrt{\\pi} \\operatorname{erf}^{2}{\\left(x \\right)}}{4}$"
      ],
      "text/plain": [
       "sqrt(pi)*erf(x)**2/4"
      ]
     },
     "execution_count": 30,
     "metadata": {},
     "output_type": "execute_result"
    }
   ],
   "source": [
    "sym.integrate(sym.exp(-x ** 2) * sym.erf(x), x)\n",
    "#spl functions"
   ]
  },
  {
   "cell_type": "code",
   "execution_count": 31,
   "id": "5ee3ecfe-3037-423d-b425-2af0e9797707",
   "metadata": {},
   "outputs": [
    {
     "data": {
      "text/latex": [
       "$\\displaystyle 0$"
      ],
      "text/plain": [
       "0"
      ]
     },
     "execution_count": 31,
     "metadata": {},
     "output_type": "execute_result"
    }
   ],
   "source": [
    "sym.integrate(x**3, (x, -1, 1))\n",
    "#defnite integral"
   ]
  },
  {
   "cell_type": "code",
   "execution_count": 32,
   "id": "6ef3c2ae-31c1-46e5-9de7-fef80a44758e",
   "metadata": {},
   "outputs": [
    {
     "data": {
      "text/latex": [
       "$\\displaystyle 1$"
      ],
      "text/plain": [
       "1"
      ]
     },
     "execution_count": 32,
     "metadata": {},
     "output_type": "execute_result"
    }
   ],
   "source": [
    "sym.integrate(sym.sin(x), (x, 0, sym.pi / 2))"
   ]
  },
  {
   "cell_type": "code",
   "execution_count": 33,
   "id": "8ee22791-8b2e-4a83-9bf6-24ca764dbc73",
   "metadata": {},
   "outputs": [
    {
     "data": {
      "text/latex": [
       "$\\displaystyle 2$"
      ],
      "text/plain": [
       "2"
      ]
     },
     "execution_count": 33,
     "metadata": {},
     "output_type": "execute_result"
    }
   ],
   "source": [
    "sym.integrate(sym.cos(x), (x, -sym.pi / 2, sym.pi / 2))"
   ]
  },
  {
   "cell_type": "code",
   "execution_count": 34,
   "id": "828c38f6-2c62-437e-9102-c0994c1ac267",
   "metadata": {},
   "outputs": [
    {
     "data": {
      "text/latex": [
       "$\\displaystyle 1$"
      ],
      "text/plain": [
       "1"
      ]
     },
     "execution_count": 34,
     "metadata": {},
     "output_type": "execute_result"
    }
   ],
   "source": [
    "sym.integrate(sym.exp(-x), (x, 0, sym.oo))"
   ]
  },
  {
   "cell_type": "markdown",
   "id": "c73ea6d4-5c59-4900-a279-79b6c7f80683",
   "metadata": {},
   "source": [
    "## Equation Solving\n",
    "solve algebraic equations, in one and several variables using solveset():"
   ]
  },
  {
   "cell_type": "code",
   "execution_count": 35,
   "id": "748c5868-21fb-4bfd-94be-e9415673a4dd",
   "metadata": {},
   "outputs": [
    {
     "data": {
      "text/latex": [
       "$\\displaystyle \\left\\{-1, 1, - i, i\\right\\}$"
      ],
      "text/plain": [
       "{-1, 1, -I, I}"
      ]
     },
     "execution_count": 35,
     "metadata": {},
     "output_type": "execute_result"
    }
   ],
   "source": [
    "sym.solveset(x ** 4 - 1, x)"
   ]
  },
  {
   "cell_type": "code",
   "execution_count": 36,
   "id": "df517f09-792d-4709-bca0-179dfb4ccc4d",
   "metadata": {},
   "outputs": [
    {
     "data": {
      "text/latex": [
       "$\\displaystyle \\left\\{i \\left(2 n \\pi + \\pi\\right)\\; \\middle|\\; n \\in \\mathbb{Z}\\right\\}$"
      ],
      "text/plain": [
       "ImageSet(Lambda(_n, I*(2*_n*pi + pi)), Integers)"
      ]
     },
     "execution_count": 36,
     "metadata": {},
     "output_type": "execute_result"
    }
   ],
   "source": [
    "#As you can see it takes as first argument an expression that is supposed to be equaled to 0. \n",
    "#It also has (limited) support for transcendental equations:\n",
    "sym.solveset(sym.exp(x) + 1, x)"
   ]
  },
  {
   "cell_type": "markdown",
   "id": "78c7c709-7f6c-437f-82e4-5b53ff0e3182",
   "metadata": {},
   "source": [
    "### Systems of linear equations\n",
    "\n",
    "Sympy is able to solve a large part of polynomial equations, and is also capable of solving multiple equations with respect to multiple variables giving a tuple as second argument. To do this you use the solve() command:"
   ]
  },
  {
   "cell_type": "code",
   "execution_count": 37,
   "id": "07ec4610-f161-4df2-82eb-bd95b7606f59",
   "metadata": {},
   "outputs": [
    {
     "data": {
      "text/plain": [
       "(-3, 1)"
      ]
     },
     "execution_count": 37,
     "metadata": {},
     "output_type": "execute_result"
    }
   ],
   "source": [
    "solution = sym.solve((x + 5 * y - 2, -3 * x + 6 * y - 15), (x, y))\n",
    "solution[x], solution[y]"
   ]
  },
  {
   "cell_type": "markdown",
   "id": "9edf83e4-d389-478c-81bb-bdd76bb1e7f9",
   "metadata": {},
   "source": [
    "Another alternative in the case of polynomial equations is factor. factor returns the polynomial factorized into irreducible terms, and is capable of computing the factorization over various domains:"
   ]
  },
  {
   "cell_type": "code",
   "execution_count": 38,
   "id": "fa1337aa-baea-4fe7-838f-75430461546d",
   "metadata": {},
   "outputs": [
    {
     "data": {
      "text/latex": [
       "$\\displaystyle \\left(x^{2} - x - 1\\right) \\left(x^{2} + x - 1\\right)$"
      ],
      "text/plain": [
       "(x**2 - x - 1)*(x**2 + x - 1)"
      ]
     },
     "execution_count": 38,
     "metadata": {},
     "output_type": "execute_result"
    }
   ],
   "source": [
    "f = x ** 4 - 3 * x ** 2 + 1\n",
    "sym.factor(f)"
   ]
  },
  {
   "cell_type": "code",
   "execution_count": 39,
   "id": "69d5ad87-8078-4c38-8f71-707efbc6b5d5",
   "metadata": {},
   "outputs": [
    {
     "data": {
      "text/latex": [
       "$\\displaystyle \\left(x - 2\\right)^{2} \\left(x + 2\\right)^{2}$"
      ],
      "text/plain": [
       "(x - 2)**2*(x + 2)**2"
      ]
     },
     "execution_count": 39,
     "metadata": {},
     "output_type": "execute_result"
    }
   ],
   "source": [
    "sym.factor(f, modulus=5)"
   ]
  },
  {
   "cell_type": "markdown",
   "id": "718845b3-a8a4-4bbb-9f07-c3db39a6fd4f",
   "metadata": {},
   "source": [
    "SymPy is also able to solve boolean equations, that is, to decide if a certain boolean expression is satisfiable or not. For this, we use the function satisfiable:"
   ]
  },
  {
   "cell_type": "code",
   "execution_count": 40,
   "id": "bac40d41-7b78-4687-9a9f-264ee6447b1d",
   "metadata": {},
   "outputs": [
    {
     "data": {
      "text/plain": [
       "{x: True, y: True}"
      ]
     },
     "execution_count": 40,
     "metadata": {},
     "output_type": "execute_result"
    }
   ],
   "source": [
    "sym.satisfiable(x & y)"
   ]
  },
  {
   "cell_type": "markdown",
   "id": "84d1198e-1bfa-4438-989a-e96d61688380",
   "metadata": {},
   "source": [
    "This tells us that (x & y) is True whenever x and y are both True. If an expression cannot be true, i.e. no values of its arguments can make the expression True, it will return False:"
   ]
  },
  {
   "cell_type": "code",
   "execution_count": 41,
   "id": "399bcdcc-318a-4a18-ac45-6486bb772c72",
   "metadata": {},
   "outputs": [
    {
     "data": {
      "text/plain": [
       "False"
      ]
     },
     "execution_count": 41,
     "metadata": {},
     "output_type": "execute_result"
    }
   ],
   "source": [
    "sym.satisfiable(x & ~x)"
   ]
  },
  {
   "cell_type": "markdown",
   "id": "505d61b8-5031-475e-bdb8-1cc6543a911d",
   "metadata": {},
   "source": [
    "## Linear Algebra"
   ]
  },
  {
   "cell_type": "markdown",
   "id": "c2a6d5e3-f3ec-4b11-9eb5-a4f2a38a2b97",
   "metadata": {},
   "source": [
    "### Matrices\n",
    "Matrices are created as instances from the Matrix class:"
   ]
  },
  {
   "cell_type": "code",
   "execution_count": 42,
   "id": "8a095295-ebc0-4d31-a0fa-69e0c769754c",
   "metadata": {},
   "outputs": [
    {
     "data": {
      "text/latex": [
       "$\\displaystyle \\left[\\begin{matrix}1 & 0\\\\0 & 1\\end{matrix}\\right]$"
      ],
      "text/plain": [
       "Matrix([\n",
       "[1, 0],\n",
       "[0, 1]])"
      ]
     },
     "execution_count": 42,
     "metadata": {},
     "output_type": "execute_result"
    }
   ],
   "source": [
    "sym.Matrix([[1, 0], [0, 1]])"
   ]
  },
  {
   "cell_type": "code",
   "execution_count": 44,
   "id": "64c627f6-c3be-4d55-a067-c1178d59a9f8",
   "metadata": {},
   "outputs": [
    {
     "data": {
      "text/latex": [
       "$\\displaystyle \\left[\\begin{matrix}1 & x\\\\y & 1\\end{matrix}\\right]$"
      ],
      "text/plain": [
       "Matrix([\n",
       "[1, x],\n",
       "[y, 1]])"
      ]
     },
     "execution_count": 44,
     "metadata": {},
     "output_type": "execute_result"
    }
   ],
   "source": [
    "#unlike a NumPy array, you can also put Symbols in it:\n",
    "x, y = sym.symbols('x, y')\n",
    "A = sym.Matrix([[1, x], [y, 1]])\n",
    "A"
   ]
  },
  {
   "cell_type": "code",
   "execution_count": 45,
   "id": "90343584-23ef-4447-953a-a3f92642c937",
   "metadata": {},
   "outputs": [
    {
     "data": {
      "text/latex": [
       "$\\displaystyle \\left[\\begin{matrix}x y + 1 & 2 x\\\\2 y & x y + 1\\end{matrix}\\right]$"
      ],
      "text/plain": [
       "Matrix([\n",
       "[x*y + 1,     2*x],\n",
       "[    2*y, x*y + 1]])"
      ]
     },
     "execution_count": 45,
     "metadata": {},
     "output_type": "execute_result"
    }
   ],
   "source": [
    "A**2"
   ]
  },
  {
   "cell_type": "markdown",
   "id": "10e6ce9c-e918-4097-aaa8-f4e5ab2d94d3",
   "metadata": {},
   "source": [
    "### Differential Equations\n",
    "SymPy is capable of solving (some) Ordinary Differential. To solve differential equations, use dsolve. First, create an undefined function by passing cls=Function to the symbols function:"
   ]
  },
  {
   "cell_type": "code",
   "execution_count": 46,
   "id": "2bf11af3-3191-4890-a326-ba84096214e6",
   "metadata": {},
   "outputs": [],
   "source": [
    "f, g = sym.symbols('f g', cls=sym.Function)\n",
    "#f and g are now undefined functions. We can call f(x), \n",
    "#and it will represent an unknown function:"
   ]
  },
  {
   "cell_type": "code",
   "execution_count": 47,
   "id": "e1edcbe2-2f37-4a7c-8e6a-92f4178c8715",
   "metadata": {},
   "outputs": [
    {
     "data": {
      "text/latex": [
       "$\\displaystyle f{\\left(x \\right)}$"
      ],
      "text/plain": [
       "f(x)"
      ]
     },
     "execution_count": 47,
     "metadata": {},
     "output_type": "execute_result"
    }
   ],
   "source": [
    "f(x)"
   ]
  },
  {
   "cell_type": "code",
   "execution_count": 48,
   "id": "92810368-02d7-45c4-b3b8-2a9220720c0b",
   "metadata": {},
   "outputs": [
    {
     "data": {
      "text/latex": [
       "$\\displaystyle f{\\left(x \\right)} + \\frac{d^{2}}{d x^{2}} f{\\left(x \\right)}$"
      ],
      "text/plain": [
       "f(x) + Derivative(f(x), (x, 2))"
      ]
     },
     "execution_count": 48,
     "metadata": {},
     "output_type": "execute_result"
    }
   ],
   "source": [
    "f(x).diff(x, x) + f(x)"
   ]
  },
  {
   "cell_type": "code",
   "execution_count": 49,
   "id": "5b7cb02c-2584-4184-ab9e-1b635cd1a541",
   "metadata": {},
   "outputs": [
    {
     "data": {
      "text/latex": [
       "$\\displaystyle f{\\left(x \\right)} = C_{1} \\sin{\\left(x \\right)} + C_{2} \\cos{\\left(x \\right)}$"
      ],
      "text/plain": [
       "Eq(f(x), C1*sin(x) + C2*cos(x))"
      ]
     },
     "execution_count": 49,
     "metadata": {},
     "output_type": "execute_result"
    }
   ],
   "source": [
    "sym.dsolve(f(x).diff(x, x) + f(x), f(x))"
   ]
  },
  {
   "cell_type": "code",
   "execution_count": 50,
   "id": "c6054586-3d13-4188-8bf1-3d1dcc62dc35",
   "metadata": {},
   "outputs": [
    {
     "data": {
      "text/plain": [
       "[Eq(f(x), -acos(C1/cos(x)) + 2*pi), Eq(f(x), acos(C1/cos(x)))]"
      ]
     },
     "execution_count": 50,
     "metadata": {},
     "output_type": "execute_result"
    }
   ],
   "source": [
    "sym.dsolve(sym.sin(x) * sym.cos(f(x)) + sym.cos(x) * sym.sin(f(x)) * f(x).diff(x), f(x), hint='separable') "
   ]
  },
  {
   "cell_type": "code",
   "execution_count": null,
   "id": "56244a1c-8c12-406c-aa54-be17c9eb7427",
   "metadata": {},
   "outputs": [],
   "source": []
  }
 ],
 "metadata": {
  "kernelspec": {
   "display_name": "Python 3 (ipykernel)",
   "language": "python",
   "name": "python3"
  },
  "language_info": {
   "codemirror_mode": {
    "name": "ipython",
    "version": 3
   },
   "file_extension": ".py",
   "mimetype": "text/x-python",
   "name": "python",
   "nbconvert_exporter": "python",
   "pygments_lexer": "ipython3",
   "version": "3.9.15"
  }
 },
 "nbformat": 4,
 "nbformat_minor": 5
}
