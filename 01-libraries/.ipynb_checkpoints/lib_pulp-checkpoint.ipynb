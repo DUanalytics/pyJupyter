{
 "cells": [
  {
   "cell_type": "markdown",
   "id": "2bdef40e-0028-4cc3-9ffc-486bc33b0369",
   "metadata": {},
   "source": [
    "# Library pulp\n",
    "Linear Programming\n",
    "https://github.com/coin-or/pulp"
   ]
  },
  {
   "cell_type": "code",
   "execution_count": null,
   "id": "59a137b3-a15e-4cb0-a445-b5527a7babb6",
   "metadata": {},
   "outputs": [],
   "source": [
    "# installl\n",
    "#!pip install pulp\n",
    "#!pip install -U git+https://github.com/coin-or/pulp"
   ]
  },
  {
   "cell_type": "markdown",
   "id": "40e90c1f-2d47-480b-ad58-5d5cc80af2ac",
   "metadata": {},
   "source": [
    "# Whiskas Model1\n",
    "https://github.com/coin-or/pulp/blob/master/examples/WhiskasModel1.py"
   ]
  },
  {
   "cell_type": "code",
   "execution_count": null,
   "id": "a6b9811b-157a-49eb-aa51-ebf7c509415b",
   "metadata": {},
   "outputs": [],
   "source": [
    "# Import PuLP modeler functions\n",
    "from pulp import *\n",
    "\n",
    "# Create the 'prob' variable to contain the problem data\n",
    "prob = LpProblem(\"The Whiskas Problem\", LpMinimize)\n",
    "\n",
    "# The 2 variables Beef and Chicken are created with a lower limit of zero\n",
    "x1 = LpVariable(\"ChickenPercent\", 0, None, LpInteger)\n",
    "x2 = LpVariable(\"BeefPercent\", 0)\n",
    "\n",
    "# The objective function is added to 'prob' first\n",
    "prob += 0.013 * x1 + 0.008 * x2, \"Total Cost of Ingredients per can\"\n",
    "prob"
   ]
  },
  {
   "cell_type": "code",
   "execution_count": null,
   "id": "afc7fdee-c642-4121-ba3d-abf01fc045be",
   "metadata": {},
   "outputs": [],
   "source": [
    "print(prob)"
   ]
  },
  {
   "cell_type": "code",
   "execution_count": null,
   "id": "1cd6fab9-860e-4eb1-b134-3b8c9aa4b56a",
   "metadata": {},
   "outputs": [],
   "source": [
    "# The five constraints are entered\n",
    "prob += x1 + x2 == 100, \"PercentagesSum\"\n",
    "prob += 0.100 * x1 + 0.200 * x2 >= 8.0, \"ProteinRequirement\"\n",
    "prob += 0.080 * x1 + 0.100 * x2 >= 6.0, \"FatRequirement\"\n",
    "prob += 0.001 * x1 + 0.005 * x2 <= 2.0, \"FibreRequirement\"\n",
    "prob += 0.002 * x1 + 0.005 * x2 <= 0.4, \"SaltRequirement\"\n",
    "\n",
    "# The problem data is written to an .lp file\n",
    "prob.writeLP(\"WhiskasModel.lp\")\n",
    "\n",
    "# The problem is solved using PuLP's choice of Solver\n",
    "prob.solve()\n",
    "\n",
    "# The status of the solution is printed to the screen\n",
    "print(\"Status:\", LpStatus[prob.status])\n",
    "\n",
    "# Each of the variables is printed with it's resolved optimum value\n",
    "for v in prob.variables():\n",
    "    print(v.name, \"=\", v.varValue)\n",
    "\n",
    "# The optimised objective function value is printed to the screen\n",
    "print(\"Total Cost of Ingredients per can = \", value(prob.objective))"
   ]
  },
  {
   "cell_type": "markdown",
   "id": "25475068-be42-409a-bafc-41b929fceacb",
   "metadata": {},
   "source": [
    "## Beer Distribution Problem\n",
    "https://github.com/coin-or/pulp/blob/master/examples/BeerDistributionProblem.py\n",
    "\"\"\"\n",
    "The Beer Distribution Problem for the PuLP Modeller\n",
    "Authors: Antony Phillips, Dr Stuart Mitchell  2007\n",
    "\"\"\""
   ]
  },
  {
   "cell_type": "code",
   "execution_count": null,
   "id": "e93b82c0-1390-4c33-a2bf-2aaf701e0882",
   "metadata": {},
   "outputs": [],
   "source": [
    "# Import PuLP modeler functions\n",
    "from pulp import *\n",
    "\n",
    "# Creates a list of all the supply nodes\n",
    "Warehouses = [\"A\", \"B\"]\n",
    "\n",
    "# Creates a dictionary for the number of units of supply for each supply node\n",
    "supply = {\"A\": 1000, \"B\": 4000}\n",
    "\n",
    "# Creates a list of all demand nodes\n",
    "Bars = [\"1\", \"2\", \"3\", \"4\", \"5\"]\n",
    "\n",
    "# Creates a dictionary for the number of units of demand for each demand node\n",
    "demand = {\n",
    "    \"1\": 500,\n",
    "    \"2\": 900,\n",
    "    \"3\": 1800,\n",
    "    \"4\": 200,\n",
    "    \"5\": 700,\n",
    "}\n",
    "\n",
    "# Creates a list of costs of each transportation path\n",
    "costs = [  # Bars\n",
    "    # 1 2 3 4 5\n",
    "    [2, 4, 5, 2, 1],  # A   Warehouses\n",
    "    [3, 1, 3, 2, 3],  # B\n",
    "]\n",
    "\n",
    "# The cost data is made into a dictionary\n",
    "costs = makeDict([Warehouses, Bars], costs, 0)\n",
    "\n",
    "# Creates the 'prob' variable to contain the problem data\n",
    "prob = LpProblem(\"Beer Distribution Problem\", LpMinimize)\n",
    "\n",
    "# Creates a list of tuples containing all the possible routes for transport\n",
    "Routes = [(w, b) for w in Warehouses for b in Bars]\n",
    "\n",
    "# A dictionary called 'Vars' is created to contain the referenced variables(the routes)\n",
    "vars = LpVariable.dicts(\"Route\", (Warehouses, Bars), 0, None, LpInteger)\n",
    "\n",
    "# The objective function is added to 'prob' first\n",
    "prob += (\n",
    "    lpSum([vars[w][b] * costs[w][b] for (w, b) in Routes]),\n",
    "    \"Sum_of_Transporting_Costs\",\n",
    ")\n",
    "\n",
    "# The supply maximum constraints are added to prob for each supply node (warehouse)\n",
    "for w in Warehouses:\n",
    "    prob += (\n",
    "        lpSum([vars[w][b] for b in Bars]) <= supply[w],\n",
    "        f\"Sum_of_Products_out_of_Warehouse_{w}\",\n",
    "    )\n",
    "\n",
    "# The demand minimum constraints are added to prob for each demand node (bar)\n",
    "for b in Bars:\n",
    "    prob += (\n",
    "        lpSum([vars[w][b] for w in Warehouses]) >= demand[b],\n",
    "        f\"Sum_of_Products_into_Bar{b}\",\n",
    "    )\n",
    "\n",
    "# The problem data is written to an .lp file\n",
    "prob.writeLP(\"BeerDistributionProblem.lp\")\n",
    "\n",
    "# The problem is solved using PuLP's choice of Solver\n",
    "prob.solve()\n",
    "\n",
    "# The status of the solution is printed to the screen\n",
    "print(\"Status:\", LpStatus[prob.status])\n",
    "\n",
    "# Each of the variables is printed with it's resolved optimum value\n",
    "for v in prob.variables():\n",
    "    print(v.name, \"=\", v.varValue)\n",
    "\n",
    "# The optimised objective function value is printed to the screen\n",
    "print(\"Total Cost of Transportation = \", value(prob.objective))"
   ]
  }
 ],
 "metadata": {
  "kernelspec": {
   "display_name": "Python 3 (ipykernel)",
   "language": "python",
   "name": "python3"
  },
  "language_info": {
   "codemirror_mode": {
    "name": "ipython",
    "version": 3
   },
   "file_extension": ".py",
   "mimetype": "text/x-python",
   "name": "python",
   "nbconvert_exporter": "python",
   "pygments_lexer": "ipython3",
   "version": "3.9.15"
  }
 },
 "nbformat": 4,
 "nbformat_minor": 5
}
