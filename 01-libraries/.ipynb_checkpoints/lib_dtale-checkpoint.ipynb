{
 "cells": [
  {
   "cell_type": "markdown",
   "id": "54fc4441",
   "metadata": {},
   "source": [
    "# Library dtale\n",
    "https://pypi.org/project/dtale/"
   ]
  },
  {
   "cell_type": "code",
   "execution_count": 7,
   "id": "e6e58882",
   "metadata": {},
   "outputs": [],
   "source": [
    "#!pip install dtale"
   ]
  },
  {
   "cell_type": "code",
   "execution_count": 4,
   "id": "b8d291b0",
   "metadata": {},
   "outputs": [],
   "source": [
    "import dtale\n",
    "import pandas as pd"
   ]
  },
  {
   "cell_type": "code",
   "execution_count": 5,
   "id": "525a0c17",
   "metadata": {},
   "outputs": [
    {
     "data": {
      "text/html": [
       "<div>\n",
       "<style scoped>\n",
       "    .dataframe tbody tr th:only-of-type {\n",
       "        vertical-align: middle;\n",
       "    }\n",
       "\n",
       "    .dataframe tbody tr th {\n",
       "        vertical-align: top;\n",
       "    }\n",
       "\n",
       "    .dataframe thead th {\n",
       "        text-align: right;\n",
       "    }\n",
       "</style>\n",
       "<table border=\"1\" class=\"dataframe\">\n",
       "  <thead>\n",
       "    <tr style=\"text-align: right;\">\n",
       "      <th></th>\n",
       "      <th>a</th>\n",
       "      <th>b</th>\n",
       "      <th>c</th>\n",
       "    </tr>\n",
       "  </thead>\n",
       "  <tbody>\n",
       "    <tr>\n",
       "      <th>0</th>\n",
       "      <td>1</td>\n",
       "      <td>2</td>\n",
       "      <td>3</td>\n",
       "    </tr>\n",
       "  </tbody>\n",
       "</table>\n",
       "</div>"
      ],
      "text/plain": [
       "   a  b  c\n",
       "0  1  2  3"
      ]
     },
     "execution_count": 5,
     "metadata": {},
     "output_type": "execute_result"
    }
   ],
   "source": [
    "df = pd.DataFrame([dict(a=1,b=2,c=3)])\n",
    "df"
   ]
  },
  {
   "cell_type": "code",
   "execution_count": 11,
   "id": "9b40e890",
   "metadata": {},
   "outputs": [],
   "source": [
    "# Assigning a reference to a running D-Tale process\n",
    "d = dtale.show(df)"
   ]
  },
  {
   "cell_type": "code",
   "execution_count": 9,
   "id": "4f224f71",
   "metadata": {},
   "outputs": [],
   "source": [
    "# Accessing data associated with D-Tale process\n",
    "tmp = d.data.copy()\n",
    "tmp['d'] = 4"
   ]
  },
  {
   "cell_type": "code",
   "execution_count": 10,
   "id": "f0c03653",
   "metadata": {},
   "outputs": [],
   "source": [
    "# Altering data associated with D-Tale process\n",
    "# FYI: this will clear any front-end settings you have at the time for this process (filter, sorts, formatting)\n",
    "d.data = tmp"
   ]
  },
  {
   "cell_type": "code",
   "execution_count": null,
   "id": "6533ec5a",
   "metadata": {},
   "outputs": [],
   "source": [
    "# Shutting down D-Tale process\n",
    "d.kill()"
   ]
  },
  {
   "cell_type": "code",
   "execution_count": 12,
   "id": "d68d3aff",
   "metadata": {},
   "outputs": [],
   "source": [
    "# using Python's `webbrowser` package it will try and open your server's default browser to this process\n",
    "d.open_browser()"
   ]
  },
  {
   "cell_type": "code",
   "execution_count": 13,
   "id": "38d1f40f",
   "metadata": {},
   "outputs": [
    {
     "name": "stdout",
     "output_type": "stream",
     "text": [
      "Exception occurred while processing request: `dataset` input should have multiple elements.\n",
      "Traceback (most recent call last):\n",
      "  File \"C:\\Users\\du\\AppData\\Roaming\\Python\\Python39\\site-packages\\dtale\\views.py\", line 111, in _handle_exceptions\n",
      "    return func(*args, **kwargs)\n",
      "  File \"C:\\Users\\du\\AppData\\Roaming\\Python\\Python39\\site-packages\\dtale\\views.py\", line 2729, in get_column_analysis\n",
      "    return jsonify(**analysis.build())\n",
      "  File \"C:\\Users\\du\\AppData\\Roaming\\Python\\Python39\\site-packages\\dtale\\column_analysis.py\", line 137, in build\n",
      "    return_data, code = self.analysis.build(self)\n",
      "  File \"C:\\Users\\du\\AppData\\Roaming\\Python\\Python39\\site-packages\\dtale\\column_analysis.py\", line 184, in build\n",
      "    kde, kde_code = build_kde(\n",
      "  File \"C:\\Users\\du\\AppData\\Roaming\\Python\\Python39\\site-packages\\dtale\\column_analysis.py\", line 67, in build_kde\n",
      "    kde = sts.gaussian_kde(s)\n",
      "  File \"C:\\ProgramData\\Anaconda3\\lib\\site-packages\\scipy\\stats\\_kde.py\", line 194, in __init__\n",
      "    raise ValueError(\"`dataset` input should have multiple elements.\")\n",
      "ValueError: `dataset` input should have multiple elements.\n"
     ]
    },
    {
     "name": "stderr",
     "output_type": "stream",
     "text": [
      "2022-12-04 11:43:33,581 - ERROR    - Exception occurred while processing request: `dataset` input should have multiple elements.\n",
      "Traceback (most recent call last):\n",
      "  File \"C:\\Users\\du\\AppData\\Roaming\\Python\\Python39\\site-packages\\dtale\\views.py\", line 111, in _handle_exceptions\n",
      "    return func(*args, **kwargs)\n",
      "  File \"C:\\Users\\du\\AppData\\Roaming\\Python\\Python39\\site-packages\\dtale\\views.py\", line 2729, in get_column_analysis\n",
      "    return jsonify(**analysis.build())\n",
      "  File \"C:\\Users\\du\\AppData\\Roaming\\Python\\Python39\\site-packages\\dtale\\column_analysis.py\", line 137, in build\n",
      "    return_data, code = self.analysis.build(self)\n",
      "  File \"C:\\Users\\du\\AppData\\Roaming\\Python\\Python39\\site-packages\\dtale\\column_analysis.py\", line 184, in build\n",
      "    kde, kde_code = build_kde(\n",
      "  File \"C:\\Users\\du\\AppData\\Roaming\\Python\\Python39\\site-packages\\dtale\\column_analysis.py\", line 67, in build_kde\n",
      "    kde = sts.gaussian_kde(s)\n",
      "  File \"C:\\ProgramData\\Anaconda3\\lib\\site-packages\\scipy\\stats\\_kde.py\", line 194, in __init__\n",
      "    raise ValueError(\"`dataset` input should have multiple elements.\")\n",
      "ValueError: `dataset` input should have multiple elements.\n"
     ]
    }
   ],
   "source": [
    "# There is also some helpful metadata about the process\n",
    "d._data_id  # the process's data identifier\n",
    "d._url  # the url to access the process\n",
    "d2 = dtale.get_instance(d._data_id)  # returns a new reference to the instance running at that data_id\n"
   ]
  },
  {
   "cell_type": "code",
   "execution_count": null,
   "id": "82fed69d",
   "metadata": {},
   "outputs": [],
   "source": [
    "dtale.instances()  # prints a list of all ids & urls of running D-Tale sessions"
   ]
  }
 ],
 "metadata": {
  "kernelspec": {
   "display_name": "Python 3 (ipykernel)",
   "language": "python",
   "name": "python3"
  },
  "language_info": {
   "codemirror_mode": {
    "name": "ipython",
    "version": 3
   },
   "file_extension": ".py",
   "mimetype": "text/x-python",
   "name": "python",
   "nbconvert_exporter": "python",
   "pygments_lexer": "ipython3",
   "version": "3.9.13"
  }
 },
 "nbformat": 4,
 "nbformat_minor": 5
}
