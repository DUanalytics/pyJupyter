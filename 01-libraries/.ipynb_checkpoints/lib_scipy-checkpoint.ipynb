{
 "cells": [
  {
   "cell_type": "markdown",
   "id": "57785c6c-d38b-4c7d-8771-910988101f58",
   "metadata": {},
   "source": [
    "# Library scipy\n",
    "https://scipy.org/\n",
    "SciPy provides algorithms for optimization, integration, interpolation, eigenvalue problems, algebraic equations, differential equations, statistics and many other classes of problems.\n",
    "https://docs.scipy.org/doc/scipy/getting_started.html#getting-started-ref\n",
    "https://scipy-lectures.org/packages/statistics/index.html"
   ]
  },
  {
   "cell_type": "code",
   "execution_count": null,
   "id": "3d2b0a8f-dcd0-4571-9b9b-122aaee9696e",
   "metadata": {},
   "outputs": [],
   "source": []
  },
  {
   "cell_type": "markdown",
   "id": "9e0a2f90-6053-46bf-99e5-b7bf52ba30c4",
   "metadata": {},
   "source": [
    "## Statistics"
   ]
  },
  {
   "cell_type": "code",
   "execution_count": 2,
   "id": "a9111719-935c-4b80-8c00-ff0223bca992",
   "metadata": {},
   "outputs": [],
   "source": [
    "from scipy import stats\n",
    "from scipy.stats import norm"
   ]
  },
  {
   "cell_type": "code",
   "execution_count": 3,
   "id": "cb39c7ee-70a2-447a-b498-55cef9188603",
   "metadata": {},
   "outputs": [
    {
     "name": "stdout",
     "output_type": "stream",
     "text": [
      "0.0 1.0 1.0\n"
     ]
    }
   ],
   "source": [
    "print(norm.mean(), norm.std(), norm.var())"
   ]
  },
  {
   "cell_type": "markdown",
   "id": "769a2d36-3dfd-401e-9d6d-4e91e72a95a1",
   "metadata": {},
   "source": [
    "### rv_continuous\n",
    "It is a generic base class through which we can construct specific distribution sub-classes and instances for continuous random variables."
   ]
  },
  {
   "cell_type": "markdown",
   "id": "f89300aa-f5b6-43f3-9059-424239e13bf9",
   "metadata": {},
   "source": [
    "### rv_discrete\n",
    "It is a generic base class through which we can construct specific distribution sub-classes and instances for discrete random variables."
   ]
  },
  {
   "cell_type": "markdown",
   "id": "3908a9e3-6611-4278-845b-9a9ffd265c15",
   "metadata": {},
   "source": [
    "### rv_histogram\n",
    "We can use it to generate specific distribution histograms. It can also be inherited from the class."
   ]
  },
  {
   "cell_type": "markdown",
   "id": "3623c914-2839-47d4-9f8f-751c94d59eb0",
   "metadata": {},
   "source": [
    "### normal distribution\n",
    "e import the norm function which inherits from the rv_continuous class. The functions include methods and details to work on the specific continuous distribution."
   ]
  },
  {
   "cell_type": "code",
   "execution_count": 4,
   "id": "364d1f97-bced-4e9f-814a-4f0872e03269",
   "metadata": {},
   "outputs": [
    {
     "name": "stdout",
     "output_type": "stream",
     "text": [
      "[0.97724987 0.15865525 0.99996833 0.84134475 0.9986501  0.5       ]\n"
     ]
    }
   ],
   "source": [
    "from scipy.stats import norm\n",
    "import numpy as np\n",
    "a=np.array([2,-1,4,1,3,0])\n",
    "print(norm.cdf(a))"
   ]
  },
  {
   "cell_type": "code",
   "execution_count": 6,
   "id": "631e60af-3799-4aaf-bd23-dc81294d706e",
   "metadata": {},
   "outputs": [
    {
     "name": "stdout",
     "output_type": "stream",
     "text": [
      "[ 2.00000004 -1.00000002  4.00000928  1.00000002  2.99999956  0.        ]\n"
     ]
    }
   ],
   "source": [
    "#median of the distribution using the Percent Point Function. PPF is actually the inverse value of CDF.\n",
    "a=np.array([0.97724987,0.15865525,0.99996833, 0.84134475, 0.9986501,0.5])\n",
    "print(norm.ppf(a))"
   ]
  },
  {
   "cell_type": "markdown",
   "id": "e78cb791-7d84-4a47-942e-8eb576d715f0",
   "metadata": {},
   "source": [
    "### uniform distribution\n",
    "generate a uniform distribution. We need to import the uniform function and then generate the CDF of the array.\n",
    "\n",
    "We can increase the functionality with the use of scale and loc keyword. The scale keyword defines the standard deviation and the loc defines the mean value."
   ]
  },
  {
   "cell_type": "code",
   "execution_count": 7,
   "id": "0d8eee7f-660c-4239-b377-7f0b510eefc9",
   "metadata": {},
   "outputs": [
    {
     "name": "stdout",
     "output_type": "stream",
     "text": [
      "[1.         1.         0.66666667 0.         0.        ]\n"
     ]
    }
   ],
   "source": [
    "from scipy.stats import uniform\n",
    "a=np.array([9,8,7,3,2])\n",
    "print (uniform.cdf(a, loc =5 , scale = 3))"
   ]
  },
  {
   "cell_type": "markdown",
   "id": "9ccc6255-3c7a-4b8f-9b6f-b7dca2e85e43",
   "metadata": {},
   "source": [
    "### binomial distribution\n",
    "binomial distribution by importing binom the instance of rv_discrete class. It consists of methods and details from class."
   ]
  },
  {
   "cell_type": "code",
   "execution_count": 9,
   "id": "d8d48852-d697-4cfb-a330-0c4a79f8ee1b",
   "metadata": {},
   "outputs": [
    {
     "name": "stdout",
     "output_type": "stream",
     "text": [
      "[nan nan nan nan nan]\n"
     ]
    }
   ],
   "source": [
    "from scipy.stats import binom\n",
    "a=np.array([9,8,7,3,2])\n",
    "print (binom.cdf(a,n=2,p=5))"
   ]
  },
  {
   "cell_type": "markdown",
   "id": "4cb996e7-847f-483a-a668-6748aae7eaf7",
   "metadata": {},
   "source": [
    "## Descriptive Stats\n",
    "describe()- it returns descriptive stats of the arrays\n",
    "gmean()- it returns the geometric mean along a specific axis of an array\n",
    "hmean()- it returns the harmonic mean along a specific axis of an array\n",
    "sem()- it returns the standard error mean of the mean\n",
    "kurtosis()- it returns the kurtosis value of an array\n",
    "mode()- it returns the mode of an array\n",
    "skew()- it is to perform the skew test on an array\n",
    "zscore()- it returns the z-score relative to the mean and standard deviation values."
   ]
  },
  {
   "cell_type": "markdown",
   "id": "163e7ce7-b081-45c1-b12f-9befb0424440",
   "metadata": {},
   "source": [
    "## t-test\n",
    "T-test to evaluate the difference between the mean (average) values of two arrays. We consider the value of T-Test as a significant difference in the two data\n",
    "T-score is the concept of relativity. We compute the ratio between the two sets of data. The T-score value describes the difference in arrays. The smaller the value, the more similar are the arrays and vice versa.\n",
    "The two data sets for comparison can be of any type. The two arrays can even follow dissimilar distribution patterns."
   ]
  },
  {
   "cell_type": "code",
   "execution_count": 12,
   "id": "f3edac7f-8c36-4459-b097-1520834a73fd",
   "metadata": {},
   "outputs": [
    {
     "name": "stdout",
     "output_type": "stream",
     "text": [
      "[[2.44264643 3.15065584 2.17193836 2.83590729 2.61025881]\n",
      " [2.09696462 2.70022268 2.18521649 2.54908343 0.2966261 ]\n",
      " [2.07779555 1.63314015 0.7056678  2.94516115 1.72083589]\n",
      " [2.34547063 2.67445926 1.61368624 1.4459787  1.54748034]\n",
      " [3.08482571 1.28436358 3.64655909 2.83956942 0.81076734]\n",
      " [2.28499109 2.90384502 2.15629498 2.67203837 1.78586881]\n",
      " [2.10092026 2.9787201  2.28714921 2.51658885 4.00649905]\n",
      " [0.69901353 3.10475371 1.35964539 2.77262416 1.60446783]\n",
      " [1.15193122 1.94129079 1.39863512 1.69804809 2.47935717]\n",
      " [1.71800846 2.01290789 0.96473856 1.6256853  1.16810331]]\n",
      "\n",
      " 2.0961481427506365\n"
     ]
    }
   ],
   "source": [
    "from scipy import stats  \n",
    "a = stats.norm.rvs(loc = 2, scale = 1, size = (10,5))  \n",
    "print(a)\n",
    "print('\\n', np.mean(a))"
   ]
  },
  {
   "cell_type": "code",
   "execution_count": null,
   "id": "04475a80-2b84-47f0-b845-a5e96be0f49a",
   "metadata": {},
   "outputs": [],
   "source": [
    "print(stats.ttest_1samp(a, 2.0)) "
   ]
  },
  {
   "cell_type": "code",
   "execution_count": null,
   "id": "83dabb3d-a260-4099-bb6e-8158f340f2b6",
   "metadata": {},
   "outputs": [],
   "source": []
  },
  {
   "cell_type": "markdown",
   "id": "6f257c6e-85fe-47c6-8da4-54a30f1c79ac",
   "metadata": {},
   "source": [
    "## Example\n",
    "https://scipy-lectures.org/_downloads/brain_size.csv"
   ]
  },
  {
   "cell_type": "code",
   "execution_count": 25,
   "id": "0d5b1b67-8724-4dc2-aa61-7b13ecc4d88a",
   "metadata": {},
   "outputs": [],
   "source": [
    "import pandas as pd\n",
    "import matplotlib.pyplot as plt\n",
    "dlink = 'https://scipy-lectures.org/_downloads/brain_size.csv'\n",
    "data = pd.read_csv(dlink, sep=';', na_values='.')"
   ]
  },
  {
   "cell_type": "code",
   "execution_count": 14,
   "id": "231cdbe3-e2ab-4f23-89bc-0d643b510900",
   "metadata": {},
   "outputs": [
    {
     "data": {
      "text/html": [
       "<div>\n",
       "<style scoped>\n",
       "    .dataframe tbody tr th:only-of-type {\n",
       "        vertical-align: middle;\n",
       "    }\n",
       "\n",
       "    .dataframe tbody tr th {\n",
       "        vertical-align: top;\n",
       "    }\n",
       "\n",
       "    .dataframe thead th {\n",
       "        text-align: right;\n",
       "    }\n",
       "</style>\n",
       "<table border=\"1\" class=\"dataframe\">\n",
       "  <thead>\n",
       "    <tr style=\"text-align: right;\">\n",
       "      <th></th>\n",
       "      <th>Unnamed: 0</th>\n",
       "      <th>Gender</th>\n",
       "      <th>FSIQ</th>\n",
       "      <th>VIQ</th>\n",
       "      <th>PIQ</th>\n",
       "      <th>Weight</th>\n",
       "      <th>Height</th>\n",
       "      <th>MRI_Count</th>\n",
       "    </tr>\n",
       "  </thead>\n",
       "  <tbody>\n",
       "    <tr>\n",
       "      <th>0</th>\n",
       "      <td>1</td>\n",
       "      <td>Female</td>\n",
       "      <td>133</td>\n",
       "      <td>132</td>\n",
       "      <td>124</td>\n",
       "      <td>118.0</td>\n",
       "      <td>64.5</td>\n",
       "      <td>816932</td>\n",
       "    </tr>\n",
       "    <tr>\n",
       "      <th>1</th>\n",
       "      <td>2</td>\n",
       "      <td>Male</td>\n",
       "      <td>140</td>\n",
       "      <td>150</td>\n",
       "      <td>124</td>\n",
       "      <td>NaN</td>\n",
       "      <td>72.5</td>\n",
       "      <td>1001121</td>\n",
       "    </tr>\n",
       "    <tr>\n",
       "      <th>2</th>\n",
       "      <td>3</td>\n",
       "      <td>Male</td>\n",
       "      <td>139</td>\n",
       "      <td>123</td>\n",
       "      <td>150</td>\n",
       "      <td>143.0</td>\n",
       "      <td>73.3</td>\n",
       "      <td>1038437</td>\n",
       "    </tr>\n",
       "    <tr>\n",
       "      <th>3</th>\n",
       "      <td>4</td>\n",
       "      <td>Male</td>\n",
       "      <td>133</td>\n",
       "      <td>129</td>\n",
       "      <td>128</td>\n",
       "      <td>172.0</td>\n",
       "      <td>68.8</td>\n",
       "      <td>965353</td>\n",
       "    </tr>\n",
       "    <tr>\n",
       "      <th>4</th>\n",
       "      <td>5</td>\n",
       "      <td>Female</td>\n",
       "      <td>137</td>\n",
       "      <td>132</td>\n",
       "      <td>134</td>\n",
       "      <td>147.0</td>\n",
       "      <td>65.0</td>\n",
       "      <td>951545</td>\n",
       "    </tr>\n",
       "  </tbody>\n",
       "</table>\n",
       "</div>"
      ],
      "text/plain": [
       "   Unnamed: 0  Gender  FSIQ  VIQ  PIQ  Weight  Height  MRI_Count\n",
       "0           1  Female   133  132  124   118.0    64.5     816932\n",
       "1           2    Male   140  150  124     NaN    72.5    1001121\n",
       "2           3    Male   139  123  150   143.0    73.3    1038437\n",
       "3           4    Male   133  129  128   172.0    68.8     965353\n",
       "4           5  Female   137  132  134   147.0    65.0     951545"
      ]
     },
     "execution_count": 14,
     "metadata": {},
     "output_type": "execute_result"
    }
   ],
   "source": [
    "data.head()"
   ]
  },
  {
   "cell_type": "code",
   "execution_count": 15,
   "id": "9edb0ad6-0a7f-45c1-b624-3fc9e8299c50",
   "metadata": {},
   "outputs": [
    {
     "data": {
      "text/plain": [
       "(40, 8)"
      ]
     },
     "execution_count": 15,
     "metadata": {},
     "output_type": "execute_result"
    }
   ],
   "source": [
    "data.shape"
   ]
  },
  {
   "cell_type": "code",
   "execution_count": 16,
   "id": "99fbf094-a212-4261-88f8-9785de7ca7ad",
   "metadata": {},
   "outputs": [
    {
     "data": {
      "text/plain": [
       "Index(['Unnamed: 0', 'Gender', 'FSIQ', 'VIQ', 'PIQ', 'Weight', 'Height',\n",
       "       'MRI_Count'],\n",
       "      dtype='object')"
      ]
     },
     "execution_count": 16,
     "metadata": {},
     "output_type": "execute_result"
    }
   ],
   "source": [
    "data.columns"
   ]
  },
  {
   "cell_type": "code",
   "execution_count": 17,
   "id": "f4cc4ed3-cfb0-43ea-9788-72fe958a700c",
   "metadata": {},
   "outputs": [
    {
     "data": {
      "text/plain": [
       "109.45"
      ]
     },
     "execution_count": 17,
     "metadata": {},
     "output_type": "execute_result"
    }
   ],
   "source": [
    "data[data['Gender'] == 'Female']['VIQ'].mean()"
   ]
  },
  {
   "cell_type": "code",
   "execution_count": 18,
   "id": "5d06dc5c-eb4b-4431-a24a-81e3397e0c00",
   "metadata": {},
   "outputs": [
    {
     "name": "stdout",
     "output_type": "stream",
     "text": [
      "('Female', 109.45)\n",
      "('Male', 115.25)\n"
     ]
    }
   ],
   "source": [
    "groupby_gender = data.groupby('Gender')\n",
    "for gender, value in groupby_gender['VIQ']:\n",
    "    print((gender, value.mean()))"
   ]
  },
  {
   "cell_type": "code",
   "execution_count": 29,
   "id": "00d491f7-a6b3-44de-8aa6-05b5c18abfd8",
   "metadata": {},
   "outputs": [
    {
     "data": {
      "text/plain": [
       "<AxesSubplot:xlabel='Weight', ylabel='Height'>"
      ]
     },
     "execution_count": 29,
     "metadata": {},
     "output_type": "execute_result"
    },
    {
     "data": {
      "image/png": "[encoded data removed]",
      "text/plain": [
       "<Figure size 640x480 with 2 Axes>"
      ]
     },
     "metadata": {},
     "output_type": "display_data"
    }
   ],
   "source": [
    "#from pandas.tools.plotting import scatter_matrix\n",
    "data.plot.scatter(x='Weight', y='Height', c='MRI_Count') "
   ]
  },
  {
   "cell_type": "code",
   "execution_count": 31,
   "id": "88b33ab9-ea6c-4b1d-96d2-08c4f7b702c0",
   "metadata": {},
   "outputs": [
    {
     "data": {
      "text/plain": [
       "Ttest_1sampResult(statistic=30.08809997084933, pvalue=1.3289196468727879e-28)"
      ]
     },
     "execution_count": 31,
     "metadata": {},
     "output_type": "execute_result"
    }
   ],
   "source": [
    "#1-sample t-test: testing the value of a population mean\n",
    "stats.ttest_1samp(data['VIQ'], 0) \n",
    "#tests if the population mean of data is likely to be equal to a given value (technically if observations are drawn \n",
    "#from a Gaussian distributions of given population mean). It returns the T statistic, and the p-value\n",
    "#With a p-value of 10^-28 we can claim that the population mean for the IQ (VIQ measure) is not 0.\n",
    "https://scipy-lectures.org/packages/statistics/index.html"
   ]
  },
  {
   "cell_type": "markdown",
   "id": "c5b70b00-9595-4ddf-a964-8ebba0520ffa",
   "metadata": {},
   "source": [
    "#2-sample t-test: testing for difference across populations\n",
    "We have seen above that the mean VIQ in the male and female populations were different.\n",
    "To test if this is significant, we do a 2-sample t-test with scipy.stats.ttest_ind():"
   ]
  },
  {
   "cell_type": "code",
   "execution_count": 32,
   "id": "ce0eb66b-4a21-4981-b310-0511575980fc",
   "metadata": {},
   "outputs": [
    {
     "data": {
      "text/plain": [
       "Ttest_indResult(statistic=-0.7726161723275012, pvalue=0.44452876778583217)"
      ]
     },
     "execution_count": 32,
     "metadata": {},
     "output_type": "execute_result"
    }
   ],
   "source": [
    "female_viq = data[data['Gender'] == 'Female']['VIQ']\n",
    "male_viq = data[data['Gender'] == 'Male']['VIQ']\n",
    "stats.ttest_ind(female_viq, male_viq)   "
   ]
  },
  {
   "cell_type": "code",
   "execution_count": null,
   "id": "d4d2525d-d95f-4042-b677-3e3038e9aeb2",
   "metadata": {},
   "outputs": [],
   "source": []
  }
 ],
 "metadata": {
  "kernelspec": {
   "display_name": "Python 3 (ipykernel)",
   "language": "python",
   "name": "python3"
  },
  "language_info": {
   "codemirror_mode": {
    "name": "ipython",
    "version": 3
   },
   "file_extension": ".py",
   "mimetype": "text/x-python",
   "name": "python",
   "nbconvert_exporter": "python",
   "pygments_lexer": "ipython3",
   "version": "3.9.15"
  }
 },
 "nbformat": 4,
 "nbformat_minor": 5
}
