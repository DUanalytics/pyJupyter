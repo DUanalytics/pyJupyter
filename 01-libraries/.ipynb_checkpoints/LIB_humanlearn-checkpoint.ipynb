{
 "cells": [
  {
   "cell_type": "markdown",
   "id": "f9e007f8-dfc3-4e4c-bfd9-5d2866f4c3ff",
   "metadata": {},
   "source": [
    "# Library human-learn\n",
    "https://towardsdatascience.com/human-learn-rule-based-learning-as-an-alternative-to-machine-learning-baf1899ecb3a\n",
    "human-learn is a Python package to create rule-based systems that are easy to construct and are compatible with scikit-learn.\n",
    "\n",
    "You are given a labeled dataset and assigned to predict a new one. What would you do?\n",
    "\n",
    "The first approach that you probably try is to train a machine learning model to find rules for labeling new data.\n",
    "This is convenient, but it is challenging to know why the machine learning model comes up with a particular prediction. You also can’t incorporate your domain knowledge into the model.\n",
    "\n",
    "Instead of depending on a machine learning model to make predictions, is there a way to set the rules for data labeling based on your knowledge"
   ]
  },
  {
   "cell_type": "code",
   "execution_count": 2,
   "id": "d0bb433a-5195-46ad-9cee-9c5205d72de6",
   "metadata": {},
   "outputs": [],
   "source": [
    "#pip install human-learn"
   ]
  },
  {
   "cell_type": "code",
   "execution_count": 6,
   "id": "67abb34a-1bf4-401c-b868-88df15663a1b",
   "metadata": {},
   "outputs": [],
   "source": [
    "#libraries\n",
    "import pandas as pd\n",
    "from sklearn.ensemble import RandomForestClassifier\n",
    "from sklearn.metrics import classification_report"
   ]
  },
  {
   "cell_type": "markdown",
   "id": "272c9030-c481-4892-aaf0-17515c69f5a0",
   "metadata": {},
   "source": [
    "#data\n",
    "dLink = 'https://archive.ics.uci.edu/ml/machine-learning-databases/00357/'\n",
    "https://archive.ics.uci.edu/ml/machine-learning-databases/00357/occupancy_data.zip"
   ]
  },
  {
   "cell_type": "code",
   "execution_count": 7,
   "id": "962c434c-1a3d-4538-8b59-3574c2e5ccba",
   "metadata": {},
   "outputs": [
    {
     "name": "stdout",
     "output_type": "stream",
     "text": [
      "(8143, 6)\n",
      "(8143, 6)\n"
     ]
    }
   ],
   "source": [
    "# Get train and test data\n",
    "train = pd.read_csv(\"E:/analytics/data/occupancy_data/datatraining.txt\").drop(columns=\"date\")\n",
    "test = pd.read_csv(\"E:/analytics/data/occupancy_data/datatest.txt\").drop(columns=\"date\")\n",
    "print(train.shape)\n",
    "print(train.shape)"
   ]
  },
  {
   "cell_type": "code",
   "execution_count": 8,
   "id": "ba318010-f31c-4d5c-8948-989a9bb2de76",
   "metadata": {},
   "outputs": [],
   "source": [
    "# Get X and y\n",
    "target = \"Occupancy\"\n",
    "train_X, train_y = train.drop(columns=target), train[target]\n",
    "val_X, val_y = test.drop(columns=target), test[target]"
   ]
  },
  {
   "cell_type": "code",
   "execution_count": 9,
   "id": "194238f6-b466-41c9-aff1-ee24d3590010",
   "metadata": {},
   "outputs": [
    {
     "data": {
      "text/html": [
       "<div>\n",
       "<style scoped>\n",
       "    .dataframe tbody tr th:only-of-type {\n",
       "        vertical-align: middle;\n",
       "    }\n",
       "\n",
       "    .dataframe tbody tr th {\n",
       "        vertical-align: top;\n",
       "    }\n",
       "\n",
       "    .dataframe thead th {\n",
       "        text-align: right;\n",
       "    }\n",
       "</style>\n",
       "<table border=\"1\" class=\"dataframe\">\n",
       "  <thead>\n",
       "    <tr style=\"text-align: right;\">\n",
       "      <th></th>\n",
       "      <th>Temperature</th>\n",
       "      <th>Humidity</th>\n",
       "      <th>Light</th>\n",
       "      <th>CO2</th>\n",
       "      <th>HumidityRatio</th>\n",
       "      <th>Occupancy</th>\n",
       "    </tr>\n",
       "  </thead>\n",
       "  <tbody>\n",
       "    <tr>\n",
       "      <th>1</th>\n",
       "      <td>23.18</td>\n",
       "      <td>27.2720</td>\n",
       "      <td>426.0</td>\n",
       "      <td>721.25</td>\n",
       "      <td>0.004793</td>\n",
       "      <td>1</td>\n",
       "    </tr>\n",
       "    <tr>\n",
       "      <th>2</th>\n",
       "      <td>23.15</td>\n",
       "      <td>27.2675</td>\n",
       "      <td>429.5</td>\n",
       "      <td>714.00</td>\n",
       "      <td>0.004783</td>\n",
       "      <td>1</td>\n",
       "    </tr>\n",
       "    <tr>\n",
       "      <th>3</th>\n",
       "      <td>23.15</td>\n",
       "      <td>27.2450</td>\n",
       "      <td>426.0</td>\n",
       "      <td>713.50</td>\n",
       "      <td>0.004779</td>\n",
       "      <td>1</td>\n",
       "    </tr>\n",
       "    <tr>\n",
       "      <th>4</th>\n",
       "      <td>23.15</td>\n",
       "      <td>27.2000</td>\n",
       "      <td>426.0</td>\n",
       "      <td>708.25</td>\n",
       "      <td>0.004772</td>\n",
       "      <td>1</td>\n",
       "    </tr>\n",
       "    <tr>\n",
       "      <th>5</th>\n",
       "      <td>23.10</td>\n",
       "      <td>27.2000</td>\n",
       "      <td>426.0</td>\n",
       "      <td>704.50</td>\n",
       "      <td>0.004757</td>\n",
       "      <td>1</td>\n",
       "    </tr>\n",
       "  </tbody>\n",
       "</table>\n",
       "</div>"
      ],
      "text/plain": [
       "   Temperature  Humidity  Light     CO2  HumidityRatio  Occupancy\n",
       "1        23.18   27.2720  426.0  721.25       0.004793          1\n",
       "2        23.15   27.2675  429.5  714.00       0.004783          1\n",
       "3        23.15   27.2450  426.0  713.50       0.004779          1\n",
       "4        23.15   27.2000  426.0  708.25       0.004772          1\n",
       "5        23.10   27.2000  426.0  704.50       0.004757          1"
      ]
     },
     "execution_count": 9,
     "metadata": {},
     "output_type": "execute_result"
    }
   ],
   "source": [
    "train.head()"
   ]
  },
  {
   "cell_type": "code",
   "execution_count": 10,
   "id": "bd03a3c9-204f-4e6c-a6c2-ba56a99afaee",
   "metadata": {},
   "outputs": [
    {
     "name": "stdout",
     "output_type": "stream",
     "text": [
      "              precision    recall  f1-score   support\n",
      "\n",
      "           0       0.96      0.97      0.96      1693\n",
      "           1       0.95      0.92      0.93       972\n",
      "\n",
      "    accuracy                           0.95      2665\n",
      "   macro avg       0.95      0.95      0.95      2665\n",
      "weighted avg       0.95      0.95      0.95      2665\n",
      "\n"
     ]
    }
   ],
   "source": [
    "# Train\n",
    "forest_model = RandomForestClassifier(random_state=1)\n",
    "\n",
    "# Preduct\n",
    "forest_model.fit(train_X, train_y)\n",
    "machine_preds = forest_model.predict(val_X)\n",
    "\n",
    "# Evalute\n",
    "print(classification_report(val_y, machine_preds))"
   ]
  },
  {
   "cell_type": "code",
   "execution_count": 11,
   "id": "7f315910-335f-4132-ba39-824bc523ac6a",
   "metadata": {},
   "outputs": [],
   "source": [
    "#"
   ]
  },
  {
   "cell_type": "code",
   "execution_count": null,
   "id": "26b2458c-58ff-4886-82e2-a9fa7f1a128a",
   "metadata": {},
   "outputs": [],
   "source": [
    "import plotly.express as px\n",
    "import plotly.graph_objects as go"
   ]
  },
  {
   "cell_type": "code",
   "execution_count": null,
   "id": "ad6cf767-73da-46f5-89fe-46133e140c23",
   "metadata": {},
   "outputs": [],
   "source": [
    "feature = \"Light\"\n",
    "px.box(data_frame=train, x=target, y=feature)"
   ]
  },
  {
   "cell_type": "code",
   "execution_count": null,
   "id": "096fd805-a905-4b71-a535-940ac233e8fa",
   "metadata": {},
   "outputs": [],
   "source": []
  }
 ],
 "metadata": {
  "kernelspec": {
   "display_name": "Python 3 (ipykernel)",
   "language": "python",
   "name": "python3"
  },
  "language_info": {
   "codemirror_mode": {
    "name": "ipython",
    "version": 3
   },
   "file_extension": ".py",
   "mimetype": "text/x-python",
   "name": "python",
   "nbconvert_exporter": "python",
   "pygments_lexer": "ipython3",
   "version": "3.9.15"
  }
 },
 "nbformat": 4,
 "nbformat_minor": 5
}
