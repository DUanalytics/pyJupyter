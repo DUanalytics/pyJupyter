{
 "cells": [
  {
   "cell_type": "markdown",
   "id": "21060fda",
   "metadata": {},
   "source": [
    "# datatable\n",
    "Datatable is a python library for manipulating tabular data. It supports out-of-memory datasets, multi-threaded data processing and has a flexible API\n",
    "https://towardsdatascience.com/introducing-datatableton-python-datatable-tutorials-exercises-a0887f4323b0\n"
   ]
  },
  {
   "cell_type": "code",
   "execution_count": 2,
   "id": "c4211465",
   "metadata": {},
   "outputs": [
    {
     "name": "stdout",
     "output_type": "stream",
     "text": [
      "Collecting datatable\n",
      "  Downloading datatable-1.0.0-cp39-cp39-win_amd64.whl (4.0 MB)\n",
      "     ---------------------------------------- 4.0/4.0 MB 14.0 MB/s eta 0:00:00\n",
      "Installing collected packages: datatable\n",
      "Successfully installed datatable-1.0.0\n"
     ]
    },
    {
     "name": "stderr",
     "output_type": "stream",
     "text": [
      "WARNING: Ignoring invalid distribution -istune (c:\\programdata\\anaconda3\\lib\\site-packages)\n",
      "WARNING: Ignoring invalid distribution -istune (c:\\programdata\\anaconda3\\lib\\site-packages)\n",
      "WARNING: Ignoring invalid distribution -istune (c:\\programdata\\anaconda3\\lib\\site-packages)\n",
      "WARNING: Ignoring invalid distribution -istune (c:\\programdata\\anaconda3\\lib\\site-packages)\n",
      "WARNING: Ignoring invalid distribution -istune (c:\\programdata\\anaconda3\\lib\\site-packages)\n",
      "WARNING: Ignoring invalid distribution -istune (c:\\programdata\\anaconda3\\lib\\site-packages)\n",
      "WARNING: Ignoring invalid distribution -istune (c:\\programdata\\anaconda3\\lib\\site-packages)\n"
     ]
    }
   ],
   "source": [
    "#!pip install datatable"
   ]
  },
  {
   "cell_type": "code",
   "execution_count": 6,
   "id": "3394175b",
   "metadata": {},
   "outputs": [],
   "source": [
    "import datatable as dt\n",
    "import pandas as pd\n",
    "import numpy as np\n",
    "import matplotlib.pyplot as plt"
   ]
  },
  {
   "cell_type": "code",
   "execution_count": 4,
   "id": "e26acd08",
   "metadata": {},
   "outputs": [],
   "source": [
    "#sample data\n",
    "data = dt.Frame(v1=range(10), v2=['Y', 'O', 'U', 'C', 'A', 'N', 'D', 'O', 'I', 'T'])"
   ]
  },
  {
   "cell_type": "code",
   "execution_count": 5,
   "id": "1dc01c7b",
   "metadata": {},
   "outputs": [
    {
     "data": {
      "text/html": [
       "<div class='datatable'>\n",
       "  <table class='frame'>\n",
       "  <thead>\n",
       "    <tr class='colnames'><td class='row_index'></td><th>v1</th><th>v2</th></tr>\n",
       "    <tr class='coltypes'><td class='row_index'></td><td class='int' title='int32'>&#x25AA;&#x25AA;&#x25AA;&#x25AA;</td><td class='str' title='str32'>&#x25AA;&#x25AA;&#x25AA;&#x25AA;</td></tr>\n",
       "  </thead>\n",
       "  <tbody>\n",
       "    <tr><td class='row_index'>0</td><td>0</td><td>Y</td></tr>\n",
       "    <tr><td class='row_index'>1</td><td>1</td><td>O</td></tr>\n",
       "    <tr><td class='row_index'>2</td><td>2</td><td>U</td></tr>\n",
       "    <tr><td class='row_index'>3</td><td>3</td><td>C</td></tr>\n",
       "    <tr><td class='row_index'>4</td><td>4</td><td>A</td></tr>\n",
       "    <tr><td class='row_index'>5</td><td>5</td><td>N</td></tr>\n",
       "    <tr><td class='row_index'>6</td><td>6</td><td>D</td></tr>\n",
       "    <tr><td class='row_index'>7</td><td>7</td><td>O</td></tr>\n",
       "    <tr><td class='row_index'>8</td><td>8</td><td>I</td></tr>\n",
       "    <tr><td class='row_index'>9</td><td>9</td><td>T</td></tr>\n",
       "  </tbody>\n",
       "  </table>\n",
       "  <div class='footer'>\n",
       "    <div class='frame_dimensions'>10 rows &times; 2 columns</div>\n",
       "  </div>\n",
       "</div>\n"
      ],
      "text/plain": [
       "<Frame#2255ef75d80 10x2>"
      ]
     },
     "execution_count": 5,
     "metadata": {},
     "output_type": "execute_result"
    }
   ],
   "source": [
    "data"
   ]
  },
  {
   "cell_type": "code",
   "execution_count": 8,
   "id": "24b37982",
   "metadata": {},
   "outputs": [
    {
     "data": {
      "text/html": [
       "<div>\n",
       "<style scoped>\n",
       "    .dataframe tbody tr th:only-of-type {\n",
       "        vertical-align: middle;\n",
       "    }\n",
       "\n",
       "    .dataframe tbody tr th {\n",
       "        vertical-align: top;\n",
       "    }\n",
       "\n",
       "    .dataframe thead th {\n",
       "        text-align: right;\n",
       "    }\n",
       "</style>\n",
       "<table border=\"1\" class=\"dataframe\">\n",
       "  <thead>\n",
       "    <tr style=\"text-align: right;\">\n",
       "      <th></th>\n",
       "      <th>v1</th>\n",
       "      <th>v2</th>\n",
       "    </tr>\n",
       "  </thead>\n",
       "  <tbody>\n",
       "    <tr>\n",
       "      <th>0</th>\n",
       "      <td>0</td>\n",
       "      <td>N</td>\n",
       "    </tr>\n",
       "    <tr>\n",
       "      <th>1</th>\n",
       "      <td>1</td>\n",
       "      <td>E</td>\n",
       "    </tr>\n",
       "    <tr>\n",
       "      <th>2</th>\n",
       "      <td>2</td>\n",
       "      <td>V</td>\n",
       "    </tr>\n",
       "    <tr>\n",
       "      <th>3</th>\n",
       "      <td>3</td>\n",
       "      <td>E</td>\n",
       "    </tr>\n",
       "    <tr>\n",
       "      <th>4</th>\n",
       "      <td>4</td>\n",
       "      <td>R</td>\n",
       "    </tr>\n",
       "    <tr>\n",
       "      <th>5</th>\n",
       "      <td>5</td>\n",
       "      <td>G</td>\n",
       "    </tr>\n",
       "    <tr>\n",
       "      <th>6</th>\n",
       "      <td>6</td>\n",
       "      <td>I</td>\n",
       "    </tr>\n",
       "    <tr>\n",
       "      <th>7</th>\n",
       "      <td>7</td>\n",
       "      <td>V</td>\n",
       "    </tr>\n",
       "    <tr>\n",
       "      <th>8</th>\n",
       "      <td>8</td>\n",
       "      <td>E</td>\n",
       "    </tr>\n",
       "    <tr>\n",
       "      <th>9</th>\n",
       "      <td>9</td>\n",
       "      <td>U</td>\n",
       "    </tr>\n",
       "    <tr>\n",
       "      <th>10</th>\n",
       "      <td>10</td>\n",
       "      <td>P</td>\n",
       "    </tr>\n",
       "  </tbody>\n",
       "</table>\n",
       "</div>"
      ],
      "text/plain": [
       "    v1 v2\n",
       "0    0  N\n",
       "1    1  E\n",
       "2    2  V\n",
       "3    3  E\n",
       "4    4  R\n",
       "5    5  G\n",
       "6    6  I\n",
       "7    7  V\n",
       "8    8  E\n",
       "9    9  U\n",
       "10  10  P"
      ]
     },
     "execution_count": 8,
     "metadata": {},
     "output_type": "execute_result"
    }
   ],
   "source": [
    "#Pandas to/fro DT\n",
    "dframe = pd.DataFrame({'v1': range(11), 'v2': ['N', 'E', 'V', 'E', 'R', 'G', 'I', 'V', 'E', 'U', 'P']})\n",
    "dframe\n"
   ]
  },
  {
   "cell_type": "code",
   "execution_count": 9,
   "id": "5f8b837f",
   "metadata": {},
   "outputs": [
    {
     "data": {
      "text/html": [
       "<div class='datatable'>\n",
       "  <table class='frame'>\n",
       "  <thead>\n",
       "    <tr class='colnames'><td class='row_index'></td><th>v1</th><th>v2</th></tr>\n",
       "    <tr class='coltypes'><td class='row_index'></td><td class='int' title='int64'>&#x25AA;&#x25AA;&#x25AA;&#x25AA;&#x25AA;&#x25AA;&#x25AA;&#x25AA;</td><td class='str' title='str32'>&#x25AA;&#x25AA;&#x25AA;&#x25AA;</td></tr>\n",
       "  </thead>\n",
       "  <tbody>\n",
       "    <tr><td class='row_index'>0</td><td>0</td><td>N</td></tr>\n",
       "    <tr><td class='row_index'>1</td><td>1</td><td>E</td></tr>\n",
       "    <tr><td class='row_index'>2</td><td>2</td><td>V</td></tr>\n",
       "    <tr><td class='row_index'>3</td><td>3</td><td>E</td></tr>\n",
       "    <tr><td class='row_index'>4</td><td>4</td><td>R</td></tr>\n",
       "    <tr><td class='row_index'>5</td><td>5</td><td>G</td></tr>\n",
       "    <tr><td class='row_index'>6</td><td>6</td><td>I</td></tr>\n",
       "    <tr><td class='row_index'>7</td><td>7</td><td>V</td></tr>\n",
       "    <tr><td class='row_index'>8</td><td>8</td><td>E</td></tr>\n",
       "    <tr><td class='row_index'>9</td><td>9</td><td>U</td></tr>\n",
       "    <tr><td class='row_index'>10</td><td>10</td><td>P</td></tr>\n",
       "  </tbody>\n",
       "  </table>\n",
       "  <div class='footer'>\n",
       "    <div class='frame_dimensions'>11 rows &times; 2 columns</div>\n",
       "  </div>\n",
       "</div>\n"
      ],
      "text/plain": [
       "<Frame#2255ef75090 11x2>"
      ]
     },
     "execution_count": 9,
     "metadata": {},
     "output_type": "execute_result"
    }
   ],
   "source": [
    "data_pd = dt.Frame(dframe)\n",
    "data_pd"
   ]
  },
  {
   "cell_type": "code",
   "execution_count": 10,
   "id": "f449bd9c",
   "metadata": {},
   "outputs": [
    {
     "data": {
      "text/html": [
       "<div>\n",
       "<style scoped>\n",
       "    .dataframe tbody tr th:only-of-type {\n",
       "        vertical-align: middle;\n",
       "    }\n",
       "\n",
       "    .dataframe tbody tr th {\n",
       "        vertical-align: top;\n",
       "    }\n",
       "\n",
       "    .dataframe thead th {\n",
       "        text-align: right;\n",
       "    }\n",
       "</style>\n",
       "<table border=\"1\" class=\"dataframe\">\n",
       "  <thead>\n",
       "    <tr style=\"text-align: right;\">\n",
       "      <th></th>\n",
       "      <th>v1</th>\n",
       "      <th>v2</th>\n",
       "    </tr>\n",
       "  </thead>\n",
       "  <tbody>\n",
       "    <tr>\n",
       "      <th>0</th>\n",
       "      <td>0</td>\n",
       "      <td>N</td>\n",
       "    </tr>\n",
       "    <tr>\n",
       "      <th>1</th>\n",
       "      <td>1</td>\n",
       "      <td>E</td>\n",
       "    </tr>\n",
       "    <tr>\n",
       "      <th>2</th>\n",
       "      <td>2</td>\n",
       "      <td>V</td>\n",
       "    </tr>\n",
       "    <tr>\n",
       "      <th>3</th>\n",
       "      <td>3</td>\n",
       "      <td>E</td>\n",
       "    </tr>\n",
       "    <tr>\n",
       "      <th>4</th>\n",
       "      <td>4</td>\n",
       "      <td>R</td>\n",
       "    </tr>\n",
       "    <tr>\n",
       "      <th>5</th>\n",
       "      <td>5</td>\n",
       "      <td>G</td>\n",
       "    </tr>\n",
       "    <tr>\n",
       "      <th>6</th>\n",
       "      <td>6</td>\n",
       "      <td>I</td>\n",
       "    </tr>\n",
       "    <tr>\n",
       "      <th>7</th>\n",
       "      <td>7</td>\n",
       "      <td>V</td>\n",
       "    </tr>\n",
       "    <tr>\n",
       "      <th>8</th>\n",
       "      <td>8</td>\n",
       "      <td>E</td>\n",
       "    </tr>\n",
       "    <tr>\n",
       "      <th>9</th>\n",
       "      <td>9</td>\n",
       "      <td>U</td>\n",
       "    </tr>\n",
       "    <tr>\n",
       "      <th>10</th>\n",
       "      <td>10</td>\n",
       "      <td>P</td>\n",
       "    </tr>\n",
       "  </tbody>\n",
       "</table>\n",
       "</div>"
      ],
      "text/plain": [
       "    v1 v2\n",
       "0    0  N\n",
       "1    1  E\n",
       "2    2  V\n",
       "3    3  E\n",
       "4    4  R\n",
       "5    5  G\n",
       "6    6  I\n",
       "7    7  V\n",
       "8    8  E\n",
       "9    9  U\n",
       "10  10  P"
      ]
     },
     "execution_count": 10,
     "metadata": {},
     "output_type": "execute_result"
    }
   ],
   "source": [
    "pd_data = data_pd.to_pandas()\n",
    "pd_data"
   ]
  },
  {
   "cell_type": "markdown",
   "id": "498764bd",
   "metadata": {},
   "source": [
    "## select rows, filter, Missing values"
   ]
  },
  {
   "cell_type": "code",
   "execution_count": null,
   "id": "4d270352",
   "metadata": {},
   "outputs": [],
   "source": [
    "data = dt.fread('datatableton_sample.csv')\n",
    "\n",
    "data_upq = data[:, ['user', 'product', 'quantity']]"
   ]
  },
  {
   "cell_type": "markdown",
   "id": "504b3735",
   "metadata": {},
   "source": [
    "## Aggregate"
   ]
  },
  {
   "cell_type": "code",
   "execution_count": 12,
   "id": "6f8d0b01",
   "metadata": {},
   "outputs": [],
   "source": [
    "from sklearn.datasets import load_wine\n",
    "from seaborn import load_dataset"
   ]
  },
  {
   "cell_type": "code",
   "execution_count": 13,
   "id": "96f2d84e",
   "metadata": {},
   "outputs": [
    {
     "data": {
      "text/html": [
       "<div class='datatable'>\n",
       "  <table class='frame'>\n",
       "  <thead>\n",
       "    <tr class='colnames'><td class='row_index'></td><th>alcohol</th><th>malic_acid</th><th>ash</th><th>alcalinity_of_ash</th><th>magnesium</th><th>total_phenols</th><th>flavanoids</th><th>nonflavanoid_phenols</th><th>proanthocyanins</th><th>color_intensity</th><th>hue</th><th>od280/od315_of_diluted_wines</th><th>proline</th><th>target</th></tr>\n",
       "    <tr class='coltypes'><td class='row_index'></td><td class='float' title='float64'>&#x25AA;&#x25AA;&#x25AA;&#x25AA;&#x25AA;&#x25AA;&#x25AA;&#x25AA;</td><td class='float' title='float64'>&#x25AA;&#x25AA;&#x25AA;&#x25AA;&#x25AA;&#x25AA;&#x25AA;&#x25AA;</td><td class='float' title='float64'>&#x25AA;&#x25AA;&#x25AA;&#x25AA;&#x25AA;&#x25AA;&#x25AA;&#x25AA;</td><td class='float' title='float64'>&#x25AA;&#x25AA;&#x25AA;&#x25AA;&#x25AA;&#x25AA;&#x25AA;&#x25AA;</td><td class='float' title='float64'>&#x25AA;&#x25AA;&#x25AA;&#x25AA;&#x25AA;&#x25AA;&#x25AA;&#x25AA;</td><td class='float' title='float64'>&#x25AA;&#x25AA;&#x25AA;&#x25AA;&#x25AA;&#x25AA;&#x25AA;&#x25AA;</td><td class='float' title='float64'>&#x25AA;&#x25AA;&#x25AA;&#x25AA;&#x25AA;&#x25AA;&#x25AA;&#x25AA;</td><td class='float' title='float64'>&#x25AA;&#x25AA;&#x25AA;&#x25AA;&#x25AA;&#x25AA;&#x25AA;&#x25AA;</td><td class='float' title='float64'>&#x25AA;&#x25AA;&#x25AA;&#x25AA;&#x25AA;&#x25AA;&#x25AA;&#x25AA;</td><td class='float' title='float64'>&#x25AA;&#x25AA;&#x25AA;&#x25AA;&#x25AA;&#x25AA;&#x25AA;&#x25AA;</td><td class='float' title='float64'>&#x25AA;&#x25AA;&#x25AA;&#x25AA;&#x25AA;&#x25AA;&#x25AA;&#x25AA;</td><td class='float' title='float64'>&#x25AA;&#x25AA;&#x25AA;&#x25AA;&#x25AA;&#x25AA;&#x25AA;&#x25AA;</td><td class='float' title='float64'>&#x25AA;&#x25AA;&#x25AA;&#x25AA;&#x25AA;&#x25AA;&#x25AA;&#x25AA;</td><td class='float' title='float64'>&#x25AA;&#x25AA;&#x25AA;&#x25AA;&#x25AA;&#x25AA;&#x25AA;&#x25AA;</td></tr>\n",
       "  </thead>\n",
       "  <tbody>\n",
       "    <tr><td class='row_index'>0</td><td>13.0006</td><td>2.33635</td><td>2.36652</td><td>19.4949</td><td>99.7416</td><td>2.29511</td><td>2.02927</td><td>0.361854</td><td>1.5909</td><td>5.05809</td><td>0.957449</td><td>2.61169</td><td>746.893</td><td>0.938202</td></tr>\n",
       "  </tbody>\n",
       "  </table>\n",
       "  <div class='footer'>\n",
       "    <div class='frame_dimensions'>1 row &times; 14 columns</div>\n",
       "  </div>\n",
       "</div>\n"
      ],
      "text/plain": [
       "<Frame#2256521d9c0 1x14>"
      ]
     },
     "execution_count": 13,
     "metadata": {},
     "output_type": "execute_result"
    }
   ],
   "source": [
    "data = dt.Frame(load_wine(as_frame=True).frame)\n",
    "data.mean()"
   ]
  },
  {
   "cell_type": "markdown",
   "id": "0fd2c314",
   "metadata": {},
   "source": [
    "## Grouping\n",
    "Aggregating metrics grouped by features\n",
    "Comparing column statistics grouped by features\n",
    "Combining groupings with filtering and sorting"
   ]
  },
  {
   "cell_type": "code",
   "execution_count": 14,
   "id": "799ffa00",
   "metadata": {},
   "outputs": [
    {
     "data": {
      "text/html": [
       "<div class='datatable'>\n",
       "  <table class='frame'>\n",
       "  <thead>\n",
       "    <tr class='colnames'><td class='row_index'></td><th>species</th><th>sex</th><th>body_mass_g</th></tr>\n",
       "    <tr class='coltypes'><td class='row_index'></td><td class='str' title='str32'>&#x25AA;&#x25AA;&#x25AA;&#x25AA;</td><td class='str' title='str32'>&#x25AA;&#x25AA;&#x25AA;&#x25AA;</td><td class='float' title='float64'>&#x25AA;&#x25AA;&#x25AA;&#x25AA;&#x25AA;&#x25AA;&#x25AA;&#x25AA;</td></tr>\n",
       "  </thead>\n",
       "  <tbody>\n",
       "    <tr><td class='row_index'>0</td><td>Adelie</td><td><span class=na>NA</span></td><td>3475</td></tr>\n",
       "    <tr><td class='row_index'>1</td><td>Adelie</td><td>Female</td><td>3400</td></tr>\n",
       "    <tr><td class='row_index'>2</td><td>Adelie</td><td>Male</td><td>4000</td></tr>\n",
       "    <tr><td class='row_index'>3</td><td>Chinstrap</td><td>Female</td><td>3550</td></tr>\n",
       "    <tr><td class='row_index'>4</td><td>Chinstrap</td><td>Male</td><td>3950</td></tr>\n",
       "    <tr><td class='row_index'>5</td><td>Gentoo</td><td><span class=na>NA</span></td><td>4687.5</td></tr>\n",
       "    <tr><td class='row_index'>6</td><td>Gentoo</td><td>Female</td><td>4700</td></tr>\n",
       "    <tr><td class='row_index'>7</td><td>Gentoo</td><td>Male</td><td>5500</td></tr>\n",
       "  </tbody>\n",
       "  </table>\n",
       "  <div class='footer'>\n",
       "    <div class='frame_dimensions'>8 rows &times; 3 columns</div>\n",
       "  </div>\n",
       "</div>\n"
      ],
      "text/plain": [
       "<Frame#22565322660 8x3>"
      ]
     },
     "execution_count": 14,
     "metadata": {},
     "output_type": "execute_result"
    }
   ],
   "source": [
    "data = dt.Frame(load_dataset('penguins'))\n",
    "data.replace('NA', None)\n",
    "data[:, dt.median(dt.f.body_mass_g), dt.by([dt.f.species, dt.f.sex])]"
   ]
  },
  {
   "cell_type": "markdown",
   "id": "796b7c8e",
   "metadata": {},
   "source": [
    "## Multiple Frames\n",
    "Read, rbind, cbind multiple frames\n",
    "Join frames using single or multiple keys\n",
    "Union, intersection, difference of frames"
   ]
  },
  {
   "cell_type": "code",
   "execution_count": null,
   "id": "8c04873d",
   "metadata": {},
   "outputs": [],
   "source": [
    "data = list(dt.iread('datatableton_sample.zip'))\n",
    "\n",
    "orders_jan = data[1]\n",
    "orders_feb = data[0]\n",
    "orders_mar = data[2]\n",
    "orders_all = dt.rbind(orders_jan, orders_feb, orders_mar)\n",
    "returns = data[3]\n",
    "\n",
    "orders_all.key = 'Order ID'\n",
    "sales = returns[:, :, dt.join(orders_all)]"
   ]
  },
  {
   "cell_type": "markdown",
   "id": "98e9842f",
   "metadata": {},
   "source": [
    "## Time Series\n",
    "Extracting and creating date/time features\n",
    "Creating lag and lead variables within/without groups\n",
    "Calculating difference of dates/timestamps"
   ]
  },
  {
   "cell_type": "code",
   "execution_count": null,
   "id": "c2b74f4b",
   "metadata": {},
   "outputs": [],
   "source": [
    "data = dt.fread('datatableton_sample.csv')\n",
    "data['previous_timestamp'] = dt.shift(dt.f.timestamp, n=1)"
   ]
  },
  {
   "cell_type": "markdown",
   "id": "b8226b0d",
   "metadata": {},
   "source": [
    "## FTRL\n",
    "Initialization and hyperparameters of FTRL model\n",
    "Training and scoring a FTRL model\n",
    "Perform k-fold cross validation"
   ]
  },
  {
   "cell_type": "code",
   "execution_count": null,
   "id": "6776e9f6",
   "metadata": {},
   "outputs": [],
   "source": [
    "from datatable.models import Ftrl\n",
    "\n",
    "data = dt.fread('kdd_ctr.csv', fill=True)[1:,:]\n",
    "target = data['click']\n",
    "del data['click']\n",
    "\n",
    "model_ftrl = Ftrl()\n",
    "model_ftrl.fit(data, target)"
   ]
  }
 ],
 "metadata": {
  "kernelspec": {
   "display_name": "Python 3 (ipykernel)",
   "language": "python",
   "name": "python3"
  },
  "language_info": {
   "codemirror_mode": {
    "name": "ipython",
    "version": 3
   },
   "file_extension": ".py",
   "mimetype": "text/x-python",
   "name": "python",
   "nbconvert_exporter": "python",
   "pygments_lexer": "ipython3",
   "version": "3.9.15"
  }
 },
 "nbformat": 4,
 "nbformat_minor": 5
}
