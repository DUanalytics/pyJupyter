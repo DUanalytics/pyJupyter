{
 "cells": [
  {
   "cell_type": "markdown",
   "id": "23402d83",
   "metadata": {},
   "source": [
    "# ggplot\n",
    "ggplot offers nice basic visualizations in the same style as R’s ggplot2, worth checking out even if you aren’t coming to Python from R\n",
    "Ggplot is a Python implementation of the The Grammar of Graphics, inspired by the interface of the ggplot2 package from R."
   ]
  }
 ],
 "metadata": {
  "kernelspec": {
   "display_name": "Python 3 (ipykernel)",
   "language": "python",
   "name": "python3"
  },
  "language_info": {
   "codemirror_mode": {
    "name": "ipython",
    "version": 3
   },
   "file_extension": ".py",
   "mimetype": "text/x-python",
   "name": "python",
   "nbconvert_exporter": "python",
   "pygments_lexer": "ipython3",
   "version": "3.9.13"
  }
 },
 "nbformat": 4,
 "nbformat_minor": 5
}
