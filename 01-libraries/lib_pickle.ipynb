{
 "cells": [
  {
   "cell_type": "markdown",
   "id": "055afcf2",
   "metadata": {},
   "source": [
    "# library pickle\n",
    "https://docs.python.org/3/library/pickle.html\n",
    "Python pickle module is used for serialising and de-serialising a Python object structure. Any object in Python can be pickled so that it can be saved on disk. What pickle does is that it “serialises” the object first before writing it to file. Pickling is a way to convert a python object (list, dict, etc.) into a character stream. The idea is that this character stream contains all the information necessary to reconstruct the object in another python script"
   ]
  },
  {
   "cell_type": "code",
   "execution_count": 1,
   "id": "547c5b96",
   "metadata": {},
   "outputs": [],
   "source": [
    "import pickle"
   ]
  },
  {
   "cell_type": "code",
   "execution_count": null,
   "id": "c0badbf3",
   "metadata": {},
   "outputs": [],
   "source": [
    "# loading dependencies\n",
    "import pandas as pd\n",
    "import numpy as np\n",
    "from sklearn import linear_model"
   ]
  },
  {
   "cell_type": "code",
   "execution_count": null,
   "id": "4d6f9ee8",
   "metadata": {},
   "outputs": [],
   "source": []
  },
  {
   "cell_type": "code",
   "execution_count": null,
   "id": "744700b6",
   "metadata": {},
   "outputs": [],
   "source": [
    "# creating the model object\n",
    "model = linear_model.LinearRegression() # y = mx+b"
   ]
  },
  {
   "cell_type": "code",
   "execution_count": null,
   "id": "63cb53df",
   "metadata": {},
   "outputs": [],
   "source": [
    "# fitting model with X_train - area, y_train - price\n",
    "model.fit(train_df[['area']],train_df.price)"
   ]
  },
  {
   "cell_type": "code",
   "execution_count": null,
   "id": "517215ad",
   "metadata": {},
   "outputs": [],
   "source": [
    "# create an iterator object with write permission - model.pkl\n",
    "with open('model_pkl', 'wb') as files:\n",
    "    pickle.dump(model, files)"
   ]
  }
 ],
 "metadata": {
  "kernelspec": {
   "display_name": "Python 3 (ipykernel)",
   "language": "python",
   "name": "python3"
  },
  "language_info": {
   "codemirror_mode": {
    "name": "ipython",
    "version": 3
   },
   "file_extension": ".py",
   "mimetype": "text/x-python",
   "name": "python",
   "nbconvert_exporter": "python",
   "pygments_lexer": "ipython3",
   "version": "3.9.13"
  }
 },
 "nbformat": 4,
 "nbformat_minor": 5
}
