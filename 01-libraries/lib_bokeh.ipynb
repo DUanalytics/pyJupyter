{
 "cells": [
  {
   "cell_type": "markdown",
   "id": "1d0d3dd0",
   "metadata": {},
   "source": [
    "# Bokeh\n",
    "https://bokeh.org/\n",
    "https://www.geeksforgeeks.org/python-bokeh-tutorial-interactive-data-visualization-with-bokeh/\n",
    "https://realpython.com/python-data-visualization-bokeh/\n",
    "More suited for DF\n",
    "Bokeh renders its plots using HTML and JavaScript that uses modern web browsers for presenting elegant, concise construction of novel graphics with high-level interactivity. "
   ]
  },
  {
   "cell_type": "code",
   "execution_count": 3,
   "id": "30d7e4bd",
   "metadata": {},
   "outputs": [],
   "source": [
    "#libraries\n",
    "import pandas as pd\n",
    "import numpy as np\n",
    "import matplotlib.pyplot as plt"
   ]
  },
  {
   "cell_type": "code",
   "execution_count": 4,
   "id": "68599434",
   "metadata": {},
   "outputs": [],
   "source": [
    "#Bokeh library modules\n",
    "from bokeh.io import output_file, output_notebook\n",
    "from bokeh.plotting import figure, show\n",
    "from bokeh.models import ColumnDataSource\n",
    "from bokeh.layouts import row, column, gridplot\n",
    "from bokeh.models.widgets import Tabs, Panel"
   ]
  },
  {
   "cell_type": "markdown",
   "id": "28c40318",
   "metadata": {},
   "source": [
    "## Steps\n",
    "-- Prepare the data\n",
    "\n",
    "-- Determine where the visualization will be rendered\n",
    "output_file('filename.html')  # Render to static HTML, or \n",
    "output_notebook()  # Render inline in a Jupyter Notebook\n",
    "\n",
    "-- Set up the figure(s)\n",
    "fig = figure()  # Instantiate a figure() object\n",
    "\n",
    "-- Connect to and draw the data\n",
    "\n",
    "-- Organize the layout\n",
    "\n",
    "-- Preview and save \n",
    "show(fig)  # See what I made, and save if I like it\n",
    "\n",
    "-- Output\n",
    "output_file('filename.html') will write the visualization to a static HTML file.\n",
    "output_notebook() will render your visualization directly in a Jupyter Notebook."
   ]
  },
  {
   "cell_type": "code",
   "execution_count": null,
   "id": "417b9254",
   "metadata": {},
   "outputs": [],
   "source": [
    "## Graph1"
   ]
  },
  {
   "cell_type": "code",
   "execution_count": 7,
   "id": "0b0e8c62",
   "metadata": {},
   "outputs": [
    {
     "data": {
      "text/html": [
       "<div class=\"bk-root\">\n",
       "        <a href=\"https://bokeh.org\" target=\"_blank\" class=\"bk-logo bk-logo-small bk-logo-notebook\"></a>\n",
       "        <span id=\"1305\">Loading BokehJS ...</span>\n",
       "    </div>\n"
      ]
     },
     "metadata": {},
     "output_type": "display_data"
    },
    {
     "data": {
      "application/javascript": [
       "(function(root) {\n",
       "  function now() {\n",
       "    return new Date();\n",
       "  }\n",
       "\n",
       "  const force = true;\n",
       "\n",
       "  if (typeof root._bokeh_onload_callbacks === \"undefined\" || force === true) {\n",
       "    root._bokeh_onload_callbacks = [];\n",
       "    root._bokeh_is_loading = undefined;\n",
       "  }\n",
       "\n",
       "const JS_MIME_TYPE = 'application/javascript';\n",
       "  const HTML_MIME_TYPE = 'text/html';\n",
       "  const EXEC_MIME_TYPE = 'application/vnd.bokehjs_exec.v0+json';\n",
       "  const CLASS_NAME = 'output_bokeh rendered_html';\n",
       "\n",
       "  /**\n",
       "   * Render data to the DOM node\n",
       "   */\n",
       "  function render(props, node) {\n",
       "    const script = document.createElement(\"script\");\n",
       "    node.appendChild(script);\n",
       "  }\n",
       "\n",
       "  /**\n",
       "   * Handle when an output is cleared or removed\n",
       "   */\n",
       "  function handleClearOutput(event, handle) {\n",
       "    const cell = handle.cell;\n",
       "\n",
       "    const id = cell.output_area._bokeh_element_id;\n",
       "    const server_id = cell.output_area._bokeh_server_id;\n",
       "    // Clean up Bokeh references\n",
       "    if (id != null && id in Bokeh.index) {\n",
       "      Bokeh.index[id].model.document.clear();\n",
       "      delete Bokeh.index[id];\n",
       "    }\n",
       "\n",
       "    if (server_id !== undefined) {\n",
       "      // Clean up Bokeh references\n",
       "      const cmd_clean = \"from bokeh.io.state import curstate; print(curstate().uuid_to_server['\" + server_id + \"'].get_sessions()[0].document.roots[0]._id)\";\n",
       "      cell.notebook.kernel.execute(cmd_clean, {\n",
       "        iopub: {\n",
       "          output: function(msg) {\n",
       "            const id = msg.content.text.trim();\n",
       "            if (id in Bokeh.index) {\n",
       "              Bokeh.index[id].model.document.clear();\n",
       "              delete Bokeh.index[id];\n",
       "            }\n",
       "          }\n",
       "        }\n",
       "      });\n",
       "      // Destroy server and session\n",
       "      const cmd_destroy = \"import bokeh.io.notebook as ion; ion.destroy_server('\" + server_id + \"')\";\n",
       "      cell.notebook.kernel.execute(cmd_destroy);\n",
       "    }\n",
       "  }\n",
       "\n",
       "  /**\n",
       "   * Handle when a new output is added\n",
       "   */\n",
       "  function handleAddOutput(event, handle) {\n",
       "    const output_area = handle.output_area;\n",
       "    const output = handle.output;\n",
       "\n",
       "    // limit handleAddOutput to display_data with EXEC_MIME_TYPE content only\n",
       "    if ((output.output_type != \"display_data\") || (!Object.prototype.hasOwnProperty.call(output.data, EXEC_MIME_TYPE))) {\n",
       "      return\n",
       "    }\n",
       "\n",
       "    const toinsert = output_area.element.find(\".\" + CLASS_NAME.split(' ')[0]);\n",
       "\n",
       "    if (output.metadata[EXEC_MIME_TYPE][\"id\"] !== undefined) {\n",
       "      toinsert[toinsert.length - 1].firstChild.textContent = output.data[JS_MIME_TYPE];\n",
       "      // store reference to embed id on output_area\n",
       "      output_area._bokeh_element_id = output.metadata[EXEC_MIME_TYPE][\"id\"];\n",
       "    }\n",
       "    if (output.metadata[EXEC_MIME_TYPE][\"server_id\"] !== undefined) {\n",
       "      const bk_div = document.createElement(\"div\");\n",
       "      bk_div.innerHTML = output.data[HTML_MIME_TYPE];\n",
       "      const script_attrs = bk_div.children[0].attributes;\n",
       "      for (let i = 0; i < script_attrs.length; i++) {\n",
       "        toinsert[toinsert.length - 1].firstChild.setAttribute(script_attrs[i].name, script_attrs[i].value);\n",
       "        toinsert[toinsert.length - 1].firstChild.textContent = bk_div.children[0].textContent\n",
       "      }\n",
       "      // store reference to server id on output_area\n",
       "      output_area._bokeh_server_id = output.metadata[EXEC_MIME_TYPE][\"server_id\"];\n",
       "    }\n",
       "  }\n",
       "\n",
       "  function register_renderer(events, OutputArea) {\n",
       "\n",
       "    function append_mime(data, metadata, element) {\n",
       "      // create a DOM node to render to\n",
       "      const toinsert = this.create_output_subarea(\n",
       "        metadata,\n",
       "        CLASS_NAME,\n",
       "        EXEC_MIME_TYPE\n",
       "      );\n",
       "      this.keyboard_manager.register_events(toinsert);\n",
       "      // Render to node\n",
       "      const props = {data: data, metadata: metadata[EXEC_MIME_TYPE]};\n",
       "      render(props, toinsert[toinsert.length - 1]);\n",
       "      element.append(toinsert);\n",
       "      return toinsert\n",
       "    }\n",
       "\n",
       "    /* Handle when an output is cleared or removed */\n",
       "    events.on('clear_output.CodeCell', handleClearOutput);\n",
       "    events.on('delete.Cell', handleClearOutput);\n",
       "\n",
       "    /* Handle when a new output is added */\n",
       "    events.on('output_added.OutputArea', handleAddOutput);\n",
       "\n",
       "    /**\n",
       "     * Register the mime type and append_mime function with output_area\n",
       "     */\n",
       "    OutputArea.prototype.register_mime_type(EXEC_MIME_TYPE, append_mime, {\n",
       "      /* Is output safe? */\n",
       "      safe: true,\n",
       "      /* Index of renderer in `output_area.display_order` */\n",
       "      index: 0\n",
       "    });\n",
       "  }\n",
       "\n",
       "  // register the mime type if in Jupyter Notebook environment and previously unregistered\n",
       "  if (root.Jupyter !== undefined) {\n",
       "    const events = require('base/js/events');\n",
       "    const OutputArea = require('notebook/js/outputarea').OutputArea;\n",
       "\n",
       "    if (OutputArea.prototype.mime_types().indexOf(EXEC_MIME_TYPE) == -1) {\n",
       "      register_renderer(events, OutputArea);\n",
       "    }\n",
       "  }\n",
       "  if (typeof (root._bokeh_timeout) === \"undefined\" || force === true) {\n",
       "    root._bokeh_timeout = Date.now() + 5000;\n",
       "    root._bokeh_failed_load = false;\n",
       "  }\n",
       "\n",
       "  const NB_LOAD_WARNING = {'data': {'text/html':\n",
       "     \"<div style='background-color: #fdd'>\\n\"+\n",
       "     \"<p>\\n\"+\n",
       "     \"BokehJS does not appear to have successfully loaded. If loading BokehJS from CDN, this \\n\"+\n",
       "     \"may be due to a slow or bad network connection. Possible fixes:\\n\"+\n",
       "     \"</p>\\n\"+\n",
       "     \"<ul>\\n\"+\n",
       "     \"<li>re-rerun `output_notebook()` to attempt to load from CDN again, or</li>\\n\"+\n",
       "     \"<li>use INLINE resources instead, as so:</li>\\n\"+\n",
       "     \"</ul>\\n\"+\n",
       "     \"<code>\\n\"+\n",
       "     \"from bokeh.resources import INLINE\\n\"+\n",
       "     \"output_notebook(resources=INLINE)\\n\"+\n",
       "     \"</code>\\n\"+\n",
       "     \"</div>\"}};\n",
       "\n",
       "  function display_loaded() {\n",
       "    const el = document.getElementById(\"1305\");\n",
       "    if (el != null) {\n",
       "      el.textContent = \"BokehJS is loading...\";\n",
       "    }\n",
       "    if (root.Bokeh !== undefined) {\n",
       "      if (el != null) {\n",
       "        el.textContent = \"BokehJS \" + root.Bokeh.version + \" successfully loaded.\";\n",
       "      }\n",
       "    } else if (Date.now() < root._bokeh_timeout) {\n",
       "      setTimeout(display_loaded, 100)\n",
       "    }\n",
       "  }\n",
       "\n",
       "  function run_callbacks() {\n",
       "    try {\n",
       "      root._bokeh_onload_callbacks.forEach(function(callback) {\n",
       "        if (callback != null)\n",
       "          callback();\n",
       "      });\n",
       "    } finally {\n",
       "      delete root._bokeh_onload_callbacks\n",
       "    }\n",
       "    console.debug(\"Bokeh: all callbacks have finished\");\n",
       "  }\n",
       "\n",
       "  function load_libs(css_urls, js_urls, callback) {\n",
       "    if (css_urls == null) css_urls = [];\n",
       "    if (js_urls == null) js_urls = [];\n",
       "\n",
       "    root._bokeh_onload_callbacks.push(callback);\n",
       "    if (root._bokeh_is_loading > 0) {\n",
       "      console.debug(\"Bokeh: BokehJS is being loaded, scheduling callback at\", now());\n",
       "      return null;\n",
       "    }\n",
       "    if (js_urls == null || js_urls.length === 0) {\n",
       "      run_callbacks();\n",
       "      return null;\n",
       "    }\n",
       "    console.debug(\"Bokeh: BokehJS not loaded, scheduling load and callback at\", now());\n",
       "    root._bokeh_is_loading = css_urls.length + js_urls.length;\n",
       "\n",
       "    function on_load() {\n",
       "      root._bokeh_is_loading--;\n",
       "      if (root._bokeh_is_loading === 0) {\n",
       "        console.debug(\"Bokeh: all BokehJS libraries/stylesheets loaded\");\n",
       "        run_callbacks()\n",
       "      }\n",
       "    }\n",
       "\n",
       "    function on_error(url) {\n",
       "      console.error(\"failed to load \" + url);\n",
       "    }\n",
       "\n",
       "    for (let i = 0; i < css_urls.length; i++) {\n",
       "      const url = css_urls[i];\n",
       "      const element = document.createElement(\"link\");\n",
       "      element.onload = on_load;\n",
       "      element.onerror = on_error.bind(null, url);\n",
       "      element.rel = \"stylesheet\";\n",
       "      element.type = \"text/css\";\n",
       "      element.href = url;\n",
       "      console.debug(\"Bokeh: injecting link tag for BokehJS stylesheet: \", url);\n",
       "      document.body.appendChild(element);\n",
       "    }\n",
       "\n",
       "    for (let i = 0; i < js_urls.length; i++) {\n",
       "      const url = js_urls[i];\n",
       "      const element = document.createElement('script');\n",
       "      element.onload = on_load;\n",
       "      element.onerror = on_error.bind(null, url);\n",
       "      element.async = false;\n",
       "      element.src = url;\n",
       "      console.debug(\"Bokeh: injecting script tag for BokehJS library: \", url);\n",
       "      document.head.appendChild(element);\n",
       "    }\n",
       "  };\n",
       "\n",
       "  function inject_raw_css(css) {\n",
       "    const element = document.createElement(\"style\");\n",
       "    element.appendChild(document.createTextNode(css));\n",
       "    document.body.appendChild(element);\n",
       "  }\n",
       "\n",
       "  const js_urls = [\"https://cdn.bokeh.org/bokeh/release/bokeh-2.4.3.min.js\", \"https://cdn.bokeh.org/bokeh/release/bokeh-gl-2.4.3.min.js\", \"https://cdn.bokeh.org/bokeh/release/bokeh-widgets-2.4.3.min.js\", \"https://cdn.bokeh.org/bokeh/release/bokeh-tables-2.4.3.min.js\", \"https://cdn.bokeh.org/bokeh/release/bokeh-mathjax-2.4.3.min.js\"];\n",
       "  const css_urls = [];\n",
       "\n",
       "  const inline_js = [    function(Bokeh) {\n",
       "      Bokeh.set_log_level(\"info\");\n",
       "    },\n",
       "function(Bokeh) {\n",
       "    }\n",
       "  ];\n",
       "\n",
       "  function run_inline_js() {\n",
       "    if (root.Bokeh !== undefined || force === true) {\n",
       "          for (let i = 0; i < inline_js.length; i++) {\n",
       "      inline_js[i].call(root, root.Bokeh);\n",
       "    }\n",
       "if (force === true) {\n",
       "        display_loaded();\n",
       "      }} else if (Date.now() < root._bokeh_timeout) {\n",
       "      setTimeout(run_inline_js, 100);\n",
       "    } else if (!root._bokeh_failed_load) {\n",
       "      console.log(\"Bokeh: BokehJS failed to load within specified timeout.\");\n",
       "      root._bokeh_failed_load = true;\n",
       "    } else if (force !== true) {\n",
       "      const cell = $(document.getElementById(\"1305\")).parents('.cell').data().cell;\n",
       "      cell.output_area.append_execute_result(NB_LOAD_WARNING)\n",
       "    }\n",
       "  }\n",
       "\n",
       "  if (root._bokeh_is_loading === 0) {\n",
       "    console.debug(\"Bokeh: BokehJS loaded, going straight to plotting\");\n",
       "    run_inline_js();\n",
       "  } else {\n",
       "    load_libs(css_urls, js_urls, function() {\n",
       "      console.debug(\"Bokeh: BokehJS plotting callback run at\", now());\n",
       "      run_inline_js();\n",
       "    });\n",
       "  }\n",
       "}(window));"
      ],
      "application/vnd.bokehjs_load.v0+json": "(function(root) {\n  function now() {\n    return new Date();\n  }\n\n  const force = true;\n\n  if (typeof root._bokeh_onload_callbacks === \"undefined\" || force === true) {\n    root._bokeh_onload_callbacks = [];\n    root._bokeh_is_loading = undefined;\n  }\n\n\n  if (typeof (root._bokeh_timeout) === \"undefined\" || force === true) {\n    root._bokeh_timeout = Date.now() + 5000;\n    root._bokeh_failed_load = false;\n  }\n\n  const NB_LOAD_WARNING = {'data': {'text/html':\n     \"<div style='background-color: #fdd'>\\n\"+\n     \"<p>\\n\"+\n     \"BokehJS does not appear to have successfully loaded. If loading BokehJS from CDN, this \\n\"+\n     \"may be due to a slow or bad network connection. Possible fixes:\\n\"+\n     \"</p>\\n\"+\n     \"<ul>\\n\"+\n     \"<li>re-rerun `output_notebook()` to attempt to load from CDN again, or</li>\\n\"+\n     \"<li>use INLINE resources instead, as so:</li>\\n\"+\n     \"</ul>\\n\"+\n     \"<code>\\n\"+\n     \"from bokeh.resources import INLINE\\n\"+\n     \"output_notebook(resources=INLINE)\\n\"+\n     \"</code>\\n\"+\n     \"</div>\"}};\n\n  function display_loaded() {\n    const el = document.getElementById(\"1305\");\n    if (el != null) {\n      el.textContent = \"BokehJS is loading...\";\n    }\n    if (root.Bokeh !== undefined) {\n      if (el != null) {\n        el.textContent = \"BokehJS \" + root.Bokeh.version + \" successfully loaded.\";\n      }\n    } else if (Date.now() < root._bokeh_timeout) {\n      setTimeout(display_loaded, 100)\n    }\n  }\n\n  function run_callbacks() {\n    try {\n      root._bokeh_onload_callbacks.forEach(function(callback) {\n        if (callback != null)\n          callback();\n      });\n    } finally {\n      delete root._bokeh_onload_callbacks\n    }\n    console.debug(\"Bokeh: all callbacks have finished\");\n  }\n\n  function load_libs(css_urls, js_urls, callback) {\n    if (css_urls == null) css_urls = [];\n    if (js_urls == null) js_urls = [];\n\n    root._bokeh_onload_callbacks.push(callback);\n    if (root._bokeh_is_loading > 0) {\n      console.debug(\"Bokeh: BokehJS is being loaded, scheduling callback at\", now());\n      return null;\n    }\n    if (js_urls == null || js_urls.length === 0) {\n      run_callbacks();\n      return null;\n    }\n    console.debug(\"Bokeh: BokehJS not loaded, scheduling load and callback at\", now());\n    root._bokeh_is_loading = css_urls.length + js_urls.length;\n\n    function on_load() {\n      root._bokeh_is_loading--;\n      if (root._bokeh_is_loading === 0) {\n        console.debug(\"Bokeh: all BokehJS libraries/stylesheets loaded\");\n        run_callbacks()\n      }\n    }\n\n    function on_error(url) {\n      console.error(\"failed to load \" + url);\n    }\n\n    for (let i = 0; i < css_urls.length; i++) {\n      const url = css_urls[i];\n      const element = document.createElement(\"link\");\n      element.onload = on_load;\n      element.onerror = on_error.bind(null, url);\n      element.rel = \"stylesheet\";\n      element.type = \"text/css\";\n      element.href = url;\n      console.debug(\"Bokeh: injecting link tag for BokehJS stylesheet: \", url);\n      document.body.appendChild(element);\n    }\n\n    for (let i = 0; i < js_urls.length; i++) {\n      const url = js_urls[i];\n      const element = document.createElement('script');\n      element.onload = on_load;\n      element.onerror = on_error.bind(null, url);\n      element.async = false;\n      element.src = url;\n      console.debug(\"Bokeh: injecting script tag for BokehJS library: \", url);\n      document.head.appendChild(element);\n    }\n  };\n\n  function inject_raw_css(css) {\n    const element = document.createElement(\"style\");\n    element.appendChild(document.createTextNode(css));\n    document.body.appendChild(element);\n  }\n\n  const js_urls = [\"https://cdn.bokeh.org/bokeh/release/bokeh-2.4.3.min.js\", \"https://cdn.bokeh.org/bokeh/release/bokeh-gl-2.4.3.min.js\", \"https://cdn.bokeh.org/bokeh/release/bokeh-widgets-2.4.3.min.js\", \"https://cdn.bokeh.org/bokeh/release/bokeh-tables-2.4.3.min.js\", \"https://cdn.bokeh.org/bokeh/release/bokeh-mathjax-2.4.3.min.js\"];\n  const css_urls = [];\n\n  const inline_js = [    function(Bokeh) {\n      Bokeh.set_log_level(\"info\");\n    },\nfunction(Bokeh) {\n    }\n  ];\n\n  function run_inline_js() {\n    if (root.Bokeh !== undefined || force === true) {\n          for (let i = 0; i < inline_js.length; i++) {\n      inline_js[i].call(root, root.Bokeh);\n    }\nif (force === true) {\n        display_loaded();\n      }} else if (Date.now() < root._bokeh_timeout) {\n      setTimeout(run_inline_js, 100);\n    } else if (!root._bokeh_failed_load) {\n      console.log(\"Bokeh: BokehJS failed to load within specified timeout.\");\n      root._bokeh_failed_load = true;\n    } else if (force !== true) {\n      const cell = $(document.getElementById(\"1305\")).parents('.cell').data().cell;\n      cell.output_area.append_execute_result(NB_LOAD_WARNING)\n    }\n  }\n\n  if (root._bokeh_is_loading === 0) {\n    console.debug(\"Bokeh: BokehJS loaded, going straight to plotting\");\n    run_inline_js();\n  } else {\n    load_libs(css_urls, js_urls, function() {\n      console.debug(\"Bokeh: BokehJS plotting callback run at\", now());\n      run_inline_js();\n    });\n  }\n}(window));"
     },
     "metadata": {},
     "output_type": "display_data"
    },
    {
     "data": {
      "text/html": [
       "\n",
       "  <div class=\"bk-root\" id=\"61bd5972-81dc-41ac-bb8b-0012f08e141a\" data-root-id=\"1272\"></div>\n"
      ]
     },
     "metadata": {},
     "output_type": "display_data"
    },
    {
     "data": {
      "application/javascript": [
       "(function(root) {\n",
       "  function embed_document(root) {\n",
       "  const docs_json = {\"ad5c6fbe-5fb8-4300-ba8e-22d3932db9a7\":{\"defs\":[],\"roots\":{\"references\":[{\"attributes\":{\"below\":[{\"id\":\"1283\"}],\"center\":[{\"id\":\"1286\"},{\"id\":\"1290\"}],\"left\":[{\"id\":\"1287\"}],\"renderers\":[{\"id\":\"1310\"}],\"title\":{\"id\":\"1273\"},\"toolbar\":{\"id\":\"1298\"},\"x_range\":{\"id\":\"1275\"},\"x_scale\":{\"id\":\"1279\"},\"y_range\":{\"id\":\"1277\"},\"y_scale\":{\"id\":\"1281\"}},\"id\":\"1272\",\"subtype\":\"Figure\",\"type\":\"Plot\"},{\"attributes\":{},\"id\":\"1296\",\"type\":\"HelpTool\"},{\"attributes\":{},\"id\":\"1328\",\"type\":\"AllLabels\"},{\"attributes\":{},\"id\":\"1329\",\"type\":\"UnionRenderers\"},{\"attributes\":{\"overlay\":{\"id\":\"1297\"}},\"id\":\"1293\",\"type\":\"BoxZoomTool\"},{\"attributes\":{},\"id\":\"1294\",\"type\":\"SaveTool\"},{\"attributes\":{},\"id\":\"1330\",\"type\":\"Selection\"},{\"attributes\":{},\"id\":\"1295\",\"type\":\"ResetTool\"},{\"attributes\":{\"bottom_units\":\"screen\",\"coordinates\":null,\"fill_alpha\":0.5,\"fill_color\":\"lightgrey\",\"group\":null,\"left_units\":\"screen\",\"level\":\"overlay\",\"line_alpha\":1.0,\"line_color\":\"black\",\"line_dash\":[4,4],\"line_width\":2,\"right_units\":\"screen\",\"syncable\":false,\"top_units\":\"screen\"},\"id\":\"1297\",\"type\":\"BoxAnnotation\"},{\"attributes\":{\"data\":{\"x\":[1,2,3,4,5],\"y\":[5,4,3,2,1]},\"selected\":{\"id\":\"1330\"},\"selection_policy\":{\"id\":\"1329\"}},\"id\":\"1306\",\"type\":\"ColumnDataSource\"},{\"attributes\":{\"coordinates\":null,\"data_source\":{\"id\":\"1306\"},\"glyph\":{\"id\":\"1307\"},\"group\":null,\"hover_glyph\":null,\"muted_glyph\":{\"id\":\"1309\"},\"nonselection_glyph\":{\"id\":\"1308\"},\"view\":{\"id\":\"1311\"}},\"id\":\"1310\",\"type\":\"GlyphRenderer\"},{\"attributes\":{},\"id\":\"1292\",\"type\":\"WheelZoomTool\"},{\"attributes\":{},\"id\":\"1327\",\"type\":\"BasicTickFormatter\"},{\"attributes\":{\"source\":{\"id\":\"1306\"}},\"id\":\"1311\",\"type\":\"CDSView\"},{\"attributes\":{\"tools\":[{\"id\":\"1291\"},{\"id\":\"1292\"},{\"id\":\"1293\"},{\"id\":\"1294\"},{\"id\":\"1295\"},{\"id\":\"1296\"}]},\"id\":\"1298\",\"type\":\"Toolbar\"},{\"attributes\":{\"axis\":{\"id\":\"1287\"},\"coordinates\":null,\"dimension\":1,\"group\":null,\"ticker\":null},\"id\":\"1290\",\"type\":\"Grid\"},{\"attributes\":{},\"id\":\"1288\",\"type\":\"BasicTicker\"},{\"attributes\":{},\"id\":\"1325\",\"type\":\"AllLabels\"},{\"attributes\":{},\"id\":\"1291\",\"type\":\"PanTool\"},{\"attributes\":{},\"id\":\"1324\",\"type\":\"BasicTickFormatter\"},{\"attributes\":{},\"id\":\"1275\",\"type\":\"DataRange1d\"},{\"attributes\":{\"line_color\":\"#1f77b4\",\"x\":{\"field\":\"x\"},\"y\":{\"field\":\"y\"}},\"id\":\"1307\",\"type\":\"Line\"},{\"attributes\":{\"coordinates\":null,\"formatter\":{\"id\":\"1327\"},\"group\":null,\"major_label_policy\":{\"id\":\"1328\"},\"ticker\":{\"id\":\"1284\"}},\"id\":\"1283\",\"type\":\"LinearAxis\"},{\"attributes\":{},\"id\":\"1279\",\"type\":\"LinearScale\"},{\"attributes\":{\"axis\":{\"id\":\"1283\"},\"coordinates\":null,\"group\":null,\"ticker\":null},\"id\":\"1286\",\"type\":\"Grid\"},{\"attributes\":{},\"id\":\"1284\",\"type\":\"BasicTicker\"},{\"attributes\":{\"coordinates\":null,\"formatter\":{\"id\":\"1324\"},\"group\":null,\"major_label_policy\":{\"id\":\"1325\"},\"ticker\":{\"id\":\"1288\"}},\"id\":\"1287\",\"type\":\"LinearAxis\"},{\"attributes\":{\"coordinates\":null,\"group\":null,\"text\":\"Bokeh Line Graph\"},\"id\":\"1273\",\"type\":\"Title\"},{\"attributes\":{\"line_alpha\":0.2,\"line_color\":\"#1f77b4\",\"x\":{\"field\":\"x\"},\"y\":{\"field\":\"y\"}},\"id\":\"1309\",\"type\":\"Line\"},{\"attributes\":{\"line_alpha\":0.1,\"line_color\":\"#1f77b4\",\"x\":{\"field\":\"x\"},\"y\":{\"field\":\"y\"}},\"id\":\"1308\",\"type\":\"Line\"},{\"attributes\":{},\"id\":\"1277\",\"type\":\"DataRange1d\"},{\"attributes\":{},\"id\":\"1281\",\"type\":\"LinearScale\"}],\"root_ids\":[\"1272\"]},\"title\":\"Bokeh Application\",\"version\":\"2.4.3\"}};\n",
       "  const render_items = [{\"docid\":\"ad5c6fbe-5fb8-4300-ba8e-22d3932db9a7\",\"root_ids\":[\"1272\"],\"roots\":{\"1272\":\"61bd5972-81dc-41ac-bb8b-0012f08e141a\"}}];\n",
       "  root.Bokeh.embed.embed_items_notebook(docs_json, render_items);\n",
       "  }\n",
       "  if (root.Bokeh !== undefined) {\n",
       "    embed_document(root);\n",
       "  } else {\n",
       "    let attempts = 0;\n",
       "    const timer = setInterval(function(root) {\n",
       "      if (root.Bokeh !== undefined) {\n",
       "        clearInterval(timer);\n",
       "        embed_document(root);\n",
       "      } else {\n",
       "        attempts++;\n",
       "        if (attempts > 100) {\n",
       "          clearInterval(timer);\n",
       "          console.log(\"Bokeh: ERROR: Unable to run BokehJS code because BokehJS library is missing\");\n",
       "        }\n",
       "      }\n",
       "    }, 10, root)\n",
       "  }\n",
       "})(window);"
      ],
      "application/vnd.bokehjs_exec.v0+json": ""
     },
     "metadata": {
      "application/vnd.bokehjs_exec.v0+json": {
       "id": "1272"
      }
     },
     "output_type": "display_data"
    }
   ],
   "source": [
    "# instantiating the figure object\n",
    "graph = figure(title = \"Bokeh Line Graph\")\n",
    "output_notebook()\n",
    "#output_file('filename.html')\n",
    "# the points to be plotted\n",
    "x = [1, 2, 3, 4, 5]\n",
    "y = [5, 4, 3, 2, 1]\n",
    " \n",
    "# plotting the line graph\n",
    "graph.line(x, y)\n",
    " \n",
    "# displaying the model\n",
    "show(graph)"
   ]
  },
  {
   "cell_type": "markdown",
   "id": "337b67b7",
   "metadata": {},
   "source": [
    "## Annotations and Legends"
   ]
  },
  {
   "cell_type": "code",
   "execution_count": 8,
   "id": "1ef1383b",
   "metadata": {},
   "outputs": [
    {
     "data": {
      "text/html": [
       "\n",
       "  <div class=\"bk-root\" id=\"e34bbe76-280c-4ad0-b182-74570ba680d5\" data-root-id=\"1272\"></div>\n"
      ]
     },
     "metadata": {},
     "output_type": "display_data"
    },
    {
     "data": {
      "application/javascript": [
       "(function(root) {\n",
       "  function embed_document(root) {\n",
       "  const docs_json = {\"aa5d757a-e4d4-4440-bec3-e5490e437b7c\":{\"defs\":[],\"roots\":{\"references\":[{\"attributes\":{\"below\":[{\"id\":\"1283\"}],\"center\":[{\"id\":\"1286\"},{\"id\":\"1290\"},{\"id\":\"1422\"}],\"left\":[{\"id\":\"1287\"}],\"renderers\":[{\"id\":\"1310\"},{\"id\":\"1386\"},{\"id\":\"1472\"}],\"title\":{\"id\":\"1273\"},\"toolbar\":{\"id\":\"1298\"},\"x_range\":{\"id\":\"1275\"},\"x_scale\":{\"id\":\"1279\"},\"y_range\":{\"id\":\"1277\"},\"y_scale\":{\"id\":\"1281\"}},\"id\":\"1272\",\"subtype\":\"Figure\",\"type\":\"Plot\"},{\"attributes\":{},\"id\":\"1296\",\"type\":\"HelpTool\"},{\"attributes\":{},\"id\":\"1328\",\"type\":\"AllLabels\"},{\"attributes\":{},\"id\":\"1329\",\"type\":\"UnionRenderers\"},{\"attributes\":{\"overlay\":{\"id\":\"1297\"}},\"id\":\"1293\",\"type\":\"BoxZoomTool\"},{\"attributes\":{\"line_alpha\":0.1,\"line_color\":\"#1f77b4\",\"x\":{\"field\":\"x\"},\"y\":{\"field\":\"y\"}},\"id\":\"1384\",\"type\":\"Line\"},{\"attributes\":{},\"id\":\"1294\",\"type\":\"SaveTool\"},{\"attributes\":{},\"id\":\"1330\",\"type\":\"Selection\"},{\"attributes\":{},\"id\":\"1295\",\"type\":\"ResetTool\"},{\"attributes\":{\"bottom_units\":\"screen\",\"coordinates\":null,\"fill_alpha\":0.5,\"fill_color\":\"lightgrey\",\"group\":null,\"left_units\":\"screen\",\"level\":\"overlay\",\"line_alpha\":1.0,\"line_color\":\"black\",\"line_dash\":[4,4],\"line_width\":2,\"right_units\":\"screen\",\"syncable\":false,\"top_units\":\"screen\"},\"id\":\"1297\",\"type\":\"BoxAnnotation\"},{\"attributes\":{\"data\":{\"x\":[1,2,3,4,5],\"y\":[5,4,3,2,1]},\"selected\":{\"id\":\"1330\"},\"selection_policy\":{\"id\":\"1329\"}},\"id\":\"1306\",\"type\":\"ColumnDataSource\"},{\"attributes\":{\"line_alpha\":0.1,\"line_color\":\"green\",\"x\":{\"field\":\"x\"},\"y\":{\"field\":\"y\"}},\"id\":\"1470\",\"type\":\"Line\"},{\"attributes\":{\"line_color\":\"#1f77b4\",\"x\":{\"field\":\"x\"},\"y\":{\"field\":\"y\"}},\"id\":\"1383\",\"type\":\"Line\"},{\"attributes\":{\"source\":{\"id\":\"1468\"}},\"id\":\"1473\",\"type\":\"CDSView\"},{\"attributes\":{\"coordinates\":null,\"data_source\":{\"id\":\"1468\"},\"glyph\":{\"id\":\"1469\"},\"group\":null,\"hover_glyph\":null,\"muted_glyph\":{\"id\":\"1471\"},\"nonselection_glyph\":{\"id\":\"1470\"},\"view\":{\"id\":\"1473\"}},\"id\":\"1472\",\"type\":\"GlyphRenderer\"},{\"attributes\":{\"coordinates\":null,\"data_source\":{\"id\":\"1306\"},\"glyph\":{\"id\":\"1307\"},\"group\":null,\"hover_glyph\":null,\"muted_glyph\":{\"id\":\"1309\"},\"nonselection_glyph\":{\"id\":\"1308\"},\"view\":{\"id\":\"1311\"}},\"id\":\"1310\",\"type\":\"GlyphRenderer\"},{\"attributes\":{\"line_alpha\":0.2,\"line_color\":\"green\",\"x\":{\"field\":\"x\"},\"y\":{\"field\":\"y\"}},\"id\":\"1471\",\"type\":\"Line\"},{\"attributes\":{\"label\":{\"value\":\"Line 1\"},\"renderers\":[{\"id\":\"1386\"}]},\"id\":\"1445\",\"type\":\"LegendItem\"},{\"attributes\":{\"label\":{\"value\":\"Line 2\"},\"renderers\":[{\"id\":\"1472\"}]},\"id\":\"1512\",\"type\":\"LegendItem\"},{\"attributes\":{},\"id\":\"1495\",\"type\":\"UnionRenderers\"},{\"attributes\":{},\"id\":\"1292\",\"type\":\"WheelZoomTool\"},{\"attributes\":{\"line_color\":\"green\",\"x\":{\"field\":\"x\"},\"y\":{\"field\":\"y\"}},\"id\":\"1469\",\"type\":\"Line\"},{\"attributes\":{},\"id\":\"1496\",\"type\":\"Selection\"},{\"attributes\":{\"line_alpha\":0.2,\"line_color\":\"#1f77b4\",\"x\":{\"field\":\"x\"},\"y\":{\"field\":\"y\"}},\"id\":\"1385\",\"type\":\"Line\"},{\"attributes\":{},\"id\":\"1327\",\"type\":\"BasicTickFormatter\"},{\"attributes\":{},\"id\":\"1408\",\"type\":\"Selection\"},{\"attributes\":{\"source\":{\"id\":\"1306\"}},\"id\":\"1311\",\"type\":\"CDSView\"},{\"attributes\":{},\"id\":\"1407\",\"type\":\"UnionRenderers\"},{\"attributes\":{\"tools\":[{\"id\":\"1291\"},{\"id\":\"1292\"},{\"id\":\"1293\"},{\"id\":\"1294\"},{\"id\":\"1295\"},{\"id\":\"1296\"}]},\"id\":\"1298\",\"type\":\"Toolbar\"},{\"attributes\":{\"axis\":{\"id\":\"1287\"},\"coordinates\":null,\"dimension\":1,\"group\":null,\"ticker\":null},\"id\":\"1290\",\"type\":\"Grid\"},{\"attributes\":{\"coordinates\":null,\"data_source\":{\"id\":\"1382\"},\"glyph\":{\"id\":\"1383\"},\"group\":null,\"hover_glyph\":null,\"muted_glyph\":{\"id\":\"1385\"},\"nonselection_glyph\":{\"id\":\"1384\"},\"view\":{\"id\":\"1387\"}},\"id\":\"1386\",\"type\":\"GlyphRenderer\"},{\"attributes\":{},\"id\":\"1288\",\"type\":\"BasicTicker\"},{\"attributes\":{},\"id\":\"1325\",\"type\":\"AllLabels\"},{\"attributes\":{\"data\":{\"x\":[1,2,3,4,5],\"y\":[1,2,3,4,5]},\"selected\":{\"id\":\"1408\"},\"selection_policy\":{\"id\":\"1407\"}},\"id\":\"1382\",\"type\":\"ColumnDataSource\"},{\"attributes\":{},\"id\":\"1291\",\"type\":\"PanTool\"},{\"attributes\":{},\"id\":\"1324\",\"type\":\"BasicTickFormatter\"},{\"attributes\":{},\"id\":\"1275\",\"type\":\"DataRange1d\"},{\"attributes\":{\"line_color\":\"#1f77b4\",\"x\":{\"field\":\"x\"},\"y\":{\"field\":\"y\"}},\"id\":\"1307\",\"type\":\"Line\"},{\"attributes\":{\"coordinates\":null,\"group\":null,\"items\":[{\"id\":\"1445\"},{\"id\":\"1512\"}]},\"id\":\"1422\",\"type\":\"Legend\"},{\"attributes\":{\"coordinates\":null,\"formatter\":{\"id\":\"1327\"},\"group\":null,\"major_label_policy\":{\"id\":\"1328\"},\"ticker\":{\"id\":\"1284\"}},\"id\":\"1283\",\"type\":\"LinearAxis\"},{\"attributes\":{},\"id\":\"1279\",\"type\":\"LinearScale\"},{\"attributes\":{\"axis\":{\"id\":\"1283\"},\"coordinates\":null,\"group\":null,\"ticker\":null},\"id\":\"1286\",\"type\":\"Grid\"},{\"attributes\":{},\"id\":\"1284\",\"type\":\"BasicTicker\"},{\"attributes\":{\"coordinates\":null,\"formatter\":{\"id\":\"1324\"},\"group\":null,\"major_label_policy\":{\"id\":\"1325\"},\"ticker\":{\"id\":\"1288\"}},\"id\":\"1287\",\"type\":\"LinearAxis\"},{\"attributes\":{\"source\":{\"id\":\"1382\"}},\"id\":\"1387\",\"type\":\"CDSView\"},{\"attributes\":{\"coordinates\":null,\"group\":null,\"text\":\"Bokeh Line Graph\"},\"id\":\"1273\",\"type\":\"Title\"},{\"attributes\":{\"data\":{\"x\":[5,4,3,2,1],\"y\":[1,2,3,4,5]},\"selected\":{\"id\":\"1496\"},\"selection_policy\":{\"id\":\"1495\"}},\"id\":\"1468\",\"type\":\"ColumnDataSource\"},{\"attributes\":{\"line_alpha\":0.2,\"line_color\":\"#1f77b4\",\"x\":{\"field\":\"x\"},\"y\":{\"field\":\"y\"}},\"id\":\"1309\",\"type\":\"Line\"},{\"attributes\":{\"line_alpha\":0.1,\"line_color\":\"#1f77b4\",\"x\":{\"field\":\"x\"},\"y\":{\"field\":\"y\"}},\"id\":\"1308\",\"type\":\"Line\"},{\"attributes\":{},\"id\":\"1277\",\"type\":\"DataRange1d\"},{\"attributes\":{},\"id\":\"1281\",\"type\":\"LinearScale\"}],\"root_ids\":[\"1272\"]},\"title\":\"Bokeh Application\",\"version\":\"2.4.3\"}};\n",
       "  const render_items = [{\"docid\":\"aa5d757a-e4d4-4440-bec3-e5490e437b7c\",\"root_ids\":[\"1272\"],\"roots\":{\"1272\":\"e34bbe76-280c-4ad0-b182-74570ba680d5\"}}];\n",
       "  root.Bokeh.embed.embed_items_notebook(docs_json, render_items);\n",
       "  }\n",
       "  if (root.Bokeh !== undefined) {\n",
       "    embed_document(root);\n",
       "  } else {\n",
       "    let attempts = 0;\n",
       "    const timer = setInterval(function(root) {\n",
       "      if (root.Bokeh !== undefined) {\n",
       "        clearInterval(timer);\n",
       "        embed_document(root);\n",
       "      } else {\n",
       "        attempts++;\n",
       "        if (attempts > 100) {\n",
       "          clearInterval(timer);\n",
       "          console.log(\"Bokeh: ERROR: Unable to run BokehJS code because BokehJS library is missing\");\n",
       "        }\n",
       "      }\n",
       "    }, 10, root)\n",
       "  }\n",
       "})(window);"
      ],
      "application/vnd.bokehjs_exec.v0+json": ""
     },
     "metadata": {
      "application/vnd.bokehjs_exec.v0+json": {
       "id": "1272"
      }
     },
     "output_type": "display_data"
    }
   ],
   "source": [
    "# the points to be plotted\n",
    "x = [1, 2, 3, 4, 5]\n",
    "y = [5, 4, 3, 2, 1]\n",
    " \n",
    "# plotting the 1st line graph\n",
    "graph.line(x, x, legend_label=\"Line 1\")\n",
    " \n",
    "# plotting the 2nd line graph with a\n",
    "# different color\n",
    "graph.line(y, x, legend_label=\"Line 2\",  line_color=\"green\")\n",
    " \n",
    "# displaying the model\n",
    "show(graph)"
   ]
  },
  {
   "cell_type": "markdown",
   "id": "4fd6877c",
   "metadata": {},
   "source": [
    "### Customizing Legends\n",
    "legend.label_text_font \tchange default label font to specified font name\n",
    "legend.label_text_font_size \tfont size in points\n",
    "legend.location \tset the label at specified location.\n",
    "legend.title \tset title for legend label \n",
    "legend.orientation \tset to horizontal (default) or vertical\n",
    "legend.clicking_policy \tspecify what should happen when legend is clicked"
   ]
  },
  {
   "cell_type": "code",
   "execution_count": 9,
   "id": "697d92b1",
   "metadata": {},
   "outputs": [
    {
     "data": {
      "text/html": [
       "\n",
       "  <div class=\"bk-root\" id=\"e62e9905-5fe8-4048-8940-1c14f5fc9a6d\" data-root-id=\"1607\"></div>\n"
      ]
     },
     "metadata": {},
     "output_type": "display_data"
    },
    {
     "data": {
      "application/javascript": [
       "(function(root) {\n",
       "  function embed_document(root) {\n",
       "  const docs_json = {\"07803076-c985-4edf-a309-6db013f35e0e\":{\"defs\":[],\"roots\":{\"references\":[{\"attributes\":{\"below\":[{\"id\":\"1618\"}],\"center\":[{\"id\":\"1621\"},{\"id\":\"1625\"},{\"id\":\"1656\"}],\"left\":[{\"id\":\"1622\"}],\"renderers\":[{\"id\":\"1644\"},{\"id\":\"1662\"}],\"title\":{\"id\":\"1608\"},\"toolbar\":{\"id\":\"1633\"},\"x_range\":{\"id\":\"1610\"},\"x_scale\":{\"id\":\"1614\"},\"y_range\":{\"id\":\"1612\"},\"y_scale\":{\"id\":\"1616\"}},\"id\":\"1607\",\"subtype\":\"Figure\",\"type\":\"Plot\"},{\"attributes\":{},\"id\":\"1649\",\"type\":\"AllLabels\"},{\"attributes\":{},\"id\":\"1619\",\"type\":\"BasicTicker\"},{\"attributes\":{\"axis\":{\"id\":\"1618\"},\"coordinates\":null,\"group\":null,\"ticker\":null},\"id\":\"1621\",\"type\":\"Grid\"},{\"attributes\":{\"coordinates\":null,\"formatter\":{\"id\":\"1648\"},\"group\":null,\"major_label_policy\":{\"id\":\"1649\"},\"ticker\":{\"id\":\"1623\"}},\"id\":\"1622\",\"type\":\"LinearAxis\"},{\"attributes\":{},\"id\":\"1651\",\"type\":\"BasicTickFormatter\"},{\"attributes\":{},\"id\":\"1631\",\"type\":\"HelpTool\"},{\"attributes\":{\"coordinates\":null,\"data_source\":{\"id\":\"1658\"},\"glyph\":{\"id\":\"1659\"},\"group\":null,\"hover_glyph\":null,\"muted_glyph\":{\"id\":\"1661\"},\"nonselection_glyph\":{\"id\":\"1660\"},\"view\":{\"id\":\"1663\"}},\"id\":\"1662\",\"type\":\"GlyphRenderer\"},{\"attributes\":{},\"id\":\"1652\",\"type\":\"AllLabels\"},{\"attributes\":{\"coordinates\":null,\"data_source\":{\"id\":\"1640\"},\"glyph\":{\"id\":\"1641\"},\"group\":null,\"hover_glyph\":null,\"muted_glyph\":{\"id\":\"1643\"},\"nonselection_glyph\":{\"id\":\"1642\"},\"view\":{\"id\":\"1645\"}},\"id\":\"1644\",\"type\":\"GlyphRenderer\"},{\"attributes\":{\"axis\":{\"id\":\"1622\"},\"coordinates\":null,\"dimension\":1,\"group\":null,\"ticker\":null},\"id\":\"1625\",\"type\":\"Grid\"},{\"attributes\":{},\"id\":\"1623\",\"type\":\"BasicTicker\"},{\"attributes\":{\"coordinates\":null,\"group\":null,\"text\":\"Bokeh Line Graph\"},\"id\":\"1608\",\"type\":\"Title\"},{\"attributes\":{},\"id\":\"1627\",\"type\":\"WheelZoomTool\"},{\"attributes\":{},\"id\":\"1626\",\"type\":\"PanTool\"},{\"attributes\":{\"overlay\":{\"id\":\"1632\"}},\"id\":\"1628\",\"type\":\"BoxZoomTool\"},{\"attributes\":{},\"id\":\"1612\",\"type\":\"DataRange1d\"},{\"attributes\":{},\"id\":\"1629\",\"type\":\"SaveTool\"},{\"attributes\":{},\"id\":\"1630\",\"type\":\"ResetTool\"},{\"attributes\":{},\"id\":\"1610\",\"type\":\"DataRange1d\"},{\"attributes\":{},\"id\":\"1653\",\"type\":\"UnionRenderers\"},{\"attributes\":{\"bottom_units\":\"screen\",\"coordinates\":null,\"fill_alpha\":0.5,\"fill_color\":\"lightgrey\",\"group\":null,\"left_units\":\"screen\",\"level\":\"overlay\",\"line_alpha\":1.0,\"line_color\":\"black\",\"line_dash\":[4,4],\"line_width\":2,\"right_units\":\"screen\",\"syncable\":false,\"top_units\":\"screen\"},\"id\":\"1632\",\"type\":\"BoxAnnotation\"},{\"attributes\":{},\"id\":\"1654\",\"type\":\"Selection\"},{\"attributes\":{\"source\":{\"id\":\"1658\"}},\"id\":\"1663\",\"type\":\"CDSView\"},{\"attributes\":{\"line_alpha\":0.1,\"line_color\":\"#1f77b4\",\"x\":{\"field\":\"x\"},\"y\":{\"field\":\"y\"}},\"id\":\"1642\",\"type\":\"Line\"},{\"attributes\":{\"line_alpha\":0.2,\"line_color\":\"green\",\"x\":{\"field\":\"x\"},\"y\":{\"field\":\"y\"}},\"id\":\"1661\",\"type\":\"Line\"},{\"attributes\":{\"source\":{\"id\":\"1640\"}},\"id\":\"1645\",\"type\":\"CDSView\"},{\"attributes\":{\"coordinates\":null,\"group\":null,\"items\":[{\"id\":\"1657\"},{\"id\":\"1676\"}],\"label_text_font_size\":\"17pt\",\"location\":\"top_left\",\"title\":\"Title of the legend\"},\"id\":\"1656\",\"type\":\"Legend\"},{\"attributes\":{\"line_alpha\":0.1,\"line_color\":\"green\",\"x\":{\"field\":\"x\"},\"y\":{\"field\":\"y\"}},\"id\":\"1660\",\"type\":\"Line\"},{\"attributes\":{\"line_color\":\"green\",\"x\":{\"field\":\"x\"},\"y\":{\"field\":\"y\"}},\"id\":\"1659\",\"type\":\"Line\"},{\"attributes\":{\"line_alpha\":0.2,\"line_color\":\"#1f77b4\",\"x\":{\"field\":\"x\"},\"y\":{\"field\":\"y\"}},\"id\":\"1643\",\"type\":\"Line\"},{\"attributes\":{\"label\":{\"value\":\"Line 2\"},\"renderers\":[{\"id\":\"1662\"}]},\"id\":\"1676\",\"type\":\"LegendItem\"},{\"attributes\":{},\"id\":\"1648\",\"type\":\"BasicTickFormatter\"},{\"attributes\":{},\"id\":\"1673\",\"type\":\"UnionRenderers\"},{\"attributes\":{\"coordinates\":null,\"formatter\":{\"id\":\"1651\"},\"group\":null,\"major_label_policy\":{\"id\":\"1652\"},\"ticker\":{\"id\":\"1619\"}},\"id\":\"1618\",\"type\":\"LinearAxis\"},{\"attributes\":{},\"id\":\"1674\",\"type\":\"Selection\"},{\"attributes\":{\"tools\":[{\"id\":\"1626\"},{\"id\":\"1627\"},{\"id\":\"1628\"},{\"id\":\"1629\"},{\"id\":\"1630\"},{\"id\":\"1631\"}]},\"id\":\"1633\",\"type\":\"Toolbar\"},{\"attributes\":{\"data\":{\"x\":[5,4,3,2,1],\"y\":[1,2,3,4,5]},\"selected\":{\"id\":\"1674\"},\"selection_policy\":{\"id\":\"1673\"}},\"id\":\"1658\",\"type\":\"ColumnDataSource\"},{\"attributes\":{},\"id\":\"1614\",\"type\":\"LinearScale\"},{\"attributes\":{\"line_color\":\"#1f77b4\",\"x\":{\"field\":\"x\"},\"y\":{\"field\":\"y\"}},\"id\":\"1641\",\"type\":\"Line\"},{\"attributes\":{\"data\":{\"x\":[1,2,3,4,5],\"y\":[1,2,3,4,5]},\"selected\":{\"id\":\"1654\"},\"selection_policy\":{\"id\":\"1653\"}},\"id\":\"1640\",\"type\":\"ColumnDataSource\"},{\"attributes\":{\"label\":{\"value\":\"Line 1\"},\"renderers\":[{\"id\":\"1644\"}]},\"id\":\"1657\",\"type\":\"LegendItem\"},{\"attributes\":{},\"id\":\"1616\",\"type\":\"LinearScale\"}],\"root_ids\":[\"1607\"]},\"title\":\"Bokeh Application\",\"version\":\"2.4.3\"}};\n",
       "  const render_items = [{\"docid\":\"07803076-c985-4edf-a309-6db013f35e0e\",\"root_ids\":[\"1607\"],\"roots\":{\"1607\":\"e62e9905-5fe8-4048-8940-1c14f5fc9a6d\"}}];\n",
       "  root.Bokeh.embed.embed_items_notebook(docs_json, render_items);\n",
       "  }\n",
       "  if (root.Bokeh !== undefined) {\n",
       "    embed_document(root);\n",
       "  } else {\n",
       "    let attempts = 0;\n",
       "    const timer = setInterval(function(root) {\n",
       "      if (root.Bokeh !== undefined) {\n",
       "        clearInterval(timer);\n",
       "        embed_document(root);\n",
       "      } else {\n",
       "        attempts++;\n",
       "        if (attempts > 100) {\n",
       "          clearInterval(timer);\n",
       "          console.log(\"Bokeh: ERROR: Unable to run BokehJS code because BokehJS library is missing\");\n",
       "        }\n",
       "      }\n",
       "    }, 10, root)\n",
       "  }\n",
       "})(window);"
      ],
      "application/vnd.bokehjs_exec.v0+json": ""
     },
     "metadata": {
      "application/vnd.bokehjs_exec.v0+json": {
       "id": "1607"
      }
     },
     "output_type": "display_data"
    }
   ],
   "source": [
    "# instantiating the figure object\n",
    "graph = figure(title=\"Bokeh Line Graph\")\n",
    " \n",
    "# the points to be plotted\n",
    "x = [1, 2, 3, 4, 5]\n",
    "y = [5, 4, 3, 2, 1]\n",
    " \n",
    "# plotting the 1st line graph\n",
    "graph.line(x, x, legend_label=\"Line 1\")\n",
    " \n",
    "# plotting the 2nd line graph with a\n",
    "# different color\n",
    "graph.line(y, x, legend_label=\"Line 2\",    line_color=\"green\")\n",
    " \n",
    "graph.legend.title = \"Title of the legend\"\n",
    "graph.legend.location =\"top_left\"\n",
    "graph.legend.label_text_font_size = \"17pt\"\n",
    " \n",
    "# displaying the model\n",
    "show(graph)"
   ]
  },
  {
   "cell_type": "markdown",
   "id": "508aa110",
   "metadata": {},
   "source": [
    "## Plotting Different Types of Plots\n",
    "Glyphs in Bokeh terminology means the basic building blocks of the Bokeh plots such as lines, rectangles, squares, etc. Bokeh plots are created using the bokeh.plotting interface which uses a default set of tools and styles."
   ]
  },
  {
   "cell_type": "markdown",
   "id": "ffb3e283",
   "metadata": {},
   "source": [
    "### Line Plots"
   ]
  },
  {
   "cell_type": "code",
   "execution_count": 11,
   "id": "451cb0d9",
   "metadata": {},
   "outputs": [
    {
     "data": {
      "text/html": [
       "\n",
       "  <div class=\"bk-root\" id=\"9a5d720e-96fd-41a5-b7fc-d39b2d7e5df1\" data-root-id=\"1773\"></div>\n"
      ]
     },
     "metadata": {},
     "output_type": "display_data"
    },
    {
     "data": {
      "application/javascript": [
       "(function(root) {\n",
       "  function embed_document(root) {\n",
       "  const docs_json = {\"86eed9d5-01d5-4a8d-9cf6-68e24812a88c\":{\"defs\":[],\"roots\":{\"references\":[{\"attributes\":{\"below\":[{\"id\":\"1784\"}],\"center\":[{\"id\":\"1787\"},{\"id\":\"1791\"}],\"left\":[{\"id\":\"1788\"}],\"renderers\":[{\"id\":\"1810\"}],\"title\":{\"id\":\"1774\"},\"toolbar\":{\"id\":\"1799\"},\"x_range\":{\"id\":\"1776\"},\"x_scale\":{\"id\":\"1780\"},\"y_range\":{\"id\":\"1778\"},\"y_scale\":{\"id\":\"1782\"}},\"id\":\"1773\",\"subtype\":\"Figure\",\"type\":\"Plot\"},{\"attributes\":{},\"id\":\"1776\",\"type\":\"DataRange1d\"},{\"attributes\":{},\"id\":\"1850\",\"type\":\"BasicTickFormatter\"},{\"attributes\":{},\"id\":\"1851\",\"type\":\"AllLabels\"},{\"attributes\":{},\"id\":\"1778\",\"type\":\"DataRange1d\"},{\"attributes\":{},\"id\":\"1853\",\"type\":\"BasicTickFormatter\"},{\"attributes\":{},\"id\":\"1789\",\"type\":\"BasicTicker\"},{\"attributes\":{\"coordinates\":null,\"group\":null,\"text\":\"Bokeh Line Graph\"},\"id\":\"1774\",\"type\":\"Title\"},{\"attributes\":{},\"id\":\"1785\",\"type\":\"BasicTicker\"},{\"attributes\":{},\"id\":\"1854\",\"type\":\"AllLabels\"},{\"attributes\":{\"axis\":{\"id\":\"1788\"},\"coordinates\":null,\"dimension\":1,\"group\":null,\"ticker\":null},\"id\":\"1791\",\"type\":\"Grid\"},{\"attributes\":{\"coordinates\":null,\"formatter\":{\"id\":\"1850\"},\"group\":null,\"major_label_policy\":{\"id\":\"1851\"},\"ticker\":{\"id\":\"1789\"}},\"id\":\"1788\",\"type\":\"LinearAxis\"},{\"attributes\":{},\"id\":\"1782\",\"type\":\"LinearScale\"},{\"attributes\":{},\"id\":\"1780\",\"type\":\"LinearScale\"},{\"attributes\":{\"axis\":{\"id\":\"1784\"},\"coordinates\":null,\"group\":null,\"ticker\":null},\"id\":\"1787\",\"type\":\"Grid\"},{\"attributes\":{\"line_color\":\"#1f77b4\",\"x\":{\"field\":\"x\"},\"y\":{\"field\":\"y\"}},\"id\":\"1807\",\"type\":\"Line\"},{\"attributes\":{\"line_alpha\":0.2,\"line_color\":\"#1f77b4\",\"x\":{\"field\":\"x\"},\"y\":{\"field\":\"y\"}},\"id\":\"1809\",\"type\":\"Line\"},{\"attributes\":{\"coordinates\":null,\"data_source\":{\"id\":\"1806\"},\"glyph\":{\"id\":\"1807\"},\"group\":null,\"hover_glyph\":null,\"muted_glyph\":{\"id\":\"1809\"},\"nonselection_glyph\":{\"id\":\"1808\"},\"view\":{\"id\":\"1811\"}},\"id\":\"1810\",\"type\":\"GlyphRenderer\"},{\"attributes\":{},\"id\":\"1855\",\"type\":\"UnionRenderers\"},{\"attributes\":{\"bottom_units\":\"screen\",\"coordinates\":null,\"fill_alpha\":0.5,\"fill_color\":\"lightgrey\",\"group\":null,\"left_units\":\"screen\",\"level\":\"overlay\",\"line_alpha\":1.0,\"line_color\":\"black\",\"line_dash\":[4,4],\"line_width\":2,\"right_units\":\"screen\",\"syncable\":false,\"top_units\":\"screen\"},\"id\":\"1798\",\"type\":\"BoxAnnotation\"},{\"attributes\":{\"line_alpha\":0.1,\"line_color\":\"#1f77b4\",\"x\":{\"field\":\"x\"},\"y\":{\"field\":\"y\"}},\"id\":\"1808\",\"type\":\"Line\"},{\"attributes\":{\"data\":{\"x\":[1,2,3,4,5],\"y\":[5,4,3,2,1]},\"selected\":{\"id\":\"1856\"},\"selection_policy\":{\"id\":\"1855\"}},\"id\":\"1806\",\"type\":\"ColumnDataSource\"},{\"attributes\":{},\"id\":\"1856\",\"type\":\"Selection\"},{\"attributes\":{},\"id\":\"1792\",\"type\":\"PanTool\"},{\"attributes\":{\"source\":{\"id\":\"1806\"}},\"id\":\"1811\",\"type\":\"CDSView\"},{\"attributes\":{},\"id\":\"1796\",\"type\":\"ResetTool\"},{\"attributes\":{},\"id\":\"1797\",\"type\":\"HelpTool\"},{\"attributes\":{},\"id\":\"1793\",\"type\":\"WheelZoomTool\"},{\"attributes\":{},\"id\":\"1795\",\"type\":\"SaveTool\"},{\"attributes\":{\"overlay\":{\"id\":\"1798\"}},\"id\":\"1794\",\"type\":\"BoxZoomTool\"},{\"attributes\":{\"tools\":[{\"id\":\"1792\"},{\"id\":\"1793\"},{\"id\":\"1794\"},{\"id\":\"1795\"},{\"id\":\"1796\"},{\"id\":\"1797\"}]},\"id\":\"1799\",\"type\":\"Toolbar\"},{\"attributes\":{\"coordinates\":null,\"formatter\":{\"id\":\"1853\"},\"group\":null,\"major_label_policy\":{\"id\":\"1854\"},\"ticker\":{\"id\":\"1785\"}},\"id\":\"1784\",\"type\":\"LinearAxis\"}],\"root_ids\":[\"1773\"]},\"title\":\"Bokeh Application\",\"version\":\"2.4.3\"}};\n",
       "  const render_items = [{\"docid\":\"86eed9d5-01d5-4a8d-9cf6-68e24812a88c\",\"root_ids\":[\"1773\"],\"roots\":{\"1773\":\"9a5d720e-96fd-41a5-b7fc-d39b2d7e5df1\"}}];\n",
       "  root.Bokeh.embed.embed_items_notebook(docs_json, render_items);\n",
       "  }\n",
       "  if (root.Bokeh !== undefined) {\n",
       "    embed_document(root);\n",
       "  } else {\n",
       "    let attempts = 0;\n",
       "    const timer = setInterval(function(root) {\n",
       "      if (root.Bokeh !== undefined) {\n",
       "        clearInterval(timer);\n",
       "        embed_document(root);\n",
       "      } else {\n",
       "        attempts++;\n",
       "        if (attempts > 100) {\n",
       "          clearInterval(timer);\n",
       "          console.log(\"Bokeh: ERROR: Unable to run BokehJS code because BokehJS library is missing\");\n",
       "        }\n",
       "      }\n",
       "    }, 10, root)\n",
       "  }\n",
       "})(window);"
      ],
      "application/vnd.bokehjs_exec.v0+json": ""
     },
     "metadata": {
      "application/vnd.bokehjs_exec.v0+json": {
       "id": "1773"
      }
     },
     "output_type": "display_data"
    }
   ],
   "source": [
    "from bokeh.plotting import figure, output_file, show\n",
    "graph = figure(title = \"Bokeh Line Graph\")\n",
    "x = [1, 2, 3, 4, 5]\n",
    "y = [5, 4, 3, 2, 1]\n",
    "graph.line(x, y)\n",
    "show(graph)"
   ]
  },
  {
   "cell_type": "markdown",
   "id": "779d6b7a",
   "metadata": {},
   "source": [
    "### Bar Plots\n",
    "Bar plot or Bar chart is a graph that represents the category of data with rectangular bars with lengths and heights that is proportional to the values which they represent. It can be of two types horizontal bars and vertical bars. Each can be created using the hbar() and vbar() functions of the plotting interface respectively.\n",
    "hbar(parameters)\n",
    "vbar(parameters)"
   ]
  },
  {
   "cell_type": "code",
   "execution_count": 13,
   "id": "6647fe06",
   "metadata": {},
   "outputs": [
    {
     "data": {
      "text/html": [
       "\n",
       "  <div class=\"bk-root\" id=\"c9f93c7d-9a1c-4fa3-a85d-02b767b67323\" data-root-id=\"2053\"></div>\n"
      ]
     },
     "metadata": {},
     "output_type": "display_data"
    },
    {
     "data": {
      "application/javascript": [
       "(function(root) {\n",
       "  function embed_document(root) {\n",
       "  const docs_json = {\"71b4a95e-af73-48b5-aa93-145c6ab9e727\":{\"defs\":[],\"roots\":{\"references\":[{\"attributes\":{\"below\":[{\"id\":\"2064\"}],\"center\":[{\"id\":\"2067\"},{\"id\":\"2071\"}],\"left\":[{\"id\":\"2068\"}],\"renderers\":[{\"id\":\"2090\"}],\"title\":{\"id\":\"2054\"},\"toolbar\":{\"id\":\"2079\"},\"x_range\":{\"id\":\"2056\"},\"x_scale\":{\"id\":\"2060\"},\"y_range\":{\"id\":\"2058\"},\"y_scale\":{\"id\":\"2062\"}},\"id\":\"2053\",\"subtype\":\"Figure\",\"type\":\"Plot\"},{\"attributes\":{},\"id\":\"2077\",\"type\":\"HelpTool\"},{\"attributes\":{\"axis\":{\"id\":\"2068\"},\"coordinates\":null,\"dimension\":1,\"group\":null,\"ticker\":null},\"id\":\"2071\",\"type\":\"Grid\"},{\"attributes\":{},\"id\":\"2153\",\"type\":\"BasicTickFormatter\"},{\"attributes\":{},\"id\":\"2073\",\"type\":\"WheelZoomTool\"},{\"attributes\":{},\"id\":\"2072\",\"type\":\"PanTool\"},{\"attributes\":{\"overlay\":{\"id\":\"2078\"}},\"id\":\"2074\",\"type\":\"BoxZoomTool\"},{\"attributes\":{},\"id\":\"2155\",\"type\":\"UnionRenderers\"},{\"attributes\":{},\"id\":\"2075\",\"type\":\"SaveTool\"},{\"attributes\":{},\"id\":\"2076\",\"type\":\"ResetTool\"},{\"attributes\":{\"data\":{\"right\":[5,4,3,2,1],\"y\":[1,2,3,4,5]},\"selected\":{\"id\":\"2156\"},\"selection_policy\":{\"id\":\"2155\"}},\"id\":\"2086\",\"type\":\"ColumnDataSource\"},{\"attributes\":{},\"id\":\"2065\",\"type\":\"BasicTicker\"},{\"attributes\":{},\"id\":\"2156\",\"type\":\"Selection\"},{\"attributes\":{\"coordinates\":null,\"formatter\":{\"id\":\"2153\"},\"group\":null,\"major_label_policy\":{\"id\":\"2154\"},\"ticker\":{\"id\":\"2065\"}},\"id\":\"2064\",\"type\":\"LinearAxis\"},{\"attributes\":{\"bottom_units\":\"screen\",\"coordinates\":null,\"fill_alpha\":0.5,\"fill_color\":\"lightgrey\",\"group\":null,\"left_units\":\"screen\",\"level\":\"overlay\",\"line_alpha\":1.0,\"line_color\":\"black\",\"line_dash\":[4,4],\"line_width\":2,\"right_units\":\"screen\",\"syncable\":false,\"top_units\":\"screen\"},\"id\":\"2078\",\"type\":\"BoxAnnotation\"},{\"attributes\":{\"coordinates\":null,\"data_source\":{\"id\":\"2086\"},\"glyph\":{\"id\":\"2087\"},\"group\":null,\"hover_glyph\":null,\"muted_glyph\":{\"id\":\"2089\"},\"nonselection_glyph\":{\"id\":\"2088\"},\"view\":{\"id\":\"2091\"}},\"id\":\"2090\",\"type\":\"GlyphRenderer\"},{\"attributes\":{\"axis\":{\"id\":\"2064\"},\"coordinates\":null,\"group\":null,\"ticker\":null},\"id\":\"2067\",\"type\":\"Grid\"},{\"attributes\":{},\"id\":\"2056\",\"type\":\"DataRange1d\"},{\"attributes\":{},\"id\":\"2058\",\"type\":\"DataRange1d\"},{\"attributes\":{},\"id\":\"2069\",\"type\":\"BasicTicker\"},{\"attributes\":{\"fill_color\":{\"value\":\"#1f77b4\"},\"height\":{\"value\":0.5},\"line_color\":{\"value\":\"#1f77b4\"},\"right\":{\"field\":\"right\"},\"y\":{\"field\":\"y\"}},\"id\":\"2087\",\"type\":\"HBar\"},{\"attributes\":{\"fill_alpha\":{\"value\":0.1},\"fill_color\":{\"value\":\"#1f77b4\"},\"hatch_alpha\":{\"value\":0.1},\"height\":{\"value\":0.5},\"line_alpha\":{\"value\":0.1},\"line_color\":{\"value\":\"#1f77b4\"},\"right\":{\"field\":\"right\"},\"y\":{\"field\":\"y\"}},\"id\":\"2088\",\"type\":\"HBar\"},{\"attributes\":{\"coordinates\":null,\"group\":null,\"text\":\"Bokeh Bar Graph\"},\"id\":\"2054\",\"type\":\"Title\"},{\"attributes\":{},\"id\":\"2060\",\"type\":\"LinearScale\"},{\"attributes\":{\"tools\":[{\"id\":\"2072\"},{\"id\":\"2073\"},{\"id\":\"2074\"},{\"id\":\"2075\"},{\"id\":\"2076\"},{\"id\":\"2077\"}]},\"id\":\"2079\",\"type\":\"Toolbar\"},{\"attributes\":{},\"id\":\"2062\",\"type\":\"LinearScale\"},{\"attributes\":{\"coordinates\":null,\"formatter\":{\"id\":\"2150\"},\"group\":null,\"major_label_policy\":{\"id\":\"2151\"},\"ticker\":{\"id\":\"2069\"}},\"id\":\"2068\",\"type\":\"LinearAxis\"},{\"attributes\":{},\"id\":\"2154\",\"type\":\"AllLabels\"},{\"attributes\":{\"source\":{\"id\":\"2086\"}},\"id\":\"2091\",\"type\":\"CDSView\"},{\"attributes\":{},\"id\":\"2150\",\"type\":\"BasicTickFormatter\"},{\"attributes\":{\"fill_alpha\":{\"value\":0.2},\"fill_color\":{\"value\":\"#1f77b4\"},\"hatch_alpha\":{\"value\":0.2},\"height\":{\"value\":0.5},\"line_alpha\":{\"value\":0.2},\"line_color\":{\"value\":\"#1f77b4\"},\"right\":{\"field\":\"right\"},\"y\":{\"field\":\"y\"}},\"id\":\"2089\",\"type\":\"HBar\"},{\"attributes\":{},\"id\":\"2151\",\"type\":\"AllLabels\"}],\"root_ids\":[\"2053\"]},\"title\":\"Bokeh Application\",\"version\":\"2.4.3\"}};\n",
       "  const render_items = [{\"docid\":\"71b4a95e-af73-48b5-aa93-145c6ab9e727\",\"root_ids\":[\"2053\"],\"roots\":{\"2053\":\"c9f93c7d-9a1c-4fa3-a85d-02b767b67323\"}}];\n",
       "  root.Bokeh.embed.embed_items_notebook(docs_json, render_items);\n",
       "  }\n",
       "  if (root.Bokeh !== undefined) {\n",
       "    embed_document(root);\n",
       "  } else {\n",
       "    let attempts = 0;\n",
       "    const timer = setInterval(function(root) {\n",
       "      if (root.Bokeh !== undefined) {\n",
       "        clearInterval(timer);\n",
       "        embed_document(root);\n",
       "      } else {\n",
       "        attempts++;\n",
       "        if (attempts > 100) {\n",
       "          clearInterval(timer);\n",
       "          console.log(\"Bokeh: ERROR: Unable to run BokehJS code because BokehJS library is missing\");\n",
       "        }\n",
       "      }\n",
       "    }, 10, root)\n",
       "  }\n",
       "})(window);"
      ],
      "application/vnd.bokehjs_exec.v0+json": ""
     },
     "metadata": {
      "application/vnd.bokehjs_exec.v0+json": {
       "id": "2053"
      }
     },
     "output_type": "display_data"
    }
   ],
   "source": [
    "graph = figure(title = \"Bokeh Bar Graph\")\n",
    "x = [1, 2, 3, 4, 5]\n",
    "y = [5, 4, 3, 2, 1]\n",
    "graph.hbar(x, right=y, height=.5)  #height- thickness\n",
    "show(graph)"
   ]
  },
  {
   "cell_type": "code",
   "execution_count": 15,
   "id": "aa0c5ccb",
   "metadata": {},
   "outputs": [
    {
     "data": {
      "text/html": [
       "\n",
       "  <div class=\"bk-root\" id=\"842065f1-f654-4cae-9ab1-0b12b99671b4\" data-root-id=\"2243\"></div>\n"
      ]
     },
     "metadata": {},
     "output_type": "display_data"
    },
    {
     "data": {
      "application/javascript": [
       "(function(root) {\n",
       "  function embed_document(root) {\n",
       "  const docs_json = {\"b1c69eaa-4ab5-42f6-b80b-63716dfc3fd6\":{\"defs\":[],\"roots\":{\"references\":[{\"attributes\":{\"below\":[{\"id\":\"2254\"}],\"center\":[{\"id\":\"2257\"},{\"id\":\"2261\"}],\"left\":[{\"id\":\"2258\"}],\"renderers\":[{\"id\":\"2280\"}],\"title\":{\"id\":\"2244\"},\"toolbar\":{\"id\":\"2269\"},\"x_range\":{\"id\":\"2246\"},\"x_scale\":{\"id\":\"2250\"},\"y_range\":{\"id\":\"2248\"},\"y_scale\":{\"id\":\"2252\"}},\"id\":\"2243\",\"subtype\":\"Figure\",\"type\":\"Plot\"},{\"attributes\":{\"coordinates\":null,\"data_source\":{\"id\":\"2276\"},\"glyph\":{\"id\":\"2277\"},\"group\":null,\"hover_glyph\":null,\"muted_glyph\":{\"id\":\"2279\"},\"nonselection_glyph\":{\"id\":\"2278\"},\"view\":{\"id\":\"2281\"}},\"id\":\"2280\",\"type\":\"GlyphRenderer\"},{\"attributes\":{},\"id\":\"2248\",\"type\":\"DataRange1d\"},{\"attributes\":{\"source\":{\"id\":\"2276\"}},\"id\":\"2281\",\"type\":\"CDSView\"},{\"attributes\":{},\"id\":\"2263\",\"type\":\"WheelZoomTool\"},{\"attributes\":{\"coordinates\":null,\"formatter\":{\"id\":\"2353\"},\"group\":null,\"major_label_policy\":{\"id\":\"2354\"},\"ticker\":{\"id\":\"2255\"}},\"id\":\"2254\",\"type\":\"LinearAxis\"},{\"attributes\":{},\"id\":\"2262\",\"type\":\"PanTool\"},{\"attributes\":{\"axis\":{\"id\":\"2254\"},\"coordinates\":null,\"group\":null,\"ticker\":null},\"id\":\"2257\",\"type\":\"Grid\"},{\"attributes\":{},\"id\":\"2355\",\"type\":\"UnionRenderers\"},{\"attributes\":{\"fill_alpha\":{\"value\":0.2},\"fill_color\":{\"value\":\"#1f77b4\"},\"hatch_alpha\":{\"value\":0.2},\"line_alpha\":{\"value\":0.2},\"line_color\":{\"value\":\"#1f77b4\"},\"top\":{\"field\":\"top\"},\"width\":{\"value\":0.5},\"x\":{\"field\":\"x\"}},\"id\":\"2279\",\"type\":\"VBar\"},{\"attributes\":{\"fill_alpha\":{\"value\":0.1},\"fill_color\":{\"value\":\"#1f77b4\"},\"hatch_alpha\":{\"value\":0.1},\"line_alpha\":{\"value\":0.1},\"line_color\":{\"value\":\"#1f77b4\"},\"top\":{\"field\":\"top\"},\"width\":{\"value\":0.5},\"x\":{\"field\":\"x\"}},\"id\":\"2278\",\"type\":\"VBar\"},{\"attributes\":{},\"id\":\"2353\",\"type\":\"BasicTickFormatter\"},{\"attributes\":{},\"id\":\"2356\",\"type\":\"Selection\"},{\"attributes\":{\"overlay\":{\"id\":\"2268\"}},\"id\":\"2264\",\"type\":\"BoxZoomTool\"},{\"attributes\":{},\"id\":\"2265\",\"type\":\"SaveTool\"},{\"attributes\":{},\"id\":\"2255\",\"type\":\"BasicTicker\"},{\"attributes\":{},\"id\":\"2266\",\"type\":\"ResetTool\"},{\"attributes\":{\"coordinates\":null,\"formatter\":{\"id\":\"2350\"},\"group\":null,\"major_label_policy\":{\"id\":\"2351\"},\"ticker\":{\"id\":\"2259\"}},\"id\":\"2258\",\"type\":\"LinearAxis\"},{\"attributes\":{},\"id\":\"2354\",\"type\":\"AllLabels\"},{\"attributes\":{\"coordinates\":null,\"group\":null,\"text\":\"Bokeh Bar Graph\"},\"id\":\"2244\",\"type\":\"Title\"},{\"attributes\":{},\"id\":\"2252\",\"type\":\"LinearScale\"},{\"attributes\":{},\"id\":\"2246\",\"type\":\"DataRange1d\"},{\"attributes\":{},\"id\":\"2250\",\"type\":\"LinearScale\"},{\"attributes\":{\"fill_color\":{\"value\":\"#1f77b4\"},\"line_color\":{\"value\":\"#1f77b4\"},\"top\":{\"field\":\"top\"},\"width\":{\"value\":0.5},\"x\":{\"field\":\"x\"}},\"id\":\"2277\",\"type\":\"VBar\"},{\"attributes\":{},\"id\":\"2267\",\"type\":\"HelpTool\"},{\"attributes\":{},\"id\":\"2350\",\"type\":\"BasicTickFormatter\"},{\"attributes\":{},\"id\":\"2259\",\"type\":\"BasicTicker\"},{\"attributes\":{},\"id\":\"2351\",\"type\":\"AllLabels\"},{\"attributes\":{\"data\":{\"top\":[5,4,3,2,1],\"x\":[1,2,3,4,5]},\"selected\":{\"id\":\"2356\"},\"selection_policy\":{\"id\":\"2355\"}},\"id\":\"2276\",\"type\":\"ColumnDataSource\"},{\"attributes\":{\"tools\":[{\"id\":\"2262\"},{\"id\":\"2263\"},{\"id\":\"2264\"},{\"id\":\"2265\"},{\"id\":\"2266\"},{\"id\":\"2267\"}]},\"id\":\"2269\",\"type\":\"Toolbar\"},{\"attributes\":{\"axis\":{\"id\":\"2258\"},\"coordinates\":null,\"dimension\":1,\"group\":null,\"ticker\":null},\"id\":\"2261\",\"type\":\"Grid\"},{\"attributes\":{\"bottom_units\":\"screen\",\"coordinates\":null,\"fill_alpha\":0.5,\"fill_color\":\"lightgrey\",\"group\":null,\"left_units\":\"screen\",\"level\":\"overlay\",\"line_alpha\":1.0,\"line_color\":\"black\",\"line_dash\":[4,4],\"line_width\":2,\"right_units\":\"screen\",\"syncable\":false,\"top_units\":\"screen\"},\"id\":\"2268\",\"type\":\"BoxAnnotation\"}],\"root_ids\":[\"2243\"]},\"title\":\"Bokeh Application\",\"version\":\"2.4.3\"}};\n",
       "  const render_items = [{\"docid\":\"b1c69eaa-4ab5-42f6-b80b-63716dfc3fd6\",\"root_ids\":[\"2243\"],\"roots\":{\"2243\":\"842065f1-f654-4cae-9ab1-0b12b99671b4\"}}];\n",
       "  root.Bokeh.embed.embed_items_notebook(docs_json, render_items);\n",
       "  }\n",
       "  if (root.Bokeh !== undefined) {\n",
       "    embed_document(root);\n",
       "  } else {\n",
       "    let attempts = 0;\n",
       "    const timer = setInterval(function(root) {\n",
       "      if (root.Bokeh !== undefined) {\n",
       "        clearInterval(timer);\n",
       "        embed_document(root);\n",
       "      } else {\n",
       "        attempts++;\n",
       "        if (attempts > 100) {\n",
       "          clearInterval(timer);\n",
       "          console.log(\"Bokeh: ERROR: Unable to run BokehJS code because BokehJS library is missing\");\n",
       "        }\n",
       "      }\n",
       "    }, 10, root)\n",
       "  }\n",
       "})(window);"
      ],
      "application/vnd.bokehjs_exec.v0+json": ""
     },
     "metadata": {
      "application/vnd.bokehjs_exec.v0+json": {
       "id": "2243"
      }
     },
     "output_type": "display_data"
    }
   ],
   "source": [
    "graph = figure(title = \"Bokeh Bar Graph\")\n",
    "x = [1, 2, 3, 4, 5]\n",
    "y = [5, 4, 3, 2, 1]\n",
    "graph.vbar(x, top=y, width=.5)  #width- thickness\n",
    "show(graph)"
   ]
  },
  {
   "cell_type": "markdown",
   "id": "853d5dc5",
   "metadata": {},
   "source": [
    "### Scatter Plot\n",
    "A scatter plot is a set of dotted points to represent individual pieces of data in the horizontal and vertical axis. A graph in which the values of two variables are plotted along X-axis and Y-axis, the pattern of the resulting points reveals a correlation between them. It can be plotted using the scatter() method of the plotting module.\n",
    "\n",
    "scatter(parameters)"
   ]
  },
  {
   "cell_type": "code",
   "execution_count": 16,
   "id": "61914780",
   "metadata": {},
   "outputs": [
    {
     "data": {
      "text/html": [
       "\n",
       "  <div class=\"bk-root\" id=\"52da85ac-467e-49f0-827a-ea03d9a95298\" data-root-id=\"2408\"></div>\n"
      ]
     },
     "metadata": {},
     "output_type": "display_data"
    },
    {
     "data": {
      "application/javascript": [
       "(function(root) {\n",
       "  function embed_document(root) {\n",
       "  const docs_json = {\"75fdcea4-d83f-47e6-ab3b-690f826cd0c0\":{\"defs\":[],\"roots\":{\"references\":[{\"attributes\":{\"below\":[{\"id\":\"2419\"}],\"center\":[{\"id\":\"2422\"},{\"id\":\"2426\"}],\"left\":[{\"id\":\"2423\"}],\"renderers\":[{\"id\":\"2445\"}],\"title\":{\"id\":\"2409\"},\"toolbar\":{\"id\":\"2434\"},\"x_range\":{\"id\":\"2411\"},\"x_scale\":{\"id\":\"2415\"},\"y_range\":{\"id\":\"2413\"},\"y_scale\":{\"id\":\"2417\"}},\"id\":\"2408\",\"subtype\":\"Figure\",\"type\":\"Plot\"},{\"attributes\":{},\"id\":\"2411\",\"type\":\"DataRange1d\"},{\"attributes\":{\"bottom_units\":\"screen\",\"coordinates\":null,\"fill_alpha\":0.5,\"fill_color\":\"lightgrey\",\"group\":null,\"left_units\":\"screen\",\"level\":\"overlay\",\"line_alpha\":1.0,\"line_color\":\"black\",\"line_dash\":[4,4],\"line_width\":2,\"right_units\":\"screen\",\"syncable\":false,\"top_units\":\"screen\"},\"id\":\"2433\",\"type\":\"BoxAnnotation\"},{\"attributes\":{},\"id\":\"2431\",\"type\":\"ResetTool\"},{\"attributes\":{},\"id\":\"2430\",\"type\":\"SaveTool\"},{\"attributes\":{\"tools\":[{\"id\":\"2427\"},{\"id\":\"2428\"},{\"id\":\"2429\"},{\"id\":\"2430\"},{\"id\":\"2431\"},{\"id\":\"2432\"}]},\"id\":\"2434\",\"type\":\"Toolbar\"},{\"attributes\":{\"coordinates\":null,\"data_source\":{\"id\":\"2441\"},\"glyph\":{\"id\":\"2442\"},\"group\":null,\"hover_glyph\":null,\"muted_glyph\":{\"id\":\"2444\"},\"nonselection_glyph\":{\"id\":\"2443\"},\"view\":{\"id\":\"2446\"}},\"id\":\"2445\",\"type\":\"GlyphRenderer\"},{\"attributes\":{},\"id\":\"2424\",\"type\":\"BasicTicker\"},{\"attributes\":{},\"id\":\"2525\",\"type\":\"BasicTickFormatter\"},{\"attributes\":{\"axis\":{\"id\":\"2423\"},\"coordinates\":null,\"dimension\":1,\"group\":null,\"ticker\":null},\"id\":\"2426\",\"type\":\"Grid\"},{\"attributes\":{},\"id\":\"2415\",\"type\":\"LinearScale\"},{\"attributes\":{},\"id\":\"2528\",\"type\":\"BasicTickFormatter\"},{\"attributes\":{\"fill_color\":{\"value\":\"#1f77b4\"},\"line_color\":{\"value\":\"#1f77b4\"},\"x\":{\"field\":\"x\"},\"y\":{\"field\":\"y\"}},\"id\":\"2442\",\"type\":\"Scatter\"},{\"attributes\":{\"coordinates\":null,\"formatter\":{\"id\":\"2528\"},\"group\":null,\"major_label_policy\":{\"id\":\"2529\"},\"ticker\":{\"id\":\"2420\"}},\"id\":\"2419\",\"type\":\"LinearAxis\"},{\"attributes\":{},\"id\":\"2428\",\"type\":\"WheelZoomTool\"},{\"attributes\":{\"axis\":{\"id\":\"2419\"},\"coordinates\":null,\"group\":null,\"ticker\":null},\"id\":\"2422\",\"type\":\"Grid\"},{\"attributes\":{\"fill_alpha\":{\"value\":0.2},\"fill_color\":{\"value\":\"#1f77b4\"},\"hatch_alpha\":{\"value\":0.2},\"line_alpha\":{\"value\":0.2},\"line_color\":{\"value\":\"#1f77b4\"},\"x\":{\"field\":\"x\"},\"y\":{\"field\":\"y\"}},\"id\":\"2444\",\"type\":\"Scatter\"},{\"attributes\":{},\"id\":\"2529\",\"type\":\"AllLabels\"},{\"attributes\":{},\"id\":\"2420\",\"type\":\"BasicTicker\"},{\"attributes\":{},\"id\":\"2432\",\"type\":\"HelpTool\"},{\"attributes\":{\"fill_alpha\":{\"value\":0.1},\"fill_color\":{\"value\":\"#1f77b4\"},\"hatch_alpha\":{\"value\":0.1},\"line_alpha\":{\"value\":0.1},\"line_color\":{\"value\":\"#1f77b4\"},\"x\":{\"field\":\"x\"},\"y\":{\"field\":\"y\"}},\"id\":\"2443\",\"type\":\"Scatter\"},{\"attributes\":{\"overlay\":{\"id\":\"2433\"}},\"id\":\"2429\",\"type\":\"BoxZoomTool\"},{\"attributes\":{},\"id\":\"2427\",\"type\":\"PanTool\"},{\"attributes\":{\"coordinates\":null,\"formatter\":{\"id\":\"2525\"},\"group\":null,\"major_label_policy\":{\"id\":\"2526\"},\"ticker\":{\"id\":\"2424\"}},\"id\":\"2423\",\"type\":\"LinearAxis\"},{\"attributes\":{},\"id\":\"2526\",\"type\":\"AllLabels\"},{\"attributes\":{\"coordinates\":null,\"group\":null,\"text\":\"Bokeh Scatter Graph\"},\"id\":\"2409\",\"type\":\"Title\"},{\"attributes\":{},\"id\":\"2417\",\"type\":\"LinearScale\"},{\"attributes\":{},\"id\":\"2413\",\"type\":\"DataRange1d\"},{\"attributes\":{\"data\":{\"x\":[1,2,3,4,5],\"y\":[5,4,3,2,1]},\"selected\":{\"id\":\"2531\"},\"selection_policy\":{\"id\":\"2530\"}},\"id\":\"2441\",\"type\":\"ColumnDataSource\"},{\"attributes\":{},\"id\":\"2530\",\"type\":\"UnionRenderers\"},{\"attributes\":{},\"id\":\"2531\",\"type\":\"Selection\"},{\"attributes\":{\"source\":{\"id\":\"2441\"}},\"id\":\"2446\",\"type\":\"CDSView\"}],\"root_ids\":[\"2408\"]},\"title\":\"Bokeh Application\",\"version\":\"2.4.3\"}};\n",
       "  const render_items = [{\"docid\":\"75fdcea4-d83f-47e6-ab3b-690f826cd0c0\",\"root_ids\":[\"2408\"],\"roots\":{\"2408\":\"52da85ac-467e-49f0-827a-ea03d9a95298\"}}];\n",
       "  root.Bokeh.embed.embed_items_notebook(docs_json, render_items);\n",
       "  }\n",
       "  if (root.Bokeh !== undefined) {\n",
       "    embed_document(root);\n",
       "  } else {\n",
       "    let attempts = 0;\n",
       "    const timer = setInterval(function(root) {\n",
       "      if (root.Bokeh !== undefined) {\n",
       "        clearInterval(timer);\n",
       "        embed_document(root);\n",
       "      } else {\n",
       "        attempts++;\n",
       "        if (attempts > 100) {\n",
       "          clearInterval(timer);\n",
       "          console.log(\"Bokeh: ERROR: Unable to run BokehJS code because BokehJS library is missing\");\n",
       "        }\n",
       "      }\n",
       "    }, 10, root)\n",
       "  }\n",
       "})(window);"
      ],
      "application/vnd.bokehjs_exec.v0+json": ""
     },
     "metadata": {
      "application/vnd.bokehjs_exec.v0+json": {
       "id": "2408"
      }
     },
     "output_type": "display_data"
    }
   ],
   "source": [
    "graph = figure(title = \"Bokeh Scatter Graph\")\n",
    "x = [1, 2, 3, 4, 5]\n",
    "y = [5, 4, 3, 2, 1]\n",
    "graph.scatter(x, y)\n",
    "show(graph)"
   ]
  },
  {
   "cell_type": "markdown",
   "id": "5062bfad",
   "metadata": {},
   "source": [
    "### Patch Plot\n",
    "Patch Plot shades a region of area to show a group having same properties. It can be created using the patch() method of the plotting module.\n",
    "\n",
    "patch(parameters)"
   ]
  },
  {
   "cell_type": "code",
   "execution_count": 18,
   "id": "62bbc902",
   "metadata": {},
   "outputs": [
    {
     "data": {
      "text/html": [
       "\n",
       "  <div class=\"bk-root\" id=\"2637d578-37b5-4c99-95a6-74ae3be0fe51\" data-root-id=\"2408\"></div>\n"
      ]
     },
     "metadata": {},
     "output_type": "display_data"
    },
    {
     "data": {
      "application/javascript": [
       "(function(root) {\n",
       "  function embed_document(root) {\n",
       "  const docs_json = {\"69e314f3-7ac7-41b8-a7ba-18e8c661e10a\":{\"defs\":[],\"roots\":{\"references\":[{\"attributes\":{\"below\":[{\"id\":\"2419\"}],\"center\":[{\"id\":\"2422\"},{\"id\":\"2426\"}],\"left\":[{\"id\":\"2423\"}],\"renderers\":[{\"id\":\"2445\"},{\"id\":\"2587\"},{\"id\":\"2683\"}],\"title\":{\"id\":\"2409\"},\"toolbar\":{\"id\":\"2434\"},\"x_range\":{\"id\":\"2411\"},\"x_scale\":{\"id\":\"2415\"},\"y_range\":{\"id\":\"2413\"},\"y_scale\":{\"id\":\"2417\"}},\"id\":\"2408\",\"subtype\":\"Figure\",\"type\":\"Plot\"},{\"attributes\":{},\"id\":\"2411\",\"type\":\"DataRange1d\"},{\"attributes\":{\"bottom_units\":\"screen\",\"coordinates\":null,\"fill_alpha\":0.5,\"fill_color\":\"lightgrey\",\"group\":null,\"left_units\":\"screen\",\"level\":\"overlay\",\"line_alpha\":1.0,\"line_color\":\"black\",\"line_dash\":[4,4],\"line_width\":2,\"right_units\":\"screen\",\"syncable\":false,\"top_units\":\"screen\"},\"id\":\"2433\",\"type\":\"BoxAnnotation\"},{\"attributes\":{},\"id\":\"2431\",\"type\":\"ResetTool\"},{\"attributes\":{},\"id\":\"2675\",\"type\":\"Selection\"},{\"attributes\":{},\"id\":\"2430\",\"type\":\"SaveTool\"},{\"attributes\":{},\"id\":\"2772\",\"type\":\"UnionRenderers\"},{\"attributes\":{\"tools\":[{\"id\":\"2427\"},{\"id\":\"2428\"},{\"id\":\"2429\"},{\"id\":\"2430\"},{\"id\":\"2431\"},{\"id\":\"2432\"}]},\"id\":\"2434\",\"type\":\"Toolbar\"},{\"attributes\":{\"coordinates\":null,\"data_source\":{\"id\":\"2441\"},\"glyph\":{\"id\":\"2442\"},\"group\":null,\"hover_glyph\":null,\"muted_glyph\":{\"id\":\"2444\"},\"nonselection_glyph\":{\"id\":\"2443\"},\"view\":{\"id\":\"2446\"}},\"id\":\"2445\",\"type\":\"GlyphRenderer\"},{\"attributes\":{\"fill_color\":\"#1f77b4\",\"line_color\":\"#1f77b4\",\"x\":{\"field\":\"x\"},\"y\":{\"field\":\"y\"}},\"id\":\"2680\",\"type\":\"Patch\"},{\"attributes\":{\"fill_alpha\":0.1,\"fill_color\":\"#1f77b4\",\"hatch_alpha\":0.1,\"line_alpha\":0.1,\"line_color\":\"#1f77b4\",\"x\":{\"field\":\"x\"},\"y\":{\"field\":\"y\"}},\"id\":\"2681\",\"type\":\"Patch\"},{\"attributes\":{},\"id\":\"2424\",\"type\":\"BasicTicker\"},{\"attributes\":{\"axis\":{\"id\":\"2423\"},\"coordinates\":null,\"dimension\":1,\"group\":null,\"ticker\":null},\"id\":\"2426\",\"type\":\"Grid\"},{\"attributes\":{},\"id\":\"2525\",\"type\":\"BasicTickFormatter\"},{\"attributes\":{},\"id\":\"2674\",\"type\":\"UnionRenderers\"},{\"attributes\":{\"fill_alpha\":0.2,\"fill_color\":\"#1f77b4\",\"hatch_alpha\":0.2,\"line_alpha\":0.2,\"line_color\":\"#1f77b4\",\"x\":{\"field\":\"x\"},\"y\":{\"field\":\"y\"}},\"id\":\"2682\",\"type\":\"Patch\"},{\"attributes\":{},\"id\":\"2415\",\"type\":\"LinearScale\"},{\"attributes\":{\"data\":{\"x\":[1,2,3,4,5],\"y\":[5,4,3,2,1]},\"selected\":{\"id\":\"2675\"},\"selection_policy\":{\"id\":\"2674\"}},\"id\":\"2583\",\"type\":\"ColumnDataSource\"},{\"attributes\":{\"source\":{\"id\":\"2679\"}},\"id\":\"2684\",\"type\":\"CDSView\"},{\"attributes\":{},\"id\":\"2528\",\"type\":\"BasicTickFormatter\"},{\"attributes\":{\"fill_color\":{\"value\":\"#1f77b4\"},\"line_color\":{\"value\":\"#1f77b4\"},\"x\":{\"field\":\"x\"},\"y\":{\"field\":\"y\"}},\"id\":\"2442\",\"type\":\"Scatter\"},{\"attributes\":{\"coordinates\":null,\"formatter\":{\"id\":\"2528\"},\"group\":null,\"major_label_policy\":{\"id\":\"2529\"},\"ticker\":{\"id\":\"2420\"}},\"id\":\"2419\",\"type\":\"LinearAxis\"},{\"attributes\":{},\"id\":\"2428\",\"type\":\"WheelZoomTool\"},{\"attributes\":{\"axis\":{\"id\":\"2419\"},\"coordinates\":null,\"group\":null,\"ticker\":null},\"id\":\"2422\",\"type\":\"Grid\"},{\"attributes\":{\"fill_alpha\":{\"value\":0.2},\"fill_color\":{\"value\":\"#1f77b4\"},\"hatch_alpha\":{\"value\":0.2},\"line_alpha\":{\"value\":0.2},\"line_color\":{\"value\":\"#1f77b4\"},\"x\":{\"field\":\"x\"},\"y\":{\"field\":\"y\"}},\"id\":\"2444\",\"type\":\"Scatter\"},{\"attributes\":{},\"id\":\"2529\",\"type\":\"AllLabels\"},{\"attributes\":{},\"id\":\"2420\",\"type\":\"BasicTicker\"},{\"attributes\":{\"coordinates\":null,\"data_source\":{\"id\":\"2679\"},\"glyph\":{\"id\":\"2680\"},\"group\":null,\"hover_glyph\":null,\"muted_glyph\":{\"id\":\"2682\"},\"nonselection_glyph\":{\"id\":\"2681\"},\"view\":{\"id\":\"2684\"}},\"id\":\"2683\",\"type\":\"GlyphRenderer\"},{\"attributes\":{},\"id\":\"2432\",\"type\":\"HelpTool\"},{\"attributes\":{\"fill_alpha\":{\"value\":0.1},\"fill_color\":{\"value\":\"#1f77b4\"},\"hatch_alpha\":{\"value\":0.1},\"line_alpha\":{\"value\":0.1},\"line_color\":{\"value\":\"#1f77b4\"},\"x\":{\"field\":\"x\"},\"y\":{\"field\":\"y\"}},\"id\":\"2443\",\"type\":\"Scatter\"},{\"attributes\":{\"overlay\":{\"id\":\"2433\"}},\"id\":\"2429\",\"type\":\"BoxZoomTool\"},{\"attributes\":{},\"id\":\"2427\",\"type\":\"PanTool\"},{\"attributes\":{\"coordinates\":null,\"formatter\":{\"id\":\"2525\"},\"group\":null,\"major_label_policy\":{\"id\":\"2526\"},\"ticker\":{\"id\":\"2424\"}},\"id\":\"2423\",\"type\":\"LinearAxis\"},{\"attributes\":{},\"id\":\"2526\",\"type\":\"AllLabels\"},{\"attributes\":{\"coordinates\":null,\"group\":null,\"text\":\"Bokeh Scatter Graph\"},\"id\":\"2409\",\"type\":\"Title\"},{\"attributes\":{},\"id\":\"2417\",\"type\":\"LinearScale\"},{\"attributes\":{},\"id\":\"2773\",\"type\":\"Selection\"},{\"attributes\":{},\"id\":\"2413\",\"type\":\"DataRange1d\"},{\"attributes\":{\"coordinates\":null,\"data_source\":{\"id\":\"2583\"},\"glyph\":{\"id\":\"2584\"},\"group\":null,\"hover_glyph\":null,\"muted_glyph\":{\"id\":\"2586\"},\"nonselection_glyph\":{\"id\":\"2585\"},\"view\":{\"id\":\"2588\"}},\"id\":\"2587\",\"type\":\"GlyphRenderer\"},{\"attributes\":{\"data\":{\"x\":[1,2,3,4,5],\"y\":[5,4,3,2,1]},\"selected\":{\"id\":\"2531\"},\"selection_policy\":{\"id\":\"2530\"}},\"id\":\"2441\",\"type\":\"ColumnDataSource\"},{\"attributes\":{\"data\":{\"x\":[1,2,3,4,5],\"y\":[5,4,3,2,1]},\"selected\":{\"id\":\"2773\"},\"selection_policy\":{\"id\":\"2772\"}},\"id\":\"2679\",\"type\":\"ColumnDataSource\"},{\"attributes\":{},\"id\":\"2530\",\"type\":\"UnionRenderers\"},{\"attributes\":{\"fill_alpha\":0.2,\"fill_color\":\"#1f77b4\",\"hatch_alpha\":0.2,\"line_alpha\":0.2,\"line_color\":\"#1f77b4\",\"x\":{\"field\":\"x\"},\"y\":{\"field\":\"y\"}},\"id\":\"2586\",\"type\":\"Patch\"},{\"attributes\":{\"source\":{\"id\":\"2583\"}},\"id\":\"2588\",\"type\":\"CDSView\"},{\"attributes\":{\"fill_alpha\":0.1,\"fill_color\":\"#1f77b4\",\"hatch_alpha\":0.1,\"line_alpha\":0.1,\"line_color\":\"#1f77b4\",\"x\":{\"field\":\"x\"},\"y\":{\"field\":\"y\"}},\"id\":\"2585\",\"type\":\"Patch\"},{\"attributes\":{},\"id\":\"2531\",\"type\":\"Selection\"},{\"attributes\":{\"fill_color\":\"#1f77b4\",\"line_color\":\"#1f77b4\",\"x\":{\"field\":\"x\"},\"y\":{\"field\":\"y\"}},\"id\":\"2584\",\"type\":\"Patch\"},{\"attributes\":{\"source\":{\"id\":\"2441\"}},\"id\":\"2446\",\"type\":\"CDSView\"}],\"root_ids\":[\"2408\"]},\"title\":\"Bokeh Application\",\"version\":\"2.4.3\"}};\n",
       "  const render_items = [{\"docid\":\"69e314f3-7ac7-41b8-a7ba-18e8c661e10a\",\"root_ids\":[\"2408\"],\"roots\":{\"2408\":\"2637d578-37b5-4c99-95a6-74ae3be0fe51\"}}];\n",
       "  root.Bokeh.embed.embed_items_notebook(docs_json, render_items);\n",
       "  }\n",
       "  if (root.Bokeh !== undefined) {\n",
       "    embed_document(root);\n",
       "  } else {\n",
       "    let attempts = 0;\n",
       "    const timer = setInterval(function(root) {\n",
       "      if (root.Bokeh !== undefined) {\n",
       "        clearInterval(timer);\n",
       "        embed_document(root);\n",
       "      } else {\n",
       "        attempts++;\n",
       "        if (attempts > 100) {\n",
       "          clearInterval(timer);\n",
       "          console.log(\"Bokeh: ERROR: Unable to run BokehJS code because BokehJS library is missing\");\n",
       "        }\n",
       "      }\n",
       "    }, 10, root)\n",
       "  }\n",
       "})(window);"
      ],
      "application/vnd.bokehjs_exec.v0+json": ""
     },
     "metadata": {
      "application/vnd.bokehjs_exec.v0+json": {
       "id": "2408"
      }
     },
     "output_type": "display_data"
    }
   ],
   "source": [
    "graph.patch(x,y)\n",
    "show(graph)"
   ]
  },
  {
   "cell_type": "markdown",
   "id": "33fff75a",
   "metadata": {},
   "source": [
    "### Area Plot\n",
    "Area plots are defined as the filled regions between two series that share a common areas. Bokeh Figure class has two methods which are – varea(), harea()\n",
    "varea(x, y1, y2, **kwargs)\n",
    "harea(x1, x2, y, **kwargs)"
   ]
  },
  {
   "cell_type": "code",
   "execution_count": 19,
   "id": "525b20ba",
   "metadata": {},
   "outputs": [
    {
     "data": {
      "text/html": [
       "\n",
       "  <div class=\"bk-root\" id=\"51366434-76b6-4101-a5d1-5251e8977fce\" data-root-id=\"2845\"></div>\n"
      ]
     },
     "metadata": {},
     "output_type": "display_data"
    },
    {
     "data": {
      "application/javascript": [
       "(function(root) {\n",
       "  function embed_document(root) {\n",
       "  const docs_json = {\"4471b878-857a-4ed1-885f-888f59a00222\":{\"defs\":[],\"roots\":{\"references\":[{\"attributes\":{\"below\":[{\"id\":\"2854\"}],\"center\":[{\"id\":\"2857\"},{\"id\":\"2861\"}],\"height\":300,\"left\":[{\"id\":\"2858\"}],\"renderers\":[{\"id\":\"2880\"}],\"title\":{\"id\":\"2972\"},\"toolbar\":{\"id\":\"2869\"},\"width\":300,\"x_range\":{\"id\":\"2846\"},\"x_scale\":{\"id\":\"2850\"},\"y_range\":{\"id\":\"2848\"},\"y_scale\":{\"id\":\"2852\"}},\"id\":\"2845\",\"subtype\":\"Figure\",\"type\":\"Plot\"},{\"attributes\":{},\"id\":\"2865\",\"type\":\"SaveTool\"},{\"attributes\":{},\"id\":\"2981\",\"type\":\"Selection\"},{\"attributes\":{\"overlay\":{\"id\":\"2868\"}},\"id\":\"2864\",\"type\":\"BoxZoomTool\"},{\"attributes\":{},\"id\":\"2862\",\"type\":\"PanTool\"},{\"attributes\":{},\"id\":\"2863\",\"type\":\"WheelZoomTool\"},{\"attributes\":{},\"id\":\"2867\",\"type\":\"HelpTool\"},{\"attributes\":{},\"id\":\"2859\",\"type\":\"BasicTicker\"},{\"attributes\":{\"axis\":{\"id\":\"2858\"},\"coordinates\":null,\"dimension\":1,\"group\":null,\"ticker\":null},\"id\":\"2861\",\"type\":\"Grid\"},{\"attributes\":{\"axis\":{\"id\":\"2854\"},\"coordinates\":null,\"group\":null,\"ticker\":null},\"id\":\"2857\",\"type\":\"Grid\"},{\"attributes\":{},\"id\":\"2855\",\"type\":\"BasicTicker\"},{\"attributes\":{},\"id\":\"2866\",\"type\":\"ResetTool\"},{\"attributes\":{},\"id\":\"2850\",\"type\":\"LinearScale\"},{\"attributes\":{},\"id\":\"2852\",\"type\":\"LinearScale\"},{\"attributes\":{\"coordinates\":null,\"formatter\":{\"id\":\"2978\"},\"group\":null,\"major_label_policy\":{\"id\":\"2979\"},\"ticker\":{\"id\":\"2855\"}},\"id\":\"2854\",\"type\":\"LinearAxis\"},{\"attributes\":{\"data\":{\"x\":[1,2,3,4,5],\"y1\":[2,4,5,2,4],\"y2\":[1,2,2,3,6]},\"selected\":{\"id\":\"2981\"},\"selection_policy\":{\"id\":\"2980\"}},\"id\":\"2876\",\"type\":\"ColumnDataSource\"},{\"attributes\":{\"fill_alpha\":0.1,\"fill_color\":\"green\",\"hatch_alpha\":{\"value\":0.1},\"x\":{\"field\":\"x\"},\"y1\":{\"field\":\"y1\"},\"y2\":{\"field\":\"y2\"}},\"id\":\"2878\",\"type\":\"VArea\"},{\"attributes\":{},\"id\":\"2846\",\"type\":\"DataRange1d\"},{\"attributes\":{\"coordinates\":null,\"formatter\":{\"id\":\"2975\"},\"group\":null,\"major_label_policy\":{\"id\":\"2976\"},\"ticker\":{\"id\":\"2859\"}},\"id\":\"2858\",\"type\":\"LinearAxis\"},{\"attributes\":{\"fill_alpha\":0.2,\"fill_color\":\"green\",\"hatch_alpha\":{\"value\":0.2},\"x\":{\"field\":\"x\"},\"y1\":{\"field\":\"y1\"},\"y2\":{\"field\":\"y2\"}},\"id\":\"2879\",\"type\":\"VArea\"},{\"attributes\":{},\"id\":\"2975\",\"type\":\"BasicTickFormatter\"},{\"attributes\":{},\"id\":\"2976\",\"type\":\"AllLabels\"},{\"attributes\":{\"tools\":[{\"id\":\"2862\"},{\"id\":\"2863\"},{\"id\":\"2864\"},{\"id\":\"2865\"},{\"id\":\"2866\"},{\"id\":\"2867\"}]},\"id\":\"2869\",\"type\":\"Toolbar\"},{\"attributes\":{},\"id\":\"2978\",\"type\":\"BasicTickFormatter\"},{\"attributes\":{\"coordinates\":null,\"group\":null},\"id\":\"2972\",\"type\":\"Title\"},{\"attributes\":{},\"id\":\"2979\",\"type\":\"AllLabels\"},{\"attributes\":{\"source\":{\"id\":\"2876\"}},\"id\":\"2881\",\"type\":\"CDSView\"},{\"attributes\":{\"bottom_units\":\"screen\",\"coordinates\":null,\"fill_alpha\":0.5,\"fill_color\":\"lightgrey\",\"group\":null,\"left_units\":\"screen\",\"level\":\"overlay\",\"line_alpha\":1.0,\"line_color\":\"black\",\"line_dash\":[4,4],\"line_width\":2,\"right_units\":\"screen\",\"syncable\":false,\"top_units\":\"screen\"},\"id\":\"2868\",\"type\":\"BoxAnnotation\"},{\"attributes\":{},\"id\":\"2848\",\"type\":\"DataRange1d\"},{\"attributes\":{\"fill_color\":\"green\",\"x\":{\"field\":\"x\"},\"y1\":{\"field\":\"y1\"},\"y2\":{\"field\":\"y2\"}},\"id\":\"2877\",\"type\":\"VArea\"},{\"attributes\":{},\"id\":\"2980\",\"type\":\"UnionRenderers\"},{\"attributes\":{\"coordinates\":null,\"data_source\":{\"id\":\"2876\"},\"glyph\":{\"id\":\"2877\"},\"group\":null,\"hover_glyph\":null,\"muted_glyph\":{\"id\":\"2879\"},\"nonselection_glyph\":{\"id\":\"2878\"},\"view\":{\"id\":\"2881\"}},\"id\":\"2880\",\"type\":\"GlyphRenderer\"}],\"root_ids\":[\"2845\"]},\"title\":\"Bokeh Application\",\"version\":\"2.4.3\"}};\n",
       "  const render_items = [{\"docid\":\"4471b878-857a-4ed1-885f-888f59a00222\",\"root_ids\":[\"2845\"],\"roots\":{\"2845\":\"51366434-76b6-4101-a5d1-5251e8977fce\"}}];\n",
       "  root.Bokeh.embed.embed_items_notebook(docs_json, render_items);\n",
       "  }\n",
       "  if (root.Bokeh !== undefined) {\n",
       "    embed_document(root);\n",
       "  } else {\n",
       "    let attempts = 0;\n",
       "    const timer = setInterval(function(root) {\n",
       "      if (root.Bokeh !== undefined) {\n",
       "        clearInterval(timer);\n",
       "        embed_document(root);\n",
       "      } else {\n",
       "        attempts++;\n",
       "        if (attempts > 100) {\n",
       "          clearInterval(timer);\n",
       "          console.log(\"Bokeh: ERROR: Unable to run BokehJS code because BokehJS library is missing\");\n",
       "        }\n",
       "      }\n",
       "    }, 10, root)\n",
       "  }\n",
       "})(window);"
      ],
      "application/vnd.bokehjs_exec.v0+json": ""
     },
     "metadata": {
      "application/vnd.bokehjs_exec.v0+json": {
       "id": "2845"
      }
     },
     "output_type": "display_data"
    }
   ],
   "source": [
    "x = [1, 2, 3, 4, 5]\n",
    "y1 = [2, 4, 5, 2, 4]\n",
    "y2 = [1, 2, 2, 3, 6]\n",
    "p = figure(plot_width=300, plot_height=300)\n",
    "p.varea(x=x, y1=y1, y2=y2,fill_color=\"green\")\n",
    "show(p)"
   ]
  },
  {
   "cell_type": "code",
   "execution_count": 24,
   "id": "e445ebf0",
   "metadata": {},
   "outputs": [
    {
     "data": {
      "text/html": [
       "\n",
       "  <div class=\"bk-root\" id=\"28dd0658-ca88-4653-9747-c761e9a1cb7b\" data-root-id=\"2845\"></div>\n"
      ]
     },
     "metadata": {},
     "output_type": "display_data"
    },
    {
     "data": {
      "application/javascript": [
       "(function(root) {\n",
       "  function embed_document(root) {\n",
       "  const docs_json = {\"c7e942ca-7b94-4b45-ba1a-f2ee19365c37\":{\"defs\":[],\"roots\":{\"references\":[{\"attributes\":{\"below\":[{\"id\":\"2854\"}],\"center\":[{\"id\":\"2857\"},{\"id\":\"2861\"}],\"height\":300,\"left\":[{\"id\":\"2858\"}],\"renderers\":[{\"id\":\"2880\"},{\"id\":\"3042\"}],\"title\":{\"id\":\"2972\"},\"toolbar\":{\"id\":\"2869\"},\"width\":300,\"x_range\":{\"id\":\"2846\"},\"x_scale\":{\"id\":\"2850\"},\"y_range\":{\"id\":\"2848\"},\"y_scale\":{\"id\":\"2852\"}},\"id\":\"2845\",\"subtype\":\"Figure\",\"type\":\"Plot\"},{\"attributes\":{},\"id\":\"2865\",\"type\":\"SaveTool\"},{\"attributes\":{},\"id\":\"2981\",\"type\":\"Selection\"},{\"attributes\":{\"overlay\":{\"id\":\"2868\"}},\"id\":\"2864\",\"type\":\"BoxZoomTool\"},{\"attributes\":{},\"id\":\"2862\",\"type\":\"PanTool\"},{\"attributes\":{},\"id\":\"2863\",\"type\":\"WheelZoomTool\"},{\"attributes\":{},\"id\":\"2867\",\"type\":\"HelpTool\"},{\"attributes\":{},\"id\":\"2859\",\"type\":\"BasicTicker\"},{\"attributes\":{\"axis\":{\"id\":\"2858\"},\"coordinates\":null,\"dimension\":1,\"group\":null,\"ticker\":null},\"id\":\"2861\",\"type\":\"Grid\"},{\"attributes\":{\"axis\":{\"id\":\"2854\"},\"coordinates\":null,\"group\":null,\"ticker\":null},\"id\":\"2857\",\"type\":\"Grid\"},{\"attributes\":{},\"id\":\"2855\",\"type\":\"BasicTicker\"},{\"attributes\":{\"fill_alpha\":0.2,\"fill_color\":\"green\",\"hatch_alpha\":{\"value\":0.2},\"x1\":{\"field\":\"x1\"},\"x2\":{\"field\":\"x2\"},\"y\":{\"field\":\"y\"}},\"id\":\"3041\",\"type\":\"HArea\"},{\"attributes\":{},\"id\":\"2866\",\"type\":\"ResetTool\"},{\"attributes\":{},\"id\":\"2850\",\"type\":\"LinearScale\"},{\"attributes\":{},\"id\":\"3145\",\"type\":\"Selection\"},{\"attributes\":{},\"id\":\"2852\",\"type\":\"LinearScale\"},{\"attributes\":{\"coordinates\":null,\"formatter\":{\"id\":\"2978\"},\"group\":null,\"major_label_policy\":{\"id\":\"2979\"},\"ticker\":{\"id\":\"2855\"}},\"id\":\"2854\",\"type\":\"LinearAxis\"},{\"attributes\":{\"data\":{\"x\":[1,2,3,4,5],\"y1\":[2,4,5,2,4],\"y2\":[1,2,2,3,6]},\"selected\":{\"id\":\"2981\"},\"selection_policy\":{\"id\":\"2980\"}},\"id\":\"2876\",\"type\":\"ColumnDataSource\"},{\"attributes\":{\"fill_alpha\":0.1,\"fill_color\":\"green\",\"hatch_alpha\":{\"value\":0.1},\"x\":{\"field\":\"x\"},\"y1\":{\"field\":\"y1\"},\"y2\":{\"field\":\"y2\"}},\"id\":\"2878\",\"type\":\"VArea\"},{\"attributes\":{\"coordinates\":null,\"data_source\":{\"id\":\"3038\"},\"glyph\":{\"id\":\"3039\"},\"group\":null,\"hover_glyph\":null,\"muted_glyph\":{\"id\":\"3041\"},\"nonselection_glyph\":{\"id\":\"3040\"},\"view\":{\"id\":\"3043\"}},\"id\":\"3042\",\"type\":\"GlyphRenderer\"},{\"attributes\":{},\"id\":\"2846\",\"type\":\"DataRange1d\"},{\"attributes\":{\"coordinates\":null,\"formatter\":{\"id\":\"2975\"},\"group\":null,\"major_label_policy\":{\"id\":\"2976\"},\"ticker\":{\"id\":\"2859\"}},\"id\":\"2858\",\"type\":\"LinearAxis\"},{\"attributes\":{\"fill_alpha\":0.2,\"fill_color\":\"green\",\"hatch_alpha\":{\"value\":0.2},\"x\":{\"field\":\"x\"},\"y1\":{\"field\":\"y1\"},\"y2\":{\"field\":\"y2\"}},\"id\":\"2879\",\"type\":\"VArea\"},{\"attributes\":{},\"id\":\"2975\",\"type\":\"BasicTickFormatter\"},{\"attributes\":{},\"id\":\"2976\",\"type\":\"AllLabels\"},{\"attributes\":{\"tools\":[{\"id\":\"2862\"},{\"id\":\"2863\"},{\"id\":\"2864\"},{\"id\":\"2865\"},{\"id\":\"2866\"},{\"id\":\"2867\"}]},\"id\":\"2869\",\"type\":\"Toolbar\"},{\"attributes\":{\"fill_alpha\":0.1,\"fill_color\":\"green\",\"hatch_alpha\":{\"value\":0.1},\"x1\":{\"field\":\"x1\"},\"x2\":{\"field\":\"x2\"},\"y\":{\"field\":\"y\"}},\"id\":\"3040\",\"type\":\"HArea\"},{\"attributes\":{\"source\":{\"id\":\"3038\"}},\"id\":\"3043\",\"type\":\"CDSView\"},{\"attributes\":{\"fill_color\":\"green\",\"x1\":{\"field\":\"x1\"},\"x2\":{\"field\":\"x2\"},\"y\":{\"field\":\"y\"}},\"id\":\"3039\",\"type\":\"HArea\"},{\"attributes\":{\"coordinates\":null,\"data_source\":{\"id\":\"2876\"},\"glyph\":{\"id\":\"2877\"},\"group\":null,\"hover_glyph\":null,\"muted_glyph\":{\"id\":\"2879\"},\"nonselection_glyph\":{\"id\":\"2878\"},\"view\":{\"id\":\"2881\"}},\"id\":\"2880\",\"type\":\"GlyphRenderer\"},{\"attributes\":{},\"id\":\"2978\",\"type\":\"BasicTickFormatter\"},{\"attributes\":{},\"id\":\"3144\",\"type\":\"UnionRenderers\"},{\"attributes\":{\"coordinates\":null,\"group\":null},\"id\":\"2972\",\"type\":\"Title\"},{\"attributes\":{},\"id\":\"2979\",\"type\":\"AllLabels\"},{\"attributes\":{\"source\":{\"id\":\"2876\"}},\"id\":\"2881\",\"type\":\"CDSView\"},{\"attributes\":{\"bottom_units\":\"screen\",\"coordinates\":null,\"fill_alpha\":0.5,\"fill_color\":\"lightgrey\",\"group\":null,\"left_units\":\"screen\",\"level\":\"overlay\",\"line_alpha\":1.0,\"line_color\":\"black\",\"line_dash\":[4,4],\"line_width\":2,\"right_units\":\"screen\",\"syncable\":false,\"top_units\":\"screen\"},\"id\":\"2868\",\"type\":\"BoxAnnotation\"},{\"attributes\":{},\"id\":\"2848\",\"type\":\"DataRange1d\"},{\"attributes\":{\"fill_color\":\"green\",\"x\":{\"field\":\"x\"},\"y1\":{\"field\":\"y1\"},\"y2\":{\"field\":\"y2\"}},\"id\":\"2877\",\"type\":\"VArea\"},{\"attributes\":{},\"id\":\"2980\",\"type\":\"UnionRenderers\"},{\"attributes\":{\"data\":{\"x1\":[2,4,5,2,4],\"x2\":[1,2,2,3,6],\"y\":[1,2,3,4,5]},\"selected\":{\"id\":\"3145\"},\"selection_policy\":{\"id\":\"3144\"}},\"id\":\"3038\",\"type\":\"ColumnDataSource\"}],\"root_ids\":[\"2845\"]},\"title\":\"Bokeh Application\",\"version\":\"2.4.3\"}};\n",
       "  const render_items = [{\"docid\":\"c7e942ca-7b94-4b45-ba1a-f2ee19365c37\",\"root_ids\":[\"2845\"],\"roots\":{\"2845\":\"28dd0658-ca88-4653-9747-c761e9a1cb7b\"}}];\n",
       "  root.Bokeh.embed.embed_items_notebook(docs_json, render_items);\n",
       "  }\n",
       "  if (root.Bokeh !== undefined) {\n",
       "    embed_document(root);\n",
       "  } else {\n",
       "    let attempts = 0;\n",
       "    const timer = setInterval(function(root) {\n",
       "      if (root.Bokeh !== undefined) {\n",
       "        clearInterval(timer);\n",
       "        embed_document(root);\n",
       "      } else {\n",
       "        attempts++;\n",
       "        if (attempts > 100) {\n",
       "          clearInterval(timer);\n",
       "          console.log(\"Bokeh: ERROR: Unable to run BokehJS code because BokehJS library is missing\");\n",
       "        }\n",
       "      }\n",
       "    }, 10, root)\n",
       "  }\n",
       "})(window);"
      ],
      "application/vnd.bokehjs_exec.v0+json": ""
     },
     "metadata": {
      "application/vnd.bokehjs_exec.v0+json": {
       "id": "2845"
      }
     },
     "output_type": "display_data"
    }
   ],
   "source": [
    "# area plot\n",
    "y=x; x1=y1; x2=y2\n",
    "p.harea(x1=x1, x2=x2, y=y,fill_color=\"green\")\n",
    "show(p)"
   ]
  },
  {
   "cell_type": "markdown",
   "id": "38ad143a",
   "metadata": {},
   "source": [
    "### Pie Chart\n",
    "Bokeh Does not provide a direct method to plot the Pie Chart. It can be created using the wedge() method. In the wedge() function, the primary parameters are the x and y coordinates of the wedge, the radius, the start_angle and the end_angle of the wedge. In order to plot the wedges in such a way that they look like a pie chart, the x, y, and radius parameters of all the wedges will be the same. We will only adjust the start_angle and the end_angle.\n",
    "wedge(parameters)"
   ]
  }
 ],
 "metadata": {
  "kernelspec": {
   "display_name": "Python 3 (ipykernel)",
   "language": "python",
   "name": "python3"
  },
  "language_info": {
   "codemirror_mode": {
    "name": "ipython",
    "version": 3
   },
   "file_extension": ".py",
   "mimetype": "text/x-python",
   "name": "python",
   "nbconvert_exporter": "python",
   "pygments_lexer": "ipython3",
   "version": "3.9.13"
  }
 },
 "nbformat": 4,
 "nbformat_minor": 5
}
