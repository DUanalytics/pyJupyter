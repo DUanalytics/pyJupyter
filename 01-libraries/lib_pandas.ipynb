{
 "cells": [
  {
   "cell_type": "markdown",
   "id": "a96d68a4",
   "metadata": {},
   "source": [
    "# Pandas"
   ]
  },
  {
   "cell_type": "markdown",
   "id": "ddae0ae6",
   "metadata": {},
   "source": [
    "## list of functions covered here\n"
   ]
  },
  {
   "cell_type": "code",
   "execution_count": 10,
   "id": "13171d64",
   "metadata": {},
   "outputs": [],
   "source": [
    "#libraries\n",
    "import numpy as np\n",
    "import pandas as pd\n",
    "from pydataset import data\n",
    "pd.set_option('display.max_columns', 15)\n",
    "pd.set_option('display.expand_frame_repr', False)\n",
    "#Whether to print out the full DataFrame repr for wide DataFrames across multiple lines, \n",
    "#max_columns is still respected, but the output will wrap-around across\n",
    "#multiple “pages” if it’s width exceeds display.width. [default: True] [currently: True]"
   ]
  },
  {
   "cell_type": "code",
   "execution_count": 11,
   "id": "3ae8a9c6",
   "metadata": {},
   "outputs": [
    {
     "name": "stdout",
     "output_type": "stream",
     "text": [
      "                    mpg  cyl   disp   hp  drat     wt   qsec  vs  am  gear  carb\n",
      "Mazda RX4          21.0    6  160.0  110  3.90  2.620  16.46   0   1     4     4\n",
      "Mazda RX4 Wag      21.0    6  160.0  110  3.90  2.875  17.02   0   1     4     4\n",
      "Datsun 710         22.8    4  108.0   93  3.85  2.320  18.61   1   1     4     1\n",
      "Hornet 4 Drive     21.4    6  258.0  110  3.08  3.215  19.44   1   0     3     1\n",
      "Hornet Sportabout  18.7    8  360.0  175  3.15  3.440  17.02   0   0     3     2\n",
      "   Sepal.Length  Sepal.Width  Petal.Length  Petal.Width Species\n",
      "1           5.1          3.5           1.4          0.2  setosa\n",
      "2           4.9          3.0           1.4          0.2  setosa\n",
      "3           4.7          3.2           1.3          0.2  setosa\n",
      "4           4.6          3.1           1.5          0.2  setosa\n",
      "5           5.0          3.6           1.4          0.2  setosa\n"
     ]
    }
   ],
   "source": [
    "mtcarsDF = data('mtcars')\n",
    "irisDF = data('iris')\n",
    "print(mtcarsDF.head())\n",
    "print(irisDF.head())"
   ]
  },
  {
   "cell_type": "markdown",
   "id": "cadaabee",
   "metadata": {},
   "source": [
    "## Set options\n",
    "https://pandas.pydata.org/pandas-docs/version/0.15.2/generated/pandas.set_option.html"
   ]
  },
  {
   "cell_type": "markdown",
   "id": "38c5c990",
   "metadata": {},
   "source": [
    "### Display Options"
   ]
  },
  {
   "cell_type": "code",
   "execution_count": null,
   "id": "f188acab",
   "metadata": {},
   "outputs": [],
   "source": [
    "import pandas as pd\n",
    "pd.set_option('display.max_rows', 500)\n",
    "pd.set_option('display.max_columns', 500)"
   ]
  },
  {
   "cell_type": "code",
   "execution_count": null,
   "id": "68a0a751",
   "metadata": {},
   "outputs": [],
   "source": [
    "with pd.option_context('display.max_rows', None, 'display.max_columns', None):\n",
    "    print (df)"
   ]
  },
  {
   "cell_type": "code",
   "execution_count": null,
   "id": "548eef28",
   "metadata": {},
   "outputs": [],
   "source": [
    "pd.set_option('display.expand_frame_repr', False)"
   ]
  }
 ],
 "metadata": {
  "kernelspec": {
   "display_name": "Python 3 (ipykernel)",
   "language": "python",
   "name": "python3"
  },
  "language_info": {
   "codemirror_mode": {
    "name": "ipython",
    "version": 3
   },
   "file_extension": ".py",
   "mimetype": "text/x-python",
   "name": "python",
   "nbconvert_exporter": "python",
   "pygments_lexer": "ipython3",
   "version": "3.9.13"
  }
 },
 "nbformat": 4,
 "nbformat_minor": 5
}
