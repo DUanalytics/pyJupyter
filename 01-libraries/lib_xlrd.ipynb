{
 "cells": [
  {
   "cell_type": "markdown",
   "id": "5f4f4ca8-258b-4676-bc56-b4753062a78a",
   "metadata": {},
   "source": [
    "# Library xlrd\n",
    "https://www.educba.com/python-xlrd/\n",
    "https://github.com/DUanalytics/datasets/blob/master/excel/Excel_data\n",
    "https://github.com/DUanalytics/datasets/blob/master/excel/clustering-vanilla.xls\n",
    "Only older files xls version\n",
    "https://www.python-excel.org/"
   ]
  },
  {
   "cell_type": "code",
   "execution_count": 1,
   "id": "2e26886a-c4a0-4da1-b3c5-79cec0fc83b1",
   "metadata": {},
   "outputs": [],
   "source": [
    "#!pip install xlrd"
   ]
  },
  {
   "cell_type": "code",
   "execution_count": 3,
   "id": "45b1820e-d7b4-4249-8821-0ca45e6603ea",
   "metadata": {},
   "outputs": [],
   "source": [
    "import pandas as pd\n",
    "import xlrd"
   ]
  },
  {
   "cell_type": "code",
   "execution_count": 8,
   "id": "d628ccd0",
   "metadata": {},
   "outputs": [],
   "source": [
    "py_file = ('E:/analytics/data/student1.xls')\n",
    "py_xlrd = xlrd.open_workbook(py_file)"
   ]
  },
  {
   "cell_type": "code",
   "execution_count": 9,
   "id": "bfafa68f",
   "metadata": {},
   "outputs": [],
   "source": [
    "py_sheet = py_xlrd.sheet_by_index(0)"
   ]
  },
  {
   "cell_type": "code",
   "execution_count": 11,
   "id": "7ebc0be2",
   "metadata": {},
   "outputs": [
    {
     "data": {
      "text/plain": [
       "'rollno'"
      ]
     },
     "execution_count": 11,
     "metadata": {},
     "output_type": "execute_result"
    }
   ],
   "source": [
    "py_sheet.cell_value (0, 0)"
   ]
  },
  {
   "cell_type": "code",
   "execution_count": 13,
   "id": "e2cde940",
   "metadata": {},
   "outputs": [
    {
     "name": "stdout",
     "output_type": "stream",
     "text": [
      "rollno\tsname\tfeepaid\tgender\tcat\tdob\tage\tclass10\tclass12\tsem1\tsem2\tattnd\tbatch\tbatchyr\tbr\tcity\tjava\tdbms\tdwm\tvlsi\tcpp\tcbnst\tbtechmarks\tfinalgrade\tbtechfinal\tcgpa\t"
     ]
    }
   ],
   "source": [
    "for i in range (py_sheet.ncols):\n",
    "    print (py_sheet.cell_value(0, i), end='\\t')"
   ]
  },
  {
   "cell_type": "code",
   "execution_count": 14,
   "id": "a0c8e68d",
   "metadata": {},
   "outputs": [
    {
     "name": "stdout",
     "output_type": "stream",
     "text": [
      "Sample Data and Excel - student 51 26\n"
     ]
    }
   ],
   "source": [
    "print(\"{0} {1} {2}\".format(py_sheet.name, py_sheet.nrows, py_sheet.ncols))"
   ]
  },
  {
   "cell_type": "code",
   "execution_count": 15,
   "id": "fd642844",
   "metadata": {},
   "outputs": [
    {
     "name": "stdout",
     "output_type": "stream",
     "text": [
      "Cell D30 is M\n"
     ]
    }
   ],
   "source": [
    "print(\"Cell D30 is {0}\".format(py_sheet.cell_value(rowx=29, colx=3)))"
   ]
  },
  {
   "cell_type": "code",
   "execution_count": 16,
   "id": "bbf84985",
   "metadata": {},
   "outputs": [
    {
     "name": "stdout",
     "output_type": "stream",
     "text": [
      "[text:'rollno', text:'sname', text:'feepaid', text:'gender', text:'cat', text:'dob', text:'age', text:'class10', text:'class12', text:'sem1', text:'sem2', text:'attnd', text:'batch', text:'batchyr', text:'br', text:'city', text:'java', text:'dbms', text:'dwm', text:'vlsi', text:'cpp', text:'cbnst', text:'btechmarks', text:'finalgrade', text:'btechfinal', text:'cgpa']\n",
      "[number:102052.0, text:'student49', number:35800.0, text:'M', text:'GEN', xldate:33333.0, number:21.0, number:71.0, text:'First', number:56.0, number:55.0, number:0.94, xldate:41913.0, number:2010.0, text:'EC ', text:'Haldwani', number:85.0, number:72.0, number:67.0, number:40.0, number:72.0, number:56.0, number:68.0, text:'A', text:'Pass', number:9.0]\n",
      "[number:102035.0, text:'student31', number:35800.0, text:'M', text:'OBC', xldate:33957.0, number:20.0, number:57.0, text:'First', number:77.0, number:60.0, number:0.81, xldate:41913.0, number:2010.0, text:'EC ', text:'Delhi', number:76.0, number:58.0, number:50.0, number:65.0, number:50.0, number:64.0, number:63.0, text:'A', text:'Pass', number:9.0]\n",
      "[number:102049.0, text:'student44', number:35800.0, text:'M', text:'SC', xldate:34100.0, number:19.0, number:50.0, text:'Third', number:61.0, number:55.0, number:0.09, xldate:42705.0, number:2012.0, text:'EC ', text:'Noida', number:65.0, number:65.0, number:48.0, number:35.0, number:45.0, number:35.0, number:35.0, text:'C', text:'Fail', number:3.0]\n",
      "[number:102002.0, text:'student2', number:35800.0, text:'M', text:'GEN', xldate:34174.0, number:19.0, number:78.0, text:'First', number:67.0, number:73.0, number:0.71, xldate:42705.0, number:2012.0, text:'CS', text:'Gurgaon', number:92.0, number:45.0, number:63.0, number:63.0, number:62.0, number:40.0, number:69.0, text:'A', text:'Pass', number:9.0]\n",
      "[number:102036.0, text:'student32', number:35800.0, text:'F', text:'GEN', xldate:34231.0, number:19.0, number:68.0, text:'First', number:61.0, number:75.0, number:0.73, xldate:42705.0, number:2012.0, text:'CS', text:'Delhi', number:89.0, number:58.0, number:63.0, number:70.0, number:83.0, number:41.0, number:68.0, text:'A', text:'Pass', number:9.0]\n",
      "[number:102048.0, text:'student43', number:35800.0, text:'M', text:'GEN', xldate:34288.0, number:19.0, number:77.0, text:'Third', number:54.0, number:66.0, number:0.08, xldate:42705.0, number:2012.0, text:'EC ', text:'Noida', number:42.0, number:47.0, number:65.0, number:35.0, number:41.0, number:49.0, number:35.0, text:'C', text:'Fail', number:3.0]\n",
      "[number:102027.0, text:'student23', number:35800.0, text:'F', text:'GEN', xldate:34325.0, number:19.0, number:73.0, text:'First', number:74.0, number:58.0, number:0.79, xldate:42705.0, number:2012.0, text:'EC ', text:'Delhi', number:70.0, number:61.0, number:68.0, number:58.0, number:76.0, number:50.0, number:62.0, text:'A', text:'Pass', number:9.0]\n",
      "[number:102039.0, text:'student35', number:35800.0, text:'F', text:'GEN', xldate:34390.0, number:18.0, number:61.0, text:'First', number:58.0, number:55.0, number:0.73, xldate:42705.0, number:2012.0, text:'CS', text:'Dehra Dun', number:82.0, number:64.0, number:72.0, number:83.0, number:73.0, number:43.0, number:75.0, text:'B', text:'Pass', number:7.0]\n",
      "[number:102031.0, text:'student27', number:35800.0, text:'M', text:'GEN', xldate:34432.0, number:18.0, number:65.0, text:'Second', number:76.0, number:75.0, number:0.58, xldate:42705.0, number:2012.0, text:'CS', text:'Haldwani', number:49.0, number:46.0, number:49.0, number:54.0, number:56.0, number:62.0, number:54.0, text:'B', text:'Pass', number:7.0]\n",
      "[number:102008.0, text:'student6', number:35800.0, text:'M', text:'GEN', xldate:34462.0, number:18.0, number:67.0, text:'First', number:51.0, number:78.0, number:0.64, xldate:42705.0, number:2012.0, text:'EC ', text:'Haldwani', number:67.0, number:54.0, number:47.0, number:65.0, number:50.0, number:58.0, number:62.0, text:'A', text:'Pass', number:9.0]\n",
      "[number:102015.0, text:'student11', number:35800.0, text:'F', text:'GEN', xldate:34493.0, number:18.0, number:68.0, text:'Second', number:73.0, number:79.0, number:0.56, xldate:42705.0, number:2012.0, text:'CS', text:'Dehra Dun', number:55.0, number:46.0, number:49.0, number:54.0, number:56.0, number:46.0, number:57.0, text:'B', text:'Pass', number:8.0]\n",
      "[number:102011.0, text:'student8', number:35800.0, text:'M', text:'GEN', xldate:34561.0, number:18.0, number:66.0, text:'Second', number:52.0, number:77.0, number:0.63, xldate:42705.0, number:2012.0, text:'CS', text:'Haldwani', number:84.0, number:65.0, number:58.0, number:51.0, number:64.0, number:50.0, number:64.0, text:'B', text:'Pass', number:8.0]\n",
      "[number:102020.0, text:'student16', number:26200.0, text:'F', text:'OBC', xldate:34602.0, number:18.0, number:54.0, text:'First', number:68.0, number:78.0, number:0.81, xldate:42705.0, number:2012.0, text:'EC ', text:'Haldwani', number:42.0, number:65.0, number:64.0, number:43.0, number:60.0, number:63.0, number:69.0, text:'A', text:'Pass', number:9.0]\n",
      "[number:102001.0, text:'student1', number:35800.0, text:'F', text:'GEN', xldate:34646.0, number:18.0, number:57.0, text:'First', number:61.0, number:63.0, number:0.8, xldate:42705.0, number:2012.0, text:'EC ', text:'Gurgaon', number:77.0, number:56.0, number:62.0, number:42.0, number:64.0, number:56.0, number:66.0, text:'A', text:'Pass', number:9.0]\n",
      "[number:102028.0, text:'student24', number:35800.0, text:'F', text:'GEN', xldate:34736.0, number:17.0, number:69.0, text:'First', number:51.0, number:64.0, number:0.74, xldate:42705.0, number:2012.0, text:'CS', text:'Noida', number:65.0, number:50.0, number:53.0, number:50.0, number:61.0, number:58.0, number:64.0, text:'A', text:'Pass', number:9.0]\n",
      "[number:102043.0, text:'student39', number:35800.0, text:'M', text:'GEN', xldate:34748.0, number:17.0, number:71.0, text:'First', number:66.0, number:63.0, number:0.64, xldate:42705.0, number:2012.0, text:'EC ', text:'Delhi', number:47.0, number:49.0, number:63.0, number:45.0, number:56.0, number:62.0, number:67.0, text:'A', text:'Pass', number:9.0]\n",
      "[number:102044.0, text:'student40', number:35800.0, text:'M', text:'SC', xldate:34761.0, number:17.0, number:63.0, text:'Second', number:63.0, number:53.0, number:0.33, xldate:42705.0, number:2012.0, text:'CS', text:'Haldwani', number:55.0, number:46.0, number:49.0, number:65.0, number:58.0, number:56.0, number:57.0, text:'B', text:'Pass', number:7.0]\n",
      "[number:102058.0, text:'student45', number:35800.0, text:'F', text:'GEN', xldate:34791.0, number:17.0, number:67.0, text:'First', number:75.0, number:68.0, number:0.83, xldate:42705.0, number:2012.0, text:'EC ', text:'Haldwani', number:62.0, number:86.0, number:79.0, number:40.0, number:76.0, number:47.0, number:71.0, text:'A', text:'Pass', number:9.0]\n",
      "[number:102007.0, text:'student5', number:35800.0, text:'M', text:'GEN', xldate:34870.0, number:17.0, number:68.0, text:'First', number:53.0, number:68.0, number:0.64, xldate:42705.0, number:2012.0, text:'EC ', text:'Almora', number:65.0, number:50.0, number:53.0, number:50.0, number:61.0, number:58.0, number:65.0, text:'A', text:'Pass', number:9.0]\n",
      "[number:102016.0, text:'student12', number:35800.0, text:'M', text:'GEN', xldate:34874.0, number:17.0, number:80.0, text:'Second', number:69.0, number:52.0, number:0.34, xldate:42705.0, number:2012.0, text:'EC ', text:'Rudrapur', number:49.0, number:46.0, number:49.0, number:55.0, number:49.0, number:50.0, number:45.0, text:'B', text:'Pass', number:8.0]\n",
      "[number:102022.0, text:'student18', number:35800.0, text:'M', text:'GEN', xldate:34874.0, number:17.0, number:75.0, text:'Second', number:55.0, number:75.0, number:0.27, xldate:42705.0, number:2012.0, text:'CS', text:'Haldwani', number:44.0, number:49.0, number:34.0, number:47.0, number:55.0, number:48.0, number:36.0, text:'C', text:'Fail', number:5.0]\n",
      "[number:102063.0, text:'student29', number:35800.0, text:'F', text:'GEN', xldate:34883.0, number:17.0, number:74.0, text:'First', number:53.0, number:65.0, number:0.9, xldate:42705.0, number:2012.0, text:'EC ', text:'Haldwani', number:40.0, number:67.0, number:47.0, number:40.0, number:61.0, number:62.0, number:72.0, text:'A', text:'Pass', number:9.0]\n",
      "[number:102041.0, text:'student37', number:35800.0, text:'M', text:'SC', xldate:34907.0, number:17.0, number:66.0, text:'Second', number:79.0, number:67.0, number:0.25, xldate:42705.0, number:2012.0, text:'EC ', text:'Haldwani', number:49.0, number:42.0, number:46.0, number:49.0, number:46.0, number:50.0, number:42.0, text:'B', text:'Pass', number:7.0]\n",
      "[number:102026.0, text:'student22', number:35800.0, text:'F', text:'OBC', xldate:35009.0, number:17.0, number:53.0, text:'First', number:63.0, number:65.0, number:0.8, xldate:42705.0, number:2012.0, text:'CS', text:'Haldwani', number:68.0, number:65.0, number:71.0, number:44.0, number:71.0, number:50.0, number:63.0, text:'A', text:'Pass', number:9.0]\n",
      "[number:102040.0, text:'student36', number:35800.0, text:'M', text:'GEN', xldate:35076.0, number:16.0, number:66.0, text:'Second', number:56.0, number:61.0, number:0.6, xldate:42705.0, number:2012.0, text:'CS', text:'Haldwani', number:89.0, number:77.0, number:54.0, number:56.0, number:62.0, number:45.0, number:56.0, text:'A', text:'Pass', number:9.0]\n",
      "[number:102019.0, text:'student15', number:3800.0, text:'F', text:'GEN', xldate:35246.0, number:16.0, number:63.0, text:'First', number:69.0, number:65.0, number:0.85, xldate:42705.0, number:2012.0, text:'EC ', text:'Haldwani', number:77.0, number:75.0, number:88.0, number:81.0, number:83.0, number:42.0, number:67.0, text:'A', text:'Pass', number:9.0]\n",
      "[number:102024.0, text:'student20', number:35800.0, text:'F', text:'GEN', xldate:35246.0, number:16.0, number:57.0, text:'First', number:62.0, number:77.0, number:0.81, xldate:42705.0, number:2012.0, text:'CS', text:'Haldwani', number:71.0, number:68.0, number:75.0, number:50.0, number:66.0, number:50.0, number:64.0, text:'A', text:'Pass', number:9.0]\n",
      "[number:102050.0, text:'student47', number:500.0, text:'F', text:'GEN', xldate:35247.0, number:16.0, number:51.0, text:'Third', number:52.0, number:58.0, number:0.04, xldate:42705.0, number:2012.0, text:'EC ', text:'Haldwani', number:39.0, number:65.0, number:43.0, number:65.0, number:50.0, number:36.0, number:33.0, text:'C', text:'Fail', number:3.0]\n",
      "[number:102051.0, text:'student48', number:500.0, text:'M', text:'ST', xldate:35278.0, number:16.0, number:60.0, text:'Third', number:76.0, number:59.0, number:0.04, xldate:42705.0, number:2012.0, text:'EC ', text:'Haldwani', number:30.0, number:46.0, number:34.0, number:65.0, number:32.0, number:35.0, number:32.0, text:'C', text:'Fail', number:3.0]\n",
      "[number:102034.0, text:'student30', number:35800.0, text:'F', text:'GEN', xldate:33979.0, number:20.0, number:52.0, text:'First', number:77.0, number:60.0, number:0.81, text:'13-17', number:2013.0, text:'CS', text:'Haldwani', number:74.0, number:74.0, number:83.0, number:56.0, number:62.0, number:56.0, number:68.0, text:'A', text:'Pass', number:9.0]\n",
      "[number:102033.0, text:'student50', number:35800.0, text:'M', text:'GEN', xldate:34228.0, number:20.0, number:72.0, text:'Third', number:62.0, number:69.0, number:0.13, text:'13-17', number:2013.0, text:'CS', text:'Dehra Dun', number:44.0, number:45.0, number:55.0, number:35.0, number:42.0, number:43.0, number:36.0, text:'C', text:'Fail', number:3.0]\n",
      "[number:102025.0, text:'student21', number:35800.0, text:'M', text:'GEN', xldate:34314.0, number:20.0, number:73.0, text:'First', number:75.0, number:72.0, number:0.9, text:'13-17', number:2013.0, text:'CS', text:'Haldwani', number:88.0, number:89.0, number:95.0, number:91.0, number:87.0, number:47.0, number:79.0, text:'A', text:'Pass', number:9.0]\n",
      "[number:102023.0, text:'student19', number:35800.0, text:'M', text:'GEN', xldate:34314.0, number:20.0, number:76.0, text:'Second', number:67.0, number:51.0, number:0.3, text:'13-17', number:2013.0, text:'EC ', text:'Haldwani', number:49.0, number:46.0, number:49.0, number:49.0, number:50.0, number:55.0, number:45.0, text:'B', text:'Pass', number:8.0]\n",
      "[number:102030.0, text:'student26', number:35800.0, text:'M', text:'GEN', xldate:34336.0, number:19.0, number:62.0, text:'First', number:66.0, number:76.0, number:0.64, text:'13-17', number:2013.0, text:'EC ', text:'Haldwani', number:65.0, number:77.0, number:71.0, number:58.0, number:72.0, number:43.0, number:61.0, text:'A', text:'Pass', number:9.0]\n",
      "[number:102038.0, text:'student34', number:35800.0, text:'F', text:'GEN', xldate:34355.0, number:19.0, number:63.0, text:'First', number:60.0, number:53.0, number:0.92, text:'13-17', number:2013.0, text:'CS', text:'Noida', number:87.0, number:94.0, number:78.0, number:85.0, number:76.0, number:45.0, number:76.0, text:'A', text:'Pass', number:9.0]\n",
      "[number:102014.0, text:'student10', number:35800.0, text:'M', text:'GEN', xldate:34359.0, number:19.0, number:60.0, text:'Second', number:63.0, number:68.0, number:0.54, text:'13-17', number:2013.0, text:'EC ', text:'Gurgaon', number:77.0, number:65.0, number:58.0, number:44.0, number:65.0, number:50.0, number:58.0, text:'B', text:'Pass', number:8.0]\n",
      "[number:102004.0, text:'student4', number:35800.0, text:'M', text:'GEN', xldate:34397.0, number:19.0, number:59.0, text:'Third', number:67.0, number:58.0, number:0.15, text:'13-17', number:2013.0, text:'CS', text:'Delhi', number:47.0, number:31.0, number:55.0, number:49.0, number:46.0, number:50.0, number:36.0, text:'C', text:'Fail', number:5.0]\n",
      "[number:103023.0, text:'student46', number:35800.0, text:'F', text:'GEN', xldate:34408.0, number:19.0, number:65.0, text:'First', number:77.0, number:62.0, number:0.9, text:'13-17', number:2013.0, text:'EC ', text:'Noida', number:93.0, number:74.0, number:81.0, number:73.0, number:80.0, number:43.0, number:70.0, text:'A', text:'Pass', number:9.0]\n",
      "[number:102009.0, text:'student7', number:35800.0, text:'M', text:'ST', xldate:34461.0, number:19.0, number:70.0, text:'Second', number:75.0, number:66.0, number:0.33, text:'13-17', number:2013.0, text:'CS', text:'Delhi', number:65.0, number:40.0, number:31.0, number:65.0, number:42.0, number:49.0, number:35.0, text:'C', text:'Fail', number:5.0]\n",
      "[number:102021.0, text:'student17', number:35800.0, text:'F', text:'GEN', xldate:34470.0, number:19.0, number:53.0, text:'First', number:75.0, number:65.0, number:0.76, text:'13-17', number:2013.0, text:'CS', text:'Noida', number:93.0, number:84.0, number:94.0, number:70.0, number:86.0, number:40.0, number:78.0, text:'A', text:'Pass', number:9.0]\n",
      "[number:102029.0, text:'student25', number:35800.0, text:'M', text:'SC', xldate:34491.0, number:19.0, number:71.0, text:'Second', number:80.0, number:75.0, number:0.32, text:'13-17', number:2013.0, text:'EC ', text:'Gurgaon', number:49.0, number:46.0, number:49.0, number:46.0, number:50.0, number:55.0, number:48.0, text:'B', text:'Pass', number:8.0]\n",
      "[number:102045.0, text:'student41', number:35800.0, text:'F', text:'GEN', xldate:34515.0, number:19.0, number:51.0, text:'First', number:60.0, number:60.0, number:0.87, text:'13-17', number:2013.0, text:'CS', text:'Delhi', number:96.0, number:96.0, number:98.0, number:76.0, number:81.0, number:47.0, number:80.0, text:'A', text:'Pass', number:9.0]\n",
      "[number:102037.0, text:'student33', number:35800.0, text:'M', text:'GEN', xldate:34559.0, number:19.0, number:55.0, text:'Third', number:74.0, number:75.0, number:0.22, text:'13-17', number:2013.0, text:'CS', text:'Noida', number:49.0, number:46.0, number:49.0, number:23.0, number:46.0, number:50.0, number:38.0, text:'C', text:'Fail', number:5.0]\n",
      "[number:102047.0, text:'student42', number:35800.0, text:'M', text:'GEN', xldate:34630.0, number:19.0, number:80.0, text:'Second', number:54.0, number:53.0, number:0.52, text:'13-17', number:2013.0, text:'CS', text:'Haldwani', number:49.0, number:55.0, number:46.0, number:54.0, number:64.0, number:50.0, number:54.0, text:'A', text:'Pass', number:9.0]\n",
      "[number:102017.0, text:'student13', number:35800.0, text:'M', text:'OBC', xldate:34638.0, number:19.0, number:62.0, text:'First', number:76.0, number:54.0, number:0.72, text:'13-17', number:2013.0, text:'EC ', text:'Noida', number:98.0, number:78.0, number:88.0, number:42.0, number:81.0, number:41.0, number:70.0, text:'A', text:'Pass', number:9.0]\n",
      "[number:102032.0, text:'student28', number:35800.0, text:'F', text:'GEN', xldate:34656.0, number:19.0, number:70.0, text:'First', number:58.0, number:51.0, number:0.72, text:'13-17', number:2013.0, text:'CS', text:'Delhi', number:62.0, number:62.0, number:69.0, number:63.0, number:63.0, number:42.0, number:68.0, text:'A', text:'Pass', number:9.0]\n",
      "[number:102013.0, text:'student9', number:30800.0, text:'M', text:'GEN', xldate:34662.0, number:19.0, number:61.0, text:'First', number:67.0, number:66.0, number:0.66, text:'13-17', number:2013.0, text:'CS', text:'Haldwani', number:71.0, number:64.0, number:42.0, number:53.0, number:40.0, number:56.0, number:68.0, text:'A', text:'Pass', number:9.0]\n",
      "[number:102003.0, text:'student3', number:35800.0, text:'M', text:'GEN', xldate:34747.0, number:18.0, number:77.0, text:'Third', number:50.0, number:72.0, number:0.11, text:'13-17', number:2013.0, text:'EC ', text:'Dehra Dun', number:48.0, number:42.0, number:43.0, number:47.0, number:32.0, number:48.0, number:34.0, text:'C', text:'Fail', number:5.0]\n",
      "[number:102018.0, text:'student14', number:3800.0, text:'M', text:'GEN', xldate:34993.0, number:18.0, number:60.0, text:'First', number:75.0, number:66.0, number:0.69, text:'13-17', number:2013.0, text:'CS', text:'Almora', number:58.0, number:54.0, number:50.0, number:65.0, number:43.0, number:64.0, number:64.0, text:'A', text:'Pass', number:9.0]\n",
      "[number:102042.0, text:'student38', number:35800.0, text:'M', text:'GEN', xldate:35076.0, number:17.0, number:58.0, text:'Second', number:65.0, number:80.0, number:0.22, text:'13-17', number:2013.0, text:'EC ', text:'Kashipur', number:33.0, number:55.0, number:45.0, number:46.0, number:55.0, number:31.0, number:39.0, text:'C', text:'Fail', number:3.0]\n"
     ]
    }
   ],
   "source": [
    "for rx in range(py_sheet.nrows):    print(py_sheet.row(rx))"
   ]
  },
  {
   "cell_type": "markdown",
   "id": "0e5a07a7",
   "metadata": {},
   "source": [
    "## openpyxl\n",
    "https://openpyxl.readthedocs.io/en/stable/usage.html#read-an-existing-workbook\n",
    "https://openpyxl.readthedocs.io/en/stable/usage.html"
   ]
  },
  {
   "cell_type": "markdown",
   "id": "0d61a16f",
   "metadata": {},
   "source": [
    "!pip install openpyxl"
   ]
  },
  {
   "cell_type": "code",
   "execution_count": 24,
   "id": "5f6cf1f2",
   "metadata": {},
   "outputs": [],
   "source": [
    "from openpyxl import load_workbook"
   ]
  },
  {
   "cell_type": "code",
   "execution_count": 33,
   "id": "2f67b518",
   "metadata": {},
   "outputs": [],
   "source": [
    "wb = load_workbook(filename = 'E:/analytics/data/student1.xlsx')"
   ]
  },
  {
   "cell_type": "code",
   "execution_count": 34,
   "id": "a40ee268",
   "metadata": {},
   "outputs": [],
   "source": [
    "#sheet_ranges = wb['range names']\n",
    "#print(sheet_ranges['D18'].value)"
   ]
  },
  {
   "cell_type": "code",
   "execution_count": 35,
   "id": "3537501e",
   "metadata": {},
   "outputs": [
    {
     "name": "stderr",
     "output_type": "stream",
     "text": [
      "C:\\Users\\du\\AppData\\Local\\Temp\\ipykernel_12852\\1212622292.py:1: DeprecationWarning: Call to deprecated function get_sheet_names (Use wb.sheetnames).\n",
      "  wb.get_sheet_names()\n"
     ]
    },
    {
     "data": {
      "text/plain": [
       "['student1data']"
      ]
     },
     "execution_count": 35,
     "metadata": {},
     "output_type": "execute_result"
    }
   ],
   "source": [
    "wb.get_sheet_names()"
   ]
  },
  {
   "cell_type": "code",
   "execution_count": 36,
   "id": "ba4508e1",
   "metadata": {},
   "outputs": [
    {
     "data": {
      "text/plain": [
       "<Worksheet \"Sheet\">"
      ]
     },
     "execution_count": 36,
     "metadata": {},
     "output_type": "execute_result"
    }
   ],
   "source": [
    "wb.create_sheet()"
   ]
  },
  {
   "cell_type": "code",
   "execution_count": 39,
   "id": "48200406",
   "metadata": {},
   "outputs": [],
   "source": [
    "#wb.save()"
   ]
  },
  {
   "cell_type": "markdown",
   "id": "47f3527e",
   "metadata": {},
   "source": [
    "ws = wb['student1data']"
   ]
  },
  {
   "cell_type": "code",
   "execution_count": 43,
   "id": "16bab408",
   "metadata": {},
   "outputs": [
    {
     "data": {
      "text/plain": [
       "<Worksheet \"student1data\">"
      ]
     },
     "execution_count": 43,
     "metadata": {},
     "output_type": "execute_result"
    }
   ],
   "source": [
    "ws"
   ]
  },
  {
   "cell_type": "code",
   "execution_count": 44,
   "id": "cf56e8cf",
   "metadata": {},
   "outputs": [
    {
     "ename": "NameError",
     "evalue": "name 'df' is not defined",
     "output_type": "error",
     "traceback": [
      "\u001b[1;31m---------------------------------------------------------------------------\u001b[0m",
      "\u001b[1;31mNameError\u001b[0m                                 Traceback (most recent call last)",
      "\u001b[1;32m~\\AppData\\Local\\Temp\\ipykernel_12852\\1632933883.py\u001b[0m in \u001b[0;36m<cell line: 2>\u001b[1;34m()\u001b[0m\n\u001b[0;32m      1\u001b[0m \u001b[1;32mfrom\u001b[0m \u001b[0mopenpyxl\u001b[0m\u001b[1;33m.\u001b[0m\u001b[0mutils\u001b[0m\u001b[1;33m.\u001b[0m\u001b[0mdataframe\u001b[0m \u001b[1;32mimport\u001b[0m \u001b[0mdataframe_to_rows\u001b[0m\u001b[1;33m\u001b[0m\u001b[1;33m\u001b[0m\u001b[0m\n\u001b[1;32m----> 2\u001b[1;33m \u001b[1;32mfor\u001b[0m \u001b[0mr\u001b[0m \u001b[1;32min\u001b[0m \u001b[0mdataframe_to_rows\u001b[0m\u001b[1;33m(\u001b[0m\u001b[0mdf\u001b[0m\u001b[1;33m,\u001b[0m \u001b[0mindex\u001b[0m\u001b[1;33m=\u001b[0m\u001b[1;32mTrue\u001b[0m\u001b[1;33m,\u001b[0m \u001b[0mheader\u001b[0m\u001b[1;33m=\u001b[0m\u001b[1;32mTrue\u001b[0m\u001b[1;33m)\u001b[0m\u001b[1;33m:\u001b[0m\u001b[1;33m\u001b[0m\u001b[1;33m\u001b[0m\u001b[0m\n\u001b[0m\u001b[0;32m      3\u001b[0m     \u001b[0mws\u001b[0m\u001b[1;33m.\u001b[0m\u001b[0mappend\u001b[0m\u001b[1;33m(\u001b[0m\u001b[0mr\u001b[0m\u001b[1;33m)\u001b[0m\u001b[1;33m\u001b[0m\u001b[1;33m\u001b[0m\u001b[0m\n",
      "\u001b[1;31mNameError\u001b[0m: name 'df' is not defined"
     ]
    }
   ],
   "source": [
    "from openpyxl.utils.dataframe import dataframe_to_rows\n",
    "for r in dataframe_to_rows(df, index=True, header=True):\n",
    "    ws.append(r)"
   ]
  },
  {
   "cell_type": "code",
   "execution_count": null,
   "id": "f144a0bc",
   "metadata": {},
   "outputs": [],
   "source": []
  },
  {
   "cell_type": "code",
   "execution_count": null,
   "id": "28112d3f",
   "metadata": {},
   "outputs": [],
   "source": []
  }
 ],
 "metadata": {
  "kernelspec": {
   "display_name": "Python 3 (ipykernel)",
   "language": "python",
   "name": "python3"
  },
  "language_info": {
   "codemirror_mode": {
    "name": "ipython",
    "version": 3
   },
   "file_extension": ".py",
   "mimetype": "text/x-python",
   "name": "python",
   "nbconvert_exporter": "python",
   "pygments_lexer": "ipython3",
   "version": "3.9.15"
  }
 },
 "nbformat": 4,
 "nbformat_minor": 5
}
