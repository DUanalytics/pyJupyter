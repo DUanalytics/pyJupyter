{
 "cells": [
  {
   "cell_type": "code",
   "execution_count": null,
   "id": "649cf8bb",
   "metadata": {},
   "outputs": [],
   "source": []
  },
  {
   "cell_type": "markdown",
   "id": "e0b54780",
   "metadata": {},
   "source": [
    "- https://github.com/Anexen/pyxirr\n",
    "-PyXIRR stands for \"Python XIRR\" (for historical reasons), but contains many other financial functions such as IRR, FV, NPV, etc. Features:\n",
    "- correct\n",
    "-  supports different day count conventions (e.g. ACT/360, 30E/360, etc.)\n",
    "-  works with different input data types (iterators, numpy arrays, pandas DataFrames)\n",
    "-  no external dependencies\n",
    "-  type annotations\n",
    "-  blazingly fast"
   ]
  },
  {
   "cell_type": "code",
   "execution_count": 2,
   "id": "3c072b32",
   "metadata": {},
   "outputs": [],
   "source": [
    "#!pip install pyxirr"
   ]
  },
  {
   "cell_type": "code",
   "execution_count": 3,
   "id": "4d696ff2",
   "metadata": {},
   "outputs": [],
   "source": [
    "from datetime import date\n",
    "from pyxirr import xirr"
   ]
  },
  {
   "cell_type": "code",
   "execution_count": 4,
   "id": "63528b80",
   "metadata": {},
   "outputs": [],
   "source": [
    "dates = [date(2020, 1, 1), date(2021, 1, 1), date(2022, 1, 1)]\n",
    "amounts = [-1000, 750, 500]"
   ]
  },
  {
   "cell_type": "code",
   "execution_count": 5,
   "id": "750d3440",
   "metadata": {},
   "outputs": [
    {
     "data": {
      "text/plain": [
       "0.1750092646154511"
      ]
     },
     "execution_count": 5,
     "metadata": {},
     "output_type": "execute_result"
    }
   ],
   "source": [
    "# feed columnar data\n",
    "xirr(dates, amounts)"
   ]
  },
  {
   "cell_type": "code",
   "execution_count": 6,
   "id": "539c4ea1",
   "metadata": {},
   "outputs": [
    {
     "data": {
      "text/plain": [
       "0.1750092646154511"
      ]
     },
     "execution_count": 6,
     "metadata": {},
     "output_type": "execute_result"
    }
   ],
   "source": [
    "# feed iterators\n",
    "xirr(iter(dates), (x / 2 for x in amounts))"
   ]
  },
  {
   "cell_type": "code",
   "execution_count": 7,
   "id": "8c8135ff",
   "metadata": {},
   "outputs": [
    {
     "data": {
      "text/plain": [
       "0.1750092646154511"
      ]
     },
     "execution_count": 7,
     "metadata": {},
     "output_type": "execute_result"
    }
   ],
   "source": [
    "# feed an iterable of tuples\n",
    "xirr(zip(dates, amounts))"
   ]
  },
  {
   "cell_type": "code",
   "execution_count": 8,
   "id": "37d7af17",
   "metadata": {},
   "outputs": [
    {
     "data": {
      "text/plain": [
       "0.1750092646154511"
      ]
     },
     "execution_count": 8,
     "metadata": {},
     "output_type": "execute_result"
    }
   ],
   "source": [
    "# feed a dictionary\n",
    "xirr(dict(zip(dates, amounts)))"
   ]
  },
  {
   "cell_type": "code",
   "execution_count": 9,
   "id": "a3d48b54",
   "metadata": {},
   "outputs": [
    {
     "data": {
      "text/plain": [
       "0.19940237326909385"
      ]
     },
     "execution_count": 9,
     "metadata": {},
     "output_type": "execute_result"
    }
   ],
   "source": [
    "# dates as strings\n",
    "xirr(['2020-01-01', '2021-01-01'], [-1000, 1200])"
   ]
  },
  {
   "cell_type": "markdown",
   "id": "7d497c51",
   "metadata": {},
   "source": [
    "# Day Counts"
   ]
  },
  {
   "cell_type": "code",
   "execution_count": 10,
   "id": "5d935040",
   "metadata": {},
   "outputs": [
    {
     "data": {
      "text/plain": [
       "0.17241622820639427"
      ]
     },
     "execution_count": 10,
     "metadata": {},
     "output_type": "execute_result"
    }
   ],
   "source": [
    "from pyxirr import DayCount\n",
    "xirr(dates, amounts, day_count=DayCount.ACT_360)"
   ]
  },
  {
   "cell_type": "code",
   "execution_count": 11,
   "id": "17324d26",
   "metadata": {},
   "outputs": [
    {
     "data": {
      "text/plain": [
       "0.17539052967910615"
      ]
     },
     "execution_count": 11,
     "metadata": {},
     "output_type": "execute_result"
    }
   ],
   "source": [
    "# parse day count from string\n",
    "xirr(dates, amounts, day_count=\"30E/360\")"
   ]
  },
  {
   "cell_type": "markdown",
   "id": "ee4a0620",
   "metadata": {},
   "source": [
    "# Future Value"
   ]
  },
  {
   "cell_type": "code",
   "execution_count": 14,
   "id": "1e8c9242",
   "metadata": {},
   "outputs": [],
   "source": [
    "import pyxirr"
   ]
  },
  {
   "cell_type": "code",
   "execution_count": 15,
   "id": "0da475b3",
   "metadata": {},
   "outputs": [
    {
     "data": {
      "text/plain": [
       "15692.92889433575"
      ]
     },
     "execution_count": 15,
     "metadata": {},
     "output_type": "execute_result"
    }
   ],
   "source": [
    "# Future Value\n",
    "pyxirr.fv(0.05/12, 10*12, -100, -100)"
   ]
  },
  {
   "cell_type": "code",
   "execution_count": 16,
   "id": "d82e8f55",
   "metadata": {},
   "outputs": [
    {
     "data": {
      "text/plain": [
       "15000.0"
      ]
     },
     "execution_count": 16,
     "metadata": {},
     "output_type": "execute_result"
    }
   ],
   "source": [
    "# Net Present Value\n",
    "pyxirr.npv(0, [-40_000, 5_000, 8_000, 12_000, 30_000])"
   ]
  },
  {
   "cell_type": "code",
   "execution_count": 17,
   "id": "d1325f2f",
   "metadata": {},
   "outputs": [
    {
     "data": {
      "text/plain": [
       "0.2809484211599615"
      ]
     },
     "execution_count": 17,
     "metadata": {},
     "output_type": "execute_result"
    }
   ],
   "source": [
    "# IRR\n",
    "pyxirr.irr([-100, 39, 59, 55, 20])"
   ]
  },
  {
   "cell_type": "markdown",
   "id": "9221d0fc",
   "metadata": {},
   "source": [
    "# Numpy / Pandas"
   ]
  },
  {
   "cell_type": "code",
   "execution_count": 19,
   "id": "053f8fa5",
   "metadata": {},
   "outputs": [],
   "source": [
    "import numpy as np\n",
    "import pandas as pd"
   ]
  },
  {
   "cell_type": "code",
   "execution_count": 20,
   "id": "0bea975a",
   "metadata": {},
   "outputs": [
    {
     "data": {
      "text/plain": [
       "0.1750092646154511"
      ]
     },
     "execution_count": 20,
     "metadata": {},
     "output_type": "execute_result"
    }
   ],
   "source": [
    "# feed numpy array\n",
    "xirr(np.array([dates, amounts]))"
   ]
  },
  {
   "cell_type": "code",
   "execution_count": 21,
   "id": "6e4aad98",
   "metadata": {},
   "outputs": [
    {
     "data": {
      "text/plain": [
       "0.1750092646154511"
      ]
     },
     "execution_count": 21,
     "metadata": {},
     "output_type": "execute_result"
    }
   ],
   "source": [
    "xirr(np.array(dates), np.array(amounts))"
   ]
  },
  {
   "cell_type": "code",
   "execution_count": 22,
   "id": "61c0271d",
   "metadata": {},
   "outputs": [
    {
     "data": {
      "text/plain": [
       "0.1750092646154511"
      ]
     },
     "execution_count": 22,
     "metadata": {},
     "output_type": "execute_result"
    }
   ],
   "source": [
    "# feed DataFrame (columns names doesn't matter; ordering matters)\n",
    "xirr(pd.DataFrame({\"a\": dates, \"b\": amounts}))"
   ]
  },
  {
   "cell_type": "code",
   "execution_count": 23,
   "id": "26e9014c",
   "metadata": {},
   "outputs": [
    {
     "data": {
      "text/plain": [
       "0.1750092646154511"
      ]
     },
     "execution_count": 23,
     "metadata": {},
     "output_type": "execute_result"
    }
   ],
   "source": [
    "# feed Series with DatetimeIndex\n",
    "xirr(pd.Series(amounts, index=pd.to_datetime(dates)))"
   ]
  },
  {
   "cell_type": "code",
   "execution_count": 25,
   "id": "593d7520",
   "metadata": {},
   "outputs": [
    {
     "data": {
      "text/html": [
       "<div>\n",
       "<style scoped>\n",
       "    .dataframe tbody tr th:only-of-type {\n",
       "        vertical-align: middle;\n",
       "    }\n",
       "\n",
       "    .dataframe tbody tr th {\n",
       "        vertical-align: top;\n",
       "    }\n",
       "\n",
       "    .dataframe thead th {\n",
       "        text-align: right;\n",
       "    }\n",
       "</style>\n",
       "<table border=\"1\" class=\"dataframe\">\n",
       "  <thead>\n",
       "    <tr style=\"text-align: right;\">\n",
       "      <th></th>\n",
       "      <th>one</th>\n",
       "      <th>two</th>\n",
       "    </tr>\n",
       "  </thead>\n",
       "  <tbody>\n",
       "    <tr>\n",
       "      <th>2021-01-01</th>\n",
       "      <td>-100</td>\n",
       "      <td>-80</td>\n",
       "    </tr>\n",
       "    <tr>\n",
       "      <th>2021-02-01</th>\n",
       "      <td>20</td>\n",
       "      <td>19</td>\n",
       "    </tr>\n",
       "    <tr>\n",
       "      <th>2021-03-01</th>\n",
       "      <td>20</td>\n",
       "      <td>19</td>\n",
       "    </tr>\n",
       "    <tr>\n",
       "      <th>2021-04-01</th>\n",
       "      <td>20</td>\n",
       "      <td>19</td>\n",
       "    </tr>\n",
       "    <tr>\n",
       "      <th>2021-05-01</th>\n",
       "      <td>20</td>\n",
       "      <td>19</td>\n",
       "    </tr>\n",
       "    <tr>\n",
       "      <th>2021-06-01</th>\n",
       "      <td>20</td>\n",
       "      <td>19</td>\n",
       "    </tr>\n",
       "    <tr>\n",
       "      <th>2021-07-01</th>\n",
       "      <td>20</td>\n",
       "      <td>19</td>\n",
       "    </tr>\n",
       "    <tr>\n",
       "      <th>2021-08-01</th>\n",
       "      <td>20</td>\n",
       "      <td>19</td>\n",
       "    </tr>\n",
       "    <tr>\n",
       "      <th>2021-09-01</th>\n",
       "      <td>20</td>\n",
       "      <td>19</td>\n",
       "    </tr>\n",
       "    <tr>\n",
       "      <th>2021-10-01</th>\n",
       "      <td>20</td>\n",
       "      <td>19</td>\n",
       "    </tr>\n",
       "    <tr>\n",
       "      <th>2021-11-01</th>\n",
       "      <td>20</td>\n",
       "      <td>19</td>\n",
       "    </tr>\n",
       "    <tr>\n",
       "      <th>2021-12-01</th>\n",
       "      <td>20</td>\n",
       "      <td>19</td>\n",
       "    </tr>\n",
       "  </tbody>\n",
       "</table>\n",
       "</div>"
      ],
      "text/plain": [
       "            one  two\n",
       "2021-01-01 -100  -80\n",
       "2021-02-01   20   19\n",
       "2021-03-01   20   19\n",
       "2021-04-01   20   19\n",
       "2021-05-01   20   19\n",
       "2021-06-01   20   19\n",
       "2021-07-01   20   19\n",
       "2021-08-01   20   19\n",
       "2021-09-01   20   19\n",
       "2021-10-01   20   19\n",
       "2021-11-01   20   19\n",
       "2021-12-01   20   19"
      ]
     },
     "execution_count": 25,
     "metadata": {},
     "output_type": "execute_result"
    }
   ],
   "source": [
    "# bonus: apply xirr to a DataFrame with DatetimeIndex:\n",
    "df = pd.DataFrame(   index=pd.date_range(\"2021\", \"2022\", freq=\"MS\", inclusive=\"left\"),\n",
    "    data={ \"one\": [-100] + [20] * 11,  \"two\": [-80] + [19] * 11, },)\n",
    "df"
   ]
  },
  {
   "cell_type": "code",
   "execution_count": 26,
   "id": "22a34a9d",
   "metadata": {},
   "outputs": [
    {
     "data": {
      "text/plain": [
       "one    5.096235\n",
       "two    8.780802\n",
       "dtype: float64"
      ]
     },
     "execution_count": 26,
     "metadata": {},
     "output_type": "execute_result"
    }
   ],
   "source": [
    "df.apply(xirr)  # Series(index=[\"one\", \"two\"], data=[5.09623547168478, 8.780801977141174])"
   ]
  },
  {
   "cell_type": "markdown",
   "id": "cd99050f",
   "metadata": {},
   "source": [
    "## Links\n",
    "https://ryanwingate.com/other-interests/business/calculate_irr/"
   ]
  }
 ],
 "metadata": {
  "kernelspec": {
   "display_name": "Python 3 (ipykernel)",
   "language": "python",
   "name": "python3"
  },
  "language_info": {
   "codemirror_mode": {
    "name": "ipython",
    "version": 3
   },
   "file_extension": ".py",
   "mimetype": "text/x-python",
   "name": "python",
   "nbconvert_exporter": "python",
   "pygments_lexer": "ipython3",
   "version": "3.10.9"
  }
 },
 "nbformat": 4,
 "nbformat_minor": 5
}
