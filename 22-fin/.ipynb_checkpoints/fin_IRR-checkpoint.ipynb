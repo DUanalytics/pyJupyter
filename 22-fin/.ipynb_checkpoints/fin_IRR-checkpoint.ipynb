{
 "cells": [
  {
   "cell_type": "code",
   "execution_count": null,
   "id": "e1e252d9",
   "metadata": {},
   "outputs": [],
   "source": [
    "# Internal Rate of Return (IRR)"
   ]
  },
  {
   "cell_type": "markdown",
   "id": "484ed789",
   "metadata": {},
   "source": [
    "# Case\n",
    "-  Calculation of IRR in Python is easy with the numpy module.\n",
    "-  Why do we need to calculate the IRR or Internal rate of returns?\n",
    "-  Let us suppose a manager has an opportunity to invest in two projects, but can only choose one project. The projects are:\n",
    "- Project 1 requires 800 million in investment today, but it will pay 200,250,300,350,400 million in payments each year for the next 5 years.\n",
    "-  Project 2 required 500 million in investment today, but it will pay 150,170,178,250,300 in payments each year for the next 5 years.\n",
    "-  https://www.codingfinance.com/post/2018-03-20-irr-py/\n",
    "-  https://pypi.org/project/numpy-financial/"
   ]
  },
  {
   "cell_type": "code",
   "execution_count": 5,
   "id": "8b244e08",
   "metadata": {},
   "outputs": [],
   "source": [
    "#libraries\n",
    "import pandas as pd\n",
    "import numpy as np\n",
    "#!pip install numpy-financial\n",
    "import numpy_financial as npf"
   ]
  },
  {
   "cell_type": "code",
   "execution_count": 2,
   "id": "31e1c1bd",
   "metadata": {},
   "outputs": [
    {
     "name": "stdout",
     "output_type": "stream",
     "text": [
      "   Year   cf\n",
      "0     0 -800\n",
      "1     1  200\n",
      "2     2  250\n",
      "3     3  300\n",
      "4     4  350\n",
      "5     5  400\n",
      "   Year   cf\n",
      "0     0 -500\n",
      "1     1  150\n",
      "2     2  170\n",
      "3     3  178\n",
      "4     4  250\n",
      "5     5  300\n"
     ]
    }
   ],
   "source": [
    "project1_cf = pd.DataFrame({\"Year\":np.arange(0,6),\"cf\": [-800,200,250,300,350,400]})\n",
    "project2_cf = pd.DataFrame({\"Year\":np.arange(0,6),\"cf\": [-500,150,170,178,250,300]})\n",
    "print(project1_cf)\n",
    "print(project2_cf)"
   ]
  },
  {
   "cell_type": "code",
   "execution_count": 11,
   "id": "13ed68e6",
   "metadata": {},
   "outputs": [
    {
     "name": "stdout",
     "output_type": "stream",
     "text": [
      "       Name       IRR  Retunr\n",
      "0  Project1  0.221603     700\n",
      "1  Project2  0.267620     548\n"
     ]
    }
   ],
   "source": [
    "irr1 = npf.irr(project1_cf[\"cf\"])\n",
    "irr2 = npf.irr(project2_cf[\"cf\"])\n",
    "ret1 = np.sum(project1_cf['cf'])\n",
    "ret2 = np.sum(project2_cf['cf'])\n",
    "irr_df = pd.DataFrame({\"Name\":[\"Project1\", \"Project2\"],   \"IRR\":[irr1, irr2],'Retunr':[ret1, ret2]})\n",
    "print(irr_df)"
   ]
  },
  {
   "cell_type": "markdown",
   "id": "8d132c96",
   "metadata": {},
   "source": [
    "From the above table we can see that project 1 has an IRR of 22.16% and project 2 has an IRR of 26.76. Even though project 1 offers higher cash flows, project 1 has a lower internal rate of returns. If the managers goal is to choose the project that maximizes profitability then he/she should choose project 2."
   ]
  }
 ],
 "metadata": {
  "kernelspec": {
   "display_name": "Python 3 (ipykernel)",
   "language": "python",
   "name": "python3"
  },
  "language_info": {
   "codemirror_mode": {
    "name": "ipython",
    "version": 3
   },
   "file_extension": ".py",
   "mimetype": "text/x-python",
   "name": "python",
   "nbconvert_exporter": "python",
   "pygments_lexer": "ipython3",
   "version": "3.10.9"
  }
 },
 "nbformat": 4,
 "nbformat_minor": 5
}
