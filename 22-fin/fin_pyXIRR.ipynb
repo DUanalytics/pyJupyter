{
 "cells": [
  {
   "cell_type": "code",
   "execution_count": null,
   "id": "df01d2c9",
   "metadata": {},
   "outputs": [],
   "source": []
  },
  {
   "cell_type": "markdown",
   "id": "001e9f80",
   "metadata": {},
   "source": [
    "- https://github.com/Anexen/pyxirr\n",
    "-PyXIRR stands for \"Python XIRR\" (for historical reasons), but contains many other financial functions such as IRR, FV, NPV, etc. Features:\n",
    "- correct\n",
    "-  supports different day count conventions (e.g. ACT/360, 30E/360, etc.)\n",
    "-  works with different input data types (iterators, numpy arrays, pandas DataFrames)\n",
    "-  no external dependencies\n",
    "-  type annotations\n",
    "-  blazingly fast"
   ]
  },
  {
   "cell_type": "code",
   "execution_count": 2,
   "id": "ae231b70",
   "metadata": {},
   "outputs": [],
   "source": [
    "#!pip install pyxirr"
   ]
  },
  {
   "cell_type": "code",
   "execution_count": 3,
   "id": "717760c9",
   "metadata": {},
   "outputs": [],
   "source": [
    "from datetime import date\n",
    "from pyxirr import xirr"
   ]
  },
  {
   "cell_type": "code",
   "execution_count": 4,
   "id": "84e50ed3",
   "metadata": {},
   "outputs": [],
   "source": [
    "dates = [date(2020, 1, 1), date(2021, 1, 1), date(2022, 1, 1)]\n",
    "amounts = [-1000, 750, 500]"
   ]
  },
  {
   "cell_type": "code",
   "execution_count": 5,
   "id": "9ae8deae",
   "metadata": {},
   "outputs": [
    {
     "data": {
      "text/plain": [
       "0.1750092646154511"
      ]
     },
     "execution_count": 5,
     "metadata": {},
     "output_type": "execute_result"
    }
   ],
   "source": [
    "# feed columnar data\n",
    "xirr(dates, amounts)"
   ]
  },
  {
   "cell_type": "code",
   "execution_count": 6,
   "id": "6c1e3757",
   "metadata": {},
   "outputs": [
    {
     "data": {
      "text/plain": [
       "0.1750092646154511"
      ]
     },
     "execution_count": 6,
     "metadata": {},
     "output_type": "execute_result"
    }
   ],
   "source": [
    "# feed iterators\n",
    "xirr(iter(dates), (x / 2 for x in amounts))"
   ]
  },
  {
   "cell_type": "code",
   "execution_count": 7,
   "id": "39ce2ea8",
   "metadata": {},
   "outputs": [
    {
     "data": {
      "text/plain": [
       "0.1750092646154511"
      ]
     },
     "execution_count": 7,
     "metadata": {},
     "output_type": "execute_result"
    }
   ],
   "source": [
    "# feed an iterable of tuples\n",
    "xirr(zip(dates, amounts))"
   ]
  },
  {
   "cell_type": "code",
   "execution_count": 8,
   "id": "39331436",
   "metadata": {},
   "outputs": [
    {
     "data": {
      "text/plain": [
       "0.1750092646154511"
      ]
     },
     "execution_count": 8,
     "metadata": {},
     "output_type": "execute_result"
    }
   ],
   "source": [
    "# feed a dictionary\n",
    "xirr(dict(zip(dates, amounts)))"
   ]
  },
  {
   "cell_type": "code",
   "execution_count": 9,
   "id": "87a4c3f1",
   "metadata": {},
   "outputs": [
    {
     "data": {
      "text/plain": [
       "0.19940237326909385"
      ]
     },
     "execution_count": 9,
     "metadata": {},
     "output_type": "execute_result"
    }
   ],
   "source": [
    "# dates as strings\n",
    "xirr(['2020-01-01', '2021-01-01'], [-1000, 1200])"
   ]
  },
  {
   "cell_type": "markdown",
   "id": "336b81ad",
   "metadata": {},
   "source": [
    "# Day Counts"
   ]
  },
  {
   "cell_type": "code",
   "execution_count": 10,
   "id": "1d799f61",
   "metadata": {},
   "outputs": [
    {
     "data": {
      "text/plain": [
       "0.17241622820639427"
      ]
     },
     "execution_count": 10,
     "metadata": {},
     "output_type": "execute_result"
    }
   ],
   "source": [
    "from pyxirr import DayCount\n",
    "xirr(dates, amounts, day_count=DayCount.ACT_360)"
   ]
  },
  {
   "cell_type": "code",
   "execution_count": 11,
   "id": "7202a31d",
   "metadata": {},
   "outputs": [
    {
     "data": {
      "text/plain": [
       "0.17539052967910615"
      ]
     },
     "execution_count": 11,
     "metadata": {},
     "output_type": "execute_result"
    }
   ],
   "source": [
    "# parse day count from string\n",
    "xirr(dates, amounts, day_count=\"30E/360\")"
   ]
  },
  {
   "cell_type": "markdown",
   "id": "f6e465af",
   "metadata": {},
   "source": [
    "# Future Value"
   ]
  },
  {
   "cell_type": "code",
   "execution_count": 14,
   "id": "90e4e985",
   "metadata": {},
   "outputs": [],
   "source": [
    "import pyxirr"
   ]
  },
  {
   "cell_type": "code",
   "execution_count": 15,
   "id": "8b22b938",
   "metadata": {},
   "outputs": [
    {
     "data": {
      "text/plain": [
       "15692.92889433575"
      ]
     },
     "execution_count": 15,
     "metadata": {},
     "output_type": "execute_result"
    }
   ],
   "source": [
    "# Future Value\n",
    "pyxirr.fv(0.05/12, 10*12, -100, -100)"
   ]
  },
  {
   "cell_type": "code",
   "execution_count": 16,
   "id": "34b05685",
   "metadata": {},
   "outputs": [
    {
     "data": {
      "text/plain": [
       "15000.0"
      ]
     },
     "execution_count": 16,
     "metadata": {},
     "output_type": "execute_result"
    }
   ],
   "source": [
    "# Net Present Value\n",
    "pyxirr.npv(0, [-40_000, 5_000, 8_000, 12_000, 30_000])"
   ]
  },
  {
   "cell_type": "code",
   "execution_count": 17,
   "id": "1ff24945",
   "metadata": {},
   "outputs": [
    {
     "data": {
      "text/plain": [
       "0.2809484211599615"
      ]
     },
     "execution_count": 17,
     "metadata": {},
     "output_type": "execute_result"
    }
   ],
   "source": [
    "# IRR\n",
    "pyxirr.irr([-100, 39, 59, 55, 20])"
   ]
  },
  {
   "cell_type": "markdown",
   "id": "154c1ac7",
   "metadata": {},
   "source": [
    "# Numpy / Pandas"
   ]
  },
  {
   "cell_type": "code",
   "execution_count": 19,
   "id": "f9a7a35a",
   "metadata": {},
   "outputs": [],
   "source": [
    "import numpy as np\n",
    "import pandas as pd"
   ]
  },
  {
   "cell_type": "code",
   "execution_count": 20,
   "id": "970e7e55",
   "metadata": {},
   "outputs": [
    {
     "data": {
      "text/plain": [
       "0.1750092646154511"
      ]
     },
     "execution_count": 20,
     "metadata": {},
     "output_type": "execute_result"
    }
   ],
   "source": [
    "# feed numpy array\n",
    "xirr(np.array([dates, amounts]))"
   ]
  },
  {
   "cell_type": "code",
   "execution_count": 21,
   "id": "27f2a387",
   "metadata": {},
   "outputs": [
    {
     "data": {
      "text/plain": [
       "0.1750092646154511"
      ]
     },
     "execution_count": 21,
     "metadata": {},
     "output_type": "execute_result"
    }
   ],
   "source": [
    "xirr(np.array(dates), np.array(amounts))"
   ]
  },
  {
   "cell_type": "code",
   "execution_count": 22,
   "id": "316d8687",
   "metadata": {},
   "outputs": [
    {
     "data": {
      "text/plain": [
       "0.1750092646154511"
      ]
     },
     "execution_count": 22,
     "metadata": {},
     "output_type": "execute_result"
    }
   ],
   "source": [
    "# feed DataFrame (columns names doesn't matter; ordering matters)\n",
    "xirr(pd.DataFrame({\"a\": dates, \"b\": amounts}))"
   ]
  },
  {
   "cell_type": "code",
   "execution_count": 23,
   "id": "c283b7c4",
   "metadata": {},
   "outputs": [
    {
     "data": {
      "text/plain": [
       "0.1750092646154511"
      ]
     },
     "execution_count": 23,
     "metadata": {},
     "output_type": "execute_result"
    }
   ],
   "source": [
    "# feed Series with DatetimeIndex\n",
    "xirr(pd.Series(amounts, index=pd.to_datetime(dates)))"
   ]
  },
  {
   "cell_type": "code",
   "execution_count": 25,
   "id": "e19c25b6",
   "metadata": {},
   "outputs": [
    {
     "data": {
      "text/html": [
       "<div>\n",
       "<style scoped>\n",
       "    .dataframe tbody tr th:only-of-type {\n",
       "        vertical-align: middle;\n",
       "    }\n",
       "\n",
       "    .dataframe tbody tr th {\n",
       "        vertical-align: top;\n",
       "    }\n",
       "\n",
       "    .dataframe thead th {\n",
       "        text-align: right;\n",
       "    }\n",
       "</style>\n",
       "<table border=\"1\" class=\"dataframe\">\n",
       "  <thead>\n",
       "    <tr style=\"text-align: right;\">\n",
       "      <th></th>\n",
       "      <th>one</th>\n",
       "      <th>two</th>\n",
       "    </tr>\n",
       "  </thead>\n",
       "  <tbody>\n",
       "    <tr>\n",
       "      <th>2021-01-01</th>\n",
       "      <td>-100</td>\n",
       "      <td>-80</td>\n",
       "    </tr>\n",
       "    <tr>\n",
       "      <th>2021-02-01</th>\n",
       "      <td>20</td>\n",
       "      <td>19</td>\n",
       "    </tr>\n",
       "    <tr>\n",
       "      <th>2021-03-01</th>\n",
       "      <td>20</td>\n",
       "      <td>19</td>\n",
       "    </tr>\n",
       "    <tr>\n",
       "      <th>2021-04-01</th>\n",
       "      <td>20</td>\n",
       "      <td>19</td>\n",
       "    </tr>\n",
       "    <tr>\n",
       "      <th>2021-05-01</th>\n",
       "      <td>20</td>\n",
       "      <td>19</td>\n",
       "    </tr>\n",
       "    <tr>\n",
       "      <th>2021-06-01</th>\n",
       "      <td>20</td>\n",
       "      <td>19</td>\n",
       "    </tr>\n",
       "    <tr>\n",
       "      <th>2021-07-01</th>\n",
       "      <td>20</td>\n",
       "      <td>19</td>\n",
       "    </tr>\n",
       "    <tr>\n",
       "      <th>2021-08-01</th>\n",
       "      <td>20</td>\n",
       "      <td>19</td>\n",
       "    </tr>\n",
       "    <tr>\n",
       "      <th>2021-09-01</th>\n",
       "      <td>20</td>\n",
       "      <td>19</td>\n",
       "    </tr>\n",
       "    <tr>\n",
       "      <th>2021-10-01</th>\n",
       "      <td>20</td>\n",
       "      <td>19</td>\n",
       "    </tr>\n",
       "    <tr>\n",
       "      <th>2021-11-01</th>\n",
       "      <td>20</td>\n",
       "      <td>19</td>\n",
       "    </tr>\n",
       "    <tr>\n",
       "      <th>2021-12-01</th>\n",
       "      <td>20</td>\n",
       "      <td>19</td>\n",
       "    </tr>\n",
       "  </tbody>\n",
       "</table>\n",
       "</div>"
      ],
      "text/plain": [
       "            one  two\n",
       "2021-01-01 -100  -80\n",
       "2021-02-01   20   19\n",
       "2021-03-01   20   19\n",
       "2021-04-01   20   19\n",
       "2021-05-01   20   19\n",
       "2021-06-01   20   19\n",
       "2021-07-01   20   19\n",
       "2021-08-01   20   19\n",
       "2021-09-01   20   19\n",
       "2021-10-01   20   19\n",
       "2021-11-01   20   19\n",
       "2021-12-01   20   19"
      ]
     },
     "execution_count": 25,
     "metadata": {},
     "output_type": "execute_result"
    }
   ],
   "source": [
    "# bonus: apply xirr to a DataFrame with DatetimeIndex:\n",
    "df = pd.DataFrame(   index=pd.date_range(\"2021\", \"2022\", freq=\"MS\", inclusive=\"left\"),\n",
    "    data={ \"one\": [-100] + [20] * 11,  \"two\": [-80] + [19] * 11, },)\n",
    "df"
   ]
  },
  {
   "cell_type": "code",
   "execution_count": 26,
   "id": "b9bd8f62",
   "metadata": {},
   "outputs": [
    {
     "data": {
      "text/plain": [
       "one    5.096235\n",
       "two    8.780802\n",
       "dtype: float64"
      ]
     },
     "execution_count": 26,
     "metadata": {},
     "output_type": "execute_result"
    }
   ],
   "source": [
    "df.apply(xirr)  # Series(index=[\"one\", \"two\"], data=[5.09623547168478, 8.780801977141174])"
   ]
  },
  {
   "cell_type": "markdown",
   "id": "02b1f649",
   "metadata": {},
   "source": [
    "## Links\n",
    "-  https://ryanwingate.com/other-interests/business/calculate_irr/\n",
    "-  https://www.codingfinance.com/"
   ]
  },
  {
   "cell_type": "code",
   "execution_count": null,
   "id": "97046c09",
   "metadata": {},
   "outputs": [],
   "source": []
  }
 ],
 "metadata": {
  "kernelspec": {
   "display_name": "Python 3 (ipykernel)",
   "language": "python",
   "name": "python3"
  },
  "language_info": {
   "codemirror_mode": {
    "name": "ipython",
    "version": 3
   },
   "file_extension": ".py",
   "mimetype": "text/x-python",
   "name": "python",
   "nbconvert_exporter": "python",
   "pygments_lexer": "ipython3",
   "version": "3.10.9"
  }
 },
 "nbformat": 4,
 "nbformat_minor": 5
}
