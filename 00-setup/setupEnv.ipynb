{
 "cells": [
  {
   "cell_type": "markdown",
   "id": "68da20ae",
   "metadata": {},
   "source": [
    "# How to Setup Python Environment from Anaconda Framework"
   ]
  },
  {
   "cell_type": "markdown",
   "id": "c554afbe",
   "metadata": {},
   "source": [
    "## Desktop/ Laptop configuration\n",
    "Create folders in C or D or E  (or mac - under user documents)\n",
    "E:\\analytics   : root folder of analytics\n",
    "E:\\analytics\\projects  : folder for cloning repositories\n",
    "E:\\analytics\\download  : folder for downloading setup files\n",
    "E:\\analytics\\ebooks  : folder to storing ebooks\n",
    "E:\\analytics\\data  : folder for datasets\n",
    "(all small cases, no spaces in between)"
   ]
  },
  {
   "cell_type": "markdown",
   "id": "ff071e5b",
   "metadata": {},
   "source": [
    "### Other Settings\n",
    "See that you have one browser as default where you are saving your login and passwords\n",
    "Preferably use Google Chrome\n",
    "You can also set download setting of chrome/ browser to ask you where to store the files to be downloaded\n",
    "Also you also use browser bookmark to note the urls which you will accessing during the course of learning"
   ]
  },
  {
   "cell_type": "markdown",
   "id": "1908daaa",
   "metadata": {},
   "source": [
    "## Download setup files"
   ]
  },
  {
   "cell_type": "markdown",
   "id": "4c615902",
   "metadata": {},
   "source": [
    "### Anaconda framework\n",
    "https://www.anaconda.com/products/distribution#download-section"
   ]
  },
  {
   "cell_type": "markdown",
   "id": "4541666a",
   "metadata": {},
   "source": [
    "### Git Bash\n",
    "https://git-scm.com/download/win\n",
    "Choose latest version of 64 bit version of your your OS. Mac generally has Git installed (check from command prompt)"
   ]
  },
  {
   "cell_type": "markdown",
   "id": "86eaf735",
   "metadata": {},
   "source": [
    "### Git Desktop\n",
    "https://desktop.github.com/\n",
    "Choose the latest version depending upon your OS"
   ]
  },
  {
   "cell_type": "markdown",
   "id": "b9f5d5ad",
   "metadata": {},
   "source": [
    "### Java\n",
    "https://www.java.com/en/download/"
   ]
  },
  {
   "cell_type": "markdown",
   "id": "40008b32",
   "metadata": {},
   "source": [
    "#===================================="
   ]
  },
  {
   "cell_type": "markdown",
   "id": "56820665",
   "metadata": {},
   "source": [
    "## Setup your environment"
   ]
  },
  {
   "cell_type": "markdown",
   "id": "2f92397f",
   "metadata": {},
   "source": [
    "### Create Git Profile\n",
    "https://github.com/\n",
    "Sign Up and verify your email id and phone. Preferably use personal ID"
   ]
  },
  {
   "cell_type": "markdown",
   "id": "bd2b0044",
   "metadata": {},
   "source": [
    "### Follow trainer profile\n",
    "https://github.com/dupadhyaya\n",
    "Select follow from left hand side tab (below profile photo)"
   ]
  },
  {
   "cell_type": "markdown",
   "id": "79953786",
   "metadata": {},
   "source": [
    "### Star the repository\n",
    "#python - Spyder IDE based\n",
    "https://github.com/DUanalytics/pyAnalytics\n",
    "#python - Jupyter IDE based\n",
    "https://github.com/DUanalytics/pyJupyter\n",
    "Click on the above links, right side of the screen, click on star"
   ]
  },
  {
   "cell_type": "markdown",
   "id": "cd821d7c",
   "metadata": {},
   "source": [
    "### Create black repository\n",
    "https://github.com/new\n",
    "give a name eg. pyAnalytics   (all small case, no spaces)"
   ]
  },
  {
   "cell_type": "markdown",
   "id": "66bad540",
   "metadata": {},
   "source": [
    "#------------------"
   ]
  },
  {
   "cell_type": "markdown",
   "id": "2e42890f",
   "metadata": {},
   "source": [
    "## Installing setup files\n",
    "All files to be installed as Administrator; Go to download folder ; Right Click Mouse and select : Install as Administrator\n",
    "\n",
    "### 1st install anaconda\n",
    "Anaconda3-xxxxxxxxxx  (~ 600 MB)\n",
    "### 2nd install git\n",
    "Git-xxxxxxx (~ 48 MB)\n",
    "### 3rd install java\n",
    "jre-xxxxxxx (~ 85 MB)\n",
    "### 4th install GitHubDesktop\n",
    "GitHubDesktopSetup-xxxx  (~ 120 MB)"
   ]
  },
  {
   "cell_type": "markdown",
   "id": "ac453329",
   "metadata": {},
   "source": [
    "## Configuring GitHub Desktop\n",
    "During installation of GitHubDesktop, the app will ask for signing in to Git Account which can be done through browser\n",
    "On successful login, you will be able to see the repositories under your login id\n",
    "Select the repository pyAnalytics ; click on clone ; Next ; Github Tab\n",
    "Select the folder this repository to be cloned to E:/analytics/projects\n",
    "A folder will get created in the folder projects of E:/analytics"
   ]
  },
  {
   "cell_type": "markdown",
   "id": "a076fbac",
   "metadata": {},
   "source": [
    "### Configuring Spyder\n",
    "Open the Spyder app (once anaconda is installed) ; it takes 2 min to start first time\n",
    "Top Menu - Projects - New Project - Existing Repository\n",
    "Select existing folder E:/analytics/projects/pyAnalytics\n",
    "Now spyder will use the repository as spyder projects"
   ]
  },
  {
   "cell_type": "markdown",
   "id": "6ccfc698",
   "metadata": {},
   "source": [
    "### Configuring Git + Spyder\n",
    "Create a blank Python file; type few commands and save the file under the repository pyAnalytics\n",
    "Select the file from Files Tab(Spyder) ; Right Click on the file -> Click on Commit\n",
    "A git app Tab will open\n",
    "select the files on top left -> click on stage changed -> Type any short message on commit message box -> click on commit\n",
    "Now click on push -> another tab will open - > click on push again \n",
    "First time it will verify the account with the browser -> Autenticate and Allow \n",
    "Now the files in local repository will be pushed to you cloud repository\n",
    "The files can be seen on going to online git profile"
   ]
  },
  {
   "cell_type": "markdown",
   "id": "0ee3ec95",
   "metadata": {},
   "source": [
    "# End of Setup - Start coding for data analysis in python"
   ]
  }
 ],
 "metadata": {
  "kernelspec": {
   "display_name": "Python 3 (ipykernel)",
   "language": "python",
   "name": "python3"
  },
  "language_info": {
   "codemirror_mode": {
    "name": "ipython",
    "version": 3
   },
   "file_extension": ".py",
   "mimetype": "text/x-python",
   "name": "python",
   "nbconvert_exporter": "python",
   "pygments_lexer": "ipython3",
   "version": "3.9.15"
  }
 },
 "nbformat": 4,
 "nbformat_minor": 5
}
