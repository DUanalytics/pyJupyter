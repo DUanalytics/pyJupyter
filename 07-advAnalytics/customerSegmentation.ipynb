{
 "cells": [
  {
   "cell_type": "markdown",
   "id": "84b2d890",
   "metadata": {},
   "source": [
    "# Customer Segmentation\n",
    "Customer segmentation models are often used for dividing a company’s clients into different user groups. Customers in each group display shared characteristics that distinguish them from other users.\n",
    "https://365datascience.com/tutorials/python-tutorials/build-customer-segmentation-models/\n",
    "https://docs.google.com/spreadsheets/d/18TBSlm0Sfxuqk-ccMAt2Vn1N3KFzTyPyDTxp8qT_h7w/edit#gid=0\n"
   ]
  }
 ],
 "metadata": {
  "kernelspec": {
   "display_name": "Python 3 (ipykernel)",
   "language": "python",
   "name": "python3"
  },
  "language_info": {
   "codemirror_mode": {
    "name": "ipython",
    "version": 3
   },
   "file_extension": ".py",
   "mimetype": "text/x-python",
   "name": "python",
   "nbconvert_exporter": "python",
   "pygments_lexer": "ipython3",
   "version": "3.9.12"
  }
 },
 "nbformat": 4,
 "nbformat_minor": 5
}
