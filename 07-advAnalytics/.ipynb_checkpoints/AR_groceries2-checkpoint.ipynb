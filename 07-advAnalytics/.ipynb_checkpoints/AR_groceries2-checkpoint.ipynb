{
 "cells": [
  {
   "cell_type": "code",
   "execution_count": null,
   "id": "b3e0b061",
   "metadata": {},
   "outputs": [],
   "source": [
    "AR Groceries 2"
   ]
  },
  {
   "cell_type": "code",
   "execution_count": null,
   "id": "ccdd5d77",
   "metadata": {},
   "outputs": [],
   "source": [
    "# Libraries"
   ]
  },
  {
   "cell_type": "code",
   "execution_count": 3,
   "id": "6adf6c9e",
   "metadata": {},
   "outputs": [],
   "source": [
    "from efficient_apriori import apriori"
   ]
  },
  {
   "cell_type": "code",
   "execution_count": 13,
   "id": "66130e11",
   "metadata": {},
   "outputs": [
    {
     "name": "stdout",
     "output_type": "stream",
     "text": [
      "Help on function apriori in module efficient_apriori.apriori:\n",
      "\n",
      "apriori(transactions: Iterable[Union[set, tuple, list]], min_support: float = 0.5, min_confidence: float = 0.5, max_length: int = 8, verbosity: int = 0, output_transaction_ids: bool = False)\n",
      "    The classic apriori algorithm as described in 1994 by Agrawal et al.\n",
      "    \n",
      "    The Apriori algorithm works in two phases. Phase 1 iterates over the\n",
      "    transactions several times to build up itemsets of the desired support\n",
      "    level. Phase 2 builds association rules of the desired confidence given the\n",
      "    itemsets found in Phase 1. Both of these phases may be correctly\n",
      "    implemented by exhausting the search space, i.e. generating every possible\n",
      "    itemset and checking it's support. The Apriori prunes the search space\n",
      "    efficiently by deciding apriori if an itemset possibly has the desired\n",
      "    support, before iterating over the entire dataset and checking.\n",
      "    \n",
      "    Parameters\n",
      "    ----------\n",
      "    transactions : list of transactions (sets/tuples/lists). Each element in\n",
      "        the transactions must be hashable.\n",
      "    min_support : float\n",
      "        The minimum support of the rules returned. The support is frequency of\n",
      "        which the items in the rule appear together in the data set.\n",
      "    min_confidence : float\n",
      "        The minimum confidence of the rules returned. Given a rule X -> Y, the\n",
      "        confidence is the probability of Y, given X, i.e. P(Y|X) = conf(X -> Y)\n",
      "    max_length : int\n",
      "        The maximum length of the itemsets and the rules.\n",
      "    verbosity : int\n",
      "        The level of detail printing when the algorithm runs. Either 0, 1 or 2.\n",
      "    output_transaction_ids : bool\n",
      "        If set to true, the output contains the ids of transactions that\n",
      "        contain a frequent itemset. The ids are the enumeration of the\n",
      "        transactions in the sequence they appear.\n",
      "    Examples\n",
      "    --------\n",
      "    >>> transactions = [('a', 'b', 'c'), ('a', 'b', 'd'), ('f', 'b', 'g')]\n",
      "    >>> itemsets, rules = apriori(transactions, min_confidence=1)\n",
      "    >>> rules\n",
      "    [{a} -> {b}]\n",
      "\n"
     ]
    }
   ],
   "source": [
    "help(apriori)"
   ]
  },
  {
   "cell_type": "code",
   "execution_count": 1,
   "id": "833ae599",
   "metadata": {},
   "outputs": [
    {
     "data": {
      "text/plain": [
       "[('eggs', 'bacon', 'soup'),\n",
       " ('eggs', 'bacon', 'apple'),\n",
       " ('soup', 'bacon', 'banana')]"
      ]
     },
     "execution_count": 1,
     "metadata": {},
     "output_type": "execute_result"
    }
   ],
   "source": [
    "transactions = [('eggs', 'bacon', 'soup'),   \n",
    "                ('eggs', 'bacon', 'apple'), \n",
    "                ('soup', 'bacon', 'banana')]\n",
    "transactions"
   ]
  },
  {
   "cell_type": "code",
   "execution_count": 4,
   "id": "841a8630",
   "metadata": {},
   "outputs": [
    {
     "name": "stdout",
     "output_type": "stream",
     "text": [
      "[{eggs} -> {bacon}, {soup} -> {bacon}]\n"
     ]
    }
   ],
   "source": [
    "itemsets, rules = apriori(transactions, min_support=0.5, min_confidence=1)\n",
    "print(rules)  # [{eggs} -> {bacon}, {soup} -> {bacon}]"
   ]
  },
  {
   "cell_type": "code",
   "execution_count": 7,
   "id": "c408ef82",
   "metadata": {},
   "outputs": [
    {
     "name": "stdout",
     "output_type": "stream",
     "text": [
      "{1: {('eggs',): 2, ('bacon',): 3, ('soup',): 2, ('apple',): 1, ('banana',): 1}, 2: {('apple', 'bacon'): 1, ('apple', 'eggs'): 1, ('bacon', 'banana'): 1, ('bacon', 'eggs'): 2, ('bacon', 'soup'): 2, ('banana', 'soup'): 1, ('eggs', 'soup'): 1}, 3: {('apple', 'bacon', 'eggs'): 1, ('bacon', 'banana', 'soup'): 1, ('bacon', 'eggs', 'soup'): 1}}\n",
      "\n",
      "\n",
      "[{apple} -> {bacon}, {apple} -> {eggs}, {banana} -> {bacon}, {eggs} -> {bacon}, {soup} -> {bacon}, {banana} -> {soup}, {apple, eggs} -> {bacon}, {apple, bacon} -> {eggs}, {apple} -> {bacon, eggs}, {banana, soup} -> {bacon}, {bacon, banana} -> {soup}, {banana} -> {bacon, soup}, {eggs, soup} -> {bacon}]\n",
      "{apple} -> {bacon} (conf: 1.000, supp: 0.333, lift: 1.000, conv: 0.000)\n"
     ]
    }
   ],
   "source": [
    "itemsets, rules = apriori(transactions, min_support=0.2, min_confidence=1)\n",
    "print(itemsets)\n",
    "print('\\n')\n",
    "print(rules)\n",
    "print(rules[0])"
   ]
  },
  {
   "cell_type": "code",
   "execution_count": 8,
   "id": "a78afddd",
   "metadata": {},
   "outputs": [
    {
     "name": "stdout",
     "output_type": "stream",
     "text": [
      "{apple, eggs} -> {bacon} (conf: 1.000, supp: 0.333, lift: 1.000, conv: 0.000)\n",
      "{banana, soup} -> {bacon} (conf: 1.000, supp: 0.333, lift: 1.000, conv: 0.000)\n",
      "{eggs, soup} -> {bacon} (conf: 1.000, supp: 0.333, lift: 1.000, conv: 0.000)\n",
      "{apple, bacon} -> {eggs} (conf: 1.000, supp: 0.333, lift: 1.500, conv: 333333333.333)\n",
      "{bacon, banana} -> {soup} (conf: 1.000, supp: 0.333, lift: 1.500, conv: 333333333.333)\n"
     ]
    }
   ],
   "source": [
    "# Print out every rule with 2 items on the left hand side,\n",
    "# 1 item on the right hand side, sorted by lift\n",
    "rules_rhs = filter(lambda rule: len(rule.lhs) == 2 and len(rule.rhs) == 1, rules)\n",
    "for rule in sorted(rules_rhs, key=lambda rule: rule.lift):\n",
    "  print(rule)  # Prints the rule and its confidence, support, lift, ..."
   ]
  },
  {
   "cell_type": "code",
   "execution_count": 9,
   "id": "96b23e70",
   "metadata": {},
   "outputs": [
    {
     "name": "stdout",
     "output_type": "stream",
     "text": [
      "{1: {('eggs',): ItemsetCount(itemset_count=2, members={0, 1}), ('bacon',): ItemsetCount(itemset_count=3, members={0, 1, 2}), ('soup',): ItemsetCount(itemset_count=2, members={0, 2})}, 2: {('bacon', 'eggs'): ItemsetCount(itemset_count=2, members={0, 1}), ('bacon', 'soup'): ItemsetCount(itemset_count=2, members={0, 2})}}\n"
     ]
    }
   ],
   "source": [
    "#case 2B\n",
    "itemsets, rules = apriori(transactions, output_transaction_ids=True)\n",
    "print(itemsets)"
   ]
  },
  {
   "cell_type": "code",
   "execution_count": 12,
   "id": "683f1619",
   "metadata": {},
   "outputs": [
    {
     "name": "stdout",
     "output_type": "stream",
     "text": [
      "{1: {('eggs',): 2, ('bacon',): 3, ('soup',): 2, ('apple',): 1, ('banana',): 1}, 2: {('apple', 'bacon'): 1, ('apple', 'eggs'): 1, ('bacon', 'banana'): 1, ('bacon', 'eggs'): 2, ('bacon', 'soup'): 2, ('banana', 'soup'): 1, ('eggs', 'soup'): 1}, 3: {('apple', 'bacon', 'eggs'): 1, ('bacon', 'banana', 'soup'): 1, ('bacon', 'eggs', 'soup'): 1}}\n",
      "\n",
      "\n",
      "[{bacon} -> {apple}, {apple} -> {bacon}, {eggs} -> {apple}, {apple} -> {eggs}, {banana} -> {bacon}, {bacon} -> {banana}, {eggs} -> {bacon}, {bacon} -> {eggs}, {soup} -> {bacon}, {bacon} -> {soup}, {soup} -> {banana}, {banana} -> {soup}, {soup} -> {eggs}, {eggs} -> {soup}, {bacon, eggs} -> {apple}, {apple, eggs} -> {bacon}, {apple, bacon} -> {eggs}, {eggs} -> {apple, bacon}, {bacon} -> {apple, eggs}, {apple} -> {bacon, eggs}, {banana, soup} -> {bacon}, {bacon, soup} -> {banana}, {bacon, banana} -> {soup}, {soup} -> {bacon, banana}, {banana} -> {bacon, soup}, {bacon} -> {banana, soup}, {eggs, soup} -> {bacon}, {bacon, soup} -> {eggs}, {bacon, eggs} -> {soup}, {soup} -> {bacon, eggs}, {eggs} -> {bacon, soup}, {bacon} -> {eggs, soup}]\n",
      "\n",
      "\n",
      "{bacon} -> {apple} (conf: 0.333, supp: 0.333, lift: 1.000, conv: 1.000)\n"
     ]
    }
   ],
   "source": [
    "itemsets2, rules2 = apriori(transactions, min_support=0.2, min_confidence = .3)\n",
    "print(itemsets2)\n",
    "print('\\n')\n",
    "print(rules2)\n",
    "print('\\n')\n",
    "print(rules2[0])"
   ]
  },
  {
   "cell_type": "code",
   "execution_count": 15,
   "id": "c2610c3c",
   "metadata": {},
   "outputs": [
    {
     "name": "stdout",
     "output_type": "stream",
     "text": [
      "<filter object at 0x000001EAC7971E80>\n"
     ]
    }
   ],
   "source": [
    "# Print out every rule with 1 items on the left hand side,1 item on the right hand side, sorted by lift\n",
    "rules_rhs = filter(lambda rule: len(rule.lhs) == 1 and len(rule.rhs) == 1, rules2)\n",
    "print(rules_rhs)"
   ]
  },
  {
   "cell_type": "code",
   "execution_count": 16,
   "id": "22c6254d",
   "metadata": {},
   "outputs": [
    {
     "name": "stdout",
     "output_type": "stream",
     "text": [
      "{soup} -> {eggs} (conf: 0.500, supp: 0.333, lift: 0.750, conv: 0.667)\n",
      "{eggs} -> {soup} (conf: 0.500, supp: 0.333, lift: 0.750, conv: 0.667)\n",
      "{bacon} -> {apple} (conf: 0.333, supp: 0.333, lift: 1.000, conv: 1.000)\n",
      "{apple} -> {bacon} (conf: 1.000, supp: 0.333, lift: 1.000, conv: 0.000)\n",
      "{banana} -> {bacon} (conf: 1.000, supp: 0.333, lift: 1.000, conv: 0.000)\n",
      "{bacon} -> {banana} (conf: 0.333, supp: 0.333, lift: 1.000, conv: 1.000)\n",
      "{eggs} -> {bacon} (conf: 1.000, supp: 0.667, lift: 1.000, conv: 0.000)\n",
      "{bacon} -> {eggs} (conf: 0.667, supp: 0.667, lift: 1.000, conv: 1.000)\n",
      "{soup} -> {bacon} (conf: 1.000, supp: 0.667, lift: 1.000, conv: 0.000)\n",
      "{bacon} -> {soup} (conf: 0.667, supp: 0.667, lift: 1.000, conv: 1.000)\n",
      "{eggs} -> {apple} (conf: 0.500, supp: 0.333, lift: 1.500, conv: 1.333)\n",
      "{apple} -> {eggs} (conf: 1.000, supp: 0.333, lift: 1.500, conv: 333333333.333)\n",
      "{soup} -> {banana} (conf: 0.500, supp: 0.333, lift: 1.500, conv: 1.333)\n",
      "{banana} -> {soup} (conf: 1.000, supp: 0.333, lift: 1.500, conv: 333333333.333)\n"
     ]
    }
   ],
   "source": [
    "for rule in sorted(rules_rhs, key=lambda rule: rule.lift):  print(rule) \n",
    "# Prints the rule and its confidence, support, lift, ...\n",
    "# Print out every rule with 2 items on the left hand side,"
   ]
  },
  {
   "cell_type": "code",
   "execution_count": null,
   "id": "56cb7831",
   "metadata": {},
   "outputs": [],
   "source": []
  }
 ],
 "metadata": {
  "kernelspec": {
   "display_name": "Python 3 (ipykernel)",
   "language": "python",
   "name": "python3"
  },
  "language_info": {
   "codemirror_mode": {
    "name": "ipython",
    "version": 3
   },
   "file_extension": ".py",
   "mimetype": "text/x-python",
   "name": "python",
   "nbconvert_exporter": "python",
   "pygments_lexer": "ipython3",
   "version": "3.9.13"
  }
 },
 "nbformat": 4,
 "nbformat_minor": 5
}
