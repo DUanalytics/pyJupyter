{
 "cells": [
  {
   "cell_type": "markdown",
   "id": "84b2d890",
   "metadata": {},
   "source": [
    "# Customer Segmentation\n",
    "Customer segmentation models are often used for dividing a company’s clients into different user groups. Customers in each group display shared characteristics that distinguish them from other users.\n",
    "\n",
    "https://365datascience.com/tutorials/python-tutorials/build-customer-segmentation-models/\n",
    "https://docs.google.com/spreadsheets/d/18TBSlm0Sfxuqk-ccMAt2Vn1N3KFzTyPyDTxp8qT_h7w/edit#gid=0\n",
    "\n",
    "Customer segmentation models are often used for dividing a company’s clients into different user groups. Customers in each group display shared characteristics that distinguish them from other users. Here is a simple example of how companies use data segmentation to drive sales. It contains transaction information from around 4,000 customers.\n",
    "\n",
    "Every time we visit an e-commerce site, we look for items that are on sale to add to my cart. If we want to buy an item of clothing and it isn’t currently on sale, we wait until we see a special offer before making a purchase.\n",
    "\n",
    "Data scientists at e-commerce companies often build customer segmentation models to identify shared traits amongst their customers. After building such a model, they notice that there are a handful of customers like me who always wait for a special offer before making purchases.\n",
    "\n",
    "They classify us into a segment called “thrifty shoppers.”\n",
    "\n",
    "Every time a new promotion is released, the company’s marketing team sends me and every other “thrifty shopper” a curated advertisement highlighting product affordability.\n",
    "\n",
    "Whenever I get notified of a special discount, I rush to purchase all the items I require before the promotion ends, which increases the company’s sales.\n",
    "\n",
    "Similarly, all the platform’s customers are grouped into different segments and sent targeted promotions based on their purchase behavior.\n",
    "\n",
    "The example above demonstrates how customer segmentation models add value to organizations.\n",
    "\n",
    "Data scientists usually build customer segmentation models using unsupervised machine learning algorithms such as K-Means clustering or hierarchical clustering. These models can pick up on similarities between user groups that often go unnoticed by the human eye.\n",
    "\n",
    "In this article, I will show you how to build a data segmentation model in Python. You will learn to prepare data for customer segmentation and to build a K-Means algorithm from scratch. We will also look at how RFM is used in marketing to analyze customer value and explore other metrics for evaluating the performance of a clustering algorithm. Finally, we’ll answer the question of how to visualize and interpret clusters for customer segmentation.\n",
    "\n",
    "We will build a data segmentation model in Python. You will learn to prepare data for customer segmentation and to build a K-Means algorithm from scratch. We will also look at how RFM is used in marketing to analyze customer value and explore other metrics for evaluating the performance of a clustering algorithm.\n",
    "Finally, we’ll answer the question of how to visualize and interpret clusters for customer segmentation."
   ]
  },
  {
   "cell_type": "markdown",
   "id": "29c920ce",
   "metadata": {},
   "source": [
    "## Step 1: Prerequisites for Building a Customer Segmentation Model"
   ]
  },
  {
   "cell_type": "code",
   "execution_count": 3,
   "id": "d0d6be7e",
   "metadata": {},
   "outputs": [],
   "source": [
    "# Libraries\n",
    "import numpy as np\n",
    "import pandas as pd\n",
    "import matplotlib.pyplot as plt\n",
    "import seaborn as sns\n",
    "# Other Libraries\n"
   ]
  },
  {
   "cell_type": "code",
   "execution_count": 9,
   "id": "8478a46d",
   "metadata": {},
   "outputs": [
    {
     "name": "stdout",
     "output_type": "stream",
     "text": [
      "https://docs.google.com/spreadsheets/d/18TBSlm0Sfxuqk-ccMAt2Vn1N3KFzTyPyDTxp8qT_h7w/gviz/tq?tqx=out:csv&sheet=rfmCustomers\n"
     ]
    }
   ],
   "source": [
    "# Data\n",
    "sheet_id = '18TBSlm0Sfxuqk-ccMAt2Vn1N3KFzTyPyDTxp8qT_h7w'\n",
    "sheet_name = 'rfmCustomers'\n",
    "url1 = f\"https://docs.google.com/spreadsheets/d/{sheet_id}/gviz/tq?tqx=out:csv&sheet={sheet_name}\"\n",
    "print(url1)\n",
    "df = pd.read_csv(url1, encoding='unicode_escape')\n",
    "df.shape\n",
    "df2 = df.copy()  # make a copy in case required later"
   ]
  },
  {
   "cell_type": "code",
   "execution_count": 34,
   "id": "88160777",
   "metadata": {},
   "outputs": [],
   "source": [
    "#df = df2.copy()"
   ]
  },
  {
   "cell_type": "markdown",
   "id": "fe5944e0",
   "metadata": {},
   "source": [
    "## Step 2: Understand the Segmentation Data"
   ]
  },
  {
   "cell_type": "code",
   "execution_count": 35,
   "id": "27db53a2",
   "metadata": {},
   "outputs": [
    {
     "data": {
      "text/html": [
       "<div>\n",
       "<style scoped>\n",
       "    .dataframe tbody tr th:only-of-type {\n",
       "        vertical-align: middle;\n",
       "    }\n",
       "\n",
       "    .dataframe tbody tr th {\n",
       "        vertical-align: top;\n",
       "    }\n",
       "\n",
       "    .dataframe thead th {\n",
       "        text-align: right;\n",
       "    }\n",
       "</style>\n",
       "<table border=\"1\" class=\"dataframe\">\n",
       "  <thead>\n",
       "    <tr style=\"text-align: right;\">\n",
       "      <th></th>\n",
       "      <th>InvoiceNo</th>\n",
       "      <th>StockCode</th>\n",
       "      <th>Description</th>\n",
       "      <th>Quantity</th>\n",
       "      <th>InvoiceDate</th>\n",
       "      <th>UnitPrice</th>\n",
       "      <th>CustomerID</th>\n",
       "      <th>Country</th>\n",
       "    </tr>\n",
       "  </thead>\n",
       "  <tbody>\n",
       "    <tr>\n",
       "      <th>0</th>\n",
       "      <td>536365.0</td>\n",
       "      <td>NaN</td>\n",
       "      <td>WHITE HANGING HEART T-LIGHT HOLDER</td>\n",
       "      <td>6</td>\n",
       "      <td>12/1/2010 08:26</td>\n",
       "      <td>2.55</td>\n",
       "      <td>17850.0</td>\n",
       "      <td>United Kingdom</td>\n",
       "    </tr>\n",
       "    <tr>\n",
       "      <th>1</th>\n",
       "      <td>536365.0</td>\n",
       "      <td>71053.0</td>\n",
       "      <td>WHITE METAL LANTERN</td>\n",
       "      <td>6</td>\n",
       "      <td>12/1/2010 08:26</td>\n",
       "      <td>3.39</td>\n",
       "      <td>17850.0</td>\n",
       "      <td>United Kingdom</td>\n",
       "    </tr>\n",
       "    <tr>\n",
       "      <th>2</th>\n",
       "      <td>536365.0</td>\n",
       "      <td>NaN</td>\n",
       "      <td>CREAM CUPID HEARTS COAT HANGER</td>\n",
       "      <td>8</td>\n",
       "      <td>12/1/2010 08:26</td>\n",
       "      <td>2.75</td>\n",
       "      <td>17850.0</td>\n",
       "      <td>United Kingdom</td>\n",
       "    </tr>\n",
       "    <tr>\n",
       "      <th>3</th>\n",
       "      <td>536365.0</td>\n",
       "      <td>NaN</td>\n",
       "      <td>KNITTED UNION FLAG HOT WATER BOTTLE</td>\n",
       "      <td>6</td>\n",
       "      <td>12/1/2010 08:26</td>\n",
       "      <td>3.39</td>\n",
       "      <td>17850.0</td>\n",
       "      <td>United Kingdom</td>\n",
       "    </tr>\n",
       "    <tr>\n",
       "      <th>4</th>\n",
       "      <td>536365.0</td>\n",
       "      <td>NaN</td>\n",
       "      <td>RED WOOLLY HOTTIE WHITE HEART.</td>\n",
       "      <td>6</td>\n",
       "      <td>12/1/2010 08:26</td>\n",
       "      <td>3.39</td>\n",
       "      <td>17850.0</td>\n",
       "      <td>United Kingdom</td>\n",
       "    </tr>\n",
       "  </tbody>\n",
       "</table>\n",
       "</div>"
      ],
      "text/plain": [
       "   InvoiceNo  StockCode                          Description  Quantity  \\\n",
       "0   536365.0        NaN   WHITE HANGING HEART T-LIGHT HOLDER         6   \n",
       "1   536365.0    71053.0                  WHITE METAL LANTERN         6   \n",
       "2   536365.0        NaN       CREAM CUPID HEARTS COAT HANGER         8   \n",
       "3   536365.0        NaN  KNITTED UNION FLAG HOT WATER BOTTLE         6   \n",
       "4   536365.0        NaN       RED WOOLLY HOTTIE WHITE HEART.         6   \n",
       "\n",
       "       InvoiceDate  UnitPrice  CustomerID         Country  \n",
       "0  12/1/2010 08:26       2.55     17850.0  United Kingdom  \n",
       "1  12/1/2010 08:26       3.39     17850.0  United Kingdom  \n",
       "2  12/1/2010 08:26       2.75     17850.0  United Kingdom  \n",
       "3  12/1/2010 08:26       3.39     17850.0  United Kingdom  \n",
       "4  12/1/2010 08:26       3.39     17850.0  United Kingdom  "
      ]
     },
     "execution_count": 35,
     "metadata": {},
     "output_type": "execute_result"
    }
   ],
   "source": [
    "df.head()"
   ]
  },
  {
   "cell_type": "code",
   "execution_count": 36,
   "id": "fcc95c5b",
   "metadata": {},
   "outputs": [
    {
     "data": {
      "text/plain": [
       "Index(['InvoiceNo', 'StockCode', 'Description', 'Quantity', 'InvoiceDate',\n",
       "       'UnitPrice', 'CustomerID', 'Country'],\n",
       "      dtype='object')"
      ]
     },
     "execution_count": 36,
     "metadata": {},
     "output_type": "execute_result"
    }
   ],
   "source": [
    "df.columns"
   ]
  },
  {
   "cell_type": "markdown",
   "id": "61de44cb",
   "metadata": {},
   "source": [
    "InvoiceNo: The unique identifier of each customer invoice.\n",
    "StockCode: The unique identifier of each item in stock.\n",
    "Description: The item purchased by the customer.\n",
    "Quantity: The number of each item purchased by a customer in a single invoice.\n",
    "InvoiceDate: The purchase date.\n",
    "UnitPrice: Price of one unit of each item.\n",
    "CustomerID: Unique identifier assigned to each user.\n",
    "Country: The country from where the purchase was made.\n",
    "With the transaction data above, we need to build different customer segments based on each user’s purchase behavior."
   ]
  },
  {
   "cell_type": "markdown",
   "id": "406c34fa",
   "metadata": {},
   "source": [
    "## Step 3: Preprocessing Data for Segmentation"
   ]
  },
  {
   "cell_type": "markdown",
   "id": "72b71757",
   "metadata": {},
   "source": [
    "The informative features in this dataset that tell us about customer buying behavior include “Quantity”, “InvoiceDate” and “UnitPrice.” Using these variables, we are going to derive a customer’s RFM profile - Recency, Frequency, Monetary Value.\n",
    "RFM is commonly used in marketing to evaluate a client’s value based on their:\n",
    "- Recency: How recently have they made a purchase?\n",
    "- Frequency: How often have they bought something?\n",
    "-  Monetary Value: How much money do they spend on average when making purchases?\n",
    "With the variables in this e-commerce transaction dataset, we will calculate each customer’s recency, frequency, and monetary value. These RFM values will then be used to build the segmentation model."
   ]
  },
  {
   "cell_type": "code",
   "execution_count": 38,
   "id": "2b54c425",
   "metadata": {},
   "outputs": [
    {
     "data": {
      "text/plain": [
       "(541909, 8)"
      ]
     },
     "execution_count": 38,
     "metadata": {},
     "output_type": "execute_result"
    }
   ],
   "source": [
    "# Missing values\n",
    "df.isnull().sum()\n",
    "df.shape"
   ]
  },
  {
   "cell_type": "code",
   "execution_count": 40,
   "id": "01bf341b",
   "metadata": {},
   "outputs": [
    {
     "name": "stdout",
     "output_type": "stream",
     "text": [
      "InvoiceNo       4133\n",
      "StockCode      15334\n",
      "Description        0\n",
      "Quantity           0\n",
      "InvoiceDate        0\n",
      "UnitPrice          0\n",
      "CustomerID         0\n",
      "Country            0\n",
      "Date               0\n",
      "dtype: int64\n",
      "(172782, 9)\n"
     ]
    }
   ],
   "source": [
    "# Drop rows which have customer names missing : print('DataFrame after using the subset function:')\n",
    "df.dropna(subset=['CustomerID', 'InvoiceDate'], inplace=True)\n",
    "print(df.isnull().sum())\n",
    "print(df.shape)"
   ]
  },
  {
   "cell_type": "markdown",
   "id": "fcef19b9",
   "metadata": {},
   "source": [
    "### Recency\n",
    "To identify a customer’s recency, we need to pinpoint when each user was last seen making a purchase:\n",
    "we only kept rows with the most recent date for each customer. We now need to rank every customer based on what time they last bought something and assign a recency score to them.\n"
   ]
  },
  {
   "cell_type": "code",
   "execution_count": 46,
   "id": "8ca4bd12",
   "metadata": {},
   "outputs": [
    {
     "data": {
      "text/html": [
       "<div>\n",
       "<style scoped>\n",
       "    .dataframe tbody tr th:only-of-type {\n",
       "        vertical-align: middle;\n",
       "    }\n",
       "\n",
       "    .dataframe tbody tr th {\n",
       "        vertical-align: top;\n",
       "    }\n",
       "\n",
       "    .dataframe thead th {\n",
       "        text-align: right;\n",
       "    }\n",
       "</style>\n",
       "<table border=\"1\" class=\"dataframe\">\n",
       "  <thead>\n",
       "    <tr style=\"text-align: right;\">\n",
       "      <th></th>\n",
       "      <th>InvoiceNo</th>\n",
       "      <th>StockCode</th>\n",
       "      <th>Description</th>\n",
       "      <th>Quantity</th>\n",
       "      <th>InvoiceDate</th>\n",
       "      <th>UnitPrice</th>\n",
       "      <th>CustomerID</th>\n",
       "      <th>Country</th>\n",
       "      <th>Date</th>\n",
       "      <th>rank</th>\n",
       "    </tr>\n",
       "  </thead>\n",
       "  <tbody>\n",
       "    <tr>\n",
       "      <th>0</th>\n",
       "      <td>536365.0</td>\n",
       "      <td>NaN</td>\n",
       "      <td>WHITE HANGING HEART T-LIGHT HOLDER</td>\n",
       "      <td>6</td>\n",
       "      <td>12/1/2010 08:26</td>\n",
       "      <td>2.55</td>\n",
       "      <td>17850.0</td>\n",
       "      <td>United Kingdom</td>\n",
       "      <td>2010-12-01 08:26:00</td>\n",
       "      <td>1</td>\n",
       "    </tr>\n",
       "    <tr>\n",
       "      <th>1</th>\n",
       "      <td>536365.0</td>\n",
       "      <td>71053.0</td>\n",
       "      <td>WHITE METAL LANTERN</td>\n",
       "      <td>6</td>\n",
       "      <td>12/1/2010 08:26</td>\n",
       "      <td>3.39</td>\n",
       "      <td>17850.0</td>\n",
       "      <td>United Kingdom</td>\n",
       "      <td>2010-12-01 08:26:00</td>\n",
       "      <td>1</td>\n",
       "    </tr>\n",
       "    <tr>\n",
       "      <th>2</th>\n",
       "      <td>536365.0</td>\n",
       "      <td>NaN</td>\n",
       "      <td>CREAM CUPID HEARTS COAT HANGER</td>\n",
       "      <td>8</td>\n",
       "      <td>12/1/2010 08:26</td>\n",
       "      <td>2.75</td>\n",
       "      <td>17850.0</td>\n",
       "      <td>United Kingdom</td>\n",
       "      <td>2010-12-01 08:26:00</td>\n",
       "      <td>1</td>\n",
       "    </tr>\n",
       "    <tr>\n",
       "      <th>3</th>\n",
       "      <td>536365.0</td>\n",
       "      <td>NaN</td>\n",
       "      <td>KNITTED UNION FLAG HOT WATER BOTTLE</td>\n",
       "      <td>6</td>\n",
       "      <td>12/1/2010 08:26</td>\n",
       "      <td>3.39</td>\n",
       "      <td>17850.0</td>\n",
       "      <td>United Kingdom</td>\n",
       "      <td>2010-12-01 08:26:00</td>\n",
       "      <td>1</td>\n",
       "    </tr>\n",
       "    <tr>\n",
       "      <th>4</th>\n",
       "      <td>536365.0</td>\n",
       "      <td>NaN</td>\n",
       "      <td>RED WOOLLY HOTTIE WHITE HEART.</td>\n",
       "      <td>6</td>\n",
       "      <td>12/1/2010 08:26</td>\n",
       "      <td>3.39</td>\n",
       "      <td>17850.0</td>\n",
       "      <td>United Kingdom</td>\n",
       "      <td>2010-12-01 08:26:00</td>\n",
       "      <td>1</td>\n",
       "    </tr>\n",
       "  </tbody>\n",
       "</table>\n",
       "</div>"
      ],
      "text/plain": [
       "   InvoiceNo  StockCode                          Description  Quantity  \\\n",
       "0   536365.0        NaN   WHITE HANGING HEART T-LIGHT HOLDER         6   \n",
       "1   536365.0    71053.0                  WHITE METAL LANTERN         6   \n",
       "2   536365.0        NaN       CREAM CUPID HEARTS COAT HANGER         8   \n",
       "3   536365.0        NaN  KNITTED UNION FLAG HOT WATER BOTTLE         6   \n",
       "4   536365.0        NaN       RED WOOLLY HOTTIE WHITE HEART.         6   \n",
       "\n",
       "       InvoiceDate  UnitPrice  CustomerID         Country                Date  \\\n",
       "0  12/1/2010 08:26       2.55     17850.0  United Kingdom 2010-12-01 08:26:00   \n",
       "1  12/1/2010 08:26       3.39     17850.0  United Kingdom 2010-12-01 08:26:00   \n",
       "2  12/1/2010 08:26       2.75     17850.0  United Kingdom 2010-12-01 08:26:00   \n",
       "3  12/1/2010 08:26       3.39     17850.0  United Kingdom 2010-12-01 08:26:00   \n",
       "4  12/1/2010 08:26       3.39     17850.0  United Kingdom 2010-12-01 08:26:00   \n",
       "\n",
       "   rank  \n",
       "0     1  \n",
       "1     1  \n",
       "2     1  \n",
       "3     1  \n",
       "4     1  "
      ]
     },
     "execution_count": 46,
     "metadata": {},
     "output_type": "execute_result"
    }
   ],
   "source": [
    "# convert date column to datetime format\n",
    "df['Date']= pd.to_datetime(df['InvoiceDate'])\n",
    "# keep only the most recent date of purchase\n",
    "df['rank'] = df.sort_values(['CustomerID','Date']).groupby(['CustomerID'])['Date'].rank(method='min').astype(int)\n",
    "df_rec = df[df['rank']==1]\n",
    "df_rec.head()"
   ]
  },
  {
   "cell_type": "code",
   "execution_count": 52,
   "id": "ac0635ab",
   "metadata": {},
   "outputs": [],
   "source": [
    "pd.options.mode.chained_assignment = None  # default='warn' Remove warning"
   ]
  },
  {
   "cell_type": "code",
   "execution_count": 53,
   "id": "49e00749",
   "metadata": {},
   "outputs": [
    {
     "name": "stdout",
     "output_type": "stream",
     "text": [
      "   InvoiceNo  StockCode                          Description  Quantity  \\\n",
      "0   536365.0        NaN   WHITE HANGING HEART T-LIGHT HOLDER         6   \n",
      "1   536365.0    71053.0                  WHITE METAL LANTERN         6   \n",
      "2   536365.0        NaN       CREAM CUPID HEARTS COAT HANGER         8   \n",
      "3   536365.0        NaN  KNITTED UNION FLAG HOT WATER BOTTLE         6   \n",
      "4   536365.0        NaN       RED WOOLLY HOTTIE WHITE HEART.         6   \n",
      "\n",
      "       InvoiceDate  UnitPrice  CustomerID         Country                Date  \\\n",
      "0  12/1/2010 08:26       2.55     17850.0  United Kingdom 2010-12-01 08:26:00   \n",
      "1  12/1/2010 08:26       3.39     17850.0  United Kingdom 2010-12-01 08:26:00   \n",
      "2  12/1/2010 08:26       2.75     17850.0  United Kingdom 2010-12-01 08:26:00   \n",
      "3  12/1/2010 08:26       3.39     17850.0  United Kingdom 2010-12-01 08:26:00   \n",
      "4  12/1/2010 08:26       3.39     17850.0  United Kingdom 2010-12-01 08:26:00   \n",
      "\n",
      "   rank  recency  \n",
      "0     1        0  \n",
      "1     1        0  \n",
      "2     1        0  \n",
      "3     1        0  \n",
      "4     1        0  \n",
      "        InvoiceNo  StockCode                       Description  Quantity  \\\n",
      "541801   581578.0    22993.0      SET OF 4 PANTRY JELLY MOULDS        12   \n",
      "541802   581578.0    22907.0  PACK OF 20 NAPKINS PANTRY DESIGN        12   \n",
      "541803   581578.0    22908.0     PACK OF 20 NAPKINS RED APPLES        12   \n",
      "541804   581578.0    23215.0  JINGLE BELL HEART ANTIQUE SILVER        12   \n",
      "541805   581578.0    22736.0        RIBBON REEL MAKING SNOWMEN        10   \n",
      "\n",
      "            InvoiceDate  UnitPrice  CustomerID  Country                Date  \\\n",
      "541801  12/9/2011 12:16       1.25     12713.0  Germany 2011-12-09 12:16:00   \n",
      "541802  12/9/2011 12:16       0.85     12713.0  Germany 2011-12-09 12:16:00   \n",
      "541803  12/9/2011 12:16       0.85     12713.0  Germany 2011-12-09 12:16:00   \n",
      "541804  12/9/2011 12:16       2.08     12713.0  Germany 2011-12-09 12:16:00   \n",
      "541805  12/9/2011 12:16       1.65     12713.0  Germany 2011-12-09 12:16:00   \n",
      "\n",
      "        rank  recency  \n",
      "541801     1      373  \n",
      "541802     1      373  \n",
      "541803     1      373  \n",
      "541804     1      373  \n",
      "541805     1      373  \n"
     ]
    }
   ],
   "source": [
    "# To assign a recency score to each customerID, run the following lines of code:\n",
    "df_rec.loc[:,'recency'] = (df_rec.loc[:,'Date'] - pd.to_datetime(min(df_rec.loc[:,'Date']))).dt.days\n",
    "print(df_rec.head())\n",
    "print(df_rec.tail())\n",
    "#  dataframe now has a new column called “recency” that tells us \n",
    "#when each customer last bought something from the platform \n",
    "# 0 means most recent, x value means x days before most recent purchase"
   ]
  },
  {
   "cell_type": "code",
   "execution_count": 88,
   "id": "81f8dca3",
   "metadata": {},
   "outputs": [
    {
     "name": "stdout",
     "output_type": "stream",
     "text": [
      "   CustomerID  recency  InvoiceNo  StockCode  Description  Quantity  \\\n",
      "0     12347.0        6         31         25           31        31   \n",
      "1     12348.0      125          5          4            5         5   \n",
      "2     12350.0       63         17         13           17        17   \n",
      "3     12352.0       90          5          4            5         5   \n",
      "4     12355.0      159         13          9           13        13   \n",
      "\n",
      "   InvoiceDate  UnitPrice  Country  Date  rank  \n",
      "0           31         31       31    31    31  \n",
      "1            5          5        5     5     5  \n",
      "2           17         17       17    17    17  \n",
      "3            5          5        5     5     5  \n",
      "4           13         13       13    13    13  \n",
      "<class 'pandas.core.frame.DataFrame'>\n"
     ]
    }
   ],
   "source": [
    "df1 = df_rec.sort_values(['recency','CustomerID'],ascending=False).groupby(by=['CustomerID','recency'], sort=True, dropna=True).count().reset_index()\n",
    "print(df1.head()) # df1.sort_values(['recency','CustomerID'])\n",
    "print(type(df1))"
   ]
  },
  {
   "cell_type": "code",
   "execution_count": null,
   "id": "0c2c589a",
   "metadata": {},
   "outputs": [],
   "source": [
    "df_rec.sort_values(['recency','CustomerID'],ascending=False).groupby( \n",
    "    by=['CustomerID','recency'], sort=True, dropna=True).count().reset_index()\n"
   ]
  },
  {
   "cell_type": "code",
   "execution_count": 87,
   "id": "d5bfe0a4",
   "metadata": {},
   "outputs": [
    {
     "ename": "AttributeError",
     "evalue": "'DataFrame' object has no attribute 'to_frame'",
     "output_type": "error",
     "traceback": [
      "\u001b[1;31m---------------------------------------------------------------------------\u001b[0m",
      "\u001b[1;31mAttributeError\u001b[0m                            Traceback (most recent call last)",
      "Input \u001b[1;32mIn [87]\u001b[0m, in \u001b[0;36m<cell line: 1>\u001b[1;34m()\u001b[0m\n\u001b[1;32m----> 1\u001b[0m \u001b[43mdf1\u001b[49m\u001b[38;5;241;43m.\u001b[39;49m\u001b[43mto_frame\u001b[49m()\n",
      "File \u001b[1;32mC:\\ProgramData\\Anaconda3\\lib\\site-packages\\pandas\\core\\generic.py:5575\u001b[0m, in \u001b[0;36mNDFrame.__getattr__\u001b[1;34m(self, name)\u001b[0m\n\u001b[0;32m   5568\u001b[0m \u001b[38;5;28;01mif\u001b[39;00m (\n\u001b[0;32m   5569\u001b[0m     name \u001b[38;5;129;01mnot\u001b[39;00m \u001b[38;5;129;01min\u001b[39;00m \u001b[38;5;28mself\u001b[39m\u001b[38;5;241m.\u001b[39m_internal_names_set\n\u001b[0;32m   5570\u001b[0m     \u001b[38;5;129;01mand\u001b[39;00m name \u001b[38;5;129;01mnot\u001b[39;00m \u001b[38;5;129;01min\u001b[39;00m \u001b[38;5;28mself\u001b[39m\u001b[38;5;241m.\u001b[39m_metadata\n\u001b[0;32m   5571\u001b[0m     \u001b[38;5;129;01mand\u001b[39;00m name \u001b[38;5;129;01mnot\u001b[39;00m \u001b[38;5;129;01min\u001b[39;00m \u001b[38;5;28mself\u001b[39m\u001b[38;5;241m.\u001b[39m_accessors\n\u001b[0;32m   5572\u001b[0m     \u001b[38;5;129;01mand\u001b[39;00m \u001b[38;5;28mself\u001b[39m\u001b[38;5;241m.\u001b[39m_info_axis\u001b[38;5;241m.\u001b[39m_can_hold_identifiers_and_holds_name(name)\n\u001b[0;32m   5573\u001b[0m ):\n\u001b[0;32m   5574\u001b[0m     \u001b[38;5;28;01mreturn\u001b[39;00m \u001b[38;5;28mself\u001b[39m[name]\n\u001b[1;32m-> 5575\u001b[0m \u001b[38;5;28;01mreturn\u001b[39;00m \u001b[38;5;28;43mobject\u001b[39;49m\u001b[38;5;241;43m.\u001b[39;49m\u001b[38;5;21;43m__getattribute__\u001b[39;49m\u001b[43m(\u001b[49m\u001b[38;5;28;43mself\u001b[39;49m\u001b[43m,\u001b[49m\u001b[43m \u001b[49m\u001b[43mname\u001b[49m\u001b[43m)\u001b[49m\n",
      "\u001b[1;31mAttributeError\u001b[0m: 'DataFrame' object has no attribute 'to_frame'"
     ]
    }
   ],
   "source": [
    "df1.to_frame() # group.to_frame()\n",
    "#df1.query('recency==0')"
   ]
  },
  {
   "cell_type": "code",
   "execution_count": 48,
   "id": "0ac2177c",
   "metadata": {},
   "outputs": [
    {
     "name": "stdout",
     "output_type": "stream",
     "text": [
      "        InvoiceNo  StockCode                 Description  Quantity  \\\n",
      "541805   581578.0    22736.0  RIBBON REEL MAKING SNOWMEN        10   \n",
      "\n",
      "            InvoiceDate  UnitPrice  CustomerID  Country                Date  \\\n",
      "541805  12/9/2011 12:16       1.65     12713.0  Germany 2011-12-09 12:16:00   \n",
      "\n",
      "        rank  recency  \n",
      "541805     1      373  \n"
     ]
    }
   ],
   "source": [
    "print(df_rec.tail(1))"
   ]
  },
  {
   "cell_type": "markdown",
   "id": "2fccdeff",
   "metadata": {},
   "source": [
    "### Frequency"
   ]
  },
  {
   "cell_type": "code",
   "execution_count": null,
   "id": "54bcf767",
   "metadata": {},
   "outputs": [],
   "source": []
  },
  {
   "cell_type": "markdown",
   "id": "5e5308f1",
   "metadata": {},
   "source": [
    "### Monetary Value"
   ]
  },
  {
   "cell_type": "code",
   "execution_count": null,
   "id": "73689906",
   "metadata": {},
   "outputs": [],
   "source": []
  },
  {
   "cell_type": "markdown",
   "id": "4bbfcd1d",
   "metadata": {},
   "source": [
    "### Removing Outliers"
   ]
  },
  {
   "cell_type": "code",
   "execution_count": null,
   "id": "2916269a",
   "metadata": {},
   "outputs": [],
   "source": []
  },
  {
   "cell_type": "markdown",
   "id": "641a0a21",
   "metadata": {},
   "source": [
    "### Standardization"
   ]
  },
  {
   "cell_type": "code",
   "execution_count": null,
   "id": "8a91616f",
   "metadata": {},
   "outputs": [],
   "source": []
  },
  {
   "cell_type": "markdown",
   "id": "744bec39",
   "metadata": {},
   "source": [
    "## Step 4: Building The Customer Segmentation Model"
   ]
  },
  {
   "cell_type": "code",
   "execution_count": null,
   "id": "e0e979fe",
   "metadata": {},
   "outputs": [],
   "source": []
  },
  {
   "cell_type": "code",
   "execution_count": null,
   "id": "dc3aef67",
   "metadata": {},
   "outputs": [],
   "source": []
  },
  {
   "cell_type": "markdown",
   "id": "fe226c1c",
   "metadata": {},
   "source": [
    "## Step 5: Segmentation Model Interpretation and Visualization"
   ]
  },
  {
   "cell_type": "code",
   "execution_count": null,
   "id": "7407ae57",
   "metadata": {},
   "outputs": [],
   "source": []
  },
  {
   "cell_type": "markdown",
   "id": "4b86ec83",
   "metadata": {},
   "source": [
    "# Segmentation Modelling: Next Steps"
   ]
  },
  {
   "cell_type": "code",
   "execution_count": null,
   "id": "0a396680",
   "metadata": {},
   "outputs": [],
   "source": []
  }
 ],
 "metadata": {
  "kernelspec": {
   "display_name": "Python 3 (ipykernel)",
   "language": "python",
   "name": "python3"
  },
  "language_info": {
   "codemirror_mode": {
    "name": "ipython",
    "version": 3
   },
   "file_extension": ".py",
   "mimetype": "text/x-python",
   "name": "python",
   "nbconvert_exporter": "python",
   "pygments_lexer": "ipython3",
   "version": "3.9.12"
  }
 },
 "nbformat": 4,
 "nbformat_minor": 5
}
