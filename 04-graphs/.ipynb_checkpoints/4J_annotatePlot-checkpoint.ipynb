{
 "cells": [
  {
   "cell_type": "code",
   "execution_count": 1,
   "id": "d4d040e4",
   "metadata": {},
   "outputs": [],
   "source": [
    "#annotate Plot"
   ]
  },
  {
   "cell_type": "code",
   "execution_count": 7,
   "id": "60c9a3a2",
   "metadata": {},
   "outputs": [],
   "source": [
    "#import libraries\n",
    "import numpy as np\n",
    "import pandas as pd\n",
    "import matplotlib.pyplot as plt\n",
    "import seaborn as sns"
   ]
  },
  {
   "cell_type": "code",
   "execution_count": 5,
   "id": "0383bd9a",
   "metadata": {},
   "outputs": [
    {
     "data": {
      "text/html": [
       "<div>\n",
       "<style scoped>\n",
       "    .dataframe tbody tr th:only-of-type {\n",
       "        vertical-align: middle;\n",
       "    }\n",
       "\n",
       "    .dataframe tbody tr th {\n",
       "        vertical-align: top;\n",
       "    }\n",
       "\n",
       "    .dataframe thead th {\n",
       "        text-align: right;\n",
       "    }\n",
       "</style>\n",
       "<table border=\"1\" class=\"dataframe\">\n",
       "  <thead>\n",
       "    <tr style=\"text-align: right;\">\n",
       "      <th></th>\n",
       "      <th>name</th>\n",
       "      <th>marks</th>\n",
       "    </tr>\n",
       "  </thead>\n",
       "  <tbody>\n",
       "    <tr>\n",
       "      <th>0</th>\n",
       "      <td>Dhiraj</td>\n",
       "      <td>63</td>\n",
       "    </tr>\n",
       "    <tr>\n",
       "      <th>1</th>\n",
       "      <td>Sushma</td>\n",
       "      <td>59</td>\n",
       "    </tr>\n",
       "    <tr>\n",
       "      <th>2</th>\n",
       "      <td>Upen</td>\n",
       "      <td>73</td>\n",
       "    </tr>\n",
       "    <tr>\n",
       "      <th>3</th>\n",
       "      <td>Poonam</td>\n",
       "      <td>57</td>\n",
       "    </tr>\n",
       "    <tr>\n",
       "      <th>4</th>\n",
       "      <td>Tanvi</td>\n",
       "      <td>70</td>\n",
       "    </tr>\n",
       "  </tbody>\n",
       "</table>\n",
       "</div>"
      ],
      "text/plain": [
       "     name  marks\n",
       "0  Dhiraj     63\n",
       "1  Sushma     59\n",
       "2    Upen     73\n",
       "3  Poonam     57\n",
       "4   Tanvi     70"
      ]
     },
     "execution_count": 5,
     "metadata": {},
     "output_type": "execute_result"
    }
   ],
   "source": [
    "#create data\n",
    "name = ['Dhiraj', 'Sushma', 'Upen', 'Poonam', 'Tanvi']\n",
    "marks = np.random.randint(50,80, 5)\n",
    "data = { 'name':name, 'marks':marks}\n",
    "df = pd.DataFrame(data, columns= ['name','marks'])\n",
    "df"
   ]
  },
  {
   "cell_type": "code",
   "execution_count": 9,
   "id": "3118c8c9",
   "metadata": {},
   "outputs": [
    {
     "data": {
      "image/png": "[encoded data removed]",
      "text/plain": [
       "<Figure size 576x432 with 1 Axes>"
      ]
     },
     "metadata": {
      "needs_background": "light"
     },
     "output_type": "display_data"
    }
   ],
   "source": [
    "#plot dimensions\n",
    "plt.figure(figsize=(8,6))\n",
    "plots = sns.barplot(x='name', y='marks', data=df)\n",
    "plt.xlabel('Student Name', size=12)\n",
    "plt.ylabel('Marks Scored', size=15)\n",
    "plt.show();"
   ]
  },
  {
   "cell_type": "code",
   "execution_count": null,
   "id": "61fda3a7",
   "metadata": {},
   "outputs": [],
   "source": [
    "#Annotation\n",
    "#iterate over the bars and put a text over all of them \n",
    "#matplotlib function annotate\n",
    "#x position  = get_x() + get_width()/2  : midpoint of bar\n",
    "#y position = get_height() : height of bar\n",
    "#some pixel below the bar  : xy (0,-8)"
   ]
  },
  {
   "cell_type": "code",
   "execution_count": 17,
   "id": "aab85097",
   "metadata": {},
   "outputs": [
    {
     "data": {
      "image/png": "[encoded data removed]",
      "text/plain": [
       "<Figure size 576x432 with 1 Axes>"
      ]
     },
     "metadata": {
      "needs_background": "light"
     },
     "output_type": "display_data"
    }
   ],
   "source": [
    "plt.figure(figsize=(8,6))\n",
    "plots = sns.barplot(x='name', y='marks', data=df)\n",
    "\n",
    "for bar in plots.patches:\n",
    "    plots.annotate(format(bar.get_height(), '.2f'),\n",
    "              (bar.get_x() + bar.get_width()/2, \n",
    "              bar.get_height()),\n",
    "               ha='center', va='center', size=15, xytext=(0,8),\n",
    "               textcoords='offset points')\n",
    "plt.xlabel('Student Names')\n",
    "plt.ylabel('Marks')\n",
    "plt.title(\"This is Annotated Plot\")\n",
    "plt.show();"
   ]
  },
  {
   "cell_type": "code",
   "execution_count": null,
   "id": "a9f2e6c9",
   "metadata": {},
   "outputs": [],
   "source": []
  }
 ],
 "metadata": {
  "kernelspec": {
   "display_name": "Python 3 (ipykernel)",
   "language": "python",
   "name": "python3"
  },
  "language_info": {
   "codemirror_mode": {
    "name": "ipython",
    "version": 3
   },
   "file_extension": ".py",
   "mimetype": "text/x-python",
   "name": "python",
   "nbconvert_exporter": "python",
   "pygments_lexer": "ipython3",
   "version": "3.9.12"
  }
 },
 "nbformat": 4,
 "nbformat_minor": 5
}
