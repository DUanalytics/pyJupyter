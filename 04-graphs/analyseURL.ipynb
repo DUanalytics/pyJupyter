{
 "cells": [
  {
   "cell_type": "markdown",
   "id": "187a2f06-81f2-46d5-8a25-d2aa78add52f",
   "metadata": {},
   "source": [
    "# Analyse URL\n",
    "https://github.com/khuyentran1401/Data-science/tree/master/visualization/analyze_URL"
   ]
  },
  {
   "cell_type": "code",
   "execution_count": 6,
   "id": "f8129f25-6651-4b50-a252-33875ddd3e9f",
   "metadata": {},
   "outputs": [],
   "source": [
    "#!pip install graphistry==0.20.2 yarl==1.7.0"
   ]
  },
  {
   "cell_type": "code",
   "execution_count": 2,
   "id": "ecde51b8-946d-4ead-978c-72763b50baf7",
   "metadata": {},
   "outputs": [],
   "source": [
    "#Extract Elements from a URL\n",
    "from yarl import URL\n",
    "url = URL(\"https://github.com/search?q=data+science\")"
   ]
  },
  {
   "cell_type": "code",
   "execution_count": 3,
   "id": "b97cfe5a-6f36-42c0-86f9-0e474509e497",
   "metadata": {},
   "outputs": [
    {
     "data": {
      "text/plain": [
       "URL('https://github.com/search?q=data+science')"
      ]
     },
     "execution_count": 3,
     "metadata": {},
     "output_type": "execute_result"
    }
   ],
   "source": [
    "url"
   ]
  },
  {
   "cell_type": "code",
   "execution_count": 4,
   "id": "1df76725-d96e-4d13-b5e6-760c89cf87a2",
   "metadata": {},
   "outputs": [
    {
     "data": {
      "text/plain": [
       "'https'"
      ]
     },
     "execution_count": 4,
     "metadata": {},
     "output_type": "execute_result"
    }
   ],
   "source": [
    "url.scheme"
   ]
  },
  {
   "cell_type": "code",
   "execution_count": 5,
   "id": "1e545b07-675e-4f4a-9d6e-eb351d192859",
   "metadata": {},
   "outputs": [
    {
     "data": {
      "text/plain": [
       "'contents'"
      ]
     },
     "execution_count": 5,
     "metadata": {},
     "output_type": "execute_result"
    }
   ],
   "source": [
    "url = URL(\"https://github.com/khuyentran1401/Data-science#contents\")\n",
    "url.fragment"
   ]
  },
  {
   "cell_type": "code",
   "execution_count": null,
   "id": "3f343f11-a61f-4853-b8db-01d07831c9e5",
   "metadata": {},
   "outputs": [],
   "source": [
    "import pandas as pd\n",
    "\n",
    "data = pd.read_csv(\"URL Classification.csv\", names=[\"url\", \"Type\"], index_col=0)\n",
    "data"
   ]
  }
 ],
 "metadata": {
  "kernelspec": {
   "display_name": "Python 3 (ipykernel)",
   "language": "python",
   "name": "python3"
  },
  "language_info": {
   "codemirror_mode": {
    "name": "ipython",
    "version": 3
   },
   "file_extension": ".py",
   "mimetype": "text/x-python",
   "name": "python",
   "nbconvert_exporter": "python",
   "pygments_lexer": "ipython3",
   "version": "3.9.15"
  }
 },
 "nbformat": 4,
 "nbformat_minor": 5
}
