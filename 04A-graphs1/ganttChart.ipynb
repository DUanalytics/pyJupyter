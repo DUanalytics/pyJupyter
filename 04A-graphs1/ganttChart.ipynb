{
 "cells": [
  {
   "cell_type": "markdown",
   "id": "2f4d008a-e6b0-4f67-9d08-5799ffb099bd",
   "metadata": {},
   "source": [
    "# Gantt Chart\n",
    "!pip install gantt\n",
    "https://pypi.org/project/python-gantt/\n",
    "https://github.com/khuyentran1401/Data-science/blob/master/visualization/gantt_chart/gantt_chart.ipynb"
   ]
  },
  {
   "cell_type": "markdown",
   "id": "6dd1d797-7667-4c64-8c3f-26bef48a3054",
   "metadata": {},
   "source": [
    "!pip install python-gantt"
   ]
  },
  {
   "cell_type": "code",
   "execution_count": 11,
   "id": "a04c8177-b08a-4b81-916e-a358f7b049f1",
   "metadata": {},
   "outputs": [],
   "source": [
    "from datetime import date\n",
    "import gantt"
   ]
  },
  {
   "cell_type": "code",
   "execution_count": 12,
   "id": "7b42e066-b65d-4bff-ba9d-053cdb8d6de2",
   "metadata": {},
   "outputs": [],
   "source": [
    "# Change font default\n",
    "gantt.define_font_attributes(fill='black', stroke='black', stroke_width=0, font_family=\"Verdana\")\n",
    "#Create 2 employees\n",
    "Ben = gantt.Resource(\"Ben\")\n",
    "Alex = gantt.Resource(\"Alex\")"
   ]
  },
  {
   "cell_type": "code",
   "execution_count": null,
   "id": "a704b658-55ce-4f43-82b1-f820c955e16b",
   "metadata": {},
   "outputs": [],
   "source": [
    "## Create Task"
   ]
  },
  {
   "cell_type": "code",
   "execution_count": 13,
   "id": "f58ce46a-cfa6-43e6-bfb0-7046fba9a0bd",
   "metadata": {},
   "outputs": [],
   "source": [
    "# Create tasks\n",
    "task1_project1 = gantt.Task(name='task1', start=date(2021, 1, 27), duration=13, resources=[Ben], color=\"#a3ddcb\")\n",
    "task2_project1 = gantt.Task(name='task2', start=date(2021, 2, 10), duration=8, resources=[Alex], color=\"#a3ddcb\")\n",
    "task3_project1 = gantt.Task(name='task3', start=date(2021, 2, 19), duration=10, resources=[Ben], color=\"#a3ddcb\")\n",
    "task4_project1 = gantt.Task(name='task4', start=date(2021, 3, 1), duration=12, resources=[Ben, Alex], color=\"#a3ddcb\")"
   ]
  },
  {
   "cell_type": "code",
   "execution_count": 14,
   "id": "2859c77b-28f0-4425-a511-a5ff789f4844",
   "metadata": {},
   "outputs": [],
   "source": [
    "# Create a project\n",
    "project_1 = gantt.Project(name='Project 1')"
   ]
  },
  {
   "cell_type": "code",
   "execution_count": 15,
   "id": "ef210e91-e629-4111-bdeb-c90e307069d9",
   "metadata": {},
   "outputs": [],
   "source": [
    "# Add tasks to this project\n",
    "for task in [task1_project1, task2_project1, task3_project1, task4_project1]:\n",
    "    project_1.add_task(task)"
   ]
  },
  {
   "cell_type": "code",
   "execution_count": 17,
   "id": "fc721ab6-9dd1-439c-8294-8bc9d7c15de6",
   "metadata": {},
   "outputs": [],
   "source": [
    "#add Vacations\n",
    "gantt.add_vacations(start_date=date(2021, 3, 15), end_date= date(2021,3,20))"
   ]
  },
  {
   "cell_type": "code",
   "execution_count": 18,
   "id": "1090687c-ebcb-4ca1-948f-25d3448b9bec",
   "metadata": {},
   "outputs": [],
   "source": [
    "## Visualize\n",
    "project_1.make_svg_for_tasks(\n",
    "                      filename='Project_1.svg', \n",
    "                      today=date(2021, 1, 27), \n",
    "                      start=date(2021,1, 20),\n",
    "                      end=date(2021, 4, 1)\n",
    "                     )"
   ]
  },
  {
   "cell_type": "code",
   "execution_count": null,
   "id": "29b6cbb9-6f1b-40e4-9280-a18e09a92d45",
   "metadata": {},
   "outputs": [],
   "source": [
    "#Advanced Examples"
   ]
  },
  {
   "cell_type": "code",
   "execution_count": null,
   "id": "5e3e02b8-747b-48c8-9704-322f395f6ad4",
   "metadata": {},
   "outputs": [],
   "source": [
    "#Add tasks and milestones to the second project\n",
    "# Create tasks for project 2\n",
    "task1_project2 = gantt.Task(name='task1', start=date(2021, 3, 13), duration=10, resources=[Alex], color=\"#ffe3de\")\n",
    "task2_project2 = gantt.Task(name='task2', start=date(2021, 3, 23), duration=8, resources=[Ben], color=\"#ffe3de\")\n",
    "task3_project2 = gantt.Task(name='task3', start=date(2021, 3, 24), duration=10, resources=[Ben], color=\"#ffe3de\")\n",
    "task4_project2 = gantt.Task(name='task4', start=date(2021, 4, 5), duration=5, resources=[Ben, Alex], color=\"#ffe3de\")\n",
    "#"
   ]
  },
  {
   "cell_type": "code",
   "execution_count": null,
   "id": "030109cb-e201-4136-a979-3eeb98b9edd4",
   "metadata": {},
   "outputs": [],
   "source": [
    "# Add milestones\n",
    "ms1 = gantt.Milestone(name='Milestone 1', depends_of=[task1_project2, task3_project2])\n",
    "ms2 = gantt.Milestone(name='Milestone 2', depends_of=[task1_project2, task4_project2])\n"
   ]
  },
  {
   "cell_type": "code",
   "execution_count": 21,
   "id": "a246ff62-a4d0-492c-98a5-490c64601154",
   "metadata": {},
   "outputs": [
    {
     "ename": "NameError",
     "evalue": "name 'task1_project2' is not defined",
     "output_type": "error",
     "traceback": [
      "\u001b[1;31m---------------------------------------------------------------------------\u001b[0m",
      "\u001b[1;31mNameError\u001b[0m                                 Traceback (most recent call last)",
      "Cell \u001b[1;32mIn [21], line 4\u001b[0m\n\u001b[0;32m      2\u001b[0m project_2 \u001b[38;5;241m=\u001b[39m gantt\u001b[38;5;241m.\u001b[39mProject(name\u001b[38;5;241m=\u001b[39m\u001b[38;5;124m'\u001b[39m\u001b[38;5;124mProject 2\u001b[39m\u001b[38;5;124m'\u001b[39m)\n\u001b[0;32m      3\u001b[0m \u001b[38;5;66;03m# Add tasks and milestones to the project\u001b[39;00m\n\u001b[1;32m----> 4\u001b[0m \u001b[38;5;28;01mfor\u001b[39;00m task \u001b[38;5;129;01min\u001b[39;00m [\u001b[43mtask1_project2\u001b[49m, task2_project2, task3_project2, task4_project2]:\n\u001b[0;32m      5\u001b[0m     project_2\u001b[38;5;241m.\u001b[39madd_task(task)\n\u001b[0;32m      7\u001b[0m \u001b[38;5;28;01mfor\u001b[39;00m milestone \u001b[38;5;129;01min\u001b[39;00m [ms1, ms2]:\n",
      "\u001b[1;31mNameError\u001b[0m: name 'task1_project2' is not defined"
     ]
    }
   ],
   "source": [
    "# Create project 2\n",
    "project_2 = gantt.Project(name='Project 2')\n",
    "# Add tasks and milestones to the project\n",
    "for task in [task1_project2, task2_project2, task3_project2, task4_project2]:\n",
    "    project_2.add_task(task)\n",
    "\n",
    "for milestone in [ms1, ms2]:\n",
    "    project_2.add_task(milestone)\n"
   ]
  },
  {
   "cell_type": "code",
   "execution_count": 22,
   "id": "7b6c9159-7bad-4d20-b2af-8178827a30e3",
   "metadata": {},
   "outputs": [],
   "source": [
    "#Visualize all projects\n",
    "# Create project that contains 2 projects\n",
    "all_projects = gantt.Project(name='All Projects')\n",
    "\n",
    "for project in [project_1, project_2]:\n",
    "    all_projects.add_task(project)\n",
    "all_projects.make_svg_for_tasks(\n",
    "                      filename='multiple_projects.svg', \n",
    "                      today=date(2021, 1, 27), \n",
    "                      start=date(2021,1, 20),\n",
    "                      end=date(2021, 4, 30)\n",
    "                     )"
   ]
  },
  {
   "cell_type": "code",
   "execution_count": null,
   "id": "77f40024-6dcd-4f1d-9b2a-1c17917df747",
   "metadata": {},
   "outputs": [],
   "source": []
  }
 ],
 "metadata": {
  "kernelspec": {
   "display_name": "Python 3 (ipykernel)",
   "language": "python",
   "name": "python3"
  },
  "language_info": {
   "codemirror_mode": {
    "name": "ipython",
    "version": 3
   },
   "file_extension": ".py",
   "mimetype": "text/x-python",
   "name": "python",
   "nbconvert_exporter": "python",
   "pygments_lexer": "ipython3",
   "version": "3.9.15"
  }
 },
 "nbformat": 4,
 "nbformat_minor": 5
}
