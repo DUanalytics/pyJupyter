{
 "cells": [
  {
   "cell_type": "markdown",
   "id": "870c737a",
   "metadata": {},
   "source": [
    "# data convert\n",
    "string to date\n",
    "If you want to convert a string type to a datetime type, the common way is to use strptime(date_string, format). But it is quite inconvenient to specify the structure of your datetime string, such as ‘ %Y-%m-%d %H:%M:%S’."
   ]
  },
  {
   "cell_type": "code",
   "execution_count": 4,
   "id": "4988919e",
   "metadata": {},
   "outputs": [],
   "source": [
    "#pip install maya"
   ]
  },
  {
   "cell_type": "code",
   "execution_count": 5,
   "id": "981df5e9",
   "metadata": {},
   "outputs": [
    {
     "data": {
      "text/plain": [
       "datetime.datetime(2022, 2, 20, 11, 23, 45, 423992, tzinfo=<UTC>)"
      ]
     },
     "execution_count": 5,
     "metadata": {},
     "output_type": "execute_result"
    }
   ],
   "source": [
    "import maya\n",
    "\n",
    "# Automatically parse datetime string\n",
    "string = \"2022-02-20 11:23:45.423992+00:00\"\n",
    "maya.parse(string).datetime()"
   ]
  },
  {
   "cell_type": "code",
   "execution_count": 6,
   "id": "495140aa",
   "metadata": {},
   "outputs": [
    {
     "data": {
      "text/plain": [
       "datetime.datetime(2022, 2, 20, 5, 23, 45, 423992, tzinfo=<DstTzInfo 'US/Central' CST-1 day, 18:00:00 STD>)"
      ]
     },
     "execution_count": 6,
     "metadata": {},
     "output_type": "execute_result"
    }
   ],
   "source": [
    "maya.parse(string).datetime(to_timezone=\"US/Central\")"
   ]
  },
  {
   "cell_type": "code",
   "execution_count": 8,
   "id": "033632c9",
   "metadata": {},
   "outputs": [
    {
     "data": {
      "text/plain": [
       "datetime.datetime(2022, 2, 20, 16, 53, 45, 423992, tzinfo=<DstTzInfo 'Asia/Kolkata' IST+5:30:00 STD>)"
      ]
     },
     "execution_count": 8,
     "metadata": {},
     "output_type": "execute_result"
    }
   ],
   "source": [
    "maya.parse(string).datetime(to_timezone=\"Asia/Kolkata\")"
   ]
  },
  {
   "cell_type": "code",
   "execution_count": null,
   "id": "eeab22ab",
   "metadata": {},
   "outputs": [],
   "source": []
  }
 ],
 "metadata": {
  "kernelspec": {
   "display_name": "Python 3 (ipykernel)",
   "language": "python",
   "name": "python3"
  },
  "language_info": {
   "codemirror_mode": {
    "name": "ipython",
    "version": 3
   },
   "file_extension": ".py",
   "mimetype": "text/x-python",
   "name": "python",
   "nbconvert_exporter": "python",
   "pygments_lexer": "ipython3",
   "version": "3.9.15"
  }
 },
 "nbformat": 4,
 "nbformat_minor": 5
}
