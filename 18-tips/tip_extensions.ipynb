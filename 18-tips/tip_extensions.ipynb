{
 "cells": [
  {
   "cell_type": "code",
   "execution_count": 1,
   "id": "8b2dd7a4",
   "metadata": {},
   "outputs": [],
   "source": [
    "# extensions"
   ]
  },
  {
   "cell_type": "code",
   "execution_count": 3,
   "id": "b7154037",
   "metadata": {},
   "outputs": [],
   "source": [
    "#pip install jupyter_contrib_nbextensions && jupyter contrib nbextension install"
   ]
  },
  {
   "cell_type": "code",
   "execution_count": null,
   "id": "7b7c4b17",
   "metadata": {},
   "outputs": [],
   "source": [
    "# start jupyter and go to Nbextensions tab\n",
    "# Activate the extensions by clicking them. These are added as buttons to the notebook toolbar:"
   ]
  }
 ],
 "metadata": {
  "kernelspec": {
   "display_name": "Python 3 (ipykernel)",
   "language": "python",
   "name": "python3"
  },
  "language_info": {
   "codemirror_mode": {
    "name": "ipython",
    "version": 3
   },
   "file_extension": ".py",
   "mimetype": "text/x-python",
   "name": "python",
   "nbconvert_exporter": "python",
   "pygments_lexer": "ipython3",
   "version": "3.9.15"
  }
 },
 "nbformat": 4,
 "nbformat_minor": 5
}
