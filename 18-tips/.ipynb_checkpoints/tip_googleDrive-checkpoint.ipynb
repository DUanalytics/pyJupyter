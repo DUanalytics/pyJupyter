{
 "cells": [
  {
   "cell_type": "markdown",
   "id": "4f2d799f",
   "metadata": {},
   "source": [
    "# Google Drive access\n",
    "https://pypi.org/project/gdown/"
   ]
  },
  {
   "cell_type": "code",
   "execution_count": 2,
   "id": "0c94f31f",
   "metadata": {},
   "outputs": [],
   "source": [
    "#pip install gdown"
   ]
  },
  {
   "cell_type": "code",
   "execution_count": 3,
   "id": "b2ebbb4a",
   "metadata": {},
   "outputs": [],
   "source": [
    "import gdown"
   ]
  },
  {
   "cell_type": "code",
   "execution_count": null,
   "id": "d61ea4ad",
   "metadata": {},
   "outputs": [],
   "source": [
    "#https://docs.google.com/presentation/d/1cUFXP6nFaY_XbgpSOcv-0mEaTTEkAGxpZ2LpYegOf4c/edit#slide=id.p"
   ]
  },
  {
   "cell_type": "code",
   "execution_count": 4,
   "id": "310e59d2",
   "metadata": {},
   "outputs": [
    {
     "name": "stderr",
     "output_type": "stream",
     "text": [
      "Downloading...\n",
      "From: https://drive.google.com/uc?id=1jI1cmxqnwsmC-vbl8dNY6b4aNBtBbKy3\n",
      "To: E:\\analytics\\projects\\pyJupyter\\18-tips\\Twitter.zip\n",
      "100%|███████████████████████████████████████████████████████████████████████████████| 120M/120M [00:10<00:00, 11.8MB/s]\n"
     ]
    },
    {
     "data": {
      "text/plain": [
       "'Twitter.zip'"
      ]
     },
     "execution_count": 4,
     "metadata": {},
     "output_type": "execute_result"
    }
   ],
   "source": [
    "# Format of url: https://drive.google.com/uc?id=YOURFILEID\n",
    "#url = \"https://drive.google.com/uc?id=1jI1cmxqnwsmC-vbl8dNY6b4aNBtBbKy3\"\n",
    "#output = \"Twitter.zip\"\n",
    "#gdown.download(url, output, quiet=False)"
   ]
  },
  {
   "cell_type": "code",
   "execution_count": 10,
   "id": "08cd179d",
   "metadata": {
    "scrolled": true
   },
   "outputs": [
    {
     "name": "stderr",
     "output_type": "stream",
     "text": [
      "Downloading...\n",
      "From: https://drive.google.com/uc?id=1wZzR-kH9LwRCU4e-nsiLsTsotyFbe88r\n",
      "To: E:\\analytics\\projects\\pyJupyter\\18-tips\\edmpaper.pdf\n",
      "100%|███████████████████████████████████████████████████████████████████████████████| 874k/874k [00:00<00:00, 2.03MB/s]\n"
     ]
    },
    {
     "data": {
      "text/plain": [
       "'edmpaper.pdf'"
      ]
     },
     "execution_count": 10,
     "metadata": {},
     "output_type": "execute_result"
    }
   ],
   "source": [
    "url = \"https://drive.google.com/file/d/1wZzR-kH9LwRCU4e-nsiLsTsotyFbe88r/view?usp=sharing\"\n",
    "output = \"edmpaper.pdf\"\n",
    "gdown.download(url, output, quiet=False, fuzzy=True)\n",
    "#share the document : anyone with lind"
   ]
  },
  {
   "cell_type": "code",
   "execution_count": null,
   "id": "a061e204",
   "metadata": {},
   "outputs": [],
   "source": []
  }
 ],
 "metadata": {
  "kernelspec": {
   "display_name": "Python 3 (ipykernel)",
   "language": "python",
   "name": "python3"
  },
  "language_info": {
   "codemirror_mode": {
    "name": "ipython",
    "version": 3
   },
   "file_extension": ".py",
   "mimetype": "text/x-python",
   "name": "python",
   "nbconvert_exporter": "python",
   "pygments_lexer": "ipython3",
   "version": "3.9.15"
  }
 },
 "nbformat": 4,
 "nbformat_minor": 5
}
