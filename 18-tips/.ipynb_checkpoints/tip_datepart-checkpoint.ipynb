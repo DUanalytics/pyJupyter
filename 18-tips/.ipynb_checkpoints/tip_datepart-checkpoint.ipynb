{
 "cells": [
  {
   "cell_type": "code",
   "execution_count": null,
   "id": "6bc590de",
   "metadata": {},
   "outputs": [],
   "source": [
    "# Date Part - Add"
   ]
  },
  {
   "cell_type": "code",
   "execution_count": null,
   "id": "b9911246",
   "metadata": {},
   "outputs": [],
   "source": [
    "#pip install fastai"
   ]
  },
  {
   "cell_type": "code",
   "execution_count": null,
   "id": "af469e02",
   "metadata": {},
   "outputs": [],
   "source": [
    "import pandas as pd\n",
    "from fastai.tabular.core import add_datepart\n",
    "from datetime import datetime"
   ]
  },
  {
   "cell_type": "code",
   "execution_count": null,
   "id": "093ed086",
   "metadata": {},
   "outputs": [],
   "source": [
    "df = pd.DataFrame(\n",
    "    {\n",
    "        \"date\": [\n",
    "            datetime(2020, 2, 5),\n",
    "            datetime(2020, 2, 6),\n",
    "            datetime(2020, 2, 7),\n",
    "            datetime(2020, 2, 8),\n",
    "        ],\n",
    "        \"val\": [1, 2, 3, 4],\n",
    "    }\n",
    ")\n",
    "\n",
    "df"
   ]
  },
  {
   "cell_type": "code",
   "execution_count": null,
   "id": "ccde1b0a",
   "metadata": {},
   "outputs": [],
   "source": [
    "df = add_datepart(df, \"date\")\n",
    "df.columns"
   ]
  },
  {
   "cell_type": "code",
   "execution_count": null,
   "id": "5cee7e3a",
   "metadata": {},
   "outputs": [],
   "source": [
    "df"
   ]
  }
 ],
 "metadata": {
  "kernelspec": {
   "display_name": "Python 3 (ipykernel)",
   "language": "python",
   "name": "python3"
  },
  "language_info": {
   "codemirror_mode": {
    "name": "ipython",
    "version": 3
   },
   "file_extension": ".py",
   "mimetype": "text/x-python",
   "name": "python",
   "nbconvert_exporter": "python",
   "pygments_lexer": "ipython3",
   "version": "3.9.15"
  }
 },
 "nbformat": 4,
 "nbformat_minor": 5
}
