{
 "cells": [
  {
   "cell_type": "code",
   "execution_count": null,
   "id": "848d3871",
   "metadata": {},
   "outputs": [],
   "source": [
    "# holidays"
   ]
  },
  {
   "cell_type": "code",
   "execution_count": 3,
   "id": "142ffc45",
   "metadata": {},
   "outputs": [],
   "source": [
    "#pip install holidays"
   ]
  },
  {
   "cell_type": "code",
   "execution_count": 4,
   "id": "a6fa83d0",
   "metadata": {},
   "outputs": [],
   "source": [
    "from datetime import date\n",
    "import holidays"
   ]
  },
  {
   "cell_type": "code",
   "execution_count": 5,
   "id": "d0a08faa",
   "metadata": {},
   "outputs": [
    {
     "data": {
      "text/plain": [
       "True"
      ]
     },
     "execution_count": 5,
     "metadata": {},
     "output_type": "execute_result"
    }
   ],
   "source": [
    "us_holidays = holidays.UnitedStates()\n",
    "\n",
    "\"2023-07-04\" in us_holidays"
   ]
  },
  {
   "cell_type": "code",
   "execution_count": 6,
   "id": "9172ee41",
   "metadata": {},
   "outputs": [
    {
     "data": {
      "text/plain": [
       "True"
      ]
     },
     "execution_count": 6,
     "metadata": {},
     "output_type": "execute_result"
    }
   ],
   "source": [
    "in_holidays = holidays.India()\n",
    "\n",
    "\"2023-01-26\" in in_holidays"
   ]
  },
  {
   "cell_type": "code",
   "execution_count": 7,
   "id": "649a6d93",
   "metadata": {},
   "outputs": [
    {
     "data": {
      "text/plain": [
       "False"
      ]
     },
     "execution_count": 7,
     "metadata": {},
     "output_type": "execute_result"
    }
   ],
   "source": [
    "\"2023-01-27\" in in_holidays"
   ]
  },
  {
   "cell_type": "code",
   "execution_count": 10,
   "id": "fdabe242",
   "metadata": {},
   "outputs": [
    {
     "data": {
      "text/plain": [
       "'Republic Day'"
      ]
     },
     "execution_count": 10,
     "metadata": {},
     "output_type": "execute_result"
    }
   ],
   "source": [
    "in_holidays.get('2023-01-26')"
   ]
  },
  {
   "cell_type": "markdown",
   "id": "9a1df7cb",
   "metadata": {},
   "source": [
    "#pip install workalender\n",
    "https://khuyentran1401.github.io/Efficient_Python_tricks_and_tools_for_data_scientists/Chapter5/time_series.html"
   ]
  },
  {
   "cell_type": "code",
   "execution_count": 14,
   "id": "17314b7d",
   "metadata": {},
   "outputs": [],
   "source": [
    "from datetime import date \n",
    "from workalendar.usa import UnitedStates\n",
    "from workalendar.asia import Japan"
   ]
  },
  {
   "cell_type": "code",
   "execution_count": 15,
   "id": "d9017d5f",
   "metadata": {},
   "outputs": [
    {
     "data": {
      "text/plain": [
       "[(datetime.date(2021, 12, 31), 'New year (Observed)'),\n",
       " (datetime.date(2022, 1, 1), 'New year'),\n",
       " (datetime.date(2022, 1, 17), 'Birthday of Martin Luther King, Jr.'),\n",
       " (datetime.date(2022, 2, 21), \"Washington's Birthday\"),\n",
       " (datetime.date(2022, 5, 30), 'Memorial Day'),\n",
       " (datetime.date(2022, 7, 4), 'Independence Day'),\n",
       " (datetime.date(2022, 9, 5), 'Labor Day'),\n",
       " (datetime.date(2022, 10, 10), 'Columbus Day'),\n",
       " (datetime.date(2022, 11, 11), 'Veterans Day'),\n",
       " (datetime.date(2022, 11, 24), 'Thanksgiving Day'),\n",
       " (datetime.date(2022, 12, 25), 'Christmas Day'),\n",
       " (datetime.date(2022, 12, 26), 'Christmas Day (Observed)')]"
      ]
     },
     "execution_count": 15,
     "metadata": {},
     "output_type": "execute_result"
    }
   ],
   "source": [
    "# Get all holidays in the US\n",
    "\n",
    "US_cal = UnitedStates()\n",
    "US_cal.holidays(2022)"
   ]
  },
  {
   "cell_type": "code",
   "execution_count": null,
   "id": "8cdd586d",
   "metadata": {},
   "outputs": [],
   "source": []
  }
 ],
 "metadata": {
  "kernelspec": {
   "display_name": "Python 3 (ipykernel)",
   "language": "python",
   "name": "python3"
  },
  "language_info": {
   "codemirror_mode": {
    "name": "ipython",
    "version": 3
   },
   "file_extension": ".py",
   "mimetype": "text/x-python",
   "name": "python",
   "nbconvert_exporter": "python",
   "pygments_lexer": "ipython3",
   "version": "3.9.15"
  }
 },
 "nbformat": 4,
 "nbformat_minor": 5
}
