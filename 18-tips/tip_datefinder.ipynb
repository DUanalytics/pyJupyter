{
 "cells": [
  {
   "cell_type": "markdown",
   "id": "364cf987-e266-49a3-a8c3-391d0cbd6887",
   "metadata": {},
   "source": [
    "# date finder\n",
    "https://pypi.org/project/datefinder/"
   ]
  },
  {
   "cell_type": "code",
   "execution_count": 4,
   "id": "a79e40c5-d10d-4d8c-b7dc-c957e16e3861",
   "metadata": {},
   "outputs": [],
   "source": [
    "#pip install datefinder"
   ]
  },
  {
   "cell_type": "code",
   "execution_count": 5,
   "id": "5166c994-fec0-45dd-98e9-dcbb2821a17f",
   "metadata": {},
   "outputs": [],
   "source": [
    "from datefinder import find_dates"
   ]
  },
  {
   "cell_type": "code",
   "execution_count": 6,
   "id": "0838713c-f591-4012-8bcd-93ae51d48df4",
   "metadata": {},
   "outputs": [],
   "source": [
    "text = \"\"\"We have one meeting on Feb 22th, 2023 at 10:00 am and another meeting at 17:00 on 25/3/2023\"\"\""
   ]
  },
  {
   "cell_type": "code",
   "execution_count": 9,
   "id": "3c3f2856-9af9-47c5-8bf4-bc7233e91f6b",
   "metadata": {},
   "outputs": [
    {
     "data": {
      "text/plain": [
       "<generator object DateFinder.find_dates at 0x0000022CFE3CE5F0>"
      ]
     },
     "execution_count": 9,
     "metadata": {},
     "output_type": "execute_result"
    }
   ],
   "source": [
    "matches = find_dates(text)\n",
    "matches"
   ]
  },
  {
   "cell_type": "code",
   "execution_count": 8,
   "id": "e607aa3d-999f-478c-83c8-f5a1396f5800",
   "metadata": {},
   "outputs": [
    {
     "name": "stdout",
     "output_type": "stream",
     "text": [
      "Date and time 2023-02-22 10:00:00\n",
      "Only day: 22\n",
      "Date and time 2023-03-25 17:00:00\n",
      "Only day: 25\n"
     ]
    }
   ],
   "source": [
    "for match in matches:\n",
    "    print(\"Date and time\", match)\n",
    "    print(\"Only day:\", match.day)"
   ]
  },
  {
   "cell_type": "code",
   "execution_count": null,
   "id": "97efed51-2262-41ef-a5b4-575d871224b0",
   "metadata": {},
   "outputs": [],
   "source": []
  }
 ],
 "metadata": {
  "kernelspec": {
   "display_name": "Python 3 (ipykernel)",
   "language": "python",
   "name": "python3"
  },
  "language_info": {
   "codemirror_mode": {
    "name": "ipython",
    "version": 3
   },
   "file_extension": ".py",
   "mimetype": "text/x-python",
   "name": "python",
   "nbconvert_exporter": "python",
   "pygments_lexer": "ipython3",
   "version": "3.9.15"
  }
 },
 "nbformat": 4,
 "nbformat_minor": 5
}
