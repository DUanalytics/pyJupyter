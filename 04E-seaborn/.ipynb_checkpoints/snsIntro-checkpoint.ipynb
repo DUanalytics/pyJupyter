{
 "cells": [
  {
   "cell_type": "markdown",
   "id": "0b2ab8e9-e6d0-4de7-a834-8f3e66865ea7",
   "metadata": {},
   "source": [
    "# seaborn library\n",
    "-  https://seaborn.pydata.org/api.html\n",
    "-  https://pypi.org/project/seaborn/\n",
    "-  version : 0.13.0 (08-Nov-2023)"
   ]
  },
  {
   "cell_type": "code",
   "execution_count": 1,
   "id": "71e96a4f-3065-4297-a1c9-1f6833828526",
   "metadata": {
    "tags": []
   },
   "outputs": [],
   "source": [
    "import seaborn as sns"
   ]
  },
  {
   "cell_type": "code",
   "execution_count": 2,
   "id": "4ad29e01-6e9b-486b-a302-6b769fb95555",
   "metadata": {
    "tags": []
   },
   "outputs": [
    {
     "name": "stdout",
     "output_type": "stream",
     "text": [
      "0.13.0\n"
     ]
    }
   ],
   "source": [
    "print(sns.__version__)"
   ]
  },
  {
   "cell_type": "code",
   "execution_count": null,
   "id": "e59ec570-00d0-4fac-bcd7-86dd32548961",
   "metadata": {},
   "outputs": [],
   "source": []
  }
 ],
 "metadata": {
  "kernelspec": {
   "display_name": "Python 3 (ipykernel)",
   "language": "python",
   "name": "python3"
  },
  "language_info": {
   "codemirror_mode": {
    "name": "ipython",
    "version": 3
   },
   "file_extension": ".py",
   "mimetype": "text/x-python",
   "name": "python",
   "nbconvert_exporter": "python",
   "pygments_lexer": "ipython3",
   "version": "3.11.5"
  }
 },
 "nbformat": 4,
 "nbformat_minor": 5
}
