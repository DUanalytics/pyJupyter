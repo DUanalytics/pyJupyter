{
 "cells": [
  {
   "cell_type": "markdown",
   "id": "f7229ec9",
   "metadata": {},
   "source": [
    "# Help / Introduction\n",
    "-  http://hwheeler01.github.io/comp150/ggplot/ggplot_tutorial.html\n",
    "-  https://github.com/yhat/ggpy/issues/662\n",
    "-  Instead of ggplot use plot nine"
   ]
  },
  {
   "cell_type": "code",
   "execution_count": 2,
   "id": "670b0387",
   "metadata": {},
   "outputs": [],
   "source": [
    "# install\n",
    "#!pip install ggplot"
   ]
  },
  {
   "cell_type": "code",
   "execution_count": 5,
   "id": "e99cc5bb",
   "metadata": {},
   "outputs": [],
   "source": [
    "import plotnine\n",
    "#from ggplot import *\n",
    "import pandas as pd\n",
    "from pydataset import data"
   ]
  },
  {
   "cell_type": "code",
   "execution_count": 6,
   "id": "45060171",
   "metadata": {},
   "outputs": [],
   "source": [
    "mtcars = data('mtcars')"
   ]
  },
  {
   "cell_type": "code",
   "execution_count": null,
   "id": "62238035",
   "metadata": {},
   "outputs": [],
   "source": []
  }
 ],
 "metadata": {
  "kernelspec": {
   "display_name": "Python 3 (ipykernel)",
   "language": "python",
   "name": "python3"
  },
  "language_info": {
   "codemirror_mode": {
    "name": "ipython",
    "version": 3
   },
   "file_extension": ".py",
   "mimetype": "text/x-python",
   "name": "python",
   "nbconvert_exporter": "python",
   "pygments_lexer": "ipython3",
   "version": "3.9.16"
  }
 },
 "nbformat": 4,
 "nbformat_minor": 5
}
