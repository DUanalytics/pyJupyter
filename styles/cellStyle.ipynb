{
 "cells": [
  {
   "cell_type": "markdown",
   "id": "972b83ed-075a-43c9-83ac-858942b20ce2",
   "metadata": {},
   "source": [
    "# styles\n",
    "https://github.com/khuyentran1401/Efficient_Python_tricks_and_tools_for_data_scientists/tree/master/Chapter1"
   ]
  },
  {
   "cell_type": "code",
   "execution_count": 1,
   "id": "7e01ecbe-1fb2-4864-b3df-e829aa9b4b19",
   "metadata": {},
   "outputs": [],
   "source": [
    "import pandas as pd"
   ]
  },
  {
   "cell_type": "code",
   "execution_count": 5,
   "id": "189100d7-2e29-45d4-90cf-34743460b421",
   "metadata": {},
   "outputs": [],
   "source": [
    "comparisons = pd.DataFrame(\n",
    "{'p1' : [1,1,1,0,1],\n",
    " 'p2' : [0,1,0,0,0],\n",
    " 'p3' : [0,1,0,0,1]\n",
    "})"
   ]
  },
  {
   "cell_type": "code",
   "execution_count": 6,
   "id": "65b4209f-b7ed-40ac-b990-497b58f10a48",
   "metadata": {},
   "outputs": [
    {
     "data": {
      "text/html": [
       "<div>\n",
       "<style scoped>\n",
       "    .dataframe tbody tr th:only-of-type {\n",
       "        vertical-align: middle;\n",
       "    }\n",
       "\n",
       "    .dataframe tbody tr th {\n",
       "        vertical-align: top;\n",
       "    }\n",
       "\n",
       "    .dataframe thead th {\n",
       "        text-align: right;\n",
       "    }\n",
       "</style>\n",
       "<table border=\"1\" class=\"dataframe\">\n",
       "  <thead>\n",
       "    <tr style=\"text-align: right;\">\n",
       "      <th></th>\n",
       "      <th>p1</th>\n",
       "      <th>p2</th>\n",
       "      <th>p3</th>\n",
       "    </tr>\n",
       "  </thead>\n",
       "  <tbody>\n",
       "    <tr>\n",
       "      <th>0</th>\n",
       "      <td>1</td>\n",
       "      <td>0</td>\n",
       "      <td>0</td>\n",
       "    </tr>\n",
       "    <tr>\n",
       "      <th>1</th>\n",
       "      <td>1</td>\n",
       "      <td>1</td>\n",
       "      <td>1</td>\n",
       "    </tr>\n",
       "    <tr>\n",
       "      <th>2</th>\n",
       "      <td>1</td>\n",
       "      <td>0</td>\n",
       "      <td>0</td>\n",
       "    </tr>\n",
       "    <tr>\n",
       "      <th>3</th>\n",
       "      <td>0</td>\n",
       "      <td>0</td>\n",
       "      <td>0</td>\n",
       "    </tr>\n",
       "    <tr>\n",
       "      <th>4</th>\n",
       "      <td>1</td>\n",
       "      <td>0</td>\n",
       "      <td>1</td>\n",
       "    </tr>\n",
       "  </tbody>\n",
       "</table>\n",
       "</div>"
      ],
      "text/plain": [
       "   p1  p2  p3\n",
       "0   1   0   0\n",
       "1   1   1   1\n",
       "2   1   0   0\n",
       "3   0   0   0\n",
       "4   1   0   1"
      ]
     },
     "execution_count": 6,
     "metadata": {},
     "output_type": "execute_result"
    }
   ],
   "source": [
    "comparisons"
   ]
  },
  {
   "cell_type": "code",
   "execution_count": 8,
   "id": "a9dbe312-d488-44ea-b090-da4fe97c3412",
   "metadata": {},
   "outputs": [],
   "source": [
    "def highlight_cell(row):\n",
    "    return [\n",
    "        'background-color:red'\n",
    "        if cell == 0\n",
    "        else 'background-color:green'\n",
    "        for cell in row\n",
    "    ]"
   ]
  },
  {
   "cell_type": "code",
   "execution_count": 9,
   "id": "eae3f428-6f33-4dd6-af59-18f9d158a6f1",
   "metadata": {},
   "outputs": [
    {
     "data": {
      "text/html": [
       "<style type=\"text/css\">\n",
       "#T_64b22_row0_col0, #T_64b22_row1_col0, #T_64b22_row1_col1, #T_64b22_row1_col2, #T_64b22_row2_col0, #T_64b22_row4_col0, #T_64b22_row4_col2 {\n",
       "  background-color: green;\n",
       "}\n",
       "#T_64b22_row0_col1, #T_64b22_row0_col2, #T_64b22_row2_col1, #T_64b22_row2_col2, #T_64b22_row3_col0, #T_64b22_row3_col1, #T_64b22_row3_col2, #T_64b22_row4_col1 {\n",
       "  background-color: red;\n",
       "}\n",
       "</style>\n",
       "<table id=\"T_64b22\">\n",
       "  <thead>\n",
       "    <tr>\n",
       "      <th class=\"blank level0\" >&nbsp;</th>\n",
       "      <th id=\"T_64b22_level0_col0\" class=\"col_heading level0 col0\" >p1</th>\n",
       "      <th id=\"T_64b22_level0_col1\" class=\"col_heading level0 col1\" >p2</th>\n",
       "      <th id=\"T_64b22_level0_col2\" class=\"col_heading level0 col2\" >p3</th>\n",
       "    </tr>\n",
       "  </thead>\n",
       "  <tbody>\n",
       "    <tr>\n",
       "      <th id=\"T_64b22_level0_row0\" class=\"row_heading level0 row0\" >0</th>\n",
       "      <td id=\"T_64b22_row0_col0\" class=\"data row0 col0\" >1</td>\n",
       "      <td id=\"T_64b22_row0_col1\" class=\"data row0 col1\" >0</td>\n",
       "      <td id=\"T_64b22_row0_col2\" class=\"data row0 col2\" >0</td>\n",
       "    </tr>\n",
       "    <tr>\n",
       "      <th id=\"T_64b22_level0_row1\" class=\"row_heading level0 row1\" >1</th>\n",
       "      <td id=\"T_64b22_row1_col0\" class=\"data row1 col0\" >1</td>\n",
       "      <td id=\"T_64b22_row1_col1\" class=\"data row1 col1\" >1</td>\n",
       "      <td id=\"T_64b22_row1_col2\" class=\"data row1 col2\" >1</td>\n",
       "    </tr>\n",
       "    <tr>\n",
       "      <th id=\"T_64b22_level0_row2\" class=\"row_heading level0 row2\" >2</th>\n",
       "      <td id=\"T_64b22_row2_col0\" class=\"data row2 col0\" >1</td>\n",
       "      <td id=\"T_64b22_row2_col1\" class=\"data row2 col1\" >0</td>\n",
       "      <td id=\"T_64b22_row2_col2\" class=\"data row2 col2\" >0</td>\n",
       "    </tr>\n",
       "    <tr>\n",
       "      <th id=\"T_64b22_level0_row3\" class=\"row_heading level0 row3\" >3</th>\n",
       "      <td id=\"T_64b22_row3_col0\" class=\"data row3 col0\" >0</td>\n",
       "      <td id=\"T_64b22_row3_col1\" class=\"data row3 col1\" >0</td>\n",
       "      <td id=\"T_64b22_row3_col2\" class=\"data row3 col2\" >0</td>\n",
       "    </tr>\n",
       "    <tr>\n",
       "      <th id=\"T_64b22_level0_row4\" class=\"row_heading level0 row4\" >4</th>\n",
       "      <td id=\"T_64b22_row4_col0\" class=\"data row4 col0\" >1</td>\n",
       "      <td id=\"T_64b22_row4_col1\" class=\"data row4 col1\" >0</td>\n",
       "      <td id=\"T_64b22_row4_col2\" class=\"data row4 col2\" >1</td>\n",
       "    </tr>\n",
       "  </tbody>\n",
       "</table>\n"
      ],
      "text/plain": [
       "<pandas.io.formats.style.Styler at 0x24276519400>"
      ]
     },
     "execution_count": 9,
     "metadata": {},
     "output_type": "execute_result"
    }
   ],
   "source": [
    "comparisons.style.apply(highlight_cell)"
   ]
  },
  {
   "cell_type": "code",
   "execution_count": null,
   "id": "805d8362-9ccb-4e95-bb25-aee6f2e3d8d0",
   "metadata": {},
   "outputs": [],
   "source": []
  }
 ],
 "metadata": {
  "kernelspec": {
   "display_name": "Python 3 (ipykernel)",
   "language": "python",
   "name": "python3"
  },
  "language_info": {
   "codemirror_mode": {
    "name": "ipython",
    "version": 3
   },
   "file_extension": ".py",
   "mimetype": "text/x-python",
   "name": "python",
   "nbconvert_exporter": "python",
   "pygments_lexer": "ipython3",
   "version": "3.9.15"
  }
 },
 "nbformat": 4,
 "nbformat_minor": 5
}
