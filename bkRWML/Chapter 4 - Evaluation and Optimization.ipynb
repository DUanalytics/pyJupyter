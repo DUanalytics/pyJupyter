{
 "cells": [
  {
   "cell_type": "markdown",
   "metadata": {},
   "source": [
    "# Chapter 4 - Evaluation and Optimization"
   ]
  },
  {
   "cell_type": "code",
   "execution_count": 1,
   "metadata": {
    "collapsed": false
   },
   "outputs": [
    {
     "name": "stdout",
     "output_type": "stream",
     "text": [
      "Populating the interactive namespace from numpy and matplotlib\n"
     ]
    }
   ],
   "source": [
    "%pylab inline"
   ]
  },
  {
   "cell_type": "markdown",
   "metadata": {},
   "source": [
    "We generate two inputs:\n",
    "* features – a matrix of input features\n",
    "* target – an array of target variables corresponding to those features"
   ]
  },
  {
   "cell_type": "code",
   "execution_count": 2,
   "metadata": {
    "collapsed": false
   },
   "outputs": [],
   "source": [
    "features = rand(100,5)\n",
    "target = rand(100) > 0.5"
   ]
  },
  {
   "cell_type": "markdown",
   "metadata": {},
   "source": [
    "### The holdout method\n",
    "\n",
    "We divide into a randomized training and test set:"
   ]
  },
  {
   "cell_type": "code",
   "execution_count": 3,
   "metadata": {
    "collapsed": false
   },
   "outputs": [
    {
     "name": "stderr",
     "output_type": "stream",
     "text": [
      "/Users/henrik/anaconda/lib/python2.7/site-packages/ipykernel/__main__.py:10: DeprecationWarning: using a non-integer number instead of an integer will result in an error in the future\n",
      "/Users/henrik/anaconda/lib/python2.7/site-packages/ipykernel/__main__.py:11: DeprecationWarning: using a non-integer number instead of an integer will result in an error in the future\n"
     ]
    }
   ],
   "source": [
    "N = features.shape[0]\n",
    "N_train = floor(0.7 * N)\n",
    "\n",
    "# Randomize index\n",
    "# Note: sometimes you want to retain the order in the dataset and skip this step\n",
    "# E.g. in the case of time-based datasets where you want to test on 'later' instances\n",
    "idx = random.permutation(N)\n",
    "\n",
    "# Split index\n",
    "idx_train = idx[:N_train]\n",
    "idx_test = idx[N_train:]\n",
    "\n",
    "# Break your data into training and testing subsets\n",
    "features_train = features[idx_train,:]\n",
    "target_train = target[idx_train]\n",
    "features_test = features[idx_test,:]\n",
    "target_test = target[idx_test]\n",
    "\n",
    "# Build, predict, evaluate (to be filled out)\n",
    "# model = train(features_train, target_train)\n",
    "# preds_test = predict(model, features_test)\n",
    "# accuracy = evaluate_acc(preds_test, target_test)"
   ]
  },
  {
   "cell_type": "code",
   "execution_count": 4,
   "metadata": {
    "collapsed": false
   },
   "outputs": [
    {
     "name": "stdout",
     "output_type": "stream",
     "text": [
      "(70, 5)\n",
      "(30, 5)\n",
      "(70,)\n",
      "(30,)\n"
     ]
    }
   ],
   "source": [
    "print features_train.shape\n",
    "print features_test.shape\n",
    "print target_train.shape\n",
    "print target_test.shape"
   ]
  },
  {
   "cell_type": "markdown",
   "metadata": {},
   "source": [
    "### K-fold cross-validation"
   ]
  },
  {
   "cell_type": "code",
   "execution_count": 5,
   "metadata": {
    "collapsed": false
   },
   "outputs": [
    {
     "name": "stdout",
     "output_type": "stream",
     "text": [
      "[16 23 33 34 35 39 44 48 99]\n",
      "[ 3 10 29 37 45 52 54 62 68 83 98]\n",
      "[ 4 12 20 22 28 50 51 53 55 56 59 60 64 77 84 86 92 97]\n",
      "[ 6  7  9 11 18 27 41 49 57 61 70 73 80]\n",
      "[42 67 96]\n",
      "[30 63 66 78 90 91]\n",
      "[ 2  5 26 40 46 58 72 74 87 95]\n",
      "[ 0  8 14 24 32 36 38 43 85 88 89]\n",
      "[ 1 13 17 19 21 47 71 79 81 82 93 94]\n",
      "[15 25 31 65 69 75 76]\n"
     ]
    }
   ],
   "source": [
    "N = features.shape[0]\n",
    "K = 10 # number of folds\n",
    "\n",
    "preds_kfold = np.empty(N)\n",
    "folds = np.random.randint(0, K, size=N)\n",
    "\n",
    "for idx in np.arange(K):\n",
    "\n",
    "    # For each fold, break your data into training and testing subsets\n",
    "    features_train = features[folds != idx,:]\n",
    "    target_train = target[folds != idx]\n",
    "    features_test = features[folds == idx,:]\n",
    "    \n",
    "    # Print the indices in each fold, for inspection\n",
    "    print nonzero(folds == idx)[0]\n",
    "\n",
    "    # Build and predict for CV fold (to be filled out)\n",
    "    # model = train(features_train, target_train)\n",
    "    # preds_kfold[folds == idx] = predict(model, features_test)\n",
    "    \n",
    "# accuracy = evaluate_acc(preds_kfold, target)"
   ]
  },
  {
   "cell_type": "markdown",
   "metadata": {},
   "source": [
    "### The ROC curve"
   ]
  },
  {
   "cell_type": "code",
   "execution_count": 6,
   "metadata": {
    "collapsed": false
   },
   "outputs": [],
   "source": [
    "def roc_curve(true_labels, predicted_probs, n_points=100, pos_class=1):\n",
    "    thr = linspace(0,1,n_points)\n",
    "    tpr = zeros(n_points)\n",
    "    fpr = zeros(n_points)\n",
    "\n",
    "    pos = true_labels == pos_class\n",
    "    neg = logical_not(pos)\n",
    "    n_pos = count_nonzero(pos)\n",
    "    n_neg = count_nonzero(neg)\n",
    "      \n",
    "    for i,t in enumerate(thr):\n",
    "        tpr[i] = count_nonzero(logical_and(predicted_probs >= t, pos)) / n_pos\n",
    "        fpr[i] = count_nonzero(logical_and(predicted_probs >= t, neg)) / n_neg\n",
    "    \n",
    "    return fpr, tpr, thr\n"
   ]
  },
  {
   "cell_type": "code",
   "execution_count": 7,
   "metadata": {
    "collapsed": false
   },
   "outputs": [
    {
     "data": {
      "text/plain": [
       "[<matplotlib.lines.Line2D at 0x10595f150>]"
      ]
     },
     "execution_count": 7,
     "metadata": {},
     "output_type": "execute_result"
    },
    {
     "data": {
      "image/png": "[encoded data removed]",
      "text/plain": [
       "<matplotlib.figure.Figure at 0x1058bdb50>"
      ]
     },
     "metadata": {},
     "output_type": "display_data"
    }
   ],
   "source": [
    "# Randomly generated predictions should give us a diagonal ROC curve\n",
    "preds = rand(len(target))\n",
    "fpr, tpr, thr = roc_curve(target, preds, pos_class=True)\n",
    "plot(fpr, tpr)"
   ]
  },
  {
   "cell_type": "markdown",
   "metadata": {},
   "source": [
    "### The area under the ROC curve"
   ]
  },
  {
   "cell_type": "code",
   "execution_count": 8,
   "metadata": {
    "collapsed": false
   },
   "outputs": [],
   "source": [
    "def auc(true_labels, predicted_labels, pos_class=1):\n",
    "    fpr, tpr, thr = roc_curve(true_labels, predicted_labels,\n",
    " pos_class=pos_class)\n",
    "    area = -trapz(tpr, x=fpr)\n",
    "    return area"
   ]
  },
  {
   "cell_type": "code",
   "execution_count": 9,
   "metadata": {
    "collapsed": false
   },
   "outputs": [
    {
     "data": {
      "text/plain": [
       "0.5"
      ]
     },
     "execution_count": 9,
     "metadata": {},
     "output_type": "execute_result"
    }
   ],
   "source": [
    "auc(target, preds, pos_class=True)"
   ]
  },
  {
   "cell_type": "markdown",
   "metadata": {},
   "source": [
    "### Multi-class classification"
   ]
  },
  {
   "cell_type": "code",
   "execution_count": 28,
   "metadata": {
    "collapsed": false
   },
   "outputs": [],
   "source": [
    "d = pandas.read_csv(\"data/mnist_small.csv\")\n",
    "d_train = d[:int(0.8*len(d))]\n",
    "d_test = d[int(0.8*len(d)):]"
   ]
  },
  {
   "cell_type": "code",
   "execution_count": 29,
   "metadata": {
    "collapsed": false
   },
   "outputs": [
    {
     "data": {
      "text/plain": [
       "RandomForestClassifier(bootstrap=True, class_weight=None, criterion='gini',\n",
       "            max_depth=None, max_features='auto', max_leaf_nodes=None,\n",
       "            min_samples_leaf=1, min_samples_split=2,\n",
       "            min_weight_fraction_leaf=0.0, n_estimators=10, n_jobs=1,\n",
       "            oob_score=False, random_state=None, verbose=0,\n",
       "            warm_start=False)"
      ]
     },
     "execution_count": 29,
     "metadata": {},
     "output_type": "execute_result"
    }
   ],
   "source": [
    "from sklearn.ensemble import RandomForestClassifier\n",
    "rf = RandomForestClassifier()\n",
    "rf.fit(d_train.drop('label', axis=1), d_train['label'])"
   ]
  },
  {
   "cell_type": "code",
   "execution_count": 30,
   "metadata": {
    "collapsed": true
   },
   "outputs": [],
   "source": [
    "from sklearn.metrics import confusion_matrix\n",
    "preds = rf.predict(d_test.drop('label', axis=1))\n",
    "cm = confusion_matrix(d_test['label'], preds)"
   ]
  },
  {
   "cell_type": "code",
   "execution_count": 39,
   "metadata": {
    "collapsed": false
   },
   "outputs": [
    {
     "data": {
      "image/png": "[encoded data removed]",
      "text/plain": [
       "<matplotlib.figure.Figure at 0x10cf8b290>"
      ]
     },
     "metadata": {},
     "output_type": "display_data"
    }
   ],
   "source": [
    "matshow(cm, cmap='Greys')\n",
    "colorbar()\n",
    "savefig(\"figures/figure-4.19.eps\", format='eps')"
   ]
  },
  {
   "cell_type": "markdown",
   "metadata": {},
   "source": [
    "### The root-mean-square error"
   ]
  },
  {
   "cell_type": "code",
   "execution_count": 10,
   "metadata": {
    "collapsed": false
   },
   "outputs": [],
   "source": [
    "def rmse(true_values, predicted_values):\n",
    "    n = len(true_values)\n",
    "    residuals = 0\n",
    "    for i in range(n):\n",
    "        residuals += (true_values[i] - predicted_values[i])**2.\n",
    "    return np.sqrt(residuals/n)"
   ]
  },
  {
   "cell_type": "code",
   "execution_count": 11,
   "metadata": {
    "collapsed": false
   },
   "outputs": [
    {
     "data": {
      "text/plain": [
       "0.26547176572681108"
      ]
     },
     "execution_count": 11,
     "metadata": {},
     "output_type": "execute_result"
    }
   ],
   "source": [
    "rmse(rand(10), rand(10))"
   ]
  },
  {
   "cell_type": "markdown",
   "metadata": {},
   "source": [
    "### The R-squared error"
   ]
  },
  {
   "cell_type": "code",
   "execution_count": 12,
   "metadata": {
    "collapsed": false
   },
   "outputs": [],
   "source": [
    "def r2(true_values, predicted_values):\n",
    "    n = len(true_values)\n",
    "    mean = np.mean(true_values)\n",
    "    residuals = 0\n",
    "    total = 0\n",
    "    for i in range(n):\n",
    "        residuals += (true_values[i] - predicted_values[i])**2.\n",
    "        total += (true_values[i] - mean)**2.\n",
    "    return 1.0 - residuals/total"
   ]
  },
  {
   "cell_type": "code",
   "execution_count": 13,
   "metadata": {
    "collapsed": false
   },
   "outputs": [
    {
     "data": {
      "text/plain": [
       "0.98002618717502987"
      ]
     },
     "execution_count": 13,
     "metadata": {},
     "output_type": "execute_result"
    }
   ],
   "source": [
    "r2(arange(10)+rand(), arange(10)+rand(10))"
   ]
  },
  {
   "cell_type": "markdown",
   "metadata": {},
   "source": [
    "### Grid search with kernel-SVM model\n",
    "\n",
    "Importing modules:"
   ]
  },
  {
   "cell_type": "code",
   "execution_count": 14,
   "metadata": {
    "collapsed": true
   },
   "outputs": [],
   "source": [
    "from sklearn.metrics import roc_auc_score\n",
    "from sklearn.svm import SVC"
   ]
  },
  {
   "cell_type": "markdown",
   "metadata": {},
   "source": [
    "Loading data and performang poor-mans feature engineering:"
   ]
  },
  {
   "cell_type": "code",
   "execution_count": 15,
   "metadata": {
    "collapsed": false
   },
   "outputs": [],
   "source": [
    "d = pandas.read_csv(\"data/titanic.csv\")\n",
    "\n",
    "# Target\n",
    "y = d[\"Survived\"]\n",
    "\n",
    "# Features\n",
    "X = d.drop([\"Survived\", \"PassengerId\", \"Cabin\",\"Ticket\",\"Name\", \"Fare\"], axis=1)\n",
    "X['Sex'] = map(lambda x: 1 if x==\"male\" else 0, X['Sex'])\n",
    "X['Embarked-Q'] = map(lambda x: 1 if x==\"Q\" else 0, X['Embarked'])\n",
    "X['Embarked-C'] = map(lambda x: 1 if x==\"C\" else 0, X['Embarked'])\n",
    "X['Embarked-S'] = map(lambda x: 1 if x==\"S\" else 0, X['Embarked'])\n",
    "X = X.drop([\"Embarked\", \"Sex\"], axis=1)\n",
    "X = X.fillna(-1)"
   ]
  },
  {
   "cell_type": "markdown",
   "metadata": {},
   "source": [
    "Performing grid-search to find the optimal hyper-parameters:"
   ]
  },
  {
   "cell_type": "code",
   "execution_count": 16,
   "metadata": {
    "collapsed": false
   },
   "outputs": [
    {
     "name": "stdout",
     "output_type": "stream",
     "text": [
      "Maximum = 0.674\n",
      "Tuning Parameters: (gamma = 0.01, C = 4.01)\n"
     ]
    }
   ],
   "source": [
    "# grid of (gamma, C) values to try \n",
    "gam_vec, cost_vec = np.meshgrid(np.linspace(0.01, 10, 11),\n",
    "                     np.linspace(0.01, 10, 11))\n",
    "\n",
    "AUC_all = [] # initialize empty array to store AUC results\n",
    "\n",
    "# set up cross-validation folds\n",
    "N = len(y)\n",
    "K = 10 # number of cross-validation folds\n",
    "folds = np.random.randint(0, K, size=N)\n",
    "\n",
    "# search over every value of the grid\n",
    "for param_ind in np.arange(len(gam_vec.ravel())):\n",
    "\n",
    "    # initialize cross-validation predictions\n",
    "    y_cv_pred = np.empty(N)\n",
    "\n",
    "    # loop through the cross-validation folds\n",
    "    for ii in np.arange(K):\n",
    "        # break your data into training and testing subsets\n",
    "        X_train = X.ix[folds != ii,:]\n",
    "        y_train = y.ix[folds != ii]\n",
    "        X_test = X.ix[folds == ii,:]\n",
    "\n",
    "        # build a model on the training set\n",
    "        model = SVC(gamma=gam_vec.ravel()[param_ind], C=cost_vec.ravel()[param_ind])\n",
    "        model.fit(X_train, y_train)\n",
    "\n",
    "        # generate and store model predictions on the testing set\n",
    "        y_cv_pred[folds == ii] = model.predict(X_test)\n",
    "\n",
    "    # evaluate the AUC of the predictions\n",
    "    AUC_all.append(roc_auc_score(y, y_cv_pred))\n",
    "\n",
    "indmax = np.argmax(AUC_all)\n",
    "print \"Maximum = %.3f\" % (np.max(AUC_all))\n",
    "print \"Tuning Parameters: (gamma = %.2f, C = %.2f)\" % (gam_vec.ravel()[indmax], cost_vec.ravel()[indmax])"
   ]
  },
  {
   "cell_type": "markdown",
   "metadata": {},
   "source": [
    "Plotting the contours of the parameter performance:"
   ]
  },
  {
   "cell_type": "code",
   "execution_count": 24,
   "metadata": {
    "collapsed": false
   },
   "outputs": [
    {
     "data": {
      "image/png": "[encoded data removed]",
      "text/plain": [
       "<matplotlib.figure.Figure at 0x10a5a7610>"
      ]
     },
     "metadata": {},
     "output_type": "display_data"
    }
   ],
   "source": [
    "AUC_grid = np.array(AUC_all).reshape(gam_vec.shape)\n",
    "\n",
    "contourf(gam_vec, cost_vec, AUC_grid, 20, cmap='Greys')\n",
    "xlabel(\"kernel coefficient, gamma\")\n",
    "ylabel(\"penalty parameter, C\")\n",
    "colorbar()\n",
    "savefig(\"figures/figure-4.25.eps\", format='eps')"
   ]
  },
  {
   "cell_type": "code",
   "execution_count": null,
   "metadata": {
    "collapsed": true
   },
   "outputs": [],
   "source": []
  }
 ],
 "metadata": {
  "kernelspec": {
   "display_name": "Python 2",
   "language": "python",
   "name": "python2"
  },
  "language_info": {
   "codemirror_mode": {
    "name": "ipython",
    "version": 2
   },
   "file_extension": ".py",
   "mimetype": "text/x-python",
   "name": "python",
   "nbconvert_exporter": "python",
   "pygments_lexer": "ipython2",
   "version": "2.7.12"
  }
 },
 "nbformat": 4,
 "nbformat_minor": 0
}
