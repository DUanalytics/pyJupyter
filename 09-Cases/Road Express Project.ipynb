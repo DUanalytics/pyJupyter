{
 "cells": [
  {
   "cell_type": "code",
   "execution_count": null,
   "metadata": {},
   "outputs": [],
   "source": [
    "import numpy as np\n",
    "import pandas as pd\n",
    "import matplotlib.pyplot as plt\n",
    "import datetime as dt\n",
    "from matplotlib.dates import DateFormatter"
   ]
  },
  {
   "cell_type": "code",
   "execution_count": null,
   "metadata": {},
   "outputs": [],
   "source": [
    "df = pd.read_excel(r\"E:\\\\mdata\\\\Roadaudit.xlsx\",parse_dates=['Date'])\n",
    "df.shape\n",
    "df.dtypes\n",
    "df.head()\n",
    "df.columns\n",
    "df['profit'] = df['CLIENT_FARE'] - df['DRIVER_FARE']"
   ]
  },
  {
   "cell_type": "markdown",
   "metadata": {},
   "source": [
    "np.sum(df['CLIENT_FARE'])"
   ]
  },
  {
   "cell_type": "code",
   "execution_count": null,
   "metadata": {},
   "outputs": [],
   "source": [
    "df['Date'] = pd.to_datetime(df['Date'], errors='coerce')"
   ]
  },
  {
   "cell_type": "code",
   "execution_count": null,
   "metadata": {},
   "outputs": [],
   "source": [
    "ts1 =df.groupby(pd.Grouper(key='Date', freq='1D')).sum()\n",
    "ts1.plot(figsize=(15,5))"
   ]
  },
  {
   "cell_type": "code",
   "execution_count": null,
   "metadata": {},
   "outputs": [],
   "source": [
    "#%%  Monthwise - Driver, Client - Plot1\n",
    "ts2=df.groupby(pd.Grouper(key='Date', freq='1M')).sum()\n",
    "ts2.head()\n"
   ]
  },
  {
   "cell_type": "code",
   "execution_count": null,
   "metadata": {},
   "outputs": [],
   "source": [
    "fig, ax = plt.subplots(1, 1, figsize=(8,6), dpi= 120)\n",
    "plt.plot(ts2)\n",
    "plt.legend(['Driver','Client','profit'],loc='upper right')\n",
    "plt.title('Change in Driver and Client Amount', fontsize=16)\n",
    "plt.show()"
   ]
  },
  {
   "cell_type": "code",
   "execution_count": null,
   "metadata": {},
   "outputs": [],
   "source": [
    "#%% Another Plot\n",
    "fig, ax = plt.subplots(1, 1, figsize=(10,6))\n",
    "plt.xlabel('Month and Year')\n",
    "#ax1 =ts1.DRIVER_FARE.plot(color='blue', type='point')\n",
    "ax1 = ts2.DRIVER_FARE.plot(color='blue', label='Driver Fare')\n",
    "ax2 = ts2.CLIENT_FARE.plot(color='red', label='Client Fare')\n",
    "ax3 = ts2.profit.plot(color='red', label='Profit')\n",
    "ax1.legend(loc=1)\n",
    "ax2.legend(loc=2)\n",
    "ax3.legend(loc=3)\n",
    "plt.show()"
   ]
  },
  {
   "cell_type": "code",
   "execution_count": null,
   "metadata": {},
   "outputs": [],
   "source": [
    "df.head()\n",
    "df1 = df.copy()\n",
    "df1.set_index('Date', inplace=True) #create index as date"
   ]
  },
  {
   "cell_type": "code",
   "execution_count": null,
   "metadata": {},
   "outputs": [],
   "source": [
    "m1 = df1.resample('MS')['profit'].sum()\n",
    "m1.head()"
   ]
  },
  {
   "cell_type": "code",
   "execution_count": null,
   "metadata": {},
   "outputs": [],
   "source": [
    "m1 = df1.resample('MS')['CLIENT_FARE'].sum()\n",
    "m1.plot()"
   ]
  },
  {
   "cell_type": "code",
   "execution_count": null,
   "metadata": {},
   "outputs": [],
   "source": [
    "q1=df1.resample('QS')['CLIENT_FARE'].sum()"
   ]
  },
  {
   "cell_type": "code",
   "execution_count": null,
   "metadata": {},
   "outputs": [],
   "source": [
    "y1=df1.resample('YS')['CLIENT_FARE'].sum()"
   ]
  },
  {
   "cell_type": "code",
   "execution_count": null,
   "metadata": {},
   "outputs": [],
   "source": [
    "#now find the growth by taking diff\n",
    "#monthly growth pattern\n",
    "mg1 = m1.diff(periods=1)\n",
    "mg1.fillna(0, inplace=True)\n",
    "mg1.plot()"
   ]
  },
  {
   "cell_type": "code",
   "execution_count": null,
   "metadata": {},
   "outputs": [],
   "source": [
    "#Quarterly\n",
    "qg1 = q1.diff(periods=1)\n",
    "qg1.fillna(0, inplace=True)\n",
    "qg1"
   ]
  },
  {
   "cell_type": "code",
   "execution_count": null,
   "metadata": {},
   "outputs": [],
   "source": [
    "#yearly growth\n",
    "yg1 = y1.diff(periods=1)\n",
    "yg1.fillna(0, inplace=True)\n",
    "yg1"
   ]
  },
  {
   "cell_type": "code",
   "execution_count": null,
   "metadata": {},
   "outputs": [],
   "source": [
    "#different ways of making plots\n",
    "mg1.plot(kind='bar')\n",
    "mg1.plot.bar(x='Date', rot=90, figsize=(10,5))"
   ]
  },
  {
   "cell_type": "code",
   "execution_count": null,
   "metadata": {},
   "outputs": [],
   "source": [
    "fig, ax = plt.subplots(1, 3, figsize=(14, 6))\n",
    "\n",
    "ax[0].tick_params(labelrotation=45)\n",
    "ax[0].plot(mg1)\n",
    "ax[0].set_title(\"Monthly Growth\")\n",
    "\n",
    "ax[1].tick_params(labelrotation=45)\n",
    "ax[1].plot(qg1)\n",
    "ax[1].set_title(\"Quarterly Growth\")\n",
    "\n",
    "ax[2].tick_params(labelrotation=45)\n",
    "ax[2].plot(yg1)\n",
    "ax[2].set_title(\"Yearly Growth\");\n",
    "plt.show();"
   ]
  },
  {
   "cell_type": "code",
   "execution_count": null,
   "metadata": {},
   "outputs": [],
   "source": [
    "#%% Growth : Monthwise\n",
    "ts2\n",
    "ts2month = ts1.diff(periods=1, axis=0)\n",
    "fig, ax = plt.subplots(1, 3, figsize=(15,8))\n",
    "plt.xlabel('Month and Year')\n",
    "ax[0].tick_params(labelrotation=45)\n",
    "ax[0].plot(ts2month.DRIVER_FARE, color='blue',label='Driver')\n",
    "ax[1].tick_params(labelrotation=45)\n",
    "ax[1].plot(ts2month.CLIENT_FARE, color='green', label='Client')\n",
    "ax[2].tick_params(labelrotation=45)\n",
    "ax[2].plot(ts2month.profit, color='red', label='Profit')\n",
    "ax[0].legend(loc=1)\n",
    "ax[1].legend(loc=2)\n",
    "ax[2].legend(loc=2)\n",
    "plt.show()"
   ]
  },
  {
   "cell_type": "code",
   "execution_count": null,
   "metadata": {},
   "outputs": [],
   "source": [
    "#%%: Quarterly Growth\n",
    "ts2quarter=df.groupby(pd.Grouper(key='Date', freq='1Q')).sum()\n",
    "ts2quarter.head()\n",
    "\n",
    "fig, ax = plt.subplots(1, 3, figsize=(15,8))\n",
    "plt.xlabel('Month and Year')\n",
    "ax[0].tick_params(labelrotation=45)\n",
    "ax[0].plot(ts2quarter.DRIVER_FARE, color='blue',label='Driver')\n",
    "ax[1].tick_params(labelrotation=45)\n",
    "ax[1].plot(ts2quarter.CLIENT_FARE, color='green', label='Client')\n",
    "ax[2].tick_params(labelrotation=45)\n",
    "ax[2].plot(ts2quarter.profit, color='red', label='Profit')\n",
    "ax[0].legend(loc=1)\n",
    "ax[1].legend(loc=2)\n",
    "ax[2].legend(loc=2)\n",
    "plt.show()"
   ]
  },
  {
   "cell_type": "code",
   "execution_count": null,
   "metadata": {},
   "outputs": [],
   "source": [
    "plt.figure(figsize=(20,10))\n",
    "rolling_mean = df.profit.rolling(window=20).mean()\n",
    "rolling_mean2 = df.profit.rolling(window=50).mean()\n",
    "plt.plot(df.Date, df.profit, label='Profit')\n",
    "plt.plot(df.Date, rolling_mean, label='Profit 20 Day SMA', color='orange')\n",
    "plt.plot(df.Date, rolling_mean2, label='Profit 50 Day SMA', color='magenta')\n",
    "plt.legend(loc='upper left')\n",
    "plt.show()"
   ]
  },
  {
   "cell_type": "code",
   "execution_count": null,
   "metadata": {},
   "outputs": [],
   "source": [
    "from statsmodels.graphics.tsaplots import plot_acf, plot_pacf\n",
    "plt.rcParams.update({'figure.figsize':(9,3), 'figure.dpi':120})\n",
    "#df4 = df.groupby('Date')['profit'].sum()\n",
    "df4 = df1.resample('D')['profit'].sum()\n",
    "df4.head()\n",
    "plt.figure(figsize=(10,5))\n",
    "plt.plot(df4.diff())\n",
    "plt.set_title('1st Differencing')\n",
    "plt.show()"
   ]
  },
  {
   "cell_type": "code",
   "execution_count": null,
   "metadata": {},
   "outputs": [],
   "source": [
    "df4.head()"
   ]
  },
  {
   "cell_type": "code",
   "execution_count": null,
   "metadata": {},
   "outputs": [],
   "source": [
    "df4 = df1.resample('MS')['profit'].sum()\n",
    "df4.head()"
   ]
  },
  {
   "cell_type": "code",
   "execution_count": null,
   "metadata": {},
   "outputs": [],
   "source": [
    "#read thiss..\n",
    "from statsmodels.tsa.arima_model import ARIMA\n",
    "# 1,1,2 ARIMA Model\n",
    "model = ARIMA(df4, order=(1,1,0))\n",
    "model_fit = model.fit(disp=0)\n",
    "print(model_fit.summary())"
   ]
  },
  {
   "cell_type": "code",
   "execution_count": null,
   "metadata": {},
   "outputs": [],
   "source": [
    "# plot residual errors\n",
    "from pandas import DataFrame\n",
    "from matplotlib import pyplot\n",
    "residuals = DataFrame(model_fit.resid)\n",
    "residuals.plot()\n",
    "pyplot.show()\n",
    "residuals.plot(kind='kde')\n",
    "pyplot.show()\n",
    "print(residuals.describe())"
   ]
  },
  {
   "cell_type": "code",
   "execution_count": null,
   "metadata": {},
   "outputs": [],
   "source": [
    "df4.head()"
   ]
  },
  {
   "cell_type": "code",
   "execution_count": null,
   "metadata": {},
   "outputs": [],
   "source": [
    "X = df4.values\n",
    "X"
   ]
  },
  {
   "cell_type": "code",
   "execution_count": null,
   "metadata": {},
   "outputs": [],
   "source": [
    "train = X[:15]\n",
    "test =  X[15:]"
   ]
  },
  {
   "cell_type": "code",
   "execution_count": null,
   "metadata": {},
   "outputs": [],
   "source": [
    "model_fit.plot_predict(dynamic=False)\n",
    "plt.show()"
   ]
  },
  {
   "cell_type": "code",
   "execution_count": null,
   "metadata": {},
   "outputs": [],
   "source": [
    "# Build Model\n",
    "# model = ARIMA(train, order=(3,2,1))  \n",
    "model = ARIMA(train, order=(1,1,0))  \n",
    "fitted = model.fit(disp=-1)  \n",
    "print(fitted.summary())\n",
    "\n",
    "# Forecast\n",
    "fc, se, conf = fitted.forecast(40, alpha=0.05)  # 95% conf\n",
    "\n",
    "# Make as pandas series\n",
    "fc_series = pd.Series(fc)\n",
    "lower_series = pd.Series(conf[:, 0])\n",
    "upper_series = pd.Series(conf[:, 1])\n",
    "\n",
    "# Plot\n",
    "plt.figure(figsize=(12,5), dpi=100)\n",
    "plt.plot(train, label='training')\n",
    "plt.plot(test, label='actual')\n",
    "plt.plot(fc_series, label='forecast')\n",
    "plt.fill_between(lower_series.index, lower_series, upper_series, \n",
    "                 color='k', alpha=.15)\n",
    "plt.title('Forecast vs Actuals')\n",
    "plt.legend(loc='upper left', fontsize=8)\n",
    "plt.show()"
   ]
  },
  {
   "cell_type": "code",
   "execution_count": null,
   "metadata": {},
   "outputs": [],
   "source": [
    "# Accuracy metrics\n",
    "def forecast_accuracy(forecast, actual):\n",
    "    mape = np.mean(np.abs(forecast - actual)/np.abs(actual))  # MAPE\n",
    "    me = np.mean(forecast - actual)             # ME\n",
    "    mae = np.mean(np.abs(forecast - actual))    # MAE\n",
    "    mpe = np.mean((forecast - actual)/actual)   # MPE\n",
    "    rmse = np.mean((forecast - actual)**2)**.5  # RMSE\n",
    "    corr = np.corrcoef(forecast, actual)[0,1]   # corr\n",
    "    mins = np.amin(np.hstack([forecast[:,None], \n",
    "                              actual[:,None]]), axis=1)\n",
    "    maxs = np.amax(np.hstack([forecast[:,None], \n",
    "                              actual[:,None]]), axis=1)\n",
    "    minmax = 1 - np.mean(mins/maxs)             # minmax\n",
    "    acf1 = acf(fc-test)[1]                      # ACF1\n",
    "    return({'mape':mape, 'me':me, 'mae': mae, \n",
    "            'mpe': mpe, 'rmse':rmse, 'acf1':acf1, \n",
    "            'corr':corr, 'minmax':minmax})\n",
    "forecast_accuracy(fc, test.values) ####Unable to find it"
   ]
  },
  {
   "cell_type": "code",
   "execution_count": null,
   "metadata": {},
   "outputs": [],
   "source": [
    "### the changes i had done is that i had changed the df4 into months instead of date..."
   ]
  },
  {
   "cell_type": "code",
   "execution_count": null,
   "metadata": {},
   "outputs": [],
   "source": []
  }
 ],
 "metadata": {
  "kernelspec": {
   "display_name": "Python 3 (ipykernel)",
   "language": "python",
   "name": "python3"
  },
  "language_info": {
   "codemirror_mode": {
    "name": "ipython",
    "version": 3
   },
   "file_extension": ".py",
   "mimetype": "text/x-python",
   "name": "python",
   "nbconvert_exporter": "python",
   "pygments_lexer": "ipython3",
   "version": "3.9.15"
  }
 },
 "nbformat": 4,
 "nbformat_minor": 2
}
