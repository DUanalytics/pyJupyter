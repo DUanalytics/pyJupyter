{
 "cells": [
  {
   "cell_type": "markdown",
   "id": "4cc155ac",
   "metadata": {},
   "source": [
    "# Pandas"
   ]
  },
  {
   "cell_type": "markdown",
   "id": "1899a788-85f2-4858-840b-c73ced537af9",
   "metadata": {},
   "source": [
    "Pandas is a Python library used for working with data sets. It has functions for analyzing, cleaning, exploring, and manipulating data\n",
    "https://pandas.pydata.org/\n",
    "https://pandas.pydata.org/docs/getting_started/index.html\n",
    "Install pip install pandas  conda install pandas  (it comes installed with Anaconda)"
   ]
  },
  {
   "attachments": {
    "01_table_dataframe.svg": {
     "image/svg+xml": [
      "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"
     ]
    }
   },
   "cell_type": "markdown",
   "id": "996b8aef",
   "metadata": {},
   "source": [
    "![01_table_dataframe.svg](attachment:01_table_dataframe.svg)"
   ]
  },
  {
   "cell_type": "markdown",
   "id": "0f2a4344",
   "metadata": {},
   "source": [
    "## Data Frame from Series\n",
    "Each column in a DataFrame is a Series\n",
    "When selecting a single column of a pandas DataFrame, the result is a pandas Series. To select the column, use the column label in between square brackets []"
   ]
  },
  {
   "cell_type": "code",
   "execution_count": 4,
   "id": "0c9230e4",
   "metadata": {},
   "outputs": [],
   "source": [
    "import pandas as pd\n",
    "# Create pandas Series\n",
    "courses = pd.Series([\"Python\",\"R\",\"Hadoop\"])\n",
    "fees = pd.Series([22000,25000,23000])\n",
    "discount  = pd.Series([1000,2300,1000])\n",
    "# Combine two series.\n",
    "df=pd.concat([courses,fees],axis=1)"
   ]
  },
  {
   "cell_type": "code",
   "execution_count": 5,
   "id": "cac67d2c",
   "metadata": {},
   "outputs": [
    {
     "name": "stdout",
     "output_type": "stream",
     "text": [
      "        0      1\n",
      "0  Python  22000\n",
      "1       R  25000\n",
      "2  Hadoop  23000\n"
     ]
    }
   ],
   "source": [
    "print(df)"
   ]
  },
  {
   "cell_type": "code",
   "execution_count": 6,
   "id": "62dd1efd",
   "metadata": {},
   "outputs": [
    {
     "name": "stdout",
     "output_type": "stream",
     "text": [
      "        0      1     2\n",
      "0  Python  22000  1000\n",
      "1       R  25000  2300\n",
      "2  Hadoop  23000  1000\n"
     ]
    }
   ],
   "source": [
    "#combine multiple series.\n",
    "df=pd.concat([courses,fees,discount],axis=1)\n",
    "print(df)"
   ]
  },
  {
   "cell_type": "markdown",
   "id": "9f1e4adb",
   "metadata": {},
   "source": [
    "### Names of Columns"
   ]
  },
  {
   "cell_type": "code",
   "execution_count": 7,
   "id": "ff91005c",
   "metadata": {},
   "outputs": [
    {
     "name": "stdout",
     "output_type": "stream",
     "text": [
      "  Courses   fees  discount\n",
      "0  Python  22000      1000\n",
      "1       R  25000      2300\n",
      "2  Hadoop  23000      1000\n"
     ]
    }
   ],
   "source": [
    "courses = pd.Series([\"Python\",\"R\",\"Hadoop\"], name='Courses')\n",
    "fees = pd.Series([22000,25000,23000], name='fees')\n",
    "discount  = pd.Series([1000,2300,1000], name='discount')\n",
    "df1=pd.concat([courses,fees,discount],axis=1)\n",
    "print(df1)"
   ]
  },
  {
   "cell_type": "code",
   "execution_count": 9,
   "id": "9509e7ae",
   "metadata": {},
   "outputs": [
    {
     "name": "stdout",
     "output_type": "stream",
     "text": [
      "   Courses   fees  discount\n",
      "C1  Python  22000      1000\n",
      "C2       R  25000      2300\n",
      "C3  Hadoop  23000      1000\n"
     ]
    }
   ],
   "source": [
    "# create index values for each row\n",
    "indexColumn = ['C1','C2','C3']\n",
    "df1.index = indexColumn\n",
    "print(df1)"
   ]
  },
  {
   "cell_type": "code",
   "execution_count": 11,
   "id": "92015300",
   "metadata": {},
   "outputs": [
    {
     "data": {
      "text/html": [
       "<div>\n",
       "<style scoped>\n",
       "    .dataframe tbody tr th:only-of-type {\n",
       "        vertical-align: middle;\n",
       "    }\n",
       "\n",
       "    .dataframe tbody tr th {\n",
       "        vertical-align: top;\n",
       "    }\n",
       "\n",
       "    .dataframe thead th {\n",
       "        text-align: right;\n",
       "    }\n",
       "</style>\n",
       "<table border=\"1\" class=\"dataframe\">\n",
       "  <thead>\n",
       "    <tr style=\"text-align: right;\">\n",
       "      <th></th>\n",
       "      <th>index</th>\n",
       "      <th>Courses</th>\n",
       "      <th>fees</th>\n",
       "      <th>discount</th>\n",
       "    </tr>\n",
       "  </thead>\n",
       "  <tbody>\n",
       "    <tr>\n",
       "      <th>0</th>\n",
       "      <td>C1</td>\n",
       "      <td>Python</td>\n",
       "      <td>22000</td>\n",
       "      <td>1000</td>\n",
       "    </tr>\n",
       "    <tr>\n",
       "      <th>1</th>\n",
       "      <td>C2</td>\n",
       "      <td>R</td>\n",
       "      <td>25000</td>\n",
       "      <td>2300</td>\n",
       "    </tr>\n",
       "    <tr>\n",
       "      <th>2</th>\n",
       "      <td>C3</td>\n",
       "      <td>Hadoop</td>\n",
       "      <td>23000</td>\n",
       "      <td>1000</td>\n",
       "    </tr>\n",
       "  </tbody>\n",
       "</table>\n",
       "</div>"
      ],
      "text/plain": [
       "  index Courses   fees  discount\n",
       "0    C1  Python  22000      1000\n",
       "1    C2       R  25000      2300\n",
       "2    C3  Hadoop  23000      1000"
      ]
     },
     "execution_count": 11,
     "metadata": {},
     "output_type": "execute_result"
    }
   ],
   "source": [
    "# Index value to Column \n",
    "df1.reset_index()"
   ]
  },
  {
   "cell_type": "markdown",
   "id": "7b0c9840",
   "metadata": {},
   "source": [
    "## add empty column to DF"
   ]
  },
  {
   "cell_type": "code",
   "execution_count": null,
   "id": "0a7e3766",
   "metadata": {},
   "outputs": [],
   "source": [
    "# Add empty column to the DataFrame\n",
    "df[\"Blank_Column\"] = \" \"\n",
    "df[\"NaN_Column\"] = np.nan\n",
    "df[\"None_Column\"] = None"
   ]
  },
  {
   "cell_type": "code",
   "execution_count": null,
   "id": "6f09cedd",
   "metadata": {},
   "outputs": [],
   "source": [
    "# Add an empty columns using the assign() method\n",
    "df2 = df.assign(Blank_Column=\" \", NaN_Column = np.nan, None_Column=None)"
   ]
  },
  {
   "cell_type": "code",
   "execution_count": null,
   "id": "8462ed59",
   "metadata": {},
   "outputs": [],
   "source": [
    "# Add multiple columns with NaN , uses columns param\n",
    "df2 = df.reindex(columns = df.columns.tolist() + [\"None_Column\", \"None_Column_2\"])\n",
    "print(df2)"
   ]
  },
  {
   "cell_type": "code",
   "execution_count": null,
   "id": "b62e6e92",
   "metadata": {},
   "outputs": [],
   "source": [
    "# Add multiple columns with NaN, , uses axis param \n",
    "df2 = df.reindex(df.columns.tolist() + [\"None_Column\", \"None_Column_2\"],index=1)\n",
    "print(df2)"
   ]
  },
  {
   "cell_type": "code",
   "execution_count": null,
   "id": "548e8368",
   "metadata": {},
   "outputs": [],
   "source": [
    "# Using insert(), add empty column at first position\n",
    "df.insert(0,\"Blank_Column\", \" \")\n",
    "print(df)"
   ]
  },
  {
   "cell_type": "markdown",
   "id": "ebb69d59",
   "metadata": {},
   "source": [
    "## Replace Missings Values"
   ]
  },
  {
   "cell_type": "code",
   "execution_count": null,
   "id": "44ac863b",
   "metadata": {},
   "outputs": [],
   "source": [
    "Datafame.fillna() is used to replace NaN/None with any values.\n",
    "DataFrame.replace() does find and replace. It finds NaN values and replaces them with a specific value.\n",
    "NaN stands for Not A Number and is one of the common ways to represent the missing value in the data. Sometimes None also used.\n",
    "numpy.nan is use to specify a NaN value. NaN is a type of float."
   ]
  },
  {
   "cell_type": "code",
   "execution_count": 24,
   "id": "39bc2747",
   "metadata": {},
   "outputs": [
    {
     "data": {
      "text/html": [
       "<div>\n",
       "<style scoped>\n",
       "    .dataframe tbody tr th:only-of-type {\n",
       "        vertical-align: middle;\n",
       "    }\n",
       "\n",
       "    .dataframe tbody tr th {\n",
       "        vertical-align: top;\n",
       "    }\n",
       "\n",
       "    .dataframe thead th {\n",
       "        text-align: right;\n",
       "    }\n",
       "</style>\n",
       "<table border=\"1\" class=\"dataframe\">\n",
       "  <thead>\n",
       "    <tr style=\"text-align: right;\">\n",
       "      <th></th>\n",
       "      <th>Courses</th>\n",
       "      <th>Fee</th>\n",
       "      <th>Duration</th>\n",
       "      <th>Discount</th>\n",
       "      <th>Period</th>\n",
       "      <th>freq_count</th>\n",
       "    </tr>\n",
       "  </thead>\n",
       "  <tbody>\n",
       "    <tr>\n",
       "      <th>0</th>\n",
       "      <td>Python</td>\n",
       "      <td>20000</td>\n",
       "      <td>30days</td>\n",
       "      <td>1000</td>\n",
       "      <td>Python-30days</td>\n",
       "      <td>1</td>\n",
       "    </tr>\n",
       "    <tr>\n",
       "      <th>1</th>\n",
       "      <td>R</td>\n",
       "      <td>25000</td>\n",
       "      <td>40days</td>\n",
       "      <td>1500</td>\n",
       "      <td>R-40days</td>\n",
       "      <td>1</td>\n",
       "    </tr>\n",
       "    <tr>\n",
       "      <th>2</th>\n",
       "      <td>Hadoop</td>\n",
       "      <td>26000</td>\n",
       "      <td>35days</td>\n",
       "      <td>2500</td>\n",
       "      <td>Hadoop-35days</td>\n",
       "      <td>1</td>\n",
       "    </tr>\n",
       "    <tr>\n",
       "      <th>3</th>\n",
       "      <td>Tableau</td>\n",
       "      <td>22000</td>\n",
       "      <td>40days</td>\n",
       "      <td>2100</td>\n",
       "      <td>Tableau-40days</td>\n",
       "      <td>1</td>\n",
       "    </tr>\n",
       "    <tr>\n",
       "      <th>4</th>\n",
       "      <td>PowerBI</td>\n",
       "      <td>24000</td>\n",
       "      <td>60days</td>\n",
       "      <td>2000</td>\n",
       "      <td>PowerBI-60days</td>\n",
       "      <td>1</td>\n",
       "    </tr>\n",
       "  </tbody>\n",
       "</table>\n",
       "</div>"
      ],
      "text/plain": [
       "   Courses    Fee Duration  Discount          Period  freq_count\n",
       "0   Python  20000   30days      1000   Python-30days           1\n",
       "1        R  25000   40days      1500        R-40days           1\n",
       "2   Hadoop  26000   35days      2500   Hadoop-35days           1\n",
       "3  Tableau  22000   40days      2100  Tableau-40days           1\n",
       "4  PowerBI  24000   60days      2000  PowerBI-60days           1"
      ]
     },
     "execution_count": 24,
     "metadata": {},
     "output_type": "execute_result"
    }
   ],
   "source": [
    "#Replce NaN with zero on all columns \n",
    "df.fillna(0)"
   ]
  },
  {
   "cell_type": "code",
   "execution_count": null,
   "id": "8ec7070b",
   "metadata": {},
   "outputs": [],
   "source": [
    "#Repalce inplace \n",
    "df.fillna(0,inplace=True)"
   ]
  },
  {
   "cell_type": "code",
   "execution_count": null,
   "id": "e4e23c2f",
   "metadata": {},
   "outputs": [],
   "source": [
    "# Replace on single column\n",
    "df[\"Fee\"] = df[\"Fee\"].fillna(0)"
   ]
  },
  {
   "cell_type": "code",
   "execution_count": null,
   "id": "c7c13cfb",
   "metadata": {},
   "outputs": [],
   "source": [
    "# Replace on multiple columns\n",
    "df[[\"Fee\",\"Duration\"]] = df[[\"Fee\",\"Duration\"]].fillna(0)"
   ]
  },
  {
   "cell_type": "code",
   "execution_count": null,
   "id": "d5af8ccd",
   "metadata": {},
   "outputs": [],
   "source": [
    "# Using replace()\n",
    "df[\"Fee\"] = df[\"Fee\"].replace(np.nan, 0)"
   ]
  },
  {
   "cell_type": "code",
   "execution_count": null,
   "id": "70cc8b12",
   "metadata": {},
   "outputs": [],
   "source": [
    "# Using replace()\n",
    "df2 = df.replace(np.nan, 0)"
   ]
  },
  {
   "cell_type": "markdown",
   "id": "ea2f0cbd",
   "metadata": {},
   "source": [
    "## Combine Two Columns of Text"
   ]
  },
  {
   "cell_type": "code",
   "execution_count": 25,
   "id": "746c28f5",
   "metadata": {},
   "outputs": [
    {
     "name": "stdout",
     "output_type": "stream",
     "text": [
      "   Courses    Fee Duration  Discount\n",
      "0   Python  20000   30days      1000\n",
      "1        R  25000   40days      1500\n",
      "2   Hadoop  26000   35days      2500\n",
      "3  Tableau  22000   40days      2100\n",
      "4  PowerBI  24000   60days      2000\n"
     ]
    }
   ],
   "source": [
    "import pandas as pd\n",
    "technologies = ({\n",
    "     'Courses':[\"Python\",\"R\",\"Hadoop\",\"Tableau\",\"PowerBI\"],\n",
    "     'Fee' :[20000,25000,26000,22000,24000],\n",
    "     'Duration':['30days','40days','35days','40days','60days'],\n",
    "     'Discount':[1000,1500,2500,2100,2000]\n",
    "               })\n",
    "df = pd.DataFrame(technologies)\n",
    "print(df)"
   ]
  },
  {
   "cell_type": "code",
   "execution_count": 26,
   "id": "2530bc76",
   "metadata": {},
   "outputs": [
    {
     "data": {
      "text/plain": [
       "0     Python-30days\n",
       "1          R-40days\n",
       "2     Hadoop-35days\n",
       "3    Tableau-40days\n",
       "4    PowerBI-60days\n",
       "dtype: object"
      ]
     },
     "execution_count": 26,
     "metadata": {},
     "output_type": "execute_result"
    }
   ],
   "source": [
    "#Using + operator to combine two columns\n",
    "df['Courses'].astype(str) +\"-\"+ df[\"Duration\"]"
   ]
  },
  {
   "cell_type": "code",
   "execution_count": 27,
   "id": "082d9aec",
   "metadata": {},
   "outputs": [
    {
     "data": {
      "text/plain": [
       "0     Python-30days\n",
       "1          R-40days\n",
       "2     Hadoop-35days\n",
       "3    Tableau-40days\n",
       "4    PowerBI-60days\n",
       "dtype: object"
      ]
     },
     "execution_count": 27,
     "metadata": {},
     "output_type": "execute_result"
    }
   ],
   "source": [
    "# Using apply() method to combine two columns of text\n",
    "#df[\"Period\"] = df[[\"Courses\", \"Duration\"]].apply(\"-\".join, axis=1)\n",
    "df[[\"Courses\", \"Duration\"]].apply(\"-\".join, axis=1)"
   ]
  },
  {
   "cell_type": "code",
   "execution_count": 28,
   "id": "975eea3d",
   "metadata": {},
   "outputs": [
    {
     "data": {
      "text/plain": [
       "0     Python-30days\n",
       "1          R-40days\n",
       "2     Hadoop-35days\n",
       "3    Tableau-40days\n",
       "4    PowerBI-60days\n",
       "dtype: object"
      ]
     },
     "execution_count": 28,
     "metadata": {},
     "output_type": "execute_result"
    }
   ],
   "source": [
    "# Using DataFrame.agg() to combine two columns of text\n",
    "#df[\"Period\"] = df[['Courses', 'Duration']].agg('-'.join, axis=1)\n",
    "df[['Courses', 'Duration']].agg('-'.join, axis=1)"
   ]
  },
  {
   "cell_type": "code",
   "execution_count": 29,
   "id": "58ca0662",
   "metadata": {},
   "outputs": [
    {
     "data": {
      "text/plain": [
       "0     Python-30days\n",
       "1          R-40days\n",
       "2     Hadoop-35days\n",
       "3    Tableau-40days\n",
       "4    PowerBI-60days\n",
       "Name: Courses, dtype: object"
      ]
     },
     "execution_count": 29,
     "metadata": {},
     "output_type": "execute_result"
    }
   ],
   "source": [
    "# Using Series.str.cat() function\n",
    "#df[\"Period\"] = df[\"Courses\"].str.cat(df[\"Duration\"], sep=\"-\")\n",
    "df[\"Courses\"].str.cat(df[\"Duration\"], sep=\"-\")"
   ]
  },
  {
   "cell_type": "code",
   "execution_count": 30,
   "id": "17f4473c",
   "metadata": {},
   "outputs": [
    {
     "data": {
      "text/plain": [
       "0     Python-30days\n",
       "1          R-40days\n",
       "2     Hadoop-35days\n",
       "3    Tableau-40days\n",
       "4    PowerBI-60days\n",
       "dtype: object"
      ]
     },
     "execution_count": 30,
     "metadata": {},
     "output_type": "execute_result"
    }
   ],
   "source": [
    "# Using DataFrame.apply() and lambda function\n",
    "#df[\"Period\"] = df[[\"Courses\", \"Duration\"]].apply(lambda x: \"-\".join(x), axis =1)\n",
    "df[[\"Courses\", \"Duration\"]].apply(lambda x: \"-\".join(x), axis =1)"
   ]
  },
  {
   "cell_type": "code",
   "execution_count": 31,
   "id": "cac9eab3",
   "metadata": {},
   "outputs": [
    {
     "data": {
      "text/plain": [
       "0     Python-30days\n",
       "1          R-40days\n",
       "2     Hadoop-35days\n",
       "3    Tableau-40days\n",
       "4    PowerBI-60days\n",
       "dtype: object"
      ]
     },
     "execution_count": 31,
     "metadata": {},
     "output_type": "execute_result"
    }
   ],
   "source": [
    "# Using map() function to combine two columns of text\n",
    "#df[\"Period\"] = df[\"Courses\"].map(str) + \"-\" + df[\"Duration\"]\n",
    "df[\"Courses\"].map(str) + \"-\" + df[\"Duration\"]"
   ]
  },
  {
   "cell_type": "markdown",
   "id": "4b9690fb",
   "metadata": {},
   "source": [
    "## Frequency of a Value"
   ]
  },
  {
   "cell_type": "code",
   "execution_count": 32,
   "id": "353c4392",
   "metadata": {},
   "outputs": [
    {
     "data": {
      "text/plain": [
       "Python     1\n",
       "R          1\n",
       "Hadoop     1\n",
       "Tableau    1\n",
       "PowerBI    1\n",
       "Name: Courses, dtype: int64"
      ]
     },
     "execution_count": 32,
     "metadata": {},
     "output_type": "execute_result"
    }
   ],
   "source": [
    "#Using pandas way, Series.value_counts()\n",
    "df['Courses'].value_counts()"
   ]
  },
  {
   "cell_type": "code",
   "execution_count": 33,
   "id": "b6c84e1c",
   "metadata": {},
   "outputs": [
    {
     "data": {
      "text/plain": [
       "<bound method IndexOpsMixin.value_counts of 0     Python\n",
       "1          R\n",
       "2     Hadoop\n",
       "3    Tableau\n",
       "4    PowerBI\n",
       "Name: Courses, dtype: object>"
      ]
     },
     "execution_count": 33,
     "metadata": {},
     "output_type": "execute_result"
    }
   ],
   "source": [
    "df.Courses.value_counts"
   ]
  },
  {
   "cell_type": "code",
   "execution_count": 34,
   "id": "c0b5c7e8",
   "metadata": {},
   "outputs": [
    {
     "data": {
      "text/html": [
       "<div>\n",
       "<style scoped>\n",
       "    .dataframe tbody tr th:only-of-type {\n",
       "        vertical-align: middle;\n",
       "    }\n",
       "\n",
       "    .dataframe tbody tr th {\n",
       "        vertical-align: top;\n",
       "    }\n",
       "\n",
       "    .dataframe thead th {\n",
       "        text-align: right;\n",
       "    }\n",
       "</style>\n",
       "<table border=\"1\" class=\"dataframe\">\n",
       "  <thead>\n",
       "    <tr style=\"text-align: right;\">\n",
       "      <th></th>\n",
       "      <th>Fee</th>\n",
       "      <th>Duration</th>\n",
       "      <th>Discount</th>\n",
       "    </tr>\n",
       "    <tr>\n",
       "      <th>Courses</th>\n",
       "      <th></th>\n",
       "      <th></th>\n",
       "      <th></th>\n",
       "    </tr>\n",
       "  </thead>\n",
       "  <tbody>\n",
       "    <tr>\n",
       "      <th>Hadoop</th>\n",
       "      <td>1</td>\n",
       "      <td>1</td>\n",
       "      <td>1</td>\n",
       "    </tr>\n",
       "    <tr>\n",
       "      <th>PowerBI</th>\n",
       "      <td>1</td>\n",
       "      <td>1</td>\n",
       "      <td>1</td>\n",
       "    </tr>\n",
       "    <tr>\n",
       "      <th>Python</th>\n",
       "      <td>1</td>\n",
       "      <td>1</td>\n",
       "      <td>1</td>\n",
       "    </tr>\n",
       "    <tr>\n",
       "      <th>R</th>\n",
       "      <td>1</td>\n",
       "      <td>1</td>\n",
       "      <td>1</td>\n",
       "    </tr>\n",
       "    <tr>\n",
       "      <th>Tableau</th>\n",
       "      <td>1</td>\n",
       "      <td>1</td>\n",
       "      <td>1</td>\n",
       "    </tr>\n",
       "  </tbody>\n",
       "</table>\n",
       "</div>"
      ],
      "text/plain": [
       "         Fee  Duration  Discount\n",
       "Courses                         \n",
       "Hadoop     1         1         1\n",
       "PowerBI    1         1         1\n",
       "Python     1         1         1\n",
       "R          1         1         1\n",
       "Tableau    1         1         1"
      ]
     },
     "execution_count": 34,
     "metadata": {},
     "output_type": "execute_result"
    }
   ],
   "source": [
    "# Using groupby() & count()\n",
    "df.groupby('Courses').count()"
   ]
  },
  {
   "cell_type": "code",
   "execution_count": 35,
   "id": "e1d57c30",
   "metadata": {},
   "outputs": [
    {
     "data": {
      "text/plain": [
       "0    1\n",
       "1    1\n",
       "2    1\n",
       "3    1\n",
       "4    1\n",
       "Name: Courses, dtype: int64"
      ]
     },
     "execution_count": 35,
     "metadata": {},
     "output_type": "execute_result"
    }
   ],
   "source": [
    "# Add frequecy count as new column to DataFrame\n",
    "#df['freq_count'] = df.groupby('Courses')['Courses'].transform('count')\n",
    "df.groupby('Courses')['Courses'].transform('count')"
   ]
  },
  {
   "cell_type": "code",
   "execution_count": 36,
   "id": "d7a08327",
   "metadata": {},
   "outputs": [
    {
     "data": {
      "text/html": [
       "<div>\n",
       "<style scoped>\n",
       "    .dataframe tbody tr th:only-of-type {\n",
       "        vertical-align: middle;\n",
       "    }\n",
       "\n",
       "    .dataframe tbody tr th {\n",
       "        vertical-align: top;\n",
       "    }\n",
       "\n",
       "    .dataframe thead th {\n",
       "        text-align: right;\n",
       "    }\n",
       "</style>\n",
       "<table border=\"1\" class=\"dataframe\">\n",
       "  <thead>\n",
       "    <tr style=\"text-align: right;\">\n",
       "      <th></th>\n",
       "      <th></th>\n",
       "      <th>Duration</th>\n",
       "      <th>Discount</th>\n",
       "    </tr>\n",
       "    <tr>\n",
       "      <th>Courses</th>\n",
       "      <th>Fee</th>\n",
       "      <th></th>\n",
       "      <th></th>\n",
       "    </tr>\n",
       "  </thead>\n",
       "  <tbody>\n",
       "    <tr>\n",
       "      <th>Hadoop</th>\n",
       "      <th>26000</th>\n",
       "      <td>1</td>\n",
       "      <td>1</td>\n",
       "    </tr>\n",
       "    <tr>\n",
       "      <th>PowerBI</th>\n",
       "      <th>24000</th>\n",
       "      <td>1</td>\n",
       "      <td>1</td>\n",
       "    </tr>\n",
       "    <tr>\n",
       "      <th>Python</th>\n",
       "      <th>20000</th>\n",
       "      <td>1</td>\n",
       "      <td>1</td>\n",
       "    </tr>\n",
       "    <tr>\n",
       "      <th>R</th>\n",
       "      <th>25000</th>\n",
       "      <td>1</td>\n",
       "      <td>1</td>\n",
       "    </tr>\n",
       "    <tr>\n",
       "      <th>Tableau</th>\n",
       "      <th>22000</th>\n",
       "      <td>1</td>\n",
       "      <td>1</td>\n",
       "    </tr>\n",
       "  </tbody>\n",
       "</table>\n",
       "</div>"
      ],
      "text/plain": [
       "               Duration  Discount\n",
       "Courses Fee                      \n",
       "Hadoop  26000         1         1\n",
       "PowerBI 24000         1         1\n",
       "Python  20000         1         1\n",
       "R       25000         1         1\n",
       "Tableau 22000         1         1"
      ]
     },
     "execution_count": 36,
     "metadata": {},
     "output_type": "execute_result"
    }
   ],
   "source": [
    "# Getting value counts of multiple columns\n",
    "df.groupby(['Courses', 'Fee']).count()"
   ]
  },
  {
   "cell_type": "code",
   "execution_count": 37,
   "id": "7279eb6d",
   "metadata": {},
   "outputs": [
    {
     "data": {
      "text/plain": [
       "0    1\n",
       "1    1\n",
       "2    1\n",
       "3    1\n",
       "4    1\n",
       "dtype: int64"
      ]
     },
     "execution_count": 37,
     "metadata": {},
     "output_type": "execute_result"
    }
   ],
   "source": [
    "# Get occurence of value by index (row label)\n",
    "df.index.value_counts()"
   ]
  },
  {
   "cell_type": "code",
   "execution_count": 38,
   "id": "3cc3a26c",
   "metadata": {},
   "outputs": [
    {
     "data": {
      "text/plain": [
       "Python     1\n",
       "R          1\n",
       "Hadoop     1\n",
       "Tableau    1\n",
       "PowerBI    1\n",
       "Name: Courses, dtype: int64"
      ]
     },
     "execution_count": 38,
     "metadata": {},
     "output_type": "execute_result"
    }
   ],
   "source": [
    "# Include NaN, None, Null values in the count.\n",
    "df['Courses'].value_counts(dropna=False)"
   ]
  },
  {
   "cell_type": "code",
   "execution_count": null,
   "id": "a2fcff7b",
   "metadata": {},
   "outputs": [],
   "source": []
  }
 ],
 "metadata": {
  "kernelspec": {
   "display_name": "Python 3 (ipykernel)",
   "language": "python",
   "name": "python3"
  },
  "language_info": {
   "codemirror_mode": {
    "name": "ipython",
    "version": 3
   },
   "file_extension": ".py",
   "mimetype": "text/x-python",
   "name": "python",
   "nbconvert_exporter": "python",
   "pygments_lexer": "ipython3",
   "version": "3.9.13"
  }
 },
 "nbformat": 4,
 "nbformat_minor": 5
}
