{
 "cells": [
  {
   "cell_type": "markdown",
   "id": "b2b453f0",
   "metadata": {},
   "source": [
    "# Create DF\n",
    "in different ways"
   ]
  },
  {
   "cell_type": "code",
   "execution_count": 2,
   "id": "90adb890",
   "metadata": {},
   "outputs": [],
   "source": [
    "import numpy as np\n",
    "import pandas as pd"
   ]
  },
  {
   "cell_type": "code",
   "execution_count": null,
   "id": "7c979347",
   "metadata": {},
   "outputs": [],
   "source": []
  },
  {
   "cell_type": "code",
   "execution_count": 137,
   "id": "dd3eeebf",
   "metadata": {},
   "outputs": [
    {
     "name": "stdout",
     "output_type": "stream",
     "text": [
      "<class 'list'> \n",
      " [1, 2, 3, 4, 5]\n",
      "<class 'list'> \n",
      " ['1', '2', '3', '4', '5']\n"
     ]
    }
   ],
   "source": [
    "## DF from strings\n",
    "#nos = np.array(np.arange(1,50,1))\n",
    "nos = [1,2,3,4,5]\n",
    "print(type(nos), '\\n', nos)\n",
    "nos2 = [str(item).zfill(3) for item in nos]\n",
    "print(type(nos1), '\\n',nos1)"
   ]
  },
  {
   "cell_type": "code",
   "execution_count": 105,
   "id": "63ef7d77",
   "metadata": {},
   "outputs": [
    {
     "name": "stdout",
     "output_type": "stream",
     "text": [
      "['A1', 'A2', 'A3', 'A4', 'A5', 'A6', 'A7', 'A8', 'A9', 'A10', 'A11', 'A12', 'A13', 'A14', 'A15', 'A16', 'A17', 'A18', 'A19', 'A20', 'A21', 'A22', 'A23', 'A24', 'A25', 'A26', 'A27', 'A28', 'A29', 'A30', 'A31', 'A32', 'A33', 'A34', 'A35', 'A36', 'A37', 'A38', 'A39', 'A40', 'A41', 'A42', 'A43', 'A44', 'A45', 'A46', 'A47', 'A48', 'A49']\n"
     ]
    }
   ],
   "source": [
    "prefix = 'A'\n",
    "rollno = [prefix + str(i) for i in range(1, 50,1)]\n",
    "print(rollno)"
   ]
  },
  {
   "cell_type": "code",
   "execution_count": 148,
   "id": "926dce71",
   "metadata": {},
   "outputs": [
    {
     "name": "stdout",
     "output_type": "stream",
     "text": [
      "['A001', 'A002', 'A003', 'A004', 'A005']\n"
     ]
    }
   ],
   "source": [
    "prefix = 'A'\n",
    "rollno2 = [prefix + str(i) for i in nos2]\n",
    "print(rollno2)"
   ]
  },
  {
   "cell_type": "markdown",
   "id": "67b456b8",
   "metadata": {},
   "source": [
    "## Product1 "
   ]
  },
  {
   "cell_type": "code",
   "execution_count": 4,
   "id": "8c73ab23",
   "metadata": {},
   "outputs": [
    {
     "name": "stdout",
     "output_type": "stream",
     "text": [
      "[1. 5.] \t [0. 4. 8.]\n"
     ]
    }
   ],
   "source": [
    "# From Product like expand in R\n",
    "a = np.linspace(1,5,2)\n",
    "b = np.linspace(0,8,3)\n",
    "print(a ,'\\t', b)"
   ]
  },
  {
   "cell_type": "code",
   "execution_count": 9,
   "id": "9db03a8a",
   "metadata": {},
   "outputs": [
    {
     "data": {
      "text/plain": [
       "<bound method NDFrame.head of            0    1\n",
       "1.0 0.0  1.0  0.0\n",
       "    4.0  1.0  4.0\n",
       "    8.0  1.0  8.0\n",
       "5.0 0.0  5.0  0.0\n",
       "    4.0  5.0  4.0\n",
       "    8.0  5.0  8.0>"
      ]
     },
     "execution_count": 9,
     "metadata": {},
     "output_type": "execute_result"
    }
   ],
   "source": [
    "df1 = pd.MultiIndex.from_product([a, b]).to_frame()\n",
    "df1.head"
   ]
  },
  {
   "cell_type": "code",
   "execution_count": 29,
   "id": "9d4c85f5",
   "metadata": {},
   "outputs": [
    {
     "name": "stdout",
     "output_type": "stream",
     "text": [
      "     a    b\n",
      "0  1.0  0.0\n",
      "1  1.0  4.0\n",
      "2  1.0  8.0\n",
      "3  5.0  0.0\n",
      "4  5.0  4.0\n",
      "5  5.0  8.0\n"
     ]
    }
   ],
   "source": [
    "df1 = pd.MultiIndex.from_product([a, b], names=['a','b']).to_frame(index=False)\n",
    "print(df1)"
   ]
  },
  {
   "cell_type": "code",
   "execution_count": 31,
   "id": "9a2315e5",
   "metadata": {},
   "outputs": [
    {
     "data": {
      "text/html": [
       "<div>\n",
       "<style scoped>\n",
       "    .dataframe tbody tr th:only-of-type {\n",
       "        vertical-align: middle;\n",
       "    }\n",
       "\n",
       "    .dataframe tbody tr th {\n",
       "        vertical-align: top;\n",
       "    }\n",
       "\n",
       "    .dataframe thead th {\n",
       "        text-align: right;\n",
       "    }\n",
       "</style>\n",
       "<table border=\"1\" class=\"dataframe\">\n",
       "  <thead>\n",
       "    <tr style=\"text-align: right;\">\n",
       "      <th></th>\n",
       "      <th>colA</th>\n",
       "      <th>colB</th>\n",
       "    </tr>\n",
       "  </thead>\n",
       "  <tbody>\n",
       "    <tr>\n",
       "      <th>0</th>\n",
       "      <td>1.0</td>\n",
       "      <td>0.0</td>\n",
       "    </tr>\n",
       "    <tr>\n",
       "      <th>1</th>\n",
       "      <td>1.0</td>\n",
       "      <td>4.0</td>\n",
       "    </tr>\n",
       "    <tr>\n",
       "      <th>2</th>\n",
       "      <td>1.0</td>\n",
       "      <td>8.0</td>\n",
       "    </tr>\n",
       "    <tr>\n",
       "      <th>3</th>\n",
       "      <td>5.0</td>\n",
       "      <td>0.0</td>\n",
       "    </tr>\n",
       "    <tr>\n",
       "      <th>4</th>\n",
       "      <td>5.0</td>\n",
       "      <td>4.0</td>\n",
       "    </tr>\n",
       "  </tbody>\n",
       "</table>\n",
       "</div>"
      ],
      "text/plain": [
       "   colA  colB\n",
       "0   1.0   0.0\n",
       "1   1.0   4.0\n",
       "2   1.0   8.0\n",
       "3   5.0   0.0\n",
       "4   5.0   4.0"
      ]
     },
     "execution_count": 31,
     "metadata": {},
     "output_type": "execute_result"
    }
   ],
   "source": [
    "df1.rename(columns = {'a':'colA', 'b':'colB'}, inplace=True)\n",
    "df1.head()"
   ]
  },
  {
   "cell_type": "markdown",
   "id": "912b94a8",
   "metadata": {},
   "source": [
    "## Product 2"
   ]
  },
  {
   "cell_type": "code",
   "execution_count": 149,
   "id": "ddf6448f",
   "metadata": {},
   "outputs": [
    {
     "data": {
      "text/html": [
       "<div>\n",
       "<style scoped>\n",
       "    .dataframe tbody tr th:only-of-type {\n",
       "        vertical-align: middle;\n",
       "    }\n",
       "\n",
       "    .dataframe tbody tr th {\n",
       "        vertical-align: top;\n",
       "    }\n",
       "\n",
       "    .dataframe thead th {\n",
       "        text-align: right;\n",
       "    }\n",
       "</style>\n",
       "<table border=\"1\" class=\"dataframe\">\n",
       "  <thead>\n",
       "    <tr style=\"text-align: right;\">\n",
       "      <th></th>\n",
       "      <th>rollno</th>\n",
       "      <th>course</th>\n",
       "    </tr>\n",
       "  </thead>\n",
       "  <tbody>\n",
       "    <tr>\n",
       "      <th>0</th>\n",
       "      <td>1</td>\n",
       "      <td>C</td>\n",
       "    </tr>\n",
       "    <tr>\n",
       "      <th>1</th>\n",
       "      <td>1</td>\n",
       "      <td>R</td>\n",
       "    </tr>\n",
       "    <tr>\n",
       "      <th>2</th>\n",
       "      <td>1</td>\n",
       "      <td>Python</td>\n",
       "    </tr>\n",
       "    <tr>\n",
       "      <th>3</th>\n",
       "      <td>1</td>\n",
       "      <td>Java</td>\n",
       "    </tr>\n",
       "    <tr>\n",
       "      <th>4</th>\n",
       "      <td>2</td>\n",
       "      <td>C</td>\n",
       "    </tr>\n",
       "  </tbody>\n",
       "</table>\n",
       "</div>"
      ],
      "text/plain": [
       "   rollno  course\n",
       "0       1       C\n",
       "1       1       R\n",
       "2       1  Python\n",
       "3       1    Java\n",
       "4       2       C"
      ]
     },
     "execution_count": 149,
     "metadata": {},
     "output_type": "execute_result"
    }
   ],
   "source": [
    "rollno = [1,2,3,4,5]\n",
    "course = ['C','R','Python','Java']\n",
    "df2 = pd.MultiIndex.from_product([rollno, course], \n",
    "                names=['rollno', 'course']).to_frame(index=False)\n",
    "df2.head()"
   ]
  },
  {
   "cell_type": "code",
   "execution_count": 28,
   "id": "15c139df",
   "metadata": {},
   "outputs": [
    {
     "data": {
      "text/html": [
       "<div>\n",
       "<style scoped>\n",
       "    .dataframe tbody tr th:only-of-type {\n",
       "        vertical-align: middle;\n",
       "    }\n",
       "\n",
       "    .dataframe tbody tr th {\n",
       "        vertical-align: top;\n",
       "    }\n",
       "\n",
       "    .dataframe thead th {\n",
       "        text-align: right;\n",
       "    }\n",
       "</style>\n",
       "<table border=\"1\" class=\"dataframe\">\n",
       "  <thead>\n",
       "    <tr style=\"text-align: right;\">\n",
       "      <th></th>\n",
       "      <th>rollno</th>\n",
       "      <th>course</th>\n",
       "      <th>marks</th>\n",
       "    </tr>\n",
       "  </thead>\n",
       "  <tbody>\n",
       "    <tr>\n",
       "      <th>0</th>\n",
       "      <td>1</td>\n",
       "      <td>C</td>\n",
       "      <td>76</td>\n",
       "    </tr>\n",
       "    <tr>\n",
       "      <th>1</th>\n",
       "      <td>1</td>\n",
       "      <td>R</td>\n",
       "      <td>70</td>\n",
       "    </tr>\n",
       "    <tr>\n",
       "      <th>2</th>\n",
       "      <td>1</td>\n",
       "      <td>Python</td>\n",
       "      <td>54</td>\n",
       "    </tr>\n",
       "    <tr>\n",
       "      <th>3</th>\n",
       "      <td>1</td>\n",
       "      <td>Java</td>\n",
       "      <td>73</td>\n",
       "    </tr>\n",
       "    <tr>\n",
       "      <th>4</th>\n",
       "      <td>2</td>\n",
       "      <td>C</td>\n",
       "      <td>87</td>\n",
       "    </tr>\n",
       "  </tbody>\n",
       "</table>\n",
       "</div>"
      ],
      "text/plain": [
       "   rollno  course  marks\n",
       "0       1       C     76\n",
       "1       1       R     70\n",
       "2       1  Python     54\n",
       "3       1    Java     73\n",
       "4       2       C     87"
      ]
     },
     "execution_count": 28,
     "metadata": {},
     "output_type": "execute_result"
    }
   ],
   "source": [
    "df2['marks'] = np.random.randint(50,100, df2.shape[0])\n",
    "df2.head()"
   ]
  },
  {
   "cell_type": "markdown",
   "id": "69b7d298",
   "metadata": {},
   "source": [
    "## Header\n",
    "First create headers (columns and sub Columns) and then add data\n",
    "Then stack or unstack them"
   ]
  },
  {
   "cell_type": "code",
   "execution_count": 46,
   "id": "46a481a1",
   "metadata": {},
   "outputs": [
    {
     "name": "stdout",
     "output_type": "stream",
     "text": [
      "<class 'pandas.core.indexes.multi.MultiIndex'> \n",
      " MultiIndex([('Sem1', 'Subject1'),\n",
      "            ('Sem1', 'Subject2'),\n",
      "            ('Sem2', 'Subject1'),\n",
      "            ('Sem2', 'Subject2')],\n",
      "           ) \n",
      "\n"
     ]
    }
   ],
   "source": [
    "header = pd.MultiIndex.from_product([['Sem1','Sem2'],['Subject1','Subject2']])\n",
    "print(type(header), '\\n',header , '\\n')"
   ]
  },
  {
   "cell_type": "code",
   "execution_count": 47,
   "id": "ca2453b8",
   "metadata": {},
   "outputs": [
    {
     "name": "stdout",
     "output_type": "stream",
     "text": [
      "<class 'list'> \n",
      " [[12, 45, 67, 56], [78, 89, 45, 67], [45, 67, 89, 90], [67, 44, 56, 55]] \n",
      " (4, 4)\n"
     ]
    }
   ],
   "source": [
    "#data\n",
    "data =([[12,45,67,56], [78,89,45,67], [45,67,89,90], [67,44,56,55]])\n",
    "print(type(data), '\\n', data, '\\n', np.array(data).shape)\n",
    "# 4 rows and 4 columns ie 4 students rows"
   ]
  },
  {
   "cell_type": "code",
   "execution_count": 48,
   "id": "fbc7ad26",
   "metadata": {},
   "outputs": [],
   "source": [
    "# index\n",
    "rollno = ['A01','A02','A03','A04']"
   ]
  },
  {
   "cell_type": "code",
   "execution_count": 50,
   "id": "1061347a",
   "metadata": {},
   "outputs": [
    {
     "name": "stdout",
     "output_type": "stream",
     "text": [
      "        Sem1              Sem2         \n",
      "    Subject1 Subject2 Subject1 Subject2\n",
      "A01       12       45       67       56\n",
      "A02       78       89       45       67\n",
      "A03       45       67       89       90\n",
      "A04       67       44       56       55\n"
     ]
    }
   ],
   "source": [
    "# connect them\n",
    "df1 = pd.DataFrame(data, index = rollno, columns = header)\n",
    "print(df1)\n",
    "# Column Index : Level -1 = Sem1, Level-2 = Sem2"
   ]
  },
  {
   "cell_type": "code",
   "execution_count": 51,
   "id": "f2a0f92d",
   "metadata": {},
   "outputs": [
    {
     "data": {
      "text/html": [
       "<div>\n",
       "<style scoped>\n",
       "    .dataframe tbody tr th:only-of-type {\n",
       "        vertical-align: middle;\n",
       "    }\n",
       "\n",
       "    .dataframe tbody tr th {\n",
       "        vertical-align: top;\n",
       "    }\n",
       "\n",
       "    .dataframe thead th {\n",
       "        text-align: right;\n",
       "    }\n",
       "</style>\n",
       "<table border=\"1\" class=\"dataframe\">\n",
       "  <thead>\n",
       "    <tr style=\"text-align: right;\">\n",
       "      <th></th>\n",
       "      <th></th>\n",
       "      <th>Sem1</th>\n",
       "      <th>Sem2</th>\n",
       "    </tr>\n",
       "  </thead>\n",
       "  <tbody>\n",
       "    <tr>\n",
       "      <th rowspan=\"2\" valign=\"top\">A01</th>\n",
       "      <th>Subject1</th>\n",
       "      <td>12</td>\n",
       "      <td>67</td>\n",
       "    </tr>\n",
       "    <tr>\n",
       "      <th>Subject2</th>\n",
       "      <td>45</td>\n",
       "      <td>56</td>\n",
       "    </tr>\n",
       "    <tr>\n",
       "      <th rowspan=\"2\" valign=\"top\">A02</th>\n",
       "      <th>Subject1</th>\n",
       "      <td>78</td>\n",
       "      <td>45</td>\n",
       "    </tr>\n",
       "    <tr>\n",
       "      <th>Subject2</th>\n",
       "      <td>89</td>\n",
       "      <td>67</td>\n",
       "    </tr>\n",
       "    <tr>\n",
       "      <th rowspan=\"2\" valign=\"top\">A03</th>\n",
       "      <th>Subject1</th>\n",
       "      <td>45</td>\n",
       "      <td>89</td>\n",
       "    </tr>\n",
       "    <tr>\n",
       "      <th>Subject2</th>\n",
       "      <td>67</td>\n",
       "      <td>90</td>\n",
       "    </tr>\n",
       "    <tr>\n",
       "      <th rowspan=\"2\" valign=\"top\">A04</th>\n",
       "      <th>Subject1</th>\n",
       "      <td>67</td>\n",
       "      <td>56</td>\n",
       "    </tr>\n",
       "    <tr>\n",
       "      <th>Subject2</th>\n",
       "      <td>44</td>\n",
       "      <td>55</td>\n",
       "    </tr>\n",
       "  </tbody>\n",
       "</table>\n",
       "</div>"
      ],
      "text/plain": [
       "              Sem1  Sem2\n",
       "A01 Subject1    12    67\n",
       "    Subject2    45    56\n",
       "A02 Subject1    78    45\n",
       "    Subject2    89    67\n",
       "A03 Subject1    45    89\n",
       "    Subject2    67    90\n",
       "A04 Subject1    67    56\n",
       "    Subject2    44    55"
      ]
     },
     "execution_count": 51,
     "metadata": {},
     "output_type": "execute_result"
    }
   ],
   "source": [
    "df1.stack()  # rotate the data\n",
    "column index to row index"
   ]
  },
  {
   "cell_type": "code",
   "execution_count": 52,
   "id": "c12d1db8",
   "metadata": {},
   "outputs": [
    {
     "data": {
      "text/html": [
       "<div>\n",
       "<style scoped>\n",
       "    .dataframe tbody tr th:only-of-type {\n",
       "        vertical-align: middle;\n",
       "    }\n",
       "\n",
       "    .dataframe tbody tr th {\n",
       "        vertical-align: top;\n",
       "    }\n",
       "\n",
       "    .dataframe thead tr th {\n",
       "        text-align: left;\n",
       "    }\n",
       "</style>\n",
       "<table border=\"1\" class=\"dataframe\">\n",
       "  <thead>\n",
       "    <tr>\n",
       "      <th></th>\n",
       "      <th colspan=\"2\" halign=\"left\">Sem1</th>\n",
       "      <th colspan=\"2\" halign=\"left\">Sem2</th>\n",
       "    </tr>\n",
       "    <tr>\n",
       "      <th></th>\n",
       "      <th>Subject1</th>\n",
       "      <th>Subject2</th>\n",
       "      <th>Subject1</th>\n",
       "      <th>Subject2</th>\n",
       "    </tr>\n",
       "  </thead>\n",
       "  <tbody>\n",
       "    <tr>\n",
       "      <th>A01</th>\n",
       "      <td>12</td>\n",
       "      <td>45</td>\n",
       "      <td>67</td>\n",
       "      <td>56</td>\n",
       "    </tr>\n",
       "    <tr>\n",
       "      <th>A02</th>\n",
       "      <td>78</td>\n",
       "      <td>89</td>\n",
       "      <td>45</td>\n",
       "      <td>67</td>\n",
       "    </tr>\n",
       "    <tr>\n",
       "      <th>A03</th>\n",
       "      <td>45</td>\n",
       "      <td>67</td>\n",
       "      <td>89</td>\n",
       "      <td>90</td>\n",
       "    </tr>\n",
       "    <tr>\n",
       "      <th>A04</th>\n",
       "      <td>67</td>\n",
       "      <td>44</td>\n",
       "      <td>56</td>\n",
       "      <td>55</td>\n",
       "    </tr>\n",
       "  </tbody>\n",
       "</table>\n",
       "</div>"
      ],
      "text/plain": [
       "        Sem1              Sem2         \n",
       "    Subject1 Subject2 Subject1 Subject2\n",
       "A01       12       45       67       56\n",
       "A02       78       89       45       67\n",
       "A03       45       67       89       90\n",
       "A04       67       44       56       55"
      ]
     },
     "execution_count": 52,
     "metadata": {},
     "output_type": "execute_result"
    }
   ],
   "source": [
    "df1.stack().unstack() # stack - unstack = same as original"
   ]
  },
  {
   "cell_type": "code",
   "execution_count": 59,
   "id": "a4489ac0",
   "metadata": {},
   "outputs": [
    {
     "name": "stdout",
     "output_type": "stream",
     "text": [
      "          Subject1  Subject2\n",
      "A01 Sem1        12        45\n",
      "    Sem2        67        56\n",
      "A02 Sem1        78        89\n",
      "    Sem2        45        67\n",
      "A03 Sem1        45        67\n",
      "    Sem2        89        90\n",
      "A04 Sem1        67        44\n",
      "    Sem2        56        55\n"
     ]
    }
   ],
   "source": [
    "# Level wise stacking\n",
    "df1L0 = df1.stack(level=0)  # rotate the semester (Sem1 & Sem2)\n",
    "print(df1L0)"
   ]
  },
  {
   "cell_type": "code",
   "execution_count": 60,
   "id": "d4eea3e9",
   "metadata": {},
   "outputs": [
    {
     "name": "stdout",
     "output_type": "stream",
     "text": [
      "              Sem1  Sem2\n",
      "A01 Subject1    12    67\n",
      "    Subject2    45    56\n",
      "A02 Subject1    78    45\n",
      "    Subject2    89    67\n",
      "A03 Subject1    45    89\n",
      "    Subject2    67    90\n",
      "A04 Subject1    67    56\n",
      "    Subject2    44    55\n"
     ]
    }
   ],
   "source": [
    "df1L1 = df1.stack(level=1)  # rotate the subjects (Subject1 & Subject2)\n",
    "print(df1L1)"
   ]
  },
  {
   "cell_type": "code",
   "execution_count": 64,
   "id": "645d0291",
   "metadata": {},
   "outputs": [
    {
     "data": {
      "text/html": [
       "<div>\n",
       "<style scoped>\n",
       "    .dataframe tbody tr th:only-of-type {\n",
       "        vertical-align: middle;\n",
       "    }\n",
       "\n",
       "    .dataframe tbody tr th {\n",
       "        vertical-align: top;\n",
       "    }\n",
       "\n",
       "    .dataframe thead th {\n",
       "        text-align: right;\n",
       "    }\n",
       "</style>\n",
       "<table border=\"1\" class=\"dataframe\">\n",
       "  <thead>\n",
       "    <tr style=\"text-align: right;\">\n",
       "      <th></th>\n",
       "      <th>level_0</th>\n",
       "      <th>level_1</th>\n",
       "      <th>Sem1</th>\n",
       "      <th>Sem2</th>\n",
       "    </tr>\n",
       "  </thead>\n",
       "  <tbody>\n",
       "    <tr>\n",
       "      <th>0</th>\n",
       "      <td>A01</td>\n",
       "      <td>Subject1</td>\n",
       "      <td>12</td>\n",
       "      <td>67</td>\n",
       "    </tr>\n",
       "    <tr>\n",
       "      <th>1</th>\n",
       "      <td>A01</td>\n",
       "      <td>Subject2</td>\n",
       "      <td>45</td>\n",
       "      <td>56</td>\n",
       "    </tr>\n",
       "    <tr>\n",
       "      <th>2</th>\n",
       "      <td>A02</td>\n",
       "      <td>Subject1</td>\n",
       "      <td>78</td>\n",
       "      <td>45</td>\n",
       "    </tr>\n",
       "    <tr>\n",
       "      <th>3</th>\n",
       "      <td>A02</td>\n",
       "      <td>Subject2</td>\n",
       "      <td>89</td>\n",
       "      <td>67</td>\n",
       "    </tr>\n",
       "    <tr>\n",
       "      <th>4</th>\n",
       "      <td>A03</td>\n",
       "      <td>Subject1</td>\n",
       "      <td>45</td>\n",
       "      <td>89</td>\n",
       "    </tr>\n",
       "    <tr>\n",
       "      <th>5</th>\n",
       "      <td>A03</td>\n",
       "      <td>Subject2</td>\n",
       "      <td>67</td>\n",
       "      <td>90</td>\n",
       "    </tr>\n",
       "    <tr>\n",
       "      <th>6</th>\n",
       "      <td>A04</td>\n",
       "      <td>Subject1</td>\n",
       "      <td>67</td>\n",
       "      <td>56</td>\n",
       "    </tr>\n",
       "    <tr>\n",
       "      <th>7</th>\n",
       "      <td>A04</td>\n",
       "      <td>Subject2</td>\n",
       "      <td>44</td>\n",
       "      <td>55</td>\n",
       "    </tr>\n",
       "  </tbody>\n",
       "</table>\n",
       "</div>"
      ],
      "text/plain": [
       "  level_0   level_1  Sem1  Sem2\n",
       "0     A01  Subject1    12    67\n",
       "1     A01  Subject2    45    56\n",
       "2     A02  Subject1    78    45\n",
       "3     A02  Subject2    89    67\n",
       "4     A03  Subject1    45    89\n",
       "5     A03  Subject2    67    90\n",
       "6     A04  Subject1    67    56\n",
       "7     A04  Subject2    44    55"
      ]
     },
     "execution_count": 64,
     "metadata": {},
     "output_type": "execute_result"
    }
   ],
   "source": [
    "df1L1.reset_index() # bring index to columns"
   ]
  },
  {
   "cell_type": "code",
   "execution_count": 69,
   "id": "c525d6c4",
   "metadata": {},
   "outputs": [
    {
     "name": "stdout",
     "output_type": "stream",
     "text": [
      "Index(['A01', 'A01', 'A02', 'A02', 'A03', 'A03', 'A04', 'A04'], dtype='object')\n",
      "Index(['Subject1', 'Subject2', 'Subject1', 'Subject2', 'Subject1', 'Subject2',\n",
      "       'Subject1', 'Subject2'],\n",
      "      dtype='object')\n"
     ]
    }
   ],
   "source": [
    "print(df1L1.index.get_level_values(0)) # rollno\n",
    "print(df1L1.index.get_level_values(1))  #subject"
   ]
  },
  {
   "cell_type": "code",
   "execution_count": 72,
   "id": "fcfb2355",
   "metadata": {},
   "outputs": [
    {
     "data": {
      "text/html": [
       "<div>\n",
       "<style scoped>\n",
       "    .dataframe tbody tr th:only-of-type {\n",
       "        vertical-align: middle;\n",
       "    }\n",
       "\n",
       "    .dataframe tbody tr th {\n",
       "        vertical-align: top;\n",
       "    }\n",
       "\n",
       "    .dataframe thead th {\n",
       "        text-align: right;\n",
       "    }\n",
       "</style>\n",
       "<table border=\"1\" class=\"dataframe\">\n",
       "  <thead>\n",
       "    <tr style=\"text-align: right;\">\n",
       "      <th></th>\n",
       "      <th>level_0</th>\n",
       "      <th>Sem1</th>\n",
       "      <th>Sem2</th>\n",
       "    </tr>\n",
       "    <tr>\n",
       "      <th>level_1</th>\n",
       "      <th></th>\n",
       "      <th></th>\n",
       "      <th></th>\n",
       "    </tr>\n",
       "  </thead>\n",
       "  <tbody>\n",
       "    <tr>\n",
       "      <th>Subject1</th>\n",
       "      <td>4</td>\n",
       "      <td>4</td>\n",
       "      <td>4</td>\n",
       "    </tr>\n",
       "    <tr>\n",
       "      <th>Subject2</th>\n",
       "      <td>4</td>\n",
       "      <td>4</td>\n",
       "      <td>4</td>\n",
       "    </tr>\n",
       "  </tbody>\n",
       "</table>\n",
       "</div>"
      ],
      "text/plain": [
       "          level_0  Sem1  Sem2\n",
       "level_1                      \n",
       "Subject1        4     4     4\n",
       "Subject2        4     4     4"
      ]
     },
     "execution_count": 72,
     "metadata": {},
     "output_type": "execute_result"
    }
   ],
   "source": [
    "df1L1.reset_index(drop=False).groupby(by=['level_1']).count()"
   ]
  },
  {
   "cell_type": "code",
   "execution_count": 74,
   "id": "86a47d5e",
   "metadata": {},
   "outputs": [
    {
     "data": {
      "text/html": [
       "<div>\n",
       "<style scoped>\n",
       "    .dataframe tbody tr th:only-of-type {\n",
       "        vertical-align: middle;\n",
       "    }\n",
       "\n",
       "    .dataframe tbody tr th {\n",
       "        vertical-align: top;\n",
       "    }\n",
       "\n",
       "    .dataframe thead th {\n",
       "        text-align: right;\n",
       "    }\n",
       "</style>\n",
       "<table border=\"1\" class=\"dataframe\">\n",
       "  <thead>\n",
       "    <tr style=\"text-align: right;\">\n",
       "      <th></th>\n",
       "      <th>level_1</th>\n",
       "      <th>Sem1</th>\n",
       "      <th>Sem2</th>\n",
       "    </tr>\n",
       "  </thead>\n",
       "  <tbody>\n",
       "    <tr>\n",
       "      <th>A01</th>\n",
       "      <td>Subject1</td>\n",
       "      <td>12</td>\n",
       "      <td>67</td>\n",
       "    </tr>\n",
       "    <tr>\n",
       "      <th>A01</th>\n",
       "      <td>Subject2</td>\n",
       "      <td>45</td>\n",
       "      <td>56</td>\n",
       "    </tr>\n",
       "    <tr>\n",
       "      <th>A02</th>\n",
       "      <td>Subject1</td>\n",
       "      <td>78</td>\n",
       "      <td>45</td>\n",
       "    </tr>\n",
       "    <tr>\n",
       "      <th>A02</th>\n",
       "      <td>Subject2</td>\n",
       "      <td>89</td>\n",
       "      <td>67</td>\n",
       "    </tr>\n",
       "    <tr>\n",
       "      <th>A03</th>\n",
       "      <td>Subject1</td>\n",
       "      <td>45</td>\n",
       "      <td>89</td>\n",
       "    </tr>\n",
       "    <tr>\n",
       "      <th>A03</th>\n",
       "      <td>Subject2</td>\n",
       "      <td>67</td>\n",
       "      <td>90</td>\n",
       "    </tr>\n",
       "    <tr>\n",
       "      <th>A04</th>\n",
       "      <td>Subject1</td>\n",
       "      <td>67</td>\n",
       "      <td>56</td>\n",
       "    </tr>\n",
       "    <tr>\n",
       "      <th>A04</th>\n",
       "      <td>Subject2</td>\n",
       "      <td>44</td>\n",
       "      <td>55</td>\n",
       "    </tr>\n",
       "  </tbody>\n",
       "</table>\n",
       "</div>"
      ],
      "text/plain": [
       "      level_1  Sem1  Sem2\n",
       "A01  Subject1    12    67\n",
       "A01  Subject2    45    56\n",
       "A02  Subject1    78    45\n",
       "A02  Subject2    89    67\n",
       "A03  Subject1    45    89\n",
       "A03  Subject2    67    90\n",
       "A04  Subject1    67    56\n",
       "A04  Subject2    44    55"
      ]
     },
     "execution_count": 74,
     "metadata": {},
     "output_type": "execute_result"
    }
   ],
   "source": [
    "df1L1.reset_index(level=1)   #reset only 1 index columns"
   ]
  },
  {
   "cell_type": "code",
   "execution_count": 77,
   "id": "b53e7eeb",
   "metadata": {},
   "outputs": [
    {
     "name": "stdout",
     "output_type": "stream",
     "text": [
      "      subject  Sem1  Sem2\n",
      "A01  Subject1    12    67\n",
      "A01  Subject2    45    56\n",
      "A02  Subject1    78    45\n",
      "A02  Subject2    89    67\n",
      "A03  Subject1    45    89\n",
      "A03  Subject2    67    90\n",
      "A04  Subject1    67    56\n",
      "A04  Subject2    44    55\n"
     ]
    }
   ],
   "source": [
    "df1L1B = df1L1.reset_index(level=1).rename(columns={'level_1':'subject'})\n",
    "print(df1L1B)"
   ]
  },
  {
   "cell_type": "code",
   "execution_count": 88,
   "id": "66576373",
   "metadata": {},
   "outputs": [
    {
     "data": {
      "text/html": [
       "<div>\n",
       "<style scoped>\n",
       "    .dataframe tbody tr th:only-of-type {\n",
       "        vertical-align: middle;\n",
       "    }\n",
       "\n",
       "    .dataframe tbody tr th {\n",
       "        vertical-align: top;\n",
       "    }\n",
       "\n",
       "    .dataframe thead th {\n",
       "        text-align: right;\n",
       "    }\n",
       "</style>\n",
       "<table border=\"1\" class=\"dataframe\">\n",
       "  <thead>\n",
       "    <tr style=\"text-align: right;\">\n",
       "      <th></th>\n",
       "      <th>mean_Sem1</th>\n",
       "      <th>mean_Sem2</th>\n",
       "    </tr>\n",
       "    <tr>\n",
       "      <th>subject</th>\n",
       "      <th></th>\n",
       "      <th></th>\n",
       "    </tr>\n",
       "  </thead>\n",
       "  <tbody>\n",
       "    <tr>\n",
       "      <th>Subject1</th>\n",
       "      <td>50.50</td>\n",
       "      <td>64.25</td>\n",
       "    </tr>\n",
       "    <tr>\n",
       "      <th>Subject2</th>\n",
       "      <td>61.25</td>\n",
       "      <td>67.00</td>\n",
       "    </tr>\n",
       "  </tbody>\n",
       "</table>\n",
       "</div>"
      ],
      "text/plain": [
       "          mean_Sem1  mean_Sem2\n",
       "subject                       \n",
       "Subject1      50.50      64.25\n",
       "Subject2      61.25      67.00"
      ]
     },
     "execution_count": 88,
     "metadata": {},
     "output_type": "execute_result"
    }
   ],
   "source": [
    "df1L1B.groupby('subject', as_index=True).agg(mean_Sem1 = ('Sem1','mean'), mean_Sem2 = ('Sem2', 'mean'))\n",
    "# subject as index; calculate statistics later in aggregate"
   ]
  },
  {
   "cell_type": "code",
   "execution_count": 87,
   "id": "95008e44",
   "metadata": {},
   "outputs": [
    {
     "data": {
      "text/html": [
       "<div>\n",
       "<style scoped>\n",
       "    .dataframe tbody tr th:only-of-type {\n",
       "        vertical-align: middle;\n",
       "    }\n",
       "\n",
       "    .dataframe tbody tr th {\n",
       "        vertical-align: top;\n",
       "    }\n",
       "\n",
       "    .dataframe thead th {\n",
       "        text-align: right;\n",
       "    }\n",
       "</style>\n",
       "<table border=\"1\" class=\"dataframe\">\n",
       "  <thead>\n",
       "    <tr style=\"text-align: right;\">\n",
       "      <th></th>\n",
       "      <th>subject</th>\n",
       "      <th>Sem1</th>\n",
       "      <th>Sem2</th>\n",
       "    </tr>\n",
       "  </thead>\n",
       "  <tbody>\n",
       "    <tr>\n",
       "      <th>0</th>\n",
       "      <td>Subject1</td>\n",
       "      <td>50.50</td>\n",
       "      <td>64.25</td>\n",
       "    </tr>\n",
       "    <tr>\n",
       "      <th>1</th>\n",
       "      <td>Subject2</td>\n",
       "      <td>61.25</td>\n",
       "      <td>67.00</td>\n",
       "    </tr>\n",
       "  </tbody>\n",
       "</table>\n",
       "</div>"
      ],
      "text/plain": [
       "    subject   Sem1   Sem2\n",
       "0  Subject1  50.50  64.25\n",
       "1  Subject2  61.25  67.00"
      ]
     },
     "execution_count": 87,
     "metadata": {},
     "output_type": "execute_result"
    }
   ],
   "source": [
    "df1L1B.groupby('subject', as_index=False)[['Sem1','Sem2']].mean()\n",
    "#no index, filter columns after group by"
   ]
  },
  {
   "cell_type": "code",
   "execution_count": 91,
   "id": "6c801719",
   "metadata": {},
   "outputs": [
    {
     "data": {
      "text/html": [
       "<div>\n",
       "<style scoped>\n",
       "    .dataframe tbody tr th:only-of-type {\n",
       "        vertical-align: middle;\n",
       "    }\n",
       "\n",
       "    .dataframe tbody tr th {\n",
       "        vertical-align: top;\n",
       "    }\n",
       "\n",
       "    .dataframe thead th {\n",
       "        text-align: right;\n",
       "    }\n",
       "</style>\n",
       "<table border=\"1\" class=\"dataframe\">\n",
       "  <thead>\n",
       "    <tr style=\"text-align: right;\">\n",
       "      <th></th>\n",
       "      <th>subject</th>\n",
       "      <th>Sem1</th>\n",
       "      <th>Sem2</th>\n",
       "    </tr>\n",
       "  </thead>\n",
       "  <tbody>\n",
       "    <tr>\n",
       "      <th>0</th>\n",
       "      <td>Subject1</td>\n",
       "      <td>50.50</td>\n",
       "      <td>64.25</td>\n",
       "    </tr>\n",
       "    <tr>\n",
       "      <th>1</th>\n",
       "      <td>Subject2</td>\n",
       "      <td>61.25</td>\n",
       "      <td>67.00</td>\n",
       "    </tr>\n",
       "  </tbody>\n",
       "</table>\n",
       "</div>"
      ],
      "text/plain": [
       "    subject   Sem1   Sem2\n",
       "0  Subject1  50.50  64.25\n",
       "1  Subject2  61.25  67.00"
      ]
     },
     "execution_count": 91,
     "metadata": {},
     "output_type": "execute_result"
    }
   ],
   "source": [
    "df1L1B[['Sem1','Sem2', 'subject']].groupby('subject', as_index=False).mean()\n",
    "#filter columns first and then do group by"
   ]
  },
  {
   "cell_type": "code",
   "execution_count": 95,
   "id": "b0657138",
   "metadata": {},
   "outputs": [
    {
     "name": "stdout",
     "output_type": "stream",
     "text": [
      "        Sem1              Sem2         \n",
      "    Subject1 Subject2 Subject1 Subject2\n",
      "A01       12       45       67       56\n",
      "A02       78       89       45       67\n",
      "A03       45       67       89       90\n",
      "A04       67       44       56       55\n"
     ]
    },
    {
     "data": {
      "text/html": [
       "<div>\n",
       "<style scoped>\n",
       "    .dataframe tbody tr th:only-of-type {\n",
       "        vertical-align: middle;\n",
       "    }\n",
       "\n",
       "    .dataframe tbody tr th {\n",
       "        vertical-align: top;\n",
       "    }\n",
       "\n",
       "    .dataframe thead th {\n",
       "        text-align: right;\n",
       "    }\n",
       "</style>\n",
       "<table border=\"1\" class=\"dataframe\">\n",
       "  <thead>\n",
       "    <tr style=\"text-align: right;\">\n",
       "      <th></th>\n",
       "      <th>Subject1</th>\n",
       "      <th>Subject2</th>\n",
       "    </tr>\n",
       "  </thead>\n",
       "  <tbody>\n",
       "    <tr>\n",
       "      <th>A01</th>\n",
       "      <td>39.5</td>\n",
       "      <td>50.5</td>\n",
       "    </tr>\n",
       "    <tr>\n",
       "      <th>A02</th>\n",
       "      <td>61.5</td>\n",
       "      <td>78.0</td>\n",
       "    </tr>\n",
       "    <tr>\n",
       "      <th>A03</th>\n",
       "      <td>67.0</td>\n",
       "      <td>78.5</td>\n",
       "    </tr>\n",
       "    <tr>\n",
       "      <th>A04</th>\n",
       "      <td>61.5</td>\n",
       "      <td>49.5</td>\n",
       "    </tr>\n",
       "  </tbody>\n",
       "</table>\n",
       "</div>"
      ],
      "text/plain": [
       "     Subject1  Subject2\n",
       "A01      39.5      50.5\n",
       "A02      61.5      78.0\n",
       "A03      67.0      78.5\n",
       "A04      61.5      49.5"
      ]
     },
     "execution_count": 95,
     "metadata": {},
     "output_type": "execute_result"
    }
   ],
   "source": [
    "print(df1.head())\n"
   ]
  },
  {
   "cell_type": "code",
   "execution_count": 96,
   "id": "35033122",
   "metadata": {},
   "outputs": [
    {
     "data": {
      "text/html": [
       "<div>\n",
       "<style scoped>\n",
       "    .dataframe tbody tr th:only-of-type {\n",
       "        vertical-align: middle;\n",
       "    }\n",
       "\n",
       "    .dataframe tbody tr th {\n",
       "        vertical-align: top;\n",
       "    }\n",
       "\n",
       "    .dataframe thead th {\n",
       "        text-align: right;\n",
       "    }\n",
       "</style>\n",
       "<table border=\"1\" class=\"dataframe\">\n",
       "  <thead>\n",
       "    <tr style=\"text-align: right;\">\n",
       "      <th></th>\n",
       "      <th>Sem1</th>\n",
       "      <th>Sem2</th>\n",
       "    </tr>\n",
       "  </thead>\n",
       "  <tbody>\n",
       "    <tr>\n",
       "      <th>A01</th>\n",
       "      <td>28.5</td>\n",
       "      <td>61.5</td>\n",
       "    </tr>\n",
       "    <tr>\n",
       "      <th>A02</th>\n",
       "      <td>83.5</td>\n",
       "      <td>56.0</td>\n",
       "    </tr>\n",
       "    <tr>\n",
       "      <th>A03</th>\n",
       "      <td>56.0</td>\n",
       "      <td>89.5</td>\n",
       "    </tr>\n",
       "    <tr>\n",
       "      <th>A04</th>\n",
       "      <td>55.5</td>\n",
       "      <td>55.5</td>\n",
       "    </tr>\n",
       "  </tbody>\n",
       "</table>\n",
       "</div>"
      ],
      "text/plain": [
       "     Sem1  Sem2\n",
       "A01  28.5  61.5\n",
       "A02  83.5  56.0\n",
       "A03  56.0  89.5\n",
       "A04  55.5  55.5"
      ]
     },
     "execution_count": 96,
     "metadata": {},
     "output_type": "execute_result"
    }
   ],
   "source": [
    "df1.groupby(level=0, axis=1).mean()"
   ]
  },
  {
   "cell_type": "code",
   "execution_count": 97,
   "id": "62e1af3e",
   "metadata": {},
   "outputs": [
    {
     "data": {
      "text/html": [
       "<div>\n",
       "<style scoped>\n",
       "    .dataframe tbody tr th:only-of-type {\n",
       "        vertical-align: middle;\n",
       "    }\n",
       "\n",
       "    .dataframe tbody tr th {\n",
       "        vertical-align: top;\n",
       "    }\n",
       "\n",
       "    .dataframe thead th {\n",
       "        text-align: right;\n",
       "    }\n",
       "</style>\n",
       "<table border=\"1\" class=\"dataframe\">\n",
       "  <thead>\n",
       "    <tr style=\"text-align: right;\">\n",
       "      <th></th>\n",
       "      <th>Subject1</th>\n",
       "      <th>Subject2</th>\n",
       "    </tr>\n",
       "  </thead>\n",
       "  <tbody>\n",
       "    <tr>\n",
       "      <th>A01</th>\n",
       "      <td>39.5</td>\n",
       "      <td>50.5</td>\n",
       "    </tr>\n",
       "    <tr>\n",
       "      <th>A02</th>\n",
       "      <td>61.5</td>\n",
       "      <td>78.0</td>\n",
       "    </tr>\n",
       "    <tr>\n",
       "      <th>A03</th>\n",
       "      <td>67.0</td>\n",
       "      <td>78.5</td>\n",
       "    </tr>\n",
       "    <tr>\n",
       "      <th>A04</th>\n",
       "      <td>61.5</td>\n",
       "      <td>49.5</td>\n",
       "    </tr>\n",
       "  </tbody>\n",
       "</table>\n",
       "</div>"
      ],
      "text/plain": [
       "     Subject1  Subject2\n",
       "A01      39.5      50.5\n",
       "A02      61.5      78.0\n",
       "A03      67.0      78.5\n",
       "A04      61.5      49.5"
      ]
     },
     "execution_count": 97,
     "metadata": {},
     "output_type": "execute_result"
    }
   ],
   "source": [
    "df1.groupby(level=1, axis=1).mean()"
   ]
  },
  {
   "cell_type": "code",
   "execution_count": 102,
   "id": "af39fb8e",
   "metadata": {},
   "outputs": [
    {
     "data": {
      "text/plain": [
       "dict_keys(['Subject1', 'Subject2'])"
      ]
     },
     "execution_count": 102,
     "metadata": {},
     "output_type": "execute_result"
    }
   ],
   "source": [
    "df1.groupby(level=1, axis=1).groups.keys()"
   ]
  },
  {
   "cell_type": "code",
   "execution_count": null,
   "id": "12629be7",
   "metadata": {},
   "outputs": [],
   "source": []
  }
 ],
 "metadata": {
  "kernelspec": {
   "display_name": "Python 3 (ipykernel)",
   "language": "python",
   "name": "python3"
  },
  "language_info": {
   "codemirror_mode": {
    "name": "ipython",
    "version": 3
   },
   "file_extension": ".py",
   "mimetype": "text/x-python",
   "name": "python",
   "nbconvert_exporter": "python",
   "pygments_lexer": "ipython3",
   "version": "3.9.13"
  }
 },
 "nbformat": 4,
 "nbformat_minor": 5
}
