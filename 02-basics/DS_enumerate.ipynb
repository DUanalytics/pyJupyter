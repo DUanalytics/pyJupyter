{
 "cells": [
  {
   "cell_type": "markdown",
   "id": "2ef3141f",
   "metadata": {},
   "source": [
    "# Enumerate\n",
    "Ennumerate function takes a collection (eg tuple) and returns it as enumerate object\n",
    "this function adds a counter as the key of the enumerate object\n",
    "Syntax : enumerate(iterable, start)  : iterable - iterable object , start - number defining start point"
   ]
  },
  {
   "cell_type": "code",
   "execution_count": null,
   "id": "bceec2d8",
   "metadata": {},
   "outputs": [],
   "source": [
    "# Enumerate Object\n",
    "Are data types that comprise static, ordered set of values"
   ]
  },
  {
   "cell_type": "code",
   "execution_count": 1,
   "id": "5cd0aefa",
   "metadata": {},
   "outputs": [
    {
     "name": "stdout",
     "output_type": "stream",
     "text": [
      "('apple', 'banana', 'cherry')\n"
     ]
    }
   ],
   "source": [
    "# Eg1\n",
    "x = ('apple', 'banana', 'cherry')\n",
    "print(x)"
   ]
  },
  {
   "cell_type": "code",
   "execution_count": 2,
   "id": "4a013fac",
   "metadata": {},
   "outputs": [
    {
     "data": {
      "text/plain": [
       "tuple"
      ]
     },
     "execution_count": 2,
     "metadata": {},
     "output_type": "execute_result"
    }
   ],
   "source": [
    "type(x)"
   ]
  },
  {
   "cell_type": "code",
   "execution_count": 4,
   "id": "80302244",
   "metadata": {},
   "outputs": [
    {
     "data": {
      "text/plain": [
       "enumerate"
      ]
     },
     "execution_count": 4,
     "metadata": {},
     "output_type": "execute_result"
    }
   ],
   "source": [
    "y = enumerate(x)\n",
    "type(y)"
   ]
  },
  {
   "cell_type": "code",
   "execution_count": 5,
   "id": "4d045b6b",
   "metadata": {},
   "outputs": [
    {
     "name": "stdout",
     "output_type": "stream",
     "text": [
      "<enumerate object at 0x0000025E19630300>\n"
     ]
    }
   ],
   "source": [
    "print(y)"
   ]
  },
  {
   "cell_type": "code",
   "execution_count": 6,
   "id": "a60cdff5",
   "metadata": {},
   "outputs": [
    {
     "name": "stdout",
     "output_type": "stream",
     "text": [
      "[(0, 'apple'), (1, 'banana'), (2, 'cherry')]\n"
     ]
    }
   ],
   "source": [
    "print(list(y))\n",
    "#[(0, 'apple'), (1, 'banana'), (2, 'cherry')]"
   ]
  },
  {
   "cell_type": "code",
   "execution_count": 7,
   "id": "ddc92126",
   "metadata": {},
   "outputs": [
    {
     "name": "stdout",
     "output_type": "stream",
     "text": [
      "[(5, 'apple'), (6, 'banana'), (7, 'cherry')]\n"
     ]
    }
   ],
   "source": [
    "z = enumerate(x,5)\n",
    "print(list(z))"
   ]
  },
  {
   "cell_type": "markdown",
   "id": "035ac217",
   "metadata": {},
   "source": [
    "## example2"
   ]
  },
  {
   "cell_type": "code",
   "execution_count": 2,
   "id": "cd4fa622",
   "metadata": {},
   "outputs": [
    {
     "name": "stdout",
     "output_type": "stream",
     "text": [
      "['bread', 'milk', 'butter']\n"
     ]
    }
   ],
   "source": [
    "grocery = ['bread', 'milk', 'butter']\n",
    "print(grocery)"
   ]
  },
  {
   "cell_type": "code",
   "execution_count": 5,
   "id": "08163026",
   "metadata": {},
   "outputs": [
    {
     "name": "stdout",
     "output_type": "stream",
     "text": [
      "<class 'enumerate'> [(0, 'bread'), (1, 'milk'), (2, 'butter')]\n"
     ]
    }
   ],
   "source": [
    "enumerateGrocery = enumerate(grocery)\n",
    "print(type(enumerateGrocery), list(enumerateGrocery))"
   ]
  },
  {
   "cell_type": "code",
   "execution_count": 8,
   "id": "edaa2b17",
   "metadata": {},
   "outputs": [
    {
     "name": "stdout",
     "output_type": "stream",
     "text": [
      "(0, 'bread')\n",
      "(1, 'milk')\n",
      "(2, 'butter')\n"
     ]
    }
   ],
   "source": [
    "for item in enumerate(grocery):\n",
    "    print(item)"
   ]
  },
  {
   "cell_type": "code",
   "execution_count": 9,
   "id": "f6cb64e3",
   "metadata": {},
   "outputs": [
    {
     "name": "stdout",
     "output_type": "stream",
     "text": [
      "0 bread\n",
      "1 milk\n",
      "2 butter\n"
     ]
    }
   ],
   "source": [
    "for count, item in enumerate(grocery):\n",
    "    print(count, item)"
   ]
  },
  {
   "cell_type": "code",
   "execution_count": null,
   "id": "398ee86c",
   "metadata": {},
   "outputs": [],
   "source": [
    "# end of code for enumerate"
   ]
  }
 ],
 "metadata": {
  "kernelspec": {
   "display_name": "Python 3 (ipykernel)",
   "language": "python",
   "name": "python3"
  },
  "language_info": {
   "codemirror_mode": {
    "name": "ipython",
    "version": 3
   },
   "file_extension": ".py",
   "mimetype": "text/x-python",
   "name": "python",
   "nbconvert_exporter": "python",
   "pygments_lexer": "ipython3",
   "version": "3.9.15"
  }
 },
 "nbformat": 4,
 "nbformat_minor": 5
}
