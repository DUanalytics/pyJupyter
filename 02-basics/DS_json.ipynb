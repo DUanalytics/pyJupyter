{
 "cells": [
  {
   "cell_type": "markdown",
   "id": "9d53af83",
   "metadata": {},
   "source": [
    "##\n",
    "DS - JSON\n",
    "- JSON is an open standard file format and data interchange format that uses human-readable text to store and transmit data objects consisting of attribute–value pairs and arrays. It is a common data format with diverse uses in electronic data interchange, including that of web applications with servers\n",
    "- A JSON formatter is a tool that helps format JSON data to make it more readable and well-structured. It takes a JSON string as input and adds proper spacing, line breaks, and indentation. This makes it easier to understand and navigate the JSON structure\n",
    "- https://www.youtube.com/watch?v=cj3h3Fb10QY\n",
    "- https://www.youtube.com/watch?v=mOy2_HFBOwo"
   ]
  },
  {
   "cell_type": "code",
   "execution_count": null,
   "id": "5f8bc4e2",
   "metadata": {},
   "outputs": [],
   "source": [
    "#dictionary"
   ]
  },
  {
   "cell_type": "code",
   "execution_count": 1,
   "id": "e6c36d6f",
   "metadata": {},
   "outputs": [],
   "source": [
    "Winners = {'Nihar':3, 'Rohan':5, 'Zeba':3, 'Roshan':1, 'James':5}"
   ]
  },
  {
   "cell_type": "code",
   "execution_count": 2,
   "id": "7c3176fa",
   "metadata": {},
   "outputs": [
    {
     "data": {
      "text/plain": [
       "{'Nihar': 3, 'Rohan': 5, 'Zeba': 3, 'Roshan': 1, 'James': 5}"
      ]
     },
     "execution_count": 2,
     "metadata": {},
     "output_type": "execute_result"
    }
   ],
   "source": [
    "Winners"
   ]
  },
  {
   "cell_type": "code",
   "execution_count": 3,
   "id": "cd41473a",
   "metadata": {},
   "outputs": [
    {
     "name": "stdout",
     "output_type": "stream",
     "text": [
      "{'Nihar': 3, 'Rohan': 5, 'Zeba': 3, 'Roshan': 1, 'James': 5}\n"
     ]
    }
   ],
   "source": [
    "print(Winners)"
   ]
  },
  {
   "cell_type": "code",
   "execution_count": 4,
   "id": "9831f289",
   "metadata": {},
   "outputs": [],
   "source": [
    "# better print format"
   ]
  },
  {
   "cell_type": "code",
   "execution_count": 5,
   "id": "26ed7cd8",
   "metadata": {},
   "outputs": [],
   "source": [
    "import json"
   ]
  },
  {
   "cell_type": "code",
   "execution_count": 8,
   "id": "aee869f7",
   "metadata": {},
   "outputs": [
    {
     "name": "stdout",
     "output_type": "stream",
     "text": [
      "{\n",
      "  \"Nihar\": 3,\n",
      "  \"Rohan\": 5,\n",
      "  \"Zeba\": 3,\n",
      "  \"Roshan\": 1,\n",
      "  \"James\": 5\n",
      "}\n"
     ]
    }
   ],
   "source": [
    "print(json.dumps(Winners, indent=2))\n",
    "#leave space of 2 from left, print every key:value pair in separate file"
   ]
  },
  {
   "cell_type": "code",
   "execution_count": 12,
   "id": "f4b356f4",
   "metadata": {},
   "outputs": [
    {
     "name": "stdout",
     "output_type": "stream",
     "text": [
      "{'Nihar': 5, 'Rohan': 5, 'Zeba': 3, 'Roshan': 1, 'James': 5}\n"
     ]
    }
   ],
   "source": [
    "#change / update any value of key\n",
    "Winners['Nihar'] = 5\n",
    "print(Winners)"
   ]
  },
  {
   "cell_type": "code",
   "execution_count": 9,
   "id": "d11882c2",
   "metadata": {},
   "outputs": [],
   "source": [
    "# count freqof each element/ word in a sentence\n",
    "sentence = 'This is a super idea. This idea will change the idea of learning'"
   ]
  },
  {
   "cell_type": "code",
   "execution_count": 11,
   "id": "35578b3d",
   "metadata": {},
   "outputs": [
    {
     "name": "stdout",
     "output_type": "stream",
     "text": [
      "This is a super idea. This idea will change the idea of learning\n"
     ]
    }
   ],
   "source": [
    "print(sentence)\n",
    "words = sentence.split()  #separate each word, separated by space"
   ]
  },
  {
   "cell_type": "code",
   "execution_count": 19,
   "id": "1e2e6e6b",
   "metadata": {},
   "outputs": [
    {
     "data": {
      "text/plain": [
       "['Subha', 'Agrima', 'Shakti', 'Shilpi', 'Rishav', 'Roli']"
      ]
     },
     "execution_count": 19,
     "metadata": {},
     "output_type": "execute_result"
    }
   ],
   "source": [
    "sentence2 = 'Subha,Agrima,Shakti,Shilpi,Rishav,Roli'\n",
    "sentence2.split(',')  #split with comma as separator"
   ]
  },
  {
   "cell_type": "code",
   "execution_count": 14,
   "id": "fdb8368b",
   "metadata": {},
   "outputs": [
    {
     "name": "stdout",
     "output_type": "stream",
     "text": [
      "{'This': 2, 'is': 1, 'a': 1, 'super': 1, 'idea.': 1, 'idea': 2, 'will': 1, 'change': 1, 'the': 1, 'of': 1, 'learning': 1}\n"
     ]
    }
   ],
   "source": [
    "d = { }  #empty dictionary\n",
    "for one in words:\n",
    "    key = one\n",
    "    if key not in d:\n",
    "        count = words.count(key)\n",
    "        d[key] = count\n",
    "print(d)  #count as value of keys"
   ]
  },
  {
   "cell_type": "code",
   "execution_count": 16,
   "id": "80549ec2",
   "metadata": {},
   "outputs": [
    {
     "name": "stdout",
     "output_type": "stream",
     "text": [
      "Wrods in the sentence \n",
      " ['This', 'is', 'a', 'super', 'idea.', 'This', 'idea', 'will', 'change', 'the', 'idea', 'of', 'learning']\n"
     ]
    }
   ],
   "source": [
    "print('Wrods in the sentence \\n', words)"
   ]
  },
  {
   "cell_type": "code",
   "execution_count": 18,
   "id": "5ac71100",
   "metadata": {},
   "outputs": [
    {
     "name": "stdout",
     "output_type": "stream",
     "text": [
      "{\n",
      " \"This\": 2,\n",
      " \"is\": 1,\n",
      " \"a\": 1,\n",
      " \"super\": 1,\n",
      " \"idea.\": 1,\n",
      " \"idea\": 2,\n",
      " \"will\": 1,\n",
      " \"change\": 1,\n",
      " \"the\": 1,\n",
      " \"of\": 1,\n",
      " \"learning\": 1\n",
      "}\n"
     ]
    }
   ],
   "source": [
    "print(json.dumps(d, indent=1))  #each key-value pair in new line"
   ]
  },
  {
   "cell_type": "code",
   "execution_count": null,
   "id": "43f29e43",
   "metadata": {},
   "outputs": [],
   "source": []
  }
 ],
 "metadata": {
  "kernelspec": {
   "display_name": "Python 3 (ipykernel)",
   "language": "python",
   "name": "python3"
  },
  "language_info": {
   "codemirror_mode": {
    "name": "ipython",
    "version": 3
   },
   "file_extension": ".py",
   "mimetype": "text/x-python",
   "name": "python",
   "nbconvert_exporter": "python",
   "pygments_lexer": "ipython3",
   "version": "3.11.5"
  }
 },
 "nbformat": 4,
 "nbformat_minor": 5
}
