{
 "cells": [
  {
   "cell_type": "code",
   "execution_count": null,
   "id": "0d65f29a-f40e-4ff4-ba5c-529938ac0ecc",
   "metadata": {},
   "outputs": [],
   "source": [
    "# Regular Expression and String Manipulation"
   ]
  },
  {
   "cell_type": "code",
   "execution_count": null,
   "id": "94b98ae5-edd2-4ef4-8c86-20cd13b28d6d",
   "metadata": {},
   "outputs": [],
   "source": []
  },
  {
   "cell_type": "code",
   "execution_count": 1,
   "id": "470675da-70ec-41b2-9cbd-58ff645e4f14",
   "metadata": {},
   "outputs": [
    {
     "data": {
      "text/plain": [
       "True"
      ]
     },
     "execution_count": 1,
     "metadata": {},
     "output_type": "execute_result"
    }
   ],
   "source": [
    "x = 'a string'\n",
    "y = 'a string'\n",
    "x == y"
   ]
  },
  {
   "cell_type": "code",
   "execution_count": 2,
   "id": "1af30ea7-96ab-411c-8774-0eafb3dbf62d",
   "metadata": {},
   "outputs": [
    {
     "data": {
      "text/plain": [
       "'\\none\\ntwo\\nthree\\n'"
      ]
     },
     "execution_count": 2,
     "metadata": {},
     "output_type": "execute_result"
    }
   ],
   "source": [
    "multiline = \"\"\"\n",
    "one\n",
    "two\n",
    "three\n",
    "\"\"\"\n",
    "multiline"
   ]
  },
  {
   "cell_type": "code",
   "execution_count": 4,
   "id": "c5444308-5b62-4e31-b40e-15b83ff4eeff",
   "metadata": {},
   "outputs": [
    {
     "data": {
      "text/plain": [
       "'tHe qUICK bROWn fOx'"
      ]
     },
     "execution_count": 4,
     "metadata": {},
     "output_type": "execute_result"
    }
   ],
   "source": [
    "fox= \"tHe qUICK bROWn fOx\"\n",
    "fox"
   ]
  },
  {
   "cell_type": "code",
   "execution_count": 5,
   "id": "a21f5154-28ee-41e9-b32d-73c5d9785ffb",
   "metadata": {},
   "outputs": [
    {
     "data": {
      "text/plain": [
       "'THE QUICK BROWN FOX'"
      ]
     },
     "execution_count": 5,
     "metadata": {},
     "output_type": "execute_result"
    }
   ],
   "source": [
    "fox.upper()"
   ]
  },
  {
   "cell_type": "code",
   "execution_count": 6,
   "id": "da3ea8fe-e0dd-4fb4-ac52-ac61d3eb31a9",
   "metadata": {},
   "outputs": [
    {
     "data": {
      "text/plain": [
       "'the quick brown fox'"
      ]
     },
     "execution_count": 6,
     "metadata": {},
     "output_type": "execute_result"
    }
   ],
   "source": [
    "fox.lower()"
   ]
  },
  {
   "cell_type": "code",
   "execution_count": 7,
   "id": "5009266b-8e9f-4900-8118-ddb3a8e362cb",
   "metadata": {},
   "outputs": [
    {
     "data": {
      "text/plain": [
       "'The Quick Brown Fox'"
      ]
     },
     "execution_count": 7,
     "metadata": {},
     "output_type": "execute_result"
    }
   ],
   "source": [
    "fox.title()"
   ]
  },
  {
   "cell_type": "code",
   "execution_count": 9,
   "id": "b8157610-1629-467c-b341-3ace6ce473bb",
   "metadata": {},
   "outputs": [
    {
     "data": {
      "text/plain": [
       "'The quick brown fox'"
      ]
     },
     "execution_count": 9,
     "metadata": {},
     "output_type": "execute_result"
    }
   ],
   "source": [
    "fox.capitalize()"
   ]
  },
  {
   "cell_type": "code",
   "execution_count": 10,
   "id": "48ee75ea-79d6-4f8e-8bcf-d75b48e4992e",
   "metadata": {},
   "outputs": [
    {
     "data": {
      "text/plain": [
       "'ThE Quick BrowN FoX'"
      ]
     },
     "execution_count": 10,
     "metadata": {},
     "output_type": "execute_result"
    }
   ],
   "source": [
    "fox.swapcase()"
   ]
  },
  {
   "cell_type": "markdown",
   "id": "05cc5c4d-7f1f-4180-8cca-e8ba11b34472",
   "metadata": {},
   "source": [
    "## Removing Spaces"
   ]
  },
  {
   "cell_type": "code",
   "execution_count": 11,
   "id": "84f741d1-0ce9-4528-a1a1-cf92546ea23a",
   "metadata": {},
   "outputs": [
    {
     "data": {
      "text/plain": [
       "'       this is the content    '"
      ]
     },
     "execution_count": 11,
     "metadata": {},
     "output_type": "execute_result"
    }
   ],
   "source": [
    "line = '       this is the content    '\n",
    "line"
   ]
  },
  {
   "cell_type": "code",
   "execution_count": 12,
   "id": "e0b0f81e-df4b-431a-a6c7-34cea9ef3739",
   "metadata": {},
   "outputs": [
    {
     "data": {
      "text/plain": [
       "'this is the content'"
      ]
     },
     "execution_count": 12,
     "metadata": {},
     "output_type": "execute_result"
    }
   ],
   "source": [
    "line.strip()"
   ]
  },
  {
   "cell_type": "code",
   "execution_count": 13,
   "id": "5bc2f333-6886-481e-ab79-30488e379a6f",
   "metadata": {},
   "outputs": [
    {
     "data": {
      "text/plain": [
       "'this is the content    '"
      ]
     },
     "execution_count": 13,
     "metadata": {},
     "output_type": "execute_result"
    }
   ],
   "source": [
    "line.lstrip()"
   ]
  },
  {
   "cell_type": "code",
   "execution_count": 14,
   "id": "807687e5-bdd0-4efc-b9a0-8a6e40562540",
   "metadata": {},
   "outputs": [
    {
     "data": {
      "text/plain": [
       "'       this is the content'"
      ]
     },
     "execution_count": 14,
     "metadata": {},
     "output_type": "execute_result"
    }
   ],
   "source": [
    "line.rstrip()"
   ]
  },
  {
   "cell_type": "code",
   "execution_count": 32,
   "id": "4da6a26a-85e3-4164-8407-03a0f3fa86b3",
   "metadata": {},
   "outputs": [
    {
     "data": {
      "text/plain": [
       "'Rs0000000004305000'"
      ]
     },
     "execution_count": 32,
     "metadata": {},
     "output_type": "execute_result"
    }
   ],
   "source": [
    "num = \"Rs0000000004305000\"\n",
    "num"
   ]
  },
  {
   "cell_type": "code",
   "execution_count": 33,
   "id": "00c7b6fb-63ae-460e-bbc2-b038466a31f6",
   "metadata": {},
   "outputs": [
    {
     "data": {
      "text/plain": [
       "'Rs0000000004305'"
      ]
     },
     "execution_count": 33,
     "metadata": {},
     "output_type": "execute_result"
    }
   ],
   "source": [
    "num.strip('0')"
   ]
  },
  {
   "cell_type": "code",
   "execution_count": 34,
   "id": "d59e429f-255a-4eb9-94bb-7f0403040090",
   "metadata": {},
   "outputs": [
    {
     "data": {
      "text/plain": [
       "'Rs0000000004305000'"
      ]
     },
     "execution_count": 34,
     "metadata": {},
     "output_type": "execute_result"
    }
   ],
   "source": [
    "num.center(3)"
   ]
  },
  {
   "cell_type": "code",
   "execution_count": 36,
   "id": "a72e4013-df53-413b-b1f3-d7c0e8d43c35",
   "metadata": {},
   "outputs": [
    {
     "data": {
      "text/plain": [
       "'0000000004305000'"
      ]
     },
     "execution_count": 36,
     "metadata": {},
     "output_type": "execute_result"
    }
   ],
   "source": [
    "num.lstrip('Rs')"
   ]
  },
  {
   "cell_type": "code",
   "execution_count": 37,
   "id": "18a53ddb-fd2b-4e2b-9235-a3e52053bf9b",
   "metadata": {},
   "outputs": [
    {
     "data": {
      "text/plain": [
       "'Rs0000000004305000'"
      ]
     },
     "execution_count": 37,
     "metadata": {},
     "output_type": "execute_result"
    }
   ],
   "source": [
    "num.lstrip('0')"
   ]
  },
  {
   "cell_type": "code",
   "execution_count": 38,
   "id": "080d9d0f-44e1-484f-9cb4-346493b305f5",
   "metadata": {},
   "outputs": [
    {
     "data": {
      "text/plain": [
       "'4305000'"
      ]
     },
     "execution_count": 38,
     "metadata": {},
     "output_type": "execute_result"
    }
   ],
   "source": [
    "num.lstrip('Rs0')"
   ]
  },
  {
   "cell_type": "code",
   "execution_count": 30,
   "id": "da55ea40-8574-4eb8-8196-2abded5ff3c3",
   "metadata": {},
   "outputs": [
    {
     "data": {
      "text/plain": [
       "'0000000004305'"
      ]
     },
     "execution_count": 30,
     "metadata": {},
     "output_type": "execute_result"
    }
   ],
   "source": [
    "num.rstrip('0')"
   ]
  },
  {
   "cell_type": "code",
   "execution_count": 45,
   "id": "d2d6df31-dfd2-441b-93b1-b20a1fec389c",
   "metadata": {},
   "outputs": [
    {
     "data": {
      "text/plain": [
       "'  Rs0000000004305000'"
      ]
     },
     "execution_count": 45,
     "metadata": {},
     "output_type": "execute_result"
    }
   ],
   "source": [
    "num.rjust(20)"
   ]
  },
  {
   "cell_type": "code",
   "execution_count": 44,
   "id": "ab0f4a29-7a98-4d8b-8514-3b2af71898f3",
   "metadata": {},
   "outputs": [
    {
     "data": {
      "text/plain": [
       "'Rs0000000004305000  '"
      ]
     },
     "execution_count": 44,
     "metadata": {},
     "output_type": "execute_result"
    }
   ],
   "source": [
    "num.ljust(20)"
   ]
  },
  {
   "cell_type": "code",
   "execution_count": 47,
   "id": "824eaddf-09c6-4560-8137-f2b1557677d3",
   "metadata": {},
   "outputs": [
    {
     "data": {
      "text/plain": [
       "'00Rs0000000004305000'"
      ]
     },
     "execution_count": 47,
     "metadata": {},
     "output_type": "execute_result"
    }
   ],
   "source": [
    "num.zfill(20)"
   ]
  },
  {
   "cell_type": "markdown",
   "id": "61533b04-65d5-4c26-9222-3c6087f933bd",
   "metadata": {},
   "source": [
    "## Finding and Replacing\n",
    "find(), rfind(), index(), rindex(), replace()"
   ]
  },
  {
   "cell_type": "code",
   "execution_count": 48,
   "id": "bb419cb5-8eb7-4e21-b0ba-b702dc214030",
   "metadata": {},
   "outputs": [
    {
     "data": {
      "text/plain": [
       "'the quick brown fox jumps over the lazy little dog'"
      ]
     },
     "execution_count": 48,
     "metadata": {},
     "output_type": "execute_result"
    }
   ],
   "source": [
    "line2 = 'the quick brown fox jumps over the lazy little dog'\n",
    "line2"
   ]
  },
  {
   "cell_type": "code",
   "execution_count": 49,
   "id": "a4f40dc8-d6bb-468e-927b-a7d47d1ccf9f",
   "metadata": {},
   "outputs": [
    {
     "data": {
      "text/plain": [
       "-1"
      ]
     },
     "execution_count": 49,
     "metadata": {},
     "output_type": "execute_result"
    }
   ],
   "source": [
    "line.find('fox')\n",
    "# gives -1"
   ]
  },
  {
   "cell_type": "code",
   "execution_count": 50,
   "id": "41b931f9-18c4-4939-acd9-f2e1f1703281",
   "metadata": {},
   "outputs": [
    {
     "data": {
      "text/plain": [
       "16"
      ]
     },
     "execution_count": 50,
     "metadata": {},
     "output_type": "execute_result"
    }
   ],
   "source": [
    "line2.find('fox')"
   ]
  },
  {
   "cell_type": "code",
   "execution_count": 51,
   "id": "d4bae044-926f-4679-ba7d-ecf9b61dec42",
   "metadata": {},
   "outputs": [
    {
     "ename": "ValueError",
     "evalue": "substring not found",
     "output_type": "error",
     "traceback": [
      "\u001b[1;31m---------------------------------------------------------------------------\u001b[0m",
      "\u001b[1;31mValueError\u001b[0m                                Traceback (most recent call last)",
      "Cell \u001b[1;32mIn [51], line 1\u001b[0m\n\u001b[1;32m----> 1\u001b[0m \u001b[43mline\u001b[49m\u001b[38;5;241;43m.\u001b[39;49m\u001b[43mindex\u001b[49m\u001b[43m(\u001b[49m\u001b[38;5;124;43m'\u001b[39;49m\u001b[38;5;124;43mfox\u001b[39;49m\u001b[38;5;124;43m'\u001b[39;49m\u001b[43m)\u001b[49m\n",
      "\u001b[1;31mValueError\u001b[0m: substring not found"
     ]
    }
   ],
   "source": [
    "line.index('fox')\n",
    "#gives error"
   ]
  },
  {
   "cell_type": "code",
   "execution_count": 52,
   "id": "20bab1c9-43bb-4d5c-a287-dca149574995",
   "metadata": {},
   "outputs": [
    {
     "data": {
      "text/plain": [
       "16"
      ]
     },
     "execution_count": 52,
     "metadata": {},
     "output_type": "execute_result"
    }
   ],
   "source": [
    "line2.index('fox')"
   ]
  },
  {
   "cell_type": "code",
   "execution_count": 53,
   "id": "3a80c542-1c74-4c74-a76e-e945675809ae",
   "metadata": {},
   "outputs": [
    {
     "data": {
      "text/plain": [
       "31"
      ]
     },
     "execution_count": 53,
     "metadata": {},
     "output_type": "execute_result"
    }
   ],
   "source": [
    "line2.rfind('the')\n",
    "#first occurance"
   ]
  },
  {
   "cell_type": "code",
   "execution_count": 56,
   "id": "4fe7fb10-99a0-40eb-a285-14237a4a43e9",
   "metadata": {},
   "outputs": [
    {
     "data": {
      "text/plain": [
       "31"
      ]
     },
     "execution_count": 56,
     "metadata": {},
     "output_type": "execute_result"
    }
   ],
   "source": [
    "line2.rindex('the')"
   ]
  },
  {
   "cell_type": "code",
   "execution_count": 57,
   "id": "ff7978cf-dd78-4df1-b76a-af4bdd2d01cf",
   "metadata": {},
   "outputs": [
    {
     "data": {
      "text/plain": [
       "True"
      ]
     },
     "execution_count": 57,
     "metadata": {},
     "output_type": "execute_result"
    }
   ],
   "source": [
    "line2.endswith('dog')"
   ]
  },
  {
   "cell_type": "code",
   "execution_count": 58,
   "id": "065f73eb-2f31-4949-b9f1-7bab2d77a1fd",
   "metadata": {},
   "outputs": [
    {
     "data": {
      "text/plain": [
       "False"
      ]
     },
     "execution_count": 58,
     "metadata": {},
     "output_type": "execute_result"
    }
   ],
   "source": [
    "line2.startswith('fox')"
   ]
  },
  {
   "cell_type": "code",
   "execution_count": 60,
   "id": "5a79e729-cf08-4716-9a27-0c3c337a2bbc",
   "metadata": {},
   "outputs": [
    {
     "data": {
      "text/plain": [
       "'the quick brown lion jumps over the lazy little dog'"
      ]
     },
     "execution_count": 60,
     "metadata": {},
     "output_type": "execute_result"
    }
   ],
   "source": [
    "line2.replace('fox', 'lion')"
   ]
  },
  {
   "cell_type": "code",
   "execution_count": 62,
   "id": "2e83a3bf-14a7-43d7-94f3-b7627428ffed",
   "metadata": {},
   "outputs": [
    {
     "data": {
      "text/plain": [
       "'the quick br**wn f**x jumps **ver the lazy little d**g'"
      ]
     },
     "execution_count": 62,
     "metadata": {},
     "output_type": "execute_result"
    }
   ],
   "source": [
    "line2.replace('o','**')"
   ]
  },
  {
   "cell_type": "markdown",
   "id": "3671de30-6d51-4f28-a42d-8de9725fae41",
   "metadata": {},
   "source": [
    "## Splitting and Partitioning"
   ]
  },
  {
   "cell_type": "code",
   "execution_count": 63,
   "id": "0aab2ea0-2f46-49bc-a206-12543a9ebdad",
   "metadata": {},
   "outputs": [
    {
     "data": {
      "text/plain": [
       "('the quick brown ', 'fox', ' jumps over the lazy little dog')"
      ]
     },
     "execution_count": 63,
     "metadata": {},
     "output_type": "execute_result"
    }
   ],
   "source": [
    "line2.partition('fox')"
   ]
  },
  {
   "cell_type": "code",
   "execution_count": 64,
   "id": "4e0eeb5b-cc27-4dd2-9b01-e14290356f0e",
   "metadata": {},
   "outputs": [
    {
     "data": {
      "text/plain": [
       "['the quick brown ', ' jumps over the lazy little dog']"
      ]
     },
     "execution_count": 64,
     "metadata": {},
     "output_type": "execute_result"
    }
   ],
   "source": [
    "line2.split('fox')"
   ]
  },
  {
   "cell_type": "code",
   "execution_count": 65,
   "id": "90b28337-4d09-4450-8362-2062fd0e4461",
   "metadata": {},
   "outputs": [
    {
     "data": {
      "text/plain": [
       "['the',\n",
       " 'quick',\n",
       " 'brown',\n",
       " 'fox',\n",
       " 'jumps',\n",
       " 'over',\n",
       " 'the',\n",
       " 'lazy',\n",
       " 'little',\n",
       " 'dog']"
      ]
     },
     "execution_count": 65,
     "metadata": {},
     "output_type": "execute_result"
    }
   ],
   "source": [
    "line2.split()  #split at whitespace"
   ]
  },
  {
   "cell_type": "code",
   "execution_count": 67,
   "id": "b328f19f-05dc-434a-a73f-8b51a834fcc3",
   "metadata": {},
   "outputs": [
    {
     "data": {
      "text/plain": [
       "'1--2--3'"
      ]
     },
     "execution_count": 67,
     "metadata": {},
     "output_type": "execute_result"
    }
   ],
   "source": [
    "'--'.join(['1','2','3'])"
   ]
  },
  {
   "cell_type": "code",
   "execution_count": 70,
   "id": "badd834a-f1e2-4438-9d9d-64491d99bdb1",
   "metadata": {},
   "outputs": [
    {
     "name": "stdout",
     "output_type": "stream",
     "text": [
      "Dhiraj\n",
      "Upadhyaya\n",
      "Python\n"
     ]
    }
   ],
   "source": [
    "print('\\n'.join(['Dhiraj','Upadhyaya','Python']))"
   ]
  },
  {
   "cell_type": "markdown",
   "id": "314a5a47-371b-4aed-9c6d-84a2e17c34a9",
   "metadata": {},
   "source": [
    "## Format strings"
   ]
  },
  {
   "cell_type": "code",
   "execution_count": 71,
   "id": "0e25ea68-871f-454b-a492-4ad1958d6bbd",
   "metadata": {},
   "outputs": [
    {
     "data": {
      "text/plain": [
       "'3.14'"
      ]
     },
     "execution_count": 71,
     "metadata": {},
     "output_type": "execute_result"
    }
   ],
   "source": [
    "pi = 3.14\n",
    "str(pi)"
   ]
  },
  {
   "cell_type": "code",
   "execution_count": 73,
   "id": "7ba7364c-c80d-4e73-983a-c924845e8086",
   "metadata": {},
   "outputs": [
    {
     "data": {
      "text/plain": [
       "'Value of pi is 3.14'"
      ]
     },
     "execution_count": 73,
     "metadata": {},
     "output_type": "execute_result"
    }
   ],
   "source": [
    "'Value of pi is ' + str(pi)"
   ]
  },
  {
   "cell_type": "code",
   "execution_count": 75,
   "id": "bc9310cd-a18e-4a06-bca5-42ab935eb0d6",
   "metadata": {},
   "outputs": [
    {
     "data": {
      "text/plain": [
       "'Value of pi is 3.14'"
      ]
     },
     "execution_count": 75,
     "metadata": {},
     "output_type": "execute_result"
    }
   ],
   "source": [
    "'Value of pi is {}'.format(pi)"
   ]
  },
  {
   "cell_type": "code",
   "execution_count": 77,
   "id": "a8ee5c22-7d49-4bec-9f00-eea2d7c4400a",
   "metadata": {},
   "outputs": [
    {
     "data": {
      "text/plain": [
       "'Value of pi is 3.14 and sin 90 is 1.0'"
      ]
     },
     "execution_count": 77,
     "metadata": {},
     "output_type": "execute_result"
    }
   ],
   "source": [
    "'Value of pi is {0} and sin 90 is {1}'.format(pi, '1.0')"
   ]
  },
  {
   "cell_type": "code",
   "execution_count": 79,
   "id": "534dbf99-253b-4a83-8915-99760899fa86",
   "metadata": {},
   "outputs": [
    {
     "data": {
      "text/plain": [
       "'pi = 3.140'"
      ]
     },
     "execution_count": 79,
     "metadata": {},
     "output_type": "execute_result"
    }
   ],
   "source": [
    "'pi = {0:.3f}'.format(pi)"
   ]
  },
  {
   "cell_type": "markdown",
   "id": "1e2ec910-ddd7-46c0-a2e3-26414772c85f",
   "metadata": {},
   "source": [
    "#Regular Expressions\n",
    "compiled a regular expression, then used it to split a string. Just as Python's split() method returns a list of all substrings between whitespace, the regular expression split() method returns a list of all substrings between matches to the input pattern.\n",
    "\n",
    "In this case, the input is \"\\s+\": \"\\s\" is a special character that matches any whitespace (space, tab, newline, etc.), and the \"+\" is a character that indicates one or more of the entity preceding it. Thus, the regular expression matches any substring consisting of one or more spaces.\n",
    "\n",
    "The split() method here is basically a convenience routine built upon this pattern matching behavior; more fundamental is the match() method, which will tell you whether the beginning of a string matches the pattern:\n",
    "https://jakevdp.github.io/WhirlwindTourOfPython/14-strings-and-regular-expressions.html"
   ]
  },
  {
   "cell_type": "code",
   "execution_count": 89,
   "id": "309aa627-e6bf-4eb6-b3da-b00a20a3daf6",
   "metadata": {},
   "outputs": [
    {
     "name": "stdout",
     "output_type": "stream",
     "text": [
      " Volume in drive E is DU_SSD_E\n",
      " Volume Serial Number is 7E0D-BB6E\n",
      "\n",
      " Directory of E:\\analytics\\projects\\pyJupyter\\02-basics\n",
      "\n",
      "[.]                      [..]                     [.ipynb_checkpoints]\n",
      "DIE_csv.ipynb            DIE_excel.ipynb          DIE_googlesheet.ipynb\n",
      "DIE_importExport.ipynb   DS_dateTime.ipynb        DS_enumerate.ipynb\n",
      "DS_numpy.ipynb           DS_timeSeries1.ipynb     DS_timeSeries2.ipynb\n",
      "DS_zip.ipynb             DT_category.ipynb        DT_dataTypes.ipynb\n",
      "DT_dataTypes2.ipynb      DT_dictionary.ipynb      DT_lists.ipynb\n",
      "DT_pandas1.ipynb         DT_pandasIndex.ipynb     DT_set.ipynb\n",
      "DT_strings.ipynb         FN_forLoop.ipynb         FN_lambda.ipynb\n",
      "FN_print.ipynb           FN_read_csv.ipynb        FN_whileLoop.ipynb\n",
      "magicCommands.ipynb      PD_DF1.ipynb             STR_strings1.ipynb\n",
      "STR_strings2.ipynb       Untitled.ipynb           \n",
      "              29 File(s)        583,718 bytes\n",
      "               3 Dir(s)  238,922,379,264 bytes free\n"
     ]
    }
   ],
   "source": [
    "!dir /w\n",
    "#current dir"
   ]
  },
  {
   "cell_type": "code",
   "execution_count": 85,
   "id": "7946045b-f2f7-41f9-a58b-adc32aaf4a21",
   "metadata": {},
   "outputs": [],
   "source": [
    "import re\n"
   ]
  },
  {
   "cell_type": "code",
   "execution_count": 86,
   "id": "8a907400-ef9b-4bd0-9348-c87bb501e24a",
   "metadata": {},
   "outputs": [
    {
     "data": {
      "text/plain": [
       "re.compile(r'\\s+', re.UNICODE)"
      ]
     },
     "execution_count": 86,
     "metadata": {},
     "output_type": "execute_result"
    }
   ],
   "source": [
    "regex = re.compile('\\s+')\n",
    "#\\s+  any white space, 1 or more\n",
    "regex"
   ]
  },
  {
   "cell_type": "code",
   "execution_count": 87,
   "id": "17ab3c29-97f8-4675-985a-f6f480b7f835",
   "metadata": {},
   "outputs": [
    {
     "data": {
      "text/plain": [
       "['the',\n",
       " 'quick',\n",
       " 'brown',\n",
       " 'fox',\n",
       " 'jumps',\n",
       " 'over',\n",
       " 'the',\n",
       " 'lazy',\n",
       " 'little',\n",
       " 'dog']"
      ]
     },
     "execution_count": 87,
     "metadata": {},
     "output_type": "execute_result"
    }
   ],
   "source": [
    "regex.split(line2)\n",
    "#similar to split"
   ]
  },
  {
   "cell_type": "code",
   "execution_count": 90,
   "id": "3b620aef-6fde-456d-9f44-074c00eb129b",
   "metadata": {},
   "outputs": [
    {
     "data": {
      "text/plain": [
       "16"
      ]
     },
     "execution_count": 90,
     "metadata": {},
     "output_type": "execute_result"
    }
   ],
   "source": [
    "regex = re.compile('fox')\n",
    "match = regex.search(line2)\n",
    "match.start()"
   ]
  },
  {
   "cell_type": "code",
   "execution_count": 93,
   "id": "8e39a4e7-4907-4d15-beb7-af3b2f9d0bab",
   "metadata": {},
   "outputs": [
    {
     "data": {
      "text/plain": [
       "re.compile(r'fox', re.UNICODE)"
      ]
     },
     "execution_count": 93,
     "metadata": {},
     "output_type": "execute_result"
    }
   ],
   "source": [
    "regex  #string to be searched"
   ]
  },
  {
   "cell_type": "code",
   "execution_count": 91,
   "id": "8e903178-79c3-43de-afd0-a4418941e832",
   "metadata": {},
   "outputs": [
    {
     "data": {
      "text/plain": [
       "19"
      ]
     },
     "execution_count": 91,
     "metadata": {},
     "output_type": "execute_result"
    }
   ],
   "source": [
    "match.end()"
   ]
  },
  {
   "cell_type": "code",
   "execution_count": 92,
   "id": "ebacab09-3d85-4431-b29a-d7230d2f952a",
   "metadata": {},
   "outputs": [
    {
     "data": {
      "text/plain": [
       "'the quick brown LION jumps over the lazy little dog'"
      ]
     },
     "execution_count": 92,
     "metadata": {},
     "output_type": "execute_result"
    }
   ],
   "source": [
    "line2.replace('fox', 'LION')"
   ]
  },
  {
   "cell_type": "code",
   "execution_count": 94,
   "id": "99ad27d3-a9b8-42ae-9733-be1c263d892f",
   "metadata": {},
   "outputs": [
    {
     "data": {
      "text/plain": [
       "'the quick brown LION jumps over the lazy little dog'"
      ]
     },
     "execution_count": 94,
     "metadata": {},
     "output_type": "execute_result"
    }
   ],
   "source": [
    "regex.sub('LION', line2)"
   ]
  },
  {
   "cell_type": "markdown",
   "id": "ebd23db2-92d9-4dfb-bacc-a487a823102f",
   "metadata": {},
   "source": [
    "## more advanced egs\n"
   ]
  },
  {
   "cell_type": "code",
   "execution_count": 95,
   "id": "0fa7110f-b45d-462f-a906-785c866aaebb",
   "metadata": {},
   "outputs": [
    {
     "data": {
      "text/plain": [
       "re.compile(r'\\w+@\\w+\\.[a-z]{3}', re.UNICODE)"
      ]
     },
     "execution_count": 95,
     "metadata": {},
     "output_type": "execute_result"
    }
   ],
   "source": [
    "email = re.compile('\\w+@\\w+\\.[a-z]{3}')\n",
    "email"
   ]
  },
  {
   "cell_type": "code",
   "execution_count": 96,
   "id": "3c4abcbe-03e1-40af-b23f-4a8f31efc8ca",
   "metadata": {},
   "outputs": [
    {
     "data": {
      "text/plain": [
       "['dupadhyaya@python.org', 'dupadhyaya@google.com']"
      ]
     },
     "execution_count": 96,
     "metadata": {},
     "output_type": "execute_result"
    }
   ],
   "source": [
    "text = \"To email Dhiraj, try dupadhyaya@python.org or the older address dupadhyaya@google.com.\"\n",
    "email.findall(text)"
   ]
  },
  {
   "cell_type": "code",
   "execution_count": 97,
   "id": "2242d496-eb34-45bd-bb6d-711e7cf52392",
   "metadata": {},
   "outputs": [
    {
     "data": {
      "text/plain": [
       "'To email Dhiraj, try --@--.-- or the older address --@--.--.'"
      ]
     },
     "execution_count": 97,
     "metadata": {},
     "output_type": "execute_result"
    }
   ],
   "source": [
    "email.sub('--@--.--', text)"
   ]
  },
  {
   "cell_type": "code",
   "execution_count": null,
   "id": "33bc9d0e-eff6-4464-8ece-7ed47a98d065",
   "metadata": {},
   "outputs": [],
   "source": []
  }
 ],
 "metadata": {
  "kernelspec": {
   "display_name": "Python 3 (ipykernel)",
   "language": "python",
   "name": "python3"
  },
  "language_info": {
   "codemirror_mode": {
    "name": "ipython",
    "version": 3
   },
   "file_extension": ".py",
   "mimetype": "text/x-python",
   "name": "python",
   "nbconvert_exporter": "python",
   "pygments_lexer": "ipython3",
   "version": "3.9.15"
  }
 },
 "nbformat": 4,
 "nbformat_minor": 5
}
