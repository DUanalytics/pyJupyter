{
 "cells": [
  {
   "cell_type": "markdown",
   "id": "532c8e98",
   "metadata": {},
   "source": [
    "# Data Types\n",
    "data type is assigned when a value is assigned"
   ]
  },
  {
   "cell_type": "markdown",
   "id": "31bdf964",
   "metadata": {},
   "source": [
    "## Assignment when created"
   ]
  },
  {
   "cell_type": "code",
   "execution_count": 1,
   "id": "02d0c1fa",
   "metadata": {},
   "outputs": [
    {
     "name": "stdout",
     "output_type": "stream",
     "text": [
      "<class 'str'> Hello World\n"
     ]
    }
   ],
   "source": [
    "# string\n",
    "x = 'Hello World'\n",
    "print(type(x), x)"
   ]
  },
  {
   "cell_type": "code",
   "execution_count": 2,
   "id": "8a5ff3c5",
   "metadata": {},
   "outputs": [
    {
     "name": "stdout",
     "output_type": "stream",
     "text": [
      "<class 'int'> 20\n"
     ]
    }
   ],
   "source": [
    "# integer int\n",
    "x = 20\n",
    "print(type(x), x)"
   ]
  },
  {
   "cell_type": "code",
   "execution_count": 3,
   "id": "3e3d38f9",
   "metadata": {},
   "outputs": [
    {
     "name": "stdout",
     "output_type": "stream",
     "text": [
      "<class 'float'> 20.5\n"
     ]
    }
   ],
   "source": [
    "# float\n",
    "x = 20.5\n",
    "print(type(x), x)"
   ]
  },
  {
   "cell_type": "code",
   "execution_count": 4,
   "id": "09a5a027",
   "metadata": {},
   "outputs": [
    {
     "name": "stdout",
     "output_type": "stream",
     "text": [
      "<class 'complex'> 1j\n"
     ]
    }
   ],
   "source": [
    "# complex\n",
    "x = 1j\n",
    "print(type(x), x)"
   ]
  },
  {
   "cell_type": "code",
   "execution_count": 5,
   "id": "a845deaa",
   "metadata": {},
   "outputs": [
    {
     "name": "stdout",
     "output_type": "stream",
     "text": [
      "<class 'list'> ['Dhiraj', 'Kounal', 'Sumit']\n"
     ]
    }
   ],
   "source": [
    "# list\n",
    "x = ['Dhiraj', 'Kounal' , 'Sumit']\n",
    "print(type(x), x)"
   ]
  },
  {
   "cell_type": "code",
   "execution_count": 6,
   "id": "61547bd4",
   "metadata": {},
   "outputs": [
    {
     "name": "stdout",
     "output_type": "stream",
     "text": [
      "<class 'tuple'> ('Dhiraj', 'Kounal', 'Sumit')\n"
     ]
    }
   ],
   "source": [
    "# tuple : no change list\n",
    "x = ('Dhiraj', 'Kounal' , 'Sumit')\n",
    "print(type(x), x)"
   ]
  },
  {
   "cell_type": "code",
   "execution_count": 7,
   "id": "1dc56413",
   "metadata": {},
   "outputs": [
    {
     "name": "stdout",
     "output_type": "stream",
     "text": [
      "<class 'range'> range(0, 6)\n"
     ]
    }
   ],
   "source": [
    "# range\n",
    "x = range(6)\n",
    "print(type(x), x)"
   ]
  },
  {
   "cell_type": "code",
   "execution_count": 8,
   "id": "2cdfd5cd",
   "metadata": {},
   "outputs": [
    {
     "name": "stdout",
     "output_type": "stream",
     "text": [
      "<class 'dict'> {'name': 'Dhiraj', 'gender': 'M'}\n"
     ]
    }
   ],
   "source": [
    "# dictionary dict\n",
    "x = {'name':'Dhiraj', 'gender':'M'}\n",
    "print(type(x), x)"
   ]
  },
  {
   "cell_type": "code",
   "execution_count": 9,
   "id": "8a7d0f04",
   "metadata": {},
   "outputs": [
    {
     "name": "stdout",
     "output_type": "stream",
     "text": [
      "<class 'set'> {'Pakistan', 'India', 'Australia'}\n"
     ]
    }
   ],
   "source": [
    "# set \n",
    "x = {'India', 'Pakistan', 'Australia', 'India'}\n",
    "print(type(x), x)  #unsorted, no duplicates"
   ]
  },
  {
   "cell_type": "code",
   "execution_count": 10,
   "id": "353e283c",
   "metadata": {},
   "outputs": [
    {
     "name": "stdout",
     "output_type": "stream",
     "text": [
      "<class 'frozenset'> frozenset({'Pakistan', 'India', 'Australia'})\n"
     ]
    }
   ],
   "source": [
    "# frozen set \n",
    "x = frozenset({'India', 'Pakistan', 'Australia', 'India'})\n",
    "print(type(x), x)  #unsorted, no duplicates, no changes"
   ]
  },
  {
   "cell_type": "code",
   "execution_count": 11,
   "id": "e855f701",
   "metadata": {},
   "outputs": [
    {
     "name": "stdout",
     "output_type": "stream",
     "text": [
      "<class 'bool'> True\n"
     ]
    }
   ],
   "source": [
    "# boolean\n",
    "x = True\n",
    "print(type(x), x)  #logical"
   ]
  },
  {
   "cell_type": "markdown",
   "id": "de3aef31",
   "metadata": {},
   "source": [
    "## Assignment by function"
   ]
  },
  {
   "cell_type": "code",
   "execution_count": 12,
   "id": "a8bd75ab",
   "metadata": {},
   "outputs": [
    {
     "name": "stdout",
     "output_type": "stream",
     "text": [
      "<class 'str'> Hello World\n"
     ]
    }
   ],
   "source": [
    "# string\n",
    "x = str('Hello World')\n",
    "print(type(x), x)"
   ]
  },
  {
   "cell_type": "markdown",
   "id": "313dacd4",
   "metadata": {},
   "source": [
    "### and so on"
   ]
  },
  {
   "cell_type": "markdown",
   "id": "672ce68b",
   "metadata": {},
   "source": [
    "#data types in python #https://pbpython.com/pandas_dtypes.html #https://pbpython.com/pandas_dtypes_cat.html"
   ]
  },
  {
   "cell_type": "code",
   "execution_count": null,
   "id": "0811015f",
   "metadata": {},
   "outputs": [],
   "source": []
  },
  {
   "cell_type": "code",
   "execution_count": null,
   "id": "ff6a51f9",
   "metadata": {},
   "outputs": [],
   "source": []
  }
 ],
 "metadata": {
  "kernelspec": {
   "display_name": "Python 3 (ipykernel)",
   "language": "python",
   "name": "python3"
  },
  "language_info": {
   "codemirror_mode": {
    "name": "ipython",
    "version": 3
   },
   "file_extension": ".py",
   "mimetype": "text/x-python",
   "name": "python",
   "nbconvert_exporter": "python",
   "pygments_lexer": "ipython3",
   "version": "3.9.13"
  }
 },
 "nbformat": 4,
 "nbformat_minor": 5
}
