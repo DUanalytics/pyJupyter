{
 "cells": [
  {
   "attachments": {
    "strftime_convert_datetime_to_string_format.webp": {
     "image/webp": "[encoded data removed]"
    }
   },
   "cell_type": "markdown",
   "id": "0edab01f",
   "metadata": {},
   "source": [
    "# Date Time\n",
    "Date in python is not a data type of its own, but we can import a module name dateime to work with dates as date objects\n",
    "pandas also has library for maninpulating dates in python\n",
    "https://www.programiz.com/python-programming/datetime\n",
    "https://www.programiz.com/python-programming/datetime/strftime\n",
    "https://www.dataquest.io/blog/python-datetime/\n",
    "Python’s datetime module provides functions that handle many complex functionalities involving the date and time. Import datetime class using a from datetime import datetime statement.\n",
    "Use datetime.strftime(format) to convert a datetime object into a string as per the corresponding format.The format codes are standard directives for mentioning in which format you want to represent datetime. For example, the %d-%m-%Y %H:%M:%S codes convert date to dd-mm-yyyy hh:mm:ss format.![strftime_convert_datetime_to_string_format.webp](attachment:strftime_convert_datetime_to_string_format.webp)\n",
    "Use strftime() function of a time module : Use this step if you want to convert a time object to string format. like, hours minutes seconds (hh:mm:ss). Use the time.strptime(string[, format]) function to convert a time object to a string format."
   ]
  },
  {
   "cell_type": "markdown",
   "id": "0099a3f5",
   "metadata": {},
   "source": [
    "## library datetime"
   ]
  },
  {
   "cell_type": "code",
   "execution_count": null,
   "id": "d0846a21",
   "metadata": {},
   "outputs": [],
   "source": [
    "import datetime\n",
    "x = datetime.datetime.now()  #now time\n",
    "print(x)"
   ]
  },
  {
   "cell_type": "code",
   "execution_count": 2,
   "id": "4904a819",
   "metadata": {},
   "outputs": [
    {
     "name": "stdout",
     "output_type": "stream",
     "text": [
      "2022\n"
     ]
    }
   ],
   "source": [
    "print(x.year)"
   ]
  },
  {
   "cell_type": "code",
   "execution_count": 6,
   "id": "b3d520c2",
   "metadata": {},
   "outputs": [
    {
     "name": "stdout",
     "output_type": "stream",
     "text": [
      "Wednesday October\n"
     ]
    }
   ],
   "source": [
    "print(x.strftime('%A %B'))"
   ]
  },
  {
   "cell_type": "code",
   "execution_count": 4,
   "id": "ae1f9a7d",
   "metadata": {},
   "outputs": [],
   "source": [
    "# explore other options of datetime"
   ]
  },
  {
   "cell_type": "code",
   "execution_count": 5,
   "id": "340339e3",
   "metadata": {},
   "outputs": [
    {
     "name": "stdout",
     "output_type": "stream",
     "text": [
      "2022-10-26 00:00:00\n"
     ]
    }
   ],
   "source": [
    "# Create Date\n",
    "x = datetime.datetime(2022, 10, 26)\n",
    "print(x)"
   ]
  },
  {
   "cell_type": "code",
   "execution_count": 11,
   "id": "5e3048fb",
   "metadata": {},
   "outputs": [
    {
     "name": "stdout",
     "output_type": "stream",
     "text": [
      "2022-10-26 17:10:15\n"
     ]
    }
   ],
   "source": [
    "# add hour, min, sec\n",
    "x = datetime.datetime(2022, 10, 26, 17, 10, 15, 0) #(Y, M, D), (H, M, S), zone\n",
    "print(x)"
   ]
  },
  {
   "cell_type": "code",
   "execution_count": 17,
   "id": "d6ca73c6",
   "metadata": {},
   "outputs": [
    {
     "name": "stdout",
     "output_type": "stream",
     "text": [
      "26-October-2022 17:10:15 PM  10/26/22 17:10:15 3 43 \n"
     ]
    }
   ],
   "source": [
    "print(x.strftime('%d-%B-%Y %H:%M:%S %p  %x %X %w %W'))"
   ]
  },
  {
   "cell_type": "markdown",
   "id": "7a4eb6cb",
   "metadata": {},
   "source": [
    "### Formatting date output"
   ]
  },
  {
   "cell_type": "markdown",
   "id": "3159cf44",
   "metadata": {},
   "source": [
    "%a  - weekday :  wed\n",
    "%A  - weekday :  Wednesday\n",
    "%w  - weekday :  3\n",
    "%d  - day of month : 22\n",
    "%b  - month    : Oct\n",
    "%B  - month   : October\n",
    "%m  - month   : 10\n",
    "%y  - year    : 22\n",
    "%Y  - year    : 2022\n",
    "%H  - Hours(00-23) - 17\n",
    "%I  - Hour(00-12) - 05\n",
    "%p  - AM/PM   - PM\n",
    "%M  - minute(00-59) : 10\n",
    "%S  - second(00-59) : 15\n",
    "%U  - weeknumber\n",
    "%x - local version of date\n",
    "%X - local version of time"
   ]
  },
  {
   "cell_type": "markdown",
   "id": "a7c7ad8a",
   "metadata": {},
   "source": [
    "## Pandas Date Time"
   ]
  },
  {
   "cell_type": "code",
   "execution_count": 19,
   "id": "e2a52bdb",
   "metadata": {},
   "outputs": [],
   "source": [
    "import pandas as pd\n",
    "import numpy as np\n",
    "import datetime"
   ]
  },
  {
   "cell_type": "code",
   "execution_count": 47,
   "id": "e0847db2",
   "metadata": {},
   "outputs": [
    {
     "data": {
      "text/html": [
       "<div>\n",
       "<style scoped>\n",
       "    .dataframe tbody tr th:only-of-type {\n",
       "        vertical-align: middle;\n",
       "    }\n",
       "\n",
       "    .dataframe tbody tr th {\n",
       "        vertical-align: top;\n",
       "    }\n",
       "\n",
       "    .dataframe thead th {\n",
       "        text-align: right;\n",
       "    }\n",
       "</style>\n",
       "<table border=\"1\" class=\"dataframe\">\n",
       "  <thead>\n",
       "    <tr style=\"text-align: right;\">\n",
       "      <th></th>\n",
       "      <th>classDate</th>\n",
       "      <th>students</th>\n",
       "    </tr>\n",
       "  </thead>\n",
       "  <tbody>\n",
       "    <tr>\n",
       "      <th>0</th>\n",
       "      <td>01/12/2022</td>\n",
       "      <td>10</td>\n",
       "    </tr>\n",
       "    <tr>\n",
       "      <th>1</th>\n",
       "      <td>22/12/2022</td>\n",
       "      <td>15</td>\n",
       "    </tr>\n",
       "    <tr>\n",
       "      <th>2</th>\n",
       "      <td>30/11/2022</td>\n",
       "      <td>12</td>\n",
       "    </tr>\n",
       "  </tbody>\n",
       "</table>\n",
       "</div>"
      ],
      "text/plain": [
       "    classDate  students\n",
       "0  01/12/2022        10\n",
       "1  22/12/2022        15\n",
       "2  30/11/2022        12"
      ]
     },
     "execution_count": 47,
     "metadata": {},
     "output_type": "execute_result"
    }
   ],
   "source": [
    "df = pd.DataFrame({ 'classDate': ['01/12/2022','22/12/2022', '30/11/2022'], 'students' :[10,15,12]})\n",
    "df"
   ]
  },
  {
   "cell_type": "code",
   "execution_count": 48,
   "id": "e1d765ee",
   "metadata": {},
   "outputs": [
    {
     "data": {
      "text/plain": [
       "classDate    object\n",
       "students      int64\n",
       "dtype: object"
      ]
     },
     "execution_count": 48,
     "metadata": {},
     "output_type": "execute_result"
    }
   ],
   "source": [
    "df.dtypes"
   ]
  },
  {
   "cell_type": "code",
   "execution_count": 49,
   "id": "26753363",
   "metadata": {},
   "outputs": [
    {
     "data": {
      "text/plain": [
       "classDate    datetime64[ns]\n",
       "students              int64\n",
       "dtype: object"
      ]
     },
     "execution_count": 49,
     "metadata": {},
     "output_type": "execute_result"
    }
   ],
   "source": [
    "#convert to datetime\n",
    "df['classDate'] = pd.to_datetime(df['classDate'], format='%d/%m/%Y') # format='%d%b%Y:%H:%M:%S.%f'\n",
    "df.dtypes"
   ]
  },
  {
   "cell_type": "code",
   "execution_count": 50,
   "id": "bac466f2",
   "metadata": {},
   "outputs": [
    {
     "data": {
      "text/plain": [
       "Timestamp('2022-01-08 00:00:00')"
      ]
     },
     "execution_count": 50,
     "metadata": {},
     "output_type": "execute_result"
    }
   ],
   "source": [
    "#convert integer number to date\n",
    "pd.to_datetime(19000, unit='D', origin='unix') #unit = days, start at 1970-01-01(unix)\n",
    "#19000 days from reference point"
   ]
  },
  {
   "cell_type": "code",
   "execution_count": 43,
   "id": "94e2ad4e",
   "metadata": {},
   "outputs": [
    {
     "name": "stdout",
     "output_type": "stream",
     "text": [
      "2022-10-25 17:23:56.837840\n"
     ]
    }
   ],
   "source": [
    "# Duration TimeDelta Function\n",
    "from datetime import datetime\n",
    "date = datetime.now()\n",
    "print(date)"
   ]
  },
  {
   "cell_type": "code",
   "execution_count": 44,
   "id": "c376a514",
   "metadata": {},
   "outputs": [
    {
     "name": "stdout",
     "output_type": "stream",
     "text": [
      "2022-10-26 17:23:56.837840\n"
     ]
    }
   ],
   "source": [
    "print(date + pd.to_timedelta(1, unit='D'))  #one day after"
   ]
  },
  {
   "cell_type": "code",
   "execution_count": 45,
   "id": "9a5e4296",
   "metadata": {},
   "outputs": [
    {
     "name": "stdout",
     "output_type": "stream",
     "text": [
      "2022-11-01 17:23:56.837840\n"
     ]
    }
   ],
   "source": [
    "print(date + pd.to_timedelta(1, unit='W')) #one week later"
   ]
  },
  {
   "cell_type": "code",
   "execution_count": 53,
   "id": "6bc76a3c",
   "metadata": {},
   "outputs": [
    {
     "data": {
      "text/html": [
       "<div>\n",
       "<style scoped>\n",
       "    .dataframe tbody tr th:only-of-type {\n",
       "        vertical-align: middle;\n",
       "    }\n",
       "\n",
       "    .dataframe tbody tr th {\n",
       "        vertical-align: top;\n",
       "    }\n",
       "\n",
       "    .dataframe thead th {\n",
       "        text-align: right;\n",
       "    }\n",
       "</style>\n",
       "<table border=\"1\" class=\"dataframe\">\n",
       "  <thead>\n",
       "    <tr style=\"text-align: right;\">\n",
       "      <th></th>\n",
       "      <th>classDate</th>\n",
       "      <th>students</th>\n",
       "    </tr>\n",
       "  </thead>\n",
       "  <tbody>\n",
       "    <tr>\n",
       "      <th>0</th>\n",
       "      <td>01/12/2022</td>\n",
       "      <td>10</td>\n",
       "    </tr>\n",
       "    <tr>\n",
       "      <th>1</th>\n",
       "      <td>22/12/2022</td>\n",
       "      <td>15</td>\n",
       "    </tr>\n",
       "    <tr>\n",
       "      <th>2</th>\n",
       "      <td>30/11/2022</td>\n",
       "      <td>12</td>\n",
       "    </tr>\n",
       "  </tbody>\n",
       "</table>\n",
       "</div>"
      ],
      "text/plain": [
       "    classDate  students\n",
       "0  01/12/2022        10\n",
       "1  22/12/2022        15\n",
       "2  30/11/2022        12"
      ]
     },
     "execution_count": 53,
     "metadata": {},
     "output_type": "execute_result"
    }
   ],
   "source": [
    "#display day first\n",
    "df1 = pd.DataFrame({ 'classDate': ['01/12/2022','22/12/2022', '30/11/2022'], 'students' :[10,15,12]})\n",
    "df1"
   ]
  },
  {
   "cell_type": "code",
   "execution_count": 54,
   "id": "b1b35ebe",
   "metadata": {},
   "outputs": [
    {
     "data": {
      "text/html": [
       "<div>\n",
       "<style scoped>\n",
       "    .dataframe tbody tr th:only-of-type {\n",
       "        vertical-align: middle;\n",
       "    }\n",
       "\n",
       "    .dataframe tbody tr th {\n",
       "        vertical-align: top;\n",
       "    }\n",
       "\n",
       "    .dataframe thead th {\n",
       "        text-align: right;\n",
       "    }\n",
       "</style>\n",
       "<table border=\"1\" class=\"dataframe\">\n",
       "  <thead>\n",
       "    <tr style=\"text-align: right;\">\n",
       "      <th></th>\n",
       "      <th>classDate</th>\n",
       "      <th>students</th>\n",
       "    </tr>\n",
       "  </thead>\n",
       "  <tbody>\n",
       "    <tr>\n",
       "      <th>0</th>\n",
       "      <td>2022-12-01</td>\n",
       "      <td>10</td>\n",
       "    </tr>\n",
       "    <tr>\n",
       "      <th>1</th>\n",
       "      <td>2022-12-22</td>\n",
       "      <td>15</td>\n",
       "    </tr>\n",
       "    <tr>\n",
       "      <th>2</th>\n",
       "      <td>2022-11-30</td>\n",
       "      <td>12</td>\n",
       "    </tr>\n",
       "  </tbody>\n",
       "</table>\n",
       "</div>"
      ],
      "text/plain": [
       "   classDate  students\n",
       "0 2022-12-01        10\n",
       "1 2022-12-22        15\n",
       "2 2022-11-30        12"
      ]
     },
     "execution_count": 54,
     "metadata": {},
     "output_type": "execute_result"
    }
   ],
   "source": [
    "df1['classDate'] = pd.to_datetime(df['classDate'], format='%d/%m/%Y', dayfirst=True) \n",
    "df.dtypes\n",
    "df1"
   ]
  },
  {
   "cell_type": "code",
   "execution_count": 57,
   "id": "c74f9325",
   "metadata": {},
   "outputs": [
    {
     "data": {
      "text/html": [
       "<div>\n",
       "<style scoped>\n",
       "    .dataframe tbody tr th:only-of-type {\n",
       "        vertical-align: middle;\n",
       "    }\n",
       "\n",
       "    .dataframe tbody tr th {\n",
       "        vertical-align: top;\n",
       "    }\n",
       "\n",
       "    .dataframe thead th {\n",
       "        text-align: right;\n",
       "    }\n",
       "</style>\n",
       "<table border=\"1\" class=\"dataframe\">\n",
       "  <thead>\n",
       "    <tr style=\"text-align: right;\">\n",
       "      <th></th>\n",
       "      <th>classDate</th>\n",
       "      <th>students</th>\n",
       "      <th>year</th>\n",
       "      <th>month</th>\n",
       "      <th>day</th>\n",
       "    </tr>\n",
       "  </thead>\n",
       "  <tbody>\n",
       "    <tr>\n",
       "      <th>0</th>\n",
       "      <td>2022-12-01</td>\n",
       "      <td>10</td>\n",
       "      <td>2022</td>\n",
       "      <td>12</td>\n",
       "      <td>1</td>\n",
       "    </tr>\n",
       "    <tr>\n",
       "      <th>1</th>\n",
       "      <td>2022-12-22</td>\n",
       "      <td>15</td>\n",
       "      <td>2022</td>\n",
       "      <td>12</td>\n",
       "      <td>22</td>\n",
       "    </tr>\n",
       "    <tr>\n",
       "      <th>2</th>\n",
       "      <td>2022-11-30</td>\n",
       "      <td>12</td>\n",
       "      <td>2022</td>\n",
       "      <td>11</td>\n",
       "      <td>30</td>\n",
       "    </tr>\n",
       "  </tbody>\n",
       "</table>\n",
       "</div>"
      ],
      "text/plain": [
       "   classDate  students  year  month  day\n",
       "0 2022-12-01        10  2022     12    1\n",
       "1 2022-12-22        15  2022     12   22\n",
       "2 2022-11-30        12  2022     11   30"
      ]
     },
     "execution_count": 57,
     "metadata": {},
     "output_type": "execute_result"
    }
   ],
   "source": [
    "df1['year'] = df1['classDate'].dt.year\n",
    "df1['month'] = df1['classDate'].dt.month\n",
    "df1['day'] = df1['classDate'].dt.day\n",
    "df1"
   ]
  },
  {
   "cell_type": "markdown",
   "id": "aa45359b",
   "metadata": {},
   "source": [
    "### Range of Dates"
   ]
  },
  {
   "cell_type": "code",
   "execution_count": 60,
   "id": "17f36d09",
   "metadata": {},
   "outputs": [
    {
     "data": {
      "text/plain": [
       "DatetimeIndex(['2022-01-11', '2022-01-12', '2022-01-13', '2022-01-14',\n",
       "               '2022-01-15', '2022-01-16', '2022-01-17', '2022-01-18',\n",
       "               '2022-01-19', '2022-01-20',\n",
       "               ...\n",
       "               '2023-01-06', '2023-01-07', '2023-01-08', '2023-01-09',\n",
       "               '2023-01-10', '2023-01-11', '2023-01-12', '2023-01-13',\n",
       "               '2023-01-14', '2023-01-15'],\n",
       "              dtype='datetime64[ns]', length=370, freq='D')"
      ]
     },
     "execution_count": 60,
     "metadata": {},
     "output_type": "execute_result"
    }
   ],
   "source": [
    "pd.date_range(start='01-11-2022', end='15-01-2023')"
   ]
  },
  {
   "cell_type": "code",
   "execution_count": 68,
   "id": "2c2cce6e",
   "metadata": {},
   "outputs": [
    {
     "data": {
      "text/plain": [
       "DatetimeIndex(['2022-10-25 17:39:56.574817', '2022-10-26 17:39:56.574817',\n",
       "               '2022-10-27 17:39:56.574817', '2022-10-28 17:39:56.574817',\n",
       "               '2022-10-29 17:39:56.574817', '2022-10-30 17:39:56.574817',\n",
       "               '2022-10-31 17:39:56.574817', '2022-11-01 17:39:56.574817',\n",
       "               '2022-11-02 17:39:56.574817', '2022-11-03 17:39:56.574817'],\n",
       "              dtype='datetime64[ns]', freq='D')"
      ]
     },
     "execution_count": 68,
     "metadata": {},
     "output_type": "execute_result"
    }
   ],
   "source": [
    "pd.date_range(start=datetime.today(), periods=10, freq='D')"
   ]
  },
  {
   "cell_type": "code",
   "execution_count": null,
   "id": "f88336ae",
   "metadata": {},
   "outputs": [],
   "source": [
    "# Float to date\n",
    "#!pip install pyxlsb\n",
    "from pyxlsb import convert_date\n",
    "value = 43111\n",
    "#convert_date(value)\n",
    "format(convert_date(value), '%m/%d/%Y')"
   ]
  },
  {
   "cell_type": "code",
   "execution_count": 1,
   "id": "c5690ded",
   "metadata": {},
   "outputs": [
    {
     "name": "stdout",
     "output_type": "stream",
     "text": [
      "2022-08-01 19:35:40.543035\n"
     ]
    }
   ],
   "source": [
    "## Data Time in Float\n",
    "#\"floating time\" or a \"floating date\" is a time value that isn't tied to a specific time zone\n",
    "import datetime\n",
    "your_timestamp = 1659362740.5430346\n",
    "date = datetime.datetime.fromtimestamp(your_timestamp)\n",
    "print(date)"
   ]
  },
  {
   "cell_type": "code",
   "execution_count": 4,
   "id": "1031ed98",
   "metadata": {},
   "outputs": [
    {
     "name": "stdout",
     "output_type": "stream",
     "text": [
      "2022-11-02 21:21:50.552309 \t Float Value-  1667404310.552309\n"
     ]
    }
   ],
   "source": [
    "##date to a float in Python\n",
    "from datetime import datetime\n",
    "import time\n",
    "dt = datetime.now()\n",
    "timestamp = time.mktime(dt. timetuple()) + dt.microsecond/1e6\n",
    "print(dt, \"\\t Float Value- \", timestamp)"
   ]
  },
  {
   "cell_type": "code",
   "execution_count": 5,
   "id": "92452972",
   "metadata": {},
   "outputs": [
    {
     "data": {
      "text/plain": [
       "DatetimeIndex(['2012-10-01', '2012-10-02', '2012-10-03', '2012-10-04',\n",
       "               '2012-10-05', '2012-10-06', '2012-10-07', '2012-10-08',\n",
       "               '2012-10-09', '2012-10-10'],\n",
       "              dtype='datetime64[ns]', freq='D')"
      ]
     },
     "execution_count": 5,
     "metadata": {},
     "output_type": "execute_result"
    }
   ],
   "source": [
    "## Create Date Series\n",
    "import pandas as pd \n",
    "times = pd.date_range('2012-10-01', periods=10, freq='1D')\n",
    "times"
   ]
  },
  {
   "cell_type": "code",
   "execution_count": null,
   "id": "b89fff27",
   "metadata": {},
   "outputs": [],
   "source": [
    "## Date Time from Offset\n",
    "dateoffset = 693594\n",
    "import datetime, time\n",
    "datetime.date.fromordinal(dateoffset + 43111)\n",
    "#datetime.date(2018, 1, 11)"
   ]
  },
  {
   "cell_type": "code",
   "execution_count": 8,
   "id": "e22f7b83",
   "metadata": {},
   "outputs": [
    {
     "name": "stdout",
     "output_type": "stream",
     "text": [
      "02/11/22 01:55:19 The type of the date is now 2022-11-02 01:55:19 <class 'datetime.datetime'>\n"
     ]
    }
   ],
   "source": [
    "## change date format\n",
    "from datetime import datetime\n",
    "date_time_str = '02/11/22 01:55:19'\n",
    "date_time_obj = datetime.strptime(date_time_str, '%d/%m/%y %H:%M:%S')\n",
    "print (date_time_str, \"The type of the date is now\", date_time_obj, type(date_time_obj))"
   ]
  },
  {
   "cell_type": "code",
   "execution_count": null,
   "id": "e153e244",
   "metadata": {},
   "outputs": [],
   "source": [
    "## Current Date and Time"
   ]
  },
  {
   "cell_type": "code",
   "execution_count": 10,
   "id": "3fa4ca97",
   "metadata": {},
   "outputs": [
    {
     "name": "stdout",
     "output_type": "stream",
     "text": [
      "The attributes of now() are :\n",
      "Year : 2022\n",
      "Month :  11\n",
      "Day :  2\n",
      "Hour :  21\n",
      "Minute :  28\n",
      "Second : 39\n",
      "Microsecond : 249379\n"
     ]
    }
   ],
   "source": [
    "import datetime\n",
    "# using now() to get current time\n",
    "current_time = datetime.datetime.now()\n",
    "# Printing attributes of now().\n",
    "print(\"The attributes of now() are :\")\n",
    "print(\"Year :\", current_time.year)\n",
    "print(\"Month : \", current_time.month)\n",
    "print(\"Day : \", current_time.day)\n",
    "print(\"Hour : \", current_time.hour)\n",
    "print(\"Minute : \", current_time.minute)\n",
    "print(\"Second :\", current_time.second)\n",
    "print(\"Microsecond :\", current_time.microsecond)"
   ]
  },
  {
   "cell_type": "markdown",
   "id": "123c8c15",
   "metadata": {},
   "source": [
    "## Extract date values from datetime\n",
    "data['year'] = data['date'].dt.year\n",
    "data['month'] = data['date'].dt.month"
   ]
  },
  {
   "cell_type": "code",
   "execution_count": 11,
   "id": "730542e2",
   "metadata": {},
   "outputs": [
    {
     "name": "stdout",
     "output_type": "stream",
     "text": [
      "2022 11 01\n"
     ]
    }
   ],
   "source": [
    "a='2022-11-01'\n",
    "a.split('-')\n",
    "year, month, date=a.split('-')\n",
    "print(year, month, date)"
   ]
  },
  {
   "cell_type": "code",
   "execution_count": 16,
   "id": "fc230a1d",
   "metadata": {},
   "outputs": [
    {
     "name": "stdout",
     "output_type": "stream",
     "text": [
      "Now =  2022-11-02 21:35:43.182825  : Date - 2022-11-02  : Month-  11\n"
     ]
    }
   ],
   "source": [
    "from datetime import datetime, date, time, timedelta, timezone\n",
    "print('Now = ', datetime.now(), ' : Date -', datetime.now().date(), ' : Month- ', datetime.now().date().month)"
   ]
  },
  {
   "cell_type": "code",
   "execution_count": null,
   "id": "7dd0ca46",
   "metadata": {},
   "outputs": [],
   "source": []
  },
  {
   "cell_type": "code",
   "execution_count": null,
   "id": "a467553e",
   "metadata": {},
   "outputs": [],
   "source": []
  },
  {
   "cell_type": "code",
   "execution_count": null,
   "id": "d7adfadc",
   "metadata": {},
   "outputs": [],
   "source": []
  },
  {
   "cell_type": "markdown",
   "id": "3b025ced",
   "metadata": {},
   "source": [
    "## Links\n",
    "https://pynative.com/python-datetime-format-strftime/"
   ]
  }
 ],
 "metadata": {
  "kernelspec": {
   "display_name": "Python 3 (ipykernel)",
   "language": "python",
   "name": "python3"
  },
  "language_info": {
   "codemirror_mode": {
    "name": "ipython",
    "version": 3
   },
   "file_extension": ".py",
   "mimetype": "text/x-python",
   "name": "python",
   "nbconvert_exporter": "python",
   "pygments_lexer": "ipython3",
   "version": "3.9.12"
  }
 },
 "nbformat": 4,
 "nbformat_minor": 5
}
