{
 "cells": [
  {
   "cell_type": "markdown",
   "id": "d5e9d970",
   "metadata": {},
   "source": [
    "# Index and Slicing\n",
    "“Indexing” means referring to an element of an iterable by its position within the iterable. “Slicing” means getting a subset of elements from an iterable based on their indices.\n",
    "https://towardsdatascience.com/the-basics-of-indexing-and-slicing-python-lists-2d12c90a94cf"
   ]
  },
  {
   "cell_type": "code",
   "execution_count": 15,
   "id": "676c2714",
   "metadata": {},
   "outputs": [],
   "source": [
    "## String Index"
   ]
  },
  {
   "cell_type": "markdown",
   "id": "3296331d",
   "metadata": {},
   "source": [
    "## List Comprehension"
   ]
  },
  {
   "cell_type": "code",
   "execution_count": 23,
   "id": "4aae6cc3",
   "metadata": {},
   "outputs": [
    {
     "name": "stdout",
     "output_type": "stream",
     "text": [
      "Dhiraj Upadhyaya Colonel\n",
      "<built-in method index of str object at 0x0000023810F18B70>\n",
      "17\n",
      "4\n"
     ]
    }
   ],
   "source": [
    "names = \"Dhiraj Upadhyaya Colonel\"\n",
    "print(names)\n",
    "print(names.index)\n",
    "print(names.index('Col'))  #Starting Position of word\n",
    "print(names.index('aj',1,10))  # search aj between 1 and 10th positing "
   ]
  },
  {
   "cell_type": "code",
   "execution_count": null,
   "id": "b356eb93",
   "metadata": {},
   "outputs": [],
   "source": []
  },
  {
   "cell_type": "code",
   "execution_count": 1,
   "id": "cfb22919",
   "metadata": {},
   "outputs": [
    {
     "data": {
      "text/plain": [
       "['a', 'b', 'c', 'd', 'e', 'f', 'g', 'h', 'i']"
      ]
     },
     "execution_count": 1,
     "metadata": {},
     "output_type": "execute_result"
    }
   ],
   "source": [
    "my_list = [_ for _ in 'abcdefghi']\n",
    "my_list\n",
    "#['a', 'b', 'c', 'd', 'e', 'f', 'g', 'h', 'i']"
   ]
  },
  {
   "cell_type": "code",
   "execution_count": 2,
   "id": "23558c6c",
   "metadata": {},
   "outputs": [
    {
     "data": {
      "text/plain": [
       "'a'"
      ]
     },
     "execution_count": 2,
     "metadata": {},
     "output_type": "execute_result"
    }
   ],
   "source": [
    "#To retrieve an element of the list, we use the index operator ([]):\n",
    "my_list[0]"
   ]
  },
  {
   "cell_type": "markdown",
   "id": "a7271b99",
   "metadata": {},
   "source": [
    "Lists are “zero indexed”, so [0] returns the zero-th (i.e. the left-most) item in the list, and [1] returns the one-th item (i.e. one item to the right of the zero-th item). Since there are 9 elements in our list ([0] through [8]), attempting to access my_list[9] throws an IndexError: list index out of range, since it is actually trying to get the tenth element, and there isn’t one.\n",
    "Python also allows you to index from the end of the list using a negative number, where [-1] returns the last element. This is super-useful since it means you don’t have to programmatically find out the length of the iterable in order to work with elements at the end of it. The indices and reverse indices of my_list are as follows:\n",
    " 0    1    2    3    4    5    6    7    8\n",
    "  ↓    ↓    ↓    ↓    ↓    ↓    ↓    ↓    ↓\n",
    "['a', 'b', 'c', 'd', 'e', 'f', 'g', 'h', 'i']\n",
    "  ↑    ↑    ↑    ↑    ↑    ↑    ↑    ↑    ↑\n",
    " -9   -8   -7   -6   -5   -4   -3   -2   -1"
   ]
  },
  {
   "cell_type": "markdown",
   "id": "61da28eb",
   "metadata": {},
   "source": [
    "## A slice is a subset of list elements. \n",
    "In the case of lists, a single slice will always be of contiguous elements. Slice notation takes the form\n",
    "my_list[start:stop]\n",
    "where start is the index of the first element to include, and stop is the index of the item to stop at without including it in the slice. So my_list[1:5] returns ['b', 'c', 'd', 'e']:\n",
    " 0    1    2    3    4    5    6    7    8\n",
    "  ×    ↓    ↓    ↓    ↓    ×    ×    ×    ×\n",
    "['a', 'b', 'c', 'd', 'e', 'f', 'g', 'h', 'i']\n",
    "Leaving either slice boundary blank means start from (or go to) the end of the list. \n",
    "Using a negative indexer will set the start/stop bounds relative to their position from the end of the list, \n",
    "so my_list[-5:-2] returns ['e', 'f', 'g']:\n",
    "\n",
    "['a', 'b', 'c', 'd', 'e', 'f', 'g', 'h', 'i']\n",
    "  ×    ×    ×    ×    ↑    ↑    ↑    ×    ×\n",
    " -9   -8   -7   -6   -5   -4   -3   -2   -1"
   ]
  },
  {
   "cell_type": "code",
   "execution_count": 4,
   "id": "9dd4efb7",
   "metadata": {},
   "outputs": [
    {
     "name": "stdout",
     "output_type": "stream",
     "text": [
      "['f', 'g', 'h', 'i']\n",
      "['a', 'b', 'c', 'd']\n",
      "['e', 'f', 'g']\n"
     ]
    }
   ],
   "source": [
    "print(my_list[5:])  #['f', 'g', 'h', 'i']\n",
    "print(my_list[:4])  #['a', 'b', 'c', 'd']\n",
    "print(my_list[-5:-2])"
   ]
  },
  {
   "cell_type": "markdown",
   "id": "8352f90c",
   "metadata": {},
   "source": [
    "my_list[-2:-5], you’ll get an empty list. \n",
    "in order to be included in the slice, an element must be at or to the right of the start boundary AND to the left of the stop boundary. Because the -2 is already to the right of -5, the slicer stops before populating any value into the slice.\n",
    "A for loop works exactly the same way; the first loop below has no output, but the second does:"
   ]
  },
  {
   "cell_type": "code",
   "execution_count": 9,
   "id": "f58641f5",
   "metadata": {},
   "outputs": [
    {
     "name": "stdout",
     "output_type": "stream",
     "text": [
      "\n",
      " New Line\n",
      "-5\t-4\t-3\t"
     ]
    }
   ],
   "source": [
    "for i in range(-2,-5):    print(i)\n",
    "print('\\n New Line')\n",
    "for i in range(-5,-2):    print(i, end = '\\t')"
   ]
  },
  {
   "cell_type": "markdown",
   "id": "11518ccf",
   "metadata": {},
   "source": [
    "## Stepping\n",
    "The slicer can take an optional third argument, which sets the interval at which elements are included in the slice. So my_list[::2] returns ['a', 'c', 'e', 'g', 'i']:\n",
    "\n",
    "  0    1    2    3    4    5    6    7    8\n",
    "  ↓    ×¹   ↓²   ×¹   ↓²   ×¹   ↓²   ×¹   ↓²\n",
    "['a', 'b', 'c', 'd', 'e', 'f', 'g', 'h', 'i']\n",
    "And my_list[1::2] returns ['b', 'd', 'f', 'h']:\n",
    "\n",
    "  0    1    2    3    4    5    6    7    8\n",
    "  ×    ↓    ×¹   ↓²   ×¹   ↓²   ×¹   ↓²   ×¹\n",
    "['a', 'b', 'c', 'd', 'e', 'f', 'g', 'h', 'i']\n",
    "Negative step values reverse the direction in which the slicer iterates through the original list:\n",
    "The indexed positions of list elements don’t change, but the order in which the elements are returned does. The sense of the start and stop boundaries is also reversed, so the start value should be the right-most position in the slice, and the stop value should be to the left of that.\n",
    "<----<----<----<----<----<----<----<----<--\n",
    "  0    1    2    3    4    5    6    7    8\n",
    "  ×    ×    ×    ×    ↓    ↓    ×    ×    ×\n",
    "['a', 'b', 'c', 'd', 'e', 'f', 'g', 'h', 'i']\n",
    "\n",
    "['a', 'b', 'c', 'd', 'e', 'f', 'g', 'h', 'i']\n",
    "  ×    ×    ×    ×    ×    ↑    ↑    ↑    ↑\n",
    " -9   -8   -7   -6   -5   -4   -3   -2   -1\n",
    "<----<----<----<----<----<----<----<----<--"
   ]
  },
  {
   "cell_type": "code",
   "execution_count": 14,
   "id": "9af517d8",
   "metadata": {
    "scrolled": true
   },
   "outputs": [
    {
     "name": "stdout",
     "output_type": "stream",
     "text": [
      "['a', 'c', 'e', 'g', 'i']\n",
      "\n",
      " Next Line\n",
      "['b', 'd', 'f', 'h']\n",
      "\n",
      " Next Line\n",
      "['i', 'h', 'g', 'f', 'e', 'd', 'c', 'b', 'a']\n",
      "['h', 'g', 'f']\n"
     ]
    }
   ],
   "source": [
    "print(my_list[::2])\n",
    "print('\\n Next Line')\n",
    "print(my_list[1::2])\n",
    "print('\\n Next Line')\n",
    "print(my_list[::-1])\n",
    "print(my_list[-2:-5:-1]) #gives us ['h', 'g', 'f']"
   ]
  },
  {
   "cell_type": "markdown",
   "id": "0517a652",
   "metadata": {},
   "source": [
    "## Pandas Indexing\n",
    "https://sparkbyexamples.com/pandas/pandas-index-explained-with-examples/\n",
    "RangeIndex\tIndex implementing a monotonic integer range.\n",
    "CategoricalIndex\tIndex based on an underlying Categorical.\n",
    "MultiIndex\tA multi-level, or hierarchical Index.\n",
    "IntervalIndex\tImmutable index of intervals that are closed on the same side.\n",
    "DatetimeIndex\tndarray-like of datetime64 data.\n",
    "TimedeltaIndex\tndarray of timedelta64 data, represented internally as int64\n",
    "PeriodIndex\tndarray holding ordinal values indicating regular periods in time.\n",
    "NumericIndex\tIndex of numpy int/uint/float data."
   ]
  },
  {
   "cell_type": "markdown",
   "id": "ecb784c5",
   "metadata": {},
   "source": [
    "### Create Index\n",
    "- Syntax of Index() constructor.\n",
    "class pandas.Index(data=None, dtype=None, copy=False, name=None, tupleize_cols=True, **kwargs)\n",
    "data – list of data you preffered to have on Index.\n",
    "dtype – NumPy suppoted data type. When it is None, it uses best type s per the data.\n",
    "copy – bool type. Make a copy of input ndarray\n",
    "name – Name of the Index.\n",
    "tupleize_cols – When True, attempt to create a MultiIndex if possible\n",
    "       \n",
    "By default, the Series is created with a default Index starting from zero and incrementing by 1. Series can be created through its constructor and takes the values as an argument."
   ]
  },
  {
   "cell_type": "code",
   "execution_count": 25,
   "id": "29cc3895",
   "metadata": {},
   "outputs": [],
   "source": [
    "import pandas as pd"
   ]
  },
  {
   "cell_type": "code",
   "execution_count": 26,
   "id": "8685e318",
   "metadata": {},
   "outputs": [
    {
     "name": "stdout",
     "output_type": "stream",
     "text": [
      "0    A\n",
      "1    B\n",
      "2    C\n",
      "3    D\n",
      "4    E\n",
      "dtype: object\n"
     ]
    }
   ],
   "source": [
    "s=pd.Series(['A','B','C','D','E'])\n",
    "print(s)  #start at 0, increment by 1 till number of elements in the series"
   ]
  },
  {
   "cell_type": "code",
   "execution_count": 27,
   "id": "7414af42",
   "metadata": {},
   "outputs": [
    {
     "name": "stdout",
     "output_type": "stream",
     "text": [
      "idx1    A\n",
      "idx2    B\n",
      "idx3    C\n",
      "idx4    D\n",
      "idx5    E\n",
      "dtype: object\n"
     ]
    }
   ],
   "source": [
    "# Custom Index\n",
    "idx= ['idx1','idx2','idx3','idx4','idx5']\n",
    "s=pd.Series(['A','B','C','D','E'],index=idx)\n",
    "print(s)"
   ]
  },
  {
   "cell_type": "code",
   "execution_count": 28,
   "id": "38bb3091",
   "metadata": {},
   "outputs": [
    {
     "name": "stdout",
     "output_type": "stream",
     "text": [
      "5    A\n",
      "6    B\n",
      "7    C\n",
      "8    D\n",
      "9    E\n",
      "dtype: object\n"
     ]
    }
   ],
   "source": [
    "# RangeIndex\n",
    "idx=pd.RangeIndex(5,10)\n",
    "s=pd.Series(['A','B','C','D','E'],index=idx)\n",
    "print(s)"
   ]
  },
  {
   "cell_type": "markdown",
   "id": "f1f0d97d",
   "metadata": {},
   "source": [
    "### DF with index\n",
    "when we dont not give labels to columns and rows(index), DataFrame by default assigns incremental sequence numbers as labels to both rows and columns called Index.\n",
    "Column names with sequence numbers don’t make sense as it’s hard to identify what data holds on each column hence, it is always best practice to provide column names that identify the data it holds. Use column param and index param to provide column & row labels respectively to the DataFrame.\n",
    "\n",
    "pandas DataFrame index as a list of values, you can do this by using df.index.values. \n",
    "Note that df.index returns a Series object."
   ]
  },
  {
   "cell_type": "code",
   "execution_count": 31,
   "id": "f4ff8d99",
   "metadata": {},
   "outputs": [
    {
     "name": "stdout",
     "output_type": "stream",
     "text": [
      "              0      1       2\n",
      "0  rprogramming  20000  30days\n",
      "1        python  20000  40days\n"
     ]
    }
   ],
   "source": [
    "# Create pandas DataFrame from List\n",
    "import pandas as pd\n",
    "technologies = [ [\"rprogramming\",20000, \"30days\"], \n",
    "                 [\"python\",20000, \"40days\"], \n",
    "               ]\n",
    "df=pd.DataFrame(technologies)\n",
    "print(df)"
   ]
  },
  {
   "cell_type": "code",
   "execution_count": 32,
   "id": "1d3bbc34",
   "metadata": {},
   "outputs": [
    {
     "name": "stdout",
     "output_type": "stream",
     "text": [
      "        Courses    Fee Duration\n",
      "a  rprogramming  20000   30days\n",
      "b        python  20000   40days\n"
     ]
    }
   ],
   "source": [
    "#Add Column & Row Labels to the DataFrame\n",
    "column_names=[\"Courses\",\"Fee\",\"Duration\"]\n",
    "row_label=[\"a\",\"b\"]\n",
    "df=pd.DataFrame(technologies,columns=column_names,index=row_label)\n",
    "print(df)"
   ]
  },
  {
   "cell_type": "code",
   "execution_count": 33,
   "id": "5b396635",
   "metadata": {},
   "outputs": [
    {
     "name": "stdout",
     "output_type": "stream",
     "text": [
      "Index(['a', 'b'], dtype='object')\n",
      "['a' 'b']\n"
     ]
    }
   ],
   "source": [
    "# Get Index as Series\n",
    "print(df.index)   #\n",
    "# Outputs\n",
    "# RangeIndex(start=0, stop=3, step=1)\n",
    "\n",
    "# Get Index as List\n",
    "print(df.index.values)\n",
    "# Outputs\n",
    "# [0 1 2]"
   ]
  },
  {
   "cell_type": "code",
   "execution_count": 41,
   "id": "7c176675",
   "metadata": {},
   "outputs": [
    {
     "name": "stdout",
     "output_type": "stream",
     "text": [
      "  Courses    Fee Duration\n",
      "b  python  20000   40days\n"
     ]
    }
   ],
   "source": [
    "# Get Row by Index.\n",
    "print(df.iloc[1:])"
   ]
  },
  {
   "cell_type": "code",
   "execution_count": 42,
   "id": "d5df0b23",
   "metadata": {},
   "outputs": [
    {
     "data": {
      "text/html": [
       "<div>\n",
       "<style scoped>\n",
       "    .dataframe tbody tr th:only-of-type {\n",
       "        vertical-align: middle;\n",
       "    }\n",
       "\n",
       "    .dataframe tbody tr th {\n",
       "        vertical-align: top;\n",
       "    }\n",
       "\n",
       "    .dataframe thead th {\n",
       "        text-align: right;\n",
       "    }\n",
       "</style>\n",
       "<table border=\"1\" class=\"dataframe\">\n",
       "  <thead>\n",
       "    <tr style=\"text-align: right;\">\n",
       "      <th></th>\n",
       "      <th>Courses</th>\n",
       "      <th>Fee</th>\n",
       "      <th>Duration</th>\n",
       "    </tr>\n",
       "  </thead>\n",
       "  <tbody>\n",
       "    <tr>\n",
       "      <th>a</th>\n",
       "      <td>rprogramming</td>\n",
       "      <td>20000</td>\n",
       "      <td>30days</td>\n",
       "    </tr>\n",
       "  </tbody>\n",
       "</table>\n",
       "</div>"
      ],
      "text/plain": [
       "        Courses    Fee Duration\n",
       "a  rprogramming  20000   30days"
      ]
     },
     "execution_count": 42,
     "metadata": {},
     "output_type": "execute_result"
    }
   ],
   "source": [
    "df.drop(index=df.iloc[1].name)  #Index & Name property"
   ]
  },
  {
   "cell_type": "code",
   "execution_count": 43,
   "id": "730f1f5c",
   "metadata": {},
   "outputs": [
    {
     "data": {
      "text/html": [
       "<div>\n",
       "<style scoped>\n",
       "    .dataframe tbody tr th:only-of-type {\n",
       "        vertical-align: middle;\n",
       "    }\n",
       "\n",
       "    .dataframe tbody tr th {\n",
       "        vertical-align: top;\n",
       "    }\n",
       "\n",
       "    .dataframe thead th {\n",
       "        text-align: right;\n",
       "    }\n",
       "</style>\n",
       "<table border=\"1\" class=\"dataframe\">\n",
       "  <thead>\n",
       "    <tr style=\"text-align: right;\">\n",
       "      <th></th>\n",
       "      <th>Courses</th>\n",
       "      <th>Fee</th>\n",
       "      <th>Duration</th>\n",
       "    </tr>\n",
       "  </thead>\n",
       "  <tbody>\n",
       "    <tr>\n",
       "      <th>b</th>\n",
       "      <td>python</td>\n",
       "      <td>20000</td>\n",
       "      <td>40days</td>\n",
       "    </tr>\n",
       "  </tbody>\n",
       "</table>\n",
       "</div>"
      ],
      "text/plain": [
       "  Courses    Fee Duration\n",
       "b  python  20000   40days"
      ]
     },
     "execution_count": 43,
     "metadata": {},
     "output_type": "execute_result"
    }
   ],
   "source": [
    "df.drop('a')"
   ]
  },
  {
   "cell_type": "code",
   "execution_count": 46,
   "id": "caf46de5",
   "metadata": {},
   "outputs": [
    {
     "data": {
      "text/html": [
       "<div>\n",
       "<style scoped>\n",
       "    .dataframe tbody tr th:only-of-type {\n",
       "        vertical-align: middle;\n",
       "    }\n",
       "\n",
       "    .dataframe tbody tr th {\n",
       "        vertical-align: top;\n",
       "    }\n",
       "\n",
       "    .dataframe thead th {\n",
       "        text-align: right;\n",
       "    }\n",
       "</style>\n",
       "<table border=\"1\" class=\"dataframe\">\n",
       "  <thead>\n",
       "    <tr style=\"text-align: right;\">\n",
       "      <th></th>\n",
       "      <th>Courses</th>\n",
       "      <th>Fee</th>\n",
       "      <th>Duration</th>\n",
       "    </tr>\n",
       "  </thead>\n",
       "  <tbody>\n",
       "    <tr>\n",
       "      <th>a</th>\n",
       "      <td>rprogramming</td>\n",
       "      <td>20000</td>\n",
       "      <td>30days</td>\n",
       "    </tr>\n",
       "  </tbody>\n",
       "</table>\n",
       "</div>"
      ],
      "text/plain": [
       "        Courses    Fee Duration\n",
       "a  rprogramming  20000   30days"
      ]
     },
     "execution_count": 46,
     "metadata": {},
     "output_type": "execute_result"
    }
   ],
   "source": [
    "df.drop(df.index)"
   ]
  },
  {
   "cell_type": "code",
   "execution_count": null,
   "id": "97f71ea1",
   "metadata": {},
   "outputs": [],
   "source": []
  },
  {
   "cell_type": "code",
   "execution_count": 55,
   "id": "fdae7b8c",
   "metadata": {},
   "outputs": [],
   "source": []
  },
  {
   "cell_type": "code",
   "execution_count": null,
   "id": "27c7996e",
   "metadata": {},
   "outputs": [],
   "source": []
  }
 ],
 "metadata": {
  "kernelspec": {
   "display_name": "Python 3 (ipykernel)",
   "language": "python",
   "name": "python3"
  },
  "language_info": {
   "codemirror_mode": {
    "name": "ipython",
    "version": 3
   },
   "file_extension": ".py",
   "mimetype": "text/x-python",
   "name": "python",
   "nbconvert_exporter": "python",
   "pygments_lexer": "ipython3",
   "version": "3.9.15"
  }
 },
 "nbformat": 4,
 "nbformat_minor": 5
}
