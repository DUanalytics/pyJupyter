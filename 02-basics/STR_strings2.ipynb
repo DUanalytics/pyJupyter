{
 "cells": [
  {
   "cell_type": "markdown",
   "id": "abe4fe7e",
   "metadata": {},
   "source": [
    "# Strings \n",
    "more techniques\n",
    "Splitting\n",
    "Stripping\n",
    "Replacing\n",
    "Filtering\n",
    "Combining\n",
    "\n",
    "https://towardsdatascience.com/5-must-know-pandas-operations-on-strings-4f88ca6b8e25\n",
    "https://pandas.pydata.org/docs/user_guide/text.html"
   ]
  },
  {
   "cell_type": "code",
   "execution_count": 1,
   "id": "f98a5847",
   "metadata": {},
   "outputs": [],
   "source": [
    "# Libraries\n",
    "import numpy as np\n",
    "import pandas as pd"
   ]
  },
  {
   "cell_type": "code",
   "execution_count": 5,
   "id": "36b3d11b",
   "metadata": {},
   "outputs": [
    {
     "data": {
      "text/html": [
       "<div>\n",
       "<style scoped>\n",
       "    .dataframe tbody tr th:only-of-type {\n",
       "        vertical-align: middle;\n",
       "    }\n",
       "\n",
       "    .dataframe tbody tr th {\n",
       "        vertical-align: top;\n",
       "    }\n",
       "\n",
       "    .dataframe thead th {\n",
       "        text-align: right;\n",
       "    }\n",
       "</style>\n",
       "<table border=\"1\" class=\"dataframe\">\n",
       "  <thead>\n",
       "    <tr style=\"text-align: right;\">\n",
       "      <th></th>\n",
       "      <th>city</th>\n",
       "      <th>salary</th>\n",
       "      <th>category</th>\n",
       "      <th>class</th>\n",
       "      <th>subcategory</th>\n",
       "    </tr>\n",
       "  </thead>\n",
       "  <tbody>\n",
       "    <tr>\n",
       "      <th>0</th>\n",
       "      <td>Lucknow,UP</td>\n",
       "      <td>Rs64K-Rs72K</td>\n",
       "      <td>A-B-C-D-E</td>\n",
       "      <td>1x</td>\n",
       "      <td>A</td>\n",
       "    </tr>\n",
       "    <tr>\n",
       "      <th>1</th>\n",
       "      <td>Vasant Vihar,DL</td>\n",
       "      <td>Rs62K-Rs70K</td>\n",
       "      <td>B-C-D-E-A</td>\n",
       "      <td>1y</td>\n",
       "      <td>B</td>\n",
       "    </tr>\n",
       "    <tr>\n",
       "      <th>2</th>\n",
       "      <td>Mumbai,MH</td>\n",
       "      <td>Rs69K-Rs76K</td>\n",
       "      <td>C-D-E-A-B</td>\n",
       "      <td>2x</td>\n",
       "      <td>A</td>\n",
       "    </tr>\n",
       "    <tr>\n",
       "      <th>3</th>\n",
       "      <td>Chennai,TN</td>\n",
       "      <td>Rs62K-Rs72K</td>\n",
       "      <td>D-E-A-B-C</td>\n",
       "      <td>1x</td>\n",
       "      <td>a</td>\n",
       "    </tr>\n",
       "    <tr>\n",
       "      <th>4</th>\n",
       "      <td>Gurugram,HR</td>\n",
       "      <td>Rs71K-Rs78K</td>\n",
       "      <td>E-A-B-C-D</td>\n",
       "      <td>1y</td>\n",
       "      <td>c</td>\n",
       "    </tr>\n",
       "  </tbody>\n",
       "</table>\n",
       "</div>"
      ],
      "text/plain": [
       "              city       salary   category class subcategory\n",
       "0       Lucknow,UP  Rs64K-Rs72K  A-B-C-D-E    1x           A\n",
       "1  Vasant Vihar,DL  Rs62K-Rs70K  B-C-D-E-A    1y           B\n",
       "2        Mumbai,MH  Rs69K-Rs76K  C-D-E-A-B  2x             A\n",
       "3       Chennai,TN  Rs62K-Rs72K  D-E-A-B-C    1x           a\n",
       "4      Gurugram,HR  Rs71K-Rs78K  E-A-B-C-D  1y             c"
      ]
     },
     "execution_count": 5,
     "metadata": {},
     "output_type": "execute_result"
    }
   ],
   "source": [
    "sample = {\n",
    "'city':['Lucknow,UP', 'Vasant Vihar,DL', 'Mumbai,MH', 'Chennai,TN', 'Gurugram,HR'],\n",
    "'salary':['Rs64K-Rs72K', 'Rs62K-Rs70K', 'Rs69K-Rs76K', 'Rs62K-Rs72K', 'Rs71K-Rs78K' ],\n",
    "'category':['A-B-C-D-E','B-C-D-E-A','C-D-E-A-B','D-E-A-B-C','E-A-B-C-D'],\n",
    "'class':['  1x', ' 1y', '2x  ', '1x', '1y  '],\n",
    "'subcategory':['A','B','A','a','c'],\n",
    "}\n",
    "df = pd.DataFrame(sample)\n",
    "df"
   ]
  },
  {
   "cell_type": "markdown",
   "id": "9df9cd5a",
   "metadata": {},
   "source": [
    "## Search"
   ]
  },
  {
   "cell_type": "code",
   "execution_count": 6,
   "id": "b6c74355",
   "metadata": {},
   "outputs": [
    {
     "data": {
      "text/plain": [
       "0     True\n",
       "1     True\n",
       "2    False\n",
       "3    False\n",
       "4    False\n",
       "Name: city, dtype: bool"
      ]
     },
     "execution_count": 6,
     "metadata": {},
     "output_type": "execute_result"
    }
   ],
   "source": [
    "## Search\n",
    "df['city'].str.contains('L', na=False)"
   ]
  },
  {
   "cell_type": "code",
   "execution_count": 7,
   "id": "00bedf46",
   "metadata": {},
   "outputs": [
    {
     "data": {
      "text/html": [
       "<div>\n",
       "<style scoped>\n",
       "    .dataframe tbody tr th:only-of-type {\n",
       "        vertical-align: middle;\n",
       "    }\n",
       "\n",
       "    .dataframe tbody tr th {\n",
       "        vertical-align: top;\n",
       "    }\n",
       "\n",
       "    .dataframe thead th {\n",
       "        text-align: right;\n",
       "    }\n",
       "</style>\n",
       "<table border=\"1\" class=\"dataframe\">\n",
       "  <thead>\n",
       "    <tr style=\"text-align: right;\">\n",
       "      <th></th>\n",
       "      <th>Chennai,TN</th>\n",
       "      <th>Gurugram,HR</th>\n",
       "      <th>Mumbai,MH</th>\n",
       "      <th>Vasant Vihar,D</th>\n",
       "      <th>ucknow,UP</th>\n",
       "    </tr>\n",
       "  </thead>\n",
       "  <tbody>\n",
       "    <tr>\n",
       "      <th>0</th>\n",
       "      <td>0</td>\n",
       "      <td>0</td>\n",
       "      <td>0</td>\n",
       "      <td>0</td>\n",
       "      <td>1</td>\n",
       "    </tr>\n",
       "    <tr>\n",
       "      <th>1</th>\n",
       "      <td>0</td>\n",
       "      <td>0</td>\n",
       "      <td>0</td>\n",
       "      <td>1</td>\n",
       "      <td>0</td>\n",
       "    </tr>\n",
       "    <tr>\n",
       "      <th>2</th>\n",
       "      <td>0</td>\n",
       "      <td>0</td>\n",
       "      <td>1</td>\n",
       "      <td>0</td>\n",
       "      <td>0</td>\n",
       "    </tr>\n",
       "    <tr>\n",
       "      <th>3</th>\n",
       "      <td>1</td>\n",
       "      <td>0</td>\n",
       "      <td>0</td>\n",
       "      <td>0</td>\n",
       "      <td>0</td>\n",
       "    </tr>\n",
       "    <tr>\n",
       "      <th>4</th>\n",
       "      <td>0</td>\n",
       "      <td>1</td>\n",
       "      <td>0</td>\n",
       "      <td>0</td>\n",
       "      <td>0</td>\n",
       "    </tr>\n",
       "  </tbody>\n",
       "</table>\n",
       "</div>"
      ],
      "text/plain": [
       "   Chennai,TN  Gurugram,HR  Mumbai,MH  Vasant Vihar,D  ucknow,UP\n",
       "0           0            0          0               0          1\n",
       "1           0            0          0               1          0\n",
       "2           0            0          1               0          0\n",
       "3           1            0          0               0          0\n",
       "4           0            1          0               0          0"
      ]
     },
     "execution_count": 7,
     "metadata": {},
     "output_type": "execute_result"
    }
   ],
   "source": [
    "## Search\n",
    "df['city'].str.get_dummies(sep='L')"
   ]
  },
  {
   "cell_type": "code",
   "execution_count": 20,
   "id": "015add75",
   "metadata": {},
   "outputs": [
    {
     "data": {
      "text/html": [
       "<div>\n",
       "<style scoped>\n",
       "    .dataframe tbody tr th:only-of-type {\n",
       "        vertical-align: middle;\n",
       "    }\n",
       "\n",
       "    .dataframe tbody tr th {\n",
       "        vertical-align: top;\n",
       "    }\n",
       "\n",
       "    .dataframe thead th {\n",
       "        text-align: right;\n",
       "    }\n",
       "</style>\n",
       "<table border=\"1\" class=\"dataframe\">\n",
       "  <thead>\n",
       "    <tr style=\"text-align: right;\">\n",
       "      <th></th>\n",
       "      <th>city</th>\n",
       "      <th>salary</th>\n",
       "      <th>category</th>\n",
       "      <th>class</th>\n",
       "      <th>subcategory</th>\n",
       "    </tr>\n",
       "  </thead>\n",
       "  <tbody>\n",
       "    <tr>\n",
       "      <th>4</th>\n",
       "      <td>Gurugram,HR</td>\n",
       "      <td>Rs71K-Rs78K</td>\n",
       "      <td>E-A-B-C-D</td>\n",
       "      <td>1y</td>\n",
       "      <td>c</td>\n",
       "    </tr>\n",
       "  </tbody>\n",
       "</table>\n",
       "</div>"
      ],
      "text/plain": [
       "          city       salary   category class subcategory\n",
       "4  Gurugram,HR  Rs71K-Rs78K  E-A-B-C-D  1y             c"
      ]
     },
     "execution_count": 20,
     "metadata": {},
     "output_type": "execute_result"
    }
   ],
   "source": [
    "list1 = ['Vasant', 'MH', 'Chennai', 'Gurugram,HR']\n",
    "df[df['city'].isin(list1)] # full match"
   ]
  },
  {
   "cell_type": "code",
   "execution_count": 22,
   "id": "94258610",
   "metadata": {},
   "outputs": [
    {
     "data": {
      "text/html": [
       "<div>\n",
       "<style scoped>\n",
       "    .dataframe tbody tr th:only-of-type {\n",
       "        vertical-align: middle;\n",
       "    }\n",
       "\n",
       "    .dataframe tbody tr th {\n",
       "        vertical-align: top;\n",
       "    }\n",
       "\n",
       "    .dataframe thead th {\n",
       "        text-align: right;\n",
       "    }\n",
       "</style>\n",
       "<table border=\"1\" class=\"dataframe\">\n",
       "  <thead>\n",
       "    <tr style=\"text-align: right;\">\n",
       "      <th></th>\n",
       "      <th>city</th>\n",
       "      <th>salary</th>\n",
       "      <th>category</th>\n",
       "      <th>class</th>\n",
       "      <th>subcategory</th>\n",
       "    </tr>\n",
       "  </thead>\n",
       "  <tbody>\n",
       "    <tr>\n",
       "      <th>4</th>\n",
       "      <td>Gurugram,HR</td>\n",
       "      <td>Rs71K-Rs78K</td>\n",
       "      <td>E-A-B-C-D</td>\n",
       "      <td>1y</td>\n",
       "      <td>c</td>\n",
       "    </tr>\n",
       "  </tbody>\n",
       "</table>\n",
       "</div>"
      ],
      "text/plain": [
       "          city       salary   category class subcategory\n",
       "4  Gurugram,HR  Rs71K-Rs78K  E-A-B-C-D  1y             c"
      ]
     },
     "execution_count": 22,
     "metadata": {},
     "output_type": "execute_result"
    }
   ],
   "source": [
    "df[df['city'].str.lower().isin(['gurugram,hr'])] # full match, ignore case"
   ]
  },
  {
   "cell_type": "code",
   "execution_count": 28,
   "id": "a3721d6b",
   "metadata": {},
   "outputs": [
    {
     "data": {
      "text/plain": [
       "0    False\n",
       "1     True\n",
       "2    False\n",
       "3    False\n",
       "4    False\n",
       "Name: city, dtype: bool"
      ]
     },
     "execution_count": 28,
     "metadata": {},
     "output_type": "execute_result"
    }
   ],
   "source": [
    "df['city'].str.contains('Vasant', case=False, na=False)"
   ]
  },
  {
   "cell_type": "code",
   "execution_count": 30,
   "id": "8252d19c",
   "metadata": {},
   "outputs": [
    {
     "data": {
      "text/plain": [
       "0    True\n",
       "1    True\n",
       "2    True\n",
       "3    True\n",
       "4    True\n",
       "Name: city, dtype: bool"
      ]
     },
     "execution_count": 30,
     "metadata": {},
     "output_type": "execute_result"
    }
   ],
   "source": [
    "# special characters  like , ^ (for ^ type \\^)\n",
    "df['city'].str.contains(',', regex=False) "
   ]
  },
  {
   "cell_type": "code",
   "execution_count": 38,
   "id": "569d3a40",
   "metadata": {},
   "outputs": [
    {
     "name": "stdout",
     "output_type": "stream",
     "text": [
      "Vasant|MH|Chennai|Gurugram,HR\n",
      "0    False\n",
      "1     True\n",
      "2     True\n",
      "3     True\n",
      "4     True\n",
      "Name: city, dtype: bool\n"
     ]
    },
    {
     "data": {
      "text/html": [
       "<div>\n",
       "<style scoped>\n",
       "    .dataframe tbody tr th:only-of-type {\n",
       "        vertical-align: middle;\n",
       "    }\n",
       "\n",
       "    .dataframe tbody tr th {\n",
       "        vertical-align: top;\n",
       "    }\n",
       "\n",
       "    .dataframe thead th {\n",
       "        text-align: right;\n",
       "    }\n",
       "</style>\n",
       "<table border=\"1\" class=\"dataframe\">\n",
       "  <thead>\n",
       "    <tr style=\"text-align: right;\">\n",
       "      <th></th>\n",
       "      <th>city</th>\n",
       "      <th>salary</th>\n",
       "      <th>category</th>\n",
       "      <th>class</th>\n",
       "      <th>subcategory</th>\n",
       "    </tr>\n",
       "  </thead>\n",
       "  <tbody>\n",
       "    <tr>\n",
       "      <th>1</th>\n",
       "      <td>Vasant Vihar,DL</td>\n",
       "      <td>Rs62K-Rs70K</td>\n",
       "      <td>B-C-D-E-A</td>\n",
       "      <td>1y</td>\n",
       "      <td>B</td>\n",
       "    </tr>\n",
       "    <tr>\n",
       "      <th>2</th>\n",
       "      <td>Mumbai,MH</td>\n",
       "      <td>Rs69K-Rs76K</td>\n",
       "      <td>C-D-E-A-B</td>\n",
       "      <td>2x</td>\n",
       "      <td>A</td>\n",
       "    </tr>\n",
       "    <tr>\n",
       "      <th>3</th>\n",
       "      <td>Chennai,TN</td>\n",
       "      <td>Rs62K-Rs72K</td>\n",
       "      <td>D-E-A-B-C</td>\n",
       "      <td>1x</td>\n",
       "      <td>a</td>\n",
       "    </tr>\n",
       "    <tr>\n",
       "      <th>4</th>\n",
       "      <td>Gurugram,HR</td>\n",
       "      <td>Rs71K-Rs78K</td>\n",
       "      <td>E-A-B-C-D</td>\n",
       "      <td>1y</td>\n",
       "      <td>c</td>\n",
       "    </tr>\n",
       "  </tbody>\n",
       "</table>\n",
       "</div>"
      ],
      "text/plain": [
       "              city       salary   category class subcategory\n",
       "1  Vasant Vihar,DL  Rs62K-Rs70K  B-C-D-E-A    1y           B\n",
       "2        Mumbai,MH  Rs69K-Rs76K  C-D-E-A-B  2x             A\n",
       "3       Chennai,TN  Rs62K-Rs72K  D-E-A-B-C    1x           a\n",
       "4      Gurugram,HR  Rs71K-Rs78K  E-A-B-C-D  1y             c"
      ]
     },
     "execution_count": 38,
     "metadata": {},
     "output_type": "execute_result"
    }
   ],
   "source": [
    "pattern1 = 'Vasant|MH|Chennai|Gurugram,HR'\n",
    "print(pattern1)\n",
    "mask = df['city'].str.contains(pattern1, case=True, na=False) \n",
    "print(mask)\n",
    "df[mask]"
   ]
  },
  {
   "cell_type": "code",
   "execution_count": 39,
   "id": "9a5cbc4a",
   "metadata": {},
   "outputs": [
    {
     "data": {
      "text/plain": [
       "0    True\n",
       "1    True\n",
       "2    True\n",
       "3    True\n",
       "4    True\n",
       "Name: salary, dtype: bool"
      ]
     },
     "execution_count": 39,
     "metadata": {},
     "output_type": "execute_result"
    }
   ],
   "source": [
    "pattern2 = '[0-9]'\n",
    "df['salary'].str.contains(pattern2, na=False)"
   ]
  },
  {
   "cell_type": "code",
   "execution_count": 44,
   "id": "366d70bf",
   "metadata": {},
   "outputs": [
    {
     "name": "stdout",
     "output_type": "stream",
     "text": [
      "0    False\n",
      "1    False\n",
      "2    False\n",
      "3    False\n",
      "4    False\n",
      "dtype: bool\n",
      "0    True\n",
      "1    True\n",
      "2    True\n",
      "3    True\n",
      "4    True\n",
      "dtype: bool\n"
     ]
    }
   ],
   "source": [
    "# check in multiple columns\n",
    "pattern3 = 'TN'\n",
    "cols_to_check = ['city','class']\n",
    "print(df[cols_to_check].apply( lambda col:col.str.contains (pattern2, na=False)).all(axis=1))\n",
    "print(df[cols_to_check].apply( lambda col:col.str.contains (pattern2, na=False)).any(axis=1))"
   ]
  },
  {
   "cell_type": "code",
   "execution_count": 46,
   "id": "378378a2",
   "metadata": {},
   "outputs": [
    {
     "name": "stdout",
     "output_type": "stream",
     "text": [
      "['TN', 'MH', 'HR']\n",
      "TN|MH|HR\n"
     ]
    }
   ],
   "source": [
    "# join\n",
    "stateAbvn = ['TN','MH','HR']\n",
    "print(stateAbvn)\n",
    "statesJoin  = '|'.join(stateAbvn)\n",
    "print(statesJoin)"
   ]
  },
  {
   "cell_type": "code",
   "execution_count": 49,
   "id": "f78ed78f",
   "metadata": {},
   "outputs": [
    {
     "data": {
      "text/plain": [
       "0      []\n",
       "1      []\n",
       "2    [MH]\n",
       "3    [TN]\n",
       "4    [HR]\n",
       "Name: city, dtype: object"
      ]
     },
     "execution_count": 49,
     "metadata": {},
     "output_type": "execute_result"
    }
   ],
   "source": [
    "df['city'].apply(lambda x: [y for y in stateAbvn if y in x])"
   ]
  },
  {
   "cell_type": "code",
   "execution_count": 50,
   "id": "0ba04ad7",
   "metadata": {},
   "outputs": [
    {
     "data": {
      "text/html": [
       "<div>\n",
       "<style scoped>\n",
       "    .dataframe tbody tr th:only-of-type {\n",
       "        vertical-align: middle;\n",
       "    }\n",
       "\n",
       "    .dataframe tbody tr th {\n",
       "        vertical-align: top;\n",
       "    }\n",
       "\n",
       "    .dataframe thead th {\n",
       "        text-align: right;\n",
       "    }\n",
       "</style>\n",
       "<table border=\"1\" class=\"dataframe\">\n",
       "  <thead>\n",
       "    <tr style=\"text-align: right;\">\n",
       "      <th></th>\n",
       "      <th>city</th>\n",
       "      <th>salary</th>\n",
       "      <th>category</th>\n",
       "      <th>class</th>\n",
       "      <th>subcategory</th>\n",
       "      <th>indState</th>\n",
       "    </tr>\n",
       "  </thead>\n",
       "  <tbody>\n",
       "    <tr>\n",
       "      <th>0</th>\n",
       "      <td>Lucknow,UP</td>\n",
       "      <td>Rs64K-Rs72K</td>\n",
       "      <td>A-B-C-D-E</td>\n",
       "      <td>1x</td>\n",
       "      <td>A</td>\n",
       "      <td>[]</td>\n",
       "    </tr>\n",
       "    <tr>\n",
       "      <th>1</th>\n",
       "      <td>Vasant Vihar,DL</td>\n",
       "      <td>Rs62K-Rs70K</td>\n",
       "      <td>B-C-D-E-A</td>\n",
       "      <td>1y</td>\n",
       "      <td>B</td>\n",
       "      <td>[]</td>\n",
       "    </tr>\n",
       "    <tr>\n",
       "      <th>2</th>\n",
       "      <td>Mumbai,MH</td>\n",
       "      <td>Rs69K-Rs76K</td>\n",
       "      <td>C-D-E-A-B</td>\n",
       "      <td>2x</td>\n",
       "      <td>A</td>\n",
       "      <td>[MH]</td>\n",
       "    </tr>\n",
       "    <tr>\n",
       "      <th>3</th>\n",
       "      <td>Chennai,TN</td>\n",
       "      <td>Rs62K-Rs72K</td>\n",
       "      <td>D-E-A-B-C</td>\n",
       "      <td>1x</td>\n",
       "      <td>a</td>\n",
       "      <td>[TN]</td>\n",
       "    </tr>\n",
       "    <tr>\n",
       "      <th>4</th>\n",
       "      <td>Gurugram,HR</td>\n",
       "      <td>Rs71K-Rs78K</td>\n",
       "      <td>E-A-B-C-D</td>\n",
       "      <td>1y</td>\n",
       "      <td>c</td>\n",
       "      <td>[HR]</td>\n",
       "    </tr>\n",
       "  </tbody>\n",
       "</table>\n",
       "</div>"
      ],
      "text/plain": [
       "              city       salary   category class subcategory indState\n",
       "0       Lucknow,UP  Rs64K-Rs72K  A-B-C-D-E    1x           A       []\n",
       "1  Vasant Vihar,DL  Rs62K-Rs70K  B-C-D-E-A    1y           B       []\n",
       "2        Mumbai,MH  Rs69K-Rs76K  C-D-E-A-B  2x             A     [MH]\n",
       "3       Chennai,TN  Rs62K-Rs72K  D-E-A-B-C    1x           a     [TN]\n",
       "4      Gurugram,HR  Rs71K-Rs78K  E-A-B-C-D  1y             c     [HR]"
      ]
     },
     "execution_count": 50,
     "metadata": {},
     "output_type": "execute_result"
    }
   ],
   "source": [
    "df.assign(indState = df['city'].apply(lambda x: [y for y in stateAbvn if y in x]))"
   ]
  },
  {
   "cell_type": "code",
   "execution_count": 56,
   "id": "cc510e7c",
   "metadata": {},
   "outputs": [
    {
     "data": {
      "text/html": [
       "<div>\n",
       "<style scoped>\n",
       "    .dataframe tbody tr th:only-of-type {\n",
       "        vertical-align: middle;\n",
       "    }\n",
       "\n",
       "    .dataframe tbody tr th {\n",
       "        vertical-align: top;\n",
       "    }\n",
       "\n",
       "    .dataframe thead th {\n",
       "        text-align: right;\n",
       "    }\n",
       "</style>\n",
       "<table border=\"1\" class=\"dataframe\">\n",
       "  <thead>\n",
       "    <tr style=\"text-align: right;\">\n",
       "      <th></th>\n",
       "      <th>city</th>\n",
       "      <th>salary</th>\n",
       "      <th>category</th>\n",
       "      <th>class</th>\n",
       "      <th>subcategory</th>\n",
       "      <th>indState</th>\n",
       "      <th>flags</th>\n",
       "    </tr>\n",
       "  </thead>\n",
       "  <tbody>\n",
       "    <tr>\n",
       "      <th>0</th>\n",
       "      <td>Lucknow,UP</td>\n",
       "      <td>Rs64K-Rs72K</td>\n",
       "      <td>A-B-C-D-E</td>\n",
       "      <td>1x</td>\n",
       "      <td>A</td>\n",
       "      <td>NaN</td>\n",
       "      <td>2</td>\n",
       "    </tr>\n",
       "    <tr>\n",
       "      <th>1</th>\n",
       "      <td>Vasant Vihar,DL</td>\n",
       "      <td>Rs62K-Rs70K</td>\n",
       "      <td>B-C-D-E-A</td>\n",
       "      <td>1y</td>\n",
       "      <td>B</td>\n",
       "      <td>NaN</td>\n",
       "      <td>2</td>\n",
       "    </tr>\n",
       "    <tr>\n",
       "      <th>2</th>\n",
       "      <td>Mumbai,MH</td>\n",
       "      <td>Rs69K-Rs76K</td>\n",
       "      <td>C-D-E-A-B</td>\n",
       "      <td>2x</td>\n",
       "      <td>A</td>\n",
       "      <td>MH</td>\n",
       "      <td>2</td>\n",
       "    </tr>\n",
       "    <tr>\n",
       "      <th>3</th>\n",
       "      <td>Chennai,TN</td>\n",
       "      <td>Rs62K-Rs72K</td>\n",
       "      <td>D-E-A-B-C</td>\n",
       "      <td>1x</td>\n",
       "      <td>a</td>\n",
       "      <td>TN</td>\n",
       "      <td>2</td>\n",
       "    </tr>\n",
       "    <tr>\n",
       "      <th>4</th>\n",
       "      <td>Gurugram,HR</td>\n",
       "      <td>Rs71K-Rs78K</td>\n",
       "      <td>E-A-B-C-D</td>\n",
       "      <td>1y</td>\n",
       "      <td>c</td>\n",
       "      <td>HR</td>\n",
       "      <td>2</td>\n",
       "    </tr>\n",
       "  </tbody>\n",
       "</table>\n",
       "</div>"
      ],
      "text/plain": [
       "              city       salary   category class subcategory indState  flags\n",
       "0       Lucknow,UP  Rs64K-Rs72K  A-B-C-D-E    1x           A      NaN      2\n",
       "1  Vasant Vihar,DL  Rs62K-Rs70K  B-C-D-E-A    1y           B      NaN      2\n",
       "2        Mumbai,MH  Rs69K-Rs76K  C-D-E-A-B  2x             A       MH      2\n",
       "3       Chennai,TN  Rs62K-Rs72K  D-E-A-B-C    1x           a       TN      2\n",
       "4      Gurugram,HR  Rs71K-Rs78K  E-A-B-C-D  1y             c       HR      2"
      ]
     },
     "execution_count": 56,
     "metadata": {},
     "output_type": "execute_result"
    }
   ],
   "source": [
    "df.assign(indState = df['city'].str.findall(statesJoin).str[0], flags=re.IGNORECASE)"
   ]
  },
  {
   "cell_type": "code",
   "execution_count": 54,
   "id": "6d4294ec",
   "metadata": {},
   "outputs": [
    {
     "data": {
      "text/plain": [
       "0    NaN\n",
       "1    NaN\n",
       "2     MH\n",
       "3     TN\n",
       "4     HR\n",
       "Name: city, dtype: object"
      ]
     },
     "execution_count": 54,
     "metadata": {},
     "output_type": "execute_result"
    }
   ],
   "source": [
    "stateAbvn = ['TN','MH','HR']\n",
    "df.city.str.findall('|'.join(stateAbvn)).str[0]\n",
    "#df.assign(indState = df['city'].str.findall(statesJoin))"
   ]
  },
  {
   "cell_type": "code",
   "execution_count": 62,
   "id": "27f0f7ff",
   "metadata": {},
   "outputs": [
    {
     "ename": "SyntaxError",
     "evalue": "cannot assign to function call (142772846.py, line 1)",
     "output_type": "error",
     "traceback": [
      "\u001b[1;36m  Input \u001b[1;32mIn [62]\u001b[1;36m\u001b[0m\n\u001b[1;33m    df.city.str.extractall(f'({\"|\".join(stateAbvn)}'), flags=re.IGNORECASE) #.str[0]\u001b[0m\n\u001b[1;37m    ^\u001b[0m\n\u001b[1;31mSyntaxError\u001b[0m\u001b[1;31m:\u001b[0m cannot assign to function call\n"
     ]
    }
   ],
   "source": [
    "#df.city.str.extractall(f'({\"|\".join(stateAbvn)}'), flags=re.IGNORECASE) #.str[0]  #error"
   ]
  },
  {
   "cell_type": "markdown",
   "id": "32fb1843",
   "metadata": {},
   "source": [
    "### Regular Expression (regex)\n",
    "re\n",
    "re.search() - partial, forward, backward\n",
    "re.match() - fwd\n",
    "^ - begin ; $end\n",
    "[A-Z]- any one letter of upper case ; [A-Z]+ - any substring 1 or more consecutive uppercase \n",
    "[a-z] "
   ]
  },
  {
   "cell_type": "code",
   "execution_count": 18,
   "id": "2fe5c2da",
   "metadata": {},
   "outputs": [
    {
     "name": "stdout",
     "output_type": "stream",
     "text": [
      "<re.Match object; span=(8, 10), match='TN'>\n",
      "None\n",
      "<re.Match object; span=(0, 1), match='C'>\n",
      "<re.Match object; span=(0, 1), match='C'>\n"
     ]
    }
   ],
   "source": [
    "import re\n",
    "a = 'Chennai,TN' # it should be string only\n",
    "print(re.search('TN', a))\n",
    "print(re.match('TN', a))\n",
    "print(re.match('[A-Z]', a))\n",
    "print(re.match('[A-Z]+', a))\n"
   ]
  },
  {
   "cell_type": "markdown",
   "id": "0c989e83",
   "metadata": {},
   "source": [
    "# 1- Splitting\n",
    "Sometimes strings carry more than one piece of information and we may need to use them separately. For instance, city contains both city and state. The split function of pandas is a highly flexible function to split strings."
   ]
  },
  {
   "cell_type": "code",
   "execution_count": 32,
   "id": "2710ea9a",
   "metadata": {},
   "outputs": [
    {
     "data": {
      "text/plain": [
       "0         [Lucknow, UP]\n",
       "1    [Vasant Vihar, DL]\n",
       "2          [Mumbai, MH]\n",
       "3         [Chennai, TN]\n",
       "4        [Gurugram, HR]\n",
       "Name: city, dtype: object"
      ]
     },
     "execution_count": 32,
     "metadata": {},
     "output_type": "execute_result"
    }
   ],
   "source": [
    "df_sample['city'].str.split(',')\n",
    "#each element is converted to a list based on the character used for splitting. \n",
    "#We can easily export individual elements from those lists. Let’s create a “state” column."
   ]
  },
  {
   "cell_type": "code",
   "execution_count": 33,
   "id": "270cdc1c",
   "metadata": {},
   "outputs": [
    {
     "data": {
      "text/html": [
       "<div>\n",
       "<style scoped>\n",
       "    .dataframe tbody tr th:only-of-type {\n",
       "        vertical-align: middle;\n",
       "    }\n",
       "\n",
       "    .dataframe tbody tr th {\n",
       "        vertical-align: top;\n",
       "    }\n",
       "\n",
       "    .dataframe thead th {\n",
       "        text-align: right;\n",
       "    }\n",
       "</style>\n",
       "<table border=\"1\" class=\"dataframe\">\n",
       "  <thead>\n",
       "    <tr style=\"text-align: right;\">\n",
       "      <th></th>\n",
       "      <th>city</th>\n",
       "      <th>salary</th>\n",
       "      <th>category</th>\n",
       "      <th>class</th>\n",
       "      <th>subcategory</th>\n",
       "      <th>state</th>\n",
       "    </tr>\n",
       "  </thead>\n",
       "  <tbody>\n",
       "    <tr>\n",
       "      <th>0</th>\n",
       "      <td>Lucknow,UP</td>\n",
       "      <td>Rs64K-Rs72K</td>\n",
       "      <td>A-B-C-D-E</td>\n",
       "      <td>1x</td>\n",
       "      <td>A</td>\n",
       "      <td>UP</td>\n",
       "    </tr>\n",
       "    <tr>\n",
       "      <th>1</th>\n",
       "      <td>Vasant Vihar,DL</td>\n",
       "      <td>Rs62K-Rs70K</td>\n",
       "      <td>B-C-D-E-A</td>\n",
       "      <td>1y</td>\n",
       "      <td>B</td>\n",
       "      <td>DL</td>\n",
       "    </tr>\n",
       "    <tr>\n",
       "      <th>2</th>\n",
       "      <td>Mumbai,MH</td>\n",
       "      <td>Rs69K-Rs76K</td>\n",
       "      <td>C-D-E-A-B</td>\n",
       "      <td>2x</td>\n",
       "      <td>A</td>\n",
       "      <td>MH</td>\n",
       "    </tr>\n",
       "    <tr>\n",
       "      <th>3</th>\n",
       "      <td>Chennai,TN</td>\n",
       "      <td>Rs62K-Rs72K</td>\n",
       "      <td>D-E-A-B-C</td>\n",
       "      <td>1x</td>\n",
       "      <td>a</td>\n",
       "      <td>TN</td>\n",
       "    </tr>\n",
       "    <tr>\n",
       "      <th>4</th>\n",
       "      <td>Gurugram,HR</td>\n",
       "      <td>Rs71K-Rs78K</td>\n",
       "      <td>E-A-B-C-D</td>\n",
       "      <td>1y</td>\n",
       "      <td>c</td>\n",
       "      <td>HR</td>\n",
       "    </tr>\n",
       "  </tbody>\n",
       "</table>\n",
       "</div>"
      ],
      "text/plain": [
       "              city       salary   category class subcategory state\n",
       "0       Lucknow,UP  Rs64K-Rs72K  A-B-C-D-E    1x           A    UP\n",
       "1  Vasant Vihar,DL  Rs62K-Rs70K  B-C-D-E-A    1y           B    DL\n",
       "2        Mumbai,MH  Rs69K-Rs76K  C-D-E-A-B  2x             A    MH\n",
       "3       Chennai,TN  Rs62K-Rs72K  D-E-A-B-C    1x           a    TN\n",
       "4      Gurugram,HR  Rs71K-Rs78K  E-A-B-C-D  1y             c    HR"
      ]
     },
     "execution_count": 33,
     "metadata": {},
     "output_type": "execute_result"
    }
   ],
   "source": [
    "df_sample['state'] = df_sample['city'].str.split(',').str[1]\n",
    "df_sample\n",
    "#Subscript ([1]) must be applied with str keyword. \n"
   ]
  },
  {
   "cell_type": "code",
   "execution_count": 34,
   "id": "15595943",
   "metadata": {},
   "outputs": [
    {
     "data": {
      "text/plain": [
       "['Vasant Vihar', 'DL']"
      ]
     },
     "execution_count": 34,
     "metadata": {},
     "output_type": "execute_result"
    }
   ],
   "source": [
    "#Otherwise, we will get the list in the specified row.\n",
    "df_sample['city'].str.split(',')[1]"
   ]
  },
  {
   "cell_type": "code",
   "execution_count": 35,
   "id": "fe068393",
   "metadata": {},
   "outputs": [
    {
     "data": {
      "text/html": [
       "<div>\n",
       "<style scoped>\n",
       "    .dataframe tbody tr th:only-of-type {\n",
       "        vertical-align: middle;\n",
       "    }\n",
       "\n",
       "    .dataframe tbody tr th {\n",
       "        vertical-align: top;\n",
       "    }\n",
       "\n",
       "    .dataframe thead th {\n",
       "        text-align: right;\n",
       "    }\n",
       "</style>\n",
       "<table border=\"1\" class=\"dataframe\">\n",
       "  <thead>\n",
       "    <tr style=\"text-align: right;\">\n",
       "      <th></th>\n",
       "      <th>0</th>\n",
       "      <th>1</th>\n",
       "    </tr>\n",
       "  </thead>\n",
       "  <tbody>\n",
       "    <tr>\n",
       "      <th>0</th>\n",
       "      <td>Lucknow</td>\n",
       "      <td>UP</td>\n",
       "    </tr>\n",
       "    <tr>\n",
       "      <th>1</th>\n",
       "      <td>Vasant Vihar</td>\n",
       "      <td>DL</td>\n",
       "    </tr>\n",
       "    <tr>\n",
       "      <th>2</th>\n",
       "      <td>Mumbai</td>\n",
       "      <td>MH</td>\n",
       "    </tr>\n",
       "    <tr>\n",
       "      <th>3</th>\n",
       "      <td>Chennai</td>\n",
       "      <td>TN</td>\n",
       "    </tr>\n",
       "    <tr>\n",
       "      <th>4</th>\n",
       "      <td>Gurugram</td>\n",
       "      <td>HR</td>\n",
       "    </tr>\n",
       "  </tbody>\n",
       "</table>\n",
       "</div>"
      ],
      "text/plain": [
       "              0   1\n",
       "0       Lucknow  UP\n",
       "1  Vasant Vihar  DL\n",
       "2        Mumbai  MH\n",
       "3       Chennai  TN\n",
       "4      Gurugram  HR"
      ]
     },
     "execution_count": 35,
     "metadata": {},
     "output_type": "execute_result"
    }
   ],
   "source": [
    "#The splitting can be done on any character or letter.\n",
    "#The split function returns a dataframe if expand parameter is set as True.\n",
    "df_sample['city'].str.split(',', expand=True)"
   ]
  },
  {
   "cell_type": "markdown",
   "id": "e9ea3558",
   "metadata": {},
   "source": [
    "### split vs rsplit\n",
    "By default, splitting is done from the left. To do splitting on the right, use rsplit."
   ]
  },
  {
   "cell_type": "code",
   "execution_count": 36,
   "id": "21a8ad2c",
   "metadata": {},
   "outputs": [
    {
     "data": {
      "text/html": [
       "<div>\n",
       "<style scoped>\n",
       "    .dataframe tbody tr th:only-of-type {\n",
       "        vertical-align: middle;\n",
       "    }\n",
       "\n",
       "    .dataframe tbody tr th {\n",
       "        vertical-align: top;\n",
       "    }\n",
       "\n",
       "    .dataframe thead th {\n",
       "        text-align: right;\n",
       "    }\n",
       "</style>\n",
       "<table border=\"1\" class=\"dataframe\">\n",
       "  <thead>\n",
       "    <tr style=\"text-align: right;\">\n",
       "      <th></th>\n",
       "      <th>0</th>\n",
       "      <th>1</th>\n",
       "      <th>2</th>\n",
       "    </tr>\n",
       "  </thead>\n",
       "  <tbody>\n",
       "    <tr>\n",
       "      <th>0</th>\n",
       "      <td>A</td>\n",
       "      <td>B</td>\n",
       "      <td>C-D-E</td>\n",
       "    </tr>\n",
       "    <tr>\n",
       "      <th>1</th>\n",
       "      <td>B</td>\n",
       "      <td>C</td>\n",
       "      <td>D-E-A</td>\n",
       "    </tr>\n",
       "    <tr>\n",
       "      <th>2</th>\n",
       "      <td>C</td>\n",
       "      <td>D</td>\n",
       "      <td>E-A-B</td>\n",
       "    </tr>\n",
       "    <tr>\n",
       "      <th>3</th>\n",
       "      <td>D</td>\n",
       "      <td>E</td>\n",
       "      <td>A-B-C</td>\n",
       "    </tr>\n",
       "    <tr>\n",
       "      <th>4</th>\n",
       "      <td>E</td>\n",
       "      <td>A</td>\n",
       "      <td>B-C-D</td>\n",
       "    </tr>\n",
       "  </tbody>\n",
       "</table>\n",
       "</div>"
      ],
      "text/plain": [
       "   0  1      2\n",
       "0  A  B  C-D-E\n",
       "1  B  C  D-E-A\n",
       "2  C  D  E-A-B\n",
       "3  D  E  A-B-C\n",
       "4  E  A  B-C-D"
      ]
     },
     "execution_count": 36,
     "metadata": {},
     "output_type": "execute_result"
    }
   ],
   "source": [
    "df_sample.category.str.split('-', expand=True, n=2) # left side\n",
    "#only 2 splits on the left are performed. If we do the same operation with rsplit:"
   ]
  },
  {
   "cell_type": "code",
   "execution_count": 37,
   "id": "11817b58",
   "metadata": {},
   "outputs": [
    {
     "data": {
      "text/html": [
       "<div>\n",
       "<style scoped>\n",
       "    .dataframe tbody tr th:only-of-type {\n",
       "        vertical-align: middle;\n",
       "    }\n",
       "\n",
       "    .dataframe tbody tr th {\n",
       "        vertical-align: top;\n",
       "    }\n",
       "\n",
       "    .dataframe thead th {\n",
       "        text-align: right;\n",
       "    }\n",
       "</style>\n",
       "<table border=\"1\" class=\"dataframe\">\n",
       "  <thead>\n",
       "    <tr style=\"text-align: right;\">\n",
       "      <th></th>\n",
       "      <th>0</th>\n",
       "      <th>1</th>\n",
       "      <th>2</th>\n",
       "    </tr>\n",
       "  </thead>\n",
       "  <tbody>\n",
       "    <tr>\n",
       "      <th>0</th>\n",
       "      <td>A-B-C</td>\n",
       "      <td>D</td>\n",
       "      <td>E</td>\n",
       "    </tr>\n",
       "    <tr>\n",
       "      <th>1</th>\n",
       "      <td>B-C-D</td>\n",
       "      <td>E</td>\n",
       "      <td>A</td>\n",
       "    </tr>\n",
       "    <tr>\n",
       "      <th>2</th>\n",
       "      <td>C-D-E</td>\n",
       "      <td>A</td>\n",
       "      <td>B</td>\n",
       "    </tr>\n",
       "    <tr>\n",
       "      <th>3</th>\n",
       "      <td>D-E-A</td>\n",
       "      <td>B</td>\n",
       "      <td>C</td>\n",
       "    </tr>\n",
       "    <tr>\n",
       "      <th>4</th>\n",
       "      <td>E-A-B</td>\n",
       "      <td>C</td>\n",
       "      <td>D</td>\n",
       "    </tr>\n",
       "  </tbody>\n",
       "</table>\n",
       "</div>"
      ],
      "text/plain": [
       "       0  1  2\n",
       "0  A-B-C  D  E\n",
       "1  B-C-D  E  A\n",
       "2  C-D-E  A  B\n",
       "3  D-E-A  B  C\n",
       "4  E-A-B  C  D"
      ]
     },
     "execution_count": 37,
     "metadata": {},
     "output_type": "execute_result"
    }
   ],
   "source": [
    "df_sample.category.str.rsplit('-', expand=True, n=2)  # Right side"
   ]
  },
  {
   "cell_type": "markdown",
   "id": "54115e64",
   "metadata": {},
   "source": [
    "# 2. Stripping\n",
    "Stripping is like trimming tree branches. We can remove spaces or any other characters at the beginning or end of a string."
   ]
  },
  {
   "cell_type": "code",
   "execution_count": 38,
   "id": "5c8c6a62",
   "metadata": {},
   "outputs": [
    {
     "data": {
      "text/html": [
       "<div>\n",
       "<style scoped>\n",
       "    .dataframe tbody tr th:only-of-type {\n",
       "        vertical-align: middle;\n",
       "    }\n",
       "\n",
       "    .dataframe tbody tr th {\n",
       "        vertical-align: top;\n",
       "    }\n",
       "\n",
       "    .dataframe thead th {\n",
       "        text-align: right;\n",
       "    }\n",
       "</style>\n",
       "<table border=\"1\" class=\"dataframe\">\n",
       "  <thead>\n",
       "    <tr style=\"text-align: right;\">\n",
       "      <th></th>\n",
       "      <th>city</th>\n",
       "      <th>salary</th>\n",
       "      <th>category</th>\n",
       "      <th>class</th>\n",
       "      <th>subcategory</th>\n",
       "      <th>state</th>\n",
       "    </tr>\n",
       "  </thead>\n",
       "  <tbody>\n",
       "    <tr>\n",
       "      <th>0</th>\n",
       "      <td>Lucknow,UP</td>\n",
       "      <td>Rs64K-Rs72K</td>\n",
       "      <td>A-B-C-D-E</td>\n",
       "      <td>1x</td>\n",
       "      <td>A</td>\n",
       "      <td>UP</td>\n",
       "    </tr>\n",
       "    <tr>\n",
       "      <th>1</th>\n",
       "      <td>Vasant Vihar,DL</td>\n",
       "      <td>Rs62K-Rs70K</td>\n",
       "      <td>B-C-D-E-A</td>\n",
       "      <td>1y</td>\n",
       "      <td>B</td>\n",
       "      <td>DL</td>\n",
       "    </tr>\n",
       "    <tr>\n",
       "      <th>2</th>\n",
       "      <td>Mumbai,MH</td>\n",
       "      <td>Rs69K-Rs76K</td>\n",
       "      <td>C-D-E-A-B</td>\n",
       "      <td>2x</td>\n",
       "      <td>A</td>\n",
       "      <td>MH</td>\n",
       "    </tr>\n",
       "    <tr>\n",
       "      <th>3</th>\n",
       "      <td>Chennai,TN</td>\n",
       "      <td>Rs62K-Rs72K</td>\n",
       "      <td>D-E-A-B-C</td>\n",
       "      <td>1x</td>\n",
       "      <td>a</td>\n",
       "      <td>TN</td>\n",
       "    </tr>\n",
       "    <tr>\n",
       "      <th>4</th>\n",
       "      <td>Gurugram,HR</td>\n",
       "      <td>Rs71K-Rs78K</td>\n",
       "      <td>E-A-B-C-D</td>\n",
       "      <td>1y</td>\n",
       "      <td>c</td>\n",
       "      <td>HR</td>\n",
       "    </tr>\n",
       "  </tbody>\n",
       "</table>\n",
       "</div>"
      ],
      "text/plain": [
       "              city       salary   category class subcategory state\n",
       "0       Lucknow,UP  Rs64K-Rs72K  A-B-C-D-E    1x           A    UP\n",
       "1  Vasant Vihar,DL  Rs62K-Rs70K  B-C-D-E-A    1y           B    DL\n",
       "2        Mumbai,MH  Rs69K-Rs76K  C-D-E-A-B  2x             A    MH\n",
       "3       Chennai,TN  Rs62K-Rs72K  D-E-A-B-C    1x           a    TN\n",
       "4      Gurugram,HR  Rs71K-Rs78K  E-A-B-C-D  1y             c    HR"
      ]
     },
     "execution_count": 38,
     "metadata": {},
     "output_type": "execute_result"
    }
   ],
   "source": [
    "df_sample"
   ]
  },
  {
   "cell_type": "code",
   "execution_count": 39,
   "id": "b79bcaa8",
   "metadata": {},
   "outputs": [
    {
     "data": {
      "text/plain": [
       "0    64K-Rs72K\n",
       "1    62K-Rs70K\n",
       "2    69K-Rs76K\n",
       "3    62K-Rs72K\n",
       "4    71K-Rs78K\n",
       "Name: salary, dtype: object"
      ]
     },
     "execution_count": 39,
     "metadata": {},
     "output_type": "execute_result"
    }
   ],
   "source": [
    "#For instance, the strings in 'salary' has \n",
    "#Rs character at the beginning which can be removed with lstrip:\n",
    "df_sample['salary'].str.lstrip('Rs')"
   ]
  },
  {
   "cell_type": "code",
   "execution_count": 40,
   "id": "edd08053",
   "metadata": {},
   "outputs": [
    {
     "data": {
      "text/plain": [
       "0    Rs64K-Rs72\n",
       "1    Rs62K-Rs70\n",
       "2    Rs69K-Rs76\n",
       "3    Rs62K-Rs72\n",
       "4    Rs71K-Rs78\n",
       "Name: salary, dtype: object"
      ]
     },
     "execution_count": 40,
     "metadata": {},
     "output_type": "execute_result"
    }
   ],
   "source": [
    "#Similary, rstrip is used to trim off characters from the end.; remove K\n",
    "df_sample['salary'].str.rstrip('K')"
   ]
  },
  {
   "cell_type": "code",
   "execution_count": 41,
   "id": "dad28c4f",
   "metadata": {},
   "outputs": [
    {
     "name": "stdout",
     "output_type": "stream",
     "text": [
      "0      1x\n",
      "1      1y\n",
      "2    2x  \n",
      "3      1x\n",
      "4    1y  \n",
      "Name: class, dtype: object\n"
     ]
    }
   ],
   "source": [
    "# leading and trailing spaces\n",
    "print(df_sample['class'])"
   ]
  },
  {
   "cell_type": "code",
   "execution_count": 42,
   "id": "754b9150",
   "metadata": {},
   "outputs": [
    {
     "data": {
      "text/plain": [
       "0    1x\n",
       "1    1y\n",
       "2    2x\n",
       "3    1x\n",
       "4    1y\n",
       "Name: class, dtype: object"
      ]
     },
     "execution_count": 42,
     "metadata": {},
     "output_type": "execute_result"
    }
   ],
   "source": [
    "#df_sample['class'] = df_sample['class'].str.strip()  # remove spaces\n",
    "df_sample['class'].str.strip()  # remove spaces\n",
    "#print(df_sample['class'])\n",
    "#print(df_sample)"
   ]
  },
  {
   "cell_type": "markdown",
   "id": "4f8c4861",
   "metadata": {},
   "source": [
    "## 3 - Replacing\n",
    "Pandas replace function is used to replace values in rows or columns. Similarly, replace as a string operation is used to replace characters in a string."
   ]
  },
  {
   "cell_type": "code",
   "execution_count": 43,
   "id": "7b36d8be",
   "metadata": {},
   "outputs": [
    {
     "data": {
      "text/plain": [
       "0      1z\n",
       "1      1y\n",
       "2    2z  \n",
       "3      1z\n",
       "4    1y  \n",
       "Name: class, dtype: object"
      ]
     },
     "execution_count": 43,
     "metadata": {},
     "output_type": "execute_result"
    }
   ],
   "source": [
    "#Let’s replace “x” letters in “class” with “z”.\n",
    "df_sample['class'].str.replace('x', 'z')\n",
    "#df_sample['class'] = df_sample['class'].str.replace('x', 'z')"
   ]
  },
  {
   "cell_type": "code",
   "execution_count": 44,
   "id": "fda38e3b",
   "metadata": {},
   "outputs": [
    {
     "data": {
      "text/plain": [
       "0    $64K-$72K\n",
       "1    $62K-$70K\n",
       "2    $69K-$76K\n",
       "3    $62K-$72K\n",
       "4    $71K-$78K\n",
       "Name: salary, dtype: object"
      ]
     },
     "execution_count": 44,
     "metadata": {},
     "output_type": "execute_result"
    }
   ],
   "source": [
    "#Let’s replace “Rs” letters in “salary” with “$”.\n",
    "df_sample['salary'].str.replace('Rs', '$')"
   ]
  },
  {
   "cell_type": "code",
   "execution_count": 72,
   "id": "068ae9d0",
   "metadata": {},
   "outputs": [
    {
     "data": {
      "text/plain": [
       "0          XXucknow,UP\n",
       "1    XXasant XXihar,DL\n",
       "2            Mumbai,MH\n",
       "3           Chennai,TN\n",
       "4          Gurugram,HR\n",
       "Name: city, dtype: object"
      ]
     },
     "execution_count": 72,
     "metadata": {},
     "output_type": "execute_result"
    }
   ],
   "source": [
    "df_sample['city'].str.replace('^L|V', 'XX', case=False, regex=True)\n",
    "#text starting with L or V, replace by XX"
   ]
  },
  {
   "cell_type": "code",
   "execution_count": 73,
   "id": "2cbcc7f4",
   "metadata": {},
   "outputs": [
    {
     "data": {
      "text/plain": [
       "0    64K-Rs72K\n",
       "1    62K-Rs70K\n",
       "2    69K-Rs76K\n",
       "3    62K-Rs72K\n",
       "4    71K-Rs78K\n",
       "Name: salary, dtype: object"
      ]
     },
     "execution_count": 73,
     "metadata": {},
     "output_type": "execute_result"
    }
   ],
   "source": [
    "df_sample['salary'].str.removeprefix('Rs')  #remove prefix"
   ]
  },
  {
   "cell_type": "code",
   "execution_count": 74,
   "id": "b5493fa7",
   "metadata": {},
   "outputs": [
    {
     "data": {
      "text/plain": [
       "0    Rs64K-Rs72\n",
       "1    Rs62K-Rs70\n",
       "2    Rs69K-Rs76\n",
       "3    Rs62K-Rs72\n",
       "4    Rs71K-Rs78\n",
       "Name: salary, dtype: object"
      ]
     },
     "execution_count": 74,
     "metadata": {},
     "output_type": "execute_result"
    }
   ],
   "source": [
    "df_sample['salary'].str.removesuffix('K')  #remove suffix"
   ]
  },
  {
   "cell_type": "markdown",
   "id": "fad1cedc",
   "metadata": {},
   "source": [
    "## 4. Filtering\n",
    "We can filter strings based on the first and last characters. The functions to use are startswith() and endswith()"
   ]
  },
  {
   "cell_type": "code",
   "execution_count": 45,
   "id": "a853ffa6",
   "metadata": {},
   "outputs": [
    {
     "data": {
      "text/html": [
       "<div>\n",
       "<style scoped>\n",
       "    .dataframe tbody tr th:only-of-type {\n",
       "        vertical-align: middle;\n",
       "    }\n",
       "\n",
       "    .dataframe tbody tr th {\n",
       "        vertical-align: top;\n",
       "    }\n",
       "\n",
       "    .dataframe thead th {\n",
       "        text-align: right;\n",
       "    }\n",
       "</style>\n",
       "<table border=\"1\" class=\"dataframe\">\n",
       "  <thead>\n",
       "    <tr style=\"text-align: right;\">\n",
       "      <th></th>\n",
       "      <th>city</th>\n",
       "      <th>salary</th>\n",
       "      <th>category</th>\n",
       "      <th>class</th>\n",
       "      <th>subcategory</th>\n",
       "      <th>state</th>\n",
       "    </tr>\n",
       "  </thead>\n",
       "  <tbody>\n",
       "    <tr>\n",
       "      <th>0</th>\n",
       "      <td>Lucknow,UP</td>\n",
       "      <td>Rs64K-Rs72K</td>\n",
       "      <td>A-B-C-D-E</td>\n",
       "      <td>1x</td>\n",
       "      <td>A</td>\n",
       "      <td>UP</td>\n",
       "    </tr>\n",
       "    <tr>\n",
       "      <th>1</th>\n",
       "      <td>Vasant Vihar,DL</td>\n",
       "      <td>Rs62K-Rs70K</td>\n",
       "      <td>B-C-D-E-A</td>\n",
       "      <td>1y</td>\n",
       "      <td>B</td>\n",
       "      <td>DL</td>\n",
       "    </tr>\n",
       "    <tr>\n",
       "      <th>2</th>\n",
       "      <td>Mumbai,MH</td>\n",
       "      <td>Rs69K-Rs76K</td>\n",
       "      <td>C-D-E-A-B</td>\n",
       "      <td>2x</td>\n",
       "      <td>A</td>\n",
       "      <td>MH</td>\n",
       "    </tr>\n",
       "    <tr>\n",
       "      <th>3</th>\n",
       "      <td>Chennai,TN</td>\n",
       "      <td>Rs62K-Rs72K</td>\n",
       "      <td>D-E-A-B-C</td>\n",
       "      <td>1x</td>\n",
       "      <td>a</td>\n",
       "      <td>TN</td>\n",
       "    </tr>\n",
       "    <tr>\n",
       "      <th>4</th>\n",
       "      <td>Gurugram,HR</td>\n",
       "      <td>Rs71K-Rs78K</td>\n",
       "      <td>E-A-B-C-D</td>\n",
       "      <td>1y</td>\n",
       "      <td>c</td>\n",
       "      <td>HR</td>\n",
       "    </tr>\n",
       "  </tbody>\n",
       "</table>\n",
       "</div>"
      ],
      "text/plain": [
       "              city       salary   category class subcategory state\n",
       "0       Lucknow,UP  Rs64K-Rs72K  A-B-C-D-E    1x           A    UP\n",
       "1  Vasant Vihar,DL  Rs62K-Rs70K  B-C-D-E-A    1y           B    DL\n",
       "2        Mumbai,MH  Rs69K-Rs76K  C-D-E-A-B  2x             A    MH\n",
       "3       Chennai,TN  Rs62K-Rs72K  D-E-A-B-C    1x           a    TN\n",
       "4      Gurugram,HR  Rs71K-Rs78K  E-A-B-C-D  1y             c    HR"
      ]
     },
     "execution_count": 45,
     "metadata": {},
     "output_type": "execute_result"
    }
   ],
   "source": [
    "df_sample"
   ]
  },
  {
   "cell_type": "code",
   "execution_count": 46,
   "id": "1ae2e6f8",
   "metadata": {},
   "outputs": [
    {
     "data": {
      "text/html": [
       "<div>\n",
       "<style scoped>\n",
       "    .dataframe tbody tr th:only-of-type {\n",
       "        vertical-align: middle;\n",
       "    }\n",
       "\n",
       "    .dataframe tbody tr th {\n",
       "        vertical-align: top;\n",
       "    }\n",
       "\n",
       "    .dataframe thead th {\n",
       "        text-align: right;\n",
       "    }\n",
       "</style>\n",
       "<table border=\"1\" class=\"dataframe\">\n",
       "  <thead>\n",
       "    <tr style=\"text-align: right;\">\n",
       "      <th></th>\n",
       "      <th>city</th>\n",
       "      <th>salary</th>\n",
       "      <th>category</th>\n",
       "      <th>class</th>\n",
       "      <th>subcategory</th>\n",
       "      <th>state</th>\n",
       "    </tr>\n",
       "  </thead>\n",
       "  <tbody>\n",
       "    <tr>\n",
       "      <th>0</th>\n",
       "      <td>Lucknow,UP</td>\n",
       "      <td>Rs64K-Rs72K</td>\n",
       "      <td>A-B-C-D-E</td>\n",
       "      <td>1x</td>\n",
       "      <td>A</td>\n",
       "      <td>UP</td>\n",
       "    </tr>\n",
       "  </tbody>\n",
       "</table>\n",
       "</div>"
      ],
      "text/plain": [
       "         city       salary   category class subcategory state\n",
       "0  Lucknow,UP  Rs64K-Rs72K  A-B-C-D-E    1x           A    UP"
      ]
     },
     "execution_count": 46,
     "metadata": {},
     "output_type": "execute_result"
    }
   ],
   "source": [
    "df_sample[df_sample['city'].str.endswith('P')]"
   ]
  },
  {
   "cell_type": "code",
   "execution_count": 47,
   "id": "5334b4af",
   "metadata": {},
   "outputs": [
    {
     "data": {
      "text/html": [
       "<div>\n",
       "<style scoped>\n",
       "    .dataframe tbody tr th:only-of-type {\n",
       "        vertical-align: middle;\n",
       "    }\n",
       "\n",
       "    .dataframe tbody tr th {\n",
       "        vertical-align: top;\n",
       "    }\n",
       "\n",
       "    .dataframe thead th {\n",
       "        text-align: right;\n",
       "    }\n",
       "</style>\n",
       "<table border=\"1\" class=\"dataframe\">\n",
       "  <thead>\n",
       "    <tr style=\"text-align: right;\">\n",
       "      <th></th>\n",
       "      <th>city</th>\n",
       "      <th>salary</th>\n",
       "      <th>category</th>\n",
       "      <th>class</th>\n",
       "      <th>subcategory</th>\n",
       "      <th>state</th>\n",
       "    </tr>\n",
       "  </thead>\n",
       "  <tbody>\n",
       "    <tr>\n",
       "      <th>0</th>\n",
       "      <td>Lucknow,UP</td>\n",
       "      <td>Rs64K-Rs72K</td>\n",
       "      <td>A-B-C-D-E</td>\n",
       "      <td>1x</td>\n",
       "      <td>A</td>\n",
       "      <td>UP</td>\n",
       "    </tr>\n",
       "    <tr>\n",
       "      <th>1</th>\n",
       "      <td>Vasant Vihar,DL</td>\n",
       "      <td>Rs62K-Rs70K</td>\n",
       "      <td>B-C-D-E-A</td>\n",
       "      <td>1y</td>\n",
       "      <td>B</td>\n",
       "      <td>DL</td>\n",
       "    </tr>\n",
       "    <tr>\n",
       "      <th>2</th>\n",
       "      <td>Mumbai,MH</td>\n",
       "      <td>Rs69K-Rs76K</td>\n",
       "      <td>C-D-E-A-B</td>\n",
       "      <td>2x</td>\n",
       "      <td>A</td>\n",
       "      <td>MH</td>\n",
       "    </tr>\n",
       "    <tr>\n",
       "      <th>3</th>\n",
       "      <td>Chennai,TN</td>\n",
       "      <td>Rs62K-Rs72K</td>\n",
       "      <td>D-E-A-B-C</td>\n",
       "      <td>1x</td>\n",
       "      <td>a</td>\n",
       "      <td>TN</td>\n",
       "    </tr>\n",
       "  </tbody>\n",
       "</table>\n",
       "</div>"
      ],
      "text/plain": [
       "              city       salary   category class subcategory state\n",
       "0       Lucknow,UP  Rs64K-Rs72K  A-B-C-D-E    1x           A    UP\n",
       "1  Vasant Vihar,DL  Rs62K-Rs70K  B-C-D-E-A    1y           B    DL\n",
       "2        Mumbai,MH  Rs69K-Rs76K  C-D-E-A-B  2x             A    MH\n",
       "3       Chennai,TN  Rs62K-Rs72K  D-E-A-B-C    1x           a    TN"
      ]
     },
     "execution_count": 47,
     "metadata": {},
     "output_type": "execute_result"
    }
   ],
   "source": [
    "#Or, rows in which “salary” starts with “Rs6”\n",
    "df_sample[df_sample['salary'].str.startswith('Rs6')]"
   ]
  },
  {
   "cell_type": "code",
   "execution_count": 50,
   "id": "7e2c8901",
   "metadata": {},
   "outputs": [
    {
     "data": {
      "text/plain": [
       "0    Rs64K-Rs72K\n",
       "1    Rs62K-Rs70K\n",
       "2    Rs69K-Rs76K\n",
       "3    Rs62K-Rs72K\n",
       "4    Rs71K-Rs78K\n",
       "Name: salary, dtype: object"
      ]
     },
     "execution_count": 50,
     "metadata": {},
     "output_type": "execute_result"
    }
   ],
   "source": [
    "#We can also filter strings by extracting certain characters. For instace, we can get the first 2 character of strings \n",
    "#in a column or series by str[:2].\n",
    "# salary represents a value range but numerical values are hidden in a string. \n",
    "#Let’s extract them with string subscripts:\n",
    "df_sample['salary']"
   ]
  },
  {
   "cell_type": "code",
   "execution_count": 53,
   "id": "41d3b9fa",
   "metadata": {},
   "outputs": [
    {
     "name": "stdout",
     "output_type": "stream",
     "text": [
      "0    64\n",
      "1    62\n",
      "2    69\n",
      "3    62\n",
      "4    71\n",
      "Name: salary, dtype: object\n"
     ]
    }
   ],
   "source": [
    "lowerValue  = df_sample['salary'].str[2:4]\n",
    "print(lowerValue)"
   ]
  },
  {
   "cell_type": "code",
   "execution_count": 54,
   "id": "b4991c1e",
   "metadata": {},
   "outputs": [
    {
     "name": "stdout",
     "output_type": "stream",
     "text": [
      "0    72\n",
      "1    70\n",
      "2    76\n",
      "3    72\n",
      "4    78\n",
      "Name: salary, dtype: object\n"
     ]
    }
   ],
   "source": [
    "upperValue  = df_sample['salary'].str[-3:-1]\n",
    "print(upperValue)"
   ]
  },
  {
   "cell_type": "markdown",
   "id": "750b41dc",
   "metadata": {},
   "source": [
    "## 5 - Combining\n",
    "Cat function can be used to concatenate strings.\n",
    "We need pass an argument to put between concatenated strings using sep parameter. By default, cat ignores missing values but we can also specify how to handle them using na_rep parameter.\n",
    "Let’s create a new column by concatenating “col_c” and “col_d” with “-” separator.\n"
   ]
  },
  {
   "cell_type": "code",
   "execution_count": 56,
   "id": "b750c569",
   "metadata": {},
   "outputs": [
    {
     "data": {
      "text/html": [
       "<div>\n",
       "<style scoped>\n",
       "    .dataframe tbody tr th:only-of-type {\n",
       "        vertical-align: middle;\n",
       "    }\n",
       "\n",
       "    .dataframe tbody tr th {\n",
       "        vertical-align: top;\n",
       "    }\n",
       "\n",
       "    .dataframe thead th {\n",
       "        text-align: right;\n",
       "    }\n",
       "</style>\n",
       "<table border=\"1\" class=\"dataframe\">\n",
       "  <thead>\n",
       "    <tr style=\"text-align: right;\">\n",
       "      <th></th>\n",
       "      <th>city</th>\n",
       "      <th>salary</th>\n",
       "      <th>category</th>\n",
       "      <th>class</th>\n",
       "      <th>subcategory</th>\n",
       "      <th>state</th>\n",
       "      <th>new</th>\n",
       "    </tr>\n",
       "  </thead>\n",
       "  <tbody>\n",
       "    <tr>\n",
       "      <th>0</th>\n",
       "      <td>Lucknow,UP</td>\n",
       "      <td>Rs64K-Rs72K</td>\n",
       "      <td>A-B-C-D-E</td>\n",
       "      <td>1x</td>\n",
       "      <td>A</td>\n",
       "      <td>UP</td>\n",
       "      <td>A-B-C-D-E-UP</td>\n",
       "    </tr>\n",
       "    <tr>\n",
       "      <th>1</th>\n",
       "      <td>Vasant Vihar,DL</td>\n",
       "      <td>Rs62K-Rs70K</td>\n",
       "      <td>B-C-D-E-A</td>\n",
       "      <td>1y</td>\n",
       "      <td>B</td>\n",
       "      <td>DL</td>\n",
       "      <td>B-C-D-E-A-DL</td>\n",
       "    </tr>\n",
       "    <tr>\n",
       "      <th>2</th>\n",
       "      <td>Mumbai,MH</td>\n",
       "      <td>Rs69K-Rs76K</td>\n",
       "      <td>C-D-E-A-B</td>\n",
       "      <td>2x</td>\n",
       "      <td>A</td>\n",
       "      <td>MH</td>\n",
       "      <td>C-D-E-A-B-MH</td>\n",
       "    </tr>\n",
       "    <tr>\n",
       "      <th>3</th>\n",
       "      <td>Chennai,TN</td>\n",
       "      <td>Rs62K-Rs72K</td>\n",
       "      <td>D-E-A-B-C</td>\n",
       "      <td>1x</td>\n",
       "      <td>a</td>\n",
       "      <td>TN</td>\n",
       "      <td>D-E-A-B-C-TN</td>\n",
       "    </tr>\n",
       "    <tr>\n",
       "      <th>4</th>\n",
       "      <td>Gurugram,HR</td>\n",
       "      <td>Rs71K-Rs78K</td>\n",
       "      <td>E-A-B-C-D</td>\n",
       "      <td>1y</td>\n",
       "      <td>c</td>\n",
       "      <td>HR</td>\n",
       "      <td>E-A-B-C-D-HR</td>\n",
       "    </tr>\n",
       "  </tbody>\n",
       "</table>\n",
       "</div>"
      ],
      "text/plain": [
       "              city       salary   category class subcategory state  \\\n",
       "0       Lucknow,UP  Rs64K-Rs72K  A-B-C-D-E    1x           A    UP   \n",
       "1  Vasant Vihar,DL  Rs62K-Rs70K  B-C-D-E-A    1y           B    DL   \n",
       "2        Mumbai,MH  Rs69K-Rs76K  C-D-E-A-B  2x             A    MH   \n",
       "3       Chennai,TN  Rs62K-Rs72K  D-E-A-B-C    1x           a    TN   \n",
       "4      Gurugram,HR  Rs71K-Rs78K  E-A-B-C-D  1y             c    HR   \n",
       "\n",
       "            new  \n",
       "0  A-B-C-D-E-UP  \n",
       "1  B-C-D-E-A-DL  \n",
       "2  C-D-E-A-B-MH  \n",
       "3  D-E-A-B-C-TN  \n",
       "4  E-A-B-C-D-HR  "
      ]
     },
     "execution_count": 56,
     "metadata": {},
     "output_type": "execute_result"
    }
   ],
   "source": [
    "df_sample['new']=df_sample['category'].str.cat(df_sample['state'], sep='-')\n",
    "df_sample"
   ]
  },
  {
   "cell_type": "code",
   "execution_count": 76,
   "id": "b0fbfe42",
   "metadata": {},
   "outputs": [
    {
     "data": {
      "text/plain": [
       "'Lucknow,UP; Vasant Vihar,DL; Mumbai,MH; Chennai,TN; Gurugram,HR'"
      ]
     },
     "execution_count": 76,
     "metadata": {},
     "output_type": "execute_result"
    }
   ],
   "source": [
    "df_sample['city'].str.cat(sep='; ')"
   ]
  },
  {
   "cell_type": "code",
   "execution_count": 78,
   "id": "07e182dc",
   "metadata": {},
   "outputs": [
    {
     "data": {
      "text/plain": [
       "'Lucknow,UPVasant Vihar,DLMumbai,MHChennai,TNGurugram,HR'"
      ]
     },
     "execution_count": 78,
     "metadata": {},
     "output_type": "execute_result"
    }
   ],
   "source": [
    "df_sample['city'].str.cat(sep='', na_rep='-') # if na values show -"
   ]
  },
  {
   "cell_type": "code",
   "execution_count": 83,
   "id": "57759b58",
   "metadata": {},
   "outputs": [
    {
     "data": {
      "text/html": [
       "<div>\n",
       "<style scoped>\n",
       "    .dataframe tbody tr th:only-of-type {\n",
       "        vertical-align: middle;\n",
       "    }\n",
       "\n",
       "    .dataframe tbody tr th {\n",
       "        vertical-align: top;\n",
       "    }\n",
       "\n",
       "    .dataframe thead th {\n",
       "        text-align: right;\n",
       "    }\n",
       "</style>\n",
       "<table border=\"1\" class=\"dataframe\">\n",
       "  <thead>\n",
       "    <tr style=\"text-align: right;\">\n",
       "      <th></th>\n",
       "      <th>0</th>\n",
       "      <th>1</th>\n",
       "    </tr>\n",
       "  </thead>\n",
       "  <tbody>\n",
       "    <tr>\n",
       "      <th>0</th>\n",
       "      <td>India</td>\n",
       "      <td>Australia</td>\n",
       "    </tr>\n",
       "    <tr>\n",
       "      <th>1</th>\n",
       "      <td>Pakistan</td>\n",
       "      <td>England</td>\n",
       "    </tr>\n",
       "    <tr>\n",
       "      <th>2</th>\n",
       "      <td>Bangladesh</td>\n",
       "      <td>New Zealand</td>\n",
       "    </tr>\n",
       "    <tr>\n",
       "      <th>3</th>\n",
       "      <td>NaN</td>\n",
       "      <td>Afghanisatan</td>\n",
       "    </tr>\n",
       "  </tbody>\n",
       "</table>\n",
       "</div>"
      ],
      "text/plain": [
       "            0             1\n",
       "0       India     Australia\n",
       "1    Pakistan       England\n",
       "2  Bangladesh   New Zealand\n",
       "3         NaN  Afghanisatan"
      ]
     },
     "execution_count": 83,
     "metadata": {},
     "output_type": "execute_result"
    }
   ],
   "source": [
    "### Join Series\n",
    "team1 = pd.Series(['India', 'Pakistan','Bangladesh', np.nan])\n",
    "team2 = pd.Series(['Australia', 'England','New Zealand', 'Afghanisatan'])\n",
    "pd.concat([team1, team2], axis=1)"
   ]
  },
  {
   "cell_type": "code",
   "execution_count": 85,
   "id": "53ebefb9",
   "metadata": {},
   "outputs": [
    {
     "data": {
      "text/plain": [
       "0           IndiaAustralia\n",
       "1          PakistanEngland\n",
       "2    BangladeshNew Zealand\n",
       "3            -Afghanisatan\n",
       "dtype: object"
      ]
     },
     "execution_count": 85,
     "metadata": {},
     "output_type": "execute_result"
    }
   ],
   "source": [
    "team1.str.cat(team2, na_rep='-')"
   ]
  },
  {
   "cell_type": "markdown",
   "id": "30abc4fe",
   "metadata": {},
   "source": [
    "## Removing"
   ]
  },
  {
   "cell_type": "code",
   "execution_count": 95,
   "id": "261ceffd",
   "metadata": {},
   "outputs": [
    {
     "name": "stdout",
     "output_type": "stream",
     "text": [
      "0    Delhi 11001\n",
      "1       Mumbai #\n",
      "2    Kolkatta ??\n",
      "dtype: object\n"
     ]
    }
   ],
   "source": [
    "cityNames = pd.Series(['Delhi 11001','Mumbai #', 'Kolkatta ??'])\n",
    "print(cityNames)"
   ]
  },
  {
   "cell_type": "code",
   "execution_count": 90,
   "id": "88fadbf1",
   "metadata": {},
   "outputs": [
    {
     "data": {
      "text/plain": [
       "0    NaN\n",
       "1      b\n",
       "2      a\n",
       "dtype: object"
      ]
     },
     "execution_count": 90,
     "metadata": {},
     "output_type": "execute_result"
    }
   ],
   "source": [
    "cityNames.str.extract(r\"([ab])\", expand=False)\n",
    "# elements that do not match return a row filled with NAN"
   ]
  },
  {
   "cell_type": "code",
   "execution_count": 112,
   "id": "010687fb",
   "metadata": {},
   "outputs": [
    {
     "data": {
      "text/plain": [
       "0     True\n",
       "1    False\n",
       "2    False\n",
       "dtype: bool"
      ]
     },
     "execution_count": 112,
     "metadata": {},
     "output_type": "execute_result"
    }
   ],
   "source": [
    "pattern = r\"[a-z] [0-9]\"  #not space\n",
    "cityNames.str.contains(pattern)"
   ]
  },
  {
   "cell_type": "code",
   "execution_count": 117,
   "id": "6140780f",
   "metadata": {},
   "outputs": [
    {
     "data": {
      "text/plain": [
       "0    False\n",
       "1    False\n",
       "2    False\n",
       "dtype: bool"
      ]
     },
     "execution_count": 117,
     "metadata": {},
     "output_type": "execute_result"
    }
   ],
   "source": [
    "#pattern = r\"[a-z][a-z] #\" \n",
    "#cityNames.str.match(pattern)"
   ]
  },
  {
   "cell_type": "code",
   "execution_count": 114,
   "id": "dfee307f",
   "metadata": {},
   "outputs": [
    {
     "data": {
      "text/plain": [
       "0    False\n",
       "1    False\n",
       "2    False\n",
       "dtype: bool"
      ]
     },
     "execution_count": 114,
     "metadata": {},
     "output_type": "execute_result"
    }
   ],
   "source": [
    "#cityNames.str.fullmatch(pattern)"
   ]
  },
  {
   "cell_type": "markdown",
   "id": "67696d88",
   "metadata": {},
   "source": [
    "## Object vs String\n",
    "Before pandas 1.0, only “object” datatype was used to store strings which cause some drawbacks because non-string data can also be stored using “object” datatype. Pandas 1.0 introduces a new datatype specific to string data which is StringDtype. As of now, we can still use object or StringDtype to store strings but in the future, we may be required to only use StringDtype.\n",
    "\n",
    "One important thing to note here is that object datatype is still the default datatype for strings. To use StringDtype, we need to explicitly state it.\n",
    "\n",
    "We can pass “string” or pd.StringDtype() argument to dtype parameter to string datatype."
   ]
  },
  {
   "cell_type": "code",
   "execution_count": 62,
   "id": "b527f22b",
   "metadata": {},
   "outputs": [
    {
     "name": "stdout",
     "output_type": "stream",
     "text": [
      "0       Delhi\n",
      "1      Mumbai\n",
      "2    Kolkatta\n",
      "dtype: object \n",
      " object\n"
     ]
    }
   ],
   "source": [
    "city1 = pd.Series(['Delhi','Mumbai', 'Kolkatta'])\n",
    "print(city1, '\\n', city1.dtype)"
   ]
  },
  {
   "cell_type": "code",
   "execution_count": 63,
   "id": "836efb47",
   "metadata": {},
   "outputs": [
    {
     "name": "stdout",
     "output_type": "stream",
     "text": [
      "0      Chennai\n",
      "1    Bangalore\n",
      "2         Pune\n",
      "dtype: string \n",
      " string\n"
     ]
    },
    {
     "data": {
      "text/plain": [
       "0       Delhi\n",
       "1      Mumbai\n",
       "2    Kolkatta\n",
       "dtype: string"
      ]
     },
     "execution_count": 63,
     "metadata": {},
     "output_type": "execute_result"
    }
   ],
   "source": [
    "city2 = pd.Series(['Chennai', \"Bangalore\", 'Pune'], dtype='string')\n",
    "print(city2, '\\n', city2.dtype)\n",
    "# dtype = pd.StringDtype()\n",
    "city1.astype('string')"
   ]
  },
  {
   "cell_type": "code",
   "execution_count": 66,
   "id": "0874db55",
   "metadata": {},
   "outputs": [
    {
     "data": {
      "text/plain": [
       "0    False\n",
       "1    False\n",
       "2     True\n",
       "dtype: boolean"
      ]
     },
     "execution_count": 66,
     "metadata": {},
     "output_type": "execute_result"
    }
   ],
   "source": [
    "city2.str.match('P')"
   ]
  },
  {
   "cell_type": "code",
   "execution_count": 69,
   "id": "0d02558d",
   "metadata": {},
   "outputs": [
    {
     "name": "stdout",
     "output_type": "stream",
     "text": [
      "0    7\n",
      "1    9\n",
      "2    4\n",
      "dtype: Int64 \n",
      " 0    5\n",
      "1    6\n",
      "2    8\n",
      "dtype: int64\n"
     ]
    }
   ],
   "source": [
    "print(city2.str.len(), '\\n', city1.str.len())"
   ]
  },
  {
   "cell_type": "code",
   "execution_count": null,
   "id": "e84a8070",
   "metadata": {},
   "outputs": [],
   "source": []
  }
 ],
 "metadata": {
  "kernelspec": {
   "display_name": "Python 3 (ipykernel)",
   "language": "python",
   "name": "python3"
  },
  "language_info": {
   "codemirror_mode": {
    "name": "ipython",
    "version": 3
   },
   "file_extension": ".py",
   "mimetype": "text/x-python",
   "name": "python",
   "nbconvert_exporter": "python",
   "pygments_lexer": "ipython3",
   "version": "3.9.15"
  }
 },
 "nbformat": 4,
 "nbformat_minor": 5
}
