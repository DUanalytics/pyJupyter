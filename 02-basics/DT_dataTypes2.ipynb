{
 "cells": [
  {
   "cell_type": "markdown",
   "id": "4abef488",
   "metadata": {},
   "source": [
    "# Collections (Arrays)\n",
    "collection  data types in Python Programming\n",
    "when choosing collection type, it is useful to understand the properties of the data type.\n",
    "Unordered - the items does not have a defined order -> it cannot be referred using an index"
   ]
  },
  {
   "cell_type": "markdown",
   "id": "6165bf33",
   "metadata": {},
   "source": [
    "# Lists\n",
    "Collection which is ordered and changeable\n",
    "Allows duplicate members"
   ]
  },
  {
   "cell_type": "code",
   "execution_count": 13,
   "id": "7c573015",
   "metadata": {},
   "outputs": [
    {
     "data": {
      "text/plain": [
       "list"
      ]
     },
     "execution_count": 13,
     "metadata": {},
     "output_type": "execute_result"
    }
   ],
   "source": [
    "list1 = ['Dhiraj', 2021, True, 'M', 2021]  #square bracket\n",
    "type(list1)"
   ]
  },
  {
   "cell_type": "code",
   "execution_count": 14,
   "id": "a3ead4ee",
   "metadata": {},
   "outputs": [
    {
     "name": "stdout",
     "output_type": "stream",
     "text": [
      "['Dhiraj', 2021, True, 'M', 2021]\n"
     ]
    }
   ],
   "source": [
    "# print list\n",
    "print(list1) #allows duplicates"
   ]
  },
  {
   "cell_type": "code",
   "execution_count": 6,
   "id": "6e4b43b0",
   "metadata": {},
   "outputs": [
    {
     "name": "stdout",
     "output_type": "stream",
     "text": [
      "['Dhiraj', 1967, True, 'M']\n"
     ]
    }
   ],
   "source": [
    "list1[1] = 1967\n",
    "print(list1)  #changeable"
   ]
  },
  {
   "cell_type": "code",
   "execution_count": 12,
   "id": "6fb02d06",
   "metadata": {},
   "outputs": [
    {
     "name": "stdout",
     "output_type": "stream",
     "text": [
      "M\n"
     ]
    }
   ],
   "source": [
    "print(list1[3])  #ordered, pick by index value"
   ]
  },
  {
   "cell_type": "code",
   "execution_count": 18,
   "id": "68b54da4",
   "metadata": {},
   "outputs": [
    {
     "name": "stdout",
     "output_type": "stream",
     "text": [
      "['__add__', '__class__', '__class_getitem__', '__contains__', '__delattr__', '__delitem__', '__dir__', '__doc__', '__eq__', '__format__', '__ge__', '__getattribute__', '__getitem__', '__gt__', '__hash__', '__iadd__', '__imul__', '__init__', '__init_subclass__', '__iter__', '__le__', '__len__', '__lt__', '__mul__', '__ne__', '__new__', '__reduce__', '__reduce_ex__', '__repr__', '__reversed__', '__rmul__', '__setattr__', '__setitem__', '__sizeof__', '__str__', '__subclasshook__', 'append', 'clear', 'copy', 'count', 'extend', 'index', 'insert', 'pop', 'remove', 'reverse', 'sort'], "
     ]
    }
   ],
   "source": [
    "#other functions\n",
    "print(dir(list1), end = ', ')"
   ]
  },
  {
   "cell_type": "code",
   "execution_count": 33,
   "id": "b8abbad3",
   "metadata": {},
   "outputs": [
    {
     "data": {
      "text/plain": [
       "['h', 'i', 'm']"
      ]
     },
     "execution_count": 33,
     "metadata": {},
     "output_type": "execute_result"
    }
   ],
   "source": [
    "list2 = [5,2,6,7]\n",
    "sorted(list2, reverse=True)  #list1 has mix of types hence cannot be sorted\n",
    "list3 = ['h','i', 'm']\n",
    "sorted(list3, reverse=False)"
   ]
  },
  {
   "cell_type": "code",
   "execution_count": 44,
   "id": "9cf99870",
   "metadata": {},
   "outputs": [
    {
     "data": {
      "text/plain": [
       "['Tanvi', 'Dhiraj', 'Upadhyaya']"
      ]
     },
     "execution_count": 44,
     "metadata": {},
     "output_type": "execute_result"
    }
   ],
   "source": [
    "#sort by length of work\n",
    "names = ['Dhiraj', 'Upadhyaya' , 'Tanvi']\n",
    "sorted(names, reverse=False, key = len)"
   ]
  },
  {
   "cell_type": "markdown",
   "id": "cb1d4a08",
   "metadata": {},
   "source": [
    "# --------------"
   ]
  },
  {
   "cell_type": "markdown",
   "id": "aad843a8",
   "metadata": {},
   "source": [
    "# Tuple\n",
    "Collection which is ordered and unchangeable.\n",
    "Allows duplicate members"
   ]
  },
  {
   "cell_type": "code",
   "execution_count": null,
   "id": "a72c79c0",
   "metadata": {},
   "outputs": [],
   "source": []
  },
  {
   "cell_type": "markdown",
   "id": "8328313d",
   "metadata": {},
   "source": [
    "# Set\n",
    "Collection which is unordered, unchangeable, unindexed\n",
    "No duplicate members"
   ]
  },
  {
   "cell_type": "code",
   "execution_count": null,
   "id": "ad42d9d8",
   "metadata": {},
   "outputs": [],
   "source": []
  },
  {
   "cell_type": "markdown",
   "id": "97902a9d",
   "metadata": {},
   "source": [
    "# Dictionary\n",
    "Collection which is ordered (ver 3.7) and changeable\n",
    "No duplicate members"
   ]
  },
  {
   "cell_type": "code",
   "execution_count": 1,
   "id": "70a7df15",
   "metadata": {},
   "outputs": [
    {
     "data": {
      "text/plain": [
       "dict"
      ]
     },
     "execution_count": 1,
     "metadata": {},
     "output_type": "execute_result"
    }
   ],
   "source": [
    "car = {'brand' :'Honda', 'model': \"Jazz\", 'year' : 2017}\n",
    "type(car)"
   ]
  },
  {
   "cell_type": "code",
   "execution_count": 2,
   "id": "b57c5860",
   "metadata": {},
   "outputs": [
    {
     "name": "stdout",
     "output_type": "stream",
     "text": [
      "{'brand': 'Honda', 'model': 'Jazz', 'year': 2017}\n"
     ]
    }
   ],
   "source": [
    "print(car)"
   ]
  },
  {
   "cell_type": "code",
   "execution_count": null,
   "id": "ee46cf9f",
   "metadata": {},
   "outputs": [],
   "source": []
  }
 ],
 "metadata": {
  "kernelspec": {
   "display_name": "Python 3 (ipykernel)",
   "language": "python",
   "name": "python3"
  },
  "language_info": {
   "codemirror_mode": {
    "name": "ipython",
    "version": 3
   },
   "file_extension": ".py",
   "mimetype": "text/x-python",
   "name": "python",
   "nbconvert_exporter": "python",
   "pygments_lexer": "ipython3",
   "version": "3.9.15"
  }
 },
 "nbformat": 4,
 "nbformat_minor": 5
}
