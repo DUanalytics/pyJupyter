{
 "cells": [
  {
   "cell_type": "markdown",
   "id": "e5b360c9",
   "metadata": {},
   "source": [
    "# zip Function\n",
    "it returns a zip object which is iterator of tuples where the 1st item in each passed iterator is paired together and then 2nd and so on\n",
    "if the iterators have different lengths, the lesser iterator decides the length of new iterator"
   ]
  },
  {
   "cell_type": "markdown",
   "id": "5adfd691",
   "metadata": {},
   "source": [
    "## syntax\n",
    "zip (iterator1, iterator2,...)"
   ]
  },
  {
   "cell_type": "code",
   "execution_count": 1,
   "id": "83da7b5f",
   "metadata": {},
   "outputs": [
    {
     "name": "stdout",
     "output_type": "stream",
     "text": [
      "('Dhiraj', 'Dinesh', 'Vimla') ('Upen', 'Poonam', 'Tanvi', 'Kanika')\n"
     ]
    }
   ],
   "source": [
    "## example1\n",
    "a = ('Dhiraj', 'Dinesh', 'Vimla')\n",
    "b = ('Upen', 'Poonam', 'Tanvi', 'Kanika')\n",
    "print(a, b)"
   ]
  },
  {
   "cell_type": "code",
   "execution_count": 10,
   "id": "1efedef6",
   "metadata": {},
   "outputs": [
    {
     "data": {
      "text/plain": [
       "zip"
      ]
     },
     "execution_count": 10,
     "metadata": {},
     "output_type": "execute_result"
    }
   ],
   "source": [
    "zipped1 = zip(a, b)\n",
    "type(zip1)"
   ]
  },
  {
   "cell_type": "code",
   "execution_count": 11,
   "id": "725b4744",
   "metadata": {},
   "outputs": [
    {
     "name": "stdout",
     "output_type": "stream",
     "text": [
      "<zip object at 0x000002A7529970C0>\n"
     ]
    }
   ],
   "source": [
    "print(zipped1)"
   ]
  },
  {
   "cell_type": "code",
   "execution_count": 12,
   "id": "55cb1c0d",
   "metadata": {},
   "outputs": [
    {
     "name": "stdout",
     "output_type": "stream",
     "text": [
      "[('Dhiraj', 'Upen'), ('Dinesh', 'Poonam'), ('Vimla', 'Tanvi')]\n"
     ]
    }
   ],
   "source": [
    "print(list(zipped1))"
   ]
  },
  {
   "cell_type": "code",
   "execution_count": null,
   "id": "65845db6",
   "metadata": {},
   "outputs": [],
   "source": []
  },
  {
   "cell_type": "markdown",
   "id": "46575e5d",
   "metadata": {},
   "source": [
    "### using loop with zipped\n",
    "Since the zip object is an iterator, it can be traversed with the next() function until the StopIteration exception is reached."
   ]
  },
  {
   "cell_type": "code",
   "execution_count": 15,
   "id": "1ce59aca",
   "metadata": {},
   "outputs": [
    {
     "name": "stdout",
     "output_type": "stream",
     "text": [
      "Dhiraj > Upen\n",
      "Dinesh > Poonam\n",
      "Vimla > Tanvi\n"
     ]
    }
   ],
   "source": [
    "zipped1 = zip(a, b)\n",
    "while True:\n",
    "    try:\n",
    "        tup = next(zipped1)\n",
    "        print(tup[0], '>', tup[1])\n",
    "    except StopIteration:\n",
    "        break"
   ]
  },
  {
   "cell_type": "code",
   "execution_count": 22,
   "id": "c91071d2",
   "metadata": {},
   "outputs": [
    {
     "name": "stdout",
     "output_type": "stream",
     "text": [
      "('Dhiraj', 'Upen')\n",
      "('Dinesh', 'Poonam')\n",
      "('Vimla', 'Tanvi')\n"
     ]
    }
   ],
   "source": [
    "zipped1 = zip(a, b)  #again creat\n",
    "for item in zipped1:\n",
    "    print(item)"
   ]
  },
  {
   "cell_type": "markdown",
   "id": "a28c41ac",
   "metadata": {},
   "source": [
    "### unzipping"
   ]
  },
  {
   "cell_type": "code",
   "execution_count": 16,
   "id": "9bd629ce",
   "metadata": {},
   "outputs": [
    {
     "data": {
      "text/plain": [
       "<zip at 0x2a75299f580>"
      ]
     },
     "execution_count": 16,
     "metadata": {},
     "output_type": "execute_result"
    }
   ],
   "source": [
    "zipped1"
   ]
  },
  {
   "cell_type": "code",
   "execution_count": 18,
   "id": "9df5efe5",
   "metadata": {},
   "outputs": [
    {
     "name": "stdout",
     "output_type": "stream",
     "text": [
      "('Dhiraj', 'Dinesh', 'Vimla') ('Upen', 'Poonam', 'Tanvi')\n"
     ]
    }
   ],
   "source": [
    "zipped1 = zip(a, b)\n",
    "x, y = zip(*zipped1)\n",
    "print(x, y)"
   ]
  },
  {
   "cell_type": "code",
   "execution_count": 19,
   "id": "d1a0db7d",
   "metadata": {},
   "outputs": [
    {
     "ename": "ValueError",
     "evalue": "not enough values to unpack (expected 2, got 0)",
     "output_type": "error",
     "traceback": [
      "\u001b[1;31m---------------------------------------------------------------------------\u001b[0m",
      "\u001b[1;31mValueError\u001b[0m                                Traceback (most recent call last)",
      "\u001b[1;32m~\\AppData\\Local\\Temp\\ipykernel_12836\\1840922488.py\u001b[0m in \u001b[0;36m<cell line: 1>\u001b[1;34m()\u001b[0m\n\u001b[1;32m----> 1\u001b[1;33m \u001b[0mx\u001b[0m\u001b[1;33m,\u001b[0m \u001b[0my\u001b[0m \u001b[1;33m=\u001b[0m \u001b[0mzip\u001b[0m\u001b[1;33m(\u001b[0m\u001b[1;33m*\u001b[0m\u001b[0mzipped1\u001b[0m\u001b[1;33m)\u001b[0m\u001b[1;33m\u001b[0m\u001b[1;33m\u001b[0m\u001b[0m\n\u001b[0m\u001b[0;32m      2\u001b[0m \u001b[0mprint\u001b[0m\u001b[1;33m(\u001b[0m\u001b[0mx\u001b[0m\u001b[1;33m,\u001b[0m \u001b[0my\u001b[0m\u001b[1;33m)\u001b[0m\u001b[1;33m\u001b[0m\u001b[1;33m\u001b[0m\u001b[0m\n",
      "\u001b[1;31mValueError\u001b[0m: not enough values to unpack (expected 2, got 0)"
     ]
    }
   ],
   "source": [
    "x, y = zip(*zipped1)\n",
    "print(x, y)  #not enough values to unpack"
   ]
  },
  {
   "cell_type": "markdown",
   "id": "b6ad884c",
   "metadata": {},
   "source": [
    "If we try to run the zip function on the two lists once again we would note that the function will ignore the elements that come after the length of the shorter list.\n",
    "https://codeberryschool.com/blog/en/python-zip/"
   ]
  },
  {
   "cell_type": "markdown",
   "id": "6a42a517",
   "metadata": {},
   "source": [
    "## zip longest"
   ]
  },
  {
   "cell_type": "code",
   "execution_count": 23,
   "id": "de0b552d",
   "metadata": {},
   "outputs": [
    {
     "name": "stdout",
     "output_type": "stream",
     "text": [
      "[(1, 'Dhiraj'), (2, 'Neha'), (3, 'Himanshu'), (4, 'missing'), (5, 'missing')]\n"
     ]
    }
   ],
   "source": [
    "from itertools import zip_longest\n",
    "numbers = [1,2,3,4,5]\n",
    "names = ['Dhiraj', 'Neha', 'Himanshu']\n",
    "zipped5 = zip_longest(numbers, names, fillvalue = 'missing')\n",
    "print(list(zipped5))"
   ]
  },
  {
   "cell_type": "markdown",
   "id": "3605b4b9",
   "metadata": {},
   "source": [
    "## list of lists"
   ]
  },
  {
   "cell_type": "code",
   "execution_count": 24,
   "id": "c0bde1ce",
   "metadata": {},
   "outputs": [
    {
     "name": "stdout",
     "output_type": "stream",
     "text": [
      "[[1, 2, 3, 4, 5], ['Dhiraj', 'Neha', 'Himanshu']]\n"
     ]
    }
   ],
   "source": [
    "listList = [numbers, names]\n",
    "print(listList)"
   ]
  },
  {
   "cell_type": "code",
   "execution_count": 25,
   "id": "7da981e5",
   "metadata": {},
   "outputs": [
    {
     "name": "stdout",
     "output_type": "stream",
     "text": [
      "[(1, 'Dhiraj'), (2, 'Neha'), (3, 'Himanshu')]\n"
     ]
    }
   ],
   "source": [
    "zipped6 = zip(*listList)\n",
    "print(list(zipped6))"
   ]
  },
  {
   "cell_type": "markdown",
   "id": "f8fcb748",
   "metadata": {},
   "source": [
    "# with enumerate\n"
   ]
  },
  {
   "cell_type": "code",
   "execution_count": 26,
   "id": "246da051",
   "metadata": {},
   "outputs": [
    {
     "name": "stdout",
     "output_type": "stream",
     "text": [
      "0 Alice 24\n",
      "1 Bob 50\n",
      "2 Charlie 18\n"
     ]
    }
   ],
   "source": [
    "names = ['Alice', 'Bob', 'Charlie']\n",
    "ages = [24, 50, 18]\n",
    "\n",
    "for i, (name, age) in enumerate(zip(names, ages)):\n",
    "    print(i, name, age)"
   ]
  },
  {
   "cell_type": "code",
   "execution_count": 28,
   "id": "9f71005f",
   "metadata": {},
   "outputs": [
    {
     "name": "stdout",
     "output_type": "stream",
     "text": [
      "0 ('Alice', 24)\n",
      "1 ('Bob', 50)\n",
      "2 ('Charlie', 18)\n"
     ]
    }
   ],
   "source": [
    "# the elements of zip() as a tuple.\n",
    "for i, t in enumerate(zip(names, ages)):\n",
    "    print(i, t)"
   ]
  },
  {
   "cell_type": "code",
   "execution_count": 29,
   "id": "b6f86b7b",
   "metadata": {},
   "outputs": [
    {
     "name": "stdout",
     "output_type": "stream",
     "text": [
      "0 Alice 24\n",
      "1 Bob 50\n",
      "2 Charlie 18\n"
     ]
    }
   ],
   "source": [
    "for i, t in enumerate(zip(names, ages)):\n",
    "    print(i, t[0], t[1])"
   ]
  },
  {
   "cell_type": "code",
   "execution_count": 30,
   "id": "90c0fdd6",
   "metadata": {},
   "outputs": [
    {
     "name": "stdout",
     "output_type": "stream",
     "text": [
      "[(0, 'a', 'x'), (1, 'b', 'y'), (2, 'c', 'z')]\n"
     ]
    }
   ],
   "source": [
    "import itertools\n",
    "l1 = ['a', 'b', 'c']\n",
    "l2 = ['x', 'y', 'z']\n",
    "\n",
    "print(list(zip(itertools.count(), l1, l2)))\n",
    "# [(0, 'a', 'x'), (1, 'b', 'y'), (2, 'c', 'z')]"
   ]
  },
  {
   "cell_type": "code",
   "execution_count": 31,
   "id": "36b12f0e",
   "metadata": {},
   "outputs": [
    {
     "name": "stdout",
     "output_type": "stream",
     "text": [
      "[(0, ('a', 'x')), (1, ('b', 'y')), (2, ('c', 'z'))]\n"
     ]
    }
   ],
   "source": [
    "print(list(enumerate(zip(l1, l2))))"
   ]
  },
  {
   "cell_type": "code",
   "execution_count": 32,
   "id": "f55ec27e",
   "metadata": {},
   "outputs": [
    {
     "name": "stdout",
     "output_type": "stream",
     "text": [
      "0 Alice 24\n",
      "1 Bob 50\n",
      "2 Charlie 18\n"
     ]
    }
   ],
   "source": [
    "names = ['Alice', 'Bob', 'Charlie']\n",
    "ages = [24, 50, 18]\n",
    "\n",
    "for i, (name, age) in enumerate(zip(names, ages)):\n",
    "    print(i, name, age)"
   ]
  },
  {
   "cell_type": "code",
   "execution_count": 34,
   "id": "3647dffc",
   "metadata": {},
   "outputs": [
    {
     "name": "stdout",
     "output_type": "stream",
     "text": [
      "3 7\n",
      "[(1, 0), (10, 1), (100, 2), (1, 3), (10, 4), (100, 5), (1, 6)]\n"
     ]
    }
   ],
   "source": [
    "l1 = [1, 10, 100]\n",
    "l2 = [0, 1, 2, 3, 4, 5, 6]\n",
    "print(len(l1), len(l2))\n",
    "print(list(zip(itertools.cycle(l1), l2)))\n",
    "# [(1, 0), (10, 1), (100, 2), (1, 3), (10, 4), (100, 5), (1, 6)]"
   ]
  },
  {
   "cell_type": "code",
   "execution_count": null,
   "id": "fd3a4c98",
   "metadata": {},
   "outputs": [],
   "source": []
  }
 ],
 "metadata": {
  "kernelspec": {
   "display_name": "Python 3 (ipykernel)",
   "language": "python",
   "name": "python3"
  },
  "language_info": {
   "codemirror_mode": {
    "name": "ipython",
    "version": 3
   },
   "file_extension": ".py",
   "mimetype": "text/x-python",
   "name": "python",
   "nbconvert_exporter": "python",
   "pygments_lexer": "ipython3",
   "version": "3.9.15"
  }
 },
 "nbformat": 4,
 "nbformat_minor": 5
}
