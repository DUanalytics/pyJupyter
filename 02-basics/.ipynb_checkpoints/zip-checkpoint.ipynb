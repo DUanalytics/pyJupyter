{
 "cells": [
  {
   "cell_type": "markdown",
   "id": "e5b360c9",
   "metadata": {},
   "source": [
    "# zip Function\n",
    "it returns a zip object which is iterator of tuples where the 1st item in each passed iterator is paired together and then 2nd and so on\n",
    "if the iterators have different lengths, the lesser iterator decides the length of new iterator"
   ]
  },
  {
   "cell_type": "markdown",
   "id": "5adfd691",
   "metadata": {},
   "source": [
    "## syntax\n",
    "zip (iterator1, iterator2,...)"
   ]
  },
  {
   "cell_type": "code",
   "execution_count": 1,
   "id": "83da7b5f",
   "metadata": {},
   "outputs": [
    {
     "name": "stdout",
     "output_type": "stream",
     "text": [
      "('Dhiraj', 'Sushma', 'Vimla') ('Upen', 'Poonam', 'Tanvi', 'Kanika')\n"
     ]
    }
   ],
   "source": [
    "## example1\n",
    "a = ('Dhiraj', 'Sushma', 'Vimla')\n",
    "b = ('Upen', 'Poonam', 'Tanvi', 'Kanika')\n",
    "print(a, b)"
   ]
  },
  {
   "cell_type": "code",
   "execution_count": 2,
   "id": "1efedef6",
   "metadata": {},
   "outputs": [
    {
     "data": {
      "text/plain": [
       "zip"
      ]
     },
     "execution_count": 2,
     "metadata": {},
     "output_type": "execute_result"
    }
   ],
   "source": [
    "x = zip(a, b)\n",
    "type(x)"
   ]
  },
  {
   "cell_type": "code",
   "execution_count": 3,
   "id": "725b4744",
   "metadata": {},
   "outputs": [
    {
     "name": "stdout",
     "output_type": "stream",
     "text": [
      "<zip object at 0x000001D36F814FC0>\n"
     ]
    }
   ],
   "source": [
    "print(x)"
   ]
  },
  {
   "cell_type": "code",
   "execution_count": 4,
   "id": "55cb1c0d",
   "metadata": {},
   "outputs": [
    {
     "name": "stdout",
     "output_type": "stream",
     "text": [
      "[('Dhiraj', 'Upen'), ('Sushma', 'Poonam'), ('Vimla', 'Tanvi')]\n"
     ]
    }
   ],
   "source": [
    "print(list(x))"
   ]
  },
  {
   "cell_type": "code",
   "execution_count": null,
   "id": "65845db6",
   "metadata": {},
   "outputs": [],
   "source": []
  }
 ],
 "metadata": {
  "kernelspec": {
   "display_name": "Python 3 (ipykernel)",
   "language": "python",
   "name": "python3"
  },
  "language_info": {
   "codemirror_mode": {
    "name": "ipython",
    "version": 3
   },
   "file_extension": ".py",
   "mimetype": "text/x-python",
   "name": "python",
   "nbconvert_exporter": "python",
   "pygments_lexer": "ipython3",
   "version": "3.9.12"
  }
 },
 "nbformat": 4,
 "nbformat_minor": 5
}
