{
 "cells": [
  {
   "cell_type": "markdown",
   "id": "4cc155ac",
   "metadata": {},
   "source": [
    "# Pandas"
   ]
  },
  {
   "cell_type": "code",
   "execution_count": null,
   "id": "25dde957",
   "metadata": {},
   "outputs": [],
   "source": []
  },
  {
   "cell_type": "code",
   "execution_count": null,
   "id": "44ac16bf",
   "metadata": {},
   "outputs": [],
   "source": []
  },
  {
   "cell_type": "code",
   "execution_count": null,
   "id": "5ca66bc2",
   "metadata": {},
   "outputs": [],
   "source": []
  },
  {
   "cell_type": "code",
   "execution_count": null,
   "id": "e335f695",
   "metadata": {},
   "outputs": [],
   "source": []
  },
  {
   "cell_type": "code",
   "execution_count": null,
   "id": "33e23d81",
   "metadata": {},
   "outputs": [],
   "source": []
  },
  {
   "cell_type": "markdown",
   "id": "0f2a4344",
   "metadata": {},
   "source": [
    "## Data Frame from Series"
   ]
  },
  {
   "cell_type": "code",
   "execution_count": 4,
   "id": "0c9230e4",
   "metadata": {},
   "outputs": [],
   "source": [
    "import pandas as pd\n",
    "# Create pandas Series\n",
    "courses = pd.Series([\"Python\",\"R\",\"Hadoop\"])\n",
    "fees = pd.Series([22000,25000,23000])\n",
    "discount  = pd.Series([1000,2300,1000])\n",
    "# Combine two series.\n",
    "df=pd.concat([courses,fees],axis=1)"
   ]
  },
  {
   "cell_type": "code",
   "execution_count": 5,
   "id": "cac67d2c",
   "metadata": {},
   "outputs": [
    {
     "name": "stdout",
     "output_type": "stream",
     "text": [
      "        0      1\n",
      "0  Python  22000\n",
      "1       R  25000\n",
      "2  Hadoop  23000\n"
     ]
    }
   ],
   "source": [
    "print(df)"
   ]
  },
  {
   "cell_type": "code",
   "execution_count": 6,
   "id": "62dd1efd",
   "metadata": {},
   "outputs": [
    {
     "name": "stdout",
     "output_type": "stream",
     "text": [
      "        0      1     2\n",
      "0  Python  22000  1000\n",
      "1       R  25000  2300\n",
      "2  Hadoop  23000  1000\n"
     ]
    }
   ],
   "source": [
    "#combine multiple series.\n",
    "df=pd.concat([courses,fees,discount],axis=1)\n",
    "print(df)"
   ]
  },
  {
   "cell_type": "markdown",
   "id": "9f1e4adb",
   "metadata": {},
   "source": [
    "### Names of Columns"
   ]
  },
  {
   "cell_type": "code",
   "execution_count": 7,
   "id": "ff91005c",
   "metadata": {},
   "outputs": [
    {
     "name": "stdout",
     "output_type": "stream",
     "text": [
      "  Courses   fees  discount\n",
      "0  Python  22000      1000\n",
      "1       R  25000      2300\n",
      "2  Hadoop  23000      1000\n"
     ]
    }
   ],
   "source": [
    "courses = pd.Series([\"Python\",\"R\",\"Hadoop\"], name='Courses')\n",
    "fees = pd.Series([22000,25000,23000], name='fees')\n",
    "discount  = pd.Series([1000,2300,1000], name='discount')\n",
    "df1=pd.concat([courses,fees,discount],axis=1)\n",
    "print(df1)"
   ]
  },
  {
   "cell_type": "code",
   "execution_count": 9,
   "id": "9509e7ae",
   "metadata": {},
   "outputs": [
    {
     "name": "stdout",
     "output_type": "stream",
     "text": [
      "   Courses   fees  discount\n",
      "C1  Python  22000      1000\n",
      "C2       R  25000      2300\n",
      "C3  Hadoop  23000      1000\n"
     ]
    }
   ],
   "source": [
    "# create index values for each row\n",
    "indexColumn = ['C1','C2','C3']\n",
    "df1.index = indexColumn\n",
    "print(df1)"
   ]
  },
  {
   "cell_type": "code",
   "execution_count": 11,
   "id": "92015300",
   "metadata": {},
   "outputs": [
    {
     "data": {
      "text/html": [
       "<div>\n",
       "<style scoped>\n",
       "    .dataframe tbody tr th:only-of-type {\n",
       "        vertical-align: middle;\n",
       "    }\n",
       "\n",
       "    .dataframe tbody tr th {\n",
       "        vertical-align: top;\n",
       "    }\n",
       "\n",
       "    .dataframe thead th {\n",
       "        text-align: right;\n",
       "    }\n",
       "</style>\n",
       "<table border=\"1\" class=\"dataframe\">\n",
       "  <thead>\n",
       "    <tr style=\"text-align: right;\">\n",
       "      <th></th>\n",
       "      <th>index</th>\n",
       "      <th>Courses</th>\n",
       "      <th>fees</th>\n",
       "      <th>discount</th>\n",
       "    </tr>\n",
       "  </thead>\n",
       "  <tbody>\n",
       "    <tr>\n",
       "      <th>0</th>\n",
       "      <td>C1</td>\n",
       "      <td>Python</td>\n",
       "      <td>22000</td>\n",
       "      <td>1000</td>\n",
       "    </tr>\n",
       "    <tr>\n",
       "      <th>1</th>\n",
       "      <td>C2</td>\n",
       "      <td>R</td>\n",
       "      <td>25000</td>\n",
       "      <td>2300</td>\n",
       "    </tr>\n",
       "    <tr>\n",
       "      <th>2</th>\n",
       "      <td>C3</td>\n",
       "      <td>Hadoop</td>\n",
       "      <td>23000</td>\n",
       "      <td>1000</td>\n",
       "    </tr>\n",
       "  </tbody>\n",
       "</table>\n",
       "</div>"
      ],
      "text/plain": [
       "  index Courses   fees  discount\n",
       "0    C1  Python  22000      1000\n",
       "1    C2       R  25000      2300\n",
       "2    C3  Hadoop  23000      1000"
      ]
     },
     "execution_count": 11,
     "metadata": {},
     "output_type": "execute_result"
    }
   ],
   "source": [
    "# Index value to Column \n",
    "df1.reset_index()"
   ]
  },
  {
   "cell_type": "markdown",
   "id": "7b0c9840",
   "metadata": {},
   "source": [
    "## add empty column to DF"
   ]
  },
  {
   "cell_type": "code",
   "execution_count": null,
   "id": "0a7e3766",
   "metadata": {},
   "outputs": [],
   "source": [
    "# Add empty column to the DataFrame\n",
    "df[\"Blank_Column\"] = \" \"\n",
    "df[\"NaN_Column\"] = np.nan\n",
    "df[\"None_Column\"] = None"
   ]
  },
  {
   "cell_type": "code",
   "execution_count": null,
   "id": "6f09cedd",
   "metadata": {},
   "outputs": [],
   "source": [
    "# Add an empty columns using the assign() method\n",
    "df2 = df.assign(Blank_Column=\" \", NaN_Column = np.nan, None_Column=None)"
   ]
  },
  {
   "cell_type": "code",
   "execution_count": null,
   "id": "8462ed59",
   "metadata": {},
   "outputs": [],
   "source": [
    "# Add multiple columns with NaN , uses columns param\n",
    "df2 = df.reindex(columns = df.columns.tolist() + [\"None_Column\", \"None_Column_2\"])\n",
    "print(df2)"
   ]
  },
  {
   "cell_type": "code",
   "execution_count": null,
   "id": "b62e6e92",
   "metadata": {},
   "outputs": [],
   "source": [
    "# Add multiple columns with NaN, , uses axis param \n",
    "df2 = df.reindex(df.columns.tolist() + [\"None_Column\", \"None_Column_2\"],index=1)\n",
    "print(df2)"
   ]
  },
  {
   "cell_type": "code",
   "execution_count": null,
   "id": "548e8368",
   "metadata": {},
   "outputs": [],
   "source": [
    "# Using insert(), add empty column at first position\n",
    "df.insert(0,\"Blank_Column\", \" \")\n",
    "print(df)"
   ]
  },
  {
   "cell_type": "markdown",
   "id": "ebb69d59",
   "metadata": {},
   "source": [
    "## Replace Missings Values"
   ]
  },
  {
   "cell_type": "code",
   "execution_count": null,
   "id": "44ac863b",
   "metadata": {},
   "outputs": [],
   "source": [
    "Datafame.fillna() is used to replace NaN/None with any values.\n",
    "DataFrame.replace() does find and replace. It finds NaN values and replaces them with a specific value.\n",
    "NaN stands for Not A Number and is one of the common ways to represent the missing value in the data. Sometimes None also used.\n",
    "numpy.nan is use to specify a NaN value. NaN is a type of float."
   ]
  },
  {
   "cell_type": "code",
   "execution_count": 24,
   "id": "39bc2747",
   "metadata": {},
   "outputs": [
    {
     "data": {
      "text/html": [
       "<div>\n",
       "<style scoped>\n",
       "    .dataframe tbody tr th:only-of-type {\n",
       "        vertical-align: middle;\n",
       "    }\n",
       "\n",
       "    .dataframe tbody tr th {\n",
       "        vertical-align: top;\n",
       "    }\n",
       "\n",
       "    .dataframe thead th {\n",
       "        text-align: right;\n",
       "    }\n",
       "</style>\n",
       "<table border=\"1\" class=\"dataframe\">\n",
       "  <thead>\n",
       "    <tr style=\"text-align: right;\">\n",
       "      <th></th>\n",
       "      <th>Courses</th>\n",
       "      <th>Fee</th>\n",
       "      <th>Duration</th>\n",
       "      <th>Discount</th>\n",
       "      <th>Period</th>\n",
       "      <th>freq_count</th>\n",
       "    </tr>\n",
       "  </thead>\n",
       "  <tbody>\n",
       "    <tr>\n",
       "      <th>0</th>\n",
       "      <td>Python</td>\n",
       "      <td>20000</td>\n",
       "      <td>30days</td>\n",
       "      <td>1000</td>\n",
       "      <td>Python-30days</td>\n",
       "      <td>1</td>\n",
       "    </tr>\n",
       "    <tr>\n",
       "      <th>1</th>\n",
       "      <td>R</td>\n",
       "      <td>25000</td>\n",
       "      <td>40days</td>\n",
       "      <td>1500</td>\n",
       "      <td>R-40days</td>\n",
       "      <td>1</td>\n",
       "    </tr>\n",
       "    <tr>\n",
       "      <th>2</th>\n",
       "      <td>Hadoop</td>\n",
       "      <td>26000</td>\n",
       "      <td>35days</td>\n",
       "      <td>2500</td>\n",
       "      <td>Hadoop-35days</td>\n",
       "      <td>1</td>\n",
       "    </tr>\n",
       "    <tr>\n",
       "      <th>3</th>\n",
       "      <td>Tableau</td>\n",
       "      <td>22000</td>\n",
       "      <td>40days</td>\n",
       "      <td>2100</td>\n",
       "      <td>Tableau-40days</td>\n",
       "      <td>1</td>\n",
       "    </tr>\n",
       "    <tr>\n",
       "      <th>4</th>\n",
       "      <td>PowerBI</td>\n",
       "      <td>24000</td>\n",
       "      <td>60days</td>\n",
       "      <td>2000</td>\n",
       "      <td>PowerBI-60days</td>\n",
       "      <td>1</td>\n",
       "    </tr>\n",
       "  </tbody>\n",
       "</table>\n",
       "</div>"
      ],
      "text/plain": [
       "   Courses    Fee Duration  Discount          Period  freq_count\n",
       "0   Python  20000   30days      1000   Python-30days           1\n",
       "1        R  25000   40days      1500        R-40days           1\n",
       "2   Hadoop  26000   35days      2500   Hadoop-35days           1\n",
       "3  Tableau  22000   40days      2100  Tableau-40days           1\n",
       "4  PowerBI  24000   60days      2000  PowerBI-60days           1"
      ]
     },
     "execution_count": 24,
     "metadata": {},
     "output_type": "execute_result"
    }
   ],
   "source": [
    "#Replce NaN with zero on all columns \n",
    "df.fillna(0)"
   ]
  },
  {
   "cell_type": "code",
   "execution_count": null,
   "id": "8ec7070b",
   "metadata": {},
   "outputs": [],
   "source": [
    "#Repalce inplace \n",
    "df.fillna(0,inplace=True)"
   ]
  },
  {
   "cell_type": "code",
   "execution_count": null,
   "id": "e4e23c2f",
   "metadata": {},
   "outputs": [],
   "source": [
    "# Replace on single column\n",
    "df[\"Fee\"] = df[\"Fee\"].fillna(0)"
   ]
  },
  {
   "cell_type": "code",
   "execution_count": null,
   "id": "c7c13cfb",
   "metadata": {},
   "outputs": [],
   "source": [
    "# Replace on multiple columns\n",
    "df[[\"Fee\",\"Duration\"]] = df[[\"Fee\",\"Duration\"]].fillna(0)"
   ]
  },
  {
   "cell_type": "code",
   "execution_count": null,
   "id": "d5af8ccd",
   "metadata": {},
   "outputs": [],
   "source": [
    "# Using replace()\n",
    "df[\"Fee\"] = df[\"Fee\"].replace(np.nan, 0)"
   ]
  },
  {
   "cell_type": "code",
   "execution_count": null,
   "id": "70cc8b12",
   "metadata": {},
   "outputs": [],
   "source": [
    "# Using replace()\n",
    "df2 = df.replace(np.nan, 0)"
   ]
  },
  {
   "cell_type": "markdown",
   "id": "ea2f0cbd",
   "metadata": {},
   "source": [
    "## Combine Two Columns of Text"
   ]
  },
  {
   "cell_type": "code",
   "execution_count": 25,
   "id": "746c28f5",
   "metadata": {},
   "outputs": [
    {
     "name": "stdout",
     "output_type": "stream",
     "text": [
      "   Courses    Fee Duration  Discount\n",
      "0   Python  20000   30days      1000\n",
      "1        R  25000   40days      1500\n",
      "2   Hadoop  26000   35days      2500\n",
      "3  Tableau  22000   40days      2100\n",
      "4  PowerBI  24000   60days      2000\n"
     ]
    }
   ],
   "source": [
    "import pandas as pd\n",
    "technologies = ({\n",
    "     'Courses':[\"Python\",\"R\",\"Hadoop\",\"Tableau\",\"PowerBI\"],\n",
    "     'Fee' :[20000,25000,26000,22000,24000],\n",
    "     'Duration':['30days','40days','35days','40days','60days'],\n",
    "     'Discount':[1000,1500,2500,2100,2000]\n",
    "               })\n",
    "df = pd.DataFrame(technologies)\n",
    "print(df)"
   ]
  },
  {
   "cell_type": "code",
   "execution_count": 26,
   "id": "2530bc76",
   "metadata": {},
   "outputs": [
    {
     "data": {
      "text/plain": [
       "0     Python-30days\n",
       "1          R-40days\n",
       "2     Hadoop-35days\n",
       "3    Tableau-40days\n",
       "4    PowerBI-60days\n",
       "dtype: object"
      ]
     },
     "execution_count": 26,
     "metadata": {},
     "output_type": "execute_result"
    }
   ],
   "source": [
    "#Using + operator to combine two columns\n",
    "df['Courses'].astype(str) +\"-\"+ df[\"Duration\"]"
   ]
  },
  {
   "cell_type": "code",
   "execution_count": 27,
   "id": "082d9aec",
   "metadata": {},
   "outputs": [
    {
     "data": {
      "text/plain": [
       "0     Python-30days\n",
       "1          R-40days\n",
       "2     Hadoop-35days\n",
       "3    Tableau-40days\n",
       "4    PowerBI-60days\n",
       "dtype: object"
      ]
     },
     "execution_count": 27,
     "metadata": {},
     "output_type": "execute_result"
    }
   ],
   "source": [
    "# Using apply() method to combine two columns of text\n",
    "#df[\"Period\"] = df[[\"Courses\", \"Duration\"]].apply(\"-\".join, axis=1)\n",
    "df[[\"Courses\", \"Duration\"]].apply(\"-\".join, axis=1)"
   ]
  },
  {
   "cell_type": "code",
   "execution_count": 28,
   "id": "975eea3d",
   "metadata": {},
   "outputs": [
    {
     "data": {
      "text/plain": [
       "0     Python-30days\n",
       "1          R-40days\n",
       "2     Hadoop-35days\n",
       "3    Tableau-40days\n",
       "4    PowerBI-60days\n",
       "dtype: object"
      ]
     },
     "execution_count": 28,
     "metadata": {},
     "output_type": "execute_result"
    }
   ],
   "source": [
    "# Using DataFrame.agg() to combine two columns of text\n",
    "#df[\"Period\"] = df[['Courses', 'Duration']].agg('-'.join, axis=1)\n",
    "df[['Courses', 'Duration']].agg('-'.join, axis=1)"
   ]
  },
  {
   "cell_type": "code",
   "execution_count": 29,
   "id": "58ca0662",
   "metadata": {},
   "outputs": [
    {
     "data": {
      "text/plain": [
       "0     Python-30days\n",
       "1          R-40days\n",
       "2     Hadoop-35days\n",
       "3    Tableau-40days\n",
       "4    PowerBI-60days\n",
       "Name: Courses, dtype: object"
      ]
     },
     "execution_count": 29,
     "metadata": {},
     "output_type": "execute_result"
    }
   ],
   "source": [
    "# Using Series.str.cat() function\n",
    "#df[\"Period\"] = df[\"Courses\"].str.cat(df[\"Duration\"], sep=\"-\")\n",
    "df[\"Courses\"].str.cat(df[\"Duration\"], sep=\"-\")"
   ]
  },
  {
   "cell_type": "code",
   "execution_count": 30,
   "id": "17f4473c",
   "metadata": {},
   "outputs": [
    {
     "data": {
      "text/plain": [
       "0     Python-30days\n",
       "1          R-40days\n",
       "2     Hadoop-35days\n",
       "3    Tableau-40days\n",
       "4    PowerBI-60days\n",
       "dtype: object"
      ]
     },
     "execution_count": 30,
     "metadata": {},
     "output_type": "execute_result"
    }
   ],
   "source": [
    "# Using DataFrame.apply() and lambda function\n",
    "#df[\"Period\"] = df[[\"Courses\", \"Duration\"]].apply(lambda x: \"-\".join(x), axis =1)\n",
    "df[[\"Courses\", \"Duration\"]].apply(lambda x: \"-\".join(x), axis =1)"
   ]
  },
  {
   "cell_type": "code",
   "execution_count": 31,
   "id": "cac9eab3",
   "metadata": {},
   "outputs": [
    {
     "data": {
      "text/plain": [
       "0     Python-30days\n",
       "1          R-40days\n",
       "2     Hadoop-35days\n",
       "3    Tableau-40days\n",
       "4    PowerBI-60days\n",
       "dtype: object"
      ]
     },
     "execution_count": 31,
     "metadata": {},
     "output_type": "execute_result"
    }
   ],
   "source": [
    "# Using map() function to combine two columns of text\n",
    "#df[\"Period\"] = df[\"Courses\"].map(str) + \"-\" + df[\"Duration\"]\n",
    "df[\"Courses\"].map(str) + \"-\" + df[\"Duration\"]"
   ]
  },
  {
   "cell_type": "markdown",
   "id": "4b9690fb",
   "metadata": {},
   "source": [
    "## Frequency of a Value"
   ]
  },
  {
   "cell_type": "code",
   "execution_count": 32,
   "id": "353c4392",
   "metadata": {},
   "outputs": [
    {
     "data": {
      "text/plain": [
       "Python     1\n",
       "R          1\n",
       "Hadoop     1\n",
       "Tableau    1\n",
       "PowerBI    1\n",
       "Name: Courses, dtype: int64"
      ]
     },
     "execution_count": 32,
     "metadata": {},
     "output_type": "execute_result"
    }
   ],
   "source": [
    "#Using pandas way, Series.value_counts()\n",
    "df['Courses'].value_counts()"
   ]
  },
  {
   "cell_type": "code",
   "execution_count": 33,
   "id": "b6c84e1c",
   "metadata": {},
   "outputs": [
    {
     "data": {
      "text/plain": [
       "<bound method IndexOpsMixin.value_counts of 0     Python\n",
       "1          R\n",
       "2     Hadoop\n",
       "3    Tableau\n",
       "4    PowerBI\n",
       "Name: Courses, dtype: object>"
      ]
     },
     "execution_count": 33,
     "metadata": {},
     "output_type": "execute_result"
    }
   ],
   "source": [
    "df.Courses.value_counts"
   ]
  },
  {
   "cell_type": "code",
   "execution_count": 34,
   "id": "c0b5c7e8",
   "metadata": {},
   "outputs": [
    {
     "data": {
      "text/html": [
       "<div>\n",
       "<style scoped>\n",
       "    .dataframe tbody tr th:only-of-type {\n",
       "        vertical-align: middle;\n",
       "    }\n",
       "\n",
       "    .dataframe tbody tr th {\n",
       "        vertical-align: top;\n",
       "    }\n",
       "\n",
       "    .dataframe thead th {\n",
       "        text-align: right;\n",
       "    }\n",
       "</style>\n",
       "<table border=\"1\" class=\"dataframe\">\n",
       "  <thead>\n",
       "    <tr style=\"text-align: right;\">\n",
       "      <th></th>\n",
       "      <th>Fee</th>\n",
       "      <th>Duration</th>\n",
       "      <th>Discount</th>\n",
       "    </tr>\n",
       "    <tr>\n",
       "      <th>Courses</th>\n",
       "      <th></th>\n",
       "      <th></th>\n",
       "      <th></th>\n",
       "    </tr>\n",
       "  </thead>\n",
       "  <tbody>\n",
       "    <tr>\n",
       "      <th>Hadoop</th>\n",
       "      <td>1</td>\n",
       "      <td>1</td>\n",
       "      <td>1</td>\n",
       "    </tr>\n",
       "    <tr>\n",
       "      <th>PowerBI</th>\n",
       "      <td>1</td>\n",
       "      <td>1</td>\n",
       "      <td>1</td>\n",
       "    </tr>\n",
       "    <tr>\n",
       "      <th>Python</th>\n",
       "      <td>1</td>\n",
       "      <td>1</td>\n",
       "      <td>1</td>\n",
       "    </tr>\n",
       "    <tr>\n",
       "      <th>R</th>\n",
       "      <td>1</td>\n",
       "      <td>1</td>\n",
       "      <td>1</td>\n",
       "    </tr>\n",
       "    <tr>\n",
       "      <th>Tableau</th>\n",
       "      <td>1</td>\n",
       "      <td>1</td>\n",
       "      <td>1</td>\n",
       "    </tr>\n",
       "  </tbody>\n",
       "</table>\n",
       "</div>"
      ],
      "text/plain": [
       "         Fee  Duration  Discount\n",
       "Courses                         \n",
       "Hadoop     1         1         1\n",
       "PowerBI    1         1         1\n",
       "Python     1         1         1\n",
       "R          1         1         1\n",
       "Tableau    1         1         1"
      ]
     },
     "execution_count": 34,
     "metadata": {},
     "output_type": "execute_result"
    }
   ],
   "source": [
    "# Using groupby() & count()\n",
    "df.groupby('Courses').count()"
   ]
  },
  {
   "cell_type": "code",
   "execution_count": 35,
   "id": "e1d57c30",
   "metadata": {},
   "outputs": [
    {
     "data": {
      "text/plain": [
       "0    1\n",
       "1    1\n",
       "2    1\n",
       "3    1\n",
       "4    1\n",
       "Name: Courses, dtype: int64"
      ]
     },
     "execution_count": 35,
     "metadata": {},
     "output_type": "execute_result"
    }
   ],
   "source": [
    "# Add frequecy count as new column to DataFrame\n",
    "#df['freq_count'] = df.groupby('Courses')['Courses'].transform('count')\n",
    "df.groupby('Courses')['Courses'].transform('count')"
   ]
  },
  {
   "cell_type": "code",
   "execution_count": 36,
   "id": "d7a08327",
   "metadata": {},
   "outputs": [
    {
     "data": {
      "text/html": [
       "<div>\n",
       "<style scoped>\n",
       "    .dataframe tbody tr th:only-of-type {\n",
       "        vertical-align: middle;\n",
       "    }\n",
       "\n",
       "    .dataframe tbody tr th {\n",
       "        vertical-align: top;\n",
       "    }\n",
       "\n",
       "    .dataframe thead th {\n",
       "        text-align: right;\n",
       "    }\n",
       "</style>\n",
       "<table border=\"1\" class=\"dataframe\">\n",
       "  <thead>\n",
       "    <tr style=\"text-align: right;\">\n",
       "      <th></th>\n",
       "      <th></th>\n",
       "      <th>Duration</th>\n",
       "      <th>Discount</th>\n",
       "    </tr>\n",
       "    <tr>\n",
       "      <th>Courses</th>\n",
       "      <th>Fee</th>\n",
       "      <th></th>\n",
       "      <th></th>\n",
       "    </tr>\n",
       "  </thead>\n",
       "  <tbody>\n",
       "    <tr>\n",
       "      <th>Hadoop</th>\n",
       "      <th>26000</th>\n",
       "      <td>1</td>\n",
       "      <td>1</td>\n",
       "    </tr>\n",
       "    <tr>\n",
       "      <th>PowerBI</th>\n",
       "      <th>24000</th>\n",
       "      <td>1</td>\n",
       "      <td>1</td>\n",
       "    </tr>\n",
       "    <tr>\n",
       "      <th>Python</th>\n",
       "      <th>20000</th>\n",
       "      <td>1</td>\n",
       "      <td>1</td>\n",
       "    </tr>\n",
       "    <tr>\n",
       "      <th>R</th>\n",
       "      <th>25000</th>\n",
       "      <td>1</td>\n",
       "      <td>1</td>\n",
       "    </tr>\n",
       "    <tr>\n",
       "      <th>Tableau</th>\n",
       "      <th>22000</th>\n",
       "      <td>1</td>\n",
       "      <td>1</td>\n",
       "    </tr>\n",
       "  </tbody>\n",
       "</table>\n",
       "</div>"
      ],
      "text/plain": [
       "               Duration  Discount\n",
       "Courses Fee                      \n",
       "Hadoop  26000         1         1\n",
       "PowerBI 24000         1         1\n",
       "Python  20000         1         1\n",
       "R       25000         1         1\n",
       "Tableau 22000         1         1"
      ]
     },
     "execution_count": 36,
     "metadata": {},
     "output_type": "execute_result"
    }
   ],
   "source": [
    "# Getting value counts of multiple columns\n",
    "df.groupby(['Courses', 'Fee']).count()"
   ]
  },
  {
   "cell_type": "code",
   "execution_count": 37,
   "id": "7279eb6d",
   "metadata": {},
   "outputs": [
    {
     "data": {
      "text/plain": [
       "0    1\n",
       "1    1\n",
       "2    1\n",
       "3    1\n",
       "4    1\n",
       "dtype: int64"
      ]
     },
     "execution_count": 37,
     "metadata": {},
     "output_type": "execute_result"
    }
   ],
   "source": [
    "# Get occurence of value by index (row label)\n",
    "df.index.value_counts()"
   ]
  },
  {
   "cell_type": "code",
   "execution_count": 38,
   "id": "3cc3a26c",
   "metadata": {},
   "outputs": [
    {
     "data": {
      "text/plain": [
       "Python     1\n",
       "R          1\n",
       "Hadoop     1\n",
       "Tableau    1\n",
       "PowerBI    1\n",
       "Name: Courses, dtype: int64"
      ]
     },
     "execution_count": 38,
     "metadata": {},
     "output_type": "execute_result"
    }
   ],
   "source": [
    "# Include NaN, None, Null values in the count.\n",
    "df['Courses'].value_counts(dropna=False)"
   ]
  },
  {
   "cell_type": "code",
   "execution_count": null,
   "id": "a2fcff7b",
   "metadata": {},
   "outputs": [],
   "source": []
  }
 ],
 "metadata": {
  "kernelspec": {
   "display_name": "Python 3 (ipykernel)",
   "language": "python",
   "name": "python3"
  },
  "language_info": {
   "codemirror_mode": {
    "name": "ipython",
    "version": 3
   },
   "file_extension": ".py",
   "mimetype": "text/x-python",
   "name": "python",
   "nbconvert_exporter": "python",
   "pygments_lexer": "ipython3",
   "version": "3.9.12"
  }
 },
 "nbformat": 4,
 "nbformat_minor": 5
}
