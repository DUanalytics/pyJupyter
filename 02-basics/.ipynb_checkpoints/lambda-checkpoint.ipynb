{
 "cells": [
  {
   "cell_type": "markdown",
   "id": "c4432ad5",
   "metadata": {},
   "source": [
    "# Lambda Functions\n",
    "is a small anonymous function \n",
    "can take any number of arguments but can onlyh have 1 expression"
   ]
  },
  {
   "cell_type": "markdown",
   "id": "97d7e391",
   "metadata": {},
   "source": [
    "# Syntax\n",
    "lambda arguments : expression"
   ]
  },
  {
   "cell_type": "code",
   "execution_count": 2,
   "id": "861c2325",
   "metadata": {},
   "outputs": [
    {
     "name": "stdout",
     "output_type": "stream",
     "text": [
      "15\n"
     ]
    }
   ],
   "source": [
    "#Eg1\n",
    "x = lambda a : a + 10\n",
    "print(x(5)) # put a=5 and process the function "
   ]
  },
  {
   "cell_type": "code",
   "execution_count": 3,
   "id": "76a1db71",
   "metadata": {},
   "outputs": [
    {
     "name": "stdout",
     "output_type": "stream",
     "text": [
      "50\n"
     ]
    }
   ],
   "source": [
    "#Eg2\n",
    "x2 = lambda a, b : a * b\n",
    "print(x2(10,5))   #10 * 5"
   ]
  },
  {
   "cell_type": "markdown",
   "id": "cbfe61e4",
   "metadata": {},
   "source": [
    "# Other ways of using Lambda"
   ]
  },
  {
   "cell_type": "code",
   "execution_count": 6,
   "id": "f5cd4bfa",
   "metadata": {},
   "outputs": [
    {
     "name": "stdout",
     "output_type": "stream",
     "text": [
      "<function myfunc1.<locals>.<lambda> at 0x000001F19C68C820>\n"
     ]
    }
   ],
   "source": [
    "#anonymous function inside another function\n",
    "def myfunc1(n):\n",
    "    return lambda a : a * n\n",
    "doubleReturn = myfunc1(2)   #pass n\n",
    "print(doubleReturn)"
   ]
  },
  {
   "cell_type": "code",
   "execution_count": 7,
   "id": "a288e94e",
   "metadata": {},
   "outputs": [
    {
     "name": "stdout",
     "output_type": "stream",
     "text": [
      "22\n"
     ]
    }
   ],
   "source": [
    "print(doubleReturn(11)) # pass a\n",
    "# 11 * 2 = 22"
   ]
  },
  {
   "cell_type": "code",
   "execution_count": null,
   "id": "3c4786bd",
   "metadata": {},
   "outputs": [],
   "source": []
  }
 ],
 "metadata": {
  "kernelspec": {
   "display_name": "Python 3 (ipykernel)",
   "language": "python",
   "name": "python3"
  },
  "language_info": {
   "codemirror_mode": {
    "name": "ipython",
    "version": 3
   },
   "file_extension": ".py",
   "mimetype": "text/x-python",
   "name": "python",
   "nbconvert_exporter": "python",
   "pygments_lexer": "ipython3",
   "version": "3.9.12"
  }
 },
 "nbformat": 4,
 "nbformat_minor": 5
}
