{
 "cells": [
  {
   "cell_type": "markdown",
   "id": "ad04cf20",
   "metadata": {},
   "source": [
    "# Category\n",
    "https://pandas.pydata.org/docs/user_guide/categorical.html"
   ]
  },
  {
   "cell_type": "code",
   "execution_count": 17,
   "id": "ed501fd5",
   "metadata": {},
   "outputs": [],
   "source": [
    "# Libraries\n",
    "import numpy as np\n",
    "import pandas as pd"
   ]
  },
  {
   "cell_type": "code",
   "execution_count": null,
   "id": "03287e82",
   "metadata": {},
   "outputs": [],
   "source": [
    "## Series"
   ]
  },
  {
   "cell_type": "code",
   "execution_count": 4,
   "id": "b099e232",
   "metadata": {},
   "outputs": [
    {
     "name": "stdout",
     "output_type": "stream",
     "text": [
      "0    a\n",
      "1    b\n",
      "2    c\n",
      "3    d\n",
      "dtype: object object\n",
      "count     4\n",
      "unique    4\n",
      "top       a\n",
      "freq      1\n",
      "dtype: object\n"
     ]
    }
   ],
   "source": [
    "s1 = pd.Series(['a','b','c','d'])\n",
    "print(s1, s1.dtype)\n",
    "print(s1.describe())"
   ]
  },
  {
   "cell_type": "code",
   "execution_count": 7,
   "id": "51573b14",
   "metadata": {},
   "outputs": [
    {
     "name": "stdout",
     "output_type": "stream",
     "text": [
      "0    a\n",
      "1    b\n",
      "2    c\n",
      "3    d\n",
      "dtype: category\n",
      "Categories (4, object): ['a', 'b', 'c', 'd'] category\n",
      "count     4\n",
      "unique    4\n",
      "top       a\n",
      "freq      1\n",
      "dtype: object\n"
     ]
    }
   ],
   "source": [
    "s2 = pd.Series(['a','b','c','d'], dtype='category')\n",
    "print(s2, s2.dtype)\n",
    "print(s2.describe())"
   ]
  },
  {
   "cell_type": "code",
   "execution_count": null,
   "id": "688447c7",
   "metadata": {},
   "outputs": [],
   "source": [
    "# DF"
   ]
  },
  {
   "cell_type": "code",
   "execution_count": 9,
   "id": "76090b6d",
   "metadata": {},
   "outputs": [
    {
     "name": "stdout",
     "output_type": "stream",
     "text": [
      "  course\n",
      "0    BBA\n",
      "1    MBA\n",
      "2    PHD\n",
      "3    BBA\n",
      "course    object\n",
      "dtype: object\n",
      "       course\n",
      "count       4\n",
      "unique      3\n",
      "top       BBA\n",
      "freq        2\n"
     ]
    }
   ],
   "source": [
    "df = pd.DataFrame({'course': ['BBA','MBA','PHD','BBA']})\n",
    "print(df)\n",
    "print(df.dtypes)\n",
    "print(df.describe())"
   ]
  },
  {
   "cell_type": "code",
   "execution_count": 13,
   "id": "a93be929",
   "metadata": {},
   "outputs": [
    {
     "name": "stdout",
     "output_type": "stream",
     "text": [
      "  course courseCat\n",
      "0    BBA       BBA\n",
      "1    MBA       MBA\n",
      "2    PHD       PHD\n",
      "3    BBA       BBA \n",
      " course         object\n",
      "courseCat    category\n",
      "dtype: object \n",
      "\n",
      "       course courseCat\n",
      "count       4         4\n",
      "unique      3         3\n",
      "top       BBA       BBA\n",
      "freq        2         2\n"
     ]
    }
   ],
   "source": [
    "df['courseCat'] = df['course'].astype('category')\n",
    "print(df, '\\n', df.dtypes, '\\n')\n",
    "print(df.describe())"
   ]
  },
  {
   "cell_type": "markdown",
   "id": "134287b8",
   "metadata": {},
   "source": [
    "### other tasks\n",
    "Order, Reorder\n"
   ]
  },
  {
   "cell_type": "markdown",
   "id": "bc05fecf",
   "metadata": {},
   "source": [
    "## Dummies\n",
    "Dummy variable is a variable created to assign numerical value to level of categorical variables"
   ]
  },
  {
   "cell_type": "code",
   "execution_count": 18,
   "id": "b2f51003",
   "metadata": {},
   "outputs": [
    {
     "name": "stdout",
     "output_type": "stream",
     "text": [
      "0    a\n",
      "1    b\n",
      "2    c\n",
      "3    b\n",
      "4    a\n",
      "dtype: object\n"
     ]
    }
   ],
   "source": [
    "con = pd.Series(list('abcba'))\n",
    "print(con)"
   ]
  },
  {
   "cell_type": "code",
   "execution_count": 19,
   "id": "b4fd33b0",
   "metadata": {},
   "outputs": [
    {
     "name": "stdout",
     "output_type": "stream",
     "text": [
      "   a  b  c\n",
      "0  1  0  0\n",
      "1  0  1  0\n",
      "2  0  0  1\n",
      "3  0  1  0\n",
      "4  1  0  0\n"
     ]
    }
   ],
   "source": [
    "print(pd.get_dummies(con))"
   ]
  },
  {
   "cell_type": "code",
   "execution_count": 20,
   "id": "5f045e5e",
   "metadata": {},
   "outputs": [
    {
     "name": "stdout",
     "output_type": "stream",
     "text": [
      "   a  s  t  NaN\n",
      "0  0  1  0    0\n",
      "1  1  0  0    0\n",
      "2  0  0  1    0\n",
      "3  0  0  0    1\n"
     ]
    }
   ],
   "source": [
    "## from list\n",
    "li = ['s','a','t', np.nan]\n",
    "print(pd.get_dummies(li, dummy_na=True))"
   ]
  },
  {
   "cell_type": "code",
   "execution_count": 21,
   "id": "24ad3b6f",
   "metadata": {},
   "outputs": [
    {
     "data": {
      "text/html": [
       "<div>\n",
       "<style scoped>\n",
       "    .dataframe tbody tr th:only-of-type {\n",
       "        vertical-align: middle;\n",
       "    }\n",
       "\n",
       "    .dataframe tbody tr th {\n",
       "        vertical-align: top;\n",
       "    }\n",
       "\n",
       "    .dataframe thead th {\n",
       "        text-align: right;\n",
       "    }\n",
       "</style>\n",
       "<table border=\"1\" class=\"dataframe\">\n",
       "  <thead>\n",
       "    <tr style=\"text-align: right;\">\n",
       "      <th></th>\n",
       "      <th>level</th>\n",
       "      <th>course</th>\n",
       "      <th>count</th>\n",
       "    </tr>\n",
       "  </thead>\n",
       "  <tbody>\n",
       "    <tr>\n",
       "      <th>0</th>\n",
       "      <td>UG</td>\n",
       "      <td>BBA</td>\n",
       "      <td>10</td>\n",
       "    </tr>\n",
       "    <tr>\n",
       "      <th>1</th>\n",
       "      <td>UG</td>\n",
       "      <td>BSc</td>\n",
       "      <td>20</td>\n",
       "    </tr>\n",
       "    <tr>\n",
       "      <th>2</th>\n",
       "      <td>PG</td>\n",
       "      <td>MBA</td>\n",
       "      <td>30</td>\n",
       "    </tr>\n",
       "    <tr>\n",
       "      <th>3</th>\n",
       "      <td>PG</td>\n",
       "      <td>MCA</td>\n",
       "      <td>40</td>\n",
       "    </tr>\n",
       "    <tr>\n",
       "      <th>4</th>\n",
       "      <td>PHD</td>\n",
       "      <td>PHDIT</td>\n",
       "      <td>50</td>\n",
       "    </tr>\n",
       "  </tbody>\n",
       "</table>\n",
       "</div>"
      ],
      "text/plain": [
       "  level course  count\n",
       "0    UG    BBA     10\n",
       "1    UG    BSc     20\n",
       "2    PG    MBA     30\n",
       "3    PG    MCA     40\n",
       "4   PHD  PHDIT     50"
      ]
     },
     "execution_count": 21,
     "metadata": {},
     "output_type": "execute_result"
    }
   ],
   "source": [
    "## DF\n",
    "students = pd.DataFrame({'level':['UG','UG','PG','PG','PHD'], \n",
    "                         'course': ['BBA','BSc', 'MBA','MCA', 'PHDIT'], \n",
    "                         'count': [10, 20, 30, 40, 50]})\n",
    "students"
   ]
  },
  {
   "cell_type": "code",
   "execution_count": 22,
   "id": "8760420e",
   "metadata": {},
   "outputs": [
    {
     "data": {
      "text/html": [
       "<div>\n",
       "<style scoped>\n",
       "    .dataframe tbody tr th:only-of-type {\n",
       "        vertical-align: middle;\n",
       "    }\n",
       "\n",
       "    .dataframe tbody tr th {\n",
       "        vertical-align: top;\n",
       "    }\n",
       "\n",
       "    .dataframe thead th {\n",
       "        text-align: right;\n",
       "    }\n",
       "</style>\n",
       "<table border=\"1\" class=\"dataframe\">\n",
       "  <thead>\n",
       "    <tr style=\"text-align: right;\">\n",
       "      <th></th>\n",
       "      <th>count</th>\n",
       "      <th>C1_PG</th>\n",
       "      <th>C1_PHD</th>\n",
       "      <th>C1_UG</th>\n",
       "      <th>C2_BBA</th>\n",
       "      <th>C2_BSc</th>\n",
       "      <th>C2_MBA</th>\n",
       "      <th>C2_MCA</th>\n",
       "      <th>C2_PHDIT</th>\n",
       "    </tr>\n",
       "  </thead>\n",
       "  <tbody>\n",
       "    <tr>\n",
       "      <th>0</th>\n",
       "      <td>10</td>\n",
       "      <td>0</td>\n",
       "      <td>0</td>\n",
       "      <td>1</td>\n",
       "      <td>1</td>\n",
       "      <td>0</td>\n",
       "      <td>0</td>\n",
       "      <td>0</td>\n",
       "      <td>0</td>\n",
       "    </tr>\n",
       "    <tr>\n",
       "      <th>1</th>\n",
       "      <td>20</td>\n",
       "      <td>0</td>\n",
       "      <td>0</td>\n",
       "      <td>1</td>\n",
       "      <td>0</td>\n",
       "      <td>1</td>\n",
       "      <td>0</td>\n",
       "      <td>0</td>\n",
       "      <td>0</td>\n",
       "    </tr>\n",
       "    <tr>\n",
       "      <th>2</th>\n",
       "      <td>30</td>\n",
       "      <td>1</td>\n",
       "      <td>0</td>\n",
       "      <td>0</td>\n",
       "      <td>0</td>\n",
       "      <td>0</td>\n",
       "      <td>1</td>\n",
       "      <td>0</td>\n",
       "      <td>0</td>\n",
       "    </tr>\n",
       "    <tr>\n",
       "      <th>3</th>\n",
       "      <td>40</td>\n",
       "      <td>1</td>\n",
       "      <td>0</td>\n",
       "      <td>0</td>\n",
       "      <td>0</td>\n",
       "      <td>0</td>\n",
       "      <td>0</td>\n",
       "      <td>1</td>\n",
       "      <td>0</td>\n",
       "    </tr>\n",
       "    <tr>\n",
       "      <th>4</th>\n",
       "      <td>50</td>\n",
       "      <td>0</td>\n",
       "      <td>1</td>\n",
       "      <td>0</td>\n",
       "      <td>0</td>\n",
       "      <td>0</td>\n",
       "      <td>0</td>\n",
       "      <td>0</td>\n",
       "      <td>1</td>\n",
       "    </tr>\n",
       "  </tbody>\n",
       "</table>\n",
       "</div>"
      ],
      "text/plain": [
       "   count  C1_PG  C1_PHD  C1_UG  C2_BBA  C2_BSc  C2_MBA  C2_MCA  C2_PHDIT\n",
       "0     10      0       0      1       1       0       0       0         0\n",
       "1     20      0       0      1       0       1       0       0         0\n",
       "2     30      1       0      0       0       0       1       0         0\n",
       "3     40      1       0      0       0       0       0       1         0\n",
       "4     50      0       1      0       0       0       0       0         1"
      ]
     },
     "execution_count": 22,
     "metadata": {},
     "output_type": "execute_result"
    }
   ],
   "source": [
    "pd.get_dummies(students, prefix=['C1', 'C2'])\n",
    "# 10 student in BBA which is UG"
   ]
  },
  {
   "cell_type": "code",
   "execution_count": null,
   "id": "89cf27f8",
   "metadata": {},
   "outputs": [],
   "source": []
  }
 ],
 "metadata": {
  "kernelspec": {
   "display_name": "Python 3 (ipykernel)",
   "language": "python",
   "name": "python3"
  },
  "language_info": {
   "codemirror_mode": {
    "name": "ipython",
    "version": 3
   },
   "file_extension": ".py",
   "mimetype": "text/x-python",
   "name": "python",
   "nbconvert_exporter": "python",
   "pygments_lexer": "ipython3",
   "version": "3.9.12"
  }
 },
 "nbformat": 4,
 "nbformat_minor": 5
}
