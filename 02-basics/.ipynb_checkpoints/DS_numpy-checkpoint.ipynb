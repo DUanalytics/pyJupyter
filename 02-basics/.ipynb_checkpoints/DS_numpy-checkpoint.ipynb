{
 "cells": [
  {
   "cell_type": "markdown",
   "id": "e3acb3e9",
   "metadata": {},
   "source": [
    "# Numpy\n",
    "NumPy is a Python library used for working with arrays. It also has functions for working in domain of linear algebra, fourier transform, and matrices.\n",
    "NumPy’s main object is the homogeneous multidimensional array. It is a table of elements (usually numbers), all of the same type, indexed by a tuple of non-negative integers. In NumPy dimensions are called axes.\n",
    "For example, the array for the coordinates of a point in 3D space, [1, 2, 1], has one axis. That axis has 3 elements in it, so we say it has a length of 3. \n",
    "https://numpy.org/doc/stable/user/whatisnumpy.html\n",
    "NumPy gives us the best of both worlds: element-by-element operations are the “default mode” when an ndarray is involved, but the element-by-element operation is speedily executed by pre-compiled C code\n",
    "Why is NumPy Fast?\n",
    "https://numpy.org/doc/stable/user/quickstart.html\n",
    "Understand the difference between one-, two- and n-dimensional arrays in NumPy;\n",
    "Understand how to apply some linear algebra operations to n-dimensional arrays without using for-loops;\n",
    "Understand axis and shape properties for n-dimensional arrays. "
   ]
  },
  {
   "cell_type": "code",
   "execution_count": 1,
   "id": "ceca2c1d",
   "metadata": {},
   "outputs": [],
   "source": [
    "# Library\n",
    "import numpy as np\n",
    "import random as rg"
   ]
  },
  {
   "cell_type": "code",
   "execution_count": 2,
   "id": "cd70eaab",
   "metadata": {},
   "outputs": [
    {
     "name": "stdout",
     "output_type": "stream",
     "text": [
      "[2 3 4] \t <class 'numpy.ndarray'> \t int32 (3,)\n"
     ]
    }
   ],
   "source": [
    "# Create array - 1D\n",
    "a = np.array([2, 3, 4])\n",
    "print(a, '\\t', type(a), '\\t', a.dtype, a.shape)"
   ]
  },
  {
   "cell_type": "code",
   "execution_count": 3,
   "id": "a889ea95",
   "metadata": {},
   "outputs": [
    {
     "name": "stdout",
     "output_type": "stream",
     "text": [
      "[[1.5 2.  3. ]\n",
      " [4.  5.  6. ]] \t <class 'numpy.ndarray'> \t float64 (2, 3)\n"
     ]
    }
   ],
   "source": [
    "# 2D array\n",
    "b = np.array([(1.5, 2, 3), (4, 5, 6)])\n",
    "print(b, '\\t', type(b), '\\t', b.dtype, b.shape)"
   ]
  },
  {
   "cell_type": "code",
   "execution_count": 4,
   "id": "3549ff4f",
   "metadata": {},
   "outputs": [
    {
     "name": "stdout",
     "output_type": "stream",
     "text": [
      "[[1.+0.j 2.+0.j]\n",
      " [3.+0.j 4.+0.j]] \t <class 'numpy.ndarray'> \t complex128 (2, 2)\n"
     ]
    }
   ],
   "source": [
    "# 2D array complex type\n",
    "c = np.array([[1, 2], [3, 4]], dtype=complex)\n",
    "print(c, '\\t', type(c), '\\t', c.dtype, c.shape)"
   ]
  },
  {
   "cell_type": "code",
   "execution_count": 5,
   "id": "e5de22b3",
   "metadata": {},
   "outputs": [
    {
     "data": {
      "text/plain": [
       "array([[0., 0., 0., 0.],\n",
       "       [0., 0., 0., 0.],\n",
       "       [0., 0., 0., 0.]])"
      ]
     },
     "execution_count": 5,
     "metadata": {},
     "output_type": "execute_result"
    }
   ],
   "source": [
    "# zero values array\n",
    "#Often, the elements of an array are originally unknown, but its size is known. \n",
    "#Hence, NumPy offers several functions to create arrays with initial placeholder content. \n",
    "#These minimize the necessity of growing arrays, an expensive operation.\n",
    "# The function zeros creates an array full of zeros, the function ones creates an array full of ones, \n",
    "#and the function empty creates an array whose initial content is random and depends on the state of the memory. \n",
    "#By default, the dtype of the created array is float64, but it can be specified via the key word argument dtype.\n",
    "np.zeros((3, 4))"
   ]
  },
  {
   "cell_type": "code",
   "execution_count": 6,
   "id": "343b0aa2",
   "metadata": {},
   "outputs": [
    {
     "data": {
      "text/plain": [
       "array([[[1, 1, 1, 1],\n",
       "        [1, 1, 1, 1],\n",
       "        [1, 1, 1, 1]],\n",
       "\n",
       "       [[1, 1, 1, 1],\n",
       "        [1, 1, 1, 1],\n",
       "        [1, 1, 1, 1]]], dtype=int16)"
      ]
     },
     "execution_count": 6,
     "metadata": {},
     "output_type": "execute_result"
    }
   ],
   "source": [
    "np.ones((2, 3, 4), dtype=np.int16)"
   ]
  },
  {
   "cell_type": "code",
   "execution_count": 7,
   "id": "3e48d652",
   "metadata": {},
   "outputs": [
    {
     "data": {
      "text/plain": [
       "array([[1.5, 2. , 3. ],\n",
       "       [4. , 5. , 6. ]])"
      ]
     },
     "execution_count": 7,
     "metadata": {},
     "output_type": "execute_result"
    }
   ],
   "source": [
    "np.empty((2, 3))  # any default values"
   ]
  },
  {
   "cell_type": "code",
   "execution_count": 8,
   "id": "21da5764",
   "metadata": {},
   "outputs": [
    {
     "data": {
      "text/plain": [
       "array([10, 15, 20, 25])"
      ]
     },
     "execution_count": 8,
     "metadata": {},
     "output_type": "execute_result"
    }
   ],
   "source": [
    "## Sequence of values\n",
    "# the arange function which is analogous to the Python built-in range, but returns an array.\n",
    "np.arange(10, 30, 5)"
   ]
  },
  {
   "cell_type": "code",
   "execution_count": 9,
   "id": "06bf4dc8",
   "metadata": {},
   "outputs": [
    {
     "data": {
      "text/plain": [
       "array([0. , 0.3, 0.6, 0.9, 1.2, 1.5, 1.8])"
      ]
     },
     "execution_count": 9,
     "metadata": {},
     "output_type": "execute_result"
    }
   ],
   "source": [
    "np.arange(0, 2, 0.3)\n",
    "#When arange is used with floating point arguments, \n",
    "#it is generally not possible to predict the number of elements obtained, \n",
    "#due to the finite floating point precision. For this reason, it is usually better to use the\n",
    "#function linspace that receives as an argument the number of elements that we want,\n",
    "#instead of the step:"
   ]
  },
  {
   "cell_type": "code",
   "execution_count": 10,
   "id": "a774b433",
   "metadata": {},
   "outputs": [
    {
     "data": {
      "text/plain": [
       "array([0.  , 0.25, 0.5 , 0.75, 1.  , 1.25, 1.5 , 1.75, 2.  ])"
      ]
     },
     "execution_count": 10,
     "metadata": {},
     "output_type": "execute_result"
    }
   ],
   "source": [
    "np.linspace(0, 2, 9) "
   ]
  },
  {
   "cell_type": "markdown",
   "id": "48e21a3c",
   "metadata": {},
   "source": [
    "## Display\n",
    "np.set_printoptions(threshold=sys.maxsize)  # sys module should be imported"
   ]
  },
  {
   "cell_type": "markdown",
   "id": "6064fd3a",
   "metadata": {},
   "source": [
    "## Random Values"
   ]
  },
  {
   "cell_type": "code",
   "execution_count": 11,
   "id": "16d574fc",
   "metadata": {},
   "outputs": [
    {
     "name": "stdout",
     "output_type": "stream",
     "text": [
      "Generator(PCG64)\n",
      "Generator(PCG64) \n",
      " [[1 1 1]\n",
      " [1 1 1]] \n",
      " [[0.51182162 0.9504637  0.14415961]\n",
      " [0.94864945 0.31183145 0.42332645]]\n"
     ]
    }
   ],
   "source": [
    "rg = np.random.default_rng(1)\n",
    "print(rg)  #random number generator\n",
    "a = np.ones((2, 3), dtype=int)\n",
    "b = rg.random((2, 3))  #same values becoz of rg\n",
    "print(rg, '\\n', a, '\\n',b)"
   ]
  },
  {
   "cell_type": "code",
   "execution_count": 12,
   "id": "ec7f665c",
   "metadata": {},
   "outputs": [
    {
     "name": "stdout",
     "output_type": "stream",
     "text": [
      "[[0.82770259 0.40919914 0.54959369]\n",
      " [0.02755911 0.75351311 0.53814331]]\n"
     ]
    }
   ],
   "source": [
    "a = rg.random((2, 3))\n",
    "print(a)"
   ]
  },
  {
   "cell_type": "markdown",
   "id": "2594701b",
   "metadata": {},
   "source": [
    "## Indexing, Slicing and Iterating\n",
    "One-dimensional arrays can be indexed, sliced and iterated over, much like lists and other Python sequences.\n",
    "x[1, 2, ...] is equivalent to x[1, 2, :, :, :], #mutli dim\n",
    "x[..., 3] to x[:, :, :, :, 3] and\n",
    "x[4, ..., 5, :] to x[4, :, :, 5, :]."
   ]
  },
  {
   "cell_type": "code",
   "execution_count": 13,
   "id": "a8904032",
   "metadata": {},
   "outputs": [
    {
     "name": "stdout",
     "output_type": "stream",
     "text": [
      "[  0   1   8  27  64 125 216 343 512 729] \n",
      "\n",
      "8 \t [ 8 27 64]\n"
     ]
    }
   ],
   "source": [
    "a = np.arange(10)**3\n",
    "print(a, '\\n')\n",
    "# Indexing\n",
    "print(a[2], '\\t', a[2:5])"
   ]
  },
  {
   "cell_type": "code",
   "execution_count": 14,
   "id": "92d4bc9b",
   "metadata": {},
   "outputs": [
    {
     "name": "stdout",
     "output_type": "stream",
     "text": [
      "[1000    1 1000   27 1000  125  216  343  512  729]\n"
     ]
    }
   ],
   "source": [
    "# equivalent to a[0:6:2] = 1000;\n",
    "# from start to position 6, exclusive, set every 2nd element to 1000\n",
    "a[:6:2] = 1000\n",
    "print(a)"
   ]
  },
  {
   "cell_type": "code",
   "execution_count": 18,
   "id": "c47ad77d",
   "metadata": {},
   "outputs": [
    {
     "data": {
      "text/plain": [
       "array([ 729,  512,  343,  216,  125, 1000,   27, 1000,    1, 1000],\n",
       "      dtype=int32)"
      ]
     },
     "execution_count": 18,
     "metadata": {},
     "output_type": "execute_result"
    }
   ],
   "source": [
    "a[::-1]  # reversed a"
   ]
  },
  {
   "cell_type": "markdown",
   "id": "77f3e9d0",
   "metadata": {},
   "source": [
    "## Universal Functions\n",
    "NumPy provides familiar mathematical functions such as sin, cos, and exp. In NumPy, these are called “universal functions” (ufunc). Within NumPy, these functions operate elementwise on an array, producing an array as output."
   ]
  },
  {
   "cell_type": "code",
   "execution_count": 12,
   "id": "271b416b",
   "metadata": {},
   "outputs": [
    {
     "name": "stdout",
     "output_type": "stream",
     "text": [
      "[1.         2.71828183 7.3890561 ] \n",
      " [0.         1.         1.41421356]\n"
     ]
    }
   ],
   "source": [
    "B = np.arange(3)\n",
    "print(np.exp(B), '\\n', np.sqrt(B))"
   ]
  },
  {
   "cell_type": "code",
   "execution_count": null,
   "id": "e2740734",
   "metadata": {},
   "outputs": [],
   "source": []
  },
  {
   "cell_type": "code",
   "execution_count": null,
   "id": "b4b50094",
   "metadata": {},
   "outputs": [],
   "source": [
    "## Reshape\n",
    "Change Dimension of Numpy Array"
   ]
  },
  {
   "cell_type": "code",
   "execution_count": 4,
   "id": "720880c4",
   "metadata": {},
   "outputs": [
    {
     "data": {
      "text/plain": [
       "array([[ 0,  1,  2,  3],\n",
       "       [ 4,  5,  6,  7],\n",
       "       [ 8,  9, 10, 11]])"
      ]
     },
     "execution_count": 4,
     "metadata": {},
     "output_type": "execute_result"
    }
   ],
   "source": [
    "np.arange(12).reshape(3, 4)"
   ]
  },
  {
   "cell_type": "markdown",
   "id": "31645e8b",
   "metadata": {},
   "source": [
    "## Summary"
   ]
  },
  {
   "cell_type": "code",
   "execution_count": 6,
   "id": "dc494742",
   "metadata": {},
   "outputs": [
    {
     "name": "stdout",
     "output_type": "stream",
     "text": [
      "[[ 0  1  2  3]\n",
      " [ 4  5  6  7]\n",
      " [ 8  9 10 11]]\n"
     ]
    }
   ],
   "source": [
    "b = np.arange(12).reshape(3, 4)\n",
    "print(b)"
   ]
  },
  {
   "cell_type": "code",
   "execution_count": 7,
   "id": "bc08451e",
   "metadata": {},
   "outputs": [
    {
     "data": {
      "text/plain": [
       "array([12, 15, 18, 21])"
      ]
     },
     "execution_count": 7,
     "metadata": {},
     "output_type": "execute_result"
    }
   ],
   "source": [
    "b.sum(axis=0)"
   ]
  },
  {
   "cell_type": "code",
   "execution_count": 8,
   "id": "bc54b28f",
   "metadata": {},
   "outputs": [
    {
     "data": {
      "text/plain": [
       "array([ 6, 22, 38])"
      ]
     },
     "execution_count": 8,
     "metadata": {},
     "output_type": "execute_result"
    }
   ],
   "source": [
    "b.sum(axis=1)"
   ]
  },
  {
   "cell_type": "code",
   "execution_count": 11,
   "id": "d835ae6f",
   "metadata": {},
   "outputs": [
    {
     "name": "stdout",
     "output_type": "stream",
     "text": [
      "[0 1 2 3] \t [0 4 8]\n",
      "[ 8  9 10 11] \t [ 3  7 11]\n"
     ]
    }
   ],
   "source": [
    "print(b.min(axis=0), '\\t', b.min(axis=1))\n",
    "print(b.max(axis=0), '\\t', b.max(axis=1))      "
   ]
  },
  {
   "cell_type": "markdown",
   "id": "8e1340f9",
   "metadata": {},
   "source": [
    "## Line Space\n",
    "Divide range of values by certain number of divisions"
   ]
  },
  {
   "cell_type": "code",
   "execution_count": 3,
   "id": "a3fa2549",
   "metadata": {},
   "outputs": [
    {
     "data": {
      "text/plain": [
       "array([ 0.,  5., 10.])"
      ]
     },
     "execution_count": 3,
     "metadata": {},
     "output_type": "execute_result"
    }
   ],
   "source": [
    "np.linspace(0, 10, 3)"
   ]
  },
  {
   "cell_type": "markdown",
   "id": "7a3c3c13",
   "metadata": {},
   "source": [
    "## Reshape"
   ]
  },
  {
   "cell_type": "code",
   "execution_count": 36,
   "id": "e7bcc516",
   "metadata": {},
   "outputs": [
    {
     "name": "stdout",
     "output_type": "stream",
     "text": [
      "[[3. 7. 3. 4.]\n",
      " [1. 4. 2. 2.]\n",
      " [7. 2. 4. 9.]]\n"
     ]
    }
   ],
   "source": [
    "a = np.floor(10 * rg.random((3, 4)))\n",
    "print(a)"
   ]
  },
  {
   "cell_type": "code",
   "execution_count": 37,
   "id": "0e01fbb2",
   "metadata": {},
   "outputs": [
    {
     "data": {
      "text/plain": [
       "array([3., 7., 3., 4., 1., 4., 2., 2., 7., 2., 4., 9.])"
      ]
     },
     "execution_count": 37,
     "metadata": {},
     "output_type": "execute_result"
    }
   ],
   "source": [
    "a.ravel()  # returns the array, flattened"
   ]
  },
  {
   "cell_type": "code",
   "execution_count": 38,
   "id": "1832a39a",
   "metadata": {},
   "outputs": [
    {
     "data": {
      "text/plain": [
       "array([[3., 7.],\n",
       "       [3., 4.],\n",
       "       [1., 4.],\n",
       "       [2., 2.],\n",
       "       [7., 2.],\n",
       "       [4., 9.]])"
      ]
     },
     "execution_count": 38,
     "metadata": {},
     "output_type": "execute_result"
    }
   ],
   "source": [
    "a.reshape(6, 2)"
   ]
  },
  {
   "cell_type": "code",
   "execution_count": 39,
   "id": "2f3abcfe",
   "metadata": {},
   "outputs": [
    {
     "data": {
      "text/plain": [
       "array([[3., 1., 7.],\n",
       "       [7., 4., 2.],\n",
       "       [3., 2., 4.],\n",
       "       [4., 2., 9.]])"
      ]
     },
     "execution_count": 39,
     "metadata": {},
     "output_type": "execute_result"
    }
   ],
   "source": [
    "a.T"
   ]
  },
  {
   "cell_type": "code",
   "execution_count": 41,
   "id": "92c60b43",
   "metadata": {},
   "outputs": [
    {
     "name": "stdout",
     "output_type": "stream",
     "text": [
      "(3, 4) \t (12,) \t (4, 3)\n"
     ]
    }
   ],
   "source": [
    "print(a.shape, '\\t', a.ravel().shape, '\\t', a.T.shape)"
   ]
  },
  {
   "cell_type": "code",
   "execution_count": 45,
   "id": "86b0282f",
   "metadata": {},
   "outputs": [
    {
     "name": "stdout",
     "output_type": "stream",
     "text": [
      "[[3. 7. 3. 4. 1. 4.]\n",
      " [2. 2. 7. 2. 4. 9.]]\n"
     ]
    }
   ],
   "source": [
    "a.resize((2, 6))\n",
    "print(a)"
   ]
  },
  {
   "cell_type": "code",
   "execution_count": 46,
   "id": "fcb57c7d",
   "metadata": {},
   "outputs": [
    {
     "data": {
      "text/plain": [
       "array([[3., 7., 3., 4.],\n",
       "       [1., 4., 2., 2.],\n",
       "       [7., 2., 4., 9.]])"
      ]
     },
     "execution_count": 46,
     "metadata": {},
     "output_type": "execute_result"
    }
   ],
   "source": [
    "# with -1 value in shape\n",
    "#If a dimension is given as -1 in a reshaping operation, the other dimensions are automatically calculated:\n",
    "a.reshape(3, -1)  # fix rows, columns automatically calculated"
   ]
  },
  {
   "cell_type": "code",
   "execution_count": 47,
   "id": "30226e0d",
   "metadata": {},
   "outputs": [
    {
     "data": {
      "text/plain": [
       "array([[3., 7.],\n",
       "       [3., 4.],\n",
       "       [1., 4.],\n",
       "       [2., 2.],\n",
       "       [7., 2.],\n",
       "       [4., 9.]])"
      ]
     },
     "execution_count": 47,
     "metadata": {},
     "output_type": "execute_result"
    }
   ],
   "source": [
    "a.reshape(-1, 2)  # fix cols, rows automatically calculated"
   ]
  },
  {
   "cell_type": "markdown",
   "id": "9afbc7cf",
   "metadata": {},
   "source": [
    "## Stack\n",
    "hstack, vstack"
   ]
  },
  {
   "cell_type": "code",
   "execution_count": 48,
   "id": "05287d7b",
   "metadata": {},
   "outputs": [
    {
     "name": "stdout",
     "output_type": "stream",
     "text": [
      "[[9. 7.]\n",
      " [5. 2.]] \t [[1. 9.]\n",
      " [5. 1.]]\n"
     ]
    }
   ],
   "source": [
    "a = np.floor(10 * rg.random((2, 2)))\n",
    "b = np.floor(10 * rg.random((2, 2)))\n",
    "print(a, '\\t', b)"
   ]
  },
  {
   "cell_type": "code",
   "execution_count": 49,
   "id": "7ec74671",
   "metadata": {},
   "outputs": [
    {
     "data": {
      "text/plain": [
       "array([[9., 7.],\n",
       "       [5., 2.],\n",
       "       [1., 9.],\n",
       "       [5., 1.]])"
      ]
     },
     "execution_count": 49,
     "metadata": {},
     "output_type": "execute_result"
    }
   ],
   "source": [
    "np.vstack((a, b))"
   ]
  },
  {
   "cell_type": "code",
   "execution_count": 50,
   "id": "640ffc1d",
   "metadata": {},
   "outputs": [
    {
     "data": {
      "text/plain": [
       "array([[9., 7., 1., 9.],\n",
       "       [5., 2., 5., 1.]])"
      ]
     },
     "execution_count": 50,
     "metadata": {},
     "output_type": "execute_result"
    }
   ],
   "source": [
    "np.hstack((a, b))"
   ]
  },
  {
   "cell_type": "code",
   "execution_count": 51,
   "id": "074c012a",
   "metadata": {},
   "outputs": [
    {
     "data": {
      "text/plain": [
       "array([[9., 7., 1., 9.],\n",
       "       [5., 2., 5., 1.]])"
      ]
     },
     "execution_count": 51,
     "metadata": {},
     "output_type": "execute_result"
    }
   ],
   "source": [
    "# The function column_stack stacks 1D arrays as columns into a 2D array. \n",
    "#It is equivalent to hstack only for 2D arrays:\n",
    "np.column_stack((a, b))"
   ]
  },
  {
   "cell_type": "code",
   "execution_count": 54,
   "id": "b75320c8",
   "metadata": {},
   "outputs": [
    {
     "data": {
      "text/plain": [
       "array([[[9., 7.]],\n",
       "\n",
       "       [[5., 2.]]])"
      ]
     },
     "execution_count": 54,
     "metadata": {},
     "output_type": "execute_result"
    }
   ],
   "source": [
    "# newexis\n",
    "a[:, np.newaxis]  # view `a` as a 2D column vector"
   ]
  },
  {
   "cell_type": "code",
   "execution_count": 55,
   "id": "dcd79c7c",
   "metadata": {},
   "outputs": [
    {
     "data": {
      "text/plain": [
       "array([[[9., 7.],\n",
       "        [1., 9.]],\n",
       "\n",
       "       [[5., 2.],\n",
       "        [5., 1.]]])"
      ]
     },
     "execution_count": 55,
     "metadata": {},
     "output_type": "execute_result"
    }
   ],
   "source": [
    "np.column_stack((a[:, np.newaxis], b[:, np.newaxis]))"
   ]
  },
  {
   "cell_type": "code",
   "execution_count": null,
   "id": "5e915eda",
   "metadata": {},
   "outputs": [],
   "source": [
    "#function row_stack is equivalent to vstack for any input arrays. In fact, row_stack is an alias for vstack:"
   ]
  },
  {
   "cell_type": "code",
   "execution_count": 57,
   "id": "9f7fee9e",
   "metadata": {},
   "outputs": [
    {
     "data": {
      "text/plain": [
       "array([1, 2, 3, 0, 4])"
      ]
     },
     "execution_count": 57,
     "metadata": {},
     "output_type": "execute_result"
    }
   ],
   "source": [
    "#n complex cases, r_ and c_ are useful for creating arrays by stacking numbers along one axis. \n",
    "#They allow the use of range literals\n",
    "np.r_[1:4, 0, 4]"
   ]
  },
  {
   "cell_type": "markdown",
   "id": "975f6ae3",
   "metadata": {},
   "source": [
    "## Numpy and Matlab\n",
    "https://numpy.org/doc/stable/user/numpy-for-matlab-users.html\n",
    "rough equivalents for some common MATLAB expressions"
   ]
  },
  {
   "cell_type": "code",
   "execution_count": null,
   "id": "c7fd812d",
   "metadata": {},
   "outputs": [],
   "source": [
    "import numpy as np\n",
    "from scipy import io, integrate, linalg, signal\n",
    "from scipy.sparse.linalg import eigs"
   ]
  },
  {
   "cell_type": "markdown",
   "id": "02eb3ce8",
   "metadata": {},
   "source": [
    "### Useful np functions\n",
    "\n",
    "Array Creation - arange, array, copy, empty, empty_like, eye, fromfile, fromfunction, identity, linspace, logspace, mgrid, ogrid, ones, ones_like, r_, zeros, zeros_like\n",
    "\n",
    "Conversions -ndarray.astype, atleast_1d, atleast_2d, atleast_3d, mat\n",
    "\n",
    "Manipulations - array_split, column_stack, concatenate, diagonal, dsplit, dstack, hsplit, hstack, ndarray.item, newaxis, ravel, repeat, reshape, resize, squeeze, swapaxes, take, transpose, vsplit, vstack\n",
    "\n",
    "Questions - all, any, nonzero, where\n",
    "\n",
    "Ordering - argmax, argmin, argsort, max, min, ptp, searchsorted, sort\n",
    "\n",
    "Operations - choose, compress, cumprod, cumsum, inner, ndarray.fill, imag, prod, put, putmask, real, sum\n",
    "\n",
    "Basic Statistics - cov, mean, std, var\n",
    "\n",
    "Basic Linear Algebra - cross, dot, outer, linalg.svd, vdot"
   ]
  }
 ],
 "metadata": {
  "kernelspec": {
   "display_name": "Python 3 (ipykernel)",
   "language": "python",
   "name": "python3"
  },
  "language_info": {
   "codemirror_mode": {
    "name": "ipython",
    "version": 3
   },
   "file_extension": ".py",
   "mimetype": "text/x-python",
   "name": "python",
   "nbconvert_exporter": "python",
   "pygments_lexer": "ipython3",
   "version": "3.9.13"
  }
 },
 "nbformat": 4,
 "nbformat_minor": 5
}
