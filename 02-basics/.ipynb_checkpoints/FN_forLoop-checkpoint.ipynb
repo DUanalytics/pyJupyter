{
 "cells": [
  {
   "cell_type": "markdown",
   "id": "1dfd5d14",
   "metadata": {},
   "source": [
    "# For Loop\n",
    "it is used for iterating over a sequence (list, tuple, dictionary, set or string)\n",
    "we can execute a set of statmements for each item in a list, tuple, set etc\n",
    "it does not require an indexing variable to be set before hand( int i = 0 not required)"
   ]
  },
  {
   "cell_type": "markdown",
   "id": "84cdaf44",
   "metadata": {},
   "source": [
    "## Looping through list"
   ]
  },
  {
   "cell_type": "code",
   "execution_count": 2,
   "id": "6b0451d7",
   "metadata": {},
   "outputs": [
    {
     "data": {
      "text/plain": [
       "list"
      ]
     },
     "execution_count": 2,
     "metadata": {},
     "output_type": "execute_result"
    }
   ],
   "source": [
    "#list\n",
    "names = ['Dhiraj', 'Kounal', 'Sumit']\n",
    "type(names)"
   ]
  },
  {
   "cell_type": "code",
   "execution_count": 3,
   "id": "5af71e87",
   "metadata": {},
   "outputs": [
    {
     "name": "stdout",
     "output_type": "stream",
     "text": [
      "Dhiraj\n",
      "Kounal\n",
      "Sumit\n"
     ]
    }
   ],
   "source": [
    "for i in names : print(i)"
   ]
  },
  {
   "cell_type": "markdown",
   "id": "35b66fbc",
   "metadata": {},
   "source": [
    "## Looping through a String"
   ]
  },
  {
   "cell_type": "code",
   "execution_count": 4,
   "id": "85445460",
   "metadata": {},
   "outputs": [
    {
     "data": {
      "text/plain": [
       "str"
      ]
     },
     "execution_count": 4,
     "metadata": {},
     "output_type": "execute_result"
    }
   ],
   "source": [
    "#string\n",
    "name = 'Dhiraj Upadhyaya'\n",
    "type(name)"
   ]
  },
  {
   "cell_type": "code",
   "execution_count": 8,
   "id": "aceca558",
   "metadata": {},
   "outputs": [
    {
     "name": "stdout",
     "output_type": "stream",
     "text": [
      "D, h, i, r, a, j,  , U, p, a, d, h, y, a, y, a, "
     ]
    }
   ],
   "source": [
    "for i in name : print(i , end = ', ')"
   ]
  },
  {
   "cell_type": "markdown",
   "id": "758d10a6",
   "metadata": {},
   "source": [
    "## Using Break to end the loop with condition"
   ]
  },
  {
   "cell_type": "code",
   "execution_count": 12,
   "id": "dd666836",
   "metadata": {},
   "outputs": [
    {
     "name": "stdout",
     "output_type": "stream",
     "text": [
      "D, h, i, r, a, j,  , U, "
     ]
    }
   ],
   "source": [
    "for i in name : \n",
    "    print( i , end = ', ')\n",
    "    if i == 'U' :\n",
    "        break"
   ]
  },
  {
   "cell_type": "code",
   "execution_count": 13,
   "id": "b9ec5050",
   "metadata": {},
   "outputs": [
    {
     "name": "stdout",
     "output_type": "stream",
     "text": [
      "Dhiraj\n"
     ]
    }
   ],
   "source": [
    "for i in names : \n",
    "    print(i)\n",
    "    if i == 'Dhiraj' :\n",
    "        break"
   ]
  },
  {
   "cell_type": "markdown",
   "id": "97d4805d",
   "metadata": {},
   "source": [
    "## Using Continue to skip to next iteration"
   ]
  },
  {
   "cell_type": "code",
   "execution_count": 15,
   "id": "cc3be1e7",
   "metadata": {},
   "outputs": [
    {
     "name": "stdout",
     "output_type": "stream",
     "text": [
      "Kounal\n",
      "Sumit\n"
     ]
    }
   ],
   "source": [
    "for i in names : \n",
    "    if i == 'Dhiraj' :\n",
    "       continue\n",
    "    print(i)\n",
    "#this will not print Dhiraj whenever it occurs"
   ]
  },
  {
   "cell_type": "markdown",
   "id": "91b40d95",
   "metadata": {},
   "source": [
    "## Using range() to iterate over a specified number of times"
   ]
  },
  {
   "cell_type": "code",
   "execution_count": 18,
   "id": "a00f6372",
   "metadata": {},
   "outputs": [
    {
     "name": "stdout",
     "output_type": "stream",
     "text": [
      "0, 1, 2, 3, 4, 5, "
     ]
    }
   ],
   "source": [
    "for x in range(6):\n",
    "    print(x, end =', ')\n",
    "# range(6) is not the values of 0 to 6, but values from 0 to 5\n",
    "# range() has default starting value as 0, however new value can be specified  eg range(2,6) = 2,3,4,5\n",
    "# increment number can also be specified : range(0,6,2)"
   ]
  },
  {
   "cell_type": "code",
   "execution_count": 19,
   "id": "a719e3f3",
   "metadata": {},
   "outputs": [
    {
     "name": "stdout",
     "output_type": "stream",
     "text": [
      "0, 2, 4, 6, 8, "
     ]
    }
   ],
   "source": [
    "for x in range(0,10,2):\n",
    "    print(x, end =', ')"
   ]
  },
  {
   "cell_type": "markdown",
   "id": "ff903261",
   "metadata": {},
   "source": [
    "## Using Else to execute a code when loop is over"
   ]
  },
  {
   "cell_type": "code",
   "execution_count": 21,
   "id": "4ddf55e8",
   "metadata": {},
   "outputs": [
    {
     "name": "stdout",
     "output_type": "stream",
     "text": [
      "0\t1\t2\t3\t4\t5\tLoop Over\n"
     ]
    }
   ],
   "source": [
    "for x in range(6):\n",
    "    print(x, end ='\\t')\n",
    "else:\n",
    "        print('Loop Over')"
   ]
  },
  {
   "cell_type": "markdown",
   "id": "25e85b16",
   "metadata": {},
   "source": [
    "## Nested Loops"
   ]
  },
  {
   "cell_type": "code",
   "execution_count": 22,
   "id": "d9cbb554",
   "metadata": {},
   "outputs": [
    {
     "name": "stdout",
     "output_type": "stream",
     "text": [
      "['a', 'b', 'c'] ['z', 'y', 'x', 'w']\n"
     ]
    }
   ],
   "source": [
    "x = ['a', 'b', 'c']\n",
    "y = ['z', 'y', 'x', 'w']\n",
    "print(x, y)"
   ]
  },
  {
   "cell_type": "code",
   "execution_count": 24,
   "id": "c5bfe1c3",
   "metadata": {},
   "outputs": [
    {
     "name": "stdout",
     "output_type": "stream",
     "text": [
      "a:z, a:y, a:x, a:w, b:z, b:y, b:x, b:w, c:z, c:y, c:x, c:w, "
     ]
    }
   ],
   "source": [
    "for i in x:\n",
    "    for j in y :\n",
    "        print( i, j, sep=':', end=', ')"
   ]
  },
  {
   "cell_type": "markdown",
   "id": "820348da",
   "metadata": {},
   "source": [
    "### conditions in the loop"
   ]
  },
  {
   "cell_type": "code",
   "execution_count": 2,
   "id": "abe9c8be",
   "metadata": {},
   "outputs": [],
   "source": [
    "list1 = ['a','b', 'c','d','e']\n",
    "list2 = ['a', 'B', 'E']"
   ]
  },
  {
   "cell_type": "code",
   "execution_count": null,
   "id": "b19c71b3",
   "metadata": {},
   "outputs": [],
   "source": [
    "[x.upper() for x in list1]"
   ]
  },
  {
   "cell_type": "code",
   "execution_count": 4,
   "id": "5c9d0d06",
   "metadata": {},
   "outputs": [
    {
     "data": {
      "text/plain": [
       "['B', 'C', 'D', 'E']"
      ]
     },
     "execution_count": 4,
     "metadata": {},
     "output_type": "execute_result"
    }
   ],
   "source": [
    "[x.upper() for x in list1 if x not in list2]\n",
    "#checks if list1 is not in list2"
   ]
  },
  {
   "cell_type": "code",
   "execution_count": 5,
   "id": "74f63ee8",
   "metadata": {},
   "outputs": [
    {
     "data": {
      "text/plain": [
       "['A', 'C', 'D']"
      ]
     },
     "execution_count": 5,
     "metadata": {},
     "output_type": "execute_result"
    }
   ],
   "source": [
    "[x.upper() for x in list1 if x.upper() not in list2]\n",
    "#checks if upper(list1) is not in list2"
   ]
  },
  {
   "cell_type": "code",
   "execution_count": 6,
   "id": "49e20a99",
   "metadata": {},
   "outputs": [
    {
     "data": {
      "text/plain": [
       "[1, 1, 1]"
      ]
     },
     "execution_count": 6,
     "metadata": {},
     "output_type": "execute_result"
    }
   ],
   "source": [
    "[len(x) for x in list1 if x.upper() not in list2]"
   ]
  },
  {
   "cell_type": "code",
   "execution_count": 11,
   "id": "6b360bb8",
   "metadata": {},
   "outputs": [
    {
     "data": {
      "text/plain": [
       "['a', 'b', 'e']"
      ]
     },
     "execution_count": 11,
     "metadata": {},
     "output_type": "execute_result"
    }
   ],
   "source": [
    "list(map(lambda x:x.lower(), list2))"
   ]
  },
  {
   "cell_type": "code",
   "execution_count": 12,
   "id": "269d87e2",
   "metadata": {},
   "outputs": [
    {
     "data": {
      "text/plain": [
       "['A', 'B', 'C', 'D', 'E']"
      ]
     },
     "execution_count": 12,
     "metadata": {},
     "output_type": "execute_result"
    }
   ],
   "source": [
    "[x.upper() for x in list1 if x.upper() not in map(lambda x:x.lower(), list2)]\n",
    "#checks if upper(list1) is not in lower(list2)"
   ]
  },
  {
   "cell_type": "code",
   "execution_count": 13,
   "id": "42ac2f7d",
   "metadata": {},
   "outputs": [],
   "source": [
    "import re"
   ]
  },
  {
   "cell_type": "code",
   "execution_count": 21,
   "id": "ceae5ca5",
   "metadata": {},
   "outputs": [
    {
     "data": {
      "text/plain": [
       "<re.Match object; span=(0, 1), match='a'>"
      ]
     },
     "execution_count": 21,
     "metadata": {},
     "output_type": "execute_result"
    }
   ],
   "source": [
    "re.search('^a', list2[0])"
   ]
  },
  {
   "cell_type": "code",
   "execution_count": 36,
   "id": "838bac24",
   "metadata": {},
   "outputs": [
    {
     "data": {
      "text/plain": [
       "['a']"
      ]
     },
     "execution_count": 36,
     "metadata": {},
     "output_type": "execute_result"
    }
   ],
   "source": [
    "list(filter(lambda v: re.match('^a', v), list2))\n",
    "#filter elements in list2 which start with a\n",
    "#if such elements exist in list1 and list2, print"
   ]
  },
  {
   "cell_type": "code",
   "execution_count": 38,
   "id": "6353e416",
   "metadata": {},
   "outputs": [
    {
     "data": {
      "text/plain": [
       "['a']"
      ]
     },
     "execution_count": 38,
     "metadata": {},
     "output_type": "execute_result"
    }
   ],
   "source": [
    "[x for x in list1 if x in list(filter(lambda v: re.match('^a', v), list2))]"
   ]
  },
  {
   "cell_type": "markdown",
   "id": "49ed06b9",
   "metadata": {},
   "source": [
    "Iterator can be used to traverse any collection irrespective of the type of collection. List iterator can only be used to iterate only List collection implemented classes like arraylist,linkedlist etc"
   ]
  },
  {
   "cell_type": "code",
   "execution_count": 43,
   "id": "7c788e05",
   "metadata": {},
   "outputs": [
    {
     "name": "stdout",
     "output_type": "stream",
     "text": [
      "{'b', 'c', 'a', 'd', 'e'} {'B', 'E', 'a'}\n",
      "{'b', 'c', 'a', 'd', 'e'} {'B', 'E', 'a'}\n"
     ]
    }
   ],
   "source": [
    "print(set(list1), set(list2))\n",
    "set1 = set(list1) ; set2 = set(list2)\n",
    "print(set1, set2)"
   ]
  },
  {
   "cell_type": "code",
   "execution_count": 44,
   "id": "d26fca94",
   "metadata": {},
   "outputs": [
    {
     "data": {
      "text/plain": [
       "{'a'}"
      ]
     },
     "execution_count": 44,
     "metadata": {},
     "output_type": "execute_result"
    }
   ],
   "source": [
    "set1.intersection(set2)"
   ]
  },
  {
   "cell_type": "code",
   "execution_count": 45,
   "id": "218e34df",
   "metadata": {},
   "outputs": [
    {
     "data": {
      "text/plain": [
       "{'B', 'E', 'a', 'b', 'c', 'd', 'e'}"
      ]
     },
     "execution_count": 45,
     "metadata": {},
     "output_type": "execute_result"
    }
   ],
   "source": [
    "set1.union(set2)"
   ]
  },
  {
   "cell_type": "code",
   "execution_count": null,
   "id": "d454c7c5",
   "metadata": {},
   "outputs": [],
   "source": []
  }
 ],
 "metadata": {
  "kernelspec": {
   "display_name": "Python 3 (ipykernel)",
   "language": "python",
   "name": "python3"
  },
  "language_info": {
   "codemirror_mode": {
    "name": "ipython",
    "version": 3
   },
   "file_extension": ".py",
   "mimetype": "text/x-python",
   "name": "python",
   "nbconvert_exporter": "python",
   "pygments_lexer": "ipython3",
   "version": "3.9.15"
  }
 },
 "nbformat": 4,
 "nbformat_minor": 5
}
