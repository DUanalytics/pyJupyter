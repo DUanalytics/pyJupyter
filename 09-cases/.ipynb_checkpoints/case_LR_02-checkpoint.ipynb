{
 "cells": [
  {
   "cell_type": "markdown",
   "id": "8331ae99",
   "metadata": {},
   "source": [
    "# Simple Linear Regression\n",
    "Case from Wiley Book Chap 2, Fig 2.1\n",
    "https://ocd.lcwu.edu.pk/cfiles/Statistics/Stat-503/IntroductiontoLinearRegressionAnalysisbyDouglasC.MontgomeryElizabethA.PeckG.GeoffreyViningz-lib.org.pdf"
   ]
  },
  {
   "cell_type": "code",
   "execution_count": 29,
   "id": "c97a5dbf",
   "metadata": {},
   "outputs": [],
   "source": [
    "#libraries\n",
    "import pandas as pd\n",
    "import numpy as np\n",
    "import matplotlib.pyplot as plt\n",
    "pd.options.display.float_format = '{:.2f}'.format  #stop scientific notation"
   ]
  },
  {
   "cell_type": "code",
   "execution_count": 6,
   "id": "607b4c1b",
   "metadata": {},
   "outputs": [
    {
     "name": "stdout",
     "output_type": "stream",
     "text": [
      "https://docs.google.com/spreadsheets/d/1vVzUrrFUcagXEJ7AeGSFXtwOFvOtGavi0ooceS7XL8w/gviz/tq?tqx=out:csv&sheet=LR1\n"
     ]
    }
   ],
   "source": [
    "#data\n",
    "sheet_id = '1vVzUrrFUcagXEJ7AeGSFXtwOFvOtGavi0ooceS7XL8w'\n",
    "sheet_name = 'LR1'\n",
    "url1 = f\"https://docs.google.com/spreadsheets/d/{sheet_id}/gviz/tq?tqx=out:csv&sheet={sheet_name}\"\n",
    "print(url1)"
   ]
  },
  {
   "cell_type": "code",
   "execution_count": 32,
   "id": "a8064d46",
   "metadata": {},
   "outputs": [
    {
     "data": {
      "text/html": [
       "<div>\n",
       "<style scoped>\n",
       "    .dataframe tbody tr th:only-of-type {\n",
       "        vertical-align: middle;\n",
       "    }\n",
       "\n",
       "    .dataframe tbody tr th {\n",
       "        vertical-align: top;\n",
       "    }\n",
       "\n",
       "    .dataframe thead th {\n",
       "        text-align: right;\n",
       "    }\n",
       "</style>\n",
       "<table border=\"1\" class=\"dataframe\">\n",
       "  <thead>\n",
       "    <tr style=\"text-align: right;\">\n",
       "      <th></th>\n",
       "      <th>shearStr</th>\n",
       "      <th>agePropellant</th>\n",
       "    </tr>\n",
       "  </thead>\n",
       "  <tbody>\n",
       "    <tr>\n",
       "      <th>0</th>\n",
       "      <td>2158.70</td>\n",
       "      <td>15.50</td>\n",
       "    </tr>\n",
       "    <tr>\n",
       "      <th>1</th>\n",
       "      <td>1678.15</td>\n",
       "      <td>23.75</td>\n",
       "    </tr>\n",
       "    <tr>\n",
       "      <th>2</th>\n",
       "      <td>2316.00</td>\n",
       "      <td>8.00</td>\n",
       "    </tr>\n",
       "    <tr>\n",
       "      <th>3</th>\n",
       "      <td>2061.30</td>\n",
       "      <td>17.00</td>\n",
       "    </tr>\n",
       "    <tr>\n",
       "      <th>4</th>\n",
       "      <td>2207.50</td>\n",
       "      <td>5.50</td>\n",
       "    </tr>\n",
       "  </tbody>\n",
       "</table>\n",
       "</div>"
      ],
      "text/plain": [
       "   shearStr  agePropellant\n",
       "0   2158.70          15.50\n",
       "1   1678.15          23.75\n",
       "2   2316.00           8.00\n",
       "3   2061.30          17.00\n",
       "4   2207.50           5.50"
      ]
     },
     "execution_count": 32,
     "metadata": {},
     "output_type": "execute_result"
    }
   ],
   "source": [
    "data1 = pd.read_csv(url1, usecols = ['shearStr', 'agePropellant'])\n",
    "data1.head()"
   ]
  },
  {
   "cell_type": "markdown",
   "id": "e6de9539",
   "metadata": {},
   "source": [
    "A rocket motor is manufactured by bonding an igniter propellant and a sustainer propellant together inside a metal housing. The shear strength of the bond between the two types of propellant is an important quality characteristic. It is suspected that shear strength is related to the age in weeks of the batch of sustainer propellant.\n",
    "Twenty observations on shear strength and the age of the corresponding batch of propellant have been collected and are shown in Table 2.1 . The scatter diagram,  suggests that there is a strong statistical relationship between shear strength and propellant age, and the tentative assumption of the straight - line model y = β0 + β1x + ε appears to be reasonable."
   ]
  },
  {
   "cell_type": "code",
   "execution_count": 33,
   "id": "fb179d79",
   "metadata": {},
   "outputs": [
    {
     "data": {
      "text/html": [
       "<div>\n",
       "<style scoped>\n",
       "    .dataframe tbody tr th:only-of-type {\n",
       "        vertical-align: middle;\n",
       "    }\n",
       "\n",
       "    .dataframe tbody tr th {\n",
       "        vertical-align: top;\n",
       "    }\n",
       "\n",
       "    .dataframe thead th {\n",
       "        text-align: right;\n",
       "    }\n",
       "</style>\n",
       "<table border=\"1\" class=\"dataframe\">\n",
       "  <thead>\n",
       "    <tr style=\"text-align: right;\">\n",
       "      <th></th>\n",
       "      <th>shearStr</th>\n",
       "      <th>agePropellant</th>\n",
       "    </tr>\n",
       "  </thead>\n",
       "  <tbody>\n",
       "    <tr>\n",
       "      <th>count</th>\n",
       "      <td>20.00</td>\n",
       "      <td>20.00</td>\n",
       "    </tr>\n",
       "    <tr>\n",
       "      <th>mean</th>\n",
       "      <td>2131.36</td>\n",
       "      <td>13.36</td>\n",
       "    </tr>\n",
       "    <tr>\n",
       "      <th>std</th>\n",
       "      <td>298.57</td>\n",
       "      <td>7.63</td>\n",
       "    </tr>\n",
       "    <tr>\n",
       "      <th>min</th>\n",
       "      <td>1678.15</td>\n",
       "      <td>2.00</td>\n",
       "    </tr>\n",
       "    <tr>\n",
       "      <th>25%</th>\n",
       "      <td>1783.47</td>\n",
       "      <td>7.12</td>\n",
       "    </tr>\n",
       "    <tr>\n",
       "      <th>50%</th>\n",
       "      <td>2182.85</td>\n",
       "      <td>12.75</td>\n",
       "    </tr>\n",
       "    <tr>\n",
       "      <th>75%</th>\n",
       "      <td>2342.04</td>\n",
       "      <td>19.62</td>\n",
       "    </tr>\n",
       "    <tr>\n",
       "      <th>max</th>\n",
       "      <td>2654.20</td>\n",
       "      <td>25.00</td>\n",
       "    </tr>\n",
       "  </tbody>\n",
       "</table>\n",
       "</div>"
      ],
      "text/plain": [
       "       shearStr  agePropellant\n",
       "count     20.00          20.00\n",
       "mean    2131.36          13.36\n",
       "std      298.57           7.63\n",
       "min     1678.15           2.00\n",
       "25%     1783.47           7.12\n",
       "50%     2182.85          12.75\n",
       "75%     2342.04          19.62\n",
       "max     2654.20          25.00"
      ]
     },
     "execution_count": 33,
     "metadata": {},
     "output_type": "execute_result"
    }
   ],
   "source": [
    "data1.describe()"
   ]
  },
  {
   "cell_type": "code",
   "execution_count": 34,
   "id": "39d0bda3",
   "metadata": {},
   "outputs": [
    {
     "data": {
      "text/plain": [
       "(20, 2)"
      ]
     },
     "execution_count": 34,
     "metadata": {},
     "output_type": "execute_result"
    }
   ],
   "source": [
    "data1.shape"
   ]
  },
  {
   "cell_type": "code",
   "execution_count": 35,
   "id": "afe61847",
   "metadata": {},
   "outputs": [],
   "source": [
    "#Scikit-learn expects 2D inputs. Just reshape the X and Y."
   ]
  },
  {
   "cell_type": "code",
   "execution_count": 31,
   "id": "6097c32e",
   "metadata": {},
   "outputs": [
    {
     "data": {
      "text/plain": [
       "array([[1.55000e+01, 2.15870e+03],\n",
       "       [2.37500e+01, 1.67815e+03],\n",
       "       [8.00000e+00, 2.31600e+03],\n",
       "       [1.70000e+01, 2.06130e+03],\n",
       "       [5.50000e+00, 2.20750e+03],\n",
       "       [1.90000e+01, 1.70830e+03],\n",
       "       [2.40000e+01, 1.78470e+03],\n",
       "       [2.50000e+00, 2.57500e+03],\n",
       "       [7.50000e+00, 2.35790e+03],\n",
       "       [1.10000e+01, 2.25670e+03],\n",
       "       [1.30000e+01, 2.16520e+03],\n",
       "       [3.75000e+00, 2.39955e+03],\n",
       "       [2.50000e+01, 1.77980e+03],\n",
       "       [9.75000e+00, 2.33675e+03],\n",
       "       [2.20000e+01, 1.76530e+03],\n",
       "       [1.80000e+01, 2.05350e+03],\n",
       "       [6.00000e+00, 2.41440e+03],\n",
       "       [1.25000e+01, 2.20050e+03],\n",
       "       [2.00000e+00, 2.65420e+03],\n",
       "       [2.15000e+01, 1.75370e+03]])"
      ]
     },
     "execution_count": 31,
     "metadata": {},
     "output_type": "execute_result"
    }
   ],
   "source": [
    "x1 = data1['agePropellant'].values.reshape(-1,1)\n",
    "y1 = data1['shearStr'].values.reshape(-1,1)\n",
    "np.concatenate((x1, y1), axis=1)"
   ]
  },
  {
   "cell_type": "code",
   "execution_count": 36,
   "id": "6a871473",
   "metadata": {},
   "outputs": [
    {
     "data": {
      "image/png": "[encoded data removed]",
      "text/plain": [
       "<Figure size 640x480 with 1 Axes>"
      ]
     },
     "metadata": {},
     "output_type": "display_data"
    }
   ],
   "source": [
    "#plt.scatter(data1.agePropellant, data1.shearStr)\n",
    "plt.scatter(x1,y1)\n",
    "plt.title('Scatter Plot between Age Propellant and Shear Strength')\n",
    "plt.ylabel('Shear Strength in psi')\n",
    "plt.xlabel('Age Propellant in weeks')\n",
    "plt.show();"
   ]
  },
  {
   "cell_type": "code",
   "execution_count": 37,
   "id": "2394b164",
   "metadata": {},
   "outputs": [],
   "source": [
    "#model\n",
    "from sklearn.linear_model import LinearRegression\n",
    "model1 = LinearRegression()"
   ]
  },
  {
   "cell_type": "code",
   "execution_count": null,
   "id": "a7b3dee6",
   "metadata": {},
   "outputs": [],
   "source": [
    "#data shaped correctly"
   ]
  },
  {
   "cell_type": "code",
   "execution_count": 38,
   "id": "aa6dc26a",
   "metadata": {},
   "outputs": [
    {
     "data": {
      "text/plain": [
       "LinearRegression()"
      ]
     },
     "execution_count": 38,
     "metadata": {},
     "output_type": "execute_result"
    }
   ],
   "source": [
    "model1.fit(x1, y1)"
   ]
  },
  {
   "cell_type": "code",
   "execution_count": 39,
   "id": "fd3ca0b6",
   "metadata": {},
   "outputs": [
    {
     "name": "stdout",
     "output_type": "stream",
     "text": [
      "coefficient of determination: 0.9018414316763039\n"
     ]
    }
   ],
   "source": [
    "r_sq = model1.score(x1, y1)\n",
    "print(f\"coefficient of determination: {r_sq}\")"
   ]
  },
  {
   "cell_type": "code",
   "execution_count": 40,
   "id": "f6c47351",
   "metadata": {},
   "outputs": [
    {
     "name": "stdout",
     "output_type": "stream",
     "text": [
      "intercept: [2627.822359]\n"
     ]
    }
   ],
   "source": [
    "print(f\"intercept: {model1.intercept_}\")"
   ]
  },
  {
   "cell_type": "code",
   "execution_count": 41,
   "id": "25f10172",
   "metadata": {},
   "outputs": [
    {
     "name": "stdout",
     "output_type": "stream",
     "text": [
      "slope: [[-37.15359094]]\n"
     ]
    }
   ],
   "source": [
    "print(f\"slope: {model1.coef_}\")"
   ]
  },
  {
   "cell_type": "code",
   "execution_count": 42,
   "id": "981812b3",
   "metadata": {},
   "outputs": [
    {
     "name": "stdout",
     "output_type": "stream",
     "text": [
      "predicted response:\n",
      "[[2051.94169936]\n",
      " [1745.42457406]\n",
      " [2330.59363144]\n",
      " [1996.21131294]\n",
      " [2423.4776088 ]\n",
      " [1921.90413105]\n",
      " [1736.13617632]\n",
      " [2534.93838164]\n",
      " [2349.17042691]\n",
      " [2219.13285861]\n",
      " [2144.82567672]\n",
      " [2488.49639296]\n",
      " [1698.98258538]\n",
      " [2265.57484729]\n",
      " [1810.44335821]\n",
      " [1959.05772199]\n",
      " [2404.90081333]\n",
      " [2163.40247219]\n",
      " [2553.51517711]\n",
      " [1829.02015369]]\n"
     ]
    }
   ],
   "source": [
    "#predict using inbuilt function in python \n",
    "y_pred1 = model1.predict(x)\n",
    "print(f\"predicted response:\\n{y_pred1}\")"
   ]
  },
  {
   "cell_type": "code",
   "execution_count": 43,
   "id": "60f06abf",
   "metadata": {},
   "outputs": [
    {
     "name": "stdout",
     "output_type": "stream",
     "text": [
      "predicted response:\n",
      "[[2051.94169936]\n",
      " [1745.42457406]\n",
      " [2330.59363144]\n",
      " [1996.21131294]\n",
      " [2423.4776088 ]\n",
      " [1921.90413105]\n",
      " [1736.13617632]\n",
      " [2534.93838164]\n",
      " [2349.17042691]\n",
      " [2219.13285861]\n",
      " [2144.82567672]\n",
      " [2488.49639296]\n",
      " [1698.98258538]\n",
      " [2265.57484729]\n",
      " [1810.44335821]\n",
      " [1959.05772199]\n",
      " [2404.90081333]\n",
      " [2163.40247219]\n",
      " [2553.51517711]\n",
      " [1829.02015369]]\n"
     ]
    }
   ],
   "source": [
    "#predict by putting values in equation\n",
    "y_pred1B = model1.intercept_ + model1.coef_ * x\n",
    "print(f\"predicted response:\\n{y_pred1B}\")"
   ]
  },
  {
   "cell_type": "code",
   "execution_count": null,
   "id": "1b0d51a1",
   "metadata": {},
   "outputs": [],
   "source": []
  },
  {
   "cell_type": "markdown",
   "id": "dd30f4ab",
   "metadata": {},
   "source": [
    "## Stats Model"
   ]
  },
  {
   "cell_type": "code",
   "execution_count": 48,
   "id": "fb0869a2",
   "metadata": {},
   "outputs": [],
   "source": [
    "import statsmodels.api as sm"
   ]
  },
  {
   "cell_type": "code",
   "execution_count": 55,
   "id": "a91c36ae",
   "metadata": {},
   "outputs": [
    {
     "data": {
      "text/plain": [
       "array([[  15.5 , 2158.7 ],\n",
       "       [  23.75, 1678.15],\n",
       "       [   8.  , 2316.  ],\n",
       "       [  17.  , 2061.3 ]])"
      ]
     },
     "execution_count": 55,
     "metadata": {},
     "output_type": "execute_result"
    }
   ],
   "source": [
    "x2 = data1['agePropellant'].values.reshape(-1,1)\n",
    "y2 = data1['shearStr'].values.reshape(-1,1)\n",
    "np.concatenate((x2, y2), axis=1)[0:4]"
   ]
  },
  {
   "cell_type": "code",
   "execution_count": 56,
   "id": "afdd545d",
   "metadata": {},
   "outputs": [
    {
     "data": {
      "text/plain": [
       "array([[ 1.  , 15.5 ],\n",
       "       [ 1.  , 23.75],\n",
       "       [ 1.  ,  8.  ],\n",
       "       [ 1.  , 17.  ]])"
      ]
     },
     "execution_count": 56,
     "metadata": {},
     "output_type": "execute_result"
    }
   ],
   "source": [
    "x2 = sm.add_constant(x2)\n",
    "x2[0:4]"
   ]
  },
  {
   "cell_type": "code",
   "execution_count": 61,
   "id": "e8146f1a",
   "metadata": {},
   "outputs": [],
   "source": [
    "model2 = sm.OLS(y2, x2)"
   ]
  },
  {
   "cell_type": "code",
   "execution_count": 62,
   "id": "a1bb8cef",
   "metadata": {},
   "outputs": [],
   "source": [
    "results2 = model1.fit()"
   ]
  },
  {
   "cell_type": "code",
   "execution_count": 63,
   "id": "1fca14b1",
   "metadata": {},
   "outputs": [
    {
     "name": "stdout",
     "output_type": "stream",
     "text": [
      "                                 OLS Regression Results                                \n",
      "=======================================================================================\n",
      "Dep. Variable:                      y   R-squared (uncentered):                   0.645\n",
      "Model:                            OLS   Adj. R-squared (uncentered):              0.627\n",
      "Method:                 Least Squares   F-statistic:                              34.55\n",
      "Date:                Tue, 21 Feb 2023   Prob (F-statistic):                    1.16e-05\n",
      "Time:                        13:34:42   Log-Likelihood:                         -171.49\n",
      "No. Observations:                  20   AIC:                                      345.0\n",
      "Df Residuals:                      19   BIC:                                      346.0\n",
      "Df Model:                           1                                                  \n",
      "Covariance Type:            nonrobust                                                  \n",
      "==============================================================================\n",
      "                 coef    std err          t      P>|t|      [0.025      0.975]\n",
      "------------------------------------------------------------------------------\n",
      "x1           112.9816     19.222      5.878      0.000      72.750     153.213\n",
      "==============================================================================\n",
      "Omnibus:                        4.212   Durbin-Watson:                   1.940\n",
      "Prob(Omnibus):                  0.122   Jarque-Bera (JB):                1.438\n",
      "Skew:                          -0.069   Prob(JB):                        0.487\n",
      "Kurtosis:                       1.694   Cond. No.                         1.00\n",
      "==============================================================================\n",
      "\n",
      "Notes:\n",
      "[1] R² is computed without centering (uncentered) since the model does not contain a constant.\n",
      "[2] Standard Errors assume that the covariance matrix of the errors is correctly specified.\n"
     ]
    }
   ],
   "source": [
    "print(results2.summary())"
   ]
  },
  {
   "cell_type": "code",
   "execution_count": 64,
   "id": "75812b3d",
   "metadata": {},
   "outputs": [
    {
     "name": "stdout",
     "output_type": "stream",
     "text": [
      "coefficient of determination: 0.6451820838217242\n"
     ]
    }
   ],
   "source": [
    "print(f\"coefficient of determination: {results2.rsquared}\")"
   ]
  },
  {
   "cell_type": "code",
   "execution_count": 65,
   "id": "1830da20",
   "metadata": {},
   "outputs": [
    {
     "name": "stdout",
     "output_type": "stream",
     "text": [
      "adjusted coefficient of determination: 0.6265074566544465\n"
     ]
    }
   ],
   "source": [
    "print(f\"adjusted coefficient of determination: {results2.rsquared_adj}\")"
   ]
  },
  {
   "cell_type": "code",
   "execution_count": 66,
   "id": "cdf21acb",
   "metadata": {},
   "outputs": [
    {
     "name": "stdout",
     "output_type": "stream",
     "text": [
      "regression coefficients: [112.98160416]\n"
     ]
    }
   ],
   "source": [
    "print(f\"regression coefficients: {results2.params}\")"
   ]
  },
  {
   "cell_type": "code",
   "execution_count": 67,
   "id": "d5e52699",
   "metadata": {},
   "outputs": [
    {
     "name": "stdout",
     "output_type": "stream",
     "text": [
      "predicted response:\n",
      "[1751.21486445 2683.31309875  903.85283326 1920.68727069  621.39882287\n",
      " 2146.650479   2711.55849979  282.4540104   847.36203119 1242.79764574\n",
      " 1468.76085405  423.68101559 2824.54010395 1101.57064054 2485.59529148\n",
      " 2033.66887484  677.88962495 1412.27005198  225.96320832 2429.1044894 ]\n"
     ]
    }
   ],
   "source": [
    "print(f\"predicted response:\\n{results2.fittedvalues}\")"
   ]
  },
  {
   "cell_type": "code",
   "execution_count": null,
   "id": "4ab1a056",
   "metadata": {},
   "outputs": [],
   "source": []
  }
 ],
 "metadata": {
  "kernelspec": {
   "display_name": "Python 3 (ipykernel)",
   "language": "python",
   "name": "python3"
  },
  "language_info": {
   "codemirror_mode": {
    "name": "ipython",
    "version": 3
   },
   "file_extension": ".py",
   "mimetype": "text/x-python",
   "name": "python",
   "nbconvert_exporter": "python",
   "pygments_lexer": "ipython3",
   "version": "3.9.15"
  }
 },
 "nbformat": 4,
 "nbformat_minor": 5
}
