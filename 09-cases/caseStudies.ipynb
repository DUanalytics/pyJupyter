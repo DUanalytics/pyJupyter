{
 "cells": [
  {
   "cell_type": "code",
   "execution_count": null,
   "id": "ffbfca11-30c6-4d94-a363-79159e534bbf",
   "metadata": {},
   "outputs": [],
   "source": [
    "# Case Studies\n",
    "Lins\n",
    "https://www.academia.edu/40712266/Python_Machine_Learning_Case_Studies_Five_Case_Studies_for_the_Data_Scientist\n"
   ]
  }
 ],
 "metadata": {
  "kernelspec": {
   "display_name": "Python 3 (ipykernel)",
   "language": "python",
   "name": "python3"
  },
  "language_info": {
   "codemirror_mode": {
    "name": "ipython",
    "version": 3
   },
   "file_extension": ".py",
   "mimetype": "text/x-python",
   "name": "python",
   "nbconvert_exporter": "python",
   "pygments_lexer": "ipython3",
   "version": "3.9.15"
  }
 },
 "nbformat": 4,
 "nbformat_minor": 5
}
