{
 "cells": [
  {
   "cell_type": "markdown",
   "id": "5fcf1c20",
   "metadata": {},
   "source": [
    "# Regression Case Study\n",
    "-  Data : Diamonds from sns\n",
    "-  How variables affect DV\n",
    "-  Extracted from Linked In post\n",
    "-  statistical tests and regression model on diamonds dataset from seaborn library with important concepts to data, including: Data cleaning, Data Exploration, Data visualization, OLS Regression model, Hypothesis testing including: ANOVA, Post hoc test, ANCOVA, MANOVA testing."
   ]
  },
  {
   "cell_type": "code",
   "execution_count": null,
   "id": "1bcaa07a",
   "metadata": {},
   "outputs": [],
   "source": [
    "#libraries\n",
    "import numpy as np\n",
    "import pandas as pd\n",
    "import matplotlib.pyplot as plt\n",
    "import seaborn as sns\n",
    "import plotly.express as px"
   ]
  },
  {
   "cell_type": "code",
   "execution_count": null,
   "id": "372a547b",
   "metadata": {},
   "outputs": [],
   "source": [
    "#data \n",
    "df = sns.load_dataset('diamonds')\n",
    "df.info()"
   ]
  },
  {
   "cell_type": "code",
   "execution_count": null,
   "id": "58a88e4e",
   "metadata": {},
   "outputs": [],
   "source": [
    "df.head()"
   ]
  },
  {
   "cell_type": "code",
   "execution_count": null,
   "id": "9f719b1b",
   "metadata": {},
   "outputs": [],
   "source": [
    "# take log of price\n",
    "df['log_price'] = np.log(df['price'])\n",
    "df.head(2)"
   ]
  },
  {
   "cell_type": "code",
   "execution_count": null,
   "id": "93152937",
   "metadata": {},
   "outputs": [],
   "source": [
    "#subset columns\n",
    "df1 = df[['color','price','log_price']]\n",
    "df1.tail(2)"
   ]
  },
  {
   "cell_type": "code",
   "execution_count": null,
   "id": "44bc5627",
   "metadata": {},
   "outputs": [],
   "source": [
    "df1.info()"
   ]
  },
  {
   "cell_type": "code",
   "execution_count": null,
   "id": "f7f27ba3",
   "metadata": {},
   "outputs": [],
   "source": [
    "df1.columns"
   ]
  },
  {
   "cell_type": "code",
   "execution_count": null,
   "id": "a0480b74",
   "metadata": {},
   "outputs": [],
   "source": [
    "df1.shape"
   ]
  },
  {
   "cell_type": "code",
   "execution_count": null,
   "id": "922cef8b",
   "metadata": {},
   "outputs": [],
   "source": [
    "df1.describe()\n",
    "#high sd for price"
   ]
  },
  {
   "cell_type": "code",
   "execution_count": null,
   "id": "47db320d",
   "metadata": {},
   "outputs": [],
   "source": [
    "df1.price.plot(kind='hist')"
   ]
  },
  {
   "cell_type": "code",
   "execution_count": null,
   "id": "e97fafa6",
   "metadata": {},
   "outputs": [],
   "source": [
    "df1.price.plot(kind='kde')"
   ]
  },
  {
   "cell_type": "code",
   "execution_count": null,
   "id": "8943daae",
   "metadata": {},
   "outputs": [],
   "source": [
    "sns.displot(data=df1, x = 'price', kde = True)"
   ]
  },
  {
   "cell_type": "code",
   "execution_count": null,
   "id": "fbbc52ce",
   "metadata": {},
   "outputs": [],
   "source": [
    "#missing values - Nil\n",
    "df1.isnull().sum()"
   ]
  },
  {
   "cell_type": "code",
   "execution_count": null,
   "id": "30f028fa",
   "metadata": {},
   "outputs": [],
   "source": [
    "df1.head(3)"
   ]
  },
  {
   "cell_type": "code",
   "execution_count": null,
   "id": "b8430c68",
   "metadata": {},
   "outputs": [],
   "source": [
    "colorCount = df1.color.value_counts().reset_index().rename(columns={'color':'count','index':'color'})\n",
    "colorCount"
   ]
  },
  {
   "cell_type": "code",
   "execution_count": null,
   "id": "5a687eb5",
   "metadata": {},
   "outputs": [],
   "source": [
    "# Categorical Values \n",
    "fig = px.bar(colorCount, x='color',y='count' )\n",
    "fig.show();"
   ]
  },
  {
   "cell_type": "code",
   "execution_count": null,
   "id": "7f073b3a",
   "metadata": {},
   "outputs": [],
   "source": [
    "#df1.loc[df['pop'] < 2.e6, 'country'] = 'Other countries' # Represent only large countries\n",
    "fig = px.pie(colorCount, names='color', values='count', title='Colors and their Count : Pie Chart')\n",
    "fig.show();"
   ]
  },
  {
   "cell_type": "code",
   "execution_count": null,
   "id": "29b84dd1",
   "metadata": {},
   "outputs": [],
   "source": [
    "# Mean price per color\n",
    "meanPriceColor = df1.groupby(['color'], as_index=False)['price'].agg(np.mean)\n",
    "print(meanPriceColor)\n",
    "fig = px.bar(meanPriceColor, x='color',y='price', color='color', title='Mean Price per Color' )\n",
    "fig.show();"
   ]
  },
  {
   "cell_type": "code",
   "execution_count": null,
   "id": "c6ce2b75",
   "metadata": {},
   "outputs": [],
   "source": [
    "# box plot\n",
    "fig = px.box(df1, x=\"color\", y=\"price\")\n",
    "fig.show()"
   ]
  },
  {
   "cell_type": "code",
   "execution_count": null,
   "id": "ebe401a3",
   "metadata": {},
   "outputs": [],
   "source": [
    "sns.boxplot(data=df1, x='color', y='price')"
   ]
  },
  {
   "cell_type": "code",
   "execution_count": null,
   "id": "a6436cc1",
   "metadata": {},
   "outputs": [],
   "source": [
    "df1['price'].describe()"
   ]
  },
  {
   "cell_type": "code",
   "execution_count": null,
   "id": "1567f0c9",
   "metadata": {},
   "outputs": [],
   "source": [
    "q1=df1[['price']].quantile(0.25)\n",
    "q3=df1[['price']].quantile(0.75)\n",
    "IQR=q3-q1\n",
    "IQR, q1, q3"
   ]
  },
  {
   "cell_type": "code",
   "execution_count": null,
   "id": "fa77581a",
   "metadata": {},
   "outputs": [],
   "source": [
    "q1 - IQR, q3 + IQR"
   ]
  },
  {
   "cell_type": "code",
   "execution_count": null,
   "id": "6144e7f0",
   "metadata": {},
   "outputs": [],
   "source": [
    "#outliers.sum()"
   ]
  },
  {
   "cell_type": "code",
   "execution_count": null,
   "id": "1b072078",
   "metadata": {},
   "outputs": [],
   "source": [
    "df1.query('price < -3425')"
   ]
  },
  {
   "cell_type": "code",
   "execution_count": null,
   "id": "d346ff50",
   "metadata": {},
   "outputs": [],
   "source": [
    "df1.query('price > 9868')\n",
    "#5355"
   ]
  },
  {
   "cell_type": "code",
   "execution_count": null,
   "id": "e955302e",
   "metadata": {},
   "outputs": [],
   "source": [
    "df1.loc[df1['price'] > 9868, :]"
   ]
  },
  {
   "cell_type": "code",
   "execution_count": null,
   "id": "842a8fcc",
   "metadata": {},
   "outputs": [],
   "source": [
    "df2 = df1.loc[df1['price'] <= 9868, :]\n",
    "df2.shape"
   ]
  },
  {
   "cell_type": "code",
   "execution_count": null,
   "id": "0ec62a72",
   "metadata": {},
   "outputs": [],
   "source": [
    "np.where(df1[(df1['price'] <= 9868)])"
   ]
  },
  {
   "cell_type": "code",
   "execution_count": null,
   "id": "70459372",
   "metadata": {},
   "outputs": [],
   "source": [
    "# Regression \n",
    "import statsmodels.api as st\n",
    "from statsmodels.formula.api import ols"
   ]
  },
  {
   "cell_type": "code",
   "execution_count": null,
   "id": "a4b5ea29",
   "metadata": {},
   "outputs": [],
   "source": [
    "olsmodel = ols(formula ='log_price ~ C(color)', data=df1).fit()\n",
    "# we wanted to treat explicitly as categorical, we could have done so by using the C() operator:"
   ]
  },
  {
   "cell_type": "code",
   "execution_count": null,
   "id": "11782d3e",
   "metadata": {},
   "outputs": [],
   "source": [
    "olsmodel.summary()"
   ]
  },
  {
   "cell_type": "code",
   "execution_count": null,
   "id": "452b2dbe",
   "metadata": {},
   "outputs": [],
   "source": [
    "#anova\n",
    "st.stats.anova_lm(olsmodel, type=2)"
   ]
  },
  {
   "cell_type": "markdown",
   "id": "8ae45138",
   "metadata": {},
   "source": [
    "-  t test to state : mean is equal among 2 groups of data.\n",
    "-  does color affect the price of diamong\n",
    "-  p value tells if can reject Ho : p < .05 : Significant difference due to color -> Reject Ho : Color affect the mean price\n",
    "-  F value tells how much color is affect the outcome (log_price)"
   ]
  },
  {
   "cell_type": "code",
   "execution_count": null,
   "id": "2c548d59",
   "metadata": {},
   "outputs": [],
   "source": [
    "df.columns"
   ]
  },
  {
   "cell_type": "code",
   "execution_count": null,
   "id": "0ce6e8bc",
   "metadata": {},
   "outputs": [],
   "source": [
    "#add another column, ie cut \n",
    "df1 = df1.join(df['cut'])\n",
    "df1.head(3)"
   ]
  },
  {
   "cell_type": "code",
   "execution_count": null,
   "id": "cf0b01a1",
   "metadata": {},
   "outputs": [],
   "source": [
    "sns.boxplot(data=df1, x='cut', y='log_price')"
   ]
  },
  {
   "cell_type": "code",
   "execution_count": null,
   "id": "075b1b6b",
   "metadata": {},
   "outputs": [],
   "source": [
    "sns.barplot(data=df1.cut.value_counts().reset_index().rename(columns={'cut':'count','index':'cut'}), x='cut',y='count')"
   ]
  },
  {
   "cell_type": "code",
   "execution_count": null,
   "id": "4f8e4696",
   "metadata": {},
   "outputs": [],
   "source": [
    "df1.groupby(['cut'], as_index=False)['log_price'].mean()"
   ]
  },
  {
   "cell_type": "code",
   "execution_count": null,
   "id": "20823331",
   "metadata": {},
   "outputs": [],
   "source": [
    "sns.barplot(data=df1.groupby(['cut'], as_index=False)['log_price'].mean(), x='cut',y='log_price')\n",
    "#almost same with cut type"
   ]
  },
  {
   "cell_type": "code",
   "execution_count": null,
   "id": "78100aff",
   "metadata": {},
   "outputs": [],
   "source": [
    "#second model\n",
    "olsmodel2 = ols(formula = 'log_price ~ C(color) + C(cut) + C(color):C(cut)', data=df1).fit()"
   ]
  },
  {
   "cell_type": "code",
   "execution_count": null,
   "id": "c6a8cf16",
   "metadata": {},
   "outputs": [],
   "source": [
    "olsmodel2.summary()"
   ]
  },
  {
   "cell_type": "markdown",
   "id": "05007392",
   "metadata": {},
   "source": [
    "## hypothesis setting\n",
    "- Color\n",
    "    -  Ho : No difference in price due to color, Ha : Difference in price due to color\n",
    "- Cut\n",
    "    -  Ho : No difference in price due to cut, Ha : Difference in price due to cut\n",
    "-  Color + Cut Interaction/ Combination\n",
    "    -  Ho : No difference in price due to cut & color, Ha : Difference in price due to cut & color\n",
    "\n"
   ]
  },
  {
   "cell_type": "code",
   "execution_count": null,
   "id": "c8730cfa",
   "metadata": {},
   "outputs": [],
   "source": [
    "st.stats.anova_lm(olsmodel2, type=2)"
   ]
  },
  {
   "cell_type": "code",
   "execution_count": null,
   "id": "cd17cb66",
   "metadata": {},
   "outputs": [],
   "source": [
    "from statsmodels.stats.multicomp import pairwise_tukeyhsd"
   ]
  },
  {
   "cell_type": "code",
   "execution_count": null,
   "id": "5b91a080",
   "metadata": {},
   "outputs": [],
   "source": [
    "tukeyhsd = pairwise_tukeyhsd(endog = df1['log_price'], groups = df1['color'], alpha = .05)"
   ]
  },
  {
   "cell_type": "code",
   "execution_count": null,
   "id": "5c3ca67e",
   "metadata": {},
   "outputs": [],
   "source": [
    "tukeyhsd.summary()\n",
    "# Reject Column\n",
    "##  True - Reject Ho in favour of Ha\n",
    "##  False - Accept Ho"
   ]
  },
  {
   "cell_type": "markdown",
   "id": "4f6cc9dc",
   "metadata": {},
   "source": [
    "## Ho\n",
    "-  Ho : No Difference in price due to colors only\n",
    "    -  D & E\n",
    "    -  F & G\n",
    "-  Rest have difference in prices due to colors"
   ]
  },
  {
   "cell_type": "code",
   "execution_count": null,
   "id": "02514e8c",
   "metadata": {},
   "outputs": [],
   "source": [
    "# add carat to the model\n",
    "df1 = df1.join(df['carat'])\n",
    "df1.head()"
   ]
  },
  {
   "cell_type": "code",
   "execution_count": null,
   "id": "adfb758f",
   "metadata": {},
   "outputs": [],
   "source": [
    "olsmodel3 = ols('log_price ~ C(color) + carat', df1).fit()\n",
    "olsmodel3.summary()"
   ]
  },
  {
   "cell_type": "code",
   "execution_count": null,
   "id": "adf0882c",
   "metadata": {},
   "outputs": [],
   "source": [
    "#ancova\n",
    "ancova_table = st.stats.anova_lm(olsmodel3, type=2)\n",
    "ancova_table"
   ]
  },
  {
   "cell_type": "code",
   "execution_count": null,
   "id": "369d05a9",
   "metadata": {},
   "outputs": [],
   "source": [
    "sns.lmplot(data = df1, x='carat', y='log_price', hue='color').set(title = 'ANCOVA plot with multiple covariates')"
   ]
  },
  {
   "cell_type": "code",
   "execution_count": null,
   "id": "8d381035",
   "metadata": {},
   "outputs": [],
   "source": [
    "#!pip install pingouin\n",
    "from pingouin import ancova"
   ]
  },
  {
   "cell_type": "code",
   "execution_count": null,
   "id": "da1206be",
   "metadata": {},
   "outputs": [],
   "source": [
    "ancova(data=df1, dv='log_price', covar='carat', between='color')"
   ]
  },
  {
   "cell_type": "markdown",
   "id": "f5f3a565",
   "metadata": {},
   "source": [
    "### Ancova summary\n",
    "-   p-unc (uncorrected) < .05,-> Reject Ho that each color results in same avg log_price even after controlling carat variable\n",
    "-   Conclude that color itself affect the price of diamong"
   ]
  },
  {
   "cell_type": "code",
   "execution_count": null,
   "id": "daa2db88",
   "metadata": {},
   "outputs": [],
   "source": [
    "df1.groupby('color')['log_price'].describe()"
   ]
  },
  {
   "cell_type": "code",
   "execution_count": null,
   "id": "7f442692",
   "metadata": {},
   "outputs": [],
   "source": [
    "df1.groupby('color')['carat'].describe()"
   ]
  },
  {
   "cell_type": "code",
   "execution_count": null,
   "id": "2883fbe6",
   "metadata": {},
   "outputs": [],
   "source": [
    "sns.boxplot(data=df1, x='color', y='carat')\n",
    "#outliers seen"
   ]
  },
  {
   "cell_type": "code",
   "execution_count": null,
   "id": "fc544794",
   "metadata": {},
   "outputs": [],
   "source": [
    "df1.carat.hist()"
   ]
  },
  {
   "cell_type": "code",
   "execution_count": null,
   "id": "18eb55ff",
   "metadata": {},
   "outputs": [],
   "source": [
    "# MANOVA\n",
    "from statsmodels.multivariate.manova import MANOVA\n",
    "fit = MANOVA.from_formula('log_price + carat ~ color', data =df1)\n",
    "print(fit.mv_test())"
   ]
  },
  {
   "cell_type": "code",
   "execution_count": null,
   "id": "d8129086",
   "metadata": {},
   "outputs": [],
   "source": [
    "# p value < .005 \n",
    "# strong association between color & caret + log_price "
   ]
  },
  {
   "cell_type": "code",
   "execution_count": null,
   "id": "1c037bd4",
   "metadata": {},
   "outputs": [],
   "source": [
    "from sklearn.discriminant_analysis import LinearDiscriminantAnalysis as lda"
   ]
  },
  {
   "cell_type": "code",
   "execution_count": null,
   "id": "f98c8388",
   "metadata": {},
   "outputs": [],
   "source": [
    "sampleDF1 = df1.sample(n=100, random_state=32190).reset_index()\n",
    "sampleDF1.shape"
   ]
  },
  {
   "cell_type": "code",
   "execution_count": null,
   "id": "83e0a7b5",
   "metadata": {},
   "outputs": [],
   "source": [
    "sampleDF1.head(2)"
   ]
  },
  {
   "cell_type": "code",
   "execution_count": null,
   "id": "0716c84f",
   "metadata": {},
   "outputs": [],
   "source": [
    "X = sampleDF1[['log_price', 'carat']]\n",
    "y = sampleDF1['color']\n",
    "X.shape, y.shape"
   ]
  },
  {
   "cell_type": "code",
   "execution_count": null,
   "id": "2544ca85",
   "metadata": {},
   "outputs": [],
   "source": [
    "sampleDF1.isnull().sum()"
   ]
  },
  {
   "cell_type": "code",
   "execution_count": null,
   "id": "d7acd3da",
   "metadata": {},
   "outputs": [],
   "source": [
    "X_ne = pd.DataFrame(lda().fit(X=X, y=y).transform(X), columns=['lda1', 'lda2'])"
   ]
  },
  {
   "cell_type": "code",
   "execution_count": null,
   "id": "7f212904",
   "metadata": {},
   "outputs": [],
   "source": [
    "X_ne.head()"
   ]
  },
  {
   "cell_type": "code",
   "execution_count": null,
   "id": "c657ad12",
   "metadata": {},
   "outputs": [],
   "source": [
    "X_ne['color'] = sampleDF1[['color']]\n",
    "X_ne.head(2)"
   ]
  },
  {
   "cell_type": "code",
   "execution_count": null,
   "id": "3b4de489",
   "metadata": {},
   "outputs": [],
   "source": [
    "sns.scatterplot(data= X_ne, x='lda1', y='lda2', hue='color')"
   ]
  },
  {
   "cell_type": "markdown",
   "id": "6126813e",
   "metadata": {},
   "source": [
    "# End here\n",
    "-  https://www.linkedin.com/feed/update/urn:li:activity:7088692799499362304/"
   ]
  }
 ],
 "metadata": {
  "kernelspec": {
   "display_name": "Python 3 (ipykernel)",
   "language": "python",
   "name": "python3"
  },
  "language_info": {
   "codemirror_mode": {
    "name": "ipython",
    "version": 3
   },
   "file_extension": ".py",
   "mimetype": "text/x-python",
   "name": "python",
   "nbconvert_exporter": "python",
   "pygments_lexer": "ipython3",
   "version": "3.10.9"
  }
 },
 "nbformat": 4,
 "nbformat_minor": 5
}
