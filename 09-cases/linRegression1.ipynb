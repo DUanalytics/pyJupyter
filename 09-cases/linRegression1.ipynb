{
 "cells": [
  {
   "cell_type": "code",
   "execution_count": null,
   "id": "1de29cca-f36e-4eff-bf97-638e5afa98f2",
   "metadata": {},
   "outputs": [],
   "source": [
    "#Linear Regression\n",
    "https://github.com/khuyentran1401/Data-science/blob/master/statistics/patsy_example.ipynb"
   ]
  }
 ],
 "metadata": {
  "kernelspec": {
   "display_name": "Python 3 (ipykernel)",
   "language": "python",
   "name": "python3"
  },
  "language_info": {
   "codemirror_mode": {
    "name": "ipython",
    "version": 3
   },
   "file_extension": ".py",
   "mimetype": "text/x-python",
   "name": "python",
   "nbconvert_exporter": "python",
   "pygments_lexer": "ipython3",
   "version": "3.9.15"
  }
 },
 "nbformat": 4,
 "nbformat_minor": 5
}
