{
 "cells": [
  {
   "cell_type": "markdown",
   "id": "9f5a9cc5",
   "metadata": {},
   "source": [
    "# Student Data Case Study - Summary\n"
   ]
  },
  {
   "cell_type": "code",
   "execution_count": 1,
   "id": "7e38294e",
   "metadata": {},
   "outputs": [],
   "source": [
    "## Libraries"
   ]
  },
  {
   "cell_type": "code",
   "execution_count": 4,
   "id": "02ee093d",
   "metadata": {},
   "outputs": [],
   "source": [
    "import numpy as np\n",
    "import pandas as pd\n",
    "import matplotlib.pyplot as plt\n",
    "import datetime\n",
    "import seaborn as sns"
   ]
  },
  {
   "cell_type": "code",
   "execution_count": 5,
   "id": "8b152ea9",
   "metadata": {},
   "outputs": [],
   "source": [
    "## Import data"
   ]
  },
  {
   "cell_type": "code",
   "execution_count": 7,
   "id": "98a92de6",
   "metadata": {},
   "outputs": [
    {
     "name": "stdout",
     "output_type": "stream",
     "text": [
      "<class 'pandas.core.frame.DataFrame'>\n",
      "RangeIndex: 100 entries, 0 to 99\n",
      "Data columns (total 12 columns):\n",
      " #   Column  Non-Null Count  Dtype \n",
      "---  ------  --------------  ----- \n",
      " 0   rollno  100 non-null    int64 \n",
      " 1   name    100 non-null    object\n",
      " 2   dob     100 non-null    object\n",
      " 3   gender  100 non-null    object\n",
      " 4   course  100 non-null    object\n",
      " 5   batch   100 non-null    int64 \n",
      " 6   EXCEL   100 non-null    int64 \n",
      " 7   MATHS   100 non-null    int64 \n",
      " 8   PYTHON  100 non-null    int64 \n",
      " 9   RPGM    100 non-null    int64 \n",
      " 10  STATS   100 non-null    int64 \n",
      " 11  age     100 non-null    int64 \n",
      "dtypes: int64(8), object(4)\n",
      "memory usage: 9.5+ KB\n",
      "   rollno name         dob gender course  batch  EXCEL  MATHS  PYTHON  RPGM  \\\n",
      "0       1  XYZ  1994-01-01      M  BSCDS   2016     87     92      79    42   \n",
      "1       2  XYZ  1994-01-08      M  BSCDS   2017     96    102      89    77   \n",
      "2       3  XYZ  1994-01-15      M  BSCDS   2016     87    133      89    61   \n",
      "3       4  XYZ  1994-01-22      M  BSCDS   2017     90     82      71    67   \n",
      "4       5  XYZ  1994-01-29      F  BSCDS   2016     63    102      83    51   \n",
      "\n",
      "   STATS  age  \n",
      "0     92   23  \n",
      "1    104   23  \n",
      "2     99   23  \n",
      "3    100   23  \n",
      "4    108   23  \n"
     ]
    }
   ],
   "source": [
    "url = 'https://raw.githubusercontent.com/DUanalytics/datasets/master/csv/studentdata.csv'\n",
    "student = pd.read_csv(url)\n",
    "student.info()\n",
    "print(student.head())"
   ]
  },
  {
   "cell_type": "code",
   "execution_count": 18,
   "id": "5d505417",
   "metadata": {},
   "outputs": [
    {
     "name": "stdout",
     "output_type": "stream",
     "text": [
      "91\n",
      "135\n",
      "STATS      9.504592\n",
      "PYTHON    10.897131\n",
      "dtype: float64\n"
     ]
    },
    {
     "data": {
      "text/html": [
       "<div>\n",
       "<style scoped>\n",
       "    .dataframe tbody tr th:only-of-type {\n",
       "        vertical-align: middle;\n",
       "    }\n",
       "\n",
       "    .dataframe tbody tr th {\n",
       "        vertical-align: top;\n",
       "    }\n",
       "\n",
       "    .dataframe thead th {\n",
       "        text-align: right;\n",
       "    }\n",
       "</style>\n",
       "<table border=\"1\" class=\"dataframe\">\n",
       "  <thead>\n",
       "    <tr style=\"text-align: right;\">\n",
       "      <th></th>\n",
       "      <th>PYTHON</th>\n",
       "      <th>STATS</th>\n",
       "    </tr>\n",
       "  </thead>\n",
       "  <tbody>\n",
       "    <tr>\n",
       "      <th>mean</th>\n",
       "      <td>75.4</td>\n",
       "      <td>110.81</td>\n",
       "    </tr>\n",
       "    <tr>\n",
       "      <th>median</th>\n",
       "      <td>75.5</td>\n",
       "      <td>110.00</td>\n",
       "    </tr>\n",
       "    <tr>\n",
       "      <th>max</th>\n",
       "      <td>107.0</td>\n",
       "      <td>135.00</td>\n",
       "    </tr>\n",
       "  </tbody>\n",
       "</table>\n",
       "</div>"
      ],
      "text/plain": [
       "        PYTHON   STATS\n",
       "mean      75.4  110.81\n",
       "median    75.5  110.00\n",
       "max      107.0  135.00"
      ]
     },
     "execution_count": 18,
     "metadata": {},
     "output_type": "execute_result"
    }
   ],
   "source": [
    "# 1 column, 1 stats\n",
    "print(student['STATS'].min())\n",
    "print(student['STATS'].max())\n",
    "# mean(), std(), var()\n",
    "# 2 columns, 1 stats\n",
    "print(student[['STATS','PYTHON']].std())\n",
    "\n",
    "# 2 columns, 3 stats\n",
    "student[[\"PYTHON\", 'STATS']].apply( { \"PYTHON\" : [\"mean\",\"median\",\"max\"],\n",
    "                                     \"STATS\" : [\"mean\",\"median\",\"max\"]  })"
   ]
  },
  {
   "cell_type": "markdown",
   "id": "381e7038",
   "metadata": {},
   "source": [
    "## Group by\n"
   ]
  },
  {
   "cell_type": "code",
   "execution_count": 20,
   "id": "17ae881d",
   "metadata": {},
   "outputs": [
    {
     "data": {
      "text/plain": [
       "<pandas.core.groupby.generic.DataFrameGroupBy object at 0x000001B1153F74C0>"
      ]
     },
     "execution_count": 20,
     "metadata": {},
     "output_type": "execute_result"
    }
   ],
   "source": [
    "student.groupby('gender')"
   ]
  },
  {
   "cell_type": "code",
   "execution_count": 23,
   "id": "c5a9f8e3",
   "metadata": {},
   "outputs": [
    {
     "data": {
      "text/plain": [
       "{'F': [4, 13, 15, 25, 27, 28, 38, 39, 59, 60, 71, 80, 85, 89, 91], 'M': [0, 1, 2, 3, 5, 6, 7, 8, 9, 10, 11, 12, 14, 16, 17, 18, 19, 20, 21, 22, 23, 24, 26, 29, 30, 31, 32, 33, 34, 35, 36, 37, 40, 41, 42, 43, 44, 45, 46, 47, 48, 49, 50, 51, 52, 53, 54, 55, 56, 57, 58, 61, 62, 63, 64, 65, 66, 67, 68, 69, 70, 72, 73, 74, 75, 76, 77, 78, 79, 81, 82, 83, 84, 86, 87, 88, 90, 92, 93, 94, 95, 96, 97, 98, 99]}"
      ]
     },
     "execution_count": 23,
     "metadata": {},
     "output_type": "execute_result"
    }
   ],
   "source": [
    "student.groupby('gender').groups"
   ]
  },
  {
   "cell_type": "code",
   "execution_count": 24,
   "id": "b466bbc4",
   "metadata": {},
   "outputs": [
    {
     "data": {
      "text/html": [
       "<div>\n",
       "<style scoped>\n",
       "    .dataframe tbody tr th:only-of-type {\n",
       "        vertical-align: middle;\n",
       "    }\n",
       "\n",
       "    .dataframe tbody tr th {\n",
       "        vertical-align: top;\n",
       "    }\n",
       "\n",
       "    .dataframe thead th {\n",
       "        text-align: right;\n",
       "    }\n",
       "</style>\n",
       "<table border=\"1\" class=\"dataframe\">\n",
       "  <thead>\n",
       "    <tr style=\"text-align: right;\">\n",
       "      <th></th>\n",
       "      <th>rollno</th>\n",
       "      <th>name</th>\n",
       "      <th>dob</th>\n",
       "      <th>gender</th>\n",
       "      <th>course</th>\n",
       "      <th>batch</th>\n",
       "      <th>EXCEL</th>\n",
       "      <th>MATHS</th>\n",
       "      <th>PYTHON</th>\n",
       "      <th>RPGM</th>\n",
       "      <th>STATS</th>\n",
       "      <th>age</th>\n",
       "    </tr>\n",
       "  </thead>\n",
       "  <tbody>\n",
       "    <tr>\n",
       "      <th>0</th>\n",
       "      <td>1</td>\n",
       "      <td>XYZ</td>\n",
       "      <td>1994-01-01</td>\n",
       "      <td>M</td>\n",
       "      <td>BSCDS</td>\n",
       "      <td>2016</td>\n",
       "      <td>87</td>\n",
       "      <td>92</td>\n",
       "      <td>79</td>\n",
       "      <td>42</td>\n",
       "      <td>92</td>\n",
       "      <td>23</td>\n",
       "    </tr>\n",
       "    <tr>\n",
       "      <th>1</th>\n",
       "      <td>2</td>\n",
       "      <td>XYZ</td>\n",
       "      <td>1994-01-08</td>\n",
       "      <td>M</td>\n",
       "      <td>BSCDS</td>\n",
       "      <td>2017</td>\n",
       "      <td>96</td>\n",
       "      <td>102</td>\n",
       "      <td>89</td>\n",
       "      <td>77</td>\n",
       "      <td>104</td>\n",
       "      <td>23</td>\n",
       "    </tr>\n",
       "    <tr>\n",
       "      <th>2</th>\n",
       "      <td>3</td>\n",
       "      <td>XYZ</td>\n",
       "      <td>1994-01-15</td>\n",
       "      <td>M</td>\n",
       "      <td>BSCDS</td>\n",
       "      <td>2016</td>\n",
       "      <td>87</td>\n",
       "      <td>133</td>\n",
       "      <td>89</td>\n",
       "      <td>61</td>\n",
       "      <td>99</td>\n",
       "      <td>23</td>\n",
       "    </tr>\n",
       "    <tr>\n",
       "      <th>3</th>\n",
       "      <td>4</td>\n",
       "      <td>XYZ</td>\n",
       "      <td>1994-01-22</td>\n",
       "      <td>M</td>\n",
       "      <td>BSCDS</td>\n",
       "      <td>2017</td>\n",
       "      <td>90</td>\n",
       "      <td>82</td>\n",
       "      <td>71</td>\n",
       "      <td>67</td>\n",
       "      <td>100</td>\n",
       "      <td>23</td>\n",
       "    </tr>\n",
       "    <tr>\n",
       "      <th>5</th>\n",
       "      <td>6</td>\n",
       "      <td>XYZ</td>\n",
       "      <td>1994-02-05</td>\n",
       "      <td>M</td>\n",
       "      <td>BSCDS</td>\n",
       "      <td>2017</td>\n",
       "      <td>74</td>\n",
       "      <td>127</td>\n",
       "      <td>68</td>\n",
       "      <td>77</td>\n",
       "      <td>116</td>\n",
       "      <td>23</td>\n",
       "    </tr>\n",
       "    <tr>\n",
       "      <th>...</th>\n",
       "      <td>...</td>\n",
       "      <td>...</td>\n",
       "      <td>...</td>\n",
       "      <td>...</td>\n",
       "      <td>...</td>\n",
       "      <td>...</td>\n",
       "      <td>...</td>\n",
       "      <td>...</td>\n",
       "      <td>...</td>\n",
       "      <td>...</td>\n",
       "      <td>...</td>\n",
       "      <td>...</td>\n",
       "    </tr>\n",
       "    <tr>\n",
       "      <th>95</th>\n",
       "      <td>96</td>\n",
       "      <td>XYZ</td>\n",
       "      <td>1995-10-28</td>\n",
       "      <td>M</td>\n",
       "      <td>BTCSDA</td>\n",
       "      <td>2017</td>\n",
       "      <td>97</td>\n",
       "      <td>105</td>\n",
       "      <td>64</td>\n",
       "      <td>87</td>\n",
       "      <td>114</td>\n",
       "      <td>21</td>\n",
       "    </tr>\n",
       "    <tr>\n",
       "      <th>96</th>\n",
       "      <td>97</td>\n",
       "      <td>XYZ</td>\n",
       "      <td>1995-11-04</td>\n",
       "      <td>M</td>\n",
       "      <td>BTCSDA</td>\n",
       "      <td>2016</td>\n",
       "      <td>69</td>\n",
       "      <td>127</td>\n",
       "      <td>57</td>\n",
       "      <td>73</td>\n",
       "      <td>127</td>\n",
       "      <td>21</td>\n",
       "    </tr>\n",
       "    <tr>\n",
       "      <th>97</th>\n",
       "      <td>98</td>\n",
       "      <td>XYZ</td>\n",
       "      <td>1995-11-11</td>\n",
       "      <td>M</td>\n",
       "      <td>BTCSDA</td>\n",
       "      <td>2017</td>\n",
       "      <td>45</td>\n",
       "      <td>108</td>\n",
       "      <td>77</td>\n",
       "      <td>65</td>\n",
       "      <td>113</td>\n",
       "      <td>21</td>\n",
       "    </tr>\n",
       "    <tr>\n",
       "      <th>98</th>\n",
       "      <td>99</td>\n",
       "      <td>XYZ</td>\n",
       "      <td>1995-11-18</td>\n",
       "      <td>M</td>\n",
       "      <td>BTCSDA</td>\n",
       "      <td>2016</td>\n",
       "      <td>73</td>\n",
       "      <td>105</td>\n",
       "      <td>81</td>\n",
       "      <td>74</td>\n",
       "      <td>115</td>\n",
       "      <td>21</td>\n",
       "    </tr>\n",
       "    <tr>\n",
       "      <th>99</th>\n",
       "      <td>100</td>\n",
       "      <td>XYZ</td>\n",
       "      <td>1995-11-25</td>\n",
       "      <td>M</td>\n",
       "      <td>BTCSDA</td>\n",
       "      <td>2017</td>\n",
       "      <td>72</td>\n",
       "      <td>105</td>\n",
       "      <td>81</td>\n",
       "      <td>95</td>\n",
       "      <td>113</td>\n",
       "      <td>21</td>\n",
       "    </tr>\n",
       "  </tbody>\n",
       "</table>\n",
       "<p>85 rows × 12 columns</p>\n",
       "</div>"
      ],
      "text/plain": [
       "    rollno name         dob gender  course  batch  EXCEL  MATHS  PYTHON  RPGM  \\\n",
       "0        1  XYZ  1994-01-01      M   BSCDS   2016     87     92      79    42   \n",
       "1        2  XYZ  1994-01-08      M   BSCDS   2017     96    102      89    77   \n",
       "2        3  XYZ  1994-01-15      M   BSCDS   2016     87    133      89    61   \n",
       "3        4  XYZ  1994-01-22      M   BSCDS   2017     90     82      71    67   \n",
       "5        6  XYZ  1994-02-05      M   BSCDS   2017     74    127      68    77   \n",
       "..     ...  ...         ...    ...     ...    ...    ...    ...     ...   ...   \n",
       "95      96  XYZ  1995-10-28      M  BTCSDA   2017     97    105      64    87   \n",
       "96      97  XYZ  1995-11-04      M  BTCSDA   2016     69    127      57    73   \n",
       "97      98  XYZ  1995-11-11      M  BTCSDA   2017     45    108      77    65   \n",
       "98      99  XYZ  1995-11-18      M  BTCSDA   2016     73    105      81    74   \n",
       "99     100  XYZ  1995-11-25      M  BTCSDA   2017     72    105      81    95   \n",
       "\n",
       "    STATS  age  \n",
       "0      92   23  \n",
       "1     104   23  \n",
       "2      99   23  \n",
       "3     100   23  \n",
       "5     116   23  \n",
       "..    ...  ...  \n",
       "95    114   21  \n",
       "96    127   21  \n",
       "97    113   21  \n",
       "98    115   21  \n",
       "99    113   21  \n",
       "\n",
       "[85 rows x 12 columns]"
      ]
     },
     "execution_count": 24,
     "metadata": {},
     "output_type": "execute_result"
    }
   ],
   "source": [
    "student.groupby('gender').get_group('M')"
   ]
  },
  {
   "cell_type": "code",
   "execution_count": 25,
   "id": "75bf3455",
   "metadata": {},
   "outputs": [],
   "source": [
    "# Groups\n",
    "genderGp = student.groupby('gender')"
   ]
  },
  {
   "cell_type": "code",
   "execution_count": 26,
   "id": "c4f9f465",
   "metadata": {},
   "outputs": [
    {
     "data": {
      "text/html": [
       "<div>\n",
       "<style scoped>\n",
       "    .dataframe tbody tr th:only-of-type {\n",
       "        vertical-align: middle;\n",
       "    }\n",
       "\n",
       "    .dataframe tbody tr th {\n",
       "        vertical-align: top;\n",
       "    }\n",
       "\n",
       "    .dataframe thead th {\n",
       "        text-align: right;\n",
       "    }\n",
       "</style>\n",
       "<table border=\"1\" class=\"dataframe\">\n",
       "  <thead>\n",
       "    <tr style=\"text-align: right;\">\n",
       "      <th></th>\n",
       "      <th>rollno</th>\n",
       "      <th>batch</th>\n",
       "      <th>EXCEL</th>\n",
       "      <th>MATHS</th>\n",
       "      <th>PYTHON</th>\n",
       "      <th>RPGM</th>\n",
       "      <th>STATS</th>\n",
       "      <th>age</th>\n",
       "    </tr>\n",
       "    <tr>\n",
       "      <th>gender</th>\n",
       "      <th></th>\n",
       "      <th></th>\n",
       "      <th></th>\n",
       "      <th></th>\n",
       "      <th></th>\n",
       "      <th></th>\n",
       "      <th></th>\n",
       "      <th></th>\n",
       "    </tr>\n",
       "  </thead>\n",
       "  <tbody>\n",
       "    <tr>\n",
       "      <th>F</th>\n",
       "      <td>739</td>\n",
       "      <td>30250</td>\n",
       "      <td>1144</td>\n",
       "      <td>1560</td>\n",
       "      <td>1174</td>\n",
       "      <td>1018</td>\n",
       "      <td>1642</td>\n",
       "      <td>329</td>\n",
       "    </tr>\n",
       "    <tr>\n",
       "      <th>M</th>\n",
       "      <td>4311</td>\n",
       "      <td>171400</td>\n",
       "      <td>6930</td>\n",
       "      <td>8709</td>\n",
       "      <td>6366</td>\n",
       "      <td>5901</td>\n",
       "      <td>9439</td>\n",
       "      <td>1871</td>\n",
       "    </tr>\n",
       "  </tbody>\n",
       "</table>\n",
       "</div>"
      ],
      "text/plain": [
       "        rollno   batch  EXCEL  MATHS  PYTHON  RPGM  STATS   age\n",
       "gender                                                         \n",
       "F          739   30250   1144   1560    1174  1018   1642   329\n",
       "M         4311  171400   6930   8709    6366  5901   9439  1871"
      ]
     },
     "execution_count": 26,
     "metadata": {},
     "output_type": "execute_result"
    }
   ],
   "source": [
    "genderGp.aggregate('sum')  #numeric cols"
   ]
  },
  {
   "cell_type": "code",
   "execution_count": 32,
   "id": "82d6d18d",
   "metadata": {},
   "outputs": [
    {
     "data": {
      "text/html": [
       "<div>\n",
       "<style scoped>\n",
       "    .dataframe tbody tr th:only-of-type {\n",
       "        vertical-align: middle;\n",
       "    }\n",
       "\n",
       "    .dataframe tbody tr th {\n",
       "        vertical-align: top;\n",
       "    }\n",
       "\n",
       "    .dataframe thead tr th {\n",
       "        text-align: left;\n",
       "    }\n",
       "\n",
       "    .dataframe thead tr:last-of-type th {\n",
       "        text-align: right;\n",
       "    }\n",
       "</style>\n",
       "<table border=\"1\" class=\"dataframe\">\n",
       "  <thead>\n",
       "    <tr>\n",
       "      <th></th>\n",
       "      <th colspan=\"2\" halign=\"left\">EXCEL</th>\n",
       "      <th colspan=\"2\" halign=\"left\">age</th>\n",
       "    </tr>\n",
       "    <tr>\n",
       "      <th></th>\n",
       "      <th>mean</th>\n",
       "      <th>sum</th>\n",
       "      <th>mean</th>\n",
       "      <th>sum</th>\n",
       "    </tr>\n",
       "    <tr>\n",
       "      <th>gender</th>\n",
       "      <th></th>\n",
       "      <th></th>\n",
       "      <th></th>\n",
       "      <th></th>\n",
       "    </tr>\n",
       "  </thead>\n",
       "  <tbody>\n",
       "    <tr>\n",
       "      <th>F</th>\n",
       "      <td>76.266667</td>\n",
       "      <td>1144</td>\n",
       "      <td>21.933333</td>\n",
       "      <td>329</td>\n",
       "    </tr>\n",
       "    <tr>\n",
       "      <th>M</th>\n",
       "      <td>81.529412</td>\n",
       "      <td>6930</td>\n",
       "      <td>22.011765</td>\n",
       "      <td>1871</td>\n",
       "    </tr>\n",
       "  </tbody>\n",
       "</table>\n",
       "</div>"
      ],
      "text/plain": [
       "            EXCEL              age      \n",
       "             mean   sum       mean   sum\n",
       "gender                                  \n",
       "F       76.266667  1144  21.933333   329\n",
       "M       81.529412  6930  22.011765  1871"
      ]
     },
     "execution_count": 32,
     "metadata": {},
     "output_type": "execute_result"
    }
   ],
   "source": [
    "genderGp[['EXCEL','age']].aggregate(['mean', 'sum'])\n"
   ]
  },
  {
   "cell_type": "code",
   "execution_count": 33,
   "id": "b71ec492",
   "metadata": {},
   "outputs": [
    {
     "data": {
      "text/html": [
       "<div>\n",
       "<style scoped>\n",
       "    .dataframe tbody tr th:only-of-type {\n",
       "        vertical-align: middle;\n",
       "    }\n",
       "\n",
       "    .dataframe tbody tr th {\n",
       "        vertical-align: top;\n",
       "    }\n",
       "\n",
       "    .dataframe thead th {\n",
       "        text-align: right;\n",
       "    }\n",
       "</style>\n",
       "<table border=\"1\" class=\"dataframe\">\n",
       "  <thead>\n",
       "    <tr style=\"text-align: right;\">\n",
       "      <th></th>\n",
       "      <th>EXCEL</th>\n",
       "      <th>age</th>\n",
       "    </tr>\n",
       "    <tr>\n",
       "      <th>gender</th>\n",
       "      <th></th>\n",
       "      <th></th>\n",
       "    </tr>\n",
       "  </thead>\n",
       "  <tbody>\n",
       "    <tr>\n",
       "      <th>F</th>\n",
       "      <td>1144</td>\n",
       "      <td>21.933333</td>\n",
       "    </tr>\n",
       "    <tr>\n",
       "      <th>M</th>\n",
       "      <td>6930</td>\n",
       "      <td>22.011765</td>\n",
       "    </tr>\n",
       "  </tbody>\n",
       "</table>\n",
       "</div>"
      ],
      "text/plain": [
       "        EXCEL        age\n",
       "gender                  \n",
       "F        1144  21.933333\n",
       "M        6930  22.011765"
      ]
     },
     "execution_count": 33,
     "metadata": {},
     "output_type": "execute_result"
    }
   ],
   "source": [
    "genderGp.aggregate({'EXCEL': 'sum', 'age': 'mean'})"
   ]
  },
  {
   "cell_type": "code",
   "execution_count": 27,
   "id": "b175a1f9",
   "metadata": {},
   "outputs": [
    {
     "data": {
      "text/html": [
       "<div>\n",
       "<style scoped>\n",
       "    .dataframe tbody tr th:only-of-type {\n",
       "        vertical-align: middle;\n",
       "    }\n",
       "\n",
       "    .dataframe tbody tr th {\n",
       "        vertical-align: top;\n",
       "    }\n",
       "\n",
       "    .dataframe thead th {\n",
       "        text-align: right;\n",
       "    }\n",
       "</style>\n",
       "<table border=\"1\" class=\"dataframe\">\n",
       "  <thead>\n",
       "    <tr style=\"text-align: right;\">\n",
       "      <th></th>\n",
       "      <th>rollno</th>\n",
       "      <th>name</th>\n",
       "      <th>dob</th>\n",
       "      <th>course</th>\n",
       "      <th>batch</th>\n",
       "      <th>EXCEL</th>\n",
       "      <th>MATHS</th>\n",
       "      <th>PYTHON</th>\n",
       "      <th>RPGM</th>\n",
       "      <th>STATS</th>\n",
       "      <th>age</th>\n",
       "    </tr>\n",
       "    <tr>\n",
       "      <th>gender</th>\n",
       "      <th></th>\n",
       "      <th></th>\n",
       "      <th></th>\n",
       "      <th></th>\n",
       "      <th></th>\n",
       "      <th></th>\n",
       "      <th></th>\n",
       "      <th></th>\n",
       "      <th></th>\n",
       "      <th></th>\n",
       "      <th></th>\n",
       "    </tr>\n",
       "  </thead>\n",
       "  <tbody>\n",
       "    <tr>\n",
       "      <th>F</th>\n",
       "      <td>5</td>\n",
       "      <td>XYZ</td>\n",
       "      <td>1994-01-29</td>\n",
       "      <td>BSCDS</td>\n",
       "      <td>2016</td>\n",
       "      <td>63</td>\n",
       "      <td>102</td>\n",
       "      <td>83</td>\n",
       "      <td>51</td>\n",
       "      <td>108</td>\n",
       "      <td>23</td>\n",
       "    </tr>\n",
       "    <tr>\n",
       "      <th>M</th>\n",
       "      <td>1</td>\n",
       "      <td>XYZ</td>\n",
       "      <td>1994-01-01</td>\n",
       "      <td>BSCDS</td>\n",
       "      <td>2016</td>\n",
       "      <td>87</td>\n",
       "      <td>92</td>\n",
       "      <td>79</td>\n",
       "      <td>42</td>\n",
       "      <td>92</td>\n",
       "      <td>23</td>\n",
       "    </tr>\n",
       "  </tbody>\n",
       "</table>\n",
       "</div>"
      ],
      "text/plain": [
       "        rollno name         dob course  batch  EXCEL  MATHS  PYTHON  RPGM  \\\n",
       "gender                                                                      \n",
       "F            5  XYZ  1994-01-29  BSCDS   2016     63    102      83    51   \n",
       "M            1  XYZ  1994-01-01  BSCDS   2016     87     92      79    42   \n",
       "\n",
       "        STATS  age  \n",
       "gender              \n",
       "F         108   23  \n",
       "M          92   23  "
      ]
     },
     "execution_count": 27,
     "metadata": {},
     "output_type": "execute_result"
    }
   ],
   "source": []
  },
  {
   "cell_type": "code",
   "execution_count": null,
   "id": "0fd4640c",
   "metadata": {},
   "outputs": [],
   "source": []
  },
  {
   "cell_type": "code",
   "execution_count": 12,
   "id": "492f270c",
   "metadata": {},
   "outputs": [
    {
     "name": "stdout",
     "output_type": "stream",
     "text": [
      "gender\n",
      "F    15\n",
      "M    85\n",
      "Name: STATS, dtype: int64\n"
     ]
    }
   ],
   "source": [
    "print(student.groupby('gender')['STATS'].count())"
   ]
  },
  {
   "cell_type": "code",
   "execution_count": 11,
   "id": "cf4c34af",
   "metadata": {},
   "outputs": [
    {
     "data": {
      "text/html": [
       "<div>\n",
       "<style scoped>\n",
       "    .dataframe tbody tr th:only-of-type {\n",
       "        vertical-align: middle;\n",
       "    }\n",
       "\n",
       "    .dataframe tbody tr th {\n",
       "        vertical-align: top;\n",
       "    }\n",
       "\n",
       "    .dataframe thead th {\n",
       "        text-align: right;\n",
       "    }\n",
       "</style>\n",
       "<table border=\"1\" class=\"dataframe\">\n",
       "  <thead>\n",
       "    <tr style=\"text-align: right;\">\n",
       "      <th></th>\n",
       "      <th>PYTHON</th>\n",
       "      <th>STATS</th>\n",
       "    </tr>\n",
       "  </thead>\n",
       "  <tbody>\n",
       "    <tr>\n",
       "      <th>mean</th>\n",
       "      <td>75.4</td>\n",
       "      <td>110.81</td>\n",
       "    </tr>\n",
       "    <tr>\n",
       "      <th>median</th>\n",
       "      <td>75.5</td>\n",
       "      <td>110.00</td>\n",
       "    </tr>\n",
       "    <tr>\n",
       "      <th>max</th>\n",
       "      <td>107.0</td>\n",
       "      <td>135.00</td>\n",
       "    </tr>\n",
       "  </tbody>\n",
       "</table>\n",
       "</div>"
      ],
      "text/plain": [
       "        PYTHON   STATS\n",
       "mean      75.4  110.81\n",
       "median    75.5  110.00\n",
       "max      107.0  135.00"
      ]
     },
     "execution_count": 11,
     "metadata": {},
     "output_type": "execute_result"
    }
   ],
   "source": [
    "student[[\"PYTHON\", 'STATS']].apply(\n",
    "{ \"PYTHON\" : [\"mean\",\"median\",\"max\"],\n",
    "  \"STATS\" : [\"mean\",\"median\",\"max\"]    \n",
    "})"
   ]
  },
  {
   "cell_type": "markdown",
   "id": "82cfcfe6",
   "metadata": {},
   "source": [
    "## First N items "
   ]
  },
  {
   "cell_type": "code",
   "execution_count": 35,
   "id": "d933d9ce",
   "metadata": {},
   "outputs": [
    {
     "data": {
      "text/html": [
       "<div>\n",
       "<style scoped>\n",
       "    .dataframe tbody tr th:only-of-type {\n",
       "        vertical-align: middle;\n",
       "    }\n",
       "\n",
       "    .dataframe tbody tr th {\n",
       "        vertical-align: top;\n",
       "    }\n",
       "\n",
       "    .dataframe thead th {\n",
       "        text-align: right;\n",
       "    }\n",
       "</style>\n",
       "<table border=\"1\" class=\"dataframe\">\n",
       "  <thead>\n",
       "    <tr style=\"text-align: right;\">\n",
       "      <th></th>\n",
       "      <th>rollno</th>\n",
       "      <th>name</th>\n",
       "      <th>dob</th>\n",
       "      <th>course</th>\n",
       "      <th>batch</th>\n",
       "      <th>EXCEL</th>\n",
       "      <th>MATHS</th>\n",
       "      <th>PYTHON</th>\n",
       "      <th>RPGM</th>\n",
       "      <th>STATS</th>\n",
       "      <th>age</th>\n",
       "    </tr>\n",
       "    <tr>\n",
       "      <th>gender</th>\n",
       "      <th></th>\n",
       "      <th></th>\n",
       "      <th></th>\n",
       "      <th></th>\n",
       "      <th></th>\n",
       "      <th></th>\n",
       "      <th></th>\n",
       "      <th></th>\n",
       "      <th></th>\n",
       "      <th></th>\n",
       "      <th></th>\n",
       "    </tr>\n",
       "  </thead>\n",
       "  <tbody>\n",
       "    <tr>\n",
       "      <th>F</th>\n",
       "      <td>5</td>\n",
       "      <td>XYZ</td>\n",
       "      <td>1994-01-29</td>\n",
       "      <td>BSCDS</td>\n",
       "      <td>2016</td>\n",
       "      <td>63</td>\n",
       "      <td>102</td>\n",
       "      <td>83</td>\n",
       "      <td>51</td>\n",
       "      <td>108</td>\n",
       "      <td>23</td>\n",
       "    </tr>\n",
       "    <tr>\n",
       "      <th>M</th>\n",
       "      <td>1</td>\n",
       "      <td>XYZ</td>\n",
       "      <td>1994-01-01</td>\n",
       "      <td>BSCDS</td>\n",
       "      <td>2016</td>\n",
       "      <td>87</td>\n",
       "      <td>92</td>\n",
       "      <td>79</td>\n",
       "      <td>42</td>\n",
       "      <td>92</td>\n",
       "      <td>23</td>\n",
       "    </tr>\n",
       "  </tbody>\n",
       "</table>\n",
       "</div>"
      ],
      "text/plain": [
       "        rollno name         dob course  batch  EXCEL  MATHS  PYTHON  RPGM  \\\n",
       "gender                                                                      \n",
       "F            5  XYZ  1994-01-29  BSCDS   2016     63    102      83    51   \n",
       "M            1  XYZ  1994-01-01  BSCDS   2016     87     92      79    42   \n",
       "\n",
       "        STATS  age  \n",
       "gender              \n",
       "F         108   23  \n",
       "M          92   23  "
      ]
     },
     "execution_count": 35,
     "metadata": {},
     "output_type": "execute_result"
    }
   ],
   "source": [
    "# first n items in the group\n",
    "genderGp.first()   #first row in each group, no order, as per occurance"
   ]
  },
  {
   "cell_type": "code",
   "execution_count": 42,
   "id": "6f7cae22",
   "metadata": {},
   "outputs": [],
   "source": [
    "# groupby\n",
    "#df.sort_values('B').groupby('A').first()"
   ]
  },
  {
   "cell_type": "code",
   "execution_count": null,
   "id": "9f76a760",
   "metadata": {},
   "outputs": [],
   "source": [
    "# To get the full row, including missing values, is to use nth(0)\n",
    "#df.sort_values('B').groupby('A').nth(0)"
   ]
  },
  {
   "cell_type": "code",
   "execution_count": null,
   "id": "e20c7ad5",
   "metadata": {},
   "outputs": [],
   "source": [
    "#df.sort_values('B', ascending=True).drop_duplicates('A', keep='first')\n",
    "#sort method and then keep the first value using .drop_duplicates() with its keep argument set to 'first' (default). \n",
    "#This approach has the benefit that it keeps your index."
   ]
  },
  {
   "cell_type": "code",
   "execution_count": 40,
   "id": "550c1fc9",
   "metadata": {},
   "outputs": [
    {
     "data": {
      "text/plain": [
       "0     75.0\n",
       "1     75.0\n",
       "2     75.0\n",
       "3     75.0\n",
       "4     14.0\n",
       "      ... \n",
       "95    10.5\n",
       "96    10.5\n",
       "97    10.5\n",
       "98    10.5\n",
       "99    10.5\n",
       "Name: age, Length: 100, dtype: float64"
      ]
     },
     "execution_count": 40,
     "metadata": {},
     "output_type": "execute_result"
    }
   ],
   "source": [
    "#if you want order to be preserved\n",
    "#student.groupby(['gender', 'batch'], sort=True).agg({'age': 'mean'})\n",
    "student.groupby('gender')['age'].rank()\n",
    "#student[ student.groupby('gender')['age'].rank() == 2 ]"
   ]
  },
  {
   "cell_type": "markdown",
   "id": "316284d5",
   "metadata": {},
   "source": [
    "## Rank"
   ]
  },
  {
   "cell_type": "code",
   "execution_count": null,
   "id": "b746dfa7",
   "metadata": {},
   "outputs": [],
   "source": [
    "df[ df.groupby('A')['B'].rank(method='average') == 1 ]   # the default\n",
    "df[ df.groupby('A')['B'].rank(method='min')     == 1 ]\n",
    "df[ df.groupby('A')['B'].rank(method='first')   == 1 ]  "
   ]
  },
  {
   "cell_type": "markdown",
   "id": "0df23466",
   "metadata": {},
   "source": [
    "## Duplicates"
   ]
  },
  {
   "cell_type": "code",
   "execution_count": null,
   "id": "ea566739",
   "metadata": {},
   "outputs": [],
   "source": []
  },
  {
   "cell_type": "code",
   "execution_count": null,
   "id": "ef65d63d",
   "metadata": {},
   "outputs": [],
   "source": [
    "df.drop_duplicates(subset='A')"
   ]
  },
  {
   "cell_type": "markdown",
   "id": "f2aef421",
   "metadata": {},
   "source": [
    "## Sort"
   ]
  },
  {
   "cell_type": "code",
   "execution_count": null,
   "id": "cb914e5a",
   "metadata": {},
   "outputs": [],
   "source": [
    "df.sort('A', inplace=True)"
   ]
  },
  {
   "cell_type": "markdown",
   "id": "2d4bb012",
   "metadata": {},
   "source": [
    "## Column Order\n",
    "https://sparkbyexamples.com/pandas/pandas-change-the-order-of-columns/"
   ]
  },
  {
   "cell_type": "code",
   "execution_count": null,
   "id": "bbf53a5e",
   "metadata": {},
   "outputs": [],
   "source": [
    "#change_column = ['P','Q','R','S']\n",
    "#df = df.reindex(columns=change_column)"
   ]
  },
  {
   "cell_type": "markdown",
   "id": "b842fde6",
   "metadata": {},
   "source": [
    "## Group by: split-apply-combine\n",
    "https://pandas.pydata.org/docs/user_guide/groupby.html"
   ]
  }
 ],
 "metadata": {
  "kernelspec": {
   "display_name": "Python 3 (ipykernel)",
   "language": "python",
   "name": "python3"
  },
  "language_info": {
   "codemirror_mode": {
    "name": "ipython",
    "version": 3
   },
   "file_extension": ".py",
   "mimetype": "text/x-python",
   "name": "python",
   "nbconvert_exporter": "python",
   "pygments_lexer": "ipython3",
   "version": "3.9.12"
  }
 },
 "nbformat": 4,
 "nbformat_minor": 5
}
