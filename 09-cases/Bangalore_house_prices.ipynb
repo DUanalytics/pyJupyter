{
 "cells": [
  {
   "cell_type": "code",
   "execution_count": 3,
   "id": "smoking-template",
   "metadata": {},
   "outputs": [],
   "source": [
    "import pandas as pd\n",
    "import numpy as np\n",
    "from matplotlib import pyplot as plt"
   ]
  },
  {
   "cell_type": "markdown",
   "id": "f92712a2",
   "metadata": {},
   "source": [
    "https://www.kaggle.com/datasets/amitabhajoy/bengaluru-house-price-data"
   ]
  },
  {
   "cell_type": "code",
   "execution_count": 11,
   "id": "advanced-dublin",
   "metadata": {},
   "outputs": [
    {
     "data": {
      "text/html": [
       "<div>\n",
       "<style scoped>\n",
       "    .dataframe tbody tr th:only-of-type {\n",
       "        vertical-align: middle;\n",
       "    }\n",
       "\n",
       "    .dataframe tbody tr th {\n",
       "        vertical-align: top;\n",
       "    }\n",
       "\n",
       "    .dataframe thead th {\n",
       "        text-align: right;\n",
       "    }\n",
       "</style>\n",
       "<table border=\"1\" class=\"dataframe\">\n",
       "  <thead>\n",
       "    <tr style=\"text-align: right;\">\n",
       "      <th></th>\n",
       "      <th>area_type</th>\n",
       "      <th>availability</th>\n",
       "      <th>location</th>\n",
       "      <th>size</th>\n",
       "      <th>society</th>\n",
       "      <th>total_sqft</th>\n",
       "      <th>bath</th>\n",
       "      <th>balcony</th>\n",
       "      <th>price</th>\n",
       "    </tr>\n",
       "  </thead>\n",
       "  <tbody>\n",
       "    <tr>\n",
       "      <th>0</th>\n",
       "      <td>Super built-up  Area</td>\n",
       "      <td>19-Dec</td>\n",
       "      <td>Electronic City Phase II</td>\n",
       "      <td>2 BHK</td>\n",
       "      <td>Coomee</td>\n",
       "      <td>1056</td>\n",
       "      <td>2.0</td>\n",
       "      <td>1.0</td>\n",
       "      <td>39.07</td>\n",
       "    </tr>\n",
       "    <tr>\n",
       "      <th>1</th>\n",
       "      <td>Plot  Area</td>\n",
       "      <td>Ready To Move</td>\n",
       "      <td>Chikka Tirupathi</td>\n",
       "      <td>4 Bedroom</td>\n",
       "      <td>Theanmp</td>\n",
       "      <td>2600</td>\n",
       "      <td>5.0</td>\n",
       "      <td>3.0</td>\n",
       "      <td>120.00</td>\n",
       "    </tr>\n",
       "    <tr>\n",
       "      <th>2</th>\n",
       "      <td>Built-up  Area</td>\n",
       "      <td>Ready To Move</td>\n",
       "      <td>Uttarahalli</td>\n",
       "      <td>3 BHK</td>\n",
       "      <td>NaN</td>\n",
       "      <td>1440</td>\n",
       "      <td>2.0</td>\n",
       "      <td>3.0</td>\n",
       "      <td>62.00</td>\n",
       "    </tr>\n",
       "    <tr>\n",
       "      <th>3</th>\n",
       "      <td>Super built-up  Area</td>\n",
       "      <td>Ready To Move</td>\n",
       "      <td>Lingadheeranahalli</td>\n",
       "      <td>3 BHK</td>\n",
       "      <td>Soiewre</td>\n",
       "      <td>1521</td>\n",
       "      <td>3.0</td>\n",
       "      <td>1.0</td>\n",
       "      <td>95.00</td>\n",
       "    </tr>\n",
       "    <tr>\n",
       "      <th>4</th>\n",
       "      <td>Super built-up  Area</td>\n",
       "      <td>Ready To Move</td>\n",
       "      <td>Kothanur</td>\n",
       "      <td>2 BHK</td>\n",
       "      <td>NaN</td>\n",
       "      <td>1200</td>\n",
       "      <td>2.0</td>\n",
       "      <td>1.0</td>\n",
       "      <td>51.00</td>\n",
       "    </tr>\n",
       "  </tbody>\n",
       "</table>\n",
       "</div>"
      ],
      "text/plain": [
       "              area_type   availability                  location       size  \\\n",
       "0  Super built-up  Area         19-Dec  Electronic City Phase II      2 BHK   \n",
       "1            Plot  Area  Ready To Move          Chikka Tirupathi  4 Bedroom   \n",
       "2        Built-up  Area  Ready To Move               Uttarahalli      3 BHK   \n",
       "3  Super built-up  Area  Ready To Move        Lingadheeranahalli      3 BHK   \n",
       "4  Super built-up  Area  Ready To Move                  Kothanur      2 BHK   \n",
       "\n",
       "   society total_sqft  bath  balcony   price  \n",
       "0  Coomee        1056   2.0      1.0   39.07  \n",
       "1  Theanmp       2600   5.0      3.0  120.00  \n",
       "2      NaN       1440   2.0      3.0   62.00  \n",
       "3  Soiewre       1521   3.0      1.0   95.00  \n",
       "4      NaN       1200   2.0      1.0   51.00  "
      ]
     },
     "execution_count": 11,
     "metadata": {},
     "output_type": "execute_result"
    }
   ],
   "source": [
    "df=pd.read_csv('D:/HHE/data/Bengaluru_House_Data.csv')\n",
    "df.head()"
   ]
  },
  {
   "cell_type": "code",
   "execution_count": 12,
   "id": "quick-advocacy",
   "metadata": {},
   "outputs": [
    {
     "data": {
      "text/plain": [
       "area_type          0\n",
       "availability       0\n",
       "location           1\n",
       "size              16\n",
       "society         5502\n",
       "total_sqft         0\n",
       "bath              73\n",
       "balcony          609\n",
       "price              0\n",
       "dtype: int64"
      ]
     },
     "execution_count": 12,
     "metadata": {},
     "output_type": "execute_result"
    }
   ],
   "source": [
    "df.isna().sum()"
   ]
  },
  {
   "cell_type": "code",
   "execution_count": 15,
   "id": "enhanced-parliament",
   "metadata": {},
   "outputs": [
    {
     "data": {
      "text/html": [
       "<div>\n",
       "<style scoped>\n",
       "    .dataframe tbody tr th:only-of-type {\n",
       "        vertical-align: middle;\n",
       "    }\n",
       "\n",
       "    .dataframe tbody tr th {\n",
       "        vertical-align: top;\n",
       "    }\n",
       "\n",
       "    .dataframe thead th {\n",
       "        text-align: right;\n",
       "    }\n",
       "</style>\n",
       "<table border=\"1\" class=\"dataframe\">\n",
       "  <thead>\n",
       "    <tr style=\"text-align: right;\">\n",
       "      <th></th>\n",
       "      <th>area_type</th>\n",
       "      <th>availability</th>\n",
       "      <th>location</th>\n",
       "      <th>size</th>\n",
       "      <th>society</th>\n",
       "      <th>total_sqft</th>\n",
       "      <th>bath</th>\n",
       "      <th>balcony</th>\n",
       "      <th>price</th>\n",
       "    </tr>\n",
       "  </thead>\n",
       "  <tbody>\n",
       "    <tr>\n",
       "      <th>0</th>\n",
       "      <td>Super built-up  Area</td>\n",
       "      <td>19-Dec</td>\n",
       "      <td>Electronic City Phase II</td>\n",
       "      <td>2 BHK</td>\n",
       "      <td>Coomee</td>\n",
       "      <td>1056</td>\n",
       "      <td>2.0</td>\n",
       "      <td>1.0</td>\n",
       "      <td>39.07</td>\n",
       "    </tr>\n",
       "    <tr>\n",
       "      <th>1</th>\n",
       "      <td>Plot  Area</td>\n",
       "      <td>Ready To Move</td>\n",
       "      <td>Chikka Tirupathi</td>\n",
       "      <td>4 Bedroom</td>\n",
       "      <td>Theanmp</td>\n",
       "      <td>2600</td>\n",
       "      <td>5.0</td>\n",
       "      <td>3.0</td>\n",
       "      <td>120.00</td>\n",
       "    </tr>\n",
       "    <tr>\n",
       "      <th>3</th>\n",
       "      <td>Super built-up  Area</td>\n",
       "      <td>Ready To Move</td>\n",
       "      <td>Lingadheeranahalli</td>\n",
       "      <td>3 BHK</td>\n",
       "      <td>Soiewre</td>\n",
       "      <td>1521</td>\n",
       "      <td>3.0</td>\n",
       "      <td>1.0</td>\n",
       "      <td>95.00</td>\n",
       "    </tr>\n",
       "    <tr>\n",
       "      <th>5</th>\n",
       "      <td>Super built-up  Area</td>\n",
       "      <td>Ready To Move</td>\n",
       "      <td>Whitefield</td>\n",
       "      <td>2 BHK</td>\n",
       "      <td>DuenaTa</td>\n",
       "      <td>1170</td>\n",
       "      <td>2.0</td>\n",
       "      <td>1.0</td>\n",
       "      <td>38.00</td>\n",
       "    </tr>\n",
       "    <tr>\n",
       "      <th>11</th>\n",
       "      <td>Plot  Area</td>\n",
       "      <td>Ready To Move</td>\n",
       "      <td>Whitefield</td>\n",
       "      <td>4 Bedroom</td>\n",
       "      <td>Prrry M</td>\n",
       "      <td>2785</td>\n",
       "      <td>5.0</td>\n",
       "      <td>3.0</td>\n",
       "      <td>295.00</td>\n",
       "    </tr>\n",
       "  </tbody>\n",
       "</table>\n",
       "</div>"
      ],
      "text/plain": [
       "               area_type   availability                  location       size  \\\n",
       "0   Super built-up  Area         19-Dec  Electronic City Phase II      2 BHK   \n",
       "1             Plot  Area  Ready To Move          Chikka Tirupathi  4 Bedroom   \n",
       "3   Super built-up  Area  Ready To Move        Lingadheeranahalli      3 BHK   \n",
       "5   Super built-up  Area  Ready To Move                Whitefield      2 BHK   \n",
       "11            Plot  Area  Ready To Move                Whitefield  4 Bedroom   \n",
       "\n",
       "    society total_sqft  bath  balcony   price  \n",
       "0   Coomee        1056   2.0      1.0   39.07  \n",
       "1   Theanmp       2600   5.0      3.0  120.00  \n",
       "3   Soiewre       1521   3.0      1.0   95.00  \n",
       "5   DuenaTa       1170   2.0      1.0   38.00  \n",
       "11  Prrry M       2785   5.0      3.0  295.00  "
      ]
     },
     "execution_count": 15,
     "metadata": {},
     "output_type": "execute_result"
    }
   ],
   "source": [
    "df.dropna(axis=0,inplace=True)\n",
    "df.head()"
   ]
  },
  {
   "cell_type": "code",
   "execution_count": 16,
   "id": "placed-observer",
   "metadata": {},
   "outputs": [
    {
     "data": {
      "text/plain": [
       "area_type       0\n",
       "availability    0\n",
       "location        0\n",
       "size            0\n",
       "society         0\n",
       "total_sqft      0\n",
       "bath            0\n",
       "balcony         0\n",
       "price           0\n",
       "dtype: int64"
      ]
     },
     "execution_count": 16,
     "metadata": {},
     "output_type": "execute_result"
    }
   ],
   "source": [
    "df.isna().sum()"
   ]
  },
  {
   "cell_type": "code",
   "execution_count": 17,
   "id": "minus-miniature",
   "metadata": {},
   "outputs": [
    {
     "data": {
      "text/plain": [
       "area_type\n",
       "Built-up  Area          1158\n",
       "Carpet  Area              52\n",
       "Plot  Area               269\n",
       "Super built-up  Area    6017\n",
       "Name: area_type, dtype: int64"
      ]
     },
     "execution_count": 17,
     "metadata": {},
     "output_type": "execute_result"
    }
   ],
   "source": [
    "df.groupby('area_type')['area_type'].agg('count')"
   ]
  },
  {
   "cell_type": "code",
   "execution_count": 18,
   "id": "raised-athens",
   "metadata": {},
   "outputs": [
    {
     "data": {
      "text/plain": [
       "(7496, 5)"
      ]
     },
     "execution_count": 18,
     "metadata": {},
     "output_type": "execute_result"
    }
   ],
   "source": [
    "df2 =df.drop(['area_type','availability','society','balcony'],axis='columns')\n",
    "df2.shape"
   ]
  },
  {
   "cell_type": "code",
   "execution_count": 20,
   "id": "silent-exposure",
   "metadata": {},
   "outputs": [
    {
     "data": {
      "text/html": [
       "<div>\n",
       "<style scoped>\n",
       "    .dataframe tbody tr th:only-of-type {\n",
       "        vertical-align: middle;\n",
       "    }\n",
       "\n",
       "    .dataframe tbody tr th {\n",
       "        vertical-align: top;\n",
       "    }\n",
       "\n",
       "    .dataframe thead th {\n",
       "        text-align: right;\n",
       "    }\n",
       "</style>\n",
       "<table border=\"1\" class=\"dataframe\">\n",
       "  <thead>\n",
       "    <tr style=\"text-align: right;\">\n",
       "      <th></th>\n",
       "      <th>location</th>\n",
       "      <th>size</th>\n",
       "      <th>total_sqft</th>\n",
       "      <th>bath</th>\n",
       "      <th>price</th>\n",
       "    </tr>\n",
       "  </thead>\n",
       "  <tbody>\n",
       "    <tr>\n",
       "      <th>0</th>\n",
       "      <td>Electronic City Phase II</td>\n",
       "      <td>2 BHK</td>\n",
       "      <td>1056</td>\n",
       "      <td>2.0</td>\n",
       "      <td>39.07</td>\n",
       "    </tr>\n",
       "    <tr>\n",
       "      <th>1</th>\n",
       "      <td>Chikka Tirupathi</td>\n",
       "      <td>4 Bedroom</td>\n",
       "      <td>2600</td>\n",
       "      <td>5.0</td>\n",
       "      <td>120.00</td>\n",
       "    </tr>\n",
       "    <tr>\n",
       "      <th>3</th>\n",
       "      <td>Lingadheeranahalli</td>\n",
       "      <td>3 BHK</td>\n",
       "      <td>1521</td>\n",
       "      <td>3.0</td>\n",
       "      <td>95.00</td>\n",
       "    </tr>\n",
       "    <tr>\n",
       "      <th>5</th>\n",
       "      <td>Whitefield</td>\n",
       "      <td>2 BHK</td>\n",
       "      <td>1170</td>\n",
       "      <td>2.0</td>\n",
       "      <td>38.00</td>\n",
       "    </tr>\n",
       "    <tr>\n",
       "      <th>11</th>\n",
       "      <td>Whitefield</td>\n",
       "      <td>4 Bedroom</td>\n",
       "      <td>2785</td>\n",
       "      <td>5.0</td>\n",
       "      <td>295.00</td>\n",
       "    </tr>\n",
       "  </tbody>\n",
       "</table>\n",
       "</div>"
      ],
      "text/plain": [
       "                    location       size total_sqft  bath   price\n",
       "0   Electronic City Phase II      2 BHK       1056   2.0   39.07\n",
       "1           Chikka Tirupathi  4 Bedroom       2600   5.0  120.00\n",
       "3         Lingadheeranahalli      3 BHK       1521   3.0   95.00\n",
       "5                 Whitefield      2 BHK       1170   2.0   38.00\n",
       "11                Whitefield  4 Bedroom       2785   5.0  295.00"
      ]
     },
     "execution_count": 20,
     "metadata": {},
     "output_type": "execute_result"
    }
   ],
   "source": [
    "df2.head()"
   ]
  },
  {
   "cell_type": "code",
   "execution_count": 21,
   "id": "filled-modern",
   "metadata": {},
   "outputs": [
    {
     "data": {
      "text/plain": [
       "array(['2 BHK', '4 Bedroom', '3 BHK', '3 Bedroom', '1 RK', '4 BHK',\n",
       "       '1 BHK', '5 BHK', '11 BHK', '5 Bedroom', '9 BHK', '2 Bedroom',\n",
       "       '6 BHK', '7 BHK', '6 Bedroom'], dtype=object)"
      ]
     },
     "execution_count": 21,
     "metadata": {},
     "output_type": "execute_result"
    }
   ],
   "source": [
    "df2['size'].unique()"
   ]
  },
  {
   "cell_type": "code",
   "execution_count": 22,
   "id": "muslim-helping",
   "metadata": {},
   "outputs": [],
   "source": [
    "df2['bhk']=df2['size'].apply(lambda x: int(x.split(' ')[0]))"
   ]
  },
  {
   "cell_type": "code",
   "execution_count": 24,
   "id": "curious-forty",
   "metadata": {},
   "outputs": [
    {
     "data": {
      "text/html": [
       "<div>\n",
       "<style scoped>\n",
       "    .dataframe tbody tr th:only-of-type {\n",
       "        vertical-align: middle;\n",
       "    }\n",
       "\n",
       "    .dataframe tbody tr th {\n",
       "        vertical-align: top;\n",
       "    }\n",
       "\n",
       "    .dataframe thead th {\n",
       "        text-align: right;\n",
       "    }\n",
       "</style>\n",
       "<table border=\"1\" class=\"dataframe\">\n",
       "  <thead>\n",
       "    <tr style=\"text-align: right;\">\n",
       "      <th></th>\n",
       "      <th>location</th>\n",
       "      <th>size</th>\n",
       "      <th>total_sqft</th>\n",
       "      <th>bath</th>\n",
       "      <th>price</th>\n",
       "      <th>bhk</th>\n",
       "    </tr>\n",
       "  </thead>\n",
       "  <tbody>\n",
       "    <tr>\n",
       "      <th>0</th>\n",
       "      <td>Electronic City Phase II</td>\n",
       "      <td>2 BHK</td>\n",
       "      <td>1056</td>\n",
       "      <td>2.0</td>\n",
       "      <td>39.07</td>\n",
       "      <td>2</td>\n",
       "    </tr>\n",
       "    <tr>\n",
       "      <th>1</th>\n",
       "      <td>Chikka Tirupathi</td>\n",
       "      <td>4 Bedroom</td>\n",
       "      <td>2600</td>\n",
       "      <td>5.0</td>\n",
       "      <td>120.00</td>\n",
       "      <td>4</td>\n",
       "    </tr>\n",
       "    <tr>\n",
       "      <th>3</th>\n",
       "      <td>Lingadheeranahalli</td>\n",
       "      <td>3 BHK</td>\n",
       "      <td>1521</td>\n",
       "      <td>3.0</td>\n",
       "      <td>95.00</td>\n",
       "      <td>3</td>\n",
       "    </tr>\n",
       "    <tr>\n",
       "      <th>5</th>\n",
       "      <td>Whitefield</td>\n",
       "      <td>2 BHK</td>\n",
       "      <td>1170</td>\n",
       "      <td>2.0</td>\n",
       "      <td>38.00</td>\n",
       "      <td>2</td>\n",
       "    </tr>\n",
       "    <tr>\n",
       "      <th>11</th>\n",
       "      <td>Whitefield</td>\n",
       "      <td>4 Bedroom</td>\n",
       "      <td>2785</td>\n",
       "      <td>5.0</td>\n",
       "      <td>295.00</td>\n",
       "      <td>4</td>\n",
       "    </tr>\n",
       "  </tbody>\n",
       "</table>\n",
       "</div>"
      ],
      "text/plain": [
       "                    location       size total_sqft  bath   price  bhk\n",
       "0   Electronic City Phase II      2 BHK       1056   2.0   39.07    2\n",
       "1           Chikka Tirupathi  4 Bedroom       2600   5.0  120.00    4\n",
       "3         Lingadheeranahalli      3 BHK       1521   3.0   95.00    3\n",
       "5                 Whitefield      2 BHK       1170   2.0   38.00    2\n",
       "11                Whitefield  4 Bedroom       2785   5.0  295.00    4"
      ]
     },
     "execution_count": 24,
     "metadata": {},
     "output_type": "execute_result"
    }
   ],
   "source": [
    "df2.head()"
   ]
  },
  {
   "cell_type": "code",
   "execution_count": 26,
   "id": "global-oxide",
   "metadata": {},
   "outputs": [
    {
     "data": {
      "text/plain": [
       "array([ 2,  4,  3,  1,  5, 11,  9,  6,  7], dtype=int64)"
      ]
     },
     "execution_count": 26,
     "metadata": {},
     "output_type": "execute_result"
    }
   ],
   "source": [
    "df2['bhk'].unique()"
   ]
  },
  {
   "cell_type": "code",
   "execution_count": 27,
   "id": "adult-fighter",
   "metadata": {},
   "outputs": [
    {
     "data": {
      "text/html": [
       "<div>\n",
       "<style scoped>\n",
       "    .dataframe tbody tr th:only-of-type {\n",
       "        vertical-align: middle;\n",
       "    }\n",
       "\n",
       "    .dataframe tbody tr th {\n",
       "        vertical-align: top;\n",
       "    }\n",
       "\n",
       "    .dataframe thead th {\n",
       "        text-align: right;\n",
       "    }\n",
       "</style>\n",
       "<table border=\"1\" class=\"dataframe\">\n",
       "  <thead>\n",
       "    <tr style=\"text-align: right;\">\n",
       "      <th></th>\n",
       "      <th>location</th>\n",
       "      <th>size</th>\n",
       "      <th>total_sqft</th>\n",
       "      <th>bath</th>\n",
       "      <th>price</th>\n",
       "      <th>bhk</th>\n",
       "    </tr>\n",
       "  </thead>\n",
       "  <tbody>\n",
       "    <tr>\n",
       "      <th>459</th>\n",
       "      <td>1 Giri Nagar</td>\n",
       "      <td>11 BHK</td>\n",
       "      <td>5000</td>\n",
       "      <td>9.0</td>\n",
       "      <td>360.0</td>\n",
       "      <td>11</td>\n",
       "    </tr>\n",
       "    <tr>\n",
       "      <th>538</th>\n",
       "      <td>Mico Layout</td>\n",
       "      <td>9 BHK</td>\n",
       "      <td>5000</td>\n",
       "      <td>9.0</td>\n",
       "      <td>210.0</td>\n",
       "      <td>9</td>\n",
       "    </tr>\n",
       "  </tbody>\n",
       "</table>\n",
       "</div>"
      ],
      "text/plain": [
       "         location    size total_sqft  bath  price  bhk\n",
       "459  1 Giri Nagar  11 BHK       5000   9.0  360.0   11\n",
       "538   Mico Layout   9 BHK       5000   9.0  210.0    9"
      ]
     },
     "execution_count": 27,
     "metadata": {},
     "output_type": "execute_result"
    }
   ],
   "source": [
    " df2[df2.bhk > 7]"
   ]
  },
  {
   "cell_type": "code",
   "execution_count": 28,
   "id": "boolean-violation",
   "metadata": {},
   "outputs": [
    {
     "data": {
      "text/plain": [
       "array(['1056', '2600', '1521', ..., '1919', '2111', '4689'], dtype=object)"
      ]
     },
     "execution_count": 28,
     "metadata": {},
     "output_type": "execute_result"
    }
   ],
   "source": [
    "df2.total_sqft.unique()"
   ]
  },
  {
   "cell_type": "code",
   "execution_count": 29,
   "id": "driving-mattress",
   "metadata": {},
   "outputs": [],
   "source": [
    "def is_float(x):\n",
    "    try:\n",
    "        float(x)\n",
    "    except:\n",
    "        return False\n",
    "    return True"
   ]
  },
  {
   "cell_type": "code",
   "execution_count": 30,
   "id": "advance-vacation",
   "metadata": {},
   "outputs": [
    {
     "data": {
      "text/html": [
       "<div>\n",
       "<style scoped>\n",
       "    .dataframe tbody tr th:only-of-type {\n",
       "        vertical-align: middle;\n",
       "    }\n",
       "\n",
       "    .dataframe tbody tr th {\n",
       "        vertical-align: top;\n",
       "    }\n",
       "\n",
       "    .dataframe thead th {\n",
       "        text-align: right;\n",
       "    }\n",
       "</style>\n",
       "<table border=\"1\" class=\"dataframe\">\n",
       "  <thead>\n",
       "    <tr style=\"text-align: right;\">\n",
       "      <th></th>\n",
       "      <th>location</th>\n",
       "      <th>size</th>\n",
       "      <th>total_sqft</th>\n",
       "      <th>bath</th>\n",
       "      <th>price</th>\n",
       "      <th>bhk</th>\n",
       "    </tr>\n",
       "  </thead>\n",
       "  <tbody>\n",
       "    <tr>\n",
       "      <th>30</th>\n",
       "      <td>Yelahanka</td>\n",
       "      <td>4 BHK</td>\n",
       "      <td>2100 - 2850</td>\n",
       "      <td>4.0</td>\n",
       "      <td>186.000</td>\n",
       "      <td>4</td>\n",
       "    </tr>\n",
       "    <tr>\n",
       "      <th>122</th>\n",
       "      <td>Hebbal</td>\n",
       "      <td>4 BHK</td>\n",
       "      <td>3067 - 8156</td>\n",
       "      <td>4.0</td>\n",
       "      <td>477.000</td>\n",
       "      <td>4</td>\n",
       "    </tr>\n",
       "    <tr>\n",
       "      <th>137</th>\n",
       "      <td>8th Phase JP Nagar</td>\n",
       "      <td>2 BHK</td>\n",
       "      <td>1042 - 1105</td>\n",
       "      <td>2.0</td>\n",
       "      <td>54.005</td>\n",
       "      <td>2</td>\n",
       "    </tr>\n",
       "    <tr>\n",
       "      <th>165</th>\n",
       "      <td>Sarjapur</td>\n",
       "      <td>2 BHK</td>\n",
       "      <td>1145 - 1340</td>\n",
       "      <td>2.0</td>\n",
       "      <td>43.490</td>\n",
       "      <td>2</td>\n",
       "    </tr>\n",
       "    <tr>\n",
       "      <th>188</th>\n",
       "      <td>KR Puram</td>\n",
       "      <td>2 BHK</td>\n",
       "      <td>1015 - 1540</td>\n",
       "      <td>2.0</td>\n",
       "      <td>56.800</td>\n",
       "      <td>2</td>\n",
       "    </tr>\n",
       "    <tr>\n",
       "      <th>549</th>\n",
       "      <td>Hennur Road</td>\n",
       "      <td>2 BHK</td>\n",
       "      <td>1195 - 1440</td>\n",
       "      <td>2.0</td>\n",
       "      <td>63.770</td>\n",
       "      <td>2</td>\n",
       "    </tr>\n",
       "    <tr>\n",
       "      <th>661</th>\n",
       "      <td>Yelahanka</td>\n",
       "      <td>2 BHK</td>\n",
       "      <td>1120 - 1145</td>\n",
       "      <td>2.0</td>\n",
       "      <td>48.130</td>\n",
       "      <td>2</td>\n",
       "    </tr>\n",
       "    <tr>\n",
       "      <th>672</th>\n",
       "      <td>Bettahalsoor</td>\n",
       "      <td>4 Bedroom</td>\n",
       "      <td>3090 - 5002</td>\n",
       "      <td>4.0</td>\n",
       "      <td>445.000</td>\n",
       "      <td>4</td>\n",
       "    </tr>\n",
       "    <tr>\n",
       "      <th>772</th>\n",
       "      <td>Banashankari Stage VI</td>\n",
       "      <td>2 BHK</td>\n",
       "      <td>1160 - 1195</td>\n",
       "      <td>2.0</td>\n",
       "      <td>59.935</td>\n",
       "      <td>2</td>\n",
       "    </tr>\n",
       "    <tr>\n",
       "      <th>850</th>\n",
       "      <td>Bannerghatta Road</td>\n",
       "      <td>2 BHK</td>\n",
       "      <td>1115 - 1130</td>\n",
       "      <td>2.0</td>\n",
       "      <td>58.935</td>\n",
       "      <td>2</td>\n",
       "    </tr>\n",
       "  </tbody>\n",
       "</table>\n",
       "</div>"
      ],
      "text/plain": [
       "                  location       size   total_sqft  bath    price  bhk\n",
       "30               Yelahanka      4 BHK  2100 - 2850   4.0  186.000    4\n",
       "122                 Hebbal      4 BHK  3067 - 8156   4.0  477.000    4\n",
       "137     8th Phase JP Nagar      2 BHK  1042 - 1105   2.0   54.005    2\n",
       "165               Sarjapur      2 BHK  1145 - 1340   2.0   43.490    2\n",
       "188               KR Puram      2 BHK  1015 - 1540   2.0   56.800    2\n",
       "549            Hennur Road      2 BHK  1195 - 1440   2.0   63.770    2\n",
       "661              Yelahanka      2 BHK  1120 - 1145   2.0   48.130    2\n",
       "672           Bettahalsoor  4 Bedroom  3090 - 5002   4.0  445.000    4\n",
       "772  Banashankari Stage VI      2 BHK  1160 - 1195   2.0   59.935    2\n",
       "850      Bannerghatta Road      2 BHK  1115 - 1130   2.0   58.935    2"
      ]
     },
     "execution_count": 30,
     "metadata": {},
     "output_type": "execute_result"
    }
   ],
   "source": [
    "df2[~df2.total_sqft.apply(is_float)].head(10)  #house with range of area"
   ]
  },
  {
   "cell_type": "code",
   "execution_count": 31,
   "id": "satisfactory-confidence",
   "metadata": {},
   "outputs": [],
   "source": [
    "def convert_to_sqft(x):\n",
    "    token=x.split('-')\n",
    "    if len(token)==2:\n",
    "        return (float(token[0])+float(token[1]))/2\n",
    "    try:\n",
    "        return float(x)\n",
    "    except:\n",
    "        return None"
   ]
  },
  {
   "cell_type": "code",
   "execution_count": 32,
   "id": "computational-conspiracy",
   "metadata": {},
   "outputs": [],
   "source": [
    "convert_to_sqft('34.46Sq.Meter')"
   ]
  },
  {
   "cell_type": "code",
   "execution_count": 33,
   "id": "closed-senate",
   "metadata": {},
   "outputs": [
    {
     "data": {
      "text/plain": [
       "2145.0"
      ]
     },
     "execution_count": 33,
     "metadata": {},
     "output_type": "execute_result"
    }
   ],
   "source": [
    "convert_to_sqft('2145')"
   ]
  },
  {
   "cell_type": "code",
   "execution_count": 34,
   "id": "otherwise-diameter",
   "metadata": {},
   "outputs": [
    {
     "data": {
      "text/plain": [
       "2475.0"
      ]
     },
     "execution_count": 34,
     "metadata": {},
     "output_type": "execute_result"
    }
   ],
   "source": [
    "convert_to_sqft('2100-2850')"
   ]
  },
  {
   "cell_type": "code",
   "execution_count": 35,
   "id": "ahead-rochester",
   "metadata": {},
   "outputs": [
    {
     "data": {
      "text/html": [
       "<div>\n",
       "<style scoped>\n",
       "    .dataframe tbody tr th:only-of-type {\n",
       "        vertical-align: middle;\n",
       "    }\n",
       "\n",
       "    .dataframe tbody tr th {\n",
       "        vertical-align: top;\n",
       "    }\n",
       "\n",
       "    .dataframe thead th {\n",
       "        text-align: right;\n",
       "    }\n",
       "</style>\n",
       "<table border=\"1\" class=\"dataframe\">\n",
       "  <thead>\n",
       "    <tr style=\"text-align: right;\">\n",
       "      <th></th>\n",
       "      <th>location</th>\n",
       "      <th>size</th>\n",
       "      <th>total_sqft</th>\n",
       "      <th>bath</th>\n",
       "      <th>price</th>\n",
       "      <th>bhk</th>\n",
       "    </tr>\n",
       "  </thead>\n",
       "  <tbody>\n",
       "    <tr>\n",
       "      <th>0</th>\n",
       "      <td>Electronic City Phase II</td>\n",
       "      <td>2 BHK</td>\n",
       "      <td>1056</td>\n",
       "      <td>2.0</td>\n",
       "      <td>39.07</td>\n",
       "      <td>2</td>\n",
       "    </tr>\n",
       "    <tr>\n",
       "      <th>1</th>\n",
       "      <td>Chikka Tirupathi</td>\n",
       "      <td>4 Bedroom</td>\n",
       "      <td>2600</td>\n",
       "      <td>5.0</td>\n",
       "      <td>120.00</td>\n",
       "      <td>4</td>\n",
       "    </tr>\n",
       "    <tr>\n",
       "      <th>3</th>\n",
       "      <td>Lingadheeranahalli</td>\n",
       "      <td>3 BHK</td>\n",
       "      <td>1521</td>\n",
       "      <td>3.0</td>\n",
       "      <td>95.00</td>\n",
       "      <td>3</td>\n",
       "    </tr>\n",
       "    <tr>\n",
       "      <th>5</th>\n",
       "      <td>Whitefield</td>\n",
       "      <td>2 BHK</td>\n",
       "      <td>1170</td>\n",
       "      <td>2.0</td>\n",
       "      <td>38.00</td>\n",
       "      <td>2</td>\n",
       "    </tr>\n",
       "    <tr>\n",
       "      <th>11</th>\n",
       "      <td>Whitefield</td>\n",
       "      <td>4 Bedroom</td>\n",
       "      <td>2785</td>\n",
       "      <td>5.0</td>\n",
       "      <td>295.00</td>\n",
       "      <td>4</td>\n",
       "    </tr>\n",
       "  </tbody>\n",
       "</table>\n",
       "</div>"
      ],
      "text/plain": [
       "                    location       size total_sqft  bath   price  bhk\n",
       "0   Electronic City Phase II      2 BHK       1056   2.0   39.07    2\n",
       "1           Chikka Tirupathi  4 Bedroom       2600   5.0  120.00    4\n",
       "3         Lingadheeranahalli      3 BHK       1521   3.0   95.00    3\n",
       "5                 Whitefield      2 BHK       1170   2.0   38.00    2\n",
       "11                Whitefield  4 Bedroom       2785   5.0  295.00    4"
      ]
     },
     "execution_count": 35,
     "metadata": {},
     "output_type": "execute_result"
    }
   ],
   "source": [
    "df3=df2.copy()\n",
    "df3.head()"
   ]
  },
  {
   "cell_type": "code",
   "execution_count": 36,
   "id": "expensive-boring",
   "metadata": {},
   "outputs": [
    {
     "data": {
      "text/html": [
       "<div>\n",
       "<style scoped>\n",
       "    .dataframe tbody tr th:only-of-type {\n",
       "        vertical-align: middle;\n",
       "    }\n",
       "\n",
       "    .dataframe tbody tr th {\n",
       "        vertical-align: top;\n",
       "    }\n",
       "\n",
       "    .dataframe thead th {\n",
       "        text-align: right;\n",
       "    }\n",
       "</style>\n",
       "<table border=\"1\" class=\"dataframe\">\n",
       "  <thead>\n",
       "    <tr style=\"text-align: right;\">\n",
       "      <th></th>\n",
       "      <th>location</th>\n",
       "      <th>size</th>\n",
       "      <th>total_sqft</th>\n",
       "      <th>bath</th>\n",
       "      <th>price</th>\n",
       "      <th>bhk</th>\n",
       "    </tr>\n",
       "  </thead>\n",
       "  <tbody>\n",
       "    <tr>\n",
       "      <th>0</th>\n",
       "      <td>Electronic City Phase II</td>\n",
       "      <td>2 BHK</td>\n",
       "      <td>1056.0</td>\n",
       "      <td>2.0</td>\n",
       "      <td>39.07</td>\n",
       "      <td>2</td>\n",
       "    </tr>\n",
       "    <tr>\n",
       "      <th>1</th>\n",
       "      <td>Chikka Tirupathi</td>\n",
       "      <td>4 Bedroom</td>\n",
       "      <td>2600.0</td>\n",
       "      <td>5.0</td>\n",
       "      <td>120.00</td>\n",
       "      <td>4</td>\n",
       "    </tr>\n",
       "    <tr>\n",
       "      <th>3</th>\n",
       "      <td>Lingadheeranahalli</td>\n",
       "      <td>3 BHK</td>\n",
       "      <td>1521.0</td>\n",
       "      <td>3.0</td>\n",
       "      <td>95.00</td>\n",
       "      <td>3</td>\n",
       "    </tr>\n",
       "    <tr>\n",
       "      <th>5</th>\n",
       "      <td>Whitefield</td>\n",
       "      <td>2 BHK</td>\n",
       "      <td>1170.0</td>\n",
       "      <td>2.0</td>\n",
       "      <td>38.00</td>\n",
       "      <td>2</td>\n",
       "    </tr>\n",
       "    <tr>\n",
       "      <th>11</th>\n",
       "      <td>Whitefield</td>\n",
       "      <td>4 Bedroom</td>\n",
       "      <td>2785.0</td>\n",
       "      <td>5.0</td>\n",
       "      <td>295.00</td>\n",
       "      <td>4</td>\n",
       "    </tr>\n",
       "    <tr>\n",
       "      <th>...</th>\n",
       "      <td>...</td>\n",
       "      <td>...</td>\n",
       "      <td>...</td>\n",
       "      <td>...</td>\n",
       "      <td>...</td>\n",
       "      <td>...</td>\n",
       "    </tr>\n",
       "    <tr>\n",
       "      <th>13313</th>\n",
       "      <td>Uttarahalli</td>\n",
       "      <td>3 BHK</td>\n",
       "      <td>1345.0</td>\n",
       "      <td>2.0</td>\n",
       "      <td>57.00</td>\n",
       "      <td>3</td>\n",
       "    </tr>\n",
       "    <tr>\n",
       "      <th>13314</th>\n",
       "      <td>Green Glen Layout</td>\n",
       "      <td>3 BHK</td>\n",
       "      <td>1715.0</td>\n",
       "      <td>3.0</td>\n",
       "      <td>112.00</td>\n",
       "      <td>3</td>\n",
       "    </tr>\n",
       "    <tr>\n",
       "      <th>13315</th>\n",
       "      <td>Whitefield</td>\n",
       "      <td>5 Bedroom</td>\n",
       "      <td>3453.0</td>\n",
       "      <td>4.0</td>\n",
       "      <td>231.00</td>\n",
       "      <td>5</td>\n",
       "    </tr>\n",
       "    <tr>\n",
       "      <th>13317</th>\n",
       "      <td>Raja Rajeshwari Nagar</td>\n",
       "      <td>2 BHK</td>\n",
       "      <td>1141.0</td>\n",
       "      <td>2.0</td>\n",
       "      <td>60.00</td>\n",
       "      <td>2</td>\n",
       "    </tr>\n",
       "    <tr>\n",
       "      <th>13318</th>\n",
       "      <td>Padmanabhanagar</td>\n",
       "      <td>4 BHK</td>\n",
       "      <td>4689.0</td>\n",
       "      <td>4.0</td>\n",
       "      <td>488.00</td>\n",
       "      <td>4</td>\n",
       "    </tr>\n",
       "  </tbody>\n",
       "</table>\n",
       "<p>7496 rows × 6 columns</p>\n",
       "</div>"
      ],
      "text/plain": [
       "                       location       size  total_sqft  bath   price  bhk\n",
       "0      Electronic City Phase II      2 BHK      1056.0   2.0   39.07    2\n",
       "1              Chikka Tirupathi  4 Bedroom      2600.0   5.0  120.00    4\n",
       "3            Lingadheeranahalli      3 BHK      1521.0   3.0   95.00    3\n",
       "5                    Whitefield      2 BHK      1170.0   2.0   38.00    2\n",
       "11                   Whitefield  4 Bedroom      2785.0   5.0  295.00    4\n",
       "...                         ...        ...         ...   ...     ...  ...\n",
       "13313               Uttarahalli      3 BHK      1345.0   2.0   57.00    3\n",
       "13314         Green Glen Layout      3 BHK      1715.0   3.0  112.00    3\n",
       "13315                Whitefield  5 Bedroom      3453.0   4.0  231.00    5\n",
       "13317     Raja Rajeshwari Nagar      2 BHK      1141.0   2.0   60.00    2\n",
       "13318           Padmanabhanagar      4 BHK      4689.0   4.0  488.00    4\n",
       "\n",
       "[7496 rows x 6 columns]"
      ]
     },
     "execution_count": 36,
     "metadata": {},
     "output_type": "execute_result"
    }
   ],
   "source": [
    "df3['total_sqft']=df3['total_sqft'].apply(convert_to_sqft)\n",
    "df3"
   ]
  },
  {
   "cell_type": "code",
   "execution_count": 41,
   "id": "f0dbe220",
   "metadata": {},
   "outputs": [
    {
     "data": {
      "text/plain": [
       "location       object\n",
       "size           object\n",
       "total_sqft    float64\n",
       "bath          float64\n",
       "price         float64\n",
       "bhk             int64\n",
       "dtype: object"
      ]
     },
     "execution_count": 41,
     "metadata": {},
     "output_type": "execute_result"
    }
   ],
   "source": [
    "df3.dtypes"
   ]
  },
  {
   "cell_type": "code",
   "execution_count": 38,
   "id": "77e7c3ec",
   "metadata": {},
   "outputs": [
    {
     "data": {
      "text/html": [
       "<div>\n",
       "<style scoped>\n",
       "    .dataframe tbody tr th:only-of-type {\n",
       "        vertical-align: middle;\n",
       "    }\n",
       "\n",
       "    .dataframe tbody tr th {\n",
       "        vertical-align: top;\n",
       "    }\n",
       "\n",
       "    .dataframe thead th {\n",
       "        text-align: right;\n",
       "    }\n",
       "</style>\n",
       "<table border=\"1\" class=\"dataframe\">\n",
       "  <thead>\n",
       "    <tr style=\"text-align: right;\">\n",
       "      <th></th>\n",
       "      <th>total_sqft</th>\n",
       "      <th>bath</th>\n",
       "      <th>price</th>\n",
       "      <th>bhk</th>\n",
       "    </tr>\n",
       "  </thead>\n",
       "  <tbody>\n",
       "    <tr>\n",
       "      <th>count</th>\n",
       "      <td>7481.000000</td>\n",
       "      <td>7496.000000</td>\n",
       "      <td>7496.000000</td>\n",
       "      <td>7496.000000</td>\n",
       "    </tr>\n",
       "    <tr>\n",
       "      <th>mean</th>\n",
       "      <td>1507.516043</td>\n",
       "      <td>2.458378</td>\n",
       "      <td>96.857122</td>\n",
       "      <td>2.529482</td>\n",
       "    </tr>\n",
       "    <tr>\n",
       "      <th>std</th>\n",
       "      <td>935.083274</td>\n",
       "      <td>0.881128</td>\n",
       "      <td>105.382490</td>\n",
       "      <td>0.733228</td>\n",
       "    </tr>\n",
       "    <tr>\n",
       "      <th>min</th>\n",
       "      <td>11.000000</td>\n",
       "      <td>1.000000</td>\n",
       "      <td>8.000000</td>\n",
       "      <td>1.000000</td>\n",
       "    </tr>\n",
       "    <tr>\n",
       "      <th>25%</th>\n",
       "      <td>1115.000000</td>\n",
       "      <td>2.000000</td>\n",
       "      <td>49.500000</td>\n",
       "      <td>2.000000</td>\n",
       "    </tr>\n",
       "    <tr>\n",
       "      <th>50%</th>\n",
       "      <td>1310.000000</td>\n",
       "      <td>2.000000</td>\n",
       "      <td>69.755000</td>\n",
       "      <td>2.000000</td>\n",
       "    </tr>\n",
       "    <tr>\n",
       "      <th>75%</th>\n",
       "      <td>1656.000000</td>\n",
       "      <td>3.000000</td>\n",
       "      <td>105.000000</td>\n",
       "      <td>3.000000</td>\n",
       "    </tr>\n",
       "    <tr>\n",
       "      <th>max</th>\n",
       "      <td>36000.000000</td>\n",
       "      <td>9.000000</td>\n",
       "      <td>2700.000000</td>\n",
       "      <td>11.000000</td>\n",
       "    </tr>\n",
       "  </tbody>\n",
       "</table>\n",
       "</div>"
      ],
      "text/plain": [
       "         total_sqft         bath        price          bhk\n",
       "count   7481.000000  7496.000000  7496.000000  7496.000000\n",
       "mean    1507.516043     2.458378    96.857122     2.529482\n",
       "std      935.083274     0.881128   105.382490     0.733228\n",
       "min       11.000000     1.000000     8.000000     1.000000\n",
       "25%     1115.000000     2.000000    49.500000     2.000000\n",
       "50%     1310.000000     2.000000    69.755000     2.000000\n",
       "75%     1656.000000     3.000000   105.000000     3.000000\n",
       "max    36000.000000     9.000000  2700.000000    11.000000"
      ]
     },
     "execution_count": 38,
     "metadata": {},
     "output_type": "execute_result"
    }
   ],
   "source": [
    "df3.describe()"
   ]
  },
  {
   "cell_type": "code",
   "execution_count": 39,
   "id": "separate-greensboro",
   "metadata": {},
   "outputs": [
    {
     "data": {
      "text/html": [
       "<div>\n",
       "<style scoped>\n",
       "    .dataframe tbody tr th:only-of-type {\n",
       "        vertical-align: middle;\n",
       "    }\n",
       "\n",
       "    .dataframe tbody tr th {\n",
       "        vertical-align: top;\n",
       "    }\n",
       "\n",
       "    .dataframe thead th {\n",
       "        text-align: right;\n",
       "    }\n",
       "</style>\n",
       "<table border=\"1\" class=\"dataframe\">\n",
       "  <thead>\n",
       "    <tr style=\"text-align: right;\">\n",
       "      <th></th>\n",
       "      <th>location</th>\n",
       "      <th>size</th>\n",
       "      <th>total_sqft</th>\n",
       "      <th>bath</th>\n",
       "      <th>price</th>\n",
       "      <th>bhk</th>\n",
       "    </tr>\n",
       "  </thead>\n",
       "  <tbody>\n",
       "    <tr>\n",
       "      <th>0</th>\n",
       "      <td>Electronic City Phase II</td>\n",
       "      <td>2 BHK</td>\n",
       "      <td>1056.0</td>\n",
       "      <td>2.0</td>\n",
       "      <td>39.07</td>\n",
       "      <td>2</td>\n",
       "    </tr>\n",
       "    <tr>\n",
       "      <th>1</th>\n",
       "      <td>Chikka Tirupathi</td>\n",
       "      <td>4 Bedroom</td>\n",
       "      <td>2600.0</td>\n",
       "      <td>5.0</td>\n",
       "      <td>120.00</td>\n",
       "      <td>4</td>\n",
       "    </tr>\n",
       "    <tr>\n",
       "      <th>3</th>\n",
       "      <td>Lingadheeranahalli</td>\n",
       "      <td>3 BHK</td>\n",
       "      <td>1521.0</td>\n",
       "      <td>3.0</td>\n",
       "      <td>95.00</td>\n",
       "      <td>3</td>\n",
       "    </tr>\n",
       "    <tr>\n",
       "      <th>5</th>\n",
       "      <td>Whitefield</td>\n",
       "      <td>2 BHK</td>\n",
       "      <td>1170.0</td>\n",
       "      <td>2.0</td>\n",
       "      <td>38.00</td>\n",
       "      <td>2</td>\n",
       "    </tr>\n",
       "    <tr>\n",
       "      <th>11</th>\n",
       "      <td>Whitefield</td>\n",
       "      <td>4 Bedroom</td>\n",
       "      <td>2785.0</td>\n",
       "      <td>5.0</td>\n",
       "      <td>295.00</td>\n",
       "      <td>4</td>\n",
       "    </tr>\n",
       "    <tr>\n",
       "      <th>...</th>\n",
       "      <td>...</td>\n",
       "      <td>...</td>\n",
       "      <td>...</td>\n",
       "      <td>...</td>\n",
       "      <td>...</td>\n",
       "      <td>...</td>\n",
       "    </tr>\n",
       "    <tr>\n",
       "      <th>13313</th>\n",
       "      <td>Uttarahalli</td>\n",
       "      <td>3 BHK</td>\n",
       "      <td>1345.0</td>\n",
       "      <td>2.0</td>\n",
       "      <td>57.00</td>\n",
       "      <td>3</td>\n",
       "    </tr>\n",
       "    <tr>\n",
       "      <th>13314</th>\n",
       "      <td>Green Glen Layout</td>\n",
       "      <td>3 BHK</td>\n",
       "      <td>1715.0</td>\n",
       "      <td>3.0</td>\n",
       "      <td>112.00</td>\n",
       "      <td>3</td>\n",
       "    </tr>\n",
       "    <tr>\n",
       "      <th>13315</th>\n",
       "      <td>Whitefield</td>\n",
       "      <td>5 Bedroom</td>\n",
       "      <td>3453.0</td>\n",
       "      <td>4.0</td>\n",
       "      <td>231.00</td>\n",
       "      <td>5</td>\n",
       "    </tr>\n",
       "    <tr>\n",
       "      <th>13317</th>\n",
       "      <td>Raja Rajeshwari Nagar</td>\n",
       "      <td>2 BHK</td>\n",
       "      <td>1141.0</td>\n",
       "      <td>2.0</td>\n",
       "      <td>60.00</td>\n",
       "      <td>2</td>\n",
       "    </tr>\n",
       "    <tr>\n",
       "      <th>13318</th>\n",
       "      <td>Padmanabhanagar</td>\n",
       "      <td>4 BHK</td>\n",
       "      <td>4689.0</td>\n",
       "      <td>4.0</td>\n",
       "      <td>488.00</td>\n",
       "      <td>4</td>\n",
       "    </tr>\n",
       "  </tbody>\n",
       "</table>\n",
       "<p>7481 rows × 6 columns</p>\n",
       "</div>"
      ],
      "text/plain": [
       "                       location       size  total_sqft  bath   price  bhk\n",
       "0      Electronic City Phase II      2 BHK      1056.0   2.0   39.07    2\n",
       "1              Chikka Tirupathi  4 Bedroom      2600.0   5.0  120.00    4\n",
       "3            Lingadheeranahalli      3 BHK      1521.0   3.0   95.00    3\n",
       "5                    Whitefield      2 BHK      1170.0   2.0   38.00    2\n",
       "11                   Whitefield  4 Bedroom      2785.0   5.0  295.00    4\n",
       "...                         ...        ...         ...   ...     ...  ...\n",
       "13313               Uttarahalli      3 BHK      1345.0   2.0   57.00    3\n",
       "13314         Green Glen Layout      3 BHK      1715.0   3.0  112.00    3\n",
       "13315                Whitefield  5 Bedroom      3453.0   4.0  231.00    5\n",
       "13317     Raja Rajeshwari Nagar      2 BHK      1141.0   2.0   60.00    2\n",
       "13318           Padmanabhanagar      4 BHK      4689.0   4.0  488.00    4\n",
       "\n",
       "[7481 rows x 6 columns]"
      ]
     },
     "execution_count": 39,
     "metadata": {},
     "output_type": "execute_result"
    }
   ],
   "source": [
    "df3.dropna()"
   ]
  },
  {
   "cell_type": "code",
   "execution_count": 40,
   "id": "hindu-disclosure",
   "metadata": {},
   "outputs": [
    {
     "data": {
      "text/plain": [
       "location       0\n",
       "size           0\n",
       "total_sqft    15\n",
       "bath           0\n",
       "price          0\n",
       "bhk            0\n",
       "dtype: int64"
      ]
     },
     "execution_count": 40,
     "metadata": {},
     "output_type": "execute_result"
    }
   ],
   "source": [
    "df3.isnull().sum()"
   ]
  },
  {
   "cell_type": "code",
   "execution_count": 43,
   "id": "opposed-honduras",
   "metadata": {},
   "outputs": [
    {
     "data": {
      "text/html": [
       "<div>\n",
       "<style scoped>\n",
       "    .dataframe tbody tr th:only-of-type {\n",
       "        vertical-align: middle;\n",
       "    }\n",
       "\n",
       "    .dataframe tbody tr th {\n",
       "        vertical-align: top;\n",
       "    }\n",
       "\n",
       "    .dataframe thead th {\n",
       "        text-align: right;\n",
       "    }\n",
       "</style>\n",
       "<table border=\"1\" class=\"dataframe\">\n",
       "  <thead>\n",
       "    <tr style=\"text-align: right;\">\n",
       "      <th></th>\n",
       "      <th>location</th>\n",
       "      <th>size</th>\n",
       "      <th>total_sqft</th>\n",
       "      <th>bath</th>\n",
       "      <th>price</th>\n",
       "      <th>bhk</th>\n",
       "      <th>price_per_sqft</th>\n",
       "    </tr>\n",
       "  </thead>\n",
       "  <tbody>\n",
       "    <tr>\n",
       "      <th>0</th>\n",
       "      <td>Electronic City Phase II</td>\n",
       "      <td>2 BHK</td>\n",
       "      <td>1056.0</td>\n",
       "      <td>2.0</td>\n",
       "      <td>39.07</td>\n",
       "      <td>2</td>\n",
       "      <td>3700.0</td>\n",
       "    </tr>\n",
       "    <tr>\n",
       "      <th>1</th>\n",
       "      <td>Chikka Tirupathi</td>\n",
       "      <td>4 Bedroom</td>\n",
       "      <td>2600.0</td>\n",
       "      <td>5.0</td>\n",
       "      <td>120.00</td>\n",
       "      <td>4</td>\n",
       "      <td>4615.0</td>\n",
       "    </tr>\n",
       "    <tr>\n",
       "      <th>3</th>\n",
       "      <td>Lingadheeranahalli</td>\n",
       "      <td>3 BHK</td>\n",
       "      <td>1521.0</td>\n",
       "      <td>3.0</td>\n",
       "      <td>95.00</td>\n",
       "      <td>3</td>\n",
       "      <td>6246.0</td>\n",
       "    </tr>\n",
       "    <tr>\n",
       "      <th>5</th>\n",
       "      <td>Whitefield</td>\n",
       "      <td>2 BHK</td>\n",
       "      <td>1170.0</td>\n",
       "      <td>2.0</td>\n",
       "      <td>38.00</td>\n",
       "      <td>2</td>\n",
       "      <td>3248.0</td>\n",
       "    </tr>\n",
       "    <tr>\n",
       "      <th>11</th>\n",
       "      <td>Whitefield</td>\n",
       "      <td>4 Bedroom</td>\n",
       "      <td>2785.0</td>\n",
       "      <td>5.0</td>\n",
       "      <td>295.00</td>\n",
       "      <td>4</td>\n",
       "      <td>10592.0</td>\n",
       "    </tr>\n",
       "  </tbody>\n",
       "</table>\n",
       "</div>"
      ],
      "text/plain": [
       "                    location       size  total_sqft  bath   price  bhk  \\\n",
       "0   Electronic City Phase II      2 BHK      1056.0   2.0   39.07    2   \n",
       "1           Chikka Tirupathi  4 Bedroom      2600.0   5.0  120.00    4   \n",
       "3         Lingadheeranahalli      3 BHK      1521.0   3.0   95.00    3   \n",
       "5                 Whitefield      2 BHK      1170.0   2.0   38.00    2   \n",
       "11                Whitefield  4 Bedroom      2785.0   5.0  295.00    4   \n",
       "\n",
       "    price_per_sqft  \n",
       "0           3700.0  \n",
       "1           4615.0  \n",
       "3           6246.0  \n",
       "5           3248.0  \n",
       "11         10592.0  "
      ]
     },
     "execution_count": 43,
     "metadata": {},
     "output_type": "execute_result"
    }
   ],
   "source": [
    "df3['price_per_sqft']=np.around(df3['price']*100000/df3['total_sqft'],0)\n",
    "df3.head()"
   ]
  },
  {
   "cell_type": "code",
   "execution_count": 45,
   "id": "rough-implement",
   "metadata": {},
   "outputs": [
    {
     "data": {
      "text/plain": [
       "location           0\n",
       "size               0\n",
       "total_sqft        15\n",
       "bath               0\n",
       "price              0\n",
       "bhk                0\n",
       "price_per_sqft    15\n",
       "dtype: int64"
      ]
     },
     "execution_count": 45,
     "metadata": {},
     "output_type": "execute_result"
    }
   ],
   "source": [
    "df3.isnull().sum()"
   ]
  },
  {
   "cell_type": "code",
   "execution_count": 46,
   "id": "monthly-penalty",
   "metadata": {},
   "outputs": [],
   "source": [
    "df3.dropna(inplace=True)"
   ]
  },
  {
   "cell_type": "code",
   "execution_count": 47,
   "id": "potential-deficit",
   "metadata": {},
   "outputs": [
    {
     "data": {
      "text/plain": [
       "location          0\n",
       "size              0\n",
       "total_sqft        0\n",
       "bath              0\n",
       "price             0\n",
       "bhk               0\n",
       "price_per_sqft    0\n",
       "dtype: int64"
      ]
     },
     "execution_count": 47,
     "metadata": {},
     "output_type": "execute_result"
    }
   ],
   "source": [
    "df3.isnull().sum()"
   ]
  },
  {
   "cell_type": "code",
   "execution_count": 48,
   "id": "printable-profession",
   "metadata": {},
   "outputs": [
    {
     "data": {
      "text/plain": [
       "633"
      ]
     },
     "execution_count": 48,
     "metadata": {},
     "output_type": "execute_result"
    }
   ],
   "source": [
    "len(df3.location.unique())"
   ]
  },
  {
   "cell_type": "code",
   "execution_count": 49,
   "id": "b983e6ad",
   "metadata": {},
   "outputs": [
    {
     "data": {
      "text/html": [
       "<div>\n",
       "<style scoped>\n",
       "    .dataframe tbody tr th:only-of-type {\n",
       "        vertical-align: middle;\n",
       "    }\n",
       "\n",
       "    .dataframe tbody tr th {\n",
       "        vertical-align: top;\n",
       "    }\n",
       "\n",
       "    .dataframe thead th {\n",
       "        text-align: right;\n",
       "    }\n",
       "</style>\n",
       "<table border=\"1\" class=\"dataframe\">\n",
       "  <thead>\n",
       "    <tr style=\"text-align: right;\">\n",
       "      <th></th>\n",
       "      <th>location</th>\n",
       "      <th>size</th>\n",
       "      <th>total_sqft</th>\n",
       "      <th>bath</th>\n",
       "      <th>price</th>\n",
       "      <th>bhk</th>\n",
       "      <th>price_per_sqft</th>\n",
       "    </tr>\n",
       "  </thead>\n",
       "  <tbody>\n",
       "    <tr>\n",
       "      <th>0</th>\n",
       "      <td>Electronic City Phase II</td>\n",
       "      <td>2 BHK</td>\n",
       "      <td>1056.0</td>\n",
       "      <td>2.0</td>\n",
       "      <td>39.07</td>\n",
       "      <td>2</td>\n",
       "      <td>3700.0</td>\n",
       "    </tr>\n",
       "    <tr>\n",
       "      <th>1</th>\n",
       "      <td>Chikka Tirupathi</td>\n",
       "      <td>4 Bedroom</td>\n",
       "      <td>2600.0</td>\n",
       "      <td>5.0</td>\n",
       "      <td>120.00</td>\n",
       "      <td>4</td>\n",
       "      <td>4615.0</td>\n",
       "    </tr>\n",
       "    <tr>\n",
       "      <th>3</th>\n",
       "      <td>Lingadheeranahalli</td>\n",
       "      <td>3 BHK</td>\n",
       "      <td>1521.0</td>\n",
       "      <td>3.0</td>\n",
       "      <td>95.00</td>\n",
       "      <td>3</td>\n",
       "      <td>6246.0</td>\n",
       "    </tr>\n",
       "    <tr>\n",
       "      <th>5</th>\n",
       "      <td>Whitefield</td>\n",
       "      <td>2 BHK</td>\n",
       "      <td>1170.0</td>\n",
       "      <td>2.0</td>\n",
       "      <td>38.00</td>\n",
       "      <td>2</td>\n",
       "      <td>3248.0</td>\n",
       "    </tr>\n",
       "    <tr>\n",
       "      <th>11</th>\n",
       "      <td>Whitefield</td>\n",
       "      <td>4 Bedroom</td>\n",
       "      <td>2785.0</td>\n",
       "      <td>5.0</td>\n",
       "      <td>295.00</td>\n",
       "      <td>4</td>\n",
       "      <td>10592.0</td>\n",
       "    </tr>\n",
       "    <tr>\n",
       "      <th>...</th>\n",
       "      <td>...</td>\n",
       "      <td>...</td>\n",
       "      <td>...</td>\n",
       "      <td>...</td>\n",
       "      <td>...</td>\n",
       "      <td>...</td>\n",
       "      <td>...</td>\n",
       "    </tr>\n",
       "    <tr>\n",
       "      <th>13313</th>\n",
       "      <td>Uttarahalli</td>\n",
       "      <td>3 BHK</td>\n",
       "      <td>1345.0</td>\n",
       "      <td>2.0</td>\n",
       "      <td>57.00</td>\n",
       "      <td>3</td>\n",
       "      <td>4238.0</td>\n",
       "    </tr>\n",
       "    <tr>\n",
       "      <th>13314</th>\n",
       "      <td>Green Glen Layout</td>\n",
       "      <td>3 BHK</td>\n",
       "      <td>1715.0</td>\n",
       "      <td>3.0</td>\n",
       "      <td>112.00</td>\n",
       "      <td>3</td>\n",
       "      <td>6531.0</td>\n",
       "    </tr>\n",
       "    <tr>\n",
       "      <th>13315</th>\n",
       "      <td>Whitefield</td>\n",
       "      <td>5 Bedroom</td>\n",
       "      <td>3453.0</td>\n",
       "      <td>4.0</td>\n",
       "      <td>231.00</td>\n",
       "      <td>5</td>\n",
       "      <td>6690.0</td>\n",
       "    </tr>\n",
       "    <tr>\n",
       "      <th>13317</th>\n",
       "      <td>Raja Rajeshwari Nagar</td>\n",
       "      <td>2 BHK</td>\n",
       "      <td>1141.0</td>\n",
       "      <td>2.0</td>\n",
       "      <td>60.00</td>\n",
       "      <td>2</td>\n",
       "      <td>5259.0</td>\n",
       "    </tr>\n",
       "    <tr>\n",
       "      <th>13318</th>\n",
       "      <td>Padmanabhanagar</td>\n",
       "      <td>4 BHK</td>\n",
       "      <td>4689.0</td>\n",
       "      <td>4.0</td>\n",
       "      <td>488.00</td>\n",
       "      <td>4</td>\n",
       "      <td>10407.0</td>\n",
       "    </tr>\n",
       "  </tbody>\n",
       "</table>\n",
       "<p>7481 rows × 7 columns</p>\n",
       "</div>"
      ],
      "text/plain": [
       "                       location       size  total_sqft  bath   price  bhk  \\\n",
       "0      Electronic City Phase II      2 BHK      1056.0   2.0   39.07    2   \n",
       "1              Chikka Tirupathi  4 Bedroom      2600.0   5.0  120.00    4   \n",
       "3            Lingadheeranahalli      3 BHK      1521.0   3.0   95.00    3   \n",
       "5                    Whitefield      2 BHK      1170.0   2.0   38.00    2   \n",
       "11                   Whitefield  4 Bedroom      2785.0   5.0  295.00    4   \n",
       "...                         ...        ...         ...   ...     ...  ...   \n",
       "13313               Uttarahalli      3 BHK      1345.0   2.0   57.00    3   \n",
       "13314         Green Glen Layout      3 BHK      1715.0   3.0  112.00    3   \n",
       "13315                Whitefield  5 Bedroom      3453.0   4.0  231.00    5   \n",
       "13317     Raja Rajeshwari Nagar      2 BHK      1141.0   2.0   60.00    2   \n",
       "13318           Padmanabhanagar      4 BHK      4689.0   4.0  488.00    4   \n",
       "\n",
       "       price_per_sqft  \n",
       "0              3700.0  \n",
       "1              4615.0  \n",
       "3              6246.0  \n",
       "5              3248.0  \n",
       "11            10592.0  \n",
       "...               ...  \n",
       "13313          4238.0  \n",
       "13314          6531.0  \n",
       "13315          6690.0  \n",
       "13317          5259.0  \n",
       "13318         10407.0  \n",
       "\n",
       "[7481 rows x 7 columns]"
      ]
     },
     "execution_count": 49,
     "metadata": {},
     "output_type": "execute_result"
    }
   ],
   "source": [
    "df3"
   ]
  },
  {
   "cell_type": "code",
   "execution_count": null,
   "id": "developmental-series",
   "metadata": {},
   "outputs": [],
   "source": [
    "df2=df1.copy()"
   ]
  },
  {
   "cell_type": "code",
   "execution_count": 50,
   "id": "powerful-monkey",
   "metadata": {},
   "outputs": [
    {
     "data": {
      "text/plain": [
       "location\n",
       "Whitefield                        397\n",
       "Sarjapur  Road                    310\n",
       "Electronic City                   238\n",
       "Kanakpura Road                    216\n",
       "Thanisandra                       214\n",
       "                                 ... \n",
       "Kothannur                           1\n",
       "Kuvempu Layout                      1\n",
       "Kuvempu Nagar                       1\n",
       "Lakshmi Layout                      1\n",
       "Yeshwanthpur Industrial Suburb      1\n",
       "Name: location, Length: 625, dtype: int64"
      ]
     },
     "execution_count": 50,
     "metadata": {},
     "output_type": "execute_result"
    }
   ],
   "source": [
    "df3.location=df3.location.apply(lambda x:x.strip())\n",
    "location_stats=df3.groupby('location')['location'].agg('count').sort_values(ascending=False)\n",
    "location_stats"
   ]
  },
  {
   "cell_type": "code",
   "execution_count": 59,
   "id": "843638f2",
   "metadata": {},
   "outputs": [
    {
     "data": {
      "text/html": [
       "<div>\n",
       "<style scoped>\n",
       "    .dataframe tbody tr th:only-of-type {\n",
       "        vertical-align: middle;\n",
       "    }\n",
       "\n",
       "    .dataframe tbody tr th {\n",
       "        vertical-align: top;\n",
       "    }\n",
       "\n",
       "    .dataframe thead th {\n",
       "        text-align: right;\n",
       "    }\n",
       "</style>\n",
       "<table border=\"1\" class=\"dataframe\">\n",
       "  <thead>\n",
       "    <tr style=\"text-align: right;\">\n",
       "      <th></th>\n",
       "      <th>amin</th>\n",
       "      <th>mean</th>\n",
       "      <th>amax</th>\n",
       "    </tr>\n",
       "    <tr>\n",
       "      <th>location</th>\n",
       "      <th></th>\n",
       "      <th></th>\n",
       "      <th></th>\n",
       "    </tr>\n",
       "  </thead>\n",
       "  <tbody>\n",
       "    <tr>\n",
       "      <th>Suragajakkanahalli</th>\n",
       "      <td>6000.0</td>\n",
       "      <td>339363.500000</td>\n",
       "      <td>672727.0</td>\n",
       "    </tr>\n",
       "    <tr>\n",
       "      <th>Vittal Mallya Road</th>\n",
       "      <td>29126.0</td>\n",
       "      <td>29126.000000</td>\n",
       "      <td>29126.0</td>\n",
       "    </tr>\n",
       "    <tr>\n",
       "      <th>Vasanth nagar</th>\n",
       "      <td>12051.0</td>\n",
       "      <td>24594.666667</td>\n",
       "      <td>53150.0</td>\n",
       "    </tr>\n",
       "    <tr>\n",
       "      <th>Langford Gardens</th>\n",
       "      <td>23368.0</td>\n",
       "      <td>23386.000000</td>\n",
       "      <td>23404.0</td>\n",
       "    </tr>\n",
       "    <tr>\n",
       "      <th>D Souza Layout</th>\n",
       "      <td>21903.0</td>\n",
       "      <td>21903.000000</td>\n",
       "      <td>21903.0</td>\n",
       "    </tr>\n",
       "    <tr>\n",
       "      <th>...</th>\n",
       "      <td>...</td>\n",
       "      <td>...</td>\n",
       "      <td>...</td>\n",
       "    </tr>\n",
       "    <tr>\n",
       "      <th>Chandapura</th>\n",
       "      <td>2176.0</td>\n",
       "      <td>2875.819444</td>\n",
       "      <td>7667.0</td>\n",
       "    </tr>\n",
       "    <tr>\n",
       "      <th>Tunganagara</th>\n",
       "      <td>2800.0</td>\n",
       "      <td>2866.666667</td>\n",
       "      <td>3000.0</td>\n",
       "    </tr>\n",
       "    <tr>\n",
       "      <th>Sidedahalli</th>\n",
       "      <td>2667.0</td>\n",
       "      <td>2667.000000</td>\n",
       "      <td>2667.0</td>\n",
       "    </tr>\n",
       "    <tr>\n",
       "      <th>Kadabagere</th>\n",
       "      <td>2000.0</td>\n",
       "      <td>2292.333333</td>\n",
       "      <td>2655.0</td>\n",
       "    </tr>\n",
       "    <tr>\n",
       "      <th>AMS Layout</th>\n",
       "      <td>1900.0</td>\n",
       "      <td>1900.000000</td>\n",
       "      <td>1900.0</td>\n",
       "    </tr>\n",
       "  </tbody>\n",
       "</table>\n",
       "<p>625 rows × 3 columns</p>\n",
       "</div>"
      ],
      "text/plain": [
       "                       amin           mean      amax\n",
       "location                                            \n",
       "Suragajakkanahalli   6000.0  339363.500000  672727.0\n",
       "Vittal Mallya Road  29126.0   29126.000000   29126.0\n",
       "Vasanth nagar       12051.0   24594.666667   53150.0\n",
       "Langford Gardens    23368.0   23386.000000   23404.0\n",
       "D Souza Layout      21903.0   21903.000000   21903.0\n",
       "...                     ...            ...       ...\n",
       "Chandapura           2176.0    2875.819444    7667.0\n",
       "Tunganagara          2800.0    2866.666667    3000.0\n",
       "Sidedahalli          2667.0    2667.000000    2667.0\n",
       "Kadabagere           2000.0    2292.333333    2655.0\n",
       "AMS Layout           1900.0    1900.000000    1900.0\n",
       "\n",
       "[625 rows x 3 columns]"
      ]
     },
     "execution_count": 59,
     "metadata": {},
     "output_type": "execute_result"
    }
   ],
   "source": [
    "df3.groupby('location')['price_per_sqft'].agg([np.min, np.mean, np.max]).sort_values(by='mean', ascending=False)"
   ]
  },
  {
   "cell_type": "code",
   "execution_count": 61,
   "id": "sustainable-consideration",
   "metadata": {},
   "outputs": [
    {
     "data": {
      "text/plain": [
       "482"
      ]
     },
     "execution_count": 61,
     "metadata": {},
     "output_type": "execute_result"
    }
   ],
   "source": [
    "len(location_stats[location_stats<=10])"
   ]
  },
  {
   "cell_type": "code",
   "execution_count": 62,
   "id": "exotic-support",
   "metadata": {},
   "outputs": [
    {
     "data": {
      "text/plain": [
       "location\n",
       "Prithvi Layout                    10\n",
       "Vidyaranyapura                    10\n",
       "Banashankari Stage III            10\n",
       "Arekere                           10\n",
       "Rayasandra                        10\n",
       "                                  ..\n",
       "Kothannur                          1\n",
       "Kuvempu Layout                     1\n",
       "Kuvempu Nagar                      1\n",
       "Lakshmi Layout                     1\n",
       "Yeshwanthpur Industrial Suburb     1\n",
       "Name: location, Length: 482, dtype: int64"
      ]
     },
     "execution_count": 62,
     "metadata": {},
     "output_type": "execute_result"
    }
   ],
   "source": [
    "location_less_than_10=location_stats[location_stats<=10]\n",
    "location_less_than_10"
   ]
  },
  {
   "cell_type": "code",
   "execution_count": 64,
   "id": "closed-underground",
   "metadata": {},
   "outputs": [
    {
     "data": {
      "text/plain": [
       "144"
      ]
     },
     "execution_count": 64,
     "metadata": {},
     "output_type": "execute_result"
    }
   ],
   "source": [
    "df3.location=df3.location.apply(lambda x: 'other' if x in location_less_than_10 else x)\n",
    "len(df3.location.unique())"
   ]
  },
  {
   "cell_type": "code",
   "execution_count": 65,
   "id": "local-dietary",
   "metadata": {},
   "outputs": [
    {
     "data": {
      "text/html": [
       "<div>\n",
       "<style scoped>\n",
       "    .dataframe tbody tr th:only-of-type {\n",
       "        vertical-align: middle;\n",
       "    }\n",
       "\n",
       "    .dataframe tbody tr th {\n",
       "        vertical-align: top;\n",
       "    }\n",
       "\n",
       "    .dataframe thead th {\n",
       "        text-align: right;\n",
       "    }\n",
       "</style>\n",
       "<table border=\"1\" class=\"dataframe\">\n",
       "  <thead>\n",
       "    <tr style=\"text-align: right;\">\n",
       "      <th></th>\n",
       "      <th>location</th>\n",
       "      <th>size</th>\n",
       "      <th>total_sqft</th>\n",
       "      <th>bath</th>\n",
       "      <th>price</th>\n",
       "      <th>bhk</th>\n",
       "      <th>price_per_sqft</th>\n",
       "    </tr>\n",
       "  </thead>\n",
       "  <tbody>\n",
       "    <tr>\n",
       "      <th>349</th>\n",
       "      <td>other</td>\n",
       "      <td>3 Bedroom</td>\n",
       "      <td>11.0</td>\n",
       "      <td>3.0</td>\n",
       "      <td>74.0</td>\n",
       "      <td>3</td>\n",
       "      <td>672727.0</td>\n",
       "    </tr>\n",
       "    <tr>\n",
       "      <th>480</th>\n",
       "      <td>other</td>\n",
       "      <td>4 BHK</td>\n",
       "      <td>1150.0</td>\n",
       "      <td>4.0</td>\n",
       "      <td>260.0</td>\n",
       "      <td>4</td>\n",
       "      <td>22609.0</td>\n",
       "    </tr>\n",
       "    <tr>\n",
       "      <th>483</th>\n",
       "      <td>other</td>\n",
       "      <td>5 Bedroom</td>\n",
       "      <td>1200.0</td>\n",
       "      <td>5.0</td>\n",
       "      <td>190.0</td>\n",
       "      <td>5</td>\n",
       "      <td>15833.0</td>\n",
       "    </tr>\n",
       "    <tr>\n",
       "      <th>1239</th>\n",
       "      <td>Electronic City</td>\n",
       "      <td>2 BHK</td>\n",
       "      <td>550.0</td>\n",
       "      <td>1.0</td>\n",
       "      <td>16.0</td>\n",
       "      <td>2</td>\n",
       "      <td>2909.0</td>\n",
       "    </tr>\n",
       "    <tr>\n",
       "      <th>2040</th>\n",
       "      <td>Electronic City</td>\n",
       "      <td>2 BHK</td>\n",
       "      <td>550.0</td>\n",
       "      <td>1.0</td>\n",
       "      <td>15.0</td>\n",
       "      <td>2</td>\n",
       "      <td>2727.0</td>\n",
       "    </tr>\n",
       "  </tbody>\n",
       "</table>\n",
       "</div>"
      ],
      "text/plain": [
       "             location       size  total_sqft  bath  price  bhk  price_per_sqft\n",
       "349             other  3 Bedroom        11.0   3.0   74.0    3        672727.0\n",
       "480             other      4 BHK      1150.0   4.0  260.0    4         22609.0\n",
       "483             other  5 Bedroom      1200.0   5.0  190.0    5         15833.0\n",
       "1239  Electronic City      2 BHK       550.0   1.0   16.0    2          2909.0\n",
       "2040  Electronic City      2 BHK       550.0   1.0   15.0    2          2727.0"
      ]
     },
     "execution_count": 65,
     "metadata": {},
     "output_type": "execute_result"
    }
   ],
   "source": [
    " df3[df3['total_sqft']/df3['bhk']<300].head()"
   ]
  },
  {
   "cell_type": "code",
   "execution_count": 66,
   "id": "alone-zambia",
   "metadata": {},
   "outputs": [
    {
     "data": {
      "text/plain": [
       "(7481, 7)"
      ]
     },
     "execution_count": 66,
     "metadata": {},
     "output_type": "execute_result"
    }
   ],
   "source": [
    "df3.shape"
   ]
  },
  {
   "cell_type": "code",
   "execution_count": null,
   "id": "approximate-cuisine",
   "metadata": {},
   "outputs": [],
   "source": [
    "df3=df2[~(df2['total_sqft']/df2['bhk']<300)]\n",
    "df3.shape"
   ]
  },
  {
   "cell_type": "code",
   "execution_count": null,
   "id": "aging-welsh",
   "metadata": {},
   "outputs": [],
   "source": [
    "df3.price_per_sqft.describe()"
   ]
  },
  {
   "cell_type": "markdown",
   "id": "original-housing",
   "metadata": {},
   "source": [
    "# Remove Outliers"
   ]
  },
  {
   "cell_type": "code",
   "execution_count": 67,
   "id": "geological-sheep",
   "metadata": {},
   "outputs": [
    {
     "data": {
      "text/plain": [
       "(6102, 7)"
      ]
     },
     "execution_count": 67,
     "metadata": {},
     "output_type": "execute_result"
    }
   ],
   "source": [
    "def remove_outliers(df):\n",
    "    df_out=pd.DataFrame()\n",
    "    for key, subdf in df.groupby('location'):\n",
    "        m=np.mean(subdf.price_per_sqft)\n",
    "        st=np.std(subdf.price_per_sqft)\n",
    "        reduced_df=subdf[(subdf.price_per_sqft>(m-st)) & (subdf.price_per_sqft<=(m+st))]\n",
    "        df_out=pd.concat([df_out,reduced_df],ignore_index=True)\n",
    "    return df_out\n",
    "\n",
    "df4=remove_outliers(df3)\n",
    "df4.shape\n",
    "        "
   ]
  },
  {
   "cell_type": "code",
   "execution_count": 68,
   "id": "promising-romance",
   "metadata": {},
   "outputs": [],
   "source": [
    "from matplotlib import pyplot as plt\n",
    "import matplotlib \n",
    "matplotlib.rcParams[\"figure.figsize\"] = (20,10)"
   ]
  },
  {
   "cell_type": "code",
   "execution_count": 69,
   "id": "prospective-pollution",
   "metadata": {},
   "outputs": [
    {
     "data": {
      "image/png": "[encoded data removed]",
      "text/plain": [
       "<Figure size 1500x1000 with 1 Axes>"
      ]
     },
     "metadata": {},
     "output_type": "display_data"
    }
   ],
   "source": [
    "def scatter_plot(df,location):\n",
    "    bhk2=df[(df.location==location) & (df.bhk==2)]\n",
    "    bhk3=df[(df.location==location) & (df.bhk==3)]\n",
    "    matplotlib.rcParams[\"figure.figsize\"]=(15,10)\n",
    "    plt.scatter(bhk2.total_sqft,bhk2.price_per_sqft, color='blue',label='2 BHK',s=50)\n",
    "    plt.scatter(bhk3.total_sqft, bhk3.price_per_sqft, marker='+', color='green',label='3 BHK', s=50)\n",
    "    plt.xlabel('Total Squarefoot')\n",
    "    plt.ylabel('Price per sqft')\n",
    "    plt.title(location)\n",
    "    plt.legend()\n",
    "    \n",
    "scatter_plot(df4,'Rajaji Nagar')"
   ]
  },
  {
   "cell_type": "markdown",
   "id": "generic-bangladesh",
   "metadata": {},
   "source": [
    "# Remove BHk outliers"
   ]
  },
  {
   "cell_type": "code",
   "execution_count": null,
   "id": "democratic-shame",
   "metadata": {},
   "outputs": [],
   "source": [
    "def remove_bhk_outlier(df):\n",
    "    exclude_indices=np.array([])\n",
    "    for location, location_df in df.groupby('location'):\n",
    "        bhk_stats={}\n",
    "        for bhk, bhk_df in location_df.groupby('bhk'):\n",
    "            bhk_stats[bhk]={\n",
    "                'mean':np.mean(bhk_df.price_per_sqft),\n",
    "                'std':np.std(bhk_df.price_per_sqft),\n",
    "                'count':bhk_df.shape[0]\n",
    "            }\n",
    "        for bhk, bhk_df in location_df.groupby('bhk'):\n",
    "            stats=bhk_stats.get(bhk-1)\n",
    "            if stats and stats['count']>5:\n",
    "                exclude_indices=np.append(exclude_indices,bhk_df[bhk_df.price_per_sqft<(stats['mean'])].index.values)\n",
    "    return df.drop(exclude_indices, axis='index')\n",
    "\n",
    "df5=remove_bhk_outlier(df4)\n",
    "df5.shape"
   ]
  },
  {
   "cell_type": "code",
   "execution_count": null,
   "id": "round-vocabulary",
   "metadata": {},
   "outputs": [],
   "source": [
    "scatter_plot(df4,'Hebbal')"
   ]
  },
  {
   "cell_type": "code",
   "execution_count": null,
   "id": "alpine-found",
   "metadata": {},
   "outputs": [],
   "source": [
    "import matplotlib\n",
    "matplotlib.rcParams['figure.figsize']=(20,10)\n",
    "plt.hist(df5.price_per_sqft,rwidth=0.8)\n",
    "plt.xlabel(\"Per_per_square_feet\")\n",
    "plt.ylabel(\"Count\")"
   ]
  },
  {
   "cell_type": "code",
   "execution_count": null,
   "id": "severe-senate",
   "metadata": {},
   "outputs": [],
   "source": [
    "df5.bath.unique()"
   ]
  },
  {
   "cell_type": "code",
   "execution_count": null,
   "id": "sophisticated-boating",
   "metadata": {},
   "outputs": [],
   "source": [
    " df5[df5.bath>6]"
   ]
  },
  {
   "cell_type": "code",
   "execution_count": null,
   "id": "ignored-arlington",
   "metadata": {},
   "outputs": [],
   "source": [
    "plt.hist(df5.bath,rwidth=0.8)\n",
    "plt.xlabel(\"Number of bathroom\")\n",
    "plt.ylabel(\"Count\")"
   ]
  },
  {
   "cell_type": "code",
   "execution_count": null,
   "id": "electrical-scene",
   "metadata": {},
   "outputs": [],
   "source": [
    "df5[df5.bath>df5.bhk+2]"
   ]
  },
  {
   "cell_type": "code",
   "execution_count": null,
   "id": "direct-headset",
   "metadata": {},
   "outputs": [],
   "source": [
    "df6=df5[df5.bath<df5.bhk+2]"
   ]
  },
  {
   "cell_type": "code",
   "execution_count": null,
   "id": "broadband-genesis",
   "metadata": {},
   "outputs": [],
   "source": [
    "df6.shape"
   ]
  },
  {
   "cell_type": "code",
   "execution_count": null,
   "id": "embedded-teach",
   "metadata": {},
   "outputs": [],
   "source": [
    "df7=df6.drop(['size','price_per_sqft'],axis='columns')\n",
    "df7.head()"
   ]
  },
  {
   "cell_type": "markdown",
   "id": "varied-citation",
   "metadata": {},
   "source": [
    "# Create Dummy Varibles"
   ]
  },
  {
   "cell_type": "code",
   "execution_count": null,
   "id": "intended-batman",
   "metadata": {},
   "outputs": [],
   "source": [
    "dummies=pd.get_dummies(df7.location)\n",
    "dummies.head()"
   ]
  },
  {
   "cell_type": "code",
   "execution_count": null,
   "id": "fifty-batch",
   "metadata": {},
   "outputs": [],
   "source": [
    "df8=pd.concat([df7,dummies.drop('other',axis='columns')],axis='columns')\n",
    "df8.head()"
   ]
  },
  {
   "cell_type": "code",
   "execution_count": null,
   "id": "destroyed-granny",
   "metadata": {},
   "outputs": [],
   "source": [
    "df9=df8.drop('location',axis='columns')\n",
    "df9.head()"
   ]
  },
  {
   "cell_type": "code",
   "execution_count": null,
   "id": "addressed-coordinator",
   "metadata": {},
   "outputs": [],
   "source": [
    "X=df9.drop('price',axis='columns')\n",
    "X.head()"
   ]
  },
  {
   "cell_type": "code",
   "execution_count": null,
   "id": "impossible-victor",
   "metadata": {},
   "outputs": [],
   "source": [
    "y=df9.price\n",
    "y.head()"
   ]
  },
  {
   "cell_type": "code",
   "execution_count": null,
   "id": "productive-delay",
   "metadata": {},
   "outputs": [],
   "source": [
    "from sklearn.model_selection import train_test_split\n",
    "X_train,X_testt,y_train,y_test=train_test_split(X,y,test_size=0.2,random_state=10)"
   ]
  },
  {
   "cell_type": "code",
   "execution_count": null,
   "id": "accurate-statement",
   "metadata": {},
   "outputs": [],
   "source": [
    "from sklearn.linear_model import LinearRegression\n",
    "lr_model=LinearRegression()\n",
    "lr_model.fit(X_train,y_train)\n",
    "lr_model.score(X_testt,y_test)\n"
   ]
  },
  {
   "cell_type": "code",
   "execution_count": null,
   "id": "structured-arcade",
   "metadata": {},
   "outputs": [],
   "source": [
    "from sklearn.model_selection import ShuffleSplit\n",
    "from sklearn.model_selection import cross_val_score\n",
    "\n",
    "cv=ShuffleSplit(n_splits=5,test_size=0.2, random_state=0)\n",
    "\n",
    "cross_val_score(LinearRegression(),X,y,cv=cv)"
   ]
  },
  {
   "cell_type": "markdown",
   "id": "accomplished-india",
   "metadata": {},
   "source": [
    "# Using Grid Search to Find Best model"
   ]
  },
  {
   "cell_type": "code",
   "execution_count": 91,
   "id": "abstract-story",
   "metadata": {},
   "outputs": [],
   "source": [
    "from sklearn.model_selection import GridSearchCV\n",
    "\n",
    "from sklearn.linear_model import Lasso\n",
    "from sklearn.tree import DecisionTreeRegressor\n",
    "\n",
    "\n",
    "def find_best_model(X,y):\n",
    "    algos={\n",
    "        'linear_regression':{\n",
    "            'model':LinearRegression(),\n",
    "            'params':{\n",
    "                'normalise':[True,False]\n",
    "            }\n",
    "        },\n",
    "        'lasso':{\n",
    "            'model':Lasso(),\n",
    "            'params':{\n",
    "                'alpha':[1,2],\n",
    "                'selection':['random','cyclic']\n",
    "            }\n",
    "        },\n",
    "        'decision_tree':{\n",
    "            'model':DecisionTreeRegressor(),\n",
    "            'params':{\n",
    "                'criterion':['mse','friedman_mse'],\n",
    "                'splitter':['best','random']\n",
    "            }\n",
    "        \n",
    "        }\n",
    "    }\n",
    "    \n",
    "    scores=[]\n",
    "    cv=ShuffleSplit(n_splits=5,test_size=0.2,random_state=0)\n",
    "    \n",
    "    for algo_name, config in algos.items():\n",
    "        gs=GridSearchCV(config['model'],config['params'],cv=cv,return_train_score=[False])\n",
    "        gs.fit(X,y)\n",
    "        scores.append({\n",
    "            'model':algo_name,\n",
    "            'best_score':gs.best_score_,\n",
    "            'best_params':gs.best_params_\n",
    "        })\n",
    "    return pd.DataFrame(scores,columns=['model','best_score','best_params'])"
   ]
  },
  {
   "cell_type": "code",
   "execution_count": 92,
   "id": "1de697f9",
   "metadata": {},
   "outputs": [
    {
     "data": {
      "text/html": [
       "<div>\n",
       "<style scoped>\n",
       "    .dataframe tbody tr th:only-of-type {\n",
       "        vertical-align: middle;\n",
       "    }\n",
       "\n",
       "    .dataframe tbody tr th {\n",
       "        vertical-align: top;\n",
       "    }\n",
       "\n",
       "    .dataframe thead th {\n",
       "        text-align: right;\n",
       "    }\n",
       "</style>\n",
       "<table border=\"1\" class=\"dataframe\">\n",
       "  <thead>\n",
       "    <tr style=\"text-align: right;\">\n",
       "      <th></th>\n",
       "      <th>location</th>\n",
       "      <th>size</th>\n",
       "      <th>total_sqft</th>\n",
       "      <th>bath</th>\n",
       "      <th>price</th>\n",
       "      <th>bhk</th>\n",
       "      <th>price_per_sqft</th>\n",
       "    </tr>\n",
       "  </thead>\n",
       "  <tbody>\n",
       "    <tr>\n",
       "      <th>0</th>\n",
       "      <td>Electronic City Phase II</td>\n",
       "      <td>2 BHK</td>\n",
       "      <td>1056.0</td>\n",
       "      <td>2.0</td>\n",
       "      <td>39.07</td>\n",
       "      <td>2</td>\n",
       "      <td>3700.0</td>\n",
       "    </tr>\n",
       "    <tr>\n",
       "      <th>1</th>\n",
       "      <td>Chikka Tirupathi</td>\n",
       "      <td>4 Bedroom</td>\n",
       "      <td>2600.0</td>\n",
       "      <td>5.0</td>\n",
       "      <td>120.00</td>\n",
       "      <td>4</td>\n",
       "      <td>4615.0</td>\n",
       "    </tr>\n",
       "    <tr>\n",
       "      <th>3</th>\n",
       "      <td>Lingadheeranahalli</td>\n",
       "      <td>3 BHK</td>\n",
       "      <td>1521.0</td>\n",
       "      <td>3.0</td>\n",
       "      <td>95.00</td>\n",
       "      <td>3</td>\n",
       "      <td>6246.0</td>\n",
       "    </tr>\n",
       "    <tr>\n",
       "      <th>5</th>\n",
       "      <td>Whitefield</td>\n",
       "      <td>2 BHK</td>\n",
       "      <td>1170.0</td>\n",
       "      <td>2.0</td>\n",
       "      <td>38.00</td>\n",
       "      <td>2</td>\n",
       "      <td>3248.0</td>\n",
       "    </tr>\n",
       "    <tr>\n",
       "      <th>11</th>\n",
       "      <td>Whitefield</td>\n",
       "      <td>4 Bedroom</td>\n",
       "      <td>2785.0</td>\n",
       "      <td>5.0</td>\n",
       "      <td>295.00</td>\n",
       "      <td>4</td>\n",
       "      <td>10592.0</td>\n",
       "    </tr>\n",
       "    <tr>\n",
       "      <th>...</th>\n",
       "      <td>...</td>\n",
       "      <td>...</td>\n",
       "      <td>...</td>\n",
       "      <td>...</td>\n",
       "      <td>...</td>\n",
       "      <td>...</td>\n",
       "      <td>...</td>\n",
       "    </tr>\n",
       "    <tr>\n",
       "      <th>13313</th>\n",
       "      <td>Uttarahalli</td>\n",
       "      <td>3 BHK</td>\n",
       "      <td>1345.0</td>\n",
       "      <td>2.0</td>\n",
       "      <td>57.00</td>\n",
       "      <td>3</td>\n",
       "      <td>4238.0</td>\n",
       "    </tr>\n",
       "    <tr>\n",
       "      <th>13314</th>\n",
       "      <td>Green Glen Layout</td>\n",
       "      <td>3 BHK</td>\n",
       "      <td>1715.0</td>\n",
       "      <td>3.0</td>\n",
       "      <td>112.00</td>\n",
       "      <td>3</td>\n",
       "      <td>6531.0</td>\n",
       "    </tr>\n",
       "    <tr>\n",
       "      <th>13315</th>\n",
       "      <td>Whitefield</td>\n",
       "      <td>5 Bedroom</td>\n",
       "      <td>3453.0</td>\n",
       "      <td>4.0</td>\n",
       "      <td>231.00</td>\n",
       "      <td>5</td>\n",
       "      <td>6690.0</td>\n",
       "    </tr>\n",
       "    <tr>\n",
       "      <th>13317</th>\n",
       "      <td>Raja Rajeshwari Nagar</td>\n",
       "      <td>2 BHK</td>\n",
       "      <td>1141.0</td>\n",
       "      <td>2.0</td>\n",
       "      <td>60.00</td>\n",
       "      <td>2</td>\n",
       "      <td>5259.0</td>\n",
       "    </tr>\n",
       "    <tr>\n",
       "      <th>13318</th>\n",
       "      <td>Padmanabhanagar</td>\n",
       "      <td>4 BHK</td>\n",
       "      <td>4689.0</td>\n",
       "      <td>4.0</td>\n",
       "      <td>488.00</td>\n",
       "      <td>4</td>\n",
       "      <td>10407.0</td>\n",
       "    </tr>\n",
       "  </tbody>\n",
       "</table>\n",
       "<p>7481 rows × 7 columns</p>\n",
       "</div>"
      ],
      "text/plain": [
       "                       location       size  total_sqft  bath   price  bhk  \\\n",
       "0      Electronic City Phase II      2 BHK      1056.0   2.0   39.07    2   \n",
       "1              Chikka Tirupathi  4 Bedroom      2600.0   5.0  120.00    4   \n",
       "3            Lingadheeranahalli      3 BHK      1521.0   3.0   95.00    3   \n",
       "5                    Whitefield      2 BHK      1170.0   2.0   38.00    2   \n",
       "11                   Whitefield  4 Bedroom      2785.0   5.0  295.00    4   \n",
       "...                         ...        ...         ...   ...     ...  ...   \n",
       "13313               Uttarahalli      3 BHK      1345.0   2.0   57.00    3   \n",
       "13314         Green Glen Layout      3 BHK      1715.0   3.0  112.00    3   \n",
       "13315                Whitefield  5 Bedroom      3453.0   4.0  231.00    5   \n",
       "13317     Raja Rajeshwari Nagar      2 BHK      1141.0   2.0   60.00    2   \n",
       "13318           Padmanabhanagar      4 BHK      4689.0   4.0  488.00    4   \n",
       "\n",
       "       price_per_sqft  \n",
       "0              3700.0  \n",
       "1              4615.0  \n",
       "3              6246.0  \n",
       "5              3248.0  \n",
       "11            10592.0  \n",
       "...               ...  \n",
       "13313          4238.0  \n",
       "13314          6531.0  \n",
       "13315          6690.0  \n",
       "13317          5259.0  \n",
       "13318         10407.0  \n",
       "\n",
       "[7481 rows x 7 columns]"
      ]
     },
     "execution_count": 92,
     "metadata": {},
     "output_type": "execute_result"
    }
   ],
   "source": [
    "df3"
   ]
  },
  {
   "cell_type": "code",
   "execution_count": 93,
   "id": "compact-standard",
   "metadata": {},
   "outputs": [
    {
     "data": {
      "text/html": [
       "<div>\n",
       "<style scoped>\n",
       "    .dataframe tbody tr th:only-of-type {\n",
       "        vertical-align: middle;\n",
       "    }\n",
       "\n",
       "    .dataframe tbody tr th {\n",
       "        vertical-align: top;\n",
       "    }\n",
       "\n",
       "    .dataframe thead th {\n",
       "        text-align: right;\n",
       "    }\n",
       "</style>\n",
       "<table border=\"1\" class=\"dataframe\">\n",
       "  <thead>\n",
       "    <tr style=\"text-align: right;\">\n",
       "      <th></th>\n",
       "      <th>total_sqft</th>\n",
       "      <th>bath</th>\n",
       "      <th>bhk</th>\n",
       "      <th>price_per_sqft</th>\n",
       "    </tr>\n",
       "  </thead>\n",
       "  <tbody>\n",
       "    <tr>\n",
       "      <th>0</th>\n",
       "      <td>1056.0</td>\n",
       "      <td>2.0</td>\n",
       "      <td>2</td>\n",
       "      <td>3700.0</td>\n",
       "    </tr>\n",
       "    <tr>\n",
       "      <th>1</th>\n",
       "      <td>2600.0</td>\n",
       "      <td>5.0</td>\n",
       "      <td>4</td>\n",
       "      <td>4615.0</td>\n",
       "    </tr>\n",
       "    <tr>\n",
       "      <th>3</th>\n",
       "      <td>1521.0</td>\n",
       "      <td>3.0</td>\n",
       "      <td>3</td>\n",
       "      <td>6246.0</td>\n",
       "    </tr>\n",
       "    <tr>\n",
       "      <th>5</th>\n",
       "      <td>1170.0</td>\n",
       "      <td>2.0</td>\n",
       "      <td>2</td>\n",
       "      <td>3248.0</td>\n",
       "    </tr>\n",
       "    <tr>\n",
       "      <th>11</th>\n",
       "      <td>2785.0</td>\n",
       "      <td>5.0</td>\n",
       "      <td>4</td>\n",
       "      <td>10592.0</td>\n",
       "    </tr>\n",
       "  </tbody>\n",
       "</table>\n",
       "</div>"
      ],
      "text/plain": [
       "    total_sqft  bath  bhk  price_per_sqft\n",
       "0       1056.0   2.0    2          3700.0\n",
       "1       2600.0   5.0    4          4615.0\n",
       "3       1521.0   3.0    3          6246.0\n",
       "5       1170.0   2.0    2          3248.0\n",
       "11      2785.0   5.0    4         10592.0"
      ]
     },
     "execution_count": 93,
     "metadata": {},
     "output_type": "execute_result"
    }
   ],
   "source": [
    "df5 = df3[['total_sqft', 'bath','bhk','price_per_sqft']]\n",
    "df5.head()"
   ]
  },
  {
   "cell_type": "code",
   "execution_count": 94,
   "id": "7aa358fd",
   "metadata": {},
   "outputs": [
    {
     "data": {
      "text/html": [
       "<div>\n",
       "<style scoped>\n",
       "    .dataframe tbody tr th:only-of-type {\n",
       "        vertical-align: middle;\n",
       "    }\n",
       "\n",
       "    .dataframe tbody tr th {\n",
       "        vertical-align: top;\n",
       "    }\n",
       "\n",
       "    .dataframe thead th {\n",
       "        text-align: right;\n",
       "    }\n",
       "</style>\n",
       "<table border=\"1\" class=\"dataframe\">\n",
       "  <thead>\n",
       "    <tr style=\"text-align: right;\">\n",
       "      <th></th>\n",
       "      <th>total_sqft</th>\n",
       "      <th>bath</th>\n",
       "      <th>bhk</th>\n",
       "    </tr>\n",
       "  </thead>\n",
       "  <tbody>\n",
       "    <tr>\n",
       "      <th>0</th>\n",
       "      <td>1056.0</td>\n",
       "      <td>2.0</td>\n",
       "      <td>2</td>\n",
       "    </tr>\n",
       "    <tr>\n",
       "      <th>1</th>\n",
       "      <td>2600.0</td>\n",
       "      <td>5.0</td>\n",
       "      <td>4</td>\n",
       "    </tr>\n",
       "    <tr>\n",
       "      <th>3</th>\n",
       "      <td>1521.0</td>\n",
       "      <td>3.0</td>\n",
       "      <td>3</td>\n",
       "    </tr>\n",
       "    <tr>\n",
       "      <th>5</th>\n",
       "      <td>1170.0</td>\n",
       "      <td>2.0</td>\n",
       "      <td>2</td>\n",
       "    </tr>\n",
       "    <tr>\n",
       "      <th>11</th>\n",
       "      <td>2785.0</td>\n",
       "      <td>5.0</td>\n",
       "      <td>4</td>\n",
       "    </tr>\n",
       "    <tr>\n",
       "      <th>...</th>\n",
       "      <td>...</td>\n",
       "      <td>...</td>\n",
       "      <td>...</td>\n",
       "    </tr>\n",
       "    <tr>\n",
       "      <th>13313</th>\n",
       "      <td>1345.0</td>\n",
       "      <td>2.0</td>\n",
       "      <td>3</td>\n",
       "    </tr>\n",
       "    <tr>\n",
       "      <th>13314</th>\n",
       "      <td>1715.0</td>\n",
       "      <td>3.0</td>\n",
       "      <td>3</td>\n",
       "    </tr>\n",
       "    <tr>\n",
       "      <th>13315</th>\n",
       "      <td>3453.0</td>\n",
       "      <td>4.0</td>\n",
       "      <td>5</td>\n",
       "    </tr>\n",
       "    <tr>\n",
       "      <th>13317</th>\n",
       "      <td>1141.0</td>\n",
       "      <td>2.0</td>\n",
       "      <td>2</td>\n",
       "    </tr>\n",
       "    <tr>\n",
       "      <th>13318</th>\n",
       "      <td>4689.0</td>\n",
       "      <td>4.0</td>\n",
       "      <td>4</td>\n",
       "    </tr>\n",
       "  </tbody>\n",
       "</table>\n",
       "<p>7481 rows × 3 columns</p>\n",
       "</div>"
      ],
      "text/plain": [
       "       total_sqft  bath  bhk\n",
       "0          1056.0   2.0    2\n",
       "1          2600.0   5.0    4\n",
       "3          1521.0   3.0    3\n",
       "5          1170.0   2.0    2\n",
       "11         2785.0   5.0    4\n",
       "...           ...   ...  ...\n",
       "13313      1345.0   2.0    3\n",
       "13314      1715.0   3.0    3\n",
       "13315      3453.0   4.0    5\n",
       "13317      1141.0   2.0    2\n",
       "13318      4689.0   4.0    4\n",
       "\n",
       "[7481 rows x 3 columns]"
      ]
     },
     "execution_count": 94,
     "metadata": {},
     "output_type": "execute_result"
    }
   ],
   "source": [
    "X = df5.drop('price_per_sqft', axis=1)\n",
    "X"
   ]
  },
  {
   "cell_type": "code",
   "execution_count": 95,
   "id": "a6ea412b",
   "metadata": {},
   "outputs": [
    {
     "data": {
      "text/plain": [
       "0         3700.0\n",
       "1         4615.0\n",
       "3         6246.0\n",
       "5         3248.0\n",
       "11       10592.0\n",
       "          ...   \n",
       "13313     4238.0\n",
       "13314     6531.0\n",
       "13315     6690.0\n",
       "13317     5259.0\n",
       "13318    10407.0\n",
       "Name: price_per_sqft, Length: 7481, dtype: float64"
      ]
     },
     "execution_count": 95,
     "metadata": {},
     "output_type": "execute_result"
    }
   ],
   "source": [
    "y = df5['price_per_sqft']\n",
    "y\n",
    "#print(X[10:5], y[0:5])"
   ]
  },
  {
   "cell_type": "code",
   "execution_count": 96,
   "id": "704d60f6",
   "metadata": {},
   "outputs": [],
   "source": [
    "from sklearn.model_selection import train_test_split"
   ]
  },
  {
   "cell_type": "code",
   "execution_count": 113,
   "id": "a74d0a50",
   "metadata": {},
   "outputs": [],
   "source": [
    "X_train, X_test, y_train, y_test = train_test_split(X,y ,  random_state=104, test_size=0.2,  shuffle=True)"
   ]
  },
  {
   "cell_type": "code",
   "execution_count": 114,
   "id": "174b99a5",
   "metadata": {},
   "outputs": [
    {
     "name": "stdout",
     "output_type": "stream",
     "text": [
      "(5984, 3) (5984,) (1497, 3)\n"
     ]
    }
   ],
   "source": [
    "print(X_train.shape, y_train.shape, X_test.shape)"
   ]
  },
  {
   "cell_type": "code",
   "execution_count": 99,
   "id": "b78807ac",
   "metadata": {},
   "outputs": [],
   "source": [
    "from sklearn.linear_model import LinearRegression"
   ]
  },
  {
   "cell_type": "code",
   "execution_count": 100,
   "id": "consecutive-patch",
   "metadata": {},
   "outputs": [
    {
     "ename": "NameError",
     "evalue": "name 'ShuffleSplit' is not defined",
     "output_type": "error",
     "traceback": [
      "\u001b[1;31m---------------------------------------------------------------------------\u001b[0m",
      "\u001b[1;31mNameError\u001b[0m                                 Traceback (most recent call last)",
      "\u001b[1;32m~\\AppData\\Local\\Temp\\ipykernel_13884\\2237501699.py\u001b[0m in \u001b[0;36m<module>\u001b[1;34m\u001b[0m\n\u001b[0;32m      1\u001b[0m \u001b[1;31m#find_best_model(X,y)\u001b[0m\u001b[1;33m\u001b[0m\u001b[1;33m\u001b[0m\u001b[0m\n\u001b[1;32m----> 2\u001b[1;33m \u001b[0mfind_best_model\u001b[0m\u001b[1;33m(\u001b[0m\u001b[0mX_train\u001b[0m\u001b[1;33m,\u001b[0m \u001b[0my_train\u001b[0m\u001b[1;33m)\u001b[0m\u001b[1;33m\u001b[0m\u001b[1;33m\u001b[0m\u001b[0m\n\u001b[0m",
      "\u001b[1;32m~\\AppData\\Local\\Temp\\ipykernel_13884\\1536038631.py\u001b[0m in \u001b[0;36mfind_best_model\u001b[1;34m(X, y)\u001b[0m\n\u001b[0;32m     31\u001b[0m \u001b[1;33m\u001b[0m\u001b[0m\n\u001b[0;32m     32\u001b[0m     \u001b[0mscores\u001b[0m\u001b[1;33m=\u001b[0m\u001b[1;33m[\u001b[0m\u001b[1;33m]\u001b[0m\u001b[1;33m\u001b[0m\u001b[1;33m\u001b[0m\u001b[0m\n\u001b[1;32m---> 33\u001b[1;33m     \u001b[0mcv\u001b[0m\u001b[1;33m=\u001b[0m\u001b[0mShuffleSplit\u001b[0m\u001b[1;33m(\u001b[0m\u001b[0mn_splits\u001b[0m\u001b[1;33m=\u001b[0m\u001b[1;36m5\u001b[0m\u001b[1;33m,\u001b[0m\u001b[0mtest_size\u001b[0m\u001b[1;33m=\u001b[0m\u001b[1;36m0.2\u001b[0m\u001b[1;33m,\u001b[0m\u001b[0mrandom_state\u001b[0m\u001b[1;33m=\u001b[0m\u001b[1;36m0\u001b[0m\u001b[1;33m)\u001b[0m\u001b[1;33m\u001b[0m\u001b[1;33m\u001b[0m\u001b[0m\n\u001b[0m\u001b[0;32m     34\u001b[0m \u001b[1;33m\u001b[0m\u001b[0m\n\u001b[0;32m     35\u001b[0m     \u001b[1;32mfor\u001b[0m \u001b[0malgo_name\u001b[0m\u001b[1;33m,\u001b[0m \u001b[0mconfig\u001b[0m \u001b[1;32min\u001b[0m \u001b[0malgos\u001b[0m\u001b[1;33m.\u001b[0m\u001b[0mitems\u001b[0m\u001b[1;33m(\u001b[0m\u001b[1;33m)\u001b[0m\u001b[1;33m:\u001b[0m\u001b[1;33m\u001b[0m\u001b[1;33m\u001b[0m\u001b[0m\n",
      "\u001b[1;31mNameError\u001b[0m: name 'ShuffleSplit' is not defined"
     ]
    }
   ],
   "source": [
    "#find_best_model(X,y)\n",
    "#find_best_model(X_train, y_train)"
   ]
  },
  {
   "cell_type": "code",
   "execution_count": 101,
   "id": "61dbfd6b",
   "metadata": {},
   "outputs": [
    {
     "data": {
      "text/html": [
       "<style type=\"text/css\">\n",
       "#T_ea469_row7_col1 {\n",
       "  background-color: lightgreen;\n",
       "}\n",
       "</style>\n",
       "<table id=\"T_ea469\">\n",
       "  <thead>\n",
       "    <tr>\n",
       "      <th class=\"blank level0\" >&nbsp;</th>\n",
       "      <th id=\"T_ea469_level0_col0\" class=\"col_heading level0 col0\" >Description</th>\n",
       "      <th id=\"T_ea469_level0_col1\" class=\"col_heading level0 col1\" >Value</th>\n",
       "    </tr>\n",
       "  </thead>\n",
       "  <tbody>\n",
       "    <tr>\n",
       "      <th id=\"T_ea469_level0_row0\" class=\"row_heading level0 row0\" >0</th>\n",
       "      <td id=\"T_ea469_row0_col0\" class=\"data row0 col0\" >Session id</td>\n",
       "      <td id=\"T_ea469_row0_col1\" class=\"data row0 col1\" >8781</td>\n",
       "    </tr>\n",
       "    <tr>\n",
       "      <th id=\"T_ea469_level0_row1\" class=\"row_heading level0 row1\" >1</th>\n",
       "      <td id=\"T_ea469_row1_col0\" class=\"data row1 col0\" >Target</td>\n",
       "      <td id=\"T_ea469_row1_col1\" class=\"data row1 col1\" >price_per_sqft</td>\n",
       "    </tr>\n",
       "    <tr>\n",
       "      <th id=\"T_ea469_level0_row2\" class=\"row_heading level0 row2\" >2</th>\n",
       "      <td id=\"T_ea469_row2_col0\" class=\"data row2 col0\" >Target type</td>\n",
       "      <td id=\"T_ea469_row2_col1\" class=\"data row2 col1\" >Regression</td>\n",
       "    </tr>\n",
       "    <tr>\n",
       "      <th id=\"T_ea469_level0_row3\" class=\"row_heading level0 row3\" >3</th>\n",
       "      <td id=\"T_ea469_row3_col0\" class=\"data row3 col0\" >Data shape</td>\n",
       "      <td id=\"T_ea469_row3_col1\" class=\"data row3 col1\" >(7481, 4)</td>\n",
       "    </tr>\n",
       "    <tr>\n",
       "      <th id=\"T_ea469_level0_row4\" class=\"row_heading level0 row4\" >4</th>\n",
       "      <td id=\"T_ea469_row4_col0\" class=\"data row4 col0\" >Train data shape</td>\n",
       "      <td id=\"T_ea469_row4_col1\" class=\"data row4 col1\" >(5236, 4)</td>\n",
       "    </tr>\n",
       "    <tr>\n",
       "      <th id=\"T_ea469_level0_row5\" class=\"row_heading level0 row5\" >5</th>\n",
       "      <td id=\"T_ea469_row5_col0\" class=\"data row5 col0\" >Test data shape</td>\n",
       "      <td id=\"T_ea469_row5_col1\" class=\"data row5 col1\" >(2245, 4)</td>\n",
       "    </tr>\n",
       "    <tr>\n",
       "      <th id=\"T_ea469_level0_row6\" class=\"row_heading level0 row6\" >6</th>\n",
       "      <td id=\"T_ea469_row6_col0\" class=\"data row6 col0\" >Numeric features</td>\n",
       "      <td id=\"T_ea469_row6_col1\" class=\"data row6 col1\" >3</td>\n",
       "    </tr>\n",
       "    <tr>\n",
       "      <th id=\"T_ea469_level0_row7\" class=\"row_heading level0 row7\" >7</th>\n",
       "      <td id=\"T_ea469_row7_col0\" class=\"data row7 col0\" >Preprocess</td>\n",
       "      <td id=\"T_ea469_row7_col1\" class=\"data row7 col1\" >True</td>\n",
       "    </tr>\n",
       "    <tr>\n",
       "      <th id=\"T_ea469_level0_row8\" class=\"row_heading level0 row8\" >8</th>\n",
       "      <td id=\"T_ea469_row8_col0\" class=\"data row8 col0\" >Imputation type</td>\n",
       "      <td id=\"T_ea469_row8_col1\" class=\"data row8 col1\" >simple</td>\n",
       "    </tr>\n",
       "    <tr>\n",
       "      <th id=\"T_ea469_level0_row9\" class=\"row_heading level0 row9\" >9</th>\n",
       "      <td id=\"T_ea469_row9_col0\" class=\"data row9 col0\" >Numeric imputation</td>\n",
       "      <td id=\"T_ea469_row9_col1\" class=\"data row9 col1\" >mean</td>\n",
       "    </tr>\n",
       "    <tr>\n",
       "      <th id=\"T_ea469_level0_row10\" class=\"row_heading level0 row10\" >10</th>\n",
       "      <td id=\"T_ea469_row10_col0\" class=\"data row10 col0\" >Categorical imputation</td>\n",
       "      <td id=\"T_ea469_row10_col1\" class=\"data row10 col1\" >mode</td>\n",
       "    </tr>\n",
       "    <tr>\n",
       "      <th id=\"T_ea469_level0_row11\" class=\"row_heading level0 row11\" >11</th>\n",
       "      <td id=\"T_ea469_row11_col0\" class=\"data row11 col0\" >Fold Generator</td>\n",
       "      <td id=\"T_ea469_row11_col1\" class=\"data row11 col1\" >KFold</td>\n",
       "    </tr>\n",
       "    <tr>\n",
       "      <th id=\"T_ea469_level0_row12\" class=\"row_heading level0 row12\" >12</th>\n",
       "      <td id=\"T_ea469_row12_col0\" class=\"data row12 col0\" >Fold Number</td>\n",
       "      <td id=\"T_ea469_row12_col1\" class=\"data row12 col1\" >10</td>\n",
       "    </tr>\n",
       "    <tr>\n",
       "      <th id=\"T_ea469_level0_row13\" class=\"row_heading level0 row13\" >13</th>\n",
       "      <td id=\"T_ea469_row13_col0\" class=\"data row13 col0\" >CPU Jobs</td>\n",
       "      <td id=\"T_ea469_row13_col1\" class=\"data row13 col1\" >-1</td>\n",
       "    </tr>\n",
       "    <tr>\n",
       "      <th id=\"T_ea469_level0_row14\" class=\"row_heading level0 row14\" >14</th>\n",
       "      <td id=\"T_ea469_row14_col0\" class=\"data row14 col0\" >Use GPU</td>\n",
       "      <td id=\"T_ea469_row14_col1\" class=\"data row14 col1\" >False</td>\n",
       "    </tr>\n",
       "    <tr>\n",
       "      <th id=\"T_ea469_level0_row15\" class=\"row_heading level0 row15\" >15</th>\n",
       "      <td id=\"T_ea469_row15_col0\" class=\"data row15 col0\" >Log Experiment</td>\n",
       "      <td id=\"T_ea469_row15_col1\" class=\"data row15 col1\" >False</td>\n",
       "    </tr>\n",
       "    <tr>\n",
       "      <th id=\"T_ea469_level0_row16\" class=\"row_heading level0 row16\" >16</th>\n",
       "      <td id=\"T_ea469_row16_col0\" class=\"data row16 col0\" >Experiment Name</td>\n",
       "      <td id=\"T_ea469_row16_col1\" class=\"data row16 col1\" >reg-default-name</td>\n",
       "    </tr>\n",
       "    <tr>\n",
       "      <th id=\"T_ea469_level0_row17\" class=\"row_heading level0 row17\" >17</th>\n",
       "      <td id=\"T_ea469_row17_col0\" class=\"data row17 col0\" >USI</td>\n",
       "      <td id=\"T_ea469_row17_col1\" class=\"data row17 col1\" >3d01</td>\n",
       "    </tr>\n",
       "  </tbody>\n",
       "</table>\n"
      ],
      "text/plain": [
       "<pandas.io.formats.style.Styler at 0x1dfa7ff78e0>"
      ]
     },
     "metadata": {},
     "output_type": "display_data"
    }
   ],
   "source": [
    "# using pycaret\n",
    "from pycaret.regression import *\n",
    "s = setup(df5, target = 'price_per_sqft')"
   ]
  },
  {
   "cell_type": "code",
   "execution_count": 102,
   "id": "403b923c",
   "metadata": {},
   "outputs": [
    {
     "data": {
      "text/html": [],
      "text/plain": [
       "<IPython.core.display.HTML object>"
      ]
     },
     "metadata": {},
     "output_type": "display_data"
    },
    {
     "data": {
      "text/html": [
       "<style type=\"text/css\">\n",
       "#T_e5269 th {\n",
       "  text-align: left;\n",
       "}\n",
       "#T_e5269_row0_col0, #T_e5269_row1_col0, #T_e5269_row1_col1, #T_e5269_row1_col2, #T_e5269_row1_col3, #T_e5269_row1_col4, #T_e5269_row1_col5, #T_e5269_row1_col6, #T_e5269_row2_col0, #T_e5269_row2_col1, #T_e5269_row2_col2, #T_e5269_row2_col3, #T_e5269_row2_col4, #T_e5269_row2_col5, #T_e5269_row2_col6, #T_e5269_row3_col0, #T_e5269_row3_col1, #T_e5269_row3_col2, #T_e5269_row3_col3, #T_e5269_row3_col4, #T_e5269_row3_col5, #T_e5269_row3_col6, #T_e5269_row4_col0, #T_e5269_row4_col1, #T_e5269_row4_col2, #T_e5269_row4_col3, #T_e5269_row4_col4, #T_e5269_row4_col5, #T_e5269_row4_col6, #T_e5269_row5_col0, #T_e5269_row5_col1, #T_e5269_row5_col2, #T_e5269_row5_col3, #T_e5269_row5_col4, #T_e5269_row5_col5, #T_e5269_row5_col6, #T_e5269_row6_col0, #T_e5269_row6_col1, #T_e5269_row6_col2, #T_e5269_row6_col3, #T_e5269_row6_col4, #T_e5269_row6_col5, #T_e5269_row6_col6, #T_e5269_row7_col0, #T_e5269_row7_col1, #T_e5269_row7_col2, #T_e5269_row7_col3, #T_e5269_row7_col4, #T_e5269_row7_col5, #T_e5269_row7_col6, #T_e5269_row8_col0, #T_e5269_row8_col1, #T_e5269_row8_col2, #T_e5269_row8_col3, #T_e5269_row8_col4, #T_e5269_row8_col5, #T_e5269_row8_col6, #T_e5269_row9_col0, #T_e5269_row9_col1, #T_e5269_row9_col2, #T_e5269_row9_col3, #T_e5269_row9_col4, #T_e5269_row9_col5, #T_e5269_row9_col6, #T_e5269_row10_col0, #T_e5269_row10_col1, #T_e5269_row10_col2, #T_e5269_row10_col3, #T_e5269_row10_col4, #T_e5269_row10_col5, #T_e5269_row10_col6, #T_e5269_row11_col0, #T_e5269_row11_col1, #T_e5269_row11_col2, #T_e5269_row11_col3, #T_e5269_row11_col4, #T_e5269_row11_col5, #T_e5269_row11_col6, #T_e5269_row12_col0, #T_e5269_row12_col1, #T_e5269_row12_col2, #T_e5269_row12_col3, #T_e5269_row12_col4, #T_e5269_row12_col5, #T_e5269_row12_col6, #T_e5269_row13_col0, #T_e5269_row13_col1, #T_e5269_row13_col2, #T_e5269_row13_col3, #T_e5269_row13_col4, #T_e5269_row13_col5, #T_e5269_row13_col6, #T_e5269_row14_col0, #T_e5269_row14_col1, #T_e5269_row14_col2, #T_e5269_row14_col3, #T_e5269_row14_col4, #T_e5269_row14_col5, #T_e5269_row14_col6, #T_e5269_row15_col0, #T_e5269_row15_col1, #T_e5269_row15_col2, #T_e5269_row15_col3, #T_e5269_row15_col4, #T_e5269_row15_col5, #T_e5269_row15_col6, #T_e5269_row16_col0, #T_e5269_row16_col1, #T_e5269_row16_col2, #T_e5269_row16_col3, #T_e5269_row16_col4, #T_e5269_row16_col5, #T_e5269_row16_col6, #T_e5269_row17_col0, #T_e5269_row17_col1, #T_e5269_row17_col2, #T_e5269_row17_col3, #T_e5269_row17_col4, #T_e5269_row17_col5, #T_e5269_row17_col6 {\n",
       "  text-align: left;\n",
       "}\n",
       "#T_e5269_row0_col1, #T_e5269_row0_col2, #T_e5269_row0_col3, #T_e5269_row0_col4, #T_e5269_row0_col5, #T_e5269_row0_col6 {\n",
       "  text-align: left;\n",
       "  background-color: yellow;\n",
       "}\n",
       "#T_e5269_row0_col7, #T_e5269_row1_col7, #T_e5269_row2_col7, #T_e5269_row4_col7, #T_e5269_row5_col7, #T_e5269_row6_col7, #T_e5269_row7_col7, #T_e5269_row8_col7, #T_e5269_row9_col7, #T_e5269_row10_col7, #T_e5269_row11_col7, #T_e5269_row12_col7, #T_e5269_row14_col7, #T_e5269_row15_col7, #T_e5269_row16_col7, #T_e5269_row17_col7 {\n",
       "  text-align: left;\n",
       "  background-color: lightgrey;\n",
       "}\n",
       "#T_e5269_row3_col7, #T_e5269_row13_col7 {\n",
       "  text-align: left;\n",
       "  background-color: yellow;\n",
       "  background-color: lightgrey;\n",
       "}\n",
       "</style>\n",
       "<table id=\"T_e5269\">\n",
       "  <thead>\n",
       "    <tr>\n",
       "      <th class=\"blank level0\" >&nbsp;</th>\n",
       "      <th id=\"T_e5269_level0_col0\" class=\"col_heading level0 col0\" >Model</th>\n",
       "      <th id=\"T_e5269_level0_col1\" class=\"col_heading level0 col1\" >MAE</th>\n",
       "      <th id=\"T_e5269_level0_col2\" class=\"col_heading level0 col2\" >MSE</th>\n",
       "      <th id=\"T_e5269_level0_col3\" class=\"col_heading level0 col3\" >RMSE</th>\n",
       "      <th id=\"T_e5269_level0_col4\" class=\"col_heading level0 col4\" >R2</th>\n",
       "      <th id=\"T_e5269_level0_col5\" class=\"col_heading level0 col5\" >RMSLE</th>\n",
       "      <th id=\"T_e5269_level0_col6\" class=\"col_heading level0 col6\" >MAPE</th>\n",
       "      <th id=\"T_e5269_level0_col7\" class=\"col_heading level0 col7\" >TT (Sec)</th>\n",
       "    </tr>\n",
       "  </thead>\n",
       "  <tbody>\n",
       "    <tr>\n",
       "      <th id=\"T_e5269_level0_row0\" class=\"row_heading level0 row0\" >gbr</th>\n",
       "      <td id=\"T_e5269_row0_col0\" class=\"data row0 col0\" >Gradient Boosting Regressor</td>\n",
       "      <td id=\"T_e5269_row0_col1\" class=\"data row0 col1\" >1607.7180</td>\n",
       "      <td id=\"T_e5269_row0_col2\" class=\"data row0 col2\" >113019858.3815</td>\n",
       "      <td id=\"T_e5269_row0_col3\" class=\"data row0 col3\" >5347.2036</td>\n",
       "      <td id=\"T_e5269_row0_col4\" class=\"data row0 col4\" >0.2126</td>\n",
       "      <td id=\"T_e5269_row0_col5\" class=\"data row0 col5\" >0.3161</td>\n",
       "      <td id=\"T_e5269_row0_col6\" class=\"data row0 col6\" >0.2565</td>\n",
       "      <td id=\"T_e5269_row0_col7\" class=\"data row0 col7\" >0.1360</td>\n",
       "    </tr>\n",
       "    <tr>\n",
       "      <th id=\"T_e5269_level0_row1\" class=\"row_heading level0 row1\" >knn</th>\n",
       "      <td id=\"T_e5269_row1_col0\" class=\"data row1 col0\" >K Neighbors Regressor</td>\n",
       "      <td id=\"T_e5269_row1_col1\" class=\"data row1 col1\" >1654.0191</td>\n",
       "      <td id=\"T_e5269_row1_col2\" class=\"data row1 col2\" >115422706.4500</td>\n",
       "      <td id=\"T_e5269_row1_col3\" class=\"data row1 col3\" >5478.3052</td>\n",
       "      <td id=\"T_e5269_row1_col4\" class=\"data row1 col4\" >0.1381</td>\n",
       "      <td id=\"T_e5269_row1_col5\" class=\"data row1 col5\" >0.3357</td>\n",
       "      <td id=\"T_e5269_row1_col6\" class=\"data row1 col6\" >0.2622</td>\n",
       "      <td id=\"T_e5269_row1_col7\" class=\"data row1 col7\" >0.0680</td>\n",
       "    </tr>\n",
       "    <tr>\n",
       "      <th id=\"T_e5269_level0_row2\" class=\"row_heading level0 row2\" >rf</th>\n",
       "      <td id=\"T_e5269_row2_col0\" class=\"data row2 col0\" >Random Forest Regressor</td>\n",
       "      <td id=\"T_e5269_row2_col1\" class=\"data row2 col1\" >1610.1239</td>\n",
       "      <td id=\"T_e5269_row2_col2\" class=\"data row2 col2\" >113095098.7497</td>\n",
       "      <td id=\"T_e5269_row2_col3\" class=\"data row2 col3\" >5437.1589</td>\n",
       "      <td id=\"T_e5269_row2_col4\" class=\"data row2 col4\" >0.1284</td>\n",
       "      <td id=\"T_e5269_row2_col5\" class=\"data row2 col5\" >0.3274</td>\n",
       "      <td id=\"T_e5269_row2_col6\" class=\"data row2 col6\" >0.2567</td>\n",
       "      <td id=\"T_e5269_row2_col7\" class=\"data row2 col7\" >0.4090</td>\n",
       "    </tr>\n",
       "    <tr>\n",
       "      <th id=\"T_e5269_level0_row3\" class=\"row_heading level0 row3\" >omp</th>\n",
       "      <td id=\"T_e5269_row3_col0\" class=\"data row3 col0\" >Orthogonal Matching Pursuit</td>\n",
       "      <td id=\"T_e5269_row3_col1\" class=\"data row3 col1\" >1789.3461</td>\n",
       "      <td id=\"T_e5269_row3_col2\" class=\"data row3 col2\" >115121375.2000</td>\n",
       "      <td id=\"T_e5269_row3_col3\" class=\"data row3 col3\" >5505.1187</td>\n",
       "      <td id=\"T_e5269_row3_col4\" class=\"data row3 col4\" >0.1177</td>\n",
       "      <td id=\"T_e5269_row3_col5\" class=\"data row3 col5\" >0.3506</td>\n",
       "      <td id=\"T_e5269_row3_col6\" class=\"data row3 col6\" >0.2988</td>\n",
       "      <td id=\"T_e5269_row3_col7\" class=\"data row3 col7\" >0.0200</td>\n",
       "    </tr>\n",
       "    <tr>\n",
       "      <th id=\"T_e5269_level0_row4\" class=\"row_heading level0 row4\" >en</th>\n",
       "      <td id=\"T_e5269_row4_col0\" class=\"data row4 col0\" >Elastic Net</td>\n",
       "      <td id=\"T_e5269_row4_col1\" class=\"data row4 col1\" >1794.0996</td>\n",
       "      <td id=\"T_e5269_row4_col2\" class=\"data row4 col2\" >115610230.7000</td>\n",
       "      <td id=\"T_e5269_row4_col3\" class=\"data row4 col3\" >5522.1171</td>\n",
       "      <td id=\"T_e5269_row4_col4\" class=\"data row4 col4\" >0.1111</td>\n",
       "      <td id=\"T_e5269_row4_col5\" class=\"data row4 col5\" >0.3532</td>\n",
       "      <td id=\"T_e5269_row4_col6\" class=\"data row4 col6\" >0.3007</td>\n",
       "      <td id=\"T_e5269_row4_col7\" class=\"data row4 col7\" >0.0320</td>\n",
       "    </tr>\n",
       "    <tr>\n",
       "      <th id=\"T_e5269_level0_row5\" class=\"row_heading level0 row5\" >llar</th>\n",
       "      <td id=\"T_e5269_row5_col0\" class=\"data row5 col0\" >Lasso Least Angle Regression</td>\n",
       "      <td id=\"T_e5269_row5_col1\" class=\"data row5 col1\" >1820.7487</td>\n",
       "      <td id=\"T_e5269_row5_col2\" class=\"data row5 col2\" >115458144.5500</td>\n",
       "      <td id=\"T_e5269_row5_col3\" class=\"data row5 col3\" >5541.1495</td>\n",
       "      <td id=\"T_e5269_row5_col4\" class=\"data row5 col4\" >0.0928</td>\n",
       "      <td id=\"T_e5269_row5_col5\" class=\"data row5 col5\" >0.3568</td>\n",
       "      <td id=\"T_e5269_row5_col6\" class=\"data row5 col6\" >0.3057</td>\n",
       "      <td id=\"T_e5269_row5_col7\" class=\"data row5 col7\" >0.0240</td>\n",
       "    </tr>\n",
       "    <tr>\n",
       "      <th id=\"T_e5269_level0_row6\" class=\"row_heading level0 row6\" >lasso</th>\n",
       "      <td id=\"T_e5269_row6_col0\" class=\"data row6 col0\" >Lasso Regression</td>\n",
       "      <td id=\"T_e5269_row6_col1\" class=\"data row6 col1\" >1848.8241</td>\n",
       "      <td id=\"T_e5269_row6_col2\" class=\"data row6 col2\" >115664173.3750</td>\n",
       "      <td id=\"T_e5269_row6_col3\" class=\"data row6 col3\" >5581.6592</td>\n",
       "      <td id=\"T_e5269_row6_col4\" class=\"data row6 col4\" >0.0609</td>\n",
       "      <td id=\"T_e5269_row6_col5\" class=\"data row6 col5\" >0.3640</td>\n",
       "      <td id=\"T_e5269_row6_col6\" class=\"data row6 col6\" >0.3146</td>\n",
       "      <td id=\"T_e5269_row6_col7\" class=\"data row6 col7\" >0.0240</td>\n",
       "    </tr>\n",
       "    <tr>\n",
       "      <th id=\"T_e5269_level0_row7\" class=\"row_heading level0 row7\" >ridge</th>\n",
       "      <td id=\"T_e5269_row7_col0\" class=\"data row7 col0\" >Ridge Regression</td>\n",
       "      <td id=\"T_e5269_row7_col1\" class=\"data row7 col1\" >1849.1041</td>\n",
       "      <td id=\"T_e5269_row7_col2\" class=\"data row7 col2\" >115664849.5500</td>\n",
       "      <td id=\"T_e5269_row7_col3\" class=\"data row7 col3\" >5581.9765</td>\n",
       "      <td id=\"T_e5269_row7_col4\" class=\"data row7 col4\" >0.0606</td>\n",
       "      <td id=\"T_e5269_row7_col5\" class=\"data row7 col5\" >0.3641</td>\n",
       "      <td id=\"T_e5269_row7_col6\" class=\"data row7 col6\" >0.3147</td>\n",
       "      <td id=\"T_e5269_row7_col7\" class=\"data row7 col7\" >0.2450</td>\n",
       "    </tr>\n",
       "    <tr>\n",
       "      <th id=\"T_e5269_level0_row8\" class=\"row_heading level0 row8\" >lr</th>\n",
       "      <td id=\"T_e5269_row8_col0\" class=\"data row8 col0\" >Linear Regression</td>\n",
       "      <td id=\"T_e5269_row8_col1\" class=\"data row8 col1\" >1849.1484</td>\n",
       "      <td id=\"T_e5269_row8_col2\" class=\"data row8 col2\" >115665155.9250</td>\n",
       "      <td id=\"T_e5269_row8_col3\" class=\"data row8 col3\" >5582.0580</td>\n",
       "      <td id=\"T_e5269_row8_col4\" class=\"data row8 col4\" >0.0606</td>\n",
       "      <td id=\"T_e5269_row8_col5\" class=\"data row8 col5\" >0.3641</td>\n",
       "      <td id=\"T_e5269_row8_col6\" class=\"data row8 col6\" >0.3147</td>\n",
       "      <td id=\"T_e5269_row8_col7\" class=\"data row8 col7\" >1.2600</td>\n",
       "    </tr>\n",
       "    <tr>\n",
       "      <th id=\"T_e5269_level0_row9\" class=\"row_heading level0 row9\" >lar</th>\n",
       "      <td id=\"T_e5269_row9_col0\" class=\"data row9 col0\" >Least Angle Regression</td>\n",
       "      <td id=\"T_e5269_row9_col1\" class=\"data row9 col1\" >1849.1484</td>\n",
       "      <td id=\"T_e5269_row9_col2\" class=\"data row9 col2\" >115665156.5750</td>\n",
       "      <td id=\"T_e5269_row9_col3\" class=\"data row9 col3\" >5582.0582</td>\n",
       "      <td id=\"T_e5269_row9_col4\" class=\"data row9 col4\" >0.0606</td>\n",
       "      <td id=\"T_e5269_row9_col5\" class=\"data row9 col5\" >0.3641</td>\n",
       "      <td id=\"T_e5269_row9_col6\" class=\"data row9 col6\" >0.3147</td>\n",
       "      <td id=\"T_e5269_row9_col7\" class=\"data row9 col7\" >0.0310</td>\n",
       "    </tr>\n",
       "    <tr>\n",
       "      <th id=\"T_e5269_level0_row10\" class=\"row_heading level0 row10\" >br</th>\n",
       "      <td id=\"T_e5269_row10_col0\" class=\"data row10 col0\" >Bayesian Ridge</td>\n",
       "      <td id=\"T_e5269_row10_col1\" class=\"data row10 col1\" >1848.2676</td>\n",
       "      <td id=\"T_e5269_row10_col2\" class=\"data row10 col2\" >116548156.9500</td>\n",
       "      <td id=\"T_e5269_row10_col3\" class=\"data row10 col3\" >5630.8383</td>\n",
       "      <td id=\"T_e5269_row10_col4\" class=\"data row10 col4\" >0.0320</td>\n",
       "      <td id=\"T_e5269_row10_col5\" class=\"data row10 col5\" >0.3710</td>\n",
       "      <td id=\"T_e5269_row10_col6\" class=\"data row10 col6\" >0.3255</td>\n",
       "      <td id=\"T_e5269_row10_col7\" class=\"data row10 col7\" >0.0290</td>\n",
       "    </tr>\n",
       "    <tr>\n",
       "      <th id=\"T_e5269_level0_row11\" class=\"row_heading level0 row11\" >huber</th>\n",
       "      <td id=\"T_e5269_row11_col0\" class=\"data row11 col0\" >Huber Regressor</td>\n",
       "      <td id=\"T_e5269_row11_col1\" class=\"data row11 col1\" >1656.8283</td>\n",
       "      <td id=\"T_e5269_row11_col2\" class=\"data row11 col2\" >116735199.6921</td>\n",
       "      <td id=\"T_e5269_row11_col3\" class=\"data row11 col3\" >5615.4266</td>\n",
       "      <td id=\"T_e5269_row11_col4\" class=\"data row11 col4\" >0.0274</td>\n",
       "      <td id=\"T_e5269_row11_col5\" class=\"data row11 col5\" >0.3363</td>\n",
       "      <td id=\"T_e5269_row11_col6\" class=\"data row11 col6\" >0.2755</td>\n",
       "      <td id=\"T_e5269_row11_col7\" class=\"data row11 col7\" >0.0550</td>\n",
       "    </tr>\n",
       "    <tr>\n",
       "      <th id=\"T_e5269_level0_row12\" class=\"row_heading level0 row12\" >dt</th>\n",
       "      <td id=\"T_e5269_row12_col0\" class=\"data row12 col0\" >Decision Tree Regressor</td>\n",
       "      <td id=\"T_e5269_row12_col1\" class=\"data row12 col1\" >1686.8877</td>\n",
       "      <td id=\"T_e5269_row12_col2\" class=\"data row12 col2\" >113928711.0575</td>\n",
       "      <td id=\"T_e5269_row12_col3\" class=\"data row12 col3\" >5581.9614</td>\n",
       "      <td id=\"T_e5269_row12_col4\" class=\"data row12 col4\" >0.0192</td>\n",
       "      <td id=\"T_e5269_row12_col5\" class=\"data row12 col5\" >0.3464</td>\n",
       "      <td id=\"T_e5269_row12_col6\" class=\"data row12 col6\" >0.2673</td>\n",
       "      <td id=\"T_e5269_row12_col7\" class=\"data row12 col7\" >0.0300</td>\n",
       "    </tr>\n",
       "    <tr>\n",
       "      <th id=\"T_e5269_level0_row13\" class=\"row_heading level0 row13\" >dummy</th>\n",
       "      <td id=\"T_e5269_row13_col0\" class=\"data row13 col0\" >Dummy Regressor</td>\n",
       "      <td id=\"T_e5269_row13_col1\" class=\"data row13 col1\" >1936.0797</td>\n",
       "      <td id=\"T_e5269_row13_col2\" class=\"data row13 col2\" >116506665.2500</td>\n",
       "      <td id=\"T_e5269_row13_col3\" class=\"data row13 col3\" >5683.8442</td>\n",
       "      <td id=\"T_e5269_row13_col4\" class=\"data row13 col4\" >-0.0128</td>\n",
       "      <td id=\"T_e5269_row13_col5\" class=\"data row13 col5\" >0.3835</td>\n",
       "      <td id=\"T_e5269_row13_col6\" class=\"data row13 col6\" >0.3318</td>\n",
       "      <td id=\"T_e5269_row13_col7\" class=\"data row13 col7\" >0.0200</td>\n",
       "    </tr>\n",
       "    <tr>\n",
       "      <th id=\"T_e5269_level0_row14\" class=\"row_heading level0 row14\" >et</th>\n",
       "      <td id=\"T_e5269_row14_col0\" class=\"data row14 col0\" >Extra Trees Regressor</td>\n",
       "      <td id=\"T_e5269_row14_col1\" class=\"data row14 col1\" >1667.2979</td>\n",
       "      <td id=\"T_e5269_row14_col2\" class=\"data row14 col2\" >114404983.0358</td>\n",
       "      <td id=\"T_e5269_row14_col3\" class=\"data row14 col3\" >5693.8797</td>\n",
       "      <td id=\"T_e5269_row14_col4\" class=\"data row14 col4\" >-0.1013</td>\n",
       "      <td id=\"T_e5269_row14_col5\" class=\"data row14 col5\" >0.3417</td>\n",
       "      <td id=\"T_e5269_row14_col6\" class=\"data row14 col6\" >0.2658</td>\n",
       "      <td id=\"T_e5269_row14_col7\" class=\"data row14 col7\" >0.3220</td>\n",
       "    </tr>\n",
       "    <tr>\n",
       "      <th id=\"T_e5269_level0_row15\" class=\"row_heading level0 row15\" >lightgbm</th>\n",
       "      <td id=\"T_e5269_row15_col0\" class=\"data row15 col0\" >Light Gradient Boosting Machine</td>\n",
       "      <td id=\"T_e5269_row15_col1\" class=\"data row15 col1\" >1841.7274</td>\n",
       "      <td id=\"T_e5269_row15_col2\" class=\"data row15 col2\" >122266030.7631</td>\n",
       "      <td id=\"T_e5269_row15_col3\" class=\"data row15 col3\" >6610.0637</td>\n",
       "      <td id=\"T_e5269_row15_col4\" class=\"data row15 col4\" >-1.0233</td>\n",
       "      <td id=\"T_e5269_row15_col5\" class=\"data row15 col5\" >0.3778</td>\n",
       "      <td id=\"T_e5269_row15_col6\" class=\"data row15 col6\" >0.3174</td>\n",
       "      <td id=\"T_e5269_row15_col7\" class=\"data row15 col7\" >0.2860</td>\n",
       "    </tr>\n",
       "    <tr>\n",
       "      <th id=\"T_e5269_level0_row16\" class=\"row_heading level0 row16\" >ada</th>\n",
       "      <td id=\"T_e5269_row16_col0\" class=\"data row16 col0\" >AdaBoost Regressor</td>\n",
       "      <td id=\"T_e5269_row16_col1\" class=\"data row16 col1\" >2598.0371</td>\n",
       "      <td id=\"T_e5269_row16_col2\" class=\"data row16 col2\" >122924920.2255</td>\n",
       "      <td id=\"T_e5269_row16_col3\" class=\"data row16 col3\" >6676.6984</td>\n",
       "      <td id=\"T_e5269_row16_col4\" class=\"data row16 col4\" >-1.5279</td>\n",
       "      <td id=\"T_e5269_row16_col5\" class=\"data row16 col5\" >0.4550</td>\n",
       "      <td id=\"T_e5269_row16_col6\" class=\"data row16 col6\" >0.4660</td>\n",
       "      <td id=\"T_e5269_row16_col7\" class=\"data row16 col7\" >0.0990</td>\n",
       "    </tr>\n",
       "    <tr>\n",
       "      <th id=\"T_e5269_level0_row17\" class=\"row_heading level0 row17\" >par</th>\n",
       "      <td id=\"T_e5269_row17_col0\" class=\"data row17 col0\" >Passive Aggressive Regressor</td>\n",
       "      <td id=\"T_e5269_row17_col1\" class=\"data row17 col1\" >2552.0622</td>\n",
       "      <td id=\"T_e5269_row17_col2\" class=\"data row17 col2\" >132288827.5301</td>\n",
       "      <td id=\"T_e5269_row17_col3\" class=\"data row17 col3\" >7268.1618</td>\n",
       "      <td id=\"T_e5269_row17_col4\" class=\"data row17 col4\" >-2.3341</td>\n",
       "      <td id=\"T_e5269_row17_col5\" class=\"data row17 col5\" >0.4901</td>\n",
       "      <td id=\"T_e5269_row17_col6\" class=\"data row17 col6\" >0.5009</td>\n",
       "      <td id=\"T_e5269_row17_col7\" class=\"data row17 col7\" >0.0230</td>\n",
       "    </tr>\n",
       "  </tbody>\n",
       "</table>\n"
      ],
      "text/plain": [
       "<pandas.io.formats.style.Styler at 0x1dfa7c6a400>"
      ]
     },
     "metadata": {},
     "output_type": "display_data"
    },
    {
     "data": {
      "application/vnd.jupyter.widget-view+json": {
       "model_id": "",
       "version_major": 2,
       "version_minor": 0
      },
      "text/plain": [
       "Processing:   0%|          | 0/77 [00:00<?, ?it/s]"
      ]
     },
     "metadata": {},
     "output_type": "display_data"
    }
   ],
   "source": [
    "best = compare_models()"
   ]
  },
  {
   "cell_type": "code",
   "execution_count": 103,
   "id": "39449eb9",
   "metadata": {},
   "outputs": [
    {
     "name": "stdout",
     "output_type": "stream",
     "text": [
      "GradientBoostingRegressor(random_state=8781)\n"
     ]
    }
   ],
   "source": [
    "print(best)"
   ]
  },
  {
   "cell_type": "code",
   "execution_count": 104,
   "id": "0889e6ba",
   "metadata": {},
   "outputs": [
    {
     "data": {
      "application/vnd.jupyter.widget-view+json": {
       "model_id": "97efd69a0d874c0895eb1f2d9801bb9e",
       "version_major": 2,
       "version_minor": 0
      },
      "text/plain": [
       "interactive(children=(ToggleButtons(description='Plot Type:', icons=('',), options=(('Pipeline Plot', 'pipelin…"
      ]
     },
     "metadata": {},
     "output_type": "display_data"
    }
   ],
   "source": [
    "evaluate_model(best)"
   ]
  },
  {
   "cell_type": "code",
   "execution_count": 105,
   "id": "ff3d3a02",
   "metadata": {},
   "outputs": [
    {
     "data": {
      "text/html": [],
      "text/plain": [
       "<IPython.core.display.HTML object>"
      ]
     },
     "metadata": {},
     "output_type": "display_data"
    },
    {
     "data": {
      "image/png": "[encoded data removed]",
      "text/plain": [
       "<Figure size 800x550 with 2 Axes>"
      ]
     },
     "metadata": {},
     "output_type": "display_data"
    }
   ],
   "source": [
    "plot_model(best, plot = 'residuals')"
   ]
  },
  {
   "cell_type": "code",
   "execution_count": 106,
   "id": "30d70108",
   "metadata": {},
   "outputs": [
    {
     "data": {
      "text/html": [],
      "text/plain": [
       "<IPython.core.display.HTML object>"
      ]
     },
     "metadata": {},
     "output_type": "display_data"
    },
    {
     "data": {
      "image/png": "[encoded data removed]",
      "text/plain": [
       "<Figure size 800x500 with 1 Axes>"
      ]
     },
     "metadata": {},
     "output_type": "display_data"
    }
   ],
   "source": [
    "plot_model(best, plot = 'feature')"
   ]
  },
  {
   "cell_type": "code",
   "execution_count": 107,
   "id": "9522da37",
   "metadata": {},
   "outputs": [
    {
     "data": {
      "text/html": [
       "<style type=\"text/css\">\n",
       "</style>\n",
       "<table id=\"T_69b35\">\n",
       "  <thead>\n",
       "    <tr>\n",
       "      <th class=\"blank level0\" >&nbsp;</th>\n",
       "      <th id=\"T_69b35_level0_col0\" class=\"col_heading level0 col0\" >Model</th>\n",
       "      <th id=\"T_69b35_level0_col1\" class=\"col_heading level0 col1\" >MAE</th>\n",
       "      <th id=\"T_69b35_level0_col2\" class=\"col_heading level0 col2\" >MSE</th>\n",
       "      <th id=\"T_69b35_level0_col3\" class=\"col_heading level0 col3\" >RMSE</th>\n",
       "      <th id=\"T_69b35_level0_col4\" class=\"col_heading level0 col4\" >R2</th>\n",
       "      <th id=\"T_69b35_level0_col5\" class=\"col_heading level0 col5\" >RMSLE</th>\n",
       "      <th id=\"T_69b35_level0_col6\" class=\"col_heading level0 col6\" >MAPE</th>\n",
       "    </tr>\n",
       "  </thead>\n",
       "  <tbody>\n",
       "    <tr>\n",
       "      <th id=\"T_69b35_level0_row0\" class=\"row_heading level0 row0\" >0</th>\n",
       "      <td id=\"T_69b35_row0_col0\" class=\"data row0 col0\" >Gradient Boosting Regressor</td>\n",
       "      <td id=\"T_69b35_row0_col1\" class=\"data row0 col1\" >1450.5541</td>\n",
       "      <td id=\"T_69b35_row0_col2\" class=\"data row0 col2\" >5692133.9387</td>\n",
       "      <td id=\"T_69b35_row0_col3\" class=\"data row0 col3\" >2385.8193</td>\n",
       "      <td id=\"T_69b35_row0_col4\" class=\"data row0 col4\" >0.2780</td>\n",
       "      <td id=\"T_69b35_row0_col5\" class=\"data row0 col5\" >0.3146</td>\n",
       "      <td id=\"T_69b35_row0_col6\" class=\"data row0 col6\" >0.2582</td>\n",
       "    </tr>\n",
       "  </tbody>\n",
       "</table>\n"
      ],
      "text/plain": [
       "<pandas.io.formats.style.Styler at 0x1dfa827ef70>"
      ]
     },
     "metadata": {},
     "output_type": "display_data"
    },
    {
     "data": {
      "text/html": [
       "<div>\n",
       "<style scoped>\n",
       "    .dataframe tbody tr th:only-of-type {\n",
       "        vertical-align: middle;\n",
       "    }\n",
       "\n",
       "    .dataframe tbody tr th {\n",
       "        vertical-align: top;\n",
       "    }\n",
       "\n",
       "    .dataframe thead th {\n",
       "        text-align: right;\n",
       "    }\n",
       "</style>\n",
       "<table border=\"1\" class=\"dataframe\">\n",
       "  <thead>\n",
       "    <tr style=\"text-align: right;\">\n",
       "      <th></th>\n",
       "      <th>total_sqft</th>\n",
       "      <th>bath</th>\n",
       "      <th>bhk</th>\n",
       "      <th>price_per_sqft</th>\n",
       "      <th>prediction_label</th>\n",
       "    </tr>\n",
       "  </thead>\n",
       "  <tbody>\n",
       "    <tr>\n",
       "      <th>5236</th>\n",
       "      <td>1362.0</td>\n",
       "      <td>3.0</td>\n",
       "      <td>3.0</td>\n",
       "      <td>4598.0</td>\n",
       "      <td>5291.088260</td>\n",
       "    </tr>\n",
       "    <tr>\n",
       "      <th>5237</th>\n",
       "      <td>1735.0</td>\n",
       "      <td>3.0</td>\n",
       "      <td>3.0</td>\n",
       "      <td>7781.0</td>\n",
       "      <td>6577.445903</td>\n",
       "    </tr>\n",
       "    <tr>\n",
       "      <th>5238</th>\n",
       "      <td>1545.0</td>\n",
       "      <td>3.0</td>\n",
       "      <td>3.0</td>\n",
       "      <td>5502.0</td>\n",
       "      <td>5766.993777</td>\n",
       "    </tr>\n",
       "    <tr>\n",
       "      <th>5239</th>\n",
       "      <td>1656.0</td>\n",
       "      <td>2.0</td>\n",
       "      <td>3.0</td>\n",
       "      <td>3800.0</td>\n",
       "      <td>6317.754464</td>\n",
       "    </tr>\n",
       "    <tr>\n",
       "      <th>5240</th>\n",
       "      <td>1080.0</td>\n",
       "      <td>2.0</td>\n",
       "      <td>2.0</td>\n",
       "      <td>7407.0</td>\n",
       "      <td>4774.783144</td>\n",
       "    </tr>\n",
       "    <tr>\n",
       "      <th>...</th>\n",
       "      <td>...</td>\n",
       "      <td>...</td>\n",
       "      <td>...</td>\n",
       "      <td>...</td>\n",
       "      <td>...</td>\n",
       "    </tr>\n",
       "    <tr>\n",
       "      <th>7476</th>\n",
       "      <td>1140.0</td>\n",
       "      <td>2.0</td>\n",
       "      <td>2.0</td>\n",
       "      <td>3947.0</td>\n",
       "      <td>4821.418958</td>\n",
       "    </tr>\n",
       "    <tr>\n",
       "      <th>7477</th>\n",
       "      <td>1585.0</td>\n",
       "      <td>3.0</td>\n",
       "      <td>3.0</td>\n",
       "      <td>5300.0</td>\n",
       "      <td>6014.783516</td>\n",
       "    </tr>\n",
       "    <tr>\n",
       "      <th>7478</th>\n",
       "      <td>845.0</td>\n",
       "      <td>2.0</td>\n",
       "      <td>2.0</td>\n",
       "      <td>3432.0</td>\n",
       "      <td>4716.820779</td>\n",
       "    </tr>\n",
       "    <tr>\n",
       "      <th>7479</th>\n",
       "      <td>975.0</td>\n",
       "      <td>2.0</td>\n",
       "      <td>2.0</td>\n",
       "      <td>5641.0</td>\n",
       "      <td>4820.448941</td>\n",
       "    </tr>\n",
       "    <tr>\n",
       "      <th>7480</th>\n",
       "      <td>1500.0</td>\n",
       "      <td>3.0</td>\n",
       "      <td>3.0</td>\n",
       "      <td>4333.0</td>\n",
       "      <td>5882.227888</td>\n",
       "    </tr>\n",
       "  </tbody>\n",
       "</table>\n",
       "<p>2245 rows × 5 columns</p>\n",
       "</div>"
      ],
      "text/plain": [
       "      total_sqft  bath  bhk  price_per_sqft  prediction_label\n",
       "5236      1362.0   3.0  3.0          4598.0       5291.088260\n",
       "5237      1735.0   3.0  3.0          7781.0       6577.445903\n",
       "5238      1545.0   3.0  3.0          5502.0       5766.993777\n",
       "5239      1656.0   2.0  3.0          3800.0       6317.754464\n",
       "5240      1080.0   2.0  2.0          7407.0       4774.783144\n",
       "...          ...   ...  ...             ...               ...\n",
       "7476      1140.0   2.0  2.0          3947.0       4821.418958\n",
       "7477      1585.0   3.0  3.0          5300.0       6014.783516\n",
       "7478       845.0   2.0  2.0          3432.0       4716.820779\n",
       "7479       975.0   2.0  2.0          5641.0       4820.448941\n",
       "7480      1500.0   3.0  3.0          4333.0       5882.227888\n",
       "\n",
       "[2245 rows x 5 columns]"
      ]
     },
     "execution_count": 107,
     "metadata": {},
     "output_type": "execute_result"
    }
   ],
   "source": [
    "predict_model(best)"
   ]
  },
  {
   "cell_type": "code",
   "execution_count": null,
   "id": "a2392600",
   "metadata": {},
   "outputs": [],
   "source": [
    "predictions = predict_model(best, data=data)\n",
    "predictions.head()"
   ]
  },
  {
   "cell_type": "code",
   "execution_count": 108,
   "id": "c13b084d",
   "metadata": {},
   "outputs": [],
   "source": [
    "model = LinearRegression()"
   ]
  },
  {
   "cell_type": "code",
   "execution_count": 109,
   "id": "eb9f4cb0",
   "metadata": {},
   "outputs": [
    {
     "data": {
      "text/html": [
       "<style>#sk-container-id-1 {color: black;background-color: white;}#sk-container-id-1 pre{padding: 0;}#sk-container-id-1 div.sk-toggleable {background-color: white;}#sk-container-id-1 label.sk-toggleable__label {cursor: pointer;display: block;width: 100%;margin-bottom: 0;padding: 0.3em;box-sizing: border-box;text-align: center;}#sk-container-id-1 label.sk-toggleable__label-arrow:before {content: \"▸\";float: left;margin-right: 0.25em;color: #696969;}#sk-container-id-1 label.sk-toggleable__label-arrow:hover:before {color: black;}#sk-container-id-1 div.sk-estimator:hover label.sk-toggleable__label-arrow:before {color: black;}#sk-container-id-1 div.sk-toggleable__content {max-height: 0;max-width: 0;overflow: hidden;text-align: left;background-color: #f0f8ff;}#sk-container-id-1 div.sk-toggleable__content pre {margin: 0.2em;color: black;border-radius: 0.25em;background-color: #f0f8ff;}#sk-container-id-1 input.sk-toggleable__control:checked~div.sk-toggleable__content {max-height: 200px;max-width: 100%;overflow: auto;}#sk-container-id-1 input.sk-toggleable__control:checked~label.sk-toggleable__label-arrow:before {content: \"▾\";}#sk-container-id-1 div.sk-estimator input.sk-toggleable__control:checked~label.sk-toggleable__label {background-color: #d4ebff;}#sk-container-id-1 div.sk-label input.sk-toggleable__control:checked~label.sk-toggleable__label {background-color: #d4ebff;}#sk-container-id-1 input.sk-hidden--visually {border: 0;clip: rect(1px 1px 1px 1px);clip: rect(1px, 1px, 1px, 1px);height: 1px;margin: -1px;overflow: hidden;padding: 0;position: absolute;width: 1px;}#sk-container-id-1 div.sk-estimator {font-family: monospace;background-color: #f0f8ff;border: 1px dotted black;border-radius: 0.25em;box-sizing: border-box;margin-bottom: 0.5em;}#sk-container-id-1 div.sk-estimator:hover {background-color: #d4ebff;}#sk-container-id-1 div.sk-parallel-item::after {content: \"\";width: 100%;border-bottom: 1px solid gray;flex-grow: 1;}#sk-container-id-1 div.sk-label:hover label.sk-toggleable__label {background-color: #d4ebff;}#sk-container-id-1 div.sk-serial::before {content: \"\";position: absolute;border-left: 1px solid gray;box-sizing: border-box;top: 0;bottom: 0;left: 50%;z-index: 0;}#sk-container-id-1 div.sk-serial {display: flex;flex-direction: column;align-items: center;background-color: white;padding-right: 0.2em;padding-left: 0.2em;position: relative;}#sk-container-id-1 div.sk-item {position: relative;z-index: 1;}#sk-container-id-1 div.sk-parallel {display: flex;align-items: stretch;justify-content: center;background-color: white;position: relative;}#sk-container-id-1 div.sk-item::before, #sk-container-id-1 div.sk-parallel-item::before {content: \"\";position: absolute;border-left: 1px solid gray;box-sizing: border-box;top: 0;bottom: 0;left: 50%;z-index: -1;}#sk-container-id-1 div.sk-parallel-item {display: flex;flex-direction: column;z-index: 1;position: relative;background-color: white;}#sk-container-id-1 div.sk-parallel-item:first-child::after {align-self: flex-end;width: 50%;}#sk-container-id-1 div.sk-parallel-item:last-child::after {align-self: flex-start;width: 50%;}#sk-container-id-1 div.sk-parallel-item:only-child::after {width: 0;}#sk-container-id-1 div.sk-dashed-wrapped {border: 1px dashed gray;margin: 0 0.4em 0.5em 0.4em;box-sizing: border-box;padding-bottom: 0.4em;background-color: white;}#sk-container-id-1 div.sk-label label {font-family: monospace;font-weight: bold;display: inline-block;line-height: 1.2em;}#sk-container-id-1 div.sk-label-container {text-align: center;}#sk-container-id-1 div.sk-container {/* jupyter's `normalize.less` sets `[hidden] { display: none; }` but bootstrap.min.css set `[hidden] { display: none !important; }` so we also need the `!important` here to be able to override the default hidden behavior on the sphinx rendered scikit-learn.org. See: https://github.com/scikit-learn/scikit-learn/issues/21755 */display: inline-block !important;position: relative;}#sk-container-id-1 div.sk-text-repr-fallback {display: none;}</style><div id=\"sk-container-id-1\" class=\"sk-top-container\"><div class=\"sk-text-repr-fallback\"><pre>LinearRegression()</pre><b>In a Jupyter environment, please rerun this cell to show the HTML representation or trust the notebook. <br />On GitHub, the HTML representation is unable to render, please try loading this page with nbviewer.org.</b></div><div class=\"sk-container\" hidden><div class=\"sk-item\"><div class=\"sk-estimator sk-toggleable\"><input class=\"sk-toggleable__control sk-hidden--visually\" id=\"sk-estimator-id-1\" type=\"checkbox\" checked><label for=\"sk-estimator-id-1\" class=\"sk-toggleable__label sk-toggleable__label-arrow\">LinearRegression</label><div class=\"sk-toggleable__content\"><pre>LinearRegression()</pre></div></div></div></div></div>"
      ],
      "text/plain": [
       "LinearRegression()"
      ]
     },
     "execution_count": 109,
     "metadata": {},
     "output_type": "execute_result"
    }
   ],
   "source": [
    "model.fit(X_train, y_train)"
   ]
  },
  {
   "cell_type": "code",
   "execution_count": 110,
   "id": "716aa636",
   "metadata": {},
   "outputs": [],
   "source": [
    " model = LinearRegression().fit(X_train, y_train)"
   ]
  },
  {
   "cell_type": "code",
   "execution_count": 112,
   "id": "a45bd2cf",
   "metadata": {},
   "outputs": [
    {
     "name": "stdout",
     "output_type": "stream",
     "text": [
      "coefficient of determination: 0.014745700979172716\n"
     ]
    }
   ],
   "source": [
    "r_sq = model.score(X_train, y_train)\n",
    "print(f\"coefficient of determination: {r_sq}\")"
   ]
  },
  {
   "cell_type": "code",
   "execution_count": null,
   "id": "35e100e0",
   "metadata": {},
   "outputs": [],
   "source": []
  }
 ],
 "metadata": {
  "kernelspec": {
   "display_name": "Python 3 (ipykernel)",
   "language": "python",
   "name": "python3"
  },
  "language_info": {
   "codemirror_mode": {
    "name": "ipython",
    "version": 3
   },
   "file_extension": ".py",
   "mimetype": "text/x-python",
   "name": "python",
   "nbconvert_exporter": "python",
   "pygments_lexer": "ipython3",
   "version": "3.9.13"
  }
 },
 "nbformat": 4,
 "nbformat_minor": 5
}
