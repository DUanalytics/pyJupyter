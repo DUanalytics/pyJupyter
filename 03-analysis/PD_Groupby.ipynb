{
 "cells": [
  {
   "cell_type": "markdown",
   "id": "7a687607",
   "metadata": {},
   "source": [
    "# Pandas Group By\n",
    "Pandas groupby is used for grouping the data according to the categories and apply a function to the categories. It also helps to aggregate data efficiently.\n",
    "dataframe.groupby() function is used to split the data into groups based on some criteria. pandas objects can be split on any of their axes. The abstract definition of grouping is to provide a mapping of labels to group names.\n",
    "DataFrame.groupby(by=None, axis=0, level=None, as_index=True, sort=True, group_keys=True, squeeze=False, **kwargs)\n",
    "by : mapping, function, str, or iterable\n",
    "axis : int, default 0\n",
    "level : If the axis is a MultiIndex (hierarchical), group by a particular level or levels\n",
    "as_index : For aggregated output, return object with group labels as the index. Only relevant for DataFrame input. as_index=False is effectively “SQL-style” grouped output\n",
    "sort : Sort group keys. Get better performance by turning this off. Note this does not influence the order of observations within each group. groupby preserves the order of rows within each group.\n",
    "group_keys : When calling apply, add group keys to index to identify pieces\n",
    "squeeze : Reduce the dimensionality of the return type if possible, otherwise return a consistent type\n",
    "\n",
    "Returns : GroupBy object"
   ]
  },
  {
   "cell_type": "code",
   "execution_count": 3,
   "id": "88f7844b",
   "metadata": {},
   "outputs": [],
   "source": [
    "# Libraries\n",
    "import numpy as np\n",
    "import pandas as pd"
   ]
  },
  {
   "cell_type": "code",
   "execution_count": 8,
   "id": "e9e37fc6",
   "metadata": {},
   "outputs": [],
   "source": [
    "#from pydataset import data\n",
    "#mtcars = data('mtcars')\n",
    "#mtcarsDF = mtcars\n",
    "#mtcarsDF.head()"
   ]
  },
  {
   "cell_type": "code",
   "execution_count": null,
   "id": "16ad15ff",
   "metadata": {},
   "outputs": [],
   "source": []
  }
 ],
 "metadata": {
  "kernelspec": {
   "display_name": "Python 3 (ipykernel)",
   "language": "python",
   "name": "python3"
  },
  "language_info": {
   "codemirror_mode": {
    "name": "ipython",
    "version": 3
   },
   "file_extension": ".py",
   "mimetype": "text/x-python",
   "name": "python",
   "nbconvert_exporter": "python",
   "pygments_lexer": "ipython3",
   "version": "3.9.12"
  }
 },
 "nbformat": 4,
 "nbformat_minor": 5
}
