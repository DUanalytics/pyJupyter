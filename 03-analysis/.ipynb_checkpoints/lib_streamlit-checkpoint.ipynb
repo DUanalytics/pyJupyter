{
 "cells": [
  {
   "cell_type": "markdown",
   "id": "19e950f2",
   "metadata": {},
   "source": [
    "# stream lit\n",
    "https://streamlit.io/\n",
    "!pip install streamlit   \n",
    "!pip install pickle"
   ]
  },
  {
   "cell_type": "code",
   "execution_count": null,
   "id": "925cbfe5",
   "metadata": {},
   "outputs": [],
   "source": []
  },
  {
   "cell_type": "code",
   "execution_count": 4,
   "id": "e03b650f",
   "metadata": {},
   "outputs": [],
   "source": [
    "import streamlit as st\n",
    "import pandas as pd\n",
    "import pickle as pkl"
   ]
  },
  {
   "cell_type": "code",
   "execution_count": 3,
   "id": "77e8c463",
   "metadata": {},
   "outputs": [
    {
     "name": "stderr",
     "output_type": "stream",
     "text": [
      "WARNING: Ignoring invalid distribution -atplotlib (c:\\programdata\\anaconda3\\lib\\site-packages)\n",
      "WARNING: Ignoring invalid distribution -atplotlib (c:\\programdata\\anaconda3\\lib\\site-packages)\n",
      "ERROR: Could not find a version that satisfies the requirement pickle (from versions: none)\n",
      "ERROR: No matching distribution found for pickle\n",
      "WARNING: Ignoring invalid distribution -atplotlib (c:\\programdata\\anaconda3\\lib\\site-packages)\n",
      "WARNING: Ignoring invalid distribution -atplotlib (c:\\programdata\\anaconda3\\lib\\site-packages)\n",
      "WARNING: Ignoring invalid distribution -atplotlib (c:\\programdata\\anaconda3\\lib\\site-packages)\n"
     ]
    }
   ],
   "source": []
  },
  {
   "cell_type": "code",
   "execution_count": null,
   "id": "1c4ef5e4",
   "metadata": {},
   "outputs": [],
   "source": [
    "model = pkl.load(open('path of model', 'rb'))"
   ]
  },
  {
   "cell_type": "code",
   "execution_count": 5,
   "id": "f2a87f94",
   "metadata": {},
   "outputs": [
    {
     "name": "stderr",
     "output_type": "stream",
     "text": [
      "2022-12-04 12:07:13.984 \n",
      "  \u001b[33m\u001b[1mWarning:\u001b[0m to view this Streamlit app on a browser, run it with the following\n",
      "  command:\n",
      "\n",
      "    streamlit run C:\\ProgramData\\Anaconda3\\lib\\site-packages\\ipykernel_launcher.py [ARGUMENTS]\n"
     ]
    },
    {
     "data": {
      "text/plain": [
       "DeltaGenerator(_root_container=0, _provided_cursor=None, _parent=None, _block_type=None, _form_data=None)"
      ]
     },
     "execution_count": 5,
     "metadata": {},
     "output_type": "execute_result"
    }
   ],
   "source": [
    "st.title('Medical Insurance')\n",
    "#ignore warnings"
   ]
  },
  {
   "cell_type": "code",
   "execution_count": null,
   "id": "b038e902",
   "metadata": {},
   "outputs": [],
   "source": [
    "age = st.number_input('Age', min_value =1 , max_value = 100, value-25)\n",
    "sex = st.number_input('Sex', min_value =0 , max_value = 1)\n",
    "bmi = st.number_input('BMI', min_value =10 , max_value = 50, value=10)\n",
    "children = st.number_input('Children', min_value =0 , max_value = 5, value=0)\n",
    "smoker = st.number_input('Smoker', min_value = 0 , max_value = 1)\n",
    "region_NE = st.number_input('region_NE', min_value = 0 , max_value = 5, value=0)\n",
    "region_NW = st.number_input('region_NW', min_value = 0 , max_value = 5, value=0)\n",
    "region_SE = st.number_input('region_SE', min_value = 0 , max_value = 5, value=0)\n",
    "region_SW = st.number_input('region_SW', min_value = 0 , max_value = 5, value=0)\n",
    "output =\"\"\n",
    "\n",
    "# model based on numerical values\n",
    "if st.button(\"Predict\"):\n",
    "    result = model.predict([[age, sex, bmi, children, smoker, region_NE, region_NW, region_SE, region_SW]])\n",
    "    st.success('The output of the above is {}'.format(result))\n",
    "\n"
   ]
  }
 ],
 "metadata": {
  "kernelspec": {
   "display_name": "Python 3 (ipykernel)",
   "language": "python",
   "name": "python3"
  },
  "language_info": {
   "codemirror_mode": {
    "name": "ipython",
    "version": 3
   },
   "file_extension": ".py",
   "mimetype": "text/x-python",
   "name": "python",
   "nbconvert_exporter": "python",
   "pygments_lexer": "ipython3",
   "version": "3.9.13"
  }
 },
 "nbformat": 4,
 "nbformat_minor": 5
}
