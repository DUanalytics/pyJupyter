{
 "cells": [
  {
   "cell_type": "code",
   "execution_count": null,
   "id": "9761bc14",
   "metadata": {},
   "outputs": [],
   "source": [
    "#outliers in python\n",
    "#outlier is an extreme value An Outlier is a data-item/object that deviates significantly from the rest of the (so-called normal)objects. They can be caused by measurement or execution errors. The analysis for outlier detection is referred to as outlier mining. There are many ways to detect the outliers, and the removal process is the data frame same as removing a data item from the panda’s data frame"
   ]
  },
  {
   "cell_type": "code",
   "execution_count": 17,
   "id": "09ae57fa",
   "metadata": {},
   "outputs": [
    {
     "data": {
      "text/html": [
       "<div>\n",
       "<style scoped>\n",
       "    .dataframe tbody tr th:only-of-type {\n",
       "        vertical-align: middle;\n",
       "    }\n",
       "\n",
       "    .dataframe tbody tr th {\n",
       "        vertical-align: top;\n",
       "    }\n",
       "\n",
       "    .dataframe thead th {\n",
       "        text-align: right;\n",
       "    }\n",
       "</style>\n",
       "<table border=\"1\" class=\"dataframe\">\n",
       "  <thead>\n",
       "    <tr style=\"text-align: right;\">\n",
       "      <th></th>\n",
       "      <th>MedInc</th>\n",
       "      <th>HouseAge</th>\n",
       "      <th>AveRooms</th>\n",
       "      <th>AveBedrms</th>\n",
       "      <th>Population</th>\n",
       "      <th>AveOccup</th>\n",
       "      <th>Latitude</th>\n",
       "      <th>Longitude</th>\n",
       "    </tr>\n",
       "  </thead>\n",
       "  <tbody>\n",
       "    <tr>\n",
       "      <th>0</th>\n",
       "      <td>8.3252</td>\n",
       "      <td>41.0</td>\n",
       "      <td>6.984127</td>\n",
       "      <td>1.023810</td>\n",
       "      <td>322.0</td>\n",
       "      <td>2.555556</td>\n",
       "      <td>37.88</td>\n",
       "      <td>-122.23</td>\n",
       "    </tr>\n",
       "    <tr>\n",
       "      <th>1</th>\n",
       "      <td>8.3014</td>\n",
       "      <td>21.0</td>\n",
       "      <td>6.238137</td>\n",
       "      <td>0.971880</td>\n",
       "      <td>2401.0</td>\n",
       "      <td>2.109842</td>\n",
       "      <td>37.86</td>\n",
       "      <td>-122.22</td>\n",
       "    </tr>\n",
       "    <tr>\n",
       "      <th>2</th>\n",
       "      <td>7.2574</td>\n",
       "      <td>52.0</td>\n",
       "      <td>8.288136</td>\n",
       "      <td>1.073446</td>\n",
       "      <td>496.0</td>\n",
       "      <td>2.802260</td>\n",
       "      <td>37.85</td>\n",
       "      <td>-122.24</td>\n",
       "    </tr>\n",
       "    <tr>\n",
       "      <th>3</th>\n",
       "      <td>5.6431</td>\n",
       "      <td>52.0</td>\n",
       "      <td>5.817352</td>\n",
       "      <td>1.073059</td>\n",
       "      <td>558.0</td>\n",
       "      <td>2.547945</td>\n",
       "      <td>37.85</td>\n",
       "      <td>-122.25</td>\n",
       "    </tr>\n",
       "    <tr>\n",
       "      <th>4</th>\n",
       "      <td>3.8462</td>\n",
       "      <td>52.0</td>\n",
       "      <td>6.281853</td>\n",
       "      <td>1.081081</td>\n",
       "      <td>565.0</td>\n",
       "      <td>2.181467</td>\n",
       "      <td>37.85</td>\n",
       "      <td>-122.25</td>\n",
       "    </tr>\n",
       "  </tbody>\n",
       "</table>\n",
       "</div>"
      ],
      "text/plain": [
       "   MedInc  HouseAge  AveRooms  AveBedrms  Population  AveOccup  Latitude  \\\n",
       "0  8.3252      41.0  6.984127   1.023810       322.0  2.555556     37.88   \n",
       "1  8.3014      21.0  6.238137   0.971880      2401.0  2.109842     37.86   \n",
       "2  7.2574      52.0  8.288136   1.073446       496.0  2.802260     37.85   \n",
       "3  5.6431      52.0  5.817352   1.073059       558.0  2.547945     37.85   \n",
       "4  3.8462      52.0  6.281853   1.081081       565.0  2.181467     37.85   \n",
       "\n",
       "   Longitude  \n",
       "0    -122.23  \n",
       "1    -122.22  \n",
       "2    -122.24  \n",
       "3    -122.25  \n",
       "4    -122.25  "
      ]
     },
     "execution_count": 17,
     "metadata": {},
     "output_type": "execute_result"
    }
   ],
   "source": [
    "#import libraries\n",
    "import sklearn\n",
    "#from sklearn.datasets import load_boston  #ethical issue\n",
    "import numpy as np\n",
    "import pandas as pd\n",
    "import matplotlib.pyplot as plt\n",
    "from sklearn.datasets import fetch_california_housing\n",
    "housing = fetch_california_housing()\n",
    "# Load the dataset\n",
    "housing\n",
    " \n",
    "# Create the dataframe\n",
    "column_name = housing.feature_names\n",
    "column_name\n",
    "df_housing = pd.DataFrame(housing.data)\n",
    "df_housing.columns = column_name\n",
    "df_housing.head()"
   ]
  },
  {
   "cell_type": "code",
   "execution_count": null,
   "id": "b3a03179",
   "metadata": {},
   "outputs": [],
   "source": [
    "#method1 : Visualisation"
   ]
  },
  {
   "cell_type": "code",
   "execution_count": 10,
   "id": "40a58f45",
   "metadata": {},
   "outputs": [],
   "source": [
    "# Box Plot\n",
    "import seaborn as sns\n",
    "#sns.boxplot(df_housing.HouseAge)"
   ]
  },
  {
   "cell_type": "code",
   "execution_count": 15,
   "id": "df538e88",
   "metadata": {},
   "outputs": [
    {
     "data": {
      "text/plain": [
       "(MedInc           15.000100\n",
       " HouseAge         52.000000\n",
       " AveRooms        141.909091\n",
       " AveBedrms        34.066667\n",
       " Population    35682.000000\n",
       " AveOccup       1243.333333\n",
       " Latitude         41.950000\n",
       " Longitude      -114.310000\n",
       " dtype: float64,\n",
       " MedInc          0.499900\n",
       " HouseAge        1.000000\n",
       " AveRooms        0.846154\n",
       " AveBedrms       0.333333\n",
       " Population      3.000000\n",
       " AveOccup        0.692308\n",
       " Latitude       32.540000\n",
       " Longitude    -124.350000\n",
       " dtype: float64)"
      ]
     },
     "execution_count": 15,
     "metadata": {},
     "output_type": "execute_result"
    }
   ],
   "source": [
    "#range of values\n",
    "df_housing.max(), df_housing.min()"
   ]
  },
  {
   "cell_type": "code",
   "execution_count": 20,
   "id": "a304392c",
   "metadata": {},
   "outputs": [
    {
     "name": "stdout",
     "output_type": "stream",
     "text": [
      "(array([    2,     3,     4, ..., 20237, 20443, 20592], dtype=int64),)\n"
     ]
    }
   ],
   "source": [
    "# Position of the Outlier\n",
    "print(np.where(df_housing['HouseAge'] > 49))"
   ]
  },
  {
   "cell_type": "code",
   "execution_count": 21,
   "id": "5a41f5dd",
   "metadata": {},
   "outputs": [],
   "source": [
    "# Z score\n",
    "from scipy import stats\n",
    "import numpy as np"
   ]
  },
  {
   "cell_type": "code",
   "execution_count": 22,
   "id": "39bfdb58",
   "metadata": {},
   "outputs": [
    {
     "name": "stdout",
     "output_type": "stream",
     "text": [
      "0        0.982143\n",
      "1        0.607019\n",
      "2        1.856182\n",
      "3        1.856182\n",
      "4        1.856182\n",
      "           ...   \n",
      "20635    0.289187\n",
      "20636    0.845393\n",
      "20637    0.924851\n",
      "20638    0.845393\n",
      "20639    1.004309\n",
      "Name: HouseAge, Length: 20640, dtype: float64\n"
     ]
    }
   ],
   "source": [
    "z = np.abs(stats.zscore(df_housing['HouseAge']))\n",
    "print(z)"
   ]
  },
  {
   "cell_type": "code",
   "execution_count": 28,
   "id": "9a920598",
   "metadata": {},
   "outputs": [
    {
     "name": "stdout",
     "output_type": "stream",
     "text": [
      "(array([   59,   854,  1565,  1566,  1648,  2206,  2339,  2774,  3130,\n",
      "        3140,  9109,  9132,  9168,  9187,  9378, 10336, 10376, 10391,\n",
      "       10410, 10416, 10513, 10519, 10524, 10529, 12006, 12077, 12084,\n",
      "       12123, 12142, 12143, 12156, 12171, 12201, 12203, 12204, 12285,\n",
      "       12286, 12868, 13041, 13102, 13177, 13367, 13373, 13374, 13659,\n",
      "       13713, 15444, 15464, 15736, 16383, 16566, 16593, 17824, 18725,\n",
      "       18942, 18972, 18989, 19001, 19046, 19536, 19561, 19650],\n",
      "      dtype=int64),)\n"
     ]
    }
   ],
   "source": [
    "threshold = 2.1\n",
    " \n",
    "# Position of the outlier\n",
    "print(np.where(z > threshold))"
   ]
  },
  {
   "cell_type": "code",
   "execution_count": null,
   "id": "9860d99c",
   "metadata": {},
   "outputs": [],
   "source": []
  }
 ],
 "metadata": {
  "kernelspec": {
   "display_name": "Python 3 (ipykernel)",
   "language": "python",
   "name": "python3"
  },
  "language_info": {
   "codemirror_mode": {
    "name": "ipython",
    "version": 3
   },
   "file_extension": ".py",
   "mimetype": "text/x-python",
   "name": "python",
   "nbconvert_exporter": "python",
   "pygments_lexer": "ipython3",
   "version": "3.10.9"
  }
 },
 "nbformat": 4,
 "nbformat_minor": 5
}
