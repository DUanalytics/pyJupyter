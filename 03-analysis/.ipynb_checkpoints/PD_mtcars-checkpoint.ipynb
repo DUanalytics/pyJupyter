{
 "cells": [
  {
   "cell_type": "markdown",
   "id": "a324f59a-f843-4a43-847a-d701a155d6b6",
   "metadata": {
    "tags": []
   },
   "source": [
    "# Pandas\n",
    "\n",
    "General Pandas Functionsusing mtcars data set\n",
    "\n",
    "Attributes and Underlying Data"
   ]
  },
  {
   "cell_type": "code",
   "execution_count": 1,
   "id": "6e5ab2de-19da-442e-a4f9-fdea243bb50e",
   "metadata": {},
   "outputs": [],
   "source": [
    "### libraries"
   ]
  },
  {
   "cell_type": "code",
   "execution_count": 1,
   "id": "f46ef971",
   "metadata": {},
   "outputs": [],
   "source": [
    "## libraries\n",
    "import numpy as np\n",
    "import pandas as pd\n",
    "import matplotlib.pyplot as plt\n",
    "#pandas DF are combination of panda Series..\n",
    "#one column data is a Series of one datatype, DF can have multiple data types"
   ]
  },
  {
   "cell_type": "code",
   "execution_count": 2,
   "id": "6287c3c3-6f29-4f89-aa1c-29d2e2530b53",
   "metadata": {},
   "outputs": [
    {
     "data": {
      "text/html": [
       "<div>\n",
       "<style scoped>\n",
       "    .dataframe tbody tr th:only-of-type {\n",
       "        vertical-align: middle;\n",
       "    }\n",
       "\n",
       "    .dataframe tbody tr th {\n",
       "        vertical-align: top;\n",
       "    }\n",
       "\n",
       "    .dataframe thead th {\n",
       "        text-align: right;\n",
       "    }\n",
       "</style>\n",
       "<table border=\"1\" class=\"dataframe\">\n",
       "  <thead>\n",
       "    <tr style=\"text-align: right;\">\n",
       "      <th></th>\n",
       "      <th>mpg</th>\n",
       "      <th>cyl</th>\n",
       "      <th>disp</th>\n",
       "      <th>hp</th>\n",
       "      <th>drat</th>\n",
       "      <th>wt</th>\n",
       "      <th>qsec</th>\n",
       "      <th>vs</th>\n",
       "      <th>am</th>\n",
       "      <th>gear</th>\n",
       "      <th>carb</th>\n",
       "    </tr>\n",
       "  </thead>\n",
       "  <tbody>\n",
       "    <tr>\n",
       "      <th>Mazda RX4</th>\n",
       "      <td>21.0</td>\n",
       "      <td>6</td>\n",
       "      <td>160.0</td>\n",
       "      <td>110</td>\n",
       "      <td>3.90</td>\n",
       "      <td>2.620</td>\n",
       "      <td>16.46</td>\n",
       "      <td>0</td>\n",
       "      <td>1</td>\n",
       "      <td>4</td>\n",
       "      <td>4</td>\n",
       "    </tr>\n",
       "    <tr>\n",
       "      <th>Mazda RX4 Wag</th>\n",
       "      <td>21.0</td>\n",
       "      <td>6</td>\n",
       "      <td>160.0</td>\n",
       "      <td>110</td>\n",
       "      <td>3.90</td>\n",
       "      <td>2.875</td>\n",
       "      <td>17.02</td>\n",
       "      <td>0</td>\n",
       "      <td>1</td>\n",
       "      <td>4</td>\n",
       "      <td>4</td>\n",
       "    </tr>\n",
       "    <tr>\n",
       "      <th>Datsun 710</th>\n",
       "      <td>22.8</td>\n",
       "      <td>4</td>\n",
       "      <td>108.0</td>\n",
       "      <td>93</td>\n",
       "      <td>3.85</td>\n",
       "      <td>2.320</td>\n",
       "      <td>18.61</td>\n",
       "      <td>1</td>\n",
       "      <td>1</td>\n",
       "      <td>4</td>\n",
       "      <td>1</td>\n",
       "    </tr>\n",
       "    <tr>\n",
       "      <th>Hornet 4 Drive</th>\n",
       "      <td>21.4</td>\n",
       "      <td>6</td>\n",
       "      <td>258.0</td>\n",
       "      <td>110</td>\n",
       "      <td>3.08</td>\n",
       "      <td>3.215</td>\n",
       "      <td>19.44</td>\n",
       "      <td>1</td>\n",
       "      <td>0</td>\n",
       "      <td>3</td>\n",
       "      <td>1</td>\n",
       "    </tr>\n",
       "    <tr>\n",
       "      <th>Hornet Sportabout</th>\n",
       "      <td>18.7</td>\n",
       "      <td>8</td>\n",
       "      <td>360.0</td>\n",
       "      <td>175</td>\n",
       "      <td>3.15</td>\n",
       "      <td>3.440</td>\n",
       "      <td>17.02</td>\n",
       "      <td>0</td>\n",
       "      <td>0</td>\n",
       "      <td>3</td>\n",
       "      <td>2</td>\n",
       "    </tr>\n",
       "  </tbody>\n",
       "</table>\n",
       "</div>"
      ],
      "text/plain": [
       "                    mpg  cyl   disp   hp  drat     wt   qsec  vs  am  gear  \\\n",
       "Mazda RX4          21.0    6  160.0  110  3.90  2.620  16.46   0   1     4   \n",
       "Mazda RX4 Wag      21.0    6  160.0  110  3.90  2.875  17.02   0   1     4   \n",
       "Datsun 710         22.8    4  108.0   93  3.85  2.320  18.61   1   1     4   \n",
       "Hornet 4 Drive     21.4    6  258.0  110  3.08  3.215  19.44   1   0     3   \n",
       "Hornet Sportabout  18.7    8  360.0  175  3.15  3.440  17.02   0   0     3   \n",
       "\n",
       "                   carb  \n",
       "Mazda RX4             4  \n",
       "Mazda RX4 Wag         4  \n",
       "Datsun 710            1  \n",
       "Hornet 4 Drive        1  \n",
       "Hornet Sportabout     2  "
      ]
     },
     "execution_count": 2,
     "metadata": {},
     "output_type": "execute_result"
    }
   ],
   "source": [
    "from pydataset import data\n",
    "mtcars = data('mtcars')\n",
    "mtcarsDF = mtcars\n",
    "mtcarsDF2 = mtcarsDF.copy()\n",
    "mtcarsDF.head()"
   ]
  },
  {
   "cell_type": "code",
   "execution_count": null,
   "id": "40da4037-8b24-4473-8c36-b3594885f813",
   "metadata": {
    "tags": []
   },
   "outputs": [],
   "source": [
    "## libraries\n",
    "import numpy as np\n",
    "import pandas as pd\n",
    "#pandas DF are combination of panda Series..\n",
    "#one column data is a Series of one datatype, DF can have multiple data types"
   ]
  },
  {
   "cell_type": "code",
   "execution_count": 5,
   "id": "c893658f-b961-415d-837a-a11faba0bb18",
   "metadata": {},
   "outputs": [
    {
     "data": {
      "text/html": [
       "<div>\n",
       "<style scoped>\n",
       "    .dataframe tbody tr th:only-of-type {\n",
       "        vertical-align: middle;\n",
       "    }\n",
       "\n",
       "    .dataframe tbody tr th {\n",
       "        vertical-align: top;\n",
       "    }\n",
       "\n",
       "    .dataframe thead th {\n",
       "        text-align: right;\n",
       "    }\n",
       "</style>\n",
       "<table border=\"1\" class=\"dataframe\">\n",
       "  <thead>\n",
       "    <tr style=\"text-align: right;\">\n",
       "      <th></th>\n",
       "      <th>mpg</th>\n",
       "      <th>cyl</th>\n",
       "      <th>disp</th>\n",
       "      <th>hp</th>\n",
       "      <th>drat</th>\n",
       "      <th>wt</th>\n",
       "      <th>qsec</th>\n",
       "      <th>vs</th>\n",
       "      <th>am</th>\n",
       "      <th>gear</th>\n",
       "      <th>carb</th>\n",
       "    </tr>\n",
       "  </thead>\n",
       "  <tbody>\n",
       "    <tr>\n",
       "      <th>Mazda RX4</th>\n",
       "      <td>21.0</td>\n",
       "      <td>6</td>\n",
       "      <td>160.0</td>\n",
       "      <td>110</td>\n",
       "      <td>3.90</td>\n",
       "      <td>2.620</td>\n",
       "      <td>16.46</td>\n",
       "      <td>0</td>\n",
       "      <td>1</td>\n",
       "      <td>4</td>\n",
       "      <td>4</td>\n",
       "    </tr>\n",
       "    <tr>\n",
       "      <th>Mazda RX4 Wag</th>\n",
       "      <td>21.0</td>\n",
       "      <td>6</td>\n",
       "      <td>160.0</td>\n",
       "      <td>110</td>\n",
       "      <td>3.90</td>\n",
       "      <td>2.875</td>\n",
       "      <td>17.02</td>\n",
       "      <td>0</td>\n",
       "      <td>1</td>\n",
       "      <td>4</td>\n",
       "      <td>4</td>\n",
       "    </tr>\n",
       "    <tr>\n",
       "      <th>Datsun 710</th>\n",
       "      <td>22.8</td>\n",
       "      <td>4</td>\n",
       "      <td>108.0</td>\n",
       "      <td>93</td>\n",
       "      <td>3.85</td>\n",
       "      <td>2.320</td>\n",
       "      <td>18.61</td>\n",
       "      <td>1</td>\n",
       "      <td>1</td>\n",
       "      <td>4</td>\n",
       "      <td>1</td>\n",
       "    </tr>\n",
       "    <tr>\n",
       "      <th>Hornet 4 Drive</th>\n",
       "      <td>21.4</td>\n",
       "      <td>6</td>\n",
       "      <td>258.0</td>\n",
       "      <td>110</td>\n",
       "      <td>3.08</td>\n",
       "      <td>3.215</td>\n",
       "      <td>19.44</td>\n",
       "      <td>1</td>\n",
       "      <td>0</td>\n",
       "      <td>3</td>\n",
       "      <td>1</td>\n",
       "    </tr>\n",
       "    <tr>\n",
       "      <th>Hornet Sportabout</th>\n",
       "      <td>18.7</td>\n",
       "      <td>8</td>\n",
       "      <td>360.0</td>\n",
       "      <td>175</td>\n",
       "      <td>3.15</td>\n",
       "      <td>3.440</td>\n",
       "      <td>17.02</td>\n",
       "      <td>0</td>\n",
       "      <td>0</td>\n",
       "      <td>3</td>\n",
       "      <td>2</td>\n",
       "    </tr>\n",
       "  </tbody>\n",
       "</table>\n",
       "</div>"
      ],
      "text/plain": [
       "                    mpg  cyl   disp   hp  drat     wt   qsec  vs  am  gear  \\\n",
       "Mazda RX4          21.0    6  160.0  110  3.90  2.620  16.46   0   1     4   \n",
       "Mazda RX4 Wag      21.0    6  160.0  110  3.90  2.875  17.02   0   1     4   \n",
       "Datsun 710         22.8    4  108.0   93  3.85  2.320  18.61   1   1     4   \n",
       "Hornet 4 Drive     21.4    6  258.0  110  3.08  3.215  19.44   1   0     3   \n",
       "Hornet Sportabout  18.7    8  360.0  175  3.15  3.440  17.02   0   0     3   \n",
       "\n",
       "                   carb  \n",
       "Mazda RX4             4  \n",
       "Mazda RX4 Wag         4  \n",
       "Datsun 710            1  \n",
       "Hornet 4 Drive        1  \n",
       "Hornet Sportabout     2  "
      ]
     },
     "execution_count": 5,
     "metadata": {},
     "output_type": "execute_result"
    }
   ],
   "source": [
    "from pydataset import data\n",
    "mtcars = data('mtcars')\n",
    "mtcarsDF = mtcars\n",
    "mtcarsDF2 = mtcarsDF.copy()\n",
    "mtcarsDF.head()"
   ]
  },
  {
   "cell_type": "markdown",
   "id": "48de7e70-8112-4e59-8ce0-3bcbcfb3304f",
   "metadata": {
    "tags": []
   },
   "source": [
    "## axes"
   ]
  },
  {
   "cell_type": "markdown",
   "id": "81cbd3ec-cf35-4f8f-ba19-5d2f90f2a733",
   "metadata": {},
   "source": [
    "### index"
   ]
  },
  {
   "cell_type": "code",
   "execution_count": null,
   "id": "2ee30ca1-967f-4e39-943c-d7542cfe707a",
   "metadata": {},
   "outputs": [],
   "source": [
    "#Index\n",
    "mtcarsDF.index"
   ]
  },
  {
   "cell_type": "markdown",
   "id": "2078b388-ab03-4894-bbef-695f81ff8f6f",
   "metadata": {},
   "source": [
    "### columns"
   ]
  },
  {
   "cell_type": "code",
   "execution_count": null,
   "id": "8a009097-ca3c-4dbc-ab6b-8c2486aa6e4a",
   "metadata": {},
   "outputs": [],
   "source": [
    "mtcarsDF.columns"
   ]
  },
  {
   "cell_type": "markdown",
   "id": "0bfc82a9-4001-4031-ac0b-3e83d06ab191",
   "metadata": {},
   "source": [
    "### dtypes"
   ]
  },
  {
   "cell_type": "code",
   "execution_count": null,
   "id": "dfb55834-2b60-418d-8f2f-3df912e16ebb",
   "metadata": {},
   "outputs": [],
   "source": [
    "mtcarsDF.dtypes"
   ]
  },
  {
   "cell_type": "markdown",
   "id": "129e01ff-c1af-4737-93a7-622eb0ffa168",
   "metadata": {},
   "source": [
    "### select_dtypes"
   ]
  },
  {
   "cell_type": "code",
   "execution_count": null,
   "id": "61bf7512-c386-4f21-8953-5477949d1a33",
   "metadata": {},
   "outputs": [],
   "source": [
    "mtcarsDF.select_dtypes(include='int64', exclude='float64').head()"
   ]
  },
  {
   "cell_type": "markdown",
   "id": "f497b913-1f03-47e8-b6a5-638a4eb07e32",
   "metadata": {},
   "source": [
    "### values"
   ]
  },
  {
   "cell_type": "code",
   "execution_count": null,
   "id": "422bf329-5e77-42f3-b9a9-00911f140c28",
   "metadata": {},
   "outputs": [],
   "source": [
    "mtcarsDF.values  #Numpy representation"
   ]
  },
  {
   "cell_type": "markdown",
   "id": "27ffe187-650d-4352-98dd-e1fbcd7fe2ea",
   "metadata": {},
   "source": [
    "### axes"
   ]
  },
  {
   "cell_type": "code",
   "execution_count": null,
   "id": "fc4e04eb-926f-46ca-8a6f-0655d3ce4dc2",
   "metadata": {},
   "outputs": [],
   "source": [
    "mtcarsDF.axes #list of axes (x & y)"
   ]
  },
  {
   "cell_type": "markdown",
   "id": "075fd70c-26f7-4da1-adce-876c4bbb364f",
   "metadata": {},
   "source": [
    "### ndim"
   ]
  },
  {
   "cell_type": "code",
   "execution_count": null,
   "id": "9a7c0038-2a6c-4983-8b6f-a3506be90360",
   "metadata": {},
   "outputs": [],
   "source": [
    "mtcarsDF.ndim  #number of dim her 2 - row & col"
   ]
  },
  {
   "cell_type": "markdown",
   "id": "0d61039b-49e2-4d08-a0b0-f3add0c4a2ff",
   "metadata": {},
   "source": [
    "### size"
   ]
  },
  {
   "cell_type": "code",
   "execution_count": null,
   "id": "a91e48ed-6f05-47f4-83ec-3b08434c09b9",
   "metadata": {},
   "outputs": [],
   "source": [
    "print(mtcarsDF.size, ' manual ', 11*32)  #number of elements"
   ]
  },
  {
   "cell_type": "markdown",
   "id": "f65e2c82-e999-4bcb-9369-6656bd84ecdd",
   "metadata": {},
   "source": [
    "### shape"
   ]
  },
  {
   "cell_type": "code",
   "execution_count": null,
   "id": "bdb15519",
   "metadata": {},
   "outputs": [],
   "source": [
    "#%%describing\n",
    "mtcarsDF.shape  #row, col"
   ]
  },
  {
   "cell_type": "markdown",
   "id": "095ad334-ad64-445e-95c0-122abd000a86",
   "metadata": {},
   "source": [
    "### memory_usage"
   ]
  },
  {
   "cell_type": "code",
   "execution_count": null,
   "id": "3453e8c2-32e3-466b-9cc7-4364f2f9d78d",
   "metadata": {},
   "outputs": [],
   "source": [
    "mtcarsDF.memory_usage()"
   ]
  },
  {
   "cell_type": "markdown",
   "id": "6f1e898c-d83b-4df3-97ad-5115135f6ba4",
   "metadata": {},
   "source": [
    "### empty"
   ]
  },
  {
   "cell_type": "code",
   "execution_count": null,
   "id": "4883a95c-4497-4c86-93d2-fc08daced11e",
   "metadata": {},
   "outputs": [],
   "source": [
    "mtcarsDF.empty"
   ]
  },
  {
   "cell_type": "code",
   "execution_count": null,
   "id": "c7c84182-5997-4e72-9265-e42b17058852",
   "metadata": {},
   "outputs": [],
   "source": [
    "#mtcarsDF.is_copy()"
   ]
  },
  {
   "cell_type": "markdown",
   "id": "963b0db0-823b-4476-9383-1d8c63b84dfb",
   "metadata": {
    "jp-MarkdownHeadingCollapsed": true,
    "tags": []
   },
   "source": [
    "## conversion"
   ]
  },
  {
   "cell_type": "markdown",
   "id": "a67a0df8-7669-47e7-bc22-593f4af4e509",
   "metadata": {},
   "source": [
    "### astype"
   ]
  },
  {
   "cell_type": "code",
   "execution_count": null,
   "id": "56ba1fcc-8dd0-441e-85c9-5dfc03b3953c",
   "metadata": {},
   "outputs": [],
   "source": [
    "mtcarsDF.astype(dtype='int64').head()"
   ]
  },
  {
   "cell_type": "markdown",
   "id": "c7dd3d21-0629-4fbc-a2f6-a69da2294c1c",
   "metadata": {},
   "source": [
    "### infer_objects"
   ]
  },
  {
   "cell_type": "code",
   "execution_count": null,
   "id": "041c3a24-8975-4601-ab2d-b2c074333a5d",
   "metadata": {},
   "outputs": [],
   "source": [
    "mtcarsDF.infer_objects().head()  #infer better dtype\n",
    "#mtcarsDF.infer_objects().dtypes"
   ]
  },
  {
   "cell_type": "markdown",
   "id": "1b0b425a-c36d-4722-81a0-a1d6c430e1ad",
   "metadata": {},
   "source": [
    "### copy"
   ]
  },
  {
   "cell_type": "code",
   "execution_count": null,
   "id": "797b8a39-2152-4007-9a31-e7faf4c241e7",
   "metadata": {},
   "outputs": [],
   "source": [
    "mtcarsDF2 = mtcarsDF.copy()\n",
    "mtcarsDF2.head()"
   ]
  },
  {
   "cell_type": "markdown",
   "id": "e94b07af-72bc-446f-a730-4b97ead15b1c",
   "metadata": {},
   "source": [
    "### isna"
   ]
  },
  {
   "cell_type": "code",
   "execution_count": null,
   "id": "f67ef8d9-ece7-4584-9e6c-ed9f92fe016c",
   "metadata": {},
   "outputs": [],
   "source": [
    "mtcarsDF.isna().head()"
   ]
  },
  {
   "cell_type": "markdown",
   "id": "6cf4dd03-7b1c-42e3-9409-6e2fc9370f02",
   "metadata": {},
   "source": [
    "### notna"
   ]
  },
  {
   "cell_type": "code",
   "execution_count": null,
   "id": "96983c2e-0b6e-435f-9f73-521e19256277",
   "metadata": {},
   "outputs": [],
   "source": [
    "mtcarsDF.notna().head()"
   ]
  },
  {
   "cell_type": "code",
   "execution_count": null,
   "id": "7165cd8c-951f-41a9-a2e2-fedfe55bae33",
   "metadata": {},
   "outputs": [],
   "source": [
    "### bool"
   ]
  },
  {
   "cell_type": "code",
   "execution_count": null,
   "id": "912978d6-b99f-4441-a4a1-e14989411d63",
   "metadata": {},
   "outputs": [],
   "source": [
    "#mtcarsDF.bool()"
   ]
  },
  {
   "cell_type": "markdown",
   "id": "c743d345-f2a8-426a-beae-a4c1ba592ed0",
   "metadata": {
    "tags": []
   },
   "source": [
    "## Indexing, Iteration"
   ]
  },
  {
   "cell_type": "markdown",
   "id": "d20db5ba-b40a-4fa7-8eef-1b211332d431",
   "metadata": {},
   "source": [
    "### head"
   ]
  },
  {
   "cell_type": "code",
   "execution_count": null,
   "id": "33ed1576",
   "metadata": {},
   "outputs": [],
   "source": [
    "mtcarsDF.head()"
   ]
  },
  {
   "cell_type": "markdown",
   "id": "a2c13e85-a014-4539-b6c5-677ff224255f",
   "metadata": {},
   "source": [
    "### tail"
   ]
  },
  {
   "cell_type": "code",
   "execution_count": null,
   "id": "4d05d8e6",
   "metadata": {},
   "outputs": [],
   "source": [
    "mtcarsDF.tail()"
   ]
  },
  {
   "cell_type": "markdown",
   "id": "7dc20346-2181-42d2-9126-b1347b699e4c",
   "metadata": {},
   "source": [
    "### at"
   ]
  },
  {
   "cell_type": "code",
   "execution_count": null,
   "id": "28549999-da10-4761-bab6-5ed10f1a532e",
   "metadata": {},
   "outputs": [],
   "source": [
    "#mtcarsDF.at[1 , []'mpg']"
   ]
  },
  {
   "cell_type": "markdown",
   "id": "aaf8f42f-00ce-4e18-b23f-9649dcc4bc57",
   "metadata": {},
   "source": [
    "### loc"
   ]
  },
  {
   "cell_type": "code",
   "execution_count": null,
   "id": "104bc5bb-56ea-4409-b4df-7a0be754b595",
   "metadata": {},
   "outputs": [],
   "source": [
    "# Label Based\n",
    "mtcarsDF.loc[:,['mpg','hp']].head()\n",
    "#.loc[] is primarily label based, but may also be used with a boolean array.\n",
    "#A single label, e.g. 5 or 'a', (note that 5 is interpreted as a label of the index, and never as an integer position along the index).\n",
    "#A list or array of labels, e.g. ['a', 'b', 'c'].\n",
    "#A slice object with labels, e.g. 'a':'f'\n",
    "#https://pandas.pydata.org/pandas-docs/stable/reference/api/pandas.DataFrame.loc.html"
   ]
  },
  {
   "cell_type": "markdown",
   "id": "36cd5d16-b6be-4bc5-99bd-ae0383ee7738",
   "metadata": {},
   "source": [
    "### iloc"
   ]
  },
  {
   "cell_type": "code",
   "execution_count": null,
   "id": "22ddbc3e-1c05-4817-b48b-55ed980fd868",
   "metadata": {},
   "outputs": [],
   "source": [
    "mtcarsDF.iloc[1:4, 1:4]"
   ]
  },
  {
   "cell_type": "markdown",
   "id": "81336eb2-ab3d-4f14-8f73-a60b1f819986",
   "metadata": {},
   "source": [
    "### Insert"
   ]
  },
  {
   "cell_type": "code",
   "execution_count": null,
   "id": "cd0af7e1-b2d3-46ca-a587-31aa302cb13d",
   "metadata": {},
   "outputs": [],
   "source": [
    "#mtcarsDF2\n",
    "mtcarsDF = mtcarsDF2.copy()"
   ]
  },
  {
   "cell_type": "code",
   "execution_count": null,
   "id": "7860a516-4cce-4604-98c2-b23539d61fab",
   "metadata": {},
   "outputs": [],
   "source": [
    "mtcarsDF.insert( loc =3, column='newmpg', value = 100 , allow_duplicates = False)\n",
    "mtcarsDF.head()\n",
    "#mtcarsDF = mtcarsDF2.copy()"
   ]
  },
  {
   "cell_type": "markdown",
   "id": "44d9ddc9-bd85-46e6-a2fd-055e98d799b5",
   "metadata": {},
   "source": [
    "### items"
   ]
  },
  {
   "cell_type": "code",
   "execution_count": null,
   "id": "b1709977-b632-4037-98b8-41dbf83edd57",
   "metadata": {},
   "outputs": [],
   "source": [
    "mtcarsDF.items"
   ]
  },
  {
   "cell_type": "markdown",
   "id": "c2348173-89f2-4609-8bc9-2312955a74eb",
   "metadata": {},
   "source": [
    "### iteritems"
   ]
  },
  {
   "cell_type": "code",
   "execution_count": null,
   "id": "306c781d-51bd-440d-8057-88da1d97045a",
   "metadata": {},
   "outputs": [],
   "source": [
    "mtcarsDF.iteritems()"
   ]
  },
  {
   "cell_type": "markdown",
   "id": "1c864799-9825-4257-9f6f-68a6d72c4e7a",
   "metadata": {},
   "source": [
    "### keys"
   ]
  },
  {
   "cell_type": "code",
   "execution_count": null,
   "id": "e580019d-693c-497e-9de3-ec4072a4e223",
   "metadata": {},
   "outputs": [],
   "source": [
    "mtcarsDF.keys"
   ]
  },
  {
   "cell_type": "code",
   "execution_count": null,
   "id": "dca2ec2b-ceb0-4a9a-bc55-4a5c707da94e",
   "metadata": {},
   "outputs": [],
   "source": [
    "mtcarsDF.iteritems"
   ]
  },
  {
   "cell_type": "markdown",
   "id": "4f057a1f-bc3f-4069-8e0c-4e7d2a874427",
   "metadata": {},
   "source": [
    "### iterrows"
   ]
  },
  {
   "cell_type": "code",
   "execution_count": null,
   "id": "5b0ccca8-d1d5-4f05-962a-e8cb0853e849",
   "metadata": {},
   "outputs": [],
   "source": [
    "mtcarsDF.iterrows"
   ]
  },
  {
   "cell_type": "markdown",
   "id": "09d1ef23-7b90-48e8-9e52-9ecdc52a2d23",
   "metadata": {},
   "source": [
    "### itertuples"
   ]
  },
  {
   "cell_type": "code",
   "execution_count": null,
   "id": "8038438e-0042-4f58-ab48-f1cea2d6c3fd",
   "metadata": {},
   "outputs": [],
   "source": [
    "mtcarsDF.itertuples"
   ]
  },
  {
   "cell_type": "markdown",
   "id": "89f262f4-1231-4622-915c-444a569899e6",
   "metadata": {},
   "source": [
    "### pop"
   ]
  },
  {
   "cell_type": "code",
   "execution_count": null,
   "id": "5df2f8c3-53de-4e8f-9950-58d2d1e74c0c",
   "metadata": {},
   "outputs": [],
   "source": [
    "#lookup depreciated\n",
    "mtcarsDF.pop(item='hp') #removes columns"
   ]
  },
  {
   "cell_type": "code",
   "execution_count": null,
   "id": "d2514b7f-9106-46d4-8a7a-00585f3a33e8",
   "metadata": {},
   "outputs": [],
   "source": [
    "#lookup depreciated\n",
    "mtcarsDF.pop(item='hp') #removes columns"
   ]
  },
  {
   "cell_type": "markdown",
   "id": "d20949fe-8dcd-47d9-9744-cf1b0549100c",
   "metadata": {},
   "source": [
    "### tail"
   ]
  },
  {
   "cell_type": "code",
   "execution_count": null,
   "id": "2e4d8c34-b17b-4ca6-8229-c8c3983777b1",
   "metadata": {},
   "outputs": [],
   "source": [
    "mtcarsDF.tail()"
   ]
  },
  {
   "cell_type": "code",
   "execution_count": null,
   "id": "cff4abce-fd99-4e83-a750-311fbdc13bbc",
   "metadata": {},
   "outputs": [],
   "source": [
    "mtcarsDF = mtcarsDF2.copy()"
   ]
  },
  {
   "cell_type": "markdown",
   "id": "ebf45e17-b34b-44ef-9edc-9398dc50b63f",
   "metadata": {},
   "source": [
    "### xs"
   ]
  },
  {
   "cell_type": "code",
   "execution_count": null,
   "id": "a2b0d859-6ecf-4ab0-80f9-758172342a65",
   "metadata": {},
   "outputs": [],
   "source": [
    "#https://pandas.pydata.org/pandas-docs/stable/reference/api/pandas.DataFrame.xs.html\n",
    "mtcarsDF.xs(key ='Ferrari Dino')"
   ]
  },
  {
   "cell_type": "code",
   "execution_count": null,
   "id": "52e32fe2-9e80-4112-b0e2-5b393284bbea",
   "metadata": {},
   "outputs": [],
   "source": [
    "mtcarsDF.xs(key = 'hp', axis=1)"
   ]
  },
  {
   "cell_type": "markdown",
   "id": "6738ca3b-0c55-4f20-82c8-624926fadba5",
   "metadata": {},
   "source": [
    "### get"
   ]
  },
  {
   "cell_type": "code",
   "execution_count": null,
   "id": "6f9673d9-df89-4d0f-9a2b-e4d552fe3008",
   "metadata": {},
   "outputs": [],
   "source": [
    "# get : https://pandas.pydata.org/pandas-docs/stable/reference/api/pandas.DataFrame.get.html\n",
    "mtcarsDF.get(['mpg','wt']).head()"
   ]
  },
  {
   "cell_type": "markdown",
   "id": "a8e6bc25-1e8a-44a6-bd59-f559f14e90a6",
   "metadata": {},
   "source": [
    "### isin"
   ]
  },
  {
   "cell_type": "code",
   "execution_count": null,
   "id": "85f52640-e8fe-4663-ac21-f7fe0f227818",
   "metadata": {},
   "outputs": [],
   "source": [
    "# isin : https://pandas.pydata.org/pandas-docs/stable/reference/api/pandas.DataFrame.isin.html\n",
    "#mtcarsDF.isin([0, 3]) # cell value between 0 and 3\n",
    "\n",
    "~ mtcarsDF.isin([0, 3]).head() # cell value not between 0 and 3"
   ]
  },
  {
   "cell_type": "markdown",
   "id": "efa3cc36-76cb-47a9-9ff3-617ba76de454",
   "metadata": {},
   "source": [
    "### \n",
    "DataFrame.where(cond, other=_NoDefault.no_default, *, inplace=False, axis=None, level=None, errors='raise', try_cast=_NoDefault.no_default)"
   ]
  },
  {
   "cell_type": "code",
   "execution_count": null,
   "id": "386b3454-450e-41c8-a5ff-75ec0f507c24",
   "metadata": {},
   "outputs": [],
   "source": [
    "#Replace values where the condition is False.  \n",
    "#https://pandas.pydata.org/pandas-docs/stable/reference/api/pandas.DataFrame.where.html\n",
    "c1 = mtcarsDF % 3 == 0\n",
    "mtcarsDF.where(c1, other = 6, inplace=False).head() #= np.where(c1, mtcarsDF, -mtcarsDF)  # where ever 0 , replace by 6"
   ]
  },
  {
   "cell_type": "code",
   "execution_count": null,
   "id": "655d1bb4-76b8-43f2-93f4-272840c2975d",
   "metadata": {},
   "outputs": [],
   "source": [
    "mtcarsDF.where(mtcarsDF['mpg'] < 25, 100)\n",
    "#if mpg in a row is not < 25, fill with 100, otherwise no change\n",
    "#https://dataindependent.com/pandas/pandas-where-pd-dataframe-where/"
   ]
  },
  {
   "cell_type": "markdown",
   "id": "ba749424-a6c9-422d-8cbf-178c057dde09",
   "metadata": {},
   "source": [
    "### mask\n",
    "DataFrame.mask(cond, other=nan, *, inplace=False, axis=None, level=None, errors='raise', try_cast=_NoDefault.no_default)[source]"
   ]
  },
  {
   "cell_type": "code",
   "execution_count": null,
   "id": "6e05d15b-14aa-4531-a671-9d7590202198",
   "metadata": {},
   "outputs": [],
   "source": [
    "# mask : https://pandas.pydata.org/pandas-docs/stable/reference/api/pandas.DataFrame.mask.html\n",
    "mtcarsDF.mpg.mask(mtcarsDF.mpg > 25, other=100) \n",
    "#where false replace by other, or nan"
   ]
  },
  {
   "cell_type": "code",
   "execution_count": null,
   "id": "aa8efe79-74a0-4011-81ee-29bbc229a891",
   "metadata": {},
   "outputs": [],
   "source": [
    "m = mtcarsDF > 100\n",
    "mtcarsDF.mask( m, other=200).head()"
   ]
  },
  {
   "cell_type": "markdown",
   "id": "63711647-73ba-429c-a08d-3177b957e5d3",
   "metadata": {},
   "source": [
    "### query"
   ]
  },
  {
   "cell_type": "code",
   "execution_count": null,
   "id": "07389b1e-b75e-4f62-80a4-f124f07528f6",
   "metadata": {},
   "outputs": [],
   "source": [
    "#https://pandas.pydata.org/pandas-docs/stable/reference/api/pandas.DataFrame.query.html\n",
    "mtcarsDF.query('am == vs').head()"
   ]
  },
  {
   "cell_type": "markdown",
   "id": "76c63b9b-fbf1-471f-a2d9-ce4bb5f9b10d",
   "metadata": {
    "tags": []
   },
   "source": [
    "## Binary Operator"
   ]
  },
  {
   "cell_type": "markdown",
   "id": "d4a4d1a0-3c20-4fc6-b9b9-dd7ecee7acd1",
   "metadata": {},
   "source": [
    "### add\n",
    "DataFrame.add(other, axis='columns', level=None, fill_value=None)[source]\n",
    "https://pandas.pydata.org/pandas-docs/stable/reference/api/pandas.DataFrame.add.html"
   ]
  },
  {
   "cell_type": "code",
   "execution_count": null,
   "id": "0d627cf5-1194-4816-a231-c48d7eb76ab6",
   "metadata": {},
   "outputs": [],
   "source": [
    "mtcarsDF.add(1).head()   #add 1 to all data"
   ]
  },
  {
   "cell_type": "markdown",
   "id": "62f74723-8ad1-4e23-977d-4f57824128a0",
   "metadata": {},
   "source": [
    "### sub\n",
    "DataFrame.sub(other, axis='columns', level=None, fill_value=None)[source]\n",
    "https://pandas.pydata.org/pandas-docs/stable/reference/api/pandas.DataFrame.sub.html"
   ]
  },
  {
   "cell_type": "code",
   "execution_count": null,
   "id": "af03f1de-6906-4f58-9cd5-c4db719d46a4",
   "metadata": {},
   "outputs": [],
   "source": [
    "mtcarsDF.sub(other=2, axis='columns').head()"
   ]
  },
  {
   "cell_type": "code",
   "execution_count": null,
   "id": "8332dd64-01e9-4c83-a972-18c6a2141743",
   "metadata": {},
   "outputs": [],
   "source": [
    "mtcarsDF.sub(other= [1, 2, 3,4,5,6,7,8,9,10,11], axis='columns').head()\n",
    "#sub 1,2... from each col respectively.."
   ]
  },
  {
   "cell_type": "code",
   "execution_count": null,
   "id": "6eb2e953-fa57-4356-a55e-8528eac356eb",
   "metadata": {},
   "outputs": [],
   "source": [
    "### dot"
   ]
  },
  {
   "cell_type": "markdown",
   "id": "ea1b80b2-6f48-4bc1-9eb9-8ec1d7158ed6",
   "metadata": {},
   "source": [
    "other functions\n",
    "sub : subtract\n",
    "mul : Multiply\n",
    "div : Divide\n",
    "truediv : Divide DF\n",
    "mod : modulus\n",
    "pow : exp power"
   ]
  },
  {
   "cell_type": "code",
   "execution_count": null,
   "id": "9836eafe-9b63-4169-ae6d-045a773497d1",
   "metadata": {},
   "outputs": [],
   "source": [
    "#Compute the matrix multiplication between the DataFrame and other.\n",
    "mtcarsDF.dot(other=np.random.randint(10,20,11))\n",
    "#if other is series, series is returned"
   ]
  },
  {
   "cell_type": "code",
   "execution_count": null,
   "id": "02346042-2577-4204-abf9-586d7d9af7e9",
   "metadata": {},
   "outputs": [],
   "source": [
    "#mtcarsDF.iloc[0:11,:]\n",
    "#mtcarsDF.dot(other=mtcarsDF.iloc[0:11,:])"
   ]
  },
  {
   "cell_type": "markdown",
   "id": "ed1b110b-87dd-4eac-a9cb-37a09d4a6ef0",
   "metadata": {},
   "source": [
    "### rsub"
   ]
  },
  {
   "cell_type": "code",
   "execution_count": null,
   "id": "bcad12ce-3ee5-42e6-996b-0ef0101fc4f6",
   "metadata": {},
   "outputs": [],
   "source": [
    "mtcarsDF.rsub(other = mtcarsDF)\n",
    "#others - radd, rmul, rdiv, rtruediv, rfloordiv, "
   ]
  },
  {
   "cell_type": "markdown",
   "id": "aea9cccb-07fe-44a1-850e-0c67251d6c37",
   "metadata": {},
   "source": [
    "### eq"
   ]
  },
  {
   "cell_type": "code",
   "execution_count": null,
   "id": "a53f50e8-83f7-434c-b6f3-abd1b4f1ca9a",
   "metadata": {},
   "outputs": [],
   "source": [
    "mtcarsDF.eq (mtcarsDF)\n",
    "#others : le, ge, ne, eq"
   ]
  },
  {
   "cell_type": "markdown",
   "id": "9bc3a4cb-8bfe-4133-ab36-87e255cbeb47",
   "metadata": {},
   "source": [
    "### combine"
   ]
  },
  {
   "cell_type": "code",
   "execution_count": null,
   "id": "3eeda603-ae3c-4dec-8866-c445cd4a16f8",
   "metadata": {},
   "outputs": [],
   "source": [
    "mtcarsDF.combine(mtcarsDF, lambda s1, s2 : s1 if s1.sum() < s2.sum() else s2)"
   ]
  },
  {
   "cell_type": "code",
   "execution_count": null,
   "id": "f52b6ea1-cde6-470b-a3be-bc3417d841fb",
   "metadata": {},
   "outputs": [],
   "source": [
    "mtcarsDF.combine(mtcarsDF, func=np.minimum, fill_value=100000)"
   ]
  },
  {
   "cell_type": "markdown",
   "id": "e16cbf0d-3b44-48c7-9b93-32b7190320ea",
   "metadata": {},
   "source": []
  },
  {
   "cell_type": "markdown",
   "id": "3f5edaa7-3997-4825-997c-e82d6a6f0963",
   "metadata": {},
   "source": [
    "### combine_first"
   ]
  },
  {
   "cell_type": "code",
   "execution_count": null,
   "id": "20f460c5-75f9-453b-89a0-648dffd11328",
   "metadata": {},
   "outputs": [],
   "source": [
    "#non missing for 1st, missing from 2nd\n",
    "#https://pandas.pydata.org/pandas-docs/stable/reference/api/pandas.DataFrame.combine_first.html\n",
    "mtcarsDF.combine_first(other = mtcarsDF)"
   ]
  },
  {
   "cell_type": "code",
   "execution_count": null,
   "id": "46824613-a9d2-4ce9-a6b8-cc4c96285965",
   "metadata": {},
   "outputs": [],
   "source": [
    "#non missing for 1st, missing from 2nd\n",
    "#https://pandas.pydata.org/pandas-docs/stable/reference/api/pandas.DataFrame.combine_first.html\n",
    "mtcarsDF.combine_first(other = mtcarsDF)"
   ]
  },
  {
   "cell_type": "markdown",
   "id": "25d035a9-d3cd-49aa-83aa-546f93be6dbc",
   "metadata": {
    "tags": []
   },
   "source": [
    "## Function\n",
    "Function application, Groupby, window\n",
    "apply, applymap, pipe, agg, aggregate, transform, groupby, rolling, expanding, ewm"
   ]
  },
  {
   "cell_type": "markdown",
   "id": "95f7f1d0-c432-4f71-a7b1-0ada173392d5",
   "metadata": {},
   "source": [
    "### apply"
   ]
  },
  {
   "cell_type": "code",
   "execution_count": null,
   "id": "9a70d7ae-7d12-4c0b-b1fd-5f523b5c1e3d",
   "metadata": {},
   "outputs": [],
   "source": [
    "#apply : https://pandas.pydata.org/pandas-docs/stable/reference/api/pandas.DataFrame.apply.html\n",
    "mtcarsDF.apply(func = np.sqrt,  axis=1 )"
   ]
  },
  {
   "cell_type": "code",
   "execution_count": null,
   "id": "114dc707-7ff2-4c70-9b82-bde178066ad9",
   "metadata": {},
   "outputs": [],
   "source": [
    "#mean columns wise\n",
    "mtcarsDF.apply(func = np.mean,  axis=0 )"
   ]
  },
  {
   "cell_type": "markdown",
   "id": "c43f67d0-cc17-4ae7-bb41-38d5fff4fcab",
   "metadata": {},
   "source": [
    "### applymap"
   ]
  },
  {
   "cell_type": "code",
   "execution_count": null,
   "id": "c6355d9a-a5a7-4ef7-9caa-9ca749685c4c",
   "metadata": {},
   "outputs": [],
   "source": [
    "#applymap : https://pandas.pydata.org/pandas-docs/stable/reference/api/pandas.DataFrame.applymap.html\n",
    "#apply function element wise\n",
    "mtcarsDF.applymap( func = lambda x: len(str(x)), na_action ='ignore')"
   ]
  },
  {
   "cell_type": "code",
   "execution_count": null,
   "id": "0fe41f8a-662f-40c1-b545-d4396aec47b8",
   "metadata": {},
   "outputs": [],
   "source": [
    "mtcarsDF.applymap(lambda x:x**2)"
   ]
  },
  {
   "cell_type": "code",
   "execution_count": null,
   "id": "c65af1f1-3a26-4718-b787-b57e26cac5b3",
   "metadata": {},
   "outputs": [],
   "source": [
    "# pipe : https://pandas.pydata.org/pandas-docs/stable/reference/api/pandas.DataFrame.pipe.html\n",
    "#mtcars.pipe(func = )\n",
    "#https://sinyi-chou.github.io/python-pandas-pipe/"
   ]
  },
  {
   "cell_type": "markdown",
   "id": "191fa32a-543c-4c8f-b95b-701990b310dc",
   "metadata": {},
   "source": [
    "### aggregate"
   ]
  },
  {
   "cell_type": "code",
   "execution_count": null,
   "id": "c904f1cd-7748-4558-b771-876b93743c07",
   "metadata": {},
   "outputs": [],
   "source": [
    "# agg : https://pandas.pydata.org/pandas-docs/stable/reference/api/pandas.DataFrame.agg.html\n",
    "mtcarsDF.agg(func = ['sum', 'min', 'max', 'std', 'median']  , axis=0)"
   ]
  },
  {
   "cell_type": "code",
   "execution_count": null,
   "id": "d96199eb-a827-4743-b6b4-0ac73e91a24c",
   "metadata": {},
   "outputs": [],
   "source": [
    "mtcarsDF.agg(func = {'mpg':['min', 'max', 'count'], 'wt':['std', 'median']}  , axis=0)"
   ]
  },
  {
   "cell_type": "code",
   "execution_count": null,
   "id": "dc31d8de-ad30-44e7-8088-d6b7a97d82b8",
   "metadata": {},
   "outputs": [],
   "source": [
    "mtcarsDF.agg(\"mean\", axis=\"rows\")"
   ]
  },
  {
   "cell_type": "code",
   "execution_count": null,
   "id": "d1006c3e-1161-4101-b74b-99ae5c5930a3",
   "metadata": {},
   "outputs": [],
   "source": [
    "mtcarsDF.agg(xMax=('mpg', max), yMin=('wt', 'min'), zMean=('hp', np.mean))"
   ]
  },
  {
   "cell_type": "code",
   "execution_count": null,
   "id": "5c18ee57-fd6d-429a-8313-20667a3f6a59",
   "metadata": {},
   "outputs": [],
   "source": [
    "# aggregate : https://pandas.pydata.org/pandas-docs/stable/reference/api/pandas.DataFrame.aggregate.html\n",
    "mtcarsDF.aggregate(func = 'mean', axis=0)\n",
    "#The aggregation operations are always performed over an axis, either the\n",
    "#index (default) or the column axis. This behavior is different from\n",
    "#numpy aggregation functions (mean, median, prod, sum, std, var), \n",
    "#where the default is to compute the aggregation of the flattenedarray, e\n",
    "#agg is an alias for aggregate. Use the alias"
   ]
  },
  {
   "cell_type": "code",
   "execution_count": null,
   "id": "48b99ebe-8a7f-466f-b756-6bcb62d186fb",
   "metadata": {},
   "outputs": [],
   "source": [
    "# transform : https://pandas.pydata.org/pandas-docs/stable/reference/api/pandas.DataFrame.transform.html\n",
    "mtcarsDF.transform(lambda x: x + 1)"
   ]
  },
  {
   "cell_type": "code",
   "execution_count": null,
   "id": "e789e999-9b76-4da6-ac8a-82e4542f462b",
   "metadata": {},
   "outputs": [],
   "source": [
    "mtcarsDF.transform([np.sqrt, lambda x: x + 1])"
   ]
  },
  {
   "cell_type": "code",
   "execution_count": null,
   "id": "6afb7f9c-6ce0-48d2-9321-9d40560c511d",
   "metadata": {},
   "outputs": [],
   "source": [
    "# can call transform on a GroupBy object:\n",
    "mtcarsDF.groupby('gear')['mpg'].transform(func=lambda x: x * 1.1)\n",
    "#show in gear order, increase mpg by 1.1"
   ]
  },
  {
   "cell_type": "markdown",
   "id": "8f4cf2da-6193-4e14-9091-adcc2a4db811",
   "metadata": {},
   "source": [
    "### group by\n",
    "DataFrame.groupby(by=None, axis=0, level=None, as_index=True, sort=True, group_keys=_NoDefault.no_default, squeeze=_NoDefault.no_default, observed=False, dropna=True)"
   ]
  },
  {
   "cell_type": "code",
   "execution_count": null,
   "id": "f27d4fb2-c98a-4f59-bd4f-3c2aabcc6836",
   "metadata": {},
   "outputs": [],
   "source": [
    "#group by :https://pandas.pydata.org/pandas-docs/stable/reference/api/pandas.DataFrame.groupby.html\n",
    "mtcarsDF.groupby(by='gear')"
   ]
  },
  {
   "cell_type": "code",
   "execution_count": null,
   "id": "d201a191-9475-4d00-ae41-a3ecc4fcfa21",
   "metadata": {},
   "outputs": [],
   "source": [
    "mtcarsDF.groupby(by=['gear', 'am'], as_index=False)"
   ]
  },
  {
   "cell_type": "code",
   "execution_count": null,
   "id": "9622dfdc-3034-4aaa-8ec6-361bd004f8eb",
   "metadata": {},
   "outputs": [],
   "source": [
    "mtcarsDF.groupby(by=['gear', 'am'], as_index=False, dropna=False, group_keys=True).mean()"
   ]
  },
  {
   "cell_type": "code",
   "execution_count": null,
   "id": "5bdfb947-d552-4df6-8d59-1a35f83dc4ce",
   "metadata": {},
   "outputs": [],
   "source": [
    "# other options\n",
    "# group_keys, observed, \n",
    "#dropna=False( if you want NA values also to be grouped)"
   ]
  },
  {
   "cell_type": "code",
   "execution_count": null,
   "id": "982cb173-4959-402a-88ea-e7cb4ac5ddd1",
   "metadata": {},
   "outputs": [],
   "source": [
    "# rolling  : https://pandas.pydata.org/pandas-docs/stable/reference/api/pandas.DataFrame.rolling.html\n",
    "#DataFrame.rolling(window, min_periods=None, center=False, \n",
    "#win_type=None, on=None, axis=0, closed=None, step=None, method='single')\n",
    "mtcarsDF.rolling(window=3, axis=0, center=True, min_periods=2).mean()"
   ]
  },
  {
   "cell_type": "markdown",
   "id": "db2606c1-f0e9-4e52-b4d8-89680f619536",
   "metadata": {},
   "source": [
    "### expanding\n",
    "Provide expanding window calculations. cumulative sum, mean etc\n",
    "https://pandas.pydata.org/pandas-docs/stable/reference/api/pandas.DataFrame.expanding.html\n",
    "min_periods - Minimum number of observations in window required to have a value;\n",
    "center - True ; if false, right edge of window\n",
    "axis - 0 (row), 1 (column)\n",
    "method - single  (per single row or column), table(entire object)"
   ]
  },
  {
   "cell_type": "code",
   "execution_count": null,
   "id": "f825f95a-cf48-475d-9087-6026995c477e",
   "metadata": {},
   "outputs": [],
   "source": [
    "mtcarsDF.expanding(min_periods = 5, center=True, axis=0, method = 'single').sum().head()"
   ]
  },
  {
   "cell_type": "code",
   "execution_count": null,
   "id": "f1a444ae-c632-4570-862b-e277866ab6bd",
   "metadata": {},
   "outputs": [],
   "source": [
    "mtcarsDF.expanding().sum()"
   ]
  },
  {
   "cell_type": "code",
   "execution_count": null,
   "id": "592462e1-8cc1-483e-bebb-e8ea683db222",
   "metadata": {},
   "outputs": [],
   "source": [
    "mtcarsDF.mpg.expanding().sum()  # one column"
   ]
  },
  {
   "cell_type": "code",
   "execution_count": null,
   "id": "7c3343ff-d4cc-4232-a0b2-33e12440894b",
   "metadata": {},
   "outputs": [],
   "source": [
    "mtcarsDF.expanding(axis=1).sum()  #columnwise\n",
    "#eg total marks by each student"
   ]
  },
  {
   "cell_type": "markdown",
   "id": "70a96826-b5d8-4902-9994-6d08db8bf454",
   "metadata": {},
   "source": [
    "### ewm \n",
    "exponential weighted\n",
    "https://pandas.pydata.org/pandas-docs/stable/reference/api/pandas.DataFrame.ewm.html\n",
    "DataFrame.ewm(com=None, span=None, halflife=None, alpha=None, min_periods=0, adjust=True, ignore_na=False, axis=0, times=None, method='single')"
   ]
  },
  {
   "cell_type": "code",
   "execution_count": null,
   "id": "9962375a-6d1e-4374-afbf-839f820d6db9",
   "metadata": {},
   "outputs": [],
   "source": [
    "mtcarsDF.ewm(com=1).mean()"
   ]
  },
  {
   "cell_type": "code",
   "execution_count": null,
   "id": "1a60288d-16e0-4a14-9de7-16c9b348b509",
   "metadata": {},
   "outputs": [],
   "source": [
    "mtcarsDF.abs()"
   ]
  },
  {
   "cell_type": "markdown",
   "id": "ef6ad80e-ad92-4ea0-a446-0e2cdfd66540",
   "metadata": {
    "tags": []
   },
   "source": [
    "## Computations / Descriptive stats"
   ]
  },
  {
   "cell_type": "markdown",
   "id": "6e8fc00e-6ca1-4e96-a815-0a2a16b96e73",
   "metadata": {},
   "source": [
    "### abs\n",
    "absolute value\n",
    "https://pandas.pydata.org/pandas-docs/stable/reference/api/pandas.DataFrame.abs.html"
   ]
  },
  {
   "cell_type": "code",
   "execution_count": null,
   "id": "681ce099-fe36-49be-b76d-08febecae3e4",
   "metadata": {},
   "outputs": [],
   "source": [
    "mtcarsDF.abs()"
   ]
  },
  {
   "cell_type": "markdown",
   "id": "4a8fc440-a70f-465a-9861-a3fcb8488b2f",
   "metadata": {},
   "source": [
    "### all\n",
    "Return whether all elements are True, potentially over an axis.\n",
    "https://pandas.pydata.org/pandas-docs/stable/reference/api/pandas.DataFrame.all.html\n",
    "Returns True unless there at least one element within a series or along a Dataframe axis that is False or equivalent (e.g. zero or empty)."
   ]
  },
  {
   "cell_type": "code",
   "execution_count": null,
   "id": "9ce5f95a-88a0-4bd1-98de-18d135c2ddc7",
   "metadata": {},
   "outputs": [],
   "source": [
    "mtcarsDF.all(axis=0)\n",
    "#Default behaviour checks if values in each column all return True."
   ]
  },
  {
   "cell_type": "markdown",
   "id": "11ecf08e-1387-4950-85dd-25090b109708",
   "metadata": {},
   "source": [
    "### any\n",
    "DataFrame.any(*, axis=0, bool_only=None, skipna=True, level=None, **kwargs)\n",
    "Return whether any element is True, potentially over an axis.\n",
    "\n",
    "Returns False unless there is at least one element within a series or along a Dataframe axis that is True or equivalent (e.g. non-zero or non-empty)."
   ]
  },
  {
   "cell_type": "code",
   "execution_count": null,
   "id": "84fe9746-694f-4016-b445-ac1e7f86894d",
   "metadata": {},
   "outputs": [],
   "source": [
    "mtcarsDF.any()"
   ]
  },
  {
   "cell_type": "code",
   "execution_count": null,
   "id": "c233743c-b15c-4cf9-8d20-fc3d3cd1d8db",
   "metadata": {},
   "outputs": [],
   "source": [
    "mtcarsDF.any(axis=None)"
   ]
  },
  {
   "cell_type": "markdown",
   "id": "944d3ff0-45a9-48d6-a384-50c6a455c638",
   "metadata": {},
   "source": [
    "### clip\n",
    "DataFrame.clip(lower=None, upper=None, *args, axis=None, inplace=False, **kwargs)\n",
    "Trim values at input threshold(s).\n",
    "\n",
    "Assigns values outside boundary to boundary values. Thresholds can be singular values or array like, and in the latter case the clipping is performed element-wise in the specified axis.\n",
    "Minimum threshold value. All values below this threshold will be set to it. A missing threshold (e.g NA) will not clip the value.\n",
    "Maximum threshold value. All values above this threshold will be set to it. A missing threshold (e.g NA) will not clip the value.\n",
    "https://pandas.pydata.org/pandas-docs/stable/reference/api/pandas.DataFrame.clip.html"
   ]
  },
  {
   "cell_type": "code",
   "execution_count": null,
   "id": "4128769e-53a5-41fe-a8df-fc57edf810b5",
   "metadata": {},
   "outputs": [],
   "source": [
    "mtcarsDF.clip(lower=3, upper=20)\n",
    "#all values < 3 are set to 3\n",
    "#all values > 20 are set to 20"
   ]
  },
  {
   "cell_type": "markdown",
   "id": "fe5aa823-ba13-4b33-ad1d-b8c18b543ca5",
   "metadata": {},
   "source": [
    "### corr\n",
    "DataFrame.corr(method='pearson', min_periods=1, numeric_only=_NoDefault.no_default)\n",
    "https://pandas.pydata.org/pandas-docs/stable/reference/api/pandas.DataFrame.corr.html\n",
    "pairwise correlation of columns, excluding NA/null values"
   ]
  },
  {
   "cell_type": "code",
   "execution_count": null,
   "id": "549602d7-3632-44ca-b056-ce93d2fef60f",
   "metadata": {},
   "outputs": [],
   "source": [
    "mtcarsDF.corr(min_periods=10)\n",
    "#mtcarsDF.corr(min_periods=100)"
   ]
  },
  {
   "cell_type": "markdown",
   "id": "bd7fab48-d1b2-442d-acac-7c47ab4b64d0",
   "metadata": {},
   "source": [
    "### corrwith\n",
    "DataFrame.corrwith(other, axis=0, drop=False, method='pearson', numeric_only=_NoDefault.no_default)\n",
    "https://pandas.pydata.org/pandas-docs/stable/reference/api/pandas.DataFrame.corrwith.html"
   ]
  },
  {
   "cell_type": "code",
   "execution_count": null,
   "id": "1a69eb74-bdc5-4662-be44-2480dbc93883",
   "metadata": {},
   "outputs": [],
   "source": [
    "mtcarsDF.corrwith(mtcarsDF, axis=0)"
   ]
  },
  {
   "cell_type": "markdown",
   "id": "35b2166f-fc8f-4a11-a8cc-a3f5e05fbd8c",
   "metadata": {},
   "source": [
    "### count\n",
    "DataFrame.count(axis=0, level=None, numeric_only=False)\n",
    "https://pandas.pydata.org/pandas-docs/stable/reference/api/pandas.DataFrame.count.html"
   ]
  },
  {
   "cell_type": "code",
   "execution_count": 6,
   "id": "b31cbf85-ba02-4ccb-969e-00b97fef1ce3",
   "metadata": {},
   "outputs": [
    {
     "data": {
      "text/plain": [
       "mpg     32\n",
       "cyl     32\n",
       "disp    32\n",
       "hp      32\n",
       "drat    32\n",
       "wt      32\n",
       "qsec    32\n",
       "vs      32\n",
       "am      32\n",
       "gear    32\n",
       "carb    32\n",
       "dtype: int64"
      ]
     },
     "execution_count": 6,
     "metadata": {},
     "output_type": "execute_result"
    }
   ],
   "source": [
    "mtcarsDF.count(axis=0)"
   ]
  },
  {
   "cell_type": "code",
   "execution_count": 7,
   "id": "01017cee-27a9-46bc-89ed-8abf373e876f",
   "metadata": {},
   "outputs": [
    {
     "data": {
      "text/plain": [
       "Mazda RX4              11\n",
       "Mazda RX4 Wag          11\n",
       "Datsun 710             11\n",
       "Hornet 4 Drive         11\n",
       "Hornet Sportabout      11\n",
       "Valiant                11\n",
       "Duster 360             11\n",
       "Merc 240D              11\n",
       "Merc 230               11\n",
       "Merc 280               11\n",
       "Merc 280C              11\n",
       "Merc 450SE             11\n",
       "Merc 450SL             11\n",
       "Merc 450SLC            11\n",
       "Cadillac Fleetwood     11\n",
       "Lincoln Continental    11\n",
       "Chrysler Imperial      11\n",
       "Fiat 128               11\n",
       "Honda Civic            11\n",
       "Toyota Corolla         11\n",
       "Toyota Corona          11\n",
       "Dodge Challenger       11\n",
       "AMC Javelin            11\n",
       "Camaro Z28             11\n",
       "Pontiac Firebird       11\n",
       "Fiat X1-9              11\n",
       "Porsche 914-2          11\n",
       "Lotus Europa           11\n",
       "Ford Pantera L         11\n",
       "Ferrari Dino           11\n",
       "Maserati Bora          11\n",
       "Volvo 142E             11\n",
       "dtype: int64"
      ]
     },
     "execution_count": 7,
     "metadata": {},
     "output_type": "execute_result"
    }
   ],
   "source": [
    "mtcarsDF.count(axis=1)"
   ]
  },
  {
   "cell_type": "code",
   "execution_count": null,
   "id": "e6aab5dc-8cb0-436d-b451-4205ae4f567f",
   "metadata": {},
   "outputs": [],
   "source": [
    "mtcarsDF.count(axis='rows', numeric_only=True)"
   ]
  },
  {
   "cell_type": "markdown",
   "id": "a5a4ce86-6461-4cfe-9fd7-763699c5e7e4",
   "metadata": {},
   "source": [
    "### cov\n",
    "Compute pairwise covariance of columns, excluding NA/null values.\n",
    "https://pandas.pydata.org/pandas-docs/stable/reference/api/pandas.DataFrame.cov.html"
   ]
  },
  {
   "cell_type": "code",
   "execution_count": null,
   "id": "865695a3-5796-405a-934b-7c6e4e9009d7",
   "metadata": {},
   "outputs": [],
   "source": [
    "mtcarsDF.iloc[:,1:5].cov()"
   ]
  },
  {
   "cell_type": "markdown",
   "id": "af06d141-2aed-459a-badc-13a6b2eb0855",
   "metadata": {},
   "source": [
    "### cummax\n",
    "DataFrame.cummax(axis=None, skipna=True, *args, **kwargs)\n",
    "cumulative maximum over a DataFrame or Series axis.\n",
    "https://pandas.pydata.org/pandas-docs/stable/reference/api/pandas.DataFrame.cummax.html\n",
    "similar to expanding but ignores NaN"
   ]
  },
  {
   "cell_type": "code",
   "execution_count": null,
   "id": "9de454dc-0a85-40a4-9b12-025e50a93c0d",
   "metadata": {},
   "outputs": [],
   "source": [
    "mtcarsDF.cummax()"
   ]
  },
  {
   "cell_type": "code",
   "execution_count": null,
   "id": "750f30ba-aa89-428f-a903-9f1adf0a9f3b",
   "metadata": {},
   "outputs": [],
   "source": [
    "mtcarsDF.cummax(axis='columns')"
   ]
  },
  {
   "cell_type": "code",
   "execution_count": null,
   "id": "827416a9-6f07-4835-96d8-791073346deb",
   "metadata": {},
   "outputs": [],
   "source": [
    "mtcarsDF.cummin()"
   ]
  },
  {
   "cell_type": "code",
   "execution_count": null,
   "id": "468b5776-1e64-45b2-bcd7-d343a13aeb30",
   "metadata": {},
   "outputs": [],
   "source": [
    "mtcarsDF.cumprod()"
   ]
  },
  {
   "cell_type": "code",
   "execution_count": null,
   "id": "8691463d-6668-493e-b9c4-4c2a30d1c3c4",
   "metadata": {},
   "outputs": [],
   "source": [
    "mtcarsDF.cumsum()"
   ]
  },
  {
   "cell_type": "markdown",
   "id": "a744ac89-d241-4c32-adc6-56e090324c5e",
   "metadata": {},
   "source": [
    "### describe\n",
    "DataFrame.describe(percentiles=None, include=None, exclude=None, datetime_is_numeric=False)\n",
    "https://pandas.pydata.org/pandas-docs/stable/reference/api/pandas.DataFrame.describe.html\n",
    "Descriptive statistics include those that summarize the central tendency, dispersion and shape of a dataset’s distribution, excluding NaN values\n",
    "For numeric data, the result’s index will include count, mean, std, min, max as well as lower, 50 and upper percentiles. By default the lower percentile is 25 and the upper percentile is 75. The 50 percentile is the same as the median.\n",
    "\n",
    "For object data (e.g. strings or timestamps), the result’s index will include count, unique, top, and freq. The top is the most common value. The freq is the most common value’s frequency. Timestamps also include the first and last items.\n",
    "\n",
    "If multiple object values have the highest count, then the count and top results will be arbitrarily chosen from among those with the highest count.\n",
    "\n",
    "For mixed data types provided via a DataFrame, the default is to return only an analysis of numeric columns. If the dataframe consists only of object and categorical data without any numeric columns, the default is to return an analysis of both the object and categorical columns. If include='all' is provided as an option, the result will include a union of attributes of each type.\n",
    "\n",
    "The include and exclude parameters can be used to limit which columns in a DataFrame are analyzed for the output. The parameters are ignored when analyzing a Series"
   ]
  },
  {
   "cell_type": "code",
   "execution_count": null,
   "id": "030f9ce9-360e-4668-8506-7b29fee5ebf9",
   "metadata": {},
   "outputs": [],
   "source": [
    "mtcarsDF.describe()"
   ]
  },
  {
   "cell_type": "code",
   "execution_count": null,
   "id": "a348331d-f02b-4aa5-a178-ebe8d4830aad",
   "metadata": {},
   "outputs": [],
   "source": [
    "mtcarsDF.describe(percentiles = [.5])"
   ]
  },
  {
   "cell_type": "code",
   "execution_count": null,
   "id": "0e79c0ec-531c-45f9-a05c-729dfa6552fb",
   "metadata": {},
   "outputs": [],
   "source": [
    "mtcarsDF.describe(include='all')"
   ]
  },
  {
   "cell_type": "markdown",
   "id": "0bd79d21-2f1f-4f59-8dd2-5e56ebcd4528",
   "metadata": {},
   "source": [
    "### diff\n",
    "DataFrame.diff(periods=1, axis=0)\n",
    "https://pandas.pydata.org/pandas-docs/stable/reference/api/pandas.DataFrame.diff.html\n",
    "First discrete difference of element.\n",
    "\n",
    "Calculates the difference of a DataFrame element compared with another element in the DataFrame (default is element in previous row)."
   ]
  },
  {
   "cell_type": "code",
   "execution_count": null,
   "id": "8d52ecf5-0412-4589-9da3-19324de76ce8",
   "metadata": {},
   "outputs": [],
   "source": [
    "mtcarsDF.diff(periods=1, axis=0).head()"
   ]
  },
  {
   "cell_type": "code",
   "execution_count": null,
   "id": "faadbf9a-9298-4f16-b459-21a1e7c08d45",
   "metadata": {},
   "outputs": [],
   "source": [
    "mtcarsDF.diff(periods=2, axis=0).head()"
   ]
  },
  {
   "cell_type": "code",
   "execution_count": null,
   "id": "0a7cf15d-28cd-4db9-be6e-1edacaf888ac",
   "metadata": {},
   "outputs": [],
   "source": [
    "mtcarsDF.diff(periods=2, axis=1).head()  #col1 - col3"
   ]
  },
  {
   "cell_type": "markdown",
   "id": "ee35ced0-de26-4c3f-9fc5-58c65cbc77c6",
   "metadata": {},
   "source": [
    "### eval\n",
    "DataFrame.eval(expr, *, inplace=False, **kwargs)\n",
    "\n",
    "https://pandas.pydata.org/pandas-docs/stable/reference/api/pandas.DataFrame.eval.html\n",
    "Evaluate a string describing operations on DataFrame columns.\n",
    "\n",
    "Operates on columns only, not specific rows or elements. This allows eval to run arbitrary code, which can make you vulnerable to code injection if you pass user input to this function."
   ]
  },
  {
   "cell_type": "code",
   "execution_count": null,
   "id": "525df053-34f2-45a4-bbd5-3a990065073b",
   "metadata": {},
   "outputs": [],
   "source": [
    "mtcarsDF.eval('mpg + wt')"
   ]
  },
  {
   "cell_type": "code",
   "execution_count": null,
   "id": "89eaa857-de6c-4b83-b359-7247dc7a5b64",
   "metadata": {},
   "outputs": [],
   "source": [
    "mtcarsDF.eval('newMPG = mpg * 1.1')"
   ]
  },
  {
   "cell_type": "code",
   "execution_count": null,
   "id": "560c9585-e992-4507-84b3-eec496ccb754",
   "metadata": {},
   "outputs": [],
   "source": [
    "mtcarsDF.eval('''\n",
    "E1= mpg + wt\n",
    "E2 = am + vs\n",
    "''')"
   ]
  },
  {
   "cell_type": "markdown",
   "id": "92a382e3-9215-4269-9d9d-df6b796f9d55",
   "metadata": {},
   "source": [
    "### kurt\n",
    "DataFrame.kurt(axis=_NoDefault.no_default, skipna=True, level=None, numeric_only=None, **kwargs)https://pandas.pydata.org/docs/reference/api/pandas.DataFrame.kurt.html#\n",
    "Same as kurtosis"
   ]
  },
  {
   "cell_type": "code",
   "execution_count": null,
   "id": "b742bd4c-8a84-4030-ba03-669fe9d9f390",
   "metadata": {},
   "outputs": [],
   "source": [
    "mtcarsDF.kurt()"
   ]
  },
  {
   "cell_type": "markdown",
   "id": "f00c8f46-730b-4ae8-aabd-f37ee9c3df4d",
   "metadata": {},
   "source": [
    "### kurtosis\n",
    "DataFrame.kurtosis(axis=_NoDefault.no_default, skipna=True, level=None, numeric_only=None, **kwargs)\n",
    "https://pandas.pydata.org/docs/reference/api/pandas.DataFrame.kurtosis.html\n",
    "Return unbiased kurtosis over requested axis.\n",
    "\n",
    "Kurtosis obtained using Fisher’s definition of kurtosis (kurtosis of normal == 0.0). Normalized by N-1."
   ]
  },
  {
   "cell_type": "code",
   "execution_count": null,
   "id": "62017dd4-8bf6-4320-9e22-f28a79c81013",
   "metadata": {},
   "outputs": [],
   "source": [
    "mtcarsDF.kurtosis()"
   ]
  },
  {
   "cell_type": "code",
   "execution_count": null,
   "id": "e54e39ff-877f-4e76-a274-aedcb792cdb8",
   "metadata": {},
   "outputs": [],
   "source": []
  },
  {
   "cell_type": "markdown",
   "id": "99b622de-1955-4137-b327-5bbf9e8b9db4",
   "metadata": {},
   "source": [
    "### mad\n",
    "DataFrame.mad(axis=None, skipna=True, level=None)[source]\n",
    "Return the mean absolute deviation of the values over the requested axis.\n",
    "https://pandas.pydata.org/docs/reference/api/pandas.DataFrame.mad.html\n",
    "Depreciated since 1.5"
   ]
  },
  {
   "cell_type": "code",
   "execution_count": null,
   "id": "01d37951-b3b5-4359-ae0b-505577f199f7",
   "metadata": {},
   "outputs": [],
   "source": [
    "mtcarsDF.mad()"
   ]
  },
  {
   "cell_type": "markdown",
   "id": "2617a8cb-cd64-415b-b168-463a8e7a3585",
   "metadata": {},
   "source": [
    "### max\n",
    "DataFrame.max(axis=_NoDefault.no_default, skipna=True, level=None, numeric_only=None, **kwargs)\n",
    "https://pandas.pydata.org/docs/reference/api/pandas.DataFrame.max.html"
   ]
  },
  {
   "cell_type": "code",
   "execution_count": null,
   "id": "9db299f3-1f9d-48a5-8a31-d27f345b1167",
   "metadata": {},
   "outputs": [],
   "source": [
    "mtcarsDF.max(axis=0)"
   ]
  },
  {
   "cell_type": "markdown",
   "id": "6d38e7b4-9e9f-4e6b-a073-9498525e97fa",
   "metadata": {},
   "source": [
    "### mean\n",
    "DataFrame.mean(axis=_NoDefault.no_default, skipna=True, level=None, numeric_only=None, **kwargs)\n",
    "https://pandas.pydata.org/pandas-docs/stable/reference/api/pandas.DataFrame.mean.html"
   ]
  },
  {
   "cell_type": "code",
   "execution_count": null,
   "id": "ce24a519-9a2e-4b84-ba26-79e4425d363b",
   "metadata": {},
   "outputs": [],
   "source": [
    "mtcarsDF.mean(axis=0)"
   ]
  },
  {
   "cell_type": "code",
   "execution_count": null,
   "id": "7a900172-1d39-4db0-9144-4ee00536ea56",
   "metadata": {},
   "outputs": [],
   "source": []
  },
  {
   "cell_type": "markdown",
   "id": "de131fdf-253f-4938-8b97-8328ff3cac62",
   "metadata": {},
   "source": [
    "### median\n",
    "DataFrame.median(axis=_NoDefault.no_default, skipna=True, level=None, numeric_only=None, **kwargs)\n",
    "https://pandas.pydata.org/pandas-docs/stable/reference/api/pandas.DataFrame.median.html"
   ]
  },
  {
   "cell_type": "code",
   "execution_count": null,
   "id": "86831e27-6915-4da3-a83c-62a4786479ef",
   "metadata": {},
   "outputs": [],
   "source": [
    "mtcarsDF.median(axis=0)"
   ]
  },
  {
   "cell_type": "code",
   "execution_count": null,
   "id": "d9405b68-4f1d-4f4d-a2c0-09e4f45dcd51",
   "metadata": {},
   "outputs": [],
   "source": []
  },
  {
   "cell_type": "markdown",
   "id": "cc4b598b-ffc7-4ae1-89fe-1a813bec8492",
   "metadata": {},
   "source": [
    "### min\n",
    "DataFrame.min(axis=_NoDefault.no_default, skipna=True, level=None, numeric_only=None, **kwargs\n",
    "https://pandas.pydata.org/pandas-docs/stable/reference/api/pandas.DataFrame.min.html"
   ]
  },
  {
   "cell_type": "code",
   "execution_count": null,
   "id": "fe49da5e-06cf-4427-890e-8f6db8a8344f",
   "metadata": {},
   "outputs": [],
   "source": [
    "mtcarsDF.min(axis='rows')"
   ]
  },
  {
   "cell_type": "code",
   "execution_count": null,
   "id": "53b095e8-7d2a-4b84-9d5b-c52bd1614b2c",
   "metadata": {},
   "outputs": [],
   "source": [
    "mtcarsDF.min(axis='columns')"
   ]
  },
  {
   "cell_type": "markdown",
   "id": "f8131632-f744-43a4-8ecf-d3373167ded5",
   "metadata": {},
   "source": [
    "### mode\n",
    "DataFrame.mode(axis=0, numeric_only=False, dropna=True)[source]\n",
    "https://pandas.pydata.org/docs/reference/api/pandas.DataFrame.mode.html\n",
    "Get the mode(s) of each element along the selected axis.\n",
    "\n",
    "The mode of a set of values is the value that appears most often. It can be multiple values."
   ]
  },
  {
   "cell_type": "code",
   "execution_count": null,
   "id": "bd873111-89c7-4394-aec0-25337118e9da",
   "metadata": {},
   "outputs": [],
   "source": [
    "mtcarsDF.mode(axis=0, dropna=True)"
   ]
  },
  {
   "cell_type": "code",
   "execution_count": null,
   "id": "3b223891-2620-4304-ab9a-e1ea28ff8ed1",
   "metadata": {},
   "outputs": [],
   "source": [
    "mtcarsDF.mode(axis=1, dropna=True).head()"
   ]
  },
  {
   "cell_type": "markdown",
   "id": "484b17d9-30c2-4be1-8346-dd283f36a3c4",
   "metadata": {},
   "source": [
    "### pct_change\n",
    "DataFrame.pct_change(periods=1, fill_method='pad', limit=None, freq=None, **kwargs)\n",
    "https://pandas.pydata.org/docs/reference/api/pandas.DataFrame.pct_change.html\n",
    "Percentage change between the current and a prior element.\n",
    "\n",
    "Computes the percentage change from the immediately previous row by default. This is useful in comparing the percentage of change in a time series of element"
   ]
  },
  {
   "cell_type": "code",
   "execution_count": null,
   "id": "5ed7eafb-bf94-455d-a785-9fbfa5a5b9c2",
   "metadata": {},
   "outputs": [],
   "source": [
    "mtcarsDF.pct_change().head()"
   ]
  },
  {
   "cell_type": "code",
   "execution_count": null,
   "id": "7397e70d-4edb-4286-8a7d-9776d82c0834",
   "metadata": {},
   "outputs": [],
   "source": [
    "mtcarsDF.pct_change(axis='columns').head()"
   ]
  },
  {
   "cell_type": "code",
   "execution_count": null,
   "id": "5a0405eb-827a-4e84-aea9-9ee21d341723",
   "metadata": {},
   "outputs": [],
   "source": [
    "mtcarsDF.pct_change(periods=2, fill_method='ffill', axis='rows').head()"
   ]
  },
  {
   "cell_type": "markdown",
   "id": "efa6c501-b796-435c-a995-82c28d6d2f5c",
   "metadata": {},
   "source": [
    "### prod\n",
    "DataFrame.prod(axis=None, skipna=True, level=None, numeric_only=None, min_count=0, **kwargs)[source]\n",
    "Return the product of the values over the requested axis.\n",
    "https://pandas.pydata.org/docs/reference/api/pandas.DataFrame.prod.html\n",
    "same as product"
   ]
  },
  {
   "cell_type": "code",
   "execution_count": null,
   "id": "353e2b08-7a2b-419d-8a3e-ee47e5e91489",
   "metadata": {},
   "outputs": [],
   "source": [
    "mtcarsDF.prod()"
   ]
  },
  {
   "cell_type": "markdown",
   "id": "4220c2e5-0437-45e4-b11f-46c5618d9809",
   "metadata": {},
   "source": [
    "### product\n",
    "DataFrame.product(axis=None, skipna=True, level=None, numeric_only=None, min_count=0, **kwargs)[source]\n",
    "Return the product of the values over the requested axis.\n",
    "https://pandas.pydata.org/docs/reference/api/pandas.DataFrame.product.html"
   ]
  },
  {
   "cell_type": "code",
   "execution_count": null,
   "id": "a69bdf7a-c3ce-4136-9de8-2ce02e671411",
   "metadata": {},
   "outputs": [],
   "source": [
    "mtcarsDF.product(axis='rows', min_count=5)"
   ]
  },
  {
   "cell_type": "code",
   "execution_count": null,
   "id": "cdd68e12-b633-42c7-b770-eab4a0547ecf",
   "metadata": {},
   "outputs": [],
   "source": [
    "mtcarsDF.product(axis='columns', min_count=5)"
   ]
  },
  {
   "cell_type": "markdown",
   "id": "ed177ba6-d70c-4959-8bd9-c418c997face",
   "metadata": {},
   "source": [
    "### quantile\n",
    "DataFrame.quantile(q=0.5, axis=0, numeric_only=_NoDefault.no_default, interpolation='linear', method='single')\n",
    "Return values at the given quantile over requested axis.https://pandas.pydata.org/docs/reference/api/pandas.DataFrame.quantile.html"
   ]
  },
  {
   "cell_type": "code",
   "execution_count": null,
   "id": "bf2dbe67-158e-4b9d-bddd-06ee8b556231",
   "metadata": {},
   "outputs": [],
   "source": [
    "mtcarsDF.quantile(q=.5)"
   ]
  },
  {
   "cell_type": "code",
   "execution_count": null,
   "id": "faa060ac-0d0b-44ed-a9a8-0223deffa255",
   "metadata": {},
   "outputs": [],
   "source": [
    "mtcarsDF.quantile(q=[0, .25, .5, .75, 1], axis=0)"
   ]
  },
  {
   "cell_type": "markdown",
   "id": "d4c83d95-1c8c-4a94-9b73-2016a0fc61e5",
   "metadata": {},
   "source": [
    "### rank\n",
    "DataFrame.rank(axis=0, method='average', numeric_only=_NoDefault.no_default, na_option='keep', ascending=True, pct=False)\n",
    "https://pandas.pydata.org/pandas-docs/stable/reference/api/pandas.DataFrame.rank.html\n",
    "Compute numerical data ranks (1 through n) along axis.\n",
    "\n",
    "By default, equal values are assigned a rank that is the average of the ranks of those values.\n",
    "method{‘average’, ‘min’, ‘max’, ‘first’, ‘dense’}, default ‘average’\n",
    "How to rank the group of records that have the same value (i.e. ties):\n",
    "average: average rank of the group\n",
    "min: lowest rank in the group\n",
    "max: highest rank in the group\n",
    "first: ranks assigned in order they appear in the array\n",
    "dense: like ‘min’, but rank always increases by 1 between groups.\n",
    "pctbool, default False\n",
    "Whether or not to display the returned rankings in percentile form."
   ]
  },
  {
   "cell_type": "code",
   "execution_count": null,
   "id": "ade8d9ed-c5bd-429d-b80c-bda10ecb8d8e",
   "metadata": {},
   "outputs": [],
   "source": [
    "mtcarsDF[['mpg','wt']].rank()"
   ]
  },
  {
   "cell_type": "code",
   "execution_count": null,
   "id": "0eb06a6a-7561-40bc-a051-81e5c7e2d0f8",
   "metadata": {},
   "outputs": [],
   "source": [
    "mtcarsDF.mpg.rank(method='min').sort_values(ascending=True)"
   ]
  },
  {
   "cell_type": "markdown",
   "id": "271b4235-612f-4ac9-b1a2-03a287ad6022",
   "metadata": {},
   "source": [
    "## Reindexing\n",
    "Selection/ label Manipulation"
   ]
  },
  {
   "cell_type": "markdown",
   "id": "e2d250f2-86c0-41e5-87f3-7831fdaac76b",
   "metadata": {},
   "source": [
    "### round\n",
    "DataFrame.round(decimals=0, *args, **kwargs)[source]\n",
    "Round a DataFrame to a variable number of decimal places.\n",
    "https://pandas.pydata.org/docs/reference/api/pandas.DataFrame.round.html"
   ]
  },
  {
   "cell_type": "code",
   "execution_count": null,
   "id": "b03656a1-f852-4cf1-a885-617d2e22392f",
   "metadata": {},
   "outputs": [],
   "source": [
    "mtcarsDF.round(decimals=0).head()"
   ]
  },
  {
   "cell_type": "code",
   "execution_count": null,
   "id": "b7657887-08cd-45a0-8168-e81b864259b6",
   "metadata": {},
   "outputs": [],
   "source": [
    "mtcarsDF.round({'mpg':1, 'disp':3, 'qsec':2, 'hp':-1, 'wt':4}).head()"
   ]
  },
  {
   "cell_type": "code",
   "execution_count": null,
   "id": "c4473c75-2ab1-4576-bb60-b12fa2fbd288",
   "metadata": {},
   "outputs": [],
   "source": [
    "decimals1 = pd.Series([1,3,2,-1,2], index=['mpg','disp','qsec','hp','wt'])\n",
    "mtcarsDF.round(decimals1).head()\n",
    "#Using a Series, the number of places for specific columns can be \n",
    "#specified with the column names as index and the number of decimal places as value"
   ]
  },
  {
   "cell_type": "markdown",
   "id": "7f47509a-f90e-474d-b725-dc99a96363dc",
   "metadata": {},
   "source": [
    "### sem\n",
    "pandas.DataFrame.sem\n",
    "DataFrame.sem(axis=None, skipna=True, level=None, ddof=1, numeric_only=None, **kwargs)[source]\n",
    "Return unbiased standard error of the mean over requested axis.\n",
    "The standard error (SE) of a statistic is the standard deviation of its sampling distribution or an estimate of that standard deviation\n",
    "Normalized by N-1 by default. This can be changed using the ddof argument\n",
    "https://pandas.pydata.org/docs/reference/api/pandas.DataFrame.sem.html"
   ]
  },
  {
   "cell_type": "code",
   "execution_count": null,
   "id": "c1c74aa2-e129-4d6a-a54d-105bfd1e06c0",
   "metadata": {},
   "outputs": [],
   "source": [
    "mtcarsDF.sem()"
   ]
  },
  {
   "cell_type": "markdown",
   "id": "79fd32c7-6962-4ac8-8f4f-48fa13734575",
   "metadata": {},
   "source": [
    "### skew\n",
    "DataFrame.skew(axis=_NoDefault.no_default, skipna=True, level=None, numeric_only=None, **kwargs)[source]\n",
    "Return unbiased skew over requested axis.\n",
    "\n",
    "Normalized by N-1.\n",
    "https://pandas.pydata.org/docs/reference/api/pandas.DataFrame.skew.html\n",
    "A skewness value greater than 1 or less than -1 indicates a highly skewed distribution. A value between 0.5 and 1 or -0.5 and -1 is moderately skewed. A value between -0.5 and 0.5 indicates that the distribution is fairly symmetrical.\n",
    "Right skewed: The mean is greater than the median. The mean overestimates the most common values in a positively skewed distribution. Left skewed: The mean is less than the median. The mean underestimates the most common values in a negatively skewed distribution.\n",
    "A left-skewed distribution is longer on the left side of its peak than on its right. In other words, a left-skewed distribution has a long tail on its left side. Left skew is also referred to as negative skew.\n",
    "(vice versa)"
   ]
  },
  {
   "cell_type": "code",
   "execution_count": null,
   "id": "11a79017-4f4a-4cb2-98a9-a0e03654024f",
   "metadata": {},
   "outputs": [],
   "source": [
    "mtcarsDF.skew(axis='rows')"
   ]
  },
  {
   "cell_type": "markdown",
   "id": "4269403c-3686-462f-9b21-57ff634e662b",
   "metadata": {},
   "source": [
    "### sum\n",
    "DataFrame.sum(axis=None, skipna=True, level=None, numeric_only=None, min_count=0, **kwargs)[source]\n",
    "Return the sum of the values over the requested axis.\n",
    "\n",
    "This is equivalent to the method numpy.sum\n",
    "https://pandas.pydata.org/docs/reference/api/pandas.DataFrame.sum.html\n",
    "level- int or level name, default None; If the axis is a MultiIndex (hierarchical), count along a particular level, collapsing into a Series."
   ]
  },
  {
   "cell_type": "code",
   "execution_count": null,
   "id": "c2de0ae9-01f5-4d62-9fce-3cdbf00884b6",
   "metadata": {},
   "outputs": [],
   "source": [
    "mtcarsDF.sum(axis='rows')"
   ]
  },
  {
   "cell_type": "markdown",
   "id": "af75fe32-027c-4764-a958-2c06a70285a7",
   "metadata": {},
   "source": [
    "### std\n",
    "DataFrame.std(axis=None, skipna=True, level=None, ddof=1, numeric_only=None, **kwargs)[source]\n",
    "Return sample standard deviation over requested axis.\n",
    "\n",
    "Normalized by N-1 by default. This can be changed using the ddof argument\n",
    "https://pandas.pydata.org/docs/reference/api/pandas.DataFrame.std.html"
   ]
  },
  {
   "cell_type": "code",
   "execution_count": null,
   "id": "09e6a7e9-e22c-4214-9c76-e6b3ffe8b058",
   "metadata": {},
   "outputs": [],
   "source": [
    "mtcarsDF.std()"
   ]
  },
  {
   "cell_type": "code",
   "execution_count": null,
   "id": "155300eb-17a1-488a-821f-c60ebb7fb585",
   "metadata": {},
   "outputs": [],
   "source": [
    "mtcarsDF.std(ddof=0)\n",
    "#ddof=0 can be set to normalize by N instead of N-1:"
   ]
  },
  {
   "cell_type": "markdown",
   "id": "e2a468c3-16ba-47fd-86d2-456df6799805",
   "metadata": {},
   "source": [
    "### var\n",
    "DataFrame.var(axis=None, skipna=True, level=None, ddof=1, numeric_only=None, **kwargs)[source]\n",
    "Return unbiased variance over requested axis.\n",
    "\n",
    "Normalized by N-1 by default. This can be changed using the ddof argument.\n",
    "https://pandas.pydata.org/docs/reference/api/pandas.DataFrame.var.html"
   ]
  },
  {
   "cell_type": "code",
   "execution_count": null,
   "id": "4720302f-e7a6-4891-9e12-a9d09302c9b0",
   "metadata": {},
   "outputs": [],
   "source": [
    "mtcarsDF.var()"
   ]
  },
  {
   "cell_type": "code",
   "execution_count": null,
   "id": "f6969a73-1a72-4971-8233-3bcdc08c56dd",
   "metadata": {},
   "outputs": [],
   "source": [
    "mtcarsDF.std() #square of std is var"
   ]
  },
  {
   "cell_type": "markdown",
   "id": "8d684e6b-e84d-4e6c-aecb-6d18d62fa8c0",
   "metadata": {},
   "source": [
    "### nunique\n",
    "DataFrame.nunique(axis=0, dropna=True)[source]\n",
    "Count number of distinct elements in specified axis.\n",
    "\n",
    "Return Series with number of distinct elements. Can ignore NaN values.https://pandas.pydata.org/docs/reference/api/pandas.DataFrame.nunique.html"
   ]
  },
  {
   "cell_type": "code",
   "execution_count": null,
   "id": "a4cc577c-cded-4441-b17d-2e3a7e74b837",
   "metadata": {},
   "outputs": [],
   "source": [
    "mtcarsDF.nunique(axis=0)"
   ]
  },
  {
   "cell_type": "markdown",
   "id": "90392dad-731a-4916-ac76-40bad8966118",
   "metadata": {},
   "source": [
    "### value_counts\n",
    "DataFrame.value_counts(subset=None, normalize=False, sort=True, ascending=False, dropna=True)\n",
    "Return a Series containing counts of unique rows in the DataFrame\n",
    "https://pandas.pydata.org/pandas-docs/stable/reference/api/pandas.DataFrame.value_counts.html"
   ]
  },
  {
   "cell_type": "code",
   "execution_count": null,
   "id": "21bad26e-d690-4e71-b086-45b5ab6b87b2",
   "metadata": {},
   "outputs": [],
   "source": [
    "mtcarsDF.value_counts()\n",
    "#count of unique rows in DF"
   ]
  },
  {
   "cell_type": "code",
   "execution_count": null,
   "id": "139508db-bd86-4020-83a5-7570c8cb9121",
   "metadata": {},
   "outputs": [],
   "source": [
    "mtcarsDF.value_counts(subset=['vs', 'am'], ascending=True, sort = True)"
   ]
  },
  {
   "cell_type": "code",
   "execution_count": null,
   "id": "378182f9-c3ed-4de8-8d8a-752a4b17e646",
   "metadata": {},
   "outputs": [],
   "source": [
    "mtcarsDF.value_counts(subset=['gear'], normalize=True, ascending=False, sort = True)  #proportion"
   ]
  },
  {
   "cell_type": "code",
   "execution_count": null,
   "id": "eb0887ab-b0da-424c-bd58-473d532a3d72",
   "metadata": {},
   "outputs": [],
   "source": [
    "## Reindexing/ Selection/ Label manipulation"
   ]
  },
  {
   "cell_type": "markdown",
   "id": "0eedd9f9-6e16-4ab1-b7f7-82f688c9c97d",
   "metadata": {},
   "source": [
    "### add_prefix\n",
    "Prefix labels with string prefix.\n",
    "https://pandas.pydata.org/pandas-docs/stable/reference/api/pandas.DataFrame.add_prefix.html"
   ]
  },
  {
   "cell_type": "code",
   "execution_count": null,
   "id": "59cde324-5f8a-4c34-88e0-98478930539f",
   "metadata": {},
   "outputs": [],
   "source": [
    "mtcarsDF.add_prefix('cars_').head()"
   ]
  },
  {
   "cell_type": "markdown",
   "id": "d1e25081-bdb1-4bc9-b004-fee9262fdb6e",
   "metadata": {},
   "source": [
    "### add_suffix\n",
    "DataFrame.add_suffix(suffix)\n",
    "https://pandas.pydata.org/pandas-docs/stable/reference/api/pandas.DataFrame.add_suffix.html"
   ]
  },
  {
   "cell_type": "code",
   "execution_count": 8,
   "id": "1151efc3-8a18-485a-a7b6-4fffb731efee",
   "metadata": {},
   "outputs": [
    {
     "data": {
      "text/html": [
       "<div>\n",
       "<style scoped>\n",
       "    .dataframe tbody tr th:only-of-type {\n",
       "        vertical-align: middle;\n",
       "    }\n",
       "\n",
       "    .dataframe tbody tr th {\n",
       "        vertical-align: top;\n",
       "    }\n",
       "\n",
       "    .dataframe thead th {\n",
       "        text-align: right;\n",
       "    }\n",
       "</style>\n",
       "<table border=\"1\" class=\"dataframe\">\n",
       "  <thead>\n",
       "    <tr style=\"text-align: right;\">\n",
       "      <th></th>\n",
       "      <th>mpg_CarData</th>\n",
       "      <th>cyl_CarData</th>\n",
       "      <th>disp_CarData</th>\n",
       "      <th>hp_CarData</th>\n",
       "      <th>drat_CarData</th>\n",
       "      <th>wt_CarData</th>\n",
       "      <th>qsec_CarData</th>\n",
       "      <th>vs_CarData</th>\n",
       "      <th>am_CarData</th>\n",
       "      <th>gear_CarData</th>\n",
       "      <th>carb_CarData</th>\n",
       "    </tr>\n",
       "  </thead>\n",
       "  <tbody>\n",
       "    <tr>\n",
       "      <th>Mazda RX4</th>\n",
       "      <td>21.0</td>\n",
       "      <td>6</td>\n",
       "      <td>160.0</td>\n",
       "      <td>110</td>\n",
       "      <td>3.90</td>\n",
       "      <td>2.620</td>\n",
       "      <td>16.46</td>\n",
       "      <td>0</td>\n",
       "      <td>1</td>\n",
       "      <td>4</td>\n",
       "      <td>4</td>\n",
       "    </tr>\n",
       "    <tr>\n",
       "      <th>Mazda RX4 Wag</th>\n",
       "      <td>21.0</td>\n",
       "      <td>6</td>\n",
       "      <td>160.0</td>\n",
       "      <td>110</td>\n",
       "      <td>3.90</td>\n",
       "      <td>2.875</td>\n",
       "      <td>17.02</td>\n",
       "      <td>0</td>\n",
       "      <td>1</td>\n",
       "      <td>4</td>\n",
       "      <td>4</td>\n",
       "    </tr>\n",
       "    <tr>\n",
       "      <th>Datsun 710</th>\n",
       "      <td>22.8</td>\n",
       "      <td>4</td>\n",
       "      <td>108.0</td>\n",
       "      <td>93</td>\n",
       "      <td>3.85</td>\n",
       "      <td>2.320</td>\n",
       "      <td>18.61</td>\n",
       "      <td>1</td>\n",
       "      <td>1</td>\n",
       "      <td>4</td>\n",
       "      <td>1</td>\n",
       "    </tr>\n",
       "    <tr>\n",
       "      <th>Hornet 4 Drive</th>\n",
       "      <td>21.4</td>\n",
       "      <td>6</td>\n",
       "      <td>258.0</td>\n",
       "      <td>110</td>\n",
       "      <td>3.08</td>\n",
       "      <td>3.215</td>\n",
       "      <td>19.44</td>\n",
       "      <td>1</td>\n",
       "      <td>0</td>\n",
       "      <td>3</td>\n",
       "      <td>1</td>\n",
       "    </tr>\n",
       "    <tr>\n",
       "      <th>Hornet Sportabout</th>\n",
       "      <td>18.7</td>\n",
       "      <td>8</td>\n",
       "      <td>360.0</td>\n",
       "      <td>175</td>\n",
       "      <td>3.15</td>\n",
       "      <td>3.440</td>\n",
       "      <td>17.02</td>\n",
       "      <td>0</td>\n",
       "      <td>0</td>\n",
       "      <td>3</td>\n",
       "      <td>2</td>\n",
       "    </tr>\n",
       "  </tbody>\n",
       "</table>\n",
       "</div>"
      ],
      "text/plain": [
       "                   mpg_CarData  cyl_CarData  disp_CarData  hp_CarData  \\\n",
       "Mazda RX4                 21.0            6         160.0         110   \n",
       "Mazda RX4 Wag             21.0            6         160.0         110   \n",
       "Datsun 710                22.8            4         108.0          93   \n",
       "Hornet 4 Drive            21.4            6         258.0         110   \n",
       "Hornet Sportabout         18.7            8         360.0         175   \n",
       "\n",
       "                   drat_CarData  wt_CarData  qsec_CarData  vs_CarData  \\\n",
       "Mazda RX4                  3.90       2.620         16.46           0   \n",
       "Mazda RX4 Wag              3.90       2.875         17.02           0   \n",
       "Datsun 710                 3.85       2.320         18.61           1   \n",
       "Hornet 4 Drive             3.08       3.215         19.44           1   \n",
       "Hornet Sportabout          3.15       3.440         17.02           0   \n",
       "\n",
       "                   am_CarData  gear_CarData  carb_CarData  \n",
       "Mazda RX4                   1             4             4  \n",
       "Mazda RX4 Wag               1             4             4  \n",
       "Datsun 710                  1             4             1  \n",
       "Hornet 4 Drive              0             3             1  \n",
       "Hornet Sportabout           0             3             2  "
      ]
     },
     "execution_count": 8,
     "metadata": {},
     "output_type": "execute_result"
    }
   ],
   "source": [
    "mtcarsDF.add_suffix('_CarData').head()"
   ]
  },
  {
   "cell_type": "markdown",
   "id": "2fa6ce75-b357-477c-8142-eb439fff34c0",
   "metadata": {},
   "source": [
    "### align\n",
    "DataFrame.align(other, join='outer', axis=None, level=None, copy=True, fill_value=None, method=None, limit=None, fill_axis=0, broadcast_axis=None)\n",
    "\n",
    "https://pandas.pydata.org/pandas-docs/stable/reference/api/pandas.DataFrame.align.html\n",
    "\n",
    "Align two objects on their axes with the specified join method."
   ]
  },
  {
   "cell_type": "code",
   "execution_count": 9,
   "id": "12cc8ff3-394e-41b2-bfbe-39746a729365",
   "metadata": {},
   "outputs": [
    {
     "name": "stdout",
     "output_type": "stream",
     "text": [
      "   D  B  E  A\n",
      "1  1  2  3  4\n",
      "2  6  7  8  9 \n",
      "      A    B    C    D\n",
      "2   10   20   30   40\n",
      "3   60   70   80   90\n",
      "4  600  700  800  900\n"
     ]
    }
   ],
   "source": [
    "df = pd.DataFrame( [[1, 2, 3, 4], [6, 7, 8, 9]], columns=[\"D\", \"B\", \"E\", \"A\"], index=[1, 2]\n",
    ")   #no C\n",
    "other = pd.DataFrame(\n",
    "    [[10, 20, 30, 40], [60, 70, 80, 90], [600, 700, 800, 900]],\n",
    "    columns=[\"A\", \"B\", \"C\", \"D\"],\n",
    "    index=[2, 3, 4],\n",
    ")  #no E\n",
    "print(df, '\\n', other)"
   ]
  },
  {
   "cell_type": "code",
   "execution_count": 10,
   "id": "89e97ea1-7dab-4977-93f0-b5a5af0082a8",
   "metadata": {},
   "outputs": [
    {
     "name": "stdout",
     "output_type": "stream",
     "text": [
      "   A  B   C  D  E\n",
      "1  4  2 NaN  1  3\n",
      "2  9  7 NaN  6  8\n",
      "\n",
      "      A    B    C    D   E\n",
      "2   10   20   30   40 NaN\n",
      "3   60   70   80   90 NaN\n",
      "4  600  700  800  900 NaN\n"
     ]
    }
   ],
   "source": [
    "#add column\n",
    "left, right = df.align(other, join=\"outer\", axis=1)\n",
    "print(left)\n",
    "print('\\n', right)"
   ]
  },
  {
   "cell_type": "code",
   "execution_count": 11,
   "id": "dd910c00-3ef7-417e-a0c0-79fab400ca41",
   "metadata": {},
   "outputs": [
    {
     "name": "stdout",
     "output_type": "stream",
     "text": [
      "     D    B    E    A\n",
      "1  1.0  2.0  3.0  4.0\n",
      "2  6.0  7.0  8.0  9.0\n",
      "3  NaN  NaN  NaN  NaN\n",
      "4  NaN  NaN  NaN  NaN\n",
      "\n",
      "        A      B      C      D\n",
      "1    NaN    NaN    NaN    NaN\n",
      "2   10.0   20.0   30.0   40.0\n",
      "3   60.0   70.0   80.0   90.0\n",
      "4  600.0  700.0  800.0  900.0\n"
     ]
    }
   ],
   "source": [
    "# row add\n",
    "left, right = df.align(other, join=\"outer\", axis=0)\n",
    "print(left)\n",
    "print('\\n', right)"
   ]
  },
  {
   "cell_type": "code",
   "execution_count": 12,
   "id": "0dd281e0-a136-4b0a-bb8f-e954e2bcc0cd",
   "metadata": {},
   "outputs": [
    {
     "name": "stdout",
     "output_type": "stream",
     "text": [
      "     A    B   C    D    E\n",
      "1  4.0  2.0 NaN  1.0  3.0\n",
      "2  9.0  7.0 NaN  6.0  8.0\n",
      "3  NaN  NaN NaN  NaN  NaN\n",
      "4  NaN  NaN NaN  NaN  NaN\n",
      "\n",
      "        A      B      C      D   E\n",
      "1    NaN    NaN    NaN    NaN NaN\n",
      "2   10.0   20.0   30.0   40.0 NaN\n",
      "3   60.0   70.0   80.0   90.0 NaN\n",
      "4  600.0  700.0  800.0  900.0 NaN\n"
     ]
    }
   ],
   "source": [
    "# both axis  - get all data\n",
    "left, right = df.align(other, join=\"outer\", axis=None)\n",
    "print(left)\n",
    "print('\\n', right)"
   ]
  },
  {
   "cell_type": "markdown",
   "id": "2a9c31c4-d3fe-47fc-924b-99c6bdd3edb0",
   "metadata": {},
   "source": [
    "### at_time\n",
    "Select values at particular time of day (e.g., 9:30AM).\n",
    "https://pandas.pydata.org/pandas-docs/stable/reference/api/pandas.DataFrame.at_time.html"
   ]
  },
  {
   "cell_type": "code",
   "execution_count": 14,
   "id": "272e500e-ca9a-4dd6-87b9-9d009a956aec",
   "metadata": {},
   "outputs": [
    {
     "data": {
      "text/html": [
       "<div>\n",
       "<style scoped>\n",
       "    .dataframe tbody tr th:only-of-type {\n",
       "        vertical-align: middle;\n",
       "    }\n",
       "\n",
       "    .dataframe tbody tr th {\n",
       "        vertical-align: top;\n",
       "    }\n",
       "\n",
       "    .dataframe thead th {\n",
       "        text-align: right;\n",
       "    }\n",
       "</style>\n",
       "<table border=\"1\" class=\"dataframe\">\n",
       "  <thead>\n",
       "    <tr style=\"text-align: right;\">\n",
       "      <th></th>\n",
       "      <th>A</th>\n",
       "    </tr>\n",
       "  </thead>\n",
       "  <tbody>\n",
       "    <tr>\n",
       "      <th>2018-04-09 00:00:00</th>\n",
       "      <td>1</td>\n",
       "    </tr>\n",
       "    <tr>\n",
       "      <th>2018-04-09 12:00:00</th>\n",
       "      <td>2</td>\n",
       "    </tr>\n",
       "    <tr>\n",
       "      <th>2018-04-10 00:00:00</th>\n",
       "      <td>3</td>\n",
       "    </tr>\n",
       "    <tr>\n",
       "      <th>2018-04-10 12:00:00</th>\n",
       "      <td>4</td>\n",
       "    </tr>\n",
       "  </tbody>\n",
       "</table>\n",
       "</div>"
      ],
      "text/plain": [
       "                     A\n",
       "2018-04-09 00:00:00  1\n",
       "2018-04-09 12:00:00  2\n",
       "2018-04-10 00:00:00  3\n",
       "2018-04-10 12:00:00  4"
      ]
     },
     "execution_count": 14,
     "metadata": {},
     "output_type": "execute_result"
    }
   ],
   "source": [
    "i = pd.date_range('2018-04-09', periods=4, freq='12H')\n",
    "ts = pd.DataFrame({'A': [1, 2, 3, 4]}, index=i)\n",
    "ts"
   ]
  },
  {
   "cell_type": "code",
   "execution_count": 15,
   "id": "5538074a-3020-4493-8a57-3b60ab451db4",
   "metadata": {},
   "outputs": [
    {
     "data": {
      "text/html": [
       "<div>\n",
       "<style scoped>\n",
       "    .dataframe tbody tr th:only-of-type {\n",
       "        vertical-align: middle;\n",
       "    }\n",
       "\n",
       "    .dataframe tbody tr th {\n",
       "        vertical-align: top;\n",
       "    }\n",
       "\n",
       "    .dataframe thead th {\n",
       "        text-align: right;\n",
       "    }\n",
       "</style>\n",
       "<table border=\"1\" class=\"dataframe\">\n",
       "  <thead>\n",
       "    <tr style=\"text-align: right;\">\n",
       "      <th></th>\n",
       "      <th>A</th>\n",
       "    </tr>\n",
       "  </thead>\n",
       "  <tbody>\n",
       "    <tr>\n",
       "      <th>2018-04-09 12:00:00</th>\n",
       "      <td>2</td>\n",
       "    </tr>\n",
       "    <tr>\n",
       "      <th>2018-04-10 12:00:00</th>\n",
       "      <td>4</td>\n",
       "    </tr>\n",
       "  </tbody>\n",
       "</table>\n",
       "</div>"
      ],
      "text/plain": [
       "                     A\n",
       "2018-04-09 12:00:00  2\n",
       "2018-04-10 12:00:00  4"
      ]
     },
     "execution_count": 15,
     "metadata": {},
     "output_type": "execute_result"
    }
   ],
   "source": [
    "ts.at_time('12:00')"
   ]
  },
  {
   "cell_type": "markdown",
   "id": "52117028-5855-4af5-91cb-ecb04a5ca374",
   "metadata": {},
   "source": [
    "### between_time\n",
    "DataFrame.between_time(start_time, end_time, include_start=_NoDefault.no_default, include_end=_NoDefault.no_default, inclusive=None, axis=None)\n",
    "https://pandas.pydata.org/pandas-docs/stable/reference/api/pandas.DataFrame.between_time.html\n",
    "inclusive{“both”, “neither”, “left”, “right”}, default “both”\n",
    "Include boundaries; whether to set each bound as closed or open."
   ]
  },
  {
   "cell_type": "code",
   "execution_count": 16,
   "id": "20369ac5-1816-495b-8033-d86ba2af6b81",
   "metadata": {},
   "outputs": [
    {
     "data": {
      "text/html": [
       "<div>\n",
       "<style scoped>\n",
       "    .dataframe tbody tr th:only-of-type {\n",
       "        vertical-align: middle;\n",
       "    }\n",
       "\n",
       "    .dataframe tbody tr th {\n",
       "        vertical-align: top;\n",
       "    }\n",
       "\n",
       "    .dataframe thead th {\n",
       "        text-align: right;\n",
       "    }\n",
       "</style>\n",
       "<table border=\"1\" class=\"dataframe\">\n",
       "  <thead>\n",
       "    <tr style=\"text-align: right;\">\n",
       "      <th></th>\n",
       "      <th>A</th>\n",
       "    </tr>\n",
       "  </thead>\n",
       "  <tbody>\n",
       "    <tr>\n",
       "      <th>2018-04-09 12:00:00</th>\n",
       "      <td>2</td>\n",
       "    </tr>\n",
       "    <tr>\n",
       "      <th>2018-04-10 12:00:00</th>\n",
       "      <td>4</td>\n",
       "    </tr>\n",
       "  </tbody>\n",
       "</table>\n",
       "</div>"
      ],
      "text/plain": [
       "                     A\n",
       "2018-04-09 12:00:00  2\n",
       "2018-04-10 12:00:00  4"
      ]
     },
     "execution_count": 16,
     "metadata": {},
     "output_type": "execute_result"
    }
   ],
   "source": [
    "ts.between_time('0:15', '14:45')"
   ]
  },
  {
   "cell_type": "code",
   "execution_count": 17,
   "id": "3a946c93-178f-41bc-b62f-689fcabbd37f",
   "metadata": {},
   "outputs": [
    {
     "data": {
      "text/html": [
       "<div>\n",
       "<style scoped>\n",
       "    .dataframe tbody tr th:only-of-type {\n",
       "        vertical-align: middle;\n",
       "    }\n",
       "\n",
       "    .dataframe tbody tr th {\n",
       "        vertical-align: top;\n",
       "    }\n",
       "\n",
       "    .dataframe thead th {\n",
       "        text-align: right;\n",
       "    }\n",
       "</style>\n",
       "<table border=\"1\" class=\"dataframe\">\n",
       "  <thead>\n",
       "    <tr style=\"text-align: right;\">\n",
       "      <th></th>\n",
       "      <th>A</th>\n",
       "    </tr>\n",
       "  </thead>\n",
       "  <tbody>\n",
       "    <tr>\n",
       "      <th>2018-04-09 00:00:00</th>\n",
       "      <td>1</td>\n",
       "    </tr>\n",
       "    <tr>\n",
       "      <th>2018-04-09 12:00:00</th>\n",
       "      <td>2</td>\n",
       "    </tr>\n",
       "    <tr>\n",
       "      <th>2018-04-10 00:00:00</th>\n",
       "      <td>3</td>\n",
       "    </tr>\n",
       "    <tr>\n",
       "      <th>2018-04-10 12:00:00</th>\n",
       "      <td>4</td>\n",
       "    </tr>\n",
       "  </tbody>\n",
       "</table>\n",
       "</div>"
      ],
      "text/plain": [
       "                     A\n",
       "2018-04-09 00:00:00  1\n",
       "2018-04-09 12:00:00  2\n",
       "2018-04-10 00:00:00  3\n",
       "2018-04-10 12:00:00  4"
      ]
     },
     "execution_count": 17,
     "metadata": {},
     "output_type": "execute_result"
    }
   ],
   "source": [
    "ts.between_time('0:45', '0:15')\n",
    "#not between two times  setting start_time later than end_tim"
   ]
  },
  {
   "cell_type": "markdown",
   "id": "6669e8cb-308b-45f9-a6a6-9f5a2070c28b",
   "metadata": {},
   "source": [
    "### drop\n",
    "DataFrame.drop(labels=None, *, axis=0, index=None, columns=None, level=None, inplace=False, errors='raise')\n",
    "https://pandas.pydata.org/pandas-docs/stable/reference/api/pandas.DataFrame.drop.html\n",
    "Drop specified labels from rows or columns.\n",
    "\n",
    "Remove rows or columns by specifying label names and corresponding axis, or by specifying directly index or column names. When using a multi-index, labels on different levels can be removed by specifying the level. See the user guide <advanced.shown_levels> for more information about the now unused levels."
   ]
  },
  {
   "cell_type": "code",
   "execution_count": 18,
   "id": "00ec16eb-eca6-4bb0-8979-324db0f0ae9a",
   "metadata": {},
   "outputs": [
    {
     "data": {
      "text/html": [
       "<div>\n",
       "<style scoped>\n",
       "    .dataframe tbody tr th:only-of-type {\n",
       "        vertical-align: middle;\n",
       "    }\n",
       "\n",
       "    .dataframe tbody tr th {\n",
       "        vertical-align: top;\n",
       "    }\n",
       "\n",
       "    .dataframe thead th {\n",
       "        text-align: right;\n",
       "    }\n",
       "</style>\n",
       "<table border=\"1\" class=\"dataframe\">\n",
       "  <thead>\n",
       "    <tr style=\"text-align: right;\">\n",
       "      <th></th>\n",
       "      <th>mpg</th>\n",
       "      <th>cyl</th>\n",
       "      <th>disp</th>\n",
       "      <th>hp</th>\n",
       "      <th>drat</th>\n",
       "      <th>wt</th>\n",
       "      <th>qsec</th>\n",
       "      <th>vs</th>\n",
       "      <th>am</th>\n",
       "      <th>gear</th>\n",
       "      <th>carb</th>\n",
       "    </tr>\n",
       "  </thead>\n",
       "  <tbody>\n",
       "    <tr>\n",
       "      <th>Mazda RX4</th>\n",
       "      <td>21.0</td>\n",
       "      <td>6.0</td>\n",
       "      <td>160.0</td>\n",
       "      <td>110.0</td>\n",
       "      <td>3.90</td>\n",
       "      <td>2.620</td>\n",
       "      <td>16.46</td>\n",
       "      <td>0.0</td>\n",
       "      <td>1.0</td>\n",
       "      <td>4.0</td>\n",
       "      <td>4.0</td>\n",
       "    </tr>\n",
       "    <tr>\n",
       "      <th>Mazda RX4 Wag</th>\n",
       "      <td>21.0</td>\n",
       "      <td>6.0</td>\n",
       "      <td>160.0</td>\n",
       "      <td>110.0</td>\n",
       "      <td>3.90</td>\n",
       "      <td>2.875</td>\n",
       "      <td>17.02</td>\n",
       "      <td>0.0</td>\n",
       "      <td>1.0</td>\n",
       "      <td>4.0</td>\n",
       "      <td>4.0</td>\n",
       "    </tr>\n",
       "    <tr>\n",
       "      <th>Datsun 710</th>\n",
       "      <td>22.8</td>\n",
       "      <td>4.0</td>\n",
       "      <td>NaN</td>\n",
       "      <td>93.0</td>\n",
       "      <td>3.85</td>\n",
       "      <td>2.320</td>\n",
       "      <td>NaN</td>\n",
       "      <td>1.0</td>\n",
       "      <td>1.0</td>\n",
       "      <td>4.0</td>\n",
       "      <td>1.0</td>\n",
       "    </tr>\n",
       "    <tr>\n",
       "      <th>Hornet 4 Drive</th>\n",
       "      <td>NaN</td>\n",
       "      <td>6.0</td>\n",
       "      <td>258.0</td>\n",
       "      <td>110.0</td>\n",
       "      <td>3.08</td>\n",
       "      <td>3.215</td>\n",
       "      <td>19.44</td>\n",
       "      <td>1.0</td>\n",
       "      <td>0.0</td>\n",
       "      <td>3.0</td>\n",
       "      <td>1.0</td>\n",
       "    </tr>\n",
       "    <tr>\n",
       "      <th>Hornet Sportabout</th>\n",
       "      <td>18.7</td>\n",
       "      <td>NaN</td>\n",
       "      <td>360.0</td>\n",
       "      <td>175.0</td>\n",
       "      <td>3.15</td>\n",
       "      <td>3.440</td>\n",
       "      <td>17.02</td>\n",
       "      <td>0.0</td>\n",
       "      <td>0.0</td>\n",
       "      <td>3.0</td>\n",
       "      <td>2.0</td>\n",
       "    </tr>\n",
       "  </tbody>\n",
       "</table>\n",
       "</div>"
      ],
      "text/plain": [
       "                    mpg  cyl   disp     hp  drat     wt   qsec   vs   am  \\\n",
       "Mazda RX4          21.0  6.0  160.0  110.0  3.90  2.620  16.46  0.0  1.0   \n",
       "Mazda RX4 Wag      21.0  6.0  160.0  110.0  3.90  2.875  17.02  0.0  1.0   \n",
       "Datsun 710         22.8  4.0    NaN   93.0  3.85  2.320    NaN  1.0  1.0   \n",
       "Hornet 4 Drive      NaN  6.0  258.0  110.0  3.08  3.215  19.44  1.0  0.0   \n",
       "Hornet Sportabout  18.7  NaN  360.0  175.0  3.15  3.440  17.02  0.0  0.0   \n",
       "\n",
       "                   gear  carb  \n",
       "Mazda RX4           4.0   4.0  \n",
       "Mazda RX4 Wag       4.0   4.0  \n",
       "Datsun 710          4.0   1.0  \n",
       "Hornet 4 Drive      3.0   1.0  \n",
       "Hornet Sportabout   3.0   2.0  "
      ]
     },
     "execution_count": 18,
     "metadata": {},
     "output_type": "execute_result"
    }
   ],
   "source": [
    "df = mtcarsDF.copy()\n",
    "import numpy\n",
    "for col in df.columns:\n",
    "    df.loc[df.sample(frac=0.1).index, col] = numpy.nan\n",
    "df.head()"
   ]
  },
  {
   "cell_type": "code",
   "execution_count": 19,
   "id": "bf6f9700-3529-4a8b-aa38-53be0c5c9c20",
   "metadata": {},
   "outputs": [
    {
     "data": {
      "text/plain": [
       "mpg     3\n",
       "cyl     3\n",
       "disp    3\n",
       "hp      3\n",
       "drat    3\n",
       "wt      3\n",
       "qsec    3\n",
       "vs      3\n",
       "am      3\n",
       "gear    3\n",
       "carb    3\n",
       "dtype: int64"
      ]
     },
     "execution_count": 19,
     "metadata": {},
     "output_type": "execute_result"
    }
   ],
   "source": [
    "df.isna().sum()"
   ]
  },
  {
   "cell_type": "code",
   "execution_count": 20,
   "id": "0ddec345-b0d2-4444-9338-1fe2861a166a",
   "metadata": {},
   "outputs": [
    {
     "name": "stdout",
     "output_type": "stream",
     "text": [
      "                   cyl   disp     hp  drat   qsec   vs   am  gear  carb\n",
      "Mazda RX4          6.0  160.0  110.0  3.90  16.46  0.0  1.0   4.0   4.0\n",
      "Mazda RX4 Wag      6.0  160.0  110.0  3.90  17.02  0.0  1.0   4.0   4.0\n",
      "Datsun 710         4.0    NaN   93.0  3.85    NaN  1.0  1.0   4.0   1.0\n",
      "Hornet 4 Drive     6.0  258.0  110.0  3.08  19.44  1.0  0.0   3.0   1.0\n",
      "Hornet Sportabout  NaN  360.0  175.0  3.15  17.02  0.0  0.0   3.0   2.0\n",
      "Valiant            6.0  225.0  105.0  2.76  20.22  1.0  0.0   3.0   1.0\n",
      "Duster 360         8.0  360.0    NaN  3.21  15.84  0.0  0.0   3.0   4.0\n",
      "Merc 240D          4.0  146.7   62.0  3.69    NaN  1.0  0.0   4.0   2.0\n",
      "Merc 230           4.0    NaN    NaN  3.92  22.90  1.0  0.0   4.0   NaN\n",
      "Merc 280           6.0  167.6  123.0  3.92  18.30  1.0  0.0   4.0   4.0\n",
      "                   cyl   disp     hp  drat   qsec   vs   am  gear  carb\n",
      "Mazda RX4          6.0  160.0  110.0  3.90  16.46  0.0  1.0   4.0   4.0\n",
      "Mazda RX4 Wag      6.0  160.0  110.0  3.90  17.02  0.0  1.0   4.0   4.0\n",
      "Datsun 710         4.0    NaN   93.0  3.85    NaN  1.0  1.0   4.0   1.0\n",
      "Hornet 4 Drive     6.0  258.0  110.0  3.08  19.44  1.0  0.0   3.0   1.0\n",
      "Hornet Sportabout  NaN  360.0  175.0  3.15  17.02  0.0  0.0   3.0   2.0\n",
      "Valiant            6.0  225.0  105.0  2.76  20.22  1.0  0.0   3.0   1.0\n",
      "Duster 360         8.0  360.0    NaN  3.21  15.84  0.0  0.0   3.0   4.0\n",
      "Merc 240D          4.0  146.7   62.0  3.69    NaN  1.0  0.0   4.0   2.0\n",
      "Merc 230           4.0    NaN    NaN  3.92  22.90  1.0  0.0   4.0   NaN\n",
      "Merc 280           6.0  167.6  123.0  3.92  18.30  1.0  0.0   4.0   4.0\n"
     ]
    }
   ],
   "source": [
    "print(df.drop(['mpg', 'wt'], axis=1).head(10))\n",
    "#same\n",
    "print(df.drop(columns=['mpg', 'wt']).head(10))"
   ]
  },
  {
   "cell_type": "code",
   "execution_count": 21,
   "id": "081a797b-4a8c-4586-b990-8f04c7e2e011",
   "metadata": {},
   "outputs": [
    {
     "name": "stdout",
     "output_type": "stream",
     "text": [
      "                    mpg  cyl   disp     hp  drat     wt   qsec   vs   am  \\\n",
      "Mazda RX4          21.0  6.0  160.0  110.0  3.90  2.620  16.46  0.0  1.0   \n",
      "Mazda RX4 Wag      21.0  6.0  160.0  110.0  3.90  2.875  17.02  0.0  1.0   \n",
      "Datsun 710         22.8  4.0    NaN   93.0  3.85  2.320    NaN  1.0  1.0   \n",
      "Hornet 4 Drive      NaN  6.0  258.0  110.0  3.08  3.215  19.44  1.0  0.0   \n",
      "Hornet Sportabout  18.7  NaN  360.0  175.0  3.15  3.440  17.02  0.0  0.0   \n",
      "\n",
      "                   gear  carb  \n",
      "Mazda RX4           4.0   4.0  \n",
      "Mazda RX4 Wag       4.0   4.0  \n",
      "Datsun 710          4.0   1.0  \n",
      "Hornet 4 Drive      3.0   1.0  \n",
      "Hornet Sportabout   3.0   2.0  \n",
      "                   cyl   disp     hp  drat     wt   qsec   vs   am  gear  carb\n",
      "Mazda RX4 Wag      6.0  160.0  110.0  3.90  2.875  17.02  0.0  1.0   4.0   4.0\n",
      "Datsun 710         4.0    NaN   93.0  3.85  2.320    NaN  1.0  1.0   4.0   1.0\n",
      "Hornet 4 Drive     6.0  258.0  110.0  3.08  3.215  19.44  1.0  0.0   3.0   1.0\n",
      "Hornet Sportabout  NaN  360.0  175.0  3.15  3.440  17.02  0.0  0.0   3.0   2.0\n",
      "Valiant            6.0  225.0  105.0  2.76  3.460  20.22  1.0  0.0   3.0   1.0\n"
     ]
    }
   ],
   "source": [
    "print(df.head())\n",
    "print(df.drop(index ='Mazda RX4', columns='mpg').head())  #delete 1st row & 1st column by label"
   ]
  },
  {
   "cell_type": "markdown",
   "id": "f2356eff-33e1-4d0e-9718-e82eb435b2fe",
   "metadata": {},
   "source": [
    "### drop_duplicates\n",
    "DataFrame.drop_duplicates(subset=None, *, keep='first', inplace=False, ignore_index=False)\n",
    "https://pandas.pydata.org/pandas-docs/stable/reference/api/pandas.DataFrame.drop_duplicates.html\n",
    "keep{‘first’, ‘last’, False}, default ‘first’\n",
    "Determines which duplicates (if any) to keep. - first : Drop duplicates except for the first occurrence. - last : Drop duplicates except for the last occurrence. - False : Drop all duplicates."
   ]
  },
  {
   "cell_type": "code",
   "execution_count": 22,
   "id": "639ef9b1-2dff-4529-9617-6be1ea5f16de",
   "metadata": {},
   "outputs": [
    {
     "data": {
      "text/html": [
       "<div>\n",
       "<style scoped>\n",
       "    .dataframe tbody tr th:only-of-type {\n",
       "        vertical-align: middle;\n",
       "    }\n",
       "\n",
       "    .dataframe tbody tr th {\n",
       "        vertical-align: top;\n",
       "    }\n",
       "\n",
       "    .dataframe thead th {\n",
       "        text-align: right;\n",
       "    }\n",
       "</style>\n",
       "<table border=\"1\" class=\"dataframe\">\n",
       "  <thead>\n",
       "    <tr style=\"text-align: right;\">\n",
       "      <th></th>\n",
       "      <th>mpg</th>\n",
       "      <th>cyl</th>\n",
       "      <th>disp</th>\n",
       "      <th>hp</th>\n",
       "      <th>drat</th>\n",
       "      <th>wt</th>\n",
       "      <th>qsec</th>\n",
       "      <th>vs</th>\n",
       "      <th>am</th>\n",
       "      <th>gear</th>\n",
       "      <th>carb</th>\n",
       "    </tr>\n",
       "  </thead>\n",
       "  <tbody>\n",
       "    <tr>\n",
       "      <th>Mazda RX4</th>\n",
       "      <td>21.0</td>\n",
       "      <td>6</td>\n",
       "      <td>160.0</td>\n",
       "      <td>110</td>\n",
       "      <td>3.90</td>\n",
       "      <td>2.620</td>\n",
       "      <td>16.46</td>\n",
       "      <td>0</td>\n",
       "      <td>1</td>\n",
       "      <td>4</td>\n",
       "      <td>4</td>\n",
       "    </tr>\n",
       "    <tr>\n",
       "      <th>Mazda RX4 Wag</th>\n",
       "      <td>21.0</td>\n",
       "      <td>6</td>\n",
       "      <td>160.0</td>\n",
       "      <td>110</td>\n",
       "      <td>3.90</td>\n",
       "      <td>2.875</td>\n",
       "      <td>17.02</td>\n",
       "      <td>0</td>\n",
       "      <td>1</td>\n",
       "      <td>4</td>\n",
       "      <td>4</td>\n",
       "    </tr>\n",
       "    <tr>\n",
       "      <th>Datsun 710</th>\n",
       "      <td>22.8</td>\n",
       "      <td>4</td>\n",
       "      <td>108.0</td>\n",
       "      <td>93</td>\n",
       "      <td>3.85</td>\n",
       "      <td>2.320</td>\n",
       "      <td>18.61</td>\n",
       "      <td>1</td>\n",
       "      <td>1</td>\n",
       "      <td>4</td>\n",
       "      <td>1</td>\n",
       "    </tr>\n",
       "    <tr>\n",
       "      <th>Hornet 4 Drive</th>\n",
       "      <td>21.4</td>\n",
       "      <td>6</td>\n",
       "      <td>258.0</td>\n",
       "      <td>110</td>\n",
       "      <td>3.08</td>\n",
       "      <td>3.215</td>\n",
       "      <td>19.44</td>\n",
       "      <td>1</td>\n",
       "      <td>0</td>\n",
       "      <td>3</td>\n",
       "      <td>1</td>\n",
       "    </tr>\n",
       "    <tr>\n",
       "      <th>Hornet Sportabout</th>\n",
       "      <td>18.7</td>\n",
       "      <td>8</td>\n",
       "      <td>360.0</td>\n",
       "      <td>175</td>\n",
       "      <td>3.15</td>\n",
       "      <td>3.440</td>\n",
       "      <td>17.02</td>\n",
       "      <td>0</td>\n",
       "      <td>0</td>\n",
       "      <td>3</td>\n",
       "      <td>2</td>\n",
       "    </tr>\n",
       "  </tbody>\n",
       "</table>\n",
       "</div>"
      ],
      "text/plain": [
       "                    mpg  cyl   disp   hp  drat     wt   qsec  vs  am  gear  \\\n",
       "Mazda RX4          21.0    6  160.0  110  3.90  2.620  16.46   0   1     4   \n",
       "Mazda RX4 Wag      21.0    6  160.0  110  3.90  2.875  17.02   0   1     4   \n",
       "Datsun 710         22.8    4  108.0   93  3.85  2.320  18.61   1   1     4   \n",
       "Hornet 4 Drive     21.4    6  258.0  110  3.08  3.215  19.44   1   0     3   \n",
       "Hornet Sportabout  18.7    8  360.0  175  3.15  3.440  17.02   0   0     3   \n",
       "\n",
       "                   carb  \n",
       "Mazda RX4             4  \n",
       "Mazda RX4 Wag         4  \n",
       "Datsun 710            1  \n",
       "Hornet 4 Drive        1  \n",
       "Hornet Sportabout     2  "
      ]
     },
     "execution_count": 22,
     "metadata": {},
     "output_type": "execute_result"
    }
   ],
   "source": [
    "mtcarsDF.drop_duplicates().head()  #based on columns"
   ]
  },
  {
   "cell_type": "code",
   "execution_count": 23,
   "id": "759a011c-8016-4abe-b6e6-ac8bd8102387",
   "metadata": {},
   "outputs": [
    {
     "data": {
      "text/html": [
       "<div>\n",
       "<style scoped>\n",
       "    .dataframe tbody tr th:only-of-type {\n",
       "        vertical-align: middle;\n",
       "    }\n",
       "\n",
       "    .dataframe tbody tr th {\n",
       "        vertical-align: top;\n",
       "    }\n",
       "\n",
       "    .dataframe thead th {\n",
       "        text-align: right;\n",
       "    }\n",
       "</style>\n",
       "<table border=\"1\" class=\"dataframe\">\n",
       "  <thead>\n",
       "    <tr style=\"text-align: right;\">\n",
       "      <th></th>\n",
       "      <th>mpg</th>\n",
       "      <th>cyl</th>\n",
       "      <th>disp</th>\n",
       "      <th>hp</th>\n",
       "      <th>drat</th>\n",
       "      <th>wt</th>\n",
       "      <th>qsec</th>\n",
       "      <th>vs</th>\n",
       "      <th>am</th>\n",
       "      <th>gear</th>\n",
       "      <th>carb</th>\n",
       "    </tr>\n",
       "  </thead>\n",
       "  <tbody>\n",
       "    <tr>\n",
       "      <th>Mazda RX4</th>\n",
       "      <td>21.0</td>\n",
       "      <td>6</td>\n",
       "      <td>160.0</td>\n",
       "      <td>110</td>\n",
       "      <td>3.90</td>\n",
       "      <td>2.620</td>\n",
       "      <td>16.46</td>\n",
       "      <td>0</td>\n",
       "      <td>1</td>\n",
       "      <td>4</td>\n",
       "      <td>4</td>\n",
       "    </tr>\n",
       "    <tr>\n",
       "      <th>Datsun 710</th>\n",
       "      <td>22.8</td>\n",
       "      <td>4</td>\n",
       "      <td>108.0</td>\n",
       "      <td>93</td>\n",
       "      <td>3.85</td>\n",
       "      <td>2.320</td>\n",
       "      <td>18.61</td>\n",
       "      <td>1</td>\n",
       "      <td>1</td>\n",
       "      <td>4</td>\n",
       "      <td>1</td>\n",
       "    </tr>\n",
       "    <tr>\n",
       "      <th>Hornet 4 Drive</th>\n",
       "      <td>21.4</td>\n",
       "      <td>6</td>\n",
       "      <td>258.0</td>\n",
       "      <td>110</td>\n",
       "      <td>3.08</td>\n",
       "      <td>3.215</td>\n",
       "      <td>19.44</td>\n",
       "      <td>1</td>\n",
       "      <td>0</td>\n",
       "      <td>3</td>\n",
       "      <td>1</td>\n",
       "    </tr>\n",
       "    <tr>\n",
       "      <th>Hornet Sportabout</th>\n",
       "      <td>18.7</td>\n",
       "      <td>8</td>\n",
       "      <td>360.0</td>\n",
       "      <td>175</td>\n",
       "      <td>3.15</td>\n",
       "      <td>3.440</td>\n",
       "      <td>17.02</td>\n",
       "      <td>0</td>\n",
       "      <td>0</td>\n",
       "      <td>3</td>\n",
       "      <td>2</td>\n",
       "    </tr>\n",
       "  </tbody>\n",
       "</table>\n",
       "</div>"
      ],
      "text/plain": [
       "                    mpg  cyl   disp   hp  drat     wt   qsec  vs  am  gear  \\\n",
       "Mazda RX4          21.0    6  160.0  110  3.90  2.620  16.46   0   1     4   \n",
       "Datsun 710         22.8    4  108.0   93  3.85  2.320  18.61   1   1     4   \n",
       "Hornet 4 Drive     21.4    6  258.0  110  3.08  3.215  19.44   1   0     3   \n",
       "Hornet Sportabout  18.7    8  360.0  175  3.15  3.440  17.02   0   0     3   \n",
       "\n",
       "                   carb  \n",
       "Mazda RX4             4  \n",
       "Datsun 710            1  \n",
       "Hornet 4 Drive        1  \n",
       "Hornet Sportabout     2  "
      ]
     },
     "execution_count": 23,
     "metadata": {},
     "output_type": "execute_result"
    }
   ],
   "source": [
    "mtcarsDF.drop_duplicates(subset=['am','vs'])"
   ]
  },
  {
   "cell_type": "code",
   "execution_count": null,
   "id": "b2c9846e-0ab7-4dc1-a814-03f8f660a4ee",
   "metadata": {},
   "outputs": [],
   "source": [
    "mtcarsDF.drop_duplicates(subset='am', keep='last')"
   ]
  },
  {
   "cell_type": "markdown",
   "id": "6ea3e5e3-2fa0-44ed-b6fd-9990924d6e64",
   "metadata": {},
   "source": [
    "### duplicated\n",
    "DataFrame.duplicated(subset=None, keep='first')\n",
    "https://pandas.pydata.org/pandas-docs/stable/reference/api/pandas.DataFrame.duplicated.html\n",
    "keep{‘first’, ‘last’, False}, default ‘first’\n",
    "Determines which duplicates (if any) to mark.\n",
    "\n",
    "first : Mark duplicates as True except for the first occurrence.\n",
    "last : Mark duplicates as True except for the last occurrence.\n",
    "False : Mark all duplicates as True."
   ]
  },
  {
   "cell_type": "code",
   "execution_count": null,
   "id": "e7214c3a-3f4c-4134-8f7d-e3bb51ca37d8",
   "metadata": {},
   "outputs": [],
   "source": [
    "mtcarsDF.duplicated().head()"
   ]
  },
  {
   "cell_type": "code",
   "execution_count": null,
   "id": "067864d1-8f75-43ec-acc6-eff0c6091b0f",
   "metadata": {},
   "outputs": [],
   "source": [
    "mtcarsDF.duplicated(subset=['vs', 'am']).head()"
   ]
  },
  {
   "cell_type": "code",
   "execution_count": null,
   "id": "7c54790a-5cb1-461e-b580-d3b254e7c2e7",
   "metadata": {},
   "outputs": [],
   "source": [
    "mtcarsDF.duplicated(subset=['mpg'], keep='last').head()"
   ]
  },
  {
   "cell_type": "code",
   "execution_count": null,
   "id": "0051934a-d9bc-4434-a078-9aebbdc943f5",
   "metadata": {},
   "outputs": [],
   "source": [
    "mtcarsDF.mpg.to_frame().T"
   ]
  },
  {
   "cell_type": "markdown",
   "id": "c0aa60de-1b81-48ec-be55-833e816368ad",
   "metadata": {},
   "source": [
    "### equals\n",
    "DataFrame.equals(other)\n",
    "https://pandas.pydata.org/pandas-docs/stable/reference/api/pandas.DataFrame.equals.html\n",
    "two Series or DataFrames to be compared against each other to see if they have the same shape and elements. NaNs in the same location are considered equal."
   ]
  },
  {
   "cell_type": "code",
   "execution_count": 24,
   "id": "f628090f-1e66-43cf-b2fe-792a055760e3",
   "metadata": {},
   "outputs": [
    {
     "data": {
      "text/plain": [
       "True"
      ]
     },
     "execution_count": 24,
     "metadata": {},
     "output_type": "execute_result"
    }
   ],
   "source": [
    "mtcarsDF.equals(mtcarsDF)"
   ]
  },
  {
   "cell_type": "markdown",
   "id": "db89b36a-2ee4-4b50-a6ba-4c54c9fa94e2",
   "metadata": {},
   "source": [
    "### filter\n",
    "DataFrame.filter(items=None, like=None, regex=None, axis=None)[source]\n",
    "Subset the dataframe rows or columns according to the specified index labels.\n",
    "Note that this routine does not filter a dataframe on its contents. The filter is applied to the labels of the index.\n",
    "https://pandas.pydata.org/pandas-docs/stable/reference/api/pandas.DataFrame.filter.html"
   ]
  },
  {
   "cell_type": "code",
   "execution_count": null,
   "id": "98d5bd10-c7e4-4d5b-8c55-ac19e27f2e7e",
   "metadata": {},
   "outputs": [],
   "source": [
    "mtcarsDF.filter(items = ['mpg','wt']).head()"
   ]
  },
  {
   "cell_type": "code",
   "execution_count": null,
   "id": "12d11f51-aa71-4ba2-861e-3bcffb8ff434",
   "metadata": {},
   "outputs": [],
   "source": [
    "mtcarsDF.filter(regex = 'a$', axis='rows').head()\n",
    "#end with a in rows"
   ]
  },
  {
   "cell_type": "code",
   "execution_count": null,
   "id": "6e1126d3-dd4a-48d8-9bf2-a2ddb779d692",
   "metadata": {},
   "outputs": [],
   "source": [
    "mtcarsDF.filter(regex = '^a', axis='columns').head()\n",
    "#start with a in columns"
   ]
  },
  {
   "cell_type": "code",
   "execution_count": null,
   "id": "dc28053a-2456-4acf-8c5b-1c837c700e44",
   "metadata": {},
   "outputs": [],
   "source": [
    "mtcarsDF.filter(like = 'cy', axis='columns').head()\n",
    "#contains cy in columns"
   ]
  },
  {
   "cell_type": "code",
   "execution_count": null,
   "id": "67ec03e5-523f-4441-92d9-48a578da02ee",
   "metadata": {},
   "outputs": [],
   "source": [
    "mtcarsDF.filter(like = 'Ma', axis='rows').head()\n",
    "#contains Ma in rows index"
   ]
  },
  {
   "cell_type": "markdown",
   "id": "235f14dd-1661-44b8-be42-7683e373f4ab",
   "metadata": {},
   "source": [
    "### first\n",
    "DataFrame.first(offset)[source]\n",
    "Select initial periods of time series data based on a date offset.\n",
    "\n",
    "When having a DataFrame with dates as index, this function can select the first few rows based on a date offset.\n",
    "https://pandas.pydata.org/pandas-docs/stable/reference/api/pandas.DataFrame.first.html"
   ]
  },
  {
   "cell_type": "code",
   "execution_count": null,
   "id": "348ff345-83dc-4d3d-ba0d-87ab32592c26",
   "metadata": {},
   "outputs": [],
   "source": [
    "i = pd.date_range('2018-04-09', periods=4, freq='2D')\n",
    "ts = pd.DataFrame({'A': [1, 2, 3, 4]}, index=i)\n",
    "ts"
   ]
  },
  {
   "cell_type": "code",
   "execution_count": null,
   "id": "ce07a829-4a2c-4e12-9b1a-5400b4ed01d0",
   "metadata": {},
   "outputs": [],
   "source": [
    "ts.first('3D')\n",
    "# data for 3 first calendar days were returned, not the first 3 days observed in the dataset, \n",
    "#and therefore data for 2018-04-13 was not returned."
   ]
  },
  {
   "cell_type": "code",
   "execution_count": null,
   "id": "86138b4d-e80e-41f1-944e-2a0dcc19613a",
   "metadata": {},
   "outputs": [],
   "source": [
    "ts.first('2D')"
   ]
  },
  {
   "cell_type": "markdown",
   "id": "3256c266-70e4-440b-9927-7ab189aa770f",
   "metadata": {},
   "source": [
    "### head"
   ]
  },
  {
   "cell_type": "markdown",
   "id": "cad84ced-1dc1-470b-a82b-f506f53eb31f",
   "metadata": {},
   "source": [
    "### idxmax\n",
    "\n",
    "https://pandas.pydata.org/pandas-docs/stable/reference/api/pandas.Series.idxmax.html"
   ]
  },
  {
   "cell_type": "code",
   "execution_count": null,
   "id": "6a12eb6c-de4d-41db-99b7-baf9ba01edac",
   "metadata": {},
   "outputs": [],
   "source": [
    "mtcarsDF.idxmax(axis=0)\n",
    "#which car has highest mpg, cyl, disp etc"
   ]
  },
  {
   "cell_type": "code",
   "execution_count": null,
   "id": "c7d4ab4f-dc26-4ab9-81d6-233fce83bc02",
   "metadata": {},
   "outputs": [],
   "source": [
    "mtcarsDF.idxmax(axis=1)\n",
    "#which col value is highest\n",
    "#which student secured max marks in which subjects"
   ]
  },
  {
   "cell_type": "markdown",
   "id": "799443c0-e8c5-437f-b6fc-f799aafb7bab",
   "metadata": {},
   "source": [
    "### idxmin\n",
    "Series.idxmin(axis=0, skipna=True, *args, **kwargs)[source]\n",
    "Return the row label of the minimum value.\n",
    "https://pandas.pydata.org/pandas-docs/stable/reference/api/pandas.Series.idxmin.html"
   ]
  },
  {
   "cell_type": "code",
   "execution_count": null,
   "id": "3c7d6512-e183-4f3b-bf92-88d708df622c",
   "metadata": {},
   "outputs": [],
   "source": [
    "mtcarsDF.idxmin(axis=0)\n",
    "#which car has lowest mpg, cyl, disp etc"
   ]
  },
  {
   "cell_type": "code",
   "execution_count": null,
   "id": "dc9f8e35-45ce-4ba8-8df5-d9d9c9c4eb1b",
   "metadata": {},
   "outputs": [],
   "source": []
  },
  {
   "cell_type": "markdown",
   "id": "c1967898-ca54-4f29-a8dc-d06f743f7482",
   "metadata": {},
   "source": [
    "### last"
   ]
  },
  {
   "cell_type": "markdown",
   "id": "be957001-22d3-4b01-95fc-28026dc08886",
   "metadata": {},
   "source": [
    "### reindex"
   ]
  },
  {
   "cell_type": "markdown",
   "id": "bdc24699-28ce-4196-8572-3c8bbe20db35",
   "metadata": {},
   "source": [
    "### reindex_like"
   ]
  },
  {
   "cell_type": "markdown",
   "id": "7a0130e4-1234-4024-a47e-bd481bb3f863",
   "metadata": {},
   "source": [
    "### rename"
   ]
  },
  {
   "cell_type": "markdown",
   "id": "055b3a50-9d6f-43a0-8387-3d5300c0339c",
   "metadata": {},
   "source": [
    "### rename_axis"
   ]
  },
  {
   "cell_type": "markdown",
   "id": "724a6e58-554b-4bf1-8f40-31223e671866",
   "metadata": {},
   "source": [
    "### reset_index"
   ]
  },
  {
   "cell_type": "markdown",
   "id": "a24bc075-5329-4cef-9401-8bcfab3e065d",
   "metadata": {},
   "source": [
    "### sample"
   ]
  },
  {
   "cell_type": "markdown",
   "id": "5e14daf0-e25f-4845-a5d1-dec6aee60b0f",
   "metadata": {},
   "source": [
    "### set_axis"
   ]
  },
  {
   "cell_type": "markdown",
   "id": "c262c164-1bf4-4c4f-8b38-29d0e058c156",
   "metadata": {},
   "source": [
    "### set_index"
   ]
  },
  {
   "cell_type": "markdown",
   "id": "bf444e33-62b8-44e7-9e44-a8aa99838067",
   "metadata": {},
   "source": [
    "### tail"
   ]
  },
  {
   "cell_type": "markdown",
   "id": "645ab1de-fde0-4dd5-97c0-f1eaa7225030",
   "metadata": {},
   "source": [
    "### take"
   ]
  },
  {
   "cell_type": "markdown",
   "id": "cad0047f-eee7-4855-bbff-9ca758e023b4",
   "metadata": {},
   "source": [
    "### truncate"
   ]
  },
  {
   "cell_type": "markdown",
   "id": "02544bd7-82a9-4edc-98e1-9e2eb132eeb6",
   "metadata": {},
   "source": [
    "## Mising Data"
   ]
  },
  {
   "cell_type": "markdown",
   "id": "44087210-bfe6-401f-9e41-2fcfe9c4c26d",
   "metadata": {},
   "source": [
    "### backfill"
   ]
  },
  {
   "cell_type": "markdown",
   "id": "f63d8892-1281-4bd7-92c0-463fb13306dd",
   "metadata": {},
   "source": [
    "### bfill"
   ]
  },
  {
   "cell_type": "markdown",
   "id": "a3fa5964-9bd1-4ee2-a10c-8c800ffdb639",
   "metadata": {},
   "source": [
    "### dropna"
   ]
  },
  {
   "cell_type": "markdown",
   "id": "3ed1126d-a7b3-4d2a-a34f-dd99a0e220eb",
   "metadata": {},
   "source": [
    "### ffill"
   ]
  },
  {
   "cell_type": "markdown",
   "id": "c96c51bb-6723-4ca5-9b83-88f2d8e25814",
   "metadata": {},
   "source": [
    "### fillna"
   ]
  },
  {
   "cell_type": "markdown",
   "id": "6300076c-0ac6-431f-abe8-d7143c4812c1",
   "metadata": {},
   "source": [
    "### interpolate"
   ]
  },
  {
   "cell_type": "markdown",
   "id": "45781691-fa65-4925-aee3-19b917553098",
   "metadata": {},
   "source": [
    "### isna"
   ]
  },
  {
   "cell_type": "markdown",
   "id": "177a20c7-5c14-4023-a4a1-b5600d82af1b",
   "metadata": {},
   "source": [
    "### isnull"
   ]
  },
  {
   "cell_type": "markdown",
   "id": "3ccbe180-d581-4df5-b2be-7b38899c928b",
   "metadata": {},
   "source": [
    "### notna"
   ]
  },
  {
   "cell_type": "markdown",
   "id": "f1894d11-5141-4ec7-ac41-d3b1a11c8310",
   "metadata": {},
   "source": [
    "### notnull"
   ]
  },
  {
   "cell_type": "markdown",
   "id": "ede360ef-29b4-4222-97a9-abeac74f260e",
   "metadata": {},
   "source": [
    "### pad"
   ]
  },
  {
   "cell_type": "markdown",
   "id": "a6e9de62-8be3-43af-9c9a-3651d27c8852",
   "metadata": {},
   "source": [
    "### replace"
   ]
  },
  {
   "cell_type": "markdown",
   "id": "09441b58-7343-4b42-a1f2-290e7c6cda05",
   "metadata": {},
   "source": [
    "### droplevel"
   ]
  },
  {
   "cell_type": "markdown",
   "id": "318b39ef-b8ec-4a5e-a0eb-cd9132a14f38",
   "metadata": {},
   "source": [
    "### pivot"
   ]
  },
  {
   "cell_type": "markdown",
   "id": "f800c16b-ef1c-48ee-bc16-bede0d5e4b59",
   "metadata": {},
   "source": [
    "### pivot_table"
   ]
  },
  {
   "cell_type": "code",
   "execution_count": null,
   "id": "7db4d968-0ae0-46ef-bba0-f75ab571ec8b",
   "metadata": {},
   "outputs": [],
   "source": []
  },
  {
   "cell_type": "markdown",
   "id": "4885df85-b734-4619-9faf-7d4147bdc8b8",
   "metadata": {},
   "source": [
    "### reorder_levels\n",
    "DataFrame.reorder_levels(order, axis=0)\n",
    "https://pandas.pydata.org/pandas-docs/stable/reference/api/pandas.DataFrame.reorder_levels.html"
   ]
  },
  {
   "cell_type": "code",
   "execution_count": 25,
   "id": "0613c068-9ef1-4ad9-8cec-c8985dac680e",
   "metadata": {},
   "outputs": [
    {
     "data": {
      "text/html": [
       "<div>\n",
       "<style scoped>\n",
       "    .dataframe tbody tr th:only-of-type {\n",
       "        vertical-align: middle;\n",
       "    }\n",
       "\n",
       "    .dataframe tbody tr th {\n",
       "        vertical-align: top;\n",
       "    }\n",
       "\n",
       "    .dataframe thead th {\n",
       "        text-align: right;\n",
       "    }\n",
       "</style>\n",
       "<table border=\"1\" class=\"dataframe\">\n",
       "  <thead>\n",
       "    <tr style=\"text-align: right;\">\n",
       "      <th></th>\n",
       "      <th></th>\n",
       "      <th>mpg</th>\n",
       "      <th>disp</th>\n",
       "      <th>hp</th>\n",
       "      <th>drat</th>\n",
       "      <th>wt</th>\n",
       "      <th>qsec</th>\n",
       "      <th>vs</th>\n",
       "      <th>am</th>\n",
       "      <th>carb</th>\n",
       "    </tr>\n",
       "    <tr>\n",
       "      <th>gear</th>\n",
       "      <th>cyl</th>\n",
       "      <th></th>\n",
       "      <th></th>\n",
       "      <th></th>\n",
       "      <th></th>\n",
       "      <th></th>\n",
       "      <th></th>\n",
       "      <th></th>\n",
       "      <th></th>\n",
       "      <th></th>\n",
       "    </tr>\n",
       "  </thead>\n",
       "  <tbody>\n",
       "    <tr>\n",
       "      <th rowspan=\"3\" valign=\"top\">4</th>\n",
       "      <th>6</th>\n",
       "      <td>21.0</td>\n",
       "      <td>160.0</td>\n",
       "      <td>110</td>\n",
       "      <td>3.90</td>\n",
       "      <td>2.620</td>\n",
       "      <td>16.46</td>\n",
       "      <td>0</td>\n",
       "      <td>1</td>\n",
       "      <td>4</td>\n",
       "    </tr>\n",
       "    <tr>\n",
       "      <th>6</th>\n",
       "      <td>21.0</td>\n",
       "      <td>160.0</td>\n",
       "      <td>110</td>\n",
       "      <td>3.90</td>\n",
       "      <td>2.875</td>\n",
       "      <td>17.02</td>\n",
       "      <td>0</td>\n",
       "      <td>1</td>\n",
       "      <td>4</td>\n",
       "    </tr>\n",
       "    <tr>\n",
       "      <th>4</th>\n",
       "      <td>22.8</td>\n",
       "      <td>108.0</td>\n",
       "      <td>93</td>\n",
       "      <td>3.85</td>\n",
       "      <td>2.320</td>\n",
       "      <td>18.61</td>\n",
       "      <td>1</td>\n",
       "      <td>1</td>\n",
       "      <td>1</td>\n",
       "    </tr>\n",
       "    <tr>\n",
       "      <th rowspan=\"2\" valign=\"top\">3</th>\n",
       "      <th>6</th>\n",
       "      <td>21.4</td>\n",
       "      <td>258.0</td>\n",
       "      <td>110</td>\n",
       "      <td>3.08</td>\n",
       "      <td>3.215</td>\n",
       "      <td>19.44</td>\n",
       "      <td>1</td>\n",
       "      <td>0</td>\n",
       "      <td>1</td>\n",
       "    </tr>\n",
       "    <tr>\n",
       "      <th>8</th>\n",
       "      <td>18.7</td>\n",
       "      <td>360.0</td>\n",
       "      <td>175</td>\n",
       "      <td>3.15</td>\n",
       "      <td>3.440</td>\n",
       "      <td>17.02</td>\n",
       "      <td>0</td>\n",
       "      <td>0</td>\n",
       "      <td>2</td>\n",
       "    </tr>\n",
       "  </tbody>\n",
       "</table>\n",
       "</div>"
      ],
      "text/plain": [
       "           mpg   disp   hp  drat     wt   qsec  vs  am  carb\n",
       "gear cyl                                                    \n",
       "4    6    21.0  160.0  110  3.90  2.620  16.46   0   1     4\n",
       "     6    21.0  160.0  110  3.90  2.875  17.02   0   1     4\n",
       "     4    22.8  108.0   93  3.85  2.320  18.61   1   1     1\n",
       "3    6    21.4  258.0  110  3.08  3.215  19.44   1   0     1\n",
       "     8    18.7  360.0  175  3.15  3.440  17.02   0   0     2"
      ]
     },
     "execution_count": 25,
     "metadata": {},
     "output_type": "execute_result"
    }
   ],
   "source": [
    "df2 = mtcarsDF.set_index(['gear','cyl'])\n",
    "df2.head()"
   ]
  },
  {
   "cell_type": "code",
   "execution_count": 26,
   "id": "a3e4b61a-c445-4ab1-8ab8-1f175b86b6a5",
   "metadata": {},
   "outputs": [
    {
     "data": {
      "text/html": [
       "<div>\n",
       "<style scoped>\n",
       "    .dataframe tbody tr th:only-of-type {\n",
       "        vertical-align: middle;\n",
       "    }\n",
       "\n",
       "    .dataframe tbody tr th {\n",
       "        vertical-align: top;\n",
       "    }\n",
       "\n",
       "    .dataframe thead th {\n",
       "        text-align: right;\n",
       "    }\n",
       "</style>\n",
       "<table border=\"1\" class=\"dataframe\">\n",
       "  <thead>\n",
       "    <tr style=\"text-align: right;\">\n",
       "      <th></th>\n",
       "      <th></th>\n",
       "      <th>mpg</th>\n",
       "      <th>disp</th>\n",
       "      <th>hp</th>\n",
       "      <th>drat</th>\n",
       "      <th>wt</th>\n",
       "      <th>qsec</th>\n",
       "      <th>vs</th>\n",
       "      <th>am</th>\n",
       "      <th>carb</th>\n",
       "    </tr>\n",
       "    <tr>\n",
       "      <th>cyl</th>\n",
       "      <th>gear</th>\n",
       "      <th></th>\n",
       "      <th></th>\n",
       "      <th></th>\n",
       "      <th></th>\n",
       "      <th></th>\n",
       "      <th></th>\n",
       "      <th></th>\n",
       "      <th></th>\n",
       "      <th></th>\n",
       "    </tr>\n",
       "  </thead>\n",
       "  <tbody>\n",
       "    <tr>\n",
       "      <th rowspan=\"2\" valign=\"top\">6</th>\n",
       "      <th>4</th>\n",
       "      <td>21.0</td>\n",
       "      <td>160.0</td>\n",
       "      <td>110</td>\n",
       "      <td>3.90</td>\n",
       "      <td>2.620</td>\n",
       "      <td>16.46</td>\n",
       "      <td>0</td>\n",
       "      <td>1</td>\n",
       "      <td>4</td>\n",
       "    </tr>\n",
       "    <tr>\n",
       "      <th>4</th>\n",
       "      <td>21.0</td>\n",
       "      <td>160.0</td>\n",
       "      <td>110</td>\n",
       "      <td>3.90</td>\n",
       "      <td>2.875</td>\n",
       "      <td>17.02</td>\n",
       "      <td>0</td>\n",
       "      <td>1</td>\n",
       "      <td>4</td>\n",
       "    </tr>\n",
       "    <tr>\n",
       "      <th>4</th>\n",
       "      <th>4</th>\n",
       "      <td>22.8</td>\n",
       "      <td>108.0</td>\n",
       "      <td>93</td>\n",
       "      <td>3.85</td>\n",
       "      <td>2.320</td>\n",
       "      <td>18.61</td>\n",
       "      <td>1</td>\n",
       "      <td>1</td>\n",
       "      <td>1</td>\n",
       "    </tr>\n",
       "    <tr>\n",
       "      <th>6</th>\n",
       "      <th>3</th>\n",
       "      <td>21.4</td>\n",
       "      <td>258.0</td>\n",
       "      <td>110</td>\n",
       "      <td>3.08</td>\n",
       "      <td>3.215</td>\n",
       "      <td>19.44</td>\n",
       "      <td>1</td>\n",
       "      <td>0</td>\n",
       "      <td>1</td>\n",
       "    </tr>\n",
       "    <tr>\n",
       "      <th>8</th>\n",
       "      <th>3</th>\n",
       "      <td>18.7</td>\n",
       "      <td>360.0</td>\n",
       "      <td>175</td>\n",
       "      <td>3.15</td>\n",
       "      <td>3.440</td>\n",
       "      <td>17.02</td>\n",
       "      <td>0</td>\n",
       "      <td>0</td>\n",
       "      <td>2</td>\n",
       "    </tr>\n",
       "  </tbody>\n",
       "</table>\n",
       "</div>"
      ],
      "text/plain": [
       "           mpg   disp   hp  drat     wt   qsec  vs  am  carb\n",
       "cyl gear                                                    \n",
       "6   4     21.0  160.0  110  3.90  2.620  16.46   0   1     4\n",
       "    4     21.0  160.0  110  3.90  2.875  17.02   0   1     4\n",
       "4   4     22.8  108.0   93  3.85  2.320  18.61   1   1     1\n",
       "6   3     21.4  258.0  110  3.08  3.215  19.44   1   0     1\n",
       "8   3     18.7  360.0  175  3.15  3.440  17.02   0   0     2"
      ]
     },
     "execution_count": 26,
     "metadata": {},
     "output_type": "execute_result"
    }
   ],
   "source": [
    "df2.reorder_levels([\"cyl\", \"gear\"]).head()"
   ]
  },
  {
   "cell_type": "markdown",
   "id": "7c24b1ac-b28c-42ee-8efa-3911c767fd0f",
   "metadata": {},
   "source": [
    "### sort_values\n",
    "DataFrame.sort_values(by, *, axis=0, ascending=True, inplace=False, kind='quicksort', na_position='last', ignore_index=False, key=None)\n",
    "https://pandas.pydata.org/pandas-docs/stable/reference/api/pandas.DataFrame.sort_values.html"
   ]
  },
  {
   "cell_type": "code",
   "execution_count": 27,
   "id": "4ff64048-c4a9-4a59-af10-a4bc655127d4",
   "metadata": {},
   "outputs": [
    {
     "data": {
      "text/html": [
       "<div>\n",
       "<style scoped>\n",
       "    .dataframe tbody tr th:only-of-type {\n",
       "        vertical-align: middle;\n",
       "    }\n",
       "\n",
       "    .dataframe tbody tr th {\n",
       "        vertical-align: top;\n",
       "    }\n",
       "\n",
       "    .dataframe thead th {\n",
       "        text-align: right;\n",
       "    }\n",
       "</style>\n",
       "<table border=\"1\" class=\"dataframe\">\n",
       "  <thead>\n",
       "    <tr style=\"text-align: right;\">\n",
       "      <th></th>\n",
       "      <th>mpg</th>\n",
       "      <th>cyl</th>\n",
       "      <th>disp</th>\n",
       "      <th>hp</th>\n",
       "      <th>drat</th>\n",
       "      <th>wt</th>\n",
       "      <th>qsec</th>\n",
       "      <th>vs</th>\n",
       "      <th>am</th>\n",
       "      <th>gear</th>\n",
       "      <th>carb</th>\n",
       "    </tr>\n",
       "  </thead>\n",
       "  <tbody>\n",
       "    <tr>\n",
       "      <th>Lincoln Continental</th>\n",
       "      <td>10.4</td>\n",
       "      <td>8</td>\n",
       "      <td>460.0</td>\n",
       "      <td>215</td>\n",
       "      <td>3.00</td>\n",
       "      <td>5.424</td>\n",
       "      <td>17.82</td>\n",
       "      <td>0</td>\n",
       "      <td>0</td>\n",
       "      <td>3</td>\n",
       "      <td>4</td>\n",
       "    </tr>\n",
       "    <tr>\n",
       "      <th>Cadillac Fleetwood</th>\n",
       "      <td>10.4</td>\n",
       "      <td>8</td>\n",
       "      <td>472.0</td>\n",
       "      <td>205</td>\n",
       "      <td>2.93</td>\n",
       "      <td>5.250</td>\n",
       "      <td>17.98</td>\n",
       "      <td>0</td>\n",
       "      <td>0</td>\n",
       "      <td>3</td>\n",
       "      <td>4</td>\n",
       "    </tr>\n",
       "    <tr>\n",
       "      <th>Camaro Z28</th>\n",
       "      <td>13.3</td>\n",
       "      <td>8</td>\n",
       "      <td>350.0</td>\n",
       "      <td>245</td>\n",
       "      <td>3.73</td>\n",
       "      <td>3.840</td>\n",
       "      <td>15.41</td>\n",
       "      <td>0</td>\n",
       "      <td>0</td>\n",
       "      <td>3</td>\n",
       "      <td>4</td>\n",
       "    </tr>\n",
       "    <tr>\n",
       "      <th>Duster 360</th>\n",
       "      <td>14.3</td>\n",
       "      <td>8</td>\n",
       "      <td>360.0</td>\n",
       "      <td>245</td>\n",
       "      <td>3.21</td>\n",
       "      <td>3.570</td>\n",
       "      <td>15.84</td>\n",
       "      <td>0</td>\n",
       "      <td>0</td>\n",
       "      <td>3</td>\n",
       "      <td>4</td>\n",
       "    </tr>\n",
       "    <tr>\n",
       "      <th>Chrysler Imperial</th>\n",
       "      <td>14.7</td>\n",
       "      <td>8</td>\n",
       "      <td>440.0</td>\n",
       "      <td>230</td>\n",
       "      <td>3.23</td>\n",
       "      <td>5.345</td>\n",
       "      <td>17.42</td>\n",
       "      <td>0</td>\n",
       "      <td>0</td>\n",
       "      <td>3</td>\n",
       "      <td>4</td>\n",
       "    </tr>\n",
       "  </tbody>\n",
       "</table>\n",
       "</div>"
      ],
      "text/plain": [
       "                      mpg  cyl   disp   hp  drat     wt   qsec  vs  am  gear  \\\n",
       "Lincoln Continental  10.4    8  460.0  215  3.00  5.424  17.82   0   0     3   \n",
       "Cadillac Fleetwood   10.4    8  472.0  205  2.93  5.250  17.98   0   0     3   \n",
       "Camaro Z28           13.3    8  350.0  245  3.73  3.840  15.41   0   0     3   \n",
       "Duster 360           14.3    8  360.0  245  3.21  3.570  15.84   0   0     3   \n",
       "Chrysler Imperial    14.7    8  440.0  230  3.23  5.345  17.42   0   0     3   \n",
       "\n",
       "                     carb  \n",
       "Lincoln Continental     4  \n",
       "Cadillac Fleetwood      4  \n",
       "Camaro Z28              4  \n",
       "Duster 360              4  \n",
       "Chrysler Imperial       4  "
      ]
     },
     "execution_count": 27,
     "metadata": {},
     "output_type": "execute_result"
    }
   ],
   "source": [
    "mtcarsDF.sort_values(by = 'mpg').head()"
   ]
  },
  {
   "cell_type": "code",
   "execution_count": 28,
   "id": "c26add60-6bec-42cb-88aa-9cabe6e80657",
   "metadata": {},
   "outputs": [
    {
     "data": {
      "text/html": [
       "<div>\n",
       "<style scoped>\n",
       "    .dataframe tbody tr th:only-of-type {\n",
       "        vertical-align: middle;\n",
       "    }\n",
       "\n",
       "    .dataframe tbody tr th {\n",
       "        vertical-align: top;\n",
       "    }\n",
       "\n",
       "    .dataframe thead th {\n",
       "        text-align: right;\n",
       "    }\n",
       "</style>\n",
       "<table border=\"1\" class=\"dataframe\">\n",
       "  <thead>\n",
       "    <tr style=\"text-align: right;\">\n",
       "      <th></th>\n",
       "      <th>mpg</th>\n",
       "      <th>cyl</th>\n",
       "      <th>disp</th>\n",
       "      <th>hp</th>\n",
       "      <th>drat</th>\n",
       "      <th>wt</th>\n",
       "      <th>qsec</th>\n",
       "      <th>vs</th>\n",
       "      <th>am</th>\n",
       "      <th>gear</th>\n",
       "      <th>carb</th>\n",
       "    </tr>\n",
       "  </thead>\n",
       "  <tbody>\n",
       "    <tr>\n",
       "      <th>Toyota Corona</th>\n",
       "      <td>21.5</td>\n",
       "      <td>4</td>\n",
       "      <td>120.1</td>\n",
       "      <td>97</td>\n",
       "      <td>3.70</td>\n",
       "      <td>2.465</td>\n",
       "      <td>20.01</td>\n",
       "      <td>1</td>\n",
       "      <td>0</td>\n",
       "      <td>3</td>\n",
       "      <td>1</td>\n",
       "    </tr>\n",
       "    <tr>\n",
       "      <th>Hornet 4 Drive</th>\n",
       "      <td>21.4</td>\n",
       "      <td>6</td>\n",
       "      <td>258.0</td>\n",
       "      <td>110</td>\n",
       "      <td>3.08</td>\n",
       "      <td>3.215</td>\n",
       "      <td>19.44</td>\n",
       "      <td>1</td>\n",
       "      <td>0</td>\n",
       "      <td>3</td>\n",
       "      <td>1</td>\n",
       "    </tr>\n",
       "    <tr>\n",
       "      <th>Pontiac Firebird</th>\n",
       "      <td>19.2</td>\n",
       "      <td>8</td>\n",
       "      <td>400.0</td>\n",
       "      <td>175</td>\n",
       "      <td>3.08</td>\n",
       "      <td>3.845</td>\n",
       "      <td>17.05</td>\n",
       "      <td>0</td>\n",
       "      <td>0</td>\n",
       "      <td>3</td>\n",
       "      <td>2</td>\n",
       "    </tr>\n",
       "    <tr>\n",
       "      <th>Hornet Sportabout</th>\n",
       "      <td>18.7</td>\n",
       "      <td>8</td>\n",
       "      <td>360.0</td>\n",
       "      <td>175</td>\n",
       "      <td>3.15</td>\n",
       "      <td>3.440</td>\n",
       "      <td>17.02</td>\n",
       "      <td>0</td>\n",
       "      <td>0</td>\n",
       "      <td>3</td>\n",
       "      <td>2</td>\n",
       "    </tr>\n",
       "    <tr>\n",
       "      <th>Valiant</th>\n",
       "      <td>18.1</td>\n",
       "      <td>6</td>\n",
       "      <td>225.0</td>\n",
       "      <td>105</td>\n",
       "      <td>2.76</td>\n",
       "      <td>3.460</td>\n",
       "      <td>20.22</td>\n",
       "      <td>1</td>\n",
       "      <td>0</td>\n",
       "      <td>3</td>\n",
       "      <td>1</td>\n",
       "    </tr>\n",
       "  </tbody>\n",
       "</table>\n",
       "</div>"
      ],
      "text/plain": [
       "                    mpg  cyl   disp   hp  drat     wt   qsec  vs  am  gear  \\\n",
       "Toyota Corona      21.5    4  120.1   97  3.70  2.465  20.01   1   0     3   \n",
       "Hornet 4 Drive     21.4    6  258.0  110  3.08  3.215  19.44   1   0     3   \n",
       "Pontiac Firebird   19.2    8  400.0  175  3.08  3.845  17.05   0   0     3   \n",
       "Hornet Sportabout  18.7    8  360.0  175  3.15  3.440  17.02   0   0     3   \n",
       "Valiant            18.1    6  225.0  105  2.76  3.460  20.22   1   0     3   \n",
       "\n",
       "                   carb  \n",
       "Toyota Corona         1  \n",
       "Hornet 4 Drive        1  \n",
       "Pontiac Firebird      2  \n",
       "Hornet Sportabout     2  \n",
       "Valiant               1  "
      ]
     },
     "execution_count": 28,
     "metadata": {},
     "output_type": "execute_result"
    }
   ],
   "source": [
    "mtcarsDF.sort_values(by = ['gear','mpg'], ascending =[True, False]).head()"
   ]
  },
  {
   "cell_type": "markdown",
   "id": "09ebac44-25ca-475c-8e52-187315484fb6",
   "metadata": {},
   "source": [
    "### sort_index\n",
    "DataFrame.sort_index(*, axis=0, level=None, ascending=True, inplace=False, kind='quicksort', na_position='last', sort_remaining=True, ignore_index=False, key=None)\n",
    "https://pandas.pydata.org/pandas-docs/stable/reference/api/pandas.DataFrame.sort_index.html"
   ]
  },
  {
   "cell_type": "code",
   "execution_count": null,
   "id": "3ee88f9a-68e3-46eb-83ad-1cd1f1841622",
   "metadata": {},
   "outputs": [],
   "source": [
    "mtcarsDF.sort_index()  #sort row index\n"
   ]
  },
  {
   "cell_type": "code",
   "execution_count": null,
   "id": "38e0086c-8fa8-4435-9962-ca0aede108b1",
   "metadata": {},
   "outputs": [],
   "source": [
    "mtcarsDF.sort_index(key=lambda x: x.str.lower())\n",
    "#without case"
   ]
  },
  {
   "cell_type": "markdown",
   "id": "55548a38-ca33-4641-a99d-479afb99f507",
   "metadata": {},
   "source": [
    "### nlargest\n",
    "DataFrame.nlargest(n, columns, keep='first')\n",
    "https://pandas.pydata.org/pandas-docs/stable/reference/api/pandas.DataFrame.nlargest.html"
   ]
  },
  {
   "cell_type": "markdown",
   "id": "fdee51da-f9ef-461b-bbac-1e8e9b4c6c48",
   "metadata": {},
   "source": [
    "### nsmallest\n",
    "DataFrame.nsmallest(n, columns, keep='first'\n",
    "https://pandas.pydata.org/pandas-docs/stable/reference/api/pandas.DataFrame.nsmallest.html"
   ]
  },
  {
   "cell_type": "code",
   "execution_count": null,
   "id": "7ea11cc4-dcff-468d-83ac-0a52f031822f",
   "metadata": {},
   "outputs": [],
   "source": [
    "mtcarsDF.nsmallest(n=3, columns = ['mpg'], keep='first')"
   ]
  },
  {
   "cell_type": "code",
   "execution_count": null,
   "id": "e947ca37-535c-4f54-b719-a236477bfce1",
   "metadata": {},
   "outputs": [],
   "source": [
    "mtcarsDF.nsmallest(n=3, columns = ['mpg','wt'], keep='last')\n",
    "#Column name or names to order by.\n",
    "#o order by the smallest values in column “mpg” \n",
    "#nd then “wt we can specify multiple columns "
   ]
  },
  {
   "cell_type": "markdown",
   "id": "8632eda7-da1a-468a-ad4b-2047bb4380b5",
   "metadata": {},
   "source": [
    "### nlargest\n",
    "DataFrame.nlargest(n, columns, keep='first')\n",
    "https://pandas.pydata.org/pandas-docs/stable/reference/api/pandas.DataFrame.nlargest.html"
   ]
  },
  {
   "cell_type": "code",
   "execution_count": 29,
   "id": "e5b688f8-5521-4482-9306-4dc4b68e070c",
   "metadata": {},
   "outputs": [
    {
     "data": {
      "text/html": [
       "<div>\n",
       "<style scoped>\n",
       "    .dataframe tbody tr th:only-of-type {\n",
       "        vertical-align: middle;\n",
       "    }\n",
       "\n",
       "    .dataframe tbody tr th {\n",
       "        vertical-align: top;\n",
       "    }\n",
       "\n",
       "    .dataframe thead th {\n",
       "        text-align: right;\n",
       "    }\n",
       "</style>\n",
       "<table border=\"1\" class=\"dataframe\">\n",
       "  <thead>\n",
       "    <tr style=\"text-align: right;\">\n",
       "      <th></th>\n",
       "      <th>mpg</th>\n",
       "      <th>cyl</th>\n",
       "      <th>disp</th>\n",
       "      <th>hp</th>\n",
       "      <th>drat</th>\n",
       "      <th>wt</th>\n",
       "      <th>qsec</th>\n",
       "      <th>vs</th>\n",
       "      <th>am</th>\n",
       "      <th>gear</th>\n",
       "      <th>carb</th>\n",
       "    </tr>\n",
       "  </thead>\n",
       "  <tbody>\n",
       "    <tr>\n",
       "      <th>Toyota Corolla</th>\n",
       "      <td>33.9</td>\n",
       "      <td>4</td>\n",
       "      <td>71.1</td>\n",
       "      <td>65</td>\n",
       "      <td>4.22</td>\n",
       "      <td>1.835</td>\n",
       "      <td>19.90</td>\n",
       "      <td>1</td>\n",
       "      <td>1</td>\n",
       "      <td>4</td>\n",
       "      <td>1</td>\n",
       "    </tr>\n",
       "    <tr>\n",
       "      <th>Fiat 128</th>\n",
       "      <td>32.4</td>\n",
       "      <td>4</td>\n",
       "      <td>78.7</td>\n",
       "      <td>66</td>\n",
       "      <td>4.08</td>\n",
       "      <td>2.200</td>\n",
       "      <td>19.47</td>\n",
       "      <td>1</td>\n",
       "      <td>1</td>\n",
       "      <td>4</td>\n",
       "      <td>1</td>\n",
       "    </tr>\n",
       "    <tr>\n",
       "      <th>Honda Civic</th>\n",
       "      <td>30.4</td>\n",
       "      <td>4</td>\n",
       "      <td>75.7</td>\n",
       "      <td>52</td>\n",
       "      <td>4.93</td>\n",
       "      <td>1.615</td>\n",
       "      <td>18.52</td>\n",
       "      <td>1</td>\n",
       "      <td>1</td>\n",
       "      <td>4</td>\n",
       "      <td>2</td>\n",
       "    </tr>\n",
       "  </tbody>\n",
       "</table>\n",
       "</div>"
      ],
      "text/plain": [
       "                 mpg  cyl  disp  hp  drat     wt   qsec  vs  am  gear  carb\n",
       "Toyota Corolla  33.9    4  71.1  65  4.22  1.835  19.90   1   1     4     1\n",
       "Fiat 128        32.4    4  78.7  66  4.08  2.200  19.47   1   1     4     1\n",
       "Honda Civic     30.4    4  75.7  52  4.93  1.615  18.52   1   1     4     2"
      ]
     },
     "execution_count": 29,
     "metadata": {},
     "output_type": "execute_result"
    }
   ],
   "source": [
    "mtcarsDF.nlargest(n=3, columns = ['mpg'], keep='first')"
   ]
  },
  {
   "cell_type": "markdown",
   "id": "70799bd8-ddad-47f0-9b68-822b95732446",
   "metadata": {},
   "source": [
    "### swaplevel\n",
    "DataFrame.unstack(level=- 1, fill_value=None)[source]\n",
    "https://pandas.pydata.org/pandas-docs/stable/reference/api/pandas.DataFrame.unstack.html\n",
    "Pivot a level of the (necessarily hierarchical) index labels.\n",
    "\n",
    "Returns a DataFrame having a new level of column labels whose inner-most level consists of the pivoted index labels.\n",
    "\n",
    "If the index is not a MultiIndex, the output will be a Series (the analogue of stack when the columns are not a MultiIndex)."
   ]
  },
  {
   "cell_type": "code",
   "execution_count": 33,
   "id": "7e025976-7c54-48b4-b505-85de4bd4c98d",
   "metadata": {},
   "outputs": [
    {
     "data": {
      "text/html": [
       "<div>\n",
       "<style scoped>\n",
       "    .dataframe tbody tr th:only-of-type {\n",
       "        vertical-align: middle;\n",
       "    }\n",
       "\n",
       "    .dataframe tbody tr th {\n",
       "        vertical-align: top;\n",
       "    }\n",
       "\n",
       "    .dataframe thead th {\n",
       "        text-align: right;\n",
       "    }\n",
       "</style>\n",
       "<table border=\"1\" class=\"dataframe\">\n",
       "  <thead>\n",
       "    <tr style=\"text-align: right;\">\n",
       "      <th></th>\n",
       "      <th></th>\n",
       "      <th>mpg</th>\n",
       "      <th>disp</th>\n",
       "      <th>hp</th>\n",
       "      <th>drat</th>\n",
       "      <th>wt</th>\n",
       "      <th>qsec</th>\n",
       "      <th>vs</th>\n",
       "      <th>am</th>\n",
       "      <th>carb</th>\n",
       "    </tr>\n",
       "    <tr>\n",
       "      <th>gear</th>\n",
       "      <th>cyl</th>\n",
       "      <th></th>\n",
       "      <th></th>\n",
       "      <th></th>\n",
       "      <th></th>\n",
       "      <th></th>\n",
       "      <th></th>\n",
       "      <th></th>\n",
       "      <th></th>\n",
       "      <th></th>\n",
       "    </tr>\n",
       "  </thead>\n",
       "  <tbody>\n",
       "    <tr>\n",
       "      <th rowspan=\"3\" valign=\"top\">4</th>\n",
       "      <th>6</th>\n",
       "      <td>21.0</td>\n",
       "      <td>160.0</td>\n",
       "      <td>110</td>\n",
       "      <td>3.90</td>\n",
       "      <td>2.620</td>\n",
       "      <td>16.46</td>\n",
       "      <td>0</td>\n",
       "      <td>1</td>\n",
       "      <td>4</td>\n",
       "    </tr>\n",
       "    <tr>\n",
       "      <th>6</th>\n",
       "      <td>21.0</td>\n",
       "      <td>160.0</td>\n",
       "      <td>110</td>\n",
       "      <td>3.90</td>\n",
       "      <td>2.875</td>\n",
       "      <td>17.02</td>\n",
       "      <td>0</td>\n",
       "      <td>1</td>\n",
       "      <td>4</td>\n",
       "    </tr>\n",
       "    <tr>\n",
       "      <th>4</th>\n",
       "      <td>22.8</td>\n",
       "      <td>108.0</td>\n",
       "      <td>93</td>\n",
       "      <td>3.85</td>\n",
       "      <td>2.320</td>\n",
       "      <td>18.61</td>\n",
       "      <td>1</td>\n",
       "      <td>1</td>\n",
       "      <td>1</td>\n",
       "    </tr>\n",
       "    <tr>\n",
       "      <th rowspan=\"2\" valign=\"top\">3</th>\n",
       "      <th>6</th>\n",
       "      <td>21.4</td>\n",
       "      <td>258.0</td>\n",
       "      <td>110</td>\n",
       "      <td>3.08</td>\n",
       "      <td>3.215</td>\n",
       "      <td>19.44</td>\n",
       "      <td>1</td>\n",
       "      <td>0</td>\n",
       "      <td>1</td>\n",
       "    </tr>\n",
       "    <tr>\n",
       "      <th>8</th>\n",
       "      <td>18.7</td>\n",
       "      <td>360.0</td>\n",
       "      <td>175</td>\n",
       "      <td>3.15</td>\n",
       "      <td>3.440</td>\n",
       "      <td>17.02</td>\n",
       "      <td>0</td>\n",
       "      <td>0</td>\n",
       "      <td>2</td>\n",
       "    </tr>\n",
       "  </tbody>\n",
       "</table>\n",
       "</div>"
      ],
      "text/plain": [
       "           mpg   disp   hp  drat     wt   qsec  vs  am  carb\n",
       "gear cyl                                                    \n",
       "4    6    21.0  160.0  110  3.90  2.620  16.46   0   1     4\n",
       "     6    21.0  160.0  110  3.90  2.875  17.02   0   1     4\n",
       "     4    22.8  108.0   93  3.85  2.320  18.61   1   1     1\n",
       "3    6    21.4  258.0  110  3.08  3.215  19.44   1   0     1\n",
       "     8    18.7  360.0  175  3.15  3.440  17.02   0   0     2"
      ]
     },
     "execution_count": 33,
     "metadata": {},
     "output_type": "execute_result"
    }
   ],
   "source": []
  },
  {
   "cell_type": "code",
   "execution_count": 37,
   "id": "878f81d1-4c67-4b0e-a8eb-9c9f6c1e1e20",
   "metadata": {},
   "outputs": [],
   "source": []
  },
  {
   "cell_type": "markdown",
   "id": "215c7956-e124-4d0c-80bb-e70f86dbdd90",
   "metadata": {},
   "source": [
    "### stack\n",
    "\n",
    "https://pandas.pydata.org/pandas-docs/stable/reference/api/pandas.DataFrame.stack.html"
   ]
  },
  {
   "cell_type": "code",
   "execution_count": 38,
   "id": "d4d93741-b428-4334-b74f-0b6eed6cd9f9",
   "metadata": {},
   "outputs": [
    {
     "data": {
      "text/html": [
       "<div>\n",
       "<style scoped>\n",
       "    .dataframe tbody tr th:only-of-type {\n",
       "        vertical-align: middle;\n",
       "    }\n",
       "\n",
       "    .dataframe tbody tr th {\n",
       "        vertical-align: top;\n",
       "    }\n",
       "\n",
       "    .dataframe thead th {\n",
       "        text-align: right;\n",
       "    }\n",
       "</style>\n",
       "<table border=\"1\" class=\"dataframe\">\n",
       "  <thead>\n",
       "    <tr style=\"text-align: right;\">\n",
       "      <th></th>\n",
       "      <th></th>\n",
       "      <th>mpg</th>\n",
       "      <th>disp</th>\n",
       "      <th>hp</th>\n",
       "      <th>drat</th>\n",
       "      <th>wt</th>\n",
       "      <th>qsec</th>\n",
       "      <th>vs</th>\n",
       "      <th>am</th>\n",
       "      <th>carb</th>\n",
       "    </tr>\n",
       "    <tr>\n",
       "      <th>gear</th>\n",
       "      <th>cyl</th>\n",
       "      <th></th>\n",
       "      <th></th>\n",
       "      <th></th>\n",
       "      <th></th>\n",
       "      <th></th>\n",
       "      <th></th>\n",
       "      <th></th>\n",
       "      <th></th>\n",
       "      <th></th>\n",
       "    </tr>\n",
       "  </thead>\n",
       "  <tbody>\n",
       "    <tr>\n",
       "      <th rowspan=\"3\" valign=\"top\">4</th>\n",
       "      <th>6</th>\n",
       "      <td>21.0</td>\n",
       "      <td>160.0</td>\n",
       "      <td>110</td>\n",
       "      <td>3.90</td>\n",
       "      <td>2.620</td>\n",
       "      <td>16.46</td>\n",
       "      <td>0</td>\n",
       "      <td>1</td>\n",
       "      <td>4</td>\n",
       "    </tr>\n",
       "    <tr>\n",
       "      <th>6</th>\n",
       "      <td>21.0</td>\n",
       "      <td>160.0</td>\n",
       "      <td>110</td>\n",
       "      <td>3.90</td>\n",
       "      <td>2.875</td>\n",
       "      <td>17.02</td>\n",
       "      <td>0</td>\n",
       "      <td>1</td>\n",
       "      <td>4</td>\n",
       "    </tr>\n",
       "    <tr>\n",
       "      <th>4</th>\n",
       "      <td>22.8</td>\n",
       "      <td>108.0</td>\n",
       "      <td>93</td>\n",
       "      <td>3.85</td>\n",
       "      <td>2.320</td>\n",
       "      <td>18.61</td>\n",
       "      <td>1</td>\n",
       "      <td>1</td>\n",
       "      <td>1</td>\n",
       "    </tr>\n",
       "    <tr>\n",
       "      <th rowspan=\"2\" valign=\"top\">3</th>\n",
       "      <th>6</th>\n",
       "      <td>21.4</td>\n",
       "      <td>258.0</td>\n",
       "      <td>110</td>\n",
       "      <td>3.08</td>\n",
       "      <td>3.215</td>\n",
       "      <td>19.44</td>\n",
       "      <td>1</td>\n",
       "      <td>0</td>\n",
       "      <td>1</td>\n",
       "    </tr>\n",
       "    <tr>\n",
       "      <th>8</th>\n",
       "      <td>18.7</td>\n",
       "      <td>360.0</td>\n",
       "      <td>175</td>\n",
       "      <td>3.15</td>\n",
       "      <td>3.440</td>\n",
       "      <td>17.02</td>\n",
       "      <td>0</td>\n",
       "      <td>0</td>\n",
       "      <td>2</td>\n",
       "    </tr>\n",
       "  </tbody>\n",
       "</table>\n",
       "</div>"
      ],
      "text/plain": [
       "           mpg   disp   hp  drat     wt   qsec  vs  am  carb\n",
       "gear cyl                                                    \n",
       "4    6    21.0  160.0  110  3.90  2.620  16.46   0   1     4\n",
       "     6    21.0  160.0  110  3.90  2.875  17.02   0   1     4\n",
       "     4    22.8  108.0   93  3.85  2.320  18.61   1   1     1\n",
       "3    6    21.4  258.0  110  3.08  3.215  19.44   1   0     1\n",
       "     8    18.7  360.0  175  3.15  3.440  17.02   0   0     2"
      ]
     },
     "execution_count": 38,
     "metadata": {},
     "output_type": "execute_result"
    }
   ],
   "source": [
    "df3 = mtcarsDF.set_index(['gear','cyl'])\n",
    "df3.head()"
   ]
  },
  {
   "cell_type": "code",
   "execution_count": 39,
   "id": "5eeb8633-e68d-4a06-ac6f-4b446b52527e",
   "metadata": {},
   "outputs": [
    {
     "data": {
      "text/plain": [
       "gear  cyl      \n",
       "4     6    mpg      21.00\n",
       "           disp    160.00\n",
       "           hp      110.00\n",
       "           drat      3.90\n",
       "           wt        2.62\n",
       "                    ...  \n",
       "      4    wt        2.78\n",
       "           qsec     18.60\n",
       "           vs        1.00\n",
       "           am        1.00\n",
       "           carb      2.00\n",
       "Length: 288, dtype: float64"
      ]
     },
     "execution_count": 39,
     "metadata": {},
     "output_type": "execute_result"
    }
   ],
   "source": [
    "df3.stack()"
   ]
  },
  {
   "cell_type": "markdown",
   "id": "3d61c328-d32f-4f63-b0ab-36f010da6408",
   "metadata": {},
   "source": [
    "### unstack\n",
    "DataFrame.unstack(level=- 1, fill_value=None)[source]\n",
    "Pivot a level of the (necessarily hierarchical) index labels.\n",
    "\n",
    "Returns a DataFrame having a new level of column labels whose inner-most level consists of the pivoted index labels.\n",
    "\n",
    "If the index is not a MultiIndex, the output will be a Series (the analogue of stack when the columns are not a MultiIndex).\n",
    "https://pandas.pydata.org/pandas-docs/stable/reference/api/pandas.DataFrame.unstack.html"
   ]
  },
  {
   "cell_type": "code",
   "execution_count": 41,
   "id": "d4a7936c-e4f5-40bc-8b66-3b57a28ea0fc",
   "metadata": {},
   "outputs": [],
   "source": [
    "#df3.stack().unstack()\n",
    "#duplicate values"
   ]
  },
  {
   "cell_type": "markdown",
   "id": "6aa7d39a-d93e-494f-bf94-bf018e54b55d",
   "metadata": {},
   "source": [
    "### swapaxes\n",
    "DataFrame.swapaxes(axis1, axis2, copy=True)\n",
    "https://pandas.pydata.org/pandas-docs/stable/reference/api/pandas.DataFrame.swapaxes.html"
   ]
  },
  {
   "cell_type": "code",
   "execution_count": 44,
   "id": "aeca9a4f-ccc9-4dd9-8255-a01479ca6110",
   "metadata": {},
   "outputs": [
    {
     "data": {
      "text/html": [
       "<div>\n",
       "<style scoped>\n",
       "    .dataframe tbody tr th:only-of-type {\n",
       "        vertical-align: middle;\n",
       "    }\n",
       "\n",
       "    .dataframe tbody tr th {\n",
       "        vertical-align: top;\n",
       "    }\n",
       "\n",
       "    .dataframe thead th {\n",
       "        text-align: right;\n",
       "    }\n",
       "</style>\n",
       "<table border=\"1\" class=\"dataframe\">\n",
       "  <thead>\n",
       "    <tr style=\"text-align: right;\">\n",
       "      <th></th>\n",
       "      <th>Mazda RX4</th>\n",
       "      <th>Mazda RX4 Wag</th>\n",
       "      <th>Datsun 710</th>\n",
       "      <th>Hornet 4 Drive</th>\n",
       "      <th>Hornet Sportabout</th>\n",
       "      <th>Valiant</th>\n",
       "      <th>Duster 360</th>\n",
       "      <th>Merc 240D</th>\n",
       "      <th>Merc 230</th>\n",
       "      <th>Merc 280</th>\n",
       "      <th>...</th>\n",
       "      <th>AMC Javelin</th>\n",
       "      <th>Camaro Z28</th>\n",
       "      <th>Pontiac Firebird</th>\n",
       "      <th>Fiat X1-9</th>\n",
       "      <th>Porsche 914-2</th>\n",
       "      <th>Lotus Europa</th>\n",
       "      <th>Ford Pantera L</th>\n",
       "      <th>Ferrari Dino</th>\n",
       "      <th>Maserati Bora</th>\n",
       "      <th>Volvo 142E</th>\n",
       "    </tr>\n",
       "  </thead>\n",
       "  <tbody>\n",
       "    <tr>\n",
       "      <th>mpg</th>\n",
       "      <td>21.0</td>\n",
       "      <td>21.0</td>\n",
       "      <td>22.80</td>\n",
       "      <td>21.40</td>\n",
       "      <td>18.70</td>\n",
       "      <td>18.10</td>\n",
       "      <td>14.30</td>\n",
       "      <td>24.40</td>\n",
       "      <td>22.80</td>\n",
       "      <td>19.20</td>\n",
       "      <td>...</td>\n",
       "      <td>15.20</td>\n",
       "      <td>13.30</td>\n",
       "      <td>19.20</td>\n",
       "      <td>27.30</td>\n",
       "      <td>26.00</td>\n",
       "      <td>30.40</td>\n",
       "      <td>15.80</td>\n",
       "      <td>19.70</td>\n",
       "      <td>15.00</td>\n",
       "      <td>21.40</td>\n",
       "    </tr>\n",
       "    <tr>\n",
       "      <th>cyl</th>\n",
       "      <td>6.0</td>\n",
       "      <td>6.0</td>\n",
       "      <td>4.00</td>\n",
       "      <td>6.00</td>\n",
       "      <td>8.00</td>\n",
       "      <td>6.00</td>\n",
       "      <td>8.00</td>\n",
       "      <td>4.00</td>\n",
       "      <td>4.00</td>\n",
       "      <td>6.00</td>\n",
       "      <td>...</td>\n",
       "      <td>8.00</td>\n",
       "      <td>8.00</td>\n",
       "      <td>8.00</td>\n",
       "      <td>4.00</td>\n",
       "      <td>4.00</td>\n",
       "      <td>4.00</td>\n",
       "      <td>8.00</td>\n",
       "      <td>6.00</td>\n",
       "      <td>8.00</td>\n",
       "      <td>4.00</td>\n",
       "    </tr>\n",
       "    <tr>\n",
       "      <th>disp</th>\n",
       "      <td>160.0</td>\n",
       "      <td>160.0</td>\n",
       "      <td>108.00</td>\n",
       "      <td>258.00</td>\n",
       "      <td>360.00</td>\n",
       "      <td>225.00</td>\n",
       "      <td>360.00</td>\n",
       "      <td>146.70</td>\n",
       "      <td>140.80</td>\n",
       "      <td>167.60</td>\n",
       "      <td>...</td>\n",
       "      <td>304.00</td>\n",
       "      <td>350.00</td>\n",
       "      <td>400.00</td>\n",
       "      <td>79.00</td>\n",
       "      <td>120.30</td>\n",
       "      <td>95.10</td>\n",
       "      <td>351.00</td>\n",
       "      <td>145.00</td>\n",
       "      <td>301.00</td>\n",
       "      <td>121.00</td>\n",
       "    </tr>\n",
       "    <tr>\n",
       "      <th>hp</th>\n",
       "      <td>110.0</td>\n",
       "      <td>110.0</td>\n",
       "      <td>93.00</td>\n",
       "      <td>110.00</td>\n",
       "      <td>175.00</td>\n",
       "      <td>105.00</td>\n",
       "      <td>245.00</td>\n",
       "      <td>62.00</td>\n",
       "      <td>95.00</td>\n",
       "      <td>123.00</td>\n",
       "      <td>...</td>\n",
       "      <td>150.00</td>\n",
       "      <td>245.00</td>\n",
       "      <td>175.00</td>\n",
       "      <td>66.00</td>\n",
       "      <td>91.00</td>\n",
       "      <td>113.00</td>\n",
       "      <td>264.00</td>\n",
       "      <td>175.00</td>\n",
       "      <td>335.00</td>\n",
       "      <td>109.00</td>\n",
       "    </tr>\n",
       "    <tr>\n",
       "      <th>drat</th>\n",
       "      <td>3.9</td>\n",
       "      <td>3.9</td>\n",
       "      <td>3.85</td>\n",
       "      <td>3.08</td>\n",
       "      <td>3.15</td>\n",
       "      <td>2.76</td>\n",
       "      <td>3.21</td>\n",
       "      <td>3.69</td>\n",
       "      <td>3.92</td>\n",
       "      <td>3.92</td>\n",
       "      <td>...</td>\n",
       "      <td>3.15</td>\n",
       "      <td>3.73</td>\n",
       "      <td>3.08</td>\n",
       "      <td>4.08</td>\n",
       "      <td>4.43</td>\n",
       "      <td>3.77</td>\n",
       "      <td>4.22</td>\n",
       "      <td>3.62</td>\n",
       "      <td>3.54</td>\n",
       "      <td>4.11</td>\n",
       "    </tr>\n",
       "  </tbody>\n",
       "</table>\n",
       "<p>5 rows × 32 columns</p>\n",
       "</div>"
      ],
      "text/plain": [
       "      Mazda RX4  Mazda RX4 Wag  Datsun 710  Hornet 4 Drive  Hornet Sportabout  \\\n",
       "mpg        21.0           21.0       22.80           21.40              18.70   \n",
       "cyl         6.0            6.0        4.00            6.00               8.00   \n",
       "disp      160.0          160.0      108.00          258.00             360.00   \n",
       "hp        110.0          110.0       93.00          110.00             175.00   \n",
       "drat        3.9            3.9        3.85            3.08               3.15   \n",
       "\n",
       "      Valiant  Duster 360  Merc 240D  Merc 230  Merc 280  ...  AMC Javelin  \\\n",
       "mpg     18.10       14.30      24.40     22.80     19.20  ...        15.20   \n",
       "cyl      6.00        8.00       4.00      4.00      6.00  ...         8.00   \n",
       "disp   225.00      360.00     146.70    140.80    167.60  ...       304.00   \n",
       "hp     105.00      245.00      62.00     95.00    123.00  ...       150.00   \n",
       "drat     2.76        3.21       3.69      3.92      3.92  ...         3.15   \n",
       "\n",
       "      Camaro Z28  Pontiac Firebird  Fiat X1-9  Porsche 914-2  Lotus Europa  \\\n",
       "mpg        13.30             19.20      27.30          26.00         30.40   \n",
       "cyl         8.00              8.00       4.00           4.00          4.00   \n",
       "disp      350.00            400.00      79.00         120.30         95.10   \n",
       "hp        245.00            175.00      66.00          91.00        113.00   \n",
       "drat        3.73              3.08       4.08           4.43          3.77   \n",
       "\n",
       "      Ford Pantera L  Ferrari Dino  Maserati Bora  Volvo 142E  \n",
       "mpg            15.80         19.70          15.00       21.40  \n",
       "cyl             8.00          6.00           8.00        4.00  \n",
       "disp          351.00        145.00         301.00      121.00  \n",
       "hp            264.00        175.00         335.00      109.00  \n",
       "drat            4.22          3.62           3.54        4.11  \n",
       "\n",
       "[5 rows x 32 columns]"
      ]
     },
     "execution_count": 44,
     "metadata": {},
     "output_type": "execute_result"
    }
   ],
   "source": [
    "mtcarsDF.swapaxes(axis1=0, axis2=1).head()"
   ]
  },
  {
   "cell_type": "markdown",
   "id": "8e9cc699-d5ca-421c-aa9a-5658d61dc0c4",
   "metadata": {},
   "source": [
    "### melt\n",
    "DataFrame.melt(id_vars=None, value_vars=None, var_name=None, value_name='value', col_level=None, ignore_index=True)\n",
    "Unpivot a DataFrame from wide to long format, optionally leaving identifiers set.\n",
    "\n",
    "This function is useful to massage a DataFrame into a format where one or more columns are identifier variables (id_vars), while all other columns, considered measured variables (value_vars), are “unpivoted” to the row axis, leaving just two non-identifier columns, ‘variable’ and ‘value’\n",
    "https://pandas.pydata.org/pandas-docs/stable/reference/api/pandas.DataFrame.melt.html\n",
    "id_varstuple, list, or ndarray, optional\n",
    "Column(s) to use as identifier variables.\n",
    "\n",
    "value_varstuple, list, or ndarray, optional\n",
    "Column(s) to unpivot. If not specified, uses all columns that are not set as id_vars.\n",
    "\n",
    "var_namescalar\n",
    "Name to use for the ‘variable’ column. If None it uses frame.columns.name or ‘variable’.\n",
    "\n",
    "value_namescalar, default ‘value’\n",
    "Name to use for the ‘value’ column.\n",
    "\n",
    "col_levelint or str, optional\n",
    "If columns are a MultiIndex then use this level to melt.\n",
    "\n",
    "ignore_indexbool, default True\n",
    "If True, original index is ignored. If False, the original index is retained. Index labels will be repeated as necessary."
   ]
  },
  {
   "cell_type": "code",
   "execution_count": 48,
   "id": "610fed01-4b4a-4d85-ac75-de4340aef106",
   "metadata": {},
   "outputs": [
    {
     "data": {
      "text/html": [
       "<div>\n",
       "<style scoped>\n",
       "    .dataframe tbody tr th:only-of-type {\n",
       "        vertical-align: middle;\n",
       "    }\n",
       "\n",
       "    .dataframe tbody tr th {\n",
       "        vertical-align: top;\n",
       "    }\n",
       "\n",
       "    .dataframe thead th {\n",
       "        text-align: right;\n",
       "    }\n",
       "</style>\n",
       "<table border=\"1\" class=\"dataframe\">\n",
       "  <thead>\n",
       "    <tr style=\"text-align: right;\">\n",
       "      <th></th>\n",
       "      <th>index</th>\n",
       "      <th>mpg</th>\n",
       "      <th>cyl</th>\n",
       "      <th>disp</th>\n",
       "      <th>hp</th>\n",
       "      <th>drat</th>\n",
       "      <th>wt</th>\n",
       "      <th>qsec</th>\n",
       "      <th>vs</th>\n",
       "      <th>am</th>\n",
       "      <th>gear</th>\n",
       "      <th>carb</th>\n",
       "    </tr>\n",
       "  </thead>\n",
       "  <tbody>\n",
       "    <tr>\n",
       "      <th>0</th>\n",
       "      <td>Mazda RX4</td>\n",
       "      <td>21.0</td>\n",
       "      <td>6</td>\n",
       "      <td>160.0</td>\n",
       "      <td>110</td>\n",
       "      <td>3.90</td>\n",
       "      <td>2.620</td>\n",
       "      <td>16.46</td>\n",
       "      <td>0</td>\n",
       "      <td>1</td>\n",
       "      <td>4</td>\n",
       "      <td>4</td>\n",
       "    </tr>\n",
       "    <tr>\n",
       "      <th>1</th>\n",
       "      <td>Mazda RX4 Wag</td>\n",
       "      <td>21.0</td>\n",
       "      <td>6</td>\n",
       "      <td>160.0</td>\n",
       "      <td>110</td>\n",
       "      <td>3.90</td>\n",
       "      <td>2.875</td>\n",
       "      <td>17.02</td>\n",
       "      <td>0</td>\n",
       "      <td>1</td>\n",
       "      <td>4</td>\n",
       "      <td>4</td>\n",
       "    </tr>\n",
       "    <tr>\n",
       "      <th>2</th>\n",
       "      <td>Datsun 710</td>\n",
       "      <td>22.8</td>\n",
       "      <td>4</td>\n",
       "      <td>108.0</td>\n",
       "      <td>93</td>\n",
       "      <td>3.85</td>\n",
       "      <td>2.320</td>\n",
       "      <td>18.61</td>\n",
       "      <td>1</td>\n",
       "      <td>1</td>\n",
       "      <td>4</td>\n",
       "      <td>1</td>\n",
       "    </tr>\n",
       "    <tr>\n",
       "      <th>3</th>\n",
       "      <td>Hornet 4 Drive</td>\n",
       "      <td>21.4</td>\n",
       "      <td>6</td>\n",
       "      <td>258.0</td>\n",
       "      <td>110</td>\n",
       "      <td>3.08</td>\n",
       "      <td>3.215</td>\n",
       "      <td>19.44</td>\n",
       "      <td>1</td>\n",
       "      <td>0</td>\n",
       "      <td>3</td>\n",
       "      <td>1</td>\n",
       "    </tr>\n",
       "    <tr>\n",
       "      <th>4</th>\n",
       "      <td>Hornet Sportabout</td>\n",
       "      <td>18.7</td>\n",
       "      <td>8</td>\n",
       "      <td>360.0</td>\n",
       "      <td>175</td>\n",
       "      <td>3.15</td>\n",
       "      <td>3.440</td>\n",
       "      <td>17.02</td>\n",
       "      <td>0</td>\n",
       "      <td>0</td>\n",
       "      <td>3</td>\n",
       "      <td>2</td>\n",
       "    </tr>\n",
       "  </tbody>\n",
       "</table>\n",
       "</div>"
      ],
      "text/plain": [
       "               index   mpg  cyl   disp   hp  drat     wt   qsec  vs  am  gear  \\\n",
       "0          Mazda RX4  21.0    6  160.0  110  3.90  2.620  16.46   0   1     4   \n",
       "1      Mazda RX4 Wag  21.0    6  160.0  110  3.90  2.875  17.02   0   1     4   \n",
       "2         Datsun 710  22.8    4  108.0   93  3.85  2.320  18.61   1   1     4   \n",
       "3     Hornet 4 Drive  21.4    6  258.0  110  3.08  3.215  19.44   1   0     3   \n",
       "4  Hornet Sportabout  18.7    8  360.0  175  3.15  3.440  17.02   0   0     3   \n",
       "\n",
       "   carb  \n",
       "0     4  \n",
       "1     4  \n",
       "2     1  \n",
       "3     1  \n",
       "4     2  "
      ]
     },
     "execution_count": 48,
     "metadata": {},
     "output_type": "execute_result"
    }
   ],
   "source": [
    "mtcarsDF.reset_index().head()  #index to col"
   ]
  },
  {
   "cell_type": "code",
   "execution_count": 49,
   "id": "84128909-136c-47a4-8a23-78ef1144025b",
   "metadata": {},
   "outputs": [
    {
     "data": {
      "text/html": [
       "<div>\n",
       "<style scoped>\n",
       "    .dataframe tbody tr th:only-of-type {\n",
       "        vertical-align: middle;\n",
       "    }\n",
       "\n",
       "    .dataframe tbody tr th {\n",
       "        vertical-align: top;\n",
       "    }\n",
       "\n",
       "    .dataframe thead th {\n",
       "        text-align: right;\n",
       "    }\n",
       "</style>\n",
       "<table border=\"1\" class=\"dataframe\">\n",
       "  <thead>\n",
       "    <tr style=\"text-align: right;\">\n",
       "      <th></th>\n",
       "      <th>mpg</th>\n",
       "      <th>cyl</th>\n",
       "      <th>disp</th>\n",
       "      <th>hp</th>\n",
       "      <th>drat</th>\n",
       "      <th>wt</th>\n",
       "      <th>qsec</th>\n",
       "      <th>vs</th>\n",
       "      <th>am</th>\n",
       "      <th>gear</th>\n",
       "      <th>carb</th>\n",
       "    </tr>\n",
       "  </thead>\n",
       "  <tbody>\n",
       "    <tr>\n",
       "      <th>0</th>\n",
       "      <td>21.0</td>\n",
       "      <td>6</td>\n",
       "      <td>160.0</td>\n",
       "      <td>110</td>\n",
       "      <td>3.90</td>\n",
       "      <td>2.620</td>\n",
       "      <td>16.46</td>\n",
       "      <td>0</td>\n",
       "      <td>1</td>\n",
       "      <td>4</td>\n",
       "      <td>4</td>\n",
       "    </tr>\n",
       "    <tr>\n",
       "      <th>1</th>\n",
       "      <td>21.0</td>\n",
       "      <td>6</td>\n",
       "      <td>160.0</td>\n",
       "      <td>110</td>\n",
       "      <td>3.90</td>\n",
       "      <td>2.875</td>\n",
       "      <td>17.02</td>\n",
       "      <td>0</td>\n",
       "      <td>1</td>\n",
       "      <td>4</td>\n",
       "      <td>4</td>\n",
       "    </tr>\n",
       "    <tr>\n",
       "      <th>2</th>\n",
       "      <td>22.8</td>\n",
       "      <td>4</td>\n",
       "      <td>108.0</td>\n",
       "      <td>93</td>\n",
       "      <td>3.85</td>\n",
       "      <td>2.320</td>\n",
       "      <td>18.61</td>\n",
       "      <td>1</td>\n",
       "      <td>1</td>\n",
       "      <td>4</td>\n",
       "      <td>1</td>\n",
       "    </tr>\n",
       "    <tr>\n",
       "      <th>3</th>\n",
       "      <td>21.4</td>\n",
       "      <td>6</td>\n",
       "      <td>258.0</td>\n",
       "      <td>110</td>\n",
       "      <td>3.08</td>\n",
       "      <td>3.215</td>\n",
       "      <td>19.44</td>\n",
       "      <td>1</td>\n",
       "      <td>0</td>\n",
       "      <td>3</td>\n",
       "      <td>1</td>\n",
       "    </tr>\n",
       "    <tr>\n",
       "      <th>4</th>\n",
       "      <td>18.7</td>\n",
       "      <td>8</td>\n",
       "      <td>360.0</td>\n",
       "      <td>175</td>\n",
       "      <td>3.15</td>\n",
       "      <td>3.440</td>\n",
       "      <td>17.02</td>\n",
       "      <td>0</td>\n",
       "      <td>0</td>\n",
       "      <td>3</td>\n",
       "      <td>2</td>\n",
       "    </tr>\n",
       "  </tbody>\n",
       "</table>\n",
       "</div>"
      ],
      "text/plain": [
       "    mpg  cyl   disp   hp  drat     wt   qsec  vs  am  gear  carb\n",
       "0  21.0    6  160.0  110  3.90  2.620  16.46   0   1     4     4\n",
       "1  21.0    6  160.0  110  3.90  2.875  17.02   0   1     4     4\n",
       "2  22.8    4  108.0   93  3.85  2.320  18.61   1   1     4     1\n",
       "3  21.4    6  258.0  110  3.08  3.215  19.44   1   0     3     1\n",
       "4  18.7    8  360.0  175  3.15  3.440  17.02   0   0     3     2"
      ]
     },
     "execution_count": 49,
     "metadata": {},
     "output_type": "execute_result"
    }
   ],
   "source": [
    "mtcarsDF.reset_index(drop=True).head()  #drop"
   ]
  },
  {
   "cell_type": "code",
   "execution_count": 54,
   "id": "6cff6db5-db66-4bce-a0fa-e55d4e25a117",
   "metadata": {},
   "outputs": [
    {
     "data": {
      "text/html": [
       "<div>\n",
       "<style scoped>\n",
       "    .dataframe tbody tr th:only-of-type {\n",
       "        vertical-align: middle;\n",
       "    }\n",
       "\n",
       "    .dataframe tbody tr th {\n",
       "        vertical-align: top;\n",
       "    }\n",
       "\n",
       "    .dataframe thead th {\n",
       "        text-align: right;\n",
       "    }\n",
       "</style>\n",
       "<table border=\"1\" class=\"dataframe\">\n",
       "  <thead>\n",
       "    <tr style=\"text-align: right;\">\n",
       "      <th></th>\n",
       "      <th>index</th>\n",
       "      <th>mpg</th>\n",
       "      <th>cyl</th>\n",
       "      <th>disp</th>\n",
       "      <th>hp</th>\n",
       "      <th>drat</th>\n",
       "      <th>wt</th>\n",
       "      <th>qsec</th>\n",
       "      <th>vs</th>\n",
       "      <th>am</th>\n",
       "      <th>gear</th>\n",
       "      <th>carb</th>\n",
       "    </tr>\n",
       "  </thead>\n",
       "  <tbody>\n",
       "    <tr>\n",
       "      <th>0</th>\n",
       "      <td>Mazda RX4</td>\n",
       "      <td>21.0</td>\n",
       "      <td>6</td>\n",
       "      <td>160.0</td>\n",
       "      <td>110</td>\n",
       "      <td>3.90</td>\n",
       "      <td>2.620</td>\n",
       "      <td>16.46</td>\n",
       "      <td>0</td>\n",
       "      <td>1</td>\n",
       "      <td>4</td>\n",
       "      <td>4</td>\n",
       "    </tr>\n",
       "    <tr>\n",
       "      <th>1</th>\n",
       "      <td>Mazda RX4 Wag</td>\n",
       "      <td>21.0</td>\n",
       "      <td>6</td>\n",
       "      <td>160.0</td>\n",
       "      <td>110</td>\n",
       "      <td>3.90</td>\n",
       "      <td>2.875</td>\n",
       "      <td>17.02</td>\n",
       "      <td>0</td>\n",
       "      <td>1</td>\n",
       "      <td>4</td>\n",
       "      <td>4</td>\n",
       "    </tr>\n",
       "    <tr>\n",
       "      <th>2</th>\n",
       "      <td>Datsun 710</td>\n",
       "      <td>22.8</td>\n",
       "      <td>4</td>\n",
       "      <td>108.0</td>\n",
       "      <td>93</td>\n",
       "      <td>3.85</td>\n",
       "      <td>2.320</td>\n",
       "      <td>18.61</td>\n",
       "      <td>1</td>\n",
       "      <td>1</td>\n",
       "      <td>4</td>\n",
       "      <td>1</td>\n",
       "    </tr>\n",
       "    <tr>\n",
       "      <th>3</th>\n",
       "      <td>Hornet 4 Drive</td>\n",
       "      <td>21.4</td>\n",
       "      <td>6</td>\n",
       "      <td>258.0</td>\n",
       "      <td>110</td>\n",
       "      <td>3.08</td>\n",
       "      <td>3.215</td>\n",
       "      <td>19.44</td>\n",
       "      <td>1</td>\n",
       "      <td>0</td>\n",
       "      <td>3</td>\n",
       "      <td>1</td>\n",
       "    </tr>\n",
       "    <tr>\n",
       "      <th>4</th>\n",
       "      <td>Hornet Sportabout</td>\n",
       "      <td>18.7</td>\n",
       "      <td>8</td>\n",
       "      <td>360.0</td>\n",
       "      <td>175</td>\n",
       "      <td>3.15</td>\n",
       "      <td>3.440</td>\n",
       "      <td>17.02</td>\n",
       "      <td>0</td>\n",
       "      <td>0</td>\n",
       "      <td>3</td>\n",
       "      <td>2</td>\n",
       "    </tr>\n",
       "  </tbody>\n",
       "</table>\n",
       "</div>"
      ],
      "text/plain": [
       "               index   mpg  cyl   disp   hp  drat     wt   qsec  vs  am  gear  \\\n",
       "0          Mazda RX4  21.0    6  160.0  110  3.90  2.620  16.46   0   1     4   \n",
       "1      Mazda RX4 Wag  21.0    6  160.0  110  3.90  2.875  17.02   0   1     4   \n",
       "2         Datsun 710  22.8    4  108.0   93  3.85  2.320  18.61   1   1     4   \n",
       "3     Hornet 4 Drive  21.4    6  258.0  110  3.08  3.215  19.44   1   0     3   \n",
       "4  Hornet Sportabout  18.7    8  360.0  175  3.15  3.440  17.02   0   0     3   \n",
       "\n",
       "   carb  \n",
       "0     4  \n",
       "1     4  \n",
       "2     1  \n",
       "3     1  \n",
       "4     2  "
      ]
     },
     "execution_count": 54,
     "metadata": {},
     "output_type": "execute_result"
    }
   ],
   "source": [
    "mtcarsDF.reset_index().rename(columns={mtcarsDF.index.name:'car'}).head()  # index to col, rename"
   ]
  },
  {
   "cell_type": "code",
   "execution_count": 56,
   "id": "d0a7603c-ab52-4a12-bc87-82acd1ae3f5c",
   "metadata": {},
   "outputs": [
    {
     "data": {
      "text/html": [
       "<div>\n",
       "<style scoped>\n",
       "    .dataframe tbody tr th:only-of-type {\n",
       "        vertical-align: middle;\n",
       "    }\n",
       "\n",
       "    .dataframe tbody tr th {\n",
       "        vertical-align: top;\n",
       "    }\n",
       "\n",
       "    .dataframe thead th {\n",
       "        text-align: right;\n",
       "    }\n",
       "</style>\n",
       "<table border=\"1\" class=\"dataframe\">\n",
       "  <thead>\n",
       "    <tr style=\"text-align: right;\">\n",
       "      <th></th>\n",
       "      <th>mpg</th>\n",
       "      <th>cyl</th>\n",
       "      <th>disp</th>\n",
       "      <th>hp</th>\n",
       "      <th>drat</th>\n",
       "      <th>wt</th>\n",
       "      <th>qsec</th>\n",
       "      <th>vs</th>\n",
       "      <th>am</th>\n",
       "      <th>gear</th>\n",
       "      <th>carb</th>\n",
       "      <th>car</th>\n",
       "    </tr>\n",
       "  </thead>\n",
       "  <tbody>\n",
       "    <tr>\n",
       "      <th>0</th>\n",
       "      <td>21.0</td>\n",
       "      <td>6</td>\n",
       "      <td>160.0</td>\n",
       "      <td>110</td>\n",
       "      <td>3.90</td>\n",
       "      <td>2.620</td>\n",
       "      <td>16.46</td>\n",
       "      <td>0</td>\n",
       "      <td>1</td>\n",
       "      <td>4</td>\n",
       "      <td>4</td>\n",
       "      <td>Mazda RX4</td>\n",
       "    </tr>\n",
       "    <tr>\n",
       "      <th>1</th>\n",
       "      <td>21.0</td>\n",
       "      <td>6</td>\n",
       "      <td>160.0</td>\n",
       "      <td>110</td>\n",
       "      <td>3.90</td>\n",
       "      <td>2.875</td>\n",
       "      <td>17.02</td>\n",
       "      <td>0</td>\n",
       "      <td>1</td>\n",
       "      <td>4</td>\n",
       "      <td>4</td>\n",
       "      <td>Mazda RX4 Wag</td>\n",
       "    </tr>\n",
       "    <tr>\n",
       "      <th>2</th>\n",
       "      <td>22.8</td>\n",
       "      <td>4</td>\n",
       "      <td>108.0</td>\n",
       "      <td>93</td>\n",
       "      <td>3.85</td>\n",
       "      <td>2.320</td>\n",
       "      <td>18.61</td>\n",
       "      <td>1</td>\n",
       "      <td>1</td>\n",
       "      <td>4</td>\n",
       "      <td>1</td>\n",
       "      <td>Datsun 710</td>\n",
       "    </tr>\n",
       "    <tr>\n",
       "      <th>3</th>\n",
       "      <td>21.4</td>\n",
       "      <td>6</td>\n",
       "      <td>258.0</td>\n",
       "      <td>110</td>\n",
       "      <td>3.08</td>\n",
       "      <td>3.215</td>\n",
       "      <td>19.44</td>\n",
       "      <td>1</td>\n",
       "      <td>0</td>\n",
       "      <td>3</td>\n",
       "      <td>1</td>\n",
       "      <td>Hornet 4 Drive</td>\n",
       "    </tr>\n",
       "    <tr>\n",
       "      <th>4</th>\n",
       "      <td>18.7</td>\n",
       "      <td>8</td>\n",
       "      <td>360.0</td>\n",
       "      <td>175</td>\n",
       "      <td>3.15</td>\n",
       "      <td>3.440</td>\n",
       "      <td>17.02</td>\n",
       "      <td>0</td>\n",
       "      <td>0</td>\n",
       "      <td>3</td>\n",
       "      <td>2</td>\n",
       "      <td>Hornet Sportabout</td>\n",
       "    </tr>\n",
       "  </tbody>\n",
       "</table>\n",
       "</div>"
      ],
      "text/plain": [
       "    mpg  cyl   disp   hp  drat     wt   qsec  vs  am  gear  carb  \\\n",
       "0  21.0    6  160.0  110  3.90  2.620  16.46   0   1     4     4   \n",
       "1  21.0    6  160.0  110  3.90  2.875  17.02   0   1     4     4   \n",
       "2  22.8    4  108.0   93  3.85  2.320  18.61   1   1     4     1   \n",
       "3  21.4    6  258.0  110  3.08  3.215  19.44   1   0     3     1   \n",
       "4  18.7    8  360.0  175  3.15  3.440  17.02   0   0     3     2   \n",
       "\n",
       "                 car  \n",
       "0          Mazda RX4  \n",
       "1      Mazda RX4 Wag  \n",
       "2         Datsun 710  \n",
       "3     Hornet 4 Drive  \n",
       "4  Hornet Sportabout  "
      ]
     },
     "execution_count": 56,
     "metadata": {},
     "output_type": "execute_result"
    }
   ],
   "source": [
    "mtcarsDF.assign(car = mtcarsDF.index).reset_index(drop=True).head()"
   ]
  },
  {
   "cell_type": "code",
   "execution_count": 59,
   "id": "8848e09b-75a7-48a5-bc5a-5b8a5c0d2206",
   "metadata": {},
   "outputs": [
    {
     "data": {
      "text/html": [
       "<div>\n",
       "<style scoped>\n",
       "    .dataframe tbody tr th:only-of-type {\n",
       "        vertical-align: middle;\n",
       "    }\n",
       "\n",
       "    .dataframe tbody tr th {\n",
       "        vertical-align: top;\n",
       "    }\n",
       "\n",
       "    .dataframe thead th {\n",
       "        text-align: right;\n",
       "    }\n",
       "</style>\n",
       "<table border=\"1\" class=\"dataframe\">\n",
       "  <thead>\n",
       "    <tr style=\"text-align: right;\">\n",
       "      <th></th>\n",
       "      <th>mpg</th>\n",
       "      <th>cyl</th>\n",
       "      <th>disp</th>\n",
       "      <th>hp</th>\n",
       "      <th>drat</th>\n",
       "      <th>wt</th>\n",
       "      <th>qsec</th>\n",
       "      <th>vs</th>\n",
       "      <th>am</th>\n",
       "      <th>gear</th>\n",
       "      <th>carb</th>\n",
       "      <th>car</th>\n",
       "    </tr>\n",
       "  </thead>\n",
       "  <tbody>\n",
       "    <tr>\n",
       "      <th>0</th>\n",
       "      <td>21.0</td>\n",
       "      <td>6</td>\n",
       "      <td>160.0</td>\n",
       "      <td>110</td>\n",
       "      <td>3.90</td>\n",
       "      <td>2.620</td>\n",
       "      <td>16.46</td>\n",
       "      <td>0</td>\n",
       "      <td>1</td>\n",
       "      <td>4</td>\n",
       "      <td>4</td>\n",
       "      <td>Mazda RX4</td>\n",
       "    </tr>\n",
       "    <tr>\n",
       "      <th>1</th>\n",
       "      <td>21.0</td>\n",
       "      <td>6</td>\n",
       "      <td>160.0</td>\n",
       "      <td>110</td>\n",
       "      <td>3.90</td>\n",
       "      <td>2.875</td>\n",
       "      <td>17.02</td>\n",
       "      <td>0</td>\n",
       "      <td>1</td>\n",
       "      <td>4</td>\n",
       "      <td>4</td>\n",
       "      <td>Mazda RX4 Wag</td>\n",
       "    </tr>\n",
       "    <tr>\n",
       "      <th>2</th>\n",
       "      <td>22.8</td>\n",
       "      <td>4</td>\n",
       "      <td>108.0</td>\n",
       "      <td>93</td>\n",
       "      <td>3.85</td>\n",
       "      <td>2.320</td>\n",
       "      <td>18.61</td>\n",
       "      <td>1</td>\n",
       "      <td>1</td>\n",
       "      <td>4</td>\n",
       "      <td>1</td>\n",
       "      <td>Datsun 710</td>\n",
       "    </tr>\n",
       "    <tr>\n",
       "      <th>3</th>\n",
       "      <td>21.4</td>\n",
       "      <td>6</td>\n",
       "      <td>258.0</td>\n",
       "      <td>110</td>\n",
       "      <td>3.08</td>\n",
       "      <td>3.215</td>\n",
       "      <td>19.44</td>\n",
       "      <td>1</td>\n",
       "      <td>0</td>\n",
       "      <td>3</td>\n",
       "      <td>1</td>\n",
       "      <td>Hornet 4 Drive</td>\n",
       "    </tr>\n",
       "    <tr>\n",
       "      <th>4</th>\n",
       "      <td>18.7</td>\n",
       "      <td>8</td>\n",
       "      <td>360.0</td>\n",
       "      <td>175</td>\n",
       "      <td>3.15</td>\n",
       "      <td>3.440</td>\n",
       "      <td>17.02</td>\n",
       "      <td>0</td>\n",
       "      <td>0</td>\n",
       "      <td>3</td>\n",
       "      <td>2</td>\n",
       "      <td>Hornet Sportabout</td>\n",
       "    </tr>\n",
       "  </tbody>\n",
       "</table>\n",
       "</div>"
      ],
      "text/plain": [
       "    mpg  cyl   disp   hp  drat     wt   qsec  vs  am  gear  carb  \\\n",
       "0  21.0    6  160.0  110  3.90  2.620  16.46   0   1     4     4   \n",
       "1  21.0    6  160.0  110  3.90  2.875  17.02   0   1     4     4   \n",
       "2  22.8    4  108.0   93  3.85  2.320  18.61   1   1     4     1   \n",
       "3  21.4    6  258.0  110  3.08  3.215  19.44   1   0     3     1   \n",
       "4  18.7    8  360.0  175  3.15  3.440  17.02   0   0     3     2   \n",
       "\n",
       "                 car  \n",
       "0          Mazda RX4  \n",
       "1      Mazda RX4 Wag  \n",
       "2         Datsun 710  \n",
       "3     Hornet 4 Drive  \n",
       "4  Hornet Sportabout  "
      ]
     },
     "execution_count": 59,
     "metadata": {},
     "output_type": "execute_result"
    }
   ],
   "source": [
    "df4= mtcarsDF.assign(car = mtcarsDF.index).reset_index(drop=True)\n",
    "df4.head()"
   ]
  },
  {
   "cell_type": "code",
   "execution_count": 61,
   "id": "2c3a8d1b-072b-4178-8143-6697cd00b5c1",
   "metadata": {},
   "outputs": [
    {
     "data": {
      "text/html": [
       "<div>\n",
       "<style scoped>\n",
       "    .dataframe tbody tr th:only-of-type {\n",
       "        vertical-align: middle;\n",
       "    }\n",
       "\n",
       "    .dataframe tbody tr th {\n",
       "        vertical-align: top;\n",
       "    }\n",
       "\n",
       "    .dataframe thead th {\n",
       "        text-align: right;\n",
       "    }\n",
       "</style>\n",
       "<table border=\"1\" class=\"dataframe\">\n",
       "  <thead>\n",
       "    <tr style=\"text-align: right;\">\n",
       "      <th></th>\n",
       "      <th>car</th>\n",
       "      <th>variable</th>\n",
       "      <th>value</th>\n",
       "    </tr>\n",
       "  </thead>\n",
       "  <tbody>\n",
       "    <tr>\n",
       "      <th>0</th>\n",
       "      <td>Mazda RX4</td>\n",
       "      <td>mpg</td>\n",
       "      <td>21.0</td>\n",
       "    </tr>\n",
       "    <tr>\n",
       "      <th>1</th>\n",
       "      <td>Mazda RX4 Wag</td>\n",
       "      <td>mpg</td>\n",
       "      <td>21.0</td>\n",
       "    </tr>\n",
       "    <tr>\n",
       "      <th>2</th>\n",
       "      <td>Datsun 710</td>\n",
       "      <td>mpg</td>\n",
       "      <td>22.8</td>\n",
       "    </tr>\n",
       "    <tr>\n",
       "      <th>3</th>\n",
       "      <td>Hornet 4 Drive</td>\n",
       "      <td>mpg</td>\n",
       "      <td>21.4</td>\n",
       "    </tr>\n",
       "    <tr>\n",
       "      <th>4</th>\n",
       "      <td>Hornet Sportabout</td>\n",
       "      <td>mpg</td>\n",
       "      <td>18.7</td>\n",
       "    </tr>\n",
       "  </tbody>\n",
       "</table>\n",
       "</div>"
      ],
      "text/plain": [
       "                 car variable  value\n",
       "0          Mazda RX4      mpg   21.0\n",
       "1      Mazda RX4 Wag      mpg   21.0\n",
       "2         Datsun 710      mpg   22.8\n",
       "3     Hornet 4 Drive      mpg   21.4\n",
       "4  Hornet Sportabout      mpg   18.7"
      ]
     },
     "execution_count": 61,
     "metadata": {},
     "output_type": "execute_result"
    }
   ],
   "source": [
    "df4.melt(id_vars = ['car']).head()"
   ]
  },
  {
   "cell_type": "code",
   "execution_count": 63,
   "id": "393def51-86e8-44ff-be44-8626dc498135",
   "metadata": {},
   "outputs": [
    {
     "data": {
      "text/html": [
       "<div>\n",
       "<style scoped>\n",
       "    .dataframe tbody tr th:only-of-type {\n",
       "        vertical-align: middle;\n",
       "    }\n",
       "\n",
       "    .dataframe tbody tr th {\n",
       "        vertical-align: top;\n",
       "    }\n",
       "\n",
       "    .dataframe thead th {\n",
       "        text-align: right;\n",
       "    }\n",
       "</style>\n",
       "<table border=\"1\" class=\"dataframe\">\n",
       "  <thead>\n",
       "    <tr style=\"text-align: right;\">\n",
       "      <th></th>\n",
       "      <th>car</th>\n",
       "      <th>metric</th>\n",
       "      <th>mvalue</th>\n",
       "    </tr>\n",
       "  </thead>\n",
       "  <tbody>\n",
       "    <tr>\n",
       "      <th>0</th>\n",
       "      <td>Mazda RX4</td>\n",
       "      <td>mpg</td>\n",
       "      <td>21.0</td>\n",
       "    </tr>\n",
       "    <tr>\n",
       "      <th>1</th>\n",
       "      <td>Mazda RX4 Wag</td>\n",
       "      <td>mpg</td>\n",
       "      <td>21.0</td>\n",
       "    </tr>\n",
       "    <tr>\n",
       "      <th>2</th>\n",
       "      <td>Datsun 710</td>\n",
       "      <td>mpg</td>\n",
       "      <td>22.8</td>\n",
       "    </tr>\n",
       "    <tr>\n",
       "      <th>3</th>\n",
       "      <td>Hornet 4 Drive</td>\n",
       "      <td>mpg</td>\n",
       "      <td>21.4</td>\n",
       "    </tr>\n",
       "    <tr>\n",
       "      <th>4</th>\n",
       "      <td>Hornet Sportabout</td>\n",
       "      <td>mpg</td>\n",
       "      <td>18.7</td>\n",
       "    </tr>\n",
       "  </tbody>\n",
       "</table>\n",
       "</div>"
      ],
      "text/plain": [
       "                 car metric  mvalue\n",
       "0          Mazda RX4    mpg    21.0\n",
       "1      Mazda RX4 Wag    mpg    21.0\n",
       "2         Datsun 710    mpg    22.8\n",
       "3     Hornet 4 Drive    mpg    21.4\n",
       "4  Hornet Sportabout    mpg    18.7"
      ]
     },
     "execution_count": 63,
     "metadata": {},
     "output_type": "execute_result"
    }
   ],
   "source": [
    "df4.melt(id_vars = ['car'], var_name = 'metric', value_name ='mvalue').head()"
   ]
  },
  {
   "cell_type": "code",
   "execution_count": 64,
   "id": "0ddf0beb-fbc8-49b7-a0cd-5239f6547788",
   "metadata": {},
   "outputs": [
    {
     "data": {
      "text/html": [
       "<div>\n",
       "<style scoped>\n",
       "    .dataframe tbody tr th:only-of-type {\n",
       "        vertical-align: middle;\n",
       "    }\n",
       "\n",
       "    .dataframe tbody tr th {\n",
       "        vertical-align: top;\n",
       "    }\n",
       "\n",
       "    .dataframe thead th {\n",
       "        text-align: right;\n",
       "    }\n",
       "</style>\n",
       "<table border=\"1\" class=\"dataframe\">\n",
       "  <thead>\n",
       "    <tr style=\"text-align: right;\">\n",
       "      <th></th>\n",
       "      <th>car</th>\n",
       "      <th>gear</th>\n",
       "      <th>metric</th>\n",
       "      <th>mvalue</th>\n",
       "    </tr>\n",
       "  </thead>\n",
       "  <tbody>\n",
       "    <tr>\n",
       "      <th>0</th>\n",
       "      <td>Mazda RX4</td>\n",
       "      <td>4</td>\n",
       "      <td>mpg</td>\n",
       "      <td>21.0</td>\n",
       "    </tr>\n",
       "    <tr>\n",
       "      <th>1</th>\n",
       "      <td>Mazda RX4 Wag</td>\n",
       "      <td>4</td>\n",
       "      <td>mpg</td>\n",
       "      <td>21.0</td>\n",
       "    </tr>\n",
       "    <tr>\n",
       "      <th>2</th>\n",
       "      <td>Datsun 710</td>\n",
       "      <td>4</td>\n",
       "      <td>mpg</td>\n",
       "      <td>22.8</td>\n",
       "    </tr>\n",
       "    <tr>\n",
       "      <th>3</th>\n",
       "      <td>Hornet 4 Drive</td>\n",
       "      <td>3</td>\n",
       "      <td>mpg</td>\n",
       "      <td>21.4</td>\n",
       "    </tr>\n",
       "    <tr>\n",
       "      <th>4</th>\n",
       "      <td>Hornet Sportabout</td>\n",
       "      <td>3</td>\n",
       "      <td>mpg</td>\n",
       "      <td>18.7</td>\n",
       "    </tr>\n",
       "  </tbody>\n",
       "</table>\n",
       "</div>"
      ],
      "text/plain": [
       "                 car  gear metric  mvalue\n",
       "0          Mazda RX4     4    mpg    21.0\n",
       "1      Mazda RX4 Wag     4    mpg    21.0\n",
       "2         Datsun 710     4    mpg    22.8\n",
       "3     Hornet 4 Drive     3    mpg    21.4\n",
       "4  Hornet Sportabout     3    mpg    18.7"
      ]
     },
     "execution_count": 64,
     "metadata": {},
     "output_type": "execute_result"
    }
   ],
   "source": [
    "df4.melt(id_vars = ['car','gear'], var_name = 'metric', value_name ='mvalue').head()"
   ]
  },
  {
   "cell_type": "code",
   "execution_count": 67,
   "id": "6cdb49bd-f1f2-4779-af42-ec687a9ec212",
   "metadata": {},
   "outputs": [
    {
     "data": {
      "text/html": [
       "<div>\n",
       "<style scoped>\n",
       "    .dataframe tbody tr th:only-of-type {\n",
       "        vertical-align: middle;\n",
       "    }\n",
       "\n",
       "    .dataframe tbody tr th {\n",
       "        vertical-align: top;\n",
       "    }\n",
       "\n",
       "    .dataframe thead th {\n",
       "        text-align: right;\n",
       "    }\n",
       "</style>\n",
       "<table border=\"1\" class=\"dataframe\">\n",
       "  <thead>\n",
       "    <tr style=\"text-align: right;\">\n",
       "      <th></th>\n",
       "      <th>car</th>\n",
       "      <th>metric</th>\n",
       "      <th>mvalue</th>\n",
       "    </tr>\n",
       "  </thead>\n",
       "  <tbody>\n",
       "    <tr>\n",
       "      <th>0</th>\n",
       "      <td>Mazda RX4</td>\n",
       "      <td>mpg</td>\n",
       "      <td>21.000</td>\n",
       "    </tr>\n",
       "    <tr>\n",
       "      <th>1</th>\n",
       "      <td>Mazda RX4 Wag</td>\n",
       "      <td>mpg</td>\n",
       "      <td>21.000</td>\n",
       "    </tr>\n",
       "    <tr>\n",
       "      <th>2</th>\n",
       "      <td>Datsun 710</td>\n",
       "      <td>mpg</td>\n",
       "      <td>22.800</td>\n",
       "    </tr>\n",
       "    <tr>\n",
       "      <th>3</th>\n",
       "      <td>Hornet 4 Drive</td>\n",
       "      <td>mpg</td>\n",
       "      <td>21.400</td>\n",
       "    </tr>\n",
       "    <tr>\n",
       "      <th>4</th>\n",
       "      <td>Hornet Sportabout</td>\n",
       "      <td>mpg</td>\n",
       "      <td>18.700</td>\n",
       "    </tr>\n",
       "    <tr>\n",
       "      <th>5</th>\n",
       "      <td>Valiant</td>\n",
       "      <td>mpg</td>\n",
       "      <td>18.100</td>\n",
       "    </tr>\n",
       "    <tr>\n",
       "      <th>6</th>\n",
       "      <td>Duster 360</td>\n",
       "      <td>mpg</td>\n",
       "      <td>14.300</td>\n",
       "    </tr>\n",
       "    <tr>\n",
       "      <th>7</th>\n",
       "      <td>Merc 240D</td>\n",
       "      <td>mpg</td>\n",
       "      <td>24.400</td>\n",
       "    </tr>\n",
       "    <tr>\n",
       "      <th>8</th>\n",
       "      <td>Merc 230</td>\n",
       "      <td>mpg</td>\n",
       "      <td>22.800</td>\n",
       "    </tr>\n",
       "    <tr>\n",
       "      <th>9</th>\n",
       "      <td>Merc 280</td>\n",
       "      <td>mpg</td>\n",
       "      <td>19.200</td>\n",
       "    </tr>\n",
       "    <tr>\n",
       "      <th>10</th>\n",
       "      <td>Merc 280C</td>\n",
       "      <td>mpg</td>\n",
       "      <td>17.800</td>\n",
       "    </tr>\n",
       "    <tr>\n",
       "      <th>11</th>\n",
       "      <td>Merc 450SE</td>\n",
       "      <td>mpg</td>\n",
       "      <td>16.400</td>\n",
       "    </tr>\n",
       "    <tr>\n",
       "      <th>12</th>\n",
       "      <td>Merc 450SL</td>\n",
       "      <td>mpg</td>\n",
       "      <td>17.300</td>\n",
       "    </tr>\n",
       "    <tr>\n",
       "      <th>13</th>\n",
       "      <td>Merc 450SLC</td>\n",
       "      <td>mpg</td>\n",
       "      <td>15.200</td>\n",
       "    </tr>\n",
       "    <tr>\n",
       "      <th>14</th>\n",
       "      <td>Cadillac Fleetwood</td>\n",
       "      <td>mpg</td>\n",
       "      <td>10.400</td>\n",
       "    </tr>\n",
       "    <tr>\n",
       "      <th>15</th>\n",
       "      <td>Lincoln Continental</td>\n",
       "      <td>mpg</td>\n",
       "      <td>10.400</td>\n",
       "    </tr>\n",
       "    <tr>\n",
       "      <th>16</th>\n",
       "      <td>Chrysler Imperial</td>\n",
       "      <td>mpg</td>\n",
       "      <td>14.700</td>\n",
       "    </tr>\n",
       "    <tr>\n",
       "      <th>17</th>\n",
       "      <td>Fiat 128</td>\n",
       "      <td>mpg</td>\n",
       "      <td>32.400</td>\n",
       "    </tr>\n",
       "    <tr>\n",
       "      <th>18</th>\n",
       "      <td>Honda Civic</td>\n",
       "      <td>mpg</td>\n",
       "      <td>30.400</td>\n",
       "    </tr>\n",
       "    <tr>\n",
       "      <th>19</th>\n",
       "      <td>Toyota Corolla</td>\n",
       "      <td>mpg</td>\n",
       "      <td>33.900</td>\n",
       "    </tr>\n",
       "    <tr>\n",
       "      <th>20</th>\n",
       "      <td>Toyota Corona</td>\n",
       "      <td>mpg</td>\n",
       "      <td>21.500</td>\n",
       "    </tr>\n",
       "    <tr>\n",
       "      <th>21</th>\n",
       "      <td>Dodge Challenger</td>\n",
       "      <td>mpg</td>\n",
       "      <td>15.500</td>\n",
       "    </tr>\n",
       "    <tr>\n",
       "      <th>22</th>\n",
       "      <td>AMC Javelin</td>\n",
       "      <td>mpg</td>\n",
       "      <td>15.200</td>\n",
       "    </tr>\n",
       "    <tr>\n",
       "      <th>23</th>\n",
       "      <td>Camaro Z28</td>\n",
       "      <td>mpg</td>\n",
       "      <td>13.300</td>\n",
       "    </tr>\n",
       "    <tr>\n",
       "      <th>24</th>\n",
       "      <td>Pontiac Firebird</td>\n",
       "      <td>mpg</td>\n",
       "      <td>19.200</td>\n",
       "    </tr>\n",
       "    <tr>\n",
       "      <th>25</th>\n",
       "      <td>Fiat X1-9</td>\n",
       "      <td>mpg</td>\n",
       "      <td>27.300</td>\n",
       "    </tr>\n",
       "    <tr>\n",
       "      <th>26</th>\n",
       "      <td>Porsche 914-2</td>\n",
       "      <td>mpg</td>\n",
       "      <td>26.000</td>\n",
       "    </tr>\n",
       "    <tr>\n",
       "      <th>27</th>\n",
       "      <td>Lotus Europa</td>\n",
       "      <td>mpg</td>\n",
       "      <td>30.400</td>\n",
       "    </tr>\n",
       "    <tr>\n",
       "      <th>28</th>\n",
       "      <td>Ford Pantera L</td>\n",
       "      <td>mpg</td>\n",
       "      <td>15.800</td>\n",
       "    </tr>\n",
       "    <tr>\n",
       "      <th>29</th>\n",
       "      <td>Ferrari Dino</td>\n",
       "      <td>mpg</td>\n",
       "      <td>19.700</td>\n",
       "    </tr>\n",
       "    <tr>\n",
       "      <th>30</th>\n",
       "      <td>Maserati Bora</td>\n",
       "      <td>mpg</td>\n",
       "      <td>15.000</td>\n",
       "    </tr>\n",
       "    <tr>\n",
       "      <th>31</th>\n",
       "      <td>Volvo 142E</td>\n",
       "      <td>mpg</td>\n",
       "      <td>21.400</td>\n",
       "    </tr>\n",
       "    <tr>\n",
       "      <th>32</th>\n",
       "      <td>Mazda RX4</td>\n",
       "      <td>hp</td>\n",
       "      <td>110.000</td>\n",
       "    </tr>\n",
       "    <tr>\n",
       "      <th>33</th>\n",
       "      <td>Mazda RX4 Wag</td>\n",
       "      <td>hp</td>\n",
       "      <td>110.000</td>\n",
       "    </tr>\n",
       "    <tr>\n",
       "      <th>34</th>\n",
       "      <td>Datsun 710</td>\n",
       "      <td>hp</td>\n",
       "      <td>93.000</td>\n",
       "    </tr>\n",
       "    <tr>\n",
       "      <th>35</th>\n",
       "      <td>Hornet 4 Drive</td>\n",
       "      <td>hp</td>\n",
       "      <td>110.000</td>\n",
       "    </tr>\n",
       "    <tr>\n",
       "      <th>36</th>\n",
       "      <td>Hornet Sportabout</td>\n",
       "      <td>hp</td>\n",
       "      <td>175.000</td>\n",
       "    </tr>\n",
       "    <tr>\n",
       "      <th>37</th>\n",
       "      <td>Valiant</td>\n",
       "      <td>hp</td>\n",
       "      <td>105.000</td>\n",
       "    </tr>\n",
       "    <tr>\n",
       "      <th>38</th>\n",
       "      <td>Duster 360</td>\n",
       "      <td>hp</td>\n",
       "      <td>245.000</td>\n",
       "    </tr>\n",
       "    <tr>\n",
       "      <th>39</th>\n",
       "      <td>Merc 240D</td>\n",
       "      <td>hp</td>\n",
       "      <td>62.000</td>\n",
       "    </tr>\n",
       "    <tr>\n",
       "      <th>40</th>\n",
       "      <td>Merc 230</td>\n",
       "      <td>hp</td>\n",
       "      <td>95.000</td>\n",
       "    </tr>\n",
       "    <tr>\n",
       "      <th>41</th>\n",
       "      <td>Merc 280</td>\n",
       "      <td>hp</td>\n",
       "      <td>123.000</td>\n",
       "    </tr>\n",
       "    <tr>\n",
       "      <th>42</th>\n",
       "      <td>Merc 280C</td>\n",
       "      <td>hp</td>\n",
       "      <td>123.000</td>\n",
       "    </tr>\n",
       "    <tr>\n",
       "      <th>43</th>\n",
       "      <td>Merc 450SE</td>\n",
       "      <td>hp</td>\n",
       "      <td>180.000</td>\n",
       "    </tr>\n",
       "    <tr>\n",
       "      <th>44</th>\n",
       "      <td>Merc 450SL</td>\n",
       "      <td>hp</td>\n",
       "      <td>180.000</td>\n",
       "    </tr>\n",
       "    <tr>\n",
       "      <th>45</th>\n",
       "      <td>Merc 450SLC</td>\n",
       "      <td>hp</td>\n",
       "      <td>180.000</td>\n",
       "    </tr>\n",
       "    <tr>\n",
       "      <th>46</th>\n",
       "      <td>Cadillac Fleetwood</td>\n",
       "      <td>hp</td>\n",
       "      <td>205.000</td>\n",
       "    </tr>\n",
       "    <tr>\n",
       "      <th>47</th>\n",
       "      <td>Lincoln Continental</td>\n",
       "      <td>hp</td>\n",
       "      <td>215.000</td>\n",
       "    </tr>\n",
       "    <tr>\n",
       "      <th>48</th>\n",
       "      <td>Chrysler Imperial</td>\n",
       "      <td>hp</td>\n",
       "      <td>230.000</td>\n",
       "    </tr>\n",
       "    <tr>\n",
       "      <th>49</th>\n",
       "      <td>Fiat 128</td>\n",
       "      <td>hp</td>\n",
       "      <td>66.000</td>\n",
       "    </tr>\n",
       "    <tr>\n",
       "      <th>50</th>\n",
       "      <td>Honda Civic</td>\n",
       "      <td>hp</td>\n",
       "      <td>52.000</td>\n",
       "    </tr>\n",
       "    <tr>\n",
       "      <th>51</th>\n",
       "      <td>Toyota Corolla</td>\n",
       "      <td>hp</td>\n",
       "      <td>65.000</td>\n",
       "    </tr>\n",
       "    <tr>\n",
       "      <th>52</th>\n",
       "      <td>Toyota Corona</td>\n",
       "      <td>hp</td>\n",
       "      <td>97.000</td>\n",
       "    </tr>\n",
       "    <tr>\n",
       "      <th>53</th>\n",
       "      <td>Dodge Challenger</td>\n",
       "      <td>hp</td>\n",
       "      <td>150.000</td>\n",
       "    </tr>\n",
       "    <tr>\n",
       "      <th>54</th>\n",
       "      <td>AMC Javelin</td>\n",
       "      <td>hp</td>\n",
       "      <td>150.000</td>\n",
       "    </tr>\n",
       "    <tr>\n",
       "      <th>55</th>\n",
       "      <td>Camaro Z28</td>\n",
       "      <td>hp</td>\n",
       "      <td>245.000</td>\n",
       "    </tr>\n",
       "    <tr>\n",
       "      <th>56</th>\n",
       "      <td>Pontiac Firebird</td>\n",
       "      <td>hp</td>\n",
       "      <td>175.000</td>\n",
       "    </tr>\n",
       "    <tr>\n",
       "      <th>57</th>\n",
       "      <td>Fiat X1-9</td>\n",
       "      <td>hp</td>\n",
       "      <td>66.000</td>\n",
       "    </tr>\n",
       "    <tr>\n",
       "      <th>58</th>\n",
       "      <td>Porsche 914-2</td>\n",
       "      <td>hp</td>\n",
       "      <td>91.000</td>\n",
       "    </tr>\n",
       "    <tr>\n",
       "      <th>59</th>\n",
       "      <td>Lotus Europa</td>\n",
       "      <td>hp</td>\n",
       "      <td>113.000</td>\n",
       "    </tr>\n",
       "    <tr>\n",
       "      <th>60</th>\n",
       "      <td>Ford Pantera L</td>\n",
       "      <td>hp</td>\n",
       "      <td>264.000</td>\n",
       "    </tr>\n",
       "    <tr>\n",
       "      <th>61</th>\n",
       "      <td>Ferrari Dino</td>\n",
       "      <td>hp</td>\n",
       "      <td>175.000</td>\n",
       "    </tr>\n",
       "    <tr>\n",
       "      <th>62</th>\n",
       "      <td>Maserati Bora</td>\n",
       "      <td>hp</td>\n",
       "      <td>335.000</td>\n",
       "    </tr>\n",
       "    <tr>\n",
       "      <th>63</th>\n",
       "      <td>Volvo 142E</td>\n",
       "      <td>hp</td>\n",
       "      <td>109.000</td>\n",
       "    </tr>\n",
       "    <tr>\n",
       "      <th>64</th>\n",
       "      <td>Mazda RX4</td>\n",
       "      <td>wt</td>\n",
       "      <td>2.620</td>\n",
       "    </tr>\n",
       "    <tr>\n",
       "      <th>65</th>\n",
       "      <td>Mazda RX4 Wag</td>\n",
       "      <td>wt</td>\n",
       "      <td>2.875</td>\n",
       "    </tr>\n",
       "    <tr>\n",
       "      <th>66</th>\n",
       "      <td>Datsun 710</td>\n",
       "      <td>wt</td>\n",
       "      <td>2.320</td>\n",
       "    </tr>\n",
       "    <tr>\n",
       "      <th>67</th>\n",
       "      <td>Hornet 4 Drive</td>\n",
       "      <td>wt</td>\n",
       "      <td>3.215</td>\n",
       "    </tr>\n",
       "    <tr>\n",
       "      <th>68</th>\n",
       "      <td>Hornet Sportabout</td>\n",
       "      <td>wt</td>\n",
       "      <td>3.440</td>\n",
       "    </tr>\n",
       "    <tr>\n",
       "      <th>69</th>\n",
       "      <td>Valiant</td>\n",
       "      <td>wt</td>\n",
       "      <td>3.460</td>\n",
       "    </tr>\n",
       "    <tr>\n",
       "      <th>70</th>\n",
       "      <td>Duster 360</td>\n",
       "      <td>wt</td>\n",
       "      <td>3.570</td>\n",
       "    </tr>\n",
       "    <tr>\n",
       "      <th>71</th>\n",
       "      <td>Merc 240D</td>\n",
       "      <td>wt</td>\n",
       "      <td>3.190</td>\n",
       "    </tr>\n",
       "    <tr>\n",
       "      <th>72</th>\n",
       "      <td>Merc 230</td>\n",
       "      <td>wt</td>\n",
       "      <td>3.150</td>\n",
       "    </tr>\n",
       "    <tr>\n",
       "      <th>73</th>\n",
       "      <td>Merc 280</td>\n",
       "      <td>wt</td>\n",
       "      <td>3.440</td>\n",
       "    </tr>\n",
       "    <tr>\n",
       "      <th>74</th>\n",
       "      <td>Merc 280C</td>\n",
       "      <td>wt</td>\n",
       "      <td>3.440</td>\n",
       "    </tr>\n",
       "    <tr>\n",
       "      <th>75</th>\n",
       "      <td>Merc 450SE</td>\n",
       "      <td>wt</td>\n",
       "      <td>4.070</td>\n",
       "    </tr>\n",
       "    <tr>\n",
       "      <th>76</th>\n",
       "      <td>Merc 450SL</td>\n",
       "      <td>wt</td>\n",
       "      <td>3.730</td>\n",
       "    </tr>\n",
       "    <tr>\n",
       "      <th>77</th>\n",
       "      <td>Merc 450SLC</td>\n",
       "      <td>wt</td>\n",
       "      <td>3.780</td>\n",
       "    </tr>\n",
       "    <tr>\n",
       "      <th>78</th>\n",
       "      <td>Cadillac Fleetwood</td>\n",
       "      <td>wt</td>\n",
       "      <td>5.250</td>\n",
       "    </tr>\n",
       "    <tr>\n",
       "      <th>79</th>\n",
       "      <td>Lincoln Continental</td>\n",
       "      <td>wt</td>\n",
       "      <td>5.424</td>\n",
       "    </tr>\n",
       "    <tr>\n",
       "      <th>80</th>\n",
       "      <td>Chrysler Imperial</td>\n",
       "      <td>wt</td>\n",
       "      <td>5.345</td>\n",
       "    </tr>\n",
       "    <tr>\n",
       "      <th>81</th>\n",
       "      <td>Fiat 128</td>\n",
       "      <td>wt</td>\n",
       "      <td>2.200</td>\n",
       "    </tr>\n",
       "    <tr>\n",
       "      <th>82</th>\n",
       "      <td>Honda Civic</td>\n",
       "      <td>wt</td>\n",
       "      <td>1.615</td>\n",
       "    </tr>\n",
       "    <tr>\n",
       "      <th>83</th>\n",
       "      <td>Toyota Corolla</td>\n",
       "      <td>wt</td>\n",
       "      <td>1.835</td>\n",
       "    </tr>\n",
       "    <tr>\n",
       "      <th>84</th>\n",
       "      <td>Toyota Corona</td>\n",
       "      <td>wt</td>\n",
       "      <td>2.465</td>\n",
       "    </tr>\n",
       "    <tr>\n",
       "      <th>85</th>\n",
       "      <td>Dodge Challenger</td>\n",
       "      <td>wt</td>\n",
       "      <td>3.520</td>\n",
       "    </tr>\n",
       "    <tr>\n",
       "      <th>86</th>\n",
       "      <td>AMC Javelin</td>\n",
       "      <td>wt</td>\n",
       "      <td>3.435</td>\n",
       "    </tr>\n",
       "    <tr>\n",
       "      <th>87</th>\n",
       "      <td>Camaro Z28</td>\n",
       "      <td>wt</td>\n",
       "      <td>3.840</td>\n",
       "    </tr>\n",
       "    <tr>\n",
       "      <th>88</th>\n",
       "      <td>Pontiac Firebird</td>\n",
       "      <td>wt</td>\n",
       "      <td>3.845</td>\n",
       "    </tr>\n",
       "    <tr>\n",
       "      <th>89</th>\n",
       "      <td>Fiat X1-9</td>\n",
       "      <td>wt</td>\n",
       "      <td>1.935</td>\n",
       "    </tr>\n",
       "    <tr>\n",
       "      <th>90</th>\n",
       "      <td>Porsche 914-2</td>\n",
       "      <td>wt</td>\n",
       "      <td>2.140</td>\n",
       "    </tr>\n",
       "    <tr>\n",
       "      <th>91</th>\n",
       "      <td>Lotus Europa</td>\n",
       "      <td>wt</td>\n",
       "      <td>1.513</td>\n",
       "    </tr>\n",
       "    <tr>\n",
       "      <th>92</th>\n",
       "      <td>Ford Pantera L</td>\n",
       "      <td>wt</td>\n",
       "      <td>3.170</td>\n",
       "    </tr>\n",
       "    <tr>\n",
       "      <th>93</th>\n",
       "      <td>Ferrari Dino</td>\n",
       "      <td>wt</td>\n",
       "      <td>2.770</td>\n",
       "    </tr>\n",
       "    <tr>\n",
       "      <th>94</th>\n",
       "      <td>Maserati Bora</td>\n",
       "      <td>wt</td>\n",
       "      <td>3.570</td>\n",
       "    </tr>\n",
       "    <tr>\n",
       "      <th>95</th>\n",
       "      <td>Volvo 142E</td>\n",
       "      <td>wt</td>\n",
       "      <td>2.780</td>\n",
       "    </tr>\n",
       "  </tbody>\n",
       "</table>\n",
       "</div>"
      ],
      "text/plain": [
       "                    car metric   mvalue\n",
       "0             Mazda RX4    mpg   21.000\n",
       "1         Mazda RX4 Wag    mpg   21.000\n",
       "2            Datsun 710    mpg   22.800\n",
       "3        Hornet 4 Drive    mpg   21.400\n",
       "4     Hornet Sportabout    mpg   18.700\n",
       "5               Valiant    mpg   18.100\n",
       "6            Duster 360    mpg   14.300\n",
       "7             Merc 240D    mpg   24.400\n",
       "8              Merc 230    mpg   22.800\n",
       "9              Merc 280    mpg   19.200\n",
       "10            Merc 280C    mpg   17.800\n",
       "11           Merc 450SE    mpg   16.400\n",
       "12           Merc 450SL    mpg   17.300\n",
       "13          Merc 450SLC    mpg   15.200\n",
       "14   Cadillac Fleetwood    mpg   10.400\n",
       "15  Lincoln Continental    mpg   10.400\n",
       "16    Chrysler Imperial    mpg   14.700\n",
       "17             Fiat 128    mpg   32.400\n",
       "18          Honda Civic    mpg   30.400\n",
       "19       Toyota Corolla    mpg   33.900\n",
       "20        Toyota Corona    mpg   21.500\n",
       "21     Dodge Challenger    mpg   15.500\n",
       "22          AMC Javelin    mpg   15.200\n",
       "23           Camaro Z28    mpg   13.300\n",
       "24     Pontiac Firebird    mpg   19.200\n",
       "25            Fiat X1-9    mpg   27.300\n",
       "26        Porsche 914-2    mpg   26.000\n",
       "27         Lotus Europa    mpg   30.400\n",
       "28       Ford Pantera L    mpg   15.800\n",
       "29         Ferrari Dino    mpg   19.700\n",
       "30        Maserati Bora    mpg   15.000\n",
       "31           Volvo 142E    mpg   21.400\n",
       "32            Mazda RX4     hp  110.000\n",
       "33        Mazda RX4 Wag     hp  110.000\n",
       "34           Datsun 710     hp   93.000\n",
       "35       Hornet 4 Drive     hp  110.000\n",
       "36    Hornet Sportabout     hp  175.000\n",
       "37              Valiant     hp  105.000\n",
       "38           Duster 360     hp  245.000\n",
       "39            Merc 240D     hp   62.000\n",
       "40             Merc 230     hp   95.000\n",
       "41             Merc 280     hp  123.000\n",
       "42            Merc 280C     hp  123.000\n",
       "43           Merc 450SE     hp  180.000\n",
       "44           Merc 450SL     hp  180.000\n",
       "45          Merc 450SLC     hp  180.000\n",
       "46   Cadillac Fleetwood     hp  205.000\n",
       "47  Lincoln Continental     hp  215.000\n",
       "48    Chrysler Imperial     hp  230.000\n",
       "49             Fiat 128     hp   66.000\n",
       "50          Honda Civic     hp   52.000\n",
       "51       Toyota Corolla     hp   65.000\n",
       "52        Toyota Corona     hp   97.000\n",
       "53     Dodge Challenger     hp  150.000\n",
       "54          AMC Javelin     hp  150.000\n",
       "55           Camaro Z28     hp  245.000\n",
       "56     Pontiac Firebird     hp  175.000\n",
       "57            Fiat X1-9     hp   66.000\n",
       "58        Porsche 914-2     hp   91.000\n",
       "59         Lotus Europa     hp  113.000\n",
       "60       Ford Pantera L     hp  264.000\n",
       "61         Ferrari Dino     hp  175.000\n",
       "62        Maserati Bora     hp  335.000\n",
       "63           Volvo 142E     hp  109.000\n",
       "64            Mazda RX4     wt    2.620\n",
       "65        Mazda RX4 Wag     wt    2.875\n",
       "66           Datsun 710     wt    2.320\n",
       "67       Hornet 4 Drive     wt    3.215\n",
       "68    Hornet Sportabout     wt    3.440\n",
       "69              Valiant     wt    3.460\n",
       "70           Duster 360     wt    3.570\n",
       "71            Merc 240D     wt    3.190\n",
       "72             Merc 230     wt    3.150\n",
       "73             Merc 280     wt    3.440\n",
       "74            Merc 280C     wt    3.440\n",
       "75           Merc 450SE     wt    4.070\n",
       "76           Merc 450SL     wt    3.730\n",
       "77          Merc 450SLC     wt    3.780\n",
       "78   Cadillac Fleetwood     wt    5.250\n",
       "79  Lincoln Continental     wt    5.424\n",
       "80    Chrysler Imperial     wt    5.345\n",
       "81             Fiat 128     wt    2.200\n",
       "82          Honda Civic     wt    1.615\n",
       "83       Toyota Corolla     wt    1.835\n",
       "84        Toyota Corona     wt    2.465\n",
       "85     Dodge Challenger     wt    3.520\n",
       "86          AMC Javelin     wt    3.435\n",
       "87           Camaro Z28     wt    3.840\n",
       "88     Pontiac Firebird     wt    3.845\n",
       "89            Fiat X1-9     wt    1.935\n",
       "90        Porsche 914-2     wt    2.140\n",
       "91         Lotus Europa     wt    1.513\n",
       "92       Ford Pantera L     wt    3.170\n",
       "93         Ferrari Dino     wt    2.770\n",
       "94        Maserati Bora     wt    3.570\n",
       "95           Volvo 142E     wt    2.780"
      ]
     },
     "execution_count": 67,
     "metadata": {},
     "output_type": "execute_result"
    }
   ],
   "source": [
    "df4.melt(id_vars = ['car'], value_vars=['mpg', 'hp','wt'], var_name = 'metric', value_name ='mvalue')"
   ]
  },
  {
   "cell_type": "markdown",
   "id": "89b589d4-71c2-4717-a528-46bab3a861af",
   "metadata": {},
   "source": [
    "### explode\n",
    "\n",
    "DataFrame.explode(column, ignore_index=False)[source]\n",
    "Transform each element of a list-like to a row, replicating index values.\n",
    "https://pandas.pydata.org/pandas-docs/stable/reference/api/pandas.DataFrame.explode.html"
   ]
  },
  {
   "cell_type": "code",
   "execution_count": 76,
   "id": "9b56c080-d6c4-46d3-a4a7-e09f6d269568",
   "metadata": {},
   "outputs": [
    {
     "data": {
      "text/html": [
       "<div>\n",
       "<style scoped>\n",
       "    .dataframe tbody tr th:only-of-type {\n",
       "        vertical-align: middle;\n",
       "    }\n",
       "\n",
       "    .dataframe tbody tr th {\n",
       "        vertical-align: top;\n",
       "    }\n",
       "\n",
       "    .dataframe thead th {\n",
       "        text-align: right;\n",
       "    }\n",
       "</style>\n",
       "<table border=\"1\" class=\"dataframe\">\n",
       "  <thead>\n",
       "    <tr style=\"text-align: right;\">\n",
       "      <th></th>\n",
       "      <th>state</th>\n",
       "      <th>year</th>\n",
       "      <th>course</th>\n",
       "    </tr>\n",
       "  </thead>\n",
       "  <tbody>\n",
       "    <tr>\n",
       "      <th>0</th>\n",
       "      <td>[MP, CG, RJ]</td>\n",
       "      <td>2022</td>\n",
       "      <td>[BBA, MBA, Phd]</td>\n",
       "    </tr>\n",
       "    <tr>\n",
       "      <th>1</th>\n",
       "      <td>None</td>\n",
       "      <td>2022</td>\n",
       "      <td>NaN</td>\n",
       "    </tr>\n",
       "    <tr>\n",
       "      <th>2</th>\n",
       "      <td>[]</td>\n",
       "      <td>2022</td>\n",
       "      <td>[]</td>\n",
       "    </tr>\n",
       "    <tr>\n",
       "      <th>3</th>\n",
       "      <td>[US, IN]</td>\n",
       "      <td>2022</td>\n",
       "      <td>[UG, PG]</td>\n",
       "    </tr>\n",
       "  </tbody>\n",
       "</table>\n",
       "</div>"
      ],
      "text/plain": [
       "          state  year           course\n",
       "0  [MP, CG, RJ]  2022  [BBA, MBA, Phd]\n",
       "1          None  2022              NaN\n",
       "2            []  2022               []\n",
       "3      [US, IN]  2022         [UG, PG]"
      ]
     },
     "execution_count": 76,
     "metadata": {},
     "output_type": "execute_result"
    }
   ],
   "source": [
    "df = pd.DataFrame({'state': [['MP', 'CG', 'RJ'], 'None', [], ['US', 'IN']],\n",
    "                   'year': 2022,\n",
    "                   'course': [['BBA', 'MBA', 'Phd'], np.nan, [], ['UG', 'PG']]})\n",
    "df"
   ]
  },
  {
   "cell_type": "code",
   "execution_count": 77,
   "id": "88b0527d-d6ac-417c-a3c3-814dc14f0ba8",
   "metadata": {},
   "outputs": [
    {
     "data": {
      "text/html": [
       "<div>\n",
       "<style scoped>\n",
       "    .dataframe tbody tr th:only-of-type {\n",
       "        vertical-align: middle;\n",
       "    }\n",
       "\n",
       "    .dataframe tbody tr th {\n",
       "        vertical-align: top;\n",
       "    }\n",
       "\n",
       "    .dataframe thead th {\n",
       "        text-align: right;\n",
       "    }\n",
       "</style>\n",
       "<table border=\"1\" class=\"dataframe\">\n",
       "  <thead>\n",
       "    <tr style=\"text-align: right;\">\n",
       "      <th></th>\n",
       "      <th>state</th>\n",
       "      <th>year</th>\n",
       "      <th>course</th>\n",
       "    </tr>\n",
       "  </thead>\n",
       "  <tbody>\n",
       "    <tr>\n",
       "      <th>0</th>\n",
       "      <td>MP</td>\n",
       "      <td>2022</td>\n",
       "      <td>[BBA, MBA, Phd]</td>\n",
       "    </tr>\n",
       "    <tr>\n",
       "      <th>0</th>\n",
       "      <td>CG</td>\n",
       "      <td>2022</td>\n",
       "      <td>[BBA, MBA, Phd]</td>\n",
       "    </tr>\n",
       "    <tr>\n",
       "      <th>0</th>\n",
       "      <td>RJ</td>\n",
       "      <td>2022</td>\n",
       "      <td>[BBA, MBA, Phd]</td>\n",
       "    </tr>\n",
       "    <tr>\n",
       "      <th>1</th>\n",
       "      <td>None</td>\n",
       "      <td>2022</td>\n",
       "      <td>NaN</td>\n",
       "    </tr>\n",
       "    <tr>\n",
       "      <th>2</th>\n",
       "      <td>NaN</td>\n",
       "      <td>2022</td>\n",
       "      <td>[]</td>\n",
       "    </tr>\n",
       "    <tr>\n",
       "      <th>3</th>\n",
       "      <td>US</td>\n",
       "      <td>2022</td>\n",
       "      <td>[UG, PG]</td>\n",
       "    </tr>\n",
       "    <tr>\n",
       "      <th>3</th>\n",
       "      <td>IN</td>\n",
       "      <td>2022</td>\n",
       "      <td>[UG, PG]</td>\n",
       "    </tr>\n",
       "  </tbody>\n",
       "</table>\n",
       "</div>"
      ],
      "text/plain": [
       "  state  year           course\n",
       "0    MP  2022  [BBA, MBA, Phd]\n",
       "0    CG  2022  [BBA, MBA, Phd]\n",
       "0    RJ  2022  [BBA, MBA, Phd]\n",
       "1  None  2022              NaN\n",
       "2   NaN  2022               []\n",
       "3    US  2022         [UG, PG]\n",
       "3    IN  2022         [UG, PG]"
      ]
     },
     "execution_count": 77,
     "metadata": {},
     "output_type": "execute_result"
    }
   ],
   "source": [
    "df.explode('state')"
   ]
  },
  {
   "cell_type": "code",
   "execution_count": 79,
   "id": "c6a3c583-a070-4a37-a264-45bde54c6ec5",
   "metadata": {},
   "outputs": [
    {
     "data": {
      "text/html": [
       "<div>\n",
       "<style scoped>\n",
       "    .dataframe tbody tr th:only-of-type {\n",
       "        vertical-align: middle;\n",
       "    }\n",
       "\n",
       "    .dataframe tbody tr th {\n",
       "        vertical-align: top;\n",
       "    }\n",
       "\n",
       "    .dataframe thead th {\n",
       "        text-align: right;\n",
       "    }\n",
       "</style>\n",
       "<table border=\"1\" class=\"dataframe\">\n",
       "  <thead>\n",
       "    <tr style=\"text-align: right;\">\n",
       "      <th></th>\n",
       "      <th>state</th>\n",
       "      <th>year</th>\n",
       "      <th>course</th>\n",
       "    </tr>\n",
       "  </thead>\n",
       "  <tbody>\n",
       "    <tr>\n",
       "      <th>0</th>\n",
       "      <td>MP</td>\n",
       "      <td>2022</td>\n",
       "      <td>BBA</td>\n",
       "    </tr>\n",
       "    <tr>\n",
       "      <th>0</th>\n",
       "      <td>CG</td>\n",
       "      <td>2022</td>\n",
       "      <td>MBA</td>\n",
       "    </tr>\n",
       "    <tr>\n",
       "      <th>0</th>\n",
       "      <td>RJ</td>\n",
       "      <td>2022</td>\n",
       "      <td>Phd</td>\n",
       "    </tr>\n",
       "    <tr>\n",
       "      <th>1</th>\n",
       "      <td>None</td>\n",
       "      <td>2022</td>\n",
       "      <td>NaN</td>\n",
       "    </tr>\n",
       "    <tr>\n",
       "      <th>2</th>\n",
       "      <td>NaN</td>\n",
       "      <td>2022</td>\n",
       "      <td>NaN</td>\n",
       "    </tr>\n",
       "    <tr>\n",
       "      <th>3</th>\n",
       "      <td>US</td>\n",
       "      <td>2022</td>\n",
       "      <td>UG</td>\n",
       "    </tr>\n",
       "    <tr>\n",
       "      <th>3</th>\n",
       "      <td>IN</td>\n",
       "      <td>2022</td>\n",
       "      <td>PG</td>\n",
       "    </tr>\n",
       "  </tbody>\n",
       "</table>\n",
       "</div>"
      ],
      "text/plain": [
       "  state  year course\n",
       "0    MP  2022    BBA\n",
       "0    CG  2022    MBA\n",
       "0    RJ  2022    Phd\n",
       "1  None  2022    NaN\n",
       "2   NaN  2022    NaN\n",
       "3    US  2022     UG\n",
       "3    IN  2022     PG"
      ]
     },
     "execution_count": 79,
     "metadata": {},
     "output_type": "execute_result"
    }
   ],
   "source": [
    "df.explode(column=['state','course'])"
   ]
  },
  {
   "cell_type": "markdown",
   "id": "72ea69ce-d51a-42c5-814c-a3c7236483a8",
   "metadata": {},
   "source": [
    "### squeeze\n",
    "DataFrame.squeeze(axis=None)[source]\n",
    "Squeeze 1 dimensional axis objects into scalars.\n",
    "\n",
    "Series or DataFrames with a single element are squeezed to a scalar. DataFrames with a single column or a single row are squeezed to a Series. Otherwise the object is unchanged.\n",
    "\n",
    "This method is most useful when you don’t know if your object is a Series or DataFrame, but you do know it has just a single column. In that case you can safely call squeeze to ensure you have a Series.\n",
    "\n",
    "https://pandas.pydata.org/pandas-docs/stable/reference/api/pandas.DataFrame.squeeze.html"
   ]
  },
  {
   "cell_type": "code",
   "execution_count": 81,
   "id": "c081ae9e-7e5e-43b8-8955-9b872a3b761c",
   "metadata": {},
   "outputs": [
    {
     "data": {
      "text/plain": [
       "Mazda RX4            21.0\n",
       "Mazda RX4 Wag        21.0\n",
       "Datsun 710           22.8\n",
       "Hornet 4 Drive       21.4\n",
       "Hornet Sportabout    18.7\n",
       "Name: mpg, dtype: float64"
      ]
     },
     "execution_count": 81,
     "metadata": {},
     "output_type": "execute_result"
    }
   ],
   "source": [
    "mtcarsDF['mpg'].head()"
   ]
  },
  {
   "cell_type": "code",
   "execution_count": 82,
   "id": "3aa42f17-30af-4c15-ac93-63b94165ebdd",
   "metadata": {},
   "outputs": [
    {
     "data": {
      "text/html": [
       "<div>\n",
       "<style scoped>\n",
       "    .dataframe tbody tr th:only-of-type {\n",
       "        vertical-align: middle;\n",
       "    }\n",
       "\n",
       "    .dataframe tbody tr th {\n",
       "        vertical-align: top;\n",
       "    }\n",
       "\n",
       "    .dataframe thead th {\n",
       "        text-align: right;\n",
       "    }\n",
       "</style>\n",
       "<table border=\"1\" class=\"dataframe\">\n",
       "  <thead>\n",
       "    <tr style=\"text-align: right;\">\n",
       "      <th></th>\n",
       "      <th>mpg</th>\n",
       "    </tr>\n",
       "  </thead>\n",
       "  <tbody>\n",
       "    <tr>\n",
       "      <th>Mazda RX4</th>\n",
       "      <td>21.0</td>\n",
       "    </tr>\n",
       "    <tr>\n",
       "      <th>Mazda RX4 Wag</th>\n",
       "      <td>21.0</td>\n",
       "    </tr>\n",
       "    <tr>\n",
       "      <th>Datsun 710</th>\n",
       "      <td>22.8</td>\n",
       "    </tr>\n",
       "    <tr>\n",
       "      <th>Hornet 4 Drive</th>\n",
       "      <td>21.4</td>\n",
       "    </tr>\n",
       "    <tr>\n",
       "      <th>Hornet Sportabout</th>\n",
       "      <td>18.7</td>\n",
       "    </tr>\n",
       "  </tbody>\n",
       "</table>\n",
       "</div>"
      ],
      "text/plain": [
       "                    mpg\n",
       "Mazda RX4          21.0\n",
       "Mazda RX4 Wag      21.0\n",
       "Datsun 710         22.8\n",
       "Hornet 4 Drive     21.4\n",
       "Hornet Sportabout  18.7"
      ]
     },
     "execution_count": 82,
     "metadata": {},
     "output_type": "execute_result"
    }
   ],
   "source": [
    "mtcarsDF[['mpg']].head()"
   ]
  },
  {
   "cell_type": "code",
   "execution_count": 83,
   "id": "cb140e16-af1b-4be2-96da-b4c9e80de7b2",
   "metadata": {},
   "outputs": [
    {
     "data": {
      "text/plain": [
       "Mazda RX4            21.0\n",
       "Mazda RX4 Wag        21.0\n",
       "Datsun 710           22.8\n",
       "Hornet 4 Drive       21.4\n",
       "Hornet Sportabout    18.7\n",
       "Name: mpg, dtype: float64"
      ]
     },
     "execution_count": 83,
     "metadata": {},
     "output_type": "execute_result"
    }
   ],
   "source": [
    "mtcarsDF[['mpg']].head().squeeze('columns')\n",
    "#this is series, single column"
   ]
  },
  {
   "cell_type": "code",
   "execution_count": 84,
   "id": "ca61ad9a-ec19-4794-8136-b85f3258f7e6",
   "metadata": {},
   "outputs": [
    {
     "data": {
      "text/html": [
       "<div>\n",
       "<style scoped>\n",
       "    .dataframe tbody tr th:only-of-type {\n",
       "        vertical-align: middle;\n",
       "    }\n",
       "\n",
       "    .dataframe tbody tr th {\n",
       "        vertical-align: top;\n",
       "    }\n",
       "\n",
       "    .dataframe thead th {\n",
       "        text-align: right;\n",
       "    }\n",
       "</style>\n",
       "<table border=\"1\" class=\"dataframe\">\n",
       "  <thead>\n",
       "    <tr style=\"text-align: right;\">\n",
       "      <th></th>\n",
       "      <th>mpg</th>\n",
       "    </tr>\n",
       "  </thead>\n",
       "  <tbody>\n",
       "    <tr>\n",
       "      <th>Mazda RX4</th>\n",
       "      <td>21.0</td>\n",
       "    </tr>\n",
       "    <tr>\n",
       "      <th>Mazda RX4 Wag</th>\n",
       "      <td>21.0</td>\n",
       "    </tr>\n",
       "    <tr>\n",
       "      <th>Datsun 710</th>\n",
       "      <td>22.8</td>\n",
       "    </tr>\n",
       "    <tr>\n",
       "      <th>Hornet 4 Drive</th>\n",
       "      <td>21.4</td>\n",
       "    </tr>\n",
       "    <tr>\n",
       "      <th>Hornet Sportabout</th>\n",
       "      <td>18.7</td>\n",
       "    </tr>\n",
       "  </tbody>\n",
       "</table>\n",
       "</div>"
      ],
      "text/plain": [
       "                    mpg\n",
       "Mazda RX4          21.0\n",
       "Mazda RX4 Wag      21.0\n",
       "Datsun 710         22.8\n",
       "Hornet 4 Drive     21.4\n",
       "Hornet Sportabout  18.7"
      ]
     },
     "execution_count": 84,
     "metadata": {},
     "output_type": "execute_result"
    }
   ],
   "source": [
    "mtcarsDF[['mpg']].head().squeeze('rows')\n",
    "#scalar"
   ]
  },
  {
   "cell_type": "markdown",
   "id": "2d78b52a-d419-498f-ae7c-1a0378ce83d9",
   "metadata": {},
   "source": [
    "### to_array"
   ]
  },
  {
   "cell_type": "markdown",
   "id": "4af7cf79-f1c7-45c4-afce-1c48dffd7523",
   "metadata": {},
   "source": [
    "### T"
   ]
  },
  {
   "cell_type": "markdown",
   "id": "b7648f56-2ad6-4e31-966f-b30a608be7cc",
   "metadata": {},
   "source": [
    "### transpose"
   ]
  },
  {
   "cell_type": "markdown",
   "id": "08b92b80-cbd1-4e8e-8b32-84d73e34a944",
   "metadata": {},
   "source": [
    "## Combine/ Join/ Merge"
   ]
  },
  {
   "cell_type": "markdown",
   "id": "18252863-a1ae-4e2a-a0a2-900a6fc4e578",
   "metadata": {},
   "source": [
    "### append"
   ]
  },
  {
   "cell_type": "markdown",
   "id": "abfc9c12-ff8c-471f-9268-1d78a689b394",
   "metadata": {},
   "source": [
    "### assign"
   ]
  },
  {
   "cell_type": "markdown",
   "id": "418aae92-6668-4a0c-b29b-424d7d658a26",
   "metadata": {},
   "source": [
    "### compare"
   ]
  },
  {
   "cell_type": "markdown",
   "id": "89db75ab-0e72-4b2b-a65f-418b6e15cf60",
   "metadata": {},
   "source": [
    "### join"
   ]
  },
  {
   "cell_type": "markdown",
   "id": "d925c208-fa34-460a-a9dc-588e970620cc",
   "metadata": {},
   "source": [
    "### merge"
   ]
  },
  {
   "cell_type": "markdown",
   "id": "324223e8-b69d-40d6-b4fa-3120ed3cc16f",
   "metadata": {},
   "source": [
    "### update"
   ]
  },
  {
   "cell_type": "markdown",
   "id": "7993c1e6-0d5b-41e0-b55b-9d997a51bc8e",
   "metadata": {},
   "source": [
    "### asfreq\n",
    "DataFrame.asfreq(freq, method=None, how=None, normalize=False, fill_value=None)[source]\n",
    "Convert time series to specified frequency.\n",
    "\n",
    "Returns the original data conformed to a new index with the specified frequency.\n",
    "\n",
    "If the index of this DataFrame is a PeriodIndex, the new index is the result of transforming the original index with PeriodIndex.asfreq (so the original index will map one-to-one to the new index).\n",
    "\n",
    "Otherwise, the new index will be equivalent to pd.date_range(start, end, freq=freq) where start and end are, respectively, the first and last entries in the original index (see pandas.date_range()). The values corresponding to any timesteps in the new index which were not present in the original index will be null (NaN), unless a method for filling such unknowns is provided (see the method parameter below).\n",
    "\n",
    "The resample() method is more appropriate if an operation on each group of timesteps (such as an aggregate) is necessary to represent the data at the new frequency.\n",
    "https://pandas.pydata.org/pandas-docs/stable/reference/api/pandas.DataFrame.asfreq.html"
   ]
  },
  {
   "cell_type": "code",
   "execution_count": 86,
   "id": "b8aa0f12-69d1-4934-b1ab-fb8ac60233fd",
   "metadata": {},
   "outputs": [
    {
     "data": {
      "text/html": [
       "<div>\n",
       "<style scoped>\n",
       "    .dataframe tbody tr th:only-of-type {\n",
       "        vertical-align: middle;\n",
       "    }\n",
       "\n",
       "    .dataframe tbody tr th {\n",
       "        vertical-align: top;\n",
       "    }\n",
       "\n",
       "    .dataframe thead th {\n",
       "        text-align: right;\n",
       "    }\n",
       "</style>\n",
       "<table border=\"1\" class=\"dataframe\">\n",
       "  <thead>\n",
       "    <tr style=\"text-align: right;\">\n",
       "      <th></th>\n",
       "      <th>s</th>\n",
       "    </tr>\n",
       "  </thead>\n",
       "  <tbody>\n",
       "    <tr>\n",
       "      <th>2022-01-11 00:00:00</th>\n",
       "      <td>0.0</td>\n",
       "    </tr>\n",
       "    <tr>\n",
       "      <th>2022-01-11 00:01:00</th>\n",
       "      <td>NaN</td>\n",
       "    </tr>\n",
       "    <tr>\n",
       "      <th>2022-01-11 00:02:00</th>\n",
       "      <td>2.0</td>\n",
       "    </tr>\n",
       "    <tr>\n",
       "      <th>2022-01-11 00:03:00</th>\n",
       "      <td>3.0</td>\n",
       "    </tr>\n",
       "  </tbody>\n",
       "</table>\n",
       "</div>"
      ],
      "text/plain": [
       "                       s\n",
       "2022-01-11 00:00:00  0.0\n",
       "2022-01-11 00:01:00  NaN\n",
       "2022-01-11 00:02:00  2.0\n",
       "2022-01-11 00:03:00  3.0"
      ]
     },
     "execution_count": 86,
     "metadata": {},
     "output_type": "execute_result"
    }
   ],
   "source": [
    "index = pd.date_range('1/11/2022', periods=4, freq='T')\n",
    "series = pd.Series([0.0, None, 2.0, 3.0], index=index)\n",
    "df6 = pd.DataFrame({'s': series})\n",
    "df6.head()"
   ]
  },
  {
   "cell_type": "code",
   "execution_count": 91,
   "id": "71c98500-5b66-42ff-84f8-a05c243a9d97",
   "metadata": {},
   "outputs": [
    {
     "data": {
      "text/html": [
       "<div>\n",
       "<style scoped>\n",
       "    .dataframe tbody tr th:only-of-type {\n",
       "        vertical-align: middle;\n",
       "    }\n",
       "\n",
       "    .dataframe tbody tr th {\n",
       "        vertical-align: top;\n",
       "    }\n",
       "\n",
       "    .dataframe thead th {\n",
       "        text-align: right;\n",
       "    }\n",
       "</style>\n",
       "<table border=\"1\" class=\"dataframe\">\n",
       "  <thead>\n",
       "    <tr style=\"text-align: right;\">\n",
       "      <th></th>\n",
       "      <th>s</th>\n",
       "    </tr>\n",
       "  </thead>\n",
       "  <tbody>\n",
       "    <tr>\n",
       "      <th>2022-01-11 00:00:00</th>\n",
       "      <td>0.0</td>\n",
       "    </tr>\n",
       "    <tr>\n",
       "      <th>2022-01-11 00:00:30</th>\n",
       "      <td>NaN</td>\n",
       "    </tr>\n",
       "    <tr>\n",
       "      <th>2022-01-11 00:01:00</th>\n",
       "      <td>NaN</td>\n",
       "    </tr>\n",
       "    <tr>\n",
       "      <th>2022-01-11 00:01:30</th>\n",
       "      <td>NaN</td>\n",
       "    </tr>\n",
       "    <tr>\n",
       "      <th>2022-01-11 00:02:00</th>\n",
       "      <td>2.0</td>\n",
       "    </tr>\n",
       "    <tr>\n",
       "      <th>2022-01-11 00:02:30</th>\n",
       "      <td>NaN</td>\n",
       "    </tr>\n",
       "    <tr>\n",
       "      <th>2022-01-11 00:03:00</th>\n",
       "      <td>3.0</td>\n",
       "    </tr>\n",
       "  </tbody>\n",
       "</table>\n",
       "</div>"
      ],
      "text/plain": [
       "                       s\n",
       "2022-01-11 00:00:00  0.0\n",
       "2022-01-11 00:00:30  NaN\n",
       "2022-01-11 00:01:00  NaN\n",
       "2022-01-11 00:01:30  NaN\n",
       "2022-01-11 00:02:00  2.0\n",
       "2022-01-11 00:02:30  NaN\n",
       "2022-01-11 00:03:00  3.0"
      ]
     },
     "execution_count": 91,
     "metadata": {},
     "output_type": "execute_result"
    }
   ],
   "source": [
    "df6.asfreq(freq='30S')\n",
    "#Upsample the series into 30 second bins."
   ]
  },
  {
   "cell_type": "code",
   "execution_count": 92,
   "id": "9122e28e-ec5e-49e8-81b0-266422a5d1ee",
   "metadata": {},
   "outputs": [
    {
     "data": {
      "text/html": [
       "<div>\n",
       "<style scoped>\n",
       "    .dataframe tbody tr th:only-of-type {\n",
       "        vertical-align: middle;\n",
       "    }\n",
       "\n",
       "    .dataframe tbody tr th {\n",
       "        vertical-align: top;\n",
       "    }\n",
       "\n",
       "    .dataframe thead th {\n",
       "        text-align: right;\n",
       "    }\n",
       "</style>\n",
       "<table border=\"1\" class=\"dataframe\">\n",
       "  <thead>\n",
       "    <tr style=\"text-align: right;\">\n",
       "      <th></th>\n",
       "      <th>s</th>\n",
       "    </tr>\n",
       "  </thead>\n",
       "  <tbody>\n",
       "    <tr>\n",
       "      <th>2022-01-11 00:00:00</th>\n",
       "      <td>0.0</td>\n",
       "    </tr>\n",
       "    <tr>\n",
       "      <th>2022-01-11 00:00:30</th>\n",
       "      <td>9.0</td>\n",
       "    </tr>\n",
       "    <tr>\n",
       "      <th>2022-01-11 00:01:00</th>\n",
       "      <td>NaN</td>\n",
       "    </tr>\n",
       "    <tr>\n",
       "      <th>2022-01-11 00:01:30</th>\n",
       "      <td>9.0</td>\n",
       "    </tr>\n",
       "    <tr>\n",
       "      <th>2022-01-11 00:02:00</th>\n",
       "      <td>2.0</td>\n",
       "    </tr>\n",
       "    <tr>\n",
       "      <th>2022-01-11 00:02:30</th>\n",
       "      <td>9.0</td>\n",
       "    </tr>\n",
       "    <tr>\n",
       "      <th>2022-01-11 00:03:00</th>\n",
       "      <td>3.0</td>\n",
       "    </tr>\n",
       "  </tbody>\n",
       "</table>\n",
       "</div>"
      ],
      "text/plain": [
       "                       s\n",
       "2022-01-11 00:00:00  0.0\n",
       "2022-01-11 00:00:30  9.0\n",
       "2022-01-11 00:01:00  NaN\n",
       "2022-01-11 00:01:30  9.0\n",
       "2022-01-11 00:02:00  2.0\n",
       "2022-01-11 00:02:30  9.0\n",
       "2022-01-11 00:03:00  3.0"
      ]
     },
     "execution_count": 92,
     "metadata": {},
     "output_type": "execute_result"
    }
   ],
   "source": [
    "df6.asfreq(freq='30S', fill_value=9.0)"
   ]
  },
  {
   "cell_type": "markdown",
   "id": "163123c5-81e4-4870-b5d4-34415c7d245b",
   "metadata": {},
   "source": [
    "### asof\n",
    "DataFrame.asof(where, subset=None)[source]\n",
    "Return the last row(s) without any NaNs before where.\n",
    "\n",
    "The last row (for each element in where, if list) without any NaN is taken. In case of a DataFrame, the last row without NaN considering only the subset of columns (if not None)\n",
    "\n",
    "If there is no good value, NaN is returned for a Series or a Series of NaN values for a DataFrame\n",
    "\n",
    "https://pandas.pydata.org/pandas-docs/stable/reference/api/pandas.DataFrame.asof.html"
   ]
  },
  {
   "cell_type": "code",
   "execution_count": 94,
   "id": "75b2f535-3d1a-4723-aeda-950d4043fe74",
   "metadata": {},
   "outputs": [],
   "source": [
    "#not understood"
   ]
  },
  {
   "cell_type": "markdown",
   "id": "28d6b8ac-ab81-4057-9312-435c59e2e004",
   "metadata": {},
   "source": [
    "### shift\n",
    "Series.shift(periods=1, freq=None, axis=0, fill_value=None)[source]\n",
    "https://pandas.pydata.org/pandas-docs/stable/reference/api/pandas.Series.shift.html\n",
    "Shift index by desired number of periods with an optional time freq.\n",
    "\n",
    "When freq is not passed, shift the index without realigning the data. If freq is passed (in this case, the index must be date or datetime, or it will raise a NotImplementedError), the index will be increased using the periods and the freq. freq can be inferred when specified as “infer” as long as either freq or inferred_freq attribute is set in the index"
   ]
  },
  {
   "cell_type": "code",
   "execution_count": null,
   "id": "833d816c-94b7-4ff0-bab5-f1b3795bc138",
   "metadata": {},
   "outputs": [],
   "source": [
    "mtcarsDF.shift(periods=3, axis=0).head()"
   ]
  },
  {
   "cell_type": "code",
   "execution_count": null,
   "id": "c3c0021a-d256-47b4-b015-2c1d0538d583",
   "metadata": {},
   "outputs": [],
   "source": [
    "mtcarsDF.shift(periods=3, axis=1).head()"
   ]
  },
  {
   "cell_type": "code",
   "execution_count": null,
   "id": "561f8851-e188-4eea-b290-8f9ef45fdb01",
   "metadata": {},
   "outputs": [],
   "source": [
    "mtcarsDF.shift(periods=3, axis=0, fill_value=100).head()"
   ]
  },
  {
   "cell_type": "markdown",
   "id": "3ff564c6-31e5-4079-96c8-56e88d600181",
   "metadata": {},
   "source": [
    "### slice_shift\n",
    "Depreciated in favour of shift"
   ]
  },
  {
   "cell_type": "markdown",
   "id": "08577fa6-8254-41d9-86c4-60cc0c12c6f1",
   "metadata": {},
   "source": [
    "### tshift"
   ]
  },
  {
   "cell_type": "markdown",
   "id": "95d0d47e-b474-4e0f-8177-76d88210170b",
   "metadata": {},
   "source": [
    "### first_valid_index"
   ]
  },
  {
   "cell_type": "markdown",
   "id": "e41b6319-fa64-49c1-a190-93853a790fd4",
   "metadata": {},
   "source": [
    "### last_valid_index"
   ]
  },
  {
   "cell_type": "markdown",
   "id": "2f621690-d1e4-4ccc-b144-21567ef97879",
   "metadata": {},
   "source": [
    "### resample"
   ]
  },
  {
   "cell_type": "markdown",
   "id": "701e321f-7ecc-41d8-82e7-de91756979b2",
   "metadata": {},
   "source": [
    "### to_period"
   ]
  },
  {
   "cell_type": "markdown",
   "id": "95a3fa62-98c3-4a4e-a818-48b39ba1b045",
   "metadata": {},
   "source": [
    "### to_timestamp"
   ]
  },
  {
   "cell_type": "markdown",
   "id": "005f2a79-5183-480c-a699-245688cd645d",
   "metadata": {},
   "source": [
    "### tz_convert"
   ]
  },
  {
   "cell_type": "markdown",
   "id": "ae04d57a-5d46-4980-a575-d22518e17a99",
   "metadata": {},
   "source": [
    "### tz_localize"
   ]
  },
  {
   "cell_type": "markdown",
   "id": "c4f9456e-5f1a-4cd1-bfaa-c830762a59e5",
   "metadata": {},
   "source": [
    "## Plotting"
   ]
  },
  {
   "cell_type": "markdown",
   "id": "0802d8e1-1776-4f93-bb06-7dc2bc8d6666",
   "metadata": {},
   "source": [
    "### Flags"
   ]
  },
  {
   "cell_type": "markdown",
   "id": "749f1513-8822-43c6-a0aa-79000eb979af",
   "metadata": {},
   "source": [
    "### attrs"
   ]
  },
  {
   "cell_type": "markdown",
   "id": "2d1f7cc4-9604-4325-abb7-6862547734fe",
   "metadata": {},
   "source": [
    "### plot\n",
    "DataFrame.plot(*args, **kwargs)[source]\n",
    "Make plots of Series or DataFrame.\n",
    "\n",
    "Uses the backend specified by the option plotting.backend. By default, matplotlib is used.\n",
    "https://pandas.pydata.org/pandas-docs/stable/reference/api/pandas.DataFrame.plot.html"
   ]
  },
  {
   "cell_type": "markdown",
   "id": "4fd75fbd-1586-43ea-af40-798e5d0a47bf",
   "metadata": {},
   "source": [
    "dataSeries or DataFrame : The object for which the method is called.\n",
    "xlabel or position, default None : Only used if data is a DataFrame.\n",
    "ylabel, position or list of label, positions, default None\n",
    "Allows plotting of one column versus another. Only used if data is a DataFrame.\n",
    "kindstr : The kind of plot to produce:\n",
    "‘line’ : line plot (default)\n",
    "‘bar’ : vertical bar plot\n",
    "‘barh’ : horizontal bar plot\n",
    "‘hist’ : histogram\n",
    "‘box’ : boxplot\n",
    "‘kde’ : Kernel Density Estimation plot\n",
    "‘density’ : same as ‘kde’\n",
    "‘area’ : area plot\n",
    "‘pie’ : pie plot\n",
    "‘scatter’ : scatter plot (DataFrame only)\n",
    "‘hexbin’ : hexbin plot (DataFrame only)\n",
    "axmatplotlib axes object, default None\n",
    "An axes of the current figure.\n",
    "subplotsbool or sequence of iterables, default False Whether to group columns into subplots:\n",
    "False : No subplots will be used\n",
    "True : Make separate subplots for each column.\n",
    "sequence of iterables of column labels: Create a subplot for each group of columns. For example [(‘a’, ‘c’), (‘b’, ‘d’)] will create 2 subplots: one with columns ‘a’ and ‘c’, and one with columns ‘b’ and ‘d’. Remaining columns that aren’t specified will be plotted in additional subplots (one per column). .. versionadded:: 1.5.0\n",
    "sharexbool, default True if ax is None else False\n",
    "In case subplots=True, share x axis and set some x axis labels to invisible; defaults to True if ax is None otherwise False if an ax is passed in; Be aware, that passing in both an ax and sharex=True will alter all x axis labels for all axis in a figure.\n",
    "shareybool, default False :In case subplots=True, share y axis and set some y axis labels to invisible.\n",
    "layouttuple, optional : (rows, columns) for the layout of subplots.\n",
    "figsizea tuple (width, height) in inches : Size of a figure object.\n",
    "use_indexbool, default True : Use index as ticks for x axis.\n",
    "titlestr or list :Title to use for the plot. If a string is passed, print the string at the top of the figure. If a list is passed and subplots is True, print each item in the list above the corresponding subplot.\n",
    "gridbool, default None (matlab style default)\n",
    "Axis grid lines.\n",
    "legendbool or {‘reverse’} : Place legend on axis subplots.\n",
    "stylelist or dict : The matplotlib line style per column.\n",
    "logxbool or ‘sym’, default False : Use log scaling or symlog scaling on x axis. .. versionchanged:: 0.25.0\n",
    "logybool or ‘sym’ default False : Use log scaling or symlog scaling on y axis. .. versionchanged:: 0.25.0\n",
    "loglogbool or ‘sym’, default False :Use log scaling or symlog scaling on both x and y axes. .. versionchanged:: 0.25.0\n",
    "xtickssequence : Values to use for the xticks.\n",
    "ytickssequence :Values to use for the yticks.\n",
    "xlim2-tuple/list : Set the x limits of the current axes.\n",
    "ylim2-tuple/list : Set the y limits of the current axes.\n",
    "xlabellabel, optional : Name to use for the xlabel on x-axis. Default uses index name as xlabel, or the x-column name for planar plots.\n",
    "rotint, default None\n",
    "Rotation for ticks (xticks for vertical, yticks for horizontal plots).\n",
    "fontsizeint, default None : Font size for xticks and yticks.\n",
    "colormapstr or matplotlib colormap object, default None : Colormap to select colors from. If string, load colormap with that name from matplotlib.\n",
    "colorbarbool, optional : If True, plot colorbar (only relevant for ‘scatter’ and ‘hexbin’ plots).\n",
    "positionfloat\n",
    "Specify relative alignments for bar plot layout. From 0 (left/bottom-end) to 1 (right/top-end). Default is 0.5 (center).\n",
    "tablebool, Series or DataFrame, default False : If True, draw a table using the data in the DataFrame and the data will be transposed to meet matplotlib’s default layout. If a Series or DataFrame is passed, use passed data to draw a table.\n",
    "yerrDataFrame, Series, array-like, dict and str\n",
    "See Plotting with Error Bars for detail.\n",
    "xerrDataFrame, Series, array-like, dict and str\n",
    "Equivalent to yerr.\n",
    "stackedbool, default False in line and bar plots, and True in area plot\n",
    "If True, create stacked plot.\n",
    "sort_columnsbool, default False\n",
    "Sort column names to determine plot ordering.\n",
    "Deprecated since version 1.5.0: The sort_columns arguments is deprecated and will be removed in a future version.\n",
    "secondary_ybool or sequence, default False\n",
    "Whether to plot on the secondary y-axis if a list/tuple, which columns to plot on secondary y-axis.\n",
    "mark_rightbool, default True\n",
    "When using a secondary_y axis, automatically mark the column labels with “(right)” in the legend.\n",
    "include_boolbool, default is False\n",
    "If True, boolean values can be plotted.\n",
    "backendstr, default None\n",
    "Backend to use instead of the backend specified in the option plotting.backend. For instance, ‘matplotlib’. Alternatively, to specify the plotting.backend for the whole session, set pd.options.plotting.backend."
   ]
  },
  {
   "cell_type": "code",
   "execution_count": 41,
   "id": "facf0972-4928-44e8-916d-bf418721d14b",
   "metadata": {},
   "outputs": [
    {
     "data": {
      "image/png": "[encoded data removed]",
      "text/plain": [
       "<Figure size 640x480 with 1 Axes>"
      ]
     },
     "metadata": {},
     "output_type": "display_data"
    }
   ],
   "source": [
    "mtcarsDF.plot(kind='hist', column='mpg')\n",
    "plt.show();"
   ]
  },
  {
   "cell_type": "markdown",
   "id": "6ace53fe-53d9-4e06-85c5-cf865d27a146",
   "metadata": {},
   "source": [
    "### plot.area"
   ]
  },
  {
   "cell_type": "markdown",
   "id": "f657663e-8751-4a31-be07-a26c2e24754c",
   "metadata": {},
   "source": [
    "### plot.bar\n",
    "DataFrame.plot.bar(x=None, y=None, **kwargs) : Vertical bar plot.\n",
    "\n",
    "A bar plot is a plot that presents categorical data with rectangular bars with lengths proportional to the values that they represent. A bar plot shows comparisons among discrete categories. One axis of the plot shows the specific categories being compared, and the other axis represents a measured value.\n",
    "\n",
    "Parameters\n",
    "xlabel or position, optional : Allows plotting of one column versus another. If not specified, the index of the DataFrame is used.\n",
    "\n",
    "ylabel or position, optional : Allows plotting of one column versus another. If not specified, all numerical columns are used.\n",
    "\n",
    "colorstr, array-like, or dict, optional : The color for each of the DataFrame’s columns. Possible values are:\n",
    "A single color string referred to by name, RGB or RGBA code, for instance ‘red’ or ‘#a98d19’.\n",
    "\n",
    "A sequence of color strings referred to by name, RGB or RGBA code, which will be used for each column recursively. For instance [‘green’,’yellow’] each column’s bar will be filled in green or yellow, alternatively. If there is only a single column to be plotted, then only the first color from the color list will be used.\n",
    "\n",
    "A dict of the form {column namecolor}, so that each column will be colored accordingly. For example, if your columns are called a and b, then passing {‘a’: ‘green’, ‘b’: ‘red’} will color bars for column a in green and bars for column b in red."
   ]
  },
  {
   "cell_type": "code",
   "execution_count": 54,
   "id": "8102b316-b836-4a0c-9c55-e4496256a4da",
   "metadata": {},
   "outputs": [
    {
     "data": {
      "image/png": "[encoded data removed]",
      "text/plain": [
       "<Figure size 640x480 with 1 Axes>"
      ]
     },
     "metadata": {},
     "output_type": "display_data"
    }
   ],
   "source": [
    "df = pd.DataFrame({'lab':['A', 'B', 'C'], 'val':[10, 30, 20]})\n",
    "ax = df.plot.bar(x='lab', y='val', rot=0)\n",
    "plt.show();"
   ]
  },
  {
   "cell_type": "code",
   "execution_count": 75,
   "id": "73ef72ab-9273-4661-9dc7-2db66f938897",
   "metadata": {},
   "outputs": [],
   "source": [
    "#mtcarsDF.groupby(['gear'], as_index=False).size().plot.bar(x='gear', y='size', color={'3':'r', '4':'g', '5':'y'})\n",
    "# cannot be done this way\n",
    "#mtcarsDF.groupby(['gear']).size()\n",
    "#df = pd.DataFrame({'3':[15], '4':[12], '5':[5]})\n",
    "#df\n",
    "#mtcarsDF.groupby(['gear']).size().T.plot.bar(x='gear', y='size', color={'3':'r', '4':'g', '5':'y'})\n",
    "#plt.show();"
   ]
  },
  {
   "cell_type": "code",
   "execution_count": 76,
   "id": "1b6ccd2a-1fb6-4357-b2dc-1815a505ed8d",
   "metadata": {},
   "outputs": [],
   "source": [
    "#df.plot.bar(x='', y='0', color={'3':'r', '4':'g', '5':'y'})"
   ]
  },
  {
   "cell_type": "code",
   "execution_count": null,
   "id": "f733b4ce-da0d-406c-bec3-0003bdec9ee1",
   "metadata": {},
   "outputs": [],
   "source": []
  },
  {
   "cell_type": "markdown",
   "id": "6355b3aa-5d05-4854-aa86-dd50fc96e294",
   "metadata": {},
   "source": [
    "### plot.barh\n",
    "DataFrame.plot.barh(x=None, y=None, **kwargs)[source]\n",
    "Make a horizontal bar plot.\n",
    "\n",
    "A horizontal bar plot is a plot that presents quantitative data with rectangular bars with lengths proportional to the values that they represent. A bar plot shows comparisons among discrete categories. One axis of the plot shows the specific categories being compared, and the other axis represents a measured value.\n",
    "https://pandas.pydata.org/pandas-docs/stable/reference/api/pandas.DataFrame.plot.barh.html"
   ]
  },
  {
   "cell_type": "code",
   "execution_count": 15,
   "id": "844efde4-9ceb-4b4a-b20f-78ad2b1c8502",
   "metadata": {},
   "outputs": [
    {
     "data": {
      "text/html": [
       "<div>\n",
       "<style scoped>\n",
       "    .dataframe tbody tr th:only-of-type {\n",
       "        vertical-align: middle;\n",
       "    }\n",
       "\n",
       "    .dataframe tbody tr th {\n",
       "        vertical-align: top;\n",
       "    }\n",
       "\n",
       "    .dataframe thead th {\n",
       "        text-align: right;\n",
       "    }\n",
       "</style>\n",
       "<table border=\"1\" class=\"dataframe\">\n",
       "  <thead>\n",
       "    <tr style=\"text-align: right;\">\n",
       "      <th></th>\n",
       "      <th>lab</th>\n",
       "      <th>val</th>\n",
       "    </tr>\n",
       "  </thead>\n",
       "  <tbody>\n",
       "    <tr>\n",
       "      <th>0</th>\n",
       "      <td>A</td>\n",
       "      <td>10</td>\n",
       "    </tr>\n",
       "    <tr>\n",
       "      <th>1</th>\n",
       "      <td>B</td>\n",
       "      <td>30</td>\n",
       "    </tr>\n",
       "    <tr>\n",
       "      <th>2</th>\n",
       "      <td>C</td>\n",
       "      <td>20</td>\n",
       "    </tr>\n",
       "  </tbody>\n",
       "</table>\n",
       "</div>"
      ],
      "text/plain": [
       "  lab  val\n",
       "0   A   10\n",
       "1   B   30\n",
       "2   C   20"
      ]
     },
     "execution_count": 15,
     "metadata": {},
     "output_type": "execute_result"
    }
   ],
   "source": [
    "df = pd.DataFrame({'lab': ['A', 'B', 'C'], 'val': [10, 30, 20]})\n",
    "df"
   ]
  },
  {
   "cell_type": "code",
   "execution_count": 18,
   "id": "b4d4de13-1416-4820-a6a1-4b10b8412b36",
   "metadata": {},
   "outputs": [
    {
     "data": {
      "image/png": "[encoded data removed]",
      "text/plain": [
       "<Figure size 640x480 with 1 Axes>"
      ]
     },
     "metadata": {},
     "output_type": "display_data"
    }
   ],
   "source": [
    "ax = df.plot.barh(x='lab', y='val')\n",
    "plt.show();"
   ]
  },
  {
   "cell_type": "code",
   "execution_count": 19,
   "id": "94d8dfef-35a2-42e6-8cff-ea0767d80bec",
   "metadata": {},
   "outputs": [
    {
     "data": {
      "image/png": "[encoded data removed]",
      "text/plain": [
       "<Figure size 640x480 with 1 Axes>"
      ]
     },
     "metadata": {},
     "output_type": "display_data"
    }
   ],
   "source": [
    "ax = mtcarsDF.gear.value_counts().plot.barh()\n",
    "plt.show();"
   ]
  },
  {
   "cell_type": "code",
   "execution_count": null,
   "id": "29103c72-fddc-4054-885d-2bda5afecc8f",
   "metadata": {},
   "outputs": [],
   "source": []
  },
  {
   "cell_type": "code",
   "execution_count": 22,
   "id": "688aa4df-ecb7-4786-a89f-c20f4ccdb335",
   "metadata": {},
   "outputs": [
    {
     "data": {
      "text/html": [
       "<div>\n",
       "<style scoped>\n",
       "    .dataframe tbody tr th:only-of-type {\n",
       "        vertical-align: middle;\n",
       "    }\n",
       "\n",
       "    .dataframe tbody tr th {\n",
       "        vertical-align: top;\n",
       "    }\n",
       "\n",
       "    .dataframe thead th {\n",
       "        text-align: right;\n",
       "    }\n",
       "</style>\n",
       "<table border=\"1\" class=\"dataframe\">\n",
       "  <thead>\n",
       "    <tr style=\"text-align: right;\">\n",
       "      <th></th>\n",
       "      <th>gear</th>\n",
       "      <th>am</th>\n",
       "      <th>size</th>\n",
       "    </tr>\n",
       "  </thead>\n",
       "  <tbody>\n",
       "    <tr>\n",
       "      <th>0</th>\n",
       "      <td>3</td>\n",
       "      <td>0</td>\n",
       "      <td>15</td>\n",
       "    </tr>\n",
       "    <tr>\n",
       "      <th>1</th>\n",
       "      <td>4</td>\n",
       "      <td>0</td>\n",
       "      <td>4</td>\n",
       "    </tr>\n",
       "    <tr>\n",
       "      <th>2</th>\n",
       "      <td>4</td>\n",
       "      <td>1</td>\n",
       "      <td>8</td>\n",
       "    </tr>\n",
       "    <tr>\n",
       "      <th>3</th>\n",
       "      <td>5</td>\n",
       "      <td>1</td>\n",
       "      <td>5</td>\n",
       "    </tr>\n",
       "  </tbody>\n",
       "</table>\n",
       "</div>"
      ],
      "text/plain": [
       "   gear  am  size\n",
       "0     3   0    15\n",
       "1     4   0     4\n",
       "2     4   1     8\n",
       "3     5   1     5"
      ]
     },
     "execution_count": 22,
     "metadata": {},
     "output_type": "execute_result"
    }
   ],
   "source": [
    "mtcarsDF.groupby(['gear','am'], as_index=False).size()"
   ]
  },
  {
   "cell_type": "code",
   "execution_count": 29,
   "id": "d0309ce1-dfb0-4108-9915-a85e20893def",
   "metadata": {},
   "outputs": [
    {
     "data": {
      "image/png": "[encoded data removed]",
      "text/plain": [
       "<Figure size 640x480 with 1 Axes>"
      ]
     },
     "metadata": {},
     "output_type": "display_data"
    }
   ],
   "source": [
    "ax = mtcarsDF.groupby(['gear'], as_index=False).size().plot.barh(x='gear', y='size', color=['r','g','y'])\n",
    "plt.show();"
   ]
  },
  {
   "cell_type": "code",
   "execution_count": 33,
   "id": "6ee3b653-5a8b-43e8-8853-ccc0d6db28fe",
   "metadata": {},
   "outputs": [
    {
     "data": {
      "image/png": "[encoded data removed]",
      "text/plain": [
       "<Figure size 640x480 with 1 Axes>"
      ]
     },
     "metadata": {},
     "output_type": "display_data"
    }
   ],
   "source": [
    "ax = mtcarsDF.groupby(['gear']).size().plot.barh(stacked=True)\n",
    "plt.show();"
   ]
  },
  {
   "cell_type": "markdown",
   "id": "ba4a2c2a-e09e-41ae-a18b-00574ae43ae7",
   "metadata": {},
   "source": [
    "### plot.box\n",
    "DataFrame.plot.box(by=None, **kwargs)[source]\n",
    "Make a box plot of the DataFrame columns."
   ]
  },
  {
   "cell_type": "code",
   "execution_count": 34,
   "id": "20a2466b-0280-42e9-9778-c19fe46a736d",
   "metadata": {},
   "outputs": [
    {
     "data": {
      "text/html": [
       "<div>\n",
       "<style scoped>\n",
       "    .dataframe tbody tr th:only-of-type {\n",
       "        vertical-align: middle;\n",
       "    }\n",
       "\n",
       "    .dataframe tbody tr th {\n",
       "        vertical-align: top;\n",
       "    }\n",
       "\n",
       "    .dataframe thead th {\n",
       "        text-align: right;\n",
       "    }\n",
       "</style>\n",
       "<table border=\"1\" class=\"dataframe\">\n",
       "  <thead>\n",
       "    <tr style=\"text-align: right;\">\n",
       "      <th></th>\n",
       "      <th>A</th>\n",
       "      <th>B</th>\n",
       "      <th>C</th>\n",
       "      <th>D</th>\n",
       "    </tr>\n",
       "  </thead>\n",
       "  <tbody>\n",
       "    <tr>\n",
       "      <th>0</th>\n",
       "      <td>-0.684128</td>\n",
       "      <td>0.599962</td>\n",
       "      <td>-0.217199</td>\n",
       "      <td>0.331527</td>\n",
       "    </tr>\n",
       "    <tr>\n",
       "      <th>1</th>\n",
       "      <td>-0.383365</td>\n",
       "      <td>-0.781816</td>\n",
       "      <td>0.266237</td>\n",
       "      <td>0.279428</td>\n",
       "    </tr>\n",
       "    <tr>\n",
       "      <th>2</th>\n",
       "      <td>-1.219626</td>\n",
       "      <td>-0.723949</td>\n",
       "      <td>-1.734778</td>\n",
       "      <td>0.271661</td>\n",
       "    </tr>\n",
       "    <tr>\n",
       "      <th>3</th>\n",
       "      <td>0.099112</td>\n",
       "      <td>-0.363090</td>\n",
       "      <td>-0.588227</td>\n",
       "      <td>0.025942</td>\n",
       "    </tr>\n",
       "    <tr>\n",
       "      <th>4</th>\n",
       "      <td>-0.572302</td>\n",
       "      <td>1.105587</td>\n",
       "      <td>-1.208016</td>\n",
       "      <td>-1.339701</td>\n",
       "    </tr>\n",
       "  </tbody>\n",
       "</table>\n",
       "</div>"
      ],
      "text/plain": [
       "          A         B         C         D\n",
       "0 -0.684128  0.599962 -0.217199  0.331527\n",
       "1 -0.383365 -0.781816  0.266237  0.279428\n",
       "2 -1.219626 -0.723949 -1.734778  0.271661\n",
       "3  0.099112 -0.363090 -0.588227  0.025942\n",
       "4 -0.572302  1.105587 -1.208016 -1.339701"
      ]
     },
     "execution_count": 34,
     "metadata": {},
     "output_type": "execute_result"
    }
   ],
   "source": [
    "data = np.random.randn(25, 4)\n",
    "df = pd.DataFrame(data, columns=list('ABCD'))\n",
    "df.head()"
   ]
  },
  {
   "cell_type": "code",
   "execution_count": 35,
   "id": "3934dd29-9dea-4498-a96a-1bdf88e235f1",
   "metadata": {},
   "outputs": [
    {
     "data": {
      "image/png": "[encoded data removed]",
      "text/plain": [
       "<Figure size 640x480 with 1 Axes>"
      ]
     },
     "metadata": {},
     "output_type": "display_data"
    }
   ],
   "source": [
    "ax = df.plot.box()\n",
    "plt.show();"
   ]
  },
  {
   "cell_type": "markdown",
   "id": "9f6a9894-4700-47a7-95b6-1c666e630ff5",
   "metadata": {},
   "source": [
    "### plot.density"
   ]
  },
  {
   "cell_type": "markdown",
   "id": "c3c7b597-e745-4b5d-a949-40931bb55cac",
   "metadata": {},
   "source": [
    "### plot.hexbin"
   ]
  },
  {
   "cell_type": "markdown",
   "id": "e2589c56-47e4-4a1e-80b2-514312711979",
   "metadata": {},
   "source": [
    "### plot.hist"
   ]
  },
  {
   "cell_type": "markdown",
   "id": "5c881990-fe16-4020-8e1a-46a956197ba2",
   "metadata": {},
   "source": [
    "### plot.kde"
   ]
  },
  {
   "cell_type": "markdown",
   "id": "7b21dc7d-9c16-4441-9883-56741a5ff394",
   "metadata": {},
   "source": [
    "### plot.line\n",
    "DataFrame.plot.line(x=None, y=None, **kwargs)[source]\n",
    "Plot Series or DataFrame as lines.\n",
    "\n",
    "This function is useful to plot lines using DataFrame’s values as coordinates\n",
    "xlabel or position, optional\n",
    "Allows plotting of one column versus another. If not specified, the index of the DataFrame is used.\n",
    "\n",
    "ylabel or position, optional\n",
    "Allows plotting of one column versus another. If not specified, all numerical columns are used.\n",
    "colorstr, array-like, or dict, optional\n",
    "The color for each of the DataFrame’s columns. Possible values are:\n",
    "\n",
    "A single color string referred to by name, RGB or RGBA code, for instance ‘red’ or ‘#a98d19’.\n",
    "\n",
    "A sequence of color strings referred to by name, RGB or RGBA code, which will be used for each column recursively. For instance [‘green’,’yellow’] each column’s line will be filled in green or yellow, alternatively. If there is only a single column to be plotted, then only the first color from the color list will be used.\n",
    "\n",
    "A dict of the form {column namecolor}, so that each column will be colored accordingly. For example, if your columns are called a and b, then passing {‘a’: ‘green’, ‘b’: ‘red’} will color lines for column a in green and lines for column b in red\n",
    "https://pandas.pydata.org/pandas-docs/stable/reference/api/pandas.DataFrame.plot.line.html"
   ]
  },
  {
   "cell_type": "code",
   "execution_count": 43,
   "id": "1f93a7e9-c404-4976-9f4d-c1f52c9c5aa4",
   "metadata": {},
   "outputs": [
    {
     "data": {
      "image/png": "[encoded data removed]",
      "text/plain": [
       "<Figure size 640x480 with 1 Axes>"
      ]
     },
     "metadata": {},
     "output_type": "display_data"
    }
   ],
   "source": [
    "s = pd.Series([1, 3, 2])\n",
    "s.plot.line()\n",
    "plt.show()"
   ]
  },
  {
   "cell_type": "code",
   "execution_count": 46,
   "id": "31cae3e2-d087-40c7-9acf-84d3cd8bd414",
   "metadata": {},
   "outputs": [
    {
     "data": {
      "image/png": "[encoded data removed]",
      "text/plain": [
       "<Figure size 640x480 with 11 Axes>"
      ]
     },
     "metadata": {},
     "output_type": "display_data"
    }
   ],
   "source": [
    "mtcarsDF.plot.line(subplots=True)\n",
    "plt.show();"
   ]
  },
  {
   "cell_type": "code",
   "execution_count": 53,
   "id": "bc697d87-87b9-43dd-b81e-8c71557ac881",
   "metadata": {},
   "outputs": [
    {
     "data": {
      "image/png": "[encoded data removed]",
      "text/plain": [
       "<Figure size 640x480 with 2 Axes>"
      ]
     },
     "metadata": {},
     "output_type": "display_data"
    }
   ],
   "source": [
    "mtcarsDF[['mpg', 'wt']].plot.line(color ={'mpg':'r', 'wt':'b'}, subplots=True)\n",
    "plt.show();"
   ]
  },
  {
   "cell_type": "markdown",
   "id": "a1cc62f1-1fe4-49b5-a2ce-c24f13116ef3",
   "metadata": {},
   "source": [
    "### plot.pie"
   ]
  },
  {
   "cell_type": "markdown",
   "id": "e810f27e-c80f-43bd-b149-d228200670b3",
   "metadata": {},
   "source": [
    "### plot.scatter"
   ]
  },
  {
   "cell_type": "markdown",
   "id": "52125b23-6be9-43af-bf2d-e25aa88628c2",
   "metadata": {},
   "source": [
    "### boxplot\n",
    "DataFrame.boxplot(column=None, by=None, ax=None, fontsize=None, rot=0, grid=True, figsize=None, layout=None, return_type=None, backend=None, **kwargs)[source]\n",
    "Make a box plot from DataFrame columns.\n",
    "\n",
    "Make a box-and-whisker plot from DataFrame columns, optionally grouped by some other columns. A box plot is a method for graphically depicting groups of numerical data through their quartiles. The box extends from the Q1 to Q3 quartile values of the data, with a line at the median (Q2). The whiskers extend from the edges of box to show the range of the data. By default, they extend no more than 1.5 * IQR (IQR = Q3 - Q1) from the edges of the box, ending at the farthest data point within that interval. Outliers are plotted as separate dots.\n",
    "#plt.show(boxplot)"
   ]
  },
  {
   "cell_type": "code",
   "execution_count": 9,
   "id": "504d3f69-bcfc-4b07-bbaa-ac79b3fd0070",
   "metadata": {},
   "outputs": [
    {
     "ename": "AssertionError",
     "evalue": "2",
     "output_type": "error",
     "traceback": [
      "\u001b[1;31m---------------------------------------------------------------------------\u001b[0m",
      "\u001b[1;31mAssertionError\u001b[0m                            Traceback (most recent call last)",
      "Cell \u001b[1;32mIn [9], line 3\u001b[0m\n\u001b[0;32m      1\u001b[0m np\u001b[38;5;241m.\u001b[39mrandom\u001b[38;5;241m.\u001b[39mseed(\u001b[38;5;241m1234\u001b[39m)\n\u001b[0;32m      2\u001b[0m df \u001b[38;5;241m=\u001b[39m pd\u001b[38;5;241m.\u001b[39mDataFrame(np\u001b[38;5;241m.\u001b[39mrandom\u001b[38;5;241m.\u001b[39mrandn(\u001b[38;5;241m10\u001b[39m, \u001b[38;5;241m4\u001b[39m),  columns\u001b[38;5;241m=\u001b[39m[\u001b[38;5;124m'\u001b[39m\u001b[38;5;124mCol1\u001b[39m\u001b[38;5;124m'\u001b[39m, \u001b[38;5;124m'\u001b[39m\u001b[38;5;124mCol2\u001b[39m\u001b[38;5;124m'\u001b[39m, \u001b[38;5;124m'\u001b[39m\u001b[38;5;124mCol3\u001b[39m\u001b[38;5;124m'\u001b[39m, \u001b[38;5;124m'\u001b[39m\u001b[38;5;124mCol4\u001b[39m\u001b[38;5;124m'\u001b[39m])\n\u001b[1;32m----> 3\u001b[0m boxplot \u001b[38;5;241m=\u001b[39m \u001b[43mdf\u001b[49m\u001b[38;5;241;43m.\u001b[39;49m\u001b[43mboxplot\u001b[49m\u001b[43m(\u001b[49m\u001b[43mcolumn\u001b[49m\u001b[38;5;241;43m=\u001b[39;49m\u001b[43m[\u001b[49m\u001b[38;5;124;43m'\u001b[39;49m\u001b[38;5;124;43mCol1\u001b[39;49m\u001b[38;5;124;43m'\u001b[39;49m\u001b[43m,\u001b[49m\u001b[43m \u001b[49m\u001b[38;5;124;43m'\u001b[39;49m\u001b[38;5;124;43mCol2\u001b[39;49m\u001b[38;5;124;43m'\u001b[39;49m\u001b[43m,\u001b[49m\u001b[43m \u001b[49m\u001b[38;5;124;43m'\u001b[39;49m\u001b[38;5;124;43mCol3\u001b[39;49m\u001b[38;5;124;43m'\u001b[39;49m\u001b[43m]\u001b[49m\u001b[43m)\u001b[49m\n\u001b[0;32m      4\u001b[0m \u001b[38;5;28mtype\u001b[39m(boxplot)\n",
      "File \u001b[1;32mC:\\ProgramData\\Anaconda3\\lib\\site-packages\\pandas\\plotting\\_core.py:511\u001b[0m, in \u001b[0;36mboxplot_frame\u001b[1;34m(self, column, by, ax, fontsize, rot, grid, figsize, layout, return_type, backend, **kwargs)\u001b[0m\n\u001b[0;32m    494\u001b[0m \u001b[38;5;129m@Substitution\u001b[39m(backend\u001b[38;5;241m=\u001b[39m_backend_doc)\n\u001b[0;32m    495\u001b[0m \u001b[38;5;129m@Appender\u001b[39m(_boxplot_doc)\n\u001b[0;32m    496\u001b[0m \u001b[38;5;28;01mdef\u001b[39;00m \u001b[38;5;21mboxplot_frame\u001b[39m(\n\u001b[1;32m   (...)\u001b[0m\n\u001b[0;32m    508\u001b[0m     \u001b[38;5;241m*\u001b[39m\u001b[38;5;241m*\u001b[39mkwargs,\n\u001b[0;32m    509\u001b[0m ):\n\u001b[0;32m    510\u001b[0m     plot_backend \u001b[38;5;241m=\u001b[39m _get_plot_backend(backend)\n\u001b[1;32m--> 511\u001b[0m     \u001b[38;5;28;01mreturn\u001b[39;00m plot_backend\u001b[38;5;241m.\u001b[39mboxplot_frame(\n\u001b[0;32m    512\u001b[0m         \u001b[38;5;28mself\u001b[39m,\n\u001b[0;32m    513\u001b[0m         column\u001b[38;5;241m=\u001b[39mcolumn,\n\u001b[0;32m    514\u001b[0m         by\u001b[38;5;241m=\u001b[39mby,\n\u001b[0;32m    515\u001b[0m         ax\u001b[38;5;241m=\u001b[39max,\n\u001b[0;32m    516\u001b[0m         fontsize\u001b[38;5;241m=\u001b[39mfontsize,\n\u001b[0;32m    517\u001b[0m         rot\u001b[38;5;241m=\u001b[39mrot,\n\u001b[0;32m    518\u001b[0m         grid\u001b[38;5;241m=\u001b[39mgrid,\n\u001b[0;32m    519\u001b[0m         figsize\u001b[38;5;241m=\u001b[39mfigsize,\n\u001b[0;32m    520\u001b[0m         layout\u001b[38;5;241m=\u001b[39mlayout,\n\u001b[0;32m    521\u001b[0m         return_type\u001b[38;5;241m=\u001b[39mreturn_type,\n\u001b[0;32m    522\u001b[0m         \u001b[38;5;241m*\u001b[39m\u001b[38;5;241m*\u001b[39mkwargs,\n\u001b[0;32m    523\u001b[0m     )\n",
      "File \u001b[1;32mC:\\ProgramData\\Anaconda3\\lib\\site-packages\\pandas\\plotting\\_matplotlib\\boxplot.py:425\u001b[0m, in \u001b[0;36mboxplot_frame\u001b[1;34m(self, column, by, ax, fontsize, rot, grid, figsize, layout, return_type, **kwds)\u001b[0m\n\u001b[0;32m    410\u001b[0m \u001b[38;5;28;01mdef\u001b[39;00m \u001b[38;5;21mboxplot_frame\u001b[39m(\n\u001b[0;32m    411\u001b[0m     \u001b[38;5;28mself\u001b[39m,\n\u001b[0;32m    412\u001b[0m     column\u001b[38;5;241m=\u001b[39m\u001b[38;5;28;01mNone\u001b[39;00m,\n\u001b[1;32m   (...)\u001b[0m\n\u001b[0;32m    421\u001b[0m     \u001b[38;5;241m*\u001b[39m\u001b[38;5;241m*\u001b[39mkwds,\n\u001b[0;32m    422\u001b[0m ):\n\u001b[0;32m    423\u001b[0m     \u001b[38;5;28;01mimport\u001b[39;00m \u001b[38;5;21;01mmatplotlib\u001b[39;00m\u001b[38;5;21;01m.\u001b[39;00m\u001b[38;5;21;01mpyplot\u001b[39;00m \u001b[38;5;28;01mas\u001b[39;00m \u001b[38;5;21;01mplt\u001b[39;00m\n\u001b[1;32m--> 425\u001b[0m     ax \u001b[38;5;241m=\u001b[39m boxplot(\n\u001b[0;32m    426\u001b[0m         \u001b[38;5;28mself\u001b[39m,\n\u001b[0;32m    427\u001b[0m         column\u001b[38;5;241m=\u001b[39mcolumn,\n\u001b[0;32m    428\u001b[0m         by\u001b[38;5;241m=\u001b[39mby,\n\u001b[0;32m    429\u001b[0m         ax\u001b[38;5;241m=\u001b[39max,\n\u001b[0;32m    430\u001b[0m         fontsize\u001b[38;5;241m=\u001b[39mfontsize,\n\u001b[0;32m    431\u001b[0m         grid\u001b[38;5;241m=\u001b[39mgrid,\n\u001b[0;32m    432\u001b[0m         rot\u001b[38;5;241m=\u001b[39mrot,\n\u001b[0;32m    433\u001b[0m         figsize\u001b[38;5;241m=\u001b[39mfigsize,\n\u001b[0;32m    434\u001b[0m         layout\u001b[38;5;241m=\u001b[39mlayout,\n\u001b[0;32m    435\u001b[0m         return_type\u001b[38;5;241m=\u001b[39mreturn_type,\n\u001b[0;32m    436\u001b[0m         \u001b[38;5;241m*\u001b[39m\u001b[38;5;241m*\u001b[39mkwds,\n\u001b[0;32m    437\u001b[0m     )\n\u001b[0;32m    438\u001b[0m     plt\u001b[38;5;241m.\u001b[39mdraw_if_interactive()\n\u001b[0;32m    439\u001b[0m     \u001b[38;5;28;01mreturn\u001b[39;00m ax\n",
      "File \u001b[1;32mC:\\ProgramData\\Anaconda3\\lib\\site-packages\\pandas\\plotting\\_matplotlib\\boxplot.py:404\u001b[0m, in \u001b[0;36mboxplot\u001b[1;34m(data, column, by, ax, fontsize, rot, grid, figsize, layout, return_type, **kwds)\u001b[0m\n\u001b[0;32m    401\u001b[0m     \u001b[38;5;28;01melse\u001b[39;00m:\n\u001b[0;32m    402\u001b[0m         data \u001b[38;5;241m=\u001b[39m data[columns]\n\u001b[1;32m--> 404\u001b[0m     result \u001b[38;5;241m=\u001b[39m \u001b[43mplot_group\u001b[49m\u001b[43m(\u001b[49m\u001b[43mcolumns\u001b[49m\u001b[43m,\u001b[49m\u001b[43m \u001b[49m\u001b[43mdata\u001b[49m\u001b[38;5;241;43m.\u001b[39;49m\u001b[43mvalues\u001b[49m\u001b[38;5;241;43m.\u001b[39;49m\u001b[43mT\u001b[49m\u001b[43m,\u001b[49m\u001b[43m \u001b[49m\u001b[43max\u001b[49m\u001b[43m)\u001b[49m\n\u001b[0;32m    405\u001b[0m     ax\u001b[38;5;241m.\u001b[39mgrid(grid)\n\u001b[0;32m    407\u001b[0m \u001b[38;5;28;01mreturn\u001b[39;00m result\n",
      "File \u001b[1;32mC:\\ProgramData\\Anaconda3\\lib\\site-packages\\pandas\\plotting\\_matplotlib\\boxplot.py:345\u001b[0m, in \u001b[0;36mboxplot.<locals>.plot_group\u001b[1;34m(keys, values, ax)\u001b[0m\n\u001b[0;32m    343\u001b[0m \u001b[38;5;28;01mif\u001b[39;00m \u001b[38;5;28mlen\u001b[39m(ticks) \u001b[38;5;241m!=\u001b[39m \u001b[38;5;28mlen\u001b[39m(keys):\n\u001b[0;32m    344\u001b[0m     i, remainder \u001b[38;5;241m=\u001b[39m \u001b[38;5;28mdivmod\u001b[39m(\u001b[38;5;28mlen\u001b[39m(ticks), \u001b[38;5;28mlen\u001b[39m(keys))\n\u001b[1;32m--> 345\u001b[0m     \u001b[38;5;28;01massert\u001b[39;00m remainder \u001b[38;5;241m==\u001b[39m \u001b[38;5;241m0\u001b[39m, remainder\n\u001b[0;32m    346\u001b[0m     keys \u001b[38;5;241m*\u001b[39m\u001b[38;5;241m=\u001b[39m i\n\u001b[0;32m    347\u001b[0m ax\u001b[38;5;241m.\u001b[39mset_xticklabels(keys, rotation\u001b[38;5;241m=\u001b[39mrot)\n",
      "\u001b[1;31mAssertionError\u001b[0m: 2"
     ]
    }
   ],
   "source": [
    "np.random.seed(1234)\n",
    "df = pd.DataFrame(np.random.randn(10, 4),  columns=['Col1', 'Col2', 'Col3', 'Col4'])\n",
    "boxplot = df.boxplot(column=['Col1', 'Col2', 'Col3'])\n",
    "type(boxplot)"
   ]
  },
  {
   "cell_type": "code",
   "execution_count": null,
   "id": "57c74945-7af1-4be3-9216-2a2b55673f9b",
   "metadata": {},
   "outputs": [],
   "source": [
    "#### assertion error"
   ]
  },
  {
   "cell_type": "code",
   "execution_count": 4,
   "id": "17b16bea-60e2-479d-aab5-f0dc17424943",
   "metadata": {},
   "outputs": [
    {
     "data": {
      "text/plain": [
       "<AxesSubplot:>"
      ]
     },
     "execution_count": 4,
     "metadata": {},
     "output_type": "execute_result"
    }
   ],
   "source": [
    "#every column\n",
    "mtcarsDF.boxplot()"
   ]
  },
  {
   "cell_type": "code",
   "execution_count": 6,
   "id": "0a695956-f47d-460b-9834-8eba9fcc8083",
   "metadata": {},
   "outputs": [
    {
     "ename": "AssertionError",
     "evalue": "2",
     "output_type": "error",
     "traceback": [
      "\u001b[1;31m---------------------------------------------------------------------------\u001b[0m",
      "\u001b[1;31mAssertionError\u001b[0m                            Traceback (most recent call last)",
      "Cell \u001b[1;32mIn [6], line 1\u001b[0m\n\u001b[1;32m----> 1\u001b[0m boxplot2 \u001b[38;5;241m=\u001b[39m \u001b[43mmtcarsDF\u001b[49m\u001b[38;5;241;43m.\u001b[39;49m\u001b[43mboxplot\u001b[49m\u001b[43m(\u001b[49m\u001b[43mcolumn\u001b[49m\u001b[43m \u001b[49m\u001b[38;5;241;43m=\u001b[39;49m\u001b[43m \u001b[49m\u001b[43m[\u001b[49m\u001b[38;5;124;43m'\u001b[39;49m\u001b[38;5;124;43mmpg\u001b[39;49m\u001b[38;5;124;43m'\u001b[39;49m\u001b[43m,\u001b[49m\u001b[38;5;124;43m'\u001b[39;49m\u001b[38;5;124;43mwt\u001b[39;49m\u001b[38;5;124;43m'\u001b[39;49m\u001b[43m,\u001b[49m\u001b[43m \u001b[49m\u001b[38;5;124;43m'\u001b[39;49m\u001b[38;5;124;43mhp\u001b[39;49m\u001b[38;5;124;43m'\u001b[39;49m\u001b[43m]\u001b[49m\u001b[43m)\u001b[49m\n",
      "File \u001b[1;32mC:\\ProgramData\\Anaconda3\\lib\\site-packages\\pandas\\plotting\\_core.py:511\u001b[0m, in \u001b[0;36mboxplot_frame\u001b[1;34m(self, column, by, ax, fontsize, rot, grid, figsize, layout, return_type, backend, **kwargs)\u001b[0m\n\u001b[0;32m    494\u001b[0m \u001b[38;5;129m@Substitution\u001b[39m(backend\u001b[38;5;241m=\u001b[39m_backend_doc)\n\u001b[0;32m    495\u001b[0m \u001b[38;5;129m@Appender\u001b[39m(_boxplot_doc)\n\u001b[0;32m    496\u001b[0m \u001b[38;5;28;01mdef\u001b[39;00m \u001b[38;5;21mboxplot_frame\u001b[39m(\n\u001b[1;32m   (...)\u001b[0m\n\u001b[0;32m    508\u001b[0m     \u001b[38;5;241m*\u001b[39m\u001b[38;5;241m*\u001b[39mkwargs,\n\u001b[0;32m    509\u001b[0m ):\n\u001b[0;32m    510\u001b[0m     plot_backend \u001b[38;5;241m=\u001b[39m _get_plot_backend(backend)\n\u001b[1;32m--> 511\u001b[0m     \u001b[38;5;28;01mreturn\u001b[39;00m plot_backend\u001b[38;5;241m.\u001b[39mboxplot_frame(\n\u001b[0;32m    512\u001b[0m         \u001b[38;5;28mself\u001b[39m,\n\u001b[0;32m    513\u001b[0m         column\u001b[38;5;241m=\u001b[39mcolumn,\n\u001b[0;32m    514\u001b[0m         by\u001b[38;5;241m=\u001b[39mby,\n\u001b[0;32m    515\u001b[0m         ax\u001b[38;5;241m=\u001b[39max,\n\u001b[0;32m    516\u001b[0m         fontsize\u001b[38;5;241m=\u001b[39mfontsize,\n\u001b[0;32m    517\u001b[0m         rot\u001b[38;5;241m=\u001b[39mrot,\n\u001b[0;32m    518\u001b[0m         grid\u001b[38;5;241m=\u001b[39mgrid,\n\u001b[0;32m    519\u001b[0m         figsize\u001b[38;5;241m=\u001b[39mfigsize,\n\u001b[0;32m    520\u001b[0m         layout\u001b[38;5;241m=\u001b[39mlayout,\n\u001b[0;32m    521\u001b[0m         return_type\u001b[38;5;241m=\u001b[39mreturn_type,\n\u001b[0;32m    522\u001b[0m         \u001b[38;5;241m*\u001b[39m\u001b[38;5;241m*\u001b[39mkwargs,\n\u001b[0;32m    523\u001b[0m     )\n",
      "File \u001b[1;32mC:\\ProgramData\\Anaconda3\\lib\\site-packages\\pandas\\plotting\\_matplotlib\\boxplot.py:425\u001b[0m, in \u001b[0;36mboxplot_frame\u001b[1;34m(self, column, by, ax, fontsize, rot, grid, figsize, layout, return_type, **kwds)\u001b[0m\n\u001b[0;32m    410\u001b[0m \u001b[38;5;28;01mdef\u001b[39;00m \u001b[38;5;21mboxplot_frame\u001b[39m(\n\u001b[0;32m    411\u001b[0m     \u001b[38;5;28mself\u001b[39m,\n\u001b[0;32m    412\u001b[0m     column\u001b[38;5;241m=\u001b[39m\u001b[38;5;28;01mNone\u001b[39;00m,\n\u001b[1;32m   (...)\u001b[0m\n\u001b[0;32m    421\u001b[0m     \u001b[38;5;241m*\u001b[39m\u001b[38;5;241m*\u001b[39mkwds,\n\u001b[0;32m    422\u001b[0m ):\n\u001b[0;32m    423\u001b[0m     \u001b[38;5;28;01mimport\u001b[39;00m \u001b[38;5;21;01mmatplotlib\u001b[39;00m\u001b[38;5;21;01m.\u001b[39;00m\u001b[38;5;21;01mpyplot\u001b[39;00m \u001b[38;5;28;01mas\u001b[39;00m \u001b[38;5;21;01mplt\u001b[39;00m\n\u001b[1;32m--> 425\u001b[0m     ax \u001b[38;5;241m=\u001b[39m boxplot(\n\u001b[0;32m    426\u001b[0m         \u001b[38;5;28mself\u001b[39m,\n\u001b[0;32m    427\u001b[0m         column\u001b[38;5;241m=\u001b[39mcolumn,\n\u001b[0;32m    428\u001b[0m         by\u001b[38;5;241m=\u001b[39mby,\n\u001b[0;32m    429\u001b[0m         ax\u001b[38;5;241m=\u001b[39max,\n\u001b[0;32m    430\u001b[0m         fontsize\u001b[38;5;241m=\u001b[39mfontsize,\n\u001b[0;32m    431\u001b[0m         grid\u001b[38;5;241m=\u001b[39mgrid,\n\u001b[0;32m    432\u001b[0m         rot\u001b[38;5;241m=\u001b[39mrot,\n\u001b[0;32m    433\u001b[0m         figsize\u001b[38;5;241m=\u001b[39mfigsize,\n\u001b[0;32m    434\u001b[0m         layout\u001b[38;5;241m=\u001b[39mlayout,\n\u001b[0;32m    435\u001b[0m         return_type\u001b[38;5;241m=\u001b[39mreturn_type,\n\u001b[0;32m    436\u001b[0m         \u001b[38;5;241m*\u001b[39m\u001b[38;5;241m*\u001b[39mkwds,\n\u001b[0;32m    437\u001b[0m     )\n\u001b[0;32m    438\u001b[0m     plt\u001b[38;5;241m.\u001b[39mdraw_if_interactive()\n\u001b[0;32m    439\u001b[0m     \u001b[38;5;28;01mreturn\u001b[39;00m ax\n",
      "File \u001b[1;32mC:\\ProgramData\\Anaconda3\\lib\\site-packages\\pandas\\plotting\\_matplotlib\\boxplot.py:404\u001b[0m, in \u001b[0;36mboxplot\u001b[1;34m(data, column, by, ax, fontsize, rot, grid, figsize, layout, return_type, **kwds)\u001b[0m\n\u001b[0;32m    401\u001b[0m     \u001b[38;5;28;01melse\u001b[39;00m:\n\u001b[0;32m    402\u001b[0m         data \u001b[38;5;241m=\u001b[39m data[columns]\n\u001b[1;32m--> 404\u001b[0m     result \u001b[38;5;241m=\u001b[39m \u001b[43mplot_group\u001b[49m\u001b[43m(\u001b[49m\u001b[43mcolumns\u001b[49m\u001b[43m,\u001b[49m\u001b[43m \u001b[49m\u001b[43mdata\u001b[49m\u001b[38;5;241;43m.\u001b[39;49m\u001b[43mvalues\u001b[49m\u001b[38;5;241;43m.\u001b[39;49m\u001b[43mT\u001b[49m\u001b[43m,\u001b[49m\u001b[43m \u001b[49m\u001b[43max\u001b[49m\u001b[43m)\u001b[49m\n\u001b[0;32m    405\u001b[0m     ax\u001b[38;5;241m.\u001b[39mgrid(grid)\n\u001b[0;32m    407\u001b[0m \u001b[38;5;28;01mreturn\u001b[39;00m result\n",
      "File \u001b[1;32mC:\\ProgramData\\Anaconda3\\lib\\site-packages\\pandas\\plotting\\_matplotlib\\boxplot.py:345\u001b[0m, in \u001b[0;36mboxplot.<locals>.plot_group\u001b[1;34m(keys, values, ax)\u001b[0m\n\u001b[0;32m    343\u001b[0m \u001b[38;5;28;01mif\u001b[39;00m \u001b[38;5;28mlen\u001b[39m(ticks) \u001b[38;5;241m!=\u001b[39m \u001b[38;5;28mlen\u001b[39m(keys):\n\u001b[0;32m    344\u001b[0m     i, remainder \u001b[38;5;241m=\u001b[39m \u001b[38;5;28mdivmod\u001b[39m(\u001b[38;5;28mlen\u001b[39m(ticks), \u001b[38;5;28mlen\u001b[39m(keys))\n\u001b[1;32m--> 345\u001b[0m     \u001b[38;5;28;01massert\u001b[39;00m remainder \u001b[38;5;241m==\u001b[39m \u001b[38;5;241m0\u001b[39m, remainder\n\u001b[0;32m    346\u001b[0m     keys \u001b[38;5;241m*\u001b[39m\u001b[38;5;241m=\u001b[39m i\n\u001b[0;32m    347\u001b[0m ax\u001b[38;5;241m.\u001b[39mset_xticklabels(keys, rotation\u001b[38;5;241m=\u001b[39mrot)\n",
      "\u001b[1;31mAssertionError\u001b[0m: 2"
     ]
    }
   ],
   "source": [
    "boxplot2 = mtcarsDF.boxplot(column = ['mpg','wt', 'hp'])\n",
    "#plt.show(boxplot2)"
   ]
  },
  {
   "cell_type": "code",
   "execution_count": 39,
   "id": "008fb306-8213-4a64-9679-b0d61e0d5d82",
   "metadata": {},
   "outputs": [],
   "source": [
    "boxplot = mtcarsDF.boxplot(column = ['mpg', 'hp'], by='gear', layout = (2,1))\n",
    "plt.show(boxplot)"
   ]
  },
  {
   "cell_type": "code",
   "execution_count": null,
   "id": "5b311fd6-eb15-46da-8e9b-d9a0a3e00f46",
   "metadata": {},
   "outputs": [],
   "source": [
    "boxplot = mtcarsDF.boxplot(grid=False, rot=45, fontsize=15)  "
   ]
  },
  {
   "cell_type": "markdown",
   "id": "13a5b8fc-8f9f-4eb5-8135-2ea338bc5805",
   "metadata": {},
   "source": [
    "### hist"
   ]
  },
  {
   "cell_type": "markdown",
   "id": "6400a81b-3b0b-4aa3-8b4a-e9a29b5c9934",
   "metadata": {},
   "source": [
    "## Sparse accessor"
   ]
  },
  {
   "cell_type": "markdown",
   "id": "fef5c5c9-8270-423d-964e-6f96e143f91e",
   "metadata": {},
   "source": [
    "### sparse.density"
   ]
  },
  {
   "cell_type": "markdown",
   "id": "504e4214-1aa4-437d-84b1-dd2b1c052e03",
   "metadata": {},
   "source": [
    "### sparse.from_spmatrix"
   ]
  },
  {
   "cell_type": "markdown",
   "id": "eea7a8ae-3b50-44c8-a2b6-ee638a7514b7",
   "metadata": {},
   "source": [
    "### sparse.to_coo\n"
   ]
  },
  {
   "cell_type": "markdown",
   "id": "8d801dae-30be-4d24-ae61-a9bfb67a3ca0",
   "metadata": {},
   "source": [
    "### sparse.to_dense\n"
   ]
  },
  {
   "cell_type": "markdown",
   "id": "01ffb7ff-4681-4542-8325-b407075e0994",
   "metadata": {},
   "source": [
    "## Conversion\n"
   ]
  },
  {
   "cell_type": "markdown",
   "id": "c134ad4c-b62b-4c0d-b7d5-95a11d3ddba2",
   "metadata": {},
   "source": [
    "### from_dict\n",
    "classmethod DataFrame.from_dict(data, orient='columns', dtype=None, columns=None)[source]\n",
    "Construct DataFrame from dict of array-like or dicts.\n",
    "\n",
    "Creates DataFrame object from dictionary by columns or by index allowing dtype specification."
   ]
  },
  {
   "cell_type": "code",
   "execution_count": 18,
   "id": "275b9411-d0fb-404d-afdc-6c5a0fd9e42e",
   "metadata": {},
   "outputs": [
    {
     "data": {
      "text/html": [
       "<div>\n",
       "<style scoped>\n",
       "    .dataframe tbody tr th:only-of-type {\n",
       "        vertical-align: middle;\n",
       "    }\n",
       "\n",
       "    .dataframe tbody tr th {\n",
       "        vertical-align: top;\n",
       "    }\n",
       "\n",
       "    .dataframe thead th {\n",
       "        text-align: right;\n",
       "    }\n",
       "</style>\n",
       "<table border=\"1\" class=\"dataframe\">\n",
       "  <thead>\n",
       "    <tr style=\"text-align: right;\">\n",
       "      <th></th>\n",
       "      <th>0</th>\n",
       "      <th>1</th>\n",
       "      <th>2</th>\n",
       "      <th>3</th>\n",
       "    </tr>\n",
       "  </thead>\n",
       "  <tbody>\n",
       "    <tr>\n",
       "      <th>row_1</th>\n",
       "      <td>3</td>\n",
       "      <td>2</td>\n",
       "      <td>1</td>\n",
       "      <td>0</td>\n",
       "    </tr>\n",
       "    <tr>\n",
       "      <th>row_2</th>\n",
       "      <td>a</td>\n",
       "      <td>b</td>\n",
       "      <td>c</td>\n",
       "      <td>d</td>\n",
       "    </tr>\n",
       "  </tbody>\n",
       "</table>\n",
       "</div>"
      ],
      "text/plain": [
       "       0  1  2  3\n",
       "row_1  3  2  1  0\n",
       "row_2  a  b  c  d"
      ]
     },
     "execution_count": 18,
     "metadata": {},
     "output_type": "execute_result"
    }
   ],
   "source": [
    "# Specify orient='index' to create the DataFrame using dictionary keys as rows:\n",
    "data = {'row_1': [3, 2, 1, 0], 'row_2': ['a', 'b', 'c', 'd']}\n",
    "pd.DataFrame.from_dict(data, orient='index')"
   ]
  },
  {
   "cell_type": "code",
   "execution_count": 17,
   "id": "f6218cb9-2e4d-49f3-b677-31445fb53379",
   "metadata": {},
   "outputs": [
    {
     "data": {
      "text/html": [
       "<div>\n",
       "<style scoped>\n",
       "    .dataframe tbody tr th:only-of-type {\n",
       "        vertical-align: middle;\n",
       "    }\n",
       "\n",
       "    .dataframe tbody tr th {\n",
       "        vertical-align: top;\n",
       "    }\n",
       "\n",
       "    .dataframe thead th {\n",
       "        text-align: right;\n",
       "    }\n",
       "</style>\n",
       "<table border=\"1\" class=\"dataframe\">\n",
       "  <thead>\n",
       "    <tr style=\"text-align: right;\">\n",
       "      <th></th>\n",
       "      <th>col_1</th>\n",
       "      <th>col_2</th>\n",
       "    </tr>\n",
       "  </thead>\n",
       "  <tbody>\n",
       "    <tr>\n",
       "      <th>0</th>\n",
       "      <td>3</td>\n",
       "      <td>a</td>\n",
       "    </tr>\n",
       "    <tr>\n",
       "      <th>1</th>\n",
       "      <td>2</td>\n",
       "      <td>b</td>\n",
       "    </tr>\n",
       "    <tr>\n",
       "      <th>2</th>\n",
       "      <td>1</td>\n",
       "      <td>c</td>\n",
       "    </tr>\n",
       "    <tr>\n",
       "      <th>3</th>\n",
       "      <td>0</td>\n",
       "      <td>d</td>\n",
       "    </tr>\n",
       "  </tbody>\n",
       "</table>\n",
       "</div>"
      ],
      "text/plain": [
       "   col_1 col_2\n",
       "0      3     a\n",
       "1      2     b\n",
       "2      1     c\n",
       "3      0     d"
      ]
     },
     "execution_count": 17,
     "metadata": {},
     "output_type": "execute_result"
    }
   ],
   "source": [
    "data = {'col_1': [3, 2, 1, 0], 'col_2': ['a', 'b', 'c', 'd']}\n",
    "pd.DataFrame.from_dict(data)"
   ]
  },
  {
   "cell_type": "code",
   "execution_count": 19,
   "id": "90e4b0da-552e-4a7d-9fcb-d17d9562a12b",
   "metadata": {},
   "outputs": [
    {
     "data": {
      "text/html": [
       "<div>\n",
       "<style scoped>\n",
       "    .dataframe tbody tr th:only-of-type {\n",
       "        vertical-align: middle;\n",
       "    }\n",
       "\n",
       "    .dataframe tbody tr th {\n",
       "        vertical-align: top;\n",
       "    }\n",
       "\n",
       "    .dataframe thead th {\n",
       "        text-align: right;\n",
       "    }\n",
       "</style>\n",
       "<table border=\"1\" class=\"dataframe\">\n",
       "  <thead>\n",
       "    <tr style=\"text-align: right;\">\n",
       "      <th></th>\n",
       "      <th>A</th>\n",
       "      <th>B</th>\n",
       "      <th>C</th>\n",
       "      <th>D</th>\n",
       "    </tr>\n",
       "  </thead>\n",
       "  <tbody>\n",
       "    <tr>\n",
       "      <th>row_1</th>\n",
       "      <td>3</td>\n",
       "      <td>2</td>\n",
       "      <td>1</td>\n",
       "      <td>0</td>\n",
       "    </tr>\n",
       "    <tr>\n",
       "      <th>row_2</th>\n",
       "      <td>a</td>\n",
       "      <td>b</td>\n",
       "      <td>c</td>\n",
       "      <td>d</td>\n",
       "    </tr>\n",
       "  </tbody>\n",
       "</table>\n",
       "</div>"
      ],
      "text/plain": [
       "       A  B  C  D\n",
       "row_1  3  2  1  0\n",
       "row_2  a  b  c  d"
      ]
     },
     "execution_count": 19,
     "metadata": {},
     "output_type": "execute_result"
    }
   ],
   "source": [
    "#When using the ‘index’ orientation, the column names can be specified manually:\n",
    "\n",
    "pd.DataFrame.from_dict(data, orient='index',  columns=['A', 'B', 'C', 'D'])"
   ]
  },
  {
   "cell_type": "markdown",
   "id": "1fee83d3-7182-4520-8bd9-addeaef708e2",
   "metadata": {},
   "source": [
    "### from_items\n"
   ]
  },
  {
   "cell_type": "markdown",
   "id": "e5144cc2-11c9-4c06-b9ed-1bad1ad4607a",
   "metadata": {},
   "source": [
    "### from_records\n"
   ]
  },
  {
   "cell_type": "markdown",
   "id": "f20ea93c-99c1-4aa1-808c-d7584a85fd48",
   "metadata": {},
   "source": [
    "### info\n"
   ]
  },
  {
   "cell_type": "markdown",
   "id": "46521352-5baa-4730-ac1c-5bf77f7106af",
   "metadata": {},
   "source": [
    "### to_parquet\n"
   ]
  },
  {
   "cell_type": "markdown",
   "id": "072f5ba0-85d1-4fc5-8714-b20e59243786",
   "metadata": {},
   "source": [
    "### to_pickle\n"
   ]
  },
  {
   "cell_type": "markdown",
   "id": "6f470d52-d76e-4676-8189-fb5ce599c2cc",
   "metadata": {},
   "source": [
    "### to_csv\n",
    "pandas.DataFrame.to_csv\n",
    "DataFrame.to_csv(path_or_buf=None, sep=',', na_rep='', float_format=None, columns=None, header=True, index=True, index_label=None, mode='w', encoding=None, compression='infer', quoting=None, quotechar='\"', lineterminator=None, chunksize=None, date_format=None, doublequote=True, escapechar=None, decimal='.', errors='strict', storage_options=None)[source]\n",
    "Write object to a comma-separated values (csv) file.\n"
   ]
  },
  {
   "cell_type": "code",
   "execution_count": 15,
   "id": "d77a8928-33ed-4085-876c-de1cf182edba",
   "metadata": {},
   "outputs": [],
   "source": [
    "mtcarsDF.to_csv('../data/mtcars.csv', sep=',', index=False)"
   ]
  },
  {
   "cell_type": "code",
   "execution_count": 16,
   "id": "83c410c1-d5be-4fb2-8b06-a7ad2cf78729",
   "metadata": {},
   "outputs": [
    {
     "data": {
      "text/plain": [
       "['csv',\n",
       " 'mtcars.csv',\n",
       " 'mtcars1.csv',\n",
       " 'sbi.csv',\n",
       " 'stats',\n",
       " 'Superstore_orders.csv',\n",
       " 'Superstore_orders.xlsx']"
      ]
     },
     "execution_count": 16,
     "metadata": {},
     "output_type": "execute_result"
    }
   ],
   "source": [
    "import os\n",
    "os.listdir('../data/')"
   ]
  },
  {
   "cell_type": "markdown",
   "id": "ce6ea17b-57ea-4d73-94a8-bb7f5c1fa437",
   "metadata": {},
   "source": [
    "### to_hdf\n"
   ]
  },
  {
   "cell_type": "markdown",
   "id": "5b87855b-fcff-42cd-8f00-628851bcdde8",
   "metadata": {},
   "source": [
    "### to_sql\n"
   ]
  },
  {
   "cell_type": "markdown",
   "id": "8af9470b-0355-400b-a8c7-5918a8764f94",
   "metadata": {},
   "source": [
    "### to_dict\n"
   ]
  },
  {
   "cell_type": "markdown",
   "id": "e0369887-6340-4db9-9d90-f8bcfd8e7a08",
   "metadata": {},
   "source": [
    "### to_excel\n",
    "DataFrame.to_excel(excel_writer, sheet_name='Sheet1', na_rep='', float_format=None, columns=None, header=True, index=True, index_label=None, startrow=0, startcol=0, engine=None, merge_cells=True, encoding=_NoDefault.no_default, inf_rep='inf', verbose=_NoDefault.no_default, freeze_panes=None, storage_options=None)\n",
    "\n",
    "https://pandas.pydata.org/pandas-docs/stable/reference/api/pandas.DataFrame.to_excel.html\n",
    "To write a single object to an Excel .xlsx file it is only necessary to specify a target file name. To write to multiple sheets it is necessary to create an ExcelWriter object with a target file name, and specify a sheet in the file to write to.\n",
    "\n",
    "Multiple sheets may be written to by specifying unique sheet_name. With all data written to the file it is necessary to save the changes. Note that creating an ExcelWriter object with a file name that already exists will result in the contents of the existing file being erased.\n",
    "\n",
    "index_labelstr or sequence, optional\n",
    "Column label for index column(s) if desired. If not specified, and header and index are True, then the index names are used. A sequence should be given if the DataFrame uses MultiIndex."
   ]
  },
  {
   "cell_type": "code",
   "execution_count": 100,
   "id": "4dcb3601-8a27-472a-874c-b7fb2b3e5368",
   "metadata": {},
   "outputs": [],
   "source": [
    "mtcarsDF.to_excel('../data/exportXL.xlsx', sheet_name='mtcars')"
   ]
  },
  {
   "cell_type": "code",
   "execution_count": 101,
   "id": "2bc59eea-fb15-40d0-bd68-2e6ac4e02e90",
   "metadata": {},
   "outputs": [
    {
     "data": {
      "text/plain": [
       "['.ipynb_checkpoints',\n",
       " 'bt_final22.xlsx',\n",
       " 'dataWebTables.ipynb',\n",
       " 'exportXL.xlsx',\n",
       " 'importData.ipynb',\n",
       " 'QSasia22.csv',\n",
       " 'qsasia22final.csv',\n",
       " 'qsasia22raw.csv',\n",
       " 'qsasia22raw2.csv']"
      ]
     },
     "execution_count": 101,
     "metadata": {},
     "output_type": "execute_result"
    }
   ],
   "source": [
    "import os\n",
    "os.listdir('../data/')"
   ]
  },
  {
   "cell_type": "code",
   "execution_count": 103,
   "id": "7ed02526-5596-4ad1-9d5f-12aae0a30299",
   "metadata": {},
   "outputs": [
    {
     "data": {
      "text/plain": [
       "['.ipynb_checkpoints',\n",
       " 'bt_final22.xlsx',\n",
       " 'dataWebTables.ipynb',\n",
       " 'exportMXL.xlsx',\n",
       " 'exportXL.xlsx',\n",
       " 'importData.ipynb',\n",
       " 'QSasia22.csv',\n",
       " 'qsasia22final.csv',\n",
       " 'qsasia22raw.csv',\n",
       " 'qsasia22raw2.csv']"
      ]
     },
     "execution_count": 103,
     "metadata": {},
     "output_type": "execute_result"
    }
   ],
   "source": [
    "df1 = data('mtcars')\n",
    "df2 = data('iris')\n",
    "with pd.ExcelWriter('../data/exportMXL.xlsx') as writer:  \n",
    "    df1.to_excel(writer, sheet_name='mtcars')\n",
    "    df2.to_excel(writer, sheet_name='iris')\n",
    "os.listdir('../data/')"
   ]
  },
  {
   "cell_type": "markdown",
   "id": "3659941c-96b2-418f-a241-c9588110c9a1",
   "metadata": {},
   "source": [
    "### read_excel\n",
    "pandas.read_excel(io, sheet_name=0, *, header=0, names=None, index_col=None, usecols=None, squeeze=None, dtype=None, engine=None, converters=None, true_values=None, false_values=None, skiprows=None, nrows=None, na_values=None, keep_default_na=True, na_filter=True, verbose=False, parse_dates=False, date_parser=None, thousands=None, decimal='.', comment=None, skipfooter=0, convert_float=None, mangle_dupe_cols=True, storage_options=None)[source]\n",
    "Supports xls, xlsx, xlsm, xlsb, odf, ods and odt file extensions read from a local filesystem or URL. Supports an option to read a single sheet or a list of sheets.\n",
    "https://pandas.pydata.org/pandas-docs/stable/reference/api/pandas.read_excel.html"
   ]
  },
  {
   "cell_type": "code",
   "execution_count": 105,
   "id": "9155b1c5-bd17-4189-9ebe-bee642cbd99a",
   "metadata": {},
   "outputs": [
    {
     "data": {
      "text/html": [
       "<div>\n",
       "<style scoped>\n",
       "    .dataframe tbody tr th:only-of-type {\n",
       "        vertical-align: middle;\n",
       "    }\n",
       "\n",
       "    .dataframe tbody tr th {\n",
       "        vertical-align: top;\n",
       "    }\n",
       "\n",
       "    .dataframe thead th {\n",
       "        text-align: right;\n",
       "    }\n",
       "</style>\n",
       "<table border=\"1\" class=\"dataframe\">\n",
       "  <thead>\n",
       "    <tr style=\"text-align: right;\">\n",
       "      <th></th>\n",
       "      <th>Unnamed: 0</th>\n",
       "      <th>mpg</th>\n",
       "      <th>cyl</th>\n",
       "      <th>disp</th>\n",
       "      <th>hp</th>\n",
       "      <th>drat</th>\n",
       "      <th>wt</th>\n",
       "      <th>qsec</th>\n",
       "      <th>vs</th>\n",
       "      <th>am</th>\n",
       "      <th>gear</th>\n",
       "      <th>carb</th>\n",
       "    </tr>\n",
       "  </thead>\n",
       "  <tbody>\n",
       "    <tr>\n",
       "      <th>0</th>\n",
       "      <td>Mazda RX4</td>\n",
       "      <td>21.0</td>\n",
       "      <td>6</td>\n",
       "      <td>160.0</td>\n",
       "      <td>110</td>\n",
       "      <td>3.90</td>\n",
       "      <td>2.620</td>\n",
       "      <td>16.46</td>\n",
       "      <td>0</td>\n",
       "      <td>1</td>\n",
       "      <td>4</td>\n",
       "      <td>4</td>\n",
       "    </tr>\n",
       "    <tr>\n",
       "      <th>1</th>\n",
       "      <td>Mazda RX4 Wag</td>\n",
       "      <td>21.0</td>\n",
       "      <td>6</td>\n",
       "      <td>160.0</td>\n",
       "      <td>110</td>\n",
       "      <td>3.90</td>\n",
       "      <td>2.875</td>\n",
       "      <td>17.02</td>\n",
       "      <td>0</td>\n",
       "      <td>1</td>\n",
       "      <td>4</td>\n",
       "      <td>4</td>\n",
       "    </tr>\n",
       "    <tr>\n",
       "      <th>2</th>\n",
       "      <td>Datsun 710</td>\n",
       "      <td>22.8</td>\n",
       "      <td>4</td>\n",
       "      <td>108.0</td>\n",
       "      <td>93</td>\n",
       "      <td>3.85</td>\n",
       "      <td>2.320</td>\n",
       "      <td>18.61</td>\n",
       "      <td>1</td>\n",
       "      <td>1</td>\n",
       "      <td>4</td>\n",
       "      <td>1</td>\n",
       "    </tr>\n",
       "    <tr>\n",
       "      <th>3</th>\n",
       "      <td>Hornet 4 Drive</td>\n",
       "      <td>21.4</td>\n",
       "      <td>6</td>\n",
       "      <td>258.0</td>\n",
       "      <td>110</td>\n",
       "      <td>3.08</td>\n",
       "      <td>3.215</td>\n",
       "      <td>19.44</td>\n",
       "      <td>1</td>\n",
       "      <td>0</td>\n",
       "      <td>3</td>\n",
       "      <td>1</td>\n",
       "    </tr>\n",
       "    <tr>\n",
       "      <th>4</th>\n",
       "      <td>Hornet Sportabout</td>\n",
       "      <td>18.7</td>\n",
       "      <td>8</td>\n",
       "      <td>360.0</td>\n",
       "      <td>175</td>\n",
       "      <td>3.15</td>\n",
       "      <td>3.440</td>\n",
       "      <td>17.02</td>\n",
       "      <td>0</td>\n",
       "      <td>0</td>\n",
       "      <td>3</td>\n",
       "      <td>2</td>\n",
       "    </tr>\n",
       "  </tbody>\n",
       "</table>\n",
       "</div>"
      ],
      "text/plain": [
       "          Unnamed: 0   mpg  cyl   disp   hp  drat     wt   qsec  vs  am  gear  \\\n",
       "0          Mazda RX4  21.0    6  160.0  110  3.90  2.620  16.46   0   1     4   \n",
       "1      Mazda RX4 Wag  21.0    6  160.0  110  3.90  2.875  17.02   0   1     4   \n",
       "2         Datsun 710  22.8    4  108.0   93  3.85  2.320  18.61   1   1     4   \n",
       "3     Hornet 4 Drive  21.4    6  258.0  110  3.08  3.215  19.44   1   0     3   \n",
       "4  Hornet Sportabout  18.7    8  360.0  175  3.15  3.440  17.02   0   0     3   \n",
       "\n",
       "   carb  \n",
       "0     4  \n",
       "1     4  \n",
       "2     1  \n",
       "3     1  \n",
       "4     2  "
      ]
     },
     "execution_count": 105,
     "metadata": {},
     "output_type": "execute_result"
    }
   ],
   "source": [
    "pd.read_excel(io='../data/exportXL.xlsx').head()"
   ]
  },
  {
   "cell_type": "code",
   "execution_count": 107,
   "id": "3ad21db9-7ebc-407f-9bb3-acaed907e7e4",
   "metadata": {},
   "outputs": [
    {
     "data": {
      "text/html": [
       "<div>\n",
       "<style scoped>\n",
       "    .dataframe tbody tr th:only-of-type {\n",
       "        vertical-align: middle;\n",
       "    }\n",
       "\n",
       "    .dataframe tbody tr th {\n",
       "        vertical-align: top;\n",
       "    }\n",
       "\n",
       "    .dataframe thead th {\n",
       "        text-align: right;\n",
       "    }\n",
       "</style>\n",
       "<table border=\"1\" class=\"dataframe\">\n",
       "  <thead>\n",
       "    <tr style=\"text-align: right;\">\n",
       "      <th></th>\n",
       "      <th>mpg</th>\n",
       "      <th>cyl</th>\n",
       "      <th>disp</th>\n",
       "      <th>hp</th>\n",
       "      <th>drat</th>\n",
       "      <th>wt</th>\n",
       "      <th>qsec</th>\n",
       "      <th>vs</th>\n",
       "      <th>am</th>\n",
       "      <th>gear</th>\n",
       "      <th>carb</th>\n",
       "    </tr>\n",
       "  </thead>\n",
       "  <tbody>\n",
       "    <tr>\n",
       "      <th>Mazda RX4</th>\n",
       "      <td>21.0</td>\n",
       "      <td>6</td>\n",
       "      <td>160.0</td>\n",
       "      <td>110</td>\n",
       "      <td>3.90</td>\n",
       "      <td>2.620</td>\n",
       "      <td>16.46</td>\n",
       "      <td>0</td>\n",
       "      <td>1</td>\n",
       "      <td>4</td>\n",
       "      <td>4</td>\n",
       "    </tr>\n",
       "    <tr>\n",
       "      <th>Mazda RX4 Wag</th>\n",
       "      <td>21.0</td>\n",
       "      <td>6</td>\n",
       "      <td>160.0</td>\n",
       "      <td>110</td>\n",
       "      <td>3.90</td>\n",
       "      <td>2.875</td>\n",
       "      <td>17.02</td>\n",
       "      <td>0</td>\n",
       "      <td>1</td>\n",
       "      <td>4</td>\n",
       "      <td>4</td>\n",
       "    </tr>\n",
       "    <tr>\n",
       "      <th>Datsun 710</th>\n",
       "      <td>22.8</td>\n",
       "      <td>4</td>\n",
       "      <td>108.0</td>\n",
       "      <td>93</td>\n",
       "      <td>3.85</td>\n",
       "      <td>2.320</td>\n",
       "      <td>18.61</td>\n",
       "      <td>1</td>\n",
       "      <td>1</td>\n",
       "      <td>4</td>\n",
       "      <td>1</td>\n",
       "    </tr>\n",
       "    <tr>\n",
       "      <th>Hornet 4 Drive</th>\n",
       "      <td>21.4</td>\n",
       "      <td>6</td>\n",
       "      <td>258.0</td>\n",
       "      <td>110</td>\n",
       "      <td>3.08</td>\n",
       "      <td>3.215</td>\n",
       "      <td>19.44</td>\n",
       "      <td>1</td>\n",
       "      <td>0</td>\n",
       "      <td>3</td>\n",
       "      <td>1</td>\n",
       "    </tr>\n",
       "    <tr>\n",
       "      <th>Hornet Sportabout</th>\n",
       "      <td>18.7</td>\n",
       "      <td>8</td>\n",
       "      <td>360.0</td>\n",
       "      <td>175</td>\n",
       "      <td>3.15</td>\n",
       "      <td>3.440</td>\n",
       "      <td>17.02</td>\n",
       "      <td>0</td>\n",
       "      <td>0</td>\n",
       "      <td>3</td>\n",
       "      <td>2</td>\n",
       "    </tr>\n",
       "  </tbody>\n",
       "</table>\n",
       "</div>"
      ],
      "text/plain": [
       "                    mpg  cyl   disp   hp  drat     wt   qsec  vs  am  gear  \\\n",
       "Mazda RX4          21.0    6  160.0  110  3.90  2.620  16.46   0   1     4   \n",
       "Mazda RX4 Wag      21.0    6  160.0  110  3.90  2.875  17.02   0   1     4   \n",
       "Datsun 710         22.8    4  108.0   93  3.85  2.320  18.61   1   1     4   \n",
       "Hornet 4 Drive     21.4    6  258.0  110  3.08  3.215  19.44   1   0     3   \n",
       "Hornet Sportabout  18.7    8  360.0  175  3.15  3.440  17.02   0   0     3   \n",
       "\n",
       "                   carb  \n",
       "Mazda RX4             4  \n",
       "Mazda RX4 Wag         4  \n",
       "Datsun 710            1  \n",
       "Hornet 4 Drive        1  \n",
       "Hornet Sportabout     2  "
      ]
     },
     "execution_count": 107,
     "metadata": {},
     "output_type": "execute_result"
    }
   ],
   "source": [
    "pd.read_excel(io='../data/exportXL.xlsx', sheet_name=0, index_col = 'Unnamed: 0').head()"
   ]
  },
  {
   "cell_type": "code",
   "execution_count": 109,
   "id": "4f4da957-44b7-47dd-b7a9-1d4f2d7b4ef0",
   "metadata": {},
   "outputs": [
    {
     "data": {
      "text/html": [
       "<div>\n",
       "<style scoped>\n",
       "    .dataframe tbody tr th:only-of-type {\n",
       "        vertical-align: middle;\n",
       "    }\n",
       "\n",
       "    .dataframe tbody tr th {\n",
       "        vertical-align: top;\n",
       "    }\n",
       "\n",
       "    .dataframe thead th {\n",
       "        text-align: right;\n",
       "    }\n",
       "</style>\n",
       "<table border=\"1\" class=\"dataframe\">\n",
       "  <thead>\n",
       "    <tr style=\"text-align: right;\">\n",
       "      <th></th>\n",
       "      <th>Unnamed: 0</th>\n",
       "      <th>mpg</th>\n",
       "      <th>cyl</th>\n",
       "      <th>disp</th>\n",
       "      <th>hp</th>\n",
       "      <th>drat</th>\n",
       "      <th>wt</th>\n",
       "      <th>qsec</th>\n",
       "      <th>vs</th>\n",
       "      <th>am</th>\n",
       "      <th>gear</th>\n",
       "      <th>carb</th>\n",
       "    </tr>\n",
       "  </thead>\n",
       "  <tbody>\n",
       "    <tr>\n",
       "      <th>0</th>\n",
       "      <td>Datsun 710</td>\n",
       "      <td>22.8</td>\n",
       "      <td>4.0</td>\n",
       "      <td>108.0</td>\n",
       "      <td>93.0</td>\n",
       "      <td>3.85</td>\n",
       "      <td>2.320</td>\n",
       "      <td>18.61</td>\n",
       "      <td>1.0</td>\n",
       "      <td>1.0</td>\n",
       "      <td>4.0</td>\n",
       "      <td>1.0</td>\n",
       "    </tr>\n",
       "    <tr>\n",
       "      <th>1</th>\n",
       "      <td>Hornet 4 Drive</td>\n",
       "      <td>21.4</td>\n",
       "      <td>6.0</td>\n",
       "      <td>258.0</td>\n",
       "      <td>110.0</td>\n",
       "      <td>3.08</td>\n",
       "      <td>3.215</td>\n",
       "      <td>19.44</td>\n",
       "      <td>1.0</td>\n",
       "      <td>0.0</td>\n",
       "      <td>3.0</td>\n",
       "      <td>1.0</td>\n",
       "    </tr>\n",
       "    <tr>\n",
       "      <th>2</th>\n",
       "      <td>Hornet Sportabout</td>\n",
       "      <td>18.7</td>\n",
       "      <td>8.0</td>\n",
       "      <td>360.0</td>\n",
       "      <td>175.0</td>\n",
       "      <td>3.15</td>\n",
       "      <td>3.440</td>\n",
       "      <td>17.02</td>\n",
       "      <td>0.0</td>\n",
       "      <td>0.0</td>\n",
       "      <td>3.0</td>\n",
       "      <td>2.0</td>\n",
       "    </tr>\n",
       "    <tr>\n",
       "      <th>3</th>\n",
       "      <td>Valiant</td>\n",
       "      <td>18.1</td>\n",
       "      <td>6.0</td>\n",
       "      <td>225.0</td>\n",
       "      <td>105.0</td>\n",
       "      <td>2.76</td>\n",
       "      <td>3.460</td>\n",
       "      <td>20.22</td>\n",
       "      <td>1.0</td>\n",
       "      <td>0.0</td>\n",
       "      <td>3.0</td>\n",
       "      <td>1.0</td>\n",
       "    </tr>\n",
       "    <tr>\n",
       "      <th>4</th>\n",
       "      <td>Duster 360</td>\n",
       "      <td>14.3</td>\n",
       "      <td>8.0</td>\n",
       "      <td>360.0</td>\n",
       "      <td>245.0</td>\n",
       "      <td>3.21</td>\n",
       "      <td>3.570</td>\n",
       "      <td>15.84</td>\n",
       "      <td>0.0</td>\n",
       "      <td>0.0</td>\n",
       "      <td>3.0</td>\n",
       "      <td>4.0</td>\n",
       "    </tr>\n",
       "  </tbody>\n",
       "</table>\n",
       "</div>"
      ],
      "text/plain": [
       "          Unnamed: 0   mpg  cyl   disp     hp  drat     wt   qsec   vs   am  \\\n",
       "0         Datsun 710  22.8  4.0  108.0   93.0  3.85  2.320  18.61  1.0  1.0   \n",
       "1     Hornet 4 Drive  21.4  6.0  258.0  110.0  3.08  3.215  19.44  1.0  0.0   \n",
       "2  Hornet Sportabout  18.7  8.0  360.0  175.0  3.15  3.440  17.02  0.0  0.0   \n",
       "3            Valiant  18.1  6.0  225.0  105.0  2.76  3.460  20.22  1.0  0.0   \n",
       "4         Duster 360  14.3  8.0  360.0  245.0  3.21  3.570  15.84  0.0  0.0   \n",
       "\n",
       "   gear  carb  \n",
       "0   4.0   1.0  \n",
       "1   3.0   1.0  \n",
       "2   3.0   2.0  \n",
       "3   3.0   1.0  \n",
       "4   3.0   4.0  "
      ]
     },
     "execution_count": 109,
     "metadata": {},
     "output_type": "execute_result"
    }
   ],
   "source": [
    "#certain rows can be skipped based on starting character\n",
    "pd.read_excel(io='../data/exportXL.xlsx', sheet_name = 0, comment='M').head()\n",
    "#carnames on first col starting with M are skipped"
   ]
  },
  {
   "cell_type": "markdown",
   "id": "4bfc208f-efa3-4415-990d-2afa3437a676",
   "metadata": {},
   "source": [
    "### to_json\n"
   ]
  },
  {
   "cell_type": "markdown",
   "id": "05f603a0-f668-4094-a799-5633502410d7",
   "metadata": {},
   "source": [
    "### to_html\n"
   ]
  },
  {
   "cell_type": "markdown",
   "id": "4a3e3094-5e49-4661-9fd0-45236de574ff",
   "metadata": {},
   "source": [
    "### to_feather\n"
   ]
  },
  {
   "cell_type": "markdown",
   "id": "5579f015-8919-4394-9944-05c820b6daad",
   "metadata": {},
   "source": [
    "### to_latex\n"
   ]
  },
  {
   "cell_type": "markdown",
   "id": "dcd5d947-fd0d-4f4c-be59-c1ad584352b8",
   "metadata": {},
   "source": [
    "### to_stata\n"
   ]
  },
  {
   "cell_type": "markdown",
   "id": "7a699ea1-b0a7-46df-a796-d9221c2e747e",
   "metadata": {},
   "source": [
    "### to_msqpack\n"
   ]
  },
  {
   "cell_type": "markdown",
   "id": "6495b5c4-87c0-4db4-ab7e-d725afd6c8b7",
   "metadata": {},
   "source": [
    "### to_gbq\n"
   ]
  },
  {
   "cell_type": "markdown",
   "id": "2d911657-c8e2-4c2d-8f9a-e4bac660dbce",
   "metadata": {},
   "source": [
    "### to_records\n",
    "DataFrame.to_records(index=True, column_dtypes=None, index_dtypes=None)[source]\n",
    "Convert DataFrame to a NumPy record array.\n",
    "\n",
    "Index will be included as the first field of the record array if requested.\n",
    "If the DataFrame index has no label then the recarray field name is set to ‘index’. If the index has a label then this is used as the field name:\n",
    "df.index = df.index.rename(\"carName\")\n",
    "df.to_records()\n",
    "The index can be excluded from the record array:\n",
    "df.to_records(index=False)"
   ]
  },
  {
   "cell_type": "code",
   "execution_count": 10,
   "id": "1109ad74-cdda-4e33-a3ea-5a44eb149733",
   "metadata": {},
   "outputs": [
    {
     "data": {
      "text/plain": [
       "rec.array([('Mazda RX4', 21. , 6, 160. , 110, 3.9 , 2.62 , 16.46, 0, 1, 4, 4),\n",
       "           ('Mazda RX4 Wag', 21. , 6, 160. , 110, 3.9 , 2.875, 17.02, 0, 1, 4, 4),\n",
       "           ('Datsun 710', 22.8, 4, 108. ,  93, 3.85, 2.32 , 18.61, 1, 1, 4, 1),\n",
       "           ('Hornet 4 Drive', 21.4, 6, 258. , 110, 3.08, 3.215, 19.44, 1, 0, 3, 1),\n",
       "           ('Hornet Sportabout', 18.7, 8, 360. , 175, 3.15, 3.44 , 17.02, 0, 0, 3, 2),\n",
       "           ('Valiant', 18.1, 6, 225. , 105, 2.76, 3.46 , 20.22, 1, 0, 3, 1),\n",
       "           ('Duster 360', 14.3, 8, 360. , 245, 3.21, 3.57 , 15.84, 0, 0, 3, 4),\n",
       "           ('Merc 240D', 24.4, 4, 146.7,  62, 3.69, 3.19 , 20.  , 1, 0, 4, 2),\n",
       "           ('Merc 230', 22.8, 4, 140.8,  95, 3.92, 3.15 , 22.9 , 1, 0, 4, 2),\n",
       "           ('Merc 280', 19.2, 6, 167.6, 123, 3.92, 3.44 , 18.3 , 1, 0, 4, 4),\n",
       "           ('Merc 280C', 17.8, 6, 167.6, 123, 3.92, 3.44 , 18.9 , 1, 0, 4, 4),\n",
       "           ('Merc 450SE', 16.4, 8, 275.8, 180, 3.07, 4.07 , 17.4 , 0, 0, 3, 3),\n",
       "           ('Merc 450SL', 17.3, 8, 275.8, 180, 3.07, 3.73 , 17.6 , 0, 0, 3, 3),\n",
       "           ('Merc 450SLC', 15.2, 8, 275.8, 180, 3.07, 3.78 , 18.  , 0, 0, 3, 3),\n",
       "           ('Cadillac Fleetwood', 10.4, 8, 472. , 205, 2.93, 5.25 , 17.98, 0, 0, 3, 4),\n",
       "           ('Lincoln Continental', 10.4, 8, 460. , 215, 3.  , 5.424, 17.82, 0, 0, 3, 4),\n",
       "           ('Chrysler Imperial', 14.7, 8, 440. , 230, 3.23, 5.345, 17.42, 0, 0, 3, 4),\n",
       "           ('Fiat 128', 32.4, 4,  78.7,  66, 4.08, 2.2  , 19.47, 1, 1, 4, 1),\n",
       "           ('Honda Civic', 30.4, 4,  75.7,  52, 4.93, 1.615, 18.52, 1, 1, 4, 2),\n",
       "           ('Toyota Corolla', 33.9, 4,  71.1,  65, 4.22, 1.835, 19.9 , 1, 1, 4, 1),\n",
       "           ('Toyota Corona', 21.5, 4, 120.1,  97, 3.7 , 2.465, 20.01, 1, 0, 3, 1),\n",
       "           ('Dodge Challenger', 15.5, 8, 318. , 150, 2.76, 3.52 , 16.87, 0, 0, 3, 2),\n",
       "           ('AMC Javelin', 15.2, 8, 304. , 150, 3.15, 3.435, 17.3 , 0, 0, 3, 2),\n",
       "           ('Camaro Z28', 13.3, 8, 350. , 245, 3.73, 3.84 , 15.41, 0, 0, 3, 4),\n",
       "           ('Pontiac Firebird', 19.2, 8, 400. , 175, 3.08, 3.845, 17.05, 0, 0, 3, 2),\n",
       "           ('Fiat X1-9', 27.3, 4,  79. ,  66, 4.08, 1.935, 18.9 , 1, 1, 4, 1),\n",
       "           ('Porsche 914-2', 26. , 4, 120.3,  91, 4.43, 2.14 , 16.7 , 0, 1, 5, 2),\n",
       "           ('Lotus Europa', 30.4, 4,  95.1, 113, 3.77, 1.513, 16.9 , 1, 1, 5, 2),\n",
       "           ('Ford Pantera L', 15.8, 8, 351. , 264, 4.22, 3.17 , 14.5 , 0, 1, 5, 4),\n",
       "           ('Ferrari Dino', 19.7, 6, 145. , 175, 3.62, 2.77 , 15.5 , 0, 1, 5, 6),\n",
       "           ('Maserati Bora', 15. , 8, 301. , 335, 3.54, 3.57 , 14.6 , 0, 1, 5, 8),\n",
       "           ('Volvo 142E', 21.4, 4, 121. , 109, 4.11, 2.78 , 18.6 , 1, 1, 4, 2)],\n",
       "          dtype=[('index', 'O'), ('mpg', '<f8'), ('cyl', '<i8'), ('disp', '<f8'), ('hp', '<i8'), ('drat', '<f8'), ('wt', '<f8'), ('qsec', '<f8'), ('vs', '<i8'), ('am', '<i8'), ('gear', '<i8'), ('carb', '<i8')])"
      ]
     },
     "execution_count": 10,
     "metadata": {},
     "output_type": "execute_result"
    }
   ],
   "source": [
    "mtcarsDF.to_records()"
   ]
  },
  {
   "cell_type": "markdown",
   "id": "434a15b9-6b30-427c-9b0e-49c61b507cd2",
   "metadata": {},
   "source": [
    "### to_sparse\n"
   ]
  },
  {
   "cell_type": "markdown",
   "id": "d971dc1e-b019-4f0b-8503-33088dc5543c",
   "metadata": {},
   "source": [
    "### to_dense\n"
   ]
  },
  {
   "cell_type": "markdown",
   "id": "067cfc51-ad34-4605-b534-d43bdbcc1f9a",
   "metadata": {},
   "source": [
    "### to_string\n",
    "DataFrame.to_string(buf=None, columns=None, col_space=None, header=True, index=True, na_rep='NaN', formatters=None, float_format=None, sparsify=None, index_names=True, justify=None, max_rows=None, max_cols=None, show_dimensions=False, decimal='.', line_width=None, min_rows=None, max_colwidth=None, encoding=None)[source]\n",
    "Render a DataFrame to a console-friendly tabular output."
   ]
  },
  {
   "cell_type": "code",
   "execution_count": 11,
   "id": "a7c3c13f-3dd6-41cd-86bf-c395f69d411a",
   "metadata": {},
   "outputs": [
    {
     "data": {
      "text/plain": [
       "'                      mpg  cyl   disp   hp  drat     wt   qsec  vs  am  gear  carb\\nMazda RX4            21.0    6  160.0  110  3.90  2.620  16.46   0   1     4     4\\nMazda RX4 Wag        21.0    6  160.0  110  3.90  2.875  17.02   0   1     4     4\\nDatsun 710           22.8    4  108.0   93  3.85  2.320  18.61   1   1     4     1\\nHornet 4 Drive       21.4    6  258.0  110  3.08  3.215  19.44   1   0     3     1\\nHornet Sportabout    18.7    8  360.0  175  3.15  3.440  17.02   0   0     3     2\\nValiant              18.1    6  225.0  105  2.76  3.460  20.22   1   0     3     1\\nDuster 360           14.3    8  360.0  245  3.21  3.570  15.84   0   0     3     4\\nMerc 240D            24.4    4  146.7   62  3.69  3.190  20.00   1   0     4     2\\nMerc 230             22.8    4  140.8   95  3.92  3.150  22.90   1   0     4     2\\nMerc 280             19.2    6  167.6  123  3.92  3.440  18.30   1   0     4     4\\nMerc 280C            17.8    6  167.6  123  3.92  3.440  18.90   1   0     4     4\\nMerc 450SE           16.4    8  275.8  180  3.07  4.070  17.40   0   0     3     3\\nMerc 450SL           17.3    8  275.8  180  3.07  3.730  17.60   0   0     3     3\\nMerc 450SLC          15.2    8  275.8  180  3.07  3.780  18.00   0   0     3     3\\nCadillac Fleetwood   10.4    8  472.0  205  2.93  5.250  17.98   0   0     3     4\\nLincoln Continental  10.4    8  460.0  215  3.00  5.424  17.82   0   0     3     4\\nChrysler Imperial    14.7    8  440.0  230  3.23  5.345  17.42   0   0     3     4\\nFiat 128             32.4    4   78.7   66  4.08  2.200  19.47   1   1     4     1\\nHonda Civic          30.4    4   75.7   52  4.93  1.615  18.52   1   1     4     2\\nToyota Corolla       33.9    4   71.1   65  4.22  1.835  19.90   1   1     4     1\\nToyota Corona        21.5    4  120.1   97  3.70  2.465  20.01   1   0     3     1\\nDodge Challenger     15.5    8  318.0  150  2.76  3.520  16.87   0   0     3     2\\nAMC Javelin          15.2    8  304.0  150  3.15  3.435  17.30   0   0     3     2\\nCamaro Z28           13.3    8  350.0  245  3.73  3.840  15.41   0   0     3     4\\nPontiac Firebird     19.2    8  400.0  175  3.08  3.845  17.05   0   0     3     2\\nFiat X1-9            27.3    4   79.0   66  4.08  1.935  18.90   1   1     4     1\\nPorsche 914-2        26.0    4  120.3   91  4.43  2.140  16.70   0   1     5     2\\nLotus Europa         30.4    4   95.1  113  3.77  1.513  16.90   1   1     5     2\\nFord Pantera L       15.8    8  351.0  264  4.22  3.170  14.50   0   1     5     4\\nFerrari Dino         19.7    6  145.0  175  3.62  2.770  15.50   0   1     5     6\\nMaserati Bora        15.0    8  301.0  335  3.54  3.570  14.60   0   1     5     8\\nVolvo 142E           21.4    4  121.0  109  4.11  2.780  18.60   1   1     4     2'"
      ]
     },
     "execution_count": 11,
     "metadata": {},
     "output_type": "execute_result"
    }
   ],
   "source": [
    "mtcarsDF.to_string()"
   ]
  },
  {
   "cell_type": "markdown",
   "id": "3f15c0be-6035-4b4f-94b9-81b41aef517c",
   "metadata": {},
   "source": [
    "### to_clipboard\n",
    "DataFrame.to_clipboard(excel=True, sep=None, **kwargs)[source]\n",
    "Copy object to the system clipboard.\n",
    "\n",
    "Write a text representation of object to the system clipboard. This can be pasted into Excel, for example.\n",
    "\n",
    "Parameters\n",
    "excelbool, default True\n",
    "Produce output in a csv format for easy pasting into excel.\n",
    "\n",
    "True, use the provided separator for csv pasting.\n",
    "\n",
    "False, write a string representation of the object to the clipboard."
   ]
  },
  {
   "cell_type": "code",
   "execution_count": 14,
   "id": "0feb48c1-ec78-4ab2-b9d4-71147aa91bee",
   "metadata": {},
   "outputs": [],
   "source": [
    "mtcarsDF.to_clipboard(excel=True, sep=',')"
   ]
  },
  {
   "cell_type": "markdown",
   "id": "ad541853-e0d7-4706-a2f2-c00ea7b28226",
   "metadata": {},
   "source": [
    "### to_style\n",
    "property DataFrame.style[source]\n",
    "Returns a Styler object.\n",
    "\n",
    "Contains methods for building a styled HTML representation of the DataFrame."
   ]
  },
  {
   "cell_type": "code",
   "execution_count": 13,
   "id": "17206c39-44a7-45ca-8977-21061b7668d1",
   "metadata": {},
   "outputs": [
    {
     "data": {
      "text/html": [
       "<style type=\"text/css\">\n",
       "</style>\n",
       "<table id=\"T_185b5\">\n",
       "  <thead>\n",
       "    <tr>\n",
       "      <th class=\"blank level0\" >&nbsp;</th>\n",
       "      <th id=\"T_185b5_level0_col0\" class=\"col_heading level0 col0\" >mpg</th>\n",
       "      <th id=\"T_185b5_level0_col1\" class=\"col_heading level0 col1\" >cyl</th>\n",
       "      <th id=\"T_185b5_level0_col2\" class=\"col_heading level0 col2\" >disp</th>\n",
       "      <th id=\"T_185b5_level0_col3\" class=\"col_heading level0 col3\" >hp</th>\n",
       "      <th id=\"T_185b5_level0_col4\" class=\"col_heading level0 col4\" >drat</th>\n",
       "      <th id=\"T_185b5_level0_col5\" class=\"col_heading level0 col5\" >wt</th>\n",
       "      <th id=\"T_185b5_level0_col6\" class=\"col_heading level0 col6\" >qsec</th>\n",
       "      <th id=\"T_185b5_level0_col7\" class=\"col_heading level0 col7\" >vs</th>\n",
       "      <th id=\"T_185b5_level0_col8\" class=\"col_heading level0 col8\" >am</th>\n",
       "      <th id=\"T_185b5_level0_col9\" class=\"col_heading level0 col9\" >gear</th>\n",
       "      <th id=\"T_185b5_level0_col10\" class=\"col_heading level0 col10\" >carb</th>\n",
       "    </tr>\n",
       "  </thead>\n",
       "  <tbody>\n",
       "    <tr>\n",
       "      <th id=\"T_185b5_level0_row0\" class=\"row_heading level0 row0\" >Mazda RX4</th>\n",
       "      <td id=\"T_185b5_row0_col0\" class=\"data row0 col0\" >21.000000</td>\n",
       "      <td id=\"T_185b5_row0_col1\" class=\"data row0 col1\" >6</td>\n",
       "      <td id=\"T_185b5_row0_col2\" class=\"data row0 col2\" >160.000000</td>\n",
       "      <td id=\"T_185b5_row0_col3\" class=\"data row0 col3\" >110</td>\n",
       "      <td id=\"T_185b5_row0_col4\" class=\"data row0 col4\" >3.900000</td>\n",
       "      <td id=\"T_185b5_row0_col5\" class=\"data row0 col5\" >2.620000</td>\n",
       "      <td id=\"T_185b5_row0_col6\" class=\"data row0 col6\" >16.460000</td>\n",
       "      <td id=\"T_185b5_row0_col7\" class=\"data row0 col7\" >0</td>\n",
       "      <td id=\"T_185b5_row0_col8\" class=\"data row0 col8\" >1</td>\n",
       "      <td id=\"T_185b5_row0_col9\" class=\"data row0 col9\" >4</td>\n",
       "      <td id=\"T_185b5_row0_col10\" class=\"data row0 col10\" >4</td>\n",
       "    </tr>\n",
       "    <tr>\n",
       "      <th id=\"T_185b5_level0_row1\" class=\"row_heading level0 row1\" >Mazda RX4 Wag</th>\n",
       "      <td id=\"T_185b5_row1_col0\" class=\"data row1 col0\" >21.000000</td>\n",
       "      <td id=\"T_185b5_row1_col1\" class=\"data row1 col1\" >6</td>\n",
       "      <td id=\"T_185b5_row1_col2\" class=\"data row1 col2\" >160.000000</td>\n",
       "      <td id=\"T_185b5_row1_col3\" class=\"data row1 col3\" >110</td>\n",
       "      <td id=\"T_185b5_row1_col4\" class=\"data row1 col4\" >3.900000</td>\n",
       "      <td id=\"T_185b5_row1_col5\" class=\"data row1 col5\" >2.875000</td>\n",
       "      <td id=\"T_185b5_row1_col6\" class=\"data row1 col6\" >17.020000</td>\n",
       "      <td id=\"T_185b5_row1_col7\" class=\"data row1 col7\" >0</td>\n",
       "      <td id=\"T_185b5_row1_col8\" class=\"data row1 col8\" >1</td>\n",
       "      <td id=\"T_185b5_row1_col9\" class=\"data row1 col9\" >4</td>\n",
       "      <td id=\"T_185b5_row1_col10\" class=\"data row1 col10\" >4</td>\n",
       "    </tr>\n",
       "    <tr>\n",
       "      <th id=\"T_185b5_level0_row2\" class=\"row_heading level0 row2\" >Datsun 710</th>\n",
       "      <td id=\"T_185b5_row2_col0\" class=\"data row2 col0\" >22.800000</td>\n",
       "      <td id=\"T_185b5_row2_col1\" class=\"data row2 col1\" >4</td>\n",
       "      <td id=\"T_185b5_row2_col2\" class=\"data row2 col2\" >108.000000</td>\n",
       "      <td id=\"T_185b5_row2_col3\" class=\"data row2 col3\" >93</td>\n",
       "      <td id=\"T_185b5_row2_col4\" class=\"data row2 col4\" >3.850000</td>\n",
       "      <td id=\"T_185b5_row2_col5\" class=\"data row2 col5\" >2.320000</td>\n",
       "      <td id=\"T_185b5_row2_col6\" class=\"data row2 col6\" >18.610000</td>\n",
       "      <td id=\"T_185b5_row2_col7\" class=\"data row2 col7\" >1</td>\n",
       "      <td id=\"T_185b5_row2_col8\" class=\"data row2 col8\" >1</td>\n",
       "      <td id=\"T_185b5_row2_col9\" class=\"data row2 col9\" >4</td>\n",
       "      <td id=\"T_185b5_row2_col10\" class=\"data row2 col10\" >1</td>\n",
       "    </tr>\n",
       "    <tr>\n",
       "      <th id=\"T_185b5_level0_row3\" class=\"row_heading level0 row3\" >Hornet 4 Drive</th>\n",
       "      <td id=\"T_185b5_row3_col0\" class=\"data row3 col0\" >21.400000</td>\n",
       "      <td id=\"T_185b5_row3_col1\" class=\"data row3 col1\" >6</td>\n",
       "      <td id=\"T_185b5_row3_col2\" class=\"data row3 col2\" >258.000000</td>\n",
       "      <td id=\"T_185b5_row3_col3\" class=\"data row3 col3\" >110</td>\n",
       "      <td id=\"T_185b5_row3_col4\" class=\"data row3 col4\" >3.080000</td>\n",
       "      <td id=\"T_185b5_row3_col5\" class=\"data row3 col5\" >3.215000</td>\n",
       "      <td id=\"T_185b5_row3_col6\" class=\"data row3 col6\" >19.440000</td>\n",
       "      <td id=\"T_185b5_row3_col7\" class=\"data row3 col7\" >1</td>\n",
       "      <td id=\"T_185b5_row3_col8\" class=\"data row3 col8\" >0</td>\n",
       "      <td id=\"T_185b5_row3_col9\" class=\"data row3 col9\" >3</td>\n",
       "      <td id=\"T_185b5_row3_col10\" class=\"data row3 col10\" >1</td>\n",
       "    </tr>\n",
       "    <tr>\n",
       "      <th id=\"T_185b5_level0_row4\" class=\"row_heading level0 row4\" >Hornet Sportabout</th>\n",
       "      <td id=\"T_185b5_row4_col0\" class=\"data row4 col0\" >18.700000</td>\n",
       "      <td id=\"T_185b5_row4_col1\" class=\"data row4 col1\" >8</td>\n",
       "      <td id=\"T_185b5_row4_col2\" class=\"data row4 col2\" >360.000000</td>\n",
       "      <td id=\"T_185b5_row4_col3\" class=\"data row4 col3\" >175</td>\n",
       "      <td id=\"T_185b5_row4_col4\" class=\"data row4 col4\" >3.150000</td>\n",
       "      <td id=\"T_185b5_row4_col5\" class=\"data row4 col5\" >3.440000</td>\n",
       "      <td id=\"T_185b5_row4_col6\" class=\"data row4 col6\" >17.020000</td>\n",
       "      <td id=\"T_185b5_row4_col7\" class=\"data row4 col7\" >0</td>\n",
       "      <td id=\"T_185b5_row4_col8\" class=\"data row4 col8\" >0</td>\n",
       "      <td id=\"T_185b5_row4_col9\" class=\"data row4 col9\" >3</td>\n",
       "      <td id=\"T_185b5_row4_col10\" class=\"data row4 col10\" >2</td>\n",
       "    </tr>\n",
       "    <tr>\n",
       "      <th id=\"T_185b5_level0_row5\" class=\"row_heading level0 row5\" >Valiant</th>\n",
       "      <td id=\"T_185b5_row5_col0\" class=\"data row5 col0\" >18.100000</td>\n",
       "      <td id=\"T_185b5_row5_col1\" class=\"data row5 col1\" >6</td>\n",
       "      <td id=\"T_185b5_row5_col2\" class=\"data row5 col2\" >225.000000</td>\n",
       "      <td id=\"T_185b5_row5_col3\" class=\"data row5 col3\" >105</td>\n",
       "      <td id=\"T_185b5_row5_col4\" class=\"data row5 col4\" >2.760000</td>\n",
       "      <td id=\"T_185b5_row5_col5\" class=\"data row5 col5\" >3.460000</td>\n",
       "      <td id=\"T_185b5_row5_col6\" class=\"data row5 col6\" >20.220000</td>\n",
       "      <td id=\"T_185b5_row5_col7\" class=\"data row5 col7\" >1</td>\n",
       "      <td id=\"T_185b5_row5_col8\" class=\"data row5 col8\" >0</td>\n",
       "      <td id=\"T_185b5_row5_col9\" class=\"data row5 col9\" >3</td>\n",
       "      <td id=\"T_185b5_row5_col10\" class=\"data row5 col10\" >1</td>\n",
       "    </tr>\n",
       "    <tr>\n",
       "      <th id=\"T_185b5_level0_row6\" class=\"row_heading level0 row6\" >Duster 360</th>\n",
       "      <td id=\"T_185b5_row6_col0\" class=\"data row6 col0\" >14.300000</td>\n",
       "      <td id=\"T_185b5_row6_col1\" class=\"data row6 col1\" >8</td>\n",
       "      <td id=\"T_185b5_row6_col2\" class=\"data row6 col2\" >360.000000</td>\n",
       "      <td id=\"T_185b5_row6_col3\" class=\"data row6 col3\" >245</td>\n",
       "      <td id=\"T_185b5_row6_col4\" class=\"data row6 col4\" >3.210000</td>\n",
       "      <td id=\"T_185b5_row6_col5\" class=\"data row6 col5\" >3.570000</td>\n",
       "      <td id=\"T_185b5_row6_col6\" class=\"data row6 col6\" >15.840000</td>\n",
       "      <td id=\"T_185b5_row6_col7\" class=\"data row6 col7\" >0</td>\n",
       "      <td id=\"T_185b5_row6_col8\" class=\"data row6 col8\" >0</td>\n",
       "      <td id=\"T_185b5_row6_col9\" class=\"data row6 col9\" >3</td>\n",
       "      <td id=\"T_185b5_row6_col10\" class=\"data row6 col10\" >4</td>\n",
       "    </tr>\n",
       "    <tr>\n",
       "      <th id=\"T_185b5_level0_row7\" class=\"row_heading level0 row7\" >Merc 240D</th>\n",
       "      <td id=\"T_185b5_row7_col0\" class=\"data row7 col0\" >24.400000</td>\n",
       "      <td id=\"T_185b5_row7_col1\" class=\"data row7 col1\" >4</td>\n",
       "      <td id=\"T_185b5_row7_col2\" class=\"data row7 col2\" >146.700000</td>\n",
       "      <td id=\"T_185b5_row7_col3\" class=\"data row7 col3\" >62</td>\n",
       "      <td id=\"T_185b5_row7_col4\" class=\"data row7 col4\" >3.690000</td>\n",
       "      <td id=\"T_185b5_row7_col5\" class=\"data row7 col5\" >3.190000</td>\n",
       "      <td id=\"T_185b5_row7_col6\" class=\"data row7 col6\" >20.000000</td>\n",
       "      <td id=\"T_185b5_row7_col7\" class=\"data row7 col7\" >1</td>\n",
       "      <td id=\"T_185b5_row7_col8\" class=\"data row7 col8\" >0</td>\n",
       "      <td id=\"T_185b5_row7_col9\" class=\"data row7 col9\" >4</td>\n",
       "      <td id=\"T_185b5_row7_col10\" class=\"data row7 col10\" >2</td>\n",
       "    </tr>\n",
       "    <tr>\n",
       "      <th id=\"T_185b5_level0_row8\" class=\"row_heading level0 row8\" >Merc 230</th>\n",
       "      <td id=\"T_185b5_row8_col0\" class=\"data row8 col0\" >22.800000</td>\n",
       "      <td id=\"T_185b5_row8_col1\" class=\"data row8 col1\" >4</td>\n",
       "      <td id=\"T_185b5_row8_col2\" class=\"data row8 col2\" >140.800000</td>\n",
       "      <td id=\"T_185b5_row8_col3\" class=\"data row8 col3\" >95</td>\n",
       "      <td id=\"T_185b5_row8_col4\" class=\"data row8 col4\" >3.920000</td>\n",
       "      <td id=\"T_185b5_row8_col5\" class=\"data row8 col5\" >3.150000</td>\n",
       "      <td id=\"T_185b5_row8_col6\" class=\"data row8 col6\" >22.900000</td>\n",
       "      <td id=\"T_185b5_row8_col7\" class=\"data row8 col7\" >1</td>\n",
       "      <td id=\"T_185b5_row8_col8\" class=\"data row8 col8\" >0</td>\n",
       "      <td id=\"T_185b5_row8_col9\" class=\"data row8 col9\" >4</td>\n",
       "      <td id=\"T_185b5_row8_col10\" class=\"data row8 col10\" >2</td>\n",
       "    </tr>\n",
       "    <tr>\n",
       "      <th id=\"T_185b5_level0_row9\" class=\"row_heading level0 row9\" >Merc 280</th>\n",
       "      <td id=\"T_185b5_row9_col0\" class=\"data row9 col0\" >19.200000</td>\n",
       "      <td id=\"T_185b5_row9_col1\" class=\"data row9 col1\" >6</td>\n",
       "      <td id=\"T_185b5_row9_col2\" class=\"data row9 col2\" >167.600000</td>\n",
       "      <td id=\"T_185b5_row9_col3\" class=\"data row9 col3\" >123</td>\n",
       "      <td id=\"T_185b5_row9_col4\" class=\"data row9 col4\" >3.920000</td>\n",
       "      <td id=\"T_185b5_row9_col5\" class=\"data row9 col5\" >3.440000</td>\n",
       "      <td id=\"T_185b5_row9_col6\" class=\"data row9 col6\" >18.300000</td>\n",
       "      <td id=\"T_185b5_row9_col7\" class=\"data row9 col7\" >1</td>\n",
       "      <td id=\"T_185b5_row9_col8\" class=\"data row9 col8\" >0</td>\n",
       "      <td id=\"T_185b5_row9_col9\" class=\"data row9 col9\" >4</td>\n",
       "      <td id=\"T_185b5_row9_col10\" class=\"data row9 col10\" >4</td>\n",
       "    </tr>\n",
       "    <tr>\n",
       "      <th id=\"T_185b5_level0_row10\" class=\"row_heading level0 row10\" >Merc 280C</th>\n",
       "      <td id=\"T_185b5_row10_col0\" class=\"data row10 col0\" >17.800000</td>\n",
       "      <td id=\"T_185b5_row10_col1\" class=\"data row10 col1\" >6</td>\n",
       "      <td id=\"T_185b5_row10_col2\" class=\"data row10 col2\" >167.600000</td>\n",
       "      <td id=\"T_185b5_row10_col3\" class=\"data row10 col3\" >123</td>\n",
       "      <td id=\"T_185b5_row10_col4\" class=\"data row10 col4\" >3.920000</td>\n",
       "      <td id=\"T_185b5_row10_col5\" class=\"data row10 col5\" >3.440000</td>\n",
       "      <td id=\"T_185b5_row10_col6\" class=\"data row10 col6\" >18.900000</td>\n",
       "      <td id=\"T_185b5_row10_col7\" class=\"data row10 col7\" >1</td>\n",
       "      <td id=\"T_185b5_row10_col8\" class=\"data row10 col8\" >0</td>\n",
       "      <td id=\"T_185b5_row10_col9\" class=\"data row10 col9\" >4</td>\n",
       "      <td id=\"T_185b5_row10_col10\" class=\"data row10 col10\" >4</td>\n",
       "    </tr>\n",
       "    <tr>\n",
       "      <th id=\"T_185b5_level0_row11\" class=\"row_heading level0 row11\" >Merc 450SE</th>\n",
       "      <td id=\"T_185b5_row11_col0\" class=\"data row11 col0\" >16.400000</td>\n",
       "      <td id=\"T_185b5_row11_col1\" class=\"data row11 col1\" >8</td>\n",
       "      <td id=\"T_185b5_row11_col2\" class=\"data row11 col2\" >275.800000</td>\n",
       "      <td id=\"T_185b5_row11_col3\" class=\"data row11 col3\" >180</td>\n",
       "      <td id=\"T_185b5_row11_col4\" class=\"data row11 col4\" >3.070000</td>\n",
       "      <td id=\"T_185b5_row11_col5\" class=\"data row11 col5\" >4.070000</td>\n",
       "      <td id=\"T_185b5_row11_col6\" class=\"data row11 col6\" >17.400000</td>\n",
       "      <td id=\"T_185b5_row11_col7\" class=\"data row11 col7\" >0</td>\n",
       "      <td id=\"T_185b5_row11_col8\" class=\"data row11 col8\" >0</td>\n",
       "      <td id=\"T_185b5_row11_col9\" class=\"data row11 col9\" >3</td>\n",
       "      <td id=\"T_185b5_row11_col10\" class=\"data row11 col10\" >3</td>\n",
       "    </tr>\n",
       "    <tr>\n",
       "      <th id=\"T_185b5_level0_row12\" class=\"row_heading level0 row12\" >Merc 450SL</th>\n",
       "      <td id=\"T_185b5_row12_col0\" class=\"data row12 col0\" >17.300000</td>\n",
       "      <td id=\"T_185b5_row12_col1\" class=\"data row12 col1\" >8</td>\n",
       "      <td id=\"T_185b5_row12_col2\" class=\"data row12 col2\" >275.800000</td>\n",
       "      <td id=\"T_185b5_row12_col3\" class=\"data row12 col3\" >180</td>\n",
       "      <td id=\"T_185b5_row12_col4\" class=\"data row12 col4\" >3.070000</td>\n",
       "      <td id=\"T_185b5_row12_col5\" class=\"data row12 col5\" >3.730000</td>\n",
       "      <td id=\"T_185b5_row12_col6\" class=\"data row12 col6\" >17.600000</td>\n",
       "      <td id=\"T_185b5_row12_col7\" class=\"data row12 col7\" >0</td>\n",
       "      <td id=\"T_185b5_row12_col8\" class=\"data row12 col8\" >0</td>\n",
       "      <td id=\"T_185b5_row12_col9\" class=\"data row12 col9\" >3</td>\n",
       "      <td id=\"T_185b5_row12_col10\" class=\"data row12 col10\" >3</td>\n",
       "    </tr>\n",
       "    <tr>\n",
       "      <th id=\"T_185b5_level0_row13\" class=\"row_heading level0 row13\" >Merc 450SLC</th>\n",
       "      <td id=\"T_185b5_row13_col0\" class=\"data row13 col0\" >15.200000</td>\n",
       "      <td id=\"T_185b5_row13_col1\" class=\"data row13 col1\" >8</td>\n",
       "      <td id=\"T_185b5_row13_col2\" class=\"data row13 col2\" >275.800000</td>\n",
       "      <td id=\"T_185b5_row13_col3\" class=\"data row13 col3\" >180</td>\n",
       "      <td id=\"T_185b5_row13_col4\" class=\"data row13 col4\" >3.070000</td>\n",
       "      <td id=\"T_185b5_row13_col5\" class=\"data row13 col5\" >3.780000</td>\n",
       "      <td id=\"T_185b5_row13_col6\" class=\"data row13 col6\" >18.000000</td>\n",
       "      <td id=\"T_185b5_row13_col7\" class=\"data row13 col7\" >0</td>\n",
       "      <td id=\"T_185b5_row13_col8\" class=\"data row13 col8\" >0</td>\n",
       "      <td id=\"T_185b5_row13_col9\" class=\"data row13 col9\" >3</td>\n",
       "      <td id=\"T_185b5_row13_col10\" class=\"data row13 col10\" >3</td>\n",
       "    </tr>\n",
       "    <tr>\n",
       "      <th id=\"T_185b5_level0_row14\" class=\"row_heading level0 row14\" >Cadillac Fleetwood</th>\n",
       "      <td id=\"T_185b5_row14_col0\" class=\"data row14 col0\" >10.400000</td>\n",
       "      <td id=\"T_185b5_row14_col1\" class=\"data row14 col1\" >8</td>\n",
       "      <td id=\"T_185b5_row14_col2\" class=\"data row14 col2\" >472.000000</td>\n",
       "      <td id=\"T_185b5_row14_col3\" class=\"data row14 col3\" >205</td>\n",
       "      <td id=\"T_185b5_row14_col4\" class=\"data row14 col4\" >2.930000</td>\n",
       "      <td id=\"T_185b5_row14_col5\" class=\"data row14 col5\" >5.250000</td>\n",
       "      <td id=\"T_185b5_row14_col6\" class=\"data row14 col6\" >17.980000</td>\n",
       "      <td id=\"T_185b5_row14_col7\" class=\"data row14 col7\" >0</td>\n",
       "      <td id=\"T_185b5_row14_col8\" class=\"data row14 col8\" >0</td>\n",
       "      <td id=\"T_185b5_row14_col9\" class=\"data row14 col9\" >3</td>\n",
       "      <td id=\"T_185b5_row14_col10\" class=\"data row14 col10\" >4</td>\n",
       "    </tr>\n",
       "    <tr>\n",
       "      <th id=\"T_185b5_level0_row15\" class=\"row_heading level0 row15\" >Lincoln Continental</th>\n",
       "      <td id=\"T_185b5_row15_col0\" class=\"data row15 col0\" >10.400000</td>\n",
       "      <td id=\"T_185b5_row15_col1\" class=\"data row15 col1\" >8</td>\n",
       "      <td id=\"T_185b5_row15_col2\" class=\"data row15 col2\" >460.000000</td>\n",
       "      <td id=\"T_185b5_row15_col3\" class=\"data row15 col3\" >215</td>\n",
       "      <td id=\"T_185b5_row15_col4\" class=\"data row15 col4\" >3.000000</td>\n",
       "      <td id=\"T_185b5_row15_col5\" class=\"data row15 col5\" >5.424000</td>\n",
       "      <td id=\"T_185b5_row15_col6\" class=\"data row15 col6\" >17.820000</td>\n",
       "      <td id=\"T_185b5_row15_col7\" class=\"data row15 col7\" >0</td>\n",
       "      <td id=\"T_185b5_row15_col8\" class=\"data row15 col8\" >0</td>\n",
       "      <td id=\"T_185b5_row15_col9\" class=\"data row15 col9\" >3</td>\n",
       "      <td id=\"T_185b5_row15_col10\" class=\"data row15 col10\" >4</td>\n",
       "    </tr>\n",
       "    <tr>\n",
       "      <th id=\"T_185b5_level0_row16\" class=\"row_heading level0 row16\" >Chrysler Imperial</th>\n",
       "      <td id=\"T_185b5_row16_col0\" class=\"data row16 col0\" >14.700000</td>\n",
       "      <td id=\"T_185b5_row16_col1\" class=\"data row16 col1\" >8</td>\n",
       "      <td id=\"T_185b5_row16_col2\" class=\"data row16 col2\" >440.000000</td>\n",
       "      <td id=\"T_185b5_row16_col3\" class=\"data row16 col3\" >230</td>\n",
       "      <td id=\"T_185b5_row16_col4\" class=\"data row16 col4\" >3.230000</td>\n",
       "      <td id=\"T_185b5_row16_col5\" class=\"data row16 col5\" >5.345000</td>\n",
       "      <td id=\"T_185b5_row16_col6\" class=\"data row16 col6\" >17.420000</td>\n",
       "      <td id=\"T_185b5_row16_col7\" class=\"data row16 col7\" >0</td>\n",
       "      <td id=\"T_185b5_row16_col8\" class=\"data row16 col8\" >0</td>\n",
       "      <td id=\"T_185b5_row16_col9\" class=\"data row16 col9\" >3</td>\n",
       "      <td id=\"T_185b5_row16_col10\" class=\"data row16 col10\" >4</td>\n",
       "    </tr>\n",
       "    <tr>\n",
       "      <th id=\"T_185b5_level0_row17\" class=\"row_heading level0 row17\" >Fiat 128</th>\n",
       "      <td id=\"T_185b5_row17_col0\" class=\"data row17 col0\" >32.400000</td>\n",
       "      <td id=\"T_185b5_row17_col1\" class=\"data row17 col1\" >4</td>\n",
       "      <td id=\"T_185b5_row17_col2\" class=\"data row17 col2\" >78.700000</td>\n",
       "      <td id=\"T_185b5_row17_col3\" class=\"data row17 col3\" >66</td>\n",
       "      <td id=\"T_185b5_row17_col4\" class=\"data row17 col4\" >4.080000</td>\n",
       "      <td id=\"T_185b5_row17_col5\" class=\"data row17 col5\" >2.200000</td>\n",
       "      <td id=\"T_185b5_row17_col6\" class=\"data row17 col6\" >19.470000</td>\n",
       "      <td id=\"T_185b5_row17_col7\" class=\"data row17 col7\" >1</td>\n",
       "      <td id=\"T_185b5_row17_col8\" class=\"data row17 col8\" >1</td>\n",
       "      <td id=\"T_185b5_row17_col9\" class=\"data row17 col9\" >4</td>\n",
       "      <td id=\"T_185b5_row17_col10\" class=\"data row17 col10\" >1</td>\n",
       "    </tr>\n",
       "    <tr>\n",
       "      <th id=\"T_185b5_level0_row18\" class=\"row_heading level0 row18\" >Honda Civic</th>\n",
       "      <td id=\"T_185b5_row18_col0\" class=\"data row18 col0\" >30.400000</td>\n",
       "      <td id=\"T_185b5_row18_col1\" class=\"data row18 col1\" >4</td>\n",
       "      <td id=\"T_185b5_row18_col2\" class=\"data row18 col2\" >75.700000</td>\n",
       "      <td id=\"T_185b5_row18_col3\" class=\"data row18 col3\" >52</td>\n",
       "      <td id=\"T_185b5_row18_col4\" class=\"data row18 col4\" >4.930000</td>\n",
       "      <td id=\"T_185b5_row18_col5\" class=\"data row18 col5\" >1.615000</td>\n",
       "      <td id=\"T_185b5_row18_col6\" class=\"data row18 col6\" >18.520000</td>\n",
       "      <td id=\"T_185b5_row18_col7\" class=\"data row18 col7\" >1</td>\n",
       "      <td id=\"T_185b5_row18_col8\" class=\"data row18 col8\" >1</td>\n",
       "      <td id=\"T_185b5_row18_col9\" class=\"data row18 col9\" >4</td>\n",
       "      <td id=\"T_185b5_row18_col10\" class=\"data row18 col10\" >2</td>\n",
       "    </tr>\n",
       "    <tr>\n",
       "      <th id=\"T_185b5_level0_row19\" class=\"row_heading level0 row19\" >Toyota Corolla</th>\n",
       "      <td id=\"T_185b5_row19_col0\" class=\"data row19 col0\" >33.900000</td>\n",
       "      <td id=\"T_185b5_row19_col1\" class=\"data row19 col1\" >4</td>\n",
       "      <td id=\"T_185b5_row19_col2\" class=\"data row19 col2\" >71.100000</td>\n",
       "      <td id=\"T_185b5_row19_col3\" class=\"data row19 col3\" >65</td>\n",
       "      <td id=\"T_185b5_row19_col4\" class=\"data row19 col4\" >4.220000</td>\n",
       "      <td id=\"T_185b5_row19_col5\" class=\"data row19 col5\" >1.835000</td>\n",
       "      <td id=\"T_185b5_row19_col6\" class=\"data row19 col6\" >19.900000</td>\n",
       "      <td id=\"T_185b5_row19_col7\" class=\"data row19 col7\" >1</td>\n",
       "      <td id=\"T_185b5_row19_col8\" class=\"data row19 col8\" >1</td>\n",
       "      <td id=\"T_185b5_row19_col9\" class=\"data row19 col9\" >4</td>\n",
       "      <td id=\"T_185b5_row19_col10\" class=\"data row19 col10\" >1</td>\n",
       "    </tr>\n",
       "    <tr>\n",
       "      <th id=\"T_185b5_level0_row20\" class=\"row_heading level0 row20\" >Toyota Corona</th>\n",
       "      <td id=\"T_185b5_row20_col0\" class=\"data row20 col0\" >21.500000</td>\n",
       "      <td id=\"T_185b5_row20_col1\" class=\"data row20 col1\" >4</td>\n",
       "      <td id=\"T_185b5_row20_col2\" class=\"data row20 col2\" >120.100000</td>\n",
       "      <td id=\"T_185b5_row20_col3\" class=\"data row20 col3\" >97</td>\n",
       "      <td id=\"T_185b5_row20_col4\" class=\"data row20 col4\" >3.700000</td>\n",
       "      <td id=\"T_185b5_row20_col5\" class=\"data row20 col5\" >2.465000</td>\n",
       "      <td id=\"T_185b5_row20_col6\" class=\"data row20 col6\" >20.010000</td>\n",
       "      <td id=\"T_185b5_row20_col7\" class=\"data row20 col7\" >1</td>\n",
       "      <td id=\"T_185b5_row20_col8\" class=\"data row20 col8\" >0</td>\n",
       "      <td id=\"T_185b5_row20_col9\" class=\"data row20 col9\" >3</td>\n",
       "      <td id=\"T_185b5_row20_col10\" class=\"data row20 col10\" >1</td>\n",
       "    </tr>\n",
       "    <tr>\n",
       "      <th id=\"T_185b5_level0_row21\" class=\"row_heading level0 row21\" >Dodge Challenger</th>\n",
       "      <td id=\"T_185b5_row21_col0\" class=\"data row21 col0\" >15.500000</td>\n",
       "      <td id=\"T_185b5_row21_col1\" class=\"data row21 col1\" >8</td>\n",
       "      <td id=\"T_185b5_row21_col2\" class=\"data row21 col2\" >318.000000</td>\n",
       "      <td id=\"T_185b5_row21_col3\" class=\"data row21 col3\" >150</td>\n",
       "      <td id=\"T_185b5_row21_col4\" class=\"data row21 col4\" >2.760000</td>\n",
       "      <td id=\"T_185b5_row21_col5\" class=\"data row21 col5\" >3.520000</td>\n",
       "      <td id=\"T_185b5_row21_col6\" class=\"data row21 col6\" >16.870000</td>\n",
       "      <td id=\"T_185b5_row21_col7\" class=\"data row21 col7\" >0</td>\n",
       "      <td id=\"T_185b5_row21_col8\" class=\"data row21 col8\" >0</td>\n",
       "      <td id=\"T_185b5_row21_col9\" class=\"data row21 col9\" >3</td>\n",
       "      <td id=\"T_185b5_row21_col10\" class=\"data row21 col10\" >2</td>\n",
       "    </tr>\n",
       "    <tr>\n",
       "      <th id=\"T_185b5_level0_row22\" class=\"row_heading level0 row22\" >AMC Javelin</th>\n",
       "      <td id=\"T_185b5_row22_col0\" class=\"data row22 col0\" >15.200000</td>\n",
       "      <td id=\"T_185b5_row22_col1\" class=\"data row22 col1\" >8</td>\n",
       "      <td id=\"T_185b5_row22_col2\" class=\"data row22 col2\" >304.000000</td>\n",
       "      <td id=\"T_185b5_row22_col3\" class=\"data row22 col3\" >150</td>\n",
       "      <td id=\"T_185b5_row22_col4\" class=\"data row22 col4\" >3.150000</td>\n",
       "      <td id=\"T_185b5_row22_col5\" class=\"data row22 col5\" >3.435000</td>\n",
       "      <td id=\"T_185b5_row22_col6\" class=\"data row22 col6\" >17.300000</td>\n",
       "      <td id=\"T_185b5_row22_col7\" class=\"data row22 col7\" >0</td>\n",
       "      <td id=\"T_185b5_row22_col8\" class=\"data row22 col8\" >0</td>\n",
       "      <td id=\"T_185b5_row22_col9\" class=\"data row22 col9\" >3</td>\n",
       "      <td id=\"T_185b5_row22_col10\" class=\"data row22 col10\" >2</td>\n",
       "    </tr>\n",
       "    <tr>\n",
       "      <th id=\"T_185b5_level0_row23\" class=\"row_heading level0 row23\" >Camaro Z28</th>\n",
       "      <td id=\"T_185b5_row23_col0\" class=\"data row23 col0\" >13.300000</td>\n",
       "      <td id=\"T_185b5_row23_col1\" class=\"data row23 col1\" >8</td>\n",
       "      <td id=\"T_185b5_row23_col2\" class=\"data row23 col2\" >350.000000</td>\n",
       "      <td id=\"T_185b5_row23_col3\" class=\"data row23 col3\" >245</td>\n",
       "      <td id=\"T_185b5_row23_col4\" class=\"data row23 col4\" >3.730000</td>\n",
       "      <td id=\"T_185b5_row23_col5\" class=\"data row23 col5\" >3.840000</td>\n",
       "      <td id=\"T_185b5_row23_col6\" class=\"data row23 col6\" >15.410000</td>\n",
       "      <td id=\"T_185b5_row23_col7\" class=\"data row23 col7\" >0</td>\n",
       "      <td id=\"T_185b5_row23_col8\" class=\"data row23 col8\" >0</td>\n",
       "      <td id=\"T_185b5_row23_col9\" class=\"data row23 col9\" >3</td>\n",
       "      <td id=\"T_185b5_row23_col10\" class=\"data row23 col10\" >4</td>\n",
       "    </tr>\n",
       "    <tr>\n",
       "      <th id=\"T_185b5_level0_row24\" class=\"row_heading level0 row24\" >Pontiac Firebird</th>\n",
       "      <td id=\"T_185b5_row24_col0\" class=\"data row24 col0\" >19.200000</td>\n",
       "      <td id=\"T_185b5_row24_col1\" class=\"data row24 col1\" >8</td>\n",
       "      <td id=\"T_185b5_row24_col2\" class=\"data row24 col2\" >400.000000</td>\n",
       "      <td id=\"T_185b5_row24_col3\" class=\"data row24 col3\" >175</td>\n",
       "      <td id=\"T_185b5_row24_col4\" class=\"data row24 col4\" >3.080000</td>\n",
       "      <td id=\"T_185b5_row24_col5\" class=\"data row24 col5\" >3.845000</td>\n",
       "      <td id=\"T_185b5_row24_col6\" class=\"data row24 col6\" >17.050000</td>\n",
       "      <td id=\"T_185b5_row24_col7\" class=\"data row24 col7\" >0</td>\n",
       "      <td id=\"T_185b5_row24_col8\" class=\"data row24 col8\" >0</td>\n",
       "      <td id=\"T_185b5_row24_col9\" class=\"data row24 col9\" >3</td>\n",
       "      <td id=\"T_185b5_row24_col10\" class=\"data row24 col10\" >2</td>\n",
       "    </tr>\n",
       "    <tr>\n",
       "      <th id=\"T_185b5_level0_row25\" class=\"row_heading level0 row25\" >Fiat X1-9</th>\n",
       "      <td id=\"T_185b5_row25_col0\" class=\"data row25 col0\" >27.300000</td>\n",
       "      <td id=\"T_185b5_row25_col1\" class=\"data row25 col1\" >4</td>\n",
       "      <td id=\"T_185b5_row25_col2\" class=\"data row25 col2\" >79.000000</td>\n",
       "      <td id=\"T_185b5_row25_col3\" class=\"data row25 col3\" >66</td>\n",
       "      <td id=\"T_185b5_row25_col4\" class=\"data row25 col4\" >4.080000</td>\n",
       "      <td id=\"T_185b5_row25_col5\" class=\"data row25 col5\" >1.935000</td>\n",
       "      <td id=\"T_185b5_row25_col6\" class=\"data row25 col6\" >18.900000</td>\n",
       "      <td id=\"T_185b5_row25_col7\" class=\"data row25 col7\" >1</td>\n",
       "      <td id=\"T_185b5_row25_col8\" class=\"data row25 col8\" >1</td>\n",
       "      <td id=\"T_185b5_row25_col9\" class=\"data row25 col9\" >4</td>\n",
       "      <td id=\"T_185b5_row25_col10\" class=\"data row25 col10\" >1</td>\n",
       "    </tr>\n",
       "    <tr>\n",
       "      <th id=\"T_185b5_level0_row26\" class=\"row_heading level0 row26\" >Porsche 914-2</th>\n",
       "      <td id=\"T_185b5_row26_col0\" class=\"data row26 col0\" >26.000000</td>\n",
       "      <td id=\"T_185b5_row26_col1\" class=\"data row26 col1\" >4</td>\n",
       "      <td id=\"T_185b5_row26_col2\" class=\"data row26 col2\" >120.300000</td>\n",
       "      <td id=\"T_185b5_row26_col3\" class=\"data row26 col3\" >91</td>\n",
       "      <td id=\"T_185b5_row26_col4\" class=\"data row26 col4\" >4.430000</td>\n",
       "      <td id=\"T_185b5_row26_col5\" class=\"data row26 col5\" >2.140000</td>\n",
       "      <td id=\"T_185b5_row26_col6\" class=\"data row26 col6\" >16.700000</td>\n",
       "      <td id=\"T_185b5_row26_col7\" class=\"data row26 col7\" >0</td>\n",
       "      <td id=\"T_185b5_row26_col8\" class=\"data row26 col8\" >1</td>\n",
       "      <td id=\"T_185b5_row26_col9\" class=\"data row26 col9\" >5</td>\n",
       "      <td id=\"T_185b5_row26_col10\" class=\"data row26 col10\" >2</td>\n",
       "    </tr>\n",
       "    <tr>\n",
       "      <th id=\"T_185b5_level0_row27\" class=\"row_heading level0 row27\" >Lotus Europa</th>\n",
       "      <td id=\"T_185b5_row27_col0\" class=\"data row27 col0\" >30.400000</td>\n",
       "      <td id=\"T_185b5_row27_col1\" class=\"data row27 col1\" >4</td>\n",
       "      <td id=\"T_185b5_row27_col2\" class=\"data row27 col2\" >95.100000</td>\n",
       "      <td id=\"T_185b5_row27_col3\" class=\"data row27 col3\" >113</td>\n",
       "      <td id=\"T_185b5_row27_col4\" class=\"data row27 col4\" >3.770000</td>\n",
       "      <td id=\"T_185b5_row27_col5\" class=\"data row27 col5\" >1.513000</td>\n",
       "      <td id=\"T_185b5_row27_col6\" class=\"data row27 col6\" >16.900000</td>\n",
       "      <td id=\"T_185b5_row27_col7\" class=\"data row27 col7\" >1</td>\n",
       "      <td id=\"T_185b5_row27_col8\" class=\"data row27 col8\" >1</td>\n",
       "      <td id=\"T_185b5_row27_col9\" class=\"data row27 col9\" >5</td>\n",
       "      <td id=\"T_185b5_row27_col10\" class=\"data row27 col10\" >2</td>\n",
       "    </tr>\n",
       "    <tr>\n",
       "      <th id=\"T_185b5_level0_row28\" class=\"row_heading level0 row28\" >Ford Pantera L</th>\n",
       "      <td id=\"T_185b5_row28_col0\" class=\"data row28 col0\" >15.800000</td>\n",
       "      <td id=\"T_185b5_row28_col1\" class=\"data row28 col1\" >8</td>\n",
       "      <td id=\"T_185b5_row28_col2\" class=\"data row28 col2\" >351.000000</td>\n",
       "      <td id=\"T_185b5_row28_col3\" class=\"data row28 col3\" >264</td>\n",
       "      <td id=\"T_185b5_row28_col4\" class=\"data row28 col4\" >4.220000</td>\n",
       "      <td id=\"T_185b5_row28_col5\" class=\"data row28 col5\" >3.170000</td>\n",
       "      <td id=\"T_185b5_row28_col6\" class=\"data row28 col6\" >14.500000</td>\n",
       "      <td id=\"T_185b5_row28_col7\" class=\"data row28 col7\" >0</td>\n",
       "      <td id=\"T_185b5_row28_col8\" class=\"data row28 col8\" >1</td>\n",
       "      <td id=\"T_185b5_row28_col9\" class=\"data row28 col9\" >5</td>\n",
       "      <td id=\"T_185b5_row28_col10\" class=\"data row28 col10\" >4</td>\n",
       "    </tr>\n",
       "    <tr>\n",
       "      <th id=\"T_185b5_level0_row29\" class=\"row_heading level0 row29\" >Ferrari Dino</th>\n",
       "      <td id=\"T_185b5_row29_col0\" class=\"data row29 col0\" >19.700000</td>\n",
       "      <td id=\"T_185b5_row29_col1\" class=\"data row29 col1\" >6</td>\n",
       "      <td id=\"T_185b5_row29_col2\" class=\"data row29 col2\" >145.000000</td>\n",
       "      <td id=\"T_185b5_row29_col3\" class=\"data row29 col3\" >175</td>\n",
       "      <td id=\"T_185b5_row29_col4\" class=\"data row29 col4\" >3.620000</td>\n",
       "      <td id=\"T_185b5_row29_col5\" class=\"data row29 col5\" >2.770000</td>\n",
       "      <td id=\"T_185b5_row29_col6\" class=\"data row29 col6\" >15.500000</td>\n",
       "      <td id=\"T_185b5_row29_col7\" class=\"data row29 col7\" >0</td>\n",
       "      <td id=\"T_185b5_row29_col8\" class=\"data row29 col8\" >1</td>\n",
       "      <td id=\"T_185b5_row29_col9\" class=\"data row29 col9\" >5</td>\n",
       "      <td id=\"T_185b5_row29_col10\" class=\"data row29 col10\" >6</td>\n",
       "    </tr>\n",
       "    <tr>\n",
       "      <th id=\"T_185b5_level0_row30\" class=\"row_heading level0 row30\" >Maserati Bora</th>\n",
       "      <td id=\"T_185b5_row30_col0\" class=\"data row30 col0\" >15.000000</td>\n",
       "      <td id=\"T_185b5_row30_col1\" class=\"data row30 col1\" >8</td>\n",
       "      <td id=\"T_185b5_row30_col2\" class=\"data row30 col2\" >301.000000</td>\n",
       "      <td id=\"T_185b5_row30_col3\" class=\"data row30 col3\" >335</td>\n",
       "      <td id=\"T_185b5_row30_col4\" class=\"data row30 col4\" >3.540000</td>\n",
       "      <td id=\"T_185b5_row30_col5\" class=\"data row30 col5\" >3.570000</td>\n",
       "      <td id=\"T_185b5_row30_col6\" class=\"data row30 col6\" >14.600000</td>\n",
       "      <td id=\"T_185b5_row30_col7\" class=\"data row30 col7\" >0</td>\n",
       "      <td id=\"T_185b5_row30_col8\" class=\"data row30 col8\" >1</td>\n",
       "      <td id=\"T_185b5_row30_col9\" class=\"data row30 col9\" >5</td>\n",
       "      <td id=\"T_185b5_row30_col10\" class=\"data row30 col10\" >8</td>\n",
       "    </tr>\n",
       "    <tr>\n",
       "      <th id=\"T_185b5_level0_row31\" class=\"row_heading level0 row31\" >Volvo 142E</th>\n",
       "      <td id=\"T_185b5_row31_col0\" class=\"data row31 col0\" >21.400000</td>\n",
       "      <td id=\"T_185b5_row31_col1\" class=\"data row31 col1\" >4</td>\n",
       "      <td id=\"T_185b5_row31_col2\" class=\"data row31 col2\" >121.000000</td>\n",
       "      <td id=\"T_185b5_row31_col3\" class=\"data row31 col3\" >109</td>\n",
       "      <td id=\"T_185b5_row31_col4\" class=\"data row31 col4\" >4.110000</td>\n",
       "      <td id=\"T_185b5_row31_col5\" class=\"data row31 col5\" >2.780000</td>\n",
       "      <td id=\"T_185b5_row31_col6\" class=\"data row31 col6\" >18.600000</td>\n",
       "      <td id=\"T_185b5_row31_col7\" class=\"data row31 col7\" >1</td>\n",
       "      <td id=\"T_185b5_row31_col8\" class=\"data row31 col8\" >1</td>\n",
       "      <td id=\"T_185b5_row31_col9\" class=\"data row31 col9\" >4</td>\n",
       "      <td id=\"T_185b5_row31_col10\" class=\"data row31 col10\" >2</td>\n",
       "    </tr>\n",
       "  </tbody>\n",
       "</table>\n"
      ],
      "text/plain": [
       "<pandas.io.formats.style.Styler at 0x28daae19f70>"
      ]
     },
     "execution_count": 13,
     "metadata": {},
     "output_type": "execute_result"
    }
   ],
   "source": [
    "mtcarsDF.style"
   ]
  },
  {
   "cell_type": "markdown",
   "id": "b753bc3a-ceeb-4bef-ae51-c3cb3a429e36",
   "metadata": {},
   "source": [
    "## Input/Output"
   ]
  },
  {
   "cell_type": "markdown",
   "id": "37524cd8-d88f-4904-9243-a1aef7c13473",
   "metadata": {},
   "source": [
    "### to_pickle\n",
    "https://pandas.pydata.org/pandas-docs/stable/reference/api/pandas.DataFrame.to_pickle.html"
   ]
  },
  {
   "cell_type": "code",
   "execution_count": 4,
   "id": "6f2eebb3-9cba-4c1e-b74a-637c162f1c37",
   "metadata": {},
   "outputs": [
    {
     "data": {
      "text/html": [
       "<div>\n",
       "<style scoped>\n",
       "    .dataframe tbody tr th:only-of-type {\n",
       "        vertical-align: middle;\n",
       "    }\n",
       "\n",
       "    .dataframe tbody tr th {\n",
       "        vertical-align: top;\n",
       "    }\n",
       "\n",
       "    .dataframe thead th {\n",
       "        text-align: right;\n",
       "    }\n",
       "</style>\n",
       "<table border=\"1\" class=\"dataframe\">\n",
       "  <thead>\n",
       "    <tr style=\"text-align: right;\">\n",
       "      <th></th>\n",
       "      <th>mpg</th>\n",
       "      <th>cyl</th>\n",
       "      <th>disp</th>\n",
       "      <th>hp</th>\n",
       "      <th>drat</th>\n",
       "      <th>wt</th>\n",
       "      <th>qsec</th>\n",
       "      <th>vs</th>\n",
       "      <th>am</th>\n",
       "      <th>gear</th>\n",
       "      <th>carb</th>\n",
       "    </tr>\n",
       "  </thead>\n",
       "  <tbody>\n",
       "    <tr>\n",
       "      <th>Mazda RX4</th>\n",
       "      <td>21.0</td>\n",
       "      <td>6</td>\n",
       "      <td>160.0</td>\n",
       "      <td>110</td>\n",
       "      <td>3.90</td>\n",
       "      <td>2.620</td>\n",
       "      <td>16.46</td>\n",
       "      <td>0</td>\n",
       "      <td>1</td>\n",
       "      <td>4</td>\n",
       "      <td>4</td>\n",
       "    </tr>\n",
       "    <tr>\n",
       "      <th>Mazda RX4 Wag</th>\n",
       "      <td>21.0</td>\n",
       "      <td>6</td>\n",
       "      <td>160.0</td>\n",
       "      <td>110</td>\n",
       "      <td>3.90</td>\n",
       "      <td>2.875</td>\n",
       "      <td>17.02</td>\n",
       "      <td>0</td>\n",
       "      <td>1</td>\n",
       "      <td>4</td>\n",
       "      <td>4</td>\n",
       "    </tr>\n",
       "    <tr>\n",
       "      <th>Datsun 710</th>\n",
       "      <td>22.8</td>\n",
       "      <td>4</td>\n",
       "      <td>108.0</td>\n",
       "      <td>93</td>\n",
       "      <td>3.85</td>\n",
       "      <td>2.320</td>\n",
       "      <td>18.61</td>\n",
       "      <td>1</td>\n",
       "      <td>1</td>\n",
       "      <td>4</td>\n",
       "      <td>1</td>\n",
       "    </tr>\n",
       "    <tr>\n",
       "      <th>Hornet 4 Drive</th>\n",
       "      <td>21.4</td>\n",
       "      <td>6</td>\n",
       "      <td>258.0</td>\n",
       "      <td>110</td>\n",
       "      <td>3.08</td>\n",
       "      <td>3.215</td>\n",
       "      <td>19.44</td>\n",
       "      <td>1</td>\n",
       "      <td>0</td>\n",
       "      <td>3</td>\n",
       "      <td>1</td>\n",
       "    </tr>\n",
       "    <tr>\n",
       "      <th>Hornet Sportabout</th>\n",
       "      <td>18.7</td>\n",
       "      <td>8</td>\n",
       "      <td>360.0</td>\n",
       "      <td>175</td>\n",
       "      <td>3.15</td>\n",
       "      <td>3.440</td>\n",
       "      <td>17.02</td>\n",
       "      <td>0</td>\n",
       "      <td>0</td>\n",
       "      <td>3</td>\n",
       "      <td>2</td>\n",
       "    </tr>\n",
       "  </tbody>\n",
       "</table>\n",
       "</div>"
      ],
      "text/plain": [
       "                    mpg  cyl   disp   hp  drat     wt   qsec  vs  am  gear  \\\n",
       "Mazda RX4          21.0    6  160.0  110  3.90  2.620  16.46   0   1     4   \n",
       "Mazda RX4 Wag      21.0    6  160.0  110  3.90  2.875  17.02   0   1     4   \n",
       "Datsun 710         22.8    4  108.0   93  3.85  2.320  18.61   1   1     4   \n",
       "Hornet 4 Drive     21.4    6  258.0  110  3.08  3.215  19.44   1   0     3   \n",
       "Hornet Sportabout  18.7    8  360.0  175  3.15  3.440  17.02   0   0     3   \n",
       "\n",
       "                   carb  \n",
       "Mazda RX4             4  \n",
       "Mazda RX4 Wag         4  \n",
       "Datsun 710            1  \n",
       "Hornet 4 Drive        1  \n",
       "Hornet Sportabout     2  "
      ]
     },
     "execution_count": 4,
     "metadata": {},
     "output_type": "execute_result"
    }
   ],
   "source": [
    "mtcarsDF.head()"
   ]
  },
  {
   "cell_type": "code",
   "execution_count": 6,
   "id": "32b1ced0-c086-4d93-a1f2-90bec94efce9",
   "metadata": {},
   "outputs": [],
   "source": [
    "mtcarsDF.to_pickle('../15-misc/mtcarsDF.pkl')"
   ]
  },
  {
   "cell_type": "code",
   "execution_count": 7,
   "id": "7b4f3ccb-7ebd-4cf8-82dd-b3a2f768c8d9",
   "metadata": {},
   "outputs": [
    {
     "data": {
      "text/plain": [
       "['mtcarsDF.pkl']"
      ]
     },
     "execution_count": 7,
     "metadata": {},
     "output_type": "execute_result"
    }
   ],
   "source": [
    "import os\n",
    "os.listdir('../15-misc')"
   ]
  },
  {
   "cell_type": "code",
   "execution_count": 8,
   "id": "91dedaae-ccf4-45c6-ac89-a68982550411",
   "metadata": {},
   "outputs": [
    {
     "ename": "NameError",
     "evalue": "name 'newDF' is not defined",
     "output_type": "error",
     "traceback": [
      "\u001b[1;31m---------------------------------------------------------------------------\u001b[0m",
      "\u001b[1;31mNameError\u001b[0m                                 Traceback (most recent call last)",
      "Cell \u001b[1;32mIn [8], line 1\u001b[0m\n\u001b[1;32m----> 1\u001b[0m \u001b[43mnewDF\u001b[49m\u001b[38;5;241m.\u001b[39mhead()\n",
      "\u001b[1;31mNameError\u001b[0m: name 'newDF' is not defined"
     ]
    }
   ],
   "source": [
    "newDF.head() # no DF"
   ]
  },
  {
   "cell_type": "markdown",
   "id": "e3967f4d-e420-44a4-a7ae-428988e45500",
   "metadata": {
    "tags": []
   },
   "source": [
    "### read_pickle"
   ]
  },
  {
   "cell_type": "code",
   "execution_count": 9,
   "id": "6d0da6e4-9af8-494d-a4ce-c21327449229",
   "metadata": {},
   "outputs": [
    {
     "data": {
      "text/html": [
       "<div>\n",
       "<style scoped>\n",
       "    .dataframe tbody tr th:only-of-type {\n",
       "        vertical-align: middle;\n",
       "    }\n",
       "\n",
       "    .dataframe tbody tr th {\n",
       "        vertical-align: top;\n",
       "    }\n",
       "\n",
       "    .dataframe thead th {\n",
       "        text-align: right;\n",
       "    }\n",
       "</style>\n",
       "<table border=\"1\" class=\"dataframe\">\n",
       "  <thead>\n",
       "    <tr style=\"text-align: right;\">\n",
       "      <th></th>\n",
       "      <th>mpg</th>\n",
       "      <th>cyl</th>\n",
       "      <th>disp</th>\n",
       "      <th>hp</th>\n",
       "      <th>drat</th>\n",
       "      <th>wt</th>\n",
       "      <th>qsec</th>\n",
       "      <th>vs</th>\n",
       "      <th>am</th>\n",
       "      <th>gear</th>\n",
       "      <th>carb</th>\n",
       "    </tr>\n",
       "  </thead>\n",
       "  <tbody>\n",
       "    <tr>\n",
       "      <th>Mazda RX4</th>\n",
       "      <td>21.0</td>\n",
       "      <td>6</td>\n",
       "      <td>160.0</td>\n",
       "      <td>110</td>\n",
       "      <td>3.90</td>\n",
       "      <td>2.620</td>\n",
       "      <td>16.46</td>\n",
       "      <td>0</td>\n",
       "      <td>1</td>\n",
       "      <td>4</td>\n",
       "      <td>4</td>\n",
       "    </tr>\n",
       "    <tr>\n",
       "      <th>Mazda RX4 Wag</th>\n",
       "      <td>21.0</td>\n",
       "      <td>6</td>\n",
       "      <td>160.0</td>\n",
       "      <td>110</td>\n",
       "      <td>3.90</td>\n",
       "      <td>2.875</td>\n",
       "      <td>17.02</td>\n",
       "      <td>0</td>\n",
       "      <td>1</td>\n",
       "      <td>4</td>\n",
       "      <td>4</td>\n",
       "    </tr>\n",
       "    <tr>\n",
       "      <th>Datsun 710</th>\n",
       "      <td>22.8</td>\n",
       "      <td>4</td>\n",
       "      <td>108.0</td>\n",
       "      <td>93</td>\n",
       "      <td>3.85</td>\n",
       "      <td>2.320</td>\n",
       "      <td>18.61</td>\n",
       "      <td>1</td>\n",
       "      <td>1</td>\n",
       "      <td>4</td>\n",
       "      <td>1</td>\n",
       "    </tr>\n",
       "    <tr>\n",
       "      <th>Hornet 4 Drive</th>\n",
       "      <td>21.4</td>\n",
       "      <td>6</td>\n",
       "      <td>258.0</td>\n",
       "      <td>110</td>\n",
       "      <td>3.08</td>\n",
       "      <td>3.215</td>\n",
       "      <td>19.44</td>\n",
       "      <td>1</td>\n",
       "      <td>0</td>\n",
       "      <td>3</td>\n",
       "      <td>1</td>\n",
       "    </tr>\n",
       "    <tr>\n",
       "      <th>Hornet Sportabout</th>\n",
       "      <td>18.7</td>\n",
       "      <td>8</td>\n",
       "      <td>360.0</td>\n",
       "      <td>175</td>\n",
       "      <td>3.15</td>\n",
       "      <td>3.440</td>\n",
       "      <td>17.02</td>\n",
       "      <td>0</td>\n",
       "      <td>0</td>\n",
       "      <td>3</td>\n",
       "      <td>2</td>\n",
       "    </tr>\n",
       "  </tbody>\n",
       "</table>\n",
       "</div>"
      ],
      "text/plain": [
       "                    mpg  cyl   disp   hp  drat     wt   qsec  vs  am  gear  \\\n",
       "Mazda RX4          21.0    6  160.0  110  3.90  2.620  16.46   0   1     4   \n",
       "Mazda RX4 Wag      21.0    6  160.0  110  3.90  2.875  17.02   0   1     4   \n",
       "Datsun 710         22.8    4  108.0   93  3.85  2.320  18.61   1   1     4   \n",
       "Hornet 4 Drive     21.4    6  258.0  110  3.08  3.215  19.44   1   0     3   \n",
       "Hornet Sportabout  18.7    8  360.0  175  3.15  3.440  17.02   0   0     3   \n",
       "\n",
       "                   carb  \n",
       "Mazda RX4             4  \n",
       "Mazda RX4 Wag         4  \n",
       "Datsun 710            1  \n",
       "Hornet 4 Drive        1  \n",
       "Hornet Sportabout     2  "
      ]
     },
     "execution_count": 9,
     "metadata": {},
     "output_type": "execute_result"
    }
   ],
   "source": [
    "newDF = pd.read_pickle('../15-misc/mtcarsDF.pkl')\n",
    "newDF.head()"
   ]
  },
  {
   "cell_type": "code",
   "execution_count": null,
   "id": "40d2b967-5c2d-464d-82a4-35d5d1104670",
   "metadata": {},
   "outputs": [],
   "source": []
  }
 ],
 "metadata": {
  "autoscrollcelloutput": false,
  "kernelspec": {
   "display_name": "Python 3 (ipykernel)",
   "language": "python",
   "name": "python3"
  },
  "language_info": {
   "codemirror_mode": {
    "name": "ipython",
    "version": 3
   },
   "file_extension": ".py",
   "mimetype": "text/x-python",
   "name": "python",
   "nbconvert_exporter": "python",
   "pygments_lexer": "ipython3",
   "version": "3.9.15"
  },
  "toc-autonumbering": true,
  "toc-showcode": false,
  "toc-showmarkdowntxt": false,
  "toc-showtags": false
 },
 "nbformat": 4,
 "nbformat_minor": 5
}
