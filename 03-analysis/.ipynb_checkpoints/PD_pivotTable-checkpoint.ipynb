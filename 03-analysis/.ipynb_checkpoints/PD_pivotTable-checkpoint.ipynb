{
 "cells": [
  {
   "cell_type": "markdown",
   "id": "b625f2d2-3426-485b-a28e-afc07dafaf66",
   "metadata": {},
   "source": [
    "# Pivot_table\n",
    "https://www.skytowner.com/explore/pandas_pivot_table_method"
   ]
  }
 ],
 "metadata": {
  "kernelspec": {
   "display_name": "Python 3 (ipykernel)",
   "language": "python",
   "name": "python3"
  },
  "language_info": {
   "codemirror_mode": {
    "name": "ipython",
    "version": 3
   },
   "file_extension": ".py",
   "mimetype": "text/x-python",
   "name": "python",
   "nbconvert_exporter": "python",
   "pygments_lexer": "ipython3",
   "version": "3.9.15"
  }
 },
 "nbformat": 4,
 "nbformat_minor": 5
}
