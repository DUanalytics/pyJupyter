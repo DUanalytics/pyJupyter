{
 "cells": [
  {
   "cell_type": "markdown",
   "id": "724698dd-6240-421c-92eb-bb73448bb94a",
   "metadata": {},
   "source": [
    "# QCUT"
   ]
  },
  {
   "cell_type": "code",
   "execution_count": 2,
   "id": "efe82e58-a2d8-476e-8b79-13635f6a8b25",
   "metadata": {},
   "outputs": [],
   "source": [
    "#library\n",
    "import pandas as pd"
   ]
  },
  {
   "cell_type": "code",
   "execution_count": 3,
   "id": "b8a029c9-4efc-499a-b0e4-be3288f993c2",
   "metadata": {},
   "outputs": [
    {
     "data": {
      "text/html": [
       "<div>\n",
       "<style scoped>\n",
       "    .dataframe tbody tr th:only-of-type {\n",
       "        vertical-align: middle;\n",
       "    }\n",
       "\n",
       "    .dataframe tbody tr th {\n",
       "        vertical-align: top;\n",
       "    }\n",
       "\n",
       "    .dataframe thead th {\n",
       "        text-align: right;\n",
       "    }\n",
       "</style>\n",
       "<table border=\"1\" class=\"dataframe\">\n",
       "  <thead>\n",
       "    <tr style=\"text-align: right;\">\n",
       "      <th></th>\n",
       "      <th>name</th>\n",
       "      <th>raw_grade</th>\n",
       "    </tr>\n",
       "  </thead>\n",
       "  <tbody>\n",
       "    <tr>\n",
       "      <th>0</th>\n",
       "      <td>alex</td>\n",
       "      <td>3</td>\n",
       "    </tr>\n",
       "    <tr>\n",
       "      <th>1</th>\n",
       "      <td>bob</td>\n",
       "      <td>6</td>\n",
       "    </tr>\n",
       "    <tr>\n",
       "      <th>2</th>\n",
       "      <td>cathy</td>\n",
       "      <td>8</td>\n",
       "    </tr>\n",
       "    <tr>\n",
       "      <th>3</th>\n",
       "      <td>doge</td>\n",
       "      <td>7</td>\n",
       "    </tr>\n",
       "    <tr>\n",
       "      <th>4</th>\n",
       "      <td>eric</td>\n",
       "      <td>3</td>\n",
       "    </tr>\n",
       "    <tr>\n",
       "      <th>5</th>\n",
       "      <td>fred</td>\n",
       "      <td>5</td>\n",
       "    </tr>\n",
       "  </tbody>\n",
       "</table>\n",
       "</div>"
      ],
      "text/plain": [
       "    name  raw_grade\n",
       "0   alex          3\n",
       "1    bob          6\n",
       "2  cathy          8\n",
       "3   doge          7\n",
       "4   eric          3\n",
       "5   fred          5"
      ]
     },
     "execution_count": 3,
     "metadata": {},
     "output_type": "execute_result"
    }
   ],
   "source": [
    "raw_grades = [3,6,8,7,3,5]\n",
    "students = [\"alex\", \"bob\", \"cathy\", \"doge\", \"eric\", \"fred\"]\n",
    "df = pd.DataFrame({\"name\":students,\"raw_grade\":raw_grades})\n",
    "df"
   ]
  },
  {
   "cell_type": "code",
   "execution_count": 5,
   "id": "3ad4b9d6-a990-4f38-bd5d-5dedad4e603d",
   "metadata": {},
   "outputs": [
    {
     "data": {
      "text/html": [
       "<div>\n",
       "<style scoped>\n",
       "    .dataframe tbody tr th:only-of-type {\n",
       "        vertical-align: middle;\n",
       "    }\n",
       "\n",
       "    .dataframe tbody tr th {\n",
       "        vertical-align: top;\n",
       "    }\n",
       "\n",
       "    .dataframe thead th {\n",
       "        text-align: right;\n",
       "    }\n",
       "</style>\n",
       "<table border=\"1\" class=\"dataframe\">\n",
       "  <thead>\n",
       "    <tr style=\"text-align: right;\">\n",
       "      <th></th>\n",
       "      <th>name</th>\n",
       "      <th>raw_grade</th>\n",
       "      <th>grade</th>\n",
       "    </tr>\n",
       "  </thead>\n",
       "  <tbody>\n",
       "    <tr>\n",
       "      <th>0</th>\n",
       "      <td>alex</td>\n",
       "      <td>3</td>\n",
       "      <td>(2.999, 3.5]</td>\n",
       "    </tr>\n",
       "    <tr>\n",
       "      <th>1</th>\n",
       "      <td>bob</td>\n",
       "      <td>6</td>\n",
       "      <td>(5.5, 6.75]</td>\n",
       "    </tr>\n",
       "    <tr>\n",
       "      <th>2</th>\n",
       "      <td>cathy</td>\n",
       "      <td>8</td>\n",
       "      <td>(6.75, 8.0]</td>\n",
       "    </tr>\n",
       "    <tr>\n",
       "      <th>3</th>\n",
       "      <td>doge</td>\n",
       "      <td>7</td>\n",
       "      <td>(6.75, 8.0]</td>\n",
       "    </tr>\n",
       "    <tr>\n",
       "      <th>4</th>\n",
       "      <td>eric</td>\n",
       "      <td>3</td>\n",
       "      <td>(2.999, 3.5]</td>\n",
       "    </tr>\n",
       "    <tr>\n",
       "      <th>5</th>\n",
       "      <td>fred</td>\n",
       "      <td>5</td>\n",
       "      <td>(3.5, 5.5]</td>\n",
       "    </tr>\n",
       "  </tbody>\n",
       "</table>\n",
       "</div>"
      ],
      "text/plain": [
       "    name  raw_grade         grade\n",
       "0   alex          3  (2.999, 3.5]\n",
       "1    bob          6   (5.5, 6.75]\n",
       "2  cathy          8   (6.75, 8.0]\n",
       "3   doge          7   (6.75, 8.0]\n",
       "4   eric          3  (2.999, 3.5]\n",
       "5   fred          5    (3.5, 5.5]"
      ]
     },
     "execution_count": 5,
     "metadata": {},
     "output_type": "execute_result"
    }
   ],
   "source": [
    "df[\"grade\"] = pd.qcut(df[\"raw_grade\"], q=4)\n",
    "df  #into 4 equal partitions\n",
    "#(2.995, 3.5] just means that the 2.999 < raw_grade <= 3.5."
   ]
  },
  {
   "cell_type": "code",
   "execution_count": 6,
   "id": "8ac4902c-a5a9-486a-aef1-91d9c466368e",
   "metadata": {},
   "outputs": [
    {
     "data": {
      "text/html": [
       "<div>\n",
       "<style scoped>\n",
       "    .dataframe tbody tr th:only-of-type {\n",
       "        vertical-align: middle;\n",
       "    }\n",
       "\n",
       "    .dataframe tbody tr th {\n",
       "        vertical-align: top;\n",
       "    }\n",
       "\n",
       "    .dataframe thead th {\n",
       "        text-align: right;\n",
       "    }\n",
       "</style>\n",
       "<table border=\"1\" class=\"dataframe\">\n",
       "  <thead>\n",
       "    <tr style=\"text-align: right;\">\n",
       "      <th></th>\n",
       "      <th>name</th>\n",
       "      <th>raw_grade</th>\n",
       "      <th>grade</th>\n",
       "    </tr>\n",
       "  </thead>\n",
       "  <tbody>\n",
       "    <tr>\n",
       "      <th>0</th>\n",
       "      <td>alex</td>\n",
       "      <td>3</td>\n",
       "      <td>(2.999, 5.0]</td>\n",
       "    </tr>\n",
       "    <tr>\n",
       "      <th>1</th>\n",
       "      <td>bob</td>\n",
       "      <td>6</td>\n",
       "      <td>(5.0, 7.0]</td>\n",
       "    </tr>\n",
       "    <tr>\n",
       "      <th>2</th>\n",
       "      <td>cathy</td>\n",
       "      <td>8</td>\n",
       "      <td>(7.0, 8.0]</td>\n",
       "    </tr>\n",
       "    <tr>\n",
       "      <th>3</th>\n",
       "      <td>doge</td>\n",
       "      <td>7</td>\n",
       "      <td>(5.0, 7.0]</td>\n",
       "    </tr>\n",
       "    <tr>\n",
       "      <th>4</th>\n",
       "      <td>eric</td>\n",
       "      <td>3</td>\n",
       "      <td>(2.999, 5.0]</td>\n",
       "    </tr>\n",
       "    <tr>\n",
       "      <th>5</th>\n",
       "      <td>fred</td>\n",
       "      <td>5</td>\n",
       "      <td>(2.999, 5.0]</td>\n",
       "    </tr>\n",
       "  </tbody>\n",
       "</table>\n",
       "</div>"
      ],
      "text/plain": [
       "    name  raw_grade         grade\n",
       "0   alex          3  (2.999, 5.0]\n",
       "1    bob          6    (5.0, 7.0]\n",
       "2  cathy          8    (7.0, 8.0]\n",
       "3   doge          7    (5.0, 7.0]\n",
       "4   eric          3  (2.999, 5.0]\n",
       "5   fred          5  (2.999, 5.0]"
      ]
     },
     "execution_count": 6,
     "metadata": {},
     "output_type": "execute_result"
    }
   ],
   "source": [
    "df[\"grade\"] = pd.qcut(df[\"raw_grade\"], q=[0, .4, .8, 1])\n",
    "df  #custom partitions"
   ]
  },
  {
   "cell_type": "code",
   "execution_count": 7,
   "id": "42c8e348-eac4-4256-95db-62e4abbf66b6",
   "metadata": {},
   "outputs": [
    {
     "data": {
      "text/html": [
       "<div>\n",
       "<style scoped>\n",
       "    .dataframe tbody tr th:only-of-type {\n",
       "        vertical-align: middle;\n",
       "    }\n",
       "\n",
       "    .dataframe tbody tr th {\n",
       "        vertical-align: top;\n",
       "    }\n",
       "\n",
       "    .dataframe thead th {\n",
       "        text-align: right;\n",
       "    }\n",
       "</style>\n",
       "<table border=\"1\" class=\"dataframe\">\n",
       "  <thead>\n",
       "    <tr style=\"text-align: right;\">\n",
       "      <th></th>\n",
       "      <th>name</th>\n",
       "      <th>raw_grade</th>\n",
       "      <th>grade</th>\n",
       "    </tr>\n",
       "  </thead>\n",
       "  <tbody>\n",
       "    <tr>\n",
       "      <th>0</th>\n",
       "      <td>alex</td>\n",
       "      <td>3</td>\n",
       "      <td>D</td>\n",
       "    </tr>\n",
       "    <tr>\n",
       "      <th>1</th>\n",
       "      <td>bob</td>\n",
       "      <td>6</td>\n",
       "      <td>B</td>\n",
       "    </tr>\n",
       "    <tr>\n",
       "      <th>2</th>\n",
       "      <td>cathy</td>\n",
       "      <td>8</td>\n",
       "      <td>A</td>\n",
       "    </tr>\n",
       "    <tr>\n",
       "      <th>3</th>\n",
       "      <td>doge</td>\n",
       "      <td>7</td>\n",
       "      <td>A</td>\n",
       "    </tr>\n",
       "    <tr>\n",
       "      <th>4</th>\n",
       "      <td>eric</td>\n",
       "      <td>3</td>\n",
       "      <td>D</td>\n",
       "    </tr>\n",
       "    <tr>\n",
       "      <th>5</th>\n",
       "      <td>fred</td>\n",
       "      <td>5</td>\n",
       "      <td>C</td>\n",
       "    </tr>\n",
       "  </tbody>\n",
       "</table>\n",
       "</div>"
      ],
      "text/plain": [
       "    name  raw_grade grade\n",
       "0   alex          3     D\n",
       "1    bob          6     B\n",
       "2  cathy          8     A\n",
       "3   doge          7     A\n",
       "4   eric          3     D\n",
       "5   fred          5     C"
      ]
     },
     "execution_count": 7,
     "metadata": {},
     "output_type": "execute_result"
    }
   ],
   "source": [
    "# labels\n",
    "df[\"grade\"] = pd.qcut(df[\"raw_grade\"], q=4, labels=[\"D\",\"C\",\"B\",\"A\"])\n",
    "df\n",
    "#length of the labels array must equal the specified number of quartiles."
   ]
  },
  {
   "cell_type": "code",
   "execution_count": 8,
   "id": "1e919ffa-f233-4443-b5fd-9f9ce30615bd",
   "metadata": {},
   "outputs": [
    {
     "name": "stdout",
     "output_type": "stream",
     "text": [
      "Categories:  [(2.995, 5.5], (5.5, 8.0], (5.5, 8.0], (5.5, 8.0], (2.995, 5.5], (2.995, 5.5]]\n",
      "Categories (2, interval[float64, right]): [(2.995, 5.5] < (5.5, 8.0]]\n",
      "Bin egdes:  [2.995 5.5   8.   ]\n"
     ]
    }
   ],
   "source": [
    "# retbins\n",
    "x = [3,6,8,7,4,5]\n",
    "res = pd.cut(x, bins=2, retbins=True)\n",
    "print(\"Categories: \", res[0])\n",
    "print(\"Bin egdes: \", res[1])"
   ]
  },
  {
   "cell_type": "code",
   "execution_count": 9,
   "id": "da953da2-1d1f-4705-b65c-c8f3b9e43d39",
   "metadata": {},
   "outputs": [
    {
     "data": {
      "text/plain": [
       "[(2.995, 5.5], (5.5, 8.0], (5.5, 8.0], (5.5, 8.0], (2.995, 5.5], (2.995, 5.5]]\n",
       "Categories (2, interval[float64, right]): [(2.995, 5.5] < (5.5, 8.0]]"
      ]
     },
     "execution_count": 9,
     "metadata": {},
     "output_type": "execute_result"
    }
   ],
   "source": [
    "res[0]"
   ]
  },
  {
   "cell_type": "code",
   "execution_count": 10,
   "id": "62fcae02-f7ee-44fc-810d-fb75099e1425",
   "metadata": {},
   "outputs": [
    {
     "data": {
      "text/plain": [
       "array([2.995, 5.5  , 8.   ])"
      ]
     },
     "execution_count": 10,
     "metadata": {},
     "output_type": "execute_result"
    }
   ],
   "source": [
    "res[1]"
   ]
  },
  {
   "cell_type": "code",
   "execution_count": 11,
   "id": "40795645-1ae3-474b-89d7-5ee8bfacbb06",
   "metadata": {},
   "outputs": [
    {
     "name": "stdout",
     "output_type": "stream",
     "text": [
      "[(2.99, 4.25], (5.5, 6.75], (6.75, 8.0], (6.75, 8.0], (2.99, 4.25], (4.25, 5.5]]\n",
      "Categories (4, interval[float64, right]): [(2.99, 4.25] < (4.25, 5.5] < (5.5, 6.75] < (6.75, 8.0]]\n"
     ]
    }
   ],
   "source": [
    "#Specifying precision\n",
    "#In order to control how many decimal places are displayed, set the precision parameter:\n",
    "\n",
    "x = [3,6,8,7,4,5]\n",
    "bins = pd.qcut(x, q=4, precision=2)\n",
    "print(bins)"
   ]
  },
  {
   "cell_type": "code",
   "execution_count": null,
   "id": "8955b895-d9d0-412f-b806-7139eb6198d4",
   "metadata": {},
   "outputs": [],
   "source": [
    "#Specifying duplicates\n",
    "#By default, the bin edges must be unique, otherwise an error will be thrown. For instance:"
   ]
  },
  {
   "cell_type": "code",
   "execution_count": 13,
   "id": "68faf231-a92a-4b07-ace9-d5de985bd51c",
   "metadata": {},
   "outputs": [],
   "source": [
    "x = [3,6,8,7,3,5]\n",
    "#pd.qcut(x, q=5)   # duplicates=\"raise\"\n",
    "#ValueError: Bin edges must be unique: array([ 3.,  3.,  5.,  6.,  7.,  8.]).filter_none\n",
    "#Here, we ended up with two bin edges of value 3, so that's why we get an error.\n"
   ]
  },
  {
   "cell_type": "code",
   "execution_count": 15,
   "id": "daee885d-fb31-4df6-92e7-8e15d3dcb73a",
   "metadata": {},
   "outputs": [],
   "source": [
    "#In order to drop (remove) redundant bin edges, set duplicates=\"drop\", like so:\n",
    "x = [3,6,8,7,3,5]\n",
    "binsX = pd.qcut(x, q=5, duplicates=\"drop\")"
   ]
  },
  {
   "cell_type": "code",
   "execution_count": 16,
   "id": "69a36146-e00f-4a45-bfb1-a3efd3c22177",
   "metadata": {},
   "outputs": [
    {
     "data": {
      "text/plain": [
       "[(2.999, 5.0], (5.0, 6.0], (7.0, 8.0], (6.0, 7.0], (2.999, 5.0], (2.999, 5.0]]\n",
       "Categories (4, interval[float64, right]): [(2.999, 5.0] < (5.0, 6.0] < (6.0, 7.0] < (7.0, 8.0]]"
      ]
     },
     "execution_count": 16,
     "metadata": {},
     "output_type": "execute_result"
    }
   ],
   "source": [
    "binsX"
   ]
  },
  {
   "cell_type": "code",
   "execution_count": 18,
   "id": "9521ae1e-922c-4444-ac00-d129a7532c5c",
   "metadata": {},
   "outputs": [
    {
     "data": {
      "text/plain": [
       "Interval(2.999, 5.0, closed='right')"
      ]
     },
     "execution_count": 18,
     "metadata": {},
     "output_type": "execute_result"
    }
   ],
   "source": [
    "binsX[0]"
   ]
  },
  {
   "cell_type": "code",
   "execution_count": null,
   "id": "054d90ad-73bd-49b2-b77a-5e8db82372b4",
   "metadata": {},
   "outputs": [],
   "source": []
  }
 ],
 "metadata": {
  "kernelspec": {
   "display_name": "Python 3 (ipykernel)",
   "language": "python",
   "name": "python3"
  },
  "language_info": {
   "codemirror_mode": {
    "name": "ipython",
    "version": 3
   },
   "file_extension": ".py",
   "mimetype": "text/x-python",
   "name": "python",
   "nbconvert_exporter": "python",
   "pygments_lexer": "ipython3",
   "version": "3.9.15"
  }
 },
 "nbformat": 4,
 "nbformat_minor": 5
}
