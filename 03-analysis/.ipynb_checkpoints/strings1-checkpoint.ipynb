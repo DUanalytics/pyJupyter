{
 "cells": [
  {
   "cell_type": "code",
   "execution_count": null,
   "id": "69c9078b",
   "metadata": {},
   "outputs": [],
   "source": [
    "# String Management"
   ]
  },
  {
   "cell_type": "code",
   "execution_count": 1,
   "id": "4132096d",
   "metadata": {},
   "outputs": [],
   "source": [
    "# Libraries"
   ]
  },
  {
   "cell_type": "code",
   "execution_count": 2,
   "id": "9dbae25d",
   "metadata": {},
   "outputs": [],
   "source": [
    "import numpy as np\n",
    "import pandas as pd"
   ]
  },
  {
   "cell_type": "code",
   "execution_count": 9,
   "id": "05eb1dbe",
   "metadata": {},
   "outputs": [
    {
     "name": "stdout",
     "output_type": "stream",
     "text": [
      "0          Dhiraj\n",
      "1    Tanvi Tiwari\n",
      "2           Sumit\n",
      "3      Sushma@hcl\n",
      "4             NaN\n",
      "5            1234\n",
      "6       ShaktiRaj\n",
      "dtype: object\n"
     ]
    }
   ],
   "source": [
    "# Series\n",
    "s = pd.Series(['Dhiraj', 'Tanvi Tiwari', '  Sumit', 'Sushma@hcl', np.nan, '1234','ShaktiRaj'])\n",
    "print(s)"
   ]
  },
  {
   "cell_type": "code",
   "execution_count": 4,
   "id": "f344c209",
   "metadata": {},
   "outputs": [
    {
     "name": "stdout",
     "output_type": "stream",
     "text": [
      "0          dhiraj\n",
      "1    tanvi tiwari\n",
      "2           sumit\n",
      "3      sushma@hcl\n",
      "4             NaN\n",
      "5            1234\n",
      "6       shaktiraj\n",
      "dtype: object\n"
     ]
    }
   ],
   "source": [
    "print(s.str.lower())"
   ]
  },
  {
   "cell_type": "code",
   "execution_count": 5,
   "id": "ed5dce53",
   "metadata": {},
   "outputs": [
    {
     "name": "stdout",
     "output_type": "stream",
     "text": [
      "0          DHIRAJ\n",
      "1    TANVI TIWARI\n",
      "2           SUMIT\n",
      "3      SUSHMA@HCL\n",
      "4             NaN\n",
      "5            1234\n",
      "6       SHAKTIRAJ\n",
      "dtype: object\n"
     ]
    }
   ],
   "source": [
    "print(s.str.upper())"
   ]
  },
  {
   "cell_type": "code",
   "execution_count": 6,
   "id": "22068e7b",
   "metadata": {},
   "outputs": [
    {
     "name": "stdout",
     "output_type": "stream",
     "text": [
      "0     6.0\n",
      "1    12.0\n",
      "2     5.0\n",
      "3    10.0\n",
      "4     NaN\n",
      "5     4.0\n",
      "6     9.0\n",
      "dtype: float64\n"
     ]
    }
   ],
   "source": [
    "print(s.str.len())"
   ]
  },
  {
   "cell_type": "code",
   "execution_count": 12,
   "id": "f68f484c",
   "metadata": {},
   "outputs": [
    {
     "name": "stdout",
     "output_type": "stream",
     "text": [
      "0          Dhiraj\n",
      "1    Tanvi Tiwari\n",
      "2           Sumit\n",
      "3      Sushma@hcl\n",
      "4             NaN\n",
      "5            1234\n",
      "6       ShaktiRaj\n",
      "dtype: object \n",
      " 0          Dhiraj\n",
      "1    Tanvi Tiwari\n",
      "2           Sumit\n",
      "3      Sushma@hcl\n",
      "4             NaN\n",
      "5            1234\n",
      "6       ShaktiRaj\n",
      "dtype: object\n"
     ]
    }
   ],
   "source": [
    "print(s, '\\n', s.str.strip(' '))"
   ]
  },
  {
   "cell_type": "code",
   "execution_count": 13,
   "id": "2dda39fd",
   "metadata": {},
   "outputs": [
    {
     "name": "stdout",
     "output_type": "stream",
     "text": [
      "Dhiraj_Tanvi Tiwari_  Sumit_Sushma@hcl_1234_ShaktiRaj\n"
     ]
    }
   ],
   "source": [
    "print(s.str.cat(sep='_'))"
   ]
  },
  {
   "cell_type": "code",
   "execution_count": 14,
   "id": "79732144",
   "metadata": {},
   "outputs": [
    {
     "name": "stdout",
     "output_type": "stream",
     "text": [
      "0    False\n",
      "1     True\n",
      "2     True\n",
      "3    False\n",
      "4      NaN\n",
      "5    False\n",
      "6    False\n",
      "dtype: object\n"
     ]
    }
   ],
   "source": [
    "print(s.str.contains(' '))"
   ]
  },
  {
   "cell_type": "code",
   "execution_count": 17,
   "id": "9f84eccf",
   "metadata": {},
   "outputs": [
    {
     "name": "stdout",
     "output_type": "stream",
     "text": [
      "0    False\n",
      "1    False\n",
      "2    False\n",
      "3     True\n",
      "4      NaN\n",
      "5    False\n",
      "6    False\n",
      "dtype: object\n"
     ]
    }
   ],
   "source": [
    "print(s.str.contains('@'))"
   ]
  },
  {
   "cell_type": "code",
   "execution_count": 19,
   "id": "bf22b72d",
   "metadata": {},
   "outputs": [
    {
     "name": "stdout",
     "output_type": "stream",
     "text": [
      "0          Dhiraj\n",
      "1    Tanvi Tiwari\n",
      "2           Sumit\n",
      "3      Sushma$hcl\n",
      "4             NaN\n",
      "5            1234\n",
      "6       ShaktiRaj\n",
      "dtype: object\n"
     ]
    }
   ],
   "source": [
    "print(s.str.replace('@','$'))"
   ]
  },
  {
   "cell_type": "code",
   "execution_count": 20,
   "id": "71af8f8f",
   "metadata": {},
   "outputs": [
    {
     "name": "stdout",
     "output_type": "stream",
     "text": [
      "0                DhirajDhiraj\n",
      "1    Tanvi TiwariTanvi Tiwari\n",
      "2                Sumit  Sumit\n",
      "3        Sushma@hclSushma@hcl\n",
      "4                         NaN\n",
      "5                    12341234\n",
      "6          ShaktiRajShaktiRaj\n",
      "dtype: object\n"
     ]
    }
   ],
   "source": [
    "print(s.str.repeat(2))"
   ]
  },
  {
   "cell_type": "code",
   "execution_count": 21,
   "id": "4f40fab3",
   "metadata": {},
   "outputs": [
    {
     "name": "stdout",
     "output_type": "stream",
     "text": [
      "0    1.0\n",
      "1    2.0\n",
      "2    0.0\n",
      "3    1.0\n",
      "4    NaN\n",
      "5    0.0\n",
      "6    2.0\n",
      "dtype: float64\n"
     ]
    }
   ],
   "source": [
    "print(s.str.count('a'))"
   ]
  },
  {
   "cell_type": "code",
   "execution_count": 23,
   "id": "8ee99748",
   "metadata": {},
   "outputs": [
    {
     "name": "stdout",
     "output_type": "stream",
     "text": [
      "0    False\n",
      "1    False\n",
      "2    False\n",
      "3     True\n",
      "4      NaN\n",
      "5    False\n",
      "6     True\n",
      "dtype: object\n"
     ]
    }
   ],
   "source": [
    "print(s.str. startswith ('S'))"
   ]
  },
  {
   "cell_type": "code",
   "execution_count": 24,
   "id": "caea3aad",
   "metadata": {},
   "outputs": [
    {
     "name": "stdout",
     "output_type": "stream",
     "text": [
      "0     True\n",
      "1    False\n",
      "2    False\n",
      "3    False\n",
      "4      NaN\n",
      "5    False\n",
      "6     True\n",
      "dtype: object\n"
     ]
    }
   ],
   "source": [
    "print(s.str.endswith('j'))"
   ]
  },
  {
   "cell_type": "code",
   "execution_count": 28,
   "id": "656ccee9",
   "metadata": {},
   "outputs": [
    {
     "name": "stdout",
     "output_type": "stream",
     "text": [
      "0   -1.0\n",
      "1   -1.0\n",
      "2    6.0\n",
      "3   -1.0\n",
      "4    NaN\n",
      "5   -1.0\n",
      "6    4.0\n",
      "dtype: float64\n"
     ]
    }
   ],
   "source": [
    "print(s.str.find('t'))\n",
    "#\"-1\" indicates that there no such pattern available in the element.\n",
    "#other wise position is told"
   ]
  },
  {
   "cell_type": "code",
   "execution_count": 30,
   "id": "a20d4a3b",
   "metadata": {},
   "outputs": [
    {
     "name": "stdout",
     "output_type": "stream",
     "text": [
      "0       [a]\n",
      "1    [a, a]\n",
      "2        []\n",
      "3       [a]\n",
      "4       NaN\n",
      "5        []\n",
      "6    [a, a]\n",
      "dtype: object\n"
     ]
    }
   ],
   "source": [
    "print(s.str.findall('a'))\n",
    "#Null list([ ]) indicates that there is no such pattern available in the element."
   ]
  },
  {
   "cell_type": "code",
   "execution_count": 31,
   "id": "3337fb31",
   "metadata": {},
   "outputs": [
    {
     "name": "stdout",
     "output_type": "stream",
     "text": [
      "0    [Dh]\n",
      "1      []\n",
      "2      []\n",
      "3      []\n",
      "4     NaN\n",
      "5      []\n",
      "6      []\n",
      "dtype: object\n"
     ]
    }
   ],
   "source": [
    "print(s.str.findall('Dh'))"
   ]
  },
  {
   "cell_type": "code",
   "execution_count": 32,
   "id": "94d93878",
   "metadata": {},
   "outputs": [
    {
     "name": "stdout",
     "output_type": "stream",
     "text": [
      "0          dHIRAJ\n",
      "1    tANVI tIWARI\n",
      "2           sUMIT\n",
      "3      sUSHMA@HCL\n",
      "4             NaN\n",
      "5            1234\n",
      "6       sHAKTIrAJ\n",
      "dtype: object\n"
     ]
    }
   ],
   "source": [
    "print(s.str.swapcase())"
   ]
  },
  {
   "cell_type": "code",
   "execution_count": 34,
   "id": "780a43e5",
   "metadata": {},
   "outputs": [
    {
     "name": "stdout",
     "output_type": "stream",
     "text": [
      "0    False\n",
      "1    False\n",
      "2    False\n",
      "3    False\n",
      "4      NaN\n",
      "5    False\n",
      "6    False\n",
      "dtype: object\n",
      "0    False\n",
      "1    False\n",
      "2    False\n",
      "3    False\n",
      "4      NaN\n",
      "5    False\n",
      "6    False\n",
      "dtype: object\n",
      "0    False\n",
      "1    False\n",
      "2    False\n",
      "3    False\n",
      "4      NaN\n",
      "5     True\n",
      "6    False\n",
      "dtype: object\n"
     ]
    }
   ],
   "source": [
    "print(s.str.islower())\n",
    "print(s.str.isupper())\n",
    "print(s.str.isnumeric())"
   ]
  },
  {
   "cell_type": "code",
   "execution_count": null,
   "id": "35cf1b26",
   "metadata": {},
   "outputs": [],
   "source": []
  },
  {
   "cell_type": "code",
   "execution_count": null,
   "id": "94181c80",
   "metadata": {},
   "outputs": [],
   "source": []
  },
  {
   "cell_type": "markdown",
   "id": "1ece88f8",
   "metadata": {},
   "source": [
    "## Links\n",
    "https://towardsdatascience.com/5-must-know-pandas-operations-on-strings-4f88ca6b8e25\n",
    "https://stackoverflow.com/questions/29081530/string-column-manipulation-in-data-frame-in-pandas\n",
    "https://pandas.pydata.org/docs/user_guide/text.html\n",
    "https://note.nkmk.me/en/python-pandas-str-replace-strip-etc/\n",
    "https://www.gresearch.co.uk/blog/article/faster-string-processing-in-pandas/"
   ]
  }
 ],
 "metadata": {
  "kernelspec": {
   "display_name": "Python 3 (ipykernel)",
   "language": "python",
   "name": "python3"
  },
  "language_info": {
   "codemirror_mode": {
    "name": "ipython",
    "version": 3
   },
   "file_extension": ".py",
   "mimetype": "text/x-python",
   "name": "python",
   "nbconvert_exporter": "python",
   "pygments_lexer": "ipython3",
   "version": "3.9.12"
  }
 },
 "nbformat": 4,
 "nbformat_minor": 5
}
