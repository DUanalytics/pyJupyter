{
 "cells": [
  {
   "cell_type": "code",
   "execution_count": null,
   "id": "0f4388f1",
   "metadata": {},
   "outputs": [],
   "source": [
    "# Pandas Columns Data Types"
   ]
  },
  {
   "cell_type": "code",
   "execution_count": 1,
   "id": "606f50d2",
   "metadata": {},
   "outputs": [
    {
     "data": {
      "text/html": [
       "<div>\n",
       "<style scoped>\n",
       "    .dataframe tbody tr th:only-of-type {\n",
       "        vertical-align: middle;\n",
       "    }\n",
       "\n",
       "    .dataframe tbody tr th {\n",
       "        vertical-align: top;\n",
       "    }\n",
       "\n",
       "    .dataframe thead th {\n",
       "        text-align: right;\n",
       "    }\n",
       "</style>\n",
       "<table border=\"1\" class=\"dataframe\">\n",
       "  <thead>\n",
       "    <tr style=\"text-align: right;\">\n",
       "      <th></th>\n",
       "      <th>mpg</th>\n",
       "      <th>cyl</th>\n",
       "      <th>disp</th>\n",
       "      <th>hp</th>\n",
       "      <th>drat</th>\n",
       "      <th>wt</th>\n",
       "      <th>qsec</th>\n",
       "      <th>vs</th>\n",
       "      <th>am</th>\n",
       "      <th>gear</th>\n",
       "      <th>carb</th>\n",
       "    </tr>\n",
       "  </thead>\n",
       "  <tbody>\n",
       "    <tr>\n",
       "      <th>Mazda RX4</th>\n",
       "      <td>21.0</td>\n",
       "      <td>6</td>\n",
       "      <td>160.0</td>\n",
       "      <td>110</td>\n",
       "      <td>3.90</td>\n",
       "      <td>2.620</td>\n",
       "      <td>16.46</td>\n",
       "      <td>0</td>\n",
       "      <td>1</td>\n",
       "      <td>4</td>\n",
       "      <td>4</td>\n",
       "    </tr>\n",
       "    <tr>\n",
       "      <th>Mazda RX4 Wag</th>\n",
       "      <td>21.0</td>\n",
       "      <td>6</td>\n",
       "      <td>160.0</td>\n",
       "      <td>110</td>\n",
       "      <td>3.90</td>\n",
       "      <td>2.875</td>\n",
       "      <td>17.02</td>\n",
       "      <td>0</td>\n",
       "      <td>1</td>\n",
       "      <td>4</td>\n",
       "      <td>4</td>\n",
       "    </tr>\n",
       "    <tr>\n",
       "      <th>Datsun 710</th>\n",
       "      <td>22.8</td>\n",
       "      <td>4</td>\n",
       "      <td>108.0</td>\n",
       "      <td>93</td>\n",
       "      <td>3.85</td>\n",
       "      <td>2.320</td>\n",
       "      <td>18.61</td>\n",
       "      <td>1</td>\n",
       "      <td>1</td>\n",
       "      <td>4</td>\n",
       "      <td>1</td>\n",
       "    </tr>\n",
       "    <tr>\n",
       "      <th>Hornet 4 Drive</th>\n",
       "      <td>21.4</td>\n",
       "      <td>6</td>\n",
       "      <td>258.0</td>\n",
       "      <td>110</td>\n",
       "      <td>3.08</td>\n",
       "      <td>3.215</td>\n",
       "      <td>19.44</td>\n",
       "      <td>1</td>\n",
       "      <td>0</td>\n",
       "      <td>3</td>\n",
       "      <td>1</td>\n",
       "    </tr>\n",
       "    <tr>\n",
       "      <th>Hornet Sportabout</th>\n",
       "      <td>18.7</td>\n",
       "      <td>8</td>\n",
       "      <td>360.0</td>\n",
       "      <td>175</td>\n",
       "      <td>3.15</td>\n",
       "      <td>3.440</td>\n",
       "      <td>17.02</td>\n",
       "      <td>0</td>\n",
       "      <td>0</td>\n",
       "      <td>3</td>\n",
       "      <td>2</td>\n",
       "    </tr>\n",
       "  </tbody>\n",
       "</table>\n",
       "</div>"
      ],
      "text/plain": [
       "                    mpg  cyl   disp   hp  drat     wt   qsec  vs  am  gear  \\\n",
       "Mazda RX4          21.0    6  160.0  110  3.90  2.620  16.46   0   1     4   \n",
       "Mazda RX4 Wag      21.0    6  160.0  110  3.90  2.875  17.02   0   1     4   \n",
       "Datsun 710         22.8    4  108.0   93  3.85  2.320  18.61   1   1     4   \n",
       "Hornet 4 Drive     21.4    6  258.0  110  3.08  3.215  19.44   1   0     3   \n",
       "Hornet Sportabout  18.7    8  360.0  175  3.15  3.440  17.02   0   0     3   \n",
       "\n",
       "                   carb  \n",
       "Mazda RX4             4  \n",
       "Mazda RX4 Wag         4  \n",
       "Datsun 710            1  \n",
       "Hornet 4 Drive        1  \n",
       "Hornet Sportabout     2  "
      ]
     },
     "execution_count": 1,
     "metadata": {},
     "output_type": "execute_result"
    }
   ],
   "source": [
    "import numpy as np\n",
    "import pandas as pd\n",
    "import seaborn as sns\n",
    "from pydataset import data\n",
    "mtcars = data('mtcars')\n",
    "mtcarsDF = mtcars\n",
    "mtcarsDF.head()"
   ]
  },
  {
   "cell_type": "code",
   "execution_count": 34,
   "id": "502bf444",
   "metadata": {},
   "outputs": [],
   "source": [
    "rollNo = ['A01','A02','A03','A04','A05']\n",
    "name   = ['Kounal', 'Tanvi', 'Kanika','Sushma', 'Dhiraj']\n",
    "DOB    = ['1996/10/15', '2000/03/12', '1994/08/20', '1985/11/04', '1970/12/12']\n",
    "height = [165.6, 155.2, 165, 153, 175]\n",
    "degrees = [3,2,3,4,25]\n",
    "gender = ['M','F',\"F\", 'F', 'M']\n",
    "working = [True, False, True, False, True]\n",
    "dataTypes =('object','string','datetime64', 'float','int','category','bool')\n",
    "#dataTypes = np.dtype( [ (\"rollNo\", str),  (\"name\", object),('DOB', np.datetime64), (\"height\", float), \n",
    "#                       ('degrees',int), ('gender', str), ('working',bool)  ])\n",
    "dataTypes = {\"rollNo\":str, \"name\" :object, 'DOB' : np.datetime64, \"height\" :float, 'degrees': int, 'gender': 'category','working':bool}\n"
   ]
  },
  {
   "cell_type": "code",
   "execution_count": 35,
   "id": "436ebb01",
   "metadata": {},
   "outputs": [],
   "source": [
    "df = pd.DataFrame({'rollNo':rollNo, 'name':name, 'DOB': DOB, 'height':height, 'degrees':degrees, 'gender':gender, 'working':working})"
   ]
  },
  {
   "cell_type": "code",
   "execution_count": 36,
   "id": "9b20aa3e",
   "metadata": {},
   "outputs": [
    {
     "data": {
      "text/html": [
       "<div>\n",
       "<style scoped>\n",
       "    .dataframe tbody tr th:only-of-type {\n",
       "        vertical-align: middle;\n",
       "    }\n",
       "\n",
       "    .dataframe tbody tr th {\n",
       "        vertical-align: top;\n",
       "    }\n",
       "\n",
       "    .dataframe thead th {\n",
       "        text-align: right;\n",
       "    }\n",
       "</style>\n",
       "<table border=\"1\" class=\"dataframe\">\n",
       "  <thead>\n",
       "    <tr style=\"text-align: right;\">\n",
       "      <th></th>\n",
       "      <th>rollNo</th>\n",
       "      <th>name</th>\n",
       "      <th>DOB</th>\n",
       "      <th>height</th>\n",
       "      <th>degrees</th>\n",
       "      <th>gender</th>\n",
       "      <th>working</th>\n",
       "    </tr>\n",
       "  </thead>\n",
       "  <tbody>\n",
       "    <tr>\n",
       "      <th>0</th>\n",
       "      <td>A01</td>\n",
       "      <td>Kounal</td>\n",
       "      <td>1996/10/15</td>\n",
       "      <td>165.6</td>\n",
       "      <td>3</td>\n",
       "      <td>M</td>\n",
       "      <td>True</td>\n",
       "    </tr>\n",
       "    <tr>\n",
       "      <th>1</th>\n",
       "      <td>A02</td>\n",
       "      <td>Tanvi</td>\n",
       "      <td>2000/03/12</td>\n",
       "      <td>155.2</td>\n",
       "      <td>2</td>\n",
       "      <td>F</td>\n",
       "      <td>False</td>\n",
       "    </tr>\n",
       "    <tr>\n",
       "      <th>2</th>\n",
       "      <td>A03</td>\n",
       "      <td>Kanika</td>\n",
       "      <td>1994/08/20</td>\n",
       "      <td>165.0</td>\n",
       "      <td>3</td>\n",
       "      <td>F</td>\n",
       "      <td>True</td>\n",
       "    </tr>\n",
       "    <tr>\n",
       "      <th>3</th>\n",
       "      <td>A04</td>\n",
       "      <td>Sushma</td>\n",
       "      <td>1985/11/04</td>\n",
       "      <td>153.0</td>\n",
       "      <td>4</td>\n",
       "      <td>F</td>\n",
       "      <td>False</td>\n",
       "    </tr>\n",
       "    <tr>\n",
       "      <th>4</th>\n",
       "      <td>A05</td>\n",
       "      <td>Dhiraj</td>\n",
       "      <td>1970/12/12</td>\n",
       "      <td>175.0</td>\n",
       "      <td>25</td>\n",
       "      <td>M</td>\n",
       "      <td>True</td>\n",
       "    </tr>\n",
       "  </tbody>\n",
       "</table>\n",
       "</div>"
      ],
      "text/plain": [
       "  rollNo    name         DOB  height  degrees gender  working\n",
       "0    A01  Kounal  1996/10/15   165.6        3      M     True\n",
       "1    A02   Tanvi  2000/03/12   155.2        2      F    False\n",
       "2    A03  Kanika  1994/08/20   165.0        3      F     True\n",
       "3    A04  Sushma  1985/11/04   153.0        4      F    False\n",
       "4    A05  Dhiraj  1970/12/12   175.0       25      M     True"
      ]
     },
     "execution_count": 36,
     "metadata": {},
     "output_type": "execute_result"
    }
   ],
   "source": [
    "df"
   ]
  },
  {
   "cell_type": "code",
   "execution_count": null,
   "id": "d853fc89",
   "metadata": {},
   "outputs": [],
   "source": []
  },
  {
   "cell_type": "code",
   "execution_count": 37,
   "id": "79b7a469",
   "metadata": {},
   "outputs": [
    {
     "name": "stdout",
     "output_type": "stream",
     "text": [
      "rollNo      object\n",
      "name        object\n",
      "DOB         object\n",
      "height     float64\n",
      "degrees      int64\n",
      "gender      object\n",
      "working       bool\n",
      "dtype: object\n",
      "<bound method DataFrame.info of   rollNo    name         DOB  height  degrees gender  working\n",
      "0    A01  Kounal  1996/10/15   165.6        3      M     True\n",
      "1    A02   Tanvi  2000/03/12   155.2        2      F    False\n",
      "2    A03  Kanika  1994/08/20   165.0        3      F     True\n",
      "3    A04  Sushma  1985/11/04   153.0        4      F    False\n",
      "4    A05  Dhiraj  1970/12/12   175.0       25      M     True>\n"
     ]
    }
   ],
   "source": [
    "print(df.dtypes)\n",
    "print(df.info)"
   ]
  },
  {
   "cell_type": "code",
   "execution_count": 38,
   "id": "ac4bb015",
   "metadata": {},
   "outputs": [],
   "source": [
    "df = df.astype(dataTypes)"
   ]
  },
  {
   "cell_type": "code",
   "execution_count": 40,
   "id": "d98341e9",
   "metadata": {},
   "outputs": [
    {
     "name": "stdout",
     "output_type": "stream",
     "text": [
      "rollNo             object\n",
      "name               object\n",
      "DOB        datetime64[ns]\n",
      "height            float64\n",
      "degrees             int32\n",
      "gender           category\n",
      "working              bool\n",
      "dtype: object\n",
      "  rollNo    name        DOB  height  degrees gender  working\n",
      "0    A01  Kounal 1996-10-15   165.6        3      M     True\n",
      "1    A02   Tanvi 2000-03-12   155.2        2      F    False\n",
      "2    A03  Kanika 1994-08-20   165.0        3      F     True\n",
      "3    A04  Sushma 1985-11-04   153.0        4      F    False\n",
      "4    A05  Dhiraj 1970-12-12   175.0       25      M     True\n"
     ]
    }
   ],
   "source": [
    "print(df.dtypes)\n",
    "print(df)"
   ]
  },
  {
   "cell_type": "code",
   "execution_count": 41,
   "id": "47cc45ad",
   "metadata": {},
   "outputs": [
    {
     "data": {
      "text/html": [
       "<div>\n",
       "<style scoped>\n",
       "    .dataframe tbody tr th:only-of-type {\n",
       "        vertical-align: middle;\n",
       "    }\n",
       "\n",
       "    .dataframe tbody tr th {\n",
       "        vertical-align: top;\n",
       "    }\n",
       "\n",
       "    .dataframe thead th {\n",
       "        text-align: right;\n",
       "    }\n",
       "</style>\n",
       "<table border=\"1\" class=\"dataframe\">\n",
       "  <thead>\n",
       "    <tr style=\"text-align: right;\">\n",
       "      <th></th>\n",
       "      <th>rollNo</th>\n",
       "      <th>name</th>\n",
       "      <th>DOB</th>\n",
       "      <th>height</th>\n",
       "      <th>degrees</th>\n",
       "      <th>gender</th>\n",
       "      <th>working</th>\n",
       "    </tr>\n",
       "  </thead>\n",
       "  <tbody>\n",
       "    <tr>\n",
       "      <th>0</th>\n",
       "      <td>A01</td>\n",
       "      <td>Kounal</td>\n",
       "      <td>1996-10-15</td>\n",
       "      <td>165.6</td>\n",
       "      <td>3</td>\n",
       "      <td>M</td>\n",
       "      <td>True</td>\n",
       "    </tr>\n",
       "    <tr>\n",
       "      <th>1</th>\n",
       "      <td>A02</td>\n",
       "      <td>Tanvi</td>\n",
       "      <td>2000-03-12</td>\n",
       "      <td>155.2</td>\n",
       "      <td>2</td>\n",
       "      <td>F</td>\n",
       "      <td>False</td>\n",
       "    </tr>\n",
       "    <tr>\n",
       "      <th>2</th>\n",
       "      <td>A03</td>\n",
       "      <td>Kanika</td>\n",
       "      <td>1994-08-20</td>\n",
       "      <td>165.0</td>\n",
       "      <td>3</td>\n",
       "      <td>F</td>\n",
       "      <td>True</td>\n",
       "    </tr>\n",
       "    <tr>\n",
       "      <th>3</th>\n",
       "      <td>A04</td>\n",
       "      <td>Sushma</td>\n",
       "      <td>1985-11-04</td>\n",
       "      <td>153.0</td>\n",
       "      <td>4</td>\n",
       "      <td>F</td>\n",
       "      <td>False</td>\n",
       "    </tr>\n",
       "    <tr>\n",
       "      <th>4</th>\n",
       "      <td>A05</td>\n",
       "      <td>Dhiraj</td>\n",
       "      <td>1970-12-12</td>\n",
       "      <td>175.0</td>\n",
       "      <td>25</td>\n",
       "      <td>M</td>\n",
       "      <td>True</td>\n",
       "    </tr>\n",
       "  </tbody>\n",
       "</table>\n",
       "</div>"
      ],
      "text/plain": [
       "  rollNo    name        DOB  height  degrees gender  working\n",
       "0    A01  Kounal 1996-10-15   165.6        3      M     True\n",
       "1    A02   Tanvi 2000-03-12   155.2        2      F    False\n",
       "2    A03  Kanika 1994-08-20   165.0        3      F     True\n",
       "3    A04  Sushma 1985-11-04   153.0        4      F    False\n",
       "4    A05  Dhiraj 1970-12-12   175.0       25      M     True"
      ]
     },
     "execution_count": 41,
     "metadata": {},
     "output_type": "execute_result"
    }
   ],
   "source": [
    "df"
   ]
  },
  {
   "cell_type": "code",
   "execution_count": 42,
   "id": "3bc1b596",
   "metadata": {},
   "outputs": [
    {
     "name": "stdout",
     "output_type": "stream",
     "text": [
      "['rollNo', 'name']\n"
     ]
    }
   ],
   "source": [
    "# Select column names of object date type\n",
    "sel_cols = list(df.select_dtypes(include='object'))\n",
    "print(sel_cols)"
   ]
  },
  {
   "cell_type": "code",
   "execution_count": 45,
   "id": "f4a0ec1a",
   "metadata": {},
   "outputs": [
    {
     "data": {
      "text/html": [
       "<div>\n",
       "<style scoped>\n",
       "    .dataframe tbody tr th:only-of-type {\n",
       "        vertical-align: middle;\n",
       "    }\n",
       "\n",
       "    .dataframe tbody tr th {\n",
       "        vertical-align: top;\n",
       "    }\n",
       "\n",
       "    .dataframe thead th {\n",
       "        text-align: right;\n",
       "    }\n",
       "</style>\n",
       "<table border=\"1\" class=\"dataframe\">\n",
       "  <thead>\n",
       "    <tr style=\"text-align: right;\">\n",
       "      <th></th>\n",
       "      <th>degrees</th>\n",
       "    </tr>\n",
       "  </thead>\n",
       "  <tbody>\n",
       "    <tr>\n",
       "      <th>0</th>\n",
       "      <td>3</td>\n",
       "    </tr>\n",
       "    <tr>\n",
       "      <th>1</th>\n",
       "      <td>2</td>\n",
       "    </tr>\n",
       "    <tr>\n",
       "      <th>2</th>\n",
       "      <td>3</td>\n",
       "    </tr>\n",
       "    <tr>\n",
       "      <th>3</th>\n",
       "      <td>4</td>\n",
       "    </tr>\n",
       "    <tr>\n",
       "      <th>4</th>\n",
       "      <td>25</td>\n",
       "    </tr>\n",
       "  </tbody>\n",
       "</table>\n",
       "</div>"
      ],
      "text/plain": [
       "   degrees\n",
       "0        3\n",
       "1        2\n",
       "2        3\n",
       "3        4\n",
       "4       25"
      ]
     },
     "execution_count": 45,
     "metadata": {},
     "output_type": "execute_result"
    }
   ],
   "source": [
    "# Returns DataFrame by selected column names\n",
    "df.select_dtypes(include='int')"
   ]
  },
  {
   "cell_type": "code",
   "execution_count": 46,
   "id": "68815872",
   "metadata": {},
   "outputs": [
    {
     "name": "stdout",
     "output_type": "stream",
     "text": [
      "['rollNo', 'name']\n"
     ]
    }
   ],
   "source": [
    "# Alternate way to get column names by data type\n",
    "sel_cols = [column for column, is_type in (df.dtypes==\"object\").items() if is_type]\n",
    "print(sel_cols)"
   ]
  },
  {
   "cell_type": "code",
   "execution_count": 47,
   "id": "3962b264",
   "metadata": {},
   "outputs": [
    {
     "name": "stdout",
     "output_type": "stream",
     "text": [
      "['rollNo', 'name', 'DOB']\n"
     ]
    }
   ],
   "source": [
    "# Get DataFrame Column Names of a Multiple Data Types\n",
    "sel_cols = list(df.select_dtypes(include=['object', 'datetime64[ns]' ]).columns)\n",
    "print(sel_cols)"
   ]
  },
  {
   "cell_type": "code",
   "execution_count": 51,
   "id": "34894bb9",
   "metadata": {},
   "outputs": [],
   "source": [
    "# By Using groupby  - not working\n",
    "#col = df.columns.to_series().groupby(df.dtypes).groups\n",
    "#col2 = {k.name: v for k, v in col.items()}"
   ]
  },
  {
   "cell_type": "code",
   "execution_count": 52,
   "id": "6c6f4f07",
   "metadata": {},
   "outputs": [
    {
     "data": {
      "text/plain": [
       "rollNo             object\n",
       "name               object\n",
       "DOB        datetime64[ns]\n",
       "height            float32\n",
       "degrees             int32\n",
       "gender           category\n",
       "working              bool\n",
       "dtype: object"
      ]
     },
     "execution_count": 52,
     "metadata": {},
     "output_type": "execute_result"
    }
   ],
   "source": [
    "#all float64 to float32\n",
    "for column in df.columns:\n",
    "    if df[column].dtype == 'float64':\n",
    "        df[column] = df[column].astype(np.float32)\n",
    "df.dtypes"
   ]
  },
  {
   "cell_type": "code",
   "execution_count": 55,
   "id": "c98d02b4",
   "metadata": {},
   "outputs": [
    {
     "data": {
      "text/plain": [
       "rollNo     object\n",
       "name       object\n",
       "DOB        object\n",
       "height     object\n",
       "degrees    object\n",
       "gender     object\n",
       "working    object\n",
       "dtype: object"
      ]
     },
     "execution_count": 55,
     "metadata": {},
     "output_type": "execute_result"
    }
   ],
   "source": [
    "#convert all columns to one type\n",
    "df.astype('object').dtypes"
   ]
  },
  {
   "cell_type": "code",
   "execution_count": 57,
   "id": "f63f7d0b",
   "metadata": {},
   "outputs": [
    {
     "data": {
      "text/plain": [
       "rollNo    object\n",
       "height    object\n",
       "dtype: object"
      ]
     },
     "execution_count": 57,
     "metadata": {},
     "output_type": "execute_result"
    }
   ],
   "source": [
    "columns1 = ['rollNo', 'height']\n",
    "df[columns1].astype('object').dtypes\n",
    "#apply(pd.datetime64)"
   ]
  },
  {
   "cell_type": "code",
   "execution_count": 58,
   "id": "8308efa3",
   "metadata": {},
   "outputs": [
    {
     "data": {
      "text/plain": [
       "height     float32\n",
       "degrees      int32\n",
       "dtype: object"
      ]
     },
     "execution_count": 58,
     "metadata": {},
     "output_type": "execute_result"
    }
   ],
   "source": [
    "columns2 = ['height','degrees']\n",
    "df[columns2].apply(pd.to_numeric).dtypes"
   ]
  },
  {
   "cell_type": "code",
   "execution_count": null,
   "id": "750e4bbd",
   "metadata": {},
   "outputs": [],
   "source": [
    "df[columns2].apply(pd.to_numeric).dtypes\n",
    "#astype(), to_numeric(), covert_dttypes(), infer_objects() and etc"
   ]
  },
  {
   "cell_type": "markdown",
   "id": "a014ba70",
   "metadata": {},
   "source": [
    "convert_dtypes() is available in Pandas DataFrame since version 1.0.0, this is the most used method as it automatically converts the column types to best possible types.\n",
    "By default, when you are trying to change a column to a type that is not supported with the data, Pandas generates an error, in order to ignore error use errors param; this takes either ignore or error as value. In the below example I am converting a column that has string value to int which is not supported hence it generates an error, I used errors='ignore' to ignore the error."
   ]
  },
  {
   "cell_type": "code",
   "execution_count": 62,
   "id": "9e9d27a7",
   "metadata": {},
   "outputs": [
    {
     "data": {
      "text/plain": [
       "rollNo             string\n",
       "name               string\n",
       "DOB        datetime64[ns]\n",
       "height            Float32\n",
       "degrees             Int32\n",
       "gender           category\n",
       "working           boolean\n",
       "dtype: object"
      ]
     },
     "execution_count": 62,
     "metadata": {},
     "output_type": "execute_result"
    }
   ],
   "source": [
    "df.convert_dtypes().dtypes\n",
    "#df.convert_dtypes()"
   ]
  },
  {
   "cell_type": "code",
   "execution_count": 60,
   "id": "b888447e",
   "metadata": {},
   "outputs": [
    {
     "data": {
      "text/html": [
       "<div>\n",
       "<style scoped>\n",
       "    .dataframe tbody tr th:only-of-type {\n",
       "        vertical-align: middle;\n",
       "    }\n",
       "\n",
       "    .dataframe tbody tr th {\n",
       "        vertical-align: top;\n",
       "    }\n",
       "\n",
       "    .dataframe thead th {\n",
       "        text-align: right;\n",
       "    }\n",
       "</style>\n",
       "<table border=\"1\" class=\"dataframe\">\n",
       "  <thead>\n",
       "    <tr style=\"text-align: right;\">\n",
       "      <th></th>\n",
       "      <th>height</th>\n",
       "      <th>degrees</th>\n",
       "    </tr>\n",
       "  </thead>\n",
       "  <tbody>\n",
       "    <tr>\n",
       "      <th>0</th>\n",
       "      <td>165.600006</td>\n",
       "      <td>3.0</td>\n",
       "    </tr>\n",
       "    <tr>\n",
       "      <th>1</th>\n",
       "      <td>155.199997</td>\n",
       "      <td>2.0</td>\n",
       "    </tr>\n",
       "    <tr>\n",
       "      <th>2</th>\n",
       "      <td>165.000000</td>\n",
       "      <td>3.0</td>\n",
       "    </tr>\n",
       "    <tr>\n",
       "      <th>3</th>\n",
       "      <td>153.000000</td>\n",
       "      <td>4.0</td>\n",
       "    </tr>\n",
       "    <tr>\n",
       "      <th>4</th>\n",
       "      <td>175.000000</td>\n",
       "      <td>25.0</td>\n",
       "    </tr>\n",
       "  </tbody>\n",
       "</table>\n",
       "</div>"
      ],
      "text/plain": [
       "       height  degrees\n",
       "0  165.600006      3.0\n",
       "1  155.199997      2.0\n",
       "2  165.000000      3.0\n",
       "3  153.000000      4.0\n",
       "4  175.000000     25.0"
      ]
     },
     "execution_count": 60,
     "metadata": {},
     "output_type": "execute_result"
    }
   ],
   "source": [
    "df[columns2].apply(lambda x: x.astype('float'))"
   ]
  },
  {
   "cell_type": "code",
   "execution_count": 68,
   "id": "8b285f73",
   "metadata": {},
   "outputs": [
    {
     "data": {
      "text/plain": [
       "0    165.600006\n",
       "1    155.199997\n",
       "2    165.000000\n",
       "3    153.000000\n",
       "4    175.000000\n",
       "Name: height, dtype: float32"
      ]
     },
     "execution_count": 68,
     "metadata": {},
     "output_type": "execute_result"
    }
   ],
   "source": [
    "pd.to_numeric(df[('height')])  #only 1 colums"
   ]
  },
  {
   "cell_type": "code",
   "execution_count": 69,
   "id": "e29ebe4e",
   "metadata": {},
   "outputs": [],
   "source": [
    "## Convert Dataypes\n",
    "df1 = pd.DataFrame({'rollNo':rollNo, 'name':name, 'DOB': DOB, 'height':height, 'degrees':degrees, 'gender':gender, 'working':working})"
   ]
  },
  {
   "cell_type": "code",
   "execution_count": 70,
   "id": "c453a686",
   "metadata": {},
   "outputs": [
    {
     "data": {
      "text/plain": [
       "rollNo      object\n",
       "name        object\n",
       "DOB         object\n",
       "height     float64\n",
       "degrees      int64\n",
       "gender      object\n",
       "working       bool\n",
       "dtype: object"
      ]
     },
     "execution_count": 70,
     "metadata": {},
     "output_type": "execute_result"
    }
   ],
   "source": [
    "df1.dtypes"
   ]
  },
  {
   "cell_type": "code",
   "execution_count": 73,
   "id": "74ec78a6",
   "metadata": {},
   "outputs": [
    {
     "data": {
      "text/plain": [
       "rollNo      string\n",
       "name        string\n",
       "DOB         string\n",
       "height     Float64\n",
       "degrees      Int64\n",
       "gender      string\n",
       "working    boolean\n",
       "dtype: object"
      ]
     },
     "execution_count": 73,
     "metadata": {},
     "output_type": "execute_result"
    }
   ],
   "source": [
    "df1.convert_dtypes().dtypes"
   ]
  },
  {
   "cell_type": "code",
   "execution_count": null,
   "id": "7e4f93a4",
   "metadata": {},
   "outputs": [],
   "source": []
  }
 ],
 "metadata": {
  "kernelspec": {
   "display_name": "Python 3 (ipykernel)",
   "language": "python",
   "name": "python3"
  },
  "language_info": {
   "codemirror_mode": {
    "name": "ipython",
    "version": 3
   },
   "file_extension": ".py",
   "mimetype": "text/x-python",
   "name": "python",
   "nbconvert_exporter": "python",
   "pygments_lexer": "ipython3",
   "version": "3.9.15"
  }
 },
 "nbformat": 4,
 "nbformat_minor": 5
}
