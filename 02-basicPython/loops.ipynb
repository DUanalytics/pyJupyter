{
 "cells": [
  {
   "cell_type": "markdown",
   "id": "1dfd5d14",
   "metadata": {},
   "source": [
    "# For Loop\n",
    "it is used for iterating over a sequence (list, tuple, dictionary, set or string)\n",
    "we can execute a set of statmements for each item in a list, tuple, set etc\n",
    "it does not require an indexing variable to be set before hand( int i = 0 not required)"
   ]
  },
  {
   "cell_type": "markdown",
   "id": "84cdaf44",
   "metadata": {},
   "source": [
    "## Looping through list"
   ]
  },
  {
   "cell_type": "code",
   "execution_count": 2,
   "id": "6b0451d7",
   "metadata": {},
   "outputs": [
    {
     "data": {
      "text/plain": [
       "list"
      ]
     },
     "execution_count": 2,
     "metadata": {},
     "output_type": "execute_result"
    }
   ],
   "source": [
    "#list\n",
    "names = ['Dhiraj', 'Kounal', 'Sumit']\n",
    "type(names)"
   ]
  },
  {
   "cell_type": "code",
   "execution_count": 3,
   "id": "5af71e87",
   "metadata": {},
   "outputs": [
    {
     "name": "stdout",
     "output_type": "stream",
     "text": [
      "Dhiraj\n",
      "Kounal\n",
      "Sumit\n"
     ]
    }
   ],
   "source": [
    "for i in names : print(i)"
   ]
  },
  {
   "cell_type": "markdown",
   "id": "35b66fbc",
   "metadata": {},
   "source": [
    "## Looping through a String"
   ]
  },
  {
   "cell_type": "code",
   "execution_count": 4,
   "id": "85445460",
   "metadata": {},
   "outputs": [
    {
     "data": {
      "text/plain": [
       "str"
      ]
     },
     "execution_count": 4,
     "metadata": {},
     "output_type": "execute_result"
    }
   ],
   "source": [
    "#string\n",
    "name = 'Dhiraj Upadhyaya'\n",
    "type(name)"
   ]
  },
  {
   "cell_type": "code",
   "execution_count": 8,
   "id": "aceca558",
   "metadata": {},
   "outputs": [
    {
     "name": "stdout",
     "output_type": "stream",
     "text": [
      "D, h, i, r, a, j,  , U, p, a, d, h, y, a, y, a, "
     ]
    }
   ],
   "source": [
    "for i in name : print(i , end = ', ')"
   ]
  },
  {
   "cell_type": "markdown",
   "id": "758d10a6",
   "metadata": {},
   "source": [
    "## Using Break to end the loop with condition"
   ]
  },
  {
   "cell_type": "code",
   "execution_count": 12,
   "id": "dd666836",
   "metadata": {},
   "outputs": [
    {
     "name": "stdout",
     "output_type": "stream",
     "text": [
      "D, h, i, r, a, j,  , U, "
     ]
    }
   ],
   "source": [
    "for i in name : \n",
    "    print( i , end = ', ')\n",
    "    if i == 'U' :\n",
    "        break"
   ]
  },
  {
   "cell_type": "code",
   "execution_count": 13,
   "id": "b9ec5050",
   "metadata": {},
   "outputs": [
    {
     "name": "stdout",
     "output_type": "stream",
     "text": [
      "Dhiraj\n"
     ]
    }
   ],
   "source": [
    "for i in names : \n",
    "    print(i)\n",
    "    if i == 'Dhiraj' :\n",
    "        break"
   ]
  },
  {
   "cell_type": "markdown",
   "id": "97d4805d",
   "metadata": {},
   "source": [
    "## Using Continue to skip to next iteration"
   ]
  },
  {
   "cell_type": "code",
   "execution_count": 15,
   "id": "cc3be1e7",
   "metadata": {},
   "outputs": [
    {
     "name": "stdout",
     "output_type": "stream",
     "text": [
      "Kounal\n",
      "Sumit\n"
     ]
    }
   ],
   "source": [
    "for i in names : \n",
    "    if i == 'Dhiraj' :\n",
    "       continue\n",
    "    print(i)\n",
    "#this will not print Dhiraj whenever it occurs"
   ]
  },
  {
   "cell_type": "markdown",
   "id": "91b40d95",
   "metadata": {},
   "source": [
    "## Using range() to iterate over a specified number of times"
   ]
  },
  {
   "cell_type": "code",
   "execution_count": 18,
   "id": "a00f6372",
   "metadata": {},
   "outputs": [
    {
     "name": "stdout",
     "output_type": "stream",
     "text": [
      "0, 1, 2, 3, 4, 5, "
     ]
    }
   ],
   "source": [
    "for x in range(6):\n",
    "    print(x, end =', ')\n",
    "# range(6) is not the values of 0 to 6, but values from 0 to 5\n",
    "# range() has default starting value as 0, however new value can be specified  eg range(2,6) = 2,3,4,5\n",
    "# increment number can also be specified : range(0,6,2)"
   ]
  },
  {
   "cell_type": "code",
   "execution_count": 19,
   "id": "a719e3f3",
   "metadata": {},
   "outputs": [
    {
     "name": "stdout",
     "output_type": "stream",
     "text": [
      "0, 2, 4, 6, 8, "
     ]
    }
   ],
   "source": [
    "for x in range(0,10,2):\n",
    "    print(x, end =', ')"
   ]
  },
  {
   "cell_type": "markdown",
   "id": "ff903261",
   "metadata": {},
   "source": [
    "## Using Else to execute a code when loop is over"
   ]
  },
  {
   "cell_type": "code",
   "execution_count": 21,
   "id": "4ddf55e8",
   "metadata": {},
   "outputs": [
    {
     "name": "stdout",
     "output_type": "stream",
     "text": [
      "0\t1\t2\t3\t4\t5\tLoop Over\n"
     ]
    }
   ],
   "source": [
    "for x in range(6):\n",
    "    print(x, end ='\\t')\n",
    "else:\n",
    "        print('Loop Over')"
   ]
  },
  {
   "cell_type": "markdown",
   "id": "25e85b16",
   "metadata": {},
   "source": [
    "## Nested Loops"
   ]
  },
  {
   "cell_type": "code",
   "execution_count": 22,
   "id": "d9cbb554",
   "metadata": {},
   "outputs": [
    {
     "name": "stdout",
     "output_type": "stream",
     "text": [
      "['a', 'b', 'c'] ['z', 'y', 'x', 'w']\n"
     ]
    }
   ],
   "source": [
    "x = ['a', 'b', 'c']\n",
    "y = ['z', 'y', 'x', 'w']\n",
    "print(x, y)"
   ]
  },
  {
   "cell_type": "code",
   "execution_count": 24,
   "id": "c5bfe1c3",
   "metadata": {},
   "outputs": [
    {
     "name": "stdout",
     "output_type": "stream",
     "text": [
      "a:z, a:y, a:x, a:w, b:z, b:y, b:x, b:w, c:z, c:y, c:x, c:w, "
     ]
    }
   ],
   "source": [
    "for i in x:\n",
    "    for j in y :\n",
    "        print( i, j, sep=':', end=', ')"
   ]
  },
  {
   "cell_type": "code",
   "execution_count": null,
   "id": "18eb8f3f",
   "metadata": {},
   "outputs": [],
   "source": []
  }
 ],
 "metadata": {
  "kernelspec": {
   "display_name": "Python 3 (ipykernel)",
   "language": "python",
   "name": "python3"
  },
  "language_info": {
   "codemirror_mode": {
    "name": "ipython",
    "version": 3
   },
   "file_extension": ".py",
   "mimetype": "text/x-python",
   "name": "python",
   "nbconvert_exporter": "python",
   "pygments_lexer": "ipython3",
   "version": "3.9.12"
  }
 },
 "nbformat": 4,
 "nbformat_minor": 5
}
