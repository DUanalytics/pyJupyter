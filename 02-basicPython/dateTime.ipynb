{
 "cells": [
  {
   "cell_type": "markdown",
   "id": "0edab01f",
   "metadata": {},
   "source": [
    "# Date Time\n",
    "Date in python is not a data type of its own, but we can import a module name dateime to work with dates as date objects\n",
    "pandas also has library for maninpulating dates in python"
   ]
  },
  {
   "cell_type": "markdown",
   "id": "0099a3f5",
   "metadata": {},
   "source": [
    "## library datetime"
   ]
  },
  {
   "cell_type": "code",
   "execution_count": null,
   "id": "d0846a21",
   "metadata": {},
   "outputs": [],
   "source": [
    "import datetime\n",
    "x = datetime.datetime.now()  #now time\n",
    "print(x)"
   ]
  },
  {
   "cell_type": "code",
   "execution_count": 2,
   "id": "4904a819",
   "metadata": {},
   "outputs": [
    {
     "name": "stdout",
     "output_type": "stream",
     "text": [
      "2022\n"
     ]
    }
   ],
   "source": [
    "print(x.year)"
   ]
  },
  {
   "cell_type": "code",
   "execution_count": 6,
   "id": "b3d520c2",
   "metadata": {},
   "outputs": [
    {
     "name": "stdout",
     "output_type": "stream",
     "text": [
      "Wednesday October\n"
     ]
    }
   ],
   "source": [
    "print(x.strftime('%A %B'))"
   ]
  },
  {
   "cell_type": "code",
   "execution_count": 4,
   "id": "ae1f9a7d",
   "metadata": {},
   "outputs": [],
   "source": [
    "# explore other options of datetime"
   ]
  },
  {
   "cell_type": "code",
   "execution_count": 5,
   "id": "340339e3",
   "metadata": {},
   "outputs": [
    {
     "name": "stdout",
     "output_type": "stream",
     "text": [
      "2022-10-26 00:00:00\n"
     ]
    }
   ],
   "source": [
    "# Create Date\n",
    "x = datetime.datetime(2022, 10, 26)\n",
    "print(x)"
   ]
  },
  {
   "cell_type": "code",
   "execution_count": 11,
   "id": "5e3048fb",
   "metadata": {},
   "outputs": [
    {
     "name": "stdout",
     "output_type": "stream",
     "text": [
      "2022-10-26 17:10:15\n"
     ]
    }
   ],
   "source": [
    "# add hour, min, sec\n",
    "x = datetime.datetime(2022, 10, 26, 17, 10, 15, 0) #(Y, M, D), (H, M, S), zone\n",
    "print(x)"
   ]
  },
  {
   "cell_type": "code",
   "execution_count": 17,
   "id": "d6ca73c6",
   "metadata": {},
   "outputs": [
    {
     "name": "stdout",
     "output_type": "stream",
     "text": [
      "26-October-2022 17:10:15 PM  10/26/22 17:10:15 3 43 \n"
     ]
    }
   ],
   "source": [
    "print(x.strftime('%d-%B-%Y %H:%M:%S %p  %x %X %w %W'))"
   ]
  },
  {
   "cell_type": "markdown",
   "id": "7a4eb6cb",
   "metadata": {},
   "source": [
    "### formatting date output"
   ]
  },
  {
   "cell_type": "markdown",
   "id": "3159cf44",
   "metadata": {},
   "source": [
    "%a  - weekday :  wed\n",
    "%A  - weekday :  Wednesday\n",
    "%w  - weekday :  3\n",
    "\n",
    "%d  - day of month : 22\n",
    "\n",
    "%b  - month    : Oct\n",
    "%B  - month   : October\n",
    "%m  - month   : 10\n",
    "\n",
    "%y  - year    : 22\n",
    "%Y  - year    : 2022\n",
    "\n",
    "%H  - Hours(00-23) - 17\n",
    "%I  - Hour(00-12) - 05\n",
    "\n",
    "%p  - AM/PM   - PM\n",
    "\n",
    "%M  - minute(00-59) : 10\n",
    "%S  - second(00-59) : 15\n",
    "\n",
    "\n",
    "%U  - weeknumber\n",
    "%x - local version of date\n",
    "%X - local version of time\n"
   ]
  },
  {
   "cell_type": "markdown",
   "id": "a7c7ad8a",
   "metadata": {},
   "source": [
    "## Pandas Date Time"
   ]
  },
  {
   "cell_type": "code",
   "execution_count": 19,
   "id": "e2a52bdb",
   "metadata": {},
   "outputs": [],
   "source": [
    "import pandas as pd\n",
    "import numpy as np\n",
    "import datetime"
   ]
  },
  {
   "cell_type": "code",
   "execution_count": 47,
   "id": "e0847db2",
   "metadata": {},
   "outputs": [
    {
     "data": {
      "text/html": [
       "<div>\n",
       "<style scoped>\n",
       "    .dataframe tbody tr th:only-of-type {\n",
       "        vertical-align: middle;\n",
       "    }\n",
       "\n",
       "    .dataframe tbody tr th {\n",
       "        vertical-align: top;\n",
       "    }\n",
       "\n",
       "    .dataframe thead th {\n",
       "        text-align: right;\n",
       "    }\n",
       "</style>\n",
       "<table border=\"1\" class=\"dataframe\">\n",
       "  <thead>\n",
       "    <tr style=\"text-align: right;\">\n",
       "      <th></th>\n",
       "      <th>classDate</th>\n",
       "      <th>students</th>\n",
       "    </tr>\n",
       "  </thead>\n",
       "  <tbody>\n",
       "    <tr>\n",
       "      <th>0</th>\n",
       "      <td>01/12/2022</td>\n",
       "      <td>10</td>\n",
       "    </tr>\n",
       "    <tr>\n",
       "      <th>1</th>\n",
       "      <td>22/12/2022</td>\n",
       "      <td>15</td>\n",
       "    </tr>\n",
       "    <tr>\n",
       "      <th>2</th>\n",
       "      <td>30/11/2022</td>\n",
       "      <td>12</td>\n",
       "    </tr>\n",
       "  </tbody>\n",
       "</table>\n",
       "</div>"
      ],
      "text/plain": [
       "    classDate  students\n",
       "0  01/12/2022        10\n",
       "1  22/12/2022        15\n",
       "2  30/11/2022        12"
      ]
     },
     "execution_count": 47,
     "metadata": {},
     "output_type": "execute_result"
    }
   ],
   "source": [
    "df = pd.DataFrame({ 'classDate': ['01/12/2022','22/12/2022', '30/11/2022'], 'students' :[10,15,12]})\n",
    "df"
   ]
  },
  {
   "cell_type": "code",
   "execution_count": 48,
   "id": "e1d765ee",
   "metadata": {},
   "outputs": [
    {
     "data": {
      "text/plain": [
       "classDate    object\n",
       "students      int64\n",
       "dtype: object"
      ]
     },
     "execution_count": 48,
     "metadata": {},
     "output_type": "execute_result"
    }
   ],
   "source": [
    "df.dtypes"
   ]
  },
  {
   "cell_type": "code",
   "execution_count": 49,
   "id": "26753363",
   "metadata": {},
   "outputs": [
    {
     "data": {
      "text/plain": [
       "classDate    datetime64[ns]\n",
       "students              int64\n",
       "dtype: object"
      ]
     },
     "execution_count": 49,
     "metadata": {},
     "output_type": "execute_result"
    }
   ],
   "source": [
    "#convert to datetime\n",
    "df['classDate'] = pd.to_datetime(df['classDate'], format='%d/%m/%Y') # format='%d%b%Y:%H:%M:%S.%f'\n",
    "df.dtypes"
   ]
  },
  {
   "cell_type": "code",
   "execution_count": 50,
   "id": "bac466f2",
   "metadata": {},
   "outputs": [
    {
     "data": {
      "text/plain": [
       "Timestamp('2022-01-08 00:00:00')"
      ]
     },
     "execution_count": 50,
     "metadata": {},
     "output_type": "execute_result"
    }
   ],
   "source": [
    "#convert integer number to date\n",
    "pd.to_datetime(19000, unit='D', origin='unix') #unit = days, start at 1970-01-01(unix)\n",
    "#19000 days from reference point"
   ]
  },
  {
   "cell_type": "code",
   "execution_count": 43,
   "id": "94e2ad4e",
   "metadata": {},
   "outputs": [
    {
     "name": "stdout",
     "output_type": "stream",
     "text": [
      "2022-10-25 17:23:56.837840\n"
     ]
    }
   ],
   "source": [
    "# Duration TimeDelta Function\n",
    "from datetime import datetime\n",
    "date = datetime.now()\n",
    "print(date)"
   ]
  },
  {
   "cell_type": "code",
   "execution_count": 44,
   "id": "c376a514",
   "metadata": {},
   "outputs": [
    {
     "name": "stdout",
     "output_type": "stream",
     "text": [
      "2022-10-26 17:23:56.837840\n"
     ]
    }
   ],
   "source": [
    "print(date + pd.to_timedelta(1, unit='D'))  #one day after"
   ]
  },
  {
   "cell_type": "code",
   "execution_count": 45,
   "id": "9a5e4296",
   "metadata": {},
   "outputs": [
    {
     "name": "stdout",
     "output_type": "stream",
     "text": [
      "2022-11-01 17:23:56.837840\n"
     ]
    }
   ],
   "source": [
    "print(date + pd.to_timedelta(1, unit='W')) #one week later"
   ]
  },
  {
   "cell_type": "code",
   "execution_count": 53,
   "id": "6bc76a3c",
   "metadata": {},
   "outputs": [
    {
     "data": {
      "text/html": [
       "<div>\n",
       "<style scoped>\n",
       "    .dataframe tbody tr th:only-of-type {\n",
       "        vertical-align: middle;\n",
       "    }\n",
       "\n",
       "    .dataframe tbody tr th {\n",
       "        vertical-align: top;\n",
       "    }\n",
       "\n",
       "    .dataframe thead th {\n",
       "        text-align: right;\n",
       "    }\n",
       "</style>\n",
       "<table border=\"1\" class=\"dataframe\">\n",
       "  <thead>\n",
       "    <tr style=\"text-align: right;\">\n",
       "      <th></th>\n",
       "      <th>classDate</th>\n",
       "      <th>students</th>\n",
       "    </tr>\n",
       "  </thead>\n",
       "  <tbody>\n",
       "    <tr>\n",
       "      <th>0</th>\n",
       "      <td>01/12/2022</td>\n",
       "      <td>10</td>\n",
       "    </tr>\n",
       "    <tr>\n",
       "      <th>1</th>\n",
       "      <td>22/12/2022</td>\n",
       "      <td>15</td>\n",
       "    </tr>\n",
       "    <tr>\n",
       "      <th>2</th>\n",
       "      <td>30/11/2022</td>\n",
       "      <td>12</td>\n",
       "    </tr>\n",
       "  </tbody>\n",
       "</table>\n",
       "</div>"
      ],
      "text/plain": [
       "    classDate  students\n",
       "0  01/12/2022        10\n",
       "1  22/12/2022        15\n",
       "2  30/11/2022        12"
      ]
     },
     "execution_count": 53,
     "metadata": {},
     "output_type": "execute_result"
    }
   ],
   "source": [
    "#display day first\n",
    "df1 = pd.DataFrame({ 'classDate': ['01/12/2022','22/12/2022', '30/11/2022'], 'students' :[10,15,12]})\n",
    "df1"
   ]
  },
  {
   "cell_type": "code",
   "execution_count": 54,
   "id": "b1b35ebe",
   "metadata": {},
   "outputs": [
    {
     "data": {
      "text/html": [
       "<div>\n",
       "<style scoped>\n",
       "    .dataframe tbody tr th:only-of-type {\n",
       "        vertical-align: middle;\n",
       "    }\n",
       "\n",
       "    .dataframe tbody tr th {\n",
       "        vertical-align: top;\n",
       "    }\n",
       "\n",
       "    .dataframe thead th {\n",
       "        text-align: right;\n",
       "    }\n",
       "</style>\n",
       "<table border=\"1\" class=\"dataframe\">\n",
       "  <thead>\n",
       "    <tr style=\"text-align: right;\">\n",
       "      <th></th>\n",
       "      <th>classDate</th>\n",
       "      <th>students</th>\n",
       "    </tr>\n",
       "  </thead>\n",
       "  <tbody>\n",
       "    <tr>\n",
       "      <th>0</th>\n",
       "      <td>2022-12-01</td>\n",
       "      <td>10</td>\n",
       "    </tr>\n",
       "    <tr>\n",
       "      <th>1</th>\n",
       "      <td>2022-12-22</td>\n",
       "      <td>15</td>\n",
       "    </tr>\n",
       "    <tr>\n",
       "      <th>2</th>\n",
       "      <td>2022-11-30</td>\n",
       "      <td>12</td>\n",
       "    </tr>\n",
       "  </tbody>\n",
       "</table>\n",
       "</div>"
      ],
      "text/plain": [
       "   classDate  students\n",
       "0 2022-12-01        10\n",
       "1 2022-12-22        15\n",
       "2 2022-11-30        12"
      ]
     },
     "execution_count": 54,
     "metadata": {},
     "output_type": "execute_result"
    }
   ],
   "source": [
    "df1['classDate'] = pd.to_datetime(df['classDate'], format='%d/%m/%Y', dayfirst=True) \n",
    "df.dtypes\n",
    "df1"
   ]
  },
  {
   "cell_type": "code",
   "execution_count": 57,
   "id": "c74f9325",
   "metadata": {},
   "outputs": [
    {
     "data": {
      "text/html": [
       "<div>\n",
       "<style scoped>\n",
       "    .dataframe tbody tr th:only-of-type {\n",
       "        vertical-align: middle;\n",
       "    }\n",
       "\n",
       "    .dataframe tbody tr th {\n",
       "        vertical-align: top;\n",
       "    }\n",
       "\n",
       "    .dataframe thead th {\n",
       "        text-align: right;\n",
       "    }\n",
       "</style>\n",
       "<table border=\"1\" class=\"dataframe\">\n",
       "  <thead>\n",
       "    <tr style=\"text-align: right;\">\n",
       "      <th></th>\n",
       "      <th>classDate</th>\n",
       "      <th>students</th>\n",
       "      <th>year</th>\n",
       "      <th>month</th>\n",
       "      <th>day</th>\n",
       "    </tr>\n",
       "  </thead>\n",
       "  <tbody>\n",
       "    <tr>\n",
       "      <th>0</th>\n",
       "      <td>2022-12-01</td>\n",
       "      <td>10</td>\n",
       "      <td>2022</td>\n",
       "      <td>12</td>\n",
       "      <td>1</td>\n",
       "    </tr>\n",
       "    <tr>\n",
       "      <th>1</th>\n",
       "      <td>2022-12-22</td>\n",
       "      <td>15</td>\n",
       "      <td>2022</td>\n",
       "      <td>12</td>\n",
       "      <td>22</td>\n",
       "    </tr>\n",
       "    <tr>\n",
       "      <th>2</th>\n",
       "      <td>2022-11-30</td>\n",
       "      <td>12</td>\n",
       "      <td>2022</td>\n",
       "      <td>11</td>\n",
       "      <td>30</td>\n",
       "    </tr>\n",
       "  </tbody>\n",
       "</table>\n",
       "</div>"
      ],
      "text/plain": [
       "   classDate  students  year  month  day\n",
       "0 2022-12-01        10  2022     12    1\n",
       "1 2022-12-22        15  2022     12   22\n",
       "2 2022-11-30        12  2022     11   30"
      ]
     },
     "execution_count": 57,
     "metadata": {},
     "output_type": "execute_result"
    }
   ],
   "source": [
    "df1['year'] = df1['classDate'].dt.year\n",
    "df1['month'] = df1['classDate'].dt.month\n",
    "df1['day'] = df1['classDate'].dt.day\n",
    "df1"
   ]
  },
  {
   "cell_type": "markdown",
   "id": "aa45359b",
   "metadata": {},
   "source": [
    "### Range of Dates"
   ]
  },
  {
   "cell_type": "code",
   "execution_count": 60,
   "id": "17f36d09",
   "metadata": {},
   "outputs": [
    {
     "data": {
      "text/plain": [
       "DatetimeIndex(['2022-01-11', '2022-01-12', '2022-01-13', '2022-01-14',\n",
       "               '2022-01-15', '2022-01-16', '2022-01-17', '2022-01-18',\n",
       "               '2022-01-19', '2022-01-20',\n",
       "               ...\n",
       "               '2023-01-06', '2023-01-07', '2023-01-08', '2023-01-09',\n",
       "               '2023-01-10', '2023-01-11', '2023-01-12', '2023-01-13',\n",
       "               '2023-01-14', '2023-01-15'],\n",
       "              dtype='datetime64[ns]', length=370, freq='D')"
      ]
     },
     "execution_count": 60,
     "metadata": {},
     "output_type": "execute_result"
    }
   ],
   "source": [
    "pd.date_range(start='01-11-2022', end='15-01-2023')"
   ]
  },
  {
   "cell_type": "code",
   "execution_count": 68,
   "id": "2c2cce6e",
   "metadata": {},
   "outputs": [
    {
     "data": {
      "text/plain": [
       "DatetimeIndex(['2022-10-25 17:39:56.574817', '2022-10-26 17:39:56.574817',\n",
       "               '2022-10-27 17:39:56.574817', '2022-10-28 17:39:56.574817',\n",
       "               '2022-10-29 17:39:56.574817', '2022-10-30 17:39:56.574817',\n",
       "               '2022-10-31 17:39:56.574817', '2022-11-01 17:39:56.574817',\n",
       "               '2022-11-02 17:39:56.574817', '2022-11-03 17:39:56.574817'],\n",
       "              dtype='datetime64[ns]', freq='D')"
      ]
     },
     "execution_count": 68,
     "metadata": {},
     "output_type": "execute_result"
    }
   ],
   "source": [
    "pd.date_range(start=datetime.today(), periods=10, freq='D')"
   ]
  },
  {
   "cell_type": "code",
   "execution_count": null,
   "id": "f88336ae",
   "metadata": {},
   "outputs": [],
   "source": []
  }
 ],
 "metadata": {
  "kernelspec": {
   "display_name": "Python 3 (ipykernel)",
   "language": "python",
   "name": "python3"
  },
  "language_info": {
   "codemirror_mode": {
    "name": "ipython",
    "version": 3
   },
   "file_extension": ".py",
   "mimetype": "text/x-python",
   "name": "python",
   "nbconvert_exporter": "python",
   "pygments_lexer": "ipython3",
   "version": "3.9.12"
  }
 },
 "nbformat": 4,
 "nbformat_minor": 5
}
