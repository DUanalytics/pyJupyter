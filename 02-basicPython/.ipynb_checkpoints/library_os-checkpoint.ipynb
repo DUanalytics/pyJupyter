{
 "cells": [
  {
   "cell_type": "code",
   "execution_count": 1,
   "id": "82e03fcc",
   "metadata": {},
   "outputs": [],
   "source": [
    "#using os commands"
   ]
  },
  {
   "cell_type": "code",
   "execution_count": 2,
   "id": "692737b0",
   "metadata": {},
   "outputs": [],
   "source": [
    "#library\n",
    "import os"
   ]
  },
  {
   "cell_type": "code",
   "execution_count": 3,
   "id": "a9073612",
   "metadata": {},
   "outputs": [
    {
     "name": "stdout",
     "output_type": "stream",
     "text": [
      "E:\\analytics\\projects\\pyJupyter\\02-basicPython\n"
     ]
    }
   ],
   "source": [
    "print(os.getcwd())"
   ]
  },
  {
   "cell_type": "code",
   "execution_count": 5,
   "id": "68e86496",
   "metadata": {},
   "outputs": [
    {
     "name": "stdout",
     "output_type": "stream",
     "text": [
      "['.ipynb_checkpoints', 'library_os.ipynb']\n"
     ]
    }
   ],
   "source": [
    "#all files in the current dire\n",
    "print(os.listdir(os.getcwd()))"
   ]
  },
  {
   "cell_type": "code",
   "execution_count": 8,
   "id": "a1237f95",
   "metadata": {},
   "outputs": [
    {
     "name": "stdout",
     "output_type": "stream",
     "text": [
      "['.git', '.ipynb_checkpoints', '00-book1', '02-basicPython', '03-analytics', '05-advGraphs', '08-python', '09-cases', 'data', 'html', 'images', 'README.md']\n"
     ]
    }
   ],
   "source": [
    "#other directory\n",
    "print(os.listdir('E:/analytics/projects/pyJupyter/'))"
   ]
  },
  {
   "cell_type": "code",
   "execution_count": null,
   "id": "17e01202",
   "metadata": {},
   "outputs": [],
   "source": []
  }
 ],
 "metadata": {
  "kernelspec": {
   "display_name": "Python 3 (ipykernel)",
   "language": "python",
   "name": "python3"
  },
  "language_info": {
   "codemirror_mode": {
    "name": "ipython",
    "version": 3
   },
   "file_extension": ".py",
   "mimetype": "text/x-python",
   "name": "python",
   "nbconvert_exporter": "python",
   "pygments_lexer": "ipython3",
   "version": "3.9.12"
  }
 },
 "nbformat": 4,
 "nbformat_minor": 5
}
