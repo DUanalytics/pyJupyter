{
 "cells": [
  {
   "cell_type": "markdown",
   "id": "54ac9c97",
   "metadata": {},
   "source": [
    "# Lists"
   ]
  },
  {
   "cell_type": "code",
   "execution_count": null,
   "id": "eb9c3561",
   "metadata": {},
   "outputs": [],
   "source": [
    "# actions to be done in lists\n",
    "\n",
    "Edit items \n",
    "Insert items\n",
    "Extend list\n",
    "Pop\n",
    "Index\n",
    "Copy\n",
    "Count\n",
    "Sort\n",
    "Clear\n",
    "Print items of list - single line, separate lin\n",
    "Move elements to the end\n",
    "Sort the list\n",
    "Reverse the items of list\n",
    "List to numpy\n",
    "List to dataframe\n",
    "Multiple dimensions List\n",
    "Length of items in List\n",
    "Upper, Lower\n"
   ]
  }
 ],
 "metadata": {
  "kernelspec": {
   "display_name": "Python 3 (ipykernel)",
   "language": "python",
   "name": "python3"
  },
  "language_info": {
   "codemirror_mode": {
    "name": "ipython",
    "version": 3
   },
   "file_extension": ".py",
   "mimetype": "text/x-python",
   "name": "python",
   "nbconvert_exporter": "python",
   "pygments_lexer": "ipython3",
   "version": "3.9.12"
  }
 },
 "nbformat": 4,
 "nbformat_minor": 5
}
