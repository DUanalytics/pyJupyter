{
 "cells": [
  {
   "cell_type": "markdown",
   "id": "fc29808e",
   "metadata": {},
   "source": [
    "# Print\n",
    "print the object ; Default ends with a new line"
   ]
  },
  {
   "cell_type": "code",
   "execution_count": 1,
   "id": "7e34e642",
   "metadata": {},
   "outputs": [
    {
     "name": "stdout",
     "output_type": "stream",
     "text": [
      "Welcome to Class of Learning Python\n"
     ]
    }
   ],
   "source": [
    "print('Welcome to Class of Learning Python')"
   ]
  },
  {
   "cell_type": "code",
   "execution_count": 3,
   "id": "acb42505",
   "metadata": {},
   "outputs": [
    {
     "name": "stdout",
     "output_type": "stream",
     "text": [
      "This file is created by Dhiraj Upadhyaya@"
     ]
    }
   ],
   "source": [
    "#end parameter\n",
    "print(\"This file is created by Dhiraj Upadhyaya\", end='@')"
   ]
  },
  {
   "cell_type": "code",
   "execution_count": 8,
   "id": "0c35aa66",
   "metadata": {},
   "outputs": [
    {
     "name": "stdout",
     "output_type": "stream",
     "text": [
      "Graduate - Python Analytics 2022"
     ]
    }
   ],
   "source": [
    "#seperator parameter\n",
    "print('Graduate' , 'Python Analytics', sep= ' - ', end = ' 2022')"
   ]
  },
  {
   "cell_type": "code",
   "execution_count": 10,
   "id": "4f9b893e",
   "metadata": {},
   "outputs": [
    {
     "name": "stdout",
     "output_type": "stream",
     "text": [
      "P\n",
      "y\n",
      "t\n",
      "h\n",
      "o\n",
      "n\n",
      " \n",
      "A\n",
      "n\n",
      "a\n",
      "l\n",
      "y\n",
      "t\n",
      "i\n",
      "c\n",
      "s\n"
     ]
    }
   ],
   "source": [
    "#next line\n",
    "course = 'Python Analytics'\n",
    "for i in course :\n",
    "    print(i, end = '\\n')"
   ]
  },
  {
   "cell_type": "code",
   "execution_count": null,
   "id": "a42b994b",
   "metadata": {},
   "outputs": [],
   "source": []
  }
 ],
 "metadata": {
  "kernelspec": {
   "display_name": "Python 3 (ipykernel)",
   "language": "python",
   "name": "python3"
  },
  "language_info": {
   "codemirror_mode": {
    "name": "ipython",
    "version": 3
   },
   "file_extension": ".py",
   "mimetype": "text/x-python",
   "name": "python",
   "nbconvert_exporter": "python",
   "pygments_lexer": "ipython3",
   "version": "3.9.12"
  }
 },
 "nbformat": 4,
 "nbformat_minor": 5
}
