{
 "cells": [
  {
   "cell_type": "markdown",
   "id": "e7040b1b-0124-4eee-b65a-123eaef8f8d5",
   "metadata": {},
   "source": [
    "# Linear Programmin - M2\n",
    "- https://www.scaler.com/topics/linear-programming-in-python/"
   ]
  },
  {
   "cell_type": "code",
   "execution_count": 1,
   "id": "618e58e6-1973-43e8-a37f-0732dba4d31d",
   "metadata": {
    "tags": []
   },
   "outputs": [],
   "source": [
    "# importing libraries and modules   \n",
    "import numpy as np\n",
    "from scipy.optimize import linprog\n",
    "import matplotlib.pyplot as plt\n",
    "from matplotlib.patches import Polygon"
   ]
  },
  {
   "cell_type": "code",
   "execution_count": null,
   "id": "343c1d66-eedd-44fc-963a-3929e9f1e9ed",
   "metadata": {},
   "outputs": [],
   "source": [
    "print(\"This problem statmeent can be formulated as:\")\n",
    "\n",
    "print(\"max 3a + 4b\")\n",
    "print(\"this must be subjected to:\")\n",
    "print(\"2a + 5b <= 30\")\n",
    "print(\"4a + 2b <= 20\")\n",
    "print(\"a,b >0\")"
   ]
  },
  {
   "cell_type": "code",
   "execution_count": 2,
   "id": "ce813013-1179-4bad-a182-9fe7dd1b0fb0",
   "metadata": {
    "tags": []
   },
   "outputs": [],
   "source": [
    "# Constructing the parameters\n",
    "x = np.array([3, 4])\n",
    "# Below are the Inequality constraints\n",
    "D = np.array([[2, 5], [4, 2]])\n",
    "E = np.array([30,20])"
   ]
  },
  {
   "cell_type": "code",
   "execution_count": 4,
   "id": "65651f9d-eb26-4b02-8c57-670016fd5f5f",
   "metadata": {
    "tags": []
   },
   "outputs": [
    {
     "name": "stdout",
     "output_type": "stream",
     "text": [
      "        message: Optimization terminated successfully. (HiGHS Status 7: Optimal)\n",
      "        success: True\n",
      "         status: 0\n",
      "            fun: -27.5\n",
      "              x: [ 2.500e+00  5.000e+00]\n",
      "            nit: 2\n",
      "          lower:  residual: [ 2.500e+00  5.000e+00]\n",
      "                 marginals: [ 0.000e+00  0.000e+00]\n",
      "          upper:  residual: [       inf        inf]\n",
      "                 marginals: [ 0.000e+00  0.000e+00]\n",
      "          eqlin:  residual: []\n",
      "                 marginals: []\n",
      "        ineqlin:  residual: [ 0.000e+00  0.000e+00]\n",
      "                 marginals: [-6.250e-01 -4.375e-01]\n",
      " mip_node_count: 0\n",
      " mip_dual_bound: 0.0\n",
      "        mip_gap: 0.0\n"
     ]
    }
   ],
   "source": [
    "# Solving the linear programming in Python problem\n",
    "# As linprog does minimization, Purposely did put a negative sign on the objective \n",
    "result = linprog(-x, A_ub=D, b_ub=E, method='highs')\n",
    "# As the problem wants to maximize the objective, we need to put a minus sign in front of parameter vector c.\n",
    "print(result)"
   ]
  },
  {
   "cell_type": "markdown",
   "id": "8b02caab-77c2-49d3-b328-23aac6737531",
   "metadata": {},
   "source": [
    "- As seen above, the optimal plan comes out as 2.5, 5 which tells the organization for producing 2.5 units of Product S and 5 units of Product T. The maximized revenue that could be generated is 27.5. Here, the linprog function is a black box where Python first transforms the problem as a standard form. It evaluates each inequality constraint it generates using one slack variable."
   ]
  }
 ],
 "metadata": {
  "kernelspec": {
   "display_name": "Python 3 (ipykernel)",
   "language": "python",
   "name": "python3"
  },
  "language_info": {
   "codemirror_mode": {
    "name": "ipython",
    "version": 3
   },
   "file_extension": ".py",
   "mimetype": "text/x-python",
   "name": "python",
   "nbconvert_exporter": "python",
   "pygments_lexer": "ipython3",
   "version": "3.11.5"
  }
 },
 "nbformat": 4,
 "nbformat_minor": 5
}
