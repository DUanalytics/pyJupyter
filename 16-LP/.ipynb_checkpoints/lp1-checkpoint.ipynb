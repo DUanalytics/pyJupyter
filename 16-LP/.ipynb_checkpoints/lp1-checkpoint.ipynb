{
 "cells": [
  {
   "cell_type": "markdown",
   "id": "5b03203e-1f17-4b29-836b-af416ab56a4a",
   "metadata": {
    "tags": []
   },
   "source": [
    "# LP in python\n",
    "- https://www.geeksforgeeks.org/python-linear-programming-in-pulp/"
   ]
  },
  {
   "cell_type": "code",
   "execution_count": 3,
   "id": "2b632394-7e35-4372-8162-bdcb2d45b9f9",
   "metadata": {
    "tags": []
   },
   "outputs": [],
   "source": [
    "#!pip install pulp"
   ]
  },
  {
   "cell_type": "code",
   "execution_count": 4,
   "id": "813402d3-a380-4e73-9219-b6098f51d2e3",
   "metadata": {
    "tags": []
   },
   "outputs": [],
   "source": [
    "import pulp as p"
   ]
  },
  {
   "cell_type": "code",
   "execution_count": 7,
   "id": "085b99f3-9adc-4ddb-be71-8ea608c37c77",
   "metadata": {
    "tags": []
   },
   "outputs": [],
   "source": [
    "Lp_prob = p.LpProblem('Problem', p.LpMinimize)"
   ]
  },
  {
   "cell_type": "code",
   "execution_count": 8,
   "id": "85ac2414-4531-4bf0-bb8a-f1b62d7e4867",
   "metadata": {
    "tags": []
   },
   "outputs": [],
   "source": [
    "#create Problem Variables\n",
    "x = p.LpVariable('x', lowBound=0) # create variable x >=0\n",
    "y = p.LpVariable('y', lowBound=0) # create variable y >=0"
   ]
  },
  {
   "cell_type": "code",
   "execution_count": 9,
   "id": "7a01c3e7-99d7-4b77-98e9-dabbc2dc2ff5",
   "metadata": {
    "tags": []
   },
   "outputs": [],
   "source": [
    "# Objective Function\n",
    "Lp_prob += 3 * x + 5 * y"
   ]
  },
  {
   "cell_type": "code",
   "execution_count": 10,
   "id": "1463eda8-0120-4064-b34e-6321548abfea",
   "metadata": {
    "tags": []
   },
   "outputs": [
    {
     "data": {
      "text/plain": [
       "Problem:\n",
       "MINIMIZE\n",
       "3*x + 5*y + 0\n",
       "VARIABLES\n",
       "x Continuous\n",
       "y Continuous"
      ]
     },
     "execution_count": 10,
     "metadata": {},
     "output_type": "execute_result"
    }
   ],
   "source": [
    "Lp_prob"
   ]
  },
  {
   "cell_type": "code",
   "execution_count": 11,
   "id": "cf29f3d3-ebbe-4dde-8dce-c3506753922f",
   "metadata": {
    "tags": []
   },
   "outputs": [],
   "source": [
    "#Constraints\n",
    "Lp_prob += 2 * x + 3 * y >= 12\n",
    "Lp_prob += -x + y <= 3\n",
    "Lp_prob += x >= 4\n",
    "Lp_prob += y <= 3"
   ]
  },
  {
   "cell_type": "code",
   "execution_count": 12,
   "id": "977fbfa1-68d4-48da-a89f-57e5d27fc570",
   "metadata": {
    "tags": []
   },
   "outputs": [
    {
     "name": "stdout",
     "output_type": "stream",
     "text": [
      "Problem:\n",
      "MINIMIZE\n",
      "3*x + 5*y + 0\n",
      "SUBJECT TO\n",
      "_C1: 2 x + 3 y >= 12\n",
      "\n",
      "_C2: - x + y <= 3\n",
      "\n",
      "_C3: x >= 4\n",
      "\n",
      "_C4: y <= 3\n",
      "\n",
      "VARIABLES\n",
      "x Continuous\n",
      "y Continuous\n",
      "\n"
     ]
    }
   ],
   "source": [
    "# Display the problem \n",
    "print(Lp_prob) "
   ]
  },
  {
   "cell_type": "code",
   "execution_count": 13,
   "id": "8bb7c518-24ac-47a8-8843-01d91cf80976",
   "metadata": {
    "tags": []
   },
   "outputs": [
    {
     "name": "stdout",
     "output_type": "stream",
     "text": [
      "Welcome to the CBC MILP Solver \n",
      "Version: 2.10.3 \n",
      "Build Date: Dec 15 2019 \n",
      "\n",
      "command line - /Users/du/anaconda3/lib/python3.11/site-packages/pulp/solverdir/cbc/osx/64/cbc /var/folders/z4/8qd93wx14xz1c9qfb_z969wc0000gn/T/4c105e10517149cd8fdc928be25a6095-pulp.mps -timeMode elapsed -branch -printingOptions all -solution /var/folders/z4/8qd93wx14xz1c9qfb_z969wc0000gn/T/4c105e10517149cd8fdc928be25a6095-pulp.sol (default strategy 1)\n",
      "At line 2 NAME          MODEL\n",
      "At line 3 ROWS\n",
      "At line 9 COLUMNS\n",
      "At line 18 RHS\n",
      "At line 23 BOUNDS\n",
      "At line 24 ENDATA\n",
      "Problem MODEL has 4 rows, 2 columns and 6 elements\n",
      "Coin0008I MODEL read with 0 errors\n",
      "Option for timeMode changed from cpu to elapsed\n",
      "Presolve 0 (-4) rows, 0 (-2) columns and 0 (-6) elements\n",
      "Empty problem - 0 rows, 0 columns and 0 elements\n",
      "Optimal - objective value 18\n",
      "After Postsolve, objective 18, infeasibilities - dual 0 (0), primal 0 (0)\n",
      "Optimal objective 18 - 0 iterations time 0.002, Presolve 0.00\n",
      "Option for printingOptions changed from normal to all\n",
      "Total time (CPU seconds):       0.00   (Wallclock seconds):       0.00\n",
      "\n",
      "Optimal\n"
     ]
    }
   ],
   "source": [
    "status = Lp_prob.solve()   # Solver \n",
    "print(p.LpStatus[status])   # The solution status "
   ]
  },
  {
   "cell_type": "code",
   "execution_count": 14,
   "id": "979fd670-4cd3-4a42-80ce-70c3a6997dda",
   "metadata": {
    "tags": []
   },
   "outputs": [
    {
     "name": "stdout",
     "output_type": "stream",
     "text": [
      "6.0 0.0 18.0\n"
     ]
    }
   ],
   "source": [
    "# Printing the final solution \n",
    "print(p.value(x), p.value(y), p.value(Lp_prob.objective)) "
   ]
  },
  {
   "cell_type": "markdown",
   "id": "d1cebff4-6933-46b1-9cce-eeb3d4c719f7",
   "metadata": {},
   "source": [
    "- The optimal value for x and y are 6.0 and 0.0 respectively. The optimised objective function value is 18.0."
   ]
  },
  {
   "cell_type": "markdown",
   "id": "942bd708-1bbc-477a-9df5-7c612c414a45",
   "metadata": {},
   "source": [
    "## Example2  : Minimise\n",
    "- Z = -50x + 20y\n",
    "- 2x - y >= 3\n",
    "- 3x + y >= 3\n",
    "- 2x - 3y <= 12\n",
    "- x >= 0, y >= 0"
   ]
  },
  {
   "cell_type": "code",
   "execution_count": 16,
   "id": "f11d3266-5560-4bec-a566-0f32c301d201",
   "metadata": {
    "tags": []
   },
   "outputs": [],
   "source": [
    "Lp_prob = p.LpProblem('Problem', p.LpMinimize)"
   ]
  },
  {
   "cell_type": "code",
   "execution_count": 17,
   "id": "507a84d9-9aeb-4165-8661-be9d672d9da3",
   "metadata": {
    "tags": []
   },
   "outputs": [],
   "source": [
    "#create Problem Variables\n",
    "x = p.LpVariable('x', lowBound=0) # create variable x >=0\n",
    "y = p.LpVariable('y', lowBound=0) # create variable y >=0"
   ]
  },
  {
   "cell_type": "code",
   "execution_count": 18,
   "id": "0bc82b78-4735-4b08-b95c-cfc51fe206f4",
   "metadata": {
    "tags": []
   },
   "outputs": [],
   "source": [
    "# Objective Function\n",
    "Lp_prob += -50 * x + 20 * y"
   ]
  },
  {
   "cell_type": "code",
   "execution_count": 19,
   "id": "1ef663e6-ba06-4ff8-b709-472c5ee88913",
   "metadata": {
    "tags": []
   },
   "outputs": [],
   "source": [
    "#Constraints\n",
    "Lp_prob += 2 * x - 1 * y  >= -5\n",
    "Lp_prob += 3 * x + 1 * y  >=  3\n",
    "Lp_prob += 2 * x - 3 * y  <= 12"
   ]
  },
  {
   "cell_type": "code",
   "execution_count": 20,
   "id": "cf11d114-7930-49bc-bcd1-ce47b1ac65d8",
   "metadata": {
    "tags": []
   },
   "outputs": [
    {
     "name": "stdout",
     "output_type": "stream",
     "text": [
      "Welcome to the CBC MILP Solver \n",
      "Version: 2.10.3 \n",
      "Build Date: Dec 15 2019 \n",
      "\n",
      "command line - /Users/du/anaconda3/lib/python3.11/site-packages/pulp/solverdir/cbc/osx/64/cbc /var/folders/z4/8qd93wx14xz1c9qfb_z969wc0000gn/T/f46a4e3e74da463bb6e6e73ab9f78350-pulp.mps -timeMode elapsed -branch -printingOptions all -solution /var/folders/z4/8qd93wx14xz1c9qfb_z969wc0000gn/T/f46a4e3e74da463bb6e6e73ab9f78350-pulp.sol (default strategy 1)\n",
      "At line 2 NAME          MODEL\n",
      "At line 3 ROWS\n",
      "At line 8 COLUMNS\n",
      "At line 17 RHS\n",
      "At line 21 BOUNDS\n",
      "At line 22 ENDATA\n",
      "Problem MODEL has 3 rows, 2 columns and 6 elements\n",
      "Coin0008I MODEL read with 0 errors\n",
      "Option for timeMode changed from cpu to elapsed\n",
      "Presolve determined that the problem was infeasible with tolerance of 1e-08\n",
      "Analysis indicates model infeasible or unbounded\n",
      "0  Obj 0 Primal inf 0.9999999 (1) Dual inf 50 (1)\n",
      "0  Obj 0 Primal inf 0.9999999 (1) Dual inf 1.3333333e+10 (2)\n",
      "1  Obj -300 Dual inf 55 (1)\n",
      "1  Obj -300 Dual inf 55 (1)\n",
      "Dual infeasible - objective value -300\n",
      "DualInfeasible objective -300 - 1 iterations time 0.002\n",
      "\n",
      "Result - Linear relaxation unbounded\n",
      "\n",
      "Enumerated nodes:           0\n",
      "Total iterations:           0\n",
      "Time (CPU seconds):         0.00\n",
      "Time (Wallclock Seconds):   0.01\n",
      "\n",
      "Option for printingOptions changed from normal to all\n",
      "Total time (CPU seconds):       0.00   (Wallclock seconds):       0.01\n",
      "\n",
      "Unbounded\n"
     ]
    }
   ],
   "source": [
    "status = Lp_prob.solve()   # Solver \n",
    "print(p.LpStatus[status])   # The solution status "
   ]
  },
  {
   "cell_type": "code",
   "execution_count": 21,
   "id": "1dd5dc7c-46d6-49d2-974d-af31927c1e75",
   "metadata": {
    "tags": []
   },
   "outputs": [
    {
     "name": "stdout",
     "output_type": "stream",
     "text": [
      "6.0 0.0 -300.0\n"
     ]
    }
   ],
   "source": [
    "# Printing the final solution \n",
    "print(p.value(x), p.value(y), p.value(Lp_prob.objective)) "
   ]
  },
  {
   "cell_type": "code",
   "execution_count": 22,
   "id": "da9c3bb7-1a15-48c5-8054-ac97de0d79be",
   "metadata": {
    "tags": []
   },
   "outputs": [
    {
     "name": "stdout",
     "output_type": "stream",
     "text": [
      "Problem:\n",
      "MINIMIZE\n",
      "-50*x + 20*y + 0\n",
      "SUBJECT TO\n",
      "_C1: 2 x - y >= -5\n",
      "\n",
      "_C2: 3 x + y >= 3\n",
      "\n",
      "_C3: 2 x - 3 y <= 12\n",
      "\n",
      "VARIABLES\n",
      "x Continuous\n",
      "y Continuous\n",
      "\n"
     ]
    }
   ],
   "source": [
    "# Display the problem \n",
    "print(Lp_prob) "
   ]
  },
  {
   "cell_type": "code",
   "execution_count": null,
   "id": "494a8a08-610e-48b4-963c-d870b56aa3ab",
   "metadata": {},
   "outputs": [],
   "source": []
  }
 ],
 "metadata": {
  "kernelspec": {
   "display_name": "Python 3 (ipykernel)",
   "language": "python",
   "name": "python3"
  },
  "language_info": {
   "codemirror_mode": {
    "name": "ipython",
    "version": 3
   },
   "file_extension": ".py",
   "mimetype": "text/x-python",
   "name": "python",
   "nbconvert_exporter": "python",
   "pygments_lexer": "ipython3",
   "version": "3.11.5"
  }
 },
 "nbformat": 4,
 "nbformat_minor": 5
}
