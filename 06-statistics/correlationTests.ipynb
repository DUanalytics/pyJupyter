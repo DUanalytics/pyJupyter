{
 "cells": [
  {
   "cell_type": "markdown",
   "id": "9d675284",
   "metadata": {},
   "source": [
    "# Correlation Test\n",
    "check if two samples are related."
   ]
  },
  {
   "cell_type": "markdown",
   "id": "bce7d03a",
   "metadata": {},
   "source": [
    "## Hypothesis - Pearsons\n",
    "Pearson’s Correlation Coefficient : Tests whether two samples have a linear relationship.\n",
    "\n",
    "Assumptions\n",
    "- Observations in each sample are independent and identically distributed (iid).\n",
    "- Observations in each sample are normally distributed.\n",
    "- Observations in each sample have the same variance.\n",
    "\n",
    "Interpretation\n",
    "- H0: the two samples are independent.\n",
    "- H1: there is a dependency between the samples."
   ]
  },
  {
   "cell_type": "code",
   "execution_count": 1,
   "id": "1f0c5fd8",
   "metadata": {},
   "outputs": [
    {
     "name": "stdout",
     "output_type": "stream",
     "text": [
      "stat=0.688, p=0.028\n",
      "Probably dependent\n"
     ]
    }
   ],
   "source": [
    "from scipy.stats import pearsonr\n",
    "data1 = [0.873, 2.817, 0.121, -0.945, -0.055, -1.436, 0.360, -1.478, -1.637, -1.869]\n",
    "data2 = [0.353, 3.517, 0.125, -7.545, -0.555, -1.536, 3.350, -1.578, -3.537, -1.579]\n",
    "stat, p = pearsonr(data1, data2)\n",
    "print('stat=%.3f, p=%.3f' % (stat, p))\n",
    "if p > 0.05:\n",
    "\tprint('Probably independent')\n",
    "else:\n",
    "\tprint('Probably dependent')"
   ]
  },
  {
   "cell_type": "markdown",
   "id": "3eef17fd",
   "metadata": {},
   "source": [
    "## Hypothesis - Spearman's\n",
    "Spearman’s Rank Correlation : Tests whether two samples have a monotonic relationship.\n",
    "\n",
    "Assumptions\n",
    "- Observations in each sample are independent and identically distributed (iid).\n",
    "- Observations in each sample can be ranked.\n",
    "\n",
    "Interpretation\n",
    "- H0: the two samples are independent.\n",
    "- H1: there is a dependency between the samples."
   ]
  },
  {
   "cell_type": "code",
   "execution_count": 2,
   "id": "574a0d4c",
   "metadata": {},
   "outputs": [
    {
     "name": "stdout",
     "output_type": "stream",
     "text": [
      "stat=0.855, p=0.002\n",
      "Probably dependent\n"
     ]
    }
   ],
   "source": [
    "from scipy.stats import spearmanr\n",
    "data1 = [0.873, 2.817, 0.121, -0.945, -0.055, -1.436, 0.360, -1.478, -1.637, -1.869]\n",
    "data2 = [0.353, 3.517, 0.125, -7.545, -0.555, -1.536, 3.350, -1.578, -3.537, -1.579]\n",
    "stat, p = spearmanr(data1, data2)\n",
    "print('stat=%.3f, p=%.3f' % (stat, p))\n",
    "if p > 0.05:\n",
    "\tprint('Probably independent')\n",
    "else:\n",
    "\tprint('Probably dependent')"
   ]
  },
  {
   "cell_type": "markdown",
   "id": "43b47a6f",
   "metadata": {},
   "source": [
    "## Hypothesis - Chi Square\n",
    "Chi-Squared Test : Tests whether two categorical variables are related or independent.\n",
    "\n",
    "Assumptions\n",
    "- Observations used in the calculation of the contingency table are independent.\n",
    "- 25 or more examples in each cell of the contingency table.\n",
    "\n",
    "Interpretation\n",
    "- H0: the two samples are independent.\n",
    "- H1: there is a dependency between the samples."
   ]
  },
  {
   "cell_type": "code",
   "execution_count": 3,
   "id": "f796202e",
   "metadata": {},
   "outputs": [
    {
     "name": "stdout",
     "output_type": "stream",
     "text": [
      "stat=0.272, p=0.873\n",
      "Probably independent\n"
     ]
    }
   ],
   "source": [
    "from scipy.stats import chi2_contingency\n",
    "table = [[10, 20, 30],[6,  9,  17]]\n",
    "stat, p, dof, expected = chi2_contingency(table)\n",
    "print('stat=%.3f, p=%.3f' % (stat, p))\n",
    "if p > 0.05:\n",
    "\tprint('Probably independent')\n",
    "else:\n",
    "\tprint('Probably dependent')"
   ]
  },
  {
   "cell_type": "code",
   "execution_count": null,
   "id": "6e33ce7d",
   "metadata": {},
   "outputs": [],
   "source": []
  }
 ],
 "metadata": {
  "kernelspec": {
   "display_name": "Python 3 (ipykernel)",
   "language": "python",
   "name": "python3"
  },
  "language_info": {
   "codemirror_mode": {
    "name": "ipython",
    "version": 3
   },
   "file_extension": ".py",
   "mimetype": "text/x-python",
   "name": "python",
   "nbconvert_exporter": "python",
   "pygments_lexer": "ipython3",
   "version": "3.9.12"
  }
 },
 "nbformat": 4,
 "nbformat_minor": 5
}
