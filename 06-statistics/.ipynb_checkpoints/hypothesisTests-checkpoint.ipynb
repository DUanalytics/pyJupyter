{
 "cells": [
  {
   "cell_type": "markdown",
   "id": "04398d1f",
   "metadata": {},
   "source": [
    "# Hypothesis Testing\n",
    "Hypothesis testing is a statistical method that is used in making statistical decisions using experimental data. Hypothesis Testing is basically an assumption that we make about the population parameter.\n",
    "Ex : you say avg student in class is 40 or a boy is taller than girls.\n",
    "all those example we assume need some statistic way to prove those. we need some mathematical conclusion what ever we are assuming is true.\n",
    "https://towardsdatascience.com/hypothesis-testing-in-machine-learning-using-python-a0dc89e169ce"
   ]
  },
  {
   "cell_type": "code",
   "execution_count": null,
   "id": "d07edc8d",
   "metadata": {},
   "outputs": [],
   "source": []
  },
  {
   "cell_type": "markdown",
   "id": "33f15697",
   "metadata": {},
   "source": [
    "Hypothesis testing is an essential procedure in statistics. A hypothesis test evaluates two mutually exclusive statements about a population to determine which statement is best supported by the sample data. When we say that a finding is statistically significant, it’s thanks to a hypothesis test."
   ]
  },
  {
   "cell_type": "markdown",
   "id": "7beafedc",
   "metadata": {},
   "source": [
    "## Null Hypothesis\n",
    "Null hypothesis :- In inferential statistics, the null hypothesis is a general statement or default position that there is no relationship between two measured phenomena, or no association among groups\n",
    "Eg a company production is = 50 unit/per day etc."
   ]
  },
  {
   "cell_type": "markdown",
   "id": "fa5799e7",
   "metadata": {},
   "source": [
    "## Alternative hypothesis :-\n",
    "The alternative hypothesis is the hypothesis used in hypothesis testing that is contrary to the null hypothesis. It is usually taken to be that the observations are the result of a real effect (with some amount of chance variation superposed)\n",
    "Eg:  : a company production is !=50 unit/per day etc."
   ]
  },
  {
   "cell_type": "markdown",
   "id": "e804bf9f",
   "metadata": {},
   "source": [
    "## Level of significance\n",
    "Refers to the degree of significance in which we accept or reject the null-hypothesis. 100% accuracy is not possible for accepting or rejecting a hypothesis, so we therefore select a level of significance that is usually 5%.\n",
    "\n",
    "This is normally denoted with alpha(maths symbol ) and generally it is 0.05 or 5% , which means your output should be 95% confident to give similar kind of result in each sample."
   ]
  },
  {
   "cell_type": "markdown",
   "id": "fe6cca9a",
   "metadata": {},
   "source": [
    "## Type I & II errors\n",
    "Type I error: When we reject the null hypothesis, although that hypothesis was true. Type I error is denoted by alpha. In hypothesis testing, the normal curve that shows the critical region is called the alpha region\n",
    "\n",
    "Type II errors: When we accept the null hypothesis but it is false. Type II errors are denoted by beta. In Hypothesis testing, the normal curve that shows the acceptance region is called the beta region."
   ]
  },
  {
   "cell_type": "markdown",
   "id": "4e5e633e",
   "metadata": {},
   "source": [
    "## One tailed test\n",
    "A test of a statistical hypothesis , where the region of rejection is on only one side of the sampling distribution , is called a one-tailed test.\n",
    "Example :- a college has ≥ 4000 student or data science ≤ 80% org adopted."
   ]
  },
  {
   "cell_type": "markdown",
   "id": "0bf2de5d",
   "metadata": {},
   "source": [
    "## Two-tailed test\n",
    "A two-tailed test is a statistical test in which the critical area of a distribution is two-sided and tests whether a sample is greater than or less than a certain range of values. If the sample being tested falls into either of the critical areas, the alternative hypothesis is accepted instead of the null hypothesis.\n",
    "Eg : a college != 4000 student or data science != 80% org adopted"
   ]
  },
  {
   "cell_type": "markdown",
   "id": "3b905e3d",
   "metadata": {},
   "source": [
    "## P-value\n",
    "The P value, or calculated probability, is the probability of finding the observed, or more extreme, results when the null hypothesis (H 0) of a study question is true — the definition of ‘extreme’ depends on how the hypothesis is being tested.\n",
    "If your P value is less than the chosen significance level then you reject the null hypothesis i.e. accept that your sample gives reasonable evidence to support the alternative hypothesis. It does NOT imply a “meaningful” or “important” difference; that is for you to decide when considering the real-world relevance of your result."
   ]
  },
  {
   "cell_type": "markdown",
   "id": "84e85ef5",
   "metadata": {},
   "source": [
    "## Eg\n",
    "You have a coin and you don’t know whether that is fair or tricky so let’s decide null and alternate hypothesis\n",
    "H0 : a coin is a fair coin.\n",
    "H1 : a coin is a tricky coin. and alpha = 5% or 0.05\n",
    "\n",
    "Now let’s toss the coin and calculate p- value ( probability value).\n",
    "Toss a coin 1st time and result is tail- P-value = 50% (as head and tail have equal probability)\n",
    "Toss a coin 2nd time and result is tail, now p-value = 50/2 = 25%\n",
    "and similarly we Toss 6 consecutive time and got result as P-value = 1.5% but we set our significance level as 95% means 5% error rate we allow and here we see we are beyond that level i.e. our null- hypothesis does not hold good so we need to reject and propose that this coin is a tricky coin which is actually."
   ]
  },
  {
   "cell_type": "markdown",
   "id": "370d81d5",
   "metadata": {},
   "source": [
    "## Degree of freedom\n",
    "Now imagine you’re not into hats. You’re into data analysis.You have a data set with 10 values. If you’re not estimating anything, each value can take on any number, right? Each value is completely free to vary.But suppose you want to test the population mean with a sample of 10 values, using a 1-sample t test. You now have a constraint — the estimation of the mean. What is that constraint, exactly? By definition of the mean, the following relationship must hold: The sum of all values in the data must equal n x mean, where n is the number of values in the data set.\n",
    "\n",
    "So if a data set has 10 values, the sum of the 10 values must equal the mean x 10. If the mean of the 10 values is 3.5 (you could pick any number), this constraint requires that the sum of the 10 values must equal 10 x 3.5 = 35.\n",
    "\n",
    "With that constraint, the first value in the data set is free to vary. Whatever value it is, it’s still possible for the sum of all 10 numbers to have a value of 35. The second value is also free to vary, because whatever value you choose, it still allows for the possibility that the sum of all the values is 35."
   ]
  },
  {
   "cell_type": "markdown",
   "id": "ea434bc6",
   "metadata": {},
   "source": [
    "## Common Hypothesis Tests\n",
    "- T Test ( Student T test)\n",
    "- Z Test\n",
    "- ANOVA Test\n",
    "- Chi-Square Test"
   ]
  },
  {
   "cell_type": "markdown",
   "id": "370a2b54",
   "metadata": {},
   "source": [
    "### T- Test\n",
    "A t-test is a type of inferential statistic which is used to determine if there is a significant difference between the means of two groups which may be related in certain features. It is mostly used when the data sets, like the set of data recorded as outcome from flipping a coin a 100 times, would follow a normal distribution and may have unknown variances. T test is used as a hypothesis testing tool, which allows testing of an assumption applicable to a population.\n",
    "T-test has 2 types : 1. one sampled t-test 2. two-sampled t-test."
   ]
  },
  {
   "cell_type": "markdown",
   "id": "1b4fadd3",
   "metadata": {},
   "source": [
    "#### One sample t-test\n",
    "The One Sample t Test determines whether the sample mean is statistically different from a known or hypothesised population mean. The One Sample t Test is a parametric test.\n",
    "\n",
    "Example :- you have 10 ages and you are checking whether avg age is 30 or not. (check code below for that using python)"
   ]
  },
  {
   "cell_type": "code",
   "execution_count": null,
   "id": "4b5736f8",
   "metadata": {},
   "outputs": [],
   "source": [
    "# 1-sample t-test\n",
    "from scipy.stats import ttest_1samp\n",
    "import numpy as np\n",
    "ages = np.genfromtxt(“ages.csv”)\n",
    "print(ages)\n",
    "ages_mean = np.mean(ages)\n",
    "print(ages_mean)\n",
    "tset, pval = ttest_1samp(ages, 30)\n",
    "print(“p-values”,pval)\n",
    "if pval < 0.05:    # alpha value is 0.05 or 5%\n",
    "   print(\" we are rejecting null hypothesis\")\n",
    "else:\n",
    "  print(\"we are accepting null hypothesis\")"
   ]
  },
  {
   "cell_type": "markdown",
   "id": "c4f07f6c",
   "metadata": {},
   "source": [
    "#### Two sampled T-test\n",
    "The Independent Samples t Test or 2-sample t-test compares the means of two independent groups in order to determine whether there is statistical evidence that the associated population means are significantly different. The Independent Samples t Test is a parametric test. This test is also known as: Independent t Test.\n",
    "\n",
    "Example : is there any association between week1 and week2 ( code is given below in python)"
   ]
  },
  {
   "cell_type": "code",
   "execution_count": null,
   "id": "56e623f6",
   "metadata": {},
   "outputs": [],
   "source": [
    "# 2-sample t-test\n",
    "from scipy.stats import ttest_ind\n",
    "import numpy as np\n",
    "week1 = np.genfromtxt(\"week1.csv\",  delimiter=\",\")\n",
    "week2 = np.genfromtxt(\"week2.csv\",  delimiter=\",\")\n",
    "print(week1)\n",
    "print(\"week2 data :-\\n\")\n",
    "print(week2)\n",
    "week1_mean = np.mean(week1)\n",
    "week2_mean = np.mean(week2)\n",
    "print(\"week1 mean value:\",week1_mean)\n",
    "print(\"week2 mean value:\",week2_mean)\n",
    "week1_std = np.std(week1)\n",
    "week2_std = np.std(week2)\n",
    "print(\"week1 std value:\",week1_std)\n",
    "print(\"week2 std value:\",week2_std)\n",
    "ttest,pval = ttest_ind(week1,week2)\n",
    "print(\"p-value\",pval)\n",
    "if pval <0.05:\n",
    "  print(\"we reject null hypothesis\")\n",
    "else:\n",
    "  print(\"we accept null hypothesis\")"
   ]
  },
  {
   "cell_type": "markdown",
   "id": "1a8a9843",
   "metadata": {},
   "source": [
    "#### Paired sampled t-test\n",
    "The paired sample t-test is also called dependent sample t-test. It’s an uni variate test that tests for a significant difference between 2 related variables. An example of this is if you where to collect the blood pressure for an individual before and after some treatment, condition, or time point.\n",
    "\n",
    "H0 :- means difference between two sample is 0\n",
    "H1:- mean difference between two sample is not 0"
   ]
  },
  {
   "cell_type": "code",
   "execution_count": null,
   "id": "ff4df45a",
   "metadata": {},
   "outputs": [],
   "source": [
    "import pandas as pd\n",
    "from scipy import stats\n",
    "df = pd.read_csv(\"blood_pressure.csv\")\n",
    "df[['bp_before','bp_after']].describe()\n",
    "ttest,pval = stats.ttest_rel(df['bp_before'], df['bp_after'])\n",
    "print(pval)\n",
    "if pval<0.05:\n",
    "    print(\"reject null hypothesis\")\n",
    "else:\n",
    "    print(\"accept null hypothesis\")"
   ]
  },
  {
   "cell_type": "markdown",
   "id": "7845850d",
   "metadata": {},
   "source": [
    "### Z Test.\n",
    "Several different types of tests are used in statistics (i.e. f test, chi square test, t test). You would use a Z test if:\n",
    "- Your sample size is greater than 30. Otherwise, use a t test.\n",
    "- Data points should be independent from each other. In other words, one data point isn’t related or doesn’t affect another data point.\n",
    "- Your data should be normally distributed. However, for large sample sizes (over 30) this doesn’t always matter.\n",
    "- Your data should be randomly selected from a population, where each item has an equal chance of being selected.\n",
    "- Sample sizes should be equal if at all possible.\n",
    "\n",
    "Example again we are using z-test for blood pressure with some mean like 156 (python code is below for same) one-sample Z test."
   ]
  },
  {
   "cell_type": "code",
   "execution_count": null,
   "id": "9467bc7f",
   "metadata": {},
   "outputs": [],
   "source": [
    "#Z Test\n",
    "import pandas as pd\n",
    "from scipy import stats\n",
    "from statsmodels.stats import weightstats as stests\n",
    "ztest ,pval = stests.ztest(df['bp_before'], x2=None, value=156)\n",
    "print(float(pval))\n",
    "if pval<0.05:\n",
    "    print(\"reject null hypothesis\")\n",
    "else:\n",
    "    print(\"accept null hypothesis\")"
   ]
  },
  {
   "cell_type": "markdown",
   "id": "34474291",
   "metadata": {},
   "source": [
    "#### Two-sample Z test\n",
    "In two sample z-test , similar to t-test here we are checking two independent data groups and deciding whether sample mean of two group is equal or not.\n",
    "\n",
    "H0 : mean of two group is 0\n",
    "H1 : mean of two group is not 0\n",
    "Example : we are checking in blood data after blood and before blood data.(code in python below)"
   ]
  },
  {
   "cell_type": "code",
   "execution_count": null,
   "id": "670c4859",
   "metadata": {},
   "outputs": [],
   "source": [
    "# 2 szample Z Test\n",
    "ztest ,pval1 = stests.ztest(df['bp_before'], x2=df['bp_after'], value=0,alternative='two-sided')\n",
    "print(float(pval1))\n",
    "if pval<0.05:\n",
    "    print(\"reject null hypothesis\")\n",
    "else:\n",
    "    print(\"accept null hypothesis\")"
   ]
  },
  {
   "cell_type": "markdown",
   "id": "638d4690",
   "metadata": {},
   "source": [
    "## ANOVA (F-TEST)\n",
    "The t-test works well when dealing with two groups, but sometimes we want to compare more than two groups at the same time. For example, if we wanted to test whether voter age differs based on some categorical variable like race, we have to compare the means of each level or group the variable. We could carry out a separate t-test for each pair of groups, but when you conduct many tests you increase the chances of false positives. The analysis of variance or ANOVA is a statistical inference test that lets you compare multiple groups at the same time.\n",
    "\n",
    "F = Between group variability / Within group variability\n",
    "Unlike the z and t-distributions, the F-distribution does not have any negative values because between and within-group variability are always positive due to squaring each deviation."
   ]
  },
  {
   "cell_type": "markdown",
   "id": "a093d48c",
   "metadata": {},
   "source": [
    "### One Way F-test(Anova)\n",
    "It tell whether two or more groups are similar or not based on their mean similarity and f-score.\n",
    "Example : there are 3 different category of plant and their weight and need to check whether all 3 group are similar or not (code in python below)"
   ]
  },
  {
   "cell_type": "code",
   "execution_count": null,
   "id": "7ed3de61",
   "metadata": {},
   "outputs": [],
   "source": [
    "df_anova = pd.read_csv('PlantGrowth.csv')\n",
    "df_anova = df_anova[['weight','group']]\n",
    "grps = pd.unique(df_anova.group.values)\n",
    "d_data = {grp:df_anova['weight'][df_anova.group == grp] for grp in grps}\n",
    " \n",
    "F, p = stats.f_oneway(d_data['ctrl'], d_data['trt1'], d_data['trt2'])\n",
    "print(\"p-value for significance is: \", p)\n",
    "if p<0.05:\n",
    "    print(\"reject null hypothesis\")\n",
    "else:\n",
    "    print(\"accept null hypothesis\")"
   ]
  },
  {
   "cell_type": "markdown",
   "id": "2788f17e",
   "metadata": {},
   "source": [
    "### Two Way F-test\n",
    "Two way F-test is extension of 1-way f-test, it is used when we have 2 independent variable and 2+ groups. 2-way F-test does not tell which variable is dominant. if we need to check individual significance then Post-hoc testing need to be performed.\n",
    "Now let’s take a look at the Grand mean crop yield (the mean crop yield not by any sub-group), as well the mean crop yield by each factor, as well as by the factors grouped together"
   ]
  },
  {
   "cell_type": "code",
   "execution_count": null,
   "id": "ec59b328",
   "metadata": {},
   "outputs": [],
   "source": [
    "import statsmodels.api as sm\n",
    "from statsmodels.formula.api import ols\n",
    "df_anova2 = pd.read_csv(\"https://raw.githubusercontent.com/Opensourcefordatascience/Data-sets/master/crop_yield.csv\")\n",
    "model = ols('Yield ~ C(Fert)*C(Water)', df_anova2).fit()\n",
    "print(f\"Overall model F({model.df_model: .0f},{model.df_resid: .0f}) = {model.fvalue: .3f}, p = {model.f_pvalue: .4f}\")\n",
    "res = sm.stats.anova_lm(model, typ= 2)\n",
    "res"
   ]
  },
  {
   "cell_type": "markdown",
   "id": "688e9409",
   "metadata": {},
   "source": [
    "## Chi-Square Test\n",
    "The test is applied when you have two categorical variables from a single population. It is used to determine whether there is a significant association between the two variables.\n",
    "\n",
    "For example, in an election survey, voters might be classified by gender (male or female) and voting preference (Democrat, Republican, or Independent). We could use a chi-square test for independence to determine whether gender is related to voting preference"
   ]
  },
  {
   "cell_type": "code",
   "execution_count": null,
   "id": "cc2b1c55",
   "metadata": {},
   "outputs": [],
   "source": [
    "# Chi-Square Test\n",
    "df_chi = pd.read_csv('chi-test.csv')\n",
    "contingency_table=pd.crosstab(df_chi[\"Gender\"],df_chi[\"Shopping?\"])\n",
    "print('contingency_table :-\\n',contingency_table)\n",
    "#Observed Values\n",
    "Observed_Values = contingency_table.values \n",
    "print(\"Observed Values :-\\n\",Observed_Values)\n",
    "b=stats.chi2_contingency(contingency_table)\n",
    "Expected_Values = b[3]\n",
    "print(\"Expected Values :-\\n\",Expected_Values)\n",
    "no_of_rows=len(contingency_table.iloc[0:2,0])\n",
    "no_of_columns=len(contingency_table.iloc[0,0:2])\n",
    "ddof=(no_of_rows-1)*(no_of_columns-1)\n",
    "print(\"Degree of Freedom:-\",ddof)\n",
    "alpha = 0.05\n",
    "from scipy.stats import chi2\n",
    "chi_square=sum([(o-e)**2./e for o,e in zip(Observed_Values,Expected_Values)])\n",
    "chi_square_statistic=chi_square[0]+chi_square[1]\n",
    "print(\"chi-square statistic:-\",chi_square_statistic)\n",
    "critical_value=chi2.ppf(q=1-alpha,df=ddof)\n",
    "print('critical_value:',critical_value)\n",
    "#p-value\n",
    "p_value=1-chi2.cdf(x=chi_square_statistic,df=ddof)\n",
    "print('p-value:',p_value)\n",
    "print('Significance level: ',alpha)\n",
    "print('Degree of Freedom: ',ddof)\n",
    "print('chi-square statistic:',chi_square_statistic)\n",
    "print('critical_value:',critical_value)\n",
    "print('p-value:',p_value)\n",
    "if chi_square_statistic>=critical_value:\n",
    "    print(\"Reject H0,There is a relationship between 2 categorical variables\")\n",
    "else:\n",
    "    print(\"Retain H0,There is no relationship between 2 categorical variables\")\n",
    "    \n",
    "if p_value<=alpha:\n",
    "    print(\"Reject H0,There is a relationship between 2 categorical variables\")\n",
    "else:\n",
    "    print(\"Retain H0,There is no relationship between 2 categorical variables\")"
   ]
  }
 ],
 "metadata": {
  "kernelspec": {
   "display_name": "Python 3 (ipykernel)",
   "language": "python",
   "name": "python3"
  },
  "language_info": {
   "codemirror_mode": {
    "name": "ipython",
    "version": 3
   },
   "file_extension": ".py",
   "mimetype": "text/x-python",
   "name": "python",
   "nbconvert_exporter": "python",
   "pygments_lexer": "ipython3",
   "version": "3.9.12"
  }
 },
 "nbformat": 4,
 "nbformat_minor": 5
}
