{
 "cells": [
  {
   "cell_type": "markdown",
   "id": "8984c0d0",
   "metadata": {},
   "source": [
    "# T-Test"
   ]
  },
  {
   "cell_type": "markdown",
   "id": "1db54d90",
   "metadata": {},
   "source": [
    "## Eg\n",
    "Systolic blood pressures of 14 patients are given below:\n",
    "183, 152, 178, 157, 194, 163, 144, 114, 178, 152, 118, 158, 172, 138\n",
    "\n",
    "Test, whether the population mean, is less than 165"
   ]
  },
  {
   "cell_type": "markdown",
   "id": "6d2ba658",
   "metadata": {},
   "source": [
    "## Hypothesis\n",
    "H0: There is no significant mean difference in systolic blood pressure. i.e., μ = 165\n",
    "H1: The population mean is less than 165. i.e., μ < 165\n",
    "\n",
    "Test statistic  \n",
    "Where,\n",
    "x̄ is sample mean\n",
    "μ is the population mean\n",
    "s is sample standard deviation\n",
    "n is the number of observations;"
   ]
  },
  {
   "cell_type": "code",
   "execution_count": null,
   "id": "8ebd987d",
   "metadata": {},
   "outputs": [],
   "source": []
  },
  {
   "cell_type": "markdown",
   "id": "9fba850c",
   "metadata": {},
   "source": [
    "## Conclusion\n",
    "So we conclude that there is a significant mean difference in systolic blood pressure.\n",
    "i.e., μ < 165 at %.2f level of significance”’%alpha)"
   ]
  }
 ],
 "metadata": {
  "kernelspec": {
   "display_name": "Python 3 (ipykernel)",
   "language": "python",
   "name": "python3"
  },
  "language_info": {
   "codemirror_mode": {
    "name": "ipython",
    "version": 3
   },
   "file_extension": ".py",
   "mimetype": "text/x-python",
   "name": "python",
   "nbconvert_exporter": "python",
   "pygments_lexer": "ipython3",
   "version": "3.9.12"
  }
 },
 "nbformat": 4,
 "nbformat_minor": 5
}
