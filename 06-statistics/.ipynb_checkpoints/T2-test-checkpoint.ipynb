{
 "cells": [
  {
   "cell_type": "markdown",
   "id": "b078f5fd",
   "metadata": {},
   "source": [
    "# 2 Tail T Test\n",
    "https://www.analyticsvidhya.com/blog/2021/07/t-test-performing-hypothesis-testing-with-python/"
   ]
  },
  {
   "cell_type": "markdown",
   "id": "9a6d1b72",
   "metadata": {},
   "source": [
    "## Eg\n",
    "Compare the effectiveness of ammonium chloride and urea, on the grain yield of paddy, an experiment was conducted. The results are given below:\n",
    "\n",
    "Ammonium chloride (X1),Urea (X2)\n",
    "(X1)   13.4\t10.9\t11.2\t11.8\t14\t   15.3\t   14.2\t  12.6\t17\t    16.2\t16.5\t15.7\n",
    "(X2)   12\t11.7\t10.7\t11.2\t14.8   14.4\t   13.9\t  13.7\t16.9\t16\t    15.6\t16"
   ]
  },
  {
   "cell_type": "markdown",
   "id": "87a9dbf8",
   "metadata": {},
   "source": [
    "## Hypothesis\n",
    "H0: The effect of ammonium chloride and urea on grain yield of paddy are equal i.e., μ1 = μ2\n",
    "H1: The effect of ammonium chloride and urea on grain yield of paddy is not equal i.e., μ1 ≠ μ2\n",
    "Test statistic\n",
    "Where,\n",
    "x̄1 and x̄2 are sample means for x1 and x2 respectively.\n",
    "n1 and n2 are the numbers of observations in x1 and x2 respectively.\n",
    "s1 and s2 are the sample standard deviation for x1 and x2 respectively."
   ]
  },
  {
   "cell_type": "code",
   "execution_count": 5,
   "id": "dd5ca0c2",
   "metadata": {},
   "outputs": [],
   "source": [
    "## Data\n",
    "Ammonium_chloride=[13.4,10.9,11.2,11.8,14,15.3,14.2,12.6,17,16.2,16.5,15.7]\n",
    "Urea=[12,11.7,10.7,11.2,14.8,14.4,13.9,13.7,16.9,16,15.6,16]"
   ]
  },
  {
   "cell_type": "code",
   "execution_count": 8,
   "id": "be19d2e7",
   "metadata": {},
   "outputs": [
    {
     "name": "stdout",
     "output_type": "stream",
     "text": [
      "Test statistic is 0.184650\n",
      "p-value for two tailed test is 0.855195\n",
      "Accept Ho\n"
     ]
    }
   ],
   "source": [
    "from scipy import stats\n",
    "t_value,p_value=stats.ttest_ind(Ammonium_chloride,Urea)\n",
    "print('Test statistic is %f'%float(\"{:.6f}\".format(t_value)))\n",
    "print('p-value for two tailed test is %f'%p_value)\n",
    "alpha = 0.05\n",
    "if p_value <= alpha:\n",
    "    print(\"Reject Ho\")\n",
    "else:\n",
    "    print(\"Accept Ho\")\n",
    "\n",
    "#if p_value<=alpha:\n",
    "#    print('Conclusion','n','Since p-value(=%f)'%p_value,'<','alpha(=%.2f)'%alpha,'''We reject the null hypothesis H0. So we conclude that the  effect of ammonium chloride and urea on grain yield of paddy are not equal i.e., μ1 = μ2 at %.2f level of significance.'''%alpha)\n",
    "#else:\n",
    "#    print('Conclusion','n','Since p-value(=%f)'%p_value,'>','alpha(=%.2f)'%alpha,'''We do not reject the null hypothesis H0."
   ]
  },
  {
   "cell_type": "code",
   "execution_count": null,
   "id": "98f5a99c",
   "metadata": {},
   "outputs": [],
   "source": [
    "So we conclude that the effect of ammonium chloride and urea on grain yield of paddy are equal\n",
    "i.e., μ1 ≠ μ2 at %.2f level of significance.”’%alpha)"
   ]
  },
  {
   "cell_type": "markdown",
   "id": "4303d0f9",
   "metadata": {},
   "source": [
    "## Eg2\n",
    "Student’s t-test : Tests whether the means of two independent samples are significantly different.\n",
    "\n",
    "Assumptions\n",
    "- Observations in each sample are independent and identically distributed (iid).\n",
    "- Observations in each sample are normally distributed.\n",
    "- Observations in each sample have the same variance.\n",
    "\n",
    "Interpretation\n",
    "- H0: the means of the samples are equal.\n",
    "- H1: the means of the samples are unequal."
   ]
  },
  {
   "cell_type": "code",
   "execution_count": 2,
   "id": "cf0391ed",
   "metadata": {},
   "outputs": [
    {
     "name": "stdout",
     "output_type": "stream",
     "text": [
      "stat=-0.326, p=0.748\n",
      "Probably the same distribution\n"
     ]
    }
   ],
   "source": [
    "from scipy.stats import ttest_ind\n",
    "data1 = [0.873, 2.817, 0.121, -0.945, -0.055, -1.436, 0.360, -1.478, -1.637, -1.869]\n",
    "data2 = [1.142, -0.432, -0.938, -0.729, -0.846, -0.157, 0.500, 1.183, -1.075, -0.169]\n",
    "stat, p = ttest_ind(data1, data2)\n",
    "print('stat=%.3f, p=%.3f' % (stat, p))\n",
    "if p > 0.05:\n",
    "\tprint('Probably the same distribution')\n",
    "else:\n",
    "    print('Probably different distributions')"
   ]
  },
  {
   "cell_type": "code",
   "execution_count": null,
   "id": "3d04cc30",
   "metadata": {},
   "outputs": [],
   "source": []
  }
 ],
 "metadata": {
  "kernelspec": {
   "display_name": "Python 3 (ipykernel)",
   "language": "python",
   "name": "python3"
  },
  "language_info": {
   "codemirror_mode": {
    "name": "ipython",
    "version": 3
   },
   "file_extension": ".py",
   "mimetype": "text/x-python",
   "name": "python",
   "nbconvert_exporter": "python",
   "pygments_lexer": "ipython3",
   "version": "3.9.12"
  }
 },
 "nbformat": 4,
 "nbformat_minor": 5
}
