{
 "cells": [
  {
   "cell_type": "code",
   "execution_count": 2,
   "id": "528ff6b8",
   "metadata": {},
   "outputs": [],
   "source": [
    "#Basic Statistics in Python"
   ]
  },
  {
   "cell_type": "code",
   "execution_count": 20,
   "id": "65035a2a",
   "metadata": {},
   "outputs": [],
   "source": [
    "#load basic libraries\n",
    "import numpy as np\n",
    "import pandas as pd\n",
    "import matplotlib.pyplot as plt"
   ]
  },
  {
   "cell_type": "code",
   "execution_count": 5,
   "id": "aaf854d5",
   "metadata": {},
   "outputs": [],
   "source": [
    "#variance"
   ]
  },
  {
   "cell_type": "code",
   "execution_count": 8,
   "id": "40784ad2",
   "metadata": {},
   "outputs": [],
   "source": [
    "np.random.seed(123)"
   ]
  },
  {
   "cell_type": "code",
   "execution_count": 14,
   "id": "86e53bd7",
   "metadata": {},
   "outputs": [],
   "source": [
    "df = pd.DataFrame(np.random.randint(low=1, high=20, size=(5,2)), columns = ['subject1','subject2'])"
   ]
  },
  {
   "cell_type": "code",
   "execution_count": 15,
   "id": "f25b237c",
   "metadata": {},
   "outputs": [
    {
     "data": {
      "text/html": [
       "<div>\n",
       "<style scoped>\n",
       "    .dataframe tbody tr th:only-of-type {\n",
       "        vertical-align: middle;\n",
       "    }\n",
       "\n",
       "    .dataframe tbody tr th {\n",
       "        vertical-align: top;\n",
       "    }\n",
       "\n",
       "    .dataframe thead th {\n",
       "        text-align: right;\n",
       "    }\n",
       "</style>\n",
       "<table border=\"1\" class=\"dataframe\">\n",
       "  <thead>\n",
       "    <tr style=\"text-align: right;\">\n",
       "      <th></th>\n",
       "      <th>subject1</th>\n",
       "      <th>subject2</th>\n",
       "    </tr>\n",
       "  </thead>\n",
       "  <tbody>\n",
       "    <tr>\n",
       "      <th>0</th>\n",
       "      <td>10</td>\n",
       "      <td>1</td>\n",
       "    </tr>\n",
       "    <tr>\n",
       "      <th>1</th>\n",
       "      <td>15</td>\n",
       "      <td>1</td>\n",
       "    </tr>\n",
       "    <tr>\n",
       "      <th>2</th>\n",
       "      <td>16</td>\n",
       "      <td>15</td>\n",
       "    </tr>\n",
       "    <tr>\n",
       "      <th>3</th>\n",
       "      <td>5</td>\n",
       "      <td>1</td>\n",
       "    </tr>\n",
       "    <tr>\n",
       "      <th>4</th>\n",
       "      <td>17</td>\n",
       "      <td>5</td>\n",
       "    </tr>\n",
       "  </tbody>\n",
       "</table>\n",
       "</div>"
      ],
      "text/plain": [
       "   subject1  subject2\n",
       "0        10         1\n",
       "1        15         1\n",
       "2        16        15\n",
       "3         5         1\n",
       "4        17         5"
      ]
     },
     "execution_count": 15,
     "metadata": {},
     "output_type": "execute_result"
    }
   ],
   "source": [
    "df"
   ]
  },
  {
   "cell_type": "code",
   "execution_count": null,
   "id": "384f2da0",
   "metadata": {},
   "outputs": [],
   "source": [
    "#mean and standard deviation\n",
    "#average of each subject; mean deviation around the mean of each subject"
   ]
  },
  {
   "cell_type": "code",
   "execution_count": 16,
   "id": "81913177",
   "metadata": {},
   "outputs": [
    {
     "data": {
      "text/html": [
       "<div>\n",
       "<style scoped>\n",
       "    .dataframe tbody tr th:only-of-type {\n",
       "        vertical-align: middle;\n",
       "    }\n",
       "\n",
       "    .dataframe tbody tr th {\n",
       "        vertical-align: top;\n",
       "    }\n",
       "\n",
       "    .dataframe thead th {\n",
       "        text-align: right;\n",
       "    }\n",
       "</style>\n",
       "<table border=\"1\" class=\"dataframe\">\n",
       "  <thead>\n",
       "    <tr style=\"text-align: right;\">\n",
       "      <th></th>\n",
       "      <th>subject1</th>\n",
       "      <th>subject2</th>\n",
       "    </tr>\n",
       "  </thead>\n",
       "  <tbody>\n",
       "    <tr>\n",
       "      <th>mean</th>\n",
       "      <td>12.600000</td>\n",
       "      <td>4.6000</td>\n",
       "    </tr>\n",
       "    <tr>\n",
       "      <th>std</th>\n",
       "      <td>5.029911</td>\n",
       "      <td>6.0663</td>\n",
       "    </tr>\n",
       "  </tbody>\n",
       "</table>\n",
       "</div>"
      ],
      "text/plain": [
       "       subject1  subject2\n",
       "mean  12.600000    4.6000\n",
       "std    5.029911    6.0663"
      ]
     },
     "execution_count": 16,
     "metadata": {},
     "output_type": "execute_result"
    }
   ],
   "source": [
    "df.agg(['mean', 'std'])"
   ]
  },
  {
   "cell_type": "code",
   "execution_count": null,
   "id": "1db7af9a",
   "metadata": {},
   "outputs": [],
   "source": [
    "#higher value of std shows that marks varied a lot"
   ]
  },
  {
   "cell_type": "code",
   "execution_count": null,
   "id": "7644956d",
   "metadata": {},
   "outputs": [],
   "source": [
    "#covariance between subject1 and subject 2 ; tells direction of relationship"
   ]
  },
  {
   "cell_type": "code",
   "execution_count": 17,
   "id": "aeaaf08b",
   "metadata": {},
   "outputs": [
    {
     "data": {
      "text/html": [
       "<div>\n",
       "<style scoped>\n",
       "    .dataframe tbody tr th:only-of-type {\n",
       "        vertical-align: middle;\n",
       "    }\n",
       "\n",
       "    .dataframe tbody tr th {\n",
       "        vertical-align: top;\n",
       "    }\n",
       "\n",
       "    .dataframe thead th {\n",
       "        text-align: right;\n",
       "    }\n",
       "</style>\n",
       "<table border=\"1\" class=\"dataframe\">\n",
       "  <thead>\n",
       "    <tr style=\"text-align: right;\">\n",
       "      <th></th>\n",
       "      <th>subject1</th>\n",
       "      <th>subject2</th>\n",
       "    </tr>\n",
       "  </thead>\n",
       "  <tbody>\n",
       "    <tr>\n",
       "      <th>subject1</th>\n",
       "      <td>25.3</td>\n",
       "      <td>16.3</td>\n",
       "    </tr>\n",
       "    <tr>\n",
       "      <th>subject2</th>\n",
       "      <td>16.3</td>\n",
       "      <td>36.8</td>\n",
       "    </tr>\n",
       "  </tbody>\n",
       "</table>\n",
       "</div>"
      ],
      "text/plain": [
       "          subject1  subject2\n",
       "subject1      25.3      16.3\n",
       "subject2      16.3      36.8"
      ]
     },
     "execution_count": 17,
     "metadata": {},
     "output_type": "execute_result"
    }
   ],
   "source": [
    "df.cov()"
   ]
  },
  {
   "cell_type": "code",
   "execution_count": null,
   "id": "ca6ce2a8",
   "metadata": {},
   "outputs": [],
   "source": [
    "#correlation between subject1 and subject2"
   ]
  },
  {
   "cell_type": "code",
   "execution_count": 18,
   "id": "e939ce7e",
   "metadata": {},
   "outputs": [
    {
     "data": {
      "text/html": [
       "<div>\n",
       "<style scoped>\n",
       "    .dataframe tbody tr th:only-of-type {\n",
       "        vertical-align: middle;\n",
       "    }\n",
       "\n",
       "    .dataframe tbody tr th {\n",
       "        vertical-align: top;\n",
       "    }\n",
       "\n",
       "    .dataframe thead th {\n",
       "        text-align: right;\n",
       "    }\n",
       "</style>\n",
       "<table border=\"1\" class=\"dataframe\">\n",
       "  <thead>\n",
       "    <tr style=\"text-align: right;\">\n",
       "      <th></th>\n",
       "      <th>subject1</th>\n",
       "      <th>subject2</th>\n",
       "    </tr>\n",
       "  </thead>\n",
       "  <tbody>\n",
       "    <tr>\n",
       "      <th>subject1</th>\n",
       "      <td>1.000000</td>\n",
       "      <td>0.534199</td>\n",
       "    </tr>\n",
       "    <tr>\n",
       "      <th>subject2</th>\n",
       "      <td>0.534199</td>\n",
       "      <td>1.000000</td>\n",
       "    </tr>\n",
       "  </tbody>\n",
       "</table>\n",
       "</div>"
      ],
      "text/plain": [
       "          subject1  subject2\n",
       "subject1  1.000000  0.534199\n",
       "subject2  0.534199  1.000000"
      ]
     },
     "execution_count": 18,
     "metadata": {},
     "output_type": "execute_result"
    }
   ],
   "source": [
    "df.corr()"
   ]
  },
  {
   "cell_type": "code",
   "execution_count": null,
   "id": "62246a9f",
   "metadata": {},
   "outputs": [],
   "source": [
    "#another libraries for certain stats functions\n",
    "#kurtosis, skew"
   ]
  },
  {
   "cell_type": "code",
   "execution_count": 19,
   "id": "0568acab",
   "metadata": {},
   "outputs": [],
   "source": [
    "from scipy.stats import kurtosis, skew"
   ]
  },
  {
   "cell_type": "code",
   "execution_count": null,
   "id": "fbd99a2e",
   "metadata": {},
   "outputs": [],
   "source": [
    "#single dim data "
   ]
  },
  {
   "cell_type": "code",
   "execution_count": 29,
   "id": "3cf4e6dc",
   "metadata": {},
   "outputs": [],
   "source": [
    "marks = np.random.normal(loc=50, scale=5, size=100)   #mean of 50, sd=5"
   ]
  },
  {
   "cell_type": "code",
   "execution_count": 30,
   "id": "22a5ca3e",
   "metadata": {},
   "outputs": [
    {
     "data": {
      "text/plain": [
       "100"
      ]
     },
     "execution_count": 30,
     "metadata": {},
     "output_type": "execute_result"
    }
   ],
   "source": [
    "len(marks)"
   ]
  },
  {
   "cell_type": "code",
   "execution_count": 31,
   "id": "a6a117fc",
   "metadata": {},
   "outputs": [
    {
     "data": {
      "text/plain": [
       "array([45.74849125, 50.05056462, 59.25121244, 55.78360766, 58.00697037,\n",
       "       53.11651779, 35.24455246, 51.55674254, 48.41956806, 43.6851296 ,\n",
       "       51.87108085, 52.69924579, 48.84542129, 48.69132518, 60.40834217,\n",
       "       58.59624801, 40.29668339, 45.23209594, 37.19975759, 52.70386987,\n",
       "       51.46895568, 45.62104597, 44.79321394, 49.00973363, 56.41744021,\n",
       "       46.99375957, 49.19477634, 50.45131035, 44.91037273, 55.84213467,\n",
       "       49.60238097, 42.77472996, 46.20657986, 49.80548572, 56.55439972,\n",
       "       50.48853515, 58.90186172, 41.59383446, 47.02464488, 57.18617458,\n",
       "       57.2656418 , 49.14635046, 47.64696144, 52.15277461, 49.11996811,\n",
       "       57.75637855, 48.90304886, 52.75793805, 49.21914299, 40.3462268 ,\n",
       "       55.0392053 , 52.96543315, 55.04417551, 57.87736814, 47.56001488,\n",
       "       50.83865147, 57.2698447 , 46.44103897, 50.99288643, 44.61019328,\n",
       "       56.06825048, 49.51961188, 48.2972801 , 53.30602921, 50.65682941,\n",
       "       53.26291652, 57.72006106, 51.97290607, 48.27779228, 45.12622779,\n",
       "       49.14959209, 39.0443977 , 50.91473365, 47.44749529, 46.54742174,\n",
       "       38.16120998, 55.88815939, 52.00961451, 41.78871512, 49.3877045 ,\n",
       "       43.46163415, 47.83909164, 47.88218045, 51.50416683, 58.24146209,\n",
       "       43.9001081 , 54.03327913, 51.03994292, 50.31715657, 52.82092616,\n",
       "       57.12731676, 42.58025773, 46.529172  , 48.53224378, 42.83040614,\n",
       "       50.87251747, 52.79015108, 50.40852129, 53.17764628, 42.98583497])"
      ]
     },
     "execution_count": 31,
     "metadata": {},
     "output_type": "execute_result"
    }
   ],
   "source": [
    "marks"
   ]
  },
  {
   "cell_type": "code",
   "execution_count": 32,
   "id": "37db54b2",
   "metadata": {},
   "outputs": [
    {
     "data": {
      "text/plain": [
       "28.513554088794667"
      ]
     },
     "execution_count": 32,
     "metadata": {},
     "output_type": "execute_result"
    }
   ],
   "source": [
    "np.var(marks)"
   ]
  },
  {
   "cell_type": "code",
   "execution_count": 33,
   "id": "7564de21",
   "metadata": {},
   "outputs": [
    {
     "data": {
      "text/plain": [
       "5.339808431844224"
      ]
     },
     "execution_count": 33,
     "metadata": {},
     "output_type": "execute_result"
    }
   ],
   "source": [
    "np.std(marks)"
   ]
  },
  {
   "cell_type": "code",
   "execution_count": 34,
   "id": "a52154b9",
   "metadata": {},
   "outputs": [
    {
     "data": {
      "text/plain": [
       "49.886230047912306"
      ]
     },
     "execution_count": 34,
     "metadata": {},
     "output_type": "execute_result"
    }
   ],
   "source": [
    "np.mean(marks)"
   ]
  },
  {
   "cell_type": "code",
   "execution_count": 35,
   "id": "054b02db",
   "metadata": {},
   "outputs": [
    {
     "data": {
      "text/plain": [
       "(array([ 2.,  2.,  6., 10., 11., 21., 21.,  8., 13.,  6.]),\n",
       " array([35.24455246, 37.76093143, 40.2773104 , 42.79368937, 45.31006834,\n",
       "        47.82644731, 50.34282628, 52.85920526, 55.37558423, 57.8919632 ,\n",
       "        60.40834217]),\n",
       " <BarContainer object of 10 artists>)"
      ]
     },
     "execution_count": 35,
     "metadata": {},
     "output_type": "execute_result"
    },
    {
     "data": {
      "image/png": "[encoded data removed]",
      "text/plain": [
       "<Figure size 432x288 with 1 Axes>"
      ]
     },
     "metadata": {
      "needs_background": "light"
     },
     "output_type": "display_data"
    }
   ],
   "source": [
    "plt.hist(marks, bins=10)"
   ]
  },
  {
   "cell_type": "code",
   "execution_count": 37,
   "id": "e6a1c585",
   "metadata": {},
   "outputs": [
    {
     "data": {
      "text/plain": [
       "-0.2903812673082062"
      ]
     },
     "execution_count": 37,
     "metadata": {},
     "output_type": "execute_result"
    }
   ],
   "source": [
    "skew(marks)   #from scipy.stats library\n",
    "# > 1 - highly skewed; 1-.5 - moderate; .5-0 = less\n",
    "#  minus(-) = left, plus(+) = positive (slope to right)"
   ]
  },
  {
   "cell_type": "code",
   "execution_count": null,
   "id": "a734bd95",
   "metadata": {},
   "outputs": [],
   "source": [
    "#normal distribution \n",
    "#mean, median, mode = same, skew=0, kurtosis =0"
   ]
  },
  {
   "cell_type": "code",
   "execution_count": 38,
   "id": "c2f3fe0b",
   "metadata": {},
   "outputs": [
    {
     "data": {
      "text/plain": [
       "-0.2202609306365102"
      ]
     },
     "execution_count": 38,
     "metadata": {},
     "output_type": "execute_result"
    }
   ],
   "source": [
    "kurtosis(marks) \n",
    "# > 1 \n",
    "# positive(+) = Leptokurtic, zero(0) = Mesokurtic/ Normal, minus(-) = Platykurtic"
   ]
  },
  {
   "cell_type": "code",
   "execution_count": 39,
   "id": "caeb8076",
   "metadata": {},
   "outputs": [
    {
     "data": {
      "text/html": [
       "<div>\n",
       "<style scoped>\n",
       "    .dataframe tbody tr th:only-of-type {\n",
       "        vertical-align: middle;\n",
       "    }\n",
       "\n",
       "    .dataframe tbody tr th {\n",
       "        vertical-align: top;\n",
       "    }\n",
       "\n",
       "    .dataframe thead th {\n",
       "        text-align: right;\n",
       "    }\n",
       "</style>\n",
       "<table border=\"1\" class=\"dataframe\">\n",
       "  <thead>\n",
       "    <tr style=\"text-align: right;\">\n",
       "      <th></th>\n",
       "      <th>subject1</th>\n",
       "      <th>subject2</th>\n",
       "    </tr>\n",
       "  </thead>\n",
       "  <tbody>\n",
       "    <tr>\n",
       "      <th>0</th>\n",
       "      <td>10</td>\n",
       "      <td>1</td>\n",
       "    </tr>\n",
       "    <tr>\n",
       "      <th>1</th>\n",
       "      <td>15</td>\n",
       "      <td>1</td>\n",
       "    </tr>\n",
       "    <tr>\n",
       "      <th>2</th>\n",
       "      <td>16</td>\n",
       "      <td>15</td>\n",
       "    </tr>\n",
       "    <tr>\n",
       "      <th>3</th>\n",
       "      <td>5</td>\n",
       "      <td>1</td>\n",
       "    </tr>\n",
       "    <tr>\n",
       "      <th>4</th>\n",
       "      <td>17</td>\n",
       "      <td>5</td>\n",
       "    </tr>\n",
       "  </tbody>\n",
       "</table>\n",
       "</div>"
      ],
      "text/plain": [
       "   subject1  subject2\n",
       "0        10         1\n",
       "1        15         1\n",
       "2        16        15\n",
       "3         5         1\n",
       "4        17         5"
      ]
     },
     "execution_count": 39,
     "metadata": {},
     "output_type": "execute_result"
    }
   ],
   "source": [
    "#data frame\n",
    "df"
   ]
  },
  {
   "cell_type": "code",
   "execution_count": 45,
   "id": "4e2a2827",
   "metadata": {},
   "outputs": [
    {
     "data": {
      "text/plain": [
       "subject1   -0.337921\n",
       "subject2    3.263233\n",
       "dtype: float64"
      ]
     },
     "execution_count": 45,
     "metadata": {},
     "output_type": "execute_result"
    }
   ],
   "source": [
    "df.kurtosis(axis=0)  #column, axis=1 for rows"
   ]
  },
  {
   "cell_type": "code",
   "execution_count": 41,
   "id": "e376d59e",
   "metadata": {},
   "outputs": [
    {
     "data": {
      "text/plain": [
       "-0.33792122982705575"
      ]
     },
     "execution_count": 41,
     "metadata": {},
     "output_type": "execute_result"
    }
   ],
   "source": [
    "df.subject1.kurtosis()"
   ]
  },
  {
   "cell_type": "code",
   "execution_count": 50,
   "id": "5cafa601",
   "metadata": {},
   "outputs": [
    {
     "name": "stdout",
     "output_type": "stream",
     "text": [
      "0    10\n",
      "1    15\n",
      "2    16\n",
      "3     5\n",
      "4    17\n",
      "Name: subject1, dtype: int32\n"
     ]
    }
   ],
   "source": [
    "print(df.subject1)"
   ]
  },
  {
   "cell_type": "code",
   "execution_count": null,
   "id": "01e5957e",
   "metadata": {},
   "outputs": [],
   "source": [
    "#other statistics function"
   ]
  },
  {
   "cell_type": "code",
   "execution_count": null,
   "id": "673a7a2c",
   "metadata": {},
   "outputs": [],
   "source": [
    "#outliers, missing values, etc"
   ]
  },
  {
   "cell_type": "code",
   "execution_count": null,
   "id": "7c6cab08",
   "metadata": {},
   "outputs": [],
   "source": []
  }
 ],
 "metadata": {
  "kernelspec": {
   "display_name": "Python 3 (ipykernel)",
   "language": "python",
   "name": "python3"
  },
  "language_info": {
   "codemirror_mode": {
    "name": "ipython",
    "version": 3
   },
   "file_extension": ".py",
   "mimetype": "text/x-python",
   "name": "python",
   "nbconvert_exporter": "python",
   "pygments_lexer": "ipython3",
   "version": "3.9.12"
  }
 },
 "nbformat": 4,
 "nbformat_minor": 5
}
