{
 "cells": [
  {
   "cell_type": "code",
   "execution_count": 2,
   "id": "86a902a8",
   "metadata": {},
   "outputs": [],
   "source": [
    "#case Study on data analysis in Python\n",
    "\n",
    "import pandas as pd\n",
    "import numpy as np\n",
    "#see all columns\n",
    "pd.set_option('display.max_columns',15)\n",
    "#others - max_rows, width, precision, height, date_dayfirst, date_yearfirst\n",
    "pd.set_option('display.width', 1000)\n",
    "pd.options.display.float_format = '{:.2f}'.format\n",
    "#read data\n",
    "url='https://raw.githubusercontent.com/DUanalytics/datasets/master/csv/denco.csv'\n",
    "#df = pd.read_csv('data/denco.csv')\n",
    "df = pd.read_csv(url)"
   ]
  },
  {
   "cell_type": "code",
   "execution_count": null,
   "id": "0f138f80",
   "metadata": {},
   "outputs": [],
   "source": []
  }
 ],
 "metadata": {
  "kernelspec": {
   "display_name": "Python 3 (ipykernel)",
   "language": "python",
   "name": "python3"
  },
  "language_info": {
   "codemirror_mode": {
    "name": "ipython",
    "version": 3
   },
   "file_extension": ".py",
   "mimetype": "text/x-python",
   "name": "python",
   "nbconvert_exporter": "python",
   "pygments_lexer": "ipython3",
   "version": "3.9.12"
  }
 },
 "nbformat": 4,
 "nbformat_minor": 5
}
