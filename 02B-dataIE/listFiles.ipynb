{
 "cells": [
  {
   "cell_type": "markdown",
   "id": "8e85d40d",
   "metadata": {},
   "source": [
    "# listing files in directory\n",
    "https://pynative.com/python-list-files-in-a-directory/"
   ]
  },
  {
   "cell_type": "code",
   "execution_count": null,
   "id": "c755a550",
   "metadata": {},
   "outputs": [],
   "source": []
  },
  {
   "cell_type": "code",
   "execution_count": 1,
   "id": "16a3b454",
   "metadata": {},
   "outputs": [],
   "source": [
    "import os"
   ]
  },
  {
   "cell_type": "code",
   "execution_count": 37,
   "id": "2f6c113d",
   "metadata": {},
   "outputs": [],
   "source": [
    "dir1 = 'E:/analytics/data'\n",
    "dir2 = 'E:/analytics/projects/pyJupyter/'\n",
    "dir3 = 'E:/analytics/projects/datasets/'\n",
    "dir4 = 'E:/analytics/projects/pyJupyter/07-analytics2/'"
   ]
  },
  {
   "cell_type": "markdown",
   "id": "1ab0e6f5",
   "metadata": {},
   "source": [
    "### list dir\n",
    "os.listdir('dir_path'): Return the list of files and directories present in a specified directory path."
   ]
  },
  {
   "cell_type": "code",
   "execution_count": 10,
   "id": "7c39b020",
   "metadata": {},
   "outputs": [
    {
     "name": "stdout",
     "output_type": "stream",
     "text": [
      "['datafile.csv', 'datafile2.xls', 'haryanaData.xls', 'hmis-item-2019-20-mn-uk-upto-Sep.csv', 'mergedData.xlsx', 'ukForestCover.csv', 'Uttrakhand-Table1A_to_1R_NM-liv_stk_cns_2007.csv'] \t\n"
     ]
    }
   ],
   "source": [
    "print(os.listdir(dir1), '\\t')"
   ]
  },
  {
   "cell_type": "markdown",
   "id": "a951d418",
   "metadata": {},
   "source": [
    "### walk through the directory\n",
    "os.walk('dir_path'): Recursively get the list all files in directory and subdirectories."
   ]
  },
  {
   "cell_type": "code",
   "execution_count": 19,
   "id": "d7b6a09d",
   "metadata": {},
   "outputs": [
    {
     "name": "stdout",
     "output_type": "stream",
     "text": [
      "E:/analytics/projects/pyJupyter/07-analytics2\n",
      "['8C-NLP-checkpoint.ipynb', 'AR_groceries1-checkpoint.ipynb', 'AR_groceries2-checkpoint.ipynb', 'customerSegmentation1-checkpoint.ipynb', 'customerSegmentation2-checkpoint.ipynb', 'dt_animal-checkpoint.ipynb', 'dt_animal-Copy1-checkpoint.ipynb', 'dt_cricketWine-checkpoint.ipynb', 'dt_diabetes-checkpoint.ipynb', 'dt_heart-checkpoint.ipynb', 'dt_infogain-checkpoint.ipynb', 'dt_weather-checkpoint.ipynb', 'MLR_simeg1-checkpoint.ipynb', 'plot_cluster_iris-checkpoint.ipynb', 'plot_tree_regression-checkpoint.ipynb', 'SLR_simeg1-checkpoint.ipynb', 'stockPrices-checkpoint.ipynb', 'text Analytics-checkpoint.ipynb', 'timeSeries2B-checkpoint.ipynb', 'MLR_simeg1.ipynb', 'plot_tree_regression.ipynb', 'SLR_simeg1.ipynb', 'logRegression.txt', 'diabetes.png', 'diabetes1.png', 'diabetes2.png', 'dtree1.dot', 'dt_animal.ipynb', 'dt_cricketWine.ipynb', 'dt_diabetes.ipynb', 'dt_heart.ipynb', 'dt_infogain.ipynb', 'dt_weather.ipynb', 'test.png', 'customerSegmentation1.ipynb', 'customerSegmentation2.ipynb', 'plot_cluster_iris.ipynb', 'AR_groceries1.ipynb', 'AR_groceries2.ipynb', 'stockPrices.ipynb', 'timeSeries2B.ipynb', '8C-NLP.ipynb', 'text Analytics.ipynb']\n"
     ]
    }
   ],
   "source": [
    "# folder path\n",
    "from os import walk\n",
    "dir_path = dir4 #r'E:\\\\account\\\\'\n",
    "print(dir_path)\n",
    "\n",
    "# list to store files name\n",
    "res = []\n",
    "for (dir_path, dir_names, file_names) in walk(dir_path):\n",
    "    res.extend(file_names)\n",
    "    #break\n",
    "print(res)"
   ]
  },
  {
   "cell_type": "markdown",
   "id": "3036d034",
   "metadata": {},
   "source": [
    "### scan dir\n",
    "os.scandir('path'): Returns directory entries along with file attribute information"
   ]
  },
  {
   "cell_type": "code",
   "execution_count": 34,
   "id": "92252921",
   "metadata": {},
   "outputs": [
    {
     "name": "stdout",
     "output_type": "stream",
     "text": [
      "E:/analytics/projects/pyJupyter/07-analytics2\n"
     ]
    }
   ],
   "source": [
    "import os\n",
    "dir_path = dir4\n",
    "print(dir_path)\n",
    "# get all files inside a specific folder\n",
    "for path in os.scandir(dir_path):\n",
    "    if path.is_file():\n",
    "        print(path.name)\n",
    "#not working"
   ]
  },
  {
   "cell_type": "markdown",
   "id": "48127726",
   "metadata": {},
   "source": [
    "### Glob mod\n",
    "glob.glob('pattern'): glob module to list files and folders whose names follow a specific pattern"
   ]
  },
  {
   "cell_type": "code",
   "execution_count": 35,
   "id": "c133a753",
   "metadata": {},
   "outputs": [],
   "source": [
    "import glob"
   ]
  },
  {
   "cell_type": "code",
   "execution_count": 39,
   "id": "9b962727",
   "metadata": {},
   "outputs": [
    {
     "name": "stdout",
     "output_type": "stream",
     "text": [
      "['E:/analytics/projects/pyJupyter/07-analytics2/']\n"
     ]
    }
   ],
   "source": [
    "# search all files inside a specific folder\n",
    "# *.* means file name with any extension\n",
    "#dir_path = r'E:\\account\\*.*'\n",
    "dir_path = dir4\n",
    "res = glob.glob(dir_path)\n",
    "print(res)"
   ]
  },
  {
   "cell_type": "code",
   "execution_count": 40,
   "id": "e17167f1",
   "metadata": {},
   "outputs": [
    {
     "name": "stdout",
     "output_type": "stream",
     "text": [
      "E:/analytics/projects/pyJupyter/07-analytics2/\n"
     ]
    }
   ],
   "source": [
    "for file in glob.glob(dir_path, recursive=True):    print(file)"
   ]
  },
  {
   "cell_type": "markdown",
   "id": "3820d833",
   "metadata": {},
   "source": [
    "### files only in the directory"
   ]
  },
  {
   "cell_type": "code",
   "execution_count": 9,
   "id": "9d9dd83a",
   "metadata": {},
   "outputs": [
    {
     "name": "stdout",
     "output_type": "stream",
     "text": [
      "E:\\\\analytics\\\\projects\\\\pyJupyter\\\\03-analysis\n",
      "['DC_summaries.ipynb', 'encoding.ipynb', 'encoding2.ipynb', 'GBmtcars.ipynb', 'lib_streamlit.ipynb', 'logs.log', 'PD_colDtypes.ipynb', 'PD_commands.ipynb', 'PD_crosstab.ipynb', 'PD_cut.ipynb', 'PD_cutTiling.ipynb', 'PD_duplicates.ipynb', 'PD_Functions.ipynb', 'PD_Groupby.ipynb', 'PD_join.ipynb', 'PD_meltWide.ipynb', 'PD_merge.ipynb', 'PD_mergeordered.ipynb', 'PD_missingValues.ipynb', 'PD_mtcars.ipynb', 'PD_outliers.ipynb', 'PD_pivotStackReshape.ipynb', 'PD_pivotTable.ipynb', 'PD_qcut.ipynb', 'Stock_Analysis.ipynb']\n"
     ]
    }
   ],
   "source": [
    "# list to store files\n",
    "# folder path\n",
    "dir_path = r'E:\\\\analytics\\\\projects\\\\pyJupyter\\\\03-analysis' \n",
    "print(dir_path)\n",
    "res = []\n",
    "\n",
    "# Iterate directory\n",
    "for path in os.listdir(dir_path):\n",
    "    # check if current path is a file\n",
    "    if os.path.isfile(os.path.join(dir_path, path)):\n",
    "        res.append(path)\n",
    "print(res)"
   ]
  },
  {
   "cell_type": "code",
   "execution_count": null,
   "id": "4835c285",
   "metadata": {},
   "outputs": [],
   "source": []
  }
 ],
 "metadata": {
  "kernelspec": {
   "display_name": "Python 3 (ipykernel)",
   "language": "python",
   "name": "python3"
  },
  "language_info": {
   "codemirror_mode": {
    "name": "ipython",
    "version": 3
   },
   "file_extension": ".py",
   "mimetype": "text/x-python",
   "name": "python",
   "nbconvert_exporter": "python",
   "pygments_lexer": "ipython3",
   "version": "3.9.13"
  }
 },
 "nbformat": 4,
 "nbformat_minor": 5
}
