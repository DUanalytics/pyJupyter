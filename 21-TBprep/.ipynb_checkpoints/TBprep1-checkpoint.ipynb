{
 "cells": [
  {
   "cell_type": "markdown",
   "id": "9a1bd4f5",
   "metadata": {},
   "source": [
    "# Tableau Prep Exercise\n",
    "This is practise exercise of what Tableau Prep Builder does and how we can do it in Python\n",
    "https://help.tableau.com/current/prep/en-us/prep_get_started.htm"
   ]
  },
  {
   "cell_type": "code",
   "execution_count": 7,
   "id": "46173afa",
   "metadata": {},
   "outputs": [
    {
     "name": "stdout",
     "output_type": "stream",
     "text": [
      "https://mkt.tableau.com/PrepTutorials/return_reasons_new.xlsx https://mkt.tableau.com/PrepTutorials/Orders_East.xlsx https://mkt.tableau.com/PrepTutorials/Orders_West.csv https://mkt.tableau.com/PrepTutorials/orders_south_2015.csv https://mkt.tableau.com/PrepTutorials/orders_south_2016.csv https://mkt.tableau.com/PrepTutorials/orders_south_2017.csv https://mkt.tableau.com/PrepTutorials/orders_south_2018.csv\n"
     ]
    }
   ],
   "source": [
    "## Links to Data\n",
    "# Excel Data\n",
    "returnReasons = 'https://mkt.tableau.com/PrepTutorials/return_reasons_new.xlsx'\n",
    "ordersEast = 'https://mkt.tableau.com/PrepTutorials/Orders_East.xlsx' \n",
    "\n",
    "#  CSV Data\n",
    "ordersCenteral = 'https://mkt.tableau.com/PrepTutorials/Orders_Central.csv'\n",
    "ordersWest = 'https://mkt.tableau.com/PrepTutorials/Orders_West.csv'\n",
    "\n",
    "ordersSouth2015  = 'https://mkt.tableau.com/PrepTutorials/orders_south_2015.csv'\n",
    "ordersSouth2016 = 'https://mkt.tableau.com/PrepTutorials/orders_south_2016.csv'\n",
    "ordersSouth2017 = 'https://mkt.tableau.com/PrepTutorials/orders_south_2017.csv'\n",
    "ordersSouth2018 = 'https://mkt.tableau.com/PrepTutorials/orders_south_2018.csv'\n",
    "print(returnReasons, '\\n', ordersEast, '\\n',ordersWest, '\\n',ordersSouth2015, '\\n', ordersSouth2016, '\\n', ordersSouth2017, '\\n', ordersSouth2018)"
   ]
  },
  {
   "cell_type": "markdown",
   "id": "bcbc4d6f",
   "metadata": {},
   "source": [
    "## Libraries"
   ]
  },
  {
   "cell_type": "code",
   "execution_count": 1,
   "id": "43405e7f",
   "metadata": {},
   "outputs": [],
   "source": [
    "import numpy as np\n",
    "import pandas as pd"
   ]
  },
  {
   "cell_type": "markdown",
   "id": "6bb8ccc2",
   "metadata": {},
   "source": [
    "## Read Data\n",
    "pandas.read_excel(io, sheet_name=0, *, header=0, names=None, index_col=None, usecols=None, squeeze=None, dtype=None, engine=None, converters=None, true_values=None, false_values=None, skiprows=None, nrows=None, na_values=None, keep_default_na=True, na_filter=True, verbose=False, parse_dates=False, date_parser=None, thousands=None, decimal='.', comment=None, skipfooter=0, convert_float=None, mangle_dupe_cols=True, storage_options=None)[source]\n",
    "\n",
    "https://pandas.pydata.org/docs/reference/api/pandas.read_excel.html\n",
    "\n",
    "pandas.read_csv(filepath_or_buffer, *, sep=_NoDefault.no_default, delimiter=None, header='infer', names=_NoDefault.no_default, index_col=None, usecols=None, squeeze=None, prefix=_NoDefault.no_default, mangle_dupe_cols=True, dtype=None, engine=None, converters=None, true_values=None, false_values=None, skipinitialspace=False, skiprows=None, skipfooter=0, nrows=None, na_values=None, keep_default_na=True, na_filter=True, verbose=False, skip_blank_lines=True, parse_dates=None, infer_datetime_format=False, keep_date_col=False, date_parser=None, dayfirst=False, cache_dates=True, iterator=False, chunksize=None, compression='infer', thousands=None, decimal='.', lineterminator=None, quotechar='\"', quoting=0, doublequote=True, escapechar=None, comment=None, encoding=None, encoding_errors='strict', dialect=None, error_bad_lines=None, warn_bad_lines=None, on_bad_lines=None, delim_whitespace=False, low_memory=True, memory_map=False, float_precision=None, storage_options=None)\n",
    "https://pandas.pydata.org/docs/reference/api/pandas.read_csv.html"
   ]
  },
  {
   "cell_type": "code",
   "execution_count": 5,
   "id": "d6570700",
   "metadata": {},
   "outputs": [
    {
     "data": {
      "text/plain": [
       "(275, 9)"
      ]
     },
     "execution_count": 5,
     "metadata": {},
     "output_type": "execute_result"
    }
   ],
   "source": [
    "returnReasonsDF = pd.read_excel(returnReasons, sheet_name=0)\n",
    "returnReasonsDF.shape"
   ]
  },
  {
   "cell_type": "code",
   "execution_count": null,
   "id": "067ff8a3",
   "metadata": {},
   "outputs": [],
   "source": []
  }
 ],
 "metadata": {
  "kernelspec": {
   "display_name": "Python 3 (ipykernel)",
   "language": "python",
   "name": "python3"
  },
  "language_info": {
   "codemirror_mode": {
    "name": "ipython",
    "version": 3
   },
   "file_extension": ".py",
   "mimetype": "text/x-python",
   "name": "python",
   "nbconvert_exporter": "python",
   "pygments_lexer": "ipython3",
   "version": "3.9.13"
  }
 },
 "nbformat": 4,
 "nbformat_minor": 5
}
