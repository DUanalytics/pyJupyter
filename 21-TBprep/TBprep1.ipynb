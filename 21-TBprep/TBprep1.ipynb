{
 "cells": [
  {
   "cell_type": "markdown",
   "id": "9a1bd4f5",
   "metadata": {},
   "source": [
    "# Tableau Prep Exercise\n",
    "This is practise exercise of what Tableau Prep Builder does and how we can do it in Python\n",
    "https://help.tableau.com/current/prep/en-us/prep_get_started.htm"
   ]
  },
  {
   "cell_type": "code",
   "execution_count": 15,
   "id": "46173afa",
   "metadata": {},
   "outputs": [
    {
     "name": "stdout",
     "output_type": "stream",
     "text": [
      "\n",
      " https://mkt.tableau.com/PrepTutorials/return_reasons_new.xlsx \n",
      " https://mkt.tableau.com/PrepTutorials/Orders_East.xlsx \n",
      " https://mkt.tableau.com/PrepTutorials/Orders_Central.csv \n",
      " https://mkt.tableau.com/PrepTutorials/Orders_West.csv \n",
      " https://mkt.tableau.com/PrepTutorials/orders_south_2015.csv \n",
      " https://mkt.tableau.com/PrepTutorials/orders_south_2016.csv \n",
      " https://mkt.tableau.com/PrepTutorials/orders_south_2017.csv \n",
      " https://mkt.tableau.com/PrepTutorials/orders_south_2018.csv\n"
     ]
    }
   ],
   "source": [
    "## Links to Data\n",
    "# Excel Data\n",
    "returnReasons = 'https://mkt.tableau.com/PrepTutorials/return_reasons_new.xlsx'\n",
    "ordersEast = 'https://mkt.tableau.com/PrepTutorials/Orders_East.xlsx' \n",
    "#  CSV Data\n",
    "ordersCentral = 'https://mkt.tableau.com/PrepTutorials/Orders_Central.csv'\n",
    "ordersWest = 'https://mkt.tableau.com/PrepTutorials/Orders_West.csv'\n",
    "\n",
    "ordersSouth2015  = 'https://mkt.tableau.com/PrepTutorials/orders_south_2015.csv'\n",
    "ordersSouth2016 = 'https://mkt.tableau.com/PrepTutorials/orders_south_2016.csv'\n",
    "ordersSouth2017 = 'https://mkt.tableau.com/PrepTutorials/orders_south_2017.csv'\n",
    "ordersSouth2018 = 'https://mkt.tableau.com/PrepTutorials/orders_south_2018.csv'\n",
    "print('\\n',returnReasons, '\\n', ordersEast, '\\n', ordersCentral, '\\n', ordersWest, '\\n',ordersSouth2015, '\\n', ordersSouth2016, '\\n', ordersSouth2017, '\\n', ordersSouth2018)"
   ]
  },
  {
   "cell_type": "markdown",
   "id": "bcbc4d6f",
   "metadata": {},
   "source": [
    "## Libraries"
   ]
  },
  {
   "cell_type": "code",
   "execution_count": 1,
   "id": "43405e7f",
   "metadata": {},
   "outputs": [],
   "source": [
    "import numpy as np\n",
    "import pandas as pd"
   ]
  },
  {
   "cell_type": "markdown",
   "id": "6bb8ccc2",
   "metadata": {},
   "source": [
    "## Read Data\n",
    "pandas.read_excel(io, sheet_name=0, *, header=0, names=None, index_col=None, usecols=None, squeeze=None, dtype=None, engine=None, converters=None, true_values=None, false_values=None, skiprows=None, nrows=None, na_values=None, keep_default_na=True, na_filter=True, verbose=False, parse_dates=False, date_parser=None, thousands=None, decimal='.', comment=None, skipfooter=0, convert_float=None, mangle_dupe_cols=True, storage_options=None)[source]\n",
    "\n",
    "https://pandas.pydata.org/docs/reference/api/pandas.read_excel.html\n",
    "\n",
    "pandas.read_csv(filepath_or_buffer, *, sep=_NoDefault.no_default, delimiter=None, header='infer', names=_NoDefault.no_default, index_col=None, usecols=None, squeeze=None, prefix=_NoDefault.no_default, mangle_dupe_cols=True, dtype=None, engine=None, converters=None, true_values=None, false_values=None, skipinitialspace=False, skiprows=None, skipfooter=0, nrows=None, na_values=None, keep_default_na=True, na_filter=True, verbose=False, skip_blank_lines=True, parse_dates=None, infer_datetime_format=False, keep_date_col=False, date_parser=None, dayfirst=False, cache_dates=True, iterator=False, chunksize=None, compression='infer', thousands=None, decimal='.', lineterminator=None, quotechar='\"', quoting=0, doublequote=True, escapechar=None, comment=None, encoding=None, encoding_errors='strict', dialect=None, error_bad_lines=None, warn_bad_lines=None, on_bad_lines=None, delim_whitespace=False, low_memory=True, memory_map=False, float_precision=None, storage_options=None)\n",
    "https://pandas.pydata.org/docs/reference/api/pandas.read_csv.html"
   ]
  },
  {
   "cell_type": "code",
   "execution_count": 18,
   "id": "d6570700",
   "metadata": {},
   "outputs": [],
   "source": [
    "returnReasonsDF = pd.read_excel(returnReasons, sheet_name=0)\n",
    "ordersEastDF = pd.read_excel(ordersEast, sheet_name=0)"
   ]
  },
  {
   "cell_type": "code",
   "execution_count": 25,
   "id": "0af66b48-cbe6-4281-8d62-ddf5884f31d8",
   "metadata": {},
   "outputs": [
    {
     "data": {
      "text/plain": [
       "(2323, 24)"
      ]
     },
     "execution_count": 25,
     "metadata": {},
     "output_type": "execute_result"
    }
   ],
   "source": [
    "ordersCentralDF = pd.read_csv(ordersCentral,  encoding='cp1252')\n",
    "ordersCentralDF.shape"
   ]
  },
  {
   "cell_type": "code",
   "execution_count": 62,
   "id": "a049cd3e-fdae-4019-bd98-e72d9b181d4f",
   "metadata": {},
   "outputs": [
    {
     "data": {
      "text/plain": [
       "(9553, 41)"
      ]
     },
     "execution_count": 62,
     "metadata": {},
     "output_type": "execute_result"
    }
   ],
   "source": [
    "ordersWestDF = pd.read_csv(ordersWest, encoding='cp1252')\n",
    "ordersWestDF.shape"
   ]
  },
  {
   "cell_type": "code",
   "execution_count": null,
   "id": "fafa6c66-7da3-4e65-a4ef-dcdf1e3ed81a",
   "metadata": {},
   "outputs": [],
   "source": [
    "ordersSouth2015DF = pd.read_csv(ordersSouth2015, encoding= 'unicode_escape')\n",
    "ordersSouth2018DF.shape"
   ]
  },
  {
   "cell_type": "code",
   "execution_count": null,
   "id": "b8e85229-9941-42b2-a243-24ba153e43dc",
   "metadata": {},
   "outputs": [],
   "source": [
    "ordersSouth2016DF = pd.read_csv(ordersSouth2016,  encoding='cp1252')\n",
    "ordersSouth2016DF.shape"
   ]
  },
  {
   "cell_type": "code",
   "execution_count": null,
   "id": "2b77127d-228b-49b5-bad2-90956828712f",
   "metadata": {},
   "outputs": [],
   "source": [
    "ordersSouth2017DF = pd.read_csv(ordersSouth2017, encoding='cp1252')\n",
    "ordersSouth2017DF.shape"
   ]
  },
  {
   "cell_type": "code",
   "execution_count": 50,
   "id": "bc24e51c-9359-409e-897f-b4d5d47b7eee",
   "metadata": {},
   "outputs": [],
   "source": [
    "ordersSouth2018DF = pd.read_csv(ordersSouth2018, encoding='cp1252')\n",
    "ordersSouth2018DF.shape"
   ]
  },
  {
   "cell_type": "code",
   "execution_count": 57,
   "id": "4d0b599f-b88a-4f75-ae38-5bcb7520fe5a",
   "metadata": {},
   "outputs": [
    {
     "data": {
      "text/plain": [
       "(518, 21)"
      ]
     },
     "execution_count": 57,
     "metadata": {},
     "output_type": "execute_result"
    }
   ],
   "source": [
    "#ordersSouth2015DF = pd.read_csv(ordersSouth2015, encoding= 'unicode_escape')\n",
    "ordersSouth2018DF.shape"
   ]
  },
  {
   "cell_type": "code",
   "execution_count": 61,
   "id": "6daaf743-0a16-49bd-b387-e302a01933c0",
   "metadata": {},
   "outputs": [
    {
     "ename": "AttributeError",
     "evalue": "'str' object has no attribute 'shape'",
     "output_type": "error",
     "traceback": [
      "\u001b[1;31m---------------------------------------------------------------------------\u001b[0m",
      "\u001b[1;31mAttributeError\u001b[0m                            Traceback (most recent call last)",
      "\u001b[1;32m~\\AppData\\Local\\Temp\\ipykernel_17456\\2007322647.py\u001b[0m in \u001b[0;36m<module>\u001b[1;34m\u001b[0m\n\u001b[0;32m      3\u001b[0m \u001b[1;31m#print(ordersCentralDF.shape)\u001b[0m\u001b[1;33m\u001b[0m\u001b[1;33m\u001b[0m\u001b[0m\n\u001b[0;32m      4\u001b[0m \u001b[1;31m#print(ordersWestDF.shape)\u001b[0m\u001b[1;33m\u001b[0m\u001b[1;33m\u001b[0m\u001b[0m\n\u001b[1;32m----> 5\u001b[1;33m \u001b[0mordersSouth2015\u001b[0m\u001b[1;33m.\u001b[0m\u001b[0mshape\u001b[0m\u001b[1;33m\u001b[0m\u001b[1;33m\u001b[0m\u001b[0m\n\u001b[0m\u001b[0;32m      6\u001b[0m \u001b[0mprint\u001b[0m\u001b[1;33m(\u001b[0m\u001b[0mordersSouth2016\u001b[0m\u001b[1;33m.\u001b[0m\u001b[0mshape\u001b[0m\u001b[1;33m)\u001b[0m\u001b[1;33m\u001b[0m\u001b[1;33m\u001b[0m\u001b[0m\n\u001b[0;32m      7\u001b[0m \u001b[0mprint\u001b[0m\u001b[1;33m(\u001b[0m\u001b[0mordersSouth2017\u001b[0m\u001b[1;33m.\u001b[0m\u001b[0mshape\u001b[0m\u001b[1;33m)\u001b[0m\u001b[1;33m\u001b[0m\u001b[1;33m\u001b[0m\u001b[0m\n",
      "\u001b[1;31mAttributeError\u001b[0m: 'str' object has no attribute 'shape'"
     ]
    }
   ],
   "source": [
    "#print(returnReasonsDF.shape)\n",
    "#print(ordersEastDF.shape)\n",
    "#print(ordersCentralDF.shape)\n",
    "#print(ordersWestDF.shape)\n",
    "ordersSouth2015.shape\n",
    "print(ordersSouth2016.shape)\n",
    "print(ordersSouth2017.shape)\n",
    "print(ordersSouth2018.shape)\n"
   ]
  },
  {
   "cell_type": "code",
   "execution_count": 32,
   "id": "7c8ec528-3cf0-4ef9-94da-fff4f239a14f",
   "metadata": {},
   "outputs": [
    {
     "ename": "AttributeError",
     "evalue": "'str' object has no attribute 'shape'",
     "output_type": "error",
     "traceback": [
      "\u001b[1;31m---------------------------------------------------------------------------\u001b[0m",
      "\u001b[1;31mAttributeError\u001b[0m                            Traceback (most recent call last)",
      "\u001b[1;32m~\\AppData\\Local\\Temp\\ipykernel_17456\\770547316.py\u001b[0m in \u001b[0;36m<module>\u001b[1;34m\u001b[0m\n\u001b[0;32m      3\u001b[0m \u001b[0mordersCentralDF\u001b[0m\u001b[1;33m.\u001b[0m\u001b[0mshape\u001b[0m\u001b[1;33m\u001b[0m\u001b[1;33m\u001b[0m\u001b[0m\n\u001b[0;32m      4\u001b[0m \u001b[0mordersWestDF\u001b[0m\u001b[1;33m.\u001b[0m\u001b[0mshape\u001b[0m\u001b[1;33m\u001b[0m\u001b[1;33m\u001b[0m\u001b[0m\n\u001b[1;32m----> 5\u001b[1;33m \u001b[0mordersSouth2015\u001b[0m\u001b[1;33m.\u001b[0m\u001b[0mshape\u001b[0m\u001b[1;33m\u001b[0m\u001b[1;33m\u001b[0m\u001b[0m\n\u001b[0m\u001b[0;32m      6\u001b[0m \u001b[0mordersSouth2016\u001b[0m\u001b[1;33m.\u001b[0m\u001b[0mshape\u001b[0m\u001b[1;33m\u001b[0m\u001b[1;33m\u001b[0m\u001b[0m\n\u001b[0;32m      7\u001b[0m \u001b[0mordersSouth2017\u001b[0m\u001b[1;33m.\u001b[0m\u001b[0mshape\u001b[0m\u001b[1;33m\u001b[0m\u001b[1;33m\u001b[0m\u001b[0m\n",
      "\u001b[1;31mAttributeError\u001b[0m: 'str' object has no attribute 'shape'"
     ]
    }
   ],
   "source": [
    "returnReasonsDF.shape\n",
    "ordersEastDF.shape\n",
    "ordersCentralDF.shape\n",
    "ordersWestDF.shape\n",
    "ordersSouth2015.shape\n",
    "ordersSouth2016.shape\n",
    "ordersSouth2017.shape\n",
    "ordersSouth2018.shape\n"
   ]
  },
  {
   "cell_type": "code",
   "execution_count": null,
   "id": "2d9ab103-e70a-4aa9-ac1c-69d11d613231",
   "metadata": {},
   "outputs": [],
   "source": []
  }
 ],
 "metadata": {
  "kernelspec": {
   "display_name": "Python 3 (ipykernel)",
   "language": "python",
   "name": "python3"
  },
  "language_info": {
   "codemirror_mode": {
    "name": "ipython",
    "version": 3
   },
   "file_extension": ".py",
   "mimetype": "text/x-python",
   "name": "python",
   "nbconvert_exporter": "python",
   "pygments_lexer": "ipython3",
   "version": "3.9.13"
  }
 },
 "nbformat": 4,
 "nbformat_minor": 5
}
