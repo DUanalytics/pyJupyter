{
 "cells": [
  {
   "cell_type": "code",
   "execution_count": 1,
   "id": "4b9bd886",
   "metadata": {},
   "outputs": [],
   "source": [
    "#matplotlib"
   ]
  },
  {
   "cell_type": "code",
   "execution_count": 2,
   "id": "16066411",
   "metadata": {},
   "outputs": [],
   "source": [
    "#with the help of matplotlib, graphs can be quickly created from pandas and series "
   ]
  },
  {
   "cell_type": "code",
   "execution_count": 3,
   "id": "e913525b",
   "metadata": {},
   "outputs": [],
   "source": [
    "#import libraries\n",
    "from matplotlib import pyplot as plt\n",
    "#or"
   ]
  },
  {
   "cell_type": "code",
   "execution_count": 4,
   "id": "e998b825",
   "metadata": {},
   "outputs": [],
   "source": [
    "import matplotlib.pyplot as plt"
   ]
  },
  {
   "cell_type": "code",
   "execution_count": 5,
   "id": "47520bca",
   "metadata": {},
   "outputs": [],
   "source": [
    "#setting figure size\n",
    "plt.rcParams[\"figure.figsize\"] = [10, 6]   #width, height"
   ]
  },
  {
   "cell_type": "code",
   "execution_count": null,
   "id": "680c87db",
   "metadata": {},
   "outputs": [],
   "source": []
  }
 ],
 "metadata": {
  "kernelspec": {
   "display_name": "Python 3 (ipykernel)",
   "language": "python",
   "name": "python3"
  },
  "language_info": {
   "codemirror_mode": {
    "name": "ipython",
    "version": 3
   },
   "file_extension": ".py",
   "mimetype": "text/x-python",
   "name": "python",
   "nbconvert_exporter": "python",
   "pygments_lexer": "ipython3",
   "version": "3.9.12"
  }
 },
 "nbformat": 4,
 "nbformat_minor": 5
}
