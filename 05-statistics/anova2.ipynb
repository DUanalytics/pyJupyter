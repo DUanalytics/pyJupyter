{
 "cells": [
  {
   "cell_type": "code",
   "execution_count": null,
   "id": "bb212f06-c5be-48ce-a568-61bba16c79a8",
   "metadata": {},
   "outputs": [],
   "source": [
    "# Anova2"
   ]
  },
  {
   "cell_type": "code",
   "execution_count": 1,
   "id": "d64ae653-207c-4441-abd4-cca835e79149",
   "metadata": {},
   "outputs": [],
   "source": [
    "# libraries\n",
    "import pandas as pd\n",
    "import numpy as np\n",
    "from scipy.stats import f_oneway\n",
    "from statsmodels.formula.api import ols\n",
    "from statsmodels.stats.anova import anova_lm\n",
    "from statsmodels.stats.multicomp import MultiComparison\n",
    "from statsmodels.graphics.gofplots import qqplot\n",
    "import warnings\n",
    "from IPython.display import display, Math, Latex, Markdown\n",
    "\n",
    "warnings.filterwarnings(\"ignore\")"
   ]
  },
  {
   "cell_type": "code",
   "execution_count": 2,
   "id": "e698797c-37c5-4e15-bae6-404868487bb3",
   "metadata": {},
   "outputs": [],
   "source": [
    "cotton_weight_percent = [  15,   15,   15,    15,    15,    20,    20,    20,    20,    20,    25,\n",
    "    25,    25,    25,    25,    30,    30,    30,    30,    30,    35,    35,    35,    35,\n",
    "    35,]\n",
    "observations = [    7,    7,    15,    11,    9,    12,    16,    12,    18,    18,    14,    19,\n",
    "    19,    18,    18,    19,    25,    22,    19,    23,    7,    10,    11,    15,    11,]"
   ]
  },
  {
   "cell_type": "code",
   "execution_count": 5,
   "id": "d7e97efb-199a-4ab8-9c69-9c787cada319",
   "metadata": {},
   "outputs": [
    {
     "data": {
      "text/html": [
       "<div>\n",
       "<style scoped>\n",
       "    .dataframe tbody tr th:only-of-type {\n",
       "        vertical-align: middle;\n",
       "    }\n",
       "\n",
       "    .dataframe tbody tr th {\n",
       "        vertical-align: top;\n",
       "    }\n",
       "\n",
       "    .dataframe thead th {\n",
       "        text-align: right;\n",
       "    }\n",
       "</style>\n",
       "<table border=\"1\" class=\"dataframe\">\n",
       "  <thead>\n",
       "    <tr style=\"text-align: right;\">\n",
       "      <th></th>\n",
       "      <th>observations</th>\n",
       "      <th>cotton_weight_percent</th>\n",
       "    </tr>\n",
       "  </thead>\n",
       "  <tbody>\n",
       "    <tr>\n",
       "      <th>0</th>\n",
       "      <td>7</td>\n",
       "      <td>15</td>\n",
       "    </tr>\n",
       "    <tr>\n",
       "      <th>1</th>\n",
       "      <td>7</td>\n",
       "      <td>15</td>\n",
       "    </tr>\n",
       "    <tr>\n",
       "      <th>2</th>\n",
       "      <td>15</td>\n",
       "      <td>15</td>\n",
       "    </tr>\n",
       "    <tr>\n",
       "      <th>3</th>\n",
       "      <td>11</td>\n",
       "      <td>15</td>\n",
       "    </tr>\n",
       "    <tr>\n",
       "      <th>4</th>\n",
       "      <td>9</td>\n",
       "      <td>15</td>\n",
       "    </tr>\n",
       "    <tr>\n",
       "      <th>5</th>\n",
       "      <td>12</td>\n",
       "      <td>20</td>\n",
       "    </tr>\n",
       "    <tr>\n",
       "      <th>6</th>\n",
       "      <td>16</td>\n",
       "      <td>20</td>\n",
       "    </tr>\n",
       "    <tr>\n",
       "      <th>7</th>\n",
       "      <td>12</td>\n",
       "      <td>20</td>\n",
       "    </tr>\n",
       "    <tr>\n",
       "      <th>8</th>\n",
       "      <td>18</td>\n",
       "      <td>20</td>\n",
       "    </tr>\n",
       "    <tr>\n",
       "      <th>9</th>\n",
       "      <td>18</td>\n",
       "      <td>20</td>\n",
       "    </tr>\n",
       "    <tr>\n",
       "      <th>10</th>\n",
       "      <td>14</td>\n",
       "      <td>25</td>\n",
       "    </tr>\n",
       "    <tr>\n",
       "      <th>11</th>\n",
       "      <td>19</td>\n",
       "      <td>25</td>\n",
       "    </tr>\n",
       "    <tr>\n",
       "      <th>12</th>\n",
       "      <td>19</td>\n",
       "      <td>25</td>\n",
       "    </tr>\n",
       "    <tr>\n",
       "      <th>13</th>\n",
       "      <td>18</td>\n",
       "      <td>25</td>\n",
       "    </tr>\n",
       "    <tr>\n",
       "      <th>14</th>\n",
       "      <td>18</td>\n",
       "      <td>25</td>\n",
       "    </tr>\n",
       "    <tr>\n",
       "      <th>15</th>\n",
       "      <td>19</td>\n",
       "      <td>30</td>\n",
       "    </tr>\n",
       "    <tr>\n",
       "      <th>16</th>\n",
       "      <td>25</td>\n",
       "      <td>30</td>\n",
       "    </tr>\n",
       "    <tr>\n",
       "      <th>17</th>\n",
       "      <td>22</td>\n",
       "      <td>30</td>\n",
       "    </tr>\n",
       "    <tr>\n",
       "      <th>18</th>\n",
       "      <td>19</td>\n",
       "      <td>30</td>\n",
       "    </tr>\n",
       "    <tr>\n",
       "      <th>19</th>\n",
       "      <td>23</td>\n",
       "      <td>30</td>\n",
       "    </tr>\n",
       "    <tr>\n",
       "      <th>20</th>\n",
       "      <td>7</td>\n",
       "      <td>35</td>\n",
       "    </tr>\n",
       "    <tr>\n",
       "      <th>21</th>\n",
       "      <td>10</td>\n",
       "      <td>35</td>\n",
       "    </tr>\n",
       "    <tr>\n",
       "      <th>22</th>\n",
       "      <td>11</td>\n",
       "      <td>35</td>\n",
       "    </tr>\n",
       "    <tr>\n",
       "      <th>23</th>\n",
       "      <td>15</td>\n",
       "      <td>35</td>\n",
       "    </tr>\n",
       "    <tr>\n",
       "      <th>24</th>\n",
       "      <td>11</td>\n",
       "      <td>35</td>\n",
       "    </tr>\n",
       "  </tbody>\n",
       "</table>\n",
       "</div>"
      ],
      "text/plain": [
       "    observations  cotton_weight_percent\n",
       "0              7                     15\n",
       "1              7                     15\n",
       "2             15                     15\n",
       "3             11                     15\n",
       "4              9                     15\n",
       "5             12                     20\n",
       "6             16                     20\n",
       "7             12                     20\n",
       "8             18                     20\n",
       "9             18                     20\n",
       "10            14                     25\n",
       "11            19                     25\n",
       "12            19                     25\n",
       "13            18                     25\n",
       "14            18                     25\n",
       "15            19                     30\n",
       "16            25                     30\n",
       "17            22                     30\n",
       "18            19                     30\n",
       "19            23                     30\n",
       "20             7                     35\n",
       "21            10                     35\n",
       "22            11                     35\n",
       "23            15                     35\n",
       "24            11                     35"
      ]
     },
     "execution_count": 5,
     "metadata": {},
     "output_type": "execute_result"
    }
   ],
   "source": [
    "df = pd.DataFrame(     {\"observations\": observations, \"cotton_weight_percent\": cotton_weight_percent}\n",
    ")\n",
    "df"
   ]
  },
  {
   "cell_type": "code",
   "execution_count": 6,
   "id": "98d457b7-37ce-4200-9256-e33da52f7726",
   "metadata": {},
   "outputs": [
    {
     "data": {
      "text/html": [
       "<table class=\"simpletable\">\n",
       "<caption>OLS Regression Results</caption>\n",
       "<tr>\n",
       "  <th>Dep. Variable:</th>      <td>observations</td>   <th>  R-squared:         </th> <td>   0.750</td>\n",
       "</tr>\n",
       "<tr>\n",
       "  <th>Model:</th>                   <td>OLS</td>       <th>  Adj. R-squared:    </th> <td>   0.699</td>\n",
       "</tr>\n",
       "<tr>\n",
       "  <th>Method:</th>             <td>Least Squares</td>  <th>  F-statistic:       </th> <td>   14.96</td>\n",
       "</tr>\n",
       "<tr>\n",
       "  <th>Date:</th>             <td>Mon, 02 Jan 2023</td> <th>  Prob (F-statistic):</th> <td>8.26e-06</td>\n",
       "</tr>\n",
       "<tr>\n",
       "  <th>Time:</th>                 <td>15:59:16</td>     <th>  Log-Likelihood:    </th> <td> -58.583</td>\n",
       "</tr>\n",
       "<tr>\n",
       "  <th>No. Observations:</th>      <td>    25</td>      <th>  AIC:               </th> <td>   127.2</td>\n",
       "</tr>\n",
       "<tr>\n",
       "  <th>Df Residuals:</th>          <td>    20</td>      <th>  BIC:               </th> <td>   133.3</td>\n",
       "</tr>\n",
       "<tr>\n",
       "  <th>Df Model:</th>              <td>     4</td>      <th>                     </th>     <td> </td>   \n",
       "</tr>\n",
       "<tr>\n",
       "  <th>Covariance Type:</th>      <td>nonrobust</td>    <th>                     </th>     <td> </td>   \n",
       "</tr>\n",
       "</table>\n",
       "<table class=\"simpletable\">\n",
       "<tr>\n",
       "                 <td></td>                   <th>coef</th>     <th>std err</th>      <th>t</th>      <th>P>|t|</th>  <th>[0.025</th>    <th>0.975]</th>  \n",
       "</tr>\n",
       "<tr>\n",
       "  <th>Intercept</th>                      <td>    9.8000</td> <td>    1.260</td> <td>    7.777</td> <td> 0.000</td> <td>    7.171</td> <td>   12.429</td>\n",
       "</tr>\n",
       "<tr>\n",
       "  <th>C(cotton_weight_percent)[T.20]</th> <td>    5.4000</td> <td>    1.782</td> <td>    3.030</td> <td> 0.007</td> <td>    1.683</td> <td>    9.117</td>\n",
       "</tr>\n",
       "<tr>\n",
       "  <th>C(cotton_weight_percent)[T.25]</th> <td>    7.8000</td> <td>    1.782</td> <td>    4.377</td> <td> 0.000</td> <td>    4.083</td> <td>   11.517</td>\n",
       "</tr>\n",
       "<tr>\n",
       "  <th>C(cotton_weight_percent)[T.30]</th> <td>   11.8000</td> <td>    1.782</td> <td>    6.621</td> <td> 0.000</td> <td>    8.083</td> <td>   15.517</td>\n",
       "</tr>\n",
       "<tr>\n",
       "  <th>C(cotton_weight_percent)[T.35]</th> <td>    1.0000</td> <td>    1.782</td> <td>    0.561</td> <td> 0.581</td> <td>   -2.717</td> <td>    4.717</td>\n",
       "</tr>\n",
       "</table>\n",
       "<table class=\"simpletable\">\n",
       "<tr>\n",
       "  <th>Omnibus:</th>       <td> 1.322</td> <th>  Durbin-Watson:     </th> <td>   2.347</td>\n",
       "</tr>\n",
       "<tr>\n",
       "  <th>Prob(Omnibus):</th> <td> 0.516</td> <th>  Jarque-Bera (JB):  </th> <td>   0.949</td>\n",
       "</tr>\n",
       "<tr>\n",
       "  <th>Skew:</th>          <td> 0.154</td> <th>  Prob(JB):          </th> <td>   0.622</td>\n",
       "</tr>\n",
       "<tr>\n",
       "  <th>Kurtosis:</th>      <td> 2.096</td> <th>  Cond. No.          </th> <td>    5.83</td>\n",
       "</tr>\n",
       "</table><br/><br/>Notes:<br/>[1] Standard Errors assume that the covariance matrix of the errors is correctly specified."
      ],
      "text/plain": [
       "<class 'statsmodels.iolib.summary.Summary'>\n",
       "\"\"\"\n",
       "                            OLS Regression Results                            \n",
       "==============================================================================\n",
       "Dep. Variable:           observations   R-squared:                       0.750\n",
       "Model:                            OLS   Adj. R-squared:                  0.699\n",
       "Method:                 Least Squares   F-statistic:                     14.96\n",
       "Date:                Mon, 02 Jan 2023   Prob (F-statistic):           8.26e-06\n",
       "Time:                        15:59:16   Log-Likelihood:                -58.583\n",
       "No. Observations:                  25   AIC:                             127.2\n",
       "Df Residuals:                      20   BIC:                             133.3\n",
       "Df Model:                           4                                         \n",
       "Covariance Type:            nonrobust                                         \n",
       "==================================================================================================\n",
       "                                     coef    std err          t      P>|t|      [0.025      0.975]\n",
       "--------------------------------------------------------------------------------------------------\n",
       "Intercept                          9.8000      1.260      7.777      0.000       7.171      12.429\n",
       "C(cotton_weight_percent)[T.20]     5.4000      1.782      3.030      0.007       1.683       9.117\n",
       "C(cotton_weight_percent)[T.25]     7.8000      1.782      4.377      0.000       4.083      11.517\n",
       "C(cotton_weight_percent)[T.30]    11.8000      1.782      6.621      0.000       8.083      15.517\n",
       "C(cotton_weight_percent)[T.35]     1.0000      1.782      0.561      0.581      -2.717       4.717\n",
       "==============================================================================\n",
       "Omnibus:                        1.322   Durbin-Watson:                   2.347\n",
       "Prob(Omnibus):                  0.516   Jarque-Bera (JB):                0.949\n",
       "Skew:                           0.154   Prob(JB):                        0.622\n",
       "Kurtosis:                       2.096   Cond. No.                         5.83\n",
       "==============================================================================\n",
       "\n",
       "Notes:\n",
       "[1] Standard Errors assume that the covariance matrix of the errors is correctly specified.\n",
       "\"\"\""
      ]
     },
     "execution_count": 6,
     "metadata": {},
     "output_type": "execute_result"
    }
   ],
   "source": [
    "#One-way ANOVA\n",
    "model = ols(\"observations ~ C(cotton_weight_percent)\", df).fit()\n",
    "model.summary()"
   ]
  },
  {
   "cell_type": "code",
   "execution_count": 7,
   "id": "77c08948-3ffa-4738-864f-08e048e30011",
   "metadata": {},
   "outputs": [],
   "source": [
    "res = anova_lm(model, typ=1)"
   ]
  },
  {
   "cell_type": "code",
   "execution_count": 10,
   "id": "f00bb070-c424-47ea-85de-6f9deaa318c4",
   "metadata": {},
   "outputs": [],
   "source": [
    "def model_evaluation(\n",
    "    model,\n",
    "    independent_name: str = \"cotton\",\n",
    "    dependent_name: str = \"tensile strength\",\n",
    "    alpha=0.5,\n",
    "):\n",
    "    p_value = model.f_pvalue\n",
    "    display(\n",
    "        Markdown(\n",
    "            f\"\"\"\n",
    "**Null hypothesis**: All means are equal.\n",
    "\n",
    "**Alternative hypothesis**: Not all mean are equal\n",
    "**Significance level**: α = {alpha}\n",
    "The F-statistic of the model is {round(model.fvalue, 6)}. The p-value of the model is {round(p_value, 6)}.\"\"\"\n",
    "        )\n",
    "    )\n",
    "    if p_value > alpha:\n",
    "        display(\n",
    "            Markdown(\n",
    "                f\"\"\"Since the p-value is greater than the significance level of {alpha}, the differences between the means are not statistically significant.\"\"\"\n",
    "            )\n",
    "        )\n",
    "    else:\n",
    "        display(\n",
    "            Markdown(\n",
    "                f\"\"\"Since the p-value is less than the significance level of {alpha}, there is enough evidence to claim that the differences between some of the means are statistically significant.\"\"\"\n",
    "            )\n",
    "        )"
   ]
  },
  {
   "cell_type": "code",
   "execution_count": 11,
   "id": "26244c35-c83c-4a3e-b43c-2e70a620c19a",
   "metadata": {},
   "outputs": [
    {
     "data": {
      "text/markdown": [
       "\n",
       "**Null hypothesis**: All means are equal.\n",
       "\n",
       "**Alternative hypothesis**: Not all mean are equal\n",
       "**Significance level**: α = 0.5\n",
       "The F-statistic of the model is 14.962217. The p-value of the model is 8e-06."
      ],
      "text/plain": [
       "<IPython.core.display.Markdown object>"
      ]
     },
     "metadata": {},
     "output_type": "display_data"
    },
    {
     "data": {
      "text/markdown": [
       "Since the p-value is less than the significance level of 0.5, there is enough evidence to claim that the differences between some of the means are statistically significant."
      ],
      "text/plain": [
       "<IPython.core.display.Markdown object>"
      ]
     },
     "metadata": {},
     "output_type": "display_data"
    }
   ],
   "source": [
    "model_evaluation(model)"
   ]
  },
  {
   "cell_type": "code",
   "execution_count": 12,
   "id": "3b5a8929-8642-4d67-8975-f62fe15ded50",
   "metadata": {},
   "outputs": [],
   "source": [
    "#Compare Each Pair of Means Using Tukey's HSD\n",
    "comparison = MultiComparison(df[\"observations\"], df[\"cotton_weight_percent\"])\n",
    "comparison_results = comparison.tukeyhsd()"
   ]
  },
  {
   "cell_type": "code",
   "execution_count": 13,
   "id": "391387f1-9205-47b1-ad26-c870b7e0b3c3",
   "metadata": {},
   "outputs": [
    {
     "data": {
      "text/html": [
       "<table class=\"simpletable\">\n",
       "<caption>Multiple Comparison of Means - Tukey HSD, FWER=0.05</caption>\n",
       "<tr>\n",
       "  <th>group1</th> <th>group2</th> <th>meandiff</th>  <th>p-adj</th>   <th>lower</th>   <th>upper</th>  <th>reject</th>\n",
       "</tr>\n",
       "<tr>\n",
       "    <td>15</td>     <td>20</td>      <td>5.4</td>   <td>0.0463</td>  <td>0.0672</td>  <td>10.7328</td>  <td>True</td> \n",
       "</tr>\n",
       "<tr>\n",
       "    <td>15</td>     <td>25</td>      <td>7.8</td>   <td>0.0024</td>  <td>2.4672</td>  <td>13.1328</td>  <td>True</td> \n",
       "</tr>\n",
       "<tr>\n",
       "    <td>15</td>     <td>30</td>     <td>11.8</td>     <td>0.0</td>   <td>6.4672</td>  <td>17.1328</td>  <td>True</td> \n",
       "</tr>\n",
       "<tr>\n",
       "    <td>15</td>     <td>35</td>      <td>1.0</td>   <td>0.9792</td>  <td>-4.3328</td> <td>6.3328</td>   <td>False</td>\n",
       "</tr>\n",
       "<tr>\n",
       "    <td>20</td>     <td>25</td>      <td>2.4</td>   <td>0.6666</td>  <td>-2.9328</td> <td>7.7328</td>   <td>False</td>\n",
       "</tr>\n",
       "<tr>\n",
       "    <td>20</td>     <td>30</td>      <td>6.4</td>    <td>0.014</td>  <td>1.0672</td>  <td>11.7328</td>  <td>True</td> \n",
       "</tr>\n",
       "<tr>\n",
       "    <td>20</td>     <td>35</td>     <td>-4.4</td>    <td>0.138</td>  <td>-9.7328</td> <td>0.9328</td>   <td>False</td>\n",
       "</tr>\n",
       "<tr>\n",
       "    <td>25</td>     <td>30</td>      <td>4.0</td>   <td>0.2043</td>  <td>-1.3328</td> <td>9.3328</td>   <td>False</td>\n",
       "</tr>\n",
       "<tr>\n",
       "    <td>25</td>     <td>35</td>     <td>-6.8</td>   <td>0.0085</td> <td>-12.1328</td> <td>-1.4672</td>  <td>True</td> \n",
       "</tr>\n",
       "<tr>\n",
       "    <td>30</td>     <td>35</td>     <td>-10.8</td>  <td>0.0001</td> <td>-16.1328</td> <td>-5.4672</td>  <td>True</td> \n",
       "</tr>\n",
       "</table>"
      ],
      "text/plain": [
       "<class 'statsmodels.iolib.table.SimpleTable'>"
      ]
     },
     "execution_count": 13,
     "metadata": {},
     "output_type": "execute_result"
    }
   ],
   "source": [
    "comparison_results.summary()"
   ]
  },
  {
   "cell_type": "code",
   "execution_count": 14,
   "id": "8df9f611-f543-4569-9fda-d07f0beb1c71",
   "metadata": {},
   "outputs": [
    {
     "data": {
      "image/png": "[encoded data removed]",
      "text/plain": [
       "<Figure size 1000x600 with 1 Axes>"
      ]
     },
     "metadata": {},
     "output_type": "display_data"
    }
   ],
   "source": [
    "fig_15 = comparison_results.plot_simultaneous(comparison_name=15)"
   ]
  },
  {
   "cell_type": "code",
   "execution_count": 15,
   "id": "d1dc3f8a-5885-4c11-a389-a89384c3ce78",
   "metadata": {},
   "outputs": [
    {
     "data": {
      "image/png": "[encoded data removed]",
      "text/plain": [
       "<Figure size 1000x600 with 1 Axes>"
      ]
     },
     "metadata": {},
     "output_type": "display_data"
    }
   ],
   "source": [
    "fig_20 = comparison_results.plot_simultaneous(comparison_name=20)"
   ]
  },
  {
   "cell_type": "code",
   "execution_count": 16,
   "id": "30c22db9-5e1d-447b-a8d2-d0cbbb68d826",
   "metadata": {},
   "outputs": [
    {
     "data": {
      "image/png": "[encoded data removed]",
      "text/plain": [
       "<Figure size 1000x600 with 1 Axes>"
      ]
     },
     "metadata": {},
     "output_type": "display_data"
    }
   ],
   "source": [
    "fig_25 = comparison_results.plot_simultaneous(comparison_name=25)"
   ]
  },
  {
   "cell_type": "code",
   "execution_count": 17,
   "id": "e6916381-12c1-46f2-829f-61f17f912f51",
   "metadata": {},
   "outputs": [
    {
     "data": {
      "image/png": "[encoded data removed]",
      "text/plain": [
       "<Figure size 640x480 with 1 Axes>"
      ]
     },
     "metadata": {},
     "output_type": "display_data"
    }
   ],
   "source": [
    "#Check model assumptions\n",
    "residuals = model.resid\n",
    "plot = qqplot(residuals, line=\"s\")"
   ]
  },
  {
   "cell_type": "code",
   "execution_count": null,
   "id": "2679301a-a6ac-471f-9f3a-1dcb0dcb57ae",
   "metadata": {},
   "outputs": [],
   "source": []
  }
 ],
 "metadata": {
  "kernelspec": {
   "display_name": "Python 3 (ipykernel)",
   "language": "python",
   "name": "python3"
  },
  "language_info": {
   "codemirror_mode": {
    "name": "ipython",
    "version": 3
   },
   "file_extension": ".py",
   "mimetype": "text/x-python",
   "name": "python",
   "nbconvert_exporter": "python",
   "pygments_lexer": "ipython3",
   "version": "3.9.15"
  }
 },
 "nbformat": 4,
 "nbformat_minor": 5
}
