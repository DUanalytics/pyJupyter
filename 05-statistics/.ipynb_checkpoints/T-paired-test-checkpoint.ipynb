{
 "cells": [
  {
   "cell_type": "markdown",
   "id": "b40af402",
   "metadata": {},
   "source": [
    "# Paired T-Test"
   ]
  },
  {
   "cell_type": "markdown",
   "id": "c4973348",
   "metadata": {},
   "source": [
    "## Eg1\n",
    "Eleven schoolboys were given a test in Statistics. They were given a Month’s tuition and a second test were held at the end of it. Do the marks give evidence that the students have benefited from the exam coaching?\n",
    "Marks in 1st test: 23 20 19 21 18 20 18 17 23 16 19\n",
    "Marks in 2nd test: 24 19 22 18 20 22 20 20 23 20 18"
   ]
  },
  {
   "cell_type": "markdown",
   "id": "ec93610b",
   "metadata": {},
   "source": [
    "## Hypothesis\n",
    "H0: The students have not benefited from the tuition class. i.e., d = 0\n",
    "H1: The students have benefited from the tuition class. i.e., d < 0\n",
    "Where, d = x-y; d is the difference between marks in the first test (say x) and marks in the second test (say y).\n",
    "Test statistic\n",
    "- Where, n is the number of samples ‘s’ is sample standard deviation"
   ]
  },
  {
   "cell_type": "code",
   "execution_count": 1,
   "id": "e9088774",
   "metadata": {},
   "outputs": [
    {
     "name": "stdout",
     "output_type": "stream",
     "text": [
      "0.05 \n",
      " [23, 20, 19, 21, 18, 20, 18, 17, 23, 16, 19] \n",
      " [24, 19, 22, 18, 20, 22, 20, 20, 23, 20, 18]\n"
     ]
    }
   ],
   "source": [
    "## Code\n",
    "alpha = 0.05\n",
    "first_test =[23, 20, 19, 21, 18, 20, 18, 17, 23, 16, 19]\n",
    "second_test=[24, 19, 22, 18, 20, 22, 20, 20, 23, 20, 18]\n",
    "print(alpha, '\\n', first_test, '\\n', second_test)"
   ]
  },
  {
   "cell_type": "code",
   "execution_count": 3,
   "id": "767fd59e",
   "metadata": {},
   "outputs": [
    {
     "name": "stdout",
     "output_type": "stream",
     "text": [
      "Test statistic is -1.707331\n",
      "p-value for one_tailed_test is 0.059282\n",
      "Accept Ho\n",
      "Conclusion n Since p-value(=0.059282) > alpha(=0.05) We do not reject the null hypothesis H0. \n",
      "So we conclude that the students have not benefited by the tuition class. i.e., d = 0 at 0.05 level of significance.\n"
     ]
    }
   ],
   "source": [
    "from scipy import stats\n",
    "\n",
    "t_value,p_value=stats.ttest_rel(first_test,second_test)\n",
    "\n",
    "one_tailed_p_value=float(\"{:.6f}\".format(p_value/2)) \n",
    "\n",
    "print('Test statistic is %f'%float(\"{:.6f}\".format(t_value)))\n",
    "\n",
    "print('p-value for one_tailed_test is %f'%one_tailed_p_value)\n",
    "\n",
    "alpha = 0.05\n",
    "\n",
    "if one_tailed_p_value<=alpha:\n",
    "    print(\"Reject Ho\")\n",
    "else:\n",
    "    print(\"Accept Ho\")\n",
    "#-------\n",
    "if one_tailed_p_value<=alpha:\n",
    "    print('Conclusion','n','Since p-value(=%f)'%one_tailed_p_value,'<','alpha(=%.2f)'%alpha,'''We reject the null hypothesis H0. \n",
    "So we conclude that the students have benefited by the tuition class. i.e., d = 0 at %.2f level of significance.'''%alpha)\n",
    "else:\n",
    "    print('Conclusion','n','Since p-value(=%f)'%one_tailed_p_value,'>','alpha(=%.2f)'%alpha,'''We do not reject the null hypothesis H0. \n",
    "So we conclude that the students have not benefited by the tuition class. i.e., d = 0 at %.2f level of significance.'''%alpha)"
   ]
  },
  {
   "cell_type": "markdown",
   "id": "35d2d39c",
   "metadata": {},
   "source": [
    "## Eg2\n",
    "Paired Student’s t-test : Tests whether the means of two paired samples are significantly different.\n",
    "\n",
    "Assumptions\n",
    "- Observations in each sample are independent and identically distributed (iid).\n",
    "- Observations in each sample are normally distributed.\n",
    "- Observations in each sample have the same variance.\n",
    "- Observations across each sample are paired.\n",
    "\n",
    "Interpretation\n",
    "- H0: the means of the samples are equal.\n",
    "- H1: the means of the samples are unequal."
   ]
  },
  {
   "cell_type": "code",
   "execution_count": 1,
   "id": "a1a01922",
   "metadata": {},
   "outputs": [
    {
     "name": "stdout",
     "output_type": "stream",
     "text": [
      "stat=-0.334, p=0.746\n",
      "Probably the same distribution\n"
     ]
    }
   ],
   "source": [
    "from scipy.stats import ttest_rel\n",
    "data1 = [0.873, 2.817, 0.121, -0.945, -0.055, -1.436, 0.360, -1.478, -1.637, -1.869]\n",
    "data2 = [1.142, -0.432, -0.938, -0.729, -0.846, -0.157, 0.500, 1.183, -1.075, -0.169]\n",
    "stat, p = ttest_rel(data1, data2)\n",
    "print('stat=%.3f, p=%.3f' % (stat, p))\n",
    "if p > 0.05:\n",
    "\tprint('Probably the same distribution')\n",
    "else:\n",
    "\tprint('Probably different distributions')"
   ]
  },
  {
   "cell_type": "code",
   "execution_count": null,
   "id": "65b5a67b",
   "metadata": {},
   "outputs": [],
   "source": []
  }
 ],
 "metadata": {
  "kernelspec": {
   "display_name": "Python 3 (ipykernel)",
   "language": "python",
   "name": "python3"
  },
  "language_info": {
   "codemirror_mode": {
    "name": "ipython",
    "version": 3
   },
   "file_extension": ".py",
   "mimetype": "text/x-python",
   "name": "python",
   "nbconvert_exporter": "python",
   "pygments_lexer": "ipython3",
   "version": "3.9.12"
  }
 },
 "nbformat": 4,
 "nbformat_minor": 5
}
