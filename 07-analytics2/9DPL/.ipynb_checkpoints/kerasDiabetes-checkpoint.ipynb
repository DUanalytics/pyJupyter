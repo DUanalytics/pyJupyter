{
 "cells": [
  {
   "cell_type": "markdown",
   "id": "0ebed6a1",
   "metadata": {},
   "source": [
    "###\n",
    "https://keras.io/examples/nlp/semantic_similarity_with_bert/\n",
    "https://machinelearningmastery.com/tutorial-first-neural-network-python-keras/   \n",
    "https://raw.githubusercontent.com/jbrownlee/Datasets/master/pima-indians-diabetes.data.csv\n",
    "https://raw.githubusercontent.com/jbrownlee/Datasets/master/pima-indians-diabetes.names\n",
    "- In this Keras tutorial, you will use the Pima Indians onset of diabetes dataset. This is a standard machine learning dataset from the UCI Machine Learning repository. It describes patient medical record data for Pima Indians and whether they had an onset of diabetes within five years.\n",
    "- As such, it is a binary classification problem (onset of diabetes as 1 or not as 0). All of the input variables that describe each patient are numerical. This makes it easy to use directly with neural networks that expect numerical input and output values and is an ideal choice for our first neural network in Keras.\n",
    "\n",
    "- Keras is a powerful and easy-to-use free open source Python library for developing and evaluating deep learning models.\n",
    "- It is part of the TensorFlow library and allows you to define and train neural network models in just a few lines of code.\n",
    "- In this tutorial, you will discover how to create your first deep learning neural network model in Python using Keras."
   ]
  },
  {
   "cell_type": "markdown",
   "id": "f323be93",
   "metadata": {},
   "source": [
    "## Steps\n",
    "- Load Data\n",
    "- Define Keras Model\n",
    "- Compile Keras Model\n",
    "- Fit Keras Model\n",
    "- Evaluate Keras Model\n",
    "- Tie It All Together\n",
    "- Make Predictions\n",
    "\n",
    "#Assumptions here:\n",
    "- Python 2 or 3 installed and configured\n",
    "- SciPy (including NumPy) installed and configured\n",
    "- Keras and a backend (Theano or TensorFlow) installed and configured"
   ]
  },
  {
   "cell_type": "code",
   "execution_count": 1,
   "id": "cd82716e",
   "metadata": {},
   "outputs": [],
   "source": [
    "import numpy as np\n",
    "import pandas as pd\n",
    "import tensorflow as tf\n",
    "import transformers"
   ]
  },
  {
   "cell_type": "code",
   "execution_count": 4,
   "id": "682d432e",
   "metadata": {},
   "outputs": [],
   "source": [
    "# first neural network with keras tutorial\n",
    "from numpy import loadtxt\n",
    "from tensorflow.keras.models import Sequential\n",
    "from tensorflow.keras.layers import Dense"
   ]
  },
  {
   "cell_type": "markdown",
   "id": "72eca698",
   "metadata": {},
   "source": [
    "- load the file as a matrix of numbers using the NumPy function loadtxt().\n",
    "- There are eight input variables and one output variable (the last column). learning a model to map rows of input variables (X) to an output variable (y), which is often summarized as y = f(X).\n",
    "- The variables can be summarized as follows:\n",
    "    - Input Variables (X):\n",
    "        - Number of times pregnant\n",
    "        - Plasma glucose concentration at 2 hours in an oral glucose tolerance test\n",
    "        - Diastolic blood pressure (mm Hg)\n",
    "        - Triceps skin fold thickness (mm)\n",
    "        - 2-hour serum insulin (mu U/ml)\n",
    "        - Body mass index (weight in kg/(height in m)^2)\n",
    "        - Diabetes pedigree function\n",
    "        - Age (years)\n",
    "    - Output Variables (y):\n",
    "        - Class variable (0 or 1)\n",
    "-Once the CSV file is loaded into memory, you can split the columns of data into input and output variables.\n",
    "-The data will be stored in a 2D array where the first dimension is rows and the second dimension is columns, e.g., [rows, columns].\n",
    "- You can split the array into two arrays by selecting subsets of columns using the standard NumPy slice operator or “:”. You can select the first eight columns from index 0 to index 7 via the slice 0:8. We can then select the output column (the 9th variable) via index 8."
   ]
  },
  {
   "cell_type": "code",
   "execution_count": 12,
   "id": "73d9b6ec",
   "metadata": {},
   "outputs": [],
   "source": [
    "dataset = loadtxt('https://raw.githubusercontent.com/jbrownlee/Datasets/master/pima-indians-diabetes.data.csv', delimiter=',')\n",
    "X = dataset[:, 0:8]  # IV\n",
    "y = dataset[:,8]  # DV"
   ]
  },
  {
   "cell_type": "code",
   "execution_count": 13,
   "id": "6e9dbbfd",
   "metadata": {},
   "outputs": [
    {
     "name": "stdout",
     "output_type": "stream",
     "text": [
      "[[1.000e+00 8.500e+01 6.600e+01 2.900e+01 0.000e+00 2.660e+01 3.510e-01\n",
      "  3.100e+01]\n",
      " [8.000e+00 1.830e+02 6.400e+01 0.000e+00 0.000e+00 2.330e+01 6.720e-01\n",
      "  3.200e+01]\n",
      " [1.000e+00 8.900e+01 6.600e+01 2.300e+01 9.400e+01 2.810e+01 1.670e-01\n",
      "  2.100e+01]\n",
      " [0.000e+00 1.370e+02 4.000e+01 3.500e+01 1.680e+02 4.310e+01 2.288e+00\n",
      "  3.300e+01]] [0. 1. 0. 1.]\n"
     ]
    }
   ],
   "source": [
    "print(X[1:5], y[1:5])"
   ]
  },
  {
   "cell_type": "markdown",
   "id": "849557c9",
   "metadata": {},
   "source": [
    "## Models in Keras are defined as a sequence of layers.\n",
    "\n",
    "- We create a Sequential model and add layers one at a time until we are happy with our network architecture.\n",
    "- The first thing to get right is to ensure the input layer has the correct number of input features. This can be specified when creating the first layer with the input_shape argument and setting it to (8,) for presenting the eight input variables as a vector.\n",
    "- How do we know the number of layers and their types?\n",
    "  - This is a tricky question. There are heuristics that you can use, and often the best network structure is found through a process of trial and error experimentation (more later). Generally, you need a network large enough to capture the structure of the problem.\n",
    "- In this example, let’s use a fully-connected network structure with three layers.\n",
    "- Fully connected layers are defined using the Dense class. You can specify the number of neurons or nodes in the layer as the first argument and the activation function using the activation argument.\n",
    "- Also, you will use the rectified linear unit activation function referred to as ReLU on the first two layers and the Sigmoid function in the output layer.\n",
    "- It used to be the case that Sigmoid and Tanh activation functions were preferred for all layers. These days, better performance is achieved using the ReLU activation function. Using a sigmoid on the output layer ensures your network output is between 0 and 1 and is easy to map to either a probability of class 1 or snap to a hard classification of either class with a default threshold of 0.5.\n",
    "- You can piece it all together by adding each layer:\n",
    "    - The model expects rows of data with 8 variables (the input_shape=(8,) argument).\n",
    "    - The first hidden layer has 12 nodes and uses the relu activation function.\n",
    "    - The second hidden layer has 8 nodes and uses the relu activation function.\n",
    "    - The output layer has one node and uses the sigmoid activation function."
   ]
  },
  {
   "cell_type": "code",
   "execution_count": 9,
   "id": "7938476b",
   "metadata": {},
   "outputs": [],
   "source": [
    "# define the keras model\n",
    "model = Sequential()\n",
    "model.add(Dense(12, input_shape=(8,), activation='relu'))\n",
    "model.add(Dense(8, activation='relu'))\n",
    "model.add(Dense(1, activation='sigmoid'))"
   ]
  },
  {
   "cell_type": "markdown",
   "id": "f56fdb58",
   "metadata": {},
   "source": [
    "- The most confusing thing here is that the shape of the input to the model is defined as an argument on the first hidden layer. This means that the line of code that adds the first Dense layer is doing two things, defining the input or visible layer and the first hidden layer.\n",
    "\n",
    "## Compile Keras Model\n",
    "- Now that the model is defined, you can compile it.\n",
    "- Compiling the model uses the efficient numerical libraries under the covers (the so-called backend) such as Theano or TensorFlow. The backend automatically chooses the best way to represent the network for training and making predictions to run on your hardware, such as CPU, GPU, or even distributed.\n",
    "- When compiling, you must specify some additional properties required when training the network. Remember training a network means finding the best set of weights to map inputs to outputs in your dataset.\n",
    "- You must specify the loss function to use to evaluate a set of weights, the optimizer used to search through different weights for the network, and any optional metrics you want to collect and report during training.\n",
    "- In this case, use cross entropy as the loss argument. This loss is for a binary classification problems and is defined in Keras as “binary_crossentropy“. You can learn more about choosing loss functions based on your problem here:"
   ]
  },
  {
   "cell_type": "markdown",
   "id": "ac76d74f",
   "metadata": {},
   "source": [
    "- We will define the optimizer as the efficient stochastic gradient descent algorithm “adam“. This is a popular version of gradient descent because it automatically tunes itself and gives good results in a wide range of problems. To learn more about the Adam version of stochastic gradient descent, see the post:## Complile Keras Model\n",
    "- because it is a classification problem, you will collect and report the classification accuracy defined via the metrics argument."
   ]
  },
  {
   "cell_type": "code",
   "execution_count": 10,
   "id": "418536e0",
   "metadata": {},
   "outputs": [],
   "source": [
    "# compile the keras model\n",
    "model.compile(loss='binary_crossentropy', optimizer='adam', metrics=['accuracy'])"
   ]
  },
  {
   "cell_type": "markdown",
   "id": "1dd860f2",
   "metadata": {},
   "source": [
    "- You can train or fit your model on your loaded data by calling the fit() function on the model.\n",
    "\n",
    "- Training occurs over epochs, and each epoch is split into batches.\n",
    "  - Epoch: One pass through all of the rows in the training dataset\n",
    "  - Batch: One or more samples considered by the model within an epoch before weights are updated"
   ]
  },
  {
   "cell_type": "code",
   "execution_count": 19,
   "id": "cc54dc4e",
   "metadata": {},
   "outputs": [
    {
     "name": "stdout",
     "output_type": "stream",
     "text": [
      "Epoch 1/5\n",
      "77/77 [==============================] - 0s 1ms/step - loss: 0.5165 - accuracy: 0.7539\n",
      "Epoch 2/5\n",
      "77/77 [==============================] - 0s 1ms/step - loss: 0.5164 - accuracy: 0.7461\n",
      "Epoch 3/5\n",
      "77/77 [==============================] - 0s 1ms/step - loss: 0.5249 - accuracy: 0.7227\n",
      "Epoch 4/5\n",
      "77/77 [==============================] - 0s 1ms/step - loss: 0.5119 - accuracy: 0.7435\n",
      "Epoch 5/5\n",
      "77/77 [==============================] - 0s 1ms/step - loss: 0.5193 - accuracy: 0.7396\n"
     ]
    },
    {
     "data": {
      "text/plain": [
       "<keras.callbacks.History at 0x24afb125160>"
      ]
     },
     "execution_count": 19,
     "metadata": {},
     "output_type": "execute_result"
    }
   ],
   "source": [
    "## Fit Keras Model\n",
    "# fit the keras model on the dataset\n",
    "model.fit(X, y, epochs=5, batch_size=10)"
   ]
  },
  {
   "cell_type": "markdown",
   "id": "ff0f07bc",
   "metadata": {},
   "source": [
    "- The training process will run for a fixed number of epochs (iterations) through the dataset that you must specify using the epochs argument. You must also set the number of dataset rows that are considered before the model weights are updated within each epoch, called the batch size, and set using the batch_size argument.\n",
    "- This problem will run for a small number of epochs (150) and use a relatively small batch size of 10.\n",
    "- These configurations can be chosen experimentally by trial and error. You want to train the model enough so that it learns a good (or good enough) mapping of rows of input data to the output classification. The model will always have some error, but the amount of error will level out after some point for a given model configuration. This is called model convergence.\n",
    "\n",
    "- No GPU is required for this example, but for larger models GPU hardware will be required"
   ]
  },
  {
   "cell_type": "code",
   "execution_count": 20,
   "id": "130363cd",
   "metadata": {},
   "outputs": [
    {
     "name": "stdout",
     "output_type": "stream",
     "text": [
      "24/24 [==============================] - 0s 1ms/step - loss: 0.5066 - accuracy: 0.7565\n",
      "Accuracy: 75.65\n"
     ]
    }
   ],
   "source": [
    "# evaluate the keras model\n",
    "_, accuracy = model.evaluate(X, y)\n",
    "print('Accuracy: %.2f' % (accuracy*100))"
   ]
  },
  {
   "cell_type": "code",
   "execution_count": 16,
   "id": "703e6d65",
   "metadata": {},
   "outputs": [
    {
     "name": "stdout",
     "output_type": "stream",
     "text": [
      "24/24 [==============================] - 0s 1ms/step\n"
     ]
    }
   ],
   "source": [
    "# make probability predictions with the model\n",
    "predictions = model.predict(X)\n",
    "# round predictions \n",
    "rounded = [round(x[0]) for x in predictions]"
   ]
  },
  {
   "cell_type": "code",
   "execution_count": 17,
   "id": "29f09d9e",
   "metadata": {},
   "outputs": [
    {
     "name": "stdout",
     "output_type": "stream",
     "text": [
      "24/24 [==============================] - 0s 909us/step\n"
     ]
    }
   ],
   "source": [
    "# make class predictions with the model\n",
    "predictions = (model.predict(X) > 0.5).astype(int)"
   ]
  },
  {
   "cell_type": "code",
   "execution_count": 18,
   "id": "714f3b4b",
   "metadata": {},
   "outputs": [
    {
     "name": "stdout",
     "output_type": "stream",
     "text": [
      "[6.0, 148.0, 72.0, 35.0, 0.0, 33.6, 0.627, 50.0] => 1 (expected 1)\n",
      "[1.0, 85.0, 66.0, 29.0, 0.0, 26.6, 0.351, 31.0] => 0 (expected 0)\n",
      "[8.0, 183.0, 64.0, 0.0, 0.0, 23.3, 0.672, 32.0] => 1 (expected 1)\n",
      "[1.0, 89.0, 66.0, 23.0, 94.0, 28.1, 0.167, 21.0] => 0 (expected 0)\n",
      "[0.0, 137.0, 40.0, 35.0, 168.0, 43.1, 2.288, 33.0] => 1 (expected 1)\n"
     ]
    }
   ],
   "source": [
    "for i in range(5):\n",
    " print('%s => %d (expected %d)' % (X[i].tolist(), predictions[i], y[i]))"
   ]
  },
  {
   "cell_type": "markdown",
   "id": "952f58c2",
   "metadata": {},
   "source": [
    "## Extensions to this tutorial that you might want to explore.\n",
    "\n",
    "- Tune the Model. Change the configuration of the model or training process and see if you can improve the performance of the model, e.g., achieve better than 76% accuracy.\n",
    "- Save the Model. Update the tutorial to save the model to a file, then load it later and use it to make predictions (see this tutorial).\n",
    "- Summarize the Model. Update the tutorial to summarize the model and create a plot of model layers (see this tutorial).\n",
    "- Separate, Train, and Test Datasets. Split the loaded dataset into a training and test set (split based on rows) and use one set to train the model and the other set to estimate the performance of the model on new data.\n",
    "- Plot Learning Curves. The fit() function returns a history object that summarizes the loss and accuracy at the end of each epoch. Create line plots of this data, called learning curves (see this tutorial).\n",
    "- Learn a New Dataset. Update the tutorial to use a different tabular dataset, perhaps from the UCI Machine Learning Repository.\n",
    "- Use Functional API. Update the tutorial to use the Keras Functional API for defining the model (see this tutorial)."
   ]
  },
  {
   "cell_type": "code",
   "execution_count": null,
   "id": "5938c944",
   "metadata": {},
   "outputs": [],
   "source": []
  }
 ],
 "metadata": {
  "kernelspec": {
   "display_name": "Python 3 (ipykernel)",
   "language": "python",
   "name": "python3"
  },
  "language_info": {
   "codemirror_mode": {
    "name": "ipython",
    "version": 3
   },
   "file_extension": ".py",
   "mimetype": "text/x-python",
   "name": "python",
   "nbconvert_exporter": "python",
   "pygments_lexer": "ipython3",
   "version": "3.9.15"
  }
 },
 "nbformat": 4,
 "nbformat_minor": 5
}
