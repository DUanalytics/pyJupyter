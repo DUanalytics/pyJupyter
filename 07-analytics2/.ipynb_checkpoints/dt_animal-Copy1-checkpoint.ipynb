{
 "cells": [
  {
   "cell_type": "code",
   "execution_count": null,
   "id": "c63e94a8",
   "metadata": {},
   "outputs": [],
   "source": [
    "# Decision Tree"
   ]
  },
  {
   "cell_type": "code",
   "execution_count": null,
   "id": "7e442401",
   "metadata": {},
   "outputs": [],
   "source": [
    "#libraries\n",
    "import pandas as pd\n",
    "import numpy as np\n",
    "import matplotlib.pyplot as plt"
   ]
  },
  {
   "cell_type": "code",
   "execution_count": null,
   "id": "ef31c059",
   "metadata": {},
   "outputs": [],
   "source": [
    "#linkData =''\n",
    "color = ['Grey','Yellow','Brown', 'Grey', 'Yellow']\n",
    "height = [10,10,3,10,4]\n",
    "label = ['Elephant', 'Giraffe','Monkey','Elephant', 'Tiger']\n",
    "df = pd.DataFrame({'color':color, 'height':height, 'label':label})"
   ]
  },
  {
   "cell_type": "code",
   "execution_count": null,
   "id": "1c8e4e2b",
   "metadata": {},
   "outputs": [],
   "source": [
    "df\n",
    "# cluttered data with high entropy; What is entropy ?\n",
    "# we have to determin which features split the date so that the info gain is highest\n",
    "# we can do this by splitting data using each feature and checking the info gain\n",
    "# the feature which returns the highest gain will be used for splitting at that node"
   ]
  },
  {
   "cell_type": "code",
   "execution_count": null,
   "id": "6ad9abe5",
   "metadata": {},
   "outputs": [],
   "source": [
    "# Info gain"
   ]
  },
  {
   "cell_type": "code",
   "execution_count": null,
   "id": "1c06e6ea",
   "metadata": {},
   "outputs": [],
   "source": [
    "# feature columns and target columns\n",
    "feature_columns = ['color', 'height' ]\n",
    "X = df[feature_columns]\n",
    "y = df.label\n",
    "X, y"
   ]
  },
  {
   "cell_type": "code",
   "execution_count": null,
   "id": "dd1c0965",
   "metadata": {},
   "outputs": [],
   "source": [
    "# Split data into train and test\n",
    "from sklearn.model_selection import train_test_split"
   ]
  },
  {
   "cell_type": "code",
   "execution_count": null,
   "id": "a376acc1",
   "metadata": {},
   "outputs": [],
   "source": [
    "X_train, X_test, y_train, y_test = train_test_split(X, y, test_size =.3, random_state=1)\n",
    "# 70% to training the model"
   ]
  },
  {
   "cell_type": "code",
   "execution_count": null,
   "id": "e1e569d1",
   "metadata": {},
   "outputs": [],
   "source": [
    "print(X_train)\n",
    "print(X_test)\n",
    "print(X_train.shape, X_test.shape)"
   ]
  },
  {
   "cell_type": "code",
   "execution_count": null,
   "id": "35e3eb04",
   "metadata": {},
   "outputs": [],
   "source": [
    "# Model\n",
    "from sklearn.tree import DecisionTreeClassifier"
   ]
  },
  {
   "cell_type": "code",
   "execution_count": null,
   "id": "97cd6f98",
   "metadata": {},
   "outputs": [],
   "source": [
    "#clf = DecisionTreeClassifier()\n",
    "clf1 = DecisionTreeClassifier(max_depth=5)\n",
    "clf1 = clf1.fit(X_train, y_train)\n",
    "print(clf1)"
   ]
  },
  {
   "cell_type": "code",
   "execution_count": null,
   "id": "12defbdc",
   "metadata": {},
   "outputs": [],
   "source": [
    "y_pred1 = clf1.predict(X_test)\n",
    "print(y_pred1)"
   ]
  },
  {
   "cell_type": "code",
   "execution_count": null,
   "id": "8c7eb882",
   "metadata": {},
   "outputs": [],
   "source": [
    "# Accuracy/ Evaluate\n",
    "from sklearn import metrics"
   ]
  },
  {
   "cell_type": "code",
   "execution_count": null,
   "id": "24b4c9b2",
   "metadata": {},
   "outputs": [],
   "source": [
    "print( 'Accuracy-1', metrics.accuracy_score(y_test, y_pred1))\n",
    "#above .5 can be considered good"
   ]
  },
  {
   "cell_type": "code",
   "execution_count": null,
   "id": "6a46349f",
   "metadata": {},
   "outputs": [],
   "source": [
    "#install this libraries for visualisation\n",
    "#!pip install graphviz\n",
    "#!pip install pydotplus\n",
    "# install graphviz from http://www.graphviz.org/download/\n",
    "import os\n",
    "os.environ[\"PATH\"] += os.pathsep + r'E:\\analytics\\Graphviz\\bin'\n",
    "#os.environ[\"PATH\"] += os.pathsep + 'C:\\Program Files (x86)\\Graphviz2.38/bin/'"
   ]
  },
  {
   "cell_type": "code",
   "execution_count": null,
   "id": "9a386eef",
   "metadata": {},
   "outputs": [],
   "source": [
    "#Visualise\n",
    "from sklearn.tree import export_graphviz\n",
    "#from sklearn.externals.six import StringIO\n",
    "from six import StringIO\n",
    "from IPython.display import Image\n",
    "import pydotplus"
   ]
  },
  {
   "cell_type": "code",
   "execution_count": null,
   "id": "524b7bf9",
   "metadata": {},
   "outputs": [],
   "source": [
    "dot_data1 = StringIO()\n",
    "export_graphviz(clf1, out_file=dot_data1, filled=True, rounded=True, \n",
    "                special_characters=True, feature_names = feature_columns, \n",
    "                class_names = ['0','1'])\n",
    "graph1 = pydotplus.graph_from_dot_data(dot_data1.getvalue())\n",
    "graph1.write_png('diabetes1.png')\n",
    "Image(graph1.create_png())"
   ]
  },
  {
   "cell_type": "code",
   "execution_count": null,
   "id": "5034de61",
   "metadata": {},
   "outputs": [],
   "source": [
    "# optimising the tree : 2nd Model"
   ]
  },
  {
   "cell_type": "code",
   "execution_count": null,
   "id": "cc569b06",
   "metadata": {},
   "outputs": [],
   "source": [
    "clf2 = DecisionTreeClassifier(criterion = 'entropy', max_depth=2)\n",
    "clf2 = clf2.fit(X_train, y_train)\n",
    "print(clf2)"
   ]
  },
  {
   "cell_type": "code",
   "execution_count": null,
   "id": "82275118",
   "metadata": {},
   "outputs": [],
   "source": [
    "y_pred2 = clf2.predict(X_test)\n",
    "print( 'Accuracy-2', metrics.accuracy_score(y_test, y_pred2))\n",
    "# .75"
   ]
  },
  {
   "cell_type": "code",
   "execution_count": null,
   "id": "54b939d3",
   "metadata": {},
   "outputs": [],
   "source": [
    "metrics.accuracy_score(y_test, y_pred1) < metrics.accuracy_score(y_test, y_pred2)\n",
    "#2nd model is better if True"
   ]
  },
  {
   "cell_type": "code",
   "execution_count": null,
   "id": "1733b81c",
   "metadata": {},
   "outputs": [],
   "source": [
    "dot_data2 = StringIO()\n",
    "export_graphviz(clf2, out_file=dot_data2, filled=True, rounded=True, \n",
    "                special_characters=True, feature_names = feature_columns, \n",
    "                class_names = ['0','1'])\n",
    "graph2 = pydotplus.graph_from_dot_data(dot_data2.getvalue())\n",
    "graph2.write_png('diabetes2.png')\n",
    "Image(graph2.create_png())"
   ]
  },
  {
   "cell_type": "markdown",
   "id": "d582d909",
   "metadata": {},
   "source": [
    "## Interpretation\n",
    "Pros\n",
    "DT are easy to interpret\n",
    "Requires fewer data pre-processing  (no need to normalise)\n",
    "Can be used for feature engineering (predicting missing values, variable selection)\n",
    "No assumption about distribution becoz of non-parametric nature of algo\n",
    "\n",
    "Cons\n",
    "Sensitive to noisy data. can overfit noisy data\n",
    "Small variations can result in different DT. Can be reduced by bagging & boosting \n",
    "DT are biased with imbalanced dataset. (so balance the dataset)\n"
   ]
  },
  {
   "cell_type": "code",
   "execution_count": null,
   "id": "2a3ea5f1",
   "metadata": {},
   "outputs": [],
   "source": [
    "\n"
   ]
  }
 ],
 "metadata": {
  "kernelspec": {
   "display_name": "Python 3 (ipykernel)",
   "language": "python",
   "name": "python3"
  },
  "language_info": {
   "codemirror_mode": {
    "name": "ipython",
    "version": 3
   },
   "file_extension": ".py",
   "mimetype": "text/x-python",
   "name": "python",
   "nbconvert_exporter": "python",
   "pygments_lexer": "ipython3",
   "version": "3.9.13"
  }
 },
 "nbformat": 4,
 "nbformat_minor": 5
}
