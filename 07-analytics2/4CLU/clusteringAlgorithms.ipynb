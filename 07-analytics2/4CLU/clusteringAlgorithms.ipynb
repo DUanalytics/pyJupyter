{
 "cells": [
  {
   "cell_type": "markdown",
   "id": "4d828e2d",
   "metadata": {},
   "source": [
    "## Clustering Algorithms in Python\n",
    "https://machinelearningmastery.com/clustering-algorithms-with-python/"
   ]
  },
  {
   "cell_type": "markdown",
   "id": "520c42ac",
   "metadata": {},
   "source": [
    "## 10 popular algorithms\n",
    "- Affinity Propagation\n",
    "- Agglomerative Clustering\n",
    "- BIRCH\n",
    "- DBSCAN\n",
    "- K-Means\n",
    "- Mini-Batch K-Means\n",
    "- Mean Shift\n",
    "- OPTICS\n",
    "- Spectral Clustering\n",
    "- Mixture of Gaussians\n",
    "\n",
    "Each algorithm offers a different approach to the challenge of discovering natural groups in data.\n",
    "There is no best clustering algorithm, and no easy way to find the best algorithm for your data without using controlled experiments"
   ]
  },
  {
   "cell_type": "code",
   "execution_count": null,
   "id": "fc087070",
   "metadata": {},
   "outputs": [],
   "source": [
    "#library\n",
    "\n",
    "# check scikit-learn version\n",
    "import sklearn\n",
    "print(sklearn.__version__)"
   ]
  }
 ],
 "metadata": {
  "kernelspec": {
   "display_name": "Python 3 (ipykernel)",
   "language": "python",
   "name": "python3"
  },
  "language_info": {
   "codemirror_mode": {
    "name": "ipython",
    "version": 3
   },
   "file_extension": ".py",
   "mimetype": "text/x-python",
   "name": "python",
   "nbconvert_exporter": "python",
   "pygments_lexer": "ipython3",
   "version": "3.9.15"
  }
 },
 "nbformat": 4,
 "nbformat_minor": 5
}
