{
 "cells": [
  {
   "cell_type": "markdown",
   "id": "46b7d5f1",
   "metadata": {},
   "source": [
    "# Random Forests\n",
    "-  Ref: https://towardsdatascience.com/random-forest-in-python-24d0893d51c0\n",
    "-  Data : https://drive.google.com/file/d/1pko9oRmCllAxipZoa3aoztGZfPAD2iwj/view"
   ]
  },
  {
   "cell_type": "code",
   "execution_count": null,
   "id": "095fb3bc",
   "metadata": {},
   "outputs": [],
   "source": []
  }
 ],
 "metadata": {
  "kernelspec": {
   "display_name": "Python 3 (ipykernel)",
   "language": "python",
   "name": "python3"
  },
  "language_info": {
   "codemirror_mode": {
    "name": "ipython",
    "version": 3
   },
   "file_extension": ".py",
   "mimetype": "text/x-python",
   "name": "python",
   "nbconvert_exporter": "python",
   "pygments_lexer": "ipython3",
   "version": "3.10.9"
  }
 },
 "nbformat": 4,
 "nbformat_minor": 5
}
