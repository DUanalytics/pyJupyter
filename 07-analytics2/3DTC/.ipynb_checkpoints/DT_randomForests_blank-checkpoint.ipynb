{
 "cells": [
  {
   "cell_type": "markdown",
   "id": "31f00a9b",
   "metadata": {},
   "source": [
    "## Random Forest \n",
    "Random forest is a supervised Machine Learning algorithm. This algorithm creates a set of decision trees from a few randomly selected subsets of the training set and picks predictions from each tree. Then by means of voting, the random forest algorithm selects the best solution\n",
    "https://intellipaat.com/blog/what-is-random-forest-algorithm-in-python\n",
    "#### Regressor Tree - Predict Continous Value like rent\n",
    "#### Classifier Tree - Predict Category value eg buy or not"
   ]
  },
  {
   "cell_type": "code",
   "execution_count": null,
   "id": "3937f453",
   "metadata": {},
   "outputs": [],
   "source": [
    "#libraries\n",
    "# Pandas is used for data manipulation\n",
    "import pandas as pd"
   ]
  },
  {
   "cell_type": "code",
   "execution_count": null,
   "id": "8390b1fc",
   "metadata": {},
   "outputs": [],
   "source": [
    "# Read in data and display first 5 rows\n",
    "file1 ='E:/analytics/data/xxxx.csv'\n",
    "df = pd.read_csv(file1)\n",
    "df.head(5)"
   ]
  },
  {
   "cell_type": "code",
   "execution_count": null,
   "id": "dd8b6bb4",
   "metadata": {},
   "outputs": [],
   "source": [
    "df.isna().sum(axis=0)"
   ]
  },
  {
   "cell_type": "code",
   "execution_count": null,
   "id": "e6b20e90",
   "metadata": {},
   "outputs": [],
   "source": [
    "df.shape"
   ]
  },
  {
   "cell_type": "code",
   "execution_count": null,
   "id": "0c722186",
   "metadata": {},
   "outputs": [],
   "source": [
    "df.describe()"
   ]
  },
  {
   "cell_type": "code",
   "execution_count": null,
   "id": "79390094",
   "metadata": {},
   "outputs": [],
   "source": [
    "# Define Features and the Target\n",
    "X = df.drop('target')\n",
    "y = df.target"
   ]
  },
  {
   "cell_type": "code",
   "execution_count": null,
   "id": "228aa0d8",
   "metadata": {},
   "outputs": [],
   "source": [
    "#split data\n",
    "from sklearn.model_selection import train_test_split\n",
    "X_train, y_train, X_test, y_test = train_test_split(X, y, test_size = .25)"
   ]
  },
  {
   "cell_type": "code",
   "execution_count": 1,
   "id": "7a2a72de",
   "metadata": {},
   "outputs": [],
   "source": [
    "#create Regressor model (Continous Value)\n",
    "from sklearn.ensemble import RandomForestRegressor\n",
    "regressor = RandomForestRegressor(n_estimators = 20, random_state=0)"
   ]
  },
  {
   "cell_type": "code",
   "execution_count": null,
   "id": "a39aabd3",
   "metadata": {},
   "outputs": [],
   "source": [
    "#apply model to data\n",
    "regressor.fit(X_train, y_train)"
   ]
  },
  {
   "cell_type": "code",
   "execution_count": null,
   "id": "ab9e3af1",
   "metadata": {},
   "outputs": [],
   "source": [
    "#predict for X_test\n",
    "y_pred = regressor.predict(X_test)"
   ]
  },
  {
   "cell_type": "code",
   "execution_count": 2,
   "id": "9e854567",
   "metadata": {},
   "outputs": [],
   "source": [
    "#Evaluate the model\n",
    "from sklearn import metrics"
   ]
  },
  {
   "cell_type": "code",
   "execution_count": null,
   "id": "ff2fa88c",
   "metadata": {},
   "outputs": [],
   "source": [
    "print('Mean Absolute Error', metrics.mean_absolute_error(y_test, y_pred))"
   ]
  },
  {
   "cell_type": "code",
   "execution_count": null,
   "id": "6fd0a144",
   "metadata": {},
   "outputs": [],
   "source": [
    "print('Mean Squared Error', metrics.mean_squared_error(y_test, y_pred))"
   ]
  },
  {
   "cell_type": "code",
   "execution_count": null,
   "id": "382780b3",
   "metadata": {},
   "outputs": [],
   "source": [
    "print('Root Mean Squared Error', np.sqrt(metrics.mean_squared_error(y_test, y_pred))"
   ]
  },
  {
   "cell_type": "code",
   "execution_count": null,
   "id": "0e176660",
   "metadata": {},
   "outputs": [],
   "source": [
    "#"
   ]
  },
  {
   "cell_type": "markdown",
   "id": "8311a5cd",
   "metadata": {},
   "source": [
    "## Classifier Model\n",
    "- Load the data\n",
    "- Divide data into X, y\n",
    "- Split data into train and test\n"
   ]
  },
  {
   "cell_type": "code",
   "execution_count": null,
   "id": "6ab0f199",
   "metadata": {},
   "outputs": [],
   "source": [
    "from sklearn.ensemble import RandomForestClassifier"
   ]
  },
  {
   "cell_type": "code",
   "execution_count": null,
   "id": "76596ac3",
   "metadata": {},
   "outputs": [],
   "source": [
    "# Model\n",
    "classifier = RandomForestClassifier(n_estimators=20, criterion='gini', random_state=1, max_depth=3)"
   ]
  },
  {
   "cell_type": "code",
   "execution_count": null,
   "id": "9c42fbd2",
   "metadata": {},
   "outputs": [],
   "source": [
    "# Apply Model to Data\n",
    "classifier.fit(X_train, y_train)"
   ]
  },
  {
   "cell_type": "code",
   "execution_count": null,
   "id": "344875f9",
   "metadata": {},
   "outputs": [],
   "source": [
    "# Predict for y_test\n",
    "y_pred = classifier.predict(X_test)"
   ]
  },
  {
   "cell_type": "code",
   "execution_count": 4,
   "id": "8eaafc2f",
   "metadata": {},
   "outputs": [],
   "source": [
    "# Metrics\n",
    "from sklearn.metrics import classification_report, confusion_matrix, accuracy_score"
   ]
  },
  {
   "cell_type": "code",
   "execution_count": null,
   "id": "aa630a78",
   "metadata": {},
   "outputs": [],
   "source": [
    "print('Confusion Matrix ', confusion_matrix(y_test, y_pred))"
   ]
  },
  {
   "cell_type": "code",
   "execution_count": null,
   "id": "92b1d625",
   "metadata": {},
   "outputs": [],
   "source": [
    "print('Classification Report ', classification_report(y_test, y_pred))"
   ]
  },
  {
   "cell_type": "code",
   "execution_count": null,
   "id": "51b88e65",
   "metadata": {},
   "outputs": [],
   "source": [
    "print('Accuracy Score ', accuracy_score(y_test, y_pred))"
   ]
  },
  {
   "cell_type": "code",
   "execution_count": null,
   "id": "72ed9d22",
   "metadata": {},
   "outputs": [],
   "source": [
    "X.columns"
   ]
  },
  {
   "cell_type": "code",
   "execution_count": null,
   "id": "238c82cc",
   "metadata": {},
   "outputs": [],
   "source": [
    "# Important Features\n",
    "feature imp = pd.Series(classifier.feature_importances_.index = X.columns).sort_values(ascending=False)\n",
    "feature_mp"
   ]
  },
  {
   "cell_type": "code",
   "execution_count": 5,
   "id": "24c16a60",
   "metadata": {},
   "outputs": [],
   "source": [
    "import matplotlib.pyplot as plt\n",
    "import seaborn as sns"
   ]
  },
  {
   "cell_type": "code",
   "execution_count": null,
   "id": "4112a363",
   "metadata": {},
   "outputs": [],
   "source": [
    "sns.barplot(x=feature_imp, y= feature_imp.index)\n",
    "plt.xlabel ('Feature Importance Score')\n",
    "plt.ylabel('Features')\n",
    "plt.title('Visualising Important Features')\n",
    "plt.show();"
   ]
  },
  {
   "cell_type": "code",
   "execution_count": null,
   "id": "c33f952c",
   "metadata": {},
   "outputs": [],
   "source": [
    "# select only certain classifiers\n",
    "from sklearn.feature_selection import SelectFromModel\n",
    "feat_sel = SelectFromModel(classifier, threshold = .1) # imp > .1\n",
    "feat_sel(.fit(X_train, y_train))  # retrain the model for better accuracny"
   ]
  },
  {
   "cell_type": "code",
   "execution_count": null,
   "id": "0592a9d9",
   "metadata": {},
   "outputs": [],
   "source": [
    "# save X values again\n",
    "X_imp_train = feat_sel.transform(X_train)\n",
    "X_imp_test  = feat_sel.transform(X_test)"
   ]
  },
  {
   "cell_type": "code",
   "execution_count": null,
   "id": "fb5e4b3f",
   "metadata": {},
   "outputs": [],
   "source": [
    "clf_imp = RandomForestClassifier(n_estimators =20, criterion ='gini', random_state=1, max_depth=7)\n",
    "clf_imp.fit(X_imp_train, y_train)"
   ]
  },
  {
   "cell_type": "code",
   "execution_count": null,
   "id": "0b9b31ae",
   "metadata": {},
   "outputs": [],
   "source": [
    "y_pred = classifier.predict(X_test)  #old model\n",
    "accuracy_Score(y_test, y_pred)"
   ]
  },
  {
   "cell_type": "code",
   "execution_count": null,
   "id": "ff00e69f",
   "metadata": {},
   "outputs": [],
   "source": [
    "y_imp_pred = clf_imp.predict(X_imp_test)\n",
    "accuracy_score(y_test, y_imp_pred)"
   ]
  },
  {
   "cell_type": "markdown",
   "id": "89e38d26",
   "metadata": {},
   "source": [
    "After the feature selection process, the accuracy score may decrease. But, we have picked successfully the important features at a small cost of accuracy.\n",
    "\n",
    "Also, automatic feature selection reduces the complexity of the model but does not necessarily increase the accuracy. In order to get the desired accuracy, we have to perform the feature selection process manually."
   ]
  }
 ],
 "metadata": {
  "kernelspec": {
   "display_name": "Python 3 (ipykernel)",
   "language": "python",
   "name": "python3"
  },
  "language_info": {
   "codemirror_mode": {
    "name": "ipython",
    "version": 3
   },
   "file_extension": ".py",
   "mimetype": "text/x-python",
   "name": "python",
   "nbconvert_exporter": "python",
   "pygments_lexer": "ipython3",
   "version": "3.9.13"
  }
 },
 "nbformat": 4,
 "nbformat_minor": 5
}
