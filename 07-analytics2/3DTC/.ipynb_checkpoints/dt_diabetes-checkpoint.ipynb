{
 "cells": [
  {
   "cell_type": "code",
   "execution_count": null,
   "id": "c63e94a8",
   "metadata": {},
   "outputs": [],
   "source": [
    "# Decision Tree"
   ]
  },
  {
   "cell_type": "code",
   "execution_count": null,
   "id": "7e442401",
   "metadata": {},
   "outputs": [],
   "source": [
    "#libraries\n",
    "import pandas as pd\n",
    "import numpy as np\n",
    "import matplotlib.pyplot as plt"
   ]
  },
  {
   "cell_type": "code",
   "execution_count": 6,
   "id": "ef31c059",
   "metadata": {},
   "outputs": [
    {
     "data": {
      "text/plain": [
       "(768, 9)"
      ]
     },
     "execution_count": 6,
     "metadata": {},
     "output_type": "execute_result"
    }
   ],
   "source": [
    "linkData ='https://raw.githubusercontent.com/DUanalytics/datasets/master/pima-indians-diabetes.csv'\n",
    "df = pd.read_csv(linkData)\n",
    "df.shape"
   ]
  },
  {
   "cell_type": "code",
   "execution_count": 5,
   "id": "1c8e4e2b",
   "metadata": {},
   "outputs": [
    {
     "data": {
      "text/html": [
       "<div>\n",
       "<style scoped>\n",
       "    .dataframe tbody tr th:only-of-type {\n",
       "        vertical-align: middle;\n",
       "    }\n",
       "\n",
       "    .dataframe tbody tr th {\n",
       "        vertical-align: top;\n",
       "    }\n",
       "\n",
       "    .dataframe thead th {\n",
       "        text-align: right;\n",
       "    }\n",
       "</style>\n",
       "<table border=\"1\" class=\"dataframe\">\n",
       "  <thead>\n",
       "    <tr style=\"text-align: right;\">\n",
       "      <th></th>\n",
       "      <th>Pregnancies</th>\n",
       "      <th>Glucose</th>\n",
       "      <th>BloodPressure</th>\n",
       "      <th>SkinThickness</th>\n",
       "      <th>Insulin</th>\n",
       "      <th>BMI</th>\n",
       "      <th>DiabetesPedigreeFunction</th>\n",
       "      <th>Age</th>\n",
       "      <th>Outcome</th>\n",
       "    </tr>\n",
       "  </thead>\n",
       "  <tbody>\n",
       "    <tr>\n",
       "      <th>0</th>\n",
       "      <td>6</td>\n",
       "      <td>148</td>\n",
       "      <td>72</td>\n",
       "      <td>35</td>\n",
       "      <td>0</td>\n",
       "      <td>33.6</td>\n",
       "      <td>0.627</td>\n",
       "      <td>50</td>\n",
       "      <td>1</td>\n",
       "    </tr>\n",
       "    <tr>\n",
       "      <th>1</th>\n",
       "      <td>1</td>\n",
       "      <td>85</td>\n",
       "      <td>66</td>\n",
       "      <td>29</td>\n",
       "      <td>0</td>\n",
       "      <td>26.6</td>\n",
       "      <td>0.351</td>\n",
       "      <td>31</td>\n",
       "      <td>0</td>\n",
       "    </tr>\n",
       "    <tr>\n",
       "      <th>2</th>\n",
       "      <td>8</td>\n",
       "      <td>183</td>\n",
       "      <td>64</td>\n",
       "      <td>0</td>\n",
       "      <td>0</td>\n",
       "      <td>23.3</td>\n",
       "      <td>0.672</td>\n",
       "      <td>32</td>\n",
       "      <td>1</td>\n",
       "    </tr>\n",
       "    <tr>\n",
       "      <th>3</th>\n",
       "      <td>1</td>\n",
       "      <td>89</td>\n",
       "      <td>66</td>\n",
       "      <td>23</td>\n",
       "      <td>94</td>\n",
       "      <td>28.1</td>\n",
       "      <td>0.167</td>\n",
       "      <td>21</td>\n",
       "      <td>0</td>\n",
       "    </tr>\n",
       "    <tr>\n",
       "      <th>4</th>\n",
       "      <td>0</td>\n",
       "      <td>137</td>\n",
       "      <td>40</td>\n",
       "      <td>35</td>\n",
       "      <td>168</td>\n",
       "      <td>43.1</td>\n",
       "      <td>2.288</td>\n",
       "      <td>33</td>\n",
       "      <td>1</td>\n",
       "    </tr>\n",
       "  </tbody>\n",
       "</table>\n",
       "</div>"
      ],
      "text/plain": [
       "   Pregnancies  Glucose  BloodPressure  SkinThickness  Insulin   BMI  \\\n",
       "0            6      148             72             35        0  33.6   \n",
       "1            1       85             66             29        0  26.6   \n",
       "2            8      183             64              0        0  23.3   \n",
       "3            1       89             66             23       94  28.1   \n",
       "4            0      137             40             35      168  43.1   \n",
       "\n",
       "   DiabetesPedigreeFunction  Age  Outcome  \n",
       "0                     0.627   50        1  \n",
       "1                     0.351   31        0  \n",
       "2                     0.672   32        1  \n",
       "3                     0.167   21        0  \n",
       "4                     2.288   33        1  "
      ]
     },
     "execution_count": 5,
     "metadata": {},
     "output_type": "execute_result"
    }
   ],
   "source": [
    "df.head()"
   ]
  },
  {
   "cell_type": "code",
   "execution_count": null,
   "id": "6ad9abe5",
   "metadata": {},
   "outputs": [],
   "source": [
    "col_names = ['pregnant', 'glucose', 'bp', 'skin', 'insulin', 'bmi', 'pedigree', 'age' , 'label']\n",
    "df.columns = col_names\n",
    "df.head()"
   ]
  },
  {
   "cell_type": "code",
   "execution_count": null,
   "id": "1c06e6ea",
   "metadata": {},
   "outputs": [],
   "source": [
    "# feature columns and target columns\n",
    "feature_columns = ['pregnant', 'glucose', 'bp', 'skin', 'insulin', 'bmi', 'pedigree', 'age' ]\n",
    "X = df[feature_columns]\n",
    "y = df.label\n",
    "X, y"
   ]
  },
  {
   "cell_type": "code",
   "execution_count": null,
   "id": "dd1c0965",
   "metadata": {},
   "outputs": [],
   "source": [
    "# Split data into train and test\n",
    "from sklearn.model_selection import train_test_split"
   ]
  },
  {
   "cell_type": "code",
   "execution_count": null,
   "id": "a376acc1",
   "metadata": {},
   "outputs": [],
   "source": [
    "X_train, X_test, y_train, y_test = train_test_split(X, y, test_size =.3, random_state=1)\n",
    "# 70% to training the model"
   ]
  },
  {
   "cell_type": "code",
   "execution_count": null,
   "id": "e1e569d1",
   "metadata": {},
   "outputs": [],
   "source": [
    "print(X_train)\n",
    "print(X_test)\n",
    "print(X_train.shape, X_test.shape)"
   ]
  },
  {
   "cell_type": "code",
   "execution_count": null,
   "id": "35e3eb04",
   "metadata": {},
   "outputs": [],
   "source": [
    "# Model\n",
    "from sklearn.tree import DecisionTreeClassifier"
   ]
  },
  {
   "cell_type": "code",
   "execution_count": null,
   "id": "97cd6f98",
   "metadata": {},
   "outputs": [],
   "source": [
    "#clf = DecisionTreeClassifier()\n",
    "clf1 = DecisionTreeClassifier(max_depth=5)\n",
    "clf1 = clf1.fit(X_train, y_train)\n",
    "print(clf1)"
   ]
  },
  {
   "cell_type": "code",
   "execution_count": null,
   "id": "12defbdc",
   "metadata": {},
   "outputs": [],
   "source": [
    "y_pred1 = clf1.predict(X_test)\n",
    "print(y_pred1)"
   ]
  },
  {
   "cell_type": "code",
   "execution_count": null,
   "id": "8c7eb882",
   "metadata": {},
   "outputs": [],
   "source": [
    "# Accuracy/ Evaluate\n",
    "from sklearn import metrics"
   ]
  },
  {
   "cell_type": "code",
   "execution_count": null,
   "id": "24b4c9b2",
   "metadata": {},
   "outputs": [],
   "source": [
    "print( 'Accuracy-1', metrics.accuracy_score(y_test, y_pred1))\n",
    "#above .5 can be considered good"
   ]
  },
  {
   "cell_type": "code",
   "execution_count": null,
   "id": "6a46349f",
   "metadata": {},
   "outputs": [],
   "source": [
    "#install this libraries for visualisation\n",
    "#!pip install graphviz\n",
    "#!pip install pydotplus\n",
    "# install graphviz from http://www.graphviz.org/download/\n",
    "import os\n",
    "os.environ[\"PATH\"] += os.pathsep + r'E:\\analytics\\Graphviz\\bin'\n",
    "#os.environ[\"PATH\"] += os.pathsep + 'C:\\Program Files (x86)\\Graphviz2.38/bin/'"
   ]
  },
  {
   "cell_type": "code",
   "execution_count": null,
   "id": "9a386eef",
   "metadata": {},
   "outputs": [],
   "source": [
    "#Visualise\n",
    "from sklearn.tree import export_graphviz\n",
    "#from sklearn.externals.six import StringIO\n",
    "from six import StringIO\n",
    "from IPython.display import Image\n",
    "import pydotplus"
   ]
  },
  {
   "cell_type": "code",
   "execution_count": null,
   "id": "524b7bf9",
   "metadata": {},
   "outputs": [],
   "source": [
    "dot_data1 = StringIO()\n",
    "export_graphviz(clf1, out_file=dot_data1, filled=True, rounded=True, \n",
    "                special_characters=True, feature_names = feature_columns, \n",
    "                class_names = ['0','1'])\n",
    "graph1 = pydotplus.graph_from_dot_data(dot_data1.getvalue())\n",
    "graph1.write_png('diabetes1.png')\n",
    "Image(graph1.create_png())"
   ]
  },
  {
   "cell_type": "code",
   "execution_count": null,
   "id": "5034de61",
   "metadata": {},
   "outputs": [],
   "source": [
    "# optimising the tree : 2nd Model"
   ]
  },
  {
   "cell_type": "code",
   "execution_count": null,
   "id": "cc569b06",
   "metadata": {},
   "outputs": [],
   "source": [
    "clf2 = DecisionTreeClassifier(criterion = 'entropy', max_depth=2)\n",
    "clf2 = clf2.fit(X_train, y_train)\n",
    "print(clf2)"
   ]
  },
  {
   "cell_type": "code",
   "execution_count": null,
   "id": "82275118",
   "metadata": {},
   "outputs": [],
   "source": [
    "y_pred2 = clf2.predict(X_test)\n",
    "print( 'Accuracy-2', metrics.accuracy_score(y_test, y_pred2))\n",
    "# .75"
   ]
  },
  {
   "cell_type": "code",
   "execution_count": null,
   "id": "54b939d3",
   "metadata": {},
   "outputs": [],
   "source": [
    "metrics.accuracy_score(y_test, y_pred1) < metrics.accuracy_score(y_test, y_pred2)\n",
    "#2nd model is better if True"
   ]
  },
  {
   "cell_type": "code",
   "execution_count": null,
   "id": "1733b81c",
   "metadata": {},
   "outputs": [],
   "source": [
    "dot_data2 = StringIO()\n",
    "export_graphviz(clf2, out_file=dot_data2, filled=True, rounded=True, \n",
    "                special_characters=True, feature_names = feature_columns, \n",
    "                class_names = ['0','1'])\n",
    "graph2 = pydotplus.graph_from_dot_data(dot_data2.getvalue())\n",
    "graph2.write_png('diabetes2.png')\n",
    "Image(graph2.create_png())"
   ]
  },
  {
   "cell_type": "markdown",
   "id": "d582d909",
   "metadata": {},
   "source": [
    "## Interpretation\n",
    "Pros\n",
    "DT are easy to interpret\n",
    "Requires fewer data pre-processing  (no need to normalise)\n",
    "Can be used for feature engineering (predicting missing values, variable selection)\n",
    "No assumption about distribution becoz of non-parametric nature of algo\n",
    "\n",
    "Cons\n",
    "Sensitive to noisy data. can overfit noisy data\n",
    "Small variations can result in different DT. Can be reduced by bagging & boosting \n",
    "DT are biased with imbalanced dataset. (so balance the dataset)\n"
   ]
  },
  {
   "cell_type": "code",
   "execution_count": null,
   "id": "2a3ea5f1",
   "metadata": {},
   "outputs": [],
   "source": [
    "\n"
   ]
  }
 ],
 "metadata": {
  "kernelspec": {
   "display_name": "Python 3 (ipykernel)",
   "language": "python",
   "name": "python3"
  },
  "language_info": {
   "codemirror_mode": {
    "name": "ipython",
    "version": 3
   },
   "file_extension": ".py",
   "mimetype": "text/x-python",
   "name": "python",
   "nbconvert_exporter": "python",
   "pygments_lexer": "ipython3",
   "version": "3.9.13"
  }
 },
 "nbformat": 4,
 "nbformat_minor": 5
}
