{
 "cells": [
  {
   "cell_type": "markdown",
   "id": "e9c90acf",
   "metadata": {},
   "source": [
    "# Blank / Template for DT"
   ]
  },
  {
   "cell_type": "markdown",
   "id": "037ede2f",
   "metadata": {},
   "source": [
    " ### libraries\n",
    " pandas\n",
    " sklearn.tree -> DecisionTreeClassifier\n",
    " sklearn.model.selection -> train_test_split\n",
    " sklearn -> metrics\n",
    " "
   ]
  },
  {
   "cell_type": "markdown",
   "id": "39a96eaa",
   "metadata": {},
   "source": [
    "### Steps\n",
    "Load Data\n",
    "Divide data into X (feature cols) & y (labels)\n",
    "Split data into train & split : X_train/y_train, X_test/y_test\n",
    "Model : clf = DecisionTreeClassifier(hyperparameters).fit(X_train, y_train)\n",
    "Predict : y_pred = clf.predict(X_test)\n",
    "Accuracy : metrics.accuracy_score(y_test, y_pred)"
   ]
  },
  {
   "cell_type": "markdown",
   "id": "a3159c3a",
   "metadata": {},
   "source": [
    "### Optimising/ Hyper parameters\n",
    "criterion = 'gini'\n",
    "splitter = 'best'\n",
    "max_depth = 3"
   ]
  },
  {
   "cell_type": "markdown",
   "id": "ad7f7f60",
   "metadata": {},
   "source": [
    "### libraries  - Visualise\n",
    "sklearn.tree -> export_graphviz\n",
    "sklearn.externals.siz -> StringIO\n",
    "Ipython.display -> Image\n",
    "pydotplus"
   ]
  },
  {
   "cell_type": "markdown",
   "id": "eb941d5d",
   "metadata": {},
   "source": [
    "#### Tree\n",
    "dot_data = StringIO()\n",
    "export_graphviz(clf)\n",
    "graph = pydotplus.graph_from_dot_data()\n",
    "graph.write('modelname.png')\n",
    "Image(graph.create_png())"
   ]
  }
 ],
 "metadata": {
  "kernelspec": {
   "display_name": "Python 3 (ipykernel)",
   "language": "python",
   "name": "python3"
  },
  "language_info": {
   "codemirror_mode": {
    "name": "ipython",
    "version": 3
   },
   "file_extension": ".py",
   "mimetype": "text/x-python",
   "name": "python",
   "nbconvert_exporter": "python",
   "pygments_lexer": "ipython3",
   "version": "3.9.13"
  }
 },
 "nbformat": 4,
 "nbformat_minor": 5
}
