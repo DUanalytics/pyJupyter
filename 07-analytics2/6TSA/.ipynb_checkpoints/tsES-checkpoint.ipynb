{
 "cells": [
  {
   "cell_type": "markdown",
   "id": "9aa048f7",
   "metadata": {},
   "source": [
    "### Exponential Smoothening\n",
    "- https://morioh.com/p/0aa3e75ff555\n",
    "- https://pandas.pydata.org/docs/reference/api/pandas.DataFrame.ewm.html\n",
    "- DataFrame.ewm(com=None, span=None, halflife=None, alpha=None, min_periods=0, adjust=True, ignore_na=False, axis=0, times=None, method='single')[source]\n",
    "- https://www.statsmodels.org/dev/examples/notebooks/generated/exponential_smoothing.html\n",
    "- F = a * A + (1-a)* B  : F- forecast, A - Actual Sales, B - Forecast Sales from Previous Period; smoothening constant (0.0 - 1.0)"
   ]
  },
  {
   "cell_type": "code",
   "execution_count": 5,
   "id": "03261ab0",
   "metadata": {},
   "outputs": [],
   "source": [
    "from datetime import datetime\n",
    "import numpy as np\n",
    "import pandas as pd\n",
    "import matplotlib.pyplot as plt\n",
    "import yfinance as yf\n",
    "import pandas_ta as ta\n",
    "import datetime as dt\n",
    "from statsmodels.tsa.api import ExponentialSmoothing, SimpleExpSmoothing, Holt\n",
    "\n",
    "#import talib"
   ]
  },
  {
   "cell_type": "code",
   "execution_count": 6,
   "id": "a24d343a",
   "metadata": {},
   "outputs": [
    {
     "data": {
      "text/html": [
       "<div>\n",
       "<style scoped>\n",
       "    .dataframe tbody tr th:only-of-type {\n",
       "        vertical-align: middle;\n",
       "    }\n",
       "\n",
       "    .dataframe tbody tr th {\n",
       "        vertical-align: top;\n",
       "    }\n",
       "\n",
       "    .dataframe thead th {\n",
       "        text-align: right;\n",
       "    }\n",
       "</style>\n",
       "<table border=\"1\" class=\"dataframe\">\n",
       "  <thead>\n",
       "    <tr style=\"text-align: right;\">\n",
       "      <th></th>\n",
       "      <th>year</th>\n",
       "      <th>sales</th>\n",
       "    </tr>\n",
       "  </thead>\n",
       "  <tbody>\n",
       "    <tr>\n",
       "      <th>0</th>\n",
       "      <td>2010</td>\n",
       "      <td>77</td>\n",
       "    </tr>\n",
       "    <tr>\n",
       "      <th>1</th>\n",
       "      <td>2011</td>\n",
       "      <td>78</td>\n",
       "    </tr>\n",
       "    <tr>\n",
       "      <th>2</th>\n",
       "      <td>2012</td>\n",
       "      <td>70</td>\n",
       "    </tr>\n",
       "    <tr>\n",
       "      <th>3</th>\n",
       "      <td>2013</td>\n",
       "      <td>63</td>\n",
       "    </tr>\n",
       "    <tr>\n",
       "      <th>4</th>\n",
       "      <td>2014</td>\n",
       "      <td>65</td>\n",
       "    </tr>\n",
       "    <tr>\n",
       "      <th>5</th>\n",
       "      <td>2015</td>\n",
       "      <td>71</td>\n",
       "    </tr>\n",
       "    <tr>\n",
       "      <th>6</th>\n",
       "      <td>2016</td>\n",
       "      <td>81</td>\n",
       "    </tr>\n",
       "    <tr>\n",
       "      <th>7</th>\n",
       "      <td>2017</td>\n",
       "      <td>59</td>\n",
       "    </tr>\n",
       "    <tr>\n",
       "      <th>8</th>\n",
       "      <td>2019</td>\n",
       "      <td>91</td>\n",
       "    </tr>\n",
       "    <tr>\n",
       "      <th>9</th>\n",
       "      <td>2020</td>\n",
       "      <td>69</td>\n",
       "    </tr>\n",
       "    <tr>\n",
       "      <th>10</th>\n",
       "      <td>2021</td>\n",
       "      <td>68</td>\n",
       "    </tr>\n",
       "    <tr>\n",
       "      <th>11</th>\n",
       "      <td>2022</td>\n",
       "      <td>91</td>\n",
       "    </tr>\n",
       "  </tbody>\n",
       "</table>\n",
       "</div>"
      ],
      "text/plain": [
       "    year  sales\n",
       "0   2010     77\n",
       "1   2011     78\n",
       "2   2012     70\n",
       "3   2013     63\n",
       "4   2014     65\n",
       "5   2015     71\n",
       "6   2016     81\n",
       "7   2017     59\n",
       "8   2019     91\n",
       "9   2020     69\n",
       "10  2021     68\n",
       "11  2022     91"
      ]
     },
     "execution_count": 6,
     "metadata": {},
     "output_type": "execute_result"
    }
   ],
   "source": [
    "# simple explanation\n",
    "years = [2010,2011,2012, 2013,2014, 2015, 2016, 2017, 2019, 2020, 2021, 2022]\n",
    "sales = np.random.randint(50,100,12)\n",
    "salesData = pd.DataFrame({'year':years, 'sales':sales})\n",
    "salesData"
   ]
  },
  {
   "cell_type": "code",
   "execution_count": 7,
   "id": "4e45f735",
   "metadata": {},
   "outputs": [
    {
     "name": "stdout",
     "output_type": "stream",
     "text": [
      "[77 78 70 63 65 71 81 59 91 69 68 91]\n"
     ]
    }
   ],
   "source": [
    "print(sales)"
   ]
  },
  {
   "cell_type": "code",
   "execution_count": 23,
   "id": "0211e7d1",
   "metadata": {},
   "outputs": [
    {
     "data": {
      "text/plain": [
       "datetime.datetime(2023, 3, 18, 20, 41, 2, 937302)"
      ]
     },
     "execution_count": 23,
     "metadata": {},
     "output_type": "execute_result"
    }
   ],
   "source": [
    "dt.datetime.now()\n",
    "dt.datetime.strftime"
   ]
  },
  {
   "cell_type": "markdown",
   "id": "83af9d65",
   "metadata": {},
   "source": [
    "!pip install talib\n",
    "python3 -m pip install TA-Lib\n",
    "conda install -c conda-forge ta-lib"
   ]
  },
  {
   "cell_type": "code",
   "execution_count": 8,
   "id": "1bcea235",
   "metadata": {},
   "outputs": [],
   "source": [
    "np.set_printoptions(precision=2)\n",
    "pd.set_option(\"display.precision\", 1)\n",
    "pd.set_option('display.max_rows', 500)\n",
    "pd.set_option('display.max_columns', 500)\n",
    "pd.set_option('display.width', 1000)"
   ]
  },
  {
   "cell_type": "code",
   "execution_count": 9,
   "id": "2d2df47d",
   "metadata": {},
   "outputs": [
    {
     "name": "stdout",
     "output_type": "stream",
     "text": [
      "[1.0, 1.5, 2.25, 4.62, 6.81]\n"
     ]
    }
   ],
   "source": [
    "arr = [1, 2, 3, 7, 9]\n",
    "  \n",
    "# Convert array of integers to pandas series\n",
    "numbers_series = pd.Series(arr)\n",
    "  \n",
    "# Get the moving averages of series of observations till the current time\n",
    "moving_averages = round(numbers_series.ewm( alpha=0.5, adjust=False).mean(), 2)\n",
    "  \n",
    "# Convert pandas series back to list\n",
    "moving_averages_list = moving_averages.tolist()\n",
    "  \n",
    "print(moving_averages_list)"
   ]
  },
  {
   "cell_type": "code",
   "execution_count": 10,
   "id": "5d0928e8",
   "metadata": {},
   "outputs": [
    {
     "data": {
      "text/html": [
       "<div>\n",
       "<style scoped>\n",
       "    .dataframe tbody tr th:only-of-type {\n",
       "        vertical-align: middle;\n",
       "    }\n",
       "\n",
       "    .dataframe tbody tr th {\n",
       "        vertical-align: top;\n",
       "    }\n",
       "\n",
       "    .dataframe thead th {\n",
       "        text-align: right;\n",
       "    }\n",
       "</style>\n",
       "<table border=\"1\" class=\"dataframe\">\n",
       "  <thead>\n",
       "    <tr style=\"text-align: right;\">\n",
       "      <th></th>\n",
       "      <th>period</th>\n",
       "      <th>sales</th>\n",
       "    </tr>\n",
       "  </thead>\n",
       "  <tbody>\n",
       "    <tr>\n",
       "      <th>0</th>\n",
       "      <td>1</td>\n",
       "      <td>25</td>\n",
       "    </tr>\n",
       "    <tr>\n",
       "      <th>1</th>\n",
       "      <td>2</td>\n",
       "      <td>20</td>\n",
       "    </tr>\n",
       "    <tr>\n",
       "      <th>2</th>\n",
       "      <td>3</td>\n",
       "      <td>14</td>\n",
       "    </tr>\n",
       "    <tr>\n",
       "      <th>3</th>\n",
       "      <td>4</td>\n",
       "      <td>16</td>\n",
       "    </tr>\n",
       "    <tr>\n",
       "      <th>4</th>\n",
       "      <td>5</td>\n",
       "      <td>27</td>\n",
       "    </tr>\n",
       "    <tr>\n",
       "      <th>5</th>\n",
       "      <td>6</td>\n",
       "      <td>20</td>\n",
       "    </tr>\n",
       "    <tr>\n",
       "      <th>6</th>\n",
       "      <td>7</td>\n",
       "      <td>12</td>\n",
       "    </tr>\n",
       "    <tr>\n",
       "      <th>7</th>\n",
       "      <td>8</td>\n",
       "      <td>15</td>\n",
       "    </tr>\n",
       "    <tr>\n",
       "      <th>8</th>\n",
       "      <td>9</td>\n",
       "      <td>14</td>\n",
       "    </tr>\n",
       "    <tr>\n",
       "      <th>9</th>\n",
       "      <td>10</td>\n",
       "      <td>19</td>\n",
       "    </tr>\n",
       "  </tbody>\n",
       "</table>\n",
       "</div>"
      ],
      "text/plain": [
       "   period  sales\n",
       "0       1     25\n",
       "1       2     20\n",
       "2       3     14\n",
       "3       4     16\n",
       "4       5     27\n",
       "5       6     20\n",
       "6       7     12\n",
       "7       8     15\n",
       "8       9     14\n",
       "9      10     19"
      ]
     },
     "execution_count": 10,
     "metadata": {},
     "output_type": "execute_result"
    }
   ],
   "source": [
    "#pandas\n",
    "#create DataFrame\n",
    "df = pd.DataFrame({'period': [1, 2, 3, 4, 5, 6, 7, 8, 9, 10],  'sales': [25, 20, 14, 16, 27, 20, 12, 15, 14, 19]})\n",
    "\n",
    "#view DataFrame \n",
    "df"
   ]
  },
  {
   "cell_type": "code",
   "execution_count": 11,
   "id": "28a6716c",
   "metadata": {},
   "outputs": [],
   "source": [
    "#create new column to hold 4-day exponentially weighted moving average\n",
    "df['4dayEWM'] = df['sales'].ewm(span=4, adjust=False).mean()"
   ]
  },
  {
   "cell_type": "code",
   "execution_count": 12,
   "id": "e0d9e4db",
   "metadata": {},
   "outputs": [
    {
     "data": {
      "text/html": [
       "<div>\n",
       "<style scoped>\n",
       "    .dataframe tbody tr th:only-of-type {\n",
       "        vertical-align: middle;\n",
       "    }\n",
       "\n",
       "    .dataframe tbody tr th {\n",
       "        vertical-align: top;\n",
       "    }\n",
       "\n",
       "    .dataframe thead th {\n",
       "        text-align: right;\n",
       "    }\n",
       "</style>\n",
       "<table border=\"1\" class=\"dataframe\">\n",
       "  <thead>\n",
       "    <tr style=\"text-align: right;\">\n",
       "      <th></th>\n",
       "      <th>period</th>\n",
       "      <th>sales</th>\n",
       "      <th>4dayEWM</th>\n",
       "    </tr>\n",
       "  </thead>\n",
       "  <tbody>\n",
       "    <tr>\n",
       "      <th>0</th>\n",
       "      <td>1</td>\n",
       "      <td>25</td>\n",
       "      <td>25.0</td>\n",
       "    </tr>\n",
       "    <tr>\n",
       "      <th>1</th>\n",
       "      <td>2</td>\n",
       "      <td>20</td>\n",
       "      <td>23.0</td>\n",
       "    </tr>\n",
       "    <tr>\n",
       "      <th>2</th>\n",
       "      <td>3</td>\n",
       "      <td>14</td>\n",
       "      <td>19.4</td>\n",
       "    </tr>\n",
       "    <tr>\n",
       "      <th>3</th>\n",
       "      <td>4</td>\n",
       "      <td>16</td>\n",
       "      <td>18.0</td>\n",
       "    </tr>\n",
       "    <tr>\n",
       "      <th>4</th>\n",
       "      <td>5</td>\n",
       "      <td>27</td>\n",
       "      <td>21.6</td>\n",
       "    </tr>\n",
       "    <tr>\n",
       "      <th>5</th>\n",
       "      <td>6</td>\n",
       "      <td>20</td>\n",
       "      <td>21.0</td>\n",
       "    </tr>\n",
       "    <tr>\n",
       "      <th>6</th>\n",
       "      <td>7</td>\n",
       "      <td>12</td>\n",
       "      <td>17.4</td>\n",
       "    </tr>\n",
       "    <tr>\n",
       "      <th>7</th>\n",
       "      <td>8</td>\n",
       "      <td>15</td>\n",
       "      <td>16.4</td>\n",
       "    </tr>\n",
       "    <tr>\n",
       "      <th>8</th>\n",
       "      <td>9</td>\n",
       "      <td>14</td>\n",
       "      <td>15.5</td>\n",
       "    </tr>\n",
       "    <tr>\n",
       "      <th>9</th>\n",
       "      <td>10</td>\n",
       "      <td>19</td>\n",
       "      <td>16.9</td>\n",
       "    </tr>\n",
       "  </tbody>\n",
       "</table>\n",
       "</div>"
      ],
      "text/plain": [
       "   period  sales  4dayEWM\n",
       "0       1     25     25.0\n",
       "1       2     20     23.0\n",
       "2       3     14     19.4\n",
       "3       4     16     18.0\n",
       "4       5     27     21.6\n",
       "5       6     20     21.0\n",
       "6       7     12     17.4\n",
       "7       8     15     16.4\n",
       "8       9     14     15.5\n",
       "9      10     19     16.9"
      ]
     },
     "execution_count": 12,
     "metadata": {},
     "output_type": "execute_result"
    }
   ],
   "source": [
    "df"
   ]
  },
  {
   "cell_type": "code",
   "execution_count": 13,
   "id": "aa84c7d6",
   "metadata": {},
   "outputs": [
    {
     "data": {
      "image/png": "[encoded data removed]",
      "text/plain": [
       "<Figure size 640x480 with 1 Axes>"
      ]
     },
     "metadata": {},
     "output_type": "display_data"
    }
   ],
   "source": [
    "#plot sales and 4-day exponentially weighted moving average \n",
    "plt.plot(df['sales'], label='Sales')\n",
    "plt.plot(df['4dayEWM'], label='4-day EWM')\n",
    "#add legend to plot\n",
    "plt.legend(loc=2)\n",
    "plt.show()"
   ]
  },
  {
   "cell_type": "code",
   "execution_count": 20,
   "id": "48d1e95d",
   "metadata": {},
   "outputs": [],
   "source": [
    "#eg2\n",
    "df = pd.DataFrame({\n",
    "    'Trader': 'Carl Mark Carl Joe Mark Carl Max Max'.split(),\n",
    "    'Quantity': [5, 2, 5, 10, 1, 5, 2, 1],\n",
    "    'Date': [\n",
    "        dt.datetime(2013, 1, 1, 13, 0),\n",
    "        dt.datetime(2013, 1, 1, 13, 5),\n",
    "        dt.datetime(2013, 2, 5, 20, 0),\n",
    "        dt.datetime(2013, 2, 6, 10, 0),\n",
    "        dt.datetime(2013, 2, 8, 12, 0),\n",
    "        dt.datetime(2013, 3, 7, 14, 0),\n",
    "        dt.datetime(2013, 6, 4, 14, 0),\n",
    "        dt.datetime(2013, 7, 4, 14, 0),\n",
    "        ]})\n",
    "\n",
    "df.index = [df.Date, df.Trader]\n",
    "#df2 = df.unstack('Trader').resample('1W').fillna(0)\n",
    "#print(df2.ewm(span=7).mean())"
   ]
  },
  {
   "cell_type": "code",
   "execution_count": null,
   "id": "eefa4b3f",
   "metadata": {},
   "outputs": [],
   "source": [
    "df3 = df2.ewm(span=7).mean()\n",
    "df3.columns = pd.MultiIndex.from_tuples([('EWMA', item[1]) for item in df3.columns])\n",
    "df2 = pd.concat([df2, df3], axis=1) \n",
    "\n",
    "print(df2)"
   ]
  }
 ],
 "metadata": {
  "kernelspec": {
   "display_name": "Python 3 (ipykernel)",
   "language": "python",
   "name": "python3"
  },
  "language_info": {
   "codemirror_mode": {
    "name": "ipython",
    "version": 3
   },
   "file_extension": ".py",
   "mimetype": "text/x-python",
   "name": "python",
   "nbconvert_exporter": "python",
   "pygments_lexer": "ipython3",
   "version": "3.9.13"
  }
 },
 "nbformat": 4,
 "nbformat_minor": 5
}
