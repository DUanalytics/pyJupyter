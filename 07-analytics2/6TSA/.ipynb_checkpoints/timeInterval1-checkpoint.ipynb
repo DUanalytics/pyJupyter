{
 "cells": [
  {
   "cell_type": "code",
   "execution_count": null,
   "id": "1279bfcf",
   "metadata": {},
   "outputs": [],
   "source": [
    "# Interval"
   ]
  },
  {
   "cell_type": "code",
   "execution_count": null,
   "id": "82379f97",
   "metadata": {},
   "outputs": [],
   "source": []
  },
  {
   "cell_type": "code",
   "execution_count": 12,
   "id": "59bd1043",
   "metadata": {},
   "outputs": [],
   "source": [
    "import datetime as dt\n",
    "from typing import NamedTuple\n",
    "import pandas as pd"
   ]
  },
  {
   "cell_type": "code",
   "execution_count": 2,
   "id": "f7f40e72",
   "metadata": {},
   "outputs": [],
   "source": [
    "class Range(NamedTuple):\n",
    "    start: datetime\n",
    "    end: datetime"
   ]
  },
  {
   "cell_type": "code",
   "execution_count": 14,
   "id": "a38f46c0",
   "metadata": {},
   "outputs": [
    {
     "data": {
      "text/plain": [
       "0"
      ]
     },
     "execution_count": 14,
     "metadata": {},
     "output_type": "execute_result"
    }
   ],
   "source": [
    "r1 = Range(start=dt.datetime(2018, 11, 1), end=dt.datetime(2021, 3, 14))\n",
    "r2 = Range(start=dt.datetime(2021, 7, 1), end=dt.datetime(2022, 6, 30))\n",
    "latest_start = max(r1.start, r2.start)\n",
    "earliest_end = min(r1.end, r2.end)\n",
    "delta = (earliest_end - latest_start).days + 1\n",
    "overlap = max(0, delta)\n",
    "overlap"
   ]
  },
  {
   "cell_type": "code",
   "execution_count": 9,
   "id": "8e967dbc",
   "metadata": {},
   "outputs": [
    {
     "name": "stdout",
     "output_type": "stream",
     "text": [
      "(0, 2] (1, 3]\n"
     ]
    }
   ],
   "source": [
    "i1 = pd.Interval(0, 2)\n",
    "i2 = pd.Interval(1, 3)\n",
    "print(i1, i2)"
   ]
  },
  {
   "cell_type": "code",
   "execution_count": 10,
   "id": "2ae63728",
   "metadata": {},
   "outputs": [
    {
     "data": {
      "text/plain": [
       "True"
      ]
     },
     "execution_count": 10,
     "metadata": {},
     "output_type": "execute_result"
    }
   ],
   "source": [
    "i1.overlaps(i2)"
   ]
  },
  {
   "cell_type": "code",
   "execution_count": 11,
   "id": "2b9e42a8",
   "metadata": {},
   "outputs": [
    {
     "data": {
      "text/plain": [
       "False"
      ]
     },
     "execution_count": 11,
     "metadata": {},
     "output_type": "execute_result"
    }
   ],
   "source": [
    "i3 = pd.Interval(4, 5)\n",
    "i1.overlaps(i3)"
   ]
  },
  {
   "cell_type": "code",
   "execution_count": 22,
   "id": "0cb53768",
   "metadata": {},
   "outputs": [
    {
     "name": "stdout",
     "output_type": "stream",
     "text": [
      "1541010600.0 1678732200.0 1625077800.0 1656527400.0\n"
     ]
    }
   ],
   "source": [
    "DOJ = dt.datetime(2018, 11, 1).timestamp()\n",
    "DOL = dt.datetime(2023, 3, 14).timestamp()\n",
    "DS = dt.datetime(2021, 7, 1).timestamp()\n",
    "DE = dt.datetime(2022, 6, 30).timestamp()\n",
    "print(DOJ, DOL, DS, DE)\n",
    "#dt.datetime.timestamp(DOJ)"
   ]
  },
  {
   "cell_type": "code",
   "execution_count": 23,
   "id": "a9cf165c",
   "metadata": {},
   "outputs": [
    {
     "name": "stdout",
     "output_type": "stream",
     "text": [
      "(1541010600.0, 1678732200.0] (1625077800.0, 1656527400.0]\n"
     ]
    }
   ],
   "source": [
    "i1 = pd.Interval(DOJ, DOL)\n",
    "i2 = pd.Interval(DS, DE)\n",
    "print(i1, i2)"
   ]
  },
  {
   "cell_type": "code",
   "execution_count": 24,
   "id": "d6f6d0e0",
   "metadata": {},
   "outputs": [
    {
     "data": {
      "text/plain": [
       "True"
      ]
     },
     "execution_count": 24,
     "metadata": {},
     "output_type": "execute_result"
    }
   ],
   "source": [
    "i1.overlaps(i2)"
   ]
  },
  {
   "cell_type": "code",
   "execution_count": null,
   "id": "e5d4a15b",
   "metadata": {},
   "outputs": [],
   "source": []
  }
 ],
 "metadata": {
  "kernelspec": {
   "display_name": "Python 3 (ipykernel)",
   "language": "python",
   "name": "python3"
  },
  "language_info": {
   "codemirror_mode": {
    "name": "ipython",
    "version": 3
   },
   "file_extension": ".py",
   "mimetype": "text/x-python",
   "name": "python",
   "nbconvert_exporter": "python",
   "pygments_lexer": "ipython3",
   "version": "3.9.15"
  }
 },
 "nbformat": 4,
 "nbformat_minor": 5
}
