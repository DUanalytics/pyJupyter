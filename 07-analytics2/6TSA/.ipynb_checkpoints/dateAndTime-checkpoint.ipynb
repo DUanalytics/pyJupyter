{
 "cells": [
  {
   "cell_type": "code",
   "execution_count": null,
   "id": "0854a164",
   "metadata": {},
   "outputs": [],
   "source": [
    "# Dates and Time in Python"
   ]
  },
  {
   "cell_type": "code",
   "execution_count": null,
   "id": "3b1d5f35",
   "metadata": {},
   "outputs": [],
   "source": []
  },
  {
   "cell_type": "code",
   "execution_count": 2,
   "id": "f29e904a",
   "metadata": {},
   "outputs": [],
   "source": [
    "import pandas as pd\n",
    "import datetime as dt\n",
    "import random\n",
    "import numpy as np"
   ]
  },
  {
   "cell_type": "code",
   "execution_count": 3,
   "id": "014c621c",
   "metadata": {},
   "outputs": [
    {
     "data": {
      "text/plain": [
       "0"
      ]
     },
     "execution_count": 3,
     "metadata": {},
     "output_type": "execute_result"
    }
   ],
   "source": [
    "#random numbers\n",
    "random.randrange(5)"
   ]
  },
  {
   "cell_type": "code",
   "execution_count": 4,
   "id": "ab2c3ae5",
   "metadata": {},
   "outputs": [
    {
     "data": {
      "text/plain": [
       "7"
      ]
     },
     "execution_count": 4,
     "metadata": {},
     "output_type": "execute_result"
    }
   ],
   "source": [
    "random.randrange(1,10)"
   ]
  },
  {
   "cell_type": "code",
   "execution_count": 5,
   "id": "d0ab7f6e",
   "metadata": {},
   "outputs": [
    {
     "data": {
      "text/plain": [
       "95"
      ]
     },
     "execution_count": 5,
     "metadata": {},
     "output_type": "execute_result"
    }
   ],
   "source": [
    "random.randrange(50,100,3)"
   ]
  },
  {
   "cell_type": "code",
   "execution_count": 8,
   "id": "542e37f3",
   "metadata": {},
   "outputs": [
    {
     "data": {
      "text/plain": [
       "[Timestamp('2023-03-19 17:58:25.940428', freq='D'),\n",
       " Timestamp('2023-03-20 17:58:25.940428', freq='D'),\n",
       " Timestamp('2023-03-21 17:58:25.940428', freq='D'),\n",
       " Timestamp('2023-03-22 17:58:25.940428', freq='D')]"
      ]
     },
     "execution_count": 8,
     "metadata": {},
     "output_type": "execute_result"
    }
   ],
   "source": [
    "#pandas - pd.date_range with periods\n",
    "datelist = pd.date_range(dt.datetime.today(), periods=100).tolist()\n",
    "datelist[1:5]"
   ]
  },
  {
   "cell_type": "code",
   "execution_count": 12,
   "id": "d201f739",
   "metadata": {},
   "outputs": [
    {
     "name": "stdout",
     "output_type": "stream",
     "text": [
      "2023-01-01  and  2023-03-31 :date difference: 89 days, 0:00:00\n"
     ]
    }
   ],
   "source": [
    "start_dt = dt.date(2023, 1, 1)  #from datetime library\n",
    "end_dt = dt.date(2023, 3, 31)\n",
    "time_between_dates = end_dt - start_dt\n",
    "print(start_dt, ' and ', end_dt, ':date difference:' ,time_between_dates)"
   ]
  },
  {
   "cell_type": "code",
   "execution_count": 18,
   "id": "cdb3f172",
   "metadata": {},
   "outputs": [
    {
     "name": "stdout",
     "output_type": "stream",
     "text": [
      "Days : 89  Month :  3.0\n"
     ]
    }
   ],
   "source": [
    "print('Days :', time_between_dates.days,' Month : ', np.around(time_between_dates.days/30))"
   ]
  },
  {
   "cell_type": "code",
   "execution_count": 20,
   "id": "b20c6770",
   "metadata": {},
   "outputs": [
    {
     "name": "stdout",
     "output_type": "stream",
     "text": [
      "4 after 2023-01-01  is \t 2023-01-05\n"
     ]
    }
   ],
   "source": [
    "#timedelta\n",
    "random_number_of_days = random.randrange(days_between_dates)\n",
    "random_date = start_dt + dt.timedelta(days=random_number_of_days)\n",
    "print(random_number_of_days, 'after', start_dt, ' is \\t', random_date)"
   ]
  },
  {
   "cell_type": "code",
   "execution_count": 21,
   "id": "2bbee972",
   "metadata": {},
   "outputs": [
    {
     "data": {
      "text/plain": [
       "[Timestamp('2023-03-19 17:58:25.940428', freq='D'),\n",
       " Timestamp('2023-03-20 17:58:25.940428', freq='D'),\n",
       " Timestamp('2023-03-21 17:58:25.940428', freq='D'),\n",
       " Timestamp('2023-03-22 17:58:25.940428', freq='D')]"
      ]
     },
     "execution_count": 21,
     "metadata": {},
     "output_type": "execute_result"
    }
   ],
   "source": [
    "datelist[1:5]"
   ]
  },
  {
   "cell_type": "code",
   "execution_count": 28,
   "id": "246e6967",
   "metadata": {},
   "outputs": [
    {
     "name": "stdout",
     "output_type": "stream",
     "text": [
      " 5 dates in the range with daily freq by default \n",
      "  DatetimeIndex(['2023-03-02', '2023-03-03', '2023-03-04', '2023-03-05'], dtype='datetime64[ns]', freq='D')  \n",
      " Length  32\n"
     ]
    }
   ],
   "source": [
    "#pandas - pd.date_range with start and end\n",
    "pdr1 = pd.date_range(start=\"2023-03-01\", end=\"2023-04-01\")\n",
    "print(' 5 dates in the range with daily freq by default \\n ', pdr1[1:5], ' \\n Length ', len(pdr1))"
   ]
  },
  {
   "cell_type": "code",
   "execution_count": 37,
   "id": "796e0724",
   "metadata": {},
   "outputs": [
    {
     "name": "stdout",
     "output_type": "stream",
     "text": [
      "Start -  2023-03-18 00:00:00  : End :  2023-05-30 00:00:00\n",
      "Find Difference between the start and end and create dates (5 only listed here range(0, 73) 73\n"
     ]
    }
   ],
   "source": [
    "# String to Date : str p time\n",
    "start = dt.datetime.strptime(\"18-03-2023\", \"%d-%m-%Y\")\n",
    "end = dt.datetime.strptime(\"30-05-2023\", \"%d-%m-%Y\")\n",
    "print('Start - ', start, ' : End : ', end)\n",
    "date_generated = [start + dt.timedelta(days=x) for x in range(0, (end-start).days)]\n",
    "print('Find Difference between the start and end and create dates (5 only listed here', range(0, (end - start).days), len(date_generated))"
   ]
  },
  {
   "cell_type": "code",
   "execution_count": 35,
   "id": "0ba183b9",
   "metadata": {},
   "outputs": [
    {
     "data": {
      "text/plain": [
       "[datetime.datetime(2023, 3, 19, 0, 0),\n",
       " datetime.datetime(2023, 3, 20, 0, 0),\n",
       " datetime.datetime(2023, 3, 21, 0, 0),\n",
       " datetime.datetime(2023, 3, 22, 0, 0)]"
      ]
     },
     "execution_count": 35,
     "metadata": {},
     "output_type": "execute_result"
    }
   ],
   "source": [
    "date_generated[1:5]"
   ]
  },
  {
   "cell_type": "markdown",
   "id": "8790e9a0",
   "metadata": {},
   "source": [
    "### learn more techniques to generate dates"
   ]
  },
  {
   "cell_type": "code",
   "execution_count": 13,
   "id": "fe205257",
   "metadata": {},
   "outputs": [
    {
     "name": "stdout",
     "output_type": "stream",
     "text": [
      "[datetime.datetime(2023, 3, 15, 9, 59, 4, 359198), datetime.datetime(2023, 3, 14, 9, 59, 4, 359198), datetime.datetime(2023, 3, 13, 9, 59, 4, 359198)]\n"
     ]
    }
   ],
   "source": [
    "import itertools\n",
    "#dates = itertools.islice(date_generator(), 3)\n",
    "date_generator = (dt.datetime.today() - dt.timedelta(days=i) for i in itertools.count())\n",
    "date_generator\n",
    "dates = itertools.islice(date_generator, 3)\n",
    "print(list(dates))"
   ]
  },
  {
   "cell_type": "code",
   "execution_count": 14,
   "id": "036a342d",
   "metadata": {},
   "outputs": [
    {
     "data": {
      "text/plain": [
       "[datetime.datetime(2023, 3, 16, 9, 59, 4),\n",
       " datetime.datetime(2023, 3, 17, 9, 59, 4),\n",
       " datetime.datetime(2023, 3, 18, 9, 59, 4),\n",
       " datetime.datetime(2023, 3, 19, 9, 59, 4)]"
      ]
     },
     "execution_count": 14,
     "metadata": {},
     "output_type": "execute_result"
    }
   ],
   "source": [
    "from dateutil import rrule\n",
    "from datetime import datetime\n",
    "list(rrule.rrule(rrule.DAILY,count=100,dtstart=datetime.now()))[1:5]"
   ]
  },
  {
   "cell_type": "code",
   "execution_count": 15,
   "id": "7f482485",
   "metadata": {},
   "outputs": [
    {
     "data": {
      "text/plain": [
       "15"
      ]
     },
     "execution_count": 15,
     "metadata": {},
     "output_type": "execute_result"
    }
   ],
   "source": [
    "# random dates\n",
    "random.randint(1, 31)"
   ]
  },
  {
   "cell_type": "code",
   "execution_count": 16,
   "id": "a52bd9c7",
   "metadata": {},
   "outputs": [
    {
     "data": {
      "text/plain": [
       "datetime.date(2023, 3, 15)"
      ]
     },
     "execution_count": 16,
     "metadata": {},
     "output_type": "execute_result"
    }
   ],
   "source": [
    "dt.date(2023, 3,15)"
   ]
  },
  {
   "cell_type": "code",
   "execution_count": 17,
   "id": "907c37b6",
   "metadata": {},
   "outputs": [
    {
     "data": {
      "text/plain": [
       "datetime.date(2023, 11, 3)"
      ]
     },
     "execution_count": 17,
     "metadata": {},
     "output_type": "execute_result"
    }
   ],
   "source": [
    "random.randint\n",
    "random_date = dt.date(2023, random.randint(1,12), random.randint(1,31) )\n",
    "random_date"
   ]
  },
  {
   "cell_type": "code",
   "execution_count": 42,
   "id": "6ca47577",
   "metadata": {},
   "outputs": [
    {
     "data": {
      "text/plain": [
       "[datetime.date(2023, 9, 4),\n",
       " datetime.date(2023, 3, 20),\n",
       " datetime.date(2023, 2, 7),\n",
       " datetime.date(2023, 10, 30),\n",
       " datetime.date(2023, 1, 29),\n",
       " datetime.date(2023, 3, 23),\n",
       " datetime.date(2023, 10, 19),\n",
       " datetime.date(2023, 4, 8),\n",
       " datetime.date(2023, 10, 9),\n",
       " datetime.date(2023, 10, 14)]"
      ]
     },
     "execution_count": 42,
     "metadata": {},
     "output_type": "execute_result"
    }
   ],
   "source": [
    "date_list = []\n",
    "for _ in range(10):\n",
    "    date = dt.date(2023, random.randint(1,12), random.randint(1,31))\n",
    "    date_list.append(date)\n",
    "date_list"
   ]
  },
  {
   "cell_type": "code",
   "execution_count": 48,
   "id": "6c67c650",
   "metadata": {},
   "outputs": [
    {
     "name": "stdout",
     "output_type": "stream",
     "text": [
      "2023-01-01 13:30:00 2023-01-03 04:50:00\n"
     ]
    }
   ],
   "source": [
    "d1 = dt.datetime.strptime('1/1/2023 1:30 PM', '%m/%d/%Y %I:%M %p')\n",
    "d2 = dt.datetime.strptime('1/3/2023 4:50 AM', '%m/%d/%Y %I:%M %p')\n",
    "print(d1, d2)\n",
    "#print(random_date(d1, d2))"
   ]
  },
  {
   "cell_type": "code",
   "execution_count": 52,
   "id": "2f1ae8cc",
   "metadata": {},
   "outputs": [],
   "source": [
    "#!pip install radar\n",
    "#!pip install faker"
   ]
  },
  {
   "cell_type": "code",
   "execution_count": 53,
   "id": "db9c724e",
   "metadata": {},
   "outputs": [
    {
     "data": {
      "text/plain": [
       "datetime.datetime(2023, 3, 28, 22, 48, 42)"
      ]
     },
     "execution_count": 53,
     "metadata": {},
     "output_type": "execute_result"
    }
   ],
   "source": [
    "import radar\n",
    "radar.random_datetime(start='2023-01-01', stop='2023-03-31')"
   ]
  },
  {
   "cell_type": "code",
   "execution_count": 73,
   "id": "65d3cf7f",
   "metadata": {},
   "outputs": [
    {
     "data": {
      "text/plain": [
       "datetime.date(2038, 10, 2)"
      ]
     },
     "execution_count": 73,
     "metadata": {},
     "output_type": "execute_result"
    }
   ],
   "source": [
    "#faker\n",
    "from faker import Faker\n",
    "fake = Faker()\n",
    "fake.date_between(start_date='today', end_date='+30y')"
   ]
  },
  {
   "cell_type": "code",
   "execution_count": 74,
   "id": "670568e3",
   "metadata": {},
   "outputs": [
    {
     "data": {
      "text/plain": [
       "datetime.datetime(2017, 6, 29, 1, 54, 5)"
      ]
     },
     "execution_count": 74,
     "metadata": {},
     "output_type": "execute_result"
    }
   ],
   "source": [
    "fake.date_time_between(start_date='-30y', end_date='now')"
   ]
  },
  {
   "cell_type": "code",
   "execution_count": 75,
   "id": "5eaf1d4a",
   "metadata": {},
   "outputs": [
    {
     "data": {
      "text/plain": [
       "datetime.date(2048, 7, 27)"
      ]
     },
     "execution_count": 75,
     "metadata": {},
     "output_type": "execute_result"
    }
   ],
   "source": [
    "start_date = dt.datetime(2023,1,1)\n",
    "end_date = dt.datetime(2023,3,31)\n",
    "fake.date_between(start_date=start_date, end_date='+30y')"
   ]
  },
  {
   "cell_type": "code",
   "execution_count": 78,
   "id": "5006069d",
   "metadata": {},
   "outputs": [
    {
     "data": {
      "text/plain": [
       "datetime.date(2023, 1, 24)"
      ]
     },
     "execution_count": 78,
     "metadata": {},
     "output_type": "execute_result"
    }
   ],
   "source": [
    "fake.date_between(start_date=start_date, end_date=end_date)"
   ]
  },
  {
   "cell_type": "code",
   "execution_count": 62,
   "id": "23181937",
   "metadata": {},
   "outputs": [
    {
     "data": {
      "text/plain": [
       "datetime.datetime(2023, 2, 23, 21, 7, 2)"
      ]
     },
     "execution_count": 62,
     "metadata": {},
     "output_type": "execute_result"
    }
   ],
   "source": [
    "# Generate random datetime from datetime.datetime values\n",
    "radar.random_datetime( start = dt.datetime(year=2023, month=1, day=1), stop = dt.datetime(year=2023, month=3, day=31))"
   ]
  },
  {
   "cell_type": "code",
   "execution_count": 63,
   "id": "d758e64f",
   "metadata": {},
   "outputs": [
    {
     "data": {
      "text/plain": [
       "datetime.datetime(1988, 5, 25, 7, 23, 11)"
      ]
     },
     "execution_count": 63,
     "metadata": {},
     "output_type": "execute_result"
    }
   ],
   "source": [
    "radar.random_datetime()"
   ]
  },
  {
   "cell_type": "code",
   "execution_count": 71,
   "id": "355810e5",
   "metadata": {},
   "outputs": [
    {
     "name": "stdout",
     "output_type": "stream",
     "text": [
      "[1674850076468118521 1674972867087937812 1675524742655282260\n",
      " 1678172542091478913 1679679749881016266 1679065714498410497\n",
      " 1673399889620914638 1675314580658933153 1679002103577324186\n",
      " 1672947954309615881]\n",
      "['2023-01-27', '2023-01-29', '2023-02-04', '2023-03-07', '2023-03-24', '2023-03-17', '2023-01-11', '2023-02-02', '2023-03-16', '2023-01-05']\n"
     ]
    }
   ],
   "source": [
    "# Initialize\n",
    "start = '2023-01-01' # Specify start date\n",
    "end = '2023-03-31' # Specify end date\n",
    "n = 10 # Specify number of dates needed\n",
    "\n",
    "# Get random dates\n",
    "x = np.random.randint(low=pd.Timestamp(start).value, high= pd.Timestamp(end).value, size= n, dtype='int64')\n",
    "print(x)\n",
    "#int to date : \n",
    "random_dates = [pd.to_datetime((i/10**9)/(60*60)/24, unit='D').strftime('%Y-%m-%d')  for i in x]\n",
    "print(random_dates)"
   ]
  },
  {
   "cell_type": "code",
   "execution_count": 96,
   "id": "b0132e15",
   "metadata": {},
   "outputs": [],
   "source": [
    "#pandas dates"
   ]
  },
  {
   "cell_type": "code",
   "execution_count": 103,
   "id": "bfc071eb",
   "metadata": {},
   "outputs": [
    {
     "data": {
      "text/plain": [
       "DatetimeIndex(['2023-01-12 10:00:00'], dtype='datetime64[ns]', freq=None)"
      ]
     },
     "execution_count": 103,
     "metadata": {},
     "output_type": "execute_result"
    }
   ],
   "source": [
    "pd.to_datetime([\"12-01-2023 10:00\"], dayfirst=True)"
   ]
  },
  {
   "cell_type": "code",
   "execution_count": 104,
   "id": "e42e162a",
   "metadata": {},
   "outputs": [
    {
     "data": {
      "text/plain": [
       "DatetimeIndex(['2023-01-12', '2023-12-01'], dtype='datetime64[ns]', freq=None)"
      ]
     },
     "execution_count": 104,
     "metadata": {},
     "output_type": "execute_result"
    }
   ],
   "source": [
    "pd.to_datetime([\"12-01-2023\", \"01-12-2023\"], dayfirst=True)"
   ]
  },
  {
   "cell_type": "code",
   "execution_count": 105,
   "id": "59aa7cd5",
   "metadata": {},
   "outputs": [
    {
     "data": {
      "text/plain": [
       "Timestamp('2023-01-12 00:00:00')"
      ]
     },
     "execution_count": 105,
     "metadata": {},
     "output_type": "execute_result"
    }
   ],
   "source": [
    "pd.to_datetime(\"2023/01/12\", format=\"%Y/%m/%d\")"
   ]
  },
  {
   "cell_type": "code",
   "execution_count": 107,
   "id": "d4508efd",
   "metadata": {},
   "outputs": [
    {
     "data": {
      "text/plain": [
       "DatetimeIndex(['2023-01-12', '2023-12-01'], dtype='datetime64[ns]', freq=None)"
      ]
     },
     "execution_count": 107,
     "metadata": {},
     "output_type": "execute_result"
    }
   ],
   "source": [
    "pd.to_datetime([\"12-01-2023\", \"01-12-2023\"], dayfirst=True, format=\"%d-%m-%Y\")"
   ]
  },
  {
   "cell_type": "code",
   "execution_count": 109,
   "id": "7223b9f8",
   "metadata": {},
   "outputs": [
    {
     "name": "stderr",
     "output_type": "stream",
     "text": [
      "C:\\Users\\du\\AppData\\Local\\Temp\\ipykernel_22388\\1726360744.py:1: UserWarning: Parsing dates in DD/MM/YYYY format when dayfirst=False (the default) was specified. This may lead to inconsistently parsed dates! Specify a format to ensure consistent parsing.\n",
      "  pd.to_datetime([\"14-01-2023\", \"01-14-2023\"])\n"
     ]
    },
    {
     "data": {
      "text/plain": [
       "DatetimeIndex(['2023-01-14', '2023-01-14'], dtype='datetime64[ns]', freq=None)"
      ]
     },
     "execution_count": 109,
     "metadata": {},
     "output_type": "execute_result"
    }
   ],
   "source": [
    "pd.to_datetime([\"14-01-2023\", \"01-14-2023\"])"
   ]
  },
  {
   "cell_type": "code",
   "execution_count": 100,
   "id": "b8f2889c",
   "metadata": {},
   "outputs": [
    {
     "data": {
      "text/plain": [
       "DatetimeIndex(['2023-01-04 10:00:00'], dtype='datetime64[ns]', freq=None)"
      ]
     },
     "execution_count": 100,
     "metadata": {},
     "output_type": "execute_result"
    }
   ],
   "source": [
    "pd.to_datetime([\"2023-01-04 10:00\"], dayfirst=False)"
   ]
  },
  {
   "cell_type": "code",
   "execution_count": null,
   "id": "3efa49bf",
   "metadata": {},
   "outputs": [],
   "source": []
  },
  {
   "cell_type": "code",
   "execution_count": 110,
   "id": "fa3b0079",
   "metadata": {},
   "outputs": [
    {
     "data": {
      "text/plain": [
       "DatetimeIndex(['1960-01-02', '1960-01-03', '1960-01-04'], dtype='datetime64[ns]', freq=None)"
      ]
     },
     "execution_count": 110,
     "metadata": {},
     "output_type": "execute_result"
    }
   ],
   "source": [
    "# origin\n",
    "pd.to_datetime([1, 2, 3], unit=\"D\", origin=pd.Timestamp(\"1960-01-01\"))"
   ]
  },
  {
   "cell_type": "code",
   "execution_count": 111,
   "id": "1d127ed8",
   "metadata": {},
   "outputs": [
    {
     "data": {
      "text/plain": [
       "DatetimeIndex(['1970-01-02', '1970-01-03', '1970-01-04'], dtype='datetime64[ns]', freq=None)"
      ]
     },
     "execution_count": 111,
     "metadata": {},
     "output_type": "execute_result"
    }
   ],
   "source": [
    "pd.to_datetime([1, 2, 3], unit=\"D\")"
   ]
  },
  {
   "cell_type": "code",
   "execution_count": null,
   "id": "2109d7ba",
   "metadata": {},
   "outputs": [],
   "source": []
  }
 ],
 "metadata": {
  "kernelspec": {
   "display_name": "Python 3 (ipykernel)",
   "language": "python",
   "name": "python3"
  },
  "language_info": {
   "codemirror_mode": {
    "name": "ipython",
    "version": 3
   },
   "file_extension": ".py",
   "mimetype": "text/x-python",
   "name": "python",
   "nbconvert_exporter": "python",
   "pygments_lexer": "ipython3",
   "version": "3.9.13"
  }
 },
 "nbformat": 4,
 "nbformat_minor": 5
}
