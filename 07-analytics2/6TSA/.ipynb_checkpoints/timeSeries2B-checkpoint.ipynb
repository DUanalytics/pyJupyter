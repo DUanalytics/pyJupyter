{
 "cells": [
  {
   "cell_type": "markdown",
   "id": "d09023fc",
   "metadata": {},
   "source": [
    "# Time Series Analysis\n",
    "What is Time Series Analysis?\n",
    "Sometimes data changes over time. This data is called time-dependent data. Given time-dependent data, you can analyze the past to predict the future. The future prediction will also include time as a variable, and the output will vary with time. Using time-dependent data, you can find patterns that repeat over time.\n",
    "A Time Series is a set of observations that are collected after regular intervals of time. If plotted, the Time series would always have one of its axes as time.\n",
    "Time Series Analysis in Python considers data collected over time might have some structure; hence it analyses Time Series data to extract its valuable characteristics."
   ]
  },
  {
   "cell_type": "code",
   "execution_count": null,
   "id": "4b799cdd",
   "metadata": {},
   "outputs": [],
   "source": [
    "#Com"
   ]
  },
  {
   "cell_type": "code",
   "execution_count": null,
   "id": "38f746f7",
   "metadata": {},
   "outputs": [],
   "source": []
  },
  {
   "cell_type": "code",
   "execution_count": null,
   "id": "c429e619",
   "metadata": {},
   "outputs": [],
   "source": []
  },
  {
   "cell_type": "markdown",
   "id": "7df7cd9b",
   "metadata": {},
   "source": [
    "## Link\n",
    "https://www.simplilearn.com/tutorials/python-tutorial/time-series-analysis-in-python"
   ]
  }
 ],
 "metadata": {
  "kernelspec": {
   "display_name": "Python 3 (ipykernel)",
   "language": "python",
   "name": "python3"
  },
  "language_info": {
   "codemirror_mode": {
    "name": "ipython",
    "version": 3
   },
   "file_extension": ".py",
   "mimetype": "text/x-python",
   "name": "python",
   "nbconvert_exporter": "python",
   "pygments_lexer": "ipython3",
   "version": "3.9.15"
  }
 },
 "nbformat": 4,
 "nbformat_minor": 5
}
