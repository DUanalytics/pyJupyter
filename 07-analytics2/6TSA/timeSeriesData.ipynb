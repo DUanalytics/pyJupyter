{
 "cells": [
  {
   "cell_type": "markdown",
   "id": "feb37986",
   "metadata": {},
   "source": [
    "# Time Series Data\n",
    "https://pandas.pydata.org/docs/user_guide/timeseries.html"
   ]
  },
  {
   "cell_type": "code",
   "execution_count": 61,
   "id": "0ec2e974",
   "metadata": {},
   "outputs": [],
   "source": [
    "import pandas as pd\n",
    "import numpy as np\n",
    "import random\n",
    "import datetime as dt\n",
    "pd.set_option('display.max_rows', 500)\n",
    "pd.set_option('display.max_columns', 500)\n",
    "pd.set_option('display.width', 1000)"
   ]
  },
  {
   "cell_type": "code",
   "execution_count": 2,
   "id": "10c07ce0",
   "metadata": {},
   "outputs": [
    {
     "data": {
      "text/plain": [
       "pandas._libs.tslibs.timedeltas.Timedelta"
      ]
     },
     "execution_count": 2,
     "metadata": {},
     "output_type": "execute_result"
    }
   ],
   "source": [
    "# periods : pd.Timestamp, pd.Timedelta, pd.date_range, parsing\n",
    "#periods - D, M, "
   ]
  },
  {
   "cell_type": "code",
   "execution_count": 10,
   "id": "6e5e6875",
   "metadata": {},
   "outputs": [
    {
     "data": {
      "text/plain": [
       "DatetimeIndex(['2023-01-01', '2023-01-02', '2023-01-03'], dtype='datetime64[ns]', freq=None)"
      ]
     },
     "execution_count": 10,
     "metadata": {},
     "output_type": "execute_result"
    }
   ],
   "source": [
    "nts1 = pd.to_datetime(['2023-1-1', np.datetime64('2023-01-02'), dt.date(2023,1,3)])\n",
    "nts1   #no freq, not a time series"
   ]
  },
  {
   "cell_type": "code",
   "execution_count": 11,
   "id": "3b6c74a3",
   "metadata": {},
   "outputs": [
    {
     "data": {
      "text/plain": [
       "DatetimeIndex(['2023-01-31', '2023-02-28', '2023-03-31'], dtype='datetime64[ns]', freq='M')"
      ]
     },
     "execution_count": 11,
     "metadata": {},
     "output_type": "execute_result"
    }
   ],
   "source": [
    "tsM = pd.date_range('2023-1-1', periods=3, freq='M')\n",
    "tsM"
   ]
  },
  {
   "cell_type": "code",
   "execution_count": 16,
   "id": "4e86d6ee",
   "metadata": {},
   "outputs": [
    {
     "data": {
      "text/plain": [
       "<DstTzInfo 'Asia/Kolkata' LMT+5:53:00 STD>"
      ]
     },
     "execution_count": 16,
     "metadata": {},
     "output_type": "execute_result"
    }
   ],
   "source": [
    "#time zone\n",
    "#https://www.geeksforgeeks.org/get-current-time-in-different-timezone-using-python/\n",
    "import pytz\n",
    "pytz.timezone('Asia/Kolkata')"
   ]
  },
  {
   "cell_type": "code",
   "execution_count": 15,
   "id": "cad436ea",
   "metadata": {},
   "outputs": [
    {
     "data": {
      "text/plain": [
       "DatetimeIndex(['2023-01-31 00:00:00+05:30', '2023-02-28 00:00:00+05:30',\n",
       "               '2023-03-31 00:00:00+05:30'],\n",
       "              dtype='datetime64[ns, Asia/Kolkata]', freq=None)"
      ]
     },
     "execution_count": 15,
     "metadata": {},
     "output_type": "execute_result"
    }
   ],
   "source": [
    "tsZ = tsM.tz_localize('Asia/Kolkata')\n",
    "tsZ"
   ]
  },
  {
   "cell_type": "code",
   "execution_count": 17,
   "id": "3d4ca675",
   "metadata": {},
   "outputs": [
    {
     "data": {
      "text/plain": [
       "0   2023-01-01\n",
       "1   2023-01-02\n",
       "2   2023-01-03\n",
       "3   2023-01-04\n",
       "4   2023-01-05\n",
       "5   2023-01-06\n",
       "6   2023-01-07\n",
       "7   2023-01-08\n",
       "8   2023-01-09\n",
       "9   2023-01-10\n",
       "dtype: datetime64[ns]"
      ]
     },
     "execution_count": 17,
     "metadata": {},
     "output_type": "execute_result"
    }
   ],
   "source": [
    "# Times Series as column \n",
    "pd.Series(pd.date_range(\"2023\", freq=\"D\", periods=10))"
   ]
  },
  {
   "cell_type": "code",
   "execution_count": 23,
   "id": "8ee6a4a9",
   "metadata": {},
   "outputs": [
    {
     "data": {
      "text/plain": [
       "0   2023-01-31\n",
       "1   2023-02-28\n",
       "2   2023-03-31\n",
       "dtype: datetime64[ns]"
      ]
     },
     "execution_count": 23,
     "metadata": {},
     "output_type": "execute_result"
    }
   ],
   "source": [
    "pd.Series(pd.date_range(\"1/1/2023\", freq=\"M\", periods=3))"
   ]
  },
  {
   "cell_type": "code",
   "execution_count": 19,
   "id": "2cbf0e5d",
   "metadata": {},
   "outputs": [
    {
     "data": {
      "text/plain": [
       "0    2023-01\n",
       "1    2023-02\n",
       "2    2023-03\n",
       "dtype: period[M]"
      ]
     },
     "execution_count": 19,
     "metadata": {},
     "output_type": "execute_result"
    }
   ],
   "source": [
    "# Periods\n",
    "pd.Series(pd.period_range(\"1/1/2023\", freq=\"M\", periods=3))"
   ]
  },
  {
   "cell_type": "code",
   "execution_count": 22,
   "id": "13af234b",
   "metadata": {},
   "outputs": [
    {
     "data": {
      "text/plain": [
       "0         <DateOffset>\n",
       "1    <2 * DateOffsets>\n",
       "dtype: object"
      ]
     },
     "execution_count": 22,
     "metadata": {},
     "output_type": "execute_result"
    }
   ],
   "source": [
    "# Offset\n",
    "pd.Series([pd.DateOffset(1), pd.DateOffset(2)])"
   ]
  },
  {
   "cell_type": "code",
   "execution_count": 18,
   "id": "324adfbd",
   "metadata": {},
   "outputs": [
    {
     "data": {
      "text/plain": [
       "2023-01-01    0\n",
       "2023-01-02    1\n",
       "2023-01-03    2\n",
       "2023-01-04    3\n",
       "2023-01-05    4\n",
       "2023-01-06    5\n",
       "2023-01-07    6\n",
       "2023-01-08    7\n",
       "2023-01-09    8\n",
       "2023-01-10    9\n",
       "Freq: D, dtype: int64"
      ]
     },
     "execution_count": 18,
     "metadata": {},
     "output_type": "execute_result"
    }
   ],
   "source": [
    "# Time series as index with additional column data\n",
    "pd.Series(range(10), index=pd.date_range(\"2023\", freq=\"D\", periods=10))"
   ]
  },
  {
   "cell_type": "markdown",
   "id": "a9220825",
   "metadata": {},
   "source": [
    "### null values for dates\n",
    "-pandas represents null date times, time deltas, and time spans as NaT which is useful for representing missing or null date like values and behaves similar as np.nan does for float data."
   ]
  },
  {
   "cell_type": "code",
   "execution_count": 25,
   "id": "d5284876",
   "metadata": {},
   "outputs": [
    {
     "name": "stdout",
     "output_type": "stream",
     "text": [
      "NaT NaT NaT\n"
     ]
    }
   ],
   "source": [
    "print(pd.Timestamp(pd.NaT), pd.Timedelta(pd.NaT), pd.Period(pd.NaT))"
   ]
  },
  {
   "cell_type": "code",
   "execution_count": null,
   "id": "972ec8c4",
   "metadata": {},
   "outputs": [],
   "source": [
    "# Timestamp"
   ]
  },
  {
   "cell_type": "code",
   "execution_count": 27,
   "id": "6e6ece71",
   "metadata": {},
   "outputs": [
    {
     "data": {
      "text/plain": [
       "Timestamp('2023-05-01 00:00:00')"
      ]
     },
     "execution_count": 27,
     "metadata": {},
     "output_type": "execute_result"
    }
   ],
   "source": [
    "pd.Timestamp(dt.datetime(2023, 5, 1))"
   ]
  },
  {
   "cell_type": "code",
   "execution_count": 28,
   "id": "518f5b6c",
   "metadata": {},
   "outputs": [
    {
     "data": {
      "text/plain": [
       "Timestamp('2023-01-01 00:00:00')"
      ]
     },
     "execution_count": 28,
     "metadata": {},
     "output_type": "execute_result"
    }
   ],
   "source": [
    "pd.Timestamp(\"2023-01-01\")"
   ]
  },
  {
   "cell_type": "code",
   "execution_count": 29,
   "id": "ca8ce844",
   "metadata": {},
   "outputs": [
    {
     "data": {
      "text/plain": [
       "Timestamp('2023-01-01 00:00:00')"
      ]
     },
     "execution_count": 29,
     "metadata": {},
     "output_type": "execute_result"
    }
   ],
   "source": [
    "pd.Timestamp(2023, 1, 1)"
   ]
  },
  {
   "cell_type": "code",
   "execution_count": null,
   "id": "779ecc83",
   "metadata": {},
   "outputs": [],
   "source": [
    "#The span represented by Period can be specified explicitly, or inferred from datetime string format."
   ]
  },
  {
   "cell_type": "code",
   "execution_count": 30,
   "id": "a0bd93f1",
   "metadata": {},
   "outputs": [
    {
     "data": {
      "text/plain": [
       "Period('2023-01', 'M')"
      ]
     },
     "execution_count": 30,
     "metadata": {},
     "output_type": "execute_result"
    }
   ],
   "source": [
    "pd.Period(\"2023-01\")"
   ]
  },
  {
   "cell_type": "code",
   "execution_count": 31,
   "id": "7adf5d60",
   "metadata": {},
   "outputs": [
    {
     "data": {
      "text/plain": [
       "Period('2023-01-01', 'D')"
      ]
     },
     "execution_count": 31,
     "metadata": {},
     "output_type": "execute_result"
    }
   ],
   "source": [
    "pd.Period(\"2023-01\", freq=\"D\")"
   ]
  },
  {
   "cell_type": "code",
   "execution_count": null,
   "id": "b7e262d0",
   "metadata": {},
   "outputs": [],
   "source": []
  },
  {
   "cell_type": "markdown",
   "id": "563eb35d",
   "metadata": {},
   "source": [
    "- Timestamp and Period can serve as an index. Lists of Timestamp and Period are automatically coerced to DatetimeIndex and PeriodIndex respectively."
   ]
  },
  {
   "cell_type": "markdown",
   "id": "2cce4bdc",
   "metadata": {},
   "source": [
    "## range of dates"
   ]
  },
  {
   "cell_type": "code",
   "execution_count": 55,
   "id": "58542412",
   "metadata": {},
   "outputs": [
    {
     "data": {
      "text/plain": [
       "DatetimeIndex(['2023-01-01', '2023-01-02', '2023-01-03', '2023-01-04', '2023-01-05', '2023-01-06', '2023-01-07', '2023-01-08', '2023-01-09', '2023-01-10',\n",
       "               ...\n",
       "               '2023-12-23', '2023-12-24', '2023-12-25', '2023-12-26', '2023-12-27', '2023-12-28', '2023-12-29', '2023-12-30', '2023-12-31', '2024-01-01'], dtype='datetime64[ns]', length=366, freq='D')"
      ]
     },
     "execution_count": 55,
     "metadata": {},
     "output_type": "execute_result"
    }
   ],
   "source": [
    "# daily\n",
    "start = dt.datetime(2023, 1, 1)\n",
    "end = dt.datetime(2024, 1, 1)\n",
    "index = pd.date_range(start, end)\n",
    "index"
   ]
  },
  {
   "cell_type": "code",
   "execution_count": 56,
   "id": "bb7f35c1",
   "metadata": {},
   "outputs": [
    {
     "data": {
      "text/plain": [
       "DatetimeIndex(['2023-01-02', '2023-01-03', '2023-01-04', '2023-01-05', '2023-01-06', '2023-01-09', '2023-01-10', '2023-01-11', '2023-01-12', '2023-01-13',\n",
       "               ...\n",
       "               '2023-12-19', '2023-12-20', '2023-12-21', '2023-12-22', '2023-12-25', '2023-12-26', '2023-12-27', '2023-12-28', '2023-12-29', '2024-01-01'], dtype='datetime64[ns]', length=261, freq='B')"
      ]
     },
     "execution_count": 56,
     "metadata": {},
     "output_type": "execute_result"
    }
   ],
   "source": [
    "## business days\n",
    "index = pd.bdate_range(start, end)\n",
    "index"
   ]
  },
  {
   "cell_type": "code",
   "execution_count": 57,
   "id": "35a752ac",
   "metadata": {},
   "outputs": [
    {
     "data": {
      "text/plain": [
       "DatetimeIndex(['2023-01-31', '2023-02-28', '2023-03-31', '2023-04-30', '2023-05-31', '2023-06-30', '2023-07-31', '2023-08-31', '2023-09-30', '2023-10-31',\n",
       "               ...\n",
       "               '2105-07-31', '2105-08-31', '2105-09-30', '2105-10-31', '2105-11-30', '2105-12-31', '2106-01-31', '2106-02-28', '2106-03-31', '2106-04-30'], dtype='datetime64[ns]', length=1000, freq='M')"
      ]
     },
     "execution_count": 57,
     "metadata": {},
     "output_type": "execute_result"
    }
   ],
   "source": [
    "pd.date_range(start, periods=1000, freq=\"M\")\n"
   ]
  },
  {
   "cell_type": "markdown",
   "id": "76a98e1e",
   "metadata": {},
   "source": [
    "date_range and bdate_range make it easy to generate a range of dates using various combinations of parameters like start, end, periods, and freq. The start and end dates are strictly inclusive, so dates outside of those specified will not be generated:"
   ]
  },
  {
   "cell_type": "code",
   "execution_count": 59,
   "id": "6cef55ea",
   "metadata": {},
   "outputs": [
    {
     "data": {
      "text/plain": [
       "DatetimeIndex(['2023-01-31', '2023-02-28', '2023-03-31', '2023-04-28', '2023-05-31', '2023-06-30', '2023-07-31', '2023-08-31', '2023-09-29', '2023-10-31', '2023-11-30', '2023-12-29'], dtype='datetime64[ns]', freq='BM')"
      ]
     },
     "execution_count": 59,
     "metadata": {},
     "output_type": "execute_result"
    }
   ],
   "source": [
    "pd.date_range(start, end, freq=\"BM\")\n",
    "# 28 & 29 Apr 2023 are holidays - sat, sun"
   ]
  },
  {
   "cell_type": "code",
   "execution_count": 66,
   "id": "10062f6a",
   "metadata": {},
   "outputs": [
    {
     "data": {
      "text/plain": [
       "Int64Index([1, 1, 4, 4, 2, 4, 0, 3, 4, 1, 3, 4], dtype='int64')"
      ]
     },
     "execution_count": 66,
     "metadata": {},
     "output_type": "execute_result"
    }
   ],
   "source": [
    "pd.date_range(start, end, freq=\"BM\").dayofweek"
   ]
  },
  {
   "cell_type": "code",
   "execution_count": 68,
   "id": "615bad6f",
   "metadata": {},
   "outputs": [
    {
     "data": {
      "text/plain": [
       "Friday       5\n",
       "Tuesday      3\n",
       "Thursday     2\n",
       "Wednesday    1\n",
       "Monday       1\n",
       "dtype: int64"
      ]
     },
     "execution_count": 68,
     "metadata": {},
     "output_type": "execute_result"
    }
   ],
   "source": [
    "pd.date_range(start, end, freq=\"BM\").day_name().value_counts()"
   ]
  },
  {
   "cell_type": "code",
   "execution_count": 73,
   "id": "fdb528f9",
   "metadata": {},
   "outputs": [
    {
     "data": {
      "text/plain": [
       "DatetimeIndex(['2023-01-02', '2023-01-03', '2023-01-06', '2023-01-09', '2023-01-10', '2023-01-13', '2023-01-16', '2023-01-17', '2023-01-20', '2023-01-24', '2023-01-27', '2023-01-30', '2023-01-31'], dtype='datetime64[ns]', freq='C')"
      ]
     },
     "execution_count": 73,
     "metadata": {},
     "output_type": "execute_result"
    }
   ],
   "source": [
    "# custom freq\n",
    "weekmask = \"Mon Tue Fri\"  #week on days, holidays off\n",
    "holidays = [dt.datetime(2023, 1, 26), dt.datetime(2023, 1, 23)]\n",
    "pd.bdate_range(start=dt.datetime(2023,1,1), end=dt.datetime(2023,1,31), freq=\"C\", weekmask=weekmask, holidays=holidays)"
   ]
  },
  {
   "cell_type": "code",
   "execution_count": 75,
   "id": "6c66811a",
   "metadata": {},
   "outputs": [
    {
     "data": {
      "text/plain": [
       "DatetimeIndex(['2023-01-02'], dtype='datetime64[ns]', freq='CBMS')"
      ]
     },
     "execution_count": 75,
     "metadata": {},
     "output_type": "execute_result"
    }
   ],
   "source": [
    "pd.bdate_range(start=dt.datetime(2023,1,1), end=dt.datetime(2023,1,31), freq=\"CBMS\", weekmask=weekmask)\n",
    "#CBMS     custom business month start frequency"
   ]
  },
  {
   "cell_type": "markdown",
   "id": "630908c5",
   "metadata": {},
   "source": [
    "Alias    Description\n",
    "B        business day frequency\n",
    "C        custom business day frequency\n",
    "D        calendar day frequency\n",
    "W        weekly frequency\n",
    "M        month end frequency\n",
    "SM       semi-month end frequency (15th and end of month)\n",
    "BM       business month end frequency\n",
    "CBM      custom business month end frequency\n",
    "MS       month start frequency\n",
    "SMS      semi-month start frequency (1st and 15th)\n",
    "BMS      business month start frequency\n",
    "CBMS     custom business month start frequency\n",
    "Q        quarter end frequency\n",
    "BQ       business quarter end frequency\n",
    "QS       quarter start frequency\n",
    "BQS      business quarter start frequency\n",
    "A, Y     year end frequency\n",
    "BA, BY   business year end frequency\n",
    "AS, YS   year start frequency\n",
    "BAS, BYS business year start frequency\n",
    "BH       business hour frequency\n",
    "H        hourly frequency\n",
    "T, min   minutely frequency\n",
    "S        secondly frequency\n",
    "L, ms    milliseconds\n",
    "U, us    microseconds\n",
    "N        nanoseconds"
   ]
  },
  {
   "cell_type": "markdown",
   "id": "b690a38d",
   "metadata": {},
   "source": [
    "# selection"
   ]
  },
  {
   "cell_type": "code",
   "execution_count": 82,
   "id": "c883c011",
   "metadata": {},
   "outputs": [
    {
     "name": "stdout",
     "output_type": "stream",
     "text": [
      "13 \n",
      " DatetimeIndex(['2023-01-31', '2023-02-28', '2023-03-31', '2023-04-28', '2023-05-31', '2023-06-30', '2023-07-31', '2023-08-31', '2023-09-29', '2023-10-31', '2023-11-30', '2023-12-29', '2024-01-31'], dtype='datetime64[ns]', freq='BM')\n"
     ]
    }
   ],
   "source": [
    "start=dt.datetime(2023,1,1)\n",
    "end=dt.datetime(2024,1,31)\n",
    "rng = pd.date_range(start, end, freq=\"BM\")\n",
    "ts = pd.Series(np.random.randn(len(rng)), index=rng)\n",
    "print(len(rng), '\\n', ts.index)"
   ]
  },
  {
   "cell_type": "code",
   "execution_count": 79,
   "id": "72f86b9f",
   "metadata": {},
   "outputs": [
    {
     "data": {
      "text/plain": [
       "2023-01-31    0.913120\n",
       "2023-02-28    0.185306\n",
       "2023-03-31   -0.662426\n",
       "2023-04-28    2.068668\n",
       "2023-05-31    2.638103\n",
       "Freq: BM, dtype: float64"
      ]
     },
     "execution_count": 79,
     "metadata": {},
     "output_type": "execute_result"
    }
   ],
   "source": [
    "ts[:5]"
   ]
  },
  {
   "cell_type": "code",
   "execution_count": 83,
   "id": "1d81005d",
   "metadata": {},
   "outputs": [
    {
     "data": {
      "text/plain": [
       "2023-01-31    2.388587\n",
       "2023-02-28   -0.016936\n",
       "Freq: BM, dtype: float64"
      ]
     },
     "execution_count": 83,
     "metadata": {},
     "output_type": "execute_result"
    }
   ],
   "source": [
    "ts[:2]  #first 2"
   ]
  },
  {
   "cell_type": "code",
   "execution_count": 86,
   "id": "aef1d13b",
   "metadata": {},
   "outputs": [
    {
     "data": {
      "text/plain": [
       "2024-01-31    0.72422\n",
       "Freq: BM, dtype: float64"
      ]
     },
     "execution_count": 86,
     "metadata": {},
     "output_type": "execute_result"
    }
   ],
   "source": [
    "ts['2024']"
   ]
  },
  {
   "cell_type": "code",
   "execution_count": 87,
   "id": "4be04bdd",
   "metadata": {},
   "outputs": [
    {
     "data": {
      "text/plain": [
       "2023-03-31    0.524506\n",
       "2023-04-28    1.850963\n",
       "2023-05-31    0.329114\n",
       "2023-06-30   -1.569880\n",
       "2023-07-31   -0.194278\n",
       "2023-08-31   -0.170847\n",
       "2023-09-29   -1.137731\n",
       "2023-10-31    0.025695\n",
       "Freq: BM, dtype: float64"
      ]
     },
     "execution_count": 87,
     "metadata": {},
     "output_type": "execute_result"
    }
   ],
   "source": [
    "ts['2023-03':'2023-10']"
   ]
  },
  {
   "cell_type": "code",
   "execution_count": 88,
   "id": "dd687f23",
   "metadata": {},
   "outputs": [
    {
     "data": {
      "text/plain": [
       "0.5245055949813252"
      ]
     },
     "execution_count": 88,
     "metadata": {},
     "output_type": "execute_result"
    }
   ],
   "source": [
    "ts['2023-03-31']"
   ]
  },
  {
   "cell_type": "code",
   "execution_count": 89,
   "id": "e60f14d9",
   "metadata": {},
   "outputs": [
    {
     "data": {
      "text/plain": [
       "'day'"
      ]
     },
     "execution_count": 89,
     "metadata": {},
     "output_type": "execute_result"
    }
   ],
   "source": [
    "ts.index.resolution"
   ]
  },
  {
   "cell_type": "code",
   "execution_count": 91,
   "id": "4e5857cb",
   "metadata": {},
   "outputs": [
    {
     "data": {
      "text/plain": [
       "2023-04-28    1.850963\n",
       "2023-05-31    0.329114\n",
       "2023-06-30   -1.569880\n",
       "2023-07-31   -0.194278\n",
       "2023-08-31   -0.170847\n",
       "2023-09-29   -1.137731\n",
       "2023-10-31    0.025695\n",
       "Freq: BM, dtype: float64"
      ]
     },
     "execution_count": 91,
     "metadata": {},
     "output_type": "execute_result"
    }
   ],
   "source": [
    "ts.truncate(before='2023-04', after='2023-11')"
   ]
  },
  {
   "cell_type": "code",
   "execution_count": 94,
   "id": "9eef0082",
   "metadata": {},
   "outputs": [
    {
     "data": {
      "text/plain": [
       "2023-04-28    1.850963\n",
       "2023-05-31    0.329114\n",
       "2023-06-30   -1.569880\n",
       "2023-07-31   -0.194278\n",
       "2023-08-31   -0.170847\n",
       "2023-09-29   -1.137731\n",
       "2023-10-31    0.025695\n",
       "2023-11-30   -0.617899\n",
       "Freq: BM, dtype: float64"
      ]
     },
     "execution_count": 94,
     "metadata": {},
     "output_type": "execute_result"
    }
   ],
   "source": [
    "ts['2023-04':'2023-11']"
   ]
  },
  {
   "cell_type": "markdown",
   "id": "652ef200",
   "metadata": {},
   "source": [
    "year The year of the datetime\n",
    "month The month of the datetime\n",
    "day The days of the datetime\n",
    "hour The hour of the datetime\n",
    "minute The minutes of the datetime\n",
    "second The seconds of the datetime\n",
    "microsecond The microseconds of the datetime\n",
    "nanosecond The nanoseconds of the datetime\n",
    "date Returns datetime.date (does not contain timezone information)\n",
    "time Returns datetime.time (does not contain timezone information)\n",
    "timetz Returns datetime.time as local time with timezone information\n",
    "dayofyear The ordinal day of year\n",
    "day_of_year The ordinal day of year\n",
    "weekofyear The week ordinal of the year\n",
    "week The week ordinal of the year\n",
    "dayofweek The number of the day of the week with Monday=0, Sunday=6\n",
    "day_of_week The number of the day of the week with Monday=0, Sunday=6\n",
    "weekday The number of the day of the week with Monday=0, Sunday=6\n",
    "quarter Quarter of the date: Jan-Mar = 1, Apr-Jun = 2, etc.\n",
    "days_in_month The number of days in the month of the datetime\n",
    "is_month_start Logical indicating if first day of month (defined by frequency)\n",
    "is_month_end Logical indicating if last day of month (defined by frequency)\n",
    "is_quarter_start Logical indicating if first day of quarter (defined by frequency)\n",
    "is_quarter_end Logical indicating if last day of quarter (defined by frequency)\n",
    "is_year_start Logical indicating if first day of year (defined by frequency)\n",
    "is_year_end Logical indicating if last day of year (defined by frequency)\n",
    "is_leap_year Logical indicating if the date belongs to a leap year"
   ]
  },
  {
   "cell_type": "code",
   "execution_count": 95,
   "id": "4b55b374",
   "metadata": {},
   "outputs": [
    {
     "data": {
      "text/html": [
       "<div>\n",
       "<style scoped>\n",
       "    .dataframe tbody tr th:only-of-type {\n",
       "        vertical-align: middle;\n",
       "    }\n",
       "\n",
       "    .dataframe tbody tr th {\n",
       "        vertical-align: top;\n",
       "    }\n",
       "\n",
       "    .dataframe thead th {\n",
       "        text-align: right;\n",
       "    }\n",
       "</style>\n",
       "<table border=\"1\" class=\"dataframe\">\n",
       "  <thead>\n",
       "    <tr style=\"text-align: right;\">\n",
       "      <th></th>\n",
       "      <th>year</th>\n",
       "      <th>week</th>\n",
       "      <th>day</th>\n",
       "    </tr>\n",
       "  </thead>\n",
       "  <tbody>\n",
       "    <tr>\n",
       "      <th>2023-01-01</th>\n",
       "      <td>2022</td>\n",
       "      <td>52</td>\n",
       "      <td>7</td>\n",
       "    </tr>\n",
       "    <tr>\n",
       "      <th>2023-01-02</th>\n",
       "      <td>2023</td>\n",
       "      <td>1</td>\n",
       "      <td>1</td>\n",
       "    </tr>\n",
       "    <tr>\n",
       "      <th>2023-01-03</th>\n",
       "      <td>2023</td>\n",
       "      <td>1</td>\n",
       "      <td>2</td>\n",
       "    </tr>\n",
       "    <tr>\n",
       "      <th>2023-01-04</th>\n",
       "      <td>2023</td>\n",
       "      <td>1</td>\n",
       "      <td>3</td>\n",
       "    </tr>\n",
       "  </tbody>\n",
       "</table>\n",
       "</div>"
      ],
      "text/plain": [
       "            year  week  day\n",
       "2023-01-01  2022    52    7\n",
       "2023-01-02  2023     1    1\n",
       "2023-01-03  2023     1    2\n",
       "2023-01-04  2023     1    3"
      ]
     },
     "execution_count": 95,
     "metadata": {},
     "output_type": "execute_result"
    }
   ],
   "source": [
    "idx = pd.date_range(start=\"2023-01-01\", freq=\"D\", periods=4)\n",
    "idx.isocalendar()"
   ]
  },
  {
   "cell_type": "code",
   "execution_count": null,
   "id": "780cfe31",
   "metadata": {},
   "outputs": [],
   "source": [
    "Date Offset Frequency String Description\n",
    "DateOffset None\n",
    "Generic offset class, defaults to absolute 24 hours\n",
    "BDay or BusinessDay 'B' business day (weekday)\n",
    "CDay or CustomBusinessDay\n",
    "'C'\n",
    "custom business day\n",
    "Week\n",
    "'W'\n",
    "one week, optionally anchored on a day of the week\n",
    "WeekOfMonth\n",
    "'WOM'\n",
    "the x-th day of the y-th week of each month\n",
    "\n",
    "LastWeekOfMonth\n",
    "\n",
    "'LWOM'\n",
    "\n",
    "the x-th day of the last week of each month\n",
    "\n",
    "MonthEnd\n",
    "\n",
    "'M'\n",
    "\n",
    "calendar month end\n",
    "\n",
    "MonthBegin\n",
    "\n",
    "'MS'\n",
    "\n",
    "calendar month begin\n",
    "\n",
    "BMonthEnd or BusinessMonthEnd\n",
    "\n",
    "'BM'\n",
    "\n",
    "business month end\n",
    "\n",
    "BMonthBegin or BusinessMonthBegin\n",
    "\n",
    "'BMS'\n",
    "\n",
    "business month begin\n",
    "\n",
    "CBMonthEnd or CustomBusinessMonthEnd\n",
    "\n",
    "'CBM'\n",
    "\n",
    "custom business month end\n",
    "\n",
    "CBMonthBegin or CustomBusinessMonthBegin\n",
    "\n",
    "'CBMS'\n",
    "\n",
    "custom business month begin\n",
    "\n",
    "SemiMonthEnd\n",
    "\n",
    "'SM'\n",
    "\n",
    "15th (or other day_of_month) and calendar month end\n",
    "\n",
    "SemiMonthBegin\n",
    "\n",
    "'SMS'\n",
    "\n",
    "15th (or other day_of_month) and calendar month begin\n",
    "\n",
    "QuarterEnd\n",
    "\n",
    "'Q'\n",
    "\n",
    "calendar quarter end\n",
    "\n",
    "QuarterBegin\n",
    "\n",
    "'QS'\n",
    "\n",
    "calendar quarter begin\n",
    "\n",
    "BQuarterEnd\n",
    "\n",
    "'BQ\n",
    "\n",
    "business quarter end\n",
    "\n",
    "BQuarterBegin\n",
    "\n",
    "'BQS'\n",
    "\n",
    "business quarter begin\n",
    "\n",
    "FY5253Quarter\n",
    "\n",
    "'REQ'\n",
    "\n",
    "retail (aka 52-53 week) quarter\n",
    "\n",
    "YearEnd\n",
    "\n",
    "'A'\n",
    "\n",
    "calendar year end\n",
    "\n",
    "YearBegin\n",
    "\n",
    "'AS' or 'BYS'\n",
    "\n",
    "calendar year begin\n",
    "\n",
    "BYearEnd\n",
    "\n",
    "'BA'\n",
    "\n",
    "business year end\n",
    "\n",
    "BYearBegin\n",
    "\n",
    "'BAS'\n",
    "\n",
    "business year begin\n",
    "\n",
    "FY5253\n",
    "\n",
    "'RE'\n",
    "\n",
    "retail (aka 52-53 week) year\n",
    "\n",
    "Easter\n",
    "\n",
    "None\n",
    "\n",
    "Easter holiday\n",
    "\n",
    "BusinessHour\n",
    "\n",
    "'BH'\n",
    "\n",
    "business hour\n",
    "\n",
    "CustomBusinessHour\n",
    "\n",
    "'CBH'\n",
    "\n",
    "custom business hour\n",
    "\n",
    "Day\n",
    "\n",
    "'D'\n",
    "\n",
    "one absolute day\n",
    "\n",
    "Hour\n",
    "\n",
    "'H'\n",
    "\n",
    "one hour\n",
    "\n",
    "Minute\n",
    "\n",
    "'T' or 'min'\n",
    "\n",
    "one minute\n",
    "\n",
    "Second\n",
    "\n",
    "'S'\n",
    "\n",
    "one second\n",
    "\n",
    "Milli\n",
    "\n",
    "'L' or 'ms'\n",
    "\n",
    "one millisecond\n",
    "\n",
    "Micro\n",
    "\n",
    "'U' or 'us'\n",
    "\n",
    "one microsecond\n",
    "\n",
    "Nano\n",
    "\n",
    "'N'\n",
    "\n",
    "one nanosecond"
   ]
  },
  {
   "cell_type": "markdown",
   "id": "a34c3962",
   "metadata": {},
   "source": [
    "# Time Series-1"
   ]
  },
  {
   "cell_type": "code",
   "execution_count": 96,
   "id": "1a53948d",
   "metadata": {},
   "outputs": [
    {
     "name": "stdout",
     "output_type": "stream",
     "text": [
      "[Timestamp('2023-05-01 00:00:00'), Timestamp('2023-05-02 00:00:00'), Timestamp('2023-05-03 00:00:00')]\n"
     ]
    }
   ],
   "source": [
    "date3= [pd.Timestamp(\"2023-05-01\"),   pd.Timestamp(\"2023-05-02\"),    pd.Timestamp(\"2023-05-03\")]\n",
    "print(date3)"
   ]
  },
  {
   "cell_type": "code",
   "execution_count": 97,
   "id": "8816c413",
   "metadata": {},
   "outputs": [
    {
     "data": {
      "text/plain": [
       "2023-05-01    1.150453\n",
       "2023-05-02    0.050610\n",
       "2023-05-03    0.587440\n",
       "dtype: float64"
      ]
     },
     "execution_count": 97,
     "metadata": {},
     "output_type": "execute_result"
    }
   ],
   "source": [
    "ts3 = pd.Series(np.random.randn(3), date3)\n",
    "ts3"
   ]
  },
  {
   "cell_type": "code",
   "execution_count": 98,
   "id": "e6533b6a",
   "metadata": {},
   "outputs": [
    {
     "data": {
      "text/plain": [
       "pandas.core.series.Series"
      ]
     },
     "execution_count": 98,
     "metadata": {},
     "output_type": "execute_result"
    }
   ],
   "source": [
    "type(ts3)"
   ]
  },
  {
   "cell_type": "code",
   "execution_count": 99,
   "id": "1c2acd10",
   "metadata": {},
   "outputs": [
    {
     "data": {
      "text/plain": [
       "DatetimeIndex(['2023-05-01', '2023-05-02', '2023-05-03'], dtype='datetime64[ns]', freq=None)"
      ]
     },
     "execution_count": 99,
     "metadata": {},
     "output_type": "execute_result"
    }
   ],
   "source": [
    "ts3.index  # freq None"
   ]
  },
  {
   "cell_type": "code",
   "execution_count": 100,
   "id": "a48203db",
   "metadata": {},
   "outputs": [
    {
     "name": "stdout",
     "output_type": "stream",
     "text": [
      "[Period('2023-01', 'M'), Period('2023-02', 'M'), Period('2023-03', 'M')]\n"
     ]
    }
   ],
   "source": [
    "periods3 = [pd.Period(\"2023-01\"), pd.Period(\"2023-02\"), pd.Period(\"2023-03\")]\n",
    "print(periods3)"
   ]
  },
  {
   "cell_type": "code",
   "execution_count": 101,
   "id": "bb824e0d",
   "metadata": {},
   "outputs": [
    {
     "name": "stdout",
     "output_type": "stream",
     "text": [
      "2023-01   -1.151005\n",
      "2023-02   -0.563536\n",
      "2023-03    1.009479\n",
      "Freq: M, dtype: float64\n"
     ]
    }
   ],
   "source": [
    "ts3B = pd.Series(np.random.randn(3), periods3)\n",
    "print(ts3B)  # freq <"
   ]
  },
  {
   "cell_type": "code",
   "execution_count": 102,
   "id": "46d6423f",
   "metadata": {},
   "outputs": [
    {
     "name": "stdout",
     "output_type": "stream",
     "text": [
      "PeriodIndex(['2023-01', '2023-02', '2023-03'], dtype='period[M]') \n",
      " <class 'pandas.core.indexes.period.PeriodIndex'>\n"
     ]
    }
   ],
   "source": [
    "print(ts3B.index, '\\n' ,type(ts3B.index))"
   ]
  },
  {
   "cell_type": "markdown",
   "id": "54be1012",
   "metadata": {},
   "source": [
    "For regular time spans, pandas uses Period objects for scalar values and PeriodIndex for sequences of spans. Better support for irregular intervals with arbitrary start and end points are forth-coming in future releases."
   ]
  },
  {
   "cell_type": "code",
   "execution_count": 103,
   "id": "5237f6d6",
   "metadata": {},
   "outputs": [
    {
     "data": {
      "text/plain": [
       "2023-05-01    1.150453\n",
       "2023-05-02    0.050610\n",
       "2023-05-03    0.587440\n",
       "dtype: float64"
      ]
     },
     "execution_count": 103,
     "metadata": {},
     "output_type": "execute_result"
    }
   ],
   "source": [
    "# Shifting\n",
    "ts3"
   ]
  },
  {
   "cell_type": "code",
   "execution_count": 104,
   "id": "edcbc2f9",
   "metadata": {},
   "outputs": [
    {
     "data": {
      "text/plain": [
       "2023-05-01         NaN\n",
       "2023-05-02    1.150453\n",
       "2023-05-03    0.050610\n",
       "dtype: float64"
      ]
     },
     "execution_count": 104,
     "metadata": {},
     "output_type": "execute_result"
    }
   ],
   "source": [
    "ts3.shift(1)"
   ]
  },
  {
   "cell_type": "code",
   "execution_count": 105,
   "id": "e5486ba9",
   "metadata": {},
   "outputs": [
    {
     "data": {
      "text/plain": [
       "2023-05-01    0.05061\n",
       "2023-05-02    0.58744\n",
       "2023-05-03        NaN\n",
       "dtype: float64"
      ]
     },
     "execution_count": 105,
     "metadata": {},
     "output_type": "execute_result"
    }
   ],
   "source": [
    "ts3.shift(-1)"
   ]
  },
  {
   "cell_type": "code",
   "execution_count": 109,
   "id": "68f35681",
   "metadata": {},
   "outputs": [
    {
     "name": "stdout",
     "output_type": "stream",
     "text": [
      "65 \n",
      " DatetimeIndex(['2023-01-02', '2023-01-03', '2023-01-04', '2023-01-05', '2023-01-06', '2023-01-09', '2023-01-10', '2023-01-11', '2023-01-12', '2023-01-13', '2023-01-16', '2023-01-17', '2023-01-18', '2023-01-19', '2023-01-20', '2023-01-23', '2023-01-24', '2023-01-25', '2023-01-26', '2023-01-27', '2023-01-30', '2023-01-31', '2023-02-01', '2023-02-02', '2023-02-03', '2023-02-06', '2023-02-07', '2023-02-08', '2023-02-09', '2023-02-10', '2023-02-13', '2023-02-14', '2023-02-15', '2023-02-16', '2023-02-17', '2023-02-20', '2023-02-21', '2023-02-22', '2023-02-23', '2023-02-24', '2023-02-27', '2023-02-28', '2023-03-01', '2023-03-02', '2023-03-03', '2023-03-06', '2023-03-07', '2023-03-08', '2023-03-09', '2023-03-10', '2023-03-13', '2023-03-14', '2023-03-15', '2023-03-16', '2023-03-17', '2023-03-20', '2023-03-21', '2023-03-22', '2023-03-23', '2023-03-24', '2023-03-27', '2023-03-28', '2023-03-29', '2023-03-30', '2023-03-31'], dtype='datetime64[ns]', freq='B')\n"
     ]
    }
   ],
   "source": [
    "# longer series\n",
    "start=dt.datetime(2023,1,1)\n",
    "end=dt.datetime(2023,3,31)\n",
    "rng = pd.date_range(start, end, freq=\"B\")\n",
    "ts4 = pd.Series(np.random.randint(10, 100,len(rng)), index=rng)\n",
    "print(len(rng), '\\n', ts4.index)"
   ]
  },
  {
   "cell_type": "code",
   "execution_count": 117,
   "id": "552743aa",
   "metadata": {},
   "outputs": [
    {
     "data": {
      "text/plain": [
       "2023-01-02    24\n",
       "2023-01-03    27\n",
       "2023-01-04    22\n",
       "2023-01-05    45\n",
       "2023-01-06    58\n",
       "Freq: B, dtype: int32"
      ]
     },
     "execution_count": 117,
     "metadata": {},
     "output_type": "execute_result"
    }
   ],
   "source": [
    "ts4.head()"
   ]
  },
  {
   "cell_type": "code",
   "execution_count": 124,
   "id": "53f38f5f",
   "metadata": {},
   "outputs": [
    {
     "data": {
      "text/plain": [
       "2023-01-02     NaN\n",
       "2023-01-03    24.0\n",
       "2023-01-04    27.0\n",
       "2023-01-05    22.0\n",
       "2023-01-06    45.0\n",
       "2023-01-09    58.0\n",
       "2023-01-10    86.0\n",
       "Freq: B, dtype: float64"
      ]
     },
     "execution_count": 124,
     "metadata": {},
     "output_type": "execute_result"
    }
   ],
   "source": [
    "ts4.shift(1).head(7)"
   ]
  },
  {
   "cell_type": "code",
   "execution_count": 123,
   "id": "305cca30",
   "metadata": {},
   "outputs": [
    {
     "data": {
      "text/plain": [
       "2023-01-07    24\n",
       "2023-01-08    27\n",
       "2023-01-09    22\n",
       "2023-01-10    45\n",
       "2023-01-11    58\n",
       "dtype: int32"
      ]
     },
     "execution_count": 123,
     "metadata": {},
     "output_type": "execute_result"
    }
   ],
   "source": [
    "ts4.shift(5, freq='D').head() #remove first 5 days"
   ]
  },
  {
   "cell_type": "code",
   "execution_count": 125,
   "id": "18386f6c",
   "metadata": {},
   "outputs": [
    {
     "data": {
      "text/plain": [
       "2023-01-09    24\n",
       "2023-01-10    27\n",
       "2023-01-11    22\n",
       "2023-01-12    45\n",
       "2023-01-13    58\n",
       "Freq: B, dtype: int32"
      ]
     },
     "execution_count": 125,
     "metadata": {},
     "output_type": "execute_result"
    }
   ],
   "source": [
    "ts4.shift(5, freq='B').head() #remove first 5 business days"
   ]
  },
  {
   "cell_type": "code",
   "execution_count": 126,
   "id": "3b62fecc",
   "metadata": {},
   "outputs": [
    {
     "data": {
      "text/plain": [
       "2023-05-31    24\n",
       "2023-05-31    27\n",
       "2023-05-31    22\n",
       "2023-05-31    45\n",
       "2023-05-31    58\n",
       "dtype: int32"
      ]
     },
     "execution_count": 126,
     "metadata": {},
     "output_type": "execute_result"
    }
   ],
   "source": [
    "ts4.shift(5, freq='BM').head() #remove first 5 business months"
   ]
  },
  {
   "cell_type": "code",
   "execution_count": 136,
   "id": "5bcf2471",
   "metadata": {},
   "outputs": [
    {
     "data": {
      "text/plain": [
       "DatetimeIndex(['2023-01-02', '2023-01-03', '2023-01-04', '2023-01-05', '2023-01-06', '2023-01-09', '2023-01-10', '2023-01-11', '2023-01-12', '2023-01-13', '2023-01-16', '2023-01-17', '2023-01-18', '2023-01-19', '2023-01-20', '2023-01-23', '2023-01-24', '2023-01-25', '2023-01-26', '2023-01-27', '2023-01-30', '2023-01-31', '2023-02-01', '2023-02-02', '2023-02-03', '2023-02-06', '2023-02-07', '2023-02-08', '2023-02-09', '2023-02-10', '2023-02-13', '2023-02-14', '2023-02-15', '2023-02-16', '2023-02-17', '2023-02-20', '2023-02-21', '2023-02-22', '2023-02-23', '2023-02-24', '2023-02-27', '2023-02-28', '2023-03-01', '2023-03-02', '2023-03-03', '2023-03-06', '2023-03-07', '2023-03-08', '2023-03-09', '2023-03-10', '2023-03-13', '2023-03-14', '2023-03-15', '2023-03-16', '2023-03-17', '2023-03-20', '2023-03-21', '2023-03-22', '2023-03-23', '2023-03-24', '2023-03-27', '2023-03-28', '2023-03-29', '2023-03-30', '2023-03-31'], dtype='datetime64[ns]', freq='B')"
      ]
     },
     "execution_count": 136,
     "metadata": {},
     "output_type": "execute_result"
    }
   ],
   "source": [
    "ts4.index"
   ]
  },
  {
   "cell_type": "code",
   "execution_count": 138,
   "id": "7a4e74b1",
   "metadata": {},
   "outputs": [
    {
     "data": {
      "text/plain": [
       "2023-01-02    24\n",
       "2023-01-05    45\n",
       "2023-01-10    90\n",
       "2023-01-13    57\n",
       "2023-01-18    22\n",
       "2023-01-23    52\n",
       "2023-01-26    83\n",
       "2023-01-31    83\n",
       "2023-02-03    56\n",
       "2023-02-08    34\n",
       "2023-02-13    77\n",
       "2023-02-16    93\n",
       "2023-02-21    35\n",
       "2023-02-24    43\n",
       "2023-03-01    17\n",
       "2023-03-06    61\n",
       "2023-03-09    27\n",
       "2023-03-14    39\n",
       "2023-03-17    96\n",
       "2023-03-22    99\n",
       "2023-03-27    96\n",
       "2023-03-30    21\n",
       "Freq: 3B, dtype: int32"
      ]
     },
     "execution_count": 138,
     "metadata": {},
     "output_type": "execute_result"
    }
   ],
   "source": [
    "ts4.asfreq(3 * pd.offsets.BDay())"
   ]
  },
  {
   "cell_type": "code",
   "execution_count": 140,
   "id": "4f714a7d",
   "metadata": {},
   "outputs": [
    {
     "data": {
      "text/plain": [
       "2023-01-31    1111\n",
       "2023-02-28     989\n",
       "2023-03-31    1388\n",
       "Freq: M, dtype: int32"
      ]
     },
     "execution_count": 140,
     "metadata": {},
     "output_type": "execute_result"
    }
   ],
   "source": [
    "ts4.resample('M').sum()  #aggreate on freq"
   ]
  },
  {
   "cell_type": "code",
   "execution_count": 141,
   "id": "e10a34dd",
   "metadata": {},
   "outputs": [
    {
     "data": {
      "text/plain": [
       "2023-01-08    58\n",
       "2023-01-15    90\n",
       "2023-01-22    74\n",
       "2023-01-29    83\n",
       "2023-02-05    83\n",
       "2023-02-12    95\n",
       "2023-02-19    93\n",
       "2023-02-26    59\n",
       "2023-03-05    86\n",
       "2023-03-12    82\n",
       "2023-03-19    96\n",
       "2023-03-26    99\n",
       "2023-04-02    99\n",
       "Freq: W-SUN, dtype: int32"
      ]
     },
     "execution_count": 141,
     "metadata": {},
     "output_type": "execute_result"
    }
   ],
   "source": [
    "ts4.resample('W').max() "
   ]
  },
  {
   "cell_type": "code",
   "execution_count": 142,
   "id": "988ae2a8",
   "metadata": {},
   "outputs": [
    {
     "data": {
      "text/html": [
       "<div>\n",
       "<style scoped>\n",
       "    .dataframe tbody tr th:only-of-type {\n",
       "        vertical-align: middle;\n",
       "    }\n",
       "\n",
       "    .dataframe tbody tr th {\n",
       "        vertical-align: top;\n",
       "    }\n",
       "\n",
       "    .dataframe thead th {\n",
       "        text-align: right;\n",
       "    }\n",
       "</style>\n",
       "<table border=\"1\" class=\"dataframe\">\n",
       "  <thead>\n",
       "    <tr style=\"text-align: right;\">\n",
       "      <th></th>\n",
       "      <th>open</th>\n",
       "      <th>high</th>\n",
       "      <th>low</th>\n",
       "      <th>close</th>\n",
       "    </tr>\n",
       "  </thead>\n",
       "  <tbody>\n",
       "    <tr>\n",
       "      <th>2023-01-31</th>\n",
       "      <td>24</td>\n",
       "      <td>90</td>\n",
       "      <td>16</td>\n",
       "      <td>83</td>\n",
       "    </tr>\n",
       "    <tr>\n",
       "      <th>2023-02-28</th>\n",
       "      <td>35</td>\n",
       "      <td>95</td>\n",
       "      <td>11</td>\n",
       "      <td>45</td>\n",
       "    </tr>\n",
       "    <tr>\n",
       "      <th>2023-03-31</th>\n",
       "      <td>17</td>\n",
       "      <td>99</td>\n",
       "      <td>14</td>\n",
       "      <td>60</td>\n",
       "    </tr>\n",
       "  </tbody>\n",
       "</table>\n",
       "</div>"
      ],
      "text/plain": [
       "            open  high  low  close\n",
       "2023-01-31    24    90   16     83\n",
       "2023-02-28    35    95   11     45\n",
       "2023-03-31    17    99   14     60"
      ]
     },
     "execution_count": 142,
     "metadata": {},
     "output_type": "execute_result"
    }
   ],
   "source": [
    "ts4.resample('M').ohlc() "
   ]
  },
  {
   "cell_type": "code",
   "execution_count": 147,
   "id": "0e2d811e",
   "metadata": {},
   "outputs": [
    {
     "data": {
      "text/plain": [
       "2023-01-31    49.0\n",
       "2023-02-28    51.0\n",
       "2023-03-31    60.0\n",
       "2023-04-30    60.0\n",
       "Freq: M, dtype: float64"
      ]
     },
     "execution_count": 147,
     "metadata": {},
     "output_type": "execute_result"
    }
   ],
   "source": [
    "ts4.resample('M', closed='left').mean().round(0)\n",
    "#For downsampling, closed can be set to ‘left’ or ‘right’ to specify which end of the interval is closed:"
   ]
  },
  {
   "cell_type": "code",
   "execution_count": 148,
   "id": "4a661047",
   "metadata": {},
   "outputs": [
    {
     "data": {
      "text/plain": [
       "2023-01-31    50.0\n",
       "2023-02-28    49.0\n",
       "2023-03-31    60.0\n",
       "Freq: M, dtype: float64"
      ]
     },
     "execution_count": 148,
     "metadata": {},
     "output_type": "execute_result"
    }
   ],
   "source": [
    "ts4.resample('M', label='right').mean().round(0)\n",
    "#Parameters like label are used to manipulate the resulting labels. \n",
    "#label specifies whether the result is labeled with the beginning or the end of the interval.\n",
    "#The default values for label and closed is ‘left’ for all frequency offsets \n",
    "#except for ‘M’, ‘A’, ‘Q’, ‘BM’, ‘BA’, ‘BQ’, and ‘W’ which all have a default of ‘right’."
   ]
  },
  {
   "cell_type": "code",
   "execution_count": 151,
   "id": "43fa709e",
   "metadata": {},
   "outputs": [
    {
     "data": {
      "text/plain": [
       "2023-01-02 00:00:00    24.0\n",
       "2023-01-02 01:00:00    24.0\n",
       "2023-01-02 02:00:00    24.0\n",
       "2023-01-02 03:00:00    24.0\n",
       "2023-01-02 04:00:00    24.0\n",
       "                       ... \n",
       "2023-03-30 20:00:00     NaN\n",
       "2023-03-30 21:00:00     NaN\n",
       "2023-03-30 22:00:00     NaN\n",
       "2023-03-30 23:00:00     NaN\n",
       "2023-03-31 00:00:00    60.0\n",
       "Freq: H, Length: 2113, dtype: float64"
      ]
     },
     "execution_count": 151,
     "metadata": {},
     "output_type": "execute_result"
    }
   ],
   "source": [
    "ts4.resample('H').asfreq().ffill(limit=5)"
   ]
  },
  {
   "cell_type": "code",
   "execution_count": 152,
   "id": "6cc455a0",
   "metadata": {},
   "outputs": [
    {
     "data": {
      "text/plain": [
       "53.66153846153846"
      ]
     },
     "execution_count": 152,
     "metadata": {},
     "output_type": "execute_result"
    }
   ],
   "source": [
    "ts4.mean()"
   ]
  },
  {
   "cell_type": "code",
   "execution_count": 153,
   "id": "ea02b7dc",
   "metadata": {},
   "outputs": [
    {
     "data": {
      "text/plain": [
       "11"
      ]
     },
     "execution_count": 153,
     "metadata": {},
     "output_type": "execute_result"
    }
   ],
   "source": [
    "ts4.min()"
   ]
  },
  {
   "cell_type": "code",
   "execution_count": 154,
   "id": "24b3690c",
   "metadata": {},
   "outputs": [
    {
     "data": {
      "text/plain": [
       "sum     3488.000000\n",
       "mean      53.661538\n",
       "amax      99.000000\n",
       "amin      11.000000\n",
       "dtype: float64"
      ]
     },
     "execution_count": 154,
     "metadata": {},
     "output_type": "execute_result"
    }
   ],
   "source": [
    "ts4.agg([np.sum, np.mean, np.max, np.min])"
   ]
  },
  {
   "cell_type": "code",
   "execution_count": 169,
   "id": "f3178c54",
   "metadata": {},
   "outputs": [],
   "source": [
    "## Aggregation\n",
    "df = pd.DataFrame( np.abs(np.around(100*np.random.randn(100,3))),   index=pd.date_range(\"1/1/2020\", freq=\"D\", periods=100), columns=[\"A\", \"B\", \"C\"],\n",
    ")"
   ]
  },
  {
   "cell_type": "code",
   "execution_count": 170,
   "id": "c0bedb15",
   "metadata": {},
   "outputs": [
    {
     "data": {
      "text/plain": [
       "(100, 3)"
      ]
     },
     "execution_count": 170,
     "metadata": {},
     "output_type": "execute_result"
    }
   ],
   "source": [
    "df.shape"
   ]
  },
  {
   "cell_type": "code",
   "execution_count": 176,
   "id": "ba6e0e62",
   "metadata": {},
   "outputs": [
    {
     "data": {
      "text/html": [
       "<div>\n",
       "<style scoped>\n",
       "    .dataframe tbody tr th:only-of-type {\n",
       "        vertical-align: middle;\n",
       "    }\n",
       "\n",
       "    .dataframe tbody tr th {\n",
       "        vertical-align: top;\n",
       "    }\n",
       "\n",
       "    .dataframe thead th {\n",
       "        text-align: right;\n",
       "    }\n",
       "</style>\n",
       "<table border=\"1\" class=\"dataframe\">\n",
       "  <thead>\n",
       "    <tr style=\"text-align: right;\">\n",
       "      <th></th>\n",
       "      <th>A</th>\n",
       "      <th>B</th>\n",
       "      <th>C</th>\n",
       "    </tr>\n",
       "  </thead>\n",
       "  <tbody>\n",
       "    <tr>\n",
       "      <th>2020-01-01</th>\n",
       "      <td>25.0</td>\n",
       "      <td>153.0</td>\n",
       "      <td>75.0</td>\n",
       "    </tr>\n",
       "    <tr>\n",
       "      <th>2020-01-02</th>\n",
       "      <td>146.0</td>\n",
       "      <td>117.0</td>\n",
       "      <td>42.0</td>\n",
       "    </tr>\n",
       "    <tr>\n",
       "      <th>2020-01-03</th>\n",
       "      <td>111.0</td>\n",
       "      <td>110.0</td>\n",
       "      <td>41.0</td>\n",
       "    </tr>\n",
       "    <tr>\n",
       "      <th>2020-01-04</th>\n",
       "      <td>52.0</td>\n",
       "      <td>81.0</td>\n",
       "      <td>14.0</td>\n",
       "    </tr>\n",
       "    <tr>\n",
       "      <th>2020-01-05</th>\n",
       "      <td>201.0</td>\n",
       "      <td>110.0</td>\n",
       "      <td>75.0</td>\n",
       "    </tr>\n",
       "    <tr>\n",
       "      <th>2020-01-06</th>\n",
       "      <td>72.0</td>\n",
       "      <td>17.0</td>\n",
       "      <td>2.0</td>\n",
       "    </tr>\n",
       "    <tr>\n",
       "      <th>2020-01-07</th>\n",
       "      <td>83.0</td>\n",
       "      <td>178.0</td>\n",
       "      <td>74.0</td>\n",
       "    </tr>\n",
       "    <tr>\n",
       "      <th>2020-01-08</th>\n",
       "      <td>95.0</td>\n",
       "      <td>131.0</td>\n",
       "      <td>11.0</td>\n",
       "    </tr>\n",
       "  </tbody>\n",
       "</table>\n",
       "</div>"
      ],
      "text/plain": [
       "                A      B     C\n",
       "2020-01-01   25.0  153.0  75.0\n",
       "2020-01-02  146.0  117.0  42.0\n",
       "2020-01-03  111.0  110.0  41.0\n",
       "2020-01-04   52.0   81.0  14.0\n",
       "2020-01-05  201.0  110.0  75.0\n",
       "2020-01-06   72.0   17.0   2.0\n",
       "2020-01-07   83.0  178.0  74.0\n",
       "2020-01-08   95.0  131.0  11.0"
      ]
     },
     "execution_count": 176,
     "metadata": {},
     "output_type": "execute_result"
    }
   ],
   "source": [
    "df.head(8)"
   ]
  },
  {
   "cell_type": "code",
   "execution_count": 177,
   "id": "24c3abb8",
   "metadata": {},
   "outputs": [],
   "source": [
    "df2 = df.resample('W')"
   ]
  },
  {
   "cell_type": "code",
   "execution_count": 175,
   "id": "06c2b7e2",
   "metadata": {},
   "outputs": [
    {
     "data": {
      "text/html": [
       "<div>\n",
       "<style scoped>\n",
       "    .dataframe tbody tr th:only-of-type {\n",
       "        vertical-align: middle;\n",
       "    }\n",
       "\n",
       "    .dataframe tbody tr th {\n",
       "        vertical-align: top;\n",
       "    }\n",
       "\n",
       "    .dataframe thead th {\n",
       "        text-align: right;\n",
       "    }\n",
       "</style>\n",
       "<table border=\"1\" class=\"dataframe\">\n",
       "  <thead>\n",
       "    <tr style=\"text-align: right;\">\n",
       "      <th></th>\n",
       "      <th>A</th>\n",
       "      <th>B</th>\n",
       "      <th>C</th>\n",
       "    </tr>\n",
       "  </thead>\n",
       "  <tbody>\n",
       "    <tr>\n",
       "      <th>2020-01-05</th>\n",
       "      <td>107.000000</td>\n",
       "      <td>114.200000</td>\n",
       "      <td>49.400000</td>\n",
       "    </tr>\n",
       "    <tr>\n",
       "      <th>2020-01-12</th>\n",
       "      <td>86.000000</td>\n",
       "      <td>93.857143</td>\n",
       "      <td>48.857143</td>\n",
       "    </tr>\n",
       "    <tr>\n",
       "      <th>2020-01-19</th>\n",
       "      <td>119.285714</td>\n",
       "      <td>115.000000</td>\n",
       "      <td>88.000000</td>\n",
       "    </tr>\n",
       "    <tr>\n",
       "      <th>2020-01-26</th>\n",
       "      <td>67.857143</td>\n",
       "      <td>86.285714</td>\n",
       "      <td>44.428571</td>\n",
       "    </tr>\n",
       "    <tr>\n",
       "      <th>2020-02-02</th>\n",
       "      <td>71.714286</td>\n",
       "      <td>75.857143</td>\n",
       "      <td>115.714286</td>\n",
       "    </tr>\n",
       "    <tr>\n",
       "      <th>2020-02-09</th>\n",
       "      <td>77.857143</td>\n",
       "      <td>64.428571</td>\n",
       "      <td>131.571429</td>\n",
       "    </tr>\n",
       "    <tr>\n",
       "      <th>2020-02-16</th>\n",
       "      <td>91.714286</td>\n",
       "      <td>37.000000</td>\n",
       "      <td>73.571429</td>\n",
       "    </tr>\n",
       "    <tr>\n",
       "      <th>2020-02-23</th>\n",
       "      <td>86.857143</td>\n",
       "      <td>85.714286</td>\n",
       "      <td>113.714286</td>\n",
       "    </tr>\n",
       "    <tr>\n",
       "      <th>2020-03-01</th>\n",
       "      <td>40.714286</td>\n",
       "      <td>140.571429</td>\n",
       "      <td>85.285714</td>\n",
       "    </tr>\n",
       "    <tr>\n",
       "      <th>2020-03-08</th>\n",
       "      <td>116.428571</td>\n",
       "      <td>107.428571</td>\n",
       "      <td>92.000000</td>\n",
       "    </tr>\n",
       "    <tr>\n",
       "      <th>2020-03-15</th>\n",
       "      <td>85.714286</td>\n",
       "      <td>69.142857</td>\n",
       "      <td>80.000000</td>\n",
       "    </tr>\n",
       "    <tr>\n",
       "      <th>2020-03-22</th>\n",
       "      <td>106.571429</td>\n",
       "      <td>61.285714</td>\n",
       "      <td>120.857143</td>\n",
       "    </tr>\n",
       "    <tr>\n",
       "      <th>2020-03-29</th>\n",
       "      <td>56.571429</td>\n",
       "      <td>122.000000</td>\n",
       "      <td>85.428571</td>\n",
       "    </tr>\n",
       "    <tr>\n",
       "      <th>2020-04-05</th>\n",
       "      <td>83.142857</td>\n",
       "      <td>84.000000</td>\n",
       "      <td>85.857143</td>\n",
       "    </tr>\n",
       "    <tr>\n",
       "      <th>2020-04-12</th>\n",
       "      <td>79.500000</td>\n",
       "      <td>44.000000</td>\n",
       "      <td>58.500000</td>\n",
       "    </tr>\n",
       "  </tbody>\n",
       "</table>\n",
       "</div>"
      ],
      "text/plain": [
       "                     A           B           C\n",
       "2020-01-05  107.000000  114.200000   49.400000\n",
       "2020-01-12   86.000000   93.857143   48.857143\n",
       "2020-01-19  119.285714  115.000000   88.000000\n",
       "2020-01-26   67.857143   86.285714   44.428571\n",
       "2020-02-02   71.714286   75.857143  115.714286\n",
       "2020-02-09   77.857143   64.428571  131.571429\n",
       "2020-02-16   91.714286   37.000000   73.571429\n",
       "2020-02-23   86.857143   85.714286  113.714286\n",
       "2020-03-01   40.714286  140.571429   85.285714\n",
       "2020-03-08  116.428571  107.428571   92.000000\n",
       "2020-03-15   85.714286   69.142857   80.000000\n",
       "2020-03-22  106.571429   61.285714  120.857143\n",
       "2020-03-29   56.571429  122.000000   85.428571\n",
       "2020-04-05   83.142857   84.000000   85.857143\n",
       "2020-04-12   79.500000   44.000000   58.500000"
      ]
     },
     "execution_count": 175,
     "metadata": {},
     "output_type": "execute_result"
    }
   ],
   "source": [
    "df2.mean()"
   ]
  },
  {
   "cell_type": "code",
   "execution_count": 178,
   "id": "a5b5aa21",
   "metadata": {},
   "outputs": [
    {
     "data": {
      "text/plain": [
       "2020-01-05    107.000000\n",
       "2020-01-12     86.000000\n",
       "2020-01-19    119.285714\n",
       "2020-01-26     67.857143\n",
       "2020-02-02     71.714286\n",
       "2020-02-09     77.857143\n",
       "2020-02-16     91.714286\n",
       "2020-02-23     86.857143\n",
       "2020-03-01     40.714286\n",
       "2020-03-08    116.428571\n",
       "2020-03-15     85.714286\n",
       "2020-03-22    106.571429\n",
       "2020-03-29     56.571429\n",
       "2020-04-05     83.142857\n",
       "2020-04-12     79.500000\n",
       "Freq: W-SUN, Name: A, dtype: float64"
      ]
     },
     "execution_count": 178,
     "metadata": {},
     "output_type": "execute_result"
    }
   ],
   "source": [
    "df2['A'].mean()"
   ]
  },
  {
   "cell_type": "code",
   "execution_count": 180,
   "id": "b0983906",
   "metadata": {},
   "outputs": [
    {
     "data": {
      "text/html": [
       "<div>\n",
       "<style scoped>\n",
       "    .dataframe tbody tr th:only-of-type {\n",
       "        vertical-align: middle;\n",
       "    }\n",
       "\n",
       "    .dataframe tbody tr th {\n",
       "        vertical-align: top;\n",
       "    }\n",
       "\n",
       "    .dataframe thead th {\n",
       "        text-align: right;\n",
       "    }\n",
       "</style>\n",
       "<table border=\"1\" class=\"dataframe\">\n",
       "  <thead>\n",
       "    <tr style=\"text-align: right;\">\n",
       "      <th></th>\n",
       "      <th>A</th>\n",
       "      <th>B</th>\n",
       "      <th>C</th>\n",
       "    </tr>\n",
       "  </thead>\n",
       "  <tbody>\n",
       "    <tr>\n",
       "      <th>sum</th>\n",
       "      <td>8486.00000</td>\n",
       "      <td>8745.000000</td>\n",
       "      <td>8638.000000</td>\n",
       "    </tr>\n",
       "    <tr>\n",
       "      <th>mean</th>\n",
       "      <td>84.86000</td>\n",
       "      <td>87.450000</td>\n",
       "      <td>86.380000</td>\n",
       "    </tr>\n",
       "    <tr>\n",
       "      <th>std</th>\n",
       "      <td>58.15549</td>\n",
       "      <td>68.845072</td>\n",
       "      <td>64.170351</td>\n",
       "    </tr>\n",
       "  </tbody>\n",
       "</table>\n",
       "</div>"
      ],
      "text/plain": [
       "               A            B            C\n",
       "sum   8486.00000  8745.000000  8638.000000\n",
       "mean    84.86000    87.450000    86.380000\n",
       "std     58.15549    68.845072    64.170351"
      ]
     },
     "execution_count": 180,
     "metadata": {},
     "output_type": "execute_result"
    }
   ],
   "source": [
    "df.agg([np.sum, np.mean, np.std])"
   ]
  },
  {
   "cell_type": "code",
   "execution_count": 182,
   "id": "5475282c",
   "metadata": {},
   "outputs": [
    {
     "data": {
      "text/html": [
       "<div>\n",
       "<style scoped>\n",
       "    .dataframe tbody tr th:only-of-type {\n",
       "        vertical-align: middle;\n",
       "    }\n",
       "\n",
       "    .dataframe tbody tr th {\n",
       "        vertical-align: top;\n",
       "    }\n",
       "\n",
       "    .dataframe thead tr th {\n",
       "        text-align: left;\n",
       "    }\n",
       "</style>\n",
       "<table border=\"1\" class=\"dataframe\">\n",
       "  <thead>\n",
       "    <tr>\n",
       "      <th></th>\n",
       "      <th colspan=\"3\" halign=\"left\">A</th>\n",
       "      <th colspan=\"3\" halign=\"left\">B</th>\n",
       "      <th colspan=\"3\" halign=\"left\">C</th>\n",
       "    </tr>\n",
       "    <tr>\n",
       "      <th></th>\n",
       "      <th>sum</th>\n",
       "      <th>mean</th>\n",
       "      <th>std</th>\n",
       "      <th>sum</th>\n",
       "      <th>mean</th>\n",
       "      <th>std</th>\n",
       "      <th>sum</th>\n",
       "      <th>mean</th>\n",
       "      <th>std</th>\n",
       "    </tr>\n",
       "  </thead>\n",
       "  <tbody>\n",
       "    <tr>\n",
       "      <th>2020-01-05</th>\n",
       "      <td>535.0</td>\n",
       "      <td>107.000000</td>\n",
       "      <td>70.926018</td>\n",
       "      <td>571.0</td>\n",
       "      <td>114.200000</td>\n",
       "      <td>25.742960</td>\n",
       "      <td>247.0</td>\n",
       "      <td>49.400000</td>\n",
       "      <td>25.928749</td>\n",
       "    </tr>\n",
       "    <tr>\n",
       "      <th>2020-01-12</th>\n",
       "      <td>602.0</td>\n",
       "      <td>86.000000</td>\n",
       "      <td>38.630730</td>\n",
       "      <td>657.0</td>\n",
       "      <td>93.857143</td>\n",
       "      <td>63.549006</td>\n",
       "      <td>342.0</td>\n",
       "      <td>48.857143</td>\n",
       "      <td>44.908903</td>\n",
       "    </tr>\n",
       "    <tr>\n",
       "      <th>2020-01-19</th>\n",
       "      <td>835.0</td>\n",
       "      <td>119.285714</td>\n",
       "      <td>73.705980</td>\n",
       "      <td>805.0</td>\n",
       "      <td>115.000000</td>\n",
       "      <td>79.682704</td>\n",
       "      <td>616.0</td>\n",
       "      <td>88.000000</td>\n",
       "      <td>63.126856</td>\n",
       "    </tr>\n",
       "    <tr>\n",
       "      <th>2020-01-26</th>\n",
       "      <td>475.0</td>\n",
       "      <td>67.857143</td>\n",
       "      <td>44.442579</td>\n",
       "      <td>604.0</td>\n",
       "      <td>86.285714</td>\n",
       "      <td>70.412391</td>\n",
       "      <td>311.0</td>\n",
       "      <td>44.428571</td>\n",
       "      <td>30.281222</td>\n",
       "    </tr>\n",
       "    <tr>\n",
       "      <th>2020-02-02</th>\n",
       "      <td>502.0</td>\n",
       "      <td>71.714286</td>\n",
       "      <td>56.094308</td>\n",
       "      <td>531.0</td>\n",
       "      <td>75.857143</td>\n",
       "      <td>80.914417</td>\n",
       "      <td>810.0</td>\n",
       "      <td>115.714286</td>\n",
       "      <td>87.099013</td>\n",
       "    </tr>\n",
       "    <tr>\n",
       "      <th>2020-02-09</th>\n",
       "      <td>545.0</td>\n",
       "      <td>77.857143</td>\n",
       "      <td>44.273501</td>\n",
       "      <td>451.0</td>\n",
       "      <td>64.428571</td>\n",
       "      <td>54.914652</td>\n",
       "      <td>921.0</td>\n",
       "      <td>131.571429</td>\n",
       "      <td>62.822122</td>\n",
       "    </tr>\n",
       "    <tr>\n",
       "      <th>2020-02-16</th>\n",
       "      <td>642.0</td>\n",
       "      <td>91.714286</td>\n",
       "      <td>96.760382</td>\n",
       "      <td>259.0</td>\n",
       "      <td>37.000000</td>\n",
       "      <td>37.107951</td>\n",
       "      <td>515.0</td>\n",
       "      <td>73.571429</td>\n",
       "      <td>55.710134</td>\n",
       "    </tr>\n",
       "    <tr>\n",
       "      <th>2020-02-23</th>\n",
       "      <td>608.0</td>\n",
       "      <td>86.857143</td>\n",
       "      <td>84.576255</td>\n",
       "      <td>600.0</td>\n",
       "      <td>85.714286</td>\n",
       "      <td>84.442711</td>\n",
       "      <td>796.0</td>\n",
       "      <td>113.714286</td>\n",
       "      <td>66.829919</td>\n",
       "    </tr>\n",
       "    <tr>\n",
       "      <th>2020-03-01</th>\n",
       "      <td>285.0</td>\n",
       "      <td>40.714286</td>\n",
       "      <td>36.940106</td>\n",
       "      <td>984.0</td>\n",
       "      <td>140.571429</td>\n",
       "      <td>110.189015</td>\n",
       "      <td>597.0</td>\n",
       "      <td>85.285714</td>\n",
       "      <td>61.486352</td>\n",
       "    </tr>\n",
       "    <tr>\n",
       "      <th>2020-03-08</th>\n",
       "      <td>815.0</td>\n",
       "      <td>116.428571</td>\n",
       "      <td>49.742192</td>\n",
       "      <td>752.0</td>\n",
       "      <td>107.428571</td>\n",
       "      <td>60.221417</td>\n",
       "      <td>644.0</td>\n",
       "      <td>92.000000</td>\n",
       "      <td>66.007575</td>\n",
       "    </tr>\n",
       "    <tr>\n",
       "      <th>2020-03-15</th>\n",
       "      <td>600.0</td>\n",
       "      <td>85.714286</td>\n",
       "      <td>65.196407</td>\n",
       "      <td>484.0</td>\n",
       "      <td>69.142857</td>\n",
       "      <td>52.676461</td>\n",
       "      <td>560.0</td>\n",
       "      <td>80.000000</td>\n",
       "      <td>57.439824</td>\n",
       "    </tr>\n",
       "    <tr>\n",
       "      <th>2020-03-22</th>\n",
       "      <td>746.0</td>\n",
       "      <td>106.571429</td>\n",
       "      <td>56.317129</td>\n",
       "      <td>429.0</td>\n",
       "      <td>61.285714</td>\n",
       "      <td>61.748723</td>\n",
       "      <td>846.0</td>\n",
       "      <td>120.857143</td>\n",
       "      <td>85.317893</td>\n",
       "    </tr>\n",
       "    <tr>\n",
       "      <th>2020-03-29</th>\n",
       "      <td>396.0</td>\n",
       "      <td>56.571429</td>\n",
       "      <td>21.149130</td>\n",
       "      <td>854.0</td>\n",
       "      <td>122.000000</td>\n",
       "      <td>84.443275</td>\n",
       "      <td>598.0</td>\n",
       "      <td>85.428571</td>\n",
       "      <td>87.013135</td>\n",
       "    </tr>\n",
       "    <tr>\n",
       "      <th>2020-04-05</th>\n",
       "      <td>582.0</td>\n",
       "      <td>83.142857</td>\n",
       "      <td>42.978400</td>\n",
       "      <td>588.0</td>\n",
       "      <td>84.000000</td>\n",
       "      <td>32.644550</td>\n",
       "      <td>601.0</td>\n",
       "      <td>85.857143</td>\n",
       "      <td>56.534440</td>\n",
       "    </tr>\n",
       "    <tr>\n",
       "      <th>2020-04-12</th>\n",
       "      <td>318.0</td>\n",
       "      <td>79.500000</td>\n",
       "      <td>44.290706</td>\n",
       "      <td>176.0</td>\n",
       "      <td>44.000000</td>\n",
       "      <td>42.473521</td>\n",
       "      <td>234.0</td>\n",
       "      <td>58.500000</td>\n",
       "      <td>37.704995</td>\n",
       "    </tr>\n",
       "  </tbody>\n",
       "</table>\n",
       "</div>"
      ],
      "text/plain": [
       "                A                             B                              C                       \n",
       "              sum        mean        std    sum        mean         std    sum        mean        std\n",
       "2020-01-05  535.0  107.000000  70.926018  571.0  114.200000   25.742960  247.0   49.400000  25.928749\n",
       "2020-01-12  602.0   86.000000  38.630730  657.0   93.857143   63.549006  342.0   48.857143  44.908903\n",
       "2020-01-19  835.0  119.285714  73.705980  805.0  115.000000   79.682704  616.0   88.000000  63.126856\n",
       "2020-01-26  475.0   67.857143  44.442579  604.0   86.285714   70.412391  311.0   44.428571  30.281222\n",
       "2020-02-02  502.0   71.714286  56.094308  531.0   75.857143   80.914417  810.0  115.714286  87.099013\n",
       "2020-02-09  545.0   77.857143  44.273501  451.0   64.428571   54.914652  921.0  131.571429  62.822122\n",
       "2020-02-16  642.0   91.714286  96.760382  259.0   37.000000   37.107951  515.0   73.571429  55.710134\n",
       "2020-02-23  608.0   86.857143  84.576255  600.0   85.714286   84.442711  796.0  113.714286  66.829919\n",
       "2020-03-01  285.0   40.714286  36.940106  984.0  140.571429  110.189015  597.0   85.285714  61.486352\n",
       "2020-03-08  815.0  116.428571  49.742192  752.0  107.428571   60.221417  644.0   92.000000  66.007575\n",
       "2020-03-15  600.0   85.714286  65.196407  484.0   69.142857   52.676461  560.0   80.000000  57.439824\n",
       "2020-03-22  746.0  106.571429  56.317129  429.0   61.285714   61.748723  846.0  120.857143  85.317893\n",
       "2020-03-29  396.0   56.571429  21.149130  854.0  122.000000   84.443275  598.0   85.428571  87.013135\n",
       "2020-04-05  582.0   83.142857  42.978400  588.0   84.000000   32.644550  601.0   85.857143  56.534440\n",
       "2020-04-12  318.0   79.500000  44.290706  176.0   44.000000   42.473521  234.0   58.500000  37.704995"
      ]
     },
     "execution_count": 182,
     "metadata": {},
     "output_type": "execute_result"
    }
   ],
   "source": [
    "df2.agg([np.sum, np.mean, np.std])"
   ]
  },
  {
   "cell_type": "code",
   "execution_count": 185,
   "id": "a5ed8bfa",
   "metadata": {},
   "outputs": [
    {
     "data": {
      "text/html": [
       "<div>\n",
       "<style scoped>\n",
       "    .dataframe tbody tr th:only-of-type {\n",
       "        vertical-align: middle;\n",
       "    }\n",
       "\n",
       "    .dataframe tbody tr th {\n",
       "        vertical-align: top;\n",
       "    }\n",
       "\n",
       "    .dataframe thead th {\n",
       "        text-align: right;\n",
       "    }\n",
       "</style>\n",
       "<table border=\"1\" class=\"dataframe\">\n",
       "  <thead>\n",
       "    <tr style=\"text-align: right;\">\n",
       "      <th></th>\n",
       "      <th>A</th>\n",
       "      <th>B</th>\n",
       "    </tr>\n",
       "  </thead>\n",
       "  <tbody>\n",
       "    <tr>\n",
       "      <th>sum</th>\n",
       "      <td>8486.00</td>\n",
       "      <td>8745.0</td>\n",
       "    </tr>\n",
       "    <tr>\n",
       "      <th>mean</th>\n",
       "      <td>84.86</td>\n",
       "      <td>NaN</td>\n",
       "    </tr>\n",
       "  </tbody>\n",
       "</table>\n",
       "</div>"
      ],
      "text/plain": [
       "            A       B\n",
       "sum   8486.00  8745.0\n",
       "mean    84.86     NaN"
      ]
     },
     "execution_count": 185,
     "metadata": {},
     "output_type": "execute_result"
    }
   ],
   "source": [
    "df.agg({'A':[np.sum, np.mean], 'B':['sum']})"
   ]
  },
  {
   "cell_type": "code",
   "execution_count": 186,
   "id": "96688de5",
   "metadata": {},
   "outputs": [
    {
     "data": {
      "text/html": [
       "<div>\n",
       "<style scoped>\n",
       "    .dataframe tbody tr th:only-of-type {\n",
       "        vertical-align: middle;\n",
       "    }\n",
       "\n",
       "    .dataframe tbody tr th {\n",
       "        vertical-align: top;\n",
       "    }\n",
       "\n",
       "    .dataframe thead tr th {\n",
       "        text-align: left;\n",
       "    }\n",
       "</style>\n",
       "<table border=\"1\" class=\"dataframe\">\n",
       "  <thead>\n",
       "    <tr>\n",
       "      <th></th>\n",
       "      <th colspan=\"2\" halign=\"left\">A</th>\n",
       "      <th>B</th>\n",
       "    </tr>\n",
       "    <tr>\n",
       "      <th></th>\n",
       "      <th>sum</th>\n",
       "      <th>mean</th>\n",
       "      <th>sum</th>\n",
       "    </tr>\n",
       "  </thead>\n",
       "  <tbody>\n",
       "    <tr>\n",
       "      <th>2020-01-05</th>\n",
       "      <td>535.0</td>\n",
       "      <td>107.000000</td>\n",
       "      <td>571.0</td>\n",
       "    </tr>\n",
       "    <tr>\n",
       "      <th>2020-01-12</th>\n",
       "      <td>602.0</td>\n",
       "      <td>86.000000</td>\n",
       "      <td>657.0</td>\n",
       "    </tr>\n",
       "    <tr>\n",
       "      <th>2020-01-19</th>\n",
       "      <td>835.0</td>\n",
       "      <td>119.285714</td>\n",
       "      <td>805.0</td>\n",
       "    </tr>\n",
       "    <tr>\n",
       "      <th>2020-01-26</th>\n",
       "      <td>475.0</td>\n",
       "      <td>67.857143</td>\n",
       "      <td>604.0</td>\n",
       "    </tr>\n",
       "    <tr>\n",
       "      <th>2020-02-02</th>\n",
       "      <td>502.0</td>\n",
       "      <td>71.714286</td>\n",
       "      <td>531.0</td>\n",
       "    </tr>\n",
       "    <tr>\n",
       "      <th>2020-02-09</th>\n",
       "      <td>545.0</td>\n",
       "      <td>77.857143</td>\n",
       "      <td>451.0</td>\n",
       "    </tr>\n",
       "    <tr>\n",
       "      <th>2020-02-16</th>\n",
       "      <td>642.0</td>\n",
       "      <td>91.714286</td>\n",
       "      <td>259.0</td>\n",
       "    </tr>\n",
       "    <tr>\n",
       "      <th>2020-02-23</th>\n",
       "      <td>608.0</td>\n",
       "      <td>86.857143</td>\n",
       "      <td>600.0</td>\n",
       "    </tr>\n",
       "    <tr>\n",
       "      <th>2020-03-01</th>\n",
       "      <td>285.0</td>\n",
       "      <td>40.714286</td>\n",
       "      <td>984.0</td>\n",
       "    </tr>\n",
       "    <tr>\n",
       "      <th>2020-03-08</th>\n",
       "      <td>815.0</td>\n",
       "      <td>116.428571</td>\n",
       "      <td>752.0</td>\n",
       "    </tr>\n",
       "    <tr>\n",
       "      <th>2020-03-15</th>\n",
       "      <td>600.0</td>\n",
       "      <td>85.714286</td>\n",
       "      <td>484.0</td>\n",
       "    </tr>\n",
       "    <tr>\n",
       "      <th>2020-03-22</th>\n",
       "      <td>746.0</td>\n",
       "      <td>106.571429</td>\n",
       "      <td>429.0</td>\n",
       "    </tr>\n",
       "    <tr>\n",
       "      <th>2020-03-29</th>\n",
       "      <td>396.0</td>\n",
       "      <td>56.571429</td>\n",
       "      <td>854.0</td>\n",
       "    </tr>\n",
       "    <tr>\n",
       "      <th>2020-04-05</th>\n",
       "      <td>582.0</td>\n",
       "      <td>83.142857</td>\n",
       "      <td>588.0</td>\n",
       "    </tr>\n",
       "    <tr>\n",
       "      <th>2020-04-12</th>\n",
       "      <td>318.0</td>\n",
       "      <td>79.500000</td>\n",
       "      <td>176.0</td>\n",
       "    </tr>\n",
       "  </tbody>\n",
       "</table>\n",
       "</div>"
      ],
      "text/plain": [
       "                A                  B\n",
       "              sum        mean    sum\n",
       "2020-01-05  535.0  107.000000  571.0\n",
       "2020-01-12  602.0   86.000000  657.0\n",
       "2020-01-19  835.0  119.285714  805.0\n",
       "2020-01-26  475.0   67.857143  604.0\n",
       "2020-02-02  502.0   71.714286  531.0\n",
       "2020-02-09  545.0   77.857143  451.0\n",
       "2020-02-16  642.0   91.714286  259.0\n",
       "2020-02-23  608.0   86.857143  600.0\n",
       "2020-03-01  285.0   40.714286  984.0\n",
       "2020-03-08  815.0  116.428571  752.0\n",
       "2020-03-15  600.0   85.714286  484.0\n",
       "2020-03-22  746.0  106.571429  429.0\n",
       "2020-03-29  396.0   56.571429  854.0\n",
       "2020-04-05  582.0   83.142857  588.0\n",
       "2020-04-12  318.0   79.500000  176.0"
      ]
     },
     "execution_count": 186,
     "metadata": {},
     "output_type": "execute_result"
    }
   ],
   "source": [
    "df2.agg({'A':[np.sum, np.mean], 'B':['sum']})"
   ]
  },
  {
   "cell_type": "code",
   "execution_count": null,
   "id": "e8c84669",
   "metadata": {},
   "outputs": [],
   "source": [
    "#"
   ]
  }
 ],
 "metadata": {
  "kernelspec": {
   "display_name": "Python 3 (ipykernel)",
   "language": "python",
   "name": "python3"
  },
  "language_info": {
   "codemirror_mode": {
    "name": "ipython",
    "version": 3
   },
   "file_extension": ".py",
   "mimetype": "text/x-python",
   "name": "python",
   "nbconvert_exporter": "python",
   "pygments_lexer": "ipython3",
   "version": "3.9.15"
  }
 },
 "nbformat": 4,
 "nbformat_minor": 5
}
