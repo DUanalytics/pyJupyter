{
 "cells": [
  {
   "cell_type": "code",
   "execution_count": null,
   "id": "1279bfcf",
   "metadata": {},
   "outputs": [],
   "source": [
    "# Interval"
   ]
  },
  {
   "cell_type": "code",
   "execution_count": null,
   "id": "82379f97",
   "metadata": {},
   "outputs": [],
   "source": []
  },
  {
   "cell_type": "code",
   "execution_count": 7,
   "id": "59bd1043",
   "metadata": {},
   "outputs": [],
   "source": [
    "import datetime as dt\n",
    "from typing import NamedTuple\n",
    "import pandas as pd"
   ]
  },
  {
   "cell_type": "markdown",
   "id": "d0c8ad94",
   "metadata": {},
   "source": [
    "The NamedTuple class of the typing module added in Python 3.6 is the younger sibling of the namedtuple class in the collections module. The main difference being an updated syntax for defining new record types and added support for type hints. Like dictionaries, NamedTuples contain keys that are hashed to a particular value. But on the contrary, it supports both access from key-value and iteration, the functionality that dictionaries lack.\n",
    "\n",
    "Creating a NamedTuple \n",
    "NamedTuple can be created using the following syntax:\n",
    "\n",
    "class class_name(NamedTuple):\n",
    "    field1: datatype\n",
    "    field2: datatype"
   ]
  },
  {
   "cell_type": "code",
   "execution_count": 8,
   "id": "a352147f",
   "metadata": {},
   "outputs": [],
   "source": [
    "class Range(NamedTuple):\n",
    "    start: dt.datetime\n",
    "    end: dt.datetime"
   ]
  },
  {
   "cell_type": "code",
   "execution_count": 9,
   "id": "a38f46c0",
   "metadata": {},
   "outputs": [
    {
     "data": {
      "text/plain": [
       "0"
      ]
     },
     "execution_count": 9,
     "metadata": {},
     "output_type": "execute_result"
    }
   ],
   "source": [
    "r1 = Range(start=dt.datetime(2018, 11, 1), end=dt.datetime(2021, 3, 14))\n",
    "r2 = Range(start=dt.datetime(2021, 7, 1), end=dt.datetime(2022, 6, 30))\n",
    "latest_start = max(r1.start, r2.start)\n",
    "earliest_end = min(r1.end, r2.end)\n",
    "delta = (earliest_end - latest_start).days + 1\n",
    "overlap = max(0, delta)\n",
    "overlap"
   ]
  },
  {
   "cell_type": "code",
   "execution_count": 10,
   "id": "a7f4539d",
   "metadata": {},
   "outputs": [
    {
     "data": {
      "text/plain": [
       "pandas._libs.interval.Interval"
      ]
     },
     "execution_count": 10,
     "metadata": {},
     "output_type": "execute_result"
    }
   ],
   "source": [
    "#using pd.interval\n",
    "pd.Interval"
   ]
  },
  {
   "cell_type": "code",
   "execution_count": 11,
   "id": "8e967dbc",
   "metadata": {},
   "outputs": [
    {
     "name": "stdout",
     "output_type": "stream",
     "text": [
      "(0, 2] (1, 3]\n"
     ]
    }
   ],
   "source": [
    "i1 = pd.Interval(0, 2)\n",
    "i2 = pd.Interval(1, 3)\n",
    "print(i1, i2)"
   ]
  },
  {
   "cell_type": "code",
   "execution_count": 12,
   "id": "2ae63728",
   "metadata": {},
   "outputs": [
    {
     "data": {
      "text/plain": [
       "True"
      ]
     },
     "execution_count": 12,
     "metadata": {},
     "output_type": "execute_result"
    }
   ],
   "source": [
    "i1.overlaps(i2)"
   ]
  },
  {
   "cell_type": "code",
   "execution_count": 13,
   "id": "2b9e42a8",
   "metadata": {},
   "outputs": [
    {
     "data": {
      "text/plain": [
       "False"
      ]
     },
     "execution_count": 13,
     "metadata": {},
     "output_type": "execute_result"
    }
   ],
   "source": [
    "i3 = pd.Interval(4, 5)\n",
    "i1.overlaps(i3)"
   ]
  },
  {
   "cell_type": "code",
   "execution_count": 14,
   "id": "0cb53768",
   "metadata": {},
   "outputs": [
    {
     "name": "stdout",
     "output_type": "stream",
     "text": [
      "1541010600.0 1678732200.0 1625077800.0 1656527400.0\n"
     ]
    }
   ],
   "source": [
    "DOJ = dt.datetime(2018, 11, 1).timestamp()\n",
    "DOL = dt.datetime(2023, 3, 14).timestamp()\n",
    "DS = dt.datetime(2021, 7, 1).timestamp()\n",
    "DE = dt.datetime(2022, 6, 30).timestamp()\n",
    "print(DOJ, DOL, DS, DE)\n",
    "#dt.datetime.timestamp(DOJ)"
   ]
  },
  {
   "cell_type": "code",
   "execution_count": 15,
   "id": "a9cf165c",
   "metadata": {},
   "outputs": [
    {
     "name": "stdout",
     "output_type": "stream",
     "text": [
      "[1541010600.0, 1678732200.0] [1625077800.0, 1656527400.0]\n"
     ]
    }
   ],
   "source": [
    "i1 = pd.Interval(left=DOJ, right=DOL, closed='both')\n",
    "i2 = pd.Interval(left=DS, right=DE, closed='both')\n",
    "print(i1, i2)"
   ]
  },
  {
   "cell_type": "code",
   "execution_count": 33,
   "id": "8d6c12da",
   "metadata": {},
   "outputs": [
    {
     "data": {
      "text/plain": [
       "137721600.0"
      ]
     },
     "execution_count": 33,
     "metadata": {},
     "output_type": "execute_result"
    }
   ],
   "source": [
    "i1.length"
   ]
  },
  {
   "cell_type": "code",
   "execution_count": 37,
   "id": "fda9076b",
   "metadata": {},
   "outputs": [
    {
     "data": {
      "text/plain": [
       "pandas._libs.interval.Interval"
      ]
     },
     "execution_count": 37,
     "metadata": {},
     "output_type": "execute_result"
    }
   ],
   "source": [
    "type(i1)"
   ]
  },
  {
   "cell_type": "code",
   "execution_count": 36,
   "id": "81245b75",
   "metadata": {},
   "outputs": [
    {
     "data": {
      "text/plain": [
       "datetime.datetime(1974, 5, 14, 5, 30)"
      ]
     },
     "execution_count": 36,
     "metadata": {},
     "output_type": "execute_result"
    }
   ],
   "source": [
    "dt.datetime.fromtimestamp(i1.length)"
   ]
  },
  {
   "cell_type": "code",
   "execution_count": 16,
   "id": "d6f6d0e0",
   "metadata": {},
   "outputs": [
    {
     "data": {
      "text/plain": [
       "True"
      ]
     },
     "execution_count": 16,
     "metadata": {},
     "output_type": "execute_result"
    }
   ],
   "source": [
    "i1.overlaps(i2)"
   ]
  },
  {
   "cell_type": "code",
   "execution_count": 17,
   "id": "e5d4a15b",
   "metadata": {},
   "outputs": [
    {
     "data": {
      "text/plain": [
       "True"
      ]
     },
     "execution_count": 17,
     "metadata": {},
     "output_type": "execute_result"
    }
   ],
   "source": [
    "i2.overlaps(i1)"
   ]
  },
  {
   "cell_type": "code",
   "execution_count": 19,
   "id": "1fc4b993",
   "metadata": {},
   "outputs": [],
   "source": [
    "#?NamedTuple"
   ]
  },
  {
   "cell_type": "code",
   "execution_count": 21,
   "id": "c4ea326e",
   "metadata": {},
   "outputs": [
    {
     "data": {
      "text/plain": [
       "1678732200.0"
      ]
     },
     "execution_count": 21,
     "metadata": {},
     "output_type": "execute_result"
    }
   ],
   "source": [
    "import time as tm\n",
    "import datetime as dt\n",
    "s ='2023-03-14'\n",
    "tm.mktime(dt.datetime.strptime(s, '%Y-%m-%d').timetuple())"
   ]
  },
  {
   "cell_type": "code",
   "execution_count": 24,
   "id": "a4a29736",
   "metadata": {},
   "outputs": [],
   "source": [
    "# another way\n",
    "class Range2(NamedTuple):\n",
    "    start: dt.datetime.timestamp\n",
    "    end: dt.datetime.timestamp"
   ]
  },
  {
   "cell_type": "code",
   "execution_count": 27,
   "id": "9b427d4a",
   "metadata": {},
   "outputs": [],
   "source": [
    "r1 = Range2(start=dt.datetime(2018, 11, 1), end=dt.datetime(2021, 3, 14))\n",
    "r2 = Range2(start=dt.datetime(2021, 7, 1), end=dt.datetime(2022, 6, 30))"
   ]
  },
  {
   "cell_type": "code",
   "execution_count": 28,
   "id": "0fe86c0a",
   "metadata": {},
   "outputs": [
    {
     "data": {
      "text/plain": [
       "<function Range2.index(value, start=0, stop=9223372036854775807, /)>"
      ]
     },
     "execution_count": 28,
     "metadata": {},
     "output_type": "execute_result"
    }
   ],
   "source": [
    "r1.index"
   ]
  },
  {
   "cell_type": "code",
   "execution_count": null,
   "id": "807431c3",
   "metadata": {},
   "outputs": [],
   "source": []
  }
 ],
 "metadata": {
  "kernelspec": {
   "display_name": "Python 3 (ipykernel)",
   "language": "python",
   "name": "python3"
  },
  "language_info": {
   "codemirror_mode": {
    "name": "ipython",
    "version": 3
   },
   "file_extension": ".py",
   "mimetype": "text/x-python",
   "name": "python",
   "nbconvert_exporter": "python",
   "pygments_lexer": "ipython3",
   "version": "3.9.15"
  }
 },
 "nbformat": 4,
 "nbformat_minor": 5
}
