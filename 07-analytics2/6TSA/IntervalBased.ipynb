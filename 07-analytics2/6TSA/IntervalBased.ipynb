{
 "cells": [
  {
   "cell_type": "markdown",
   "id": "aab8964b",
   "metadata": {},
   "source": [
    "## Interval Check\n",
    "Create random Dates of DOJ and DOL\n",
    "Then compare who were present during the interval\n",
    "Find out how many were present during the interval and for how many days\n"
   ]
  },
  {
   "cell_type": "code",
   "execution_count": 384,
   "id": "4a8f44ed",
   "metadata": {},
   "outputs": [],
   "source": [
    "import pandas as pd\n",
    "import datetime as dt\n",
    "import numpy as np\n",
    "import random as rd\n",
    "pd.set_option('display.max_rows', 500)\n",
    "pd.set_option('display.max_columns', 500)\n",
    "pd.set_option('display.width', 1000)\n",
    "np.set_printoptions(edgeitems=30, linewidth=100000,  formatter=dict(float=lambda x: \"%.3g\" % x))\n",
    "pd.options.display.float_format = '{:.2f}'.format"
   ]
  },
  {
   "cell_type": "code",
   "execution_count": 385,
   "id": "64f2fb93",
   "metadata": {},
   "outputs": [],
   "source": [
    "# Initialize\n",
    "start = '2015-01-01' # Specify start date\n",
    "end = '2022-12-31' # Specify end date\n",
    "n = 100 # Specify number of dates needed"
   ]
  },
  {
   "cell_type": "code",
   "execution_count": 386,
   "id": "0ef2f329",
   "metadata": {},
   "outputs": [
    {
     "name": "stdout",
     "output_type": "stream",
     "text": [
      "[1614420080705447724 1561032823794253406 1475246700068977949 1586638608548564778]\n"
     ]
    }
   ],
   "source": [
    "# Get random dates\n",
    "xDOJ = np.random.randint(low=pd.Timestamp(start).value, high= pd.Timestamp(end).value, size= n, dtype='int64')\n",
    "print(xDOJ[1:5])"
   ]
  },
  {
   "cell_type": "code",
   "execution_count": 387,
   "id": "e448c33a",
   "metadata": {},
   "outputs": [
    {
     "name": "stdout",
     "output_type": "stream",
     "text": [
      "['2016-09-19', '2021-02-27', '2019-06-20', '2016-09-30', '2020-04-11', '2022-08-27', '2017-06-30', '2020-08-16', '2020-10-29', '2019-05-03', '2019-07-03', '2020-08-03', '2015-02-06', '2015-01-01', '2016-03-18', '2021-08-27', '2018-09-05', '2020-05-27', '2019-07-07', '2016-04-16', '2018-03-15', '2020-03-15', '2021-07-31', '2019-04-12', '2021-01-03', '2017-05-15', '2019-04-19', '2017-02-14', '2019-10-06', '2020-09-19', '2017-02-06', '2017-12-18', '2019-12-03', '2016-08-25', '2015-01-23', '2020-05-02', '2020-01-19', '2022-03-15', '2019-01-17', '2022-02-19', '2016-06-21', '2020-10-04', '2020-08-04', '2018-11-19', '2018-07-18', '2022-03-31', '2020-11-23', '2017-06-22', '2020-03-11', '2016-07-23', '2018-01-27', '2019-09-08', '2018-04-13', '2021-09-02', '2015-04-28', '2019-02-19', '2021-08-28', '2016-07-19', '2022-07-19', '2015-07-18', '2017-04-22', '2018-07-22', '2018-05-27', '2022-03-12', '2022-09-25', '2017-08-22', '2018-03-08', '2017-11-24', '2016-09-13', '2020-09-14', '2021-01-30', '2020-01-16', '2018-06-11', '2015-09-27', '2022-06-16', '2017-12-17', '2016-03-08', '2016-06-07', '2022-10-12', '2020-03-21', '2015-09-24', '2021-03-02', '2015-12-15', '2019-09-23', '2020-02-05', '2017-12-11', '2020-10-25', '2020-09-09', '2019-08-07', '2022-10-23', '2020-08-24', '2022-12-19', '2018-11-18', '2022-08-05', '2017-09-04', '2021-07-04', '2015-02-09', '2017-01-08', '2020-12-15', '2022-07-07']\n"
     ]
    }
   ],
   "source": [
    "#int to date : \n",
    "DOJ = [pd.to_datetime((i/10**9)/(60*60)/24, unit='D').strftime('%Y-%m-%d')  for i in xDOJ]\n",
    "print(DOJ)"
   ]
  },
  {
   "cell_type": "markdown",
   "id": "4066fee9",
   "metadata": {},
   "source": [
    "### add fixed days to  date"
   ]
  },
  {
   "cell_type": "code",
   "execution_count": 388,
   "id": "b39008c6",
   "metadata": {},
   "outputs": [
    {
     "data": {
      "text/plain": [
       "datetime.datetime(2023, 3, 25, 15, 50, 55, 935702)"
      ]
     },
     "execution_count": 388,
     "metadata": {},
     "output_type": "execute_result"
    }
   ],
   "source": [
    "dt.datetime.now() + dt.timedelta(days=10)"
   ]
  },
  {
   "cell_type": "code",
   "execution_count": 389,
   "id": "08fe694b",
   "metadata": {},
   "outputs": [
    {
     "data": {
      "text/plain": [
       "Timestamp('2023-03-25 15:50:56.284147')"
      ]
     },
     "execution_count": 389,
     "metadata": {},
     "output_type": "execute_result"
    }
   ],
   "source": [
    "dt.datetime.now() + pd.DateOffset(days=10)"
   ]
  },
  {
   "cell_type": "code",
   "execution_count": 390,
   "id": "33373b10",
   "metadata": {},
   "outputs": [
    {
     "data": {
      "text/plain": [
       "'2023-03-25'"
      ]
     },
     "execution_count": 390,
     "metadata": {},
     "output_type": "execute_result"
    }
   ],
   "source": [
    "(dt.datetime.now() + dt.timedelta(days=10)).strftime('%Y-%m-%d')"
   ]
  },
  {
   "cell_type": "code",
   "execution_count": 391,
   "id": "e741ec7f",
   "metadata": {},
   "outputs": [
    {
     "data": {
      "text/plain": [
       "datetime.datetime(2023, 3, 25, 15, 50, 56, 677489)"
      ]
     },
     "execution_count": 391,
     "metadata": {},
     "output_type": "execute_result"
    }
   ],
   "source": [
    "from dateutil.relativedelta import relativedelta\n",
    "dt.datetime.now() + relativedelta(days=10)"
   ]
  },
  {
   "cell_type": "code",
   "execution_count": 392,
   "id": "34e95305",
   "metadata": {},
   "outputs": [
    {
     "data": {
      "text/plain": [
       "Timestamp('2023-03-25 15:50:56.886783')"
      ]
     },
     "execution_count": 392,
     "metadata": {},
     "output_type": "execute_result"
    }
   ],
   "source": [
    "from pandas.tseries.offsets import Day\n",
    "dt.datetime.now() + Day(10)"
   ]
  },
  {
   "cell_type": "markdown",
   "id": "0ef49e2f",
   "metadata": {},
   "source": [
    "## Add random Date"
   ]
  },
  {
   "cell_type": "code",
   "execution_count": 393,
   "id": "cd1c5a94",
   "metadata": {},
   "outputs": [
    {
     "data": {
      "text/plain": [
       "1"
      ]
     },
     "execution_count": 393,
     "metadata": {},
     "output_type": "execute_result"
    }
   ],
   "source": [
    "d1= rd.randint(1,10)\n",
    "d1"
   ]
  },
  {
   "cell_type": "code",
   "execution_count": 394,
   "id": "53e7294b",
   "metadata": {},
   "outputs": [
    {
     "data": {
      "text/plain": [
       "Timestamp('2023-03-16 15:50:57.713348')"
      ]
     },
     "execution_count": 394,
     "metadata": {},
     "output_type": "execute_result"
    }
   ],
   "source": [
    "dt.datetime.now() + pd.DateOffset(days=d1)"
   ]
  },
  {
   "cell_type": "code",
   "execution_count": 395,
   "id": "3dda34e5",
   "metadata": {},
   "outputs": [
    {
     "data": {
      "text/plain": [
       "array([ 398,  426,  845, 1081, 1381, 1387,  726, 1059, 1545, 1506, 1802, 1765,  856, 1079,  627,  794, 1786,  859,  660, 1002,  807,  642, 1307,  448,  941, 1251,  182,  475,  248, 1755,  332, 1211, 1641, 1546,  791,  190,  578,  862, 1317,  901, 1025, 1220, 1975,  699,  208,  238,  305, 1803,  189,   75, 1669,  581,  589, 1446,  680, 1647,  970,  497, 1813, 1124,  975, 1101, 1653, 1900, 1089,  963, 1445,  275, 1233,  593,  770,  943,  750,  535, 1856,  314, 1903,  237,  917,  339,  375, 1270,  690,  502, 1923, 1125,  682,  787, 1877, 1991,  933, 1236, 1973, 1118,  730, 1470,  816, 1853, 1828,  350])"
      ]
     },
     "execution_count": 395,
     "metadata": {},
     "output_type": "execute_result"
    }
   ],
   "source": [
    "d2 = rd.sample(range(60, 2000), n)\n",
    "d2a = np.asarray(d2, dtype='int')\n",
    "d2a"
   ]
  },
  {
   "cell_type": "code",
   "execution_count": 396,
   "id": "ac6d3064",
   "metadata": {},
   "outputs": [
    {
     "data": {
      "text/plain": [
       "array(['2016-09-19', '2021-02-27', '2019-06-20', '2016-09-30', '2020-04-11', '2022-08-27', '2017-06-30', '2020-08-16', '2020-10-29', '2019-05-03', '2019-07-03', '2020-08-03', '2015-02-06', '2015-01-01', '2016-03-18', '2021-08-27', '2018-09-05', '2020-05-27', '2019-07-07', '2016-04-16', '2018-03-15', '2020-03-15', '2021-07-31', '2019-04-12', '2021-01-03', '2017-05-15', '2019-04-19', '2017-02-14', '2019-10-06', '2020-09-19', '2017-02-06', '2017-12-18', '2019-12-03', '2016-08-25', '2015-01-23', '2020-05-02', '2020-01-19', '2022-03-15', '2019-01-17', '2022-02-19', '2016-06-21', '2020-10-04', '2020-08-04', '2018-11-19', '2018-07-18', '2022-03-31', '2020-11-23', '2017-06-22', '2020-03-11', '2016-07-23', '2018-01-27', '2019-09-08', '2018-04-13', '2021-09-02', '2015-04-28', '2019-02-19', '2021-08-28', '2016-07-19', '2022-07-19', '2015-07-18', '2017-04-22', '2018-07-22', '2018-05-27', '2022-03-12', '2022-09-25', '2017-08-22', '2018-03-08', '2017-11-24', '2016-09-13', '2020-09-14', '2021-01-30', '2020-01-16', '2018-06-11', '2015-09-27', '2022-06-16', '2017-12-17', '2016-03-08', '2016-06-07', '2022-10-12', '2020-03-21', '2015-09-24', '2021-03-02', '2015-12-15', '2019-09-23', '2020-02-05', '2017-12-11', '2020-10-25', '2020-09-09', '2019-08-07', '2022-10-23', '2020-08-24', '2022-12-19', '2018-11-18', '2022-08-05', '2017-09-04', '2021-07-04', '2015-02-09', '2017-01-08', '2020-12-15', '2022-07-07'], dtype='<U10')"
      ]
     },
     "execution_count": 396,
     "metadata": {},
     "output_type": "execute_result"
    }
   ],
   "source": [
    "np.asarray(DOJ)"
   ]
  },
  {
   "cell_type": "code",
   "execution_count": 397,
   "id": "162ae31d",
   "metadata": {},
   "outputs": [
    {
     "name": "stdout",
     "output_type": "stream",
     "text": [
      "\t          DOJ    SD\n",
      "0 2016-09-19   398\n",
      "1 2021-02-27   426\n",
      "2 2019-06-20   845\n",
      "3 2016-09-30  1081\n",
      "4 2020-04-11  1381 \n",
      " DOJ    datetime64[ns]\n",
      "SD              int32\n",
      "dtype: object\n"
     ]
    }
   ],
   "source": [
    "df1 = pd.DataFrame({'DOJ':pd.to_datetime(DOJ), 'SD':d2a})\n",
    "print('\\t',df1.head(), '\\n', df1.dtypes)"
   ]
  },
  {
   "cell_type": "code",
   "execution_count": 398,
   "id": "9a510068",
   "metadata": {},
   "outputs": [
    {
     "data": {
      "text/html": [
       "<div>\n",
       "<style scoped>\n",
       "    .dataframe tbody tr th:only-of-type {\n",
       "        vertical-align: middle;\n",
       "    }\n",
       "\n",
       "    .dataframe tbody tr th {\n",
       "        vertical-align: top;\n",
       "    }\n",
       "\n",
       "    .dataframe thead th {\n",
       "        text-align: right;\n",
       "    }\n",
       "</style>\n",
       "<table border=\"1\" class=\"dataframe\">\n",
       "  <thead>\n",
       "    <tr style=\"text-align: right;\">\n",
       "      <th></th>\n",
       "      <th>DOJ</th>\n",
       "      <th>SD</th>\n",
       "      <th>DOL</th>\n",
       "    </tr>\n",
       "  </thead>\n",
       "  <tbody>\n",
       "    <tr>\n",
       "      <th>0</th>\n",
       "      <td>2016-09-19</td>\n",
       "      <td>398</td>\n",
       "      <td>2016-09-29</td>\n",
       "    </tr>\n",
       "    <tr>\n",
       "      <th>1</th>\n",
       "      <td>2021-02-27</td>\n",
       "      <td>426</td>\n",
       "      <td>2021-03-09</td>\n",
       "    </tr>\n",
       "    <tr>\n",
       "      <th>2</th>\n",
       "      <td>2019-06-20</td>\n",
       "      <td>845</td>\n",
       "      <td>2019-06-30</td>\n",
       "    </tr>\n",
       "    <tr>\n",
       "      <th>3</th>\n",
       "      <td>2016-09-30</td>\n",
       "      <td>1081</td>\n",
       "      <td>2016-10-10</td>\n",
       "    </tr>\n",
       "    <tr>\n",
       "      <th>4</th>\n",
       "      <td>2020-04-11</td>\n",
       "      <td>1381</td>\n",
       "      <td>2020-04-21</td>\n",
       "    </tr>\n",
       "  </tbody>\n",
       "</table>\n",
       "</div>"
      ],
      "text/plain": [
       "         DOJ    SD        DOL\n",
       "0 2016-09-19   398 2016-09-29\n",
       "1 2021-02-27   426 2021-03-09\n",
       "2 2019-06-20   845 2019-06-30\n",
       "3 2016-09-30  1081 2016-10-10\n",
       "4 2020-04-11  1381 2020-04-21"
      ]
     },
     "execution_count": 398,
     "metadata": {},
     "output_type": "execute_result"
    }
   ],
   "source": [
    "df1['DOL'] = df1['DOJ'] +  pd.Timedelta(days=10)\n",
    "df1.head()"
   ]
  },
  {
   "cell_type": "code",
   "execution_count": 399,
   "id": "26967c54",
   "metadata": {},
   "outputs": [
    {
     "data": {
      "text/html": [
       "<div>\n",
       "<style scoped>\n",
       "    .dataframe tbody tr th:only-of-type {\n",
       "        vertical-align: middle;\n",
       "    }\n",
       "\n",
       "    .dataframe tbody tr th {\n",
       "        vertical-align: top;\n",
       "    }\n",
       "\n",
       "    .dataframe thead th {\n",
       "        text-align: right;\n",
       "    }\n",
       "</style>\n",
       "<table border=\"1\" class=\"dataframe\">\n",
       "  <thead>\n",
       "    <tr style=\"text-align: right;\">\n",
       "      <th></th>\n",
       "      <th>DOJ</th>\n",
       "      <th>SD</th>\n",
       "      <th>DOL</th>\n",
       "    </tr>\n",
       "  </thead>\n",
       "  <tbody>\n",
       "    <tr>\n",
       "      <th>0</th>\n",
       "      <td>2016-09-19</td>\n",
       "      <td>398</td>\n",
       "      <td>2017-10-22</td>\n",
       "    </tr>\n",
       "    <tr>\n",
       "      <th>1</th>\n",
       "      <td>2021-02-27</td>\n",
       "      <td>426</td>\n",
       "      <td>2022-04-29</td>\n",
       "    </tr>\n",
       "    <tr>\n",
       "      <th>2</th>\n",
       "      <td>2019-06-20</td>\n",
       "      <td>845</td>\n",
       "      <td>2021-10-12</td>\n",
       "    </tr>\n",
       "    <tr>\n",
       "      <th>3</th>\n",
       "      <td>2016-09-30</td>\n",
       "      <td>1081</td>\n",
       "      <td>2019-09-16</td>\n",
       "    </tr>\n",
       "    <tr>\n",
       "      <th>4</th>\n",
       "      <td>2020-04-11</td>\n",
       "      <td>1381</td>\n",
       "      <td>2024-01-22</td>\n",
       "    </tr>\n",
       "  </tbody>\n",
       "</table>\n",
       "</div>"
      ],
      "text/plain": [
       "         DOJ    SD        DOL\n",
       "0 2016-09-19   398 2017-10-22\n",
       "1 2021-02-27   426 2022-04-29\n",
       "2 2019-06-20   845 2021-10-12\n",
       "3 2016-09-30  1081 2019-09-16\n",
       "4 2020-04-11  1381 2024-01-22"
      ]
     },
     "execution_count": 399,
     "metadata": {},
     "output_type": "execute_result"
    }
   ],
   "source": [
    "# convert to date , integer col\n",
    "df1['DOL'] = df1['DOJ'] +  pd.to_timedelta(df1['SD'], unit='D')\n",
    "df1.head()"
   ]
  },
  {
   "cell_type": "markdown",
   "id": "81dab420",
   "metadata": {},
   "source": [
    "### add few columns : campus, gender, cadre, \n",
    "random values"
   ]
  },
  {
   "cell_type": "code",
   "execution_count": 400,
   "id": "2ebefaec",
   "metadata": {},
   "outputs": [],
   "source": [
    "cList = ['C1','C2','C3','C4','C5','C6']\n",
    "gList = ['M','F']\n",
    "tList = ['Prof','AssocProf', 'AsstProf']\n",
    "#age between 30,50"
   ]
  },
  {
   "cell_type": "code",
   "execution_count": 401,
   "id": "866165dc",
   "metadata": {},
   "outputs": [
    {
     "data": {
      "text/plain": [
       "'C1'"
      ]
     },
     "execution_count": 401,
     "metadata": {},
     "output_type": "execute_result"
    }
   ],
   "source": [
    "rd.choice(cList)"
   ]
  },
  {
   "cell_type": "code",
   "execution_count": 402,
   "id": "d62c1e88",
   "metadata": {},
   "outputs": [
    {
     "data": {
      "text/plain": [
       "['C6', 'C1', 'C2', 'C3', 'C4', 'C5']"
      ]
     },
     "execution_count": 402,
     "metadata": {},
     "output_type": "execute_result"
    }
   ],
   "source": [
    "rd.shuffle(cList)   #updates original list\n",
    "cList"
   ]
  },
  {
   "cell_type": "code",
   "execution_count": 403,
   "id": "a9d302fe",
   "metadata": {},
   "outputs": [
    {
     "data": {
      "text/plain": [
       "45"
      ]
     },
     "execution_count": 403,
     "metadata": {},
     "output_type": "execute_result"
    }
   ],
   "source": [
    "rd.randrange(30,50,1)"
   ]
  },
  {
   "cell_type": "code",
   "execution_count": 404,
   "id": "e6110d8e",
   "metadata": {},
   "outputs": [
    {
     "data": {
      "text/plain": [
       "35"
      ]
     },
     "execution_count": 404,
     "metadata": {},
     "output_type": "execute_result"
    }
   ],
   "source": [
    "rd.choice(range(30,50))"
   ]
  },
  {
   "cell_type": "code",
   "execution_count": 405,
   "id": "5c643c7b",
   "metadata": {},
   "outputs": [
    {
     "data": {
      "text/plain": [
       "30"
      ]
     },
     "execution_count": 405,
     "metadata": {},
     "output_type": "execute_result"
    }
   ],
   "source": [
    "rd.choice((20,30,40))"
   ]
  },
  {
   "cell_type": "code",
   "execution_count": 406,
   "id": "f51c1ed7",
   "metadata": {},
   "outputs": [
    {
     "data": {
      "text/plain": [
       "['C6']"
      ]
     },
     "execution_count": 406,
     "metadata": {},
     "output_type": "execute_result"
    }
   ],
   "source": [
    "rd.sample(cList, k=1)  #no repetitions allowed"
   ]
  },
  {
   "cell_type": "code",
   "execution_count": 407,
   "id": "9589330b",
   "metadata": {},
   "outputs": [],
   "source": [
    "#rd.sample(cList, k=7)  #error"
   ]
  },
  {
   "cell_type": "code",
   "execution_count": 408,
   "id": "bfb86d09",
   "metadata": {},
   "outputs": [
    {
     "data": {
      "text/plain": [
       "['F', 'M', 'F', 'M', 'M', 'M', 'M', 'F', 'M', 'M', 'M', 'F', 'M', 'F', 'M']"
      ]
     },
     "execution_count": 408,
     "metadata": {},
     "output_type": "execute_result"
    }
   ],
   "source": [
    "rd.sample(gList, counts=[10,5], k=15)  # M-10, F-5 expand"
   ]
  },
  {
   "cell_type": "code",
   "execution_count": 409,
   "id": "67bf5a01",
   "metadata": {},
   "outputs": [
    {
     "data": {
      "text/plain": [
       "array(['F', 'F', 'M', 'F', 'F', 'F', 'F', 'M', 'M', 'M', 'M', 'F', 'F', 'M', 'M', 'M', 'F', 'F', 'M', 'M', 'F', 'M', 'M', 'M', 'F', 'F', 'M', 'M', 'F', 'M', 'F', 'M', 'M', 'M', 'F', 'M', 'F', 'M', 'M', 'M', 'F', 'F', 'M', 'F', 'F', 'M', 'M', 'F', 'M', 'M', 'M', 'M', 'M', 'F', 'F', 'M', 'F', 'F', 'M', 'F', 'F', 'M', 'M', 'F', 'F', 'M', 'M', 'M', 'M', 'M', 'M', 'F', 'M', 'F', 'M', 'M', 'M', 'F', 'F', 'M', 'M', 'F', 'F', 'M', 'M', 'F', 'F', 'M', 'M', 'M', 'F', 'M', 'F', 'M', 'M', 'M', 'F', 'M', 'M', 'M'], dtype='<U1')"
      ]
     },
     "execution_count": 409,
     "metadata": {},
     "output_type": "execute_result"
    }
   ],
   "source": [
    "gListData = rd.choices(population=gList, weights=[.7,.5], k=n)\n",
    "np.array(gListData)"
   ]
  },
  {
   "cell_type": "code",
   "execution_count": 410,
   "id": "d348cc35",
   "metadata": {},
   "outputs": [
    {
     "data": {
      "text/plain": [
       "array(['C1', 'C4', 'C1', 'C3', 'C5', 'C2', 'C5', 'C4', 'C2', 'C5', 'C5', 'C4', 'C5', 'C3', 'C5', 'C4', 'C5', 'C1', 'C6', 'C2', 'C4', 'C5', 'C2', 'C2', 'C3', 'C1', 'C2', 'C4', 'C5', 'C4', 'C5', 'C5', 'C4', 'C3', 'C5', 'C6', 'C1', 'C4', 'C3', 'C3', 'C3', 'C2', 'C2', 'C2', 'C2', 'C5', 'C5', 'C4', 'C5', 'C5', 'C2', 'C5', 'C2', 'C2', 'C2', 'C1', 'C2', 'C2', 'C1', 'C5', 'C2', 'C1', 'C6', 'C2', 'C4', 'C5', 'C3', 'C3', 'C2', 'C4', 'C5', 'C1', 'C3', 'C2', 'C2', 'C1', 'C5', 'C5', 'C1', 'C2', 'C2', 'C1', 'C1', 'C1', 'C3', 'C4', 'C2', 'C1', 'C2', 'C4', 'C5', 'C2', 'C3', 'C2', 'C4', 'C1', 'C5', 'C1', 'C1', 'C6'], dtype='<U2')"
      ]
     },
     "execution_count": 410,
     "metadata": {},
     "output_type": "execute_result"
    }
   ],
   "source": [
    "wts= [.08, .22, .2, .14, .16, .20]\n",
    "cListData = rd.choices(population=cList, weights=wts, k=n)\n",
    "np.array(cListData)"
   ]
  },
  {
   "cell_type": "code",
   "execution_count": 411,
   "id": "ac3b69f0",
   "metadata": {},
   "outputs": [
    {
     "data": {
      "text/plain": [
       "Counter({'C1': 18, 'C4': 15, 'C3': 12, 'C5': 24, 'C2': 27, 'C6': 4})"
      ]
     },
     "execution_count": 411,
     "metadata": {},
     "output_type": "execute_result"
    }
   ],
   "source": [
    "import collections as cl\n",
    "clCampus= cl.Counter(np.array(cListData))\n",
    "clCampus"
   ]
  },
  {
   "cell_type": "code",
   "execution_count": 412,
   "id": "676b89b2",
   "metadata": {},
   "outputs": [
    {
     "name": "stdout",
     "output_type": "stream",
     "text": [
      "('C1', 18)\n",
      "('C4', 15)\n",
      "('C3', 12)\n",
      "('C5', 24)\n",
      "('C2', 27)\n",
      "('C6', 4)\n"
     ]
    }
   ],
   "source": [
    "for i in clCampus.items():    print(i)"
   ]
  },
  {
   "cell_type": "code",
   "execution_count": 413,
   "id": "13693e02",
   "metadata": {},
   "outputs": [
    {
     "data": {
      "text/plain": [
       "array(['AsstProf', 'AssocProf', 'Prof', 'AsstProf', 'AsstProf', 'AsstProf', 'Prof', 'AsstProf', 'AssocProf', 'AssocProf', 'AsstProf', 'AssocProf', 'AsstProf', 'AssocProf', 'AsstProf', 'AsstProf', 'AsstProf', 'Prof', 'AsstProf', 'AssocProf', 'AssocProf', 'AsstProf', 'AsstProf', 'AsstProf', 'AsstProf', 'Prof', 'Prof', 'AsstProf', 'AsstProf', 'AsstProf', 'AssocProf', 'AsstProf', 'AsstProf', 'AsstProf', 'AsstProf', 'AsstProf', 'Prof', 'AsstProf', 'AsstProf', 'AsstProf', 'AssocProf', 'AsstProf', 'AsstProf', 'Prof', 'AssocProf', 'AssocProf', 'AsstProf', 'AsstProf', 'Prof', 'AssocProf', 'AssocProf', 'AsstProf', 'AsstProf', 'AsstProf', 'AssocProf', 'AsstProf', 'AsstProf', 'Prof', 'AsstProf', 'AssocProf', 'AsstProf', 'AssocProf', 'AssocProf', 'AsstProf', 'AssocProf', 'AsstProf', 'AssocProf', 'AssocProf', 'Prof', 'AssocProf', 'AsstProf', 'AssocProf', 'AsstProf', 'AsstProf', 'AsstProf', 'AssocProf', 'AsstProf', 'AsstProf', 'AsstProf', 'AsstProf', 'AsstProf', 'AssocProf', 'AsstProf', 'AssocProf', 'AsstProf', 'AsstProf', 'AsstProf', 'AsstProf', 'Prof', 'AsstProf', 'AsstProf', 'AssocProf', 'AsstProf', 'AsstProf', 'AssocProf', 'AssocProf', 'AsstProf', 'Prof', 'AsstProf', 'AssocProf'], dtype='<U9')"
      ]
     },
     "execution_count": 413,
     "metadata": {},
     "output_type": "execute_result"
    }
   ],
   "source": [
    "wts= [1/9, 2/9,6/9]\n",
    "tListData = rd.choices(population=tList, weights=wts, k=n)\n",
    "np.array(tListData)"
   ]
  },
  {
   "cell_type": "code",
   "execution_count": 414,
   "id": "4dbe2f96",
   "metadata": {},
   "outputs": [
    {
     "name": "stdout",
     "output_type": "stream",
     "text": [
      "('AsstProf', 59)\n",
      "('AssocProf', 29)\n",
      "('Prof', 12)\n"
     ]
    }
   ],
   "source": [
    "clTeacher= cl.Counter(np.array(tListData))\n",
    "for i in clTeacher.items():    print(i)"
   ]
  },
  {
   "cell_type": "code",
   "execution_count": 415,
   "id": "e7f264fd",
   "metadata": {},
   "outputs": [
    {
     "data": {
      "text/plain": [
       "array([53, 51, 32, 51, 45, 30, 43, 43, 30, 30, 40, 37, 54, 43, 48, 51, 44, 52, 51, 49, 48, 30, 49, 48, 40, 49, 48, 39, 50, 34, 30, 52, 41, 45, 35, 51, 35, 33, 40, 52, 33, 43, 34, 40, 41, 45, 47, 40, 51, 39, 54, 46, 47, 44, 43, 47, 41, 31, 34, 30, 40, 51, 44, 35, 33, 44, 40, 47, 47, 36, 39, 30, 52, 44, 51, 41, 33, 43, 37, 49, 39, 35, 40, 34, 51, 41, 43, 42, 53, 32, 46, 32, 32, 31, 34, 32, 51, 39, 40, 42])"
      ]
     },
     "execution_count": 415,
     "metadata": {},
     "output_type": "execute_result"
    }
   ],
   "source": [
    "age = rd.choices(range(30, 55), k=n)\n",
    "np.asarray(age, dtype='int')"
   ]
  },
  {
   "cell_type": "code",
   "execution_count": 416,
   "id": "6cdd3698",
   "metadata": {},
   "outputs": [],
   "source": [
    "#recreate DF\n",
    "df1['cadre']  = np.array(tListData)\n",
    "df1['gender'] = np.array(gListData)\n",
    "df1['campus'] = np.array(cListData)\n",
    "df1['age']    = np.array(age)"
   ]
  },
  {
   "cell_type": "code",
   "execution_count": 417,
   "id": "c4b4c373",
   "metadata": {},
   "outputs": [
    {
     "data": {
      "text/plain": [
       "DOJ       datetime64[ns]\n",
       "SD                 int32\n",
       "DOL       datetime64[ns]\n",
       "cadre             object\n",
       "gender            object\n",
       "campus            object\n",
       "age                int32\n",
       "dtype: object"
      ]
     },
     "execution_count": 417,
     "metadata": {},
     "output_type": "execute_result"
    }
   ],
   "source": [
    "df1.dtypes"
   ]
  },
  {
   "cell_type": "code",
   "execution_count": 418,
   "id": "fa8b0573",
   "metadata": {},
   "outputs": [
    {
     "data": {
      "text/html": [
       "<div>\n",
       "<style scoped>\n",
       "    .dataframe tbody tr th:only-of-type {\n",
       "        vertical-align: middle;\n",
       "    }\n",
       "\n",
       "    .dataframe tbody tr th {\n",
       "        vertical-align: top;\n",
       "    }\n",
       "\n",
       "    .dataframe thead th {\n",
       "        text-align: right;\n",
       "    }\n",
       "</style>\n",
       "<table border=\"1\" class=\"dataframe\">\n",
       "  <thead>\n",
       "    <tr style=\"text-align: right;\">\n",
       "      <th></th>\n",
       "      <th>DOJ</th>\n",
       "      <th>DOL</th>\n",
       "      <th>cadre</th>\n",
       "      <th>gender</th>\n",
       "      <th>campus</th>\n",
       "      <th>age</th>\n",
       "    </tr>\n",
       "  </thead>\n",
       "  <tbody>\n",
       "    <tr>\n",
       "      <th>0</th>\n",
       "      <td>2016-09-19</td>\n",
       "      <td>2017-10-22</td>\n",
       "      <td>AsstProf</td>\n",
       "      <td>F</td>\n",
       "      <td>C1</td>\n",
       "      <td>53</td>\n",
       "    </tr>\n",
       "    <tr>\n",
       "      <th>1</th>\n",
       "      <td>2021-02-27</td>\n",
       "      <td>2022-04-29</td>\n",
       "      <td>AssocProf</td>\n",
       "      <td>F</td>\n",
       "      <td>C4</td>\n",
       "      <td>51</td>\n",
       "    </tr>\n",
       "    <tr>\n",
       "      <th>2</th>\n",
       "      <td>2019-06-20</td>\n",
       "      <td>2021-10-12</td>\n",
       "      <td>Prof</td>\n",
       "      <td>M</td>\n",
       "      <td>C1</td>\n",
       "      <td>32</td>\n",
       "    </tr>\n",
       "    <tr>\n",
       "      <th>3</th>\n",
       "      <td>2016-09-30</td>\n",
       "      <td>2019-09-16</td>\n",
       "      <td>AsstProf</td>\n",
       "      <td>F</td>\n",
       "      <td>C3</td>\n",
       "      <td>51</td>\n",
       "    </tr>\n",
       "    <tr>\n",
       "      <th>4</th>\n",
       "      <td>2020-04-11</td>\n",
       "      <td>2024-01-22</td>\n",
       "      <td>AsstProf</td>\n",
       "      <td>F</td>\n",
       "      <td>C5</td>\n",
       "      <td>45</td>\n",
       "    </tr>\n",
       "  </tbody>\n",
       "</table>\n",
       "</div>"
      ],
      "text/plain": [
       "         DOJ        DOL      cadre gender campus  age\n",
       "0 2016-09-19 2017-10-22   AsstProf      F     C1   53\n",
       "1 2021-02-27 2022-04-29  AssocProf      F     C4   51\n",
       "2 2019-06-20 2021-10-12       Prof      M     C1   32\n",
       "3 2016-09-30 2019-09-16   AsstProf      F     C3   51\n",
       "4 2020-04-11 2024-01-22   AsstProf      F     C5   45"
      ]
     },
     "execution_count": 418,
     "metadata": {},
     "output_type": "execute_result"
    }
   ],
   "source": [
    "df2 = df1.drop('SD', axis=1)\n",
    "df2.head()"
   ]
  },
  {
   "cell_type": "code",
   "execution_count": 419,
   "id": "cc9724be",
   "metadata": {},
   "outputs": [
    {
     "data": {
      "text/plain": [
       "1474223400.0"
      ]
     },
     "execution_count": 419,
     "metadata": {},
     "output_type": "execute_result"
    }
   ],
   "source": [
    "#pd.Interval(left=df2['DOJ'], right=df2['DOL'])  #error as only numeric and Timestamp endpoints are allowed\n",
    "dt.datetime.timestamp(df2.DOJ[0])  #it takes only 1 value"
   ]
  },
  {
   "cell_type": "code",
   "execution_count": 420,
   "id": "3459d172",
   "metadata": {},
   "outputs": [],
   "source": [
    "#df2['DOJ'].apply(pd.Timestamp)\n",
    "DOJtstamp = df2['DOJ'].apply(dt.datetime.timestamp)\n",
    "DOLtstamp = df2['DOL'].apply(dt.datetime.timestamp)\n",
    "#print(pd.DataFrame(DOJtsamp, DOLtstamp))"
   ]
  },
  {
   "cell_type": "code",
   "execution_count": 421,
   "id": "2e3f6d83",
   "metadata": {},
   "outputs": [
    {
     "data": {
      "text/plain": [
       "Interval(1474223400.0, 1508610600.0, closed='both')"
      ]
     },
     "execution_count": 421,
     "metadata": {},
     "output_type": "execute_result"
    }
   ],
   "source": [
    "DOJDOL = pd.Interval(left=DOJtstamp[0], right=DOLtstamp[0], closed='both')\n",
    "DOJDOL"
   ]
  },
  {
   "cell_type": "code",
   "execution_count": 422,
   "id": "10e154d4",
   "metadata": {},
   "outputs": [
    {
     "data": {
      "text/html": [
       "<div>\n",
       "<style scoped>\n",
       "    .dataframe tbody tr th:only-of-type {\n",
       "        vertical-align: middle;\n",
       "    }\n",
       "\n",
       "    .dataframe tbody tr th {\n",
       "        vertical-align: top;\n",
       "    }\n",
       "\n",
       "    .dataframe thead th {\n",
       "        text-align: right;\n",
       "    }\n",
       "</style>\n",
       "<table border=\"1\" class=\"dataframe\">\n",
       "  <thead>\n",
       "    <tr style=\"text-align: right;\">\n",
       "      <th></th>\n",
       "      <th>DOJ</th>\n",
       "      <th>DOL</th>\n",
       "      <th>cadre</th>\n",
       "      <th>gender</th>\n",
       "      <th>campus</th>\n",
       "      <th>age</th>\n",
       "    </tr>\n",
       "  </thead>\n",
       "  <tbody>\n",
       "    <tr>\n",
       "      <th>0</th>\n",
       "      <td>2016-09-19</td>\n",
       "      <td>2017-10-22</td>\n",
       "      <td>AsstProf</td>\n",
       "      <td>F</td>\n",
       "      <td>C1</td>\n",
       "      <td>53</td>\n",
       "    </tr>\n",
       "    <tr>\n",
       "      <th>1</th>\n",
       "      <td>2021-02-27</td>\n",
       "      <td>2022-04-29</td>\n",
       "      <td>AssocProf</td>\n",
       "      <td>F</td>\n",
       "      <td>C4</td>\n",
       "      <td>51</td>\n",
       "    </tr>\n",
       "    <tr>\n",
       "      <th>2</th>\n",
       "      <td>2019-06-20</td>\n",
       "      <td>2021-10-12</td>\n",
       "      <td>Prof</td>\n",
       "      <td>M</td>\n",
       "      <td>C1</td>\n",
       "      <td>32</td>\n",
       "    </tr>\n",
       "    <tr>\n",
       "      <th>3</th>\n",
       "      <td>2016-09-30</td>\n",
       "      <td>2019-09-16</td>\n",
       "      <td>AsstProf</td>\n",
       "      <td>F</td>\n",
       "      <td>C3</td>\n",
       "      <td>51</td>\n",
       "    </tr>\n",
       "    <tr>\n",
       "      <th>4</th>\n",
       "      <td>2020-04-11</td>\n",
       "      <td>2024-01-22</td>\n",
       "      <td>AsstProf</td>\n",
       "      <td>F</td>\n",
       "      <td>C5</td>\n",
       "      <td>45</td>\n",
       "    </tr>\n",
       "  </tbody>\n",
       "</table>\n",
       "</div>"
      ],
      "text/plain": [
       "         DOJ        DOL      cadre gender campus  age\n",
       "0 2016-09-19 2017-10-22   AsstProf      F     C1   53\n",
       "1 2021-02-27 2022-04-29  AssocProf      F     C4   51\n",
       "2 2019-06-20 2021-10-12       Prof      M     C1   32\n",
       "3 2016-09-30 2019-09-16   AsstProf      F     C3   51\n",
       "4 2020-04-11 2024-01-22   AsstProf      F     C5   45"
      ]
     },
     "execution_count": 422,
     "metadata": {},
     "output_type": "execute_result"
    }
   ],
   "source": [
    "len(df2)\n",
    "type(df2)\n",
    "df2.head()"
   ]
  },
  {
   "cell_type": "code",
   "execution_count": 423,
   "id": "6ff2b736",
   "metadata": {},
   "outputs": [
    {
     "data": {
      "text/html": [
       "<div>\n",
       "<style scoped>\n",
       "    .dataframe tbody tr th:only-of-type {\n",
       "        vertical-align: middle;\n",
       "    }\n",
       "\n",
       "    .dataframe tbody tr th {\n",
       "        vertical-align: top;\n",
       "    }\n",
       "\n",
       "    .dataframe thead th {\n",
       "        text-align: right;\n",
       "    }\n",
       "</style>\n",
       "<table border=\"1\" class=\"dataframe\">\n",
       "  <thead>\n",
       "    <tr style=\"text-align: right;\">\n",
       "      <th></th>\n",
       "      <th>DOJ</th>\n",
       "      <th>DOL</th>\n",
       "      <th>cadre</th>\n",
       "      <th>gender</th>\n",
       "      <th>campus</th>\n",
       "      <th>age</th>\n",
       "    </tr>\n",
       "  </thead>\n",
       "  <tbody>\n",
       "    <tr>\n",
       "      <th>1</th>\n",
       "      <td>2021-02-27</td>\n",
       "      <td>2022-04-29</td>\n",
       "      <td>AssocProf</td>\n",
       "      <td>F</td>\n",
       "      <td>C4</td>\n",
       "      <td>51</td>\n",
       "    </tr>\n",
       "  </tbody>\n",
       "</table>\n",
       "</div>"
      ],
      "text/plain": [
       "         DOJ        DOL      cadre gender campus  age\n",
       "1 2021-02-27 2022-04-29  AssocProf      F     C4   51"
      ]
     },
     "execution_count": 423,
     "metadata": {},
     "output_type": "execute_result"
    }
   ],
   "source": [
    "df2.iloc[[1]]"
   ]
  },
  {
   "cell_type": "code",
   "execution_count": 424,
   "id": "dba14357",
   "metadata": {},
   "outputs": [],
   "source": [
    "for i in range(len(df2)):\n",
    "    df2.loc[i, ['tenure']] = pd.Interval(df2['DOJ'].apply(dt.datetime.timestamp)[i], df2['DOL'].apply(dt.datetime.timestamp)[i])"
   ]
  },
  {
   "cell_type": "code",
   "execution_count": 425,
   "id": "f02ba07c",
   "metadata": {},
   "outputs": [
    {
     "data": {
      "text/html": [
       "<div>\n",
       "<style scoped>\n",
       "    .dataframe tbody tr th:only-of-type {\n",
       "        vertical-align: middle;\n",
       "    }\n",
       "\n",
       "    .dataframe tbody tr th {\n",
       "        vertical-align: top;\n",
       "    }\n",
       "\n",
       "    .dataframe thead th {\n",
       "        text-align: right;\n",
       "    }\n",
       "</style>\n",
       "<table border=\"1\" class=\"dataframe\">\n",
       "  <thead>\n",
       "    <tr style=\"text-align: right;\">\n",
       "      <th></th>\n",
       "      <th>DOJ</th>\n",
       "      <th>DOL</th>\n",
       "      <th>cadre</th>\n",
       "      <th>gender</th>\n",
       "      <th>campus</th>\n",
       "      <th>age</th>\n",
       "      <th>tenure</th>\n",
       "    </tr>\n",
       "  </thead>\n",
       "  <tbody>\n",
       "    <tr>\n",
       "      <th>0</th>\n",
       "      <td>2016-09-19</td>\n",
       "      <td>2017-10-22</td>\n",
       "      <td>AsstProf</td>\n",
       "      <td>F</td>\n",
       "      <td>C1</td>\n",
       "      <td>53</td>\n",
       "      <td>(1474223400.0, 1508610600.0]</td>\n",
       "    </tr>\n",
       "    <tr>\n",
       "      <th>1</th>\n",
       "      <td>2021-02-27</td>\n",
       "      <td>2022-04-29</td>\n",
       "      <td>AssocProf</td>\n",
       "      <td>F</td>\n",
       "      <td>C4</td>\n",
       "      <td>51</td>\n",
       "      <td>(1614364200.0, 1651170600.0]</td>\n",
       "    </tr>\n",
       "    <tr>\n",
       "      <th>2</th>\n",
       "      <td>2019-06-20</td>\n",
       "      <td>2021-10-12</td>\n",
       "      <td>Prof</td>\n",
       "      <td>M</td>\n",
       "      <td>C1</td>\n",
       "      <td>32</td>\n",
       "      <td>(1560969000.0, 1633977000.0]</td>\n",
       "    </tr>\n",
       "    <tr>\n",
       "      <th>3</th>\n",
       "      <td>2016-09-30</td>\n",
       "      <td>2019-09-16</td>\n",
       "      <td>AsstProf</td>\n",
       "      <td>F</td>\n",
       "      <td>C3</td>\n",
       "      <td>51</td>\n",
       "      <td>(1475173800.0, 1568572200.0]</td>\n",
       "    </tr>\n",
       "    <tr>\n",
       "      <th>4</th>\n",
       "      <td>2020-04-11</td>\n",
       "      <td>2024-01-22</td>\n",
       "      <td>AsstProf</td>\n",
       "      <td>F</td>\n",
       "      <td>C5</td>\n",
       "      <td>45</td>\n",
       "      <td>(1586543400.0, 1705861800.0]</td>\n",
       "    </tr>\n",
       "  </tbody>\n",
       "</table>\n",
       "</div>"
      ],
      "text/plain": [
       "         DOJ        DOL      cadre gender campus  age                        tenure\n",
       "0 2016-09-19 2017-10-22   AsstProf      F     C1   53  (1474223400.0, 1508610600.0]\n",
       "1 2021-02-27 2022-04-29  AssocProf      F     C4   51  (1614364200.0, 1651170600.0]\n",
       "2 2019-06-20 2021-10-12       Prof      M     C1   32  (1560969000.0, 1633977000.0]\n",
       "3 2016-09-30 2019-09-16   AsstProf      F     C3   51  (1475173800.0, 1568572200.0]\n",
       "4 2020-04-11 2024-01-22   AsstProf      F     C5   45  (1586543400.0, 1705861800.0]"
      ]
     },
     "execution_count": 425,
     "metadata": {},
     "output_type": "execute_result"
    }
   ],
   "source": [
    "df2.head()"
   ]
  },
  {
   "cell_type": "code",
   "execution_count": 426,
   "id": "923d6b6c",
   "metadata": {},
   "outputs": [
    {
     "data": {
      "text/plain": [
       "Interval(1640975400.0, 1675103400.0, closed='both')"
      ]
     },
     "execution_count": 426,
     "metadata": {},
     "output_type": "execute_result"
    }
   ],
   "source": [
    "# now check if the person present between\n",
    "M0122S = dt.datetime(2022, 1, 1).timestamp()\n",
    "M0122E = dt.datetime(2023, 1, 31).timestamp()\n",
    "M0122 = pd.Interval(left=M0122S, right=M0122E, closed='both')\n",
    "M0122"
   ]
  },
  {
   "cell_type": "code",
   "execution_count": 427,
   "id": "9290bce2",
   "metadata": {},
   "outputs": [
    {
     "data": {
      "text/plain": [
       "Interval(1474223400.0, 1508610600.0, closed='right')"
      ]
     },
     "execution_count": 427,
     "metadata": {},
     "output_type": "execute_result"
    }
   ],
   "source": [
    "df2.loc[0, 'tenure']"
   ]
  },
  {
   "cell_type": "code",
   "execution_count": 428,
   "id": "5debf2a5",
   "metadata": {},
   "outputs": [
    {
     "data": {
      "text/plain": [
       "False"
      ]
     },
     "execution_count": 428,
     "metadata": {},
     "output_type": "execute_result"
    }
   ],
   "source": [
    "M0122.overlaps(df2.loc[0, 'tenure'])"
   ]
  },
  {
   "cell_type": "code",
   "execution_count": 429,
   "id": "da0365ca",
   "metadata": {},
   "outputs": [],
   "source": [
    "for i in range(len(df2)):\n",
    "    df2.loc[i, ['M0122']] = M0122.overlaps(df2.loc[i, 'tenure'])"
   ]
  },
  {
   "cell_type": "code",
   "execution_count": 430,
   "id": "0fe50a1a",
   "metadata": {},
   "outputs": [
    {
     "data": {
      "text/html": [
       "<div>\n",
       "<style scoped>\n",
       "    .dataframe tbody tr th:only-of-type {\n",
       "        vertical-align: middle;\n",
       "    }\n",
       "\n",
       "    .dataframe tbody tr th {\n",
       "        vertical-align: top;\n",
       "    }\n",
       "\n",
       "    .dataframe thead th {\n",
       "        text-align: right;\n",
       "    }\n",
       "</style>\n",
       "<table border=\"1\" class=\"dataframe\">\n",
       "  <thead>\n",
       "    <tr style=\"text-align: right;\">\n",
       "      <th></th>\n",
       "      <th>DOJ</th>\n",
       "      <th>DOL</th>\n",
       "      <th>cadre</th>\n",
       "      <th>gender</th>\n",
       "      <th>campus</th>\n",
       "      <th>age</th>\n",
       "      <th>tenure</th>\n",
       "      <th>M0122</th>\n",
       "    </tr>\n",
       "  </thead>\n",
       "  <tbody>\n",
       "    <tr>\n",
       "      <th>0</th>\n",
       "      <td>2016-09-19</td>\n",
       "      <td>2017-10-22</td>\n",
       "      <td>AsstProf</td>\n",
       "      <td>F</td>\n",
       "      <td>C1</td>\n",
       "      <td>53</td>\n",
       "      <td>(1474223400.0, 1508610600.0]</td>\n",
       "      <td>False</td>\n",
       "    </tr>\n",
       "    <tr>\n",
       "      <th>1</th>\n",
       "      <td>2021-02-27</td>\n",
       "      <td>2022-04-29</td>\n",
       "      <td>AssocProf</td>\n",
       "      <td>F</td>\n",
       "      <td>C4</td>\n",
       "      <td>51</td>\n",
       "      <td>(1614364200.0, 1651170600.0]</td>\n",
       "      <td>True</td>\n",
       "    </tr>\n",
       "    <tr>\n",
       "      <th>2</th>\n",
       "      <td>2019-06-20</td>\n",
       "      <td>2021-10-12</td>\n",
       "      <td>Prof</td>\n",
       "      <td>M</td>\n",
       "      <td>C1</td>\n",
       "      <td>32</td>\n",
       "      <td>(1560969000.0, 1633977000.0]</td>\n",
       "      <td>False</td>\n",
       "    </tr>\n",
       "    <tr>\n",
       "      <th>3</th>\n",
       "      <td>2016-09-30</td>\n",
       "      <td>2019-09-16</td>\n",
       "      <td>AsstProf</td>\n",
       "      <td>F</td>\n",
       "      <td>C3</td>\n",
       "      <td>51</td>\n",
       "      <td>(1475173800.0, 1568572200.0]</td>\n",
       "      <td>False</td>\n",
       "    </tr>\n",
       "    <tr>\n",
       "      <th>4</th>\n",
       "      <td>2020-04-11</td>\n",
       "      <td>2024-01-22</td>\n",
       "      <td>AsstProf</td>\n",
       "      <td>F</td>\n",
       "      <td>C5</td>\n",
       "      <td>45</td>\n",
       "      <td>(1586543400.0, 1705861800.0]</td>\n",
       "      <td>True</td>\n",
       "    </tr>\n",
       "  </tbody>\n",
       "</table>\n",
       "</div>"
      ],
      "text/plain": [
       "         DOJ        DOL      cadre gender campus  age                        tenure  M0122\n",
       "0 2016-09-19 2017-10-22   AsstProf      F     C1   53  (1474223400.0, 1508610600.0]  False\n",
       "1 2021-02-27 2022-04-29  AssocProf      F     C4   51  (1614364200.0, 1651170600.0]   True\n",
       "2 2019-06-20 2021-10-12       Prof      M     C1   32  (1560969000.0, 1633977000.0]  False\n",
       "3 2016-09-30 2019-09-16   AsstProf      F     C3   51  (1475173800.0, 1568572200.0]  False\n",
       "4 2020-04-11 2024-01-22   AsstProf      F     C5   45  (1586543400.0, 1705861800.0]   True"
      ]
     },
     "execution_count": 430,
     "metadata": {},
     "output_type": "execute_result"
    }
   ],
   "source": [
    "df2.head()"
   ]
  },
  {
   "cell_type": "code",
   "execution_count": 431,
   "id": "5e8fbe84",
   "metadata": {},
   "outputs": [
    {
     "data": {
      "text/html": [
       "<div>\n",
       "<style scoped>\n",
       "    .dataframe tbody tr th:only-of-type {\n",
       "        vertical-align: middle;\n",
       "    }\n",
       "\n",
       "    .dataframe tbody tr th {\n",
       "        vertical-align: top;\n",
       "    }\n",
       "\n",
       "    .dataframe thead th {\n",
       "        text-align: right;\n",
       "    }\n",
       "</style>\n",
       "<table border=\"1\" class=\"dataframe\">\n",
       "  <thead>\n",
       "    <tr style=\"text-align: right;\">\n",
       "      <th></th>\n",
       "      <th>campus</th>\n",
       "      <th>M0122</th>\n",
       "      <th>age</th>\n",
       "    </tr>\n",
       "  </thead>\n",
       "  <tbody>\n",
       "    <tr>\n",
       "      <th>0</th>\n",
       "      <td>C1</td>\n",
       "      <td>False</td>\n",
       "      <td>8</td>\n",
       "    </tr>\n",
       "    <tr>\n",
       "      <th>1</th>\n",
       "      <td>C1</td>\n",
       "      <td>True</td>\n",
       "      <td>10</td>\n",
       "    </tr>\n",
       "    <tr>\n",
       "      <th>2</th>\n",
       "      <td>C2</td>\n",
       "      <td>False</td>\n",
       "      <td>13</td>\n",
       "    </tr>\n",
       "    <tr>\n",
       "      <th>3</th>\n",
       "      <td>C2</td>\n",
       "      <td>True</td>\n",
       "      <td>14</td>\n",
       "    </tr>\n",
       "    <tr>\n",
       "      <th>4</th>\n",
       "      <td>C3</td>\n",
       "      <td>False</td>\n",
       "      <td>6</td>\n",
       "    </tr>\n",
       "    <tr>\n",
       "      <th>5</th>\n",
       "      <td>C3</td>\n",
       "      <td>True</td>\n",
       "      <td>6</td>\n",
       "    </tr>\n",
       "    <tr>\n",
       "      <th>6</th>\n",
       "      <td>C4</td>\n",
       "      <td>False</td>\n",
       "      <td>4</td>\n",
       "    </tr>\n",
       "    <tr>\n",
       "      <th>7</th>\n",
       "      <td>C4</td>\n",
       "      <td>True</td>\n",
       "      <td>11</td>\n",
       "    </tr>\n",
       "    <tr>\n",
       "      <th>8</th>\n",
       "      <td>C5</td>\n",
       "      <td>False</td>\n",
       "      <td>17</td>\n",
       "    </tr>\n",
       "    <tr>\n",
       "      <th>9</th>\n",
       "      <td>C5</td>\n",
       "      <td>True</td>\n",
       "      <td>7</td>\n",
       "    </tr>\n",
       "    <tr>\n",
       "      <th>10</th>\n",
       "      <td>C6</td>\n",
       "      <td>False</td>\n",
       "      <td>2</td>\n",
       "    </tr>\n",
       "    <tr>\n",
       "      <th>11</th>\n",
       "      <td>C6</td>\n",
       "      <td>True</td>\n",
       "      <td>2</td>\n",
       "    </tr>\n",
       "  </tbody>\n",
       "</table>\n",
       "</div>"
      ],
      "text/plain": [
       "   campus  M0122  age\n",
       "0      C1  False    8\n",
       "1      C1   True   10\n",
       "2      C2  False   13\n",
       "3      C2   True   14\n",
       "4      C3  False    6\n",
       "5      C3   True    6\n",
       "6      C4  False    4\n",
       "7      C4   True   11\n",
       "8      C5  False   17\n",
       "9      C5   True    7\n",
       "10     C6  False    2\n",
       "11     C6   True    2"
      ]
     },
     "execution_count": 431,
     "metadata": {},
     "output_type": "execute_result"
    }
   ],
   "source": [
    "df2.groupby(['campus','M0122']).agg({'age':'count'}).reset_index()"
   ]
  },
  {
   "cell_type": "code",
   "execution_count": 432,
   "id": "b19ba184",
   "metadata": {},
   "outputs": [
    {
     "data": {
      "text/plain": [
       "campus  M0122  DOJ         DOL         cadre      gender  age    tenure                      \n",
       "C1      True   2017-01-08  2022-02-04  Prof       M       39.00  (1483813800.0, 1643913000.0]    1\n",
       "               2019-02-19  2023-08-24  AsstProf   M       47.00  (1550514600.0, 1692815400.0]    1\n",
       "               2020-01-16  2022-08-16  AssocProf  F       30.00  (1579113000.0, 1660588200.0]    1\n",
       "               2020-05-27  2022-10-03  Prof       F       52.00  (1590517800.0, 1664735400.0]    1\n",
       "               2020-09-09  2022-11-05  AsstProf   M       42.00  (1599589800.0, 1667586600.0]    1\n",
       "               2020-12-15  2025-12-17  AsstProf   M       40.00  (1607970600.0, 1765909800.0]    1\n",
       "               2021-03-02  2024-08-23  AssocProf  F       35.00  (1614623400.0, 1724351400.0]    1\n",
       "               2021-07-04  2025-07-13  AssocProf  M       32.00  (1625337000.0, 1752345000.0]    1\n",
       "               2022-07-19  2027-07-06  AsstProf   M       34.00  (1658169000.0, 1814812200.0]    1\n",
       "               2022-10-12  2025-04-16  AsstProf   F       37.00  (1665513000.0, 1744741800.0]    1\n",
       "C2      True   2022-12-19  2026-05-08  AssocProf  M       32.00  (1671388200.0, 1778178600.0]    1\n",
       "               2018-01-27  2022-08-23  AssocProf  M       54.00  (1516991400.0, 1661193000.0]    1\n",
       "               2019-08-07  2024-09-26  Prof       M       53.00  (1565116200.0, 1727289000.0]    1\n",
       "               2020-08-04  2025-12-31  AsstProf   M       34.00  (1596479400.0, 1767119400.0]    1\n",
       "               2020-10-04  2024-02-06  AsstProf   F       43.00  (1601749800.0, 1707157800.0]    1\n",
       "               2020-10-25  2022-09-07  AsstProf   F       43.00  (1603564200.0, 1662489000.0]    1\n",
       "               2020-10-29  2025-01-21  AssocProf  M       30.00  (1603909800.0, 1737397800.0]    1\n",
       "               2021-07-31  2025-02-27  AsstProf   M       49.00  (1627669800.0, 1740594600.0]    1\n",
       "               2021-08-28  2024-04-24  AsstProf   F       41.00  (1630089000.0, 1713897000.0]    1\n",
       "               2021-09-02  2025-08-18  AsstProf   F       44.00  (1630521000.0, 1755455400.0]    1\n",
       "               2022-03-12  2027-05-25  AsstProf   F       35.00  (1647023400.0, 1811183400.0]    1\n",
       "               2022-06-16  2027-07-16  AsstProf   M       51.00  (1655317800.0, 1815676200.0]    1\n",
       "               2022-08-05  2025-08-27  AsstProf   M       31.00  (1659637800.0, 1756233000.0]    1\n",
       "               2022-08-27  2026-06-14  AsstProf   F       30.00  (1661538600.0, 1781375400.0]    1\n",
       "C3      True   2020-02-05  2025-05-12  AsstProf   M       51.00  (1580841000.0, 1746988200.0]    1\n",
       "               2021-01-03  2023-08-02  AsstProf   F       40.00  (1609612200.0, 1690914600.0]    1\n",
       "               2022-02-19  2024-08-08  AsstProf   M       52.00  (1645209000.0, 1723055400.0]    1\n",
       "               2019-01-17  2022-08-26  AsstProf   M       40.00  (1547663400.0, 1661452200.0]    1\n",
       "               2018-11-18  2024-04-13  AsstProf   F       32.00  (1542479400.0, 1712946600.0]    1\n",
       "               2018-03-08  2022-02-20  AssocProf  M       40.00  (1520447400.0, 1645295400.0]    1\n",
       "C4      True   2021-08-27  2023-10-30  AsstProf   M       51.00  (1630002600.0, 1698604200.0]    1\n",
       "               2017-06-22  2022-05-30  AsstProf   F       40.00  (1498069800.0, 1653849000.0]    1\n",
       "               2019-12-03  2024-05-31  AsstProf   M       41.00  (1575311400.0, 1717093800.0]    1\n",
       "               2020-08-03  2025-06-03  AssocProf  F       37.00  (1596393000.0, 1748889000.0]    1\n",
       "               2020-08-16  2023-07-11  AsstProf   M       43.00  (1597516200.0, 1689013800.0]    1\n",
       "               2020-09-14  2022-04-30  AssocProf  M       36.00  (1600021800.0, 1651257000.0]    1\n",
       "               2020-09-19  2025-07-10  AsstProf   M       34.00  (1600453800.0, 1752085800.0]    1\n",
       "               2021-02-27  2022-04-29  AssocProf  F       51.00  (1614364200.0, 1651170600.0]    1\n",
       "               2022-03-15  2024-07-24  AsstProf   M       33.00  (1647282600.0, 1721759400.0]    1\n",
       "               2022-09-25  2025-09-18  AssocProf  F       33.00  (1664044200.0, 1758133800.0]    1\n",
       "               2022-10-23  2028-04-05  AsstProf   M       32.00  (1666463400.0, 1838485800.0]    1\n",
       "C5      True   2018-09-05  2023-07-27  AsstProf   F       44.00  (1536085800.0, 1690396200.0]    1\n",
       "               2019-05-03  2023-06-17  AssocProf  M       30.00  (1556821800.0, 1686940200.0]    1\n",
       "               2019-07-03  2024-06-08  AsstProf   M       40.00  (1562092200.0, 1717785000.0]    1\n",
       "               2020-04-11  2024-01-22  AsstProf   F       45.00  (1586543400.0, 1705861800.0]    1\n",
       "               2020-08-24  2023-03-15  AsstProf   F       46.00  (1598207400.0, 1678818600.0]    1\n",
       "               2021-01-30  2023-03-11  AsstProf   M       39.00  (1611945000.0, 1678473000.0]    1\n",
       "               2022-03-31  2022-11-24  AssocProf  M       45.00  (1648665000.0, 1669228200.0]    1\n",
       "C6      True   2018-05-27  2022-12-05  AssocProf  M       44.00  (1527359400.0, 1670178600.0]    1\n",
       "               2022-07-07  2023-06-22  AssocProf  M       42.00  (1657132200.0, 1687372200.0]    1\n",
       "dtype: int64"
      ]
     },
     "execution_count": 432,
     "metadata": {},
     "output_type": "execute_result"
    }
   ],
   "source": [
    "df2.where(df2['M0122'] == True).groupby(['campus','M0122']).value_counts()"
   ]
  },
  {
   "cell_type": "code",
   "execution_count": 433,
   "id": "ee29264a",
   "metadata": {},
   "outputs": [
    {
     "data": {
      "text/html": [
       "<div>\n",
       "<style scoped>\n",
       "    .dataframe tbody tr th:only-of-type {\n",
       "        vertical-align: middle;\n",
       "    }\n",
       "\n",
       "    .dataframe tbody tr th {\n",
       "        vertical-align: top;\n",
       "    }\n",
       "\n",
       "    .dataframe thead th {\n",
       "        text-align: right;\n",
       "    }\n",
       "</style>\n",
       "<table border=\"1\" class=\"dataframe\">\n",
       "  <thead>\n",
       "    <tr style=\"text-align: right;\">\n",
       "      <th></th>\n",
       "      <th>campus</th>\n",
       "      <th>M0122</th>\n",
       "      <th>0</th>\n",
       "    </tr>\n",
       "  </thead>\n",
       "  <tbody>\n",
       "    <tr>\n",
       "      <th>0</th>\n",
       "      <td>C1</td>\n",
       "      <td>True</td>\n",
       "      <td>10</td>\n",
       "    </tr>\n",
       "    <tr>\n",
       "      <th>1</th>\n",
       "      <td>C2</td>\n",
       "      <td>True</td>\n",
       "      <td>14</td>\n",
       "    </tr>\n",
       "    <tr>\n",
       "      <th>2</th>\n",
       "      <td>C3</td>\n",
       "      <td>True</td>\n",
       "      <td>6</td>\n",
       "    </tr>\n",
       "    <tr>\n",
       "      <th>3</th>\n",
       "      <td>C4</td>\n",
       "      <td>True</td>\n",
       "      <td>11</td>\n",
       "    </tr>\n",
       "    <tr>\n",
       "      <th>4</th>\n",
       "      <td>C5</td>\n",
       "      <td>True</td>\n",
       "      <td>7</td>\n",
       "    </tr>\n",
       "    <tr>\n",
       "      <th>5</th>\n",
       "      <td>C6</td>\n",
       "      <td>True</td>\n",
       "      <td>2</td>\n",
       "    </tr>\n",
       "  </tbody>\n",
       "</table>\n",
       "</div>"
      ],
      "text/plain": [
       "  campus  M0122   0\n",
       "0     C1   True  10\n",
       "1     C2   True  14\n",
       "2     C3   True   6\n",
       "3     C4   True  11\n",
       "4     C5   True   7\n",
       "5     C6   True   2"
      ]
     },
     "execution_count": 433,
     "metadata": {},
     "output_type": "execute_result"
    }
   ],
   "source": [
    "df2.where(df2['M0122'] == True).groupby(['campus','M0122']).size().reset_index()"
   ]
  },
  {
   "cell_type": "code",
   "execution_count": 434,
   "id": "d7472551",
   "metadata": {},
   "outputs": [
    {
     "data": {
      "text/html": [
       "<div>\n",
       "<style scoped>\n",
       "    .dataframe tbody tr th:only-of-type {\n",
       "        vertical-align: middle;\n",
       "    }\n",
       "\n",
       "    .dataframe tbody tr th {\n",
       "        vertical-align: top;\n",
       "    }\n",
       "\n",
       "    .dataframe thead th {\n",
       "        text-align: right;\n",
       "    }\n",
       "</style>\n",
       "<table border=\"1\" class=\"dataframe\">\n",
       "  <thead>\n",
       "    <tr style=\"text-align: right;\">\n",
       "      <th></th>\n",
       "      <th>campus</th>\n",
       "      <th>M0122</th>\n",
       "      <th>DOJ</th>\n",
       "      <th>DOL</th>\n",
       "      <th>cadre</th>\n",
       "      <th>gender</th>\n",
       "      <th>age</th>\n",
       "      <th>tenure</th>\n",
       "    </tr>\n",
       "  </thead>\n",
       "  <tbody>\n",
       "    <tr>\n",
       "      <th>0</th>\n",
       "      <td>C1</td>\n",
       "      <td>True</td>\n",
       "      <td>10</td>\n",
       "      <td>10</td>\n",
       "      <td>10</td>\n",
       "      <td>10</td>\n",
       "      <td>10</td>\n",
       "      <td>10</td>\n",
       "    </tr>\n",
       "    <tr>\n",
       "      <th>1</th>\n",
       "      <td>C2</td>\n",
       "      <td>True</td>\n",
       "      <td>14</td>\n",
       "      <td>14</td>\n",
       "      <td>14</td>\n",
       "      <td>14</td>\n",
       "      <td>14</td>\n",
       "      <td>14</td>\n",
       "    </tr>\n",
       "    <tr>\n",
       "      <th>2</th>\n",
       "      <td>C3</td>\n",
       "      <td>True</td>\n",
       "      <td>6</td>\n",
       "      <td>6</td>\n",
       "      <td>6</td>\n",
       "      <td>6</td>\n",
       "      <td>6</td>\n",
       "      <td>6</td>\n",
       "    </tr>\n",
       "    <tr>\n",
       "      <th>3</th>\n",
       "      <td>C4</td>\n",
       "      <td>True</td>\n",
       "      <td>11</td>\n",
       "      <td>11</td>\n",
       "      <td>11</td>\n",
       "      <td>11</td>\n",
       "      <td>11</td>\n",
       "      <td>11</td>\n",
       "    </tr>\n",
       "    <tr>\n",
       "      <th>4</th>\n",
       "      <td>C5</td>\n",
       "      <td>True</td>\n",
       "      <td>7</td>\n",
       "      <td>7</td>\n",
       "      <td>7</td>\n",
       "      <td>7</td>\n",
       "      <td>7</td>\n",
       "      <td>7</td>\n",
       "    </tr>\n",
       "    <tr>\n",
       "      <th>5</th>\n",
       "      <td>C6</td>\n",
       "      <td>True</td>\n",
       "      <td>2</td>\n",
       "      <td>2</td>\n",
       "      <td>2</td>\n",
       "      <td>2</td>\n",
       "      <td>2</td>\n",
       "      <td>2</td>\n",
       "    </tr>\n",
       "  </tbody>\n",
       "</table>\n",
       "</div>"
      ],
      "text/plain": [
       "  campus  M0122  DOJ  DOL  cadre  gender  age  tenure\n",
       "0     C1   True   10   10     10      10   10      10\n",
       "1     C2   True   14   14     14      14   14      14\n",
       "2     C3   True    6    6      6       6    6       6\n",
       "3     C4   True   11   11     11      11   11      11\n",
       "4     C5   True    7    7      7       7    7       7\n",
       "5     C6   True    2    2      2       2    2       2"
      ]
     },
     "execution_count": 434,
     "metadata": {},
     "output_type": "execute_result"
    }
   ],
   "source": [
    "df2.where(df2['M0122'] == True).groupby(['campus','M0122']).count().reset_index()"
   ]
  },
  {
   "cell_type": "code",
   "execution_count": 435,
   "id": "50d7e06b",
   "metadata": {},
   "outputs": [
    {
     "data": {
      "text/html": [
       "<div>\n",
       "<style scoped>\n",
       "    .dataframe tbody tr th:only-of-type {\n",
       "        vertical-align: middle;\n",
       "    }\n",
       "\n",
       "    .dataframe tbody tr th {\n",
       "        vertical-align: top;\n",
       "    }\n",
       "\n",
       "    .dataframe thead th {\n",
       "        text-align: right;\n",
       "    }\n",
       "</style>\n",
       "<table border=\"1\" class=\"dataframe\">\n",
       "  <thead>\n",
       "    <tr style=\"text-align: right;\">\n",
       "      <th></th>\n",
       "      <th>0</th>\n",
       "      <th>1</th>\n",
       "    </tr>\n",
       "  </thead>\n",
       "  <tbody>\n",
       "    <tr>\n",
       "      <th>0</th>\n",
       "      <td>2022-01-01</td>\n",
       "      <td>2022-01-31</td>\n",
       "    </tr>\n",
       "    <tr>\n",
       "      <th>1</th>\n",
       "      <td>2022-02-01</td>\n",
       "      <td>2022-02-28</td>\n",
       "    </tr>\n",
       "    <tr>\n",
       "      <th>2</th>\n",
       "      <td>2022-03-01</td>\n",
       "      <td>2022-03-31</td>\n",
       "    </tr>\n",
       "    <tr>\n",
       "      <th>3</th>\n",
       "      <td>2022-04-01</td>\n",
       "      <td>2022-04-30</td>\n",
       "    </tr>\n",
       "    <tr>\n",
       "      <th>4</th>\n",
       "      <td>2022-05-01</td>\n",
       "      <td>2022-05-31</td>\n",
       "    </tr>\n",
       "    <tr>\n",
       "      <th>5</th>\n",
       "      <td>2022-06-01</td>\n",
       "      <td>2022-06-30</td>\n",
       "    </tr>\n",
       "    <tr>\n",
       "      <th>6</th>\n",
       "      <td>2022-07-01</td>\n",
       "      <td>2022-07-31</td>\n",
       "    </tr>\n",
       "    <tr>\n",
       "      <th>7</th>\n",
       "      <td>2022-08-01</td>\n",
       "      <td>2022-08-31</td>\n",
       "    </tr>\n",
       "    <tr>\n",
       "      <th>8</th>\n",
       "      <td>2022-09-01</td>\n",
       "      <td>2022-09-30</td>\n",
       "    </tr>\n",
       "    <tr>\n",
       "      <th>9</th>\n",
       "      <td>2022-10-01</td>\n",
       "      <td>2022-10-31</td>\n",
       "    </tr>\n",
       "    <tr>\n",
       "      <th>10</th>\n",
       "      <td>2022-11-01</td>\n",
       "      <td>2022-11-30</td>\n",
       "    </tr>\n",
       "    <tr>\n",
       "      <th>11</th>\n",
       "      <td>2022-12-01</td>\n",
       "      <td>2022-12-31</td>\n",
       "    </tr>\n",
       "  </tbody>\n",
       "</table>\n",
       "</div>"
      ],
      "text/plain": [
       "            0          1\n",
       "0  2022-01-01 2022-01-31\n",
       "1  2022-02-01 2022-02-28\n",
       "2  2022-03-01 2022-03-31\n",
       "3  2022-04-01 2022-04-30\n",
       "4  2022-05-01 2022-05-31\n",
       "5  2022-06-01 2022-06-30\n",
       "6  2022-07-01 2022-07-31\n",
       "7  2022-08-01 2022-08-31\n",
       "8  2022-09-01 2022-09-30\n",
       "9  2022-10-01 2022-10-31\n",
       "10 2022-11-01 2022-11-30\n",
       "11 2022-12-01 2022-12-31"
      ]
     },
     "execution_count": 435,
     "metadata": {},
     "output_type": "execute_result"
    }
   ],
   "source": [
    "# begin of month\n",
    "MB = pd.Series(pd.date_range(\"1/1/2022\", freq=\"MS\", periods=12))\n",
    "ME = pd.Series(pd.date_range(\"1/1/2022\", freq=\"M\", periods=12))\n",
    "pd.concat([MB, ME], axis=1)"
   ]
  },
  {
   "cell_type": "code",
   "execution_count": 436,
   "id": "d560507d",
   "metadata": {},
   "outputs": [],
   "source": [
    "periods = pd.DataFrame({'MB':MB, 'ME': ME})"
   ]
  },
  {
   "cell_type": "code",
   "execution_count": 437,
   "id": "e0941495",
   "metadata": {},
   "outputs": [],
   "source": [
    "for i in range(len(periods)):\n",
    "    periods.loc[i, ['pdInterval']] = pd.Interval(periods['MB'].apply(dt.datetime.timestamp)[i], periods['ME'].apply(dt.datetime.timestamp)[i])"
   ]
  },
  {
   "cell_type": "code",
   "execution_count": 438,
   "id": "c9885d51",
   "metadata": {},
   "outputs": [
    {
     "data": {
      "text/html": [
       "<div>\n",
       "<style scoped>\n",
       "    .dataframe tbody tr th:only-of-type {\n",
       "        vertical-align: middle;\n",
       "    }\n",
       "\n",
       "    .dataframe tbody tr th {\n",
       "        vertical-align: top;\n",
       "    }\n",
       "\n",
       "    .dataframe thead th {\n",
       "        text-align: right;\n",
       "    }\n",
       "</style>\n",
       "<table border=\"1\" class=\"dataframe\">\n",
       "  <thead>\n",
       "    <tr style=\"text-align: right;\">\n",
       "      <th></th>\n",
       "      <th>MB</th>\n",
       "      <th>ME</th>\n",
       "      <th>pdInterval</th>\n",
       "    </tr>\n",
       "  </thead>\n",
       "  <tbody>\n",
       "    <tr>\n",
       "      <th>0</th>\n",
       "      <td>2022-01-01</td>\n",
       "      <td>2022-01-31</td>\n",
       "      <td>(1640975400.0, 1643567400.0]</td>\n",
       "    </tr>\n",
       "    <tr>\n",
       "      <th>1</th>\n",
       "      <td>2022-02-01</td>\n",
       "      <td>2022-02-28</td>\n",
       "      <td>(1643653800.0, 1645986600.0]</td>\n",
       "    </tr>\n",
       "    <tr>\n",
       "      <th>2</th>\n",
       "      <td>2022-03-01</td>\n",
       "      <td>2022-03-31</td>\n",
       "      <td>(1646073000.0, 1648665000.0]</td>\n",
       "    </tr>\n",
       "    <tr>\n",
       "      <th>3</th>\n",
       "      <td>2022-04-01</td>\n",
       "      <td>2022-04-30</td>\n",
       "      <td>(1648751400.0, 1651257000.0]</td>\n",
       "    </tr>\n",
       "    <tr>\n",
       "      <th>4</th>\n",
       "      <td>2022-05-01</td>\n",
       "      <td>2022-05-31</td>\n",
       "      <td>(1651343400.0, 1653935400.0]</td>\n",
       "    </tr>\n",
       "    <tr>\n",
       "      <th>5</th>\n",
       "      <td>2022-06-01</td>\n",
       "      <td>2022-06-30</td>\n",
       "      <td>(1654021800.0, 1656527400.0]</td>\n",
       "    </tr>\n",
       "    <tr>\n",
       "      <th>6</th>\n",
       "      <td>2022-07-01</td>\n",
       "      <td>2022-07-31</td>\n",
       "      <td>(1656613800.0, 1659205800.0]</td>\n",
       "    </tr>\n",
       "    <tr>\n",
       "      <th>7</th>\n",
       "      <td>2022-08-01</td>\n",
       "      <td>2022-08-31</td>\n",
       "      <td>(1659292200.0, 1661884200.0]</td>\n",
       "    </tr>\n",
       "    <tr>\n",
       "      <th>8</th>\n",
       "      <td>2022-09-01</td>\n",
       "      <td>2022-09-30</td>\n",
       "      <td>(1661970600.0, 1664476200.0]</td>\n",
       "    </tr>\n",
       "    <tr>\n",
       "      <th>9</th>\n",
       "      <td>2022-10-01</td>\n",
       "      <td>2022-10-31</td>\n",
       "      <td>(1664562600.0, 1667154600.0]</td>\n",
       "    </tr>\n",
       "    <tr>\n",
       "      <th>10</th>\n",
       "      <td>2022-11-01</td>\n",
       "      <td>2022-11-30</td>\n",
       "      <td>(1667241000.0, 1669746600.0]</td>\n",
       "    </tr>\n",
       "    <tr>\n",
       "      <th>11</th>\n",
       "      <td>2022-12-01</td>\n",
       "      <td>2022-12-31</td>\n",
       "      <td>(1669833000.0, 1672425000.0]</td>\n",
       "    </tr>\n",
       "  </tbody>\n",
       "</table>\n",
       "</div>"
      ],
      "text/plain": [
       "           MB         ME                    pdInterval\n",
       "0  2022-01-01 2022-01-31  (1640975400.0, 1643567400.0]\n",
       "1  2022-02-01 2022-02-28  (1643653800.0, 1645986600.0]\n",
       "2  2022-03-01 2022-03-31  (1646073000.0, 1648665000.0]\n",
       "3  2022-04-01 2022-04-30  (1648751400.0, 1651257000.0]\n",
       "4  2022-05-01 2022-05-31  (1651343400.0, 1653935400.0]\n",
       "5  2022-06-01 2022-06-30  (1654021800.0, 1656527400.0]\n",
       "6  2022-07-01 2022-07-31  (1656613800.0, 1659205800.0]\n",
       "7  2022-08-01 2022-08-31  (1659292200.0, 1661884200.0]\n",
       "8  2022-09-01 2022-09-30  (1661970600.0, 1664476200.0]\n",
       "9  2022-10-01 2022-10-31  (1664562600.0, 1667154600.0]\n",
       "10 2022-11-01 2022-11-30  (1667241000.0, 1669746600.0]\n",
       "11 2022-12-01 2022-12-31  (1669833000.0, 1672425000.0]"
      ]
     },
     "execution_count": 438,
     "metadata": {},
     "output_type": "execute_result"
    }
   ],
   "source": [
    "periods"
   ]
  },
  {
   "cell_type": "code",
   "execution_count": 439,
   "id": "3c13d677",
   "metadata": {},
   "outputs": [
    {
     "name": "stdout",
     "output_type": "stream",
     "text": [
      "<class 'list'> \n",
      " ['01', '02', '03', '04', '05', '06', '07', '08', '09', '10', '11', '12']\n",
      "['M0122', 'M0222', 'M0322', 'M0422', 'M0522', 'M0622', 'M0722', 'M0822', 'M0922', 'M1022', 'M1122', 'M1222']\n"
     ]
    }
   ],
   "source": [
    "nos1 = [1,2,3,4,5,6,7,8,9,10,11,12]\n",
    "nos2 = [str(item).zfill(2) for item in nos1]\n",
    "print(type(nos1), '\\n',nos2)\n",
    "prefix = 'M'\n",
    "suffix = '22'\n",
    "monthID = [prefix + str(i) + suffix for i in nos2]\n",
    "print(monthID)"
   ]
  },
  {
   "cell_type": "code",
   "execution_count": 440,
   "id": "371e22b7",
   "metadata": {},
   "outputs": [
    {
     "data": {
      "text/html": [
       "<div>\n",
       "<style scoped>\n",
       "    .dataframe tbody tr th:only-of-type {\n",
       "        vertical-align: middle;\n",
       "    }\n",
       "\n",
       "    .dataframe tbody tr th {\n",
       "        vertical-align: top;\n",
       "    }\n",
       "\n",
       "    .dataframe thead th {\n",
       "        text-align: right;\n",
       "    }\n",
       "</style>\n",
       "<table border=\"1\" class=\"dataframe\">\n",
       "  <thead>\n",
       "    <tr style=\"text-align: right;\">\n",
       "      <th></th>\n",
       "      <th>MB</th>\n",
       "      <th>ME</th>\n",
       "      <th>pdInterval</th>\n",
       "      <th>monthID</th>\n",
       "    </tr>\n",
       "  </thead>\n",
       "  <tbody>\n",
       "    <tr>\n",
       "      <th>0</th>\n",
       "      <td>2022-01-01</td>\n",
       "      <td>2022-01-31</td>\n",
       "      <td>(1640975400.0, 1643567400.0]</td>\n",
       "      <td>M0122</td>\n",
       "    </tr>\n",
       "    <tr>\n",
       "      <th>1</th>\n",
       "      <td>2022-02-01</td>\n",
       "      <td>2022-02-28</td>\n",
       "      <td>(1643653800.0, 1645986600.0]</td>\n",
       "      <td>M0222</td>\n",
       "    </tr>\n",
       "    <tr>\n",
       "      <th>2</th>\n",
       "      <td>2022-03-01</td>\n",
       "      <td>2022-03-31</td>\n",
       "      <td>(1646073000.0, 1648665000.0]</td>\n",
       "      <td>M0322</td>\n",
       "    </tr>\n",
       "    <tr>\n",
       "      <th>3</th>\n",
       "      <td>2022-04-01</td>\n",
       "      <td>2022-04-30</td>\n",
       "      <td>(1648751400.0, 1651257000.0]</td>\n",
       "      <td>M0422</td>\n",
       "    </tr>\n",
       "    <tr>\n",
       "      <th>4</th>\n",
       "      <td>2022-05-01</td>\n",
       "      <td>2022-05-31</td>\n",
       "      <td>(1651343400.0, 1653935400.0]</td>\n",
       "      <td>M0522</td>\n",
       "    </tr>\n",
       "    <tr>\n",
       "      <th>5</th>\n",
       "      <td>2022-06-01</td>\n",
       "      <td>2022-06-30</td>\n",
       "      <td>(1654021800.0, 1656527400.0]</td>\n",
       "      <td>M0622</td>\n",
       "    </tr>\n",
       "    <tr>\n",
       "      <th>6</th>\n",
       "      <td>2022-07-01</td>\n",
       "      <td>2022-07-31</td>\n",
       "      <td>(1656613800.0, 1659205800.0]</td>\n",
       "      <td>M0722</td>\n",
       "    </tr>\n",
       "    <tr>\n",
       "      <th>7</th>\n",
       "      <td>2022-08-01</td>\n",
       "      <td>2022-08-31</td>\n",
       "      <td>(1659292200.0, 1661884200.0]</td>\n",
       "      <td>M0822</td>\n",
       "    </tr>\n",
       "    <tr>\n",
       "      <th>8</th>\n",
       "      <td>2022-09-01</td>\n",
       "      <td>2022-09-30</td>\n",
       "      <td>(1661970600.0, 1664476200.0]</td>\n",
       "      <td>M0922</td>\n",
       "    </tr>\n",
       "    <tr>\n",
       "      <th>9</th>\n",
       "      <td>2022-10-01</td>\n",
       "      <td>2022-10-31</td>\n",
       "      <td>(1664562600.0, 1667154600.0]</td>\n",
       "      <td>M1022</td>\n",
       "    </tr>\n",
       "    <tr>\n",
       "      <th>10</th>\n",
       "      <td>2022-11-01</td>\n",
       "      <td>2022-11-30</td>\n",
       "      <td>(1667241000.0, 1669746600.0]</td>\n",
       "      <td>M1122</td>\n",
       "    </tr>\n",
       "    <tr>\n",
       "      <th>11</th>\n",
       "      <td>2022-12-01</td>\n",
       "      <td>2022-12-31</td>\n",
       "      <td>(1669833000.0, 1672425000.0]</td>\n",
       "      <td>M1222</td>\n",
       "    </tr>\n",
       "  </tbody>\n",
       "</table>\n",
       "</div>"
      ],
      "text/plain": [
       "           MB         ME                    pdInterval monthID\n",
       "0  2022-01-01 2022-01-31  (1640975400.0, 1643567400.0]   M0122\n",
       "1  2022-02-01 2022-02-28  (1643653800.0, 1645986600.0]   M0222\n",
       "2  2022-03-01 2022-03-31  (1646073000.0, 1648665000.0]   M0322\n",
       "3  2022-04-01 2022-04-30  (1648751400.0, 1651257000.0]   M0422\n",
       "4  2022-05-01 2022-05-31  (1651343400.0, 1653935400.0]   M0522\n",
       "5  2022-06-01 2022-06-30  (1654021800.0, 1656527400.0]   M0622\n",
       "6  2022-07-01 2022-07-31  (1656613800.0, 1659205800.0]   M0722\n",
       "7  2022-08-01 2022-08-31  (1659292200.0, 1661884200.0]   M0822\n",
       "8  2022-09-01 2022-09-30  (1661970600.0, 1664476200.0]   M0922\n",
       "9  2022-10-01 2022-10-31  (1664562600.0, 1667154600.0]   M1022\n",
       "10 2022-11-01 2022-11-30  (1667241000.0, 1669746600.0]   M1122\n",
       "11 2022-12-01 2022-12-31  (1669833000.0, 1672425000.0]   M1222"
      ]
     },
     "execution_count": 440,
     "metadata": {},
     "output_type": "execute_result"
    }
   ],
   "source": [
    "periods['monthID'] = monthID\n",
    "periods"
   ]
  },
  {
   "cell_type": "code",
   "execution_count": 449,
   "id": "20728454",
   "metadata": {},
   "outputs": [
    {
     "data": {
      "text/plain": [
       "1    (1643653800.0, 1645986600.0]\n",
       "Name: pdInterval, dtype: object"
      ]
     },
     "execution_count": 449,
     "metadata": {},
     "output_type": "execute_result"
    }
   ],
   "source": [
    "periods[periods['monthID'] == 'M0222'].pdInterval\n",
    "#.overlaps(df2.loc[0, 'tenure'])"
   ]
  },
  {
   "cell_type": "code",
   "execution_count": 450,
   "id": "23bec57c",
   "metadata": {},
   "outputs": [
    {
     "data": {
      "text/plain": [
       "False"
      ]
     },
     "execution_count": 450,
     "metadata": {},
     "output_type": "execute_result"
    }
   ],
   "source": [
    "periods.at[1, 'pdInterval'].overlaps(df2.loc[0, 'tenure'])"
   ]
  },
  {
   "cell_type": "code",
   "execution_count": 451,
   "id": "5c7d8621",
   "metadata": {},
   "outputs": [
    {
     "data": {
      "text/plain": [
       "Index(['MB', 'ME', 'pdInterval', 'monthID'], dtype='object')"
      ]
     },
     "execution_count": 451,
     "metadata": {},
     "output_type": "execute_result"
    }
   ],
   "source": [
    "periods.columns"
   ]
  },
  {
   "cell_type": "code",
   "execution_count": 452,
   "id": "c839e920",
   "metadata": {},
   "outputs": [],
   "source": [
    "mv='M0122'\n",
    "PDI = periods.at[0, 'pdInterval']\n",
    "for i in range(len(df2)):    df2.loc[i, [mv]] = PDI.overlaps(df2.loc[i, 'tenure'])"
   ]
  },
  {
   "cell_type": "markdown",
   "id": "16b1b320",
   "metadata": {},
   "source": [
    "mv='M0722'\n",
    "PDI = periods.at[6, 'pdInterval']\n",
    "for i in range(len(df2)):    df2.loc[i, [mv]] = PDI.overlaps(df2.loc[i, 'tenure'])"
   ]
  },
  {
   "cell_type": "code",
   "execution_count": 453,
   "id": "d89e151f",
   "metadata": {},
   "outputs": [],
   "source": [
    "for i in range(0,12): \n",
    "    PDI = periods.at[i, 'pdInterval']\n",
    "    mn =  periods.at[i, 'monthID']\n",
    "    for j in range(len(df2)):\n",
    "        #print(i, pd, mn, j)\n",
    "        df2.loc[j, [mn]] = PDI.overlaps(df2.loc[j, 'tenure'])            "
   ]
  },
  {
   "cell_type": "code",
   "execution_count": 454,
   "id": "9b3da9d8",
   "metadata": {},
   "outputs": [
    {
     "data": {
      "text/html": [
       "<div>\n",
       "<style scoped>\n",
       "    .dataframe tbody tr th:only-of-type {\n",
       "        vertical-align: middle;\n",
       "    }\n",
       "\n",
       "    .dataframe tbody tr th {\n",
       "        vertical-align: top;\n",
       "    }\n",
       "\n",
       "    .dataframe thead th {\n",
       "        text-align: right;\n",
       "    }\n",
       "</style>\n",
       "<table border=\"1\" class=\"dataframe\">\n",
       "  <thead>\n",
       "    <tr style=\"text-align: right;\">\n",
       "      <th></th>\n",
       "      <th>DOJ</th>\n",
       "      <th>DOL</th>\n",
       "      <th>cadre</th>\n",
       "      <th>gender</th>\n",
       "      <th>campus</th>\n",
       "      <th>age</th>\n",
       "      <th>tenure</th>\n",
       "      <th>M0122</th>\n",
       "      <th>M0222</th>\n",
       "      <th>M0322</th>\n",
       "      <th>M0422</th>\n",
       "      <th>M0522</th>\n",
       "      <th>M0622</th>\n",
       "      <th>M0722</th>\n",
       "      <th>M0822</th>\n",
       "      <th>M0922</th>\n",
       "      <th>M1022</th>\n",
       "      <th>M1122</th>\n",
       "      <th>M1222</th>\n",
       "    </tr>\n",
       "  </thead>\n",
       "  <tbody>\n",
       "    <tr>\n",
       "      <th>0</th>\n",
       "      <td>2016-09-19</td>\n",
       "      <td>2017-10-22</td>\n",
       "      <td>AsstProf</td>\n",
       "      <td>F</td>\n",
       "      <td>C1</td>\n",
       "      <td>53</td>\n",
       "      <td>(1474223400.0, 1508610600.0]</td>\n",
       "      <td>False</td>\n",
       "      <td>False</td>\n",
       "      <td>False</td>\n",
       "      <td>False</td>\n",
       "      <td>False</td>\n",
       "      <td>False</td>\n",
       "      <td>False</td>\n",
       "      <td>False</td>\n",
       "      <td>False</td>\n",
       "      <td>False</td>\n",
       "      <td>False</td>\n",
       "      <td>False</td>\n",
       "    </tr>\n",
       "    <tr>\n",
       "      <th>1</th>\n",
       "      <td>2021-02-27</td>\n",
       "      <td>2022-04-29</td>\n",
       "      <td>AssocProf</td>\n",
       "      <td>F</td>\n",
       "      <td>C4</td>\n",
       "      <td>51</td>\n",
       "      <td>(1614364200.0, 1651170600.0]</td>\n",
       "      <td>True</td>\n",
       "      <td>True</td>\n",
       "      <td>True</td>\n",
       "      <td>True</td>\n",
       "      <td>False</td>\n",
       "      <td>False</td>\n",
       "      <td>False</td>\n",
       "      <td>False</td>\n",
       "      <td>False</td>\n",
       "      <td>False</td>\n",
       "      <td>False</td>\n",
       "      <td>False</td>\n",
       "    </tr>\n",
       "    <tr>\n",
       "      <th>2</th>\n",
       "      <td>2019-06-20</td>\n",
       "      <td>2021-10-12</td>\n",
       "      <td>Prof</td>\n",
       "      <td>M</td>\n",
       "      <td>C1</td>\n",
       "      <td>32</td>\n",
       "      <td>(1560969000.0, 1633977000.0]</td>\n",
       "      <td>False</td>\n",
       "      <td>False</td>\n",
       "      <td>False</td>\n",
       "      <td>False</td>\n",
       "      <td>False</td>\n",
       "      <td>False</td>\n",
       "      <td>False</td>\n",
       "      <td>False</td>\n",
       "      <td>False</td>\n",
       "      <td>False</td>\n",
       "      <td>False</td>\n",
       "      <td>False</td>\n",
       "    </tr>\n",
       "    <tr>\n",
       "      <th>3</th>\n",
       "      <td>2016-09-30</td>\n",
       "      <td>2019-09-16</td>\n",
       "      <td>AsstProf</td>\n",
       "      <td>F</td>\n",
       "      <td>C3</td>\n",
       "      <td>51</td>\n",
       "      <td>(1475173800.0, 1568572200.0]</td>\n",
       "      <td>False</td>\n",
       "      <td>False</td>\n",
       "      <td>False</td>\n",
       "      <td>False</td>\n",
       "      <td>False</td>\n",
       "      <td>False</td>\n",
       "      <td>False</td>\n",
       "      <td>False</td>\n",
       "      <td>False</td>\n",
       "      <td>False</td>\n",
       "      <td>False</td>\n",
       "      <td>False</td>\n",
       "    </tr>\n",
       "    <tr>\n",
       "      <th>4</th>\n",
       "      <td>2020-04-11</td>\n",
       "      <td>2024-01-22</td>\n",
       "      <td>AsstProf</td>\n",
       "      <td>F</td>\n",
       "      <td>C5</td>\n",
       "      <td>45</td>\n",
       "      <td>(1586543400.0, 1705861800.0]</td>\n",
       "      <td>True</td>\n",
       "      <td>True</td>\n",
       "      <td>True</td>\n",
       "      <td>True</td>\n",
       "      <td>True</td>\n",
       "      <td>True</td>\n",
       "      <td>True</td>\n",
       "      <td>True</td>\n",
       "      <td>True</td>\n",
       "      <td>True</td>\n",
       "      <td>True</td>\n",
       "      <td>True</td>\n",
       "    </tr>\n",
       "    <tr>\n",
       "      <th>5</th>\n",
       "      <td>2022-08-27</td>\n",
       "      <td>2026-06-14</td>\n",
       "      <td>AsstProf</td>\n",
       "      <td>F</td>\n",
       "      <td>C2</td>\n",
       "      <td>30</td>\n",
       "      <td>(1661538600.0, 1781375400.0]</td>\n",
       "      <td>False</td>\n",
       "      <td>False</td>\n",
       "      <td>False</td>\n",
       "      <td>False</td>\n",
       "      <td>False</td>\n",
       "      <td>False</td>\n",
       "      <td>False</td>\n",
       "      <td>True</td>\n",
       "      <td>True</td>\n",
       "      <td>True</td>\n",
       "      <td>True</td>\n",
       "      <td>True</td>\n",
       "    </tr>\n",
       "    <tr>\n",
       "      <th>6</th>\n",
       "      <td>2017-06-30</td>\n",
       "      <td>2019-06-26</td>\n",
       "      <td>Prof</td>\n",
       "      <td>F</td>\n",
       "      <td>C5</td>\n",
       "      <td>43</td>\n",
       "      <td>(1498761000.0, 1561487400.0]</td>\n",
       "      <td>False</td>\n",
       "      <td>False</td>\n",
       "      <td>False</td>\n",
       "      <td>False</td>\n",
       "      <td>False</td>\n",
       "      <td>False</td>\n",
       "      <td>False</td>\n",
       "      <td>False</td>\n",
       "      <td>False</td>\n",
       "      <td>False</td>\n",
       "      <td>False</td>\n",
       "      <td>False</td>\n",
       "    </tr>\n",
       "    <tr>\n",
       "      <th>7</th>\n",
       "      <td>2020-08-16</td>\n",
       "      <td>2023-07-11</td>\n",
       "      <td>AsstProf</td>\n",
       "      <td>M</td>\n",
       "      <td>C4</td>\n",
       "      <td>43</td>\n",
       "      <td>(1597516200.0, 1689013800.0]</td>\n",
       "      <td>True</td>\n",
       "      <td>True</td>\n",
       "      <td>True</td>\n",
       "      <td>True</td>\n",
       "      <td>True</td>\n",
       "      <td>True</td>\n",
       "      <td>True</td>\n",
       "      <td>True</td>\n",
       "      <td>True</td>\n",
       "      <td>True</td>\n",
       "      <td>True</td>\n",
       "      <td>True</td>\n",
       "    </tr>\n",
       "  </tbody>\n",
       "</table>\n",
       "</div>"
      ],
      "text/plain": [
       "         DOJ        DOL      cadre gender campus  age                        tenure  M0122  M0222  M0322  M0422  M0522  M0622  M0722  M0822  M0922  M1022  M1122  M1222\n",
       "0 2016-09-19 2017-10-22   AsstProf      F     C1   53  (1474223400.0, 1508610600.0]  False  False  False  False  False  False  False  False  False  False  False  False\n",
       "1 2021-02-27 2022-04-29  AssocProf      F     C4   51  (1614364200.0, 1651170600.0]   True   True   True   True  False  False  False  False  False  False  False  False\n",
       "2 2019-06-20 2021-10-12       Prof      M     C1   32  (1560969000.0, 1633977000.0]  False  False  False  False  False  False  False  False  False  False  False  False\n",
       "3 2016-09-30 2019-09-16   AsstProf      F     C3   51  (1475173800.0, 1568572200.0]  False  False  False  False  False  False  False  False  False  False  False  False\n",
       "4 2020-04-11 2024-01-22   AsstProf      F     C5   45  (1586543400.0, 1705861800.0]   True   True   True   True   True   True   True   True   True   True   True   True\n",
       "5 2022-08-27 2026-06-14   AsstProf      F     C2   30  (1661538600.0, 1781375400.0]  False  False  False  False  False  False  False   True   True   True   True   True\n",
       "6 2017-06-30 2019-06-26       Prof      F     C5   43  (1498761000.0, 1561487400.0]  False  False  False  False  False  False  False  False  False  False  False  False\n",
       "7 2020-08-16 2023-07-11   AsstProf      M     C4   43  (1597516200.0, 1689013800.0]   True   True   True   True   True   True   True   True   True   True   True   True"
      ]
     },
     "execution_count": 454,
     "metadata": {},
     "output_type": "execute_result"
    }
   ],
   "source": [
    "df2.head(8)"
   ]
  },
  {
   "cell_type": "code",
   "execution_count": 455,
   "id": "808e77a5",
   "metadata": {},
   "outputs": [
    {
     "name": "stdout",
     "output_type": "stream",
     "text": [
      "2015-01-01T00:00:00 - 2015-01-04T00:00:00\n"
     ]
    }
   ],
   "source": [
    "print(time_range1)"
   ]
  },
  {
   "cell_type": "code",
   "execution_count": 457,
   "id": "6936bdc0",
   "metadata": {},
   "outputs": [],
   "source": [
    "import datetimerange"
   ]
  },
  {
   "cell_type": "code",
   "execution_count": 458,
   "id": "9c84bfc7",
   "metadata": {},
   "outputs": [
    {
     "data": {
      "text/plain": [
       "2022-01-01T00:00:00 - 2022-01-31T00:00:00"
      ]
     },
     "execution_count": 458,
     "metadata": {},
     "output_type": "execute_result"
    }
   ],
   "source": [
    "# now check if the person present between\n",
    "M_01 = DateTimeRange(dt.datetime(2022, 1, 1), dt.datetime(2022, 1, 31))\n",
    "M_01"
   ]
  },
  {
   "cell_type": "code",
   "execution_count": 459,
   "id": "a5d9c80c",
   "metadata": {},
   "outputs": [
    {
     "name": "stdout",
     "output_type": "stream",
     "text": [
      "2021-02-27T00:00:00 - 2022-04-29T00:00:00 \t 2022-01-01T00:00:00 - 2022-01-31T00:00:00\n"
     ]
    }
   ],
   "source": [
    "#2022-03-24\t2026-05-10\n",
    "R1 = DateTimeRange(df2.at[1,'DOJ'], df2.at[1,'DOL'])\n",
    "print(R1, '\\t', M_01)"
   ]
  },
  {
   "cell_type": "code",
   "execution_count": 460,
   "id": "4e761839",
   "metadata": {},
   "outputs": [
    {
     "name": "stdout",
     "output_type": "stream",
     "text": [
      "30.0\n"
     ]
    }
   ],
   "source": [
    "T1 =  M_01.intersection(R1)\n",
    "print(T1.timedelta.total_seconds()/(86400))"
   ]
  },
  {
   "cell_type": "code",
   "execution_count": 461,
   "id": "7f47b8a2",
   "metadata": {},
   "outputs": [
    {
     "data": {
      "text/html": [
       "<div>\n",
       "<style scoped>\n",
       "    .dataframe tbody tr th:only-of-type {\n",
       "        vertical-align: middle;\n",
       "    }\n",
       "\n",
       "    .dataframe tbody tr th {\n",
       "        vertical-align: top;\n",
       "    }\n",
       "\n",
       "    .dataframe thead th {\n",
       "        text-align: right;\n",
       "    }\n",
       "</style>\n",
       "<table border=\"1\" class=\"dataframe\">\n",
       "  <thead>\n",
       "    <tr style=\"text-align: right;\">\n",
       "      <th></th>\n",
       "      <th>MB</th>\n",
       "      <th>ME</th>\n",
       "      <th>pdInterval</th>\n",
       "      <th>monthID</th>\n",
       "    </tr>\n",
       "  </thead>\n",
       "  <tbody>\n",
       "    <tr>\n",
       "      <th>0</th>\n",
       "      <td>2022-01-01</td>\n",
       "      <td>2022-01-31</td>\n",
       "      <td>(1640975400.0, 1643567400.0]</td>\n",
       "      <td>M0122</td>\n",
       "    </tr>\n",
       "    <tr>\n",
       "      <th>1</th>\n",
       "      <td>2022-02-01</td>\n",
       "      <td>2022-02-28</td>\n",
       "      <td>(1643653800.0, 1645986600.0]</td>\n",
       "      <td>M0222</td>\n",
       "    </tr>\n",
       "    <tr>\n",
       "      <th>2</th>\n",
       "      <td>2022-03-01</td>\n",
       "      <td>2022-03-31</td>\n",
       "      <td>(1646073000.0, 1648665000.0]</td>\n",
       "      <td>M0322</td>\n",
       "    </tr>\n",
       "    <tr>\n",
       "      <th>3</th>\n",
       "      <td>2022-04-01</td>\n",
       "      <td>2022-04-30</td>\n",
       "      <td>(1648751400.0, 1651257000.0]</td>\n",
       "      <td>M0422</td>\n",
       "    </tr>\n",
       "    <tr>\n",
       "      <th>4</th>\n",
       "      <td>2022-05-01</td>\n",
       "      <td>2022-05-31</td>\n",
       "      <td>(1651343400.0, 1653935400.0]</td>\n",
       "      <td>M0522</td>\n",
       "    </tr>\n",
       "    <tr>\n",
       "      <th>5</th>\n",
       "      <td>2022-06-01</td>\n",
       "      <td>2022-06-30</td>\n",
       "      <td>(1654021800.0, 1656527400.0]</td>\n",
       "      <td>M0622</td>\n",
       "    </tr>\n",
       "    <tr>\n",
       "      <th>6</th>\n",
       "      <td>2022-07-01</td>\n",
       "      <td>2022-07-31</td>\n",
       "      <td>(1656613800.0, 1659205800.0]</td>\n",
       "      <td>M0722</td>\n",
       "    </tr>\n",
       "    <tr>\n",
       "      <th>7</th>\n",
       "      <td>2022-08-01</td>\n",
       "      <td>2022-08-31</td>\n",
       "      <td>(1659292200.0, 1661884200.0]</td>\n",
       "      <td>M0822</td>\n",
       "    </tr>\n",
       "    <tr>\n",
       "      <th>8</th>\n",
       "      <td>2022-09-01</td>\n",
       "      <td>2022-09-30</td>\n",
       "      <td>(1661970600.0, 1664476200.0]</td>\n",
       "      <td>M0922</td>\n",
       "    </tr>\n",
       "    <tr>\n",
       "      <th>9</th>\n",
       "      <td>2022-10-01</td>\n",
       "      <td>2022-10-31</td>\n",
       "      <td>(1664562600.0, 1667154600.0]</td>\n",
       "      <td>M1022</td>\n",
       "    </tr>\n",
       "    <tr>\n",
       "      <th>10</th>\n",
       "      <td>2022-11-01</td>\n",
       "      <td>2022-11-30</td>\n",
       "      <td>(1667241000.0, 1669746600.0]</td>\n",
       "      <td>M1122</td>\n",
       "    </tr>\n",
       "    <tr>\n",
       "      <th>11</th>\n",
       "      <td>2022-12-01</td>\n",
       "      <td>2022-12-31</td>\n",
       "      <td>(1669833000.0, 1672425000.0]</td>\n",
       "      <td>M1222</td>\n",
       "    </tr>\n",
       "  </tbody>\n",
       "</table>\n",
       "</div>"
      ],
      "text/plain": [
       "           MB         ME                    pdInterval monthID\n",
       "0  2022-01-01 2022-01-31  (1640975400.0, 1643567400.0]   M0122\n",
       "1  2022-02-01 2022-02-28  (1643653800.0, 1645986600.0]   M0222\n",
       "2  2022-03-01 2022-03-31  (1646073000.0, 1648665000.0]   M0322\n",
       "3  2022-04-01 2022-04-30  (1648751400.0, 1651257000.0]   M0422\n",
       "4  2022-05-01 2022-05-31  (1651343400.0, 1653935400.0]   M0522\n",
       "5  2022-06-01 2022-06-30  (1654021800.0, 1656527400.0]   M0622\n",
       "6  2022-07-01 2022-07-31  (1656613800.0, 1659205800.0]   M0722\n",
       "7  2022-08-01 2022-08-31  (1659292200.0, 1661884200.0]   M0822\n",
       "8  2022-09-01 2022-09-30  (1661970600.0, 1664476200.0]   M0922\n",
       "9  2022-10-01 2022-10-31  (1664562600.0, 1667154600.0]   M1022\n",
       "10 2022-11-01 2022-11-30  (1667241000.0, 1669746600.0]   M1122\n",
       "11 2022-12-01 2022-12-31  (1669833000.0, 1672425000.0]   M1222"
      ]
     },
     "execution_count": 461,
     "metadata": {},
     "output_type": "execute_result"
    }
   ],
   "source": [
    "periods\n",
    "#for i in len(periods):   print(i)"
   ]
  },
  {
   "cell_type": "code",
   "execution_count": 462,
   "id": "e84c7683",
   "metadata": {},
   "outputs": [],
   "source": [
    "def get_overlap(r1,r2):\n",
    "    latest_start=max(r1[0],r2[0])\n",
    "    earliest_end=min(r1[1],r2[1])\n",
    "    delta=(earliest_end-latest_start).days\n",
    "    if delta>0:\n",
    "        return delta+1\n",
    "    else:\n",
    "        return 0"
   ]
  },
  {
   "cell_type": "code",
   "execution_count": 463,
   "id": "f6ac0b03",
   "metadata": {},
   "outputs": [],
   "source": [
    "for i in range(len(periods)): \n",
    "    sp = periods.at[i, 'MB']\n",
    "    ep = periods.at[i, 'ME']\n",
    "    r1 = [sp, ep]\n",
    "    mn = periods.at[i, 'monthID']\n",
    "    for j in range(len(df2)):\n",
    "        SP1 = df2.at[j, 'DOJ']\n",
    "        SP2 = df2.at[j, 'DOL']\n",
    "        r2 = [SP1, SP2]\n",
    "        #print(r1[0],r1[1],r2[0], r2[1])\n",
    "        OD = get_overlap(r1,r2)\n",
    "        df2.loc[j, 'D' + str(mn)] = OD   \n",
    "        #print(OD)"
   ]
  },
  {
   "cell_type": "code",
   "execution_count": 465,
   "id": "adfb79d4",
   "metadata": {},
   "outputs": [
    {
     "data": {
      "text/html": [
       "<div>\n",
       "<style scoped>\n",
       "    .dataframe tbody tr th:only-of-type {\n",
       "        vertical-align: middle;\n",
       "    }\n",
       "\n",
       "    .dataframe tbody tr th {\n",
       "        vertical-align: top;\n",
       "    }\n",
       "\n",
       "    .dataframe thead th {\n",
       "        text-align: right;\n",
       "    }\n",
       "</style>\n",
       "<table border=\"1\" class=\"dataframe\">\n",
       "  <thead>\n",
       "    <tr style=\"text-align: right;\">\n",
       "      <th></th>\n",
       "      <th>DOJ</th>\n",
       "      <th>DOL</th>\n",
       "      <th>cadre</th>\n",
       "      <th>gender</th>\n",
       "      <th>campus</th>\n",
       "      <th>age</th>\n",
       "      <th>tenure</th>\n",
       "      <th>M0122</th>\n",
       "      <th>M0222</th>\n",
       "      <th>M0322</th>\n",
       "      <th>M0422</th>\n",
       "      <th>M0522</th>\n",
       "      <th>M0622</th>\n",
       "      <th>M0722</th>\n",
       "      <th>M0822</th>\n",
       "      <th>M0922</th>\n",
       "      <th>M1022</th>\n",
       "      <th>M1122</th>\n",
       "      <th>M1222</th>\n",
       "      <th>DM0122</th>\n",
       "      <th>DM0222</th>\n",
       "      <th>DM0322</th>\n",
       "      <th>DM0422</th>\n",
       "      <th>DM0522</th>\n",
       "      <th>DM0622</th>\n",
       "      <th>DM0722</th>\n",
       "      <th>DM0822</th>\n",
       "      <th>DM0922</th>\n",
       "      <th>DM1022</th>\n",
       "      <th>DM1122</th>\n",
       "      <th>DM1222</th>\n",
       "    </tr>\n",
       "  </thead>\n",
       "  <tbody>\n",
       "    <tr>\n",
       "      <th>0</th>\n",
       "      <td>2016-09-19</td>\n",
       "      <td>2017-10-22</td>\n",
       "      <td>AsstProf</td>\n",
       "      <td>F</td>\n",
       "      <td>C1</td>\n",
       "      <td>53</td>\n",
       "      <td>(1474223400.0, 1508610600.0]</td>\n",
       "      <td>False</td>\n",
       "      <td>False</td>\n",
       "      <td>False</td>\n",
       "      <td>False</td>\n",
       "      <td>False</td>\n",
       "      <td>False</td>\n",
       "      <td>False</td>\n",
       "      <td>False</td>\n",
       "      <td>False</td>\n",
       "      <td>False</td>\n",
       "      <td>False</td>\n",
       "      <td>False</td>\n",
       "      <td>0.00</td>\n",
       "      <td>0.00</td>\n",
       "      <td>0.00</td>\n",
       "      <td>0.00</td>\n",
       "      <td>0.00</td>\n",
       "      <td>0.00</td>\n",
       "      <td>0.00</td>\n",
       "      <td>0.00</td>\n",
       "      <td>0.00</td>\n",
       "      <td>0.00</td>\n",
       "      <td>0.00</td>\n",
       "      <td>0.00</td>\n",
       "    </tr>\n",
       "    <tr>\n",
       "      <th>1</th>\n",
       "      <td>2021-02-27</td>\n",
       "      <td>2022-04-29</td>\n",
       "      <td>AssocProf</td>\n",
       "      <td>F</td>\n",
       "      <td>C4</td>\n",
       "      <td>51</td>\n",
       "      <td>(1614364200.0, 1651170600.0]</td>\n",
       "      <td>True</td>\n",
       "      <td>True</td>\n",
       "      <td>True</td>\n",
       "      <td>True</td>\n",
       "      <td>False</td>\n",
       "      <td>False</td>\n",
       "      <td>False</td>\n",
       "      <td>False</td>\n",
       "      <td>False</td>\n",
       "      <td>False</td>\n",
       "      <td>False</td>\n",
       "      <td>False</td>\n",
       "      <td>31.00</td>\n",
       "      <td>28.00</td>\n",
       "      <td>31.00</td>\n",
       "      <td>29.00</td>\n",
       "      <td>0.00</td>\n",
       "      <td>0.00</td>\n",
       "      <td>0.00</td>\n",
       "      <td>0.00</td>\n",
       "      <td>0.00</td>\n",
       "      <td>0.00</td>\n",
       "      <td>0.00</td>\n",
       "      <td>0.00</td>\n",
       "    </tr>\n",
       "    <tr>\n",
       "      <th>2</th>\n",
       "      <td>2019-06-20</td>\n",
       "      <td>2021-10-12</td>\n",
       "      <td>Prof</td>\n",
       "      <td>M</td>\n",
       "      <td>C1</td>\n",
       "      <td>32</td>\n",
       "      <td>(1560969000.0, 1633977000.0]</td>\n",
       "      <td>False</td>\n",
       "      <td>False</td>\n",
       "      <td>False</td>\n",
       "      <td>False</td>\n",
       "      <td>False</td>\n",
       "      <td>False</td>\n",
       "      <td>False</td>\n",
       "      <td>False</td>\n",
       "      <td>False</td>\n",
       "      <td>False</td>\n",
       "      <td>False</td>\n",
       "      <td>False</td>\n",
       "      <td>0.00</td>\n",
       "      <td>0.00</td>\n",
       "      <td>0.00</td>\n",
       "      <td>0.00</td>\n",
       "      <td>0.00</td>\n",
       "      <td>0.00</td>\n",
       "      <td>0.00</td>\n",
       "      <td>0.00</td>\n",
       "      <td>0.00</td>\n",
       "      <td>0.00</td>\n",
       "      <td>0.00</td>\n",
       "      <td>0.00</td>\n",
       "    </tr>\n",
       "    <tr>\n",
       "      <th>3</th>\n",
       "      <td>2016-09-30</td>\n",
       "      <td>2019-09-16</td>\n",
       "      <td>AsstProf</td>\n",
       "      <td>F</td>\n",
       "      <td>C3</td>\n",
       "      <td>51</td>\n",
       "      <td>(1475173800.0, 1568572200.0]</td>\n",
       "      <td>False</td>\n",
       "      <td>False</td>\n",
       "      <td>False</td>\n",
       "      <td>False</td>\n",
       "      <td>False</td>\n",
       "      <td>False</td>\n",
       "      <td>False</td>\n",
       "      <td>False</td>\n",
       "      <td>False</td>\n",
       "      <td>False</td>\n",
       "      <td>False</td>\n",
       "      <td>False</td>\n",
       "      <td>0.00</td>\n",
       "      <td>0.00</td>\n",
       "      <td>0.00</td>\n",
       "      <td>0.00</td>\n",
       "      <td>0.00</td>\n",
       "      <td>0.00</td>\n",
       "      <td>0.00</td>\n",
       "      <td>0.00</td>\n",
       "      <td>0.00</td>\n",
       "      <td>0.00</td>\n",
       "      <td>0.00</td>\n",
       "      <td>0.00</td>\n",
       "    </tr>\n",
       "    <tr>\n",
       "      <th>4</th>\n",
       "      <td>2020-04-11</td>\n",
       "      <td>2024-01-22</td>\n",
       "      <td>AsstProf</td>\n",
       "      <td>F</td>\n",
       "      <td>C5</td>\n",
       "      <td>45</td>\n",
       "      <td>(1586543400.0, 1705861800.0]</td>\n",
       "      <td>True</td>\n",
       "      <td>True</td>\n",
       "      <td>True</td>\n",
       "      <td>True</td>\n",
       "      <td>True</td>\n",
       "      <td>True</td>\n",
       "      <td>True</td>\n",
       "      <td>True</td>\n",
       "      <td>True</td>\n",
       "      <td>True</td>\n",
       "      <td>True</td>\n",
       "      <td>True</td>\n",
       "      <td>31.00</td>\n",
       "      <td>28.00</td>\n",
       "      <td>31.00</td>\n",
       "      <td>30.00</td>\n",
       "      <td>31.00</td>\n",
       "      <td>30.00</td>\n",
       "      <td>31.00</td>\n",
       "      <td>31.00</td>\n",
       "      <td>30.00</td>\n",
       "      <td>31.00</td>\n",
       "      <td>30.00</td>\n",
       "      <td>31.00</td>\n",
       "    </tr>\n",
       "  </tbody>\n",
       "</table>\n",
       "</div>"
      ],
      "text/plain": [
       "         DOJ        DOL      cadre gender campus  age                        tenure  M0122  M0222  M0322  M0422  M0522  M0622  M0722  M0822  M0922  M1022  M1122  M1222  DM0122  DM0222  DM0322  DM0422  DM0522  DM0622  DM0722  DM0822  DM0922  DM1022  DM1122  DM1222\n",
       "0 2016-09-19 2017-10-22   AsstProf      F     C1   53  (1474223400.0, 1508610600.0]  False  False  False  False  False  False  False  False  False  False  False  False    0.00    0.00    0.00    0.00    0.00    0.00    0.00    0.00    0.00    0.00    0.00    0.00\n",
       "1 2021-02-27 2022-04-29  AssocProf      F     C4   51  (1614364200.0, 1651170600.0]   True   True   True   True  False  False  False  False  False  False  False  False   31.00   28.00   31.00   29.00    0.00    0.00    0.00    0.00    0.00    0.00    0.00    0.00\n",
       "2 2019-06-20 2021-10-12       Prof      M     C1   32  (1560969000.0, 1633977000.0]  False  False  False  False  False  False  False  False  False  False  False  False    0.00    0.00    0.00    0.00    0.00    0.00    0.00    0.00    0.00    0.00    0.00    0.00\n",
       "3 2016-09-30 2019-09-16   AsstProf      F     C3   51  (1475173800.0, 1568572200.0]  False  False  False  False  False  False  False  False  False  False  False  False    0.00    0.00    0.00    0.00    0.00    0.00    0.00    0.00    0.00    0.00    0.00    0.00\n",
       "4 2020-04-11 2024-01-22   AsstProf      F     C5   45  (1586543400.0, 1705861800.0]   True   True   True   True   True   True   True   True   True   True   True   True   31.00   28.00   31.00   30.00   31.00   30.00   31.00   31.00   30.00   31.00   30.00   31.00"
      ]
     },
     "execution_count": 465,
     "metadata": {},
     "output_type": "execute_result"
    }
   ],
   "source": [
    "df2.head()"
   ]
  },
  {
   "cell_type": "code",
   "execution_count": 472,
   "id": "e6a38977",
   "metadata": {},
   "outputs": [
    {
     "name": "stdout",
     "output_type": "stream",
     "text": [
      "['A001', 'A002', 'A003', 'A004', 'A005', 'A006', 'A007', 'A008', 'A009', 'A010', 'A011', 'A012', 'A013', 'A014', 'A015', 'A016', 'A017', 'A018', 'A019', 'A020', 'A021', 'A022', 'A023', 'A024', 'A025', 'A026', 'A027', 'A028', 'A029', 'A030', 'A031', 'A032', 'A033', 'A034', 'A035', 'A036', 'A037', 'A038', 'A039', 'A040', 'A041', 'A042', 'A043', 'A044', 'A045', 'A046', 'A047', 'A048', 'A049', 'A050', 'A051', 'A052', 'A053', 'A054', 'A055', 'A056', 'A057', 'A058', 'A059', 'A060', 'A061', 'A062', 'A063', 'A064', 'A065', 'A066', 'A067', 'A068', 'A069', 'A070', 'A071', 'A072', 'A073', 'A074', 'A075', 'A076', 'A077', 'A078', 'A079', 'A080', 'A081', 'A082', 'A083', 'A084', 'A085', 'A086', 'A087', 'A088', 'A089', 'A090', 'A091', 'A092', 'A093', 'A094', 'A095', 'A096', 'A097', 'A098', 'A099', 'A100']\n"
     ]
    }
   ],
   "source": [
    "#employee ID\n",
    "nos1 = range(1,101)\n",
    "#print(type(nos1), '\\n', nos1)\n",
    "nos2 = [str(item).zfill(3) for item in nos1]\n",
    "#print(type(nos1), '\\n',nos2)\n",
    "prefix = 'A'\n",
    "empID = [prefix + str(i) for i in nos2]\n",
    "print(empID)"
   ]
  },
  {
   "cell_type": "code",
   "execution_count": 473,
   "id": "077dcbe9",
   "metadata": {},
   "outputs": [],
   "source": [
    "df2['empID'] = empID"
   ]
  },
  {
   "cell_type": "code",
   "execution_count": 474,
   "id": "9c737b49",
   "metadata": {},
   "outputs": [
    {
     "data": {
      "text/plain": [
       "Index(['DOJ', 'DOL', 'cadre', 'gender', 'campus', 'age', 'tenure', 'M0122', 'M0222', 'M0322', 'M0422', 'M0522', 'M0622', 'M0722', 'M0822', 'M0922', 'M1022', 'M1122', 'M1222', 'DM0122', 'DM0222', 'DM0322', 'DM0422', 'DM0522', 'DM0622', 'DM0722', 'DM0822', 'DM0922', 'DM1022', 'DM1122', 'DM1222', 'empID'], dtype='object')"
      ]
     },
     "execution_count": 474,
     "metadata": {},
     "output_type": "execute_result"
    }
   ],
   "source": [
    "df2.columns"
   ]
  },
  {
   "cell_type": "code",
   "execution_count": 477,
   "id": "eb8b8126",
   "metadata": {},
   "outputs": [
    {
     "data": {
      "text/html": [
       "<div>\n",
       "<style scoped>\n",
       "    .dataframe tbody tr th:only-of-type {\n",
       "        vertical-align: middle;\n",
       "    }\n",
       "\n",
       "    .dataframe tbody tr th {\n",
       "        vertical-align: top;\n",
       "    }\n",
       "\n",
       "    .dataframe thead th {\n",
       "        text-align: right;\n",
       "    }\n",
       "</style>\n",
       "<table border=\"1\" class=\"dataframe\">\n",
       "  <thead>\n",
       "    <tr style=\"text-align: right;\">\n",
       "      <th></th>\n",
       "      <th>empID</th>\n",
       "      <th>cadre</th>\n",
       "      <th>gender</th>\n",
       "      <th>age</th>\n",
       "      <th>campus</th>\n",
       "      <th>DOJ</th>\n",
       "      <th>DOL</th>\n",
       "      <th>tenure</th>\n",
       "      <th>period</th>\n",
       "      <th>value</th>\n",
       "    </tr>\n",
       "  </thead>\n",
       "  <tbody>\n",
       "    <tr>\n",
       "      <th>0</th>\n",
       "      <td>A001</td>\n",
       "      <td>AsstProf</td>\n",
       "      <td>F</td>\n",
       "      <td>53</td>\n",
       "      <td>C1</td>\n",
       "      <td>2016-09-19</td>\n",
       "      <td>2017-10-22</td>\n",
       "      <td>(1474223400.0, 1508610600.0]</td>\n",
       "      <td>M0122</td>\n",
       "      <td>False</td>\n",
       "    </tr>\n",
       "    <tr>\n",
       "      <th>1</th>\n",
       "      <td>A002</td>\n",
       "      <td>AssocProf</td>\n",
       "      <td>F</td>\n",
       "      <td>51</td>\n",
       "      <td>C4</td>\n",
       "      <td>2021-02-27</td>\n",
       "      <td>2022-04-29</td>\n",
       "      <td>(1614364200.0, 1651170600.0]</td>\n",
       "      <td>M0122</td>\n",
       "      <td>True</td>\n",
       "    </tr>\n",
       "    <tr>\n",
       "      <th>2</th>\n",
       "      <td>A003</td>\n",
       "      <td>Prof</td>\n",
       "      <td>M</td>\n",
       "      <td>32</td>\n",
       "      <td>C1</td>\n",
       "      <td>2019-06-20</td>\n",
       "      <td>2021-10-12</td>\n",
       "      <td>(1560969000.0, 1633977000.0]</td>\n",
       "      <td>M0122</td>\n",
       "      <td>False</td>\n",
       "    </tr>\n",
       "    <tr>\n",
       "      <th>3</th>\n",
       "      <td>A004</td>\n",
       "      <td>AsstProf</td>\n",
       "      <td>F</td>\n",
       "      <td>51</td>\n",
       "      <td>C3</td>\n",
       "      <td>2016-09-30</td>\n",
       "      <td>2019-09-16</td>\n",
       "      <td>(1475173800.0, 1568572200.0]</td>\n",
       "      <td>M0122</td>\n",
       "      <td>False</td>\n",
       "    </tr>\n",
       "    <tr>\n",
       "      <th>4</th>\n",
       "      <td>A005</td>\n",
       "      <td>AsstProf</td>\n",
       "      <td>F</td>\n",
       "      <td>45</td>\n",
       "      <td>C5</td>\n",
       "      <td>2020-04-11</td>\n",
       "      <td>2024-01-22</td>\n",
       "      <td>(1586543400.0, 1705861800.0]</td>\n",
       "      <td>M0122</td>\n",
       "      <td>True</td>\n",
       "    </tr>\n",
       "    <tr>\n",
       "      <th>...</th>\n",
       "      <td>...</td>\n",
       "      <td>...</td>\n",
       "      <td>...</td>\n",
       "      <td>...</td>\n",
       "      <td>...</td>\n",
       "      <td>...</td>\n",
       "      <td>...</td>\n",
       "      <td>...</td>\n",
       "      <td>...</td>\n",
       "      <td>...</td>\n",
       "    </tr>\n",
       "    <tr>\n",
       "      <th>2395</th>\n",
       "      <td>A096</td>\n",
       "      <td>AssocProf</td>\n",
       "      <td>M</td>\n",
       "      <td>32</td>\n",
       "      <td>C1</td>\n",
       "      <td>2021-07-04</td>\n",
       "      <td>2025-07-13</td>\n",
       "      <td>(1625337000.0, 1752345000.0]</td>\n",
       "      <td>DM1222</td>\n",
       "      <td>31.00</td>\n",
       "    </tr>\n",
       "    <tr>\n",
       "      <th>2396</th>\n",
       "      <td>A097</td>\n",
       "      <td>AsstProf</td>\n",
       "      <td>F</td>\n",
       "      <td>51</td>\n",
       "      <td>C5</td>\n",
       "      <td>2015-02-09</td>\n",
       "      <td>2017-05-05</td>\n",
       "      <td>(1423420200.0, 1493922600.0]</td>\n",
       "      <td>DM1222</td>\n",
       "      <td>0.00</td>\n",
       "    </tr>\n",
       "    <tr>\n",
       "      <th>2397</th>\n",
       "      <td>A098</td>\n",
       "      <td>Prof</td>\n",
       "      <td>M</td>\n",
       "      <td>39</td>\n",
       "      <td>C1</td>\n",
       "      <td>2017-01-08</td>\n",
       "      <td>2022-02-04</td>\n",
       "      <td>(1483813800.0, 1643913000.0]</td>\n",
       "      <td>DM1222</td>\n",
       "      <td>0.00</td>\n",
       "    </tr>\n",
       "    <tr>\n",
       "      <th>2398</th>\n",
       "      <td>A099</td>\n",
       "      <td>AsstProf</td>\n",
       "      <td>M</td>\n",
       "      <td>40</td>\n",
       "      <td>C1</td>\n",
       "      <td>2020-12-15</td>\n",
       "      <td>2025-12-17</td>\n",
       "      <td>(1607970600.0, 1765909800.0]</td>\n",
       "      <td>DM1222</td>\n",
       "      <td>31.00</td>\n",
       "    </tr>\n",
       "    <tr>\n",
       "      <th>2399</th>\n",
       "      <td>A100</td>\n",
       "      <td>AssocProf</td>\n",
       "      <td>M</td>\n",
       "      <td>42</td>\n",
       "      <td>C6</td>\n",
       "      <td>2022-07-07</td>\n",
       "      <td>2023-06-22</td>\n",
       "      <td>(1657132200.0, 1687372200.0]</td>\n",
       "      <td>DM1222</td>\n",
       "      <td>31.00</td>\n",
       "    </tr>\n",
       "  </tbody>\n",
       "</table>\n",
       "<p>2400 rows × 10 columns</p>\n",
       "</div>"
      ],
      "text/plain": [
       "     empID      cadre gender  age campus        DOJ        DOL                        tenure  period  value\n",
       "0     A001   AsstProf      F   53     C1 2016-09-19 2017-10-22  (1474223400.0, 1508610600.0]   M0122  False\n",
       "1     A002  AssocProf      F   51     C4 2021-02-27 2022-04-29  (1614364200.0, 1651170600.0]   M0122   True\n",
       "2     A003       Prof      M   32     C1 2019-06-20 2021-10-12  (1560969000.0, 1633977000.0]   M0122  False\n",
       "3     A004   AsstProf      F   51     C3 2016-09-30 2019-09-16  (1475173800.0, 1568572200.0]   M0122  False\n",
       "4     A005   AsstProf      F   45     C5 2020-04-11 2024-01-22  (1586543400.0, 1705861800.0]   M0122   True\n",
       "...    ...        ...    ...  ...    ...        ...        ...                           ...     ...    ...\n",
       "2395  A096  AssocProf      M   32     C1 2021-07-04 2025-07-13  (1625337000.0, 1752345000.0]  DM1222  31.00\n",
       "2396  A097   AsstProf      F   51     C5 2015-02-09 2017-05-05  (1423420200.0, 1493922600.0]  DM1222   0.00\n",
       "2397  A098       Prof      M   39     C1 2017-01-08 2022-02-04  (1483813800.0, 1643913000.0]  DM1222   0.00\n",
       "2398  A099   AsstProf      M   40     C1 2020-12-15 2025-12-17  (1607970600.0, 1765909800.0]  DM1222  31.00\n",
       "2399  A100  AssocProf      M   42     C6 2022-07-07 2023-06-22  (1657132200.0, 1687372200.0]  DM1222  31.00\n",
       "\n",
       "[2400 rows x 10 columns]"
      ]
     },
     "execution_count": 477,
     "metadata": {},
     "output_type": "execute_result"
    }
   ],
   "source": [
    "pd.melt(frame=df2, id_vars=['empID','cadre','gender', 'age', 'campus', 'DOJ','DOL','tenure'], var_name='period', value_name ='value')"
   ]
  },
  {
   "cell_type": "code",
   "execution_count": null,
   "id": "5d84d205",
   "metadata": {},
   "outputs": [],
   "source": []
  },
  {
   "cell_type": "code",
   "execution_count": null,
   "id": "2ee9ef60",
   "metadata": {},
   "outputs": [],
   "source": []
  },
  {
   "cell_type": "code",
   "execution_count": null,
   "id": "33c7d371",
   "metadata": {},
   "outputs": [],
   "source": []
  },
  {
   "cell_type": "markdown",
   "id": "fc9dca82",
   "metadata": {},
   "source": [
    "#!pip install datetimerange\n",
    "from datetimerange import DateTimeRange\n",
    "time_range1 = DateTimeRange(\"2015-01-01\", \"2015-01-04\") \n",
    "time_range2 = DateTimeRange(\"2015-01-03\", \"2016-01-05\")\n",
    "tem3 = time_range1.intersection(time_range2)\n",
    "print(tem3.timedelta.total_seconds()/(60 * 60 * 24))\n",
    "#if tem3.NOT_A_TIME_STR != 'NaT':  # No overlap\n",
    " S_Time = 0\n",
    "#else: # Output the overlap seconds\n",
    "    S_Time = tem3.timedelta.total_seconds()"
   ]
  }
 ],
 "metadata": {
  "kernelspec": {
   "display_name": "Python 3 (ipykernel)",
   "language": "python",
   "name": "python3"
  },
  "language_info": {
   "codemirror_mode": {
    "name": "ipython",
    "version": 3
   },
   "file_extension": ".py",
   "mimetype": "text/x-python",
   "name": "python",
   "nbconvert_exporter": "python",
   "pygments_lexer": "ipython3",
   "version": "3.9.15"
  }
 },
 "nbformat": 4,
 "nbformat_minor": 5
}
