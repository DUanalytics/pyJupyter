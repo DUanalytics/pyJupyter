{
 "cells": [
  {
   "cell_type": "markdown",
   "id": "5436ba46",
   "metadata": {},
   "source": [
    "Projects"
   ]
  },
  {
   "cell_type": "markdown",
   "id": "571a5efa",
   "metadata": {},
   "source": [
    "- https://www.analyticsinsight.net/top-10-data-science-project-ideas-for-beginners-in-2023/\n"
   ]
  }
 ],
 "metadata": {
  "kernelspec": {
   "display_name": "Python 3 (ipykernel)",
   "language": "python",
   "name": "python3"
  },
  "language_info": {
   "codemirror_mode": {
    "name": "ipython",
    "version": 3
   },
   "file_extension": ".py",
   "mimetype": "text/x-python",
   "name": "python",
   "nbconvert_exporter": "python",
   "pygments_lexer": "ipython3",
   "version": "3.9.15"
  }
 },
 "nbformat": 4,
 "nbformat_minor": 5
}
