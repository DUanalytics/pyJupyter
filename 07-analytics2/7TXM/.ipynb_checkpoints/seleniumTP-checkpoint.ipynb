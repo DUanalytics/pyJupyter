{
 "cells": [
  {
   "cell_type": "markdown",
   "id": "5f21afcb",
   "metadata": {},
   "source": [
    "## Selenium with tutorials point\n",
    "- driver = webdriver.Chrome('C:\\chromeDriver\\chromedriver')\n",
    "- https://stackoverflow.com/questions/58184784/selenium-common-exceptions-webdriverexception-message-invalid-argument-value"
   ]
  },
  {
   "cell_type": "code",
   "execution_count": 13,
   "id": "24ff8c79",
   "metadata": {},
   "outputs": [],
   "source": [
    "from selenium import webdriver\n",
    "driver = webdriver.Chrome('C:\\chromeDriver\\chromedriver')\n",
    "#driver.implicitly_wait(10)"
   ]
  },
  {
   "cell_type": "code",
   "execution_count": 14,
   "id": "8a323bd7",
   "metadata": {},
   "outputs": [],
   "source": [
    "driver.get(\"https://www.tutorialspoint.com/selenium/selenium_automation_practice.htm\")"
   ]
  },
  {
   "cell_type": "code",
   "execution_count": 15,
   "id": "59f9c07e",
   "metadata": {},
   "outputs": [],
   "source": [
    "#identify element with xpath\n",
    "l = driver.find_element_by_xpath(\"//input[@name='firstname']\")\n",
    "l.send_keys(\"Python\")"
   ]
  },
  {
   "cell_type": "code",
   "execution_count": null,
   "id": "fedcd920",
   "metadata": {},
   "outputs": [],
   "source": []
  }
 ],
 "metadata": {
  "kernelspec": {
   "display_name": "Python 3 (ipykernel)",
   "language": "python",
   "name": "python3"
  },
  "language_info": {
   "codemirror_mode": {
    "name": "ipython",
    "version": 3
   },
   "file_extension": ".py",
   "mimetype": "text/x-python",
   "name": "python",
   "nbconvert_exporter": "python",
   "pygments_lexer": "ipython3",
   "version": "3.9.15"
  }
 },
 "nbformat": 4,
 "nbformat_minor": 5
}
