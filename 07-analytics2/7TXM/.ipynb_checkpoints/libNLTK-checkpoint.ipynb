{
 "cells": [
  {
   "cell_type": "markdown",
   "id": "a7d4b669",
   "metadata": {},
   "source": [
    "# Features of NLTK\n",
    "https://www.nltk.org/\n"
   ]
  },
  {
   "cell_type": "code",
   "execution_count": 1,
   "id": "d7ba7eea",
   "metadata": {},
   "outputs": [],
   "source": [
    "import nltk"
   ]
  },
  {
   "cell_type": "code",
   "execution_count": 3,
   "id": "31a70959",
   "metadata": {},
   "outputs": [
    {
     "data": {
      "text/plain": [
       "\"At eight o'clock on Thursday morning Arthur didn't feel very good.\""
      ]
     },
     "execution_count": 3,
     "metadata": {},
     "output_type": "execute_result"
    }
   ],
   "source": [
    "sentence = \"\"\"At eight o'clock on Thursday morning Arthur didn't feel very good.\"\"\"\n",
    "sentence"
   ]
  },
  {
   "cell_type": "markdown",
   "id": "541f18d0",
   "metadata": {},
   "source": [
    "### Tokens\n",
    "- split a text into tokens.\n",
    "- Tokenization is used in natural language processing to split paragraphs and sentences into smaller units that can be more easily assigned meaning. The first step of the NLP process is gathering the data (a sentence) and breaking it into understandable parts (words)."
   ]
  },
  {
   "cell_type": "code",
   "execution_count": 6,
   "id": "6f77be3d",
   "metadata": {},
   "outputs": [
    {
     "name": "stdout",
     "output_type": "stream",
     "text": [
      "['At', 'eight', \"o'clock\", 'on', 'Thursday', 'morning', 'Arthur', 'did', \"n't\", 'feel', 'very', 'good', '.'] \t\n"
     ]
    }
   ],
   "source": [
    "tokens1 = nltk.word_tokenize(sentence)\n",
    "print(tokens, '\\t')"
   ]
  },
  {
   "cell_type": "markdown",
   "id": "c71928b2",
   "metadata": {},
   "source": [
    "## Tagging\n",
    "is the practice of marking up the words in text format for a specific segment of a speech context is known as POS Tagging (Parts of Speech Tagging). It is in charge of interpreting a language's text and associating each word with a specific token. Grammar tagging is another term for it\n",
    "The goal of part of speech tagging is to help us grasp sentence structure and start using our computer to follow the sentence meaning of words, part of speech, and the string it forms\n",
    "List of Tags\n",
    "- CC: It is the conjunction of coordinating\n",
    "- CD: It is a digit of cardinal\n",
    "- DT: It is the determiner\n",
    "- EX: Existential\n",
    "- FW: It is a foreign word\n",
    "- IN: Preposition and conjunction\n",
    "- JJ: Adjective\n",
    "- JJR and JJS: Adjective and superlative\n",
    "- LS: List marker\n",
    "- MD: Modal\n",
    "- NN: Singular noun\n",
    "- NNS, NNP, NNPS: Proper and plural noun\n",
    "- PDT: Predeterminer\n",
    "- WRB: Adverb of wh\n",
    "- WP$: Possessive wh\n",
    "\n",
    "- WP: Pronoun of wh\n",
    "\n",
    "- WDT: Determiner of wp\n",
    "- VBZ: Verb\n",
    "- VBP, VBN, VBG, VBD, VB: Forms of verbs\n",
    "- UH: Interjection\n",
    "- TO: To go\n",
    "- RP: Particle\n",
    "- RBS, RB, RBR: Adverb\n",
    "- PRP, PRP$: Pronoun personal and professional"
   ]
  },
  {
   "cell_type": "markdown",
   "id": "1b7480f3",
   "metadata": {},
   "source": [
    "need to download tagger library\n",
    "nltk.download('averaged_perceptron_tagger')\n",
    "At is IN: Preposition and conjunction\n",
    "#### POS tagging can alternatively be defined as the process of associating a given the word with a part of speech. Nltk pos tag is the practice of marking the words in text format for a specific segment of a speech context and is known as POS Tagging."
   ]
  },
  {
   "cell_type": "code",
   "execution_count": 11,
   "id": "0b38523d",
   "metadata": {},
   "outputs": [
    {
     "name": "stdout",
     "output_type": "stream",
     "text": [
      "[('At', 'IN'), ('eight', 'CD'), (\"o'clock\", 'NN'), ('on', 'IN'), ('Thursday', 'NNP'), ('morning', 'NN'), ('Arthur', 'NNP'), ('did', 'VBD'), (\"n't\", 'RB'), ('feel', 'VB'), ('very', 'RB'), ('good', 'JJ'), ('.', '.')] \t\n"
     ]
    }
   ],
   "source": [
    "tagged1 = nltk.pos_tag(tokens1)\n",
    "print(tagged1 ,'\\t')"
   ]
  },
  {
   "cell_type": "markdown",
   "id": "adf27ea2",
   "metadata": {},
   "source": [
    "### Identify named Entities\n",
    "This again requires a download  nltk.download('maxent_ne_chunker')\n",
    "A regular expression to test whether a tag pattern is valid. nltk.chunk. ne_chunk(tagged_tokens, binary=False)[source] Use NLTK's currently recommended named entity chunker to chunk the given list of tagged tokens.\n",
    "Chunking (aka. Shallow parsing) is to analyzing a sentence to identify the constituents (noun groups, verbs, verb groups, etc.). However, it does not specify their internal structure, nor their role in the main sentence.\n",
    "Recognizing named entity is a specific kind of chunk extraction that uses entity tags along with chunk tags. Common entity tags include PERSON, LOCATION and ORGANIZATION. POS tagged sentences are parsed into chunk trees with normal chunking but the trees labels can be entity tags in place of chunk phrase tags. NLTK has already a pre-trained named entity chunker which can be used using ne_chunk() method in the nltk.chunk module. This method chunks a single sentence into a Tree"
   ]
  },
  {
   "cell_type": "code",
   "execution_count": 18,
   "id": "bc505e19",
   "metadata": {},
   "outputs": [
    {
     "name": "stderr",
     "output_type": "stream",
     "text": [
      "[nltk_data] Downloading package words to\n",
      "[nltk_data]     C:\\Users\\du\\AppData\\Roaming\\nltk_data...\n",
      "[nltk_data]   Unzipping corpora\\words.zip.\n"
     ]
    },
    {
     "data": {
      "text/plain": [
       "True"
      ]
     },
     "execution_count": 18,
     "metadata": {},
     "output_type": "execute_result"
    }
   ],
   "source": [
    "nltk.download('maxent_ne_chunker')\n",
    "nltk.download('words')"
   ]
  },
  {
   "cell_type": "code",
   "execution_count": null,
   "id": "63143d70",
   "metadata": {},
   "outputs": [],
   "source": [
    "entities1 = nltk.chunk.ne_chunk(tagged1)\n",
    "print(entities1, sep ='\\t')"
   ]
  },
  {
   "cell_type": "code",
   "execution_count": null,
   "id": "879e68f8",
   "metadata": {},
   "outputs": [],
   "source": [
    "from nltk.corpus import treebank_chunk\n",
    "from nltk.chunk import ne_chunk\n",
    "#nltk.download('treebank')"
   ]
  },
  {
   "cell_type": "code",
   "execution_count": null,
   "id": "567ec627",
   "metadata": {},
   "outputs": [],
   "source": [
    "ne_chunk(treebank_chunk.tagged_sents()[0])"
   ]
  },
  {
   "cell_type": "markdown",
   "id": "4db7bf29",
   "metadata": {},
   "source": [
    "### Parsed Tree"
   ]
  },
  {
   "cell_type": "code",
   "execution_count": null,
   "id": "6f0b711d",
   "metadata": {},
   "outputs": [],
   "source": [
    "from nltk.corpus import treebank\n",
    "#nltk.download('treebank')"
   ]
  },
  {
   "cell_type": "code",
   "execution_count": null,
   "id": "7de2d5c1",
   "metadata": {},
   "outputs": [],
   "source": [
    "t = treebank.parsed_sents('wsj_0001.mrg')[0]\n",
    "t.draw()"
   ]
  },
  {
   "cell_type": "code",
   "execution_count": null,
   "id": "73b57918",
   "metadata": {},
   "outputs": [],
   "source": []
  }
 ],
 "metadata": {
  "kernelspec": {
   "display_name": "Python 3 (ipykernel)",
   "language": "python",
   "name": "python3"
  },
  "language_info": {
   "codemirror_mode": {
    "name": "ipython",
    "version": 3
   },
   "file_extension": ".py",
   "mimetype": "text/x-python",
   "name": "python",
   "nbconvert_exporter": "python",
   "pygments_lexer": "ipython3",
   "version": "3.9.15"
  }
 },
 "nbformat": 4,
 "nbformat_minor": 5
}
