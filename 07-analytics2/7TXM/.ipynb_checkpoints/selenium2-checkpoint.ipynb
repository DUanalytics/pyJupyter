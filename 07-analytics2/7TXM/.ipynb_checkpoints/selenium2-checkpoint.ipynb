{
 "cells": [
  {
   "cell_type": "code",
   "execution_count": 16,
   "id": "36e4b759",
   "metadata": {},
   "outputs": [],
   "source": [
    "#selenium2"
   ]
  },
  {
   "cell_type": "code",
   "execution_count": 11,
   "id": "2bd5feeb",
   "metadata": {},
   "outputs": [],
   "source": [
    "from selenium.webdriver.common.by import By\n",
    "from selenium import webdriver"
   ]
  },
  {
   "cell_type": "code",
   "execution_count": 12,
   "id": "d0970cb5",
   "metadata": {},
   "outputs": [],
   "source": []
  },
  {
   "cell_type": "code",
   "execution_count": null,
   "id": "abdbc403",
   "metadata": {},
   "outputs": [],
   "source": [
    "#page1"
   ]
  },
  {
   "cell_type": "code",
   "execution_count": 13,
   "id": "bc5ec15b",
   "metadata": {},
   "outputs": [],
   "source": [
    "driver1 = webdriver.Chrome('C:\\chromeDriver\\chromedriver')\n",
    "p1 ='http://localhost:8888/view/07-analytics2/7TXM/page1.html'\n",
    "driver1.get(p1)"
   ]
  },
  {
   "cell_type": "code",
   "execution_count": 15,
   "id": "60fafb8a",
   "metadata": {},
   "outputs": [
    {
     "name": "stdout",
     "output_type": "stream",
     "text": [
      "http://localhost:8888/login?next=%2Fview%2F07-analytics2%2F7TXM%2Ffirst.html\n"
     ]
    }
   ],
   "source": [
    "print(driver1.current_url)"
   ]
  },
  {
   "cell_type": "code",
   "execution_count": null,
   "id": "12aac693",
   "metadata": {},
   "outputs": [],
   "source": []
  }
 ],
 "metadata": {
  "kernelspec": {
   "display_name": "Python 3 (ipykernel)",
   "language": "python",
   "name": "python3"
  },
  "language_info": {
   "codemirror_mode": {
    "name": "ipython",
    "version": 3
   },
   "file_extension": ".py",
   "mimetype": "text/x-python",
   "name": "python",
   "nbconvert_exporter": "python",
   "pygments_lexer": "ipython3",
   "version": "3.9.15"
  }
 },
 "nbformat": 4,
 "nbformat_minor": 5
}
