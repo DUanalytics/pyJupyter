{
 "cells": [
  {
   "cell_type": "markdown",
   "id": "535101ce",
   "metadata": {},
   "source": [
    "## Parsing\n",
    "- NLP requires an in-depth understanding of various terminologies and concepts to apply them tangibly to real-world scenarios. Some of these basic concepts include Part-of-Speech(POS) Tagging, Statistical Language Modeling, Syntactic, Semantic and Sentiment Analysis, Normalization, Tokenization, Dependency Parsing, and Constituency Parsing, among others.\n",
    "https://www.analyticsvidhya.com/blog/2021/12/dependency-parsing-in-natural-language-processing-with-examples/"
   ]
  },
  {
   "cell_type": "code",
   "execution_count": null,
   "id": "96e3e977",
   "metadata": {},
   "outputs": [],
   "source": []
  },
  {
   "cell_type": "markdown",
   "id": "a49d16dd",
   "metadata": {},
   "source": [
    "## Dependency Parsing\n",
    "- https://www.upgrad.com/blog/dependency-parsing-in-nlp/\n",
    "- Dependency Parsing (DP) refers to examining the dependencies between the words of a sentence to analyze its grammatical structure. Based on this, a sentence is broken into several components. The mechanism is based on the concept that there is a direct link between every linguistic unit of a sentence. These links are termed dependencies. "
   ]
  },
  {
   "cell_type": "markdown",
   "id": "dc829367",
   "metadata": {},
   "source": [
    "- The relations between every linguistic unit, or word, of the sentence, is indicated using directed arcs in a typed dependency structure. As labelled in the diagram, the root of the tree “prefer” forms the head of the above sentence. \n",
    "- The relationship between any two words is marked by a dependency tag. For instance, the word “flight” modifies the meaning of the noun “Denver.” Therefore, you can notice a dependency from flight -> Denver where the flight is the head and Denver is the child or dependent. It is denoted by nmod which represents a nominal modifier. \n",
    "- This forms the case for dependency between every two words where one acts as the head and the other is the dependent.\n",
    "- Dependency structures are directed graphs that satisfy the following constraints:\n",
    "- They have a single designated root node that has no incoming arcs.\n",
    "- Each node has one incoming edge except the root node.\n",
    "- There is a unique path to each node from the root node"
   ]
  },
  {
   "cell_type": "code",
   "execution_count": 6,
   "id": "e4ffb0e3",
   "metadata": {},
   "outputs": [],
   "source": [
    "import spacy\n",
    "nlp = spacy.load('en_core_web_sm')"
   ]
  },
  {
   "cell_type": "code",
   "execution_count": 9,
   "id": "79d51f00",
   "metadata": {},
   "outputs": [],
   "source": [
    "text = \"the quick brown fox jumps over the lazy little dog\""
   ]
  },
  {
   "cell_type": "code",
   "execution_count": 10,
   "id": "8ebcaacb",
   "metadata": {},
   "outputs": [
    {
     "name": "stdout",
     "output_type": "stream",
     "text": [
      "the > det > fox\n",
      "quick > amod > fox\n",
      "brown > amod > fox\n",
      "fox > nsubj > jumps\n",
      "jumps > ROOT > jumps\n",
      "over > prep > jumps\n",
      "the > det > dog\n",
      "lazy > amod > dog\n",
      "little > amod > dog\n",
      "dog > pobj > over\n"
     ]
    }
   ],
   "source": [
    "for token in nlp(text):\n",
    "    print(token.text , '>' , token.dep_,  '>', token.head.text)"
   ]
  },
  {
   "cell_type": "markdown",
   "id": "88fd32e4",
   "metadata": {},
   "source": [
    "- We have a Loop for each token in the text.\n",
    "- The token.text returns the token of a sentence, token.dep_ returns the dependency tag for a word, and the token.head.text returns the respective head word (to which the arrow is pointing).\n",
    "- Common Tags\n",
    "    - det- determiner\n",
    "    - nsubj nominal subject\n",
    "    - amod - adjectival modifier"
   ]
  },
  {
   "cell_type": "code",
   "execution_count": 1,
   "id": "aa6647a6",
   "metadata": {},
   "outputs": [],
   "source": [
    "from nltk.parse.stanford import StanfordDependencyParser"
   ]
  },
  {
   "cell_type": "code",
   "execution_count": null,
   "id": "ffed3ddb",
   "metadata": {},
   "outputs": [],
   "source": []
  },
  {
   "cell_type": "markdown",
   "id": "3619f18d",
   "metadata": {},
   "source": [
    "## Constituency Parsing\n",
    "- Constituency Parsing is based on context-free grammars. Here, the parse tree includes sentences broken into sub-phrases, each belonging to a grammar category. Every linguistic unit or word in a sentence acts as a terminal node, which has its parent node and a part-of-speech tag.\n",
    "- For example, the phrase “a cat” and “a box under the bed” are noun phrases, whereas “write a letter” and “drive a car” are verb phrases."
   ]
  },
  {
   "cell_type": "code",
   "execution_count": null,
   "id": "9b936826",
   "metadata": {},
   "outputs": [],
   "source": []
  }
 ],
 "metadata": {
  "kernelspec": {
   "display_name": "Python 3 (ipykernel)",
   "language": "python",
   "name": "python3"
  },
  "language_info": {
   "codemirror_mode": {
    "name": "ipython",
    "version": 3
   },
   "file_extension": ".py",
   "mimetype": "text/x-python",
   "name": "python",
   "nbconvert_exporter": "python",
   "pygments_lexer": "ipython3",
   "version": "3.9.15"
  }
 },
 "nbformat": 4,
 "nbformat_minor": 5
}
