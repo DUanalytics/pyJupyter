{
 "cells": [
  {
   "cell_type": "markdown",
   "id": "460f3ed5",
   "metadata": {},
   "source": [
    "# Text Analytics\n"
   ]
  },
  {
   "cell_type": "markdown",
   "id": "91372702",
   "metadata": {},
   "source": [
    "https://github.com/lisanka93/text_analysis_python_101/blob/master/Railroad_incidents_USA2019.ipynb"
   ]
  },
  {
   "cell_type": "markdown",
   "id": "47a7d683",
   "metadata": {},
   "source": [
    "https://www.datacamp.com/tutorial/text-analytics-beginners-nltk"
   ]
  },
  {
   "cell_type": "markdown",
   "id": "7a84e8b1",
   "metadata": {},
   "source": [
    "https://towardsai.net/p/data-mining/text-mining-in-python-steps-and-examples-78b3f8fd913b"
   ]
  },
  {
   "cell_type": "markdown",
   "id": "2be4c8b2",
   "metadata": {},
   "source": [
    "https://towardsai.net/p/data-mining/text-mining-in-python-steps-and-examples-78b3f8fd913b"
   ]
  },
  {
   "cell_type": "markdown",
   "id": "018d25e2",
   "metadata": {},
   "source": [
    "https://www.analyticsvidhya.com/blog/2018/02/the-different-methods-deal-text-data-predicti"
   ]
  },
  {
   "cell_type": "markdown",
   "id": "6b750335",
   "metadata": {},
   "source": [
    "- https://realpython.com/sentiment-analysis-python/\n",
    "- https://youtu.be/w7zFa3RAdcs"
   ]
  }
 ],
 "metadata": {
  "kernelspec": {
   "display_name": "Python 3 (ipykernel)",
   "language": "python",
   "name": "python3"
  },
  "language_info": {
   "codemirror_mode": {
    "name": "ipython",
    "version": 3
   },
   "file_extension": ".py",
   "mimetype": "text/x-python",
   "name": "python",
   "nbconvert_exporter": "python",
   "pygments_lexer": "ipython3",
   "version": "3.9.15"
  }
 },
 "nbformat": 4,
 "nbformat_minor": 5
}
