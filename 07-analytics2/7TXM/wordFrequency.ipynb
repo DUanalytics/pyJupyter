{
 "cells": [
  {
   "cell_type": "markdown",
   "id": "0d8305d2",
   "metadata": {},
   "source": [
    "## Finding Frequency of Words\n",
    "- After tokenising a text, the first figure we can calculate is the word frequency. By word frequency we indicate the number of times each token occurs in a text. When talking about word frequency, we distinguish between types and tokens. Types are the distinct words in a corpus, whereas tokens are the words, including repeats. Let's see how this works in practice.\n",
    "- Types are the distinct words in a corpus, whereas tokens are the running words.\n"
   ]
  },
  {
   "cell_type": "code",
   "execution_count": null,
   "id": "e97fcc87",
   "metadata": {},
   "outputs": [],
   "source": []
  },
  {
   "cell_type": "code",
   "execution_count": 3,
   "id": "2b11a760",
   "metadata": {},
   "outputs": [],
   "source": [
    "from nltk.tokenize.regexp import WhitespaceTokenizer"
   ]
  },
  {
   "cell_type": "code",
   "execution_count": 1,
   "id": "2f6f7dc3",
   "metadata": {},
   "outputs": [
    {
     "data": {
      "text/plain": [
       "'Types are the distinct words in a corpus, whereas tokens are the running words.'"
      ]
     },
     "execution_count": 1,
     "metadata": {},
     "output_type": "execute_result"
    }
   ],
   "source": [
    "my_str = \"Types are the distinct words in a corpus, whereas tokens are the running words.\"\n",
    "my_str"
   ]
  },
  {
   "cell_type": "code",
   "execution_count": 5,
   "id": "5d068e9f",
   "metadata": {},
   "outputs": [
    {
     "name": "stdout",
     "output_type": "stream",
     "text": [
      "['Types', 'are', 'the', 'distinct', 'words', 'in', 'a', 'corpus,', 'whereas', 'tokens', 'are', 'the', 'running', 'words.'] \t\n"
     ]
    }
   ],
   "source": [
    "tokens = WhitespaceTokenizer().tokenize(my_str)\n",
    "print(tokens, '\\t')"
   ]
  },
  {
   "cell_type": "code",
   "execution_count": 7,
   "id": "0dcb8729",
   "metadata": {},
   "outputs": [
    {
     "name": "stdout",
     "output_type": "stream",
     "text": [
      "14\n"
     ]
    }
   ],
   "source": [
    "print(len(tokens))"
   ]
  },
  {
   "cell_type": "code",
   "execution_count": 13,
   "id": "4c974541",
   "metadata": {},
   "outputs": [
    {
     "name": "stdout",
     "output_type": "stream",
     "text": [
      "14 \n",
      " {'a', 'the', 'distinct', 'whereas', 'words', 'are', 'tokens', 'words.', 'corpus,', 'Types', 'in', 'running'}\n"
     ]
    }
   ],
   "source": [
    "my_vocab = set(tokens)\n",
    "print(len(tokens) , '\\n', my_vocab)"
   ]
  },
  {
   "cell_type": "code",
   "execution_count": 9,
   "id": "ea428089",
   "metadata": {},
   "outputs": [],
   "source": [
    "from nltk.tokenize.regexp import WordPunctTokenizer"
   ]
  },
  {
   "cell_type": "code",
   "execution_count": 10,
   "id": "cedf04d9",
   "metadata": {},
   "outputs": [
    {
     "name": "stdout",
     "output_type": "stream",
     "text": [
      "16\n"
     ]
    }
   ],
   "source": [
    "my_toks = WordPunctTokenizer().tokenize(my_str)\n",
    "print(len(my_toks))"
   ]
  },
  {
   "cell_type": "code",
   "execution_count": 11,
   "id": "db01ac48",
   "metadata": {},
   "outputs": [
    {
     "name": "stdout",
     "output_type": "stream",
     "text": [
      "{'a', 'the', 'corpus', 'distinct', 'whereas', 'words', 'are', 'tokens', 'Types', ',', 'in', 'running', '.'}\n"
     ]
    }
   ],
   "source": [
    "my_vocab = set(my_toks)\n",
    "print(my_vocab)"
   ]
  },
  {
   "cell_type": "markdown",
   "id": "0cdf07a6",
   "metadata": {},
   "source": [
    "In the first one, the vocabulary ends up containing \"words\" and \"words.\" as two distinct words; whereas in the second example \"words\" is a token type and \".\" (i.e. the dot) is split into a separate token and this results into a new token type in addition to \"words\"."
   ]
  },
  {
   "cell_type": "markdown",
   "id": "2249ec50",
   "metadata": {},
   "source": [
    "## RegexpTokenizer"
   ]
  },
  {
   "cell_type": "code",
   "execution_count": 17,
   "id": "0ad62763",
   "metadata": {},
   "outputs": [],
   "source": [
    "from nltk.tokenize import RegexpTokenizer\n",
    "tokenizer = RegexpTokenizer(r'\\w+')\n"
   ]
  },
  {
   "cell_type": "code",
   "execution_count": 20,
   "id": "f95db402",
   "metadata": {},
   "outputs": [
    {
     "name": "stdout",
     "output_type": "stream",
     "text": [
      "14 \n",
      " ['Types', 'are', 'the', 'distinct', 'words', 'in', 'a', 'corpus', 'whereas', 'tokens', 'are', 'the', 'running', 'words']\n"
     ]
    }
   ],
   "source": [
    "text = \"This is my text. It icludes commas, question marks? and other stuff. Also U.S..\"\n",
    "\n",
    "tokens = tokenizer.tokenize(my_str)\n",
    "print(len(tokens), '\\n', tokens)"
   ]
  },
  {
   "cell_type": "markdown",
   "id": "22b73c5f",
   "metadata": {},
   "source": [
    "## Large words"
   ]
  },
  {
   "cell_type": "code",
   "execution_count": 21,
   "id": "4a5df143",
   "metadata": {},
   "outputs": [],
   "source": [
    "import nltk\n",
    "from nltk.corpus import webtext\n",
    "from nltk.probability import FreqDist"
   ]
  },
  {
   "cell_type": "code",
   "execution_count": 23,
   "id": "66226c80",
   "metadata": {},
   "outputs": [
    {
     "name": "stderr",
     "output_type": "stream",
     "text": [
      "[nltk_data] Downloading package webtext to\n",
      "[nltk_data]     C:\\Users\\du\\AppData\\Roaming\\nltk_data...\n",
      "[nltk_data]   Package webtext is already up-to-date!\n"
     ]
    },
    {
     "data": {
      "text/plain": [
       "True"
      ]
     },
     "execution_count": 23,
     "metadata": {},
     "output_type": "execute_result"
    }
   ],
   "source": [
    "nltk.download('webtext')"
   ]
  },
  {
   "cell_type": "code",
   "execution_count": 31,
   "id": "3dde2f93",
   "metadata": {},
   "outputs": [
    {
     "data": {
      "text/plain": [
       "['As', 'a', 'kid', ',', 'I', 'spent', 'my', 'summers', ...]"
      ]
     },
     "execution_count": 31,
     "metadata": {},
     "output_type": "execute_result"
    }
   ],
   "source": [
    "wt_words = webtext.words('E:/analytics/projects/pyJupyter/07-analytics2/7TXM/jeffBoss.txt')\n",
    "#jeffBoss.txt\n",
    "wt_words"
   ]
  },
  {
   "cell_type": "code",
   "execution_count": 32,
   "id": "34d05cd4",
   "metadata": {},
   "outputs": [
    {
     "data": {
      "text/plain": [
       "FreqDist({',': 80, '.': 73, 'the': 48, '\\x80\\x99': 45, 'and': 44, 'a': 43, 'I': 41, 'of': 34, 'to': 34, 'you': 33, ...})"
      ]
     },
     "execution_count": 32,
     "metadata": {},
     "output_type": "execute_result"
    }
   ],
   "source": [
    "data_analysis = nltk.FreqDist(wt_words)\n",
    "data_analysis"
   ]
  },
  {
   "cell_type": "code",
   "execution_count": 35,
   "id": "1d02c3bc",
   "metadata": {},
   "outputs": [
    {
     "name": "stdout",
     "output_type": "stream",
     "text": [
      "{'spent': 1, 'summers': 2, 'with': 8, 'grandparents': 4, 'their': 1, 'ranch': 1, 'Texas': 1, 'helped': 1, 'windmills': 1, 'vaccinate': 1, 'cattle': 1, 'other': 2, 'chores': 1, 'also': 3, 'watched': 1, 'soap': 1, 'operas': 1, 'every': 3, 'afternoon': 1, 'especially': 1, 'Days': 1, 'Lives': 1, 'belonged': 1, 'Caravan': 1, 'Club': 1, 'group': 2, 'Airstream': 3, 'trailer': 3, 'owners': 1, 'travel': 2, 'together': 1, 'around': 3, 'Canada': 1, 'join': 1, 'caravan': 1, 'hitch': 1, 'grandfatherâ': 1, 'line': 1, 'adventurers': 1, 'loved': 1, 'worshipped': 1, 'really': 3, 'looked': 2, 'forward': 1, 'these': 3, 'trips': 2, 'particular': 1, 'trip': 1, 'about': 4, 'years': 6, 'rolling': 1, 'bench': 1, 'seat': 2, 'back': 2, 'grandfather': 4, 'driving': 2, 'grandmother': 6, 'passenger': 1, 'smoked': 1, 'throughout': 1, 'hated': 1, 'smell': 1, 'that': 19, 'take': 2, 'excuse': 1, 'make': 3, 'estimates': 2, 'minor': 1, 'arithmetic': 2, 'calculate': 1, 'mileage': 1, 'figure': 2, 'useless': 1, 'statistics': 1, 'things': 1, 'like': 2, 'grocery': 1, 'spending': 1, 'been': 5, 'hearing': 1, 'campaign': 1, 'smoking': 1, 'canâ': 1, 'remember': 1, 'details': 1, 'basically': 1, 'said': 4, 'puff': 3, 'cigarette': 2, 'takes': 1, 'some': 5, 'number': 5, 'minutes': 4, 'your': 15, 'life': 8, 'think': 3, 'might': 2, 'have': 9, 'rate': 1, 'decided': 2, 'math': 1, 'estimated': 2, 'cigarettes': 1, 'days': 1, 'puffs': 1, 'When': 3, 'satisfied': 1, 'come': 2, 'reasonable': 1, 'poked': 1, 'head': 1, 'into': 2, 'front': 1, 'tapped': 1, 'shoulder': 2, 'proudly': 1, 'proclaimed': 1, 'youâ': 7, 'taken': 1, 'nine': 1, 'vivid': 1, 'memory': 1, 'what': 6, 'happened': 2, 'expected': 2, 'applauded': 1, 'cleverness': 1, 'skills': 1, 'Jeff': 2, 'smart': 3, 'made': 3, 'tricky': 1, 'year': 3, 'division': 1, 'Thatâ': 1, 'Instead': 1, 'burst': 1, 'tears': 1, 'backseat': 1, 'know': 1, 'While': 1, 'crying': 1, 'silence': 2, 'pulled': 1, 'over': 1, 'onto': 1, 'highway': 1, 'came': 2, 'opened': 1, 'door': 1, 'waited': 1, 'follow': 6, 'trouble': 1, 'highly': 1, 'intelligent': 1, 'quiet': 2, 'never': 2, 'harsh': 1, 'word': 1, 'maybe': 2, 'this': 3, 'first': 1, 'time': 1, 'would': 5, 'apologize': 2, 'experience': 1, 'realm': 1, 'gauge': 1, 'consequences': 1, 'stopped': 1, 'beside': 1, 'after': 3, 'gently': 1, 'calmly': 1, 'understand': 2, 'harder': 1, 'kind': 2, 'than': 1, 'clever': 3, 'What': 2, 'want': 1, 'talk': 1, 'today': 1, 'difference': 1, 'between': 1, 'gifts': 9, 'choices': 6, 'Cleverness': 1, 'gift': 2, 'kindness': 1, 'choice': 3, 'Gifts': 1, 'easy': 1, 'theyâ': 1, 'given': 1, 'Choices': 1, 'hard': 1, 'seduce': 1, 'yourself': 3, 'careful': 1, 'probably': 2, 'detriment': 1, 'This': 2, 'many': 3, 'sure': 2, 'capable': 1, 'brain': 2, 'confident': 1, 'thatâ': 1, 'case': 1, 'because': 2, 'admission': 2, 'competitive': 1, 'there': 1, 'werenâ': 1, 'signs': 1, 'dean': 1, 'wouldnâ': 2, 'Your': 1, 'smarts': 1, 'will': 22, 'handy': 1, 'land': 1, 'marvels': 1, 'humans': 1, 'plodding': 1, 'astonish': 1, 'ourselves': 1, 'invent': 1, 'ways': 1, 'generate': 1, 'clean': 1, 'energy': 1, 'Atom': 1, 'atom': 1, 'assemble': 1, 'tiny': 1, 'machines': 1, 'enter': 1, 'cell': 1, 'walls': 1, 'repairs': 1, 'month': 1, 'comes': 1, 'extraordinary': 1, 'inevitable': 1, 'news': 1, 'synthesized': 1, 'coming': 1, 'only': 2, 'synthesize': 1, 'engineer': 1, 'specifications': 1, 'believe': 1, 'even': 2, 'human': 1, 'Jules': 1, 'Verne': 1, 'Mark': 1, 'Twain': 1, 'Galileo': 1, 'Newton': 1, 'curious': 1, 'from': 2, 'ages': 1, 'wanted': 5, 'alive': 1, 'most': 4, 'right': 1, 'civilization': 1, 'just': 2, 'individuals': 1, 'individual': 1, 'before': 2, 'pride': 2, 'idea': 4, 'start': 2, 'Amazon': 1, 'across': 1, 'fact': 1, 'usage': 1, 'growing': 1, 'percent': 1, 'seen': 1, 'heard': 1, 'anything': 1, 'grew': 1, 'fast': 1, 'building': 1, 'online': 1, 'bookstore': 1, 'millions': 1, 'titles': 1, 'something': 1, 'simply': 1, 'couldnâ': 1, 'exist': 1, 'physical': 1, 'world': 1, 'very': 4, 'exciting': 1, 'turned': 1, 'married': 1, 'told': 3, 'wife': 1, 'MacKenzie': 2, 'quit': 1, 'crazy': 1, 'thing': 1, 'work': 2, 'since': 1, 'startups': 1, 'donâ': 1, 'wasnâ': 1, 'happen': 1, 'Princeton': 1, 'grad': 1, 'sitting': 1, 'here': 1, 'second': 1, 'should': 1, 'young': 1, 'garage': 1, 'inventor': 2, 'invented': 1, 'automatic': 1, 'gate': 1, 'closer': 1, 'cement': 1, 'filled': 1, 'tires': 1, 'solar': 1, 'cooker': 1, 'didnâ': 3, 'well': 1, 'umbrella': 1, 'tinfoil': 1, 'baking': 1, 'alarms': 1, 'entrap': 1, 'siblings': 1, 'always': 2, 'passion': 2, 'working': 1, 'financial': 1, 'firm': 1, 'York': 1, 'City': 1, 'bunch': 1, 'people': 1, 'brilliant': 1, 'boss': 2, 'much': 2, 'admired': 1, 'went': 1, 'company': 1, 'selling': 1, 'books': 1, 'Internet': 1, 'took': 2, 'long': 1, 'walk': 1, 'Central': 1, 'Park': 1, 'listened': 1, 'carefully': 1, 'finally': 1, 'That': 2, 'sounds': 1, 'good': 3, 'better': 1, 'someone': 1, 'already': 1, 'logic': 1, 'sense': 2, 'convinced': 1, 'hours': 1, 'making': 1, 'final': 1, 'decision': 2, 'Seen': 1, 'light': 1, 'difficult': 1, 'ultimately': 1, 'give': 2, 'shot': 1, 'regret': 1, 'trying': 1, 'failing': 1, 'suspected': 1, 'haunted': 1, 'After': 1, 'consideration': 1, 'less': 1, 'safe': 2, 'path': 1, 'proud': 1, 'Tomorrow': 1, 'real': 1, 'author': 1, 'scratch': 1, 'begins': 1, 'Will': 9, 'inertia': 1, 'guide': 1, 'passions': 1, 'dogma': 1, 'original': 1, 'choose': 1, 'ease': 1, 'service': 1, 'adventure': 1, 'wilt': 1, 'under': 1, 'criticism': 1, 'convictions': 1, 'bluff': 1, 'when': 2, 'wrong': 1, 'guard': 1, 'heart': 1, 'against': 1, 'rejection': 1, 'fall': 1, 'love': 1, 'play': 1, 'little': 1, 'swashbuckling': 1, 'tough': 1, 'relentless': 1, 'cynic': 1, 'builder': 1, 'expense': 1, 'others': 1, 'hazard': 1, 'prediction': 1, 'moment': 1, 'reflection': 1, 'narrating': 1, 'personal': 1, 'version': 1, 'story': 2, 'telling': 1, 'compact': 1, 'meaningful': 1, 'series': 1, 'Build': 1, 'great': 1, 'Thank': 1, 'luck': 1} \t\n"
     ]
    }
   ],
   "source": [
    "# Let's take the specific words only if their frequency is greater than 3.\n",
    "filter_words = dict([(m, n) for m, n in data_analysis.items() if len(m) > 3])\n",
    "print(filter_words, '\\t')"
   ]
  },
  {
   "cell_type": "code",
   "execution_count": 39,
   "id": "5afece85",
   "metadata": {},
   "outputs": [
    {
     "name": "stdout",
     "output_type": "stream",
     "text": [
      "After: 1 \n",
      "Airstream: 3 \n",
      "Amazon: 1 \n",
      "Atom: 1 \n",
      "Build: 1 \n",
      "Canada: 1 \n",
      "Caravan: 1 \n",
      "Central: 1 \n",
      "Choices: 1 \n",
      "City: 1 \n",
      "Cleverness: 1 \n",
      "Club: 1 \n",
      "Days: 1 \n",
      "Galileo: 1 \n",
      "Gifts: 1 \n",
      "Instead: 1 \n",
      "Internet: 1 \n",
      "Jeff: 2 \n",
      "Jules: 1 \n",
      "Lives: 1 \n",
      "MacKenzie: 2 \n",
      "Mark: 1 \n",
      "Newton: 1 \n",
      "Park: 1 \n",
      "Princeton: 1 \n",
      "Seen: 1 \n",
      "Texas: 1 \n",
      "Thank: 1 \n",
      "That: 2 \n",
      "Thatâ: 1 \n",
      "This: 2 \n",
      "Tomorrow: 1 \n",
      "Twain: 1 \n",
      "Verne: 1 \n",
      "What: 2 \n",
      "When: 3 \n",
      "While: 1 \n",
      "Will: 9 \n",
      "York: 1 \n",
      "Your: 1 \n",
      "about: 4 \n",
      "across: 1 \n",
      "admired: 1 \n",
      "admission: 2 \n",
      "adventure: 1 \n",
      "adventurers: 1 \n",
      "after: 3 \n",
      "afternoon: 1 \n",
      "against: 1 \n",
      "ages: 1 \n",
      "alarms: 1 \n",
      "alive: 1 \n",
      "already: 1 \n",
      "also: 3 \n",
      "always: 2 \n",
      "anything: 1 \n",
      "apologize: 2 \n",
      "applauded: 1 \n",
      "arithmetic: 2 \n",
      "around: 3 \n",
      "assemble: 1 \n",
      "astonish: 1 \n",
      "atom: 1 \n",
      "author: 1 \n",
      "automatic: 1 \n",
      "back: 2 \n",
      "backseat: 1 \n",
      "baking: 1 \n",
      "basically: 1 \n",
      "because: 2 \n",
      "been: 5 \n",
      "before: 2 \n",
      "begins: 1 \n",
      "believe: 1 \n",
      "belonged: 1 \n",
      "bench: 1 \n",
      "beside: 1 \n",
      "better: 1 \n",
      "between: 1 \n",
      "bluff: 1 \n",
      "books: 1 \n",
      "bookstore: 1 \n",
      "boss: 2 \n",
      "brain: 2 \n",
      "brilliant: 1 \n",
      "builder: 1 \n",
      "building: 1 \n",
      "bunch: 1 \n",
      "burst: 1 \n",
      "calculate: 1 \n",
      "calmly: 1 \n",
      "came: 2 \n",
      "campaign: 1 \n",
      "canâ: 1 \n",
      "capable: 1 \n",
      "caravan: 1 \n",
      "careful: 1 \n",
      "carefully: 1 \n",
      "case: 1 \n",
      "cattle: 1 \n",
      "cell: 1 \n",
      "cement: 1 \n",
      "choice: 3 \n",
      "choices: 6 \n",
      "choose: 1 \n",
      "chores: 1 \n",
      "cigarette: 2 \n",
      "cigarettes: 1 \n",
      "civilization: 1 \n",
      "clean: 1 \n",
      "clever: 3 \n",
      "cleverness: 1 \n",
      "closer: 1 \n",
      "come: 2 \n",
      "comes: 1 \n",
      "coming: 1 \n",
      "compact: 1 \n",
      "company: 1 \n",
      "competitive: 1 \n",
      "confident: 1 \n",
      "consequences: 1 \n",
      "consideration: 1 \n",
      "convictions: 1 \n",
      "convinced: 1 \n",
      "cooker: 1 \n",
      "couldnâ: 1 \n",
      "crazy: 1 \n",
      "criticism: 1 \n",
      "crying: 1 \n",
      "curious: 1 \n",
      "cynic: 1 \n",
      "days: 1 \n",
      "dean: 1 \n",
      "decided: 2 \n",
      "decision: 2 \n",
      "details: 1 \n",
      "detriment: 1 \n",
      "didnâ: 3 \n",
      "difference: 1 \n",
      "difficult: 1 \n",
      "division: 1 \n",
      "dogma: 1 \n",
      "donâ: 1 \n",
      "door: 1 \n",
      "driving: 2 \n",
      "ease: 1 \n",
      "easy: 1 \n",
      "energy: 1 \n",
      "engineer: 1 \n",
      "enter: 1 \n",
      "entrap: 1 \n",
      "especially: 1 \n",
      "estimated: 2 \n",
      "estimates: 2 \n",
      "even: 2 \n",
      "every: 3 \n",
      "exciting: 1 \n",
      "excuse: 1 \n",
      "exist: 1 \n",
      "expected: 2 \n",
      "expense: 1 \n",
      "experience: 1 \n",
      "extraordinary: 1 \n",
      "fact: 1 \n",
      "failing: 1 \n",
      "fall: 1 \n",
      "fast: 1 \n",
      "figure: 2 \n",
      "filled: 1 \n",
      "final: 1 \n",
      "finally: 1 \n",
      "financial: 1 \n",
      "firm: 1 \n",
      "first: 1 \n",
      "follow: 6 \n",
      "forward: 1 \n",
      "from: 2 \n",
      "front: 1 \n",
      "garage: 1 \n",
      "gate: 1 \n",
      "gauge: 1 \n",
      "generate: 1 \n",
      "gently: 1 \n",
      "gift: 2 \n",
      "gifts: 9 \n",
      "give: 2 \n",
      "given: 1 \n",
      "good: 3 \n",
      "grad: 1 \n",
      "grandfather: 4 \n",
      "grandfatherâ: 1 \n",
      "grandmother: 6 \n",
      "grandparents: 4 \n",
      "great: 1 \n",
      "grew: 1 \n",
      "grocery: 1 \n",
      "group: 2 \n",
      "growing: 1 \n",
      "guard: 1 \n",
      "guide: 1 \n",
      "handy: 1 \n",
      "happen: 1 \n",
      "happened: 2 \n",
      "hard: 1 \n",
      "harder: 1 \n",
      "harsh: 1 \n",
      "hated: 1 \n",
      "haunted: 1 \n",
      "have: 9 \n",
      "hazard: 1 \n",
      "head: 1 \n",
      "heard: 1 \n",
      "hearing: 1 \n",
      "heart: 1 \n",
      "helped: 1 \n",
      "here: 1 \n",
      "highly: 1 \n",
      "highway: 1 \n",
      "hitch: 1 \n",
      "hours: 1 \n",
      "human: 1 \n",
      "humans: 1 \n",
      "idea: 4 \n",
      "individual: 1 \n",
      "individuals: 1 \n",
      "inertia: 1 \n",
      "inevitable: 1 \n",
      "intelligent: 1 \n",
      "into: 2 \n",
      "invent: 1 \n",
      "invented: 1 \n",
      "inventor: 2 \n",
      "join: 1 \n",
      "just: 2 \n",
      "kind: 2 \n",
      "kindness: 1 \n",
      "know: 1 \n",
      "land: 1 \n",
      "less: 1 \n",
      "life: 8 \n",
      "light: 1 \n",
      "like: 2 \n",
      "line: 1 \n",
      "listened: 1 \n",
      "little: 1 \n",
      "logic: 1 \n",
      "long: 1 \n",
      "looked: 2 \n",
      "love: 1 \n",
      "loved: 1 \n",
      "luck: 1 \n",
      "machines: 1 \n",
      "made: 3 \n",
      "make: 3 \n",
      "making: 1 \n",
      "many: 3 \n",
      "married: 1 \n",
      "marvels: 1 \n",
      "math: 1 \n",
      "maybe: 2 \n",
      "meaningful: 1 \n",
      "memory: 1 \n",
      "might: 2 \n",
      "mileage: 1 \n",
      "millions: 1 \n",
      "minor: 1 \n",
      "minutes: 4 \n",
      "moment: 1 \n",
      "month: 1 \n",
      "most: 4 \n",
      "much: 2 \n",
      "narrating: 1 \n",
      "never: 2 \n",
      "news: 1 \n",
      "nine: 1 \n",
      "number: 5 \n",
      "online: 1 \n",
      "only: 2 \n",
      "onto: 1 \n",
      "opened: 1 \n",
      "operas: 1 \n",
      "original: 1 \n",
      "other: 2 \n",
      "others: 1 \n",
      "ourselves: 1 \n",
      "over: 1 \n",
      "owners: 1 \n",
      "particular: 1 \n",
      "passenger: 1 \n",
      "passion: 2 \n",
      "passions: 1 \n",
      "path: 1 \n",
      "people: 1 \n",
      "percent: 1 \n",
      "personal: 1 \n",
      "physical: 1 \n",
      "play: 1 \n",
      "plodding: 1 \n",
      "poked: 1 \n",
      "prediction: 1 \n",
      "pride: 2 \n",
      "probably: 2 \n",
      "proclaimed: 1 \n",
      "proud: 1 \n",
      "proudly: 1 \n",
      "puff: 3 \n",
      "puffs: 1 \n",
      "pulled: 1 \n",
      "quiet: 2 \n",
      "quit: 1 \n",
      "ranch: 1 \n",
      "rate: 1 \n",
      "real: 1 \n",
      "really: 3 \n",
      "realm: 1 \n",
      "reasonable: 1 \n",
      "reflection: 1 \n",
      "regret: 1 \n",
      "rejection: 1 \n",
      "relentless: 1 \n",
      "remember: 1 \n",
      "repairs: 1 \n",
      "right: 1 \n",
      "rolling: 1 \n",
      "safe: 2 \n",
      "said: 4 \n",
      "satisfied: 1 \n",
      "scratch: 1 \n",
      "seat: 2 \n",
      "second: 1 \n",
      "seduce: 1 \n",
      "seen: 1 \n",
      "selling: 1 \n",
      "sense: 2 \n",
      "series: 1 \n",
      "service: 1 \n",
      "shot: 1 \n",
      "should: 1 \n",
      "shoulder: 2 \n",
      "siblings: 1 \n",
      "signs: 1 \n",
      "silence: 2 \n",
      "simply: 1 \n",
      "since: 1 \n",
      "sitting: 1 \n",
      "skills: 1 \n",
      "smart: 3 \n",
      "smarts: 1 \n",
      "smell: 1 \n",
      "smoked: 1 \n",
      "smoking: 1 \n",
      "soap: 1 \n",
      "solar: 1 \n",
      "some: 5 \n",
      "someone: 1 \n",
      "something: 1 \n",
      "sounds: 1 \n",
      "specifications: 1 \n",
      "spending: 1 \n",
      "spent: 1 \n",
      "start: 2 \n",
      "startups: 1 \n",
      "statistics: 1 \n",
      "stopped: 1 \n",
      "story: 2 \n",
      "summers: 2 \n",
      "sure: 2 \n",
      "suspected: 1 \n",
      "swashbuckling: 1 \n",
      "synthesize: 1 \n",
      "synthesized: 1 \n",
      "take: 2 \n",
      "taken: 1 \n",
      "takes: 1 \n",
      "talk: 1 \n",
      "tapped: 1 \n",
      "tears: 1 \n",
      "telling: 1 \n",
      "than: 1 \n",
      "that: 19 \n",
      "thatâ: 1 \n",
      "their: 1 \n",
      "there: 1 \n",
      "these: 3 \n",
      "theyâ: 1 \n",
      "thing: 1 \n",
      "things: 1 \n",
      "think: 3 \n",
      "this: 3 \n",
      "throughout: 1 \n",
      "time: 1 \n",
      "tinfoil: 1 \n",
      "tiny: 1 \n",
      "tires: 1 \n",
      "titles: 1 \n",
      "today: 1 \n",
      "together: 1 \n",
      "told: 3 \n",
      "took: 2 \n",
      "tough: 1 \n",
      "trailer: 3 \n",
      "travel: 2 \n",
      "tricky: 1 \n",
      "trip: 1 \n",
      "trips: 2 \n",
      "trouble: 1 \n",
      "trying: 1 \n",
      "turned: 1 \n",
      "ultimately: 1 \n",
      "umbrella: 1 \n",
      "under: 1 \n",
      "understand: 2 \n",
      "usage: 1 \n",
      "useless: 1 \n",
      "vaccinate: 1 \n",
      "version: 1 \n",
      "very: 4 \n",
      "vivid: 1 \n",
      "waited: 1 \n",
      "walk: 1 \n",
      "walls: 1 \n",
      "want: 1 \n",
      "wanted: 5 \n",
      "wasnâ: 1 \n",
      "watched: 1 \n",
      "ways: 1 \n",
      "well: 1 \n",
      "went: 1 \n",
      "werenâ: 1 \n",
      "what: 6 \n",
      "when: 2 \n",
      "wife: 1 \n",
      "will: 22 \n",
      "wilt: 1 \n",
      "windmills: 1 \n",
      "with: 8 \n",
      "word: 1 \n",
      "work: 2 \n",
      "working: 1 \n",
      "world: 1 \n",
      "worshipped: 1 \n",
      "would: 5 \n",
      "wouldnâ: 2 \n",
      "wrong: 1 \n",
      "year: 3 \n",
      "years: 6 \n",
      "young: 1 \n",
      "your: 15 \n",
      "yourself: 3 \n",
      "youâ: 7 \n"
     ]
    }
   ],
   "source": [
    "for key in sorted(filter_words):\n",
    "    print(\"%s: %s \" % (key, filter_words[key]), sep='\\t')"
   ]
  },
  {
   "cell_type": "code",
   "execution_count": 41,
   "id": "4d2bb819",
   "metadata": {},
   "outputs": [
    {
     "data": {
      "text/plain": [
       "FreqDist({'will': 22, 'that': 19, 'your': 15, 'have': 9, 'gifts': 9, 'Will': 9, 'with': 8, 'life': 8, 'youâ': 7, 'years': 6, ...})"
      ]
     },
     "execution_count": 41,
     "metadata": {},
     "output_type": "execute_result"
    }
   ],
   "source": [
    "data_analysis = nltk.FreqDist(filter_words)\n",
    "data_analysis"
   ]
  },
  {
   "cell_type": "code",
   "execution_count": 44,
   "id": "84f85a19",
   "metadata": {},
   "outputs": [
    {
     "data": {
      "image/png": "[encoded data removed]",
      "text/plain": [
       "<Figure size 640x480 with 1 Axes>"
      ]
     },
     "metadata": {},
     "output_type": "display_data"
    },
    {
     "data": {
      "text/plain": [
       "<AxesSubplot:xlabel='Samples', ylabel='Counts'>"
      ]
     },
     "execution_count": 44,
     "metadata": {},
     "output_type": "execute_result"
    }
   ],
   "source": [
    "data_analysis.plot(25, cumulative=False)"
   ]
  },
  {
   "cell_type": "code",
   "execution_count": null,
   "id": "2a35fde5",
   "metadata": {},
   "outputs": [],
   "source": []
  }
 ],
 "metadata": {
  "kernelspec": {
   "display_name": "Python 3 (ipykernel)",
   "language": "python",
   "name": "python3"
  },
  "language_info": {
   "codemirror_mode": {
    "name": "ipython",
    "version": 3
   },
   "file_extension": ".py",
   "mimetype": "text/x-python",
   "name": "python",
   "nbconvert_exporter": "python",
   "pygments_lexer": "ipython3",
   "version": "3.9.15"
  }
 },
 "nbformat": 4,
 "nbformat_minor": 5
}
