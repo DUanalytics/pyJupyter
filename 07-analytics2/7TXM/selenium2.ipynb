{
 "cells": [
  {
   "cell_type": "code",
   "execution_count": 16,
   "id": "038cb705",
   "metadata": {},
   "outputs": [],
   "source": [
    "#selenium2"
   ]
  },
  {
   "cell_type": "code",
   "execution_count": 17,
   "id": "62daeffd",
   "metadata": {},
   "outputs": [],
   "source": [
    "from selenium.webdriver.common.by import By\n",
    "from selenium import webdriver"
   ]
  },
  {
   "cell_type": "code",
   "execution_count": null,
   "id": "132d2821",
   "metadata": {},
   "outputs": [],
   "source": []
  },
  {
   "cell_type": "markdown",
   "id": "3aa36066",
   "metadata": {},
   "source": [
    "## page1"
   ]
  },
  {
   "cell_type": "code",
   "execution_count": 19,
   "id": "52cb40d1",
   "metadata": {},
   "outputs": [],
   "source": [
    "driver1 = webdriver.Chrome('C:\\chromeDriver\\chromedriver')\n",
    "p1 ='http://localhost:8888/view/07-analytics2/7TXM/page1.html'\n",
    "driver1.get(p1)"
   ]
  },
  {
   "cell_type": "code",
   "execution_count": 20,
   "id": "86e448e4",
   "metadata": {},
   "outputs": [
    {
     "name": "stdout",
     "output_type": "stream",
     "text": [
      "http://localhost:8888/login?next=%2Fview%2F07-analytics2%2F7TXM%2Fpage1.html\n"
     ]
    }
   ],
   "source": [
    "print(driver1.current_url)"
   ]
  },
  {
   "cell_type": "markdown",
   "id": "bcddb510",
   "metadata": {},
   "source": [
    "## page2"
   ]
  },
  {
   "cell_type": "code",
   "execution_count": 24,
   "id": "bb1ffdcf",
   "metadata": {},
   "outputs": [],
   "source": [
    "driver2 = webdriver.Chrome('C:\\chromeDriver\\chromedriver')\n",
    "p2 ='http://localhost:8888/view/07-analytics2/7TXM/page2.html'\n",
    "driver2.get(p2)"
   ]
  },
  {
   "cell_type": "markdown",
   "id": "c5a45a71",
   "metadata": {},
   "source": [
    "#forms\n",
    "login_form1 = driver2.find_element(By.XPATH, \"/html/body/form[1]\")\n",
    "login_form2 = driver2.find_element(By.XPATH, \"//form[1]\")\n",
    "login_form3 = driver2.find_element(By.XPATH, \"//form[@id='loginForm']\")\n",
    "print(login_form1, login_form2, login_form3)"
   ]
  },
  {
   "cell_type": "markdown",
   "id": "de9caac0",
   "metadata": {},
   "source": [
    "username = driver2.find_element(By.NAME, 'username')\n",
    "password = driver2.find_element(By.NAME, 'password')"
   ]
  },
  {
   "cell_type": "markdown",
   "id": "5ff9d01c",
   "metadata": {},
   "source": [
    "content = driver2.find_element(By.CLASS_NAME, 'content')"
   ]
  },
  {
   "cell_type": "code",
   "execution_count": null,
   "id": "7b8c711d",
   "metadata": {},
   "outputs": [],
   "source": []
  }
 ],
 "metadata": {
  "kernelspec": {
   "display_name": "Python 3 (ipykernel)",
   "language": "python",
   "name": "python3"
  },
  "language_info": {
   "codemirror_mode": {
    "name": "ipython",
    "version": 3
   },
   "file_extension": ".py",
   "mimetype": "text/x-python",
   "name": "python",
   "nbconvert_exporter": "python",
   "pygments_lexer": "ipython3",
   "version": "3.9.15"
  }
 },
 "nbformat": 4,
 "nbformat_minor": 5
}
