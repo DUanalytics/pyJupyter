{
 "cells": [
  {
   "cell_type": "markdown",
   "metadata": {},
   "source": [
    "# Clustering\n",
    "Grouping data on properties\n",
    "K-means clustering in Python is a type of unsupervised machine learning, which means that the algorithm only trains on inputs and no outputs. It works by finding the distinct groups of data (i.e., clusters) that are closest together.\n"
   ]
  },
  {
   "attachments": {
    "k-means-clustering-algorithm-in-machine-learning.png": {
     "image/png": "[encoded data removed]"
    }
   },
   "cell_type": "markdown",
   "metadata": {},
   "source": [
    "![k-means-clustering-algorithm-in-machine-learning.png](attachment:k-means-clustering-algorithm-in-machine-learning.png)"
   ]
  },
  {
   "cell_type": "markdown",
   "metadata": {},
   "source": [
    "## Libraries"
   ]
  },
  {
   "cell_type": "code",
   "execution_count": 1,
   "metadata": {},
   "outputs": [],
   "source": [
    "import numpy as np\n",
    "import pandas as pd\n",
    "import matplotlib.pyplot as plt"
   ]
  },
  {
   "cell_type": "markdown",
   "metadata": {},
   "source": [
    "### Clustering Libraries"
   ]
  },
  {
   "cell_type": "code",
   "execution_count": 4,
   "metadata": {},
   "outputs": [],
   "source": [
    "#pip install kneed  #install this library from anaconda prompt as Admin\n",
    "from kneed import KneeLocator \n",
    "from sklearn.datasets import make_blobs  #simulate data\n",
    "from sklearn.cluster import KMeans\n",
    "from sklearn.preprocessing import StandardScaler"
   ]
  },
  {
   "cell_type": "markdown",
   "metadata": {},
   "source": [
    "## Sample Data"
   ]
  },
  {
   "cell_type": "code",
   "execution_count": 6,
   "metadata": {},
   "outputs": [],
   "source": [
    "#simulated / synthentic data\n",
    "features, true_labels = make_blobs( n_samples=200, centers=3, cluster_std=2.75, random_state=42)"
   ]
  },
  {
   "cell_type": "code",
   "execution_count": 7,
   "metadata": {},
   "outputs": [
    {
     "data": {
      "text/plain": [
       "array([[  9.77075874,   3.27621022],\n",
       "       [ -9.71349666,  11.27451802],\n",
       "       [ -6.91330582,  -9.34755911],\n",
       "       [-10.86185913, -10.75063497],\n",
       "       [ -8.50038027,  -4.54370383]])"
      ]
     },
     "execution_count": 7,
     "metadata": {},
     "output_type": "execute_result"
    }
   ],
   "source": [
    "features[:5]"
   ]
  },
  {
   "cell_type": "code",
   "execution_count": 8,
   "metadata": {},
   "outputs": [
    {
     "data": {
      "text/plain": [
       "array([[ 9.77075874e+00,  3.27621022e+00],\n",
       "       [-9.71349666e+00,  1.12745180e+01],\n",
       "       [-6.91330582e+00, -9.34755911e+00],\n",
       "       [-1.08618591e+01, -1.07506350e+01],\n",
       "       [-8.50038027e+00, -4.54370383e+00],\n",
       "       [-4.82456978e+00, -5.20159136e+00],\n",
       "       [-3.03819028e+00,  9.84354132e+00],\n",
       "       [-8.17498253e+00, -6.24197227e+00],\n",
       "       [ 3.91207254e+00,  9.45363489e+00],\n",
       "       [-4.64425636e+00, -5.14863028e+00],\n",
       "       [ 2.09082004e+00,  1.80947495e+00],\n",
       "       [ 5.26539366e+00,  5.56781226e+00],\n",
       "       [ 7.61826975e+00,  4.87112533e+00],\n",
       "       [ 3.30512908e+00,  2.19832357e+00],\n",
       "       [-9.29263277e-01,  2.48591905e+00],\n",
       "       [-9.15936347e+00, -8.42060745e+00],\n",
       "       [-2.70722546e+00,  1.17740016e+01],\n",
       "       [-9.14073328e+00, -6.20996976e+00],\n",
       "       [ 6.52709436e+00, -2.46179896e+00],\n",
       "       [-2.51808095e+00, -1.02841022e+01],\n",
       "       [ 1.04758084e+01,  4.81244915e+00],\n",
       "       [ 3.33377923e+00,  1.76514294e-01],\n",
       "       [-5.99215115e+00, -9.15499469e+00],\n",
       "       [-2.32349506e+00,  5.09622862e+00],\n",
       "       [-5.00425652e+00, -7.73334317e+00],\n",
       "       [-4.37073312e+00,  1.06963959e+01],\n",
       "       [-5.67442996e+00,  1.00474557e+01],\n",
       "       [-7.29703620e+00, -5.26223728e+00],\n",
       "       [-1.93482274e+00,  3.62519329e+00],\n",
       "       [ 1.23826438e+00, -1.65808600e+00],\n",
       "       [ 4.61611430e-01,  6.41525984e-01],\n",
       "       [ 1.10051899e+01, -3.16180960e+00],\n",
       "       [-1.15907471e+01, -3.15696056e+00],\n",
       "       [-9.14974448e+00, -7.76392066e+00],\n",
       "       [-1.51535971e+00,  1.32438867e+01],\n",
       "       [-2.23515637e+00,  7.62972808e+00],\n",
       "       [-5.74406569e+00, -8.43035211e+00],\n",
       "       [-8.95340615e-01,  1.50380391e+01],\n",
       "       [-6.20596912e+00, -8.27420333e+00],\n",
       "       [-2.25685549e+00,  3.54847161e+00],\n",
       "       [ 1.33906372e+00,  1.05329129e+00],\n",
       "       [-4.73255503e+00,  7.63445426e+00],\n",
       "       [-9.57877598e+00, -5.60932504e+00],\n",
       "       [ 9.12900992e+00, -1.95971911e+00],\n",
       "       [-9.12973407e+00, -1.12604459e+00],\n",
       "       [ 6.36046404e+00, -3.84013596e-01],\n",
       "       [ 2.19371415e+00, -2.70308600e-01],\n",
       "       [-6.68767146e+00, -7.93972198e+00],\n",
       "       [ 8.51288074e-01, -6.05849176e-01],\n",
       "       [ 8.15820063e-03,  9.91835168e+00],\n",
       "       [-8.57669125e-01, -9.10292988e+00],\n",
       "       [-4.00625012e+00,  9.31932325e+00],\n",
       "       [-3.63616686e+00, -8.17034264e+00],\n",
       "       [-3.33859769e-01,  6.51347063e+00],\n",
       "       [-6.57513310e+00,  7.03471456e+00],\n",
       "       [-4.16389081e+00,  1.41080511e+01],\n",
       "       [-1.01378541e+00, -1.22483510e+01],\n",
       "       [ 3.94531642e+00, -1.45823407e+00],\n",
       "       [-4.43984363e+00,  8.11321523e+00],\n",
       "       [ 1.36379422e+00,  3.77869211e+00],\n",
       "       [-4.26596164e+00, -8.46659465e+00],\n",
       "       [-5.03761427e+00,  1.32766057e+01],\n",
       "       [-4.40572753e+00, -6.03503591e+00],\n",
       "       [-6.93192176e+00, -9.63706535e+00],\n",
       "       [-4.48074544e+00, -6.37591908e+00],\n",
       "       [-6.33221303e+00, -8.53070601e+00],\n",
       "       [-5.43053284e+00,  1.03166653e+01],\n",
       "       [-2.47199115e-01,  5.65696609e+00],\n",
       "       [-4.19804792e+00, -7.28451739e+00],\n",
       "       [-4.78414528e-01,  9.48554890e+00],\n",
       "       [-1.61796671e+00,  7.95530986e+00],\n",
       "       [-6.26337287e+00, -6.84548049e+00],\n",
       "       [-5.00626383e+00,  5.13045095e+00],\n",
       "       [ 2.81996606e+00,  4.31736135e+00],\n",
       "       [ 1.34848673e+00,  5.15919571e+00],\n",
       "       [ 6.05622582e+00,  3.38608105e+00],\n",
       "       [ 1.69492447e+00,  3.29996883e+00],\n",
       "       [-3.80025218e+00,  1.05063262e+01],\n",
       "       [ 6.05625997e+00,  1.25681813e+01],\n",
       "       [-3.82692678e+00,  8.50372394e+00],\n",
       "       [-2.54631499e+00,  6.10558107e+00],\n",
       "       [ 5.22863663e+00, -1.45261196e+00],\n",
       "       [-4.27360635e+00, -8.43896330e-01],\n",
       "       [-5.98816972e+00, -7.23800299e+00],\n",
       "       [-6.61288829e+00, -5.24342777e+00],\n",
       "       [-5.37510939e+00, -7.43613939e+00],\n",
       "       [-6.86520702e+00, -6.75091296e+00],\n",
       "       [-2.26981819e+00,  8.19201591e+00],\n",
       "       [ 4.79995281e+00, -1.16999864e+00],\n",
       "       [-7.47825050e+00, -3.85847325e+00],\n",
       "       [ 4.76520140e+00,  1.81268728e-01],\n",
       "       [-6.40146716e+00,  7.85751149e+00],\n",
       "       [-6.77352206e+00,  9.20283431e+00],\n",
       "       [-2.60465499e+00,  5.80042152e+00],\n",
       "       [ 4.67563404e+00,  5.97038840e+00],\n",
       "       [-8.85534880e+00, -7.46708926e+00],\n",
       "       [-4.81704581e+00,  8.16395209e+00],\n",
       "       [ 5.32873417e+00,  2.92590226e+00],\n",
       "       [ 5.86038226e+00,  4.10341333e+00],\n",
       "       [-3.58749504e+00,  4.98962002e+00],\n",
       "       [-3.28956047e+00, -6.82234903e+00],\n",
       "       [-8.11730724e+00, -5.16727228e+00],\n",
       "       [-3.45166254e+00,  6.80802364e+00],\n",
       "       [-7.45196338e+00, -8.23586216e+00],\n",
       "       [-1.69486686e+00,  9.73218813e+00],\n",
       "       [ 4.02535618e+00,  3.93667104e+00],\n",
       "       [-5.45142428e+00, -2.66507758e+00],\n",
       "       [ 3.77288841e+00,  4.06033504e+00],\n",
       "       [ 7.83857915e+00,  2.00131060e+00],\n",
       "       [-1.12643033e+01, -8.52839091e+00],\n",
       "       [ 5.35455652e+00,  4.12318258e+00],\n",
       "       [ 6.02859385e+00,  4.35399647e+00],\n",
       "       [-1.56424733e+00,  4.16592570e+00],\n",
       "       [-4.98173121e+00, -7.98346589e+00],\n",
       "       [-3.96603818e+00,  1.04257716e+01],\n",
       "       [-1.27203404e+01, -8.32593590e+00],\n",
       "       [-2.88898227e+00, -4.24211482e+00],\n",
       "       [-7.25272166e+00,  7.46799542e+00],\n",
       "       [-3.77595424e+00,  1.19213723e+01],\n",
       "       [-2.82723040e+00,  8.18625097e+00],\n",
       "       [-9.58375433e-01, -8.99031539e+00],\n",
       "       [ 9.49487800e+00,  3.08686939e+00],\n",
       "       [-5.23317252e+00,  7.45696737e+00],\n",
       "       [-6.67116466e+00, -8.74230430e+00],\n",
       "       [-5.93979826e+00, -1.72063979e+00],\n",
       "       [ 3.41196272e+00,  4.32826637e+00],\n",
       "       [-1.59822319e+00,  1.16970352e+01],\n",
       "       [-2.72025275e-01,  5.62940926e+00],\n",
       "       [ 2.20927089e+00,  2.39591373e+00],\n",
       "       [ 3.26051064e-01,  1.15753065e+01],\n",
       "       [ 7.26338369e+00,  3.76449563e+00],\n",
       "       [-6.93710657e+00, -6.55745929e+00],\n",
       "       [ 1.52133649e+00,  8.39340130e+00],\n",
       "       [-6.81222421e+00, -5.51061429e+00],\n",
       "       [-9.18886226e+00, -8.52843937e+00],\n",
       "       [ 7.28916319e+00,  3.10831723e+00],\n",
       "       [ 4.81664889e+00, -9.90628455e-01],\n",
       "       [ 1.05357251e+01,  3.71644700e+00],\n",
       "       [-2.24223436e+00,  1.16780599e+01],\n",
       "       [ 8.12388450e+00,  2.70786535e-02],\n",
       "       [-7.78581847e+00,  8.94137297e+00],\n",
       "       [-5.29448320e+00,  9.87846629e+00],\n",
       "       [-1.05102685e+01, -1.84359799e+00],\n",
       "       [ 2.19299941e-01,  2.48091279e+00],\n",
       "       [ 4.42784914e+00,  2.91133761e+00],\n",
       "       [-6.16170926e+00,  9.55565453e+00],\n",
       "       [ 2.76981085e+00,  2.61186735e+00],\n",
       "       [-4.52106323e+00, -7.31994055e+00],\n",
       "       [-6.56745449e+00, -5.05925024e+00],\n",
       "       [ 3.42975650e+00,  2.33270627e+00],\n",
       "       [-5.55161880e+00,  5.72471791e+00],\n",
       "       [-6.93053832e+00, -7.67392085e+00],\n",
       "       [ 6.90054428e+00,  7.18935039e+00],\n",
       "       [-7.19461177e+00, -3.47611474e+00],\n",
       "       [ 2.51460950e+00,  1.32191852e+00],\n",
       "       [-3.69482229e+00, -4.70303718e+00],\n",
       "       [-9.64617499e+00, -1.02191283e+01],\n",
       "       [-1.80093405e+00,  8.80955986e+00],\n",
       "       [ 5.94128230e+00,  1.77289017e+00],\n",
       "       [ 7.82601668e+00, -2.83706692e-01],\n",
       "       [-2.74751611e-01,  1.27439462e+01],\n",
       "       [ 3.96506152e+00, -9.96047680e-02],\n",
       "       [ 5.62379408e+00,  3.51532713e+00],\n",
       "       [-7.17871760e+00, -5.77540236e+00],\n",
       "       [-3.11329531e+00,  9.99634570e+00],\n",
       "       [ 6.20982774e+00,  5.09597519e+00],\n",
       "       [ 5.44582814e+00,  8.70328437e-03],\n",
       "       [-4.66314418e+00,  8.12861696e+00],\n",
       "       [-6.10689955e+00, -8.59253327e+00],\n",
       "       [ 5.40077853e+00,  4.24792362e+00],\n",
       "       [-3.36604873e+00, -8.50693091e+00],\n",
       "       [-2.49513562e+00,  8.36917151e+00],\n",
       "       [ 2.67279364e+00,  3.84206349e+00],\n",
       "       [-5.89783460e+00, -8.78561098e+00],\n",
       "       [ 6.33565117e-01,  1.10821020e+01],\n",
       "       [ 8.60338038e+00, -1.97545123e+00],\n",
       "       [-2.34356455e+00,  1.57882019e+01],\n",
       "       [-4.16095402e+00,  8.21212832e+00],\n",
       "       [-2.95273333e+00,  1.01254260e+01],\n",
       "       [ 1.17244796e+00,  4.49729004e+00],\n",
       "       [-3.78359628e+00,  7.73352931e+00],\n",
       "       [ 2.46044681e+00,  1.65764447e+00],\n",
       "       [-6.61101792e+00, -9.00588650e+00],\n",
       "       [-5.16329769e+00, -5.15215944e+00],\n",
       "       [-4.60973223e+00, -4.64295809e+00],\n",
       "       [ 1.55501100e+00,  7.58904303e+00],\n",
       "       [ 6.07521814e+00,  2.78987754e+00],\n",
       "       [ 5.11612638e+00,  3.03279248e+00],\n",
       "       [ 2.31119611e+00, -2.19266018e+00],\n",
       "       [-2.60771923e+00,  1.33170562e+01],\n",
       "       [-1.51469855e+00,  7.24020680e+00],\n",
       "       [ 2.63137060e+00,  2.56843081e+00],\n",
       "       [-9.35026754e+00, -5.52733187e+00],\n",
       "       [-8.96724201e+00, -6.46652668e+00],\n",
       "       [-1.84380138e+00,  3.75276546e+00],\n",
       "       [-6.02463139e+00, -2.82288000e+00],\n",
       "       [ 2.67781361e+00,  9.49437511e+00],\n",
       "       [ 1.83363762e+00,  1.11247316e+01],\n",
       "       [ 3.34206621e+00,  4.96778383e+00],\n",
       "       [ 1.95950424e+00,  4.13765234e+00]])"
      ]
     },
     "execution_count": 8,
     "metadata": {},
     "output_type": "execute_result"
    }
   ],
   "source": [
    "features"
   ]
  },
  {
   "cell_type": "code",
   "execution_count": 9,
   "metadata": {},
   "outputs": [
    {
     "data": {
      "text/plain": [
       "(200, 2)"
      ]
     },
     "execution_count": 9,
     "metadata": {},
     "output_type": "execute_result"
    }
   ],
   "source": [
    "features.shape  # 200 rows of 2 columns data(act a properties)"
   ]
  },
  {
   "cell_type": "code",
   "execution_count": 10,
   "metadata": {},
   "outputs": [
    {
     "data": {
      "text/plain": [
       "array([1, 0, 2, 2, 2])"
      ]
     },
     "execution_count": 10,
     "metadata": {},
     "output_type": "execute_result"
    }
   ],
   "source": [
    "true_labels[:5]  #groups they belong"
   ]
  },
  {
   "cell_type": "markdown",
   "metadata": {},
   "source": [
    "### Scale Data"
   ]
  },
  {
   "cell_type": "code",
   "execution_count": 11,
   "metadata": {},
   "outputs": [
    {
     "data": {
      "text/plain": [
       "array([[ 2.13082109,  0.25604351],\n",
       "       [-1.52698523,  1.41036744],\n",
       "       [-1.00130152, -1.56583175],\n",
       "       [-1.74256891, -1.76832509],\n",
       "       [-1.29924521, -0.87253446]])"
      ]
     },
     "execution_count": 11,
     "metadata": {},
     "output_type": "execute_result"
    }
   ],
   "source": [
    "#need for scaling : height & weight are in different scales\n",
    "scaler = StandardScaler()\n",
    "scaled_features = scaler.fit_transform(features)\n",
    "scaled_features[:5]  #values between -3 to +3"
   ]
  },
  {
   "cell_type": "markdown",
   "metadata": {},
   "source": [
    "## Model\n",
    "parameters for creating simulated data\n",
    "n_samples - total samples to generate\n",
    "centers - no of centers or clusters = 3\n",
    "cluster_std - standard deviation\n",
    "n_init - initial centers = 10\n",
    "max_iter - number of iterations = 300\n",
    "random_stat - select randomly seed value = 42"
   ]
  },
  {
   "cell_type": "code",
   "execution_count": 12,
   "metadata": {},
   "outputs": [
    {
     "data": {
      "text/plain": [
       "KMeans(init='random', n_clusters=3, random_state=42)"
      ]
     },
     "execution_count": 12,
     "metadata": {},
     "output_type": "execute_result"
    }
   ],
   "source": [
    "# Create Blank Model with hyperparameters\n",
    "kmeans = KMeans( init = 'random', n_clusters=3, n_init=10, max_iter=300, random_state=42)\n",
    "kmeans # model "
   ]
  },
  {
   "cell_type": "markdown",
   "metadata": {},
   "source": [
    "### Run Model with parameters"
   ]
  },
  {
   "cell_type": "code",
   "execution_count": 13,
   "metadata": {},
   "outputs": [
    {
     "data": {
      "text/plain": [
       "KMeans(init='random', n_clusters=3, random_state=42)"
      ]
     },
     "execution_count": 13,
     "metadata": {},
     "output_type": "execute_result"
    }
   ],
   "source": [
    "kmeans.fit(scaled_features)"
   ]
  },
  {
   "cell_type": "markdown",
   "metadata": {},
   "source": [
    "## Model Output"
   ]
  },
  {
   "cell_type": "code",
   "execution_count": 14,
   "metadata": {},
   "outputs": [
    {
     "data": {
      "text/plain": [
       "74.57960106819853"
      ]
     },
     "execution_count": 14,
     "metadata": {},
     "output_type": "execute_result"
    }
   ],
   "source": [
    "kmeans.inertia_  #error value"
   ]
  },
  {
   "cell_type": "markdown",
   "metadata": {},
   "source": [
    "#### Cluster Centers"
   ]
  },
  {
   "cell_type": "code",
   "execution_count": 15,
   "metadata": {},
   "outputs": [
    {
     "data": {
      "text/plain": [
       "array([[-0.25813925,  1.05589975],\n",
       "       [-0.91941183, -1.18551732],\n",
       "       [ 1.19539276,  0.13158148]])"
      ]
     },
     "execution_count": 15,
     "metadata": {},
     "output_type": "execute_result"
    }
   ],
   "source": [
    "kmeans.cluster_centers_  #average or rep values"
   ]
  },
  {
   "cell_type": "code",
   "execution_count": 16,
   "metadata": {},
   "outputs": [
    {
     "data": {
      "text/plain": [
       "2"
      ]
     },
     "execution_count": 16,
     "metadata": {},
     "output_type": "execute_result"
    }
   ],
   "source": [
    "#no of iterations\n",
    "kmeans.n_iter_  #in 2 times, clusters stabilised"
   ]
  },
  {
   "cell_type": "code",
   "execution_count": 17,
   "metadata": {},
   "outputs": [
    {
     "data": {
      "text/plain": [
       "array([2, 0, 1, 1, 1])"
      ]
     },
     "execution_count": 17,
     "metadata": {},
     "output_type": "execute_result"
    }
   ],
   "source": [
    "# Label values / Cluster Groups\n",
    "kmeans.labels_[:5]"
   ]
  },
  {
   "cell_type": "markdown",
   "metadata": {},
   "source": [
    "## Select Optimal No of Cluster"
   ]
  },
  {
   "cell_type": "code",
   "execution_count": 20,
   "metadata": {},
   "outputs": [
    {
     "name": "stderr",
     "output_type": "stream",
     "text": [
      "C:\\ProgramData\\Anaconda3\\lib\\site-packages\\sklearn\\cluster\\_kmeans.py:1036: UserWarning: KMeans is known to have a memory leak on Windows with MKL, when there are less chunks than available threads. You can avoid it by setting the environment variable OMP_NUM_THREADS=1.\n",
      "  warnings.warn(\n"
     ]
    },
    {
     "data": {
      "image/png": "[encoded data removed]",
      "text/plain": [
       "<Figure size 432x288 with 1 Axes>"
      ]
     },
     "metadata": {},
     "output_type": "display_data"
    },
    {
     "data": {
      "text/plain": [
       "3"
      ]
     },
     "execution_count": 20,
     "metadata": {},
     "output_type": "execute_result"
    }
   ],
   "source": [
    "#%%choosing no of clusters graphically\n",
    "\n",
    "kmeans_kwargs = {'init':'random', 'n_init':10, 'max_iter': 300, \n",
    "                 'random_state': 42}\n",
    "sse=[]\n",
    "for k in range(1, 11):\n",
    "    kmeans = KMeans(n_clusters=k, **kmeans_kwargs)\n",
    "    kmeans.fit(scaled_features)\n",
    "    sse.append(kmeans.inertia_)\n",
    "\n",
    "plt.style.use('fivethirtyeight')\n",
    "plt.plot(range(1,11), sse)\n",
    "plt.xticks(range(1,11))\n",
    "plt.xlabel('No of clusters')\n",
    "plt.ylabel('SSE')\n",
    "plt.show();\n",
    "\n",
    "kl = KneeLocator(x=range(1,11), y=sse, curve='convex', direction='decreasing')\n",
    "kl.elbow\n"
   ]
  },
  {
   "cell_type": "code",
   "execution_count": null,
   "metadata": {},
   "outputs": [],
   "source": [
    "# Environment variables\n",
    "# 'OMP_NUM_THREADS':1"
   ]
  },
  {
   "cell_type": "code",
   "execution_count": null,
   "metadata": {},
   "outputs": [],
   "source": [
    "# end here"
   ]
  },
  {
   "cell_type": "markdown",
   "metadata": {},
   "source": [
    "### Links\n",
    "https://realpython.com/k-means-clustering-python/"
   ]
  }
 ],
 "metadata": {
  "kernelspec": {
   "display_name": "Python 3 (ipykernel)",
   "language": "python",
   "name": "python3"
  },
  "language_info": {
   "codemirror_mode": {
    "name": "ipython",
    "version": 3
   },
   "file_extension": ".py",
   "mimetype": "text/x-python",
   "name": "python",
   "nbconvert_exporter": "python",
   "pygments_lexer": "ipython3",
   "version": "3.9.13"
  }
 },
 "nbformat": 4,
 "nbformat_minor": 4
}
