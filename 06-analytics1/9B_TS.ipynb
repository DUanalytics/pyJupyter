{
 "cells": [
  {
   "cell_type": "code",
   "execution_count": null,
   "id": "e9c70d88",
   "metadata": {},
   "outputs": [],
   "source": [
    "# Time Series\n"
   ]
  },
  {
   "cell_type": "code",
   "execution_count": null,
   "id": "7273ced2",
   "metadata": {},
   "outputs": [],
   "source": [
    "## Libraries"
   ]
  },
  {
   "cell_type": "code",
   "execution_count": null,
   "id": "2e7a1d2e",
   "metadata": {},
   "outputs": [],
   "source": [
    "### Libraries for Times Series"
   ]
  },
  {
   "cell_type": "code",
   "execution_count": null,
   "id": "ab09bb83",
   "metadata": {},
   "outputs": [],
   "source": [
    "## Load Data Set"
   ]
  },
  {
   "cell_type": "code",
   "execution_count": null,
   "id": "7d4baf19",
   "metadata": {},
   "outputs": [],
   "source": [
    "## Different Summaries of Data Set\n"
   ]
  }
 ],
 "metadata": {
  "kernelspec": {
   "display_name": "Python 3 (ipykernel)",
   "language": "python",
   "name": "python3"
  },
  "language_info": {
   "codemirror_mode": {
    "name": "ipython",
    "version": 3
   },
   "file_extension": ".py",
   "mimetype": "text/x-python",
   "name": "python",
   "nbconvert_exporter": "python",
   "pygments_lexer": "ipython3",
   "version": "3.9.12"
  }
 },
 "nbformat": 4,
 "nbformat_minor": 5
}
