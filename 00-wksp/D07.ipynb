{
 "cells": [
  {
   "cell_type": "markdown",
   "id": "e254e111",
   "metadata": {},
   "source": [
    "# D07\n",
    "Overfitting happens when the machine learning model memorizes the pattern in the training data to such an extent that it fails to classify unseen data. The noise or fluctuations in the training data is seen as features and learned by the model. This leads to the model outperforming in the training set but poor performance in the validation and testing sets.\n",
    "Train & Test Set\n",
    "- training set—a subset to train a model.\n",
    "- test set—a subset to test accuracy of the trained model. Never train on test data. \n",
    "- Generall 75% for training, and 25% for testing.\n",
    "sampling\n",
    "random numbers"
   ]
  },
  {
   "cell_type": "code",
   "execution_count": 1,
   "id": "3152c208",
   "metadata": {},
   "outputs": [],
   "source": [
    "# libraries\n",
    "import pandas as pd\n",
    "import numpy as np\n",
    "from pydataset import data"
   ]
  },
  {
   "cell_type": "code",
   "execution_count": 26,
   "id": "83ca214c",
   "metadata": {},
   "outputs": [
    {
     "name": "stdout",
     "output_type": "stream",
     "text": [
      "0.22540933105962413\n"
     ]
    }
   ],
   "source": [
    "import random\n",
    "print(random.random())"
   ]
  },
  {
   "cell_type": "code",
   "execution_count": 2,
   "id": "bcc73d44",
   "metadata": {},
   "outputs": [],
   "source": [
    "from sklearn.model_selection import train_test_split\n",
    "# options\n",
    "# test _size, train_size, random_state = int value, shuffle, stratify"
   ]
  },
  {
   "cell_type": "markdown",
   "id": "0677d00a",
   "metadata": {},
   "source": [
    "### Types of Data\n",
    "IV as features (X)\n",
    "DV as labels (y)\n",
    "Data gets divided in X_train, y_train, X_test, y_test "
   ]
  },
  {
   "cell_type": "code",
   "execution_count": 6,
   "id": "bcd84b2c",
   "metadata": {},
   "outputs": [
    {
     "name": "stdout",
     "output_type": "stream",
     "text": [
      "Few Rows                   mpg  cyl   disp   hp  drat     wt   qsec  vs  am  gear  carb\n",
      "Mazda RX4       21.0    6  160.0  110  3.90  2.620  16.46   0   1     4     4\n",
      "Mazda RX4 Wag   21.0    6  160.0  110  3.90  2.875  17.02   0   1     4     4\n",
      "Datsun 710      22.8    4  108.0   93  3.85  2.320  18.61   1   1     4     1\n",
      "Hornet 4 Drive  21.4    6  258.0  110  3.08  3.215  19.44   1   0     3     1\n",
      "Shape of Data  (32, 11)\n",
      "<class 'pandas.core.frame.DataFrame'>\n",
      "Index: 32 entries, Mazda RX4 to Volvo 142E\n",
      "Data columns (total 11 columns):\n",
      " #   Column  Non-Null Count  Dtype  \n",
      "---  ------  --------------  -----  \n",
      " 0   mpg     32 non-null     float64\n",
      " 1   cyl     32 non-null     int64  \n",
      " 2   disp    32 non-null     float64\n",
      " 3   hp      32 non-null     int64  \n",
      " 4   drat    32 non-null     float64\n",
      " 5   wt      32 non-null     float64\n",
      " 6   qsec    32 non-null     float64\n",
      " 7   vs      32 non-null     int64  \n",
      " 8   am      32 non-null     int64  \n",
      " 9   gear    32 non-null     int64  \n",
      " 10  carb    32 non-null     int64  \n",
      "dtypes: float64(5), int64(6)\n",
      "memory usage: 3.0+ KB\n",
      "Info  None\n"
     ]
    }
   ],
   "source": [
    "df = data('mtcars')\n",
    "print('Few Rows ', df.head(4))\n",
    "print('Shape of Data ', df.shape)\n",
    "print('Info ', df.info())"
   ]
  },
  {
   "cell_type": "code",
   "execution_count": 8,
   "id": "762c0f44",
   "metadata": {},
   "outputs": [
    {
     "data": {
      "text/html": [
       "<div>\n",
       "<style scoped>\n",
       "    .dataframe tbody tr th:only-of-type {\n",
       "        vertical-align: middle;\n",
       "    }\n",
       "\n",
       "    .dataframe tbody tr th {\n",
       "        vertical-align: top;\n",
       "    }\n",
       "\n",
       "    .dataframe thead th {\n",
       "        text-align: right;\n",
       "    }\n",
       "</style>\n",
       "<table border=\"1\" class=\"dataframe\">\n",
       "  <thead>\n",
       "    <tr style=\"text-align: right;\">\n",
       "      <th></th>\n",
       "      <th>mpg</th>\n",
       "      <th>wt</th>\n",
       "      <th>hp</th>\n",
       "      <th>gear</th>\n",
       "    </tr>\n",
       "  </thead>\n",
       "  <tbody>\n",
       "    <tr>\n",
       "      <th>Mazda RX4</th>\n",
       "      <td>21.0</td>\n",
       "      <td>2.620</td>\n",
       "      <td>110</td>\n",
       "      <td>4</td>\n",
       "    </tr>\n",
       "    <tr>\n",
       "      <th>Mazda RX4 Wag</th>\n",
       "      <td>21.0</td>\n",
       "      <td>2.875</td>\n",
       "      <td>110</td>\n",
       "      <td>4</td>\n",
       "    </tr>\n",
       "    <tr>\n",
       "      <th>Datsun 710</th>\n",
       "      <td>22.8</td>\n",
       "      <td>2.320</td>\n",
       "      <td>93</td>\n",
       "      <td>4</td>\n",
       "    </tr>\n",
       "    <tr>\n",
       "      <th>Hornet 4 Drive</th>\n",
       "      <td>21.4</td>\n",
       "      <td>3.215</td>\n",
       "      <td>110</td>\n",
       "      <td>3</td>\n",
       "    </tr>\n",
       "    <tr>\n",
       "      <th>Hornet Sportabout</th>\n",
       "      <td>18.7</td>\n",
       "      <td>3.440</td>\n",
       "      <td>175</td>\n",
       "      <td>3</td>\n",
       "    </tr>\n",
       "  </tbody>\n",
       "</table>\n",
       "</div>"
      ],
      "text/plain": [
       "                    mpg     wt   hp  gear\n",
       "Mazda RX4          21.0  2.620  110     4\n",
       "Mazda RX4 Wag      21.0  2.875  110     4\n",
       "Datsun 710         22.8  2.320   93     4\n",
       "Hornet 4 Drive     21.4  3.215  110     3\n",
       "Hornet Sportabout  18.7  3.440  175     3"
      ]
     },
     "execution_count": 8,
     "metadata": {},
     "output_type": "execute_result"
    }
   ],
   "source": [
    "df1 = df[['mpg','wt', 'hp','gear']]\n",
    "df1.head()"
   ]
  },
  {
   "cell_type": "code",
   "execution_count": 11,
   "id": "8da66522",
   "metadata": {},
   "outputs": [
    {
     "name": "stdout",
     "output_type": "stream",
     "text": [
      "                      wt   hp  gear   mpg\n",
      "Mazda RX4          2.620  110     4  21.0\n",
      "Mazda RX4 Wag      2.875  110     4  21.0\n",
      "Datsun 710         2.320   93     4  22.8\n",
      "Hornet 4 Drive     3.215  110     3  21.4\n",
      "Hornet Sportabout  3.440  175     3  18.7\n"
     ]
    }
   ],
   "source": [
    "X = df1[['wt','hp','gear']]\n",
    "y = df1['mpg']\n",
    "print(pd.concat([X.head(), y.head()], axis=1))"
   ]
  },
  {
   "cell_type": "code",
   "execution_count": 12,
   "id": "769d7be7",
   "metadata": {},
   "outputs": [],
   "source": [
    "X_train, X_test, y_train, y_test = train_test_split(X, y , random_state=104,  test_size=0.25, shuffle=True)"
   ]
  },
  {
   "cell_type": "code",
   "execution_count": 13,
   "id": "edea1694",
   "metadata": {},
   "outputs": [
    {
     "name": "stdout",
     "output_type": "stream",
     "text": [
      "(24, 3) (24,)\n",
      "(8, 3) (8,)\n"
     ]
    }
   ],
   "source": [
    "print(X_train.shape, y_train.shape)\n",
    "print(X_test.shape, y_test.shape)"
   ]
  },
  {
   "cell_type": "markdown",
   "id": "a1e6cf36",
   "metadata": {},
   "source": [
    "# Sampling\n",
    "Population to Sample"
   ]
  },
  {
   "cell_type": "code",
   "execution_count": 14,
   "id": "04cc4dab",
   "metadata": {},
   "outputs": [
    {
     "data": {
      "text/html": [
       "<div>\n",
       "<style scoped>\n",
       "    .dataframe tbody tr th:only-of-type {\n",
       "        vertical-align: middle;\n",
       "    }\n",
       "\n",
       "    .dataframe tbody tr th {\n",
       "        vertical-align: top;\n",
       "    }\n",
       "\n",
       "    .dataframe thead th {\n",
       "        text-align: right;\n",
       "    }\n",
       "</style>\n",
       "<table border=\"1\" class=\"dataframe\">\n",
       "  <thead>\n",
       "    <tr style=\"text-align: right;\">\n",
       "      <th></th>\n",
       "      <th>mpg</th>\n",
       "      <th>cyl</th>\n",
       "      <th>disp</th>\n",
       "      <th>hp</th>\n",
       "      <th>drat</th>\n",
       "      <th>wt</th>\n",
       "      <th>qsec</th>\n",
       "      <th>vs</th>\n",
       "      <th>am</th>\n",
       "      <th>gear</th>\n",
       "      <th>carb</th>\n",
       "    </tr>\n",
       "  </thead>\n",
       "  <tbody>\n",
       "    <tr>\n",
       "      <th>Hornet 4 Drive</th>\n",
       "      <td>21.4</td>\n",
       "      <td>6</td>\n",
       "      <td>258.0</td>\n",
       "      <td>110</td>\n",
       "      <td>3.08</td>\n",
       "      <td>3.215</td>\n",
       "      <td>19.44</td>\n",
       "      <td>1</td>\n",
       "      <td>0</td>\n",
       "      <td>3</td>\n",
       "      <td>1</td>\n",
       "    </tr>\n",
       "    <tr>\n",
       "      <th>Ford Pantera L</th>\n",
       "      <td>15.8</td>\n",
       "      <td>8</td>\n",
       "      <td>351.0</td>\n",
       "      <td>264</td>\n",
       "      <td>4.22</td>\n",
       "      <td>3.170</td>\n",
       "      <td>14.50</td>\n",
       "      <td>0</td>\n",
       "      <td>1</td>\n",
       "      <td>5</td>\n",
       "      <td>4</td>\n",
       "    </tr>\n",
       "    <tr>\n",
       "      <th>Cadillac Fleetwood</th>\n",
       "      <td>10.4</td>\n",
       "      <td>8</td>\n",
       "      <td>472.0</td>\n",
       "      <td>205</td>\n",
       "      <td>2.93</td>\n",
       "      <td>5.250</td>\n",
       "      <td>17.98</td>\n",
       "      <td>0</td>\n",
       "      <td>0</td>\n",
       "      <td>3</td>\n",
       "      <td>4</td>\n",
       "    </tr>\n",
       "    <tr>\n",
       "      <th>Toyota Corona</th>\n",
       "      <td>21.5</td>\n",
       "      <td>4</td>\n",
       "      <td>120.1</td>\n",
       "      <td>97</td>\n",
       "      <td>3.70</td>\n",
       "      <td>2.465</td>\n",
       "      <td>20.01</td>\n",
       "      <td>1</td>\n",
       "      <td>0</td>\n",
       "      <td>3</td>\n",
       "      <td>1</td>\n",
       "    </tr>\n",
       "    <tr>\n",
       "      <th>Lincoln Continental</th>\n",
       "      <td>10.4</td>\n",
       "      <td>8</td>\n",
       "      <td>460.0</td>\n",
       "      <td>215</td>\n",
       "      <td>3.00</td>\n",
       "      <td>5.424</td>\n",
       "      <td>17.82</td>\n",
       "      <td>0</td>\n",
       "      <td>0</td>\n",
       "      <td>3</td>\n",
       "      <td>4</td>\n",
       "    </tr>\n",
       "  </tbody>\n",
       "</table>\n",
       "</div>"
      ],
      "text/plain": [
       "                      mpg  cyl   disp   hp  drat     wt   qsec  vs  am  gear  \\\n",
       "Hornet 4 Drive       21.4    6  258.0  110  3.08  3.215  19.44   1   0     3   \n",
       "Ford Pantera L       15.8    8  351.0  264  4.22  3.170  14.50   0   1     5   \n",
       "Cadillac Fleetwood   10.4    8  472.0  205  2.93  5.250  17.98   0   0     3   \n",
       "Toyota Corona        21.5    4  120.1   97  3.70  2.465  20.01   1   0     3   \n",
       "Lincoln Continental  10.4    8  460.0  215  3.00  5.424  17.82   0   0     3   \n",
       "\n",
       "                     carb  \n",
       "Hornet 4 Drive          1  \n",
       "Ford Pantera L          4  \n",
       "Cadillac Fleetwood      4  \n",
       "Toyota Corona           1  \n",
       "Lincoln Continental     4  "
      ]
     },
     "execution_count": 14,
     "metadata": {},
     "output_type": "execute_result"
    }
   ],
   "source": [
    "df.sample(5)   #sample rows"
   ]
  },
  {
   "cell_type": "code",
   "execution_count": null,
   "id": "cdf22bf2",
   "metadata": {},
   "outputs": [],
   "source": [
    "## numpy samples"
   ]
  },
  {
   "cell_type": "code",
   "execution_count": 15,
   "id": "1724152c",
   "metadata": {},
   "outputs": [
    {
     "data": {
      "text/plain": [
       "array([0.73237097, 0.73825165, 0.18556446, 0.55592224, 0.81106165,\n",
       "       0.73761965, 0.80122643, 0.12640391, 0.80733064, 0.40797795])"
      ]
     },
     "execution_count": 15,
     "metadata": {},
     "output_type": "execute_result"
    }
   ],
   "source": [
    "np.random.rand(10)\n",
    "#10 values between 0 and 1"
   ]
  },
  {
   "cell_type": "code",
   "execution_count": 17,
   "id": "a7e9d625",
   "metadata": {},
   "outputs": [
    {
     "data": {
      "text/plain": [
       "array([ 4, 80, 44, 59, 88, 70, 41, 98, 73,  5, 62, 59, 13, 78,  8, 37, 49,\n",
       "       10,  4, 45])"
      ]
     },
     "execution_count": 17,
     "metadata": {},
     "output_type": "execute_result"
    }
   ],
   "source": [
    "np.random.randint(0,100,20)\n",
    "#20 random integers between 0 and 100"
   ]
  },
  {
   "cell_type": "code",
   "execution_count": 22,
   "id": "24d35d2d",
   "metadata": {},
   "outputs": [
    {
     "data": {
      "text/plain": [
       "array([25.1381216 , 24.93297976, 26.02044571, 23.41513263, 21.10426334,\n",
       "       25.55949869, 23.29364369, 25.4551703 , 25.81424839, 24.6287773 ,\n",
       "       22.97848025, 25.59279787, 25.55140309, 24.89438153, 23.88817548,\n",
       "       22.25329392, 24.78360883, 26.58044527, 23.51286614, 24.49521429])"
      ]
     },
     "execution_count": 22,
     "metadata": {},
     "output_type": "execute_result"
    }
   ],
   "source": [
    "np.random.normal(loc=25, scale=2, size=20)\n",
    "#normally distributed numbers : mean = 25, std 2, n=2"
   ]
  },
  {
   "cell_type": "code",
   "execution_count": 25,
   "id": "52219cd3",
   "metadata": {},
   "outputs": [
    {
     "data": {
      "text/plain": [
       "array(['BBA', 'BBA', 'BA', 'MBA', 'BA', 'BA', 'Phd', 'BBA', 'MBA', 'BBA',\n",
       "       'BBA', 'Phd', 'MBA', 'Phd', 'MBA', 'MTech', 'BCom', 'BBA', 'MTech',\n",
       "       'BCom'], dtype='<U5')"
      ]
     },
     "execution_count": 25,
     "metadata": {},
     "output_type": "execute_result"
    }
   ],
   "source": [
    "# random choices\n",
    "courses = ['BBA','BA','BCom', 'MBA', 'MTech', 'Phd']\n",
    "np.random.choice(courses, size=20, replace=True, p = [.2, .1, .2, .3, .1,.1])"
   ]
  },
  {
   "cell_type": "code",
   "execution_count": 36,
   "id": "61fc3ad0",
   "metadata": {},
   "outputs": [
    {
     "data": {
      "text/plain": [
       "'Phd'"
      ]
     },
     "execution_count": 36,
     "metadata": {},
     "output_type": "execute_result"
    }
   ],
   "source": [
    "random.choice(courses)"
   ]
  },
  {
   "cell_type": "code",
   "execution_count": 39,
   "id": "caaf34f6",
   "metadata": {},
   "outputs": [
    {
     "data": {
      "text/plain": [
       "['Phd', 'BA', 'MTech', 'BCom', 'BBA', 'MBA']"
      ]
     },
     "execution_count": 39,
     "metadata": {},
     "output_type": "execute_result"
    }
   ],
   "source": [
    "random.shuffle(courses)\n",
    "courses"
   ]
  },
  {
   "cell_type": "code",
   "execution_count": 41,
   "id": "14fef843",
   "metadata": {},
   "outputs": [
    {
     "data": {
      "text/plain": [
       "27"
      ]
     },
     "execution_count": 41,
     "metadata": {},
     "output_type": "execute_result"
    }
   ],
   "source": [
    "random.randrange(20, 50)\n",
    "#random number between 20 & 50"
   ]
  },
  {
   "cell_type": "code",
   "execution_count": 46,
   "id": "54fd8558",
   "metadata": {},
   "outputs": [
    {
     "data": {
      "text/plain": [
       "['BCom', 'MTech']"
      ]
     },
     "execution_count": 46,
     "metadata": {},
     "output_type": "execute_result"
    }
   ],
   "source": [
    "random.sample(courses,2)"
   ]
  },
  {
   "cell_type": "code",
   "execution_count": 35,
   "id": "41c328fc",
   "metadata": {},
   "outputs": [
    {
     "data": {
      "text/plain": [
       "0.6229016948897019"
      ]
     },
     "execution_count": 35,
     "metadata": {},
     "output_type": "execute_result"
    }
   ],
   "source": [
    "# using seed() to seed a random number\n",
    "random.seed(5)\n",
    "random.random() #always fixed no  with seet"
   ]
  },
  {
   "cell_type": "code",
   "execution_count": 47,
   "id": "e97cd7a9",
   "metadata": {},
   "outputs": [
    {
     "data": {
      "text/plain": [
       "[15, 22, 29, 12, 14]"
      ]
     },
     "execution_count": 47,
     "metadata": {},
     "output_type": "execute_result"
    }
   ],
   "source": [
    "#Generate 5 random numbers between 10 and 30\n",
    "random.sample(range(10, 30), 5)"
   ]
  },
  {
   "cell_type": "code",
   "execution_count": null,
   "id": "455a1534",
   "metadata": {},
   "outputs": [],
   "source": []
  }
 ],
 "metadata": {
  "kernelspec": {
   "display_name": "Python 3 (ipykernel)",
   "language": "python",
   "name": "python3"
  },
  "language_info": {
   "codemirror_mode": {
    "name": "ipython",
    "version": 3
   },
   "file_extension": ".py",
   "mimetype": "text/x-python",
   "name": "python",
   "nbconvert_exporter": "python",
   "pygments_lexer": "ipython3",
   "version": "3.9.13"
  }
 },
 "nbformat": 4,
 "nbformat_minor": 5
}
