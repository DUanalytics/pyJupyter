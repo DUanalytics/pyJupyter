{
 "cells": [
  {
   "cell_type": "code",
   "execution_count": null,
   "id": "17f0f6fb",
   "metadata": {},
   "outputs": [],
   "source": [
    "# DO5 Logistic Regression\n"
   ]
  },
  {
   "cell_type": "code",
   "execution_count": 1,
   "id": "e8528f33",
   "metadata": {},
   "outputs": [],
   "source": [
    "#libraries\n",
    "import pandas as pd\n",
    "import numpy as np\n",
    "import matplotlib.pyplot as plt \n",
    "from sklearn.linear_model import LogisticRegression\n",
    "from sklearn.model_selection import train_test_split\n",
    "import seaborn as sns"
   ]
  },
  {
   "cell_type": "code",
   "execution_count": 3,
   "id": "efe4b064",
   "metadata": {},
   "outputs": [],
   "source": [
    "dataLink ='https://raw.githubusercontent.com/DUanalytics/pyJupyter/master/data/purchaseData.csv'"
   ]
  },
  {
   "cell_type": "code",
   "execution_count": 4,
   "id": "87da452c",
   "metadata": {},
   "outputs": [
    {
     "data": {
      "text/plain": [
       "(19, 5)"
      ]
     },
     "execution_count": 4,
     "metadata": {},
     "output_type": "execute_result"
    }
   ],
   "source": [
    "df = pd.read_csv(dataLink)\n",
    "df.shape"
   ]
  },
  {
   "cell_type": "code",
   "execution_count": 5,
   "id": "f5c1ae46",
   "metadata": {},
   "outputs": [
    {
     "data": {
      "text/plain": [
       "Index(['userID', 'gender', 'age', 'salary', 'purchased'], dtype='object')"
      ]
     },
     "execution_count": 5,
     "metadata": {},
     "output_type": "execute_result"
    }
   ],
   "source": [
    "df.columns"
   ]
  },
  {
   "cell_type": "code",
   "execution_count": 7,
   "id": "d1c28b16",
   "metadata": {},
   "outputs": [
    {
     "data": {
      "text/html": [
       "<div>\n",
       "<style scoped>\n",
       "    .dataframe tbody tr th:only-of-type {\n",
       "        vertical-align: middle;\n",
       "    }\n",
       "\n",
       "    .dataframe tbody tr th {\n",
       "        vertical-align: top;\n",
       "    }\n",
       "\n",
       "    .dataframe thead th {\n",
       "        text-align: right;\n",
       "    }\n",
       "</style>\n",
       "<table border=\"1\" class=\"dataframe\">\n",
       "  <thead>\n",
       "    <tr style=\"text-align: right;\">\n",
       "      <th></th>\n",
       "      <th>userID</th>\n",
       "      <th>age</th>\n",
       "      <th>salary</th>\n",
       "      <th>purchased</th>\n",
       "    </tr>\n",
       "  </thead>\n",
       "  <tbody>\n",
       "    <tr>\n",
       "      <th>count</th>\n",
       "      <td>1.900000e+01</td>\n",
       "      <td>19.000000</td>\n",
       "      <td>19.000000</td>\n",
       "      <td>19.000000</td>\n",
       "    </tr>\n",
       "    <tr>\n",
       "      <th>mean</th>\n",
       "      <td>1.567745e+07</td>\n",
       "      <td>29.526316</td>\n",
       "      <td>56947.368421</td>\n",
       "      <td>0.210526</td>\n",
       "    </tr>\n",
       "    <tr>\n",
       "      <th>std</th>\n",
       "      <td>7.151572e+04</td>\n",
       "      <td>8.852924</td>\n",
       "      <td>33569.949664</td>\n",
       "      <td>0.418854</td>\n",
       "    </tr>\n",
       "    <tr>\n",
       "      <th>min</th>\n",
       "      <td>1.557077e+07</td>\n",
       "      <td>18.000000</td>\n",
       "      <td>18000.000000</td>\n",
       "      <td>0.000000</td>\n",
       "    </tr>\n",
       "    <tr>\n",
       "      <th>25%</th>\n",
       "      <td>1.561188e+07</td>\n",
       "      <td>25.500000</td>\n",
       "      <td>27000.000000</td>\n",
       "      <td>0.000000</td>\n",
       "    </tr>\n",
       "    <tr>\n",
       "      <th>50%</th>\n",
       "      <td>1.569483e+07</td>\n",
       "      <td>27.000000</td>\n",
       "      <td>57000.000000</td>\n",
       "      <td>0.000000</td>\n",
       "    </tr>\n",
       "    <tr>\n",
       "      <th>75%</th>\n",
       "      <td>1.572804e+07</td>\n",
       "      <td>33.500000</td>\n",
       "      <td>80000.000000</td>\n",
       "      <td>0.000000</td>\n",
       "    </tr>\n",
       "    <tr>\n",
       "      <th>max</th>\n",
       "      <td>1.581094e+07</td>\n",
       "      <td>47.000000</td>\n",
       "      <td>150000.000000</td>\n",
       "      <td>1.000000</td>\n",
       "    </tr>\n",
       "  </tbody>\n",
       "</table>\n",
       "</div>"
      ],
      "text/plain": [
       "             userID        age         salary  purchased\n",
       "count  1.900000e+01  19.000000      19.000000  19.000000\n",
       "mean   1.567745e+07  29.526316   56947.368421   0.210526\n",
       "std    7.151572e+04   8.852924   33569.949664   0.418854\n",
       "min    1.557077e+07  18.000000   18000.000000   0.000000\n",
       "25%    1.561188e+07  25.500000   27000.000000   0.000000\n",
       "50%    1.569483e+07  27.000000   57000.000000   0.000000\n",
       "75%    1.572804e+07  33.500000   80000.000000   0.000000\n",
       "max    1.581094e+07  47.000000  150000.000000   1.000000"
      ]
     },
     "execution_count": 7,
     "metadata": {},
     "output_type": "execute_result"
    }
   ],
   "source": [
    "df.describe()"
   ]
  },
  {
   "cell_type": "code",
   "execution_count": 8,
   "id": "607c2ed9",
   "metadata": {},
   "outputs": [
    {
     "data": {
      "text/html": [
       "<div>\n",
       "<style scoped>\n",
       "    .dataframe tbody tr th:only-of-type {\n",
       "        vertical-align: middle;\n",
       "    }\n",
       "\n",
       "    .dataframe tbody tr th {\n",
       "        vertical-align: top;\n",
       "    }\n",
       "\n",
       "    .dataframe thead th {\n",
       "        text-align: right;\n",
       "    }\n",
       "</style>\n",
       "<table border=\"1\" class=\"dataframe\">\n",
       "  <thead>\n",
       "    <tr style=\"text-align: right;\">\n",
       "      <th></th>\n",
       "      <th>userID</th>\n",
       "      <th>gender</th>\n",
       "      <th>age</th>\n",
       "      <th>salary</th>\n",
       "      <th>purchased</th>\n",
       "    </tr>\n",
       "  </thead>\n",
       "  <tbody>\n",
       "    <tr>\n",
       "      <th>0</th>\n",
       "      <td>15624510</td>\n",
       "      <td>Male</td>\n",
       "      <td>19</td>\n",
       "      <td>19000</td>\n",
       "      <td>0</td>\n",
       "    </tr>\n",
       "    <tr>\n",
       "      <th>1</th>\n",
       "      <td>15810944</td>\n",
       "      <td>Male</td>\n",
       "      <td>35</td>\n",
       "      <td>20000</td>\n",
       "      <td>0</td>\n",
       "    </tr>\n",
       "    <tr>\n",
       "      <th>2</th>\n",
       "      <td>15668575</td>\n",
       "      <td>Female</td>\n",
       "      <td>26</td>\n",
       "      <td>43000</td>\n",
       "      <td>0</td>\n",
       "    </tr>\n",
       "    <tr>\n",
       "      <th>3</th>\n",
       "      <td>15603246</td>\n",
       "      <td>Female</td>\n",
       "      <td>27</td>\n",
       "      <td>57000</td>\n",
       "      <td>0</td>\n",
       "    </tr>\n",
       "    <tr>\n",
       "      <th>4</th>\n",
       "      <td>15804002</td>\n",
       "      <td>Male</td>\n",
       "      <td>19</td>\n",
       "      <td>76000</td>\n",
       "      <td>0</td>\n",
       "    </tr>\n",
       "  </tbody>\n",
       "</table>\n",
       "</div>"
      ],
      "text/plain": [
       "     userID  gender  age  salary  purchased\n",
       "0  15624510    Male   19   19000          0\n",
       "1  15810944    Male   35   20000          0\n",
       "2  15668575  Female   26   43000          0\n",
       "3  15603246  Female   27   57000          0\n",
       "4  15804002    Male   19   76000          0"
      ]
     },
     "execution_count": 8,
     "metadata": {},
     "output_type": "execute_result"
    }
   ],
   "source": [
    "df.head()"
   ]
  },
  {
   "cell_type": "markdown",
   "id": "5f950b50",
   "metadata": {},
   "source": [
    "we will select numerical columns age & salary to predict if customer will buy the product(1) or not(0)"
   ]
  },
  {
   "cell_type": "code",
   "execution_count": 9,
   "id": "68334560",
   "metadata": {},
   "outputs": [
    {
     "name": "stdout",
     "output_type": "stream",
     "text": [
      "    age  salary  purchased\n",
      "0    19   19000          0\n",
      "1    35   20000          0\n",
      "2    26   43000          0\n",
      "3    27   57000          0\n",
      "4    19   76000          0\n",
      "5    27   58000          0\n",
      "6    27   84000          0\n",
      "7    32  150000          1\n",
      "8    25   33000          0\n",
      "9    35   65000          0\n",
      "10   26   80000          0\n",
      "11   26   52000          0\n",
      "12   20   86000          0\n",
      "13   32   18000          0\n",
      "14   18   82000          0\n",
      "15   29   80000          0\n",
      "16   47   25000          1\n",
      "17   45   26000          1\n",
      "18   46   28000          1\n"
     ]
    }
   ],
   "source": [
    "X = df[['age', 'salary']]\n",
    "y = df.purchased\n",
    "print(pd.concat([X, y], axis=1))"
   ]
  },
  {
   "cell_type": "code",
   "execution_count": null,
   "id": "f355145b",
   "metadata": {},
   "outputs": [],
   "source": [
    "# Split the data into train and test"
   ]
  },
  {
   "cell_type": "code",
   "execution_count": 11,
   "id": "0c38e1bc",
   "metadata": {},
   "outputs": [],
   "source": [
    "from sklearn.model_selection import train_test_split\n",
    "X_train, X_test, y_train, y_test = train_test_split(X, y, test_size = 0.25, random_state = 0)"
   ]
  },
  {
   "cell_type": "code",
   "execution_count": 12,
   "id": "879d2ced",
   "metadata": {},
   "outputs": [
    {
     "name": "stdout",
     "output_type": "stream",
     "text": [
      "(14, 2) (5, 2) (14,) (5,)\n"
     ]
    }
   ],
   "source": [
    "print(X_train.shape, X_test.shape, y_train.shape, y_test.shape)"
   ]
  },
  {
   "cell_type": "markdown",
   "id": "24b72ecc",
   "metadata": {},
   "source": [
    "it is very important to perform feature scaling here because Age and Salary values lie in different ranges. If we don’t scale the features then the Salary feature will dominate the Age feature when the model finds the nearest neighbor to a data point in the data space."
   ]
  },
  {
   "cell_type": "code",
   "execution_count": 13,
   "id": "db942110",
   "metadata": {},
   "outputs": [],
   "source": [
    "from sklearn.preprocessing import StandardScaler\n",
    "sc_x = StandardScaler()\n",
    "XS_train = sc_x.fit_transform(X_train) \n",
    "XS_test = sc_x.transform(X_test)\n",
    "#Age and Estimated salary features values are scaled and now there in the -1 to 1. \n",
    "#Hence, each feature will contribute equally to decision making i.e. finalizing the hypothesis. "
   ]
  },
  {
   "cell_type": "code",
   "execution_count": 21,
   "id": "bddcede3",
   "metadata": {},
   "outputs": [
    {
     "name": "stdout",
     "output_type": "stream",
     "text": [
      "[[ 2.149452   -1.02601437]\n",
      " [-0.28717375  0.70708966]\n",
      " [-1.26182405  0.4720925 ]\n",
      " [-0.40900504 -0.49727077]\n",
      " [-0.28717375 -0.0566511 ]\n",
      " [ 0.32198269 -1.23163688]\n",
      " [ 0.68747655  0.14897141]\n",
      " [ 0.32198269  2.6458162 ]\n",
      " [ 1.90578942 -0.99663973]\n",
      " [-0.40900504 -0.23289897]\n",
      " [-0.28717375 -0.08602574]\n",
      " [-1.26182405 -1.20226224]\n",
      " [-0.04351117  0.58959108]\n",
      " [-1.13999276  0.76583895]]\n",
      "<class 'numpy.ndarray'>\n"
     ]
    }
   ],
   "source": [
    "print(XS_train)\n",
    "print(type(XS_train))"
   ]
  },
  {
   "cell_type": "code",
   "execution_count": 17,
   "id": "2ea50798",
   "metadata": {},
   "outputs": [
    {
     "data": {
      "text/html": [
       "<style>#sk-container-id-1 {color: black;background-color: white;}#sk-container-id-1 pre{padding: 0;}#sk-container-id-1 div.sk-toggleable {background-color: white;}#sk-container-id-1 label.sk-toggleable__label {cursor: pointer;display: block;width: 100%;margin-bottom: 0;padding: 0.3em;box-sizing: border-box;text-align: center;}#sk-container-id-1 label.sk-toggleable__label-arrow:before {content: \"▸\";float: left;margin-right: 0.25em;color: #696969;}#sk-container-id-1 label.sk-toggleable__label-arrow:hover:before {color: black;}#sk-container-id-1 div.sk-estimator:hover label.sk-toggleable__label-arrow:before {color: black;}#sk-container-id-1 div.sk-toggleable__content {max-height: 0;max-width: 0;overflow: hidden;text-align: left;background-color: #f0f8ff;}#sk-container-id-1 div.sk-toggleable__content pre {margin: 0.2em;color: black;border-radius: 0.25em;background-color: #f0f8ff;}#sk-container-id-1 input.sk-toggleable__control:checked~div.sk-toggleable__content {max-height: 200px;max-width: 100%;overflow: auto;}#sk-container-id-1 input.sk-toggleable__control:checked~label.sk-toggleable__label-arrow:before {content: \"▾\";}#sk-container-id-1 div.sk-estimator input.sk-toggleable__control:checked~label.sk-toggleable__label {background-color: #d4ebff;}#sk-container-id-1 div.sk-label input.sk-toggleable__control:checked~label.sk-toggleable__label {background-color: #d4ebff;}#sk-container-id-1 input.sk-hidden--visually {border: 0;clip: rect(1px 1px 1px 1px);clip: rect(1px, 1px, 1px, 1px);height: 1px;margin: -1px;overflow: hidden;padding: 0;position: absolute;width: 1px;}#sk-container-id-1 div.sk-estimator {font-family: monospace;background-color: #f0f8ff;border: 1px dotted black;border-radius: 0.25em;box-sizing: border-box;margin-bottom: 0.5em;}#sk-container-id-1 div.sk-estimator:hover {background-color: #d4ebff;}#sk-container-id-1 div.sk-parallel-item::after {content: \"\";width: 100%;border-bottom: 1px solid gray;flex-grow: 1;}#sk-container-id-1 div.sk-label:hover label.sk-toggleable__label {background-color: #d4ebff;}#sk-container-id-1 div.sk-serial::before {content: \"\";position: absolute;border-left: 1px solid gray;box-sizing: border-box;top: 0;bottom: 0;left: 50%;z-index: 0;}#sk-container-id-1 div.sk-serial {display: flex;flex-direction: column;align-items: center;background-color: white;padding-right: 0.2em;padding-left: 0.2em;position: relative;}#sk-container-id-1 div.sk-item {position: relative;z-index: 1;}#sk-container-id-1 div.sk-parallel {display: flex;align-items: stretch;justify-content: center;background-color: white;position: relative;}#sk-container-id-1 div.sk-item::before, #sk-container-id-1 div.sk-parallel-item::before {content: \"\";position: absolute;border-left: 1px solid gray;box-sizing: border-box;top: 0;bottom: 0;left: 50%;z-index: -1;}#sk-container-id-1 div.sk-parallel-item {display: flex;flex-direction: column;z-index: 1;position: relative;background-color: white;}#sk-container-id-1 div.sk-parallel-item:first-child::after {align-self: flex-end;width: 50%;}#sk-container-id-1 div.sk-parallel-item:last-child::after {align-self: flex-start;width: 50%;}#sk-container-id-1 div.sk-parallel-item:only-child::after {width: 0;}#sk-container-id-1 div.sk-dashed-wrapped {border: 1px dashed gray;margin: 0 0.4em 0.5em 0.4em;box-sizing: border-box;padding-bottom: 0.4em;background-color: white;}#sk-container-id-1 div.sk-label label {font-family: monospace;font-weight: bold;display: inline-block;line-height: 1.2em;}#sk-container-id-1 div.sk-label-container {text-align: center;}#sk-container-id-1 div.sk-container {/* jupyter's `normalize.less` sets `[hidden] { display: none; }` but bootstrap.min.css set `[hidden] { display: none !important; }` so we also need the `!important` here to be able to override the default hidden behavior on the sphinx rendered scikit-learn.org. See: https://github.com/scikit-learn/scikit-learn/issues/21755 */display: inline-block !important;position: relative;}#sk-container-id-1 div.sk-text-repr-fallback {display: none;}</style><div id=\"sk-container-id-1\" class=\"sk-top-container\"><div class=\"sk-text-repr-fallback\"><pre>LogisticRegression(random_state=0)</pre><b>In a Jupyter environment, please rerun this cell to show the HTML representation or trust the notebook. <br />On GitHub, the HTML representation is unable to render, please try loading this page with nbviewer.org.</b></div><div class=\"sk-container\" hidden><div class=\"sk-item\"><div class=\"sk-estimator sk-toggleable\"><input class=\"sk-toggleable__control sk-hidden--visually\" id=\"sk-estimator-id-1\" type=\"checkbox\" checked><label for=\"sk-estimator-id-1\" class=\"sk-toggleable__label sk-toggleable__label-arrow\">LogisticRegression</label><div class=\"sk-toggleable__content\"><pre>LogisticRegression(random_state=0)</pre></div></div></div></div></div>"
      ],
      "text/plain": [
       "LogisticRegression(random_state=0)"
      ]
     },
     "execution_count": 17,
     "metadata": {},
     "output_type": "execute_result"
    }
   ],
   "source": [
    "from sklearn.linear_model import LogisticRegression\n",
    "classifier = LogisticRegression(random_state = 0)\n",
    "classifier.fit(XS_train, y_train)"
   ]
  },
  {
   "cell_type": "code",
   "execution_count": 18,
   "id": "34b22397",
   "metadata": {},
   "outputs": [],
   "source": [
    "y_pred = classifier.predict(XS_test)"
   ]
  },
  {
   "cell_type": "code",
   "execution_count": null,
   "id": "beb91ec3",
   "metadata": {},
   "outputs": [],
   "source": [
    "#test the performance of our model – Confusion Matrix "
   ]
  },
  {
   "cell_type": "code",
   "execution_count": 19,
   "id": "bd0b4b5e",
   "metadata": {},
   "outputs": [
    {
     "name": "stdout",
     "output_type": "stream",
     "text": [
      "Confusion Matrix : \n",
      " [[4 0]\n",
      " [0 1]]\n"
     ]
    }
   ],
   "source": [
    "from sklearn.metrics import confusion_matrix\n",
    "cm = confusion_matrix(y_test, y_pred)\n",
    "print (\"Confusion Matrix : \\n\", cm)"
   ]
  },
  {
   "cell_type": "markdown",
   "id": "1616d0a0",
   "metadata": {},
   "source": [
    "Out of 5 : \n",
    "True Positive + True Negative = 4 + 1 \n",
    "False Positive + False Negative = 0 + 0\n",
    "Performance measure – Accuracy "
   ]
  },
  {
   "cell_type": "code",
   "execution_count": 20,
   "id": "c8033fbd",
   "metadata": {},
   "outputs": [
    {
     "name": "stdout",
     "output_type": "stream",
     "text": [
      "Accuracy :  1.0\n"
     ]
    }
   ],
   "source": [
    "from sklearn.metrics import accuracy_score\n",
    "print (\"Accuracy : \", accuracy_score(y_test, y_pred))"
   ]
  },
  {
   "cell_type": "code",
   "execution_count": 32,
   "id": "e9bd5539",
   "metadata": {},
   "outputs": [
    {
     "name": "stdout",
     "output_type": "stream",
     "text": [
      "    age  salary  purchased\n",
      "10   26   80000          0\n",
      "1    35   20000          0\n",
      "8    25   33000          0\n",
      "18   46   28000          1\n",
      "14   18   82000          0\n",
      "[0 0 0 1 0]\n"
     ]
    }
   ],
   "source": [
    "print(pd.concat([X_test, y_test], axis=1))\n",
    "print(y_pred)"
   ]
  },
  {
   "cell_type": "markdown",
   "id": "5422d8dd",
   "metadata": {},
   "source": [
    "XSDF_train = pd.DataFrame(XS_train, columns = ['age','salary'])\n",
    "XSDF_test = pd.DataFrame(XS_test, columns = ['age','salary'])\n",
    "yDF_test = pd.DataFrame(y_test, columns = ['predicted'])"
   ]
  },
  {
   "cell_type": "code",
   "execution_count": null,
   "id": "94689a2b",
   "metadata": {},
   "outputs": [],
   "source": [
    "## using stats model"
   ]
  },
  {
   "cell_type": "code",
   "execution_count": 36,
   "id": "bd24dc34",
   "metadata": {},
   "outputs": [],
   "source": [
    "import statsmodels.api as sm"
   ]
  },
  {
   "cell_type": "code",
   "execution_count": 37,
   "id": "f3e1d1a2",
   "metadata": {},
   "outputs": [
    {
     "name": "stdout",
     "output_type": "stream",
     "text": [
      "Optimization terminated successfully.\n",
      "         Current function value: 0.399719\n",
      "         Iterations 7\n"
     ]
    }
   ],
   "source": [
    "log_reg = sm.Logit(y_train, XS_train).fit()"
   ]
  },
  {
   "cell_type": "markdown",
   "id": "fccce611",
   "metadata": {},
   "source": [
    "Iterations refer to the number of times the model iterates over the data, trying to optimize the model."
   ]
  },
  {
   "cell_type": "code",
   "execution_count": 38,
   "id": "798925d4",
   "metadata": {},
   "outputs": [
    {
     "name": "stdout",
     "output_type": "stream",
     "text": [
      "                           Logit Regression Results                           \n",
      "==============================================================================\n",
      "Dep. Variable:              purchased   No. Observations:                   14\n",
      "Model:                          Logit   Df Residuals:                       12\n",
      "Method:                           MLE   Df Model:                            1\n",
      "Date:                Sun, 26 Feb 2023   Pseudo R-squ.:                  0.2307\n",
      "Time:                        19:51:04   Log-Likelihood:                -5.5961\n",
      "converged:                       True   LL-Null:                       -7.2741\n",
      "Covariance Type:            nonrobust   LLR p-value:                   0.06696\n",
      "==============================================================================\n",
      "                 coef    std err          z      P>|z|      [0.025      0.975]\n",
      "------------------------------------------------------------------------------\n",
      "x1             2.5989      1.467      1.772      0.076      -0.276       5.474\n",
      "x2             0.7946      0.993      0.800      0.424      -1.152       2.741\n",
      "==============================================================================\n"
     ]
    }
   ],
   "source": [
    "print(log_reg.summary())"
   ]
  },
  {
   "cell_type": "markdown",
   "id": "21aa4e2f",
   "metadata": {},
   "source": [
    "Explanation of some of the terms in the summary table:\n",
    "- coef : the coefficients of the independent variables in the regression equation.\n",
    "- Log-Likelihood : the natural logarithm of the Maximum Likelihood Estimation(MLE) function. MLE is the optimization process of finding the set of parameters that result in the best fit.\n",
    "- LL-Null : the value of log-likelihood of the model when no independent variable is included(only an intercept is included).\n",
    "- Pseudo R-squ. : a substitute for the R-squared value in Least Squares linear regression. It is the ratio of the log-likelihood of the null model to that of the full model."
   ]
  },
  {
   "cell_type": "code",
   "execution_count": 41,
   "id": "87ac1a77",
   "metadata": {},
   "outputs": [
    {
     "name": "stdout",
     "output_type": "stream",
     "text": [
      "10    1.0\n",
      "1     1.0\n",
      "8     1.0\n",
      "18    1.0\n",
      "14    1.0\n",
      "dtype: float64\n"
     ]
    }
   ],
   "source": [
    "yhat = log_reg.predict(X_test)\n",
    "prediction = list(map(round, yhat))\n",
    "print(yhat)"
   ]
  },
  {
   "cell_type": "code",
   "execution_count": 40,
   "id": "7aefcca8",
   "metadata": {},
   "outputs": [
    {
     "name": "stdout",
     "output_type": "stream",
     "text": [
      "Actual values [0, 0, 0, 1, 0]\n",
      "Predictions : [1, 1, 1, 1, 1]\n"
     ]
    }
   ],
   "source": [
    "# comparing original and predicted values of y\n",
    "print('Actual values', list(y_test.values))\n",
    "print('Predictions :', prediction)"
   ]
  },
  {
   "cell_type": "code",
   "execution_count": null,
   "id": "d00ca42d",
   "metadata": {},
   "outputs": [],
   "source": [
    "from sklearn.metrics import (confusion_matrix, accuracy_score)"
   ]
  },
  {
   "cell_type": "code",
   "execution_count": 42,
   "id": "bada18b7",
   "metadata": {},
   "outputs": [
    {
     "name": "stdout",
     "output_type": "stream",
     "text": [
      "Confusion Matrix : \n",
      " [[0 4]\n",
      " [0 1]]\n",
      "Test accuracy =  0.2\n"
     ]
    }
   ],
   "source": [
    "# confusion matrix\n",
    "cm = confusion_matrix(y_test, prediction) \n",
    "print (\"Confusion Matrix : \\n\", cm) \n",
    "  \n",
    "# accuracy score of the model\n",
    "print('Test accuracy = ', accuracy_score(y_test, prediction))"
   ]
  },
  {
   "cell_type": "markdown",
   "id": "17e72209",
   "metadata": {},
   "source": [
    "## end of topic\n",
    "https://www.geeksforgeeks.org/ml-logistic-regression-using-python/"
   ]
  },
  {
   "cell_type": "code",
   "execution_count": null,
   "id": "986ebfac",
   "metadata": {},
   "outputs": [],
   "source": []
  },
  {
   "cell_type": "code",
   "execution_count": null,
   "id": "4526a586",
   "metadata": {},
   "outputs": [],
   "source": []
  },
  {
   "cell_type": "code",
   "execution_count": null,
   "id": "3ebcb94d",
   "metadata": {},
   "outputs": [],
   "source": []
  },
  {
   "cell_type": "code",
   "execution_count": null,
   "id": "8a0c0ff5",
   "metadata": {},
   "outputs": [],
   "source": []
  }
 ],
 "metadata": {
  "kernelspec": {
   "display_name": "Python 3 (ipykernel)",
   "language": "python",
   "name": "python3"
  },
  "language_info": {
   "codemirror_mode": {
    "name": "ipython",
    "version": 3
   },
   "file_extension": ".py",
   "mimetype": "text/x-python",
   "name": "python",
   "nbconvert_exporter": "python",
   "pygments_lexer": "ipython3",
   "version": "3.9.13"
  }
 },
 "nbformat": 4,
 "nbformat_minor": 5
}
