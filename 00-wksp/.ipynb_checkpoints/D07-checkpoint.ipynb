{
 "cells": [
  {
   "cell_type": "markdown",
   "id": "e254e111",
   "metadata": {},
   "source": [
    "# D07 Train/Test/ Sampling/ Random Nos\n",
    "Overfitting happens when the machine learning model memorizes the pattern in the training data to such an extent that it fails to classify unseen data. The noise or fluctuations in the training data is seen as features and learned by the model. This leads to the model outperforming in the training set but poor performance in the validation and testing sets.\n",
    "Train & Test Set\n",
    "- Training set—a subset to train a model.\n",
    "- Test set—a subset to test accuracy of the trained model. Never train on test data. \n",
    "- Generall 75% for training, and 25% for testing.\n",
    "\n",
    "- Sampling\n",
    "- Random numbers"
   ]
  },
  {
   "cell_type": "code",
   "execution_count": 1,
   "id": "3152c208",
   "metadata": {},
   "outputs": [],
   "source": [
    "# libraries\n",
    "import pandas as pd\n",
    "import numpy as np\n",
    "from pydataset import data"
   ]
  },
  {
   "cell_type": "code",
   "execution_count": 2,
   "id": "83ca214c",
   "metadata": {},
   "outputs": [
    {
     "name": "stdout",
     "output_type": "stream",
     "text": [
      "0.640791121050464\n"
     ]
    }
   ],
   "source": [
    "import random\n",
    "print(random.random())"
   ]
  },
  {
   "cell_type": "code",
   "execution_count": 3,
   "id": "9152ad6e",
   "metadata": {},
   "outputs": [
    {
     "name": "stdout",
     "output_type": "stream",
     "text": [
      "i\n"
     ]
    }
   ],
   "source": [
    "string = \"Dhiraj Upadhyaya\"\n",
    "print(random.choice(string))\n",
    "#random character from string"
   ]
  },
  {
   "cell_type": "code",
   "execution_count": 4,
   "id": "61b4f092",
   "metadata": {},
   "outputs": [],
   "source": [
    "courses = ['BBA','BA','BCom', 'MBA', 'MTech', 'Phd']\n",
    "numbers = [1, 4, 8, 10, 3]"
   ]
  },
  {
   "cell_type": "code",
   "execution_count": 5,
   "id": "e6bdc7f4",
   "metadata": {},
   "outputs": [
    {
     "data": {
      "text/plain": [
       "'MTech'"
      ]
     },
     "execution_count": 5,
     "metadata": {},
     "output_type": "execute_result"
    }
   ],
   "source": [
    "random.choice(courses)"
   ]
  },
  {
   "cell_type": "code",
   "execution_count": 6,
   "id": "98594dbc",
   "metadata": {},
   "outputs": [
    {
     "data": {
      "text/plain": [
       "10"
      ]
     },
     "execution_count": 6,
     "metadata": {},
     "output_type": "execute_result"
    }
   ],
   "source": [
    "random.choice(numbers)"
   ]
  },
  {
   "cell_type": "code",
   "execution_count": 7,
   "id": "c080810f",
   "metadata": {},
   "outputs": [
    {
     "data": {
      "text/plain": [
       "['MTech', 'BA', 'MBA', 'BCom', 'BBA', 'Phd']"
      ]
     },
     "execution_count": 7,
     "metadata": {},
     "output_type": "execute_result"
    }
   ],
   "source": [
    "random.shuffle(courses)\n",
    "courses"
   ]
  },
  {
   "cell_type": "code",
   "execution_count": 8,
   "id": "13e041aa",
   "metadata": {},
   "outputs": [
    {
     "data": {
      "text/plain": [
       "39"
      ]
     },
     "execution_count": 8,
     "metadata": {},
     "output_type": "execute_result"
    }
   ],
   "source": [
    "random.seed(5)\n",
    "random.randrange(20, 50)\n",
    "#random number between 20 & 50"
   ]
  },
  {
   "cell_type": "code",
   "execution_count": 9,
   "id": "6ae08108",
   "metadata": {},
   "outputs": [
    {
     "data": {
      "text/plain": [
       "47"
      ]
     },
     "execution_count": 9,
     "metadata": {},
     "output_type": "execute_result"
    }
   ],
   "source": [
    "random.seed(5)\n",
    "random.randrange(20, 50, 3)\n",
    "#random number between 20 & 50 & skip 3 numbers when selecting\n",
    "#random.randrange(start, stop[, step])"
   ]
  },
  {
   "cell_type": "code",
   "execution_count": 10,
   "id": "84a3df48",
   "metadata": {},
   "outputs": [
    {
     "data": {
      "text/plain": [
       "['MBA', 'Phd']"
      ]
     },
     "execution_count": 10,
     "metadata": {},
     "output_type": "execute_result"
    }
   ],
   "source": [
    "random.sample(courses,2)"
   ]
  },
  {
   "cell_type": "code",
   "execution_count": 11,
   "id": "264af5ae",
   "metadata": {},
   "outputs": [
    {
     "data": {
      "text/plain": [
       "0.6229016948897019"
      ]
     },
     "execution_count": 11,
     "metadata": {},
     "output_type": "execute_result"
    }
   ],
   "source": [
    "# using seed() to seed a random number\n",
    "random.seed(5)\n",
    "random.random() #always fixed no  with seed"
   ]
  },
  {
   "cell_type": "code",
   "execution_count": 12,
   "id": "83ba7355",
   "metadata": {},
   "outputs": [
    {
     "data": {
      "text/plain": [
       "[21, 26, 10, 24, 17]"
      ]
     },
     "execution_count": 12,
     "metadata": {},
     "output_type": "execute_result"
    }
   ],
   "source": [
    "#Generate 5 random numbers between 10 and 30\n",
    "random.sample(range(10, 30), 5)"
   ]
  },
  {
   "cell_type": "code",
   "execution_count": 48,
   "id": "31abfad7",
   "metadata": {},
   "outputs": [
    {
     "name": "stdout",
     "output_type": "stream",
     "text": [
      "['cherry', 'apple', 'banana', 'cherry', 'cherry', 'apple', 'apple', 'banana', 'banana', 'apple']\n"
     ]
    }
   ],
   "source": [
    "mylist = [\"apple\", \"banana\", \"cherry\"]\n",
    "print(random.choices(mylist, weights = [3, 2, 1], k = 10))\n",
    "#method returns a list with the randomly selected element from the specified sequence.\n",
    "#You can weigh the possibility of each result with the weights parameter or the cum_weights parameter.\n",
    "#The sequence can be a string, a range, a list, a tuple or any other kind of sequence."
   ]
  },
  {
   "cell_type": "code",
   "execution_count": 50,
   "id": "a5b8d735",
   "metadata": {},
   "outputs": [
    {
     "name": "stdout",
     "output_type": "stream",
     "text": [
      "['cherry', 'banana', 'apple', 'apple', 'apple', 'apple', 'apple', 'banana', 'cherry', 'apple']\n"
     ]
    }
   ],
   "source": [
    "print(random.choices(mylist, cum_weights = [3, 5, 6], k = 10))\n",
    "#eq to 3, 3+2, 3+2+1"
   ]
  },
  {
   "cell_type": "code",
   "execution_count": 54,
   "id": "632c338d",
   "metadata": {},
   "outputs": [
    {
     "name": "stdout",
     "output_type": "stream",
     "text": [
      "['banana', 'apple', 'apple', 'apple', 'apple', 'apple', 'cherry', 'cherry', 'banana', 'apple']\n",
      "banana: 2\n",
      "apple: 6\n",
      "cherry: 2\n"
     ]
    }
   ],
   "source": [
    "randChoice1 = random.choices(mylist, cum_weights = [3, 5, 6], k = 10)\n",
    "print(randChoice1)\n",
    "import collections\n",
    "elements_count = collections.Counter(randChoice1)\n",
    "for key, value in elements_count.items():    print(f\"{key}: {value}\")\n",
    "#not every time the values will be same"
   ]
  },
  {
   "cell_type": "markdown",
   "id": "82c8bcb6",
   "metadata": {},
   "source": [
    "### numpy - random"
   ]
  },
  {
   "cell_type": "code",
   "execution_count": 15,
   "id": "63d0680c",
   "metadata": {},
   "outputs": [
    {
     "data": {
      "text/plain": [
       "array([0.55651631, 0.92834547, 0.28381007, 0.88585477, 0.90665076,\n",
       "       0.42137041, 0.64760468, 0.93945577, 0.09760939, 0.60302803])"
      ]
     },
     "execution_count": 15,
     "metadata": {},
     "output_type": "execute_result"
    }
   ],
   "source": [
    "np.random.rand(10)\n",
    "#10 values between 0 and 1"
   ]
  },
  {
   "cell_type": "code",
   "execution_count": 16,
   "id": "a426d1ef",
   "metadata": {},
   "outputs": [
    {
     "data": {
      "text/plain": [
       "array([86, 21, 95, 30, 84, 47,  6,  2, 26, 33, 70, 13, 79, 88, 94, 92, 49,\n",
       "       81, 22, 87])"
      ]
     },
     "execution_count": 16,
     "metadata": {},
     "output_type": "execute_result"
    }
   ],
   "source": [
    "np.random.randint(0,100,20)\n",
    "#20 random integers between 0 and 100"
   ]
  },
  {
   "cell_type": "code",
   "execution_count": 17,
   "id": "bcc73d44",
   "metadata": {},
   "outputs": [
    {
     "data": {
      "text/plain": [
       "array([24.75373474, 22.0875269 , 28.56546792, 23.82675564, 25.43892339,\n",
       "       26.70610925, 24.82527885, 23.40217288, 24.95217768, 25.3156713 ,\n",
       "       24.35300238, 27.51583616, 24.09294827, 28.03416791, 30.41823059,\n",
       "       24.8984813 , 28.56596023, 27.07328917, 22.72591181, 26.5631727 ])"
      ]
     },
     "execution_count": 17,
     "metadata": {},
     "output_type": "execute_result"
    }
   ],
   "source": [
    "np.random.normal(loc=25, scale=2, size=20)\n",
    "#normally distributed numbers : mean = 25, std 2, n=2"
   ]
  },
  {
   "cell_type": "code",
   "execution_count": 18,
   "id": "c7101afa",
   "metadata": {},
   "outputs": [
    {
     "data": {
      "text/plain": [
       "array(['Phd', 'MBA', 'BA', 'BBA', 'MBA', 'BA', 'MBA', 'Phd', 'BBA', 'MBA',\n",
       "       'BCom', 'BBA', 'BA', 'BBA', 'MBA', 'BBA', 'BBA', 'BCom', 'BA',\n",
       "       'BCom'], dtype='<U5')"
      ]
     },
     "execution_count": 18,
     "metadata": {},
     "output_type": "execute_result"
    }
   ],
   "source": [
    "# random choices\n",
    "courses = ['BBA','BA','BCom', 'MBA', 'MTech', 'Phd']\n",
    "np.random.choice(courses, size=20, replace=True, p = [.2, .1, .2, .3, .1,.1])"
   ]
  },
  {
   "cell_type": "markdown",
   "id": "0677d00a",
   "metadata": {},
   "source": [
    "### Train and Test Set for ML\n",
    "IV as features (X)\n",
    "DV as labels (y)\n",
    "Data gets divided in X_train, y_train, X_test, y_test "
   ]
  },
  {
   "cell_type": "code",
   "execution_count": 19,
   "id": "e3fb68e7",
   "metadata": {},
   "outputs": [],
   "source": [
    "from sklearn.model_selection import train_test_split\n",
    "# options\n",
    "# test _size, train_size, random_state = int value, shuffle, stratify"
   ]
  },
  {
   "cell_type": "code",
   "execution_count": 20,
   "id": "bcd84b2c",
   "metadata": {},
   "outputs": [
    {
     "name": "stdout",
     "output_type": "stream",
     "text": [
      "Few Rows                   mpg  cyl   disp   hp  drat     wt   qsec  vs  am  gear  carb\n",
      "Mazda RX4       21.0    6  160.0  110  3.90  2.620  16.46   0   1     4     4\n",
      "Mazda RX4 Wag   21.0    6  160.0  110  3.90  2.875  17.02   0   1     4     4\n",
      "Datsun 710      22.8    4  108.0   93  3.85  2.320  18.61   1   1     4     1\n",
      "Hornet 4 Drive  21.4    6  258.0  110  3.08  3.215  19.44   1   0     3     1\n",
      "Shape of Data  (32, 11)\n",
      "<class 'pandas.core.frame.DataFrame'>\n",
      "Index: 32 entries, Mazda RX4 to Volvo 142E\n",
      "Data columns (total 11 columns):\n",
      " #   Column  Non-Null Count  Dtype  \n",
      "---  ------  --------------  -----  \n",
      " 0   mpg     32 non-null     float64\n",
      " 1   cyl     32 non-null     int64  \n",
      " 2   disp    32 non-null     float64\n",
      " 3   hp      32 non-null     int64  \n",
      " 4   drat    32 non-null     float64\n",
      " 5   wt      32 non-null     float64\n",
      " 6   qsec    32 non-null     float64\n",
      " 7   vs      32 non-null     int64  \n",
      " 8   am      32 non-null     int64  \n",
      " 9   gear    32 non-null     int64  \n",
      " 10  carb    32 non-null     int64  \n",
      "dtypes: float64(5), int64(6)\n",
      "memory usage: 3.0+ KB\n",
      "Info  None\n"
     ]
    }
   ],
   "source": [
    "df = data('mtcars')\n",
    "print('Few Rows ', df.head(4))\n",
    "print('Shape of Data ', df.shape)\n",
    "print('Info ', df.info())"
   ]
  },
  {
   "cell_type": "code",
   "execution_count": 21,
   "id": "762c0f44",
   "metadata": {},
   "outputs": [
    {
     "data": {
      "text/html": [
       "<div>\n",
       "<style scoped>\n",
       "    .dataframe tbody tr th:only-of-type {\n",
       "        vertical-align: middle;\n",
       "    }\n",
       "\n",
       "    .dataframe tbody tr th {\n",
       "        vertical-align: top;\n",
       "    }\n",
       "\n",
       "    .dataframe thead th {\n",
       "        text-align: right;\n",
       "    }\n",
       "</style>\n",
       "<table border=\"1\" class=\"dataframe\">\n",
       "  <thead>\n",
       "    <tr style=\"text-align: right;\">\n",
       "      <th></th>\n",
       "      <th>mpg</th>\n",
       "      <th>wt</th>\n",
       "      <th>hp</th>\n",
       "      <th>gear</th>\n",
       "    </tr>\n",
       "  </thead>\n",
       "  <tbody>\n",
       "    <tr>\n",
       "      <th>Mazda RX4</th>\n",
       "      <td>21.0</td>\n",
       "      <td>2.620</td>\n",
       "      <td>110</td>\n",
       "      <td>4</td>\n",
       "    </tr>\n",
       "    <tr>\n",
       "      <th>Mazda RX4 Wag</th>\n",
       "      <td>21.0</td>\n",
       "      <td>2.875</td>\n",
       "      <td>110</td>\n",
       "      <td>4</td>\n",
       "    </tr>\n",
       "    <tr>\n",
       "      <th>Datsun 710</th>\n",
       "      <td>22.8</td>\n",
       "      <td>2.320</td>\n",
       "      <td>93</td>\n",
       "      <td>4</td>\n",
       "    </tr>\n",
       "    <tr>\n",
       "      <th>Hornet 4 Drive</th>\n",
       "      <td>21.4</td>\n",
       "      <td>3.215</td>\n",
       "      <td>110</td>\n",
       "      <td>3</td>\n",
       "    </tr>\n",
       "    <tr>\n",
       "      <th>Hornet Sportabout</th>\n",
       "      <td>18.7</td>\n",
       "      <td>3.440</td>\n",
       "      <td>175</td>\n",
       "      <td>3</td>\n",
       "    </tr>\n",
       "  </tbody>\n",
       "</table>\n",
       "</div>"
      ],
      "text/plain": [
       "                    mpg     wt   hp  gear\n",
       "Mazda RX4          21.0  2.620  110     4\n",
       "Mazda RX4 Wag      21.0  2.875  110     4\n",
       "Datsun 710         22.8  2.320   93     4\n",
       "Hornet 4 Drive     21.4  3.215  110     3\n",
       "Hornet Sportabout  18.7  3.440  175     3"
      ]
     },
     "execution_count": 21,
     "metadata": {},
     "output_type": "execute_result"
    }
   ],
   "source": [
    "df1 = df[['mpg','wt', 'hp','gear']]\n",
    "df1.head()"
   ]
  },
  {
   "cell_type": "code",
   "execution_count": 22,
   "id": "8da66522",
   "metadata": {},
   "outputs": [
    {
     "name": "stdout",
     "output_type": "stream",
     "text": [
      "                      wt   hp  gear   mpg\n",
      "Mazda RX4          2.620  110     4  21.0\n",
      "Mazda RX4 Wag      2.875  110     4  21.0\n",
      "Datsun 710         2.320   93     4  22.8\n",
      "Hornet 4 Drive     3.215  110     3  21.4\n",
      "Hornet Sportabout  3.440  175     3  18.7\n"
     ]
    }
   ],
   "source": [
    "X = df1[['wt','hp','gear']]\n",
    "y = df1['mpg']\n",
    "print(pd.concat([X.head(), y.head()], axis=1))"
   ]
  },
  {
   "cell_type": "code",
   "execution_count": 23,
   "id": "769d7be7",
   "metadata": {},
   "outputs": [],
   "source": [
    "X_train, X_test, y_train, y_test = train_test_split(X, y , random_state=104,  test_size=0.25, shuffle=True)"
   ]
  },
  {
   "cell_type": "code",
   "execution_count": 24,
   "id": "edea1694",
   "metadata": {},
   "outputs": [
    {
     "name": "stdout",
     "output_type": "stream",
     "text": [
      "(24, 3) (24,)\n",
      "(8, 3) (8,)\n"
     ]
    }
   ],
   "source": [
    "print(X_train.shape, y_train.shape)\n",
    "print(X_test.shape, y_test.shape)"
   ]
  },
  {
   "cell_type": "markdown",
   "id": "a1e6cf36",
   "metadata": {},
   "source": [
    "# Sampling\n",
    "Population to Sample"
   ]
  },
  {
   "cell_type": "code",
   "execution_count": 25,
   "id": "04cc4dab",
   "metadata": {},
   "outputs": [
    {
     "data": {
      "text/html": [
       "<div>\n",
       "<style scoped>\n",
       "    .dataframe tbody tr th:only-of-type {\n",
       "        vertical-align: middle;\n",
       "    }\n",
       "\n",
       "    .dataframe tbody tr th {\n",
       "        vertical-align: top;\n",
       "    }\n",
       "\n",
       "    .dataframe thead th {\n",
       "        text-align: right;\n",
       "    }\n",
       "</style>\n",
       "<table border=\"1\" class=\"dataframe\">\n",
       "  <thead>\n",
       "    <tr style=\"text-align: right;\">\n",
       "      <th></th>\n",
       "      <th>mpg</th>\n",
       "      <th>cyl</th>\n",
       "      <th>disp</th>\n",
       "      <th>hp</th>\n",
       "      <th>drat</th>\n",
       "      <th>wt</th>\n",
       "      <th>qsec</th>\n",
       "      <th>vs</th>\n",
       "      <th>am</th>\n",
       "      <th>gear</th>\n",
       "      <th>carb</th>\n",
       "    </tr>\n",
       "  </thead>\n",
       "  <tbody>\n",
       "    <tr>\n",
       "      <th>Lincoln Continental</th>\n",
       "      <td>10.4</td>\n",
       "      <td>8</td>\n",
       "      <td>460.0</td>\n",
       "      <td>215</td>\n",
       "      <td>3.00</td>\n",
       "      <td>5.424</td>\n",
       "      <td>17.82</td>\n",
       "      <td>0</td>\n",
       "      <td>0</td>\n",
       "      <td>3</td>\n",
       "      <td>4</td>\n",
       "    </tr>\n",
       "    <tr>\n",
       "      <th>Merc 450SL</th>\n",
       "      <td>17.3</td>\n",
       "      <td>8</td>\n",
       "      <td>275.8</td>\n",
       "      <td>180</td>\n",
       "      <td>3.07</td>\n",
       "      <td>3.730</td>\n",
       "      <td>17.60</td>\n",
       "      <td>0</td>\n",
       "      <td>0</td>\n",
       "      <td>3</td>\n",
       "      <td>3</td>\n",
       "    </tr>\n",
       "    <tr>\n",
       "      <th>Honda Civic</th>\n",
       "      <td>30.4</td>\n",
       "      <td>4</td>\n",
       "      <td>75.7</td>\n",
       "      <td>52</td>\n",
       "      <td>4.93</td>\n",
       "      <td>1.615</td>\n",
       "      <td>18.52</td>\n",
       "      <td>1</td>\n",
       "      <td>1</td>\n",
       "      <td>4</td>\n",
       "      <td>2</td>\n",
       "    </tr>\n",
       "    <tr>\n",
       "      <th>Valiant</th>\n",
       "      <td>18.1</td>\n",
       "      <td>6</td>\n",
       "      <td>225.0</td>\n",
       "      <td>105</td>\n",
       "      <td>2.76</td>\n",
       "      <td>3.460</td>\n",
       "      <td>20.22</td>\n",
       "      <td>1</td>\n",
       "      <td>0</td>\n",
       "      <td>3</td>\n",
       "      <td>1</td>\n",
       "    </tr>\n",
       "    <tr>\n",
       "      <th>Merc 450SLC</th>\n",
       "      <td>15.2</td>\n",
       "      <td>8</td>\n",
       "      <td>275.8</td>\n",
       "      <td>180</td>\n",
       "      <td>3.07</td>\n",
       "      <td>3.780</td>\n",
       "      <td>18.00</td>\n",
       "      <td>0</td>\n",
       "      <td>0</td>\n",
       "      <td>3</td>\n",
       "      <td>3</td>\n",
       "    </tr>\n",
       "  </tbody>\n",
       "</table>\n",
       "</div>"
      ],
      "text/plain": [
       "                      mpg  cyl   disp   hp  drat     wt   qsec  vs  am  gear  \\\n",
       "Lincoln Continental  10.4    8  460.0  215  3.00  5.424  17.82   0   0     3   \n",
       "Merc 450SL           17.3    8  275.8  180  3.07  3.730  17.60   0   0     3   \n",
       "Honda Civic          30.4    4   75.7   52  4.93  1.615  18.52   1   1     4   \n",
       "Valiant              18.1    6  225.0  105  2.76  3.460  20.22   1   0     3   \n",
       "Merc 450SLC          15.2    8  275.8  180  3.07  3.780  18.00   0   0     3   \n",
       "\n",
       "                     carb  \n",
       "Lincoln Continental     4  \n",
       "Merc 450SL              3  \n",
       "Honda Civic             2  \n",
       "Valiant                 1  \n",
       "Merc 450SLC             3  "
      ]
     },
     "execution_count": 25,
     "metadata": {},
     "output_type": "execute_result"
    }
   ],
   "source": [
    "df.sample(5)   #sample rows"
   ]
  },
  {
   "cell_type": "markdown",
   "id": "9822a796",
   "metadata": {},
   "source": [
    "## Stratefied sampling\n",
    "Proportionate stratified random sampling is a type of sampling in which the size of the random sample obtained from each stratum is proportionate to the size of the entire stratum's population\n",
    "eg . picking up 30% of each gear type "
   ]
  },
  {
   "cell_type": "code",
   "execution_count": 26,
   "id": "cd9183d6",
   "metadata": {},
   "outputs": [
    {
     "data": {
      "text/plain": [
       "(32, 11)"
      ]
     },
     "execution_count": 26,
     "metadata": {},
     "output_type": "execute_result"
    }
   ],
   "source": [
    "mtc = data('mtcars')\n",
    "mtc.shape"
   ]
  },
  {
   "cell_type": "code",
   "execution_count": 27,
   "id": "d0c8b629",
   "metadata": {},
   "outputs": [
    {
     "data": {
      "text/plain": [
       "gear\n",
       "3    15\n",
       "4    12\n",
       "5     5\n",
       "dtype: int64"
      ]
     },
     "execution_count": 27,
     "metadata": {},
     "output_type": "execute_result"
    }
   ],
   "source": [
    "mtc.groupby('gear').size()"
   ]
  },
  {
   "cell_type": "code",
   "execution_count": 28,
   "id": "324efc53",
   "metadata": {},
   "outputs": [],
   "source": [
    "mtc_s1 = mtc.groupby('gear', group_keys=False).apply(lambda x:x.sample(frac = .3))"
   ]
  },
  {
   "cell_type": "markdown",
   "id": "2e809d2a",
   "metadata": {},
   "source": [
    "group_keys parameter in groupby comes handy during apply operations that creates an additional index column corresponding to the grouped columns (group_keys=True) and eliminates in the case (group_keys=False) especially during the case when trying to perform operations on individual columns."
   ]
  },
  {
   "cell_type": "code",
   "execution_count": 29,
   "id": "b90f5322",
   "metadata": {},
   "outputs": [
    {
     "data": {
      "text/html": [
       "<div>\n",
       "<style scoped>\n",
       "    .dataframe tbody tr th:only-of-type {\n",
       "        vertical-align: middle;\n",
       "    }\n",
       "\n",
       "    .dataframe tbody tr th {\n",
       "        vertical-align: top;\n",
       "    }\n",
       "\n",
       "    .dataframe thead th {\n",
       "        text-align: right;\n",
       "    }\n",
       "</style>\n",
       "<table border=\"1\" class=\"dataframe\">\n",
       "  <thead>\n",
       "    <tr style=\"text-align: right;\">\n",
       "      <th></th>\n",
       "      <th>mpg</th>\n",
       "      <th>cyl</th>\n",
       "      <th>disp</th>\n",
       "      <th>hp</th>\n",
       "      <th>drat</th>\n",
       "      <th>wt</th>\n",
       "      <th>qsec</th>\n",
       "      <th>vs</th>\n",
       "      <th>am</th>\n",
       "      <th>gear</th>\n",
       "      <th>carb</th>\n",
       "    </tr>\n",
       "  </thead>\n",
       "  <tbody>\n",
       "    <tr>\n",
       "      <th>Valiant</th>\n",
       "      <td>18.1</td>\n",
       "      <td>6</td>\n",
       "      <td>225.0</td>\n",
       "      <td>105</td>\n",
       "      <td>2.76</td>\n",
       "      <td>3.460</td>\n",
       "      <td>20.22</td>\n",
       "      <td>1</td>\n",
       "      <td>0</td>\n",
       "      <td>3</td>\n",
       "      <td>1</td>\n",
       "    </tr>\n",
       "    <tr>\n",
       "      <th>Lincoln Continental</th>\n",
       "      <td>10.4</td>\n",
       "      <td>8</td>\n",
       "      <td>460.0</td>\n",
       "      <td>215</td>\n",
       "      <td>3.00</td>\n",
       "      <td>5.424</td>\n",
       "      <td>17.82</td>\n",
       "      <td>0</td>\n",
       "      <td>0</td>\n",
       "      <td>3</td>\n",
       "      <td>4</td>\n",
       "    </tr>\n",
       "    <tr>\n",
       "      <th>Duster 360</th>\n",
       "      <td>14.3</td>\n",
       "      <td>8</td>\n",
       "      <td>360.0</td>\n",
       "      <td>245</td>\n",
       "      <td>3.21</td>\n",
       "      <td>3.570</td>\n",
       "      <td>15.84</td>\n",
       "      <td>0</td>\n",
       "      <td>0</td>\n",
       "      <td>3</td>\n",
       "      <td>4</td>\n",
       "    </tr>\n",
       "    <tr>\n",
       "      <th>Toyota Corona</th>\n",
       "      <td>21.5</td>\n",
       "      <td>4</td>\n",
       "      <td>120.1</td>\n",
       "      <td>97</td>\n",
       "      <td>3.70</td>\n",
       "      <td>2.465</td>\n",
       "      <td>20.01</td>\n",
       "      <td>1</td>\n",
       "      <td>0</td>\n",
       "      <td>3</td>\n",
       "      <td>1</td>\n",
       "    </tr>\n",
       "    <tr>\n",
       "      <th>Merc 280C</th>\n",
       "      <td>17.8</td>\n",
       "      <td>6</td>\n",
       "      <td>167.6</td>\n",
       "      <td>123</td>\n",
       "      <td>3.92</td>\n",
       "      <td>3.440</td>\n",
       "      <td>18.90</td>\n",
       "      <td>1</td>\n",
       "      <td>0</td>\n",
       "      <td>4</td>\n",
       "      <td>4</td>\n",
       "    </tr>\n",
       "    <tr>\n",
       "      <th>Merc 280</th>\n",
       "      <td>19.2</td>\n",
       "      <td>6</td>\n",
       "      <td>167.6</td>\n",
       "      <td>123</td>\n",
       "      <td>3.92</td>\n",
       "      <td>3.440</td>\n",
       "      <td>18.30</td>\n",
       "      <td>1</td>\n",
       "      <td>0</td>\n",
       "      <td>4</td>\n",
       "      <td>4</td>\n",
       "    </tr>\n",
       "    <tr>\n",
       "      <th>Mazda RX4 Wag</th>\n",
       "      <td>21.0</td>\n",
       "      <td>6</td>\n",
       "      <td>160.0</td>\n",
       "      <td>110</td>\n",
       "      <td>3.90</td>\n",
       "      <td>2.875</td>\n",
       "      <td>17.02</td>\n",
       "      <td>0</td>\n",
       "      <td>1</td>\n",
       "      <td>4</td>\n",
       "      <td>4</td>\n",
       "    </tr>\n",
       "    <tr>\n",
       "      <th>Datsun 710</th>\n",
       "      <td>22.8</td>\n",
       "      <td>4</td>\n",
       "      <td>108.0</td>\n",
       "      <td>93</td>\n",
       "      <td>3.85</td>\n",
       "      <td>2.320</td>\n",
       "      <td>18.61</td>\n",
       "      <td>1</td>\n",
       "      <td>1</td>\n",
       "      <td>4</td>\n",
       "      <td>1</td>\n",
       "    </tr>\n",
       "    <tr>\n",
       "      <th>Maserati Bora</th>\n",
       "      <td>15.0</td>\n",
       "      <td>8</td>\n",
       "      <td>301.0</td>\n",
       "      <td>335</td>\n",
       "      <td>3.54</td>\n",
       "      <td>3.570</td>\n",
       "      <td>14.60</td>\n",
       "      <td>0</td>\n",
       "      <td>1</td>\n",
       "      <td>5</td>\n",
       "      <td>8</td>\n",
       "    </tr>\n",
       "    <tr>\n",
       "      <th>Porsche 914-2</th>\n",
       "      <td>26.0</td>\n",
       "      <td>4</td>\n",
       "      <td>120.3</td>\n",
       "      <td>91</td>\n",
       "      <td>4.43</td>\n",
       "      <td>2.140</td>\n",
       "      <td>16.70</td>\n",
       "      <td>0</td>\n",
       "      <td>1</td>\n",
       "      <td>5</td>\n",
       "      <td>2</td>\n",
       "    </tr>\n",
       "  </tbody>\n",
       "</table>\n",
       "</div>"
      ],
      "text/plain": [
       "                      mpg  cyl   disp   hp  drat     wt   qsec  vs  am  gear  \\\n",
       "Valiant              18.1    6  225.0  105  2.76  3.460  20.22   1   0     3   \n",
       "Lincoln Continental  10.4    8  460.0  215  3.00  5.424  17.82   0   0     3   \n",
       "Duster 360           14.3    8  360.0  245  3.21  3.570  15.84   0   0     3   \n",
       "Toyota Corona        21.5    4  120.1   97  3.70  2.465  20.01   1   0     3   \n",
       "Merc 280C            17.8    6  167.6  123  3.92  3.440  18.90   1   0     4   \n",
       "Merc 280             19.2    6  167.6  123  3.92  3.440  18.30   1   0     4   \n",
       "Mazda RX4 Wag        21.0    6  160.0  110  3.90  2.875  17.02   0   1     4   \n",
       "Datsun 710           22.8    4  108.0   93  3.85  2.320  18.61   1   1     4   \n",
       "Maserati Bora        15.0    8  301.0  335  3.54  3.570  14.60   0   1     5   \n",
       "Porsche 914-2        26.0    4  120.3   91  4.43  2.140  16.70   0   1     5   \n",
       "\n",
       "                     carb  \n",
       "Valiant                 1  \n",
       "Lincoln Continental     4  \n",
       "Duster 360              4  \n",
       "Toyota Corona           1  \n",
       "Merc 280C               4  \n",
       "Merc 280                4  \n",
       "Mazda RX4 Wag           4  \n",
       "Datsun 710              1  \n",
       "Maserati Bora           8  \n",
       "Porsche 914-2           2  "
      ]
     },
     "execution_count": 29,
     "metadata": {},
     "output_type": "execute_result"
    }
   ],
   "source": [
    "mtc_s1"
   ]
  },
  {
   "cell_type": "code",
   "execution_count": 30,
   "id": "862dbf07",
   "metadata": {},
   "outputs": [
    {
     "data": {
      "text/plain": [
       "gear\n",
       "3    4\n",
       "4    4\n",
       "5    2\n",
       "dtype: int64"
      ]
     },
     "execution_count": 30,
     "metadata": {},
     "output_type": "execute_result"
    }
   ],
   "source": [
    "mtc_s1.groupby('gear').size()"
   ]
  },
  {
   "cell_type": "code",
   "execution_count": 31,
   "id": "b5b20b15",
   "metadata": {},
   "outputs": [
    {
     "name": "stdout",
     "output_type": "stream",
     "text": [
      "      original  sample\n",
      "gear                  \n",
      "3           15       4\n",
      "4           12       4\n",
      "5            5       2\n"
     ]
    }
   ],
   "source": [
    "print(pd.concat([mtc.groupby('gear').size().to_frame('original'), \n",
    "                 mtc_s1.groupby('gear').size().to_frame('sample')], axis=1))"
   ]
  },
  {
   "cell_type": "code",
   "execution_count": 32,
   "id": "40f28557",
   "metadata": {},
   "outputs": [
    {
     "name": "stdout",
     "output_type": "stream",
     "text": [
      "   gear  gear\n",
      "3  0.47   0.4\n",
      "4  0.38   0.4\n",
      "5  0.16   0.2\n"
     ]
    }
   ],
   "source": [
    "print(pd.concat([mtc['gear'].value_counts(normalize=True).round(2), \n",
    "                 mtc_s1['gear'].value_counts(normalize=True).round(2)], axis=1))"
   ]
  },
  {
   "cell_type": "markdown",
   "id": "31a239ab",
   "metadata": {},
   "source": [
    "Disproportionate stratified random sampling, on the other hand, involves randomly selecting strata without regard for proportion. In other words, sampling is done based on a specified number.\n",
    "Applications\n",
    "https://www.freecodecamp.org/news/what-is-stratified-random-sampling-definition-and-python-example/"
   ]
  },
  {
   "cell_type": "code",
   "execution_count": 33,
   "id": "9137db18",
   "metadata": {},
   "outputs": [],
   "source": [
    "mtc_s2 = mtc.groupby('gear', group_keys=False).apply(lambda x:x.sample(n = 2))"
   ]
  },
  {
   "cell_type": "code",
   "execution_count": 34,
   "id": "dfd82f7e",
   "metadata": {},
   "outputs": [
    {
     "name": "stdout",
     "output_type": "stream",
     "text": [
      "      original  sample\n",
      "gear                  \n",
      "3           15       2\n",
      "4           12       2\n",
      "5            5       2\n"
     ]
    }
   ],
   "source": [
    "print(pd.concat([mtc.groupby('gear').size().to_frame('original'), \n",
    "                 mtc_s2.groupby('gear').size().to_frame('sample')], axis=1))"
   ]
  },
  {
   "cell_type": "code",
   "execution_count": 35,
   "id": "765a6e45",
   "metadata": {},
   "outputs": [
    {
     "name": "stdout",
     "output_type": "stream",
     "text": [
      "   gear  gear\n",
      "3  0.47  0.33\n",
      "4  0.38  0.33\n",
      "5  0.16  0.33\n"
     ]
    }
   ],
   "source": [
    "print(pd.concat([mtc['gear'].value_counts(normalize=True).round(2), \n",
    "                 mtc_s2['gear'].value_counts(normalize=True).round(2)], axis=1))"
   ]
  },
  {
   "cell_type": "markdown",
   "id": "9caf486d",
   "metadata": {},
   "source": [
    "###  Imbalanced Dataset\n",
    "An imbalanced dataset is a ML classification problem in which the two class labels in the target variable are not proportional to one another. In other words, one class has a higher count than the other, resulting in an imbalance.\n",
    "No of persons having diabetes(1) and not having diabetes is different(0)\n",
    "stratified sampling is also used to obtain the same sample proportion for a train and test set if there is an imbalance in the dataset."
   ]
  },
  {
   "cell_type": "code",
   "execution_count": 36,
   "id": "6c2b0e48",
   "metadata": {},
   "outputs": [
    {
     "name": "stdout",
     "output_type": "stream",
     "text": [
      "(768, 9)\n",
      "Index(['Pregnancies', 'Glucose', 'BloodPressure', 'SkinThickness', 'Insulin',\n",
      "       'BMI', 'DiabetesPedigreeFunction', 'Age', 'Outcome'],\n",
      "      dtype='object')\n"
     ]
    }
   ],
   "source": [
    "dataLink = 'https://raw.githubusercontent.com/DUanalytics/datasets/master/csv/diabetes.csv'\n",
    "kidney = pd.read_csv(dataLink)\n",
    "print(kidney.shape)\n",
    "print(kidney.columns)"
   ]
  },
  {
   "cell_type": "code",
   "execution_count": 37,
   "id": "1d0920bf",
   "metadata": {},
   "outputs": [
    {
     "data": {
      "text/plain": [
       "0    0.651042\n",
       "1    0.348958\n",
       "Name: Outcome, dtype: float64"
      ]
     },
     "execution_count": 37,
     "metadata": {},
     "output_type": "execute_result"
    }
   ],
   "source": [
    "kidney['Outcome'].value_counts(normalize=True)\n",
    "#there are more non-diabetes(0) than diabetes (1)"
   ]
  },
  {
   "cell_type": "code",
   "execution_count": 38,
   "id": "f4d1606c",
   "metadata": {},
   "outputs": [
    {
     "data": {
      "text/plain": [
       "0    0.635179\n",
       "1    0.364821\n",
       "Name: Outcome, dtype: float64"
      ]
     },
     "execution_count": 38,
     "metadata": {},
     "output_type": "execute_result"
    }
   ],
   "source": [
    "kidney.sample(frac=.4).Outcome.value_counts(normalize=True)\n",
    "#everytime we run this line, different proportions "
   ]
  },
  {
   "cell_type": "markdown",
   "id": "ed177689",
   "metadata": {},
   "source": [
    "we want to split the train and test set using simple random sampling. We won't achieve the same proportion for the train and test set as the population proportion."
   ]
  },
  {
   "cell_type": "code",
   "execution_count": 39,
   "id": "66a1bc7c",
   "metadata": {},
   "outputs": [],
   "source": [
    "from sklearn.model_selection import train_test_split\n",
    "X = kidney.drop(columns = [\"Outcome\"])\n",
    "y = kidney[\"Outcome\"]\n",
    "X_train, X_test, y_train, y_test = train_test_split(X, y, train_size=0.75)"
   ]
  },
  {
   "cell_type": "code",
   "execution_count": 40,
   "id": "e78e90b8",
   "metadata": {},
   "outputs": [
    {
     "data": {
      "text/plain": [
       "0    0.642361\n",
       "1    0.357639\n",
       "Name: Outcome, dtype: float64"
      ]
     },
     "execution_count": 40,
     "metadata": {},
     "output_type": "execute_result"
    }
   ],
   "source": [
    "y_train.value_counts(normalize=True)"
   ]
  },
  {
   "cell_type": "code",
   "execution_count": 41,
   "id": "eb4fb7ee",
   "metadata": {},
   "outputs": [
    {
     "data": {
      "text/plain": [
       "0    0.677083\n",
       "1    0.322917\n",
       "Name: Outcome, dtype: float64"
      ]
     },
     "execution_count": 41,
     "metadata": {},
     "output_type": "execute_result"
    }
   ],
   "source": [
    "y_test.value_counts(normalize=True)"
   ]
  },
  {
   "cell_type": "markdown",
   "id": "cadb9699",
   "metadata": {},
   "source": [
    "again not same in both train and test - outcome values\n",
    "we have to use stratify=y, so ensure dataset was stratified on the label. So with that we will achieve the same proportion as the population proportion"
   ]
  },
  {
   "cell_type": "code",
   "execution_count": 42,
   "id": "21a9ba74",
   "metadata": {},
   "outputs": [],
   "source": [
    "X_train, X_test, y_train, y_test = train_test_split(X, y, train_size=0.75, stratify=y)"
   ]
  },
  {
   "cell_type": "code",
   "execution_count": 43,
   "id": "537bad6c",
   "metadata": {},
   "outputs": [
    {
     "data": {
      "text/plain": [
       "0    0.651042\n",
       "1    0.348958\n",
       "Name: Outcome, dtype: float64"
      ]
     },
     "execution_count": 43,
     "metadata": {},
     "output_type": "execute_result"
    }
   ],
   "source": [
    "y_train.value_counts(normalize=True)"
   ]
  },
  {
   "cell_type": "code",
   "execution_count": 44,
   "id": "f07ed0d1",
   "metadata": {},
   "outputs": [
    {
     "data": {
      "text/plain": [
       "0    0.651042\n",
       "1    0.348958\n",
       "Name: Outcome, dtype: float64"
      ]
     },
     "execution_count": 44,
     "metadata": {},
     "output_type": "execute_result"
    }
   ],
   "source": [
    "y_test.value_counts(normalize=True)"
   ]
  },
  {
   "cell_type": "markdown",
   "id": "9dda7a9a",
   "metadata": {},
   "source": [
    "## End of Topic"
   ]
  }
 ],
 "metadata": {
  "kernelspec": {
   "display_name": "Python 3 (ipykernel)",
   "language": "python",
   "name": "python3"
  },
  "language_info": {
   "codemirror_mode": {
    "name": "ipython",
    "version": 3
   },
   "file_extension": ".py",
   "mimetype": "text/x-python",
   "name": "python",
   "nbconvert_exporter": "python",
   "pygments_lexer": "ipython3",
   "version": "3.9.13"
  }
 },
 "nbformat": 4,
 "nbformat_minor": 5
}
