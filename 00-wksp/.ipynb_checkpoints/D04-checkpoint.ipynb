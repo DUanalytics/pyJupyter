{
 "cells": [
  {
   "cell_type": "markdown",
   "id": "242b46ec",
   "metadata": {},
   "source": [
    "# Linear Regression"
   ]
  },
  {
   "cell_type": "markdown",
   "id": "c8f001cf",
   "metadata": {},
   "source": [
    "## Steps of LR\n",
    "Understand the data and the problem\n",
    "Clean Data - Missing Values, Transformation, \n",
    "Load Libraries\n",
    "Data Setup - Train/Test, \n",
    "Create Model\n",
    "View Statistics of Model\n",
    "Predict\n",
    "Check for Assumptions"
   ]
  },
  {
   "cell_type": "markdown",
   "id": "9ba0ef27",
   "metadata": {},
   "source": [
    "### Method-1 : sklearn - linear_model"
   ]
  },
  {
   "cell_type": "code",
   "execution_count": 38,
   "id": "999062f0",
   "metadata": {},
   "outputs": [],
   "source": [
    "from sklearn import linear_model as lm\n",
    "# from sklearn.linear_model import LinearRegression\n",
    "from pydataset import data\n",
    "import pandas as pd\n",
    "import numpy as np"
   ]
  },
  {
   "cell_type": "code",
   "execution_count": 4,
   "id": "26159456",
   "metadata": {},
   "outputs": [
    {
     "data": {
      "text/html": [
       "<div>\n",
       "<style scoped>\n",
       "    .dataframe tbody tr th:only-of-type {\n",
       "        vertical-align: middle;\n",
       "    }\n",
       "\n",
       "    .dataframe tbody tr th {\n",
       "        vertical-align: top;\n",
       "    }\n",
       "\n",
       "    .dataframe thead th {\n",
       "        text-align: right;\n",
       "    }\n",
       "</style>\n",
       "<table border=\"1\" class=\"dataframe\">\n",
       "  <thead>\n",
       "    <tr style=\"text-align: right;\">\n",
       "      <th></th>\n",
       "      <th>mpg</th>\n",
       "      <th>cyl</th>\n",
       "      <th>disp</th>\n",
       "      <th>hp</th>\n",
       "      <th>drat</th>\n",
       "      <th>wt</th>\n",
       "      <th>qsec</th>\n",
       "      <th>vs</th>\n",
       "      <th>am</th>\n",
       "      <th>gear</th>\n",
       "      <th>carb</th>\n",
       "    </tr>\n",
       "  </thead>\n",
       "  <tbody>\n",
       "    <tr>\n",
       "      <th>Mazda RX4</th>\n",
       "      <td>21.0</td>\n",
       "      <td>6</td>\n",
       "      <td>160.0</td>\n",
       "      <td>110</td>\n",
       "      <td>3.90</td>\n",
       "      <td>2.620</td>\n",
       "      <td>16.46</td>\n",
       "      <td>0</td>\n",
       "      <td>1</td>\n",
       "      <td>4</td>\n",
       "      <td>4</td>\n",
       "    </tr>\n",
       "    <tr>\n",
       "      <th>Mazda RX4 Wag</th>\n",
       "      <td>21.0</td>\n",
       "      <td>6</td>\n",
       "      <td>160.0</td>\n",
       "      <td>110</td>\n",
       "      <td>3.90</td>\n",
       "      <td>2.875</td>\n",
       "      <td>17.02</td>\n",
       "      <td>0</td>\n",
       "      <td>1</td>\n",
       "      <td>4</td>\n",
       "      <td>4</td>\n",
       "    </tr>\n",
       "    <tr>\n",
       "      <th>Datsun 710</th>\n",
       "      <td>22.8</td>\n",
       "      <td>4</td>\n",
       "      <td>108.0</td>\n",
       "      <td>93</td>\n",
       "      <td>3.85</td>\n",
       "      <td>2.320</td>\n",
       "      <td>18.61</td>\n",
       "      <td>1</td>\n",
       "      <td>1</td>\n",
       "      <td>4</td>\n",
       "      <td>1</td>\n",
       "    </tr>\n",
       "    <tr>\n",
       "      <th>Hornet 4 Drive</th>\n",
       "      <td>21.4</td>\n",
       "      <td>6</td>\n",
       "      <td>258.0</td>\n",
       "      <td>110</td>\n",
       "      <td>3.08</td>\n",
       "      <td>3.215</td>\n",
       "      <td>19.44</td>\n",
       "      <td>1</td>\n",
       "      <td>0</td>\n",
       "      <td>3</td>\n",
       "      <td>1</td>\n",
       "    </tr>\n",
       "    <tr>\n",
       "      <th>Hornet Sportabout</th>\n",
       "      <td>18.7</td>\n",
       "      <td>8</td>\n",
       "      <td>360.0</td>\n",
       "      <td>175</td>\n",
       "      <td>3.15</td>\n",
       "      <td>3.440</td>\n",
       "      <td>17.02</td>\n",
       "      <td>0</td>\n",
       "      <td>0</td>\n",
       "      <td>3</td>\n",
       "      <td>2</td>\n",
       "    </tr>\n",
       "  </tbody>\n",
       "</table>\n",
       "</div>"
      ],
      "text/plain": [
       "                    mpg  cyl   disp   hp  drat     wt   qsec  vs  am  gear  \\\n",
       "Mazda RX4          21.0    6  160.0  110  3.90  2.620  16.46   0   1     4   \n",
       "Mazda RX4 Wag      21.0    6  160.0  110  3.90  2.875  17.02   0   1     4   \n",
       "Datsun 710         22.8    4  108.0   93  3.85  2.320  18.61   1   1     4   \n",
       "Hornet 4 Drive     21.4    6  258.0  110  3.08  3.215  19.44   1   0     3   \n",
       "Hornet Sportabout  18.7    8  360.0  175  3.15  3.440  17.02   0   0     3   \n",
       "\n",
       "                   carb  \n",
       "Mazda RX4             4  \n",
       "Mazda RX4 Wag         4  \n",
       "Datsun 710            1  \n",
       "Hornet 4 Drive        1  \n",
       "Hornet Sportabout     2  "
      ]
     },
     "execution_count": 4,
     "metadata": {},
     "output_type": "execute_result"
    }
   ],
   "source": [
    "df = data('mtcars')\n",
    "df.head()"
   ]
  },
  {
   "cell_type": "code",
   "execution_count": 5,
   "id": "c961cf30",
   "metadata": {},
   "outputs": [
    {
     "data": {
      "text/html": [
       "<div>\n",
       "<style scoped>\n",
       "    .dataframe tbody tr th:only-of-type {\n",
       "        vertical-align: middle;\n",
       "    }\n",
       "\n",
       "    .dataframe tbody tr th {\n",
       "        vertical-align: top;\n",
       "    }\n",
       "\n",
       "    .dataframe thead th {\n",
       "        text-align: right;\n",
       "    }\n",
       "</style>\n",
       "<table border=\"1\" class=\"dataframe\">\n",
       "  <thead>\n",
       "    <tr style=\"text-align: right;\">\n",
       "      <th></th>\n",
       "      <th>mpg</th>\n",
       "      <th>wt</th>\n",
       "      <th>hp</th>\n",
       "    </tr>\n",
       "  </thead>\n",
       "  <tbody>\n",
       "    <tr>\n",
       "      <th>Mazda RX4</th>\n",
       "      <td>21.0</td>\n",
       "      <td>2.620</td>\n",
       "      <td>110</td>\n",
       "    </tr>\n",
       "    <tr>\n",
       "      <th>Mazda RX4 Wag</th>\n",
       "      <td>21.0</td>\n",
       "      <td>2.875</td>\n",
       "      <td>110</td>\n",
       "    </tr>\n",
       "    <tr>\n",
       "      <th>Datsun 710</th>\n",
       "      <td>22.8</td>\n",
       "      <td>2.320</td>\n",
       "      <td>93</td>\n",
       "    </tr>\n",
       "    <tr>\n",
       "      <th>Hornet 4 Drive</th>\n",
       "      <td>21.4</td>\n",
       "      <td>3.215</td>\n",
       "      <td>110</td>\n",
       "    </tr>\n",
       "    <tr>\n",
       "      <th>Hornet Sportabout</th>\n",
       "      <td>18.7</td>\n",
       "      <td>3.440</td>\n",
       "      <td>175</td>\n",
       "    </tr>\n",
       "  </tbody>\n",
       "</table>\n",
       "</div>"
      ],
      "text/plain": [
       "                    mpg     wt   hp\n",
       "Mazda RX4          21.0  2.620  110\n",
       "Mazda RX4 Wag      21.0  2.875  110\n",
       "Datsun 710         22.8  2.320   93\n",
       "Hornet 4 Drive     21.4  3.215  110\n",
       "Hornet Sportabout  18.7  3.440  175"
      ]
     },
     "execution_count": 5,
     "metadata": {},
     "output_type": "execute_result"
    }
   ],
   "source": [
    "df1 = df[['mpg','wt','hp']]\n",
    "df1.head()"
   ]
  },
  {
   "cell_type": "markdown",
   "id": "d6364ce2",
   "metadata": {},
   "source": [
    "Another way to split data into X, y\n",
    "\n",
    "X, y = df[['wt', 'hp']], df.mpg"
   ]
  },
  {
   "cell_type": "code",
   "execution_count": 7,
   "id": "89cc5a08",
   "metadata": {},
   "outputs": [
    {
     "name": "stdout",
     "output_type": "stream",
     "text": [
      "                      wt   hp\n",
      "Mazda RX4          2.620  110\n",
      "Mazda RX4 Wag      2.875  110\n",
      "Datsun 710         2.320   93\n",
      "Hornet 4 Drive     3.215  110\n",
      "Hornet Sportabout  3.440  175 \n",
      " Mazda RX4            21.0\n",
      "Mazda RX4 Wag        21.0\n",
      "Datsun 710           22.8\n",
      "Hornet 4 Drive       21.4\n",
      "Hornet Sportabout    18.7\n",
      "Name: mpg, dtype: float64\n"
     ]
    }
   ],
   "source": [
    "#IV and DVs\n",
    "X = df1[['wt','hp']]\n",
    "y = df1['mpg']\n",
    "print(X.head(), '\\n', y.head())\n"
   ]
  },
  {
   "cell_type": "code",
   "execution_count": 8,
   "id": "c6238012",
   "metadata": {},
   "outputs": [
    {
     "data": {
      "text/html": [
       "<style>#sk-container-id-1 {color: black;background-color: white;}#sk-container-id-1 pre{padding: 0;}#sk-container-id-1 div.sk-toggleable {background-color: white;}#sk-container-id-1 label.sk-toggleable__label {cursor: pointer;display: block;width: 100%;margin-bottom: 0;padding: 0.3em;box-sizing: border-box;text-align: center;}#sk-container-id-1 label.sk-toggleable__label-arrow:before {content: \"▸\";float: left;margin-right: 0.25em;color: #696969;}#sk-container-id-1 label.sk-toggleable__label-arrow:hover:before {color: black;}#sk-container-id-1 div.sk-estimator:hover label.sk-toggleable__label-arrow:before {color: black;}#sk-container-id-1 div.sk-toggleable__content {max-height: 0;max-width: 0;overflow: hidden;text-align: left;background-color: #f0f8ff;}#sk-container-id-1 div.sk-toggleable__content pre {margin: 0.2em;color: black;border-radius: 0.25em;background-color: #f0f8ff;}#sk-container-id-1 input.sk-toggleable__control:checked~div.sk-toggleable__content {max-height: 200px;max-width: 100%;overflow: auto;}#sk-container-id-1 input.sk-toggleable__control:checked~label.sk-toggleable__label-arrow:before {content: \"▾\";}#sk-container-id-1 div.sk-estimator input.sk-toggleable__control:checked~label.sk-toggleable__label {background-color: #d4ebff;}#sk-container-id-1 div.sk-label input.sk-toggleable__control:checked~label.sk-toggleable__label {background-color: #d4ebff;}#sk-container-id-1 input.sk-hidden--visually {border: 0;clip: rect(1px 1px 1px 1px);clip: rect(1px, 1px, 1px, 1px);height: 1px;margin: -1px;overflow: hidden;padding: 0;position: absolute;width: 1px;}#sk-container-id-1 div.sk-estimator {font-family: monospace;background-color: #f0f8ff;border: 1px dotted black;border-radius: 0.25em;box-sizing: border-box;margin-bottom: 0.5em;}#sk-container-id-1 div.sk-estimator:hover {background-color: #d4ebff;}#sk-container-id-1 div.sk-parallel-item::after {content: \"\";width: 100%;border-bottom: 1px solid gray;flex-grow: 1;}#sk-container-id-1 div.sk-label:hover label.sk-toggleable__label {background-color: #d4ebff;}#sk-container-id-1 div.sk-serial::before {content: \"\";position: absolute;border-left: 1px solid gray;box-sizing: border-box;top: 0;bottom: 0;left: 50%;z-index: 0;}#sk-container-id-1 div.sk-serial {display: flex;flex-direction: column;align-items: center;background-color: white;padding-right: 0.2em;padding-left: 0.2em;position: relative;}#sk-container-id-1 div.sk-item {position: relative;z-index: 1;}#sk-container-id-1 div.sk-parallel {display: flex;align-items: stretch;justify-content: center;background-color: white;position: relative;}#sk-container-id-1 div.sk-item::before, #sk-container-id-1 div.sk-parallel-item::before {content: \"\";position: absolute;border-left: 1px solid gray;box-sizing: border-box;top: 0;bottom: 0;left: 50%;z-index: -1;}#sk-container-id-1 div.sk-parallel-item {display: flex;flex-direction: column;z-index: 1;position: relative;background-color: white;}#sk-container-id-1 div.sk-parallel-item:first-child::after {align-self: flex-end;width: 50%;}#sk-container-id-1 div.sk-parallel-item:last-child::after {align-self: flex-start;width: 50%;}#sk-container-id-1 div.sk-parallel-item:only-child::after {width: 0;}#sk-container-id-1 div.sk-dashed-wrapped {border: 1px dashed gray;margin: 0 0.4em 0.5em 0.4em;box-sizing: border-box;padding-bottom: 0.4em;background-color: white;}#sk-container-id-1 div.sk-label label {font-family: monospace;font-weight: bold;display: inline-block;line-height: 1.2em;}#sk-container-id-1 div.sk-label-container {text-align: center;}#sk-container-id-1 div.sk-container {/* jupyter's `normalize.less` sets `[hidden] { display: none; }` but bootstrap.min.css set `[hidden] { display: none !important; }` so we also need the `!important` here to be able to override the default hidden behavior on the sphinx rendered scikit-learn.org. See: https://github.com/scikit-learn/scikit-learn/issues/21755 */display: inline-block !important;position: relative;}#sk-container-id-1 div.sk-text-repr-fallback {display: none;}</style><div id=\"sk-container-id-1\" class=\"sk-top-container\"><div class=\"sk-text-repr-fallback\"><pre>LinearRegression()</pre><b>In a Jupyter environment, please rerun this cell to show the HTML representation or trust the notebook. <br />On GitHub, the HTML representation is unable to render, please try loading this page with nbviewer.org.</b></div><div class=\"sk-container\" hidden><div class=\"sk-item\"><div class=\"sk-estimator sk-toggleable\"><input class=\"sk-toggleable__control sk-hidden--visually\" id=\"sk-estimator-id-1\" type=\"checkbox\" checked><label for=\"sk-estimator-id-1\" class=\"sk-toggleable__label sk-toggleable__label-arrow\">LinearRegression</label><div class=\"sk-toggleable__content\"><pre>LinearRegression()</pre></div></div></div></div></div>"
      ],
      "text/plain": [
       "LinearRegression()"
      ]
     },
     "execution_count": 8,
     "metadata": {},
     "output_type": "execute_result"
    }
   ],
   "source": [
    "# Predict mpg on basis of wt & hp\n",
    "lm1 = lm.LinearRegression()\n",
    "lm1.fit(X,y)"
   ]
  },
  {
   "cell_type": "code",
   "execution_count": null,
   "id": "c3d478a1",
   "metadata": {},
   "outputs": [],
   "source": [
    "# see output functions\n",
    "#lm1. press tab button"
   ]
  },
  {
   "cell_type": "code",
   "execution_count": 10,
   "id": "be1d20f3",
   "metadata": {},
   "outputs": [
    {
     "data": {
      "text/plain": [
       "0.8267854518827914"
      ]
     },
     "execution_count": 10,
     "metadata": {},
     "output_type": "execute_result"
    }
   ],
   "source": [
    "# R2 value - coefficient of determination\n",
    "lm1.score(X,y)\n",
    "#82.67% of the variation in the response variable can be explained by the two predictor variables\n",
    "# in the model. ie mpg can be predicted upto 82% on the basis of wt & hp"
   ]
  },
  {
   "cell_type": "code",
   "execution_count": 11,
   "id": "e54cbcb1",
   "metadata": {},
   "outputs": [
    {
     "data": {
      "text/plain": [
       "array([-3.87783074, -0.03177295])"
      ]
     },
     "execution_count": 11,
     "metadata": {},
     "output_type": "execute_result"
    }
   ],
   "source": [
    "# Coeficients \n",
    "lm1.coef_"
   ]
  },
  {
   "cell_type": "code",
   "execution_count": 13,
   "id": "3b237fbe",
   "metadata": {},
   "outputs": [
    {
     "data": {
      "text/plain": [
       "37.227270116447215"
      ]
     },
     "execution_count": 13,
     "metadata": {},
     "output_type": "execute_result"
    }
   ],
   "source": [
    "# Intercept\n",
    "lm1.intercept_"
   ]
  },
  {
   "cell_type": "code",
   "execution_count": 32,
   "id": "d467d9ea",
   "metadata": {},
   "outputs": [
    {
     "name": "stdout",
     "output_type": "stream",
     "text": [
      "                      wt   hp\n",
      "Mazda RX4          2.620  110\n",
      "Mazda RX4 Wag      2.875  110\n",
      "Datsun 710         2.320   93\n",
      "Hornet 4 Drive     3.215  110\n",
      "Hornet Sportabout  3.440  175\n",
      "             wt   hp\n",
      "Mazda RX4  2.62  110\n",
      "Mazda RX4    21.0\n",
      "Name: mpg, dtype: float64\n"
     ]
    }
   ],
   "source": [
    "# few values\n",
    "print(X.head())\n",
    "print(X.head(1)) # select this value and put in equation\n",
    "print(y.head(1)) # this is actual mileage for above car"
   ]
  },
  {
   "cell_type": "code",
   "execution_count": 36,
   "id": "2860b9a7",
   "metadata": {},
   "outputs": [
    {
     "name": "stdout",
     "output_type": "stream",
     "text": [
      "\n",
      " Input Values -              wt   hp\n",
      "Mazda RX4  2.62  110 \n",
      " Actual MPG -   Mazda RX4    21.0\n",
      "Name: mpg, dtype: float64 \n",
      " From Formula -  24.08 \n",
      " From Predict Function - [23.5723294]\n",
      "\n",
      " Formula and Predict Function - Almost the same Value\n",
      "\n",
      " Difference Between Actual and Predicted Values - Residuals\n"
     ]
    }
   ],
   "source": [
    "# equation\n",
    "#mpg =  37 + -3.7 * wt + -0.03 * hp\n",
    "mpg1A  = 37 - 3.7 * 2.6 - .03 * 110   # Mazda Rx4\n",
    "mpg1B = lm1.predict(X.head(1))\n",
    "print('\\n Input Values -', X.head(1), '\\n Actual MPG -  ', y.head(1), '\\n From Formula - ', mpg1A, '\\n From Predict Function -', mpg1B)\n",
    "print('\\n Formula and Predict Function - Almost the same Value')\n",
    "print('\\n Difference Between Actual and Predicted Values - Residuals')"
   ]
  },
  {
   "cell_type": "code",
   "execution_count": 12,
   "id": "f9476670",
   "metadata": {},
   "outputs": [
    {
     "data": {
      "text/plain": [
       "array([23.5723294 , 22.58348256, 25.27581872, 21.26502011, 18.32726664,\n",
       "       20.47381631, 15.59904236, 22.88706734, 21.99367331, 19.97945988,\n",
       "       19.97945988, 15.72536854, 17.04383099, 16.84993945, 10.35520459,\n",
       "        9.36273257,  9.19248699, 26.59902798, 29.31238022, 28.04620915,\n",
       "       24.58644148, 18.81136386, 19.14097947, 14.55202805, 16.75674519,\n",
       "       27.62665313, 26.03737415, 27.76976919, 16.54648866, 20.92541324,\n",
       "       12.73947713, 22.98364943])"
      ]
     },
     "execution_count": 12,
     "metadata": {},
     "output_type": "execute_result"
    }
   ],
   "source": [
    "#predict mpg based on linear equation on input values of X\n",
    "lm1.predict(X)"
   ]
  },
  {
   "cell_type": "code",
   "execution_count": 45,
   "id": "a107ceda",
   "metadata": {},
   "outputs": [
    {
     "data": {
      "text/plain": [
       "array([[2.62, 110.00, 21.00, 23.57, -2.57],\n",
       "       [2.88, 110.00, 21.00, 22.58, -1.58],\n",
       "       [2.32, 93.00, 22.80, 25.28, -2.48],\n",
       "       [3.21, 110.00, 21.40, 21.27, 0.13],\n",
       "       [3.44, 175.00, 18.70, 18.33, 0.37],\n",
       "       [3.46, 105.00, 18.10, 20.47, -2.37],\n",
       "       [3.57, 245.00, 14.30, 15.60, -1.30],\n",
       "       [3.19, 62.00, 24.40, 22.89, 1.51],\n",
       "       [3.15, 95.00, 22.80, 21.99, 0.81],\n",
       "       [3.44, 123.00, 19.20, 19.98, -0.78],\n",
       "       [3.44, 123.00, 17.80, 19.98, -2.18],\n",
       "       [4.07, 180.00, 16.40, 15.73, 0.67],\n",
       "       [3.73, 180.00, 17.30, 17.04, 0.26],\n",
       "       [3.78, 180.00, 15.20, 16.85, -1.65],\n",
       "       [5.25, 205.00, 10.40, 10.36, 0.04],\n",
       "       [5.42, 215.00, 10.40, 9.36, 1.04],\n",
       "       [5.34, 230.00, 14.70, 9.19, 5.51],\n",
       "       [2.20, 66.00, 32.40, 26.60, 5.80],\n",
       "       [1.61, 52.00, 30.40, 29.31, 1.09],\n",
       "       [1.83, 65.00, 33.90, 28.05, 5.85],\n",
       "       [2.46, 97.00, 21.50, 24.59, -3.09],\n",
       "       [3.52, 150.00, 15.50, 18.81, -3.31],\n",
       "       [3.44, 150.00, 15.20, 19.14, -3.94],\n",
       "       [3.84, 245.00, 13.30, 14.55, -1.25],\n",
       "       [3.85, 175.00, 19.20, 16.76, 2.44],\n",
       "       [1.94, 66.00, 27.30, 27.63, -0.33],\n",
       "       [2.14, 91.00, 26.00, 26.04, -0.04],\n",
       "       [1.51, 113.00, 30.40, 27.77, 2.63],\n",
       "       [3.17, 264.00, 15.80, 16.55, -0.75],\n",
       "       [2.77, 175.00, 19.70, 20.93, -1.23],\n",
       "       [3.57, 335.00, 15.00, 12.74, 2.26],\n",
       "       [2.78, 109.00, 21.40, 22.98, -1.58]])"
      ]
     },
     "execution_count": 45,
     "metadata": {},
     "output_type": "execute_result"
    }
   ],
   "source": [
    "# see them together\n",
    "np.set_printoptions(formatter={'float': lambda x: \"{0:0.2f}\".format(x)})\n",
    "np.column_stack((X,y, lm1.predict(X).round(2), y-lm1.predict(X)))"
   ]
  },
  {
   "cell_type": "code",
   "execution_count": 72,
   "id": "628a3463",
   "metadata": {},
   "outputs": [
    {
     "name": "stdout",
     "output_type": "stream",
     "text": [
      "The difference between actual and predicted values 2.47\n"
     ]
    }
   ],
   "source": [
    "# RMS \n",
    "import sklearn.metrics  #RMSE\n",
    "import math\n",
    "mse = sklearn.metrics.mean_squared_error(y, lm1.predict(X)) \n",
    "print(\"The difference between actual and predicted values\", round(math.sqrt(mse),2) )  "
   ]
  },
  {
   "cell_type": "code",
   "execution_count": 75,
   "id": "5ce7f33c",
   "metadata": {},
   "outputs": [
    {
     "data": {
      "text/plain": [
       "6.095242335670815"
      ]
     },
     "execution_count": 75,
     "metadata": {},
     "output_type": "execute_result"
    }
   ],
   "source": [
    "#RMSE\n",
    "from sklearn.metrics import mean_squared_error\n",
    "print('RMSE',  mean_squared_error(y, lm1.predict(X))"
   ]
  },
  {
   "cell_type": "markdown",
   "id": "7936f818",
   "metadata": {},
   "source": [
    "RMSE is a square root of value gathered from the mean square error function. It helps us plot a difference between the estimate and actual value of a parameter of the model.\n",
    "Using RSME, we can easily measure the efficiency of the model.\n",
    "A well-working algorithm is known if its RSME score of less than 180. If the RSME value surpasses 180, we need to apply feature selection and hyper-parameter tuning on the model parameter."
   ]
  },
  {
   "cell_type": "markdown",
   "id": "8a4ea5e2",
   "metadata": {},
   "source": [
    "### Some Functions still missing\n",
    "scikit-learn doesn’t offer many built-in functions to analyze the summary of a regression model since it’s typically only used for predictive purposes.\n",
    "we still don’t know the overall F-statistic of the model, the p-values of the individual regression coefficients, and other useful metrics that can help us understand how well the model fits the dataset."
   ]
  },
  {
   "cell_type": "markdown",
   "id": "9bfda885",
   "metadata": {},
   "source": [
    "## Stats Model"
   ]
  },
  {
   "cell_type": "code",
   "execution_count": 47,
   "id": "2b19a044",
   "metadata": {},
   "outputs": [],
   "source": [
    "import statsmodels.api as sm"
   ]
  },
  {
   "cell_type": "code",
   "execution_count": 49,
   "id": "29a0ff51",
   "metadata": {},
   "outputs": [
    {
     "name": "stdout",
     "output_type": "stream",
     "text": [
      "                      wt   hp\n",
      "Mazda RX4          2.620  110\n",
      "Mazda RX4 Wag      2.875  110\n",
      "Datsun 710         2.320   93\n",
      "Hornet 4 Drive     3.215  110\n",
      "Hornet Sportabout  3.440  175 \n",
      " Mazda RX4            21.0\n",
      "Mazda RX4 Wag        21.0\n",
      "Datsun 710           22.8\n",
      "Hornet 4 Drive       21.4\n",
      "Hornet Sportabout    18.7\n",
      "Name: mpg, dtype: float64\n"
     ]
    }
   ],
   "source": [
    "#define response variable\n",
    "y = df['mpg']\n",
    "\n",
    "#define predictor variables\n",
    "x = df[['wt', 'hp']]\n",
    "print(x.head(), '\\n', y.head())"
   ]
  },
  {
   "cell_type": "code",
   "execution_count": 51,
   "id": "1b7fdb2c",
   "metadata": {},
   "outputs": [
    {
     "data": {
      "text/html": [
       "<div>\n",
       "<style scoped>\n",
       "    .dataframe tbody tr th:only-of-type {\n",
       "        vertical-align: middle;\n",
       "    }\n",
       "\n",
       "    .dataframe tbody tr th {\n",
       "        vertical-align: top;\n",
       "    }\n",
       "\n",
       "    .dataframe thead th {\n",
       "        text-align: right;\n",
       "    }\n",
       "</style>\n",
       "<table border=\"1\" class=\"dataframe\">\n",
       "  <thead>\n",
       "    <tr style=\"text-align: right;\">\n",
       "      <th></th>\n",
       "      <th>wt</th>\n",
       "      <th>hp</th>\n",
       "      <th>mpg</th>\n",
       "    </tr>\n",
       "  </thead>\n",
       "  <tbody>\n",
       "    <tr>\n",
       "      <th>Mazda RX4</th>\n",
       "      <td>2.620</td>\n",
       "      <td>110</td>\n",
       "      <td>21.0</td>\n",
       "    </tr>\n",
       "    <tr>\n",
       "      <th>Mazda RX4 Wag</th>\n",
       "      <td>2.875</td>\n",
       "      <td>110</td>\n",
       "      <td>21.0</td>\n",
       "    </tr>\n",
       "    <tr>\n",
       "      <th>Datsun 710</th>\n",
       "      <td>2.320</td>\n",
       "      <td>93</td>\n",
       "      <td>22.8</td>\n",
       "    </tr>\n",
       "    <tr>\n",
       "      <th>Hornet 4 Drive</th>\n",
       "      <td>3.215</td>\n",
       "      <td>110</td>\n",
       "      <td>21.4</td>\n",
       "    </tr>\n",
       "    <tr>\n",
       "      <th>Hornet Sportabout</th>\n",
       "      <td>3.440</td>\n",
       "      <td>175</td>\n",
       "      <td>18.7</td>\n",
       "    </tr>\n",
       "  </tbody>\n",
       "</table>\n",
       "</div>"
      ],
      "text/plain": [
       "                      wt   hp   mpg\n",
       "Mazda RX4          2.620  110  21.0\n",
       "Mazda RX4 Wag      2.875  110  21.0\n",
       "Datsun 710         2.320   93  22.8\n",
       "Hornet 4 Drive     3.215  110  21.4\n",
       "Hornet Sportabout  3.440  175  18.7"
      ]
     },
     "execution_count": 51,
     "metadata": {},
     "output_type": "execute_result"
    }
   ],
   "source": [
    "#another way to show 2 dataframe in column way\n",
    "pd.concat([x.head(), y.head()], axis=1)"
   ]
  },
  {
   "cell_type": "code",
   "execution_count": 52,
   "id": "62951192",
   "metadata": {},
   "outputs": [],
   "source": [
    "#add constant to predictor variables\n",
    "x = sm.add_constant(x)\n",
    "#fit linear regression model\n",
    "lm2 = sm.OLS(y, x).fit()"
   ]
  },
  {
   "cell_type": "code",
   "execution_count": 53,
   "id": "906cb1d2",
   "metadata": {},
   "outputs": [
    {
     "name": "stdout",
     "output_type": "stream",
     "text": [
      "                            OLS Regression Results                            \n",
      "==============================================================================\n",
      "Dep. Variable:                    mpg   R-squared:                       0.827\n",
      "Model:                            OLS   Adj. R-squared:                  0.815\n",
      "Method:                 Least Squares   F-statistic:                     69.21\n",
      "Date:                Sat, 25 Feb 2023   Prob (F-statistic):           9.11e-12\n",
      "Time:                        19:13:56   Log-Likelihood:                -74.326\n",
      "No. Observations:                  32   AIC:                             154.7\n",
      "Df Residuals:                      29   BIC:                             159.0\n",
      "Df Model:                           2                                         \n",
      "Covariance Type:            nonrobust                                         \n",
      "==============================================================================\n",
      "                 coef    std err          t      P>|t|      [0.025      0.975]\n",
      "------------------------------------------------------------------------------\n",
      "const         37.2273      1.599     23.285      0.000      33.957      40.497\n",
      "wt            -3.8778      0.633     -6.129      0.000      -5.172      -2.584\n",
      "hp            -0.0318      0.009     -3.519      0.001      -0.050      -0.013\n",
      "==============================================================================\n",
      "Omnibus:                        5.303   Durbin-Watson:                   1.362\n",
      "Prob(Omnibus):                  0.071   Jarque-Bera (JB):                4.046\n",
      "Skew:                           0.855   Prob(JB):                        0.132\n",
      "Kurtosis:                       3.332   Cond. No.                         588.\n",
      "==============================================================================\n",
      "\n",
      "Notes:\n",
      "[1] Standard Errors assume that the covariance matrix of the errors is correctly specified.\n"
     ]
    }
   ],
   "source": [
    "#view model summary - Very important output\n",
    "print(lm2.summary())"
   ]
  },
  {
   "cell_type": "markdown",
   "id": "6cf101c6",
   "metadata": {},
   "source": [
    "#### Output Summary\n",
    "p-values for each individual predictor variable:\n",
    "wt - .000  < .005 : Significant\n",
    "hp - .001  < .005 : Significant\n",
    "Overall F Statistics\n",
    "p value - 9.11e-12 < .005  : Model Exist, at least 1 IV predicts DV to some extend\n",
    "\n",
    "AIC Value\n",
    "154  : Lower the value better is the model when model comparison is done\n",
    "\n",
    "R2\n",
    "Adj R2 = .815   : for Multiple Regression"
   ]
  },
  {
   "cell_type": "code",
   "execution_count": 55,
   "id": "7450320b",
   "metadata": {},
   "outputs": [
    {
     "data": {
      "text/plain": [
       "Mazda RX4           -2.572329\n",
       "Mazda RX4 Wag       -1.583483\n",
       "Datsun 710          -2.475819\n",
       "Hornet 4 Drive       0.134980\n",
       "Hornet Sportabout    0.372733\n",
       "dtype: float64"
      ]
     },
     "execution_count": 55,
     "metadata": {},
     "output_type": "execute_result"
    }
   ],
   "source": [
    "# Residuals : Predict - Actual (DV)\n",
    "lm2.resid.head()"
   ]
  },
  {
   "cell_type": "code",
   "execution_count": 62,
   "id": "66088237",
   "metadata": {},
   "outputs": [
    {
     "name": "stdout",
     "output_type": "stream",
     "text": [
      "                    mpg     wt     hp  predicted  residuals\n",
      "Mazda RX4          21.0  2.620  110.0  23.572329  -2.572329\n",
      "Mazda RX4 Wag      21.0  2.875  110.0  22.583483  -1.583483\n",
      "Datsun 710         22.8  2.320   93.0  25.275819  -2.475819\n",
      "Hornet 4 Drive     21.4  3.215  110.0  21.265020   0.134980\n",
      "Hornet Sportabout  18.7  3.440  175.0  18.327267   0.372733\n"
     ]
    }
   ],
   "source": [
    "#pip install bioinfokit\n",
    "#from bioinfokit import visuz\n",
    "import seaborn as sns\n",
    "import matplotlib.pyplot as plt\n",
    "\n",
    "# create a DataFrame of predicted values and residuals\n",
    "df1.loc[\"predicted\"] = lm2.predict(x)\n",
    "df1.loc[\"residuals\"] = lm2.resid\n",
    "print(df1.head())"
   ]
  },
  {
   "cell_type": "code",
   "execution_count": 63,
   "id": "e11f0b4a",
   "metadata": {},
   "outputs": [
    {
     "data": {
      "text/plain": [
       "<matplotlib.lines.Line2D at 0x21b1fa96610>"
      ]
     },
     "execution_count": 63,
     "metadata": {},
     "output_type": "execute_result"
    },
    {
     "data": {
      "image/png": "[encoded data removed]",
      "text/plain": [
       "<Figure size 640x480 with 1 Axes>"
      ]
     },
     "metadata": {},
     "output_type": "display_data"
    }
   ],
   "source": [
    "sns.scatterplot(data=df1, x=\"predicted\", y=\"residuals\")\n",
    "plt.axhline(y=0)"
   ]
  },
  {
   "cell_type": "code",
   "execution_count": null,
   "id": "cb4818bf",
   "metadata": {},
   "outputs": [],
   "source": [
    "### Some Terms\n",
    "Best Fit - The straight line in a plot that minimizes the divergence between related dispersed data points\n",
    "Coefficient - Also known as a parameter, is the factor that is multiplied by a variable. A coefficient in linear regression represents changes in a Response Variable \n",
    "Coefficient of Determination - It is the correlation coefficient. In a regression, this term is used to define the precision or degree of fit\n",
    "Correlation - the measurable intensity and degree of association between two variables, often known as the 'degree of correlation.' The values range from -1.0 to 1.0\n",
    "Dependent Feature - A variable represented as y in the slope equation y=ax+b. Also referred to as an Output or a Response\n",
    "Estimated Regression Line - the straight line that best fits a set of randomly distributed data points\n",
    "Independent Feature - a variable represented by the letter x in the slope equation y=ax+b. Also referred to as an Input or a predictor\n",
    "Intercept - It is the point at where the slope intersects the Y-axis, indicated by the letter b in the slope equation y=ax+b\n",
    "Least Squares - a method for calculating the best fit to data by minimizing the sum of the squares of the discrepancies between observed and estimated values\n",
    "Mean - an average of a group of numbers; nevertheless, in linear regression, Mean is represented by a linear function\n",
    "OLS (Ordinary Least Squares Regression) - sometimes known as Linear Regression.\n",
    "Residual - the vertical distance between a data point and the regression line\n",
    "Regression - is an assessment of a variable's predicted change in relation to changes in other variables\n",
    "Regression Model - The optimum formula for approximating a regression \n",
    "Response Variables - This category covers both the Predicted Response (the value predicted by the regression) and the Actual Response (the actual value of the data point) \n",
    "Slope - the steepness of a regression line. The linear relationship between two variables may be defined using slope and intercept: y=ax+b\n",
    "Simple linear regression - A linear regression with a single independent variable"
   ]
  }
 ],
 "metadata": {
  "kernelspec": {
   "display_name": "Python 3 (ipykernel)",
   "language": "python",
   "name": "python3"
  },
  "language_info": {
   "codemirror_mode": {
    "name": "ipython",
    "version": 3
   },
   "file_extension": ".py",
   "mimetype": "text/x-python",
   "name": "python",
   "nbconvert_exporter": "python",
   "pygments_lexer": "ipython3",
   "version": "3.9.13"
  }
 },
 "nbformat": 4,
 "nbformat_minor": 5
}
