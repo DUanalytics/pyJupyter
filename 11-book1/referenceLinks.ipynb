{
 "cells": [
  {
   "cell_type": "markdown",
   "id": "f7a7ce28",
   "metadata": {},
   "source": [
    "# Links for references"
   ]
  },
  {
   "cell_type": "code",
   "execution_count": null,
   "id": "74d75178",
   "metadata": {},
   "outputs": [],
   "source": []
  },
  {
   "cell_type": "markdown",
   "id": "4040ab51",
   "metadata": {},
   "source": [
    "## Cheatsheets"
   ]
  },
  {
   "cell_type": "markdown",
   "id": "6026baf2",
   "metadata": {},
   "source": [
    "https://www.codewithharry.com/blogpost/python-cheatsheet/\n",
    "https://intellipaat.com/blog/tutorial/python-tutorial/python-cheat-sheet-basics/\n",
    "https://www.interviewbit.com/python-cheat-sheet/\n",
    "https://analyticsindiamag.com/top-10-python-cheat-sheets-in-2022/\n",
    "https://quickref.me/python"
   ]
  },
  {
   "cell_type": "code",
   "execution_count": null,
   "id": "2e092752",
   "metadata": {},
   "outputs": [],
   "source": []
  },
  {
   "cell_type": "markdown",
   "id": "fd0e7394",
   "metadata": {},
   "source": [
    "## Ebooks"
   ]
  },
  {
   "cell_type": "code",
   "execution_count": null,
   "id": "989b371e",
   "metadata": {},
   "outputs": [],
   "source": []
  },
  {
   "cell_type": "markdown",
   "id": "3b9a8007",
   "metadata": {},
   "source": [
    "## Datasets"
   ]
  }
 ],
 "metadata": {
  "kernelspec": {
   "display_name": "Python 3 (ipykernel)",
   "language": "python",
   "name": "python3"
  },
  "language_info": {
   "codemirror_mode": {
    "name": "ipython",
    "version": 3
   },
   "file_extension": ".py",
   "mimetype": "text/x-python",
   "name": "python",
   "nbconvert_exporter": "python",
   "pygments_lexer": "ipython3",
   "version": "3.9.12"
  }
 },
 "nbformat": 4,
 "nbformat_minor": 5
}
