{
 "cells": [
  {
   "cell_type": "code",
   "execution_count": 9,
   "id": "d7d92b60-5ad5-43ac-80b6-4552509e8977",
   "metadata": {},
   "outputs": [],
   "source": [
    "import numpy as np"
   ]
  },
  {
   "cell_type": "code",
   "execution_count": 10,
   "id": "4f043953-e7d2-47f2-b7ac-86cd450788cf",
   "metadata": {},
   "outputs": [],
   "source": [
    "x = np.random.randint(1,10, 10)"
   ]
  },
  {
   "cell_type": "code",
   "execution_count": 11,
   "id": "a08a48eb-4237-4937-9503-48677b33b1cf",
   "metadata": {},
   "outputs": [
    {
     "name": "stdout",
     "output_type": "stream",
     "text": [
      "[7 4 8 2 1 3 6 9 8 1]\n"
     ]
    }
   ],
   "source": [
    "print(x)"
   ]
  },
  {
   "cell_type": "code",
   "execution_count": null,
   "id": "b6cc09e5-b0fd-4384-8913-22b0d96d1c28",
   "metadata": {},
   "outputs": [],
   "source": []
  },
  {
   "cell_type": "code",
   "execution_count": null,
   "id": "905cdfbe-f219-4179-a5bb-a6972462da3a",
   "metadata": {
    "tags": [
     "ss"
    ]
   },
   "outputs": [],
   "source": []
  }
 ],
 "metadata": {
  "kernelspec": {
   "display_name": "Python 3 (ipykernel)",
   "language": "python",
   "name": "python3"
  },
  "language_info": {
   "codemirror_mode": {
    "name": "ipython",
    "version": 3
   },
   "file_extension": ".py",
   "mimetype": "text/x-python",
   "name": "python",
   "nbconvert_exporter": "python",
   "pygments_lexer": "ipython3",
   "version": "3.9.12"
  },
  "toc-autonumbering": true,
  "toc-showtags": true
 },
 "nbformat": 4,
 "nbformat_minor": 5
}
