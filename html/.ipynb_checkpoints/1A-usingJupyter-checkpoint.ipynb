{
 "cells": [
  {
   "cell_type": "code",
   "execution_count": 2,
   "id": "b363024f",
   "metadata": {},
   "outputs": [],
   "source": [
    "#this is first file on using jupyter"
   ]
  },
  {
   "cell_type": "code",
   "execution_count": 3,
   "id": "86ae3178",
   "metadata": {},
   "outputs": [],
   "source": [
    "#  hash(#) symbol on first character of line does not execute the line, it acts as comment"
   ]
  },
  {
   "cell_type": "code",
   "execution_count": 4,
   "id": "d8ada99f",
   "metadata": {},
   "outputs": [],
   "source": [
    "#  to execute a line of code and move to next line, press SHIFT + ENTER"
   ]
  },
  {
   "cell_type": "code",
   "execution_count": 5,
   "id": "161443db",
   "metadata": {},
   "outputs": [
    {
     "name": "stdout",
     "output_type": "stream",
     "text": [
      "Hello World\n"
     ]
    }
   ],
   "source": [
    "#  to go next line in the same block of code, press ENTER\n",
    "print('Hello World')"
   ]
  },
  {
   "cell_type": "code",
   "execution_count": 6,
   "id": "bcd8da95",
   "metadata": {},
   "outputs": [],
   "source": [
    "# when a line is execute, ie when CNTRL + ENTER is pressed, IN[]   there is number which can be see "
   ]
  },
  {
   "cell_type": "code",
   "execution_count": 7,
   "id": "74d1f9ea",
   "metadata": {},
   "outputs": [],
   "source": [
    "# Auto Complete keywords can be done by pressing Tab button after start of the word\n",
    "first_name ='Dhiraj'"
   ]
  },
  {
   "cell_type": "code",
   "execution_count": 8,
   "id": "d727dec9",
   "metadata": {},
   "outputs": [
    {
     "data": {
      "text/plain": [
       "'Dhiraj'"
      ]
     },
     "execution_count": 8,
     "metadata": {},
     "output_type": "execute_result"
    }
   ],
   "source": [
    "#first_  (now press Tab)\n",
    "first_name"
   ]
  },
  {
   "cell_type": "code",
   "execution_count": 9,
   "id": "0f0b684f",
   "metadata": {},
   "outputs": [],
   "source": [
    "#if there is an output, then Out[] can be seen with line number of input"
   ]
  },
  {
   "cell_type": "code",
   "execution_count": 10,
   "id": "fb8e8c39",
   "metadata": {},
   "outputs": [],
   "source": [
    "#command mode\n",
    "#when you are editing a block of code, it is green around the border. during this mode hot keys do not work\n",
    "#when you press Esc key, border color of the cell changes to blue, now command mode is active and hot keys are applicable"
   ]
  },
  {
   "cell_type": "code",
   "execution_count": 11,
   "id": "2cb0294d",
   "metadata": {},
   "outputs": [],
   "source": [
    "#hotkeys\n",
    "# A - add cell above, B - add cell beow\n",
    "# when "
   ]
  },
  {
   "cell_type": "code",
   "execution_count": 12,
   "id": "98f338cb",
   "metadata": {},
   "outputs": [],
   "source": [
    "#check shortcuts \n",
    "#Help"
   ]
  },
  {
   "cell_type": "code",
   "execution_count": 13,
   "id": "d2d4b221",
   "metadata": {},
   "outputs": [],
   "source": [
    "#online help\n",
    "\n",
    "#context sensitive help\n",
    "import pandas as pd"
   ]
  },
  {
   "cell_type": "markdown",
   "id": "bbdbecfe",
   "metadata": {},
   "source": [
    "#Links\n",
    "#https://www.youtube.com/watch?v=z-87oa3-QRs"
   ]
  },
  {
   "cell_type": "code",
   "execution_count": 14,
   "id": "41d798ed",
   "metadata": {
    "scrolled": true
   },
   "outputs": [
    {
     "data": {
      "text/plain": [
       "<function pandas.io.parsers.readers.read_csv(filepath_or_buffer: 'FilePath | ReadCsvBuffer[bytes] | ReadCsvBuffer[str]', sep=<no_default>, delimiter=None, header='infer', names=<no_default>, index_col=None, usecols=None, squeeze=None, prefix=<no_default>, mangle_dupe_cols=True, dtype: 'DtypeArg | None' = None, engine: 'CSVEngine | None' = None, converters=None, true_values=None, false_values=None, skipinitialspace=False, skiprows=None, skipfooter=0, nrows=None, na_values=None, keep_default_na=True, na_filter=True, verbose=False, skip_blank_lines=True, parse_dates=None, infer_datetime_format=False, keep_date_col=False, date_parser=None, dayfirst=False, cache_dates=True, iterator=False, chunksize=None, compression: 'CompressionOptions' = 'infer', thousands=None, decimal: 'str' = '.', lineterminator=None, quotechar='\"', quoting=0, doublequote=True, escapechar=None, comment=None, encoding=None, encoding_errors: 'str | None' = 'strict', dialect=None, error_bad_lines=None, warn_bad_lines=None, on_bad_lines=None, delim_whitespace=False, low_memory=True, memory_map=False, float_precision=None, storage_options: 'StorageOptions' = None)>"
      ]
     },
     "execution_count": 14,
     "metadata": {},
     "output_type": "execute_result"
    }
   ],
   "source": [
    "pd.read_csv   #and after v click on then SHIFT + TAB  #see that file is trusted"
   ]
  },
  {
   "cell_type": "code",
   "execution_count": 15,
   "id": "4657be22",
   "metadata": {},
   "outputs": [],
   "source": [
    "#Markdown\n",
    "#type a text in cell, select the cell, from the menu dropdown where code is seen, change it to Markdown\n",
    "#if want to change heading type, put #, ##, ### to change its type and size\n",
    "#when it is put in markdown, it will never exeucte"
   ]
  },
  {
   "cell_type": "markdown",
   "id": "c2ac1173",
   "metadata": {},
   "source": [
    "This is comment in markdown"
   ]
  },
  {
   "cell_type": "markdown",
   "id": "e496b793",
   "metadata": {},
   "source": [
    "## This is 2nd markdown comment"
   ]
  },
  {
   "cell_type": "code",
   "execution_count": 16,
   "id": "b08c5b2d",
   "metadata": {},
   "outputs": [],
   "source": [
    "#shutting down Jupyter Notebook properly\n",
    "#File - Close and Halt"
   ]
  }
 ],
 "metadata": {
  "kernelspec": {
   "display_name": "Python 3 (ipykernel)",
   "language": "python",
   "name": "python3"
  },
  "language_info": {
   "codemirror_mode": {
    "name": "ipython",
    "version": 3
   },
   "file_extension": ".py",
   "mimetype": "text/x-python",
   "name": "python",
   "nbconvert_exporter": "python",
   "pygments_lexer": "ipython3",
   "version": "3.9.12"
  }
 },
 "nbformat": 4,
 "nbformat_minor": 5
}
