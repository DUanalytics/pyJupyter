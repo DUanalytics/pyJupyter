{
 "cells": [
  {
   "cell_type": "code",
   "execution_count": 3,
   "id": "337ab6bc",
   "metadata": {},
   "outputs": [],
   "source": [
    "#histogram"
   ]
  },
  {
   "cell_type": "code",
   "execution_count": 4,
   "id": "8019860a",
   "metadata": {},
   "outputs": [],
   "source": [
    "#import libraries\n",
    "import numpy as np\n",
    "import pandas as pd\n",
    "import matplotlib.pyplot as plt"
   ]
  },
  {
   "cell_type": "code",
   "execution_count": 13,
   "id": "ce45f28f",
   "metadata": {},
   "outputs": [
    {
     "name": "stdout",
     "output_type": "stream",
     "text": [
      "2, 5, 70, 40, 30, 45, 50, 45, 43, 40, 44, 60, 7, 13, 57, 18, 90, 77, 32, 21, 20, 40, "
     ]
    }
   ],
   "source": [
    "#sample Data\n",
    "ages = [2,5,70,40,30,45,50,45,43,40,44,60,7,13,57,18,90,77,32,21,20,40]\n",
    "for i in ages:    print(i, end =', ')\n",
    "#ages"
   ]
  },
  {
   "cell_type": "code",
   "execution_count": 14,
   "id": "71373796",
   "metadata": {},
   "outputs": [
    {
     "data": {
      "image/png": "[encoded data removed]",
      "text/plain": [
       "<Figure size 432x288 with 1 Axes>"
      ]
     },
     "metadata": {
      "needs_background": "light"
     },
     "output_type": "display_data"
    }
   ],
   "source": [
    "# frequencies\n",
    "# setting the ranges and no. of intervals\n",
    "range = (0, 100) #intervals in this range\n",
    "bins = 10  #how many bars\n",
    "  \n",
    "# plotting a histogram\n",
    "plt.hist(ages, bins, range, color = 'green',   histtype = 'bar', rwidth = 0.8)\n",
    "plt.xlabel('age') # x-axis label\n",
    "plt.ylabel('No. of people') # frequency label\n",
    "plt.title('My histogram') # plot title\n",
    "plt.show() # function to show the plot"
   ]
  },
  {
   "cell_type": "code",
   "execution_count": 15,
   "id": "7d8dc461",
   "metadata": {},
   "outputs": [
    {
     "data": {
      "text/plain": [
       "(2, 90)"
      ]
     },
     "execution_count": 15,
     "metadata": {},
     "output_type": "execute_result"
    }
   ],
   "source": [
    "np.min(ages), np.max(ages)"
   ]
  },
  {
   "cell_type": "code",
   "execution_count": null,
   "id": "c867b183",
   "metadata": {},
   "outputs": [],
   "source": [
    "#more ways of constructing histogram"
   ]
  }
 ],
 "metadata": {
  "kernelspec": {
   "display_name": "Python 3 (ipykernel)",
   "language": "python",
   "name": "python3"
  },
  "language_info": {
   "codemirror_mode": {
    "name": "ipython",
    "version": 3
   },
   "file_extension": ".py",
   "mimetype": "text/x-python",
   "name": "python",
   "nbconvert_exporter": "python",
   "pygments_lexer": "ipython3",
   "version": "3.9.12"
  }
 },
 "nbformat": 4,
 "nbformat_minor": 5
}
