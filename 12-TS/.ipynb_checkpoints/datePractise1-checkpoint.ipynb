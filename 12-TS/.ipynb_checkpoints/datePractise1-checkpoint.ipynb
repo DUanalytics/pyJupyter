{
 "cells": [
  {
   "cell_type": "code",
   "execution_count": null,
   "id": "b9c41f80",
   "metadata": {},
   "outputs": [],
   "source": [
    "# date practise"
   ]
  },
  {
   "cell_type": "code",
   "execution_count": 3,
   "id": "2eb7025b",
   "metadata": {},
   "outputs": [],
   "source": [
    "import pandas as pd\n",
    "import numpy as np\n",
    "import datetime as dt\n",
    "import matplotlib.pyplot as plt\n",
    "from dateutil.parser import parse"
   ]
  },
  {
   "cell_type": "markdown",
   "id": "3ea86404",
   "metadata": {},
   "source": [
    "#date in string, no day; set default day"
   ]
  },
  {
   "cell_type": "code",
   "execution_count": 2,
   "id": "10c29f7b",
   "metadata": {},
   "outputs": [
    {
     "data": {
      "text/plain": [
       "0    Jan 2022\n",
       "1    Feb 2022\n",
       "2    Mar 2022\n",
       "dtype: object"
      ]
     },
     "execution_count": 2,
     "metadata": {},
     "output_type": "execute_result"
    }
   ],
   "source": [
    "ser1 = pd.Series(['Jan 2022', 'Feb 2022', 'Mar 2022'])\n",
    "ser1"
   ]
  },
  {
   "cell_type": "code",
   "execution_count": 8,
   "id": "12d61716",
   "metadata": {},
   "outputs": [
    {
     "data": {
      "text/plain": [
       "0   2022-01-17\n",
       "1   2022-02-17\n",
       "2   2022-03-17\n",
       "dtype: datetime64[ns]"
      ]
     },
     "execution_count": 8,
     "metadata": {},
     "output_type": "execute_result"
    }
   ],
   "source": [
    "#parse(ser1)   #it should be string.. use loop functions like map\n",
    "ser1_ts = ser1.map(lambda x: parse(x))\n",
    "ser1_ts   # here default is today day"
   ]
  },
  {
   "cell_type": "code",
   "execution_count": 12,
   "id": "071401e0",
   "metadata": {},
   "outputs": [
    {
     "data": {
      "text/plain": [
       "0    2022-1\n",
       "1    2022-2\n",
       "2    2022-3\n",
       "dtype: object"
      ]
     },
     "execution_count": 12,
     "metadata": {},
     "output_type": "execute_result"
    }
   ],
   "source": [
    "#conver to string : get year, month and concatenate with 4\n",
    "ser1_ts.dt.year.astype('str') + '-' + ser1_ts.dt.month.astype('str')"
   ]
  },
  {
   "cell_type": "code",
   "execution_count": 15,
   "id": "97ff80bf",
   "metadata": {},
   "outputs": [
    {
     "data": {
      "text/plain": [
       "0    2022-1-4\n",
       "1    2022-2-4\n",
       "2    2022-3-4\n",
       "dtype: object"
      ]
     },
     "execution_count": 15,
     "metadata": {},
     "output_type": "execute_result"
    }
   ],
   "source": [
    "ser1_datestr = ser1_ts.dt.year.astype('str') + '-' + ser1_ts.dt.month.astype('str') + '-' + '4'\n",
    "ser1_datestr"
   ]
  },
  {
   "cell_type": "code",
   "execution_count": 17,
   "id": "915941b2",
   "metadata": {},
   "outputs": [
    {
     "data": {
      "text/plain": [
       "['2022-01-04', '2022-02-04', '2022-03-04']"
      ]
     },
     "execution_count": 17,
     "metadata": {},
     "output_type": "execute_result"
    }
   ],
   "source": [
    "[parse(i).strftime(format='%Y-%m-%d') for i in ser1_datestr]"
   ]
  },
  {
   "cell_type": "code",
   "execution_count": 20,
   "id": "8f546b3f",
   "metadata": {},
   "outputs": [
    {
     "data": {
      "text/plain": [
       "0    4Jan 2022\n",
       "1    4Feb 2022\n",
       "2    4Mar 2022\n",
       "dtype: object"
      ]
     },
     "execution_count": 20,
     "metadata": {},
     "output_type": "execute_result"
    }
   ],
   "source": [
    "'4' + ser1"
   ]
  },
  {
   "cell_type": "code",
   "execution_count": 18,
   "id": "364856f9",
   "metadata": {},
   "outputs": [
    {
     "data": {
      "text/plain": [
       "0   2022-01-04\n",
       "1   2022-02-04\n",
       "2   2022-03-04\n",
       "dtype: datetime64[ns]"
      ]
     },
     "execution_count": 18,
     "metadata": {},
     "output_type": "execute_result"
    }
   ],
   "source": [
    "#1 line soln\n",
    "ser1.map(lambda x: parse('4' + x))   #date time , parse selects the format"
   ]
  },
  {
   "cell_type": "code",
   "execution_count": null,
   "id": "f9b535e4",
   "metadata": {},
   "outputs": [],
   "source": []
  }
 ],
 "metadata": {
  "kernelspec": {
   "display_name": "Python 3 (ipykernel)",
   "language": "python",
   "name": "python3"
  },
  "language_info": {
   "codemirror_mode": {
    "name": "ipython",
    "version": 3
   },
   "file_extension": ".py",
   "mimetype": "text/x-python",
   "name": "python",
   "nbconvert_exporter": "python",
   "pygments_lexer": "ipython3",
   "version": "3.9.15"
  }
 },
 "nbformat": 4,
 "nbformat_minor": 5
}
