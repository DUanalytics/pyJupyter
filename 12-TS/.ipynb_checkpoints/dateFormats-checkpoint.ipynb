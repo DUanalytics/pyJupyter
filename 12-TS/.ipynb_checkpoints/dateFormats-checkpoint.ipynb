{
 "cells": [
  {
   "cell_type": "markdown",
   "id": "99c95863",
   "metadata": {},
   "source": [
    "# Dates Formats"
   ]
  },
  {
   "cell_type": "markdown",
   "id": "ed39f6ee",
   "metadata": {},
   "source": [
    "# Libraries"
   ]
  },
  {
   "cell_type": "code",
   "execution_count": 13,
   "id": "bfb9f3df",
   "metadata": {},
   "outputs": [],
   "source": [
    "from datetime import datetime  #datetime\n",
    "from dateutil import parser # Parser\n",
    "import numpy as np #Numpy datetime np.datetime64\n",
    "import pandas as pd  # Pandas Datetime pd.to_datetime"
   ]
  },
  {
   "cell_type": "code",
   "execution_count": 3,
   "id": "7c0ca21b",
   "metadata": {},
   "outputs": [
    {
     "name": "stdout",
     "output_type": "stream",
     "text": [
      "2022-11-03 00:00:00\n"
     ]
    }
   ],
   "source": [
    "# Date components\n",
    "d1= datetime(year=2022, month=11, day=3)\n",
    "print(d1)"
   ]
  },
  {
   "cell_type": "code",
   "execution_count": 5,
   "id": "10390e3b",
   "metadata": {},
   "outputs": [
    {
     "name": "stdout",
     "output_type": "stream",
     "text": [
      "2022-11-03 07:30:00\n"
     ]
    }
   ],
   "source": [
    "# Date in String form\n",
    "d2=parser.parse('3rd November 2022 0730 am')\n",
    "print(d2)"
   ]
  },
  {
   "cell_type": "code",
   "execution_count": 16,
   "id": "585e8668",
   "metadata": {},
   "outputs": [
    {
     "name": "stdout",
     "output_type": "stream",
     "text": [
      "2022-11-03\n",
      "2022-11-03\n",
      "2022-11-03T08:00\n"
     ]
    }
   ],
   "source": [
    "# Create date from numpy library\n",
    "d3 = np.array('2022-11-03', dtype=np.datetime64) #format in which written\n",
    "print(d3)\n",
    "\n",
    "print(np.datetime64('2022-11-03'))\n",
    "print(np.datetime64('2022-11-03 08:00'))"
   ]
  },
  {
   "cell_type": "code",
   "execution_count": 9,
   "id": "eccc44ee",
   "metadata": {},
   "outputs": [
    {
     "name": "stdout",
     "output_type": "stream",
     "text": [
      "2022-11-04\n",
      "['2022-11-04' '2022-11-05' '2022-11-06']\n"
     ]
    }
   ],
   "source": [
    "# Date Arithmetic\n",
    "print(d3 + 1)\n",
    "print(d3 + [1,2,3])\n",
    "print(d3 + np.array([5,10,11]))\n",
    "print(d3 + np.arange(12))\n"
   ]
  },
  {
   "cell_type": "markdown",
   "id": "bb7c031e",
   "metadata": {},
   "source": [
    "## Pandas Date Time"
   ]
  },
  {
   "cell_type": "code",
   "execution_count": 15,
   "id": "ae8f04e6",
   "metadata": {},
   "outputs": [
    {
     "name": "stdout",
     "output_type": "stream",
     "text": [
      "2022-11-01 00:00:00\n"
     ]
    }
   ],
   "source": [
    "d4 = pd.to_datetime('1st Nov 2022')\n",
    "print(d4)"
   ]
  },
  {
   "cell_type": "code",
   "execution_count": null,
   "id": "2c526719",
   "metadata": {},
   "outputs": [],
   "source": [
    "# Date Arithmetic - Pandas\n",
    "d4 + 1  #will not work , not numpy format"
   ]
  },
  {
   "cell_type": "code",
   "execution_count": 18,
   "id": "b127d0e4",
   "metadata": {},
   "outputs": [],
   "source": [
    "# Vectorised Operations\n",
    "#print(d4 + np.arange(12)) #this will also not work\n",
    "#print(d4 + pd.to_timedelta(np.arange(12)))  #not correct"
   ]
  },
  {
   "cell_type": "code",
   "execution_count": 23,
   "id": "eff5fba4",
   "metadata": {},
   "outputs": [
    {
     "name": "stdout",
     "output_type": "stream",
     "text": [
      "DatetimeIndex(['2022-11-01', '2022-11-02', '2022-11-03', '2022-11-04',\n",
      "               '2022-11-05', '2022-11-06', '2022-11-07', '2022-11-08',\n",
      "               '2022-11-09', '2022-11-10', '2022-11-11', '2022-11-12'],\n",
      "              dtype='datetime64[ns]', freq=None)\n"
     ]
    }
   ],
   "source": [
    "# Correct way\n",
    "print(d4 + pd.to_timedelta(np.arange(12), unit='D')) # daily interval\n",
    "# other units - W, D, h, m, s\n",
    "# https://pandas.pydata.org/docs/reference/api/pandas.to_timedelta.html"
   ]
  },
  {
   "cell_type": "code",
   "execution_count": 25,
   "id": "ce9565ba",
   "metadata": {},
   "outputs": [
    {
     "name": "stderr",
     "output_type": "stream",
     "text": [
      "C:\\Users\\du\\AppData\\Local\\Temp\\ipykernel_7544\\1772294174.py:2: UserWarning: Parsing '18-07-2019' in DD/MM/YYYY format. Provide format or specify infer_datetime_format=True for consistent parsing.\n",
      "  dates3 = pd.to_datetime([ datetime(2019,7,10), '11th July 2019','2019-7-15', '2019-07-20', '18-07-2019'], infer_datetime_format=True)\n"
     ]
    },
    {
     "data": {
      "text/plain": [
       "DatetimeIndex(['2019-07-10', '2019-07-11', '2019-07-15', '2019-07-20',\n",
       "               '2019-07-18'],\n",
       "              dtype='datetime64[ns]', freq=None)"
      ]
     },
     "execution_count": 25,
     "metadata": {},
     "output_type": "execute_result"
    }
   ],
   "source": [
    "#Parsing a series of Dates with different dates \n",
    "dates3 = pd.to_datetime([ datetime(2019,7,10), '11th July 2019','2019-7-15',\n",
    "                         '2019-07-20', '18-07-2019'], infer_datetime_format=True) \n",
    "dates3\n",
    "# Warning : https://github.com/pandas-dev/pandas/issues/46210"
   ]
  },
  {
   "cell_type": "code",
   "execution_count": 36,
   "id": "5691ca59",
   "metadata": {},
   "outputs": [
    {
     "data": {
      "text/plain": [
       "Timedelta('1212 days 08:22:57.918068')"
      ]
     },
     "execution_count": 36,
     "metadata": {},
     "output_type": "execute_result"
    }
   ],
   "source": [
    "datetime.today() - dates3[0]"
   ]
  },
  {
   "cell_type": "code",
   "execution_count": 27,
   "id": "7822891c",
   "metadata": {},
   "outputs": [
    {
     "data": {
      "text/plain": [
       "DatetimeIndex(['2022-07-01', '2022-07-02', '2022-07-03', '2022-07-04',\n",
       "               '2022-07-05', '2022-07-06', '2022-07-07', '2022-07-08',\n",
       "               '2022-07-09', '2022-07-10',\n",
       "               ...\n",
       "               '2022-10-21', '2022-10-22', '2022-10-23', '2022-10-24',\n",
       "               '2022-10-25', '2022-10-26', '2022-10-27', '2022-10-28',\n",
       "               '2022-10-29', '2022-10-30'],\n",
       "              dtype='datetime64[ns]', length=122, freq='D')"
      ]
     },
     "execution_count": 27,
     "metadata": {},
     "output_type": "execute_result"
    }
   ],
   "source": [
    "#pandas sequence\n",
    "pd.date_range('2022-07-01', '2022-10-30')"
   ]
  },
  {
   "cell_type": "code",
   "execution_count": 28,
   "id": "793516cf",
   "metadata": {},
   "outputs": [
    {
     "data": {
      "text/plain": [
       "DatetimeIndex(['2022-07-01', '2022-07-02', '2022-07-03', '2022-07-04',\n",
       "               '2022-07-05', '2022-07-06', '2022-07-07', '2022-07-08',\n",
       "               '2022-07-09', '2022-07-10', '2022-07-11', '2022-07-12',\n",
       "               '2022-07-13', '2022-07-14', '2022-07-15', '2022-07-16',\n",
       "               '2022-07-17', '2022-07-18', '2022-07-19', '2022-07-20',\n",
       "               '2022-07-21', '2022-07-22', '2022-07-23', '2022-07-24',\n",
       "               '2022-07-25', '2022-07-26', '2022-07-27', '2022-07-28',\n",
       "               '2022-07-29', '2022-07-30', '2022-07-31', '2022-08-01',\n",
       "               '2022-08-02', '2022-08-03', '2022-08-04', '2022-08-05',\n",
       "               '2022-08-06', '2022-08-07', '2022-08-08', '2022-08-09',\n",
       "               '2022-08-10', '2022-08-11', '2022-08-12', '2022-08-13',\n",
       "               '2022-08-14'],\n",
       "              dtype='datetime64[ns]', freq='D')"
      ]
     },
     "execution_count": 28,
     "metadata": {},
     "output_type": "execute_result"
    }
   ],
   "source": [
    "#pandas periods from a date\n",
    "pd.date_range('2022-07-01', periods=45)"
   ]
  },
  {
   "cell_type": "code",
   "execution_count": 30,
   "id": "fa432a0b",
   "metadata": {},
   "outputs": [
    {
     "data": {
      "text/plain": [
       "DatetimeIndex(['2022-07-31', '2022-08-31', '2022-09-30'], dtype='datetime64[ns]', freq='M')"
      ]
     },
     "execution_count": 30,
     "metadata": {},
     "output_type": "execute_result"
    }
   ],
   "source": [
    "#periods from date with a freq\n",
    "pd.date_range('2022-07-01', periods=3, freq='M')"
   ]
  },
  {
   "cell_type": "code",
   "execution_count": 31,
   "id": "960a18be",
   "metadata": {},
   "outputs": [
    {
     "data": {
      "text/plain": [
       "DatetimeIndex(['2022-07-01 00:00:00', '2022-07-01 01:00:00',\n",
       "               '2022-07-01 02:00:00', '2022-07-01 03:00:00',\n",
       "               '2022-07-01 04:00:00'],\n",
       "              dtype='datetime64[ns]', freq='H')"
      ]
     },
     "execution_count": 31,
     "metadata": {},
     "output_type": "execute_result"
    }
   ],
   "source": [
    "pd.date_range('2022-07-01', periods=5, freq='H')"
   ]
  },
  {
   "cell_type": "code",
   "execution_count": 33,
   "id": "acba0ff7",
   "metadata": {},
   "outputs": [
    {
     "data": {
      "text/plain": [
       "TimedeltaIndex(['0 days 00:00:00', '0 days 04:20:00', '0 days 08:40:00',\n",
       "                '0 days 13:00:00', '0 days 17:20:00', '0 days 21:40:00',\n",
       "                '1 days 02:00:00', '1 days 06:20:00', '1 days 10:40:00'],\n",
       "               dtype='timedelta64[ns]', freq='260T')"
      ]
     },
     "execution_count": 33,
     "metadata": {},
     "output_type": "execute_result"
    }
   ],
   "source": [
    "# in difference of days and time \n",
    "pd.timedelta_range(0, periods=9, freq='4H20T')   #2 hours, 10 minutes"
   ]
  },
  {
   "cell_type": "code",
   "execution_count": 35,
   "id": "689b038b",
   "metadata": {},
   "outputs": [
    {
     "data": {
      "text/plain": [
       "DatetimeIndex(['2022-11-01', '2022-11-02', '2022-11-03', '2022-11-04',\n",
       "               '2022-11-07', '2022-11-08', '2022-11-09', '2022-11-10',\n",
       "               '2022-11-11'],\n",
       "              dtype='datetime64[ns]', freq='B')"
      ]
     },
     "execution_count": 35,
     "metadata": {},
     "output_type": "execute_result"
    }
   ],
   "source": [
    "#business day offser\n",
    "from pandas.tseries.offsets import BDay\n",
    "pd.date_range('2022-11-01', periods=9, freq=BDay())\n",
    "#see the gap in days - Sat & Sun\n"
   ]
  },
  {
   "cell_type": "code",
   "execution_count": null,
   "id": "28c3298a",
   "metadata": {},
   "outputs": [],
   "source": [
    "datetime.today() - dates3[0]"
   ]
  },
  {
   "cell_type": "markdown",
   "id": "092f437f",
   "metadata": {},
   "source": [
    "##  links\n",
    "https://pandas.pydata.org/docs/user_guide/timedeltas.html"
   ]
  }
 ],
 "metadata": {
  "kernelspec": {
   "display_name": "Python 3 (ipykernel)",
   "language": "python",
   "name": "python3"
  },
  "language_info": {
   "codemirror_mode": {
    "name": "ipython",
    "version": 3
   },
   "file_extension": ".py",
   "mimetype": "text/x-python",
   "name": "python",
   "nbconvert_exporter": "python",
   "pygments_lexer": "ipython3",
   "version": "3.9.12"
  }
 },
 "nbformat": 4,
 "nbformat_minor": 5
}
