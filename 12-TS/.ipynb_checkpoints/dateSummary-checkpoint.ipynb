{
 "cells": [
  {
   "cell_type": "code",
   "execution_count": null,
   "id": "9c7f8ee5",
   "metadata": {},
   "outputs": [],
   "source": [
    "# Create Dates data and Date Summary"
   ]
  },
  {
   "cell_type": "code",
   "execution_count": null,
   "id": "6a3c5606",
   "metadata": {},
   "outputs": [],
   "source": [
    "## Libraries"
   ]
  },
  {
   "cell_type": "code",
   "execution_count": 1,
   "id": "2f0dc5a1",
   "metadata": {},
   "outputs": [],
   "source": [
    "from datetime import datetime  #datetime\n",
    "from dateutil import parser # Parser\n",
    "import numpy as np #Numpy datetime np.datetime64\n",
    "import pandas as pd  # Pandas Datetime pd.to_datetime"
   ]
  },
  {
   "cell_type": "code",
   "execution_count": 2,
   "id": "52614d87",
   "metadata": {},
   "outputs": [
    {
     "name": "stdout",
     "output_type": "stream",
     "text": [
      "[40 44 31 46 37 45 49 40 42 48 34 36 37 47 49 41 30 41 34 47 40 43 41 37\n",
      " 30 27 31 28 32 36 25 34 36 41 28 27 44 37 26 36 44 36 42 39 44 32 35 36\n",
      " 39 42 48 38 45 25 37 30 42 30 45 38 41 34 33 49 37 31 49 47 37 44 40 42\n",
      " 43 46 39 27 30 38 31 32 29 28 30 39 40 47 45 47 40 40 27 35 29 43 32 48\n",
      " 36 39 48 43 48 45 34 25 27 26 43 42 46 32 29 48 32 42 45 25 46 45 34 43\n",
      " 34 26 39 28 37 46 34 38 44 25 29 29 25 47 49 45 33 37 42 49 34 40 33 27\n",
      " 41 36 27 43 40 28 39 27 48 29 49 26 35 27 48 38 45 28 43 37 30 46 42 41\n",
      " 33 38 36 40 45 41 25 42 25 44 42 44]\n",
      "37.63333333333333\n"
     ]
    }
   ],
   "source": [
    "## Create Attendance of Students on each Date, index by time\n",
    "np.random.seed(1234)\n",
    "attendance = np.random.randint(25,50, size=180)\n",
    "print(attendance)\n",
    "print(np.mean(attendance)) #37.63"
   ]
  },
  {
   "cell_type": "code",
   "execution_count": 4,
   "id": "e78414e4",
   "metadata": {},
   "outputs": [
    {
     "name": "stdout",
     "output_type": "stream",
     "text": [
      "2022-08-01 00:00:00\n",
      "DatetimeIndex(['2022-08-01', '2022-08-02', '2022-08-03', '2022-08-04',\n",
      "               '2022-08-05', '2022-08-06', '2022-08-07', '2022-08-08',\n",
      "               '2022-08-09', '2022-08-10',\n",
      "               ...\n",
      "               '2023-01-18', '2023-01-19', '2023-01-20', '2023-01-21',\n",
      "               '2023-01-22', '2023-01-23', '2023-01-24', '2023-01-25',\n",
      "               '2023-01-26', '2023-01-27'],\n",
      "              dtype='datetime64[ns]', length=180, freq=None)\n"
     ]
    }
   ],
   "source": [
    "## Create Dates\n",
    "startDate = pd.to_datetime('01 Aug 2022')\n",
    "print(startDate)\n",
    "indexValues = startDate + pd.to_timedelta(np.arange(180), unit='D')\n",
    "print(indexValues)"
   ]
  },
  {
   "cell_type": "code",
   "execution_count": 13,
   "id": "ee0b72c6",
   "metadata": {},
   "outputs": [
    {
     "name": "stdout",
     "output_type": "stream",
     "text": [
      "2022-08-01    40\n",
      "2022-08-02    44\n",
      "2022-08-03    31\n",
      "2022-08-04    46\n",
      "2022-08-05    37\n",
      "dtype: int32\n"
     ]
    }
   ],
   "source": [
    "## Create a data frame/ Series\n",
    "data1 = pd.Series(attendance, index=indexValues)\n",
    "print(data1.head())\n",
    "#print(data1.head(2).append(data1.tail(3)))  #heads-2, tails-3\n",
    "#df.apply(lambda x: pd.concat([x.head(2), x.tail(2)]))"
   ]
  },
  {
   "cell_type": "markdown",
   "id": "c419ad33",
   "metadata": {},
   "source": [
    "## Filter on date series"
   ]
  },
  {
   "cell_type": "code",
   "execution_count": 14,
   "id": "8e52aed1",
   "metadata": {},
   "outputs": [
    {
     "data": {
      "text/plain": [
       "2022-08-01    40\n",
       "2022-08-02    44\n",
       "2022-08-03    31\n",
       "2022-08-04    46\n",
       "2022-08-05    37\n",
       "              ..\n",
       "2022-12-27    40\n",
       "2022-12-28    28\n",
       "2022-12-29    39\n",
       "2022-12-30    27\n",
       "2022-12-31    48\n",
       "Length: 153, dtype: int32"
      ]
     },
     "execution_count": 14,
     "metadata": {},
     "output_type": "execute_result"
    }
   ],
   "source": [
    "data1['2022']  #filter"
   ]
  },
  {
   "cell_type": "code",
   "execution_count": null,
   "id": "e616268f",
   "metadata": {},
   "outputs": [],
   "source": [
    "data1['2019-10']  # year and month"
   ]
  },
  {
   "cell_type": "code",
   "execution_count": 17,
   "id": "47ff2860",
   "metadata": {},
   "outputs": [
    {
     "data": {
      "text/plain": [
       "2022-11-15    43\n",
       "2022-11-16    42\n",
       "2022-11-17    46\n",
       "2022-11-18    32\n",
       "2022-11-19    29\n",
       "2022-11-20    48\n",
       "2022-11-21    32\n",
       "2022-11-22    42\n",
       "2022-11-23    45\n",
       "2022-11-24    25\n",
       "2022-11-25    46\n",
       "2022-11-26    45\n",
       "2022-11-27    34\n",
       "2022-11-28    43\n",
       "2022-11-29    34\n",
       "2022-11-30    26\n",
       "2022-12-01    39\n",
       "dtype: int32"
      ]
     },
     "execution_count": 17,
     "metadata": {},
     "output_type": "execute_result"
    }
   ],
   "source": [
    "data1['2022-11-15':'2022-12-01']  #between certain dates"
   ]
  },
  {
   "cell_type": "code",
   "execution_count": 18,
   "id": "d25971f4",
   "metadata": {},
   "outputs": [
    {
     "data": {
      "text/plain": [
       "2022-08-03    31\n",
       "2022-08-10    48\n",
       "2022-08-17    30\n",
       "2022-08-24    37\n",
       "2022-08-31    25\n",
       "2022-09-07    37\n",
       "2022-09-14    44\n",
       "2022-09-21    38\n",
       "2022-09-28    45\n",
       "2022-10-05    31\n",
       "2022-10-12    43\n",
       "2022-10-19    32\n",
       "2022-10-26    45\n",
       "2022-11-02    43\n",
       "2022-11-09    48\n",
       "2022-11-16    42\n",
       "2022-11-23    45\n",
       "2022-11-30    26\n",
       "2022-12-07    44\n",
       "2022-12-14    45\n",
       "2022-12-21    33\n",
       "2022-12-28    28\n",
       "2023-01-04    35\n",
       "2023-01-11    37\n",
       "2023-01-18    36\n",
       "2023-01-25    44\n",
       "dtype: int32"
      ]
     },
     "execution_count": 18,
     "metadata": {},
     "output_type": "execute_result"
    }
   ],
   "source": [
    "data1[data1.index.dayofweek == 2] #2nd day of week"
   ]
  },
  {
   "cell_type": "code",
   "execution_count": 20,
   "id": "dab51279",
   "metadata": {},
   "outputs": [
    {
     "data": {
      "text/plain": [
       "2022-08-01    40\n",
       "2022-08-02    44\n",
       "2022-08-03    31\n",
       "2022-08-04    46\n",
       "2022-08-05    37\n",
       "              ..\n",
       "2023-01-23    42\n",
       "2023-01-24    25\n",
       "2023-01-25    44\n",
       "2023-01-26    42\n",
       "2023-01-27    44\n",
       "Freq: D, Length: 180, dtype: int32"
      ]
     },
     "execution_count": 20,
     "metadata": {},
     "output_type": "execute_result"
    }
   ],
   "source": [
    "data1.to_period('D')"
   ]
  },
  {
   "cell_type": "code",
   "execution_count": 22,
   "id": "f32cdee1",
   "metadata": {},
   "outputs": [
    {
     "data": {
      "text/plain": [
       "2022-08    40\n",
       "2022-08    44\n",
       "2022-08    31\n",
       "2022-08    46\n",
       "2022-08    37\n",
       "           ..\n",
       "2023-01    42\n",
       "2023-01    25\n",
       "2023-01    44\n",
       "2023-01    42\n",
       "2023-01    44\n",
       "Freq: M, Length: 180, dtype: int32"
      ]
     },
     "execution_count": 22,
     "metadata": {},
     "output_type": "execute_result"
    }
   ],
   "source": [
    "data1.to_period('M')  # remove date, and show month"
   ]
  },
  {
   "cell_type": "code",
   "execution_count": 23,
   "id": "495f3748",
   "metadata": {},
   "outputs": [
    {
     "data": {
      "text/plain": [
       "2022    40\n",
       "2022    44\n",
       "2022    31\n",
       "2022    46\n",
       "2022    37\n",
       "        ..\n",
       "2023    42\n",
       "2023    25\n",
       "2023    44\n",
       "2023    42\n",
       "2023    44\n",
       "Freq: A-DEC, Length: 180, dtype: int32"
      ]
     },
     "execution_count": 23,
     "metadata": {},
     "output_type": "execute_result"
    }
   ],
   "source": [
    "data1.to_period('Y')  # remove date & month, show year "
   ]
  },
  {
   "cell_type": "code",
   "execution_count": 27,
   "id": "6c535a2c",
   "metadata": {},
   "outputs": [
    {
     "data": {
      "text/plain": [
       "Timedelta('94 days 08:23:40.909075')"
      ]
     },
     "execution_count": 27,
     "metadata": {},
     "output_type": "execute_result"
    }
   ],
   "source": [
    "# Difference from today, with index\n",
    "datetime.today() - data1.index[0]"
   ]
  },
  {
   "cell_type": "code",
   "execution_count": null,
   "id": "9b6d96c3",
   "metadata": {},
   "outputs": [],
   "source": []
  },
  {
   "cell_type": "markdown",
   "id": "a3f1e125",
   "metadata": {},
   "source": [
    "## Resampling"
   ]
  },
  {
   "cell_type": "code",
   "execution_count": 29,
   "id": "0aa0ec7b",
   "metadata": {},
   "outputs": [
    {
     "name": "stdout",
     "output_type": "stream",
     "text": [
      "2022-01-01 00:00:00    0\n",
      "2022-01-01 00:01:00    1\n",
      "2022-01-01 00:02:00    2\n",
      "2022-01-01 00:03:00    3\n",
      "2022-01-01 00:04:00    4\n",
      "2022-01-01 00:05:00    5\n",
      "2022-01-01 00:06:00    6\n",
      "2022-01-01 00:07:00    7\n",
      "2022-01-01 00:08:00    8\n",
      "Freq: T, dtype: int64\n"
     ]
    }
   ],
   "source": [
    "index = pd.date_range('1/1/2022', periods=9, freq='T')\n",
    "series = pd.Series(range(9), index=index)\n",
    "print(series)"
   ]
  },
  {
   "cell_type": "code",
   "execution_count": 30,
   "id": "be9da07a",
   "metadata": {},
   "outputs": [
    {
     "data": {
      "text/plain": [
       "2022-01-01 00:00:00     3\n",
       "2022-01-01 00:03:00    12\n",
       "2022-01-01 00:06:00    21\n",
       "Freq: 3T, dtype: int64"
      ]
     },
     "execution_count": 30,
     "metadata": {},
     "output_type": "execute_result"
    }
   ],
   "source": [
    "series.resample('3T').sum()\n",
    "#https://pandas.pydata.org/docs/reference/api/pandas.DataFrame.resample.html\n",
    "#Downsample the series into 3 minute bins and sum the values of the timestamps falling into a bin."
   ]
  },
  {
   "cell_type": "code",
   "execution_count": null,
   "id": "73ff6b24",
   "metadata": {},
   "outputs": [],
   "source": []
  }
 ],
 "metadata": {
  "kernelspec": {
   "display_name": "Python 3 (ipykernel)",
   "language": "python",
   "name": "python3"
  },
  "language_info": {
   "codemirror_mode": {
    "name": "ipython",
    "version": 3
   },
   "file_extension": ".py",
   "mimetype": "text/x-python",
   "name": "python",
   "nbconvert_exporter": "python",
   "pygments_lexer": "ipython3",
   "version": "3.9.12"
  }
 },
 "nbformat": 4,
 "nbformat_minor": 5
}
