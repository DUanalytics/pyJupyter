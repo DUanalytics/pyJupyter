{
 "cells": [
  {
   "cell_type": "code",
   "execution_count": null,
   "id": "abef7954",
   "metadata": {},
   "outputs": [],
   "source": [
    "# TS Moving Average\n",
    "https://pandas.pydata.org/docs/user_guide/groupby.html"
   ]
  },
  {
   "cell_type": "code",
   "execution_count": null,
   "id": "2b6b87fe",
   "metadata": {},
   "outputs": [],
   "source": [
    "## Libraries"
   ]
  },
  {
   "cell_type": "code",
   "execution_count": 3,
   "id": "5cf9cb5b",
   "metadata": {},
   "outputs": [],
   "source": [
    "import numpy as np\n",
    "import pandas as pd\n",
    "import datetime"
   ]
  },
  {
   "cell_type": "code",
   "execution_count": 9,
   "id": "8977e50f",
   "metadata": {},
   "outputs": [
    {
     "data": {
      "text/plain": [
       "2020-10-01    0.274118\n",
       "2020-10-02    1.354110\n",
       "2020-10-03    2.644058\n",
       "2020-10-04   -1.328079\n",
       "2020-10-05   -4.237319\n",
       "Freq: D, dtype: float64"
      ]
     },
     "execution_count": 9,
     "metadata": {},
     "output_type": "execute_result"
    }
   ],
   "source": [
    "# create data\n",
    "index = pd.date_range(\"10/1/2020\", periods=1100)\n",
    "ts = pd.Series(np.random.normal(0.5, 2, 1100), index)\n",
    "ts.head()"
   ]
  },
  {
   "cell_type": "code",
   "execution_count": 10,
   "id": "9962f905",
   "metadata": {},
   "outputs": [
    {
     "data": {
      "text/plain": [
       "2021-01-08    0.054317\n",
       "2021-01-09    0.051874\n",
       "2021-01-10    0.006743\n",
       "2021-01-11   -0.018875\n",
       "2021-01-12   -0.022323\n",
       "Freq: D, dtype: float64"
      ]
     },
     "execution_count": 10,
     "metadata": {},
     "output_type": "execute_result"
    }
   ],
   "source": [
    "ts = ts.rolling(window=100, min_periods=100).mean().dropna()\n",
    "ts.head()"
   ]
  },
  {
   "cell_type": "code",
   "execution_count": 11,
   "id": "1f1973ab",
   "metadata": {},
   "outputs": [
    {
     "data": {
      "text/plain": [
       "2023-10-01    0.876833\n",
       "2023-10-02    0.889192\n",
       "2023-10-03    0.905973\n",
       "2023-10-04    0.901250\n",
       "2023-10-05    0.967295\n",
       "Freq: D, dtype: float64"
      ]
     },
     "execution_count": 11,
     "metadata": {},
     "output_type": "execute_result"
    }
   ],
   "source": [
    "ts.tail()"
   ]
  },
  {
   "cell_type": "code",
   "execution_count": 13,
   "id": "2927bc02",
   "metadata": {},
   "outputs": [
    {
     "data": {
      "text/plain": [
       "2021-01-08   -1.641781\n",
       "2021-01-09   -1.656752\n",
       "2021-01-10   -1.933318\n",
       "2021-01-11   -2.090309\n",
       "2021-01-12   -2.111439\n",
       "                ...   \n",
       "2023-10-01    1.508654\n",
       "2023-10-02    1.558455\n",
       "2023-10-03    1.626072\n",
       "2023-10-04    1.607040\n",
       "2023-10-05    1.873174\n",
       "Freq: D, Length: 1001, dtype: float64"
      ]
     },
     "execution_count": 13,
     "metadata": {},
     "output_type": "execute_result"
    }
   ],
   "source": [
    "transformed = ts.groupby(lambda x: x.year).transform( lambda x: (x - x.mean()) / x.std())\n",
    "transformed\n",
    "#expect the result to now have mean 0 and standard deviation 1 within each group,"
   ]
  },
  {
   "cell_type": "code",
   "execution_count": 14,
   "id": "7ebcbf1e",
   "metadata": {},
   "outputs": [
    {
     "data": {
      "text/plain": [
       "2021    0.322229\n",
       "2022    0.571984\n",
       "2023    0.502434\n",
       "dtype: float64"
      ]
     },
     "execution_count": 14,
     "metadata": {},
     "output_type": "execute_result"
    }
   ],
   "source": [
    "grouped = ts.groupby(lambda x: x.year)\n",
    "grouped.mean()"
   ]
  },
  {
   "cell_type": "code",
   "execution_count": 15,
   "id": "54a51509",
   "metadata": {},
   "outputs": [
    {
     "data": {
      "text/plain": [
       "2021    0.163183\n",
       "2022    0.158590\n",
       "2023    0.248168\n",
       "dtype: float64"
      ]
     },
     "execution_count": 15,
     "metadata": {},
     "output_type": "execute_result"
    }
   ],
   "source": [
    "grouped.std()"
   ]
  },
  {
   "cell_type": "code",
   "execution_count": 16,
   "id": "3fb1ff2a",
   "metadata": {},
   "outputs": [
    {
     "name": "stdout",
     "output_type": "stream",
     "text": [
      "2021   -6.500077e-16\n",
      "2022   -2.136495e-15\n",
      "2023   -3.250797e-16\n",
      "dtype: float64\n",
      "2021    1.0\n",
      "2022    1.0\n",
      "2023    1.0\n",
      "dtype: float64\n"
     ]
    }
   ],
   "source": [
    "grouped_trans = transformed.groupby(lambda x: x.year)\n",
    "print(grouped_trans.mean())\n",
    "print(grouped_trans.std())"
   ]
  },
  {
   "cell_type": "code",
   "execution_count": 17,
   "id": "7ed66e2f",
   "metadata": {},
   "outputs": [
    {
     "data": {
      "text/plain": [
       "<AxesSubplot:>"
      ]
     },
     "execution_count": 17,
     "metadata": {},
     "output_type": "execute_result"
    },
    {
     "data": {
      "image/png": "[encoded data removed]",
      "text/plain": [
       "<Figure size 432x288 with 1 Axes>"
      ]
     },
     "metadata": {
      "needs_background": "light"
     },
     "output_type": "display_data"
    }
   ],
   "source": [
    "# Visualise\n",
    "compare = pd.DataFrame({\"Original\": ts, \"Transformed\": transformed})\n",
    "compare.plot()"
   ]
  },
  {
   "cell_type": "code",
   "execution_count": 18,
   "id": "4302573c",
   "metadata": {},
   "outputs": [
    {
     "data": {
      "text/plain": [
       "2021-01-08    0.648816\n",
       "2021-01-09    0.648816\n",
       "2021-01-10    0.648816\n",
       "2021-01-11    0.648816\n",
       "2021-01-12    0.648816\n",
       "                ...   \n",
       "2023-10-01    0.799634\n",
       "2023-10-02    0.799634\n",
       "2023-10-03    0.799634\n",
       "2023-10-04    0.799634\n",
       "2023-10-05    0.799634\n",
       "Freq: D, Length: 1001, dtype: float64"
      ]
     },
     "execution_count": 18,
     "metadata": {},
     "output_type": "execute_result"
    }
   ],
   "source": [
    "ts.groupby(lambda x: x.year).transform(lambda x: x.max() - x.min())"
   ]
  },
  {
   "cell_type": "code",
   "execution_count": 20,
   "id": "27e1ea4f",
   "metadata": {},
   "outputs": [
    {
     "name": "stdout",
     "output_type": "stream",
     "text": [
      "2021-01-08    0.591792\n",
      "2021-01-09    0.591792\n",
      "2021-01-10    0.591792\n",
      "2021-01-11    0.591792\n",
      "2021-01-12    0.591792\n",
      "                ...   \n",
      "2023-10-01    1.000105\n",
      "2023-10-02    1.000105\n",
      "2023-10-03    1.000105\n",
      "2023-10-04    1.000105\n",
      "2023-10-05    1.000105\n",
      "Freq: D, Length: 1001, dtype: float64 \n",
      " 2021-01-08   -0.057023\n",
      "2021-01-09   -0.057023\n",
      "2021-01-10   -0.057023\n",
      "2021-01-11   -0.057023\n",
      "2021-01-12   -0.057023\n",
      "                ...   \n",
      "2023-10-01    0.200471\n",
      "2023-10-02    0.200471\n",
      "2023-10-03    0.200471\n",
      "2023-10-04    0.200471\n",
      "2023-10-05    0.200471\n",
      "Freq: D, Length: 1001, dtype: float64\n"
     ]
    }
   ],
   "source": [
    "max_ts = ts.groupby(lambda x: x.year).transform(\"max\")\n",
    "min_ts = ts.groupby(lambda x: x.year).transform(\"min\")\n",
    "print(max_ts, '\\n', min_ts)"
   ]
  },
  {
   "cell_type": "code",
   "execution_count": null,
   "id": "c9eb8bfb",
   "metadata": {},
   "outputs": [],
   "source": []
  }
 ],
 "metadata": {
  "kernelspec": {
   "display_name": "Python 3 (ipykernel)",
   "language": "python",
   "name": "python3"
  },
  "language_info": {
   "codemirror_mode": {
    "name": "ipython",
    "version": 3
   },
   "file_extension": ".py",
   "mimetype": "text/x-python",
   "name": "python",
   "nbconvert_exporter": "python",
   "pygments_lexer": "ipython3",
   "version": "3.9.12"
  }
 },
 "nbformat": 4,
 "nbformat_minor": 5
}
