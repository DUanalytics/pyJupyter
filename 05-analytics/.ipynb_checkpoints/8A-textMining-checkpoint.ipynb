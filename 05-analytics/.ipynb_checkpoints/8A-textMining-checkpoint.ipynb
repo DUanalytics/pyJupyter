{
 "cells": [
  {
   "cell_type": "code",
   "execution_count": null,
   "id": "9e1a444a",
   "metadata": {},
   "outputs": [],
   "source": [
    "# Text Mining"
   ]
  },
  {
   "cell_type": "code",
   "execution_count": 3,
   "id": "b97112bf",
   "metadata": {},
   "outputs": [
    {
     "name": "stdout",
     "output_type": "stream",
     "text": [
      "This is my test text. We're keeping this text short to keep things manageable. \n",
      " this is my test text. we're keeping this text short to keep things manageable. \n",
      " THIS IS MY TEST TEXT. WE'RE KEEPING THIS TEXT SHORT TO KEEP THINGS MANAGEABLE.\n"
     ]
    }
   ],
   "source": [
    "# Simple Example\n",
    "text = \"This is my test text. We're keeping this text short to keep things manageable.\"\n",
    "text1 = text.lower()\n",
    "text2 = text.upper()\n",
    "print(text, '\\n', text1, '\\n', text2)"
   ]
  },
  {
   "cell_type": "code",
   "execution_count": null,
   "id": "9576e90b",
   "metadata": {},
   "outputs": [],
   "source": []
  }
 ],
 "metadata": {
  "kernelspec": {
   "display_name": "Python 3 (ipykernel)",
   "language": "python",
   "name": "python3"
  },
  "language_info": {
   "codemirror_mode": {
    "name": "ipython",
    "version": 3
   },
   "file_extension": ".py",
   "mimetype": "text/x-python",
   "name": "python",
   "nbconvert_exporter": "python",
   "pygments_lexer": "ipython3",
   "version": "3.9.12"
  }
 },
 "nbformat": 4,
 "nbformat_minor": 5
}
