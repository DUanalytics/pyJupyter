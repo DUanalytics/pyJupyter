{
 "cells": [
  {
   "cell_type": "markdown",
   "metadata": {},
   "source": [
    "# Association Rule Analysis\n",
    "Association Rule - simple I1, I2, I3, I4, I5"
   ]
  },
  {
   "cell_type": "markdown",
   "metadata": {},
   "source": [
    "## Libraries"
   ]
  },
  {
   "cell_type": "code",
   "execution_count": 2,
   "metadata": {},
   "outputs": [],
   "source": [
    "import numpy as np\n",
    "import pandas as pd\n",
    "import matplotlib.pyplot as plt\n",
    "pd.set_option('display.max_columns',None)"
   ]
  },
  {
   "cell_type": "markdown",
   "metadata": {},
   "source": [
    "### AR Libraries"
   ]
  },
  {
   "cell_type": "code",
   "execution_count": 4,
   "metadata": {},
   "outputs": [],
   "source": [
    "#pip install mlxtend   #install this from anaconda prompt as Admin\n",
    "from mlxtend.preprocessing import TransactionEncoder\n",
    "from mlxtend.frequent_patterns import apriori\n",
    "from mlxtend.frequent_patterns import association_rules\n",
    "import time\n",
    "import logging"
   ]
  },
  {
   "cell_type": "markdown",
   "metadata": {},
   "source": [
    "## Create Transactional Data"
   ]
  },
  {
   "cell_type": "code",
   "execution_count": 7,
   "metadata": {},
   "outputs": [
    {
     "data": {
      "text/plain": [
       "[['I1', 'I2', 'I5'],\n",
       " ['I2', 'I4'],\n",
       " ['I2', 'I3'],\n",
       " ['I1', 'I2', 'I4'],\n",
       " ['I1', 'I3'],\n",
       " ['I2', 'I3'],\n",
       " ['I1', 'I3'],\n",
       " ['I1', 'I2', 'I3', 'I5'],\n",
       " ['I1', 'I2', 'I3']]"
      ]
     },
     "execution_count": 7,
     "metadata": {},
     "output_type": "execute_result"
    }
   ],
   "source": [
    "# this is list type, each [] represents 1 transaction with set of items\n",
    "transactions = [['I1','I2','I5'],\n",
    "                ['I2','I4'],\n",
    "                ['I2','I3'] ,\n",
    "                ['I1','I2','I4'],\n",
    "                ['I1','I3'], \n",
    "                ['I2','I3'],\n",
    "                ['I1','I3'], \n",
    "                ['I1','I2','I3','I5'],\n",
    "                ['I1','I2','I3']]\n",
    "transactions"
   ]
  },
  {
   "cell_type": "code",
   "execution_count": 8,
   "metadata": {},
   "outputs": [
    {
     "data": {
      "text/plain": [
       "array([[ True,  True, False, False,  True],\n",
       "       [False,  True, False,  True, False],\n",
       "       [False,  True,  True, False, False],\n",
       "       [ True,  True, False,  True, False],\n",
       "       [ True, False,  True, False, False],\n",
       "       [False,  True,  True, False, False],\n",
       "       [ True, False,  True, False, False],\n",
       "       [ True,  True,  True, False,  True],\n",
       "       [ True,  True,  True, False, False]])"
      ]
     },
     "execution_count": 8,
     "metadata": {},
     "output_type": "execute_result"
    }
   ],
   "source": [
    "### Convert to transaction format\n",
    "te = TransactionEncoder()\n",
    "te_ary = te.fit(transactions).transform(transactions)\n",
    "te_ary  # this produces no of colums as there are number of times\n",
    "#with True stating item was present"
   ]
  },
  {
   "cell_type": "code",
   "execution_count": 9,
   "metadata": {},
   "outputs": [
    {
     "data": {
      "text/plain": [
       "['I1', 'I2', 'I3', 'I4', 'I5']"
      ]
     },
     "execution_count": 9,
     "metadata": {},
     "output_type": "execute_result"
    }
   ],
   "source": [
    "te.columns_  #column order"
   ]
  },
  {
   "cell_type": "code",
   "execution_count": 10,
   "metadata": {},
   "outputs": [
    {
     "data": {
      "text/html": [
       "<div>\n",
       "<style scoped>\n",
       "    .dataframe tbody tr th:only-of-type {\n",
       "        vertical-align: middle;\n",
       "    }\n",
       "\n",
       "    .dataframe tbody tr th {\n",
       "        vertical-align: top;\n",
       "    }\n",
       "\n",
       "    .dataframe thead th {\n",
       "        text-align: right;\n",
       "    }\n",
       "</style>\n",
       "<table border=\"1\" class=\"dataframe\">\n",
       "  <thead>\n",
       "    <tr style=\"text-align: right;\">\n",
       "      <th></th>\n",
       "      <th>I1</th>\n",
       "      <th>I2</th>\n",
       "      <th>I3</th>\n",
       "      <th>I4</th>\n",
       "      <th>I5</th>\n",
       "    </tr>\n",
       "  </thead>\n",
       "  <tbody>\n",
       "    <tr>\n",
       "      <th>0</th>\n",
       "      <td>True</td>\n",
       "      <td>True</td>\n",
       "      <td>False</td>\n",
       "      <td>False</td>\n",
       "      <td>True</td>\n",
       "    </tr>\n",
       "    <tr>\n",
       "      <th>1</th>\n",
       "      <td>False</td>\n",
       "      <td>True</td>\n",
       "      <td>False</td>\n",
       "      <td>True</td>\n",
       "      <td>False</td>\n",
       "    </tr>\n",
       "    <tr>\n",
       "      <th>2</th>\n",
       "      <td>False</td>\n",
       "      <td>True</td>\n",
       "      <td>True</td>\n",
       "      <td>False</td>\n",
       "      <td>False</td>\n",
       "    </tr>\n",
       "    <tr>\n",
       "      <th>3</th>\n",
       "      <td>True</td>\n",
       "      <td>True</td>\n",
       "      <td>False</td>\n",
       "      <td>True</td>\n",
       "      <td>False</td>\n",
       "    </tr>\n",
       "    <tr>\n",
       "      <th>4</th>\n",
       "      <td>True</td>\n",
       "      <td>False</td>\n",
       "      <td>True</td>\n",
       "      <td>False</td>\n",
       "      <td>False</td>\n",
       "    </tr>\n",
       "    <tr>\n",
       "      <th>5</th>\n",
       "      <td>False</td>\n",
       "      <td>True</td>\n",
       "      <td>True</td>\n",
       "      <td>False</td>\n",
       "      <td>False</td>\n",
       "    </tr>\n",
       "    <tr>\n",
       "      <th>6</th>\n",
       "      <td>True</td>\n",
       "      <td>False</td>\n",
       "      <td>True</td>\n",
       "      <td>False</td>\n",
       "      <td>False</td>\n",
       "    </tr>\n",
       "    <tr>\n",
       "      <th>7</th>\n",
       "      <td>True</td>\n",
       "      <td>True</td>\n",
       "      <td>True</td>\n",
       "      <td>False</td>\n",
       "      <td>True</td>\n",
       "    </tr>\n",
       "    <tr>\n",
       "      <th>8</th>\n",
       "      <td>True</td>\n",
       "      <td>True</td>\n",
       "      <td>True</td>\n",
       "      <td>False</td>\n",
       "      <td>False</td>\n",
       "    </tr>\n",
       "  </tbody>\n",
       "</table>\n",
       "</div>"
      ],
      "text/plain": [
       "      I1     I2     I3     I4     I5\n",
       "0   True   True  False  False   True\n",
       "1  False   True  False   True  False\n",
       "2  False   True   True  False  False\n",
       "3   True   True  False   True  False\n",
       "4   True  False   True  False  False\n",
       "5  False   True   True  False  False\n",
       "6   True  False   True  False  False\n",
       "7   True   True   True  False   True\n",
       "8   True   True   True  False  False"
      ]
     },
     "execution_count": 10,
     "metadata": {},
     "output_type": "execute_result"
    }
   ],
   "source": [
    "df = pd.DataFrame(te_ary, columns=te.columns_)\n",
    "df"
   ]
  },
  {
   "cell_type": "code",
   "execution_count": 11,
   "metadata": {},
   "outputs": [
    {
     "data": {
      "text/plain": [
       "(9, 5)"
      ]
     },
     "execution_count": 11,
     "metadata": {},
     "output_type": "execute_result"
    }
   ],
   "source": [
    "#this matrix of transactions : T/ F indicate their presence in each Trans ID\n",
    "df.shape"
   ]
  },
  {
   "cell_type": "code",
   "execution_count": 12,
   "metadata": {},
   "outputs": [
    {
     "data": {
      "text/plain": [
       "[['I1', 'I2', 'I5'],\n",
       " ['I2', 'I4'],\n",
       " ['I2', 'I3'],\n",
       " ['I1', 'I2', 'I4'],\n",
       " ['I1', 'I3'],\n",
       " ['I2', 'I3'],\n",
       " ['I1', 'I3'],\n",
       " ['I1', 'I2', 'I3', 'I5'],\n",
       " ['I1', 'I2', 'I3']]"
      ]
     },
     "execution_count": 12,
     "metadata": {},
     "output_type": "execute_result"
    }
   ],
   "source": [
    "#get back orginal transactions\n",
    "orgtrans1 = te_ary[:]\n",
    "te.inverse_transform(orgtrans1)"
   ]
  },
  {
   "cell_type": "markdown",
   "metadata": {},
   "source": [
    "## Frequent Item Set"
   ]
  },
  {
   "cell_type": "code",
   "execution_count": 13,
   "metadata": {},
   "outputs": [
    {
     "data": {
      "text/html": [
       "<div>\n",
       "<style scoped>\n",
       "    .dataframe tbody tr th:only-of-type {\n",
       "        vertical-align: middle;\n",
       "    }\n",
       "\n",
       "    .dataframe tbody tr th {\n",
       "        vertical-align: top;\n",
       "    }\n",
       "\n",
       "    .dataframe thead th {\n",
       "        text-align: right;\n",
       "    }\n",
       "</style>\n",
       "<table border=\"1\" class=\"dataframe\">\n",
       "  <thead>\n",
       "    <tr style=\"text-align: right;\">\n",
       "      <th></th>\n",
       "      <th>support</th>\n",
       "      <th>itemsets</th>\n",
       "    </tr>\n",
       "  </thead>\n",
       "  <tbody>\n",
       "    <tr>\n",
       "      <th>0</th>\n",
       "      <td>0.666667</td>\n",
       "      <td>(I1)</td>\n",
       "    </tr>\n",
       "    <tr>\n",
       "      <th>1</th>\n",
       "      <td>0.777778</td>\n",
       "      <td>(I2)</td>\n",
       "    </tr>\n",
       "    <tr>\n",
       "      <th>2</th>\n",
       "      <td>0.666667</td>\n",
       "      <td>(I3)</td>\n",
       "    </tr>\n",
       "    <tr>\n",
       "      <th>3</th>\n",
       "      <td>0.222222</td>\n",
       "      <td>(I4)</td>\n",
       "    </tr>\n",
       "    <tr>\n",
       "      <th>4</th>\n",
       "      <td>0.222222</td>\n",
       "      <td>(I5)</td>\n",
       "    </tr>\n",
       "    <tr>\n",
       "      <th>5</th>\n",
       "      <td>0.444444</td>\n",
       "      <td>(I2, I1)</td>\n",
       "    </tr>\n",
       "    <tr>\n",
       "      <th>6</th>\n",
       "      <td>0.444444</td>\n",
       "      <td>(I3, I1)</td>\n",
       "    </tr>\n",
       "    <tr>\n",
       "      <th>7</th>\n",
       "      <td>0.111111</td>\n",
       "      <td>(I4, I1)</td>\n",
       "    </tr>\n",
       "    <tr>\n",
       "      <th>8</th>\n",
       "      <td>0.222222</td>\n",
       "      <td>(I5, I1)</td>\n",
       "    </tr>\n",
       "    <tr>\n",
       "      <th>9</th>\n",
       "      <td>0.444444</td>\n",
       "      <td>(I2, I3)</td>\n",
       "    </tr>\n",
       "    <tr>\n",
       "      <th>10</th>\n",
       "      <td>0.222222</td>\n",
       "      <td>(I2, I4)</td>\n",
       "    </tr>\n",
       "    <tr>\n",
       "      <th>11</th>\n",
       "      <td>0.222222</td>\n",
       "      <td>(I2, I5)</td>\n",
       "    </tr>\n",
       "    <tr>\n",
       "      <th>12</th>\n",
       "      <td>0.111111</td>\n",
       "      <td>(I3, I5)</td>\n",
       "    </tr>\n",
       "    <tr>\n",
       "      <th>13</th>\n",
       "      <td>0.222222</td>\n",
       "      <td>(I3, I2, I1)</td>\n",
       "    </tr>\n",
       "    <tr>\n",
       "      <th>14</th>\n",
       "      <td>0.111111</td>\n",
       "      <td>(I2, I4, I1)</td>\n",
       "    </tr>\n",
       "    <tr>\n",
       "      <th>15</th>\n",
       "      <td>0.222222</td>\n",
       "      <td>(I5, I2, I1)</td>\n",
       "    </tr>\n",
       "    <tr>\n",
       "      <th>16</th>\n",
       "      <td>0.111111</td>\n",
       "      <td>(I5, I3, I1)</td>\n",
       "    </tr>\n",
       "    <tr>\n",
       "      <th>17</th>\n",
       "      <td>0.111111</td>\n",
       "      <td>(I5, I2, I3)</td>\n",
       "    </tr>\n",
       "    <tr>\n",
       "      <th>18</th>\n",
       "      <td>0.111111</td>\n",
       "      <td>(I3, I2, I5, I1)</td>\n",
       "    </tr>\n",
       "  </tbody>\n",
       "</table>\n",
       "</div>"
      ],
      "text/plain": [
       "     support          itemsets\n",
       "0   0.666667              (I1)\n",
       "1   0.777778              (I2)\n",
       "2   0.666667              (I3)\n",
       "3   0.222222              (I4)\n",
       "4   0.222222              (I5)\n",
       "5   0.444444          (I2, I1)\n",
       "6   0.444444          (I3, I1)\n",
       "7   0.111111          (I4, I1)\n",
       "8   0.222222          (I5, I1)\n",
       "9   0.444444          (I2, I3)\n",
       "10  0.222222          (I2, I4)\n",
       "11  0.222222          (I2, I5)\n",
       "12  0.111111          (I3, I5)\n",
       "13  0.222222      (I3, I2, I1)\n",
       "14  0.111111      (I2, I4, I1)\n",
       "15  0.222222      (I5, I2, I1)\n",
       "16  0.111111      (I5, I3, I1)\n",
       "17  0.111111      (I5, I2, I3)\n",
       "18  0.111111  (I3, I2, I5, I1)"
      ]
     },
     "execution_count": 13,
     "metadata": {},
     "output_type": "execute_result"
    }
   ],
   "source": [
    "#%%% #frequent itemsets - Most Imp Step\n",
    "support_threshold = 0.01 #.01\n",
    ".1 * 100\n",
    ".1 * 9\n",
    "#https://github.com/rasbt/mlxtend/blob/master/mlxtend/frequent_patterns/apriori.py\n",
    "frequent_itemsets = apriori(df, min_support= support_threshold, use_colnames = True)\n",
    "frequent_itemsets\n",
    "#itemset and its support value with condition of min support value"
   ]
  },
  {
   "cell_type": "code",
   "execution_count": 14,
   "metadata": {},
   "outputs": [
    {
     "name": "stdout",
     "output_type": "stream",
     "text": [
      "     support          itemsets\n",
      "0   0.666667              (I1)\n",
      "1   0.777778              (I2)\n",
      "2   0.666667              (I3)\n",
      "3   0.222222              (I4)\n",
      "4   0.222222              (I5)\n",
      "5   0.444444          (I2, I1)\n",
      "6   0.444444          (I3, I1)\n",
      "7   0.111111          (I4, I1)\n",
      "8   0.222222          (I5, I1)\n",
      "9   0.444444          (I2, I3)\n",
      "10  0.222222          (I2, I4)\n",
      "11  0.222222          (I2, I5)\n",
      "12  0.111111          (I3, I5)\n",
      "13  0.222222      (I3, I2, I1)\n",
      "14  0.111111      (I2, I4, I1)\n",
      "15  0.222222      (I5, I2, I1)\n",
      "16  0.111111      (I5, I3, I1)\n",
      "17  0.111111      (I5, I2, I3)\n",
      "18  0.111111  (I3, I2, I5, I1)\n"
     ]
    }
   ],
   "source": [
    "print(frequent_itemsets) #dataframe with the itemsets"
   ]
  },
  {
   "cell_type": "code",
   "execution_count": 16,
   "metadata": {},
   "outputs": [],
   "source": [
    "#help(association_rules)"
   ]
  },
  {
   "cell_type": "markdown",
   "metadata": {},
   "source": [
    "## Association Rules"
   ]
  },
  {
   "cell_type": "markdown",
   "metadata": {},
   "source": [
    "### Support"
   ]
  },
  {
   "cell_type": "code",
   "execution_count": 17,
   "metadata": {},
   "outputs": [
    {
     "name": "stdout",
     "output_type": "stream",
     "text": [
      "  antecedents consequents  antecedent support  consequent support   support  \\\n",
      "0        (I2)        (I1)            0.777778            0.666667  0.444444   \n",
      "1        (I1)        (I2)            0.666667            0.777778  0.444444   \n",
      "2        (I3)        (I1)            0.666667            0.666667  0.444444   \n",
      "3        (I1)        (I3)            0.666667            0.666667  0.444444   \n",
      "4        (I2)        (I3)            0.777778            0.666667  0.444444   \n",
      "5        (I3)        (I2)            0.666667            0.777778  0.444444   \n",
      "\n",
      "   confidence      lift  leverage  conviction  \n",
      "0    0.571429  0.857143 -0.074074    0.777778  \n",
      "1    0.666667  0.857143 -0.074074    0.666667  \n",
      "2    0.666667  1.000000  0.000000    1.000000  \n",
      "3    0.666667  1.000000  0.000000    1.000000  \n",
      "4    0.571429  0.857143 -0.074074    0.777778  \n",
      "5    0.666667  0.857143 -0.074074    0.666667  \n"
     ]
    }
   ],
   "source": [
    "#output - DF with antecedents -> consequent\n",
    "supportRules3 = association_rules(frequent_itemsets, metric=\"support\", min_threshold = .4)\n",
    "print(supportRules3)"
   ]
  },
  {
   "cell_type": "code",
   "execution_count": 18,
   "metadata": {},
   "outputs": [
    {
     "data": {
      "text/html": [
       "<div>\n",
       "<style scoped>\n",
       "    .dataframe tbody tr th:only-of-type {\n",
       "        vertical-align: middle;\n",
       "    }\n",
       "\n",
       "    .dataframe tbody tr th {\n",
       "        vertical-align: top;\n",
       "    }\n",
       "\n",
       "    .dataframe thead th {\n",
       "        text-align: right;\n",
       "    }\n",
       "</style>\n",
       "<table border=\"1\" class=\"dataframe\">\n",
       "  <thead>\n",
       "    <tr style=\"text-align: right;\">\n",
       "      <th></th>\n",
       "      <th>antecedents</th>\n",
       "      <th>consequents</th>\n",
       "      <th>antecedent support</th>\n",
       "      <th>consequent support</th>\n",
       "      <th>support</th>\n",
       "      <th>confidence</th>\n",
       "      <th>lift</th>\n",
       "      <th>leverage</th>\n",
       "      <th>conviction</th>\n",
       "    </tr>\n",
       "  </thead>\n",
       "  <tbody>\n",
       "    <tr>\n",
       "      <th>0</th>\n",
       "      <td>(I2)</td>\n",
       "      <td>(I1)</td>\n",
       "      <td>0.777778</td>\n",
       "      <td>0.666667</td>\n",
       "      <td>0.444444</td>\n",
       "      <td>0.571429</td>\n",
       "      <td>0.857143</td>\n",
       "      <td>-0.074074</td>\n",
       "      <td>0.777778</td>\n",
       "    </tr>\n",
       "    <tr>\n",
       "      <th>1</th>\n",
       "      <td>(I1)</td>\n",
       "      <td>(I2)</td>\n",
       "      <td>0.666667</td>\n",
       "      <td>0.777778</td>\n",
       "      <td>0.444444</td>\n",
       "      <td>0.666667</td>\n",
       "      <td>0.857143</td>\n",
       "      <td>-0.074074</td>\n",
       "      <td>0.666667</td>\n",
       "    </tr>\n",
       "    <tr>\n",
       "      <th>2</th>\n",
       "      <td>(I3)</td>\n",
       "      <td>(I1)</td>\n",
       "      <td>0.666667</td>\n",
       "      <td>0.666667</td>\n",
       "      <td>0.444444</td>\n",
       "      <td>0.666667</td>\n",
       "      <td>1.000000</td>\n",
       "      <td>0.000000</td>\n",
       "      <td>1.000000</td>\n",
       "    </tr>\n",
       "    <tr>\n",
       "      <th>3</th>\n",
       "      <td>(I1)</td>\n",
       "      <td>(I3)</td>\n",
       "      <td>0.666667</td>\n",
       "      <td>0.666667</td>\n",
       "      <td>0.444444</td>\n",
       "      <td>0.666667</td>\n",
       "      <td>1.000000</td>\n",
       "      <td>0.000000</td>\n",
       "      <td>1.000000</td>\n",
       "    </tr>\n",
       "    <tr>\n",
       "      <th>4</th>\n",
       "      <td>(I2)</td>\n",
       "      <td>(I3)</td>\n",
       "      <td>0.777778</td>\n",
       "      <td>0.666667</td>\n",
       "      <td>0.444444</td>\n",
       "      <td>0.571429</td>\n",
       "      <td>0.857143</td>\n",
       "      <td>-0.074074</td>\n",
       "      <td>0.777778</td>\n",
       "    </tr>\n",
       "  </tbody>\n",
       "</table>\n",
       "</div>"
      ],
      "text/plain": [
       "  antecedents consequents  antecedent support  consequent support   support  \\\n",
       "0        (I2)        (I1)            0.777778            0.666667  0.444444   \n",
       "1        (I1)        (I2)            0.666667            0.777778  0.444444   \n",
       "2        (I3)        (I1)            0.666667            0.666667  0.444444   \n",
       "3        (I1)        (I3)            0.666667            0.666667  0.444444   \n",
       "4        (I2)        (I3)            0.777778            0.666667  0.444444   \n",
       "\n",
       "   confidence      lift  leverage  conviction  \n",
       "0    0.571429  0.857143 -0.074074    0.777778  \n",
       "1    0.666667  0.857143 -0.074074    0.666667  \n",
       "2    0.666667  1.000000  0.000000    1.000000  \n",
       "3    0.666667  1.000000  0.000000    1.000000  \n",
       "4    0.571429  0.857143 -0.074074    0.777778  "
      ]
     },
     "execution_count": 18,
     "metadata": {},
     "output_type": "execute_result"
    }
   ],
   "source": [
    "supportRules3.head()"
   ]
  },
  {
   "cell_type": "code",
   "execution_count": 19,
   "metadata": {},
   "outputs": [
    {
     "name": "stdout",
     "output_type": "stream",
     "text": [
      "  antecedents consequents   support  confidence      lift\n",
      "0        (I2)        (I1)  0.444444    0.571429  0.857143\n",
      "1        (I1)        (I2)  0.444444    0.666667  0.857143\n",
      "2        (I3)        (I1)  0.444444    0.666667  1.000000\n",
      "3        (I1)        (I3)  0.444444    0.666667  1.000000\n",
      "4        (I2)        (I3)  0.444444    0.571429  0.857143\n",
      "5        (I3)        (I2)  0.444444    0.666667  0.857143\n"
     ]
    }
   ],
   "source": [
    "print(supportRules3[['antecedents', 'consequents', 'support', 'confidence', 'lift']])"
   ]
  },
  {
   "cell_type": "code",
   "execution_count": null,
   "metadata": {},
   "outputs": [],
   "source": [
    "### Support with different threshold values"
   ]
  },
  {
   "cell_type": "code",
   "execution_count": 20,
   "metadata": {},
   "outputs": [
    {
     "name": "stdout",
     "output_type": "stream",
     "text": [
      "   antecedents consequents   support  confidence      lift\n",
      "0         (I2)        (I1)  0.444444    0.571429  0.857143\n",
      "1         (I1)        (I2)  0.444444    0.666667  0.857143\n",
      "2         (I3)        (I1)  0.444444    0.666667  1.000000\n",
      "3         (I1)        (I3)  0.444444    0.666667  1.000000\n",
      "4         (I5)        (I1)  0.222222    1.000000  1.500000\n",
      "5         (I1)        (I5)  0.222222    0.333333  1.500000\n",
      "6         (I2)        (I3)  0.444444    0.571429  0.857143\n",
      "7         (I3)        (I2)  0.444444    0.666667  0.857143\n",
      "8         (I2)        (I4)  0.222222    0.285714  1.285714\n",
      "9         (I4)        (I2)  0.222222    1.000000  1.285714\n",
      "10        (I2)        (I5)  0.222222    0.285714  1.285714\n",
      "11        (I5)        (I2)  0.222222    1.000000  1.285714\n",
      "12    (I2, I3)        (I1)  0.222222    0.500000  0.750000\n",
      "13    (I3, I1)        (I2)  0.222222    0.500000  0.642857\n",
      "14    (I2, I1)        (I3)  0.222222    0.500000  0.750000\n",
      "15        (I3)    (I2, I1)  0.222222    0.333333  0.750000\n",
      "16        (I2)    (I3, I1)  0.222222    0.285714  0.642857\n",
      "17        (I1)    (I2, I3)  0.222222    0.333333  0.750000\n",
      "18    (I2, I5)        (I1)  0.222222    1.000000  1.500000\n",
      "19    (I1, I5)        (I2)  0.222222    1.000000  1.285714\n",
      "20    (I2, I1)        (I5)  0.222222    0.500000  2.250000\n",
      "21        (I5)    (I2, I1)  0.222222    1.000000  2.250000\n",
      "22        (I2)    (I1, I5)  0.222222    0.285714  1.285714\n",
      "23        (I1)    (I2, I5)  0.222222    0.333333  1.500000\n"
     ]
    }
   ],
   "source": [
    "supportRules2 = association_rules(frequent_itemsets, metric=\"support\", min_threshold = .2)\n",
    "print(supportRules2[['antecedents', 'consequents', 'support', 'confidence','lift']])"
   ]
  },
  {
   "cell_type": "markdown",
   "metadata": {},
   "source": [
    "### Confidence"
   ]
  },
  {
   "cell_type": "code",
   "execution_count": 24,
   "metadata": {},
   "outputs": [
    {
     "name": "stdout",
     "output_type": "stream",
     "text": [
      "     antecedents consequents   support  confidence\n",
      "0           (I1)        (I2)  0.444444    0.666667\n",
      "1           (I3)        (I1)  0.444444    0.666667\n",
      "2           (I1)        (I3)  0.444444    0.666667\n",
      "3           (I5)        (I1)  0.222222    1.000000\n",
      "4           (I3)        (I2)  0.444444    0.666667\n",
      "5           (I4)        (I2)  0.222222    1.000000\n",
      "6           (I5)        (I2)  0.222222    1.000000\n",
      "7       (I4, I1)        (I2)  0.111111    1.000000\n",
      "8       (I2, I5)        (I1)  0.222222    1.000000\n",
      "9       (I1, I5)        (I2)  0.222222    1.000000\n",
      "10          (I5)    (I2, I1)  0.222222    1.000000\n",
      "11      (I3, I5)        (I1)  0.111111    1.000000\n",
      "12      (I3, I5)        (I2)  0.111111    1.000000\n",
      "13  (I2, I3, I5)        (I1)  0.111111    1.000000\n",
      "14  (I1, I3, I5)        (I2)  0.111111    1.000000\n",
      "15      (I3, I5)    (I2, I1)  0.111111    1.000000\n"
     ]
    }
   ],
   "source": [
    "#%%%% Confidence\n",
    "confidence6 = association_rules(frequent_itemsets, metric=\"confidence\", min_threshold=.6)\n",
    "#print(confidence6)\n",
    "print(confidence6[['antecedents', 'consequents', 'support','confidence']])"
   ]
  },
  {
   "cell_type": "markdown",
   "metadata": {},
   "source": [
    "### Lift"
   ]
  },
  {
   "cell_type": "code",
   "execution_count": 27,
   "metadata": {},
   "outputs": [
    {
     "name": "stdout",
     "output_type": "stream",
     "text": [
      "     antecedents   consequents   support      lift  confidence\n",
      "0           (I3)          (I1)  0.444444  1.000000    0.666667\n",
      "1           (I1)          (I3)  0.444444  1.000000    0.666667\n",
      "2           (I5)          (I1)  0.222222  1.500000    1.000000\n",
      "3           (I1)          (I5)  0.222222  1.500000    0.333333\n",
      "4           (I2)          (I4)  0.222222  1.285714    0.285714\n",
      "5           (I4)          (I2)  0.222222  1.285714    1.000000\n",
      "6           (I2)          (I5)  0.222222  1.285714    0.285714\n",
      "7           (I5)          (I2)  0.222222  1.285714    1.000000\n",
      "8       (I2, I1)          (I4)  0.111111  1.125000    0.250000\n",
      "9       (I4, I1)          (I2)  0.111111  1.285714    1.000000\n",
      "10          (I2)      (I4, I1)  0.111111  1.285714    0.142857\n",
      "11          (I4)      (I2, I1)  0.111111  1.125000    0.500000\n",
      "12      (I2, I5)          (I1)  0.222222  1.500000    1.000000\n",
      "13      (I1, I5)          (I2)  0.222222  1.285714    1.000000\n",
      "14      (I2, I1)          (I5)  0.222222  2.250000    0.500000\n",
      "15          (I5)      (I2, I1)  0.222222  2.250000    1.000000\n",
      "16          (I2)      (I1, I5)  0.222222  1.285714    0.285714\n",
      "17          (I1)      (I2, I5)  0.222222  1.500000    0.333333\n",
      "18      (I3, I5)          (I1)  0.111111  1.500000    1.000000\n",
      "19      (I3, I1)          (I5)  0.111111  1.125000    0.250000\n",
      "20          (I5)      (I3, I1)  0.111111  1.125000    0.500000\n",
      "21          (I1)      (I3, I5)  0.111111  1.500000    0.166667\n",
      "22      (I3, I5)          (I2)  0.111111  1.285714    1.000000\n",
      "23      (I2, I3)          (I5)  0.111111  1.125000    0.250000\n",
      "24          (I5)      (I2, I3)  0.111111  1.125000    0.500000\n",
      "25          (I2)      (I3, I5)  0.111111  1.285714    0.142857\n",
      "26  (I2, I3, I5)          (I1)  0.111111  1.500000    1.000000\n",
      "27  (I2, I3, I1)          (I5)  0.111111  2.250000    0.500000\n",
      "28  (I1, I3, I5)          (I2)  0.111111  1.285714    1.000000\n",
      "29      (I2, I3)      (I1, I5)  0.111111  1.125000    0.250000\n",
      "30      (I3, I5)      (I2, I1)  0.111111  2.250000    1.000000\n",
      "31      (I3, I1)      (I2, I5)  0.111111  1.125000    0.250000\n",
      "32      (I2, I5)      (I3, I1)  0.111111  1.125000    0.500000\n",
      "33      (I2, I1)      (I3, I5)  0.111111  2.250000    0.250000\n",
      "34      (I1, I5)      (I2, I3)  0.111111  1.125000    0.500000\n",
      "35          (I2)  (I1, I3, I5)  0.111111  1.285714    0.142857\n",
      "36          (I5)  (I2, I3, I1)  0.111111  2.250000    0.500000\n",
      "37          (I1)  (I2, I3, I5)  0.111111  1.500000    0.166667\n"
     ]
    }
   ],
   "source": [
    "#%%%% Lift  : generally > 1 for strong associations\n",
    "lift1 = association_rules(frequent_itemsets, metric=\"lift\", min_threshold=1)\n",
    "#print(lift1)\n",
    "print(lift1[['antecedents', 'consequents', 'support', 'lift', 'confidence']])"
   ]
  },
  {
   "cell_type": "code",
   "execution_count": 26,
   "metadata": {},
   "outputs": [
    {
     "name": "stdout",
     "output_type": "stream",
     "text": [
      "    antecedents   consequents   support  lift  confidence\n",
      "0      (I2, I1)          (I5)  0.222222  2.25        0.50\n",
      "1          (I5)      (I2, I1)  0.222222  2.25        1.00\n",
      "2  (I2, I3, I1)          (I5)  0.111111  2.25        0.50\n",
      "3      (I3, I5)      (I2, I1)  0.111111  2.25        1.00\n",
      "4      (I2, I1)      (I3, I5)  0.111111  2.25        0.25\n",
      "5          (I5)  (I2, I3, I1)  0.111111  2.25        0.50\n"
     ]
    }
   ],
   "source": [
    "# Lift with different threshold\n",
    "lift2 = association_rules(frequent_itemsets, metric=\"lift\", min_threshold=2)\n",
    "#print(lift2)  #high positive correlation\n",
    "print(lift2[['antecedents', 'consequents', 'support', 'lift', 'confidence']])"
   ]
  },
  {
   "cell_type": "code",
   "execution_count": null,
   "metadata": {},
   "outputs": [],
   "source": [
    "#Confidence and Support Threshold Combined\n",
    "#twin condition : lift> 2;  confidence > .5, support > .2\n",
    "lift2[(lift2.confidence > .5) & (lift2.support > .2)]"
   ]
  },
  {
   "cell_type": "markdown",
   "metadata": {},
   "source": [
    "#### Different Threshold Values"
   ]
  },
  {
   "cell_type": "code",
   "execution_count": 28,
   "metadata": {},
   "outputs": [
    {
     "data": {
      "text/html": [
       "<div>\n",
       "<style scoped>\n",
       "    .dataframe tbody tr th:only-of-type {\n",
       "        vertical-align: middle;\n",
       "    }\n",
       "\n",
       "    .dataframe tbody tr th {\n",
       "        vertical-align: top;\n",
       "    }\n",
       "\n",
       "    .dataframe thead th {\n",
       "        text-align: right;\n",
       "    }\n",
       "</style>\n",
       "<table border=\"1\" class=\"dataframe\">\n",
       "  <thead>\n",
       "    <tr style=\"text-align: right;\">\n",
       "      <th></th>\n",
       "      <th>antecedents</th>\n",
       "      <th>consequents</th>\n",
       "      <th>support</th>\n",
       "      <th>confidence</th>\n",
       "      <th>lift</th>\n",
       "    </tr>\n",
       "  </thead>\n",
       "  <tbody>\n",
       "    <tr>\n",
       "      <th>0</th>\n",
       "      <td>(I2)</td>\n",
       "      <td>(I1)</td>\n",
       "      <td>0.444444</td>\n",
       "      <td>0.571429</td>\n",
       "      <td>0.857143</td>\n",
       "    </tr>\n",
       "    <tr>\n",
       "      <th>1</th>\n",
       "      <td>(I1)</td>\n",
       "      <td>(I2)</td>\n",
       "      <td>0.444444</td>\n",
       "      <td>0.666667</td>\n",
       "      <td>0.857143</td>\n",
       "    </tr>\n",
       "    <tr>\n",
       "      <th>2</th>\n",
       "      <td>(I3)</td>\n",
       "      <td>(I1)</td>\n",
       "      <td>0.444444</td>\n",
       "      <td>0.666667</td>\n",
       "      <td>1.000000</td>\n",
       "    </tr>\n",
       "    <tr>\n",
       "      <th>3</th>\n",
       "      <td>(I1)</td>\n",
       "      <td>(I3)</td>\n",
       "      <td>0.444444</td>\n",
       "      <td>0.666667</td>\n",
       "      <td>1.000000</td>\n",
       "    </tr>\n",
       "    <tr>\n",
       "      <th>4</th>\n",
       "      <td>(I2)</td>\n",
       "      <td>(I3)</td>\n",
       "      <td>0.444444</td>\n",
       "      <td>0.571429</td>\n",
       "      <td>0.857143</td>\n",
       "    </tr>\n",
       "    <tr>\n",
       "      <th>5</th>\n",
       "      <td>(I3)</td>\n",
       "      <td>(I2)</td>\n",
       "      <td>0.444444</td>\n",
       "      <td>0.666667</td>\n",
       "      <td>0.857143</td>\n",
       "    </tr>\n",
       "  </tbody>\n",
       "</table>\n",
       "</div>"
      ],
      "text/plain": [
       "  antecedents consequents   support  confidence      lift\n",
       "0        (I2)        (I1)  0.444444    0.571429  0.857143\n",
       "1        (I1)        (I2)  0.444444    0.666667  0.857143\n",
       "2        (I3)        (I1)  0.444444    0.666667  1.000000\n",
       "3        (I1)        (I3)  0.444444    0.666667  1.000000\n",
       "4        (I2)        (I3)  0.444444    0.571429  0.857143\n",
       "5        (I3)        (I2)  0.444444    0.666667  0.857143"
      ]
     },
     "execution_count": 28,
     "metadata": {},
     "output_type": "execute_result"
    }
   ],
   "source": [
    "#min support =.3\n",
    "association_rules(frequent_itemsets, metric=\"support\", min_threshold = .3)[[ 'antecedents','consequents','support', 'confidence','lift']]"
   ]
  },
  {
   "cell_type": "code",
   "execution_count": null,
   "metadata": {},
   "outputs": [],
   "source": [
    "#min lift =1 \n",
    "association_rules(frequent_itemsets, metric=\"lift\", min_threshold = 1)[[ 'antecedents','consequents','support', 'confidence','lift']]"
   ]
  },
  {
   "cell_type": "code",
   "execution_count": null,
   "metadata": {},
   "outputs": [],
   "source": [
    "#min confidence =.6 \n",
    "association_rules(frequent_itemsets, metric=\"confidence\", min_threshold = .6)[['antecedents','consequents','support', 'confidence','lift']]\n"
   ]
  },
  {
   "cell_type": "markdown",
   "metadata": {},
   "source": [
    "### Part-1 Over : Interpret the results "
   ]
  },
  {
   "cell_type": "code",
   "execution_count": null,
   "metadata": {},
   "outputs": [],
   "source": [
    "### Analysis"
   ]
  },
  {
   "cell_type": "code",
   "execution_count": 29,
   "metadata": {},
   "outputs": [
    {
     "data": {
      "text/html": [
       "<div>\n",
       "<style scoped>\n",
       "    .dataframe tbody tr th:only-of-type {\n",
       "        vertical-align: middle;\n",
       "    }\n",
       "\n",
       "    .dataframe tbody tr th {\n",
       "        vertical-align: top;\n",
       "    }\n",
       "\n",
       "    .dataframe thead th {\n",
       "        text-align: right;\n",
       "    }\n",
       "</style>\n",
       "<table border=\"1\" class=\"dataframe\">\n",
       "  <thead>\n",
       "    <tr style=\"text-align: right;\">\n",
       "      <th></th>\n",
       "      <th>support</th>\n",
       "      <th>itemsets</th>\n",
       "    </tr>\n",
       "  </thead>\n",
       "  <tbody>\n",
       "    <tr>\n",
       "      <th>0</th>\n",
       "      <td>0.666667</td>\n",
       "      <td>(I1)</td>\n",
       "    </tr>\n",
       "    <tr>\n",
       "      <th>1</th>\n",
       "      <td>0.777778</td>\n",
       "      <td>(I2)</td>\n",
       "    </tr>\n",
       "    <tr>\n",
       "      <th>2</th>\n",
       "      <td>0.666667</td>\n",
       "      <td>(I3)</td>\n",
       "    </tr>\n",
       "    <tr>\n",
       "      <th>3</th>\n",
       "      <td>0.222222</td>\n",
       "      <td>(I4)</td>\n",
       "    </tr>\n",
       "    <tr>\n",
       "      <th>4</th>\n",
       "      <td>0.222222</td>\n",
       "      <td>(I5)</td>\n",
       "    </tr>\n",
       "    <tr>\n",
       "      <th>5</th>\n",
       "      <td>0.444444</td>\n",
       "      <td>(I2, I1)</td>\n",
       "    </tr>\n",
       "    <tr>\n",
       "      <th>6</th>\n",
       "      <td>0.444444</td>\n",
       "      <td>(I3, I1)</td>\n",
       "    </tr>\n",
       "    <tr>\n",
       "      <th>7</th>\n",
       "      <td>0.222222</td>\n",
       "      <td>(I5, I1)</td>\n",
       "    </tr>\n",
       "    <tr>\n",
       "      <th>8</th>\n",
       "      <td>0.444444</td>\n",
       "      <td>(I2, I3)</td>\n",
       "    </tr>\n",
       "    <tr>\n",
       "      <th>9</th>\n",
       "      <td>0.222222</td>\n",
       "      <td>(I2, I4)</td>\n",
       "    </tr>\n",
       "    <tr>\n",
       "      <th>10</th>\n",
       "      <td>0.222222</td>\n",
       "      <td>(I2, I5)</td>\n",
       "    </tr>\n",
       "    <tr>\n",
       "      <th>11</th>\n",
       "      <td>0.222222</td>\n",
       "      <td>(I3, I2, I1)</td>\n",
       "    </tr>\n",
       "    <tr>\n",
       "      <th>12</th>\n",
       "      <td>0.222222</td>\n",
       "      <td>(I5, I2, I1)</td>\n",
       "    </tr>\n",
       "  </tbody>\n",
       "</table>\n",
       "</div>"
      ],
      "text/plain": [
       "     support      itemsets\n",
       "0   0.666667          (I1)\n",
       "1   0.777778          (I2)\n",
       "2   0.666667          (I3)\n",
       "3   0.222222          (I4)\n",
       "4   0.222222          (I5)\n",
       "5   0.444444      (I2, I1)\n",
       "6   0.444444      (I3, I1)\n",
       "7   0.222222      (I5, I1)\n",
       "8   0.444444      (I2, I3)\n",
       "9   0.222222      (I2, I4)\n",
       "10  0.222222      (I2, I5)\n",
       "11  0.222222  (I3, I2, I1)\n",
       "12  0.222222  (I5, I2, I1)"
      ]
     },
     "execution_count": 29,
     "metadata": {},
     "output_type": "execute_result"
    }
   ],
   "source": [
    "frequent_itemsets = apriori(df, min_support=0.2, use_colnames = True)\n",
    "frequent_itemsets"
   ]
  },
  {
   "cell_type": "code",
   "execution_count": 31,
   "metadata": {},
   "outputs": [
    {
     "data": {
      "text/html": [
       "<div>\n",
       "<style scoped>\n",
       "    .dataframe tbody tr th:only-of-type {\n",
       "        vertical-align: middle;\n",
       "    }\n",
       "\n",
       "    .dataframe tbody tr th {\n",
       "        vertical-align: top;\n",
       "    }\n",
       "\n",
       "    .dataframe thead th {\n",
       "        text-align: right;\n",
       "    }\n",
       "</style>\n",
       "<table border=\"1\" class=\"dataframe\">\n",
       "  <thead>\n",
       "    <tr style=\"text-align: right;\">\n",
       "      <th></th>\n",
       "      <th>support</th>\n",
       "      <th>itemsets</th>\n",
       "      <th>length</th>\n",
       "    </tr>\n",
       "  </thead>\n",
       "  <tbody>\n",
       "    <tr>\n",
       "      <th>5</th>\n",
       "      <td>0.444444</td>\n",
       "      <td>(I2, I1)</td>\n",
       "      <td>2</td>\n",
       "    </tr>\n",
       "  </tbody>\n",
       "</table>\n",
       "</div>"
      ],
      "text/plain": [
       "    support  itemsets  length\n",
       "5  0.444444  (I2, I1)       2"
      ]
     },
     "execution_count": 31,
     "metadata": {},
     "output_type": "execute_result"
    }
   ],
   "source": [
    "frequent_itemsets[ frequent_itemsets['itemsets'] == {'I1', 'I2'} ]"
   ]
  },
  {
   "cell_type": "code",
   "execution_count": null,
   "metadata": {},
   "outputs": [],
   "source": [
    "frequent_itemsets[ frequent_itemsets['itemsets'] == {'I1'} ]"
   ]
  },
  {
   "cell_type": "code",
   "execution_count": 32,
   "metadata": {},
   "outputs": [
    {
     "data": {
      "text/html": [
       "<div>\n",
       "<style scoped>\n",
       "    .dataframe tbody tr th:only-of-type {\n",
       "        vertical-align: middle;\n",
       "    }\n",
       "\n",
       "    .dataframe tbody tr th {\n",
       "        vertical-align: top;\n",
       "    }\n",
       "\n",
       "    .dataframe thead th {\n",
       "        text-align: right;\n",
       "    }\n",
       "</style>\n",
       "<table border=\"1\" class=\"dataframe\">\n",
       "  <thead>\n",
       "    <tr style=\"text-align: right;\">\n",
       "      <th></th>\n",
       "      <th>support</th>\n",
       "      <th>itemsets</th>\n",
       "      <th>length</th>\n",
       "    </tr>\n",
       "  </thead>\n",
       "  <tbody>\n",
       "    <tr>\n",
       "      <th>0</th>\n",
       "      <td>0.666667</td>\n",
       "      <td>(I1)</td>\n",
       "      <td>1</td>\n",
       "    </tr>\n",
       "    <tr>\n",
       "      <th>1</th>\n",
       "      <td>0.777778</td>\n",
       "      <td>(I2)</td>\n",
       "      <td>1</td>\n",
       "    </tr>\n",
       "    <tr>\n",
       "      <th>2</th>\n",
       "      <td>0.666667</td>\n",
       "      <td>(I3)</td>\n",
       "      <td>1</td>\n",
       "    </tr>\n",
       "    <tr>\n",
       "      <th>3</th>\n",
       "      <td>0.222222</td>\n",
       "      <td>(I4)</td>\n",
       "      <td>1</td>\n",
       "    </tr>\n",
       "    <tr>\n",
       "      <th>4</th>\n",
       "      <td>0.222222</td>\n",
       "      <td>(I5)</td>\n",
       "      <td>1</td>\n",
       "    </tr>\n",
       "    <tr>\n",
       "      <th>5</th>\n",
       "      <td>0.444444</td>\n",
       "      <td>(I2, I1)</td>\n",
       "      <td>2</td>\n",
       "    </tr>\n",
       "    <tr>\n",
       "      <th>6</th>\n",
       "      <td>0.444444</td>\n",
       "      <td>(I3, I1)</td>\n",
       "      <td>2</td>\n",
       "    </tr>\n",
       "    <tr>\n",
       "      <th>7</th>\n",
       "      <td>0.222222</td>\n",
       "      <td>(I5, I1)</td>\n",
       "      <td>2</td>\n",
       "    </tr>\n",
       "    <tr>\n",
       "      <th>8</th>\n",
       "      <td>0.444444</td>\n",
       "      <td>(I2, I3)</td>\n",
       "      <td>2</td>\n",
       "    </tr>\n",
       "    <tr>\n",
       "      <th>9</th>\n",
       "      <td>0.222222</td>\n",
       "      <td>(I2, I4)</td>\n",
       "      <td>2</td>\n",
       "    </tr>\n",
       "    <tr>\n",
       "      <th>10</th>\n",
       "      <td>0.222222</td>\n",
       "      <td>(I2, I5)</td>\n",
       "      <td>2</td>\n",
       "    </tr>\n",
       "    <tr>\n",
       "      <th>11</th>\n",
       "      <td>0.222222</td>\n",
       "      <td>(I3, I2, I1)</td>\n",
       "      <td>3</td>\n",
       "    </tr>\n",
       "    <tr>\n",
       "      <th>12</th>\n",
       "      <td>0.222222</td>\n",
       "      <td>(I5, I2, I1)</td>\n",
       "      <td>3</td>\n",
       "    </tr>\n",
       "  </tbody>\n",
       "</table>\n",
       "</div>"
      ],
      "text/plain": [
       "     support      itemsets  length\n",
       "0   0.666667          (I1)       1\n",
       "1   0.777778          (I2)       1\n",
       "2   0.666667          (I3)       1\n",
       "3   0.222222          (I4)       1\n",
       "4   0.222222          (I5)       1\n",
       "5   0.444444      (I2, I1)       2\n",
       "6   0.444444      (I3, I1)       2\n",
       "7   0.222222      (I5, I1)       2\n",
       "8   0.444444      (I2, I3)       2\n",
       "9   0.222222      (I2, I4)       2\n",
       "10  0.222222      (I2, I5)       2\n",
       "11  0.222222  (I3, I2, I1)       3\n",
       "12  0.222222  (I5, I2, I1)       3"
      ]
     },
     "execution_count": 32,
     "metadata": {},
     "output_type": "execute_result"
    }
   ],
   "source": [
    "frequent_itemsets['length'] = frequent_itemsets['itemsets'].apply(lambda x: len(x))\n",
    "frequent_itemsets"
   ]
  },
  {
   "cell_type": "code",
   "execution_count": null,
   "metadata": {},
   "outputs": [],
   "source": [
    "frequent_itemsets[ (frequent_itemsets['length'] >= 1) & (frequent_itemsets[ 'support'] >= 0.3) ]"
   ]
  },
  {
   "cell_type": "code",
   "execution_count": null,
   "metadata": {},
   "outputs": [],
   "source": [
    "frequent_itemsets[ (frequent_itemsets['length'] == 2) & (frequent_itemsets[ 'support'] >= 0.3) ]"
   ]
  },
  {
   "cell_type": "markdown",
   "metadata": {},
   "source": [
    "##  Another Example with Item Names"
   ]
  },
  {
   "cell_type": "markdown",
   "metadata": {},
   "source": [
    "#%%% Links\n",
    "#http://rasbt.github.io/mlxtend/user_guide/frequent_patterns/apriori/\n",
    "#https://www.kaggle.com/datatheque/association-rules-mining-market-basket-analysis\n",
    "#http://rasbt.github.io/mlxtend/user_guide/frequent_patterns/association_rules/\n",
    "\n",
    "#summary\n",
    "#metric - support, confidence, lift\n",
    "#frequent item set, rule (threshold - sp, conf, lift)\n",
    "#X->Y   : which rules interesting\n",
    "#Combo plan, relayout, discount, ad, recommendation system\n",
    "\n",
    "transactions = [['Bread','Butter','Jam'],['Butter','Cheese'],['Butter','Egg'] ,['Bread','Butter','Cheese'],['Bread','Egg'], ['Butter','Egg'],['Bread','Egg'], ['Bread','Butter','Egg','Jam'],['Bread','Butter','Egg']]\n",
    "te = TransactionEncoder()\n",
    "te_ary = te.fit(transactions).transform(transactions)\n",
    "te_ary\n",
    "te.columns_\n",
    "df = pd.DataFrame(te_ary, columns=te.columns_)\n",
    "df\n",
    "\n",
    "#https://pypi.org/project/efficient-apriori/\n",
    "#https://stackabuse.com/association-rule-mining-via-apriori-algorithm-in-python\n",
    "#pip install apyori\n",
    "from apyori import apriori\n",
    "association_rules = apriori(df, min_support=0.0045, min_confidence=0.2, min_lift=3, min_length=2)\n",
    "association_results = list(association_rules)\n",
    "association_results\n",
    "print(len(association_results))\n",
    "print(association_results[0])\n",
    "for item in association_results:\n",
    "    # first index of the inner list\n",
    "    # Contains base item and add item\n",
    "    pair = item[0] \n",
    "    items = [x for x in pair]\n",
    "    print(\"Rule: \" + items[0] + \" -> \" + items[1])\n",
    "\n",
    "    #second index of the inner list\n",
    "    print(\"Support: \" + str(item[1]))\n",
    "\n",
    "    #third index of the list located at 0th\n",
    "    #of the third index of the inner list\n",
    "\n",
    "    print(\"Confidence: \" + str(item[2][0][2]))\n",
    "    print(\"Lift: \" + str(item[2][0][3]))\n",
    "    print(\"=====================================\")\n",
    "\n",
    "    \n",
    "\n",
    "#%%%method3  : under draft\n",
    "#https://pypi.org/project/efficient-apriori/\n",
    "#pip install efficient_apriori\n",
    "from efficient_apriori import apriori\n",
    "transactions = [('eggs', 'bacon', 'soup'),   ('eggs', 'bacon', 'apple'), ('soup', 'bacon', 'banana')]\n",
    "transactions\n",
    "itemsets, rules = apriori(transactions, min_support=0.5, min_confidence=1)\n",
    "print(rules)  # [{eggs} -> {bacon}, {soup} -> {bacon}]\n",
    "\n",
    "itemsets, rules = apriori(transactions, min_support=0.2, min_confidence=1)\n",
    "# Print out every rule with 2 items on the left hand side,\n",
    "# 1 item on the right hand side, sorted by lift\n",
    "rules_rhs = filter(lambda rule: len(rule.lhs) == 2 and len(rule.rhs) == 1, rules)\n",
    "for rule in sorted(rules_rhs, key=lambda rule: rule.lift):\n",
    "  print(rule)  # Prints the rule and its confidence, support, lift, ...\n",
    "\n",
    "#with ids\n",
    "from efficient_apriori import apriori\n",
    "transactions = [('eggs', 'bacon', 'soup'),   ('eggs', 'bacon', 'apple'), ('soup', 'bacon', 'banana')]\n",
    "itemsets, rules = apriori(transactions, output_transaction_ids=True)\n",
    "print(itemsets)\n",
    "\n",
    "transactions\n",
    "help(apriori)\n",
    "itemsets2, rules2 = apriori(transactions, min_support=0.2, min_confidence = .3)\n",
    "itemsets2\n",
    "rules2\n",
    "\n",
    "# Print out every rule with 1 items on the left hand side,1 item on the right hand side, sorted by lift\n",
    "rules_rhs = filter(lambda rule: len(rule.lhs) == 1 and len(rule.rhs) == 1, rules2)\n",
    "rules_rhs\n",
    "for rule in sorted(rules_rhs, key=lambda rule: rule.lift):  print(rule) \n",
    "# Prints the rule and its confidence, support, lift, ...\n",
    "# Print out every rule with 2 items on the left hand side,\n",
    "\n",
    "#%%%\n",
    "\n",
    "transactions = [['I1','I2','I5'],['I2','I4'],['I2','I3'] ,['I1','I2','I4'],['I1','I3'], ['I2','I3'],['I1','I3'], ['I1','I2','I3','I5'],['I1','I2','I3']]\n",
    "transactions\n",
    "#----\n",
    "te = TransactionEncoder()\n",
    "te_ary = te.fit(transactions).transform(transactions)\n",
    "te_ary\n",
    "te.columns_\n",
    "df = pd.DataFrame(te_ary, columns=te.columns_)\n",
    "df\n",
    "from mlxtend.frequent_patterns import association_rules\n",
    "from mlxtend.frequent_patterns import apriori\n",
    "support_threshold = 0.01\n",
    "frequent_itemsets = apriori(df, min_support= support_threshold, use_colnames = True)\n",
    "frequent_itemsets\n",
    "rules4 = association_rules(frequent_itemsets, metric=\"lift\", min_threshold =1.2)\n",
    "rules4\n",
    "#no of items - left and right side\n",
    "rules4[\"ant_len\"] = rules4[\"antecedents\"].apply(lambda x: len(x))\n",
    "rules4\n",
    "rules4[\"con_len\"] = rules4[\"consequents\"].apply(lambda x: len(x))\n",
    "rules4\n",
    "rules4[(rules4['ant_len'] >= 1) & (rules4['confidence'] > 0.75) & (rules4['lift'] > 1.2) ]\n",
    "rules4[rules4['antecedents'] == {'I1','I2'}]\n",
    "\n",
    "#%%%\n",
    "transactions = [['I1','I2','I5'],['I2','I4'],['I2','I3'] ,['I1','I2','I4'],['I1','I3'], ['I2','I3'],['I1','I3'], ['I1','I2','I3','I5'],['I1','I2','I3']]\n",
    "transactions\n",
    "\n",
    "from efficient_apriori import apriori\n",
    "#transactions = [('eggs', 'bacon', 'soup'),   ('eggs', 'bacon', 'apple'), ('soup', 'bacon', 'banana')]\n",
    "itemsets, rules = apriori(transactions, output_transaction_ids=True)\n",
    "print(itemsets)\n",
    "itemsets, rules = apriori(transactions, min_support=0.4, min_confidence=.6)\n",
    "print(rules)"
   ]
  },
  {
   "cell_type": "code",
   "execution_count": null,
   "metadata": {},
   "outputs": [],
   "source": []
  },
  {
   "cell_type": "code",
   "execution_count": null,
   "metadata": {},
   "outputs": [],
   "source": []
  }
 ],
 "metadata": {
  "kernelspec": {
   "display_name": "Python 3 (ipykernel)",
   "language": "python",
   "name": "python3"
  },
  "language_info": {
   "codemirror_mode": {
    "name": "ipython",
    "version": 3
   },
   "file_extension": ".py",
   "mimetype": "text/x-python",
   "name": "python",
   "nbconvert_exporter": "python",
   "pygments_lexer": "ipython3",
   "version": "3.9.12"
  }
 },
 "nbformat": 4,
 "nbformat_minor": 4
}
