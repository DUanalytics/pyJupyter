{
 "cells": [
  {
   "cell_type": "markdown",
   "id": "f7a7ce28",
   "metadata": {},
   "source": [
    "# Links for references"
   ]
  },
  {
   "cell_type": "code",
   "execution_count": null,
   "id": "74d75178",
   "metadata": {},
   "outputs": [],
   "source": []
  },
  {
   "cell_type": "markdown",
   "id": "4040ab51",
   "metadata": {},
   "source": [
    "## Cheatsheets"
   ]
  },
  {
   "cell_type": "markdown",
   "id": "6026baf2",
   "metadata": {},
   "source": [
    "https://www.codewithharry.com/blogpost/python-cheatsheet/\n",
    "\n",
    "https://intellipaat.com/blog/tutorial/python-tutorial/python-cheat-sheet-basics/\n",
    "\n",
    "https://www.interviewbit.com/python-cheat-sheet/\n",
    "\n",
    "https://analyticsindiamag.com/top-10-python-cheat-sheets-in-2022/\n",
    "\n",
    "https://quickref.me/python\n",
    "\n",
    "https://github.com/gto76/python-cheatsheet\n",
    "\n",
    "https://www.mygreatlearning.com/blog/python-cheat-sheet/\n",
    "\n",
    "https://www.simplilearn.com/python-cheat-sheet-article\n",
    "\n",
    "https://www.dropbox.com/s/v3yg8djhdf24g6v/UnsupervisedMethods.com%20-%20Cheat%20Sheets.zip?dl=0  (zipped file)"
   ]
  },
  {
   "cell_type": "markdown",
   "id": "39f22b45",
   "metadata": {},
   "source": [
    "### Streamlit"
   ]
  },
  {
   "cell_type": "markdown",
   "id": "2b17cfea",
   "metadata": {},
   "source": [
    "https://docs.streamlit.io/library/cheatsheet"
   ]
  },
  {
   "cell_type": "markdown",
   "id": "fd0e7394",
   "metadata": {},
   "source": [
    "## Ebooks"
   ]
  },
  {
   "cell_type": "code",
   "execution_count": null,
   "id": "989b371e",
   "metadata": {},
   "outputs": [],
   "source": []
  },
  {
   "cell_type": "markdown",
   "id": "3b9a8007",
   "metadata": {},
   "source": [
    "## Datasets"
   ]
  },
  {
   "cell_type": "markdown",
   "id": "56dc3803",
   "metadata": {},
   "source": [
    "https://docs.google.com/spreadsheets/d/1npHtJlhs-ai7RBWqnDq5Cs7uCgVeIpOZRqPYf0K-WHk/edit#gid=0"
   ]
  }
 ],
 "metadata": {
  "kernelspec": {
   "display_name": "Python 3 (ipykernel)",
   "language": "python",
   "name": "python3"
  },
  "language_info": {
   "codemirror_mode": {
    "name": "ipython",
    "version": 3
   },
   "file_extension": ".py",
   "mimetype": "text/x-python",
   "name": "python",
   "nbconvert_exporter": "python",
   "pygments_lexer": "ipython3",
   "version": "3.9.12"
  }
 },
 "nbformat": 4,
 "nbformat_minor": 5
}
