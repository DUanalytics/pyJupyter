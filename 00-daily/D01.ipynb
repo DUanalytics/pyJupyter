{
 "cells": [
  {
   "cell_type": "markdown",
   "id": "69519b8d",
   "metadata": {},
   "source": [
    "# Daily Practise File : Data Structures\n",
    "#-----------------------------\n",
    "#"
   ]
  },
  {
   "cell_type": "markdown",
   "id": "81b8f4de",
   "metadata": {},
   "source": [
    "## Features\n",
    "Mutable - Can be Changed\n",
    "Ordered - Data is Sorted, maintain the original order"
   ]
  },
  {
   "cell_type": "markdown",
   "id": "0f8f2746",
   "metadata": {},
   "source": [
    "## List"
   ]
  },
  {
   "cell_type": "code",
   "execution_count": null,
   "id": "03c1f401",
   "metadata": {
    "scrolled": true
   },
   "outputs": [],
   "source": [
    "#List - ordered collection of items, mutable(changeable) : [square ]\n",
    "list1 = [1,2,3,4,5,'a','Dhiraj',\"Upadhyaya\",True]  #list type of object with data\n",
    "list1  #print when through spyder"
   ]
  },
  {
   "cell_type": "code",
   "execution_count": null,
   "id": "cd05b469",
   "metadata": {
    "scrolled": true
   },
   "outputs": [],
   "source": [
    "type(list1)  #type of object"
   ]
  },
  {
   "cell_type": "code",
   "execution_count": null,
   "id": "f7a249e6",
   "metadata": {
    "scrolled": true
   },
   "outputs": [],
   "source": [
    "print(list1)"
   ]
  },
  {
   "cell_type": "code",
   "execution_count": null,
   "id": "ec07b690",
   "metadata": {
    "scrolled": true
   },
   "outputs": [],
   "source": [
    "# this also prints to screen\n",
    "list1"
   ]
  },
  {
   "cell_type": "code",
   "execution_count": null,
   "id": "95062441",
   "metadata": {
    "scrolled": true
   },
   "outputs": [],
   "source": [
    "# sort a list\n",
    "sorted([100000,5,3,2,4,5,324,43,4,4,3,23,434,53442,244,2245224,523])"
   ]
  },
  {
   "cell_type": "code",
   "execution_count": null,
   "id": "1e5be155",
   "metadata": {
    "scrolled": true
   },
   "outputs": [],
   "source": [
    "list2 = ['f','c','d','e',\"f\"]\n",
    "list2"
   ]
  },
  {
   "cell_type": "code",
   "execution_count": null,
   "id": "007c16f3",
   "metadata": {
    "scrolled": true
   },
   "outputs": [],
   "source": [
    "print(list2.count('f'), list2.count('d'))"
   ]
  },
  {
   "cell_type": "code",
   "execution_count": null,
   "id": "458c6369",
   "metadata": {
    "scrolled": true
   },
   "outputs": [],
   "source": [
    "len(list2)"
   ]
  },
  {
   "cell_type": "code",
   "execution_count": null,
   "id": "92faa37f",
   "metadata": {
    "scrolled": true
   },
   "outputs": [],
   "source": [
    "help(print)"
   ]
  },
  {
   "cell_type": "code",
   "execution_count": null,
   "id": "c5a96bbc",
   "metadata": {},
   "outputs": [],
   "source": [
    "print(dir(list), end ='\\t')  #functions/ methods available for list object"
   ]
  },
  {
   "cell_type": "code",
   "execution_count": null,
   "id": "958ecb06",
   "metadata": {},
   "outputs": [],
   "source": [
    "sorted(list2)"
   ]
  },
  {
   "cell_type": "code",
   "execution_count": null,
   "id": "96a55a21",
   "metadata": {},
   "outputs": [],
   "source": [
    "# select a particular item from list by inded\n",
    "list2[2]"
   ]
  },
  {
   "cell_type": "code",
   "execution_count": null,
   "id": "d10b8e63",
   "metadata": {},
   "outputs": [],
   "source": [
    "# change an item in list, assign (mutable object)\n",
    "list2[2] ='Z'\n",
    "print(list2)"
   ]
  },
  {
   "cell_type": "markdown",
   "id": "d3957d2a",
   "metadata": {},
   "source": [
    "## Tuple\n",
    "List type of an object, but not mutable (ie values cannot be changed)\n",
    "created by round brackets around the items ( )"
   ]
  },
  {
   "cell_type": "code",
   "execution_count": null,
   "id": "d2583209",
   "metadata": {
    "scrolled": true
   },
   "outputs": [],
   "source": [
    "tuple1 = (1,2, 'a', 'b')\n",
    "print(tuple1)"
   ]
  },
  {
   "cell_type": "code",
   "execution_count": null,
   "id": "44007b15",
   "metadata": {
    "scrolled": true
   },
   "outputs": [],
   "source": [
    "type(tuple1)"
   ]
  },
  {
   "cell_type": "code",
   "execution_count": null,
   "id": "a8d5e222",
   "metadata": {},
   "outputs": [],
   "source": [
    "# select item by index\n",
    "tuple1[1]"
   ]
  },
  {
   "cell_type": "code",
   "execution_count": null,
   "id": "57f8a1cd",
   "metadata": {},
   "outputs": [],
   "source": [
    "tuple1[1] = 0  #changes not possible, immutable\n",
    "# error - object does not support item assignment"
   ]
  },
  {
   "cell_type": "code",
   "execution_count": null,
   "id": "088d18d0",
   "metadata": {},
   "outputs": [],
   "source": [
    "# however all values of tuple can be reassigned, recreated\n",
    "tuple1 = (5,45) #overwriting is possible\n",
    "print(tuple1)"
   ]
  },
  {
   "cell_type": "markdown",
   "id": "2b56fd2a",
   "metadata": {},
   "source": [
    "## Dictionary \n",
    "Key-Value pairs\n",
    "created by curly brackets { key : value} with colon in between key and values"
   ]
  },
  {
   "cell_type": "code",
   "execution_count": null,
   "id": "bdc38cc7",
   "metadata": {},
   "outputs": [],
   "source": [
    "dict1 = {1:'Ramesh', 2:'Suresh', 3:'Priyanka'}\n",
    "dict1"
   ]
  },
  {
   "cell_type": "code",
   "execution_count": null,
   "id": "1fcc51c4",
   "metadata": {},
   "outputs": [],
   "source": [
    "type(dict1)"
   ]
  },
  {
   "cell_type": "code",
   "execution_count": null,
   "id": "c6875e78",
   "metadata": {},
   "outputs": [],
   "source": [
    "# create a dictionary object\n",
    "car = { 'brand':'Honda', 'model': 'Jazz', 'year' : 2017}\n",
    "car"
   ]
  },
  {
   "cell_type": "code",
   "execution_count": null,
   "id": "aa35ce89",
   "metadata": {},
   "outputs": [],
   "source": [
    "type(car)   #dict type"
   ]
  },
  {
   "cell_type": "code",
   "execution_count": null,
   "id": "dcd1d1d5",
   "metadata": {},
   "outputs": [],
   "source": [
    "#access\n",
    "print(car['brand'])\n",
    "print(car['year'])\n",
    "print(car.get('year'))"
   ]
  },
  {
   "cell_type": "code",
   "execution_count": null,
   "id": "05d69847",
   "metadata": {},
   "outputs": [],
   "source": [
    "print(dir(car), sep='\\t')   #functions available for dict object"
   ]
  },
  {
   "cell_type": "code",
   "execution_count": null,
   "id": "511d64a3",
   "metadata": {},
   "outputs": [],
   "source": [
    "help(dir) # help"
   ]
  },
  {
   "cell_type": "code",
   "execution_count": null,
   "id": "cbe3d4c3",
   "metadata": {},
   "outputs": [],
   "source": [
    "#mutable\n",
    "car['brand'] = 'MARUTI'\n",
    "car  #mutable , value can be changed"
   ]
  },
  {
   "cell_type": "markdown",
   "id": "268fbaad",
   "metadata": {},
   "source": [
    "# Frozen Dictionary\n",
    "Dictionary object whose values cannot be changed\n",
    "\n",
    "#%%frozen Dictionaries https://pypi.org/project/frozendict/\n",
    "\n",
    "#conda install -c conda-forge frozendict #from anaconda as admin"
   ]
  },
  {
   "cell_type": "markdown",
   "id": "e2bde5dc",
   "metadata": {},
   "source": [
    "## Sets\n",
    "unordered collection of simple items, immutable\n",
    "meaning elements have not a particular position inside a set.\n",
    "Created by curly bracket or set ()"
   ]
  },
  {
   "cell_type": "code",
   "execution_count": null,
   "id": "3de6d628",
   "metadata": {},
   "outputs": [],
   "source": [
    "set1 = set(['india', 'pakistan', 'england', 'australia','india'])\n",
    "set1  #sorted, unique"
   ]
  },
  {
   "cell_type": "code",
   "execution_count": null,
   "id": "376a13ea",
   "metadata": {},
   "outputs": [],
   "source": [
    "type(set1)"
   ]
  },
  {
   "cell_type": "code",
   "execution_count": null,
   "id": "5f0fa0c1",
   "metadata": {},
   "outputs": [],
   "source": [
    "set2 = {'INDIA','PAKISTAN',  \"INDIA\"}  #better way\n",
    "print('Set2 ', set2)\n",
    "set3 = {'Australia', 'South Africa', 'INDIA'}\n",
    "print('Set3 ',  set3)"
   ]
  },
  {
   "cell_type": "code",
   "execution_count": null,
   "id": "80ee81d2",
   "metadata": {},
   "outputs": [],
   "source": [
    "# set has an sorted function\n",
    "sorted(set3)"
   ]
  },
  {
   "cell_type": "code",
   "execution_count": null,
   "id": "d4723179",
   "metadata": {},
   "outputs": [],
   "source": [
    "#union  - combine all elements, remove duplicats\n",
    "set2.union(set3)"
   ]
  },
  {
   "cell_type": "code",
   "execution_count": null,
   "id": "7dcecab8",
   "metadata": {},
   "outputs": [],
   "source": [
    "#intersection - common elements in 2 sets\n",
    "#A.intersection(B)\n",
    "set2.intersection(set3) #set2 & set"
   ]
  },
  {
   "cell_type": "code",
   "execution_count": null,
   "id": "37467968",
   "metadata": {},
   "outputs": [],
   "source": [
    "print(dir(set2), sep ='\\t')  #functions in set, cannot be subscript set2[1]"
   ]
  },
  {
   "cell_type": "markdown",
   "id": "1ee22913",
   "metadata": {},
   "source": [
    "## Frozen Set\n",
    "Type of set, frozen ( round bracket, comma)"
   ]
  },
  {
   "cell_type": "code",
   "execution_count": null,
   "id": "41c6d2a3",
   "metadata": {},
   "outputs": [],
   "source": [
    "tupleFZ1 = (1, 2, 3, 4, 5, 6, 7, 8, 9, 9, 9) \n",
    "tupleFZ1   #immutable list is tuple"
   ]
  },
  {
   "cell_type": "code",
   "execution_count": null,
   "id": "7eb0b2ef",
   "metadata": {},
   "outputs": [],
   "source": [
    "type(tupleFZ1)"
   ]
  },
  {
   "cell_type": "code",
   "execution_count": null,
   "id": "b2d5aaf6",
   "metadata": {},
   "outputs": [],
   "source": [
    "# converting tuple to frozenset \n",
    "frozenset1 = frozenset(tupleFZ1) \n",
    "frozenset1  #only one 9"
   ]
  },
  {
   "cell_type": "code",
   "execution_count": null,
   "id": "c8ecd968",
   "metadata": {},
   "outputs": [],
   "source": [
    "type(frozenset1)"
   ]
  },
  {
   "cell_type": "code",
   "execution_count": null,
   "id": "8d04e67d",
   "metadata": {},
   "outputs": [],
   "source": [
    "# Dictionary to Frozen Set : only keys retained\n",
    "dict1 = {1: 'Ramesh', 2: 'Suresh', 3: 'Priyanka'}\n",
    "dict1\n",
    "frozenset2 = frozenset(dict1)\n",
    "type(frozenset2)\n",
    "frozenset2 #keys of dictionary made as frozen set"
   ]
  },
  {
   "cell_type": "markdown",
   "id": "dcb1a0a5",
   "metadata": {},
   "source": [
    "## Strings\n",
    "text with 'single quote'  or \"doublequote\"\n",
    "immutable (elements cannot be changed)\n",
    "However full string can be reassigned"
   ]
  },
  {
   "cell_type": "code",
   "execution_count": null,
   "id": "8d382b77",
   "metadata": {},
   "outputs": [],
   "source": [
    "str1 = 'Python Programming'\n",
    "print( 'Type of String \"', str1, '\" is ', type(str1))"
   ]
  },
  {
   "cell_type": "code",
   "execution_count": null,
   "id": "42b2b847",
   "metadata": {},
   "outputs": [],
   "source": [
    "#functions in string\n",
    "print(dir(str), sep='\\t')"
   ]
  },
  {
   "cell_type": "code",
   "execution_count": null,
   "id": "45e5eae9",
   "metadata": {},
   "outputs": [],
   "source": [
    "str2 = \"Dhiraj Upadhyaya\"\n",
    "str2.lower()"
   ]
  },
  {
   "cell_type": "code",
   "execution_count": null,
   "id": "d6d8dec8",
   "metadata": {},
   "outputs": [],
   "source": [
    "print(str2)\n",
    "str2[1] = 'Z' #immutable individual elements cannot be changed , but new string can be assigned"
   ]
  },
  {
   "cell_type": "code",
   "execution_count": null,
   "id": "b25e6f59",
   "metadata": {},
   "outputs": [],
   "source": [
    "str2 = 'Kounal'\n",
    "str2"
   ]
  },
  {
   "cell_type": "markdown",
   "id": "4eec4621",
   "metadata": {},
   "source": [
    "##  Important Data Structures\n",
    "list, tuple\n",
    "set, frozenset\n",
    "dictionary, frozenDictionary\n",
    "string"
   ]
  },
  {
   "cell_type": "markdown",
   "id": "7eaa9420",
   "metadata": {},
   "source": [
    "## Other Data Functions"
   ]
  },
  {
   "cell_type": "markdown",
   "id": "844908d3",
   "metadata": {},
   "source": [
    "### Sequence\n",
    "tuple and list are used"
   ]
  },
  {
   "cell_type": "code",
   "execution_count": null,
   "id": "7fe7f3fd",
   "metadata": {},
   "outputs": [],
   "source": [
    "list1 = [1,2,3,4,5]\n",
    "list2 = ['a','bb','ccc', 'dddd', 'eeeee']\n",
    "list1"
   ]
  },
  {
   "cell_type": "code",
   "execution_count": null,
   "id": "8b3b3fd8",
   "metadata": {},
   "outputs": [],
   "source": [
    "#for loop : indentations with colon : Run next 2 lines together\n",
    "for i in list1:\n",
    "    print(i)"
   ]
  },
  {
   "cell_type": "code",
   "execution_count": null,
   "id": "b0437b86",
   "metadata": {},
   "outputs": [],
   "source": [
    "#print inline with tab space\n",
    "for i in list1:    print(i , end ='\\t')"
   ]
  },
  {
   "cell_type": "code",
   "execution_count": null,
   "id": "6e6f2c6d",
   "metadata": {},
   "outputs": [],
   "source": [
    "# print with initial characters and some end characters\n",
    "for i in list2:    print(i, 'DU' , sep='-' , end ='xxx')"
   ]
  },
  {
   "cell_type": "code",
   "execution_count": null,
   "id": "b0989204",
   "metadata": {},
   "outputs": [],
   "source": [
    "#a-DU-xxx ; i+sep+end\n",
    "for i in list1:    print(i , 'HHHE', sep=' X ' , end ='\\t')"
   ]
  },
  {
   "cell_type": "code",
   "execution_count": null,
   "id": "e629477a",
   "metadata": {},
   "outputs": [],
   "source": [
    "# print with count\n",
    "for i in list1:    print('Dhiraj ', i + 6)"
   ]
  },
  {
   "cell_type": "code",
   "execution_count": null,
   "id": "a7398e98",
   "metadata": {},
   "outputs": [],
   "source": [
    "# tuple can also be printed in the same manner\n",
    "tuple1 = (1, 2, 'a', 'b')\n",
    "tuple1\n",
    "list5 = ['a',1]\n",
    "list5\n",
    "for i in tuple1:    print(i, end ='\\t')"
   ]
  },
  {
   "cell_type": "markdown",
   "id": "06dc3c35",
   "metadata": {},
   "source": [
    "### range\n",
    "help(range)  # start, stop, step; does not take keyword\n"
   ]
  },
  {
   "cell_type": "code",
   "execution_count": null,
   "id": "da186d9c",
   "metadata": {},
   "outputs": [],
   "source": [
    "range(1, 100, 2)  #nothing happens, though it generates "
   ]
  },
  {
   "cell_type": "code",
   "execution_count": null,
   "id": "b89f3f0a",
   "metadata": {},
   "outputs": [],
   "source": [
    "# print the range of values in sequence\n",
    "for i in range(1, 100, 2):    print(i, end=' ')"
   ]
  },
  {
   "cell_type": "markdown",
   "id": "553a4be0",
   "metadata": {},
   "source": [
    "### zip\n",
    "map the similar index of multiple containers\n",
    "zip() function returns a zip object, which is an iterator of tuples where the first item in each passed iterator is paired together, and then the second item in each passed iterator are paired together etc."
   ]
  },
  {
   "cell_type": "code",
   "execution_count": null,
   "id": "0d92a19c",
   "metadata": {},
   "outputs": [],
   "source": [
    "name = [ \"Dhiraj\", \"Kounal\", \"Akhil\", \"Pooja\" ] \n",
    "rollno = [ 4, 1, 3, 2 ] \n",
    "marks = [ 90, 50, 60, 70 ] \n",
    "# using zip() to map values \n",
    "mapped = zip(name, rollno, marks) \n",
    "mapped    #no output"
   ]
  },
  {
   "cell_type": "code",
   "execution_count": null,
   "id": "758daeac",
   "metadata": {},
   "outputs": [],
   "source": [
    "type(mapped)"
   ]
  },
  {
   "cell_type": "code",
   "execution_count": null,
   "id": "440690fe",
   "metadata": {},
   "outputs": [],
   "source": [
    "x = zip(name, rollno, marks)\n",
    "x"
   ]
  },
  {
   "cell_type": "code",
   "execution_count": null,
   "id": "42e6bb48",
   "metadata": {},
   "outputs": [],
   "source": [
    "print(set(x))"
   ]
  },
  {
   "cell_type": "code",
   "execution_count": null,
   "id": "37fe44a5",
   "metadata": {},
   "outputs": [],
   "source": [
    "for i , (n, r, m) in enumerate(zip(name, rollno, marks)):\n",
    "    print(i, n, r, m)"
   ]
  },
  {
   "cell_type": "markdown",
   "id": "da6bdb17",
   "metadata": {},
   "source": [
    "## Numpy - Numerical Python\n",
    "similar to list, but items to be one type (so less memory required to store and manipulate)\n",
    "more functions available\n",
    "helps in matrix computations"
   ]
  },
  {
   "cell_type": "code",
   "execution_count": 1,
   "id": "c67e58ed",
   "metadata": {},
   "outputs": [
    {
     "data": {
      "text/plain": [
       "[1, 2, 3, 5]"
      ]
     },
     "execution_count": 1,
     "metadata": {},
     "output_type": "execute_result"
    }
   ],
   "source": [
    "#%% #numpy - array - same data type - numerical python\n",
    "list1 = [1,2,3,5]\n",
    "list1"
   ]
  },
  {
   "cell_type": "code",
   "execution_count": 2,
   "id": "613abcd6-0ee0-4638-8d2c-e1841fc401b0",
   "metadata": {},
   "outputs": [
    {
     "data": {
      "text/plain": [
       "list"
      ]
     },
     "execution_count": 2,
     "metadata": {},
     "output_type": "execute_result"
    }
   ],
   "source": [
    "type(list1)"
   ]
  },
  {
   "cell_type": "code",
   "execution_count": 3,
   "id": "dce321e1",
   "metadata": {},
   "outputs": [
    {
     "name": "stdout",
     "output_type": "stream",
     "text": [
      "[10 20]\n",
      "[[1 2 3 5]]\n"
     ]
    }
   ],
   "source": [
    "import numpy\n",
    "print(numpy.array([10,20])) #list to numpy array\n",
    "print(numpy.array([list1])) #list inside a list"
   ]
  },
  {
   "cell_type": "code",
   "execution_count": 5,
   "id": "bf316abe-9c08-4e9a-9572-fe0415cfc238",
   "metadata": {},
   "outputs": [],
   "source": [
    "import numpy as np #np is alias"
   ]
  },
  {
   "cell_type": "code",
   "execution_count": 9,
   "id": "3c0b70f5-e9b3-470c-9455-87ef380a45e4",
   "metadata": {},
   "outputs": [
    {
     "data": {
      "text/plain": [
       "array([ 1, 11, 21, 31, 41, 51, 61, 71, 81, 91])"
      ]
     },
     "execution_count": 9,
     "metadata": {},
     "output_type": "execute_result"
    }
   ],
   "source": [
    "np.arange(1,100,10)"
   ]
  },
  {
   "cell_type": "code",
   "execution_count": 10,
   "id": "e38bd698",
   "metadata": {},
   "outputs": [
    {
     "data": {
      "text/plain": [
       "array([1, 2, 3, 4, 5, 6, 7, 8, 9])"
      ]
     },
     "execution_count": 10,
     "metadata": {},
     "output_type": "execute_result"
    }
   ],
   "source": [
    "np1 = np.arange(1,10)\n",
    "np1"
   ]
  },
  {
   "cell_type": "code",
   "execution_count": 11,
   "id": "fc81a352",
   "metadata": {},
   "outputs": [
    {
     "data": {
      "text/plain": [
       "500000"
      ]
     },
     "execution_count": 11,
     "metadata": {},
     "output_type": "execute_result"
    }
   ],
   "source": [
    "x=np.arange(start=1,stop=1000000,step=2)\n",
    "len(x)"
   ]
  },
  {
   "cell_type": "code",
   "execution_count": 12,
   "id": "f3d5ca5d-d729-4dca-b6d1-2443f3e1cc96",
   "metadata": {},
   "outputs": [
    {
     "name": "stdout",
     "output_type": "stream",
     "text": [
      "[     1      3      5 ... 999995 999997 999999]\n"
     ]
    }
   ],
   "source": [
    "print(x)"
   ]
  },
  {
   "cell_type": "code",
   "execution_count": 13,
   "id": "ac3e0dc8",
   "metadata": {},
   "outputs": [
    {
     "name": "stdout",
     "output_type": "stream",
     "text": [
      "[  3   5   7   9  11  13  15  17  19  21  23  25  27  29  31  33  35  37\n",
      "  39  41  43  45  47  49  51  53  55  57  59  61  63  65  67  69  71  73\n",
      "  75  77  79  81  83  85  87  89  91  93  95  97  99 101 103 105 107 109\n",
      " 111 113 115 117 119 121 123 125 127 129 131 133 135 137 139 141 143 145\n",
      " 147 149 151 153 155 157 159 161 163 165 167 169 171 173 175 177 179 181\n",
      " 183 185 187 189 191 193 195 197 199]\n",
      "\n",
      "[ 3 23 43 63 83]\n"
     ]
    }
   ],
   "source": [
    "print(x[1:100])  # print from 1st position to 100th position\n",
    "print()\n",
    "print(x[1:50:10])  # print at interval of 10 starting 1st position to 50th position"
   ]
  },
  {
   "cell_type": "code",
   "execution_count": 14,
   "id": "cbd7a673",
   "metadata": {},
   "outputs": [
    {
     "name": "stdout",
     "output_type": "stream",
     "text": [
      "5000000.0\n"
     ]
    }
   ],
   "source": [
    "print(np.mean(np.arange(1,10000000)))\n",
    "#mean of np array of numbers from 1 to 10^7"
   ]
  },
  {
   "cell_type": "code",
   "execution_count": 15,
   "id": "86eb2b55",
   "metadata": {},
   "outputs": [
    {
     "name": "stdout",
     "output_type": "stream",
     "text": [
      "<class 'numpy.ndarray'>\n",
      "['T', '__abs__', '__add__', '__and__', '__array__', '__array_finalize__', '__array_function__', '__array_interface__', '__array_prepare__', '__array_priority__', '__array_struct__', '__array_ufunc__', '__array_wrap__', '__bool__', '__class__', '__complex__', '__contains__', '__copy__', '__deepcopy__', '__delattr__', '__delitem__', '__dir__', '__divmod__', '__doc__', '__eq__', '__float__', '__floordiv__', '__format__', '__ge__', '__getattribute__', '__getitem__', '__gt__', '__hash__', '__iadd__', '__iand__', '__ifloordiv__', '__ilshift__', '__imatmul__', '__imod__', '__imul__', '__index__', '__init__', '__init_subclass__', '__int__', '__invert__', '__ior__', '__ipow__', '__irshift__', '__isub__', '__iter__', '__itruediv__', '__ixor__', '__le__', '__len__', '__lshift__', '__lt__', '__matmul__', '__mod__', '__mul__', '__ne__', '__neg__', '__new__', '__or__', '__pos__', '__pow__', '__radd__', '__rand__', '__rdivmod__', '__reduce__', '__reduce_ex__', '__repr__', '__rfloordiv__', '__rlshift__', '__rmatmul__', '__rmod__', '__rmul__', '__ror__', '__rpow__', '__rrshift__', '__rshift__', '__rsub__', '__rtruediv__', '__rxor__', '__setattr__', '__setitem__', '__setstate__', '__sizeof__', '__str__', '__sub__', '__subclasshook__', '__truediv__', '__xor__', 'all', 'any', 'argmax', 'argmin', 'argpartition', 'argsort', 'astype', 'base', 'byteswap', 'choose', 'clip', 'compress', 'conj', 'conjugate', 'copy', 'ctypes', 'cumprod', 'cumsum', 'data', 'diagonal', 'dot', 'dtype', 'dump', 'dumps', 'fill', 'flags', 'flat', 'flatten', 'getfield', 'imag', 'item', 'itemset', 'itemsize', 'max', 'mean', 'min', 'nbytes', 'ndim', 'newbyteorder', 'nonzero', 'partition', 'prod', 'ptp', 'put', 'ravel', 'real', 'repeat', 'reshape', 'resize', 'round', 'searchsorted', 'setfield', 'setflags', 'shape', 'size', 'sort', 'squeeze', 'std', 'strides', 'sum', 'swapaxes', 'take', 'tobytes', 'tofile', 'tolist', 'tostring', 'trace', 'transpose', 'var', 'view']\n"
     ]
    }
   ],
   "source": [
    "print(type(np1))\n",
    "print(dir(np1), sep ='\\t')"
   ]
  },
  {
   "cell_type": "code",
   "execution_count": null,
   "id": "14f60468",
   "metadata": {},
   "outputs": [],
   "source": [
    "help(np)\n",
    "#https://numpy.org/doc/stable/user/index.html"
   ]
  },
  {
   "cell_type": "code",
   "execution_count": 16,
   "id": "16db0762",
   "metadata": {},
   "outputs": [
    {
     "name": "stdout",
     "output_type": "stream",
     "text": [
      "Help on function mean in module numpy:\n",
      "\n",
      "mean(a, axis=None, dtype=None, out=None, keepdims=<no value>, *, where=<no value>)\n",
      "    Compute the arithmetic mean along the specified axis.\n",
      "    \n",
      "    Returns the average of the array elements.  The average is taken over\n",
      "    the flattened array by default, otherwise over the specified axis.\n",
      "    `float64` intermediate and return values are used for integer inputs.\n",
      "    \n",
      "    Parameters\n",
      "    ----------\n",
      "    a : array_like\n",
      "        Array containing numbers whose mean is desired. If `a` is not an\n",
      "        array, a conversion is attempted.\n",
      "    axis : None or int or tuple of ints, optional\n",
      "        Axis or axes along which the means are computed. The default is to\n",
      "        compute the mean of the flattened array.\n",
      "    \n",
      "        .. versionadded:: 1.7.0\n",
      "    \n",
      "        If this is a tuple of ints, a mean is performed over multiple axes,\n",
      "        instead of a single axis or all the axes as before.\n",
      "    dtype : data-type, optional\n",
      "        Type to use in computing the mean.  For integer inputs, the default\n",
      "        is `float64`; for floating point inputs, it is the same as the\n",
      "        input dtype.\n",
      "    out : ndarray, optional\n",
      "        Alternate output array in which to place the result.  The default\n",
      "        is ``None``; if provided, it must have the same shape as the\n",
      "        expected output, but the type will be cast if necessary.\n",
      "        See :ref:`ufuncs-output-type` for more details.\n",
      "    \n",
      "    keepdims : bool, optional\n",
      "        If this is set to True, the axes which are reduced are left\n",
      "        in the result as dimensions with size one. With this option,\n",
      "        the result will broadcast correctly against the input array.\n",
      "    \n",
      "        If the default value is passed, then `keepdims` will not be\n",
      "        passed through to the `mean` method of sub-classes of\n",
      "        `ndarray`, however any non-default value will be.  If the\n",
      "        sub-class' method does not implement `keepdims` any\n",
      "        exceptions will be raised.\n",
      "    \n",
      "    where : array_like of bool, optional\n",
      "        Elements to include in the mean. See `~numpy.ufunc.reduce` for details.\n",
      "    \n",
      "        .. versionadded:: 1.20.0\n",
      "    \n",
      "    Returns\n",
      "    -------\n",
      "    m : ndarray, see dtype parameter above\n",
      "        If `out=None`, returns a new array containing the mean values,\n",
      "        otherwise a reference to the output array is returned.\n",
      "    \n",
      "    See Also\n",
      "    --------\n",
      "    average : Weighted average\n",
      "    std, var, nanmean, nanstd, nanvar\n",
      "    \n",
      "    Notes\n",
      "    -----\n",
      "    The arithmetic mean is the sum of the elements along the axis divided\n",
      "    by the number of elements.\n",
      "    \n",
      "    Note that for floating-point input, the mean is computed using the\n",
      "    same precision the input has.  Depending on the input data, this can\n",
      "    cause the results to be inaccurate, especially for `float32` (see\n",
      "    example below).  Specifying a higher-precision accumulator using the\n",
      "    `dtype` keyword can alleviate this issue.\n",
      "    \n",
      "    By default, `float16` results are computed using `float32` intermediates\n",
      "    for extra precision.\n",
      "    \n",
      "    Examples\n",
      "    --------\n",
      "    >>> a = np.array([[1, 2], [3, 4]])\n",
      "    >>> np.mean(a)\n",
      "    2.5\n",
      "    >>> np.mean(a, axis=0)\n",
      "    array([2., 3.])\n",
      "    >>> np.mean(a, axis=1)\n",
      "    array([1.5, 3.5])\n",
      "    \n",
      "    In single precision, `mean` can be inaccurate:\n",
      "    \n",
      "    >>> a = np.zeros((2, 512*512), dtype=np.float32)\n",
      "    >>> a[0, :] = 1.0\n",
      "    >>> a[1, :] = 0.1\n",
      "    >>> np.mean(a)\n",
      "    0.54999924\n",
      "    \n",
      "    Computing the mean in float64 is more accurate:\n",
      "    \n",
      "    >>> np.mean(a, dtype=np.float64)\n",
      "    0.55000000074505806 # may vary\n",
      "    \n",
      "    Specifying a where argument:\n",
      "    >>> a = np.array([[5, 9, 13], [14, 10, 12], [11, 15, 19]])\n",
      "    >>> np.mean(a)\n",
      "    12.0\n",
      "    >>> np.mean(a, where=[[True], [False], [False]])\n",
      "    9.0\n",
      "\n"
     ]
    }
   ],
   "source": [
    "help(np.mean)"
   ]
  },
  {
   "cell_type": "code",
   "execution_count": 17,
   "id": "96b4efa8",
   "metadata": {},
   "outputs": [
    {
     "name": "stdout",
     "output_type": "stream",
     "text": [
      "[90 50 60 70]\n",
      "Sorted NP array  [50 60 70 90]\n"
     ]
    }
   ],
   "source": [
    "np2 = np.array([ 90, 50, 60, 70 ])\n",
    "print(np2)\n",
    "print('Sorted NP array ', np.sort(np2))"
   ]
  },
  {
   "cell_type": "code",
   "execution_count": 18,
   "id": "fc25672f",
   "metadata": {},
   "outputs": [
    {
     "data": {
      "text/plain": [
       "array([[ 1,  4],\n",
       "       [ 3,  1],\n",
       "       [ 5,  6],\n",
       "       [10, 50]])"
      ]
     },
     "execution_count": 18,
     "metadata": {},
     "output_type": "execute_result"
    }
   ],
   "source": [
    "np3 = np.array([[1,4],[3,1],[5,6],[10,50]])\n",
    "np3\n",
    "#multi dim np array like matrix"
   ]
  },
  {
   "cell_type": "code",
   "execution_count": 19,
   "id": "018e342d",
   "metadata": {},
   "outputs": [
    {
     "name": "stdout",
     "output_type": "stream",
     "text": [
      "(4, 2)\n",
      "4\n",
      "2\n",
      "No of elements  8\n"
     ]
    }
   ],
   "source": [
    "print(np3.shape)   #rows, columns\n",
    "print(np3.shape[0]) #rows\n",
    "print(np3.shape[1]) #cols\n",
    "x= np3.shape[0] * np3.shape[1]\n",
    "print('No of elements ', x)"
   ]
  },
  {
   "cell_type": "code",
   "execution_count": 20,
   "id": "3ec09b79",
   "metadata": {},
   "outputs": [
    {
     "name": "stdout",
     "output_type": "stream",
     "text": [
      "True\n",
      "False\n",
      "4\n"
     ]
    }
   ],
   "source": [
    "print(x%2 == 0)   #divisible by 2 : Even no of elements\n",
    "print(x%3 == 0)   #divisible by 3\n",
    "print(len(np3))   #no of rows"
   ]
  },
  {
   "cell_type": "code",
   "execution_count": 21,
   "id": "12a2117a",
   "metadata": {},
   "outputs": [
    {
     "data": {
      "text/plain": [
       "array([[ 1,  4],\n",
       "       [ 3,  1],\n",
       "       [ 5,  6],\n",
       "       [10, 50]])"
      ]
     },
     "execution_count": 21,
     "metadata": {},
     "output_type": "execute_result"
    }
   ],
   "source": [
    "np3"
   ]
  },
  {
   "cell_type": "code",
   "execution_count": 22,
   "id": "3f62493e",
   "metadata": {},
   "outputs": [
    {
     "data": {
      "text/plain": [
       "array([[ 1],\n",
       "       [ 4],\n",
       "       [ 3],\n",
       "       [ 1],\n",
       "       [ 5],\n",
       "       [ 6],\n",
       "       [10],\n",
       "       [50]])"
      ]
     },
     "execution_count": 22,
     "metadata": {},
     "output_type": "execute_result"
    }
   ],
   "source": [
    "# change the shape of np array\n",
    "np3.reshape((-1,1))  #1 column from 2 column\n",
    "#np.reshape((-1, noCols))   # from any number of columns change to 1 columns"
   ]
  },
  {
   "cell_type": "code",
   "execution_count": 23,
   "id": "0b5c6d22",
   "metadata": {},
   "outputs": [
    {
     "data": {
      "text/plain": [
       "array([ 1,  4,  3,  1,  5,  6, 10, 50])"
      ]
     },
     "execution_count": 23,
     "metadata": {},
     "output_type": "execute_result"
    }
   ],
   "source": [
    "np3.reshape((-1))   # no columns"
   ]
  },
  {
   "cell_type": "code",
   "execution_count": 24,
   "id": "e59d65af",
   "metadata": {},
   "outputs": [
    {
     "data": {
      "text/plain": [
       "array([[ 1,  4],\n",
       "       [ 3,  1],\n",
       "       [ 5,  6],\n",
       "       [10, 50]])"
      ]
     },
     "execution_count": 24,
     "metadata": {},
     "output_type": "execute_result"
    }
   ],
   "source": [
    "np3.reshape((-1,2))"
   ]
  },
  {
   "cell_type": "code",
   "execution_count": 25,
   "id": "883f0674",
   "metadata": {},
   "outputs": [
    {
     "ename": "ValueError",
     "evalue": "cannot reshape array of size 8 into shape (3)",
     "output_type": "error",
     "traceback": [
      "\u001b[1;31m---------------------------------------------------------------------------\u001b[0m",
      "\u001b[1;31mValueError\u001b[0m                                Traceback (most recent call last)",
      "\u001b[1;32m~\\AppData\\Local\\Temp\\ipykernel_18404\\3551231971.py\u001b[0m in \u001b[0;36m<module>\u001b[1;34m\u001b[0m\n\u001b[1;32m----> 1\u001b[1;33m \u001b[0mnp3\u001b[0m\u001b[1;33m.\u001b[0m\u001b[0mreshape\u001b[0m\u001b[1;33m(\u001b[0m\u001b[1;33m(\u001b[0m\u001b[1;33m-\u001b[0m\u001b[1;36m1\u001b[0m\u001b[1;33m,\u001b[0m\u001b[1;36m3\u001b[0m\u001b[1;33m)\u001b[0m\u001b[1;33m)\u001b[0m  \u001b[1;31m#error\u001b[0m\u001b[1;33m\u001b[0m\u001b[1;33m\u001b[0m\u001b[0m\n\u001b[0m\u001b[0;32m      2\u001b[0m \u001b[1;31m#cannot be converted to 3 columns as there are 8 elements and 8 is not divisible by 3\u001b[0m\u001b[1;33m\u001b[0m\u001b[1;33m\u001b[0m\u001b[0m\n",
      "\u001b[1;31mValueError\u001b[0m: cannot reshape array of size 8 into shape (3)"
     ]
    }
   ],
   "source": [
    "np3.reshape((-1,3))  #error\n",
    "#cannot be converted to 3 columns as there are 8 elements and 8 is not divisible by 3"
   ]
  },
  {
   "cell_type": "code",
   "execution_count": 27,
   "id": "69ed759d",
   "metadata": {},
   "outputs": [
    {
     "data": {
      "text/plain": [
       "array([[ 1,  4,  3,  1],\n",
       "       [ 5,  6, 10, 50]])"
      ]
     },
     "execution_count": 27,
     "metadata": {},
     "output_type": "execute_result"
    }
   ],
   "source": [
    "np3.reshape((-1,4))   # 4 columns, as many as columns which data can create"
   ]
  },
  {
   "cell_type": "markdown",
   "id": "a943dae3",
   "metadata": {},
   "source": [
    "## Pandas\n",
    "http://cs231n.github.io/python-numpy-tutorial/\n",
    "pandas - dataframe, excel like\n",
    "https://mode.com/python-tutorial/pandas-dataframe/\n",
    "https://pandas.pydata.org/pandas-docs/stable/"
   ]
  },
  {
   "cell_type": "code",
   "execution_count": 28,
   "id": "9a643148",
   "metadata": {},
   "outputs": [],
   "source": [
    "import pandas as pd\n",
    "#https://pandas.pydata.org/"
   ]
  },
  {
   "cell_type": "code",
   "execution_count": 29,
   "id": "49e24444",
   "metadata": {},
   "outputs": [
    {
     "name": "stdout",
     "output_type": "stream",
     "text": [
      "['BooleanDtype', 'Categorical', 'CategoricalDtype', 'CategoricalIndex', 'DataFrame', 'DateOffset', 'DatetimeIndex', 'DatetimeTZDtype', 'ExcelFile', 'ExcelWriter', 'Flags', 'Float32Dtype', 'Float64Dtype', 'Float64Index', 'Grouper', 'HDFStore', 'Index', 'IndexSlice', 'Int16Dtype', 'Int32Dtype', 'Int64Dtype', 'Int64Index', 'Int8Dtype', 'Interval', 'IntervalDtype', 'IntervalIndex', 'MultiIndex', 'NA', 'NaT', 'NamedAgg', 'Period', 'PeriodDtype', 'PeriodIndex', 'RangeIndex', 'Series', 'SparseDtype', 'StringDtype', 'Timedelta', 'TimedeltaIndex', 'Timestamp', 'UInt16Dtype', 'UInt32Dtype', 'UInt64Dtype', 'UInt64Index', 'UInt8Dtype', '__all__', '__builtins__', '__cached__', '__deprecated_num_index_names', '__dir__', '__doc__', '__docformat__', '__file__', '__getattr__', '__git_version__', '__loader__', '__name__', '__package__', '__path__', '__spec__', '__version__', '_config', '_is_numpy_dev', '_libs', '_testing', '_typing', '_version', 'api', 'array', 'arrays', 'bdate_range', 'compat', 'concat', 'core', 'crosstab', 'cut', 'date_range', 'describe_option', 'errors', 'eval', 'factorize', 'get_dummies', 'get_option', 'infer_freq', 'interval_range', 'io', 'isna', 'isnull', 'json_normalize', 'lreshape', 'melt', 'merge', 'merge_asof', 'merge_ordered', 'notna', 'notnull', 'offsets', 'option_context', 'options', 'pandas', 'period_range', 'pivot', 'pivot_table', 'plotting', 'qcut', 'read_clipboard', 'read_csv', 'read_excel', 'read_feather', 'read_fwf', 'read_gbq', 'read_hdf', 'read_html', 'read_json', 'read_orc', 'read_parquet', 'read_pickle', 'read_sas', 'read_spss', 'read_sql', 'read_sql_query', 'read_sql_table', 'read_stata', 'read_table', 'read_xml', 'reset_option', 'set_eng_float_format', 'set_option', 'show_versions', 'test', 'testing', 'timedelta_range', 'to_datetime', 'to_numeric', 'to_pickle', 'to_timedelta', 'tseries', 'unique', 'util', 'value_counts', 'wide_to_long']\n"
     ]
    }
   ],
   "source": [
    "print(dir(pd), sep ='\\t')"
   ]
  },
  {
   "cell_type": "code",
   "execution_count": 32,
   "id": "2837b079",
   "metadata": {},
   "outputs": [
    {
     "name": "stdout",
     "output_type": "stream",
     "text": [
      "   rollno    name  marks gender\n",
      "0       1  Dhiraj   40.0      M\n",
      "1       2  Kounal   50.0      M\n",
      "2       3   Akhil   60.5      M\n",
      "3       4   Pooja   70.0      F\n",
      "4       5   Disha   93.0      F\n"
     ]
    },
    {
     "data": {
      "text/plain": [
       "pandas.core.frame.DataFrame"
      ]
     },
     "execution_count": 32,
     "metadata": {},
     "output_type": "execute_result"
    }
   ],
   "source": [
    "df1 = pd.DataFrame({'rollno':[1,2,3,4,5], \n",
    "                    'name': [ \"Dhiraj\", \"Kounal\", \"Akhil\", \"Pooja\",\"Disha\" ], \n",
    "                    'marks':[ 40, 50, 60.5, 70, 93 ], \n",
    "                    'gender':['M', 'M','M', 'F', 'F']})\n",
    "print(df1)  # dict format\n",
    "type(df1) "
   ]
  },
  {
   "cell_type": "code",
   "execution_count": 31,
   "id": "335ab287",
   "metadata": {},
   "outputs": [
    {
     "data": {
      "text/html": [
       "<div>\n",
       "<style scoped>\n",
       "    .dataframe tbody tr th:only-of-type {\n",
       "        vertical-align: middle;\n",
       "    }\n",
       "\n",
       "    .dataframe tbody tr th {\n",
       "        vertical-align: top;\n",
       "    }\n",
       "\n",
       "    .dataframe thead th {\n",
       "        text-align: right;\n",
       "    }\n",
       "</style>\n",
       "<table border=\"1\" class=\"dataframe\">\n",
       "  <thead>\n",
       "    <tr style=\"text-align: right;\">\n",
       "      <th></th>\n",
       "      <th>rollno</th>\n",
       "      <th>name</th>\n",
       "      <th>marks</th>\n",
       "      <th>gender</th>\n",
       "    </tr>\n",
       "  </thead>\n",
       "  <tbody>\n",
       "    <tr>\n",
       "      <th>0</th>\n",
       "      <td>1</td>\n",
       "      <td>Dhiraj</td>\n",
       "      <td>40.0</td>\n",
       "      <td>M</td>\n",
       "    </tr>\n",
       "    <tr>\n",
       "      <th>1</th>\n",
       "      <td>2</td>\n",
       "      <td>Kounal</td>\n",
       "      <td>50.0</td>\n",
       "      <td>M</td>\n",
       "    </tr>\n",
       "    <tr>\n",
       "      <th>2</th>\n",
       "      <td>3</td>\n",
       "      <td>Akhil</td>\n",
       "      <td>60.5</td>\n",
       "      <td>M</td>\n",
       "    </tr>\n",
       "    <tr>\n",
       "      <th>3</th>\n",
       "      <td>4</td>\n",
       "      <td>Pooja</td>\n",
       "      <td>70.0</td>\n",
       "      <td>F</td>\n",
       "    </tr>\n",
       "  </tbody>\n",
       "</table>\n",
       "</div>"
      ],
      "text/plain": [
       "   rollno    name  marks gender\n",
       "0       1  Dhiraj   40.0      M\n",
       "1       2  Kounal   50.0      M\n",
       "2       3   Akhil   60.5      M\n",
       "3       4   Pooja   70.0      F"
      ]
     },
     "execution_count": 31,
     "metadata": {},
     "output_type": "execute_result"
    }
   ],
   "source": [
    "df1"
   ]
  },
  {
   "cell_type": "code",
   "execution_count": 35,
   "id": "c645cc50",
   "metadata": {},
   "outputs": [
    {
     "name": "stdout",
     "output_type": "stream",
     "text": [
      "Column Names -  Index(['rollno', 'name', 'marks', 'gender'], dtype='object')\n",
      "Index/ Row Names -  RangeIndex(start=0, stop=5, step=1)\n",
      "Data Types -\n",
      " rollno      int64\n",
      "name       object\n",
      "marks     float64\n",
      "gender     object\n",
      "dtype: object\n",
      "Shape of DF(R-C) - (5, 4)\n"
     ]
    }
   ],
   "source": [
    "print('Column Names - ', df1.columns)  #column names\n",
    "print('Index/ Row Names - ', df1.index)  #row ids/ names  - here auto created\n",
    "print('Data Types -\\n', df1.dtypes) #data types\n",
    "print('Shape of DF(R-C) -', df1.shape)  # rows and columns"
   ]
  },
  {
   "cell_type": "code",
   "execution_count": 39,
   "id": "d125dce5",
   "metadata": {},
   "outputs": [
    {
     "name": "stdout",
     "output_type": "stream",
     "text": [
      "Describe Values (Numerical)-\t  \n"
     ]
    },
    {
     "data": {
      "text/html": [
       "<div>\n",
       "<style scoped>\n",
       "    .dataframe tbody tr th:only-of-type {\n",
       "        vertical-align: middle;\n",
       "    }\n",
       "\n",
       "    .dataframe tbody tr th {\n",
       "        vertical-align: top;\n",
       "    }\n",
       "\n",
       "    .dataframe thead th {\n",
       "        text-align: right;\n",
       "    }\n",
       "</style>\n",
       "<table border=\"1\" class=\"dataframe\">\n",
       "  <thead>\n",
       "    <tr style=\"text-align: right;\">\n",
       "      <th></th>\n",
       "      <th>rollno</th>\n",
       "      <th>marks</th>\n",
       "    </tr>\n",
       "  </thead>\n",
       "  <tbody>\n",
       "    <tr>\n",
       "      <th>count</th>\n",
       "      <td>5.000000</td>\n",
       "      <td>5.000000</td>\n",
       "    </tr>\n",
       "    <tr>\n",
       "      <th>mean</th>\n",
       "      <td>3.000000</td>\n",
       "      <td>62.700000</td>\n",
       "    </tr>\n",
       "    <tr>\n",
       "      <th>std</th>\n",
       "      <td>1.581139</td>\n",
       "      <td>20.327322</td>\n",
       "    </tr>\n",
       "    <tr>\n",
       "      <th>min</th>\n",
       "      <td>1.000000</td>\n",
       "      <td>40.000000</td>\n",
       "    </tr>\n",
       "    <tr>\n",
       "      <th>25%</th>\n",
       "      <td>2.000000</td>\n",
       "      <td>50.000000</td>\n",
       "    </tr>\n",
       "    <tr>\n",
       "      <th>50%</th>\n",
       "      <td>3.000000</td>\n",
       "      <td>60.500000</td>\n",
       "    </tr>\n",
       "    <tr>\n",
       "      <th>75%</th>\n",
       "      <td>4.000000</td>\n",
       "      <td>70.000000</td>\n",
       "    </tr>\n",
       "    <tr>\n",
       "      <th>max</th>\n",
       "      <td>5.000000</td>\n",
       "      <td>93.000000</td>\n",
       "    </tr>\n",
       "  </tbody>\n",
       "</table>\n",
       "</div>"
      ],
      "text/plain": [
       "         rollno      marks\n",
       "count  5.000000   5.000000\n",
       "mean   3.000000  62.700000\n",
       "std    1.581139  20.327322\n",
       "min    1.000000  40.000000\n",
       "25%    2.000000  50.000000\n",
       "50%    3.000000  60.500000\n",
       "75%    4.000000  70.000000\n",
       "max    5.000000  93.000000"
      ]
     },
     "execution_count": 39,
     "metadata": {},
     "output_type": "execute_result"
    }
   ],
   "source": [
    "print('Describe Values (Numerical)-\\t  ')\n",
    "df1.describe() #description of numerical values"
   ]
  },
  {
   "cell_type": "code",
   "execution_count": 40,
   "id": "fffd3716",
   "metadata": {},
   "outputs": [
    {
     "data": {
      "text/plain": [
       "gender\n",
       "F    2\n",
       "M    3\n",
       "dtype: int64"
      ]
     },
     "execution_count": 40,
     "metadata": {},
     "output_type": "execute_result"
    }
   ],
   "source": [
    "# Groupby Functions on DF\n",
    "df1.groupby('gender').size()  # how many M, F"
   ]
  },
  {
   "cell_type": "code",
   "execution_count": 41,
   "id": "118753a2",
   "metadata": {},
   "outputs": [
    {
     "data": {
      "text/plain": [
       "gender\n",
       "F    81.500000\n",
       "M    50.166667\n",
       "Name: marks, dtype: float64"
      ]
     },
     "execution_count": 41,
     "metadata": {},
     "output_type": "execute_result"
    }
   ],
   "source": [
    "df1.groupby('gender')['marks'].mean()  #mean marks of each gender type"
   ]
  },
  {
   "cell_type": "code",
   "execution_count": 42,
   "id": "81c89c5e",
   "metadata": {},
   "outputs": [
    {
     "data": {
      "text/html": [
       "<div>\n",
       "<style scoped>\n",
       "    .dataframe tbody tr th:only-of-type {\n",
       "        vertical-align: middle;\n",
       "    }\n",
       "\n",
       "    .dataframe tbody tr th {\n",
       "        vertical-align: top;\n",
       "    }\n",
       "\n",
       "    .dataframe thead tr th {\n",
       "        text-align: left;\n",
       "    }\n",
       "\n",
       "    .dataframe thead tr:last-of-type th {\n",
       "        text-align: right;\n",
       "    }\n",
       "</style>\n",
       "<table border=\"1\" class=\"dataframe\">\n",
       "  <thead>\n",
       "    <tr>\n",
       "      <th></th>\n",
       "      <th colspan=\"5\" halign=\"left\">marks</th>\n",
       "    </tr>\n",
       "    <tr>\n",
       "      <th></th>\n",
       "      <th>mean</th>\n",
       "      <th>max</th>\n",
       "      <th>min</th>\n",
       "      <th>std</th>\n",
       "      <th>count</th>\n",
       "    </tr>\n",
       "    <tr>\n",
       "      <th>gender</th>\n",
       "      <th></th>\n",
       "      <th></th>\n",
       "      <th></th>\n",
       "      <th></th>\n",
       "      <th></th>\n",
       "    </tr>\n",
       "  </thead>\n",
       "  <tbody>\n",
       "    <tr>\n",
       "      <th>F</th>\n",
       "      <td>81.500000</td>\n",
       "      <td>93.0</td>\n",
       "      <td>70.0</td>\n",
       "      <td>16.263456</td>\n",
       "      <td>2</td>\n",
       "    </tr>\n",
       "    <tr>\n",
       "      <th>M</th>\n",
       "      <td>50.166667</td>\n",
       "      <td>60.5</td>\n",
       "      <td>40.0</td>\n",
       "      <td>10.251016</td>\n",
       "      <td>3</td>\n",
       "    </tr>\n",
       "  </tbody>\n",
       "</table>\n",
       "</div>"
      ],
      "text/plain": [
       "            marks                             \n",
       "             mean   max   min        std count\n",
       "gender                                        \n",
       "F       81.500000  93.0  70.0  16.263456     2\n",
       "M       50.166667  60.5  40.0  10.251016     3"
      ]
     },
     "execution_count": 42,
     "metadata": {},
     "output_type": "execute_result"
    }
   ],
   "source": [
    "# other stats summary gender wise\n",
    "df1.groupby('gender').aggregate({'marks': [np.mean, 'max','min','std','count']})"
   ]
  },
  {
   "cell_type": "markdown",
   "id": "09cb2278",
   "metadata": {},
   "source": [
    "## Graphs\n",
    "Visualise data using different libraries of python\n",
    "https://python-graph-gallery.com/\n",
    "#https://matplotlib.org/"
   ]
  },
  {
   "cell_type": "code",
   "execution_count": 43,
   "id": "067e523d",
   "metadata": {},
   "outputs": [],
   "source": [
    "#matplotlib\n",
    "import matplotlib.pyplot as plt"
   ]
  },
  {
   "cell_type": "code",
   "execution_count": 44,
   "id": "c927aca8",
   "metadata": {},
   "outputs": [
    {
     "data": {
      "text/plain": [
       "gender\n",
       "F    2\n",
       "M    3\n",
       "dtype: int64"
      ]
     },
     "execution_count": 44,
     "metadata": {},
     "output_type": "execute_result"
    }
   ],
   "source": [
    "df1.groupby('gender').size()"
   ]
  },
  {
   "cell_type": "code",
   "execution_count": 45,
   "id": "e92c9c50",
   "metadata": {},
   "outputs": [
    {
     "data": {
      "text/plain": [
       "<AxesSubplot: xlabel='gender'>"
      ]
     },
     "execution_count": 45,
     "metadata": {},
     "output_type": "execute_result"
    },
    {
     "data": {
      "image/png": "[encoded data removed]",
      "text/plain": [
       "<Figure size 640x480 with 1 Axes>"
      ]
     },
     "metadata": {},
     "output_type": "display_data"
    }
   ],
   "source": [
    "df1.groupby('gender').size().plot(kind='bar')\n",
    "#this is using plot function in pandas"
   ]
  },
  {
   "cell_type": "code",
   "execution_count": 46,
   "id": "724fcef1",
   "metadata": {},
   "outputs": [
    {
     "data": {
      "text/plain": [
       "(array([1., 1., 0., 1., 0., 1., 0., 0., 0., 1.]),\n",
       " array([40. , 45.3, 50.6, 55.9, 61.2, 66.5, 71.8, 77.1, 82.4, 87.7, 93. ]),\n",
       " <BarContainer object of 10 artists>)"
      ]
     },
     "execution_count": 46,
     "metadata": {},
     "output_type": "execute_result"
    },
    {
     "data": {
      "image/png": "[encoded data removed]",
      "text/plain": [
       "<Figure size 640x480 with 1 Axes>"
      ]
     },
     "metadata": {},
     "output_type": "display_data"
    }
   ],
   "source": [
    "plt.hist(df1['marks'])\n",
    "#this is using matplotlib"
   ]
  },
  {
   "cell_type": "code",
   "execution_count": 47,
   "id": "1d653220",
   "metadata": {},
   "outputs": [],
   "source": [
    "# Seaborn library\n",
    "#https://seaborn.pydata.org/index.html\n",
    "import seaborn as sns"
   ]
  },
  {
   "cell_type": "code",
   "execution_count": 48,
   "id": "a613db03",
   "metadata": {},
   "outputs": [
    {
     "name": "stdout",
     "output_type": "stream",
     "text": [
      "['anagrams', 'anscombe', 'attention', 'brain_networks', 'car_crashes', 'diamonds', 'dots', 'dowjones', 'exercise', 'flights', 'fmri', 'geyser', 'glue', 'healthexp', 'iris', 'mpg', 'penguins', 'planets', 'seaice', 'taxis', 'tips', 'titanic']\n"
     ]
    }
   ],
   "source": [
    "# it has datasets also\n",
    "print(sns.get_dataset_names(), sep='\\t')"
   ]
  },
  {
   "cell_type": "code",
   "execution_count": 49,
   "id": "40ea33a8",
   "metadata": {},
   "outputs": [
    {
     "data": {
      "text/html": [
       "<div>\n",
       "<style scoped>\n",
       "    .dataframe tbody tr th:only-of-type {\n",
       "        vertical-align: middle;\n",
       "    }\n",
       "\n",
       "    .dataframe tbody tr th {\n",
       "        vertical-align: top;\n",
       "    }\n",
       "\n",
       "    .dataframe thead th {\n",
       "        text-align: right;\n",
       "    }\n",
       "</style>\n",
       "<table border=\"1\" class=\"dataframe\">\n",
       "  <thead>\n",
       "    <tr style=\"text-align: right;\">\n",
       "      <th></th>\n",
       "      <th>sepal_length</th>\n",
       "      <th>sepal_width</th>\n",
       "      <th>petal_length</th>\n",
       "      <th>petal_width</th>\n",
       "      <th>species</th>\n",
       "    </tr>\n",
       "  </thead>\n",
       "  <tbody>\n",
       "    <tr>\n",
       "      <th>145</th>\n",
       "      <td>6.7</td>\n",
       "      <td>3.0</td>\n",
       "      <td>5.2</td>\n",
       "      <td>2.3</td>\n",
       "      <td>virginica</td>\n",
       "    </tr>\n",
       "    <tr>\n",
       "      <th>146</th>\n",
       "      <td>6.3</td>\n",
       "      <td>2.5</td>\n",
       "      <td>5.0</td>\n",
       "      <td>1.9</td>\n",
       "      <td>virginica</td>\n",
       "    </tr>\n",
       "    <tr>\n",
       "      <th>147</th>\n",
       "      <td>6.5</td>\n",
       "      <td>3.0</td>\n",
       "      <td>5.2</td>\n",
       "      <td>2.0</td>\n",
       "      <td>virginica</td>\n",
       "    </tr>\n",
       "    <tr>\n",
       "      <th>148</th>\n",
       "      <td>6.2</td>\n",
       "      <td>3.4</td>\n",
       "      <td>5.4</td>\n",
       "      <td>2.3</td>\n",
       "      <td>virginica</td>\n",
       "    </tr>\n",
       "    <tr>\n",
       "      <th>149</th>\n",
       "      <td>5.9</td>\n",
       "      <td>3.0</td>\n",
       "      <td>5.1</td>\n",
       "      <td>1.8</td>\n",
       "      <td>virginica</td>\n",
       "    </tr>\n",
       "  </tbody>\n",
       "</table>\n",
       "</div>"
      ],
      "text/plain": [
       "     sepal_length  sepal_width  petal_length  petal_width    species\n",
       "145           6.7          3.0           5.2          2.3  virginica\n",
       "146           6.3          2.5           5.0          1.9  virginica\n",
       "147           6.5          3.0           5.2          2.0  virginica\n",
       "148           6.2          3.4           5.4          2.3  virginica\n",
       "149           5.9          3.0           5.1          1.8  virginica"
      ]
     },
     "execution_count": 49,
     "metadata": {},
     "output_type": "execute_result"
    }
   ],
   "source": [
    "# sns.set(style=\"ticks\", color_codes=True)\n",
    "iris = sns.load_dataset(\"iris\")  #load dataset from library\n",
    "iris.head()\n",
    "iris.tail()\n",
    "#np.log(iris.sepal_length)\n",
    "#np.log([1,10,1000])\n"
   ]
  },
  {
   "cell_type": "code",
   "execution_count": 50,
   "id": "8433b70b",
   "metadata": {},
   "outputs": [
    {
     "data": {
      "text/plain": [
       "<AxesSubplot: xlabel='species'>"
      ]
     },
     "execution_count": 50,
     "metadata": {},
     "output_type": "execute_result"
    },
    {
     "data": {
      "image/png": "[encoded data removed]",
      "text/plain": [
       "<Figure size 640x480 with 1 Axes>"
      ]
     },
     "metadata": {},
     "output_type": "display_data"
    }
   ],
   "source": [
    "iris.groupby('species').size().plot(kind='bar')  #matplot"
   ]
  },
  {
   "cell_type": "code",
   "execution_count": 51,
   "id": "8dcbb718",
   "metadata": {},
   "outputs": [
    {
     "data": {
      "text/plain": [
       "<seaborn.axisgrid.PairGrid at 0x2886ce49c40>"
      ]
     },
     "execution_count": 51,
     "metadata": {},
     "output_type": "execute_result"
    },
    {
     "data": {
      "image/png": "[encoded data removed]",
      "text/plain": [
       "<Figure size 1000x1000 with 20 Axes>"
      ]
     },
     "metadata": {},
     "output_type": "display_data"
    }
   ],
   "source": [
    "sns.pairplot(iris)  #relationship diagrams using sns"
   ]
  },
  {
   "cell_type": "markdown",
   "id": "b888fee6",
   "metadata": {},
   "source": [
    "## Datasets\n",
    "Load Inbuilt Datasets"
   ]
  },
  {
   "cell_type": "code",
   "execution_count": null,
   "id": "50fb3f77",
   "metadata": {},
   "outputs": [],
   "source": [
    "#pip install pydataset\n",
    "#install it first as it is not installed by default"
   ]
  },
  {
   "cell_type": "code",
   "execution_count": 52,
   "id": "d29ca14c",
   "metadata": {},
   "outputs": [],
   "source": [
    "from pydataset import data"
   ]
  },
  {
   "cell_type": "code",
   "execution_count": 53,
   "id": "011d8cad",
   "metadata": {},
   "outputs": [
    {
     "name": "stdout",
     "output_type": "stream",
     "text": [
      "        dataset_id                                             title\n",
      "0    AirPassengers       Monthly Airline Passenger Numbers 1949-1960\n",
      "1          BJsales                 Sales Data with Leading Indicator\n",
      "2              BOD                         Biochemical Oxygen Demand\n",
      "3     Formaldehyde                     Determination of Formaldehyde\n",
      "4     HairEyeColor         Hair and Eye Color of Statistics Students\n",
      "..             ...                                               ...\n",
      "752        VerbAgg                  Verbal Aggression item responses\n",
      "753           cake                 Breakage Angle of Chocolate Cakes\n",
      "754           cbpp                 Contagious bovine pleuropneumonia\n",
      "755    grouseticks  Data on red grouse ticks from Elston et al. 2001\n",
      "756     sleepstudy       Reaction times in a sleep deprivation study\n",
      "\n",
      "[757 rows x 2 columns]\n"
     ]
    }
   ],
   "source": [
    "print(data())   #more than 700 datasets with name as dataset_id"
   ]
  },
  {
   "cell_type": "code",
   "execution_count": 65,
   "id": "707d8183",
   "metadata": {},
   "outputs": [
    {
     "data": {
      "text/html": [
       "<div>\n",
       "<style scoped>\n",
       "    .dataframe tbody tr th:only-of-type {\n",
       "        vertical-align: middle;\n",
       "    }\n",
       "\n",
       "    .dataframe tbody tr th {\n",
       "        vertical-align: top;\n",
       "    }\n",
       "\n",
       "    .dataframe thead th {\n",
       "        text-align: right;\n",
       "    }\n",
       "</style>\n",
       "<table border=\"1\" class=\"dataframe\">\n",
       "  <thead>\n",
       "    <tr style=\"text-align: right;\">\n",
       "      <th></th>\n",
       "      <th>Sepal.Length</th>\n",
       "      <th>Sepal.Width</th>\n",
       "      <th>Petal.Length</th>\n",
       "      <th>Petal.Width</th>\n",
       "      <th>Species</th>\n",
       "    </tr>\n",
       "  </thead>\n",
       "  <tbody>\n",
       "    <tr>\n",
       "      <th>1</th>\n",
       "      <td>5.1</td>\n",
       "      <td>3.5</td>\n",
       "      <td>1.4</td>\n",
       "      <td>0.2</td>\n",
       "      <td>setosa</td>\n",
       "    </tr>\n",
       "    <tr>\n",
       "      <th>2</th>\n",
       "      <td>4.9</td>\n",
       "      <td>3.0</td>\n",
       "      <td>1.4</td>\n",
       "      <td>0.2</td>\n",
       "      <td>setosa</td>\n",
       "    </tr>\n",
       "    <tr>\n",
       "      <th>3</th>\n",
       "      <td>4.7</td>\n",
       "      <td>3.2</td>\n",
       "      <td>1.3</td>\n",
       "      <td>0.2</td>\n",
       "      <td>setosa</td>\n",
       "    </tr>\n",
       "    <tr>\n",
       "      <th>4</th>\n",
       "      <td>4.6</td>\n",
       "      <td>3.1</td>\n",
       "      <td>1.5</td>\n",
       "      <td>0.2</td>\n",
       "      <td>setosa</td>\n",
       "    </tr>\n",
       "    <tr>\n",
       "      <th>5</th>\n",
       "      <td>5.0</td>\n",
       "      <td>3.6</td>\n",
       "      <td>1.4</td>\n",
       "      <td>0.2</td>\n",
       "      <td>setosa</td>\n",
       "    </tr>\n",
       "  </tbody>\n",
       "</table>\n",
       "</div>"
      ],
      "text/plain": [
       "   Sepal.Length  Sepal.Width  Petal.Length  Petal.Width Species\n",
       "1           5.1          3.5           1.4          0.2  setosa\n",
       "2           4.9          3.0           1.4          0.2  setosa\n",
       "3           4.7          3.2           1.3          0.2  setosa\n",
       "4           4.6          3.1           1.5          0.2  setosa\n",
       "5           5.0          3.6           1.4          0.2  setosa"
      ]
     },
     "execution_count": 65,
     "metadata": {},
     "output_type": "execute_result"
    }
   ],
   "source": [
    "#load dataset or print\n",
    "data('iris').head()"
   ]
  },
  {
   "cell_type": "code",
   "execution_count": 66,
   "id": "fd3ebb73",
   "metadata": {},
   "outputs": [
    {
     "data": {
      "text/html": [
       "<div>\n",
       "<style scoped>\n",
       "    .dataframe tbody tr th:only-of-type {\n",
       "        vertical-align: middle;\n",
       "    }\n",
       "\n",
       "    .dataframe tbody tr th {\n",
       "        vertical-align: top;\n",
       "    }\n",
       "\n",
       "    .dataframe thead th {\n",
       "        text-align: right;\n",
       "    }\n",
       "</style>\n",
       "<table border=\"1\" class=\"dataframe\">\n",
       "  <thead>\n",
       "    <tr style=\"text-align: right;\">\n",
       "      <th></th>\n",
       "      <th>mpg</th>\n",
       "      <th>cyl</th>\n",
       "      <th>disp</th>\n",
       "      <th>hp</th>\n",
       "      <th>drat</th>\n",
       "      <th>wt</th>\n",
       "      <th>qsec</th>\n",
       "      <th>vs</th>\n",
       "      <th>am</th>\n",
       "      <th>gear</th>\n",
       "      <th>carb</th>\n",
       "    </tr>\n",
       "  </thead>\n",
       "  <tbody>\n",
       "    <tr>\n",
       "      <th>Mazda RX4</th>\n",
       "      <td>21.0</td>\n",
       "      <td>6</td>\n",
       "      <td>160.0</td>\n",
       "      <td>110</td>\n",
       "      <td>3.90</td>\n",
       "      <td>2.620</td>\n",
       "      <td>16.46</td>\n",
       "      <td>0</td>\n",
       "      <td>1</td>\n",
       "      <td>4</td>\n",
       "      <td>4</td>\n",
       "    </tr>\n",
       "    <tr>\n",
       "      <th>Mazda RX4 Wag</th>\n",
       "      <td>21.0</td>\n",
       "      <td>6</td>\n",
       "      <td>160.0</td>\n",
       "      <td>110</td>\n",
       "      <td>3.90</td>\n",
       "      <td>2.875</td>\n",
       "      <td>17.02</td>\n",
       "      <td>0</td>\n",
       "      <td>1</td>\n",
       "      <td>4</td>\n",
       "      <td>4</td>\n",
       "    </tr>\n",
       "    <tr>\n",
       "      <th>Datsun 710</th>\n",
       "      <td>22.8</td>\n",
       "      <td>4</td>\n",
       "      <td>108.0</td>\n",
       "      <td>93</td>\n",
       "      <td>3.85</td>\n",
       "      <td>2.320</td>\n",
       "      <td>18.61</td>\n",
       "      <td>1</td>\n",
       "      <td>1</td>\n",
       "      <td>4</td>\n",
       "      <td>1</td>\n",
       "    </tr>\n",
       "    <tr>\n",
       "      <th>Hornet 4 Drive</th>\n",
       "      <td>21.4</td>\n",
       "      <td>6</td>\n",
       "      <td>258.0</td>\n",
       "      <td>110</td>\n",
       "      <td>3.08</td>\n",
       "      <td>3.215</td>\n",
       "      <td>19.44</td>\n",
       "      <td>1</td>\n",
       "      <td>0</td>\n",
       "      <td>3</td>\n",
       "      <td>1</td>\n",
       "    </tr>\n",
       "    <tr>\n",
       "      <th>Hornet Sportabout</th>\n",
       "      <td>18.7</td>\n",
       "      <td>8</td>\n",
       "      <td>360.0</td>\n",
       "      <td>175</td>\n",
       "      <td>3.15</td>\n",
       "      <td>3.440</td>\n",
       "      <td>17.02</td>\n",
       "      <td>0</td>\n",
       "      <td>0</td>\n",
       "      <td>3</td>\n",
       "      <td>2</td>\n",
       "    </tr>\n",
       "  </tbody>\n",
       "</table>\n",
       "</div>"
      ],
      "text/plain": [
       "                    mpg  cyl   disp   hp  drat     wt   qsec  vs  am  gear  \\\n",
       "Mazda RX4          21.0    6  160.0  110  3.90  2.620  16.46   0   1     4   \n",
       "Mazda RX4 Wag      21.0    6  160.0  110  3.90  2.875  17.02   0   1     4   \n",
       "Datsun 710         22.8    4  108.0   93  3.85  2.320  18.61   1   1     4   \n",
       "Hornet 4 Drive     21.4    6  258.0  110  3.08  3.215  19.44   1   0     3   \n",
       "Hornet Sportabout  18.7    8  360.0  175  3.15  3.440  17.02   0   0     3   \n",
       "\n",
       "                   carb  \n",
       "Mazda RX4             4  \n",
       "Mazda RX4 Wag         4  \n",
       "Datsun 710            1  \n",
       "Hornet 4 Drive        1  \n",
       "Hornet Sportabout     2  "
      ]
     },
     "execution_count": 66,
     "metadata": {},
     "output_type": "execute_result"
    }
   ],
   "source": [
    "data('mtcars').head()"
   ]
  },
  {
   "cell_type": "markdown",
   "id": "3269fe74",
   "metadata": {},
   "source": [
    "## Save DF to CSV and Excel"
   ]
  },
  {
   "cell_type": "code",
   "execution_count": 56,
   "id": "afade9a3",
   "metadata": {},
   "outputs": [
    {
     "data": {
      "text/html": [
       "<div>\n",
       "<style scoped>\n",
       "    .dataframe tbody tr th:only-of-type {\n",
       "        vertical-align: middle;\n",
       "    }\n",
       "\n",
       "    .dataframe tbody tr th {\n",
       "        vertical-align: top;\n",
       "    }\n",
       "\n",
       "    .dataframe thead th {\n",
       "        text-align: right;\n",
       "    }\n",
       "</style>\n",
       "<table border=\"1\" class=\"dataframe\">\n",
       "  <thead>\n",
       "    <tr style=\"text-align: right;\">\n",
       "      <th></th>\n",
       "      <th>mpg</th>\n",
       "      <th>cyl</th>\n",
       "      <th>disp</th>\n",
       "      <th>hp</th>\n",
       "      <th>drat</th>\n",
       "      <th>wt</th>\n",
       "      <th>qsec</th>\n",
       "      <th>vs</th>\n",
       "      <th>am</th>\n",
       "      <th>gear</th>\n",
       "      <th>carb</th>\n",
       "    </tr>\n",
       "  </thead>\n",
       "  <tbody>\n",
       "    <tr>\n",
       "      <th>Mazda RX4</th>\n",
       "      <td>21.0</td>\n",
       "      <td>6</td>\n",
       "      <td>160.0</td>\n",
       "      <td>110</td>\n",
       "      <td>3.90</td>\n",
       "      <td>2.620</td>\n",
       "      <td>16.46</td>\n",
       "      <td>0</td>\n",
       "      <td>1</td>\n",
       "      <td>4</td>\n",
       "      <td>4</td>\n",
       "    </tr>\n",
       "    <tr>\n",
       "      <th>Mazda RX4 Wag</th>\n",
       "      <td>21.0</td>\n",
       "      <td>6</td>\n",
       "      <td>160.0</td>\n",
       "      <td>110</td>\n",
       "      <td>3.90</td>\n",
       "      <td>2.875</td>\n",
       "      <td>17.02</td>\n",
       "      <td>0</td>\n",
       "      <td>1</td>\n",
       "      <td>4</td>\n",
       "      <td>4</td>\n",
       "    </tr>\n",
       "    <tr>\n",
       "      <th>Datsun 710</th>\n",
       "      <td>22.8</td>\n",
       "      <td>4</td>\n",
       "      <td>108.0</td>\n",
       "      <td>93</td>\n",
       "      <td>3.85</td>\n",
       "      <td>2.320</td>\n",
       "      <td>18.61</td>\n",
       "      <td>1</td>\n",
       "      <td>1</td>\n",
       "      <td>4</td>\n",
       "      <td>1</td>\n",
       "    </tr>\n",
       "    <tr>\n",
       "      <th>Hornet 4 Drive</th>\n",
       "      <td>21.4</td>\n",
       "      <td>6</td>\n",
       "      <td>258.0</td>\n",
       "      <td>110</td>\n",
       "      <td>3.08</td>\n",
       "      <td>3.215</td>\n",
       "      <td>19.44</td>\n",
       "      <td>1</td>\n",
       "      <td>0</td>\n",
       "      <td>3</td>\n",
       "      <td>1</td>\n",
       "    </tr>\n",
       "    <tr>\n",
       "      <th>Hornet Sportabout</th>\n",
       "      <td>18.7</td>\n",
       "      <td>8</td>\n",
       "      <td>360.0</td>\n",
       "      <td>175</td>\n",
       "      <td>3.15</td>\n",
       "      <td>3.440</td>\n",
       "      <td>17.02</td>\n",
       "      <td>0</td>\n",
       "      <td>0</td>\n",
       "      <td>3</td>\n",
       "      <td>2</td>\n",
       "    </tr>\n",
       "    <tr>\n",
       "      <th>Valiant</th>\n",
       "      <td>18.1</td>\n",
       "      <td>6</td>\n",
       "      <td>225.0</td>\n",
       "      <td>105</td>\n",
       "      <td>2.76</td>\n",
       "      <td>3.460</td>\n",
       "      <td>20.22</td>\n",
       "      <td>1</td>\n",
       "      <td>0</td>\n",
       "      <td>3</td>\n",
       "      <td>1</td>\n",
       "    </tr>\n",
       "  </tbody>\n",
       "</table>\n",
       "</div>"
      ],
      "text/plain": [
       "                    mpg  cyl   disp   hp  drat     wt   qsec  vs  am  gear  \\\n",
       "Mazda RX4          21.0    6  160.0  110  3.90  2.620  16.46   0   1     4   \n",
       "Mazda RX4 Wag      21.0    6  160.0  110  3.90  2.875  17.02   0   1     4   \n",
       "Datsun 710         22.8    4  108.0   93  3.85  2.320  18.61   1   1     4   \n",
       "Hornet 4 Drive     21.4    6  258.0  110  3.08  3.215  19.44   1   0     3   \n",
       "Hornet Sportabout  18.7    8  360.0  175  3.15  3.440  17.02   0   0     3   \n",
       "Valiant            18.1    6  225.0  105  2.76  3.460  20.22   1   0     3   \n",
       "\n",
       "                   carb  \n",
       "Mazda RX4             4  \n",
       "Mazda RX4 Wag         4  \n",
       "Datsun 710            1  \n",
       "Hornet 4 Drive        1  \n",
       "Hornet Sportabout     2  \n",
       "Valiant               1  "
      ]
     },
     "execution_count": 56,
     "metadata": {},
     "output_type": "execute_result"
    }
   ],
   "source": [
    "mtcarsDF = data('mtcars')\n",
    "mtcarsDF.head(6)"
   ]
  },
  {
   "cell_type": "code",
   "execution_count": 57,
   "id": "73b452fa",
   "metadata": {},
   "outputs": [
    {
     "data": {
      "text/plain": [
       "pandas.core.frame.DataFrame"
      ]
     },
     "execution_count": 57,
     "metadata": {},
     "output_type": "execute_result"
    }
   ],
   "source": [
    "type(mtcarsDF)   #it is DF which can used with pandas library"
   ]
  },
  {
   "cell_type": "code",
   "execution_count": 58,
   "id": "46d013df",
   "metadata": {},
   "outputs": [],
   "source": [
    "# save to csv\n",
    "mtcarsDF.to_csv('mtcars.csv')"
   ]
  },
  {
   "cell_type": "code",
   "execution_count": 59,
   "id": "3f3ab281",
   "metadata": {},
   "outputs": [],
   "source": [
    "# save to excel\n",
    "mtcarsDF.to_excel('mtcarsExcel.xlsx','sheet3', header=True)"
   ]
  },
  {
   "cell_type": "code",
   "execution_count": 60,
   "id": "58fdb853",
   "metadata": {},
   "outputs": [
    {
     "name": "stdout",
     "output_type": "stream",
     "text": [
      "['.ipynb_checkpoints', 'D01.ipynb', 'D02.ipynb', 'mtcars.csv', 'mtcarsExcel.xlsx']\n"
     ]
    }
   ],
   "source": [
    "import os\n",
    "dirContents = os.listdir('.')\n",
    "print(dirContents)"
   ]
  },
  {
   "cell_type": "markdown",
   "id": "58a66ab7",
   "metadata": {},
   "source": [
    "### Read from CSV and Excel"
   ]
  },
  {
   "cell_type": "code",
   "execution_count": null,
   "id": "c7add639",
   "metadata": {},
   "outputs": [],
   "source": [
    "data2a  #not defined"
   ]
  },
  {
   "cell_type": "code",
   "execution_count": 62,
   "id": "9998b78c",
   "metadata": {},
   "outputs": [
    {
     "data": {
      "text/html": [
       "<div>\n",
       "<style scoped>\n",
       "    .dataframe tbody tr th:only-of-type {\n",
       "        vertical-align: middle;\n",
       "    }\n",
       "\n",
       "    .dataframe tbody tr th {\n",
       "        vertical-align: top;\n",
       "    }\n",
       "\n",
       "    .dataframe thead th {\n",
       "        text-align: right;\n",
       "    }\n",
       "</style>\n",
       "<table border=\"1\" class=\"dataframe\">\n",
       "  <thead>\n",
       "    <tr style=\"text-align: right;\">\n",
       "      <th></th>\n",
       "      <th>Unnamed: 0</th>\n",
       "      <th>mpg</th>\n",
       "      <th>cyl</th>\n",
       "      <th>disp</th>\n",
       "      <th>hp</th>\n",
       "      <th>drat</th>\n",
       "      <th>wt</th>\n",
       "      <th>qsec</th>\n",
       "      <th>vs</th>\n",
       "      <th>am</th>\n",
       "      <th>gear</th>\n",
       "      <th>carb</th>\n",
       "    </tr>\n",
       "  </thead>\n",
       "  <tbody>\n",
       "    <tr>\n",
       "      <th>0</th>\n",
       "      <td>Mazda RX4</td>\n",
       "      <td>21.0</td>\n",
       "      <td>6</td>\n",
       "      <td>160.0</td>\n",
       "      <td>110</td>\n",
       "      <td>3.90</td>\n",
       "      <td>2.620</td>\n",
       "      <td>16.46</td>\n",
       "      <td>0</td>\n",
       "      <td>1</td>\n",
       "      <td>4</td>\n",
       "      <td>4</td>\n",
       "    </tr>\n",
       "    <tr>\n",
       "      <th>1</th>\n",
       "      <td>Mazda RX4 Wag</td>\n",
       "      <td>21.0</td>\n",
       "      <td>6</td>\n",
       "      <td>160.0</td>\n",
       "      <td>110</td>\n",
       "      <td>3.90</td>\n",
       "      <td>2.875</td>\n",
       "      <td>17.02</td>\n",
       "      <td>0</td>\n",
       "      <td>1</td>\n",
       "      <td>4</td>\n",
       "      <td>4</td>\n",
       "    </tr>\n",
       "    <tr>\n",
       "      <th>2</th>\n",
       "      <td>Datsun 710</td>\n",
       "      <td>22.8</td>\n",
       "      <td>4</td>\n",
       "      <td>108.0</td>\n",
       "      <td>93</td>\n",
       "      <td>3.85</td>\n",
       "      <td>2.320</td>\n",
       "      <td>18.61</td>\n",
       "      <td>1</td>\n",
       "      <td>1</td>\n",
       "      <td>4</td>\n",
       "      <td>1</td>\n",
       "    </tr>\n",
       "    <tr>\n",
       "      <th>3</th>\n",
       "      <td>Hornet 4 Drive</td>\n",
       "      <td>21.4</td>\n",
       "      <td>6</td>\n",
       "      <td>258.0</td>\n",
       "      <td>110</td>\n",
       "      <td>3.08</td>\n",
       "      <td>3.215</td>\n",
       "      <td>19.44</td>\n",
       "      <td>1</td>\n",
       "      <td>0</td>\n",
       "      <td>3</td>\n",
       "      <td>1</td>\n",
       "    </tr>\n",
       "    <tr>\n",
       "      <th>4</th>\n",
       "      <td>Hornet Sportabout</td>\n",
       "      <td>18.7</td>\n",
       "      <td>8</td>\n",
       "      <td>360.0</td>\n",
       "      <td>175</td>\n",
       "      <td>3.15</td>\n",
       "      <td>3.440</td>\n",
       "      <td>17.02</td>\n",
       "      <td>0</td>\n",
       "      <td>0</td>\n",
       "      <td>3</td>\n",
       "      <td>2</td>\n",
       "    </tr>\n",
       "  </tbody>\n",
       "</table>\n",
       "</div>"
      ],
      "text/plain": [
       "          Unnamed: 0   mpg  cyl   disp   hp  drat     wt   qsec  vs  am  gear  \\\n",
       "0          Mazda RX4  21.0    6  160.0  110  3.90  2.620  16.46   0   1     4   \n",
       "1      Mazda RX4 Wag  21.0    6  160.0  110  3.90  2.875  17.02   0   1     4   \n",
       "2         Datsun 710  22.8    4  108.0   93  3.85  2.320  18.61   1   1     4   \n",
       "3     Hornet 4 Drive  21.4    6  258.0  110  3.08  3.215  19.44   1   0     3   \n",
       "4  Hornet Sportabout  18.7    8  360.0  175  3.15  3.440  17.02   0   0     3   \n",
       "\n",
       "   carb  \n",
       "0     4  \n",
       "1     4  \n",
       "2     1  \n",
       "3     1  \n",
       "4     2  "
      ]
     },
     "execution_count": 62,
     "metadata": {},
     "output_type": "execute_result"
    }
   ],
   "source": [
    "data2a = pd.read_csv('mtcars.csv') #when csv is in project folder\n",
    "data2a.head()   #now data can be read"
   ]
  },
  {
   "cell_type": "code",
   "execution_count": 67,
   "id": "d2c1621c-9835-49bf-a91f-a72ce1e7d4a6",
   "metadata": {},
   "outputs": [
    {
     "data": {
      "text/html": [
       "<div>\n",
       "<style scoped>\n",
       "    .dataframe tbody tr th:only-of-type {\n",
       "        vertical-align: middle;\n",
       "    }\n",
       "\n",
       "    .dataframe tbody tr th {\n",
       "        vertical-align: top;\n",
       "    }\n",
       "\n",
       "    .dataframe thead th {\n",
       "        text-align: right;\n",
       "    }\n",
       "</style>\n",
       "<table border=\"1\" class=\"dataframe\">\n",
       "  <thead>\n",
       "    <tr style=\"text-align: right;\">\n",
       "      <th></th>\n",
       "      <th>Unnamed: 0</th>\n",
       "      <th>mpg</th>\n",
       "      <th>cyl</th>\n",
       "      <th>disp</th>\n",
       "      <th>hp</th>\n",
       "      <th>drat</th>\n",
       "      <th>wt</th>\n",
       "      <th>qsec</th>\n",
       "      <th>vs</th>\n",
       "      <th>am</th>\n",
       "      <th>gear</th>\n",
       "      <th>carb</th>\n",
       "    </tr>\n",
       "  </thead>\n",
       "  <tbody>\n",
       "    <tr>\n",
       "      <th>0</th>\n",
       "      <td>Mazda RX4</td>\n",
       "      <td>21.0</td>\n",
       "      <td>6</td>\n",
       "      <td>160.0</td>\n",
       "      <td>110</td>\n",
       "      <td>3.90</td>\n",
       "      <td>2.620</td>\n",
       "      <td>16.46</td>\n",
       "      <td>0</td>\n",
       "      <td>1</td>\n",
       "      <td>4</td>\n",
       "      <td>4</td>\n",
       "    </tr>\n",
       "    <tr>\n",
       "      <th>1</th>\n",
       "      <td>Mazda RX4 Wag</td>\n",
       "      <td>21.0</td>\n",
       "      <td>6</td>\n",
       "      <td>160.0</td>\n",
       "      <td>110</td>\n",
       "      <td>3.90</td>\n",
       "      <td>2.875</td>\n",
       "      <td>17.02</td>\n",
       "      <td>0</td>\n",
       "      <td>1</td>\n",
       "      <td>4</td>\n",
       "      <td>4</td>\n",
       "    </tr>\n",
       "    <tr>\n",
       "      <th>2</th>\n",
       "      <td>Datsun 710</td>\n",
       "      <td>22.8</td>\n",
       "      <td>4</td>\n",
       "      <td>108.0</td>\n",
       "      <td>93</td>\n",
       "      <td>3.85</td>\n",
       "      <td>2.320</td>\n",
       "      <td>18.61</td>\n",
       "      <td>1</td>\n",
       "      <td>1</td>\n",
       "      <td>4</td>\n",
       "      <td>1</td>\n",
       "    </tr>\n",
       "    <tr>\n",
       "      <th>3</th>\n",
       "      <td>Hornet 4 Drive</td>\n",
       "      <td>21.4</td>\n",
       "      <td>6</td>\n",
       "      <td>258.0</td>\n",
       "      <td>110</td>\n",
       "      <td>3.08</td>\n",
       "      <td>3.215</td>\n",
       "      <td>19.44</td>\n",
       "      <td>1</td>\n",
       "      <td>0</td>\n",
       "      <td>3</td>\n",
       "      <td>1</td>\n",
       "    </tr>\n",
       "    <tr>\n",
       "      <th>4</th>\n",
       "      <td>Hornet Sportabout</td>\n",
       "      <td>18.7</td>\n",
       "      <td>8</td>\n",
       "      <td>360.0</td>\n",
       "      <td>175</td>\n",
       "      <td>3.15</td>\n",
       "      <td>3.440</td>\n",
       "      <td>17.02</td>\n",
       "      <td>0</td>\n",
       "      <td>0</td>\n",
       "      <td>3</td>\n",
       "      <td>2</td>\n",
       "    </tr>\n",
       "  </tbody>\n",
       "</table>\n",
       "</div>"
      ],
      "text/plain": [
       "          Unnamed: 0   mpg  cyl   disp   hp  drat     wt   qsec  vs  am  gear  \\\n",
       "0          Mazda RX4  21.0    6  160.0  110  3.90  2.620  16.46   0   1     4   \n",
       "1      Mazda RX4 Wag  21.0    6  160.0  110  3.90  2.875  17.02   0   1     4   \n",
       "2         Datsun 710  22.8    4  108.0   93  3.85  2.320  18.61   1   1     4   \n",
       "3     Hornet 4 Drive  21.4    6  258.0  110  3.08  3.215  19.44   1   0     3   \n",
       "4  Hornet Sportabout  18.7    8  360.0  175  3.15  3.440  17.02   0   0     3   \n",
       "\n",
       "   carb  \n",
       "0     4  \n",
       "1     4  \n",
       "2     1  \n",
       "3     1  \n",
       "4     2  "
      ]
     },
     "execution_count": 67,
     "metadata": {},
     "output_type": "execute_result"
    }
   ],
   "source": [
    "pd.read_csv('E:/analytics/projects/pyJupyter/00-daily/mtcars.csv').head()  #absolute path"
   ]
  },
  {
   "cell_type": "code",
   "execution_count": null,
   "id": "07e2e805",
   "metadata": {},
   "outputs": [],
   "source": [
    "print(data2b) #not defined, "
   ]
  },
  {
   "cell_type": "code",
   "execution_count": null,
   "id": "846917df",
   "metadata": {},
   "outputs": [],
   "source": [
    "data2b = pd.read_csv('E:/analytics/projects/pyanalytics/mtcars.csv')\n",
    "data2b.head()  # read from full path"
   ]
  },
  {
   "cell_type": "code",
   "execution_count": null,
   "id": "0316a4fc",
   "metadata": {},
   "outputs": [],
   "source": [
    "# read from excel"
   ]
  },
  {
   "cell_type": "code",
   "execution_count": null,
   "id": "9f160847",
   "metadata": {},
   "outputs": [],
   "source": [
    "data2c"
   ]
  },
  {
   "cell_type": "code",
   "execution_count": 68,
   "id": "1dd11dd5",
   "metadata": {},
   "outputs": [
    {
     "data": {
      "text/html": [
       "<div>\n",
       "<style scoped>\n",
       "    .dataframe tbody tr th:only-of-type {\n",
       "        vertical-align: middle;\n",
       "    }\n",
       "\n",
       "    .dataframe tbody tr th {\n",
       "        vertical-align: top;\n",
       "    }\n",
       "\n",
       "    .dataframe thead th {\n",
       "        text-align: right;\n",
       "    }\n",
       "</style>\n",
       "<table border=\"1\" class=\"dataframe\">\n",
       "  <thead>\n",
       "    <tr style=\"text-align: right;\">\n",
       "      <th></th>\n",
       "      <th>Unnamed: 0</th>\n",
       "      <th>mpg</th>\n",
       "      <th>cyl</th>\n",
       "      <th>disp</th>\n",
       "      <th>hp</th>\n",
       "      <th>drat</th>\n",
       "      <th>wt</th>\n",
       "      <th>qsec</th>\n",
       "      <th>vs</th>\n",
       "      <th>am</th>\n",
       "      <th>gear</th>\n",
       "      <th>carb</th>\n",
       "    </tr>\n",
       "  </thead>\n",
       "  <tbody>\n",
       "    <tr>\n",
       "      <th>0</th>\n",
       "      <td>Mazda RX4</td>\n",
       "      <td>21.0</td>\n",
       "      <td>6</td>\n",
       "      <td>160.0</td>\n",
       "      <td>110</td>\n",
       "      <td>3.90</td>\n",
       "      <td>2.620</td>\n",
       "      <td>16.46</td>\n",
       "      <td>0</td>\n",
       "      <td>1</td>\n",
       "      <td>4</td>\n",
       "      <td>4</td>\n",
       "    </tr>\n",
       "    <tr>\n",
       "      <th>1</th>\n",
       "      <td>Mazda RX4 Wag</td>\n",
       "      <td>21.0</td>\n",
       "      <td>6</td>\n",
       "      <td>160.0</td>\n",
       "      <td>110</td>\n",
       "      <td>3.90</td>\n",
       "      <td>2.875</td>\n",
       "      <td>17.02</td>\n",
       "      <td>0</td>\n",
       "      <td>1</td>\n",
       "      <td>4</td>\n",
       "      <td>4</td>\n",
       "    </tr>\n",
       "    <tr>\n",
       "      <th>2</th>\n",
       "      <td>Datsun 710</td>\n",
       "      <td>22.8</td>\n",
       "      <td>4</td>\n",
       "      <td>108.0</td>\n",
       "      <td>93</td>\n",
       "      <td>3.85</td>\n",
       "      <td>2.320</td>\n",
       "      <td>18.61</td>\n",
       "      <td>1</td>\n",
       "      <td>1</td>\n",
       "      <td>4</td>\n",
       "      <td>1</td>\n",
       "    </tr>\n",
       "    <tr>\n",
       "      <th>3</th>\n",
       "      <td>Hornet 4 Drive</td>\n",
       "      <td>21.4</td>\n",
       "      <td>6</td>\n",
       "      <td>258.0</td>\n",
       "      <td>110</td>\n",
       "      <td>3.08</td>\n",
       "      <td>3.215</td>\n",
       "      <td>19.44</td>\n",
       "      <td>1</td>\n",
       "      <td>0</td>\n",
       "      <td>3</td>\n",
       "      <td>1</td>\n",
       "    </tr>\n",
       "    <tr>\n",
       "      <th>4</th>\n",
       "      <td>Hornet Sportabout</td>\n",
       "      <td>18.7</td>\n",
       "      <td>8</td>\n",
       "      <td>360.0</td>\n",
       "      <td>175</td>\n",
       "      <td>3.15</td>\n",
       "      <td>3.440</td>\n",
       "      <td>17.02</td>\n",
       "      <td>0</td>\n",
       "      <td>0</td>\n",
       "      <td>3</td>\n",
       "      <td>2</td>\n",
       "    </tr>\n",
       "  </tbody>\n",
       "</table>\n",
       "</div>"
      ],
      "text/plain": [
       "          Unnamed: 0   mpg  cyl   disp   hp  drat     wt   qsec  vs  am  gear  \\\n",
       "0          Mazda RX4  21.0    6  160.0  110  3.90  2.620  16.46   0   1     4   \n",
       "1      Mazda RX4 Wag  21.0    6  160.0  110  3.90  2.875  17.02   0   1     4   \n",
       "2         Datsun 710  22.8    4  108.0   93  3.85  2.320  18.61   1   1     4   \n",
       "3     Hornet 4 Drive  21.4    6  258.0  110  3.08  3.215  19.44   1   0     3   \n",
       "4  Hornet Sportabout  18.7    8  360.0  175  3.15  3.440  17.02   0   0     3   \n",
       "\n",
       "   carb  \n",
       "0     4  \n",
       "1     4  \n",
       "2     1  \n",
       "3     1  \n",
       "4     2  "
      ]
     },
     "execution_count": 68,
     "metadata": {},
     "output_type": "execute_result"
    }
   ],
   "source": [
    "data2c = pd.read_excel('mtcarsExcel.xlsx',header=0)\n",
    "data2c.head()"
   ]
  },
  {
   "cell_type": "code",
   "execution_count": null,
   "id": "8b81ef22",
   "metadata": {
    "scrolled": true
   },
   "outputs": [],
   "source": [
    "#end here....\n",
    "#now practise numpy and pandas..."
   ]
  },
  {
   "cell_type": "code",
   "execution_count": null,
   "id": "32a2bd05",
   "metadata": {},
   "outputs": [],
   "source": [
    "#last updated on 19Feb2023"
   ]
  },
  {
   "cell_type": "code",
   "execution_count": null,
   "id": "6d6b280d",
   "metadata": {},
   "outputs": [],
   "source": []
  }
 ],
 "metadata": {
  "kernelspec": {
   "display_name": "Python 3 (ipykernel)",
   "language": "python",
   "name": "python3"
  },
  "language_info": {
   "codemirror_mode": {
    "name": "ipython",
    "version": 3
   },
   "file_extension": ".py",
   "mimetype": "text/x-python",
   "name": "python",
   "nbconvert_exporter": "python",
   "pygments_lexer": "ipython3",
   "version": "3.9.13"
  }
 },
 "nbformat": 4,
 "nbformat_minor": 5
}
